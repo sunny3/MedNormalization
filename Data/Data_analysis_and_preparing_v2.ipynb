{
 "cells": [
  {
   "cell_type": "markdown",
   "id": "matched-encoding",
   "metadata": {},
   "source": [
    "Ноутбук по переводу UMLS CUI в pt meddra и переводу на рус. англоязычных датасетов, а также подсчету статистики"
   ]
  },
  {
   "cell_type": "code",
   "execution_count": 4,
   "id": "freelance-appreciation",
   "metadata": {
    "scrolled": true
   },
   "outputs": [],
   "source": [
    "import os\n",
    "import xml.etree.ElementTree as ET\n",
    "#from nltk.stem import WordNetLemmatizer\n",
    "#import nltk\n",
    "#from nltk.corpus import wordnet\n",
    "from pprint import pprint\n",
    "import numpy as np\n",
    "import matplotlib.pyplot as plt\n",
    "import jsonlines\n",
    "from sklearn.model_selection import train_test_split\n",
    "import pandas as pd\n",
    "from collections import Counter\n",
    "import json\n",
    "import stanza\n",
    "from tqdm import tqdm\n",
    "from torch.cuda import is_available\n",
    "from copy import copy\n",
    "import re\n",
    "import os\n",
    "from collections import UserDict\n",
    "from os.path import exists\n",
    "#lang = detect(\"Ein, zwei, drei, vier\")"
   ]
  },
  {
   "cell_type": "code",
   "execution_count": 2,
   "id": "animated-raise",
   "metadata": {},
   "outputs": [
    {
     "data": {
      "application/vnd.jupyter.widget-view+json": {
       "model_id": "58394edeb94c46389e9b8698f8a253fe",
       "version_major": 2,
       "version_minor": 0
      },
      "text/plain": [
       "Downloading https://raw.githubusercontent.com/stanfordnlp/stanza-resources/main/resources_1.3.0.json:   0%|   …"
      ]
     },
     "metadata": {},
     "output_type": "display_data"
    },
    {
     "name": "stderr",
     "output_type": "stream",
     "text": [
      "2022-04-08 15:03:16 INFO: Downloading default packages for language: en (English)...\n",
      "2022-04-08 15:03:24 INFO: File exists: /home/romanrybka/stanza_resources/en/default.zip.\n",
      "2022-04-08 15:03:28 INFO: Finished downloading models and saved to /home/romanrybka/stanza_resources.\n"
     ]
    },
    {
     "data": {
      "application/vnd.jupyter.widget-view+json": {
       "model_id": "55eb6da5da0f490bb2e4c18a66199203",
       "version_major": 2,
       "version_minor": 0
      },
      "text/plain": [
       "Downloading https://raw.githubusercontent.com/stanfordnlp/stanza-resources/main/resources_1.3.0.json:   0%|   …"
      ]
     },
     "metadata": {},
     "output_type": "display_data"
    },
    {
     "name": "stderr",
     "output_type": "stream",
     "text": [
      "2022-04-08 15:03:28 INFO: Downloading default packages for language: ru (Russian)...\n",
      "2022-04-08 15:03:37 INFO: File exists: /home/romanrybka/stanza_resources/ru/default.zip.\n",
      "2022-04-08 15:03:44 INFO: Finished downloading models and saved to /home/romanrybka/stanza_resources.\n"
     ]
    }
   ],
   "source": [
    "stanza.download('en')\n",
    "stanza.download('ru')"
   ]
  },
  {
   "cell_type": "code",
   "execution_count": null,
   "id": "therapeutic-python",
   "metadata": {
    "scrolled": true
   },
   "outputs": [],
   "source": [
    "nltk.download('punkt')"
   ]
  },
  {
   "cell_type": "code",
   "execution_count": null,
   "id": "incomplete-vacuum",
   "metadata": {
    "scrolled": true
   },
   "outputs": [],
   "source": [
    "nltk.download('omw-1.4')"
   ]
  },
  {
   "cell_type": "markdown",
   "id": "postal-opera",
   "metadata": {},
   "source": [
    "<h2>Инициализация необходимых объектов, функций, классов</h2>"
   ]
  },
  {
   "cell_type": "markdown",
   "id": "shared-scroll",
   "metadata": {},
   "source": [
    "<h3>Маппинг кодов с концептами pt</h3>"
   ]
  },
  {
   "cell_type": "code",
   "execution_count": 5,
   "id": "planned-glass",
   "metadata": {
    "scrolled": true
   },
   "outputs": [],
   "source": [
    "class MeddraHelper():\n",
    "    def __init__(self, meddra_path_pt, meddra_path_llt, umls_path, lang='ENG'):\n",
    "        assert lang in ['ENG', 'RUS'], \"Choose 'RUS' or 'ENG'\"\n",
    "        self.meddra_path_pt = meddra_path_pt\n",
    "        self.meddra_path_llt = meddra_path_llt\n",
    "        self.umls_path = umls_path\n",
    "        self.language = lang\n",
    "        self.ptcodes = []\n",
    "        self.ptcode_to_pt = {}\n",
    "        self.pt_to_ptcode = {}\n",
    "        self.umlscode_to_ptcode = {}\n",
    "        self.umlscode_to_pt = {}\n",
    "        self.umlscode_to_lltcode = {}\n",
    "        self.umlscode_to_llt = {}\n",
    "        self.lltcode_to_ptcode = {}\n",
    "        self.llt_to_lltcode = {}\n",
    "        self.Load()\n",
    "\n",
    "    def Load(self):\n",
    "        \"\"\"\n",
    "        собираем из медры только то, что надо, а именно:\n",
    "        - все пт коды для быстрой проверки, является ли найденный где-то код PT кодом\n",
    "        \"\"\"\n",
    "        with open(self.meddra_path_pt, \"r\") as f:\n",
    "            for pt_line in f:\n",
    "                pt_line = pt_line.split(\"$\")\n",
    "                self.ptcodes.append(pt_line[0])\n",
    "                self.ptcode_to_pt[pt_line[0]] = pt_line[1]\n",
    "                self.pt_to_ptcode[pt_line[1]] = pt_line[0]\n",
    "                \n",
    "        with open(self.meddra_path_llt, \"r\") as f:\n",
    "            for llt_line in f:\n",
    "                llt_line = llt_line.split(\"$\")\n",
    "                self.lltcode_to_ptcode[llt_line[0]] = llt_line[2]\n",
    "                self.llt_to_lltcode[llt_line[1]] = llt_line[0]\n",
    "        \n",
    "        with open(self.umls_path, \"r\") as f: #./Data/ExternalMRCONSO.RRF 12 и 13 строки\n",
    "            for umls_line in f:\n",
    "                umls_line_values = umls_line.split('|')\n",
    "                umls_meddra_flag, umls_meddra_pt_or_llt_flag, lang_flag = umls_line_values[11], umls_line_values[12], umls_line_values[1] \n",
    "                umls_meddra_flag = True if umls_meddra_flag=='MDR' else False\n",
    "                umls_meddra_pt_flag = True if umls_meddra_pt_or_llt_flag=='PT' else False\n",
    "                umls_meddra_llt_flag = True if umls_meddra_pt_or_llt_flag=='LLT' else False\n",
    "                lang_flag = True if self.language == lang_flag else False\n",
    "                if not umls_meddra_flag or not (umls_meddra_pt_flag or umls_meddra_llt_flag)  or not lang_flag:\n",
    "                    continue\n",
    "                umls_code = umls_line_values[0]\n",
    "                meddra_code = umls_line_values[10] \n",
    "                meddra_term = umls_line_values[14]\n",
    "                if umls_meddra_pt_flag:\n",
    "                    self.umlscode_to_ptcode[umls_code] = meddra_code\n",
    "                    self.umlscode_to_pt[umls_code] = meddra_term\n",
    "                if umls_meddra_llt_flag:\n",
    "                    self.umlscode_to_lltcode[umls_code] = meddra_code\n",
    "                    self.umlscode_to_llt[umls_code] = meddra_term\n",
    "                    \n",
    "    def force_umlscode_to_ptcode(self, umls_code):\n",
    "        #если код umls не приводится сразу к pt\n",
    "        #тогда пробуем привести к llt, затем к pt\n",
    "        if umls_code in self.umlscode_to_ptcode.keys():\n",
    "            return self.umlscode_to_ptcode[umls_code]\n",
    "        elif umls_code in self.umlscode_to_lltcode.keys():\n",
    "            return self.lltcode_to_ptcode[self.umlscode_to_lltcode[umls_code]]\n",
    "        else:\n",
    "            return None\n",
    "        \n"
   ]
  },
  {
   "cell_type": "code",
   "execution_count": 6,
   "id": "phantom-chick",
   "metadata": {},
   "outputs": [],
   "source": [
    "class CorpStat(UserDict):\n",
    "    @staticmethod\n",
    "    def load_stat_for_corp(corp_name, lang, lemmatize):\n",
    "        lemmatized_str = '_lemmatized' if lemmatize else ''\n",
    "        print('loading corpus %s statistic, lang: %s, lemmatize: %s'%(corp_name, lang, lemmatize))\n",
    "        with open('./CorpsStatisticData/%s_%s%s.json'%(corp_name, lang, lemmatized_str), 'r') as f:\n",
    "            data = json.load(f)\n",
    "            count_stat_dict = CorpStat({k:set(v) for k,v in data.items()})\n",
    "        count_stat_dict.corp_name = corp_name\n",
    "        count_stat_dict.lang = lang\n",
    "        count_stat_dict.lemmatize = lemmatize\n",
    "        return count_stat_dict\n",
    "    \n",
    "    @staticmethod     \n",
    "    def check_saved_stat_for_corp(corp_name, lang, lemmatize):\n",
    "        lemmatized_str = '_lemmatized' if lemmatize else ''\n",
    "        if exists('./CorpsStatisticData/%s_%s%s.json'%(corp_name, lang, lemmatized_str)):\n",
    "            return True\n",
    "        else:\n",
    "            return False\n",
    "    \n",
    "    def __init__(self, data, corp_name=None, lang=None, lemmatize=None):\n",
    "        super(CorpStat, self).__init__(data)\n",
    "        if corp_name:\n",
    "            self.corp_name=corp_name\n",
    "        if lang:\n",
    "            self.lang=lang\n",
    "        if lemmatize:\n",
    "            self.lemmatize=lemmatize\n",
    "        #обязательно должен быть вызван этот метод\n",
    "        self.count_codes_len()\n",
    "            \n",
    "    def save_stat_for_corp(self):\n",
    "        lemmatized_str = '_lemmatized' if self.lemmatize else ''\n",
    "        if not exists('./CorpsStatisticData'):\n",
    "            os.mkdir('./CorpsStatisticData')\n",
    "        print('saving corpus %s statistic, lang: %s, lemmatize: %s'%(self.corp_name, self.lang, self.lemmatize))\n",
    "        data = {k: list(v) for k,v in self.map_codes_to_phrases.items()}\n",
    "        with open('./CorpsStatisticData/%s_%s%s.json'%(self.corp_name, self.lang, lemmatized_str), 'w') as f:\n",
    "            json.dump(data, f)\n",
    "    \n",
    "    def count_codes_len(self):\n",
    "        if hasattr(self, 'map_codes_to_phrases'):\n",
    "            return\n",
    "        self.map_codes_to_phrases = copy(self.data)\n",
    "        self.data = {k: len(v) for k, v in self.data.items()}\n",
    "        \n",
    "    def get_uniq_phrases_set(self):\n",
    "        if not hasattr(self, 'uniq_phrases_li'):\n",
    "            self.uniq_phrases_li = set(sum([list(phrases_set) for phrases_set \\\n",
    "                                                  in self.map_codes_to_phrases.values()], []))\n",
    "\n",
    "        return self.uniq_phrases_li\n",
    "    "
   ]
  },
  {
   "cell_type": "markdown",
   "id": "related-exhibition",
   "metadata": {},
   "source": [
    "<h3>Функции по сбору статистики и лемматизации</h3>"
   ]
  },
  {
   "cell_type": "code",
   "execution_count": 7,
   "id": "extreme-placement",
   "metadata": {
    "scrolled": true
   },
   "outputs": [],
   "source": [
    "def lemmatize_phrase(phrase, lang='en'):\n",
    "    if lang=='ru':\n",
    "        lemmatization_pipe = lemmatization_pipe_ru\n",
    "    elif lang=='en':\n",
    "        lemmatization_pipe = lemmatization_pipe_en\n",
    "    else:\n",
    "        raise AssertionError('language %s is not supported'%lang)\n",
    "    doc = lemmatization_pipe(phrase)\n",
    "    return ' '.join([word.lemma for sent in doc.sentences for word in sent.words])        \n",
    "\n",
    "def tokenize_text(text, lang='en'):\n",
    "    if lang=='ru':\n",
    "        tokenizer = tokenizer_ru\n",
    "    else:\n",
    "        tokenizer = tokenizer_en\n",
    "    doc = tokenizer(text)\n",
    "    return [word for sent in doc.sentences for word in sent.words]\n",
    "\n",
    "def load_lemmas_li(corp_name, lang='en'):\n",
    "    with open('./CorpsStatisticData/%s_%s_lemmatized_phrases_li.json'%(corp_name, lang), 'r') as f:\n",
    "        return json.load(f)\n",
    "    \n",
    "def count_representativeness(pt_ids, phrases, lang, corp_name, lemmatize=True, save_lemmas_li=False):\n",
    "    if save_lemmas_li:\n",
    "        if not lemmatize:\n",
    "            raise AssertionError(\"Can't save lemmas without lemmatize option turn to True\")\n",
    "    if CorpStat.check_saved_stat_for_corp(corp_name, lang, lemmatize):\n",
    "        count_stat_dict = CorpStat.load_stat_for_corp(corp_name, lang, lemmatize)\n",
    "        return count_stat_dict\n",
    "    stat_dict = {k: set() for k in set(pt_ids)}\n",
    "    if save_lemmas_li:\n",
    "        all_pt_phrases_lemmatized_li = []\n",
    "    for pt_id, phrase in tqdm(zip(pt_ids, phrases), total=len(pt_ids)):\n",
    "        if lemmatize:\n",
    "            lemma = lemmatize_phrase(phrase, lang=lang).lower()\n",
    "            if save_lemmas_li:\n",
    "                all_pt_phrases_lemmatized_li.append(lemma)\n",
    "            stat_dict[pt_id].add(lemma)\n",
    "        else:\n",
    "            stat_dict[pt_id].add(re.sub('\\s+', ' ', phrase.lower()))\n",
    "    count_stat_dict = CorpStat(stat_dict, corp_name=corp_name, lemmatize = lemmatize, lang = lang)\n",
    "    if save_lemmas_li:\n",
    "        if not exists('./CorpsStatisticData/'):\n",
    "            os.mkdir('./CorpsStatisticData/')\n",
    "        with open('./CorpsStatisticData/%s_%s_lemmatized_phrases_li.json'%(corp_name, lang), 'w') as f:\n",
    "            json.dump(all_pt_phrases_lemmatized_li, f)\n",
    "    return count_stat_dict\n",
    "\n",
    "def concat_new_corp_to_ds(ds, all_pt_phrases, all_pt_ids, corp_name, lang='en'):\n",
    "    len_ds = len(all_pt_ids)\n",
    "    ds_to_append = pd.DataFrame({'phrase': all_pt_phrases, 'pt code': all_pt_ids, \n",
    "                                 'corp_name': [corp_name]*len_ds, 'lang': [lang]*len_ds})\n",
    "    ds = pd.concat((ds, ds_to_append), ignore_index=True)\n",
    "    return ds"
   ]
  },
  {
   "cell_type": "markdown",
   "id": "gross-shooting",
   "metadata": {},
   "source": [
    "<h3>Функции по визуализации</h3>"
   ]
  },
  {
   "cell_type": "code",
   "execution_count": 8,
   "id": "duplicate-afternoon",
   "metadata": {
    "scrolled": true
   },
   "outputs": [],
   "source": [
    "def count_uniq_codes_and_phrases(stat_d):\n",
    "    print('num uniq meddra codes: %s'%len(stat_d))\n",
    "    print('num uniq phrases: %s'%len(stat_d.get_uniq_phrases_set()))\n",
    "\n",
    "def avg_num_phrases_per_code(stat_d):\n",
    "    print('avg num uniq phrases per code: %s'%(sum(list(stat_d.values()))/len(stat_d)))\n",
    "    \n",
    "def get_hist(stat_d, n_bins, hist_fname, figsize=(6,8), xlim = None, ylim = None, title=None):\n",
    "    plt.rc('xtick', labelsize=16)    \n",
    "    plt.rc('ytick', labelsize=16)\n",
    "    if n_bins == 'auto':\n",
    "        max_uniq_phrases = max(list(stat_d.values()))\n",
    "        n_bins = max_uniq_phrases-1\n",
    "    plt.figure(figsize=figsize)\n",
    "    N, bins, patches = plt.hist(list(stat_d.values()), bins = n_bins)\n",
    "    if xlim:\n",
    "        plt.xlim(left = xlim[0])\n",
    "        plt.xlim(right = xlim[1])\n",
    "    if ylim:\n",
    "        plt.ylim(left=ylim[0])\n",
    "        plt.ylim(right=ylim[1])\n",
    "    if title:\n",
    "        plt.title(title, fontsize=21)\n",
    "    plt.xlabel('Кол-во уникальных лемматизированных фраз на pt коды', fontsize=18)\n",
    "    plt.ylabel('Кол-во уникальных pt кодов в корпусе', fontsize=18)\n",
    "    #plt.rc('xlabel', labelsize=20)    # fontsize of the tick labels\n",
    "    #plt.rc('ylabel', labelsize=20)\n",
    "    plt.savefig(hist_fname)\n",
    "    plt.show()\n",
    "    return (N, bins, patches)\n",
    "\n",
    "def get_most_hist_freq_codes(bins, stat_d, num_last_bins = 2):\n",
    "    #взять самые часто встречаемые коды, основываясь на колонках гистограммы\n",
    "    #num_last_bins - сколько колонок взять с конца гистограммы\n",
    "    freq_max_section = np.trunc((bins[-(num_last_bins+1)], bins[-1]))\n",
    "    return [k for k,v in stat_d.items() if v in freq_max_section]\n",
    "\n",
    "def get_most_freq_codes_stat_d(stat_d, num_freq_codes = 20):\n",
    "    #взять самые часто встречаемые коды и кол-во фраз для них\n",
    "    #num_freq_codes - кол-во самых часто встречаемых кодов\n",
    "    sorted_stat_d = {k: v for k, v in sorted(stat_d.items(), key=lambda item: item[1], reverse=True)}\n",
    "    top_freq_codes = list(sorted_stat_d.keys())[:num_freq_codes]\n",
    "    top_freq_codes_stat_d = {k: v for k, v in sorted_stat_d.items() if k in top_freq_codes}\n",
    "    return top_freq_codes_stat_d\n",
    "\n",
    "def get_freq_codes_hist(stat_d, hist_fname, num_freq_codes = 20, figsize=(6,8), title=None):\n",
    "    plt.rc('xtick', labelsize='medium')    \n",
    "    plt.rc('ytick', labelsize='medium')\n",
    "    top_freq_codes_stat_d = get_most_freq_codes_stat_d(stat_d, num_freq_codes=num_freq_codes)\n",
    "    plt.figure(figsize=figsize)\n",
    "    plt.bar(top_freq_codes_stat_d.keys(), height = top_freq_codes_stat_d.values())\n",
    "    plt.xlabel('Топ %s самых частовстречаемых кодов'%num_freq_codes)\n",
    "    plt.xticks(rotation=45, ha='right')\n",
    "    plt.ylabel('Кол-во фраз на 1 pt код в корпусе')\n",
    "    if title:\n",
    "        plt.title(title)\n",
    "    plt.savefig(hist_fname)\n",
    "    plt.show()\n",
    "    \n",
    "def get_freq_codes_table(stat_d, table_fname, lang='rus', num_freq_codes = 20):\n",
    "    assert lang in ['rus', 'en', 'both']\n",
    "    if lang=='rus':\n",
    "        mh_li = [mh_rus]\n",
    "    elif lang=='en':\n",
    "        mh_li = [mh_en]\n",
    "    else:\n",
    "        mh_li = [mh_rus, mh_en]\n",
    "    top_freq_codes_stat_d = get_most_freq_codes_stat_d(stat_d, num_freq_codes=num_freq_codes)\n",
    "    pt_ids_li = list(top_freq_codes_stat_d.keys())\n",
    "    concept_name_li = [' / '.join([curr_mh.ptcode_to_pt[code] for curr_mh in mh_li]) for code in pt_ids_li]\n",
    "    pt_ids_freq_li = list(top_freq_codes_stat_d.values())\n",
    "    freq_codes_table = pd.DataFrame({'PT код': pt_ids_li,\n",
    "                                     'Название PT концепта': concept_name_li,\n",
    "                                     'Кол-во примеров': pt_ids_freq_li})\n",
    "    freq_codes_table.index += 1\n",
    "    freq_codes_table.to_excel(table_fname, index=True) #либо False, чтобы без нумерации сохранилось\n",
    "    return freq_codes_table\n",
    "\n",
    "\n",
    "def get_out_of_voc_table(train_concepts, test_concepts):\n",
    "    not_in_train = []\n",
    "    not_in_test = []\n",
    "    for concept in test_concepts:\n",
    "        if concept not in train_concepts:\n",
    "            not_in_train.append(concept)\n",
    "    for concept in train_concepts:\n",
    "        if concept not in test_concepts:\n",
    "            not_in_test.append(concept)\n",
    "    index = pd.MultiIndex.from_tuples([('Тестовое множество', 'Нет в тренировочном'), ('Тестовое множество', 'Всего'),\n",
    "                                       ('Обучающее множество', 'Нет в тестовом'), ('Обучающее множество', 'Всего')])\n",
    "    out_of_voc_df = pd.DataFrame([[len(not_in_train), len(test_concepts), \n",
    "                                   len(not_in_test), len(train_concepts)]], index=['Кол-во примеров'], columns=index)\n",
    "    return out_of_voc_df\n",
    "\n",
    "\n",
    "def get_phrases_unambiguity(pt_ids_li, lemmatized_phrases_pt_li):\n",
    "    lemm_phrases = lemmatized_phrases_pt_li\n",
    "    lemm_phrases_codes = {lemm: set() for lemm in set(lemm_phrases)}\n",
    "    for lemm_phrase, pt_id in zip(lemm_phrases, pt_ids_li):\n",
    "        lemm_phrases_codes[lemm_phrase].add(pt_id)\n",
    "    lemm_phrases_codes_stat = {k: len(v) for k, v in lemm_phrases_codes.items()}\n",
    "    codes_stat_lemm_phrases = {num_codes: [lemm_phrase for lemm_phrase in lemm_phrases_codes_stat if \\\n",
    "                 lemm_phrases_codes_stat[lemm_phrase]==num_codes] for num_codes in sorted(set(lemm_phrases_codes_stat.values()))}    \n",
    "    lemms_stat = Counter(lemm_phrases)\n",
    "    codes_stat_lemm_stat = {num_codes: sum(map(lambda lemm_phrase: lemms_stat[lemm_phrase], lemm_phrases_li)) \\\n",
    "                            for num_codes, lemm_phrases_li in codes_stat_lemm_phrases.items()}\n",
    "    return codes_stat_lemm_stat\n",
    "\n",
    "def get_phrases_unambiguity_df(pt_ids_li, phrases_pt_li):\n",
    "    codes_stat_lemm_stat = get_phrases_unambiguity(pt_ids_li, phrases_pt_li)\n",
    "    columns = pd.MultiIndex.from_tuples([('Кол-во уникальных кодов после лемматизации', code_num) for \\\n",
    "                                         code_num in codes_stat_lemm_stat.keys()])\n",
    "    df = pd.DataFrame([list(codes_stat_lemm_stat.values())], columns=columns, index=['Кол-во фраз в корпусе'])\n",
    "    return df"
   ]
  },
  {
   "cell_type": "markdown",
   "id": "impossible-saturn",
   "metadata": {},
   "source": [
    "<h3>Глобальные объекты и переменные</h3>"
   ]
  },
  {
   "cell_type": "code",
   "execution_count": 9,
   "id": "sorted-ordinance",
   "metadata": {
    "scrolled": true
   },
   "outputs": [],
   "source": [
    "ALL_AVAILABLE_PTCODES = set()\n",
    "all_available_en_ds = pd.DataFrame(columns=['phrase', 'meddra_pt_code'])\n",
    "USE_CUDA = is_available()"
   ]
  },
  {
   "cell_type": "code",
   "execution_count": 10,
   "id": "polish-slave",
   "metadata": {
    "scrolled": true
   },
   "outputs": [],
   "source": [
    "lemmatization_pipe_ru = stanza.Pipeline(lang='ru', processors='tokenize,pos,lemma', use_gpu=USE_CUDA, verbose=False)\n",
    "lemmatization_pipe_en = stanza.Pipeline(lang='en', processors='tokenize,pos,lemma', use_gpu=USE_CUDA, verbose=False)\n",
    "\n",
    "tokenizer_ru = stanza.Pipeline(lang='ru', processors='tokenize', use_gpu=USE_CUDA, verbose=False)\n",
    "tokenizer_en = stanza.Pipeline(lang='en', processors='tokenize', use_gpu=USE_CUDA, verbose=False)\n",
    "\n",
    "mh_en = MeddraHelper(meddra_path_pt = './External/pt_en.asc', \n",
    "                     meddra_path_llt = './External/llt_en.asc',\n",
    "                     umls_path = './External/MRCONSO.RRF')\n",
    "mh_rus = MeddraHelper(meddra_path_pt = './External/pt_rus.asc', \n",
    "                      meddra_path_llt = './External/llt_rus.asc',\n",
    "                      lang = 'RUS', \n",
    "                      umls_path = './External/MRCONSO.RRF')"
   ]
  },
  {
   "cell_type": "code",
   "execution_count": 24,
   "id": "statewide-fence",
   "metadata": {},
   "outputs": [],
   "source": [
    "FULL_DS = pd.DataFrame(columns=['phrase', 'pt code', 'corp_name', 'lang'])"
   ]
  },
  {
   "cell_type": "code",
   "execution_count": 26,
   "id": "entertaining-proxy",
   "metadata": {},
   "outputs": [
    {
     "data": {
      "text/html": [
       "<div>\n",
       "<style scoped>\n",
       "    .dataframe tbody tr th:only-of-type {\n",
       "        vertical-align: middle;\n",
       "    }\n",
       "\n",
       "    .dataframe tbody tr th {\n",
       "        vertical-align: top;\n",
       "    }\n",
       "\n",
       "    .dataframe thead th {\n",
       "        text-align: right;\n",
       "    }\n",
       "</style>\n",
       "<table border=\"1\" class=\"dataframe\">\n",
       "  <thead>\n",
       "    <tr style=\"text-align: right;\">\n",
       "      <th></th>\n",
       "      <th>phrase</th>\n",
       "      <th>pt code</th>\n",
       "      <th>corp_name</th>\n",
       "      <th>lang</th>\n",
       "    </tr>\n",
       "  </thead>\n",
       "  <tbody>\n",
       "    <tr>\n",
       "      <th>0</th>\n",
       "      <td>стресс</td>\n",
       "      <td>10042209</td>\n",
       "      <td>CADEC</td>\n",
       "      <td>en</td>\n",
       "    </tr>\n",
       "    <tr>\n",
       "      <th>1</th>\n",
       "      <td>недосып</td>\n",
       "      <td>10062519</td>\n",
       "      <td>CADEC</td>\n",
       "      <td>en</td>\n",
       "    </tr>\n",
       "    <tr>\n",
       "      <th>2</th>\n",
       "      <td>нервы</td>\n",
       "      <td>10029216</td>\n",
       "      <td>CADEC</td>\n",
       "      <td>en</td>\n",
       "    </tr>\n",
       "    <tr>\n",
       "      <th>3</th>\n",
       "      <td>стрессового состояния</td>\n",
       "      <td>10042209</td>\n",
       "      <td>CADEC</td>\n",
       "      <td>en</td>\n",
       "    </tr>\n",
       "    <tr>\n",
       "      <th>4</th>\n",
       "      <td>страх</td>\n",
       "      <td>10016275</td>\n",
       "      <td>CADEC</td>\n",
       "      <td>en</td>\n",
       "    </tr>\n",
       "    <tr>\n",
       "      <th>...</th>\n",
       "      <td>...</td>\n",
       "      <td>...</td>\n",
       "      <td>...</td>\n",
       "      <td>...</td>\n",
       "    </tr>\n",
       "    <tr>\n",
       "      <th>11903</th>\n",
       "      <td>насморком</td>\n",
       "      <td>10039101</td>\n",
       "      <td>CADEC</td>\n",
       "      <td>en</td>\n",
       "    </tr>\n",
       "    <tr>\n",
       "      <th>11904</th>\n",
       "      <td>насморке</td>\n",
       "      <td>10039101</td>\n",
       "      <td>CADEC</td>\n",
       "      <td>en</td>\n",
       "    </tr>\n",
       "    <tr>\n",
       "      <th>11905</th>\n",
       "      <td>сухость в носу и носоглотке</td>\n",
       "      <td>10013789</td>\n",
       "      <td>CADEC</td>\n",
       "      <td>en</td>\n",
       "    </tr>\n",
       "    <tr>\n",
       "      <th>11906</th>\n",
       "      <td>насморком</td>\n",
       "      <td>10039101</td>\n",
       "      <td>CADEC</td>\n",
       "      <td>en</td>\n",
       "    </tr>\n",
       "    <tr>\n",
       "      <th>11907</th>\n",
       "      <td>заложенностью носа</td>\n",
       "      <td>10028735</td>\n",
       "      <td>CADEC</td>\n",
       "      <td>en</td>\n",
       "    </tr>\n",
       "  </tbody>\n",
       "</table>\n",
       "<p>11908 rows × 4 columns</p>\n",
       "</div>"
      ],
      "text/plain": [
       "                            phrase   pt code corp_name lang\n",
       "0                           стресс  10042209     CADEC   en\n",
       "1                          недосып  10062519     CADEC   en\n",
       "2                            нервы  10029216     CADEC   en\n",
       "3            стрессового состояния  10042209     CADEC   en\n",
       "4                            страх  10016275     CADEC   en\n",
       "...                            ...       ...       ...  ...\n",
       "11903                    насморком  10039101     CADEC   en\n",
       "11904                     насморке  10039101     CADEC   en\n",
       "11905  сухость в носу и носоглотке  10013789     CADEC   en\n",
       "11906                    насморком  10039101     CADEC   en\n",
       "11907           заложенностью носа  10028735     CADEC   en\n",
       "\n",
       "[11908 rows x 4 columns]"
      ]
     },
     "execution_count": 26,
     "metadata": {},
     "output_type": "execute_result"
    }
   ],
   "source": [
    "concat_new_corp_to_ds(FULL_DS, all_pt_phrases, all_pt_ids, cfg['corp_name'], cfg['lang'])"
   ]
  },
  {
   "cell_type": "code",
   "execution_count": null,
   "id": "adult-reliance",
   "metadata": {
    "scrolled": true
   },
   "outputs": [],
   "source": [
    "FULL_STAT = {k: 0 for k in mh_en.ptcodes}"
   ]
  },
  {
   "cell_type": "markdown",
   "id": "comparable-russia",
   "metadata": {},
   "source": [
    "<h2>Обработка датасетов</h2>"
   ]
  },
  {
   "cell_type": "markdown",
   "id": "expired-invention",
   "metadata": {},
   "source": [
    "<h3>Наш корпус RDRS</h3>"
   ]
  },
  {
   "cell_type": "code",
   "execution_count": 10,
   "id": "satisfactory-yellow",
   "metadata": {
    "scrolled": true
   },
   "outputs": [],
   "source": [
    "cfg = {'corp_name': 'RDRS',\n",
    "       'lemmatize': True,\n",
    "       'lang': 'ru', \n",
    "       }\n",
    "\n",
    "\n",
    "corpus_name = cfg['corp_name']\n",
    "\n",
    "ds = []\n",
    "with jsonlines.open('./Raw/medNorm_16022022.jsonlines') as reader:\n",
    "    for obj in reader:\n",
    "        ds.append(obj)"
   ]
  },
  {
   "cell_type": "code",
   "execution_count": 11,
   "id": "political-activity",
   "metadata": {
    "scrolled": true
   },
   "outputs": [
    {
     "name": "stdout",
     "output_type": "stream",
     "text": [
      "loading corpus RDRS statistic, lang: ru, lemmatize: True\n"
     ]
    }
   ],
   "source": [
    "all_pt_ids = []\n",
    "all_pt_phrases = []\n",
    "\n",
    "for review in ds:\n",
    "    for ent in review['objects']['MedEntity']:\n",
    "        if 'MedDRA' in ent.keys() and ent['MedDRA']!='':\n",
    "            try:\n",
    "                all_pt_ids.append(mh_rus.pt_to_ptcode[ent['MedDRA'].split('|')[0]])\n",
    "                all_pt_phrases.append(ent['text'])\n",
    "            except KeyError:\n",
    "                log_markup_errors.append({'review_id': review['meta']['fileName'], 'entity_id': ent['xmiID']})\n",
    "stat_d = count_representativeness(all_pt_ids, all_pt_phrases, save_lemmas_li = True, **cfg)\n",
    "if not CorpStat.check_saved_stat_for_corp(**cfg):\n",
    "    stat_d.save_stat_for_corp()"
   ]
  },
  {
   "cell_type": "code",
   "execution_count": 29,
   "id": "impressed-unemployment",
   "metadata": {
    "scrolled": true
   },
   "outputs": [
    {
     "name": "stdout",
     "output_type": "stream",
     "text": [
      "num concepts: 11908\n"
     ]
    }
   ],
   "source": [
    "print('num concepts: %s'%len(all_pt_ids))"
   ]
  },
  {
   "cell_type": "code",
   "execution_count": 13,
   "id": "moving-terrorism",
   "metadata": {
    "scrolled": true
   },
   "outputs": [
    {
     "data": {
      "image/png": "[encoded data removed]",
      "text/plain": [
       "<Figure size 1440x576 with 1 Axes>"
      ]
     },
     "metadata": {
      "needs_background": "light"
     },
     "output_type": "display_data"
    },
    {
     "name": "stdout",
     "output_type": "stream",
     "text": [
      "num uniq meddra codes: 936\n",
      "num uniq phrases: 5103\n",
      "avg num uniq phrases per code: 5.629273504273504\n"
     ]
    }
   ],
   "source": [
    "N, bins, pathes = get_hist(stat_d, n_bins = 'auto', \\\n",
    "                           figsize=(20,8), \\\n",
    "                           hist_fname='./Pictures/%s (with lemmatization).png'%corpus_name,\n",
    "                           title = 'Распределение PT кодов по кол-ву уникальных фраз в %s корпусе'%corpus_name)\n",
    "count_uniq_codes_and_phrases(stat_d)\n",
    "avg_num_phrases_per_code(stat_d)"
   ]
  },
  {
   "cell_type": "code",
   "execution_count": 14,
   "id": "automated-suffering",
   "metadata": {
    "scrolled": true
   },
   "outputs": [
    {
     "data": {
      "image/png": "[encoded data removed]",
      "text/plain": [
       "<Figure size 1440x576 with 1 Axes>"
      ]
     },
     "metadata": {
      "needs_background": "light"
     },
     "output_type": "display_data"
    }
   ],
   "source": [
    "xlim_right = 50\n",
    "N, bins, pathes = get_hist(stat_d, n_bins = 'auto', \\\n",
    "                           figsize = (20,8), \\\n",
    "                           xlim = (0, xlim_right), \\\n",
    "                           hist_fname='./Pictures/%s (with lemmatization) xlim_right %s.png'%(corpus_name, xlim_right), \n",
    "                           title = 'Распределение PT кодов по кол-ву уникальных фраз в %s корпусе (число уникальных фраз обрезано до %s)'%(corpus_name, xlim_right))"
   ]
  },
  {
   "cell_type": "code",
   "execution_count": 15,
   "id": "knowing-gathering",
   "metadata": {
    "scrolled": true
   },
   "outputs": [
    {
     "data": {
      "image/png": "[encoded data removed]",
      "text/plain": [
       "<Figure size 1080x576 with 1 Axes>"
      ]
     },
     "metadata": {
      "needs_background": "light"
     },
     "output_type": "display_data"
    }
   ],
   "source": [
    "#сформируем статистику примеров\n",
    "codes_count = Counter(all_pt_ids)\n",
    "get_freq_codes_hist(codes_count, figsize=(15, 8), num_freq_codes=50, hist_fname='./Pictures/%s freq codes.png'%corpus_name, title='Кол-во PT кодов в %s'%corpus_name)"
   ]
  },
  {
   "cell_type": "code",
   "execution_count": 16,
   "id": "bulgarian-directory",
   "metadata": {},
   "outputs": [
    {
     "data": {
      "text/html": [
       "<div>\n",
       "<style scoped>\n",
       "    .dataframe tbody tr th:only-of-type {\n",
       "        vertical-align: middle;\n",
       "    }\n",
       "\n",
       "    .dataframe tbody tr th {\n",
       "        vertical-align: top;\n",
       "    }\n",
       "\n",
       "    .dataframe thead tr th {\n",
       "        text-align: left;\n",
       "    }\n",
       "</style>\n",
       "<table border=\"1\" class=\"dataframe\">\n",
       "  <thead>\n",
       "    <tr>\n",
       "      <th></th>\n",
       "      <th colspan=\"6\" halign=\"left\">Кол-во уникальных кодов после лемматизации</th>\n",
       "    </tr>\n",
       "    <tr>\n",
       "      <th></th>\n",
       "      <th>1</th>\n",
       "      <th>2</th>\n",
       "      <th>3</th>\n",
       "      <th>4</th>\n",
       "      <th>5</th>\n",
       "      <th>6</th>\n",
       "    </tr>\n",
       "  </thead>\n",
       "  <tbody>\n",
       "    <tr>\n",
       "      <th>Кол-во фраз в корпусе</th>\n",
       "      <td>10087</td>\n",
       "      <td>1546</td>\n",
       "      <td>121</td>\n",
       "      <td>128</td>\n",
       "      <td>20</td>\n",
       "      <td>6</td>\n",
       "    </tr>\n",
       "  </tbody>\n",
       "</table>\n",
       "</div>"
      ],
      "text/plain": [
       "                      Кол-во уникальных кодов после лемматизации             \\\n",
       "                                                               1     2    3   \n",
       "Кол-во фраз в корпусе                                      10087  1546  121   \n",
       "\n",
       "                                   \n",
       "                         4   5  6  \n",
       "Кол-во фраз в корпусе  128  20  6  "
      ]
     },
     "execution_count": 16,
     "metadata": {},
     "output_type": "execute_result"
    }
   ],
   "source": [
    "get_phrases_unambiguity_df(all_pt_ids, load_lemmas_li(cfg['corp_name'], cfg['lang']))"
   ]
  },
  {
   "cell_type": "code",
   "execution_count": 18,
   "id": "helpful-things",
   "metadata": {},
   "outputs": [
    {
     "name": "stdout",
     "output_type": "stream",
     "text": [
      "tokenize texts\n"
     ]
    },
    {
     "name": "stderr",
     "output_type": "stream",
     "text": [
      "100%|██████████| 3837/3837 [06:37<00:00,  9.65it/s]\n"
     ]
    },
    {
     "name": "stdout",
     "output_type": "stream",
     "text": [
      "tokenize phrases\n"
     ]
    },
    {
     "name": "stderr",
     "output_type": "stream",
     "text": [
      "100%|██████████| 11908/11908 [00:40<00:00, 292.30it/s]"
     ]
    },
    {
     "name": "stdout",
     "output_type": "stream",
     "text": [
      "len ds: 3837\n",
      "avg pt in text: 3.1034662496742245\n",
      "avg num words in text: 163.74511336982016\n",
      "avg num words in phrase: 2.641165602955996\n"
     ]
    },
    {
     "name": "stderr",
     "output_type": "stream",
     "text": [
      "\n"
     ]
    }
   ],
   "source": [
    "#среднее кол-во pt на в тексте\n",
    "#[якорь] для удобного поиска\n",
    "len_ds = len(ds)\n",
    "avg_pt_in_text = len(all_pt_ids) / len_ds\n",
    "#средняя длинна текста в токенах\n",
    "print('tokenize texts')\n",
    "num_ds_words = 0\n",
    "for review in tqdm(ds):\n",
    "    review_text = review['raw']\n",
    "    num_ds_words+=len(tokenize_text(review_text, cfg))\n",
    "avg_num_words_in_text = num_ds_words / len_ds\n",
    "#средняя длина упоминания\n",
    "print('tokenize phrases')\n",
    "num_phrases_words = 0\n",
    "for phrase in tqdm(all_pt_phrases):\n",
    "    num_phrases_words+=len(tokenize_text(phrase, cfg))\n",
    "avg_num_words_in_phrase = num_phrases_words/len(all_pt_phrases)\n",
    "print('len ds: %s\\navg pt in text: %s\\navg num words in text: %s\\navg num words in phrase: %s'%(len_ds, avg_pt_in_text, \\\n",
    "                                                       avg_num_words_in_text, \\\n",
    "                                                       avg_num_words_in_phrase,\n",
    "                                                       ))"
   ]
  },
  {
   "cell_type": "code",
   "execution_count": 19,
   "id": "million-iceland",
   "metadata": {
    "scrolled": false
   },
   "outputs": [
    {
     "data": {
      "text/html": [
       "<div>\n",
       "<style scoped>\n",
       "    .dataframe tbody tr th:only-of-type {\n",
       "        vertical-align: middle;\n",
       "    }\n",
       "\n",
       "    .dataframe tbody tr th {\n",
       "        vertical-align: top;\n",
       "    }\n",
       "\n",
       "    .dataframe thead th {\n",
       "        text-align: right;\n",
       "    }\n",
       "</style>\n",
       "<table border=\"1\" class=\"dataframe\">\n",
       "  <thead>\n",
       "    <tr style=\"text-align: right;\">\n",
       "      <th></th>\n",
       "      <th>PT код</th>\n",
       "      <th>Название PT концепта</th>\n",
       "      <th>Кол-во примеров</th>\n",
       "    </tr>\n",
       "  </thead>\n",
       "  <tbody>\n",
       "    <tr>\n",
       "      <th>1</th>\n",
       "      <td>10039101</td>\n",
       "      <td>Ринорея / Rhinorrhoea</td>\n",
       "      <td>640</td>\n",
       "    </tr>\n",
       "    <tr>\n",
       "      <th>2</th>\n",
       "      <td>10036898</td>\n",
       "      <td>Профилактика / Prophylaxis</td>\n",
       "      <td>579</td>\n",
       "    </tr>\n",
       "    <tr>\n",
       "      <th>3</th>\n",
       "      <td>10005911</td>\n",
       "      <td>Повышенная температура тела / Body temperature...</td>\n",
       "      <td>540</td>\n",
       "    </tr>\n",
       "    <tr>\n",
       "      <th>4</th>\n",
       "      <td>10019211</td>\n",
       "      <td>Головная боль / Headache</td>\n",
       "      <td>362</td>\n",
       "    </tr>\n",
       "    <tr>\n",
       "      <th>5</th>\n",
       "      <td>10011224</td>\n",
       "      <td>Кашель / Cough</td>\n",
       "      <td>311</td>\n",
       "    </tr>\n",
       "    <tr>\n",
       "      <th>6</th>\n",
       "      <td>10033371</td>\n",
       "      <td>Боль / Pain</td>\n",
       "      <td>295</td>\n",
       "    </tr>\n",
       "    <tr>\n",
       "      <th>7</th>\n",
       "      <td>10041349</td>\n",
       "      <td>Сомнолентность / Somnolence</td>\n",
       "      <td>280</td>\n",
       "    </tr>\n",
       "    <tr>\n",
       "      <th>8</th>\n",
       "      <td>10020751</td>\n",
       "      <td>Гиперчувствительность / Hypersensitivity</td>\n",
       "      <td>257</td>\n",
       "    </tr>\n",
       "    <tr>\n",
       "      <th>9</th>\n",
       "      <td>10037660</td>\n",
       "      <td>Пирексия / Pyrexia</td>\n",
       "      <td>228</td>\n",
       "    </tr>\n",
       "    <tr>\n",
       "      <th>10</th>\n",
       "      <td>10028735</td>\n",
       "      <td>Заложенность носа / Nasal congestion</td>\n",
       "      <td>221</td>\n",
       "    </tr>\n",
       "    <tr>\n",
       "      <th>11</th>\n",
       "      <td>10028813</td>\n",
       "      <td>Тошнота / Nausea</td>\n",
       "      <td>210</td>\n",
       "    </tr>\n",
       "    <tr>\n",
       "      <th>12</th>\n",
       "      <td>10042209</td>\n",
       "      <td>Стресс / Stress</td>\n",
       "      <td>175</td>\n",
       "    </tr>\n",
       "    <tr>\n",
       "      <th>13</th>\n",
       "      <td>10003549</td>\n",
       "      <td>Астения / Asthenia</td>\n",
       "      <td>171</td>\n",
       "    </tr>\n",
       "    <tr>\n",
       "      <th>14</th>\n",
       "      <td>10037844</td>\n",
       "      <td>Сыпь / Rash</td>\n",
       "      <td>170</td>\n",
       "    </tr>\n",
       "    <tr>\n",
       "      <th>15</th>\n",
       "      <td>10037087</td>\n",
       "      <td>Зуд / Pruritus</td>\n",
       "      <td>162</td>\n",
       "    </tr>\n",
       "    <tr>\n",
       "      <th>16</th>\n",
       "      <td>10013573</td>\n",
       "      <td>Головокружение / Dizziness</td>\n",
       "      <td>157</td>\n",
       "    </tr>\n",
       "    <tr>\n",
       "      <th>17</th>\n",
       "      <td>10068319</td>\n",
       "      <td>Боль в ротоглотке (орофарингеальная) / Orophar...</td>\n",
       "      <td>140</td>\n",
       "    </tr>\n",
       "    <tr>\n",
       "      <th>18</th>\n",
       "      <td>10029216</td>\n",
       "      <td>Нервозность / Nervousness</td>\n",
       "      <td>138</td>\n",
       "    </tr>\n",
       "    <tr>\n",
       "      <th>19</th>\n",
       "      <td>10000081</td>\n",
       "      <td>Боль в животе / Abdominal pain</td>\n",
       "      <td>129</td>\n",
       "    </tr>\n",
       "    <tr>\n",
       "      <th>20</th>\n",
       "      <td>10022437</td>\n",
       "      <td>Бессонница / Insomnia</td>\n",
       "      <td>125</td>\n",
       "    </tr>\n",
       "    <tr>\n",
       "      <th>21</th>\n",
       "      <td>10013946</td>\n",
       "      <td>Диспепсия / Dyspepsia</td>\n",
       "      <td>119</td>\n",
       "    </tr>\n",
       "    <tr>\n",
       "      <th>22</th>\n",
       "      <td>10062519</td>\n",
       "      <td>Низкое качество сна / Poor quality sleep</td>\n",
       "      <td>118</td>\n",
       "    </tr>\n",
       "    <tr>\n",
       "      <th>23</th>\n",
       "      <td>10047700</td>\n",
       "      <td>Рвота / Vomiting</td>\n",
       "      <td>109</td>\n",
       "    </tr>\n",
       "    <tr>\n",
       "      <th>24</th>\n",
       "      <td>10022998</td>\n",
       "      <td>Раздражительность / Irritability</td>\n",
       "      <td>108</td>\n",
       "    </tr>\n",
       "    <tr>\n",
       "      <th>25</th>\n",
       "      <td>10000087</td>\n",
       "      <td>Боль в верхних отделах живота / Abdominal pain...</td>\n",
       "      <td>108</td>\n",
       "    </tr>\n",
       "    <tr>\n",
       "      <th>26</th>\n",
       "      <td>10000496</td>\n",
       "      <td>Угри / Acne</td>\n",
       "      <td>107</td>\n",
       "    </tr>\n",
       "    <tr>\n",
       "      <th>27</th>\n",
       "      <td>10012735</td>\n",
       "      <td>Диарея / Diarrhoea</td>\n",
       "      <td>103</td>\n",
       "    </tr>\n",
       "    <tr>\n",
       "      <th>28</th>\n",
       "      <td>10005750</td>\n",
       "      <td>Повышение артериального давления / Blood press...</td>\n",
       "      <td>99</td>\n",
       "    </tr>\n",
       "    <tr>\n",
       "      <th>29</th>\n",
       "      <td>10033670</td>\n",
       "      <td>Паническая реакция / Panic reaction</td>\n",
       "      <td>85</td>\n",
       "    </tr>\n",
       "    <tr>\n",
       "      <th>30</th>\n",
       "      <td>10041232</td>\n",
       "      <td>Чихание / Sneezing</td>\n",
       "      <td>83</td>\n",
       "    </tr>\n",
       "    <tr>\n",
       "      <th>31</th>\n",
       "      <td>10052804</td>\n",
       "      <td>Переносимость препарата / Drug tolerance</td>\n",
       "      <td>81</td>\n",
       "    </tr>\n",
       "    <tr>\n",
       "      <th>32</th>\n",
       "      <td>10025482</td>\n",
       "      <td>Недомогание / Malaise</td>\n",
       "      <td>71</td>\n",
       "    </tr>\n",
       "    <tr>\n",
       "      <th>33</th>\n",
       "      <td>10010774</td>\n",
       "      <td>Запор / Constipation</td>\n",
       "      <td>71</td>\n",
       "    </tr>\n",
       "    <tr>\n",
       "      <th>34</th>\n",
       "      <td>10040984</td>\n",
       "      <td>Расстройство сна / Sleep disorder</td>\n",
       "      <td>68</td>\n",
       "    </tr>\n",
       "    <tr>\n",
       "      <th>35</th>\n",
       "      <td>10033557</td>\n",
       "      <td>Сердцебиение / Palpitations</td>\n",
       "      <td>68</td>\n",
       "    </tr>\n",
       "    <tr>\n",
       "      <th>36</th>\n",
       "      <td>10000059</td>\n",
       "      <td>Абдоминальный дискомфорт / Abdominal discomfort</td>\n",
       "      <td>64</td>\n",
       "    </tr>\n",
       "    <tr>\n",
       "      <th>37</th>\n",
       "      <td>10015150</td>\n",
       "      <td>Эритема / Erythema</td>\n",
       "      <td>62</td>\n",
       "    </tr>\n",
       "    <tr>\n",
       "      <th>38</th>\n",
       "      <td>10061218</td>\n",
       "      <td>Воспаление / Inflammation</td>\n",
       "      <td>62</td>\n",
       "    </tr>\n",
       "    <tr>\n",
       "      <th>39</th>\n",
       "      <td>10001497</td>\n",
       "      <td>Ажитация / Agitation</td>\n",
       "      <td>61</td>\n",
       "    </tr>\n",
       "    <tr>\n",
       "      <th>40</th>\n",
       "      <td>10016256</td>\n",
       "      <td>Усталость / Fatigue</td>\n",
       "      <td>59</td>\n",
       "    </tr>\n",
       "    <tr>\n",
       "      <th>41</th>\n",
       "      <td>10013082</td>\n",
       "      <td>Дискомфорт / Discomfort</td>\n",
       "      <td>57</td>\n",
       "    </tr>\n",
       "    <tr>\n",
       "      <th>42</th>\n",
       "      <td>10006784</td>\n",
       "      <td>Чувство жжения / Burning sensation</td>\n",
       "      <td>55</td>\n",
       "    </tr>\n",
       "    <tr>\n",
       "      <th>43</th>\n",
       "      <td>10002855</td>\n",
       "      <td>Чувство тревоги / Anxiety</td>\n",
       "      <td>54</td>\n",
       "    </tr>\n",
       "    <tr>\n",
       "      <th>44</th>\n",
       "      <td>10013968</td>\n",
       "      <td>Одышка / Dyspnoea</td>\n",
       "      <td>53</td>\n",
       "    </tr>\n",
       "    <tr>\n",
       "      <th>45</th>\n",
       "      <td>10061428</td>\n",
       "      <td>Снижение аппетита / Decreased appetite</td>\n",
       "      <td>50</td>\n",
       "    </tr>\n",
       "    <tr>\n",
       "      <th>46</th>\n",
       "      <td>10003239</td>\n",
       "      <td>Артралгия / Arthralgia</td>\n",
       "      <td>45</td>\n",
       "    </tr>\n",
       "    <tr>\n",
       "      <th>47</th>\n",
       "      <td>10023644</td>\n",
       "      <td>Гиперсекреторное слезоотделение / Lacrimation ...</td>\n",
       "      <td>44</td>\n",
       "    </tr>\n",
       "    <tr>\n",
       "      <th>48</th>\n",
       "      <td>10001760</td>\n",
       "      <td>Алопеция / Alopecia</td>\n",
       "      <td>43</td>\n",
       "    </tr>\n",
       "    <tr>\n",
       "      <th>49</th>\n",
       "      <td>10040907</td>\n",
       "      <td>Папиллома кожи / Skin papilloma</td>\n",
       "      <td>43</td>\n",
       "    </tr>\n",
       "    <tr>\n",
       "      <th>50</th>\n",
       "      <td>10021425</td>\n",
       "      <td>Нарушение со стороны иммунной системы / Immune...</td>\n",
       "      <td>42</td>\n",
       "    </tr>\n",
       "  </tbody>\n",
       "</table>\n",
       "</div>"
      ],
      "text/plain": [
       "      PT код                               Название PT концепта  \\\n",
       "1   10039101                              Ринорея / Rhinorrhoea   \n",
       "2   10036898                         Профилактика / Prophylaxis   \n",
       "3   10005911  Повышенная температура тела / Body temperature...   \n",
       "4   10019211                           Головная боль / Headache   \n",
       "5   10011224                                     Кашель / Cough   \n",
       "6   10033371                                        Боль / Pain   \n",
       "7   10041349                        Сомнолентность / Somnolence   \n",
       "8   10020751           Гиперчувствительность / Hypersensitivity   \n",
       "9   10037660                                 Пирексия / Pyrexia   \n",
       "10  10028735               Заложенность носа / Nasal congestion   \n",
       "11  10028813                                   Тошнота / Nausea   \n",
       "12  10042209                                    Стресс / Stress   \n",
       "13  10003549                                 Астения / Asthenia   \n",
       "14  10037844                                        Сыпь / Rash   \n",
       "15  10037087                                     Зуд / Pruritus   \n",
       "16  10013573                         Головокружение / Dizziness   \n",
       "17  10068319  Боль в ротоглотке (орофарингеальная) / Orophar...   \n",
       "18  10029216                          Нервозность / Nervousness   \n",
       "19  10000081                     Боль в животе / Abdominal pain   \n",
       "20  10022437                              Бессонница / Insomnia   \n",
       "21  10013946                              Диспепсия / Dyspepsia   \n",
       "22  10062519           Низкое качество сна / Poor quality sleep   \n",
       "23  10047700                                   Рвота / Vomiting   \n",
       "24  10022998                   Раздражительность / Irritability   \n",
       "25  10000087  Боль в верхних отделах живота / Abdominal pain...   \n",
       "26  10000496                                        Угри / Acne   \n",
       "27  10012735                                 Диарея / Diarrhoea   \n",
       "28  10005750  Повышение артериального давления / Blood press...   \n",
       "29  10033670                Паническая реакция / Panic reaction   \n",
       "30  10041232                                 Чихание / Sneezing   \n",
       "31  10052804           Переносимость препарата / Drug tolerance   \n",
       "32  10025482                              Недомогание / Malaise   \n",
       "33  10010774                               Запор / Constipation   \n",
       "34  10040984                  Расстройство сна / Sleep disorder   \n",
       "35  10033557                        Сердцебиение / Palpitations   \n",
       "36  10000059    Абдоминальный дискомфорт / Abdominal discomfort   \n",
       "37  10015150                                 Эритема / Erythema   \n",
       "38  10061218                          Воспаление / Inflammation   \n",
       "39  10001497                               Ажитация / Agitation   \n",
       "40  10016256                                Усталость / Fatigue   \n",
       "41  10013082                            Дискомфорт / Discomfort   \n",
       "42  10006784                 Чувство жжения / Burning sensation   \n",
       "43  10002855                          Чувство тревоги / Anxiety   \n",
       "44  10013968                                  Одышка / Dyspnoea   \n",
       "45  10061428             Снижение аппетита / Decreased appetite   \n",
       "46  10003239                             Артралгия / Arthralgia   \n",
       "47  10023644  Гиперсекреторное слезоотделение / Lacrimation ...   \n",
       "48  10001760                                Алопеция / Alopecia   \n",
       "49  10040907                    Папиллома кожи / Skin papilloma   \n",
       "50  10021425  Нарушение со стороны иммунной системы / Immune...   \n",
       "\n",
       "    Кол-во примеров  \n",
       "1               640  \n",
       "2               579  \n",
       "3               540  \n",
       "4               362  \n",
       "5               311  \n",
       "6               295  \n",
       "7               280  \n",
       "8               257  \n",
       "9               228  \n",
       "10              221  \n",
       "11              210  \n",
       "12              175  \n",
       "13              171  \n",
       "14              170  \n",
       "15              162  \n",
       "16              157  \n",
       "17              140  \n",
       "18              138  \n",
       "19              129  \n",
       "20              125  \n",
       "21              119  \n",
       "22              118  \n",
       "23              109  \n",
       "24              108  \n",
       "25              108  \n",
       "26              107  \n",
       "27              103  \n",
       "28               99  \n",
       "29               85  \n",
       "30               83  \n",
       "31               81  \n",
       "32               71  \n",
       "33               71  \n",
       "34               68  \n",
       "35               68  \n",
       "36               64  \n",
       "37               62  \n",
       "38               62  \n",
       "39               61  \n",
       "40               59  \n",
       "41               57  \n",
       "42               55  \n",
       "43               54  \n",
       "44               53  \n",
       "45               50  \n",
       "46               45  \n",
       "47               44  \n",
       "48               43  \n",
       "49               43  \n",
       "50               42  "
      ]
     },
     "execution_count": 19,
     "metadata": {},
     "output_type": "execute_result"
    }
   ],
   "source": [
    "get_freq_codes_table(codes_count, num_freq_codes=50, lang='both', table_fname='./Tables/%s most freq codes.xlsx'%corpus_name)"
   ]
  },
  {
   "cell_type": "markdown",
   "id": "demonstrated-champagne",
   "metadata": {},
   "source": [
    "<h4>Введем глобальную переменную с множеством PT кодов RDRs</h4>"
   ]
  },
  {
   "cell_type": "code",
   "execution_count": 20,
   "id": "small-audio",
   "metadata": {
    "scrolled": true
   },
   "outputs": [],
   "source": [
    "RDRS_PT_IDS_SET = set(all_pt_ids)"
   ]
  },
  {
   "cell_type": "markdown",
   "id": "infinite-preparation",
   "metadata": {},
   "source": [
    "<h4>Добавим датасет в единый набор данных</h4>"
   ]
  },
  {
   "cell_type": "code",
   "execution_count": 30,
   "id": "random-liberal",
   "metadata": {},
   "outputs": [],
   "source": [
    "FULL_DS = concat_new_corp_to_ds(FULL_DS, all_pt_phrases, all_pt_ids, cfg['corp_name'], cfg['lang'])"
   ]
  },
  {
   "cell_type": "markdown",
   "id": "finnish-filing",
   "metadata": {},
   "source": [
    "<h4>Посмотрим статистку in and out of voc</h4>"
   ]
  },
  {
   "cell_type": "code",
   "execution_count": 32,
   "id": "rotary-silly",
   "metadata": {
    "scrolled": true
   },
   "outputs": [],
   "source": [
    "X_train, X_test = train_test_split(ds, test_size=0.33, random_state=42)\n",
    "train_concepts = []\n",
    "test_concepts = []\n",
    "for review in X_train:\n",
    "    for ent in review['objects']['MedEntity']:\n",
    "        if 'MedDRA' in ent.keys():\n",
    "            if ent['MedDRA']=='':\n",
    "                continue\n",
    "            try:\n",
    "                train_concepts.append(mh_rus.pt_to_ptcode[ent['MedDRA'].split('|')[0]])\n",
    "            except KeyError:\n",
    "                pass\n",
    "            \n",
    "\n",
    "for review in X_test:\n",
    "    for ent in review['objects']['MedEntity']:\n",
    "        if 'MedDRA' in ent.keys():\n",
    "            if ent['MedDRA']=='':\n",
    "                continue\n",
    "            try:\n",
    "                test_concepts.append(mh_rus.pt_to_ptcode[ent['MedDRA'].split('|')[0]])\n",
    "            except KeyError:\n",
    "                pass"
   ]
  },
  {
   "cell_type": "code",
   "execution_count": 33,
   "id": "outer-cricket",
   "metadata": {
    "scrolled": true
   },
   "outputs": [
    {
     "data": {
      "text/html": [
       "<div>\n",
       "<style scoped>\n",
       "    .dataframe tbody tr th:only-of-type {\n",
       "        vertical-align: middle;\n",
       "    }\n",
       "\n",
       "    .dataframe tbody tr th {\n",
       "        vertical-align: top;\n",
       "    }\n",
       "\n",
       "    .dataframe thead tr th {\n",
       "        text-align: left;\n",
       "    }\n",
       "</style>\n",
       "<table border=\"1\" class=\"dataframe\">\n",
       "  <thead>\n",
       "    <tr>\n",
       "      <th></th>\n",
       "      <th colspan=\"2\" halign=\"left\">Тестовое множество</th>\n",
       "      <th colspan=\"2\" halign=\"left\">Обучающее множество</th>\n",
       "    </tr>\n",
       "    <tr>\n",
       "      <th></th>\n",
       "      <th>Нет в тренировочном</th>\n",
       "      <th>Всего</th>\n",
       "      <th>Нет в тестовом</th>\n",
       "      <th>Всего</th>\n",
       "    </tr>\n",
       "  </thead>\n",
       "  <tbody>\n",
       "    <tr>\n",
       "      <th>Кол-во примеров</th>\n",
       "      <td>194</td>\n",
       "      <td>3787</td>\n",
       "      <td>728</td>\n",
       "      <td>8121</td>\n",
       "    </tr>\n",
       "  </tbody>\n",
       "</table>\n",
       "</div>"
      ],
      "text/plain": [
       "                 Тестовое множество       Обучающее множество      \n",
       "                Нет в тренировочном Всего      Нет в тестовом Всего\n",
       "Кол-во примеров                 194  3787                 728  8121"
      ]
     },
     "execution_count": 33,
     "metadata": {},
     "output_type": "execute_result"
    }
   ],
   "source": [
    "get_out_of_voc_table(train_concepts, test_concepts)"
   ]
  },
  {
   "cell_type": "markdown",
   "id": "lightweight-bench",
   "metadata": {},
   "source": [
    "<h3>CADEC</h3>"
   ]
  },
  {
   "cell_type": "code",
   "execution_count": 34,
   "id": "understood-thailand",
   "metadata": {},
   "outputs": [],
   "source": [
    "cfg = {'corp_name': 'CADEC',\n",
    "       'lemmatize': True,\n",
    "       'lang': 'en'}\n",
    "\n",
    "corpus_name = cfg['corp_name']"
   ]
  },
  {
   "cell_type": "markdown",
   "id": "important-stanford",
   "metadata": {},
   "source": [
    "<h4>Разбиение Stanovsky</h4>"
   ]
  },
  {
   "cell_type": "code",
   "execution_count": 35,
   "id": "exotic-robin",
   "metadata": {
    "scrolled": true
   },
   "outputs": [],
   "source": [
    "#не используется в отчете\n",
    "data_dir = './Raw/CADEC_Stanovsky/' \n",
    "ds_ids = {'train': [], 'test': []}    \n",
    "for mode in ['train', 'test']:\n",
    "    with open(data_dir + '%s_origin.encoded.conll'%mode) as f:\n",
    "        for line in f:\n",
    "            if line!='\\n' and line.find('\\t')<0:\n",
    "                ds_ids[mode].append(line.strip('\\n'))"
   ]
  },
  {
   "cell_type": "code",
   "execution_count": 36,
   "id": "velvet-battle",
   "metadata": {
    "scrolled": true
   },
   "outputs": [
    {
     "name": "stderr",
     "output_type": "stream",
     "text": [
      "100%|██████████| 5976/5976 [03:12<00:00, 31.07it/s]"
     ]
    },
    {
     "name": "stdout",
     "output_type": "stream",
     "text": [
      "saving corpus CADEC statistic, lang: en, lemmatize: True\n"
     ]
    },
    {
     "name": "stderr",
     "output_type": "stream",
     "text": [
      "\n"
     ]
    }
   ],
   "source": [
    "ds_concepts = {'test': [], 'train': []}\n",
    "\n",
    "all_pt_ids = []\n",
    "all_pt_phrases = []\n",
    "errors = 0\n",
    "for mode in ['train', 'test']:\n",
    "    for file_id in ds_ids[mode]:\n",
    "        with open('./Raw/CADEC_Stanovsky/meddra/' + file_id + '.ann') as f:\n",
    "            for line in f:\n",
    "                if line=='\\n':\n",
    "                    continue\n",
    "                try:\n",
    "                    _, pt_id, pt_phrase = line.split('\\t')\n",
    "                except ValueError:\n",
    "                    _, pt_id, pt_phrase = re.sub('\\s\\s+', '\\t', line).split('\\t')\n",
    "                pt_id = pt_id.split(' ')[0]\n",
    "                if pt_id in mh_en.lltcode_to_ptcode.keys():\n",
    "                    pt_id = mh_en.lltcode_to_ptcode[pt_id]\n",
    "                    all_pt_ids.append(pt_id)\n",
    "                    all_pt_phrases.append(pt_phrase)\n",
    "                    ds_concepts[mode].append(pt_id)\n",
    "                elif pt_id in mh_en.ptcodes:\n",
    "                    all_pt_ids.append(pt_id)\n",
    "                    all_pt_phrases.append(pt_phrase)\n",
    "                    ds_concepts[mode].append(pt_id)\n",
    "                else:\n",
    "                    errors+=1\n",
    "stat_d = count_representativeness(all_pt_ids, all_pt_phrases, save_lemmas_li=True, **cfg)\n",
    "if not CorpStat.check_saved_stat_for_corp(**cfg):\n",
    "    stat_d.save_stat_for_corp()\n",
    "test_concepts = ds_concepts['test']\n",
    "train_concepts = ds_concepts['train']"
   ]
  },
  {
   "cell_type": "code",
   "execution_count": 38,
   "id": "varied-casting",
   "metadata": {
    "scrolled": true
   },
   "outputs": [
    {
     "data": {
      "image/png": "[encoded data removed]",
      "text/plain": [
       "<Figure size 1440x576 with 1 Axes>"
      ]
     },
     "metadata": {
      "needs_background": "light"
     },
     "output_type": "display_data"
    },
    {
     "name": "stdout",
     "output_type": "stream",
     "text": [
      "num uniq meddra codes: 441\n",
      "num uniq phrases: 2981\n",
      "avg num uniq phrases per code: 6.791383219954649\n"
     ]
    }
   ],
   "source": [
    "N, bins, pathes = get_hist(stat_d, n_bins = 'auto', \\\n",
    "                           figsize=(20,8), \\\n",
    "                           hist_fname='./Pictures/%s (with lemmatization).png'%corpus_name,\n",
    "                           title = 'Распределение PT кодов по кол-ву уникальных фраз в %s корпусе'%corpus_name)\n",
    "count_uniq_codes_and_phrases(stat_d)\n",
    "avg_num_phrases_per_code(stat_d)"
   ]
  },
  {
   "cell_type": "code",
   "execution_count": 39,
   "id": "external-initial",
   "metadata": {
    "scrolled": true
   },
   "outputs": [
    {
     "data": {
      "image/png": "[encoded data removed]",
      "text/plain": [
       "<Figure size 1440x576 with 1 Axes>"
      ]
     },
     "metadata": {
      "needs_background": "light"
     },
     "output_type": "display_data"
    }
   ],
   "source": [
    "xlim_right = 50\n",
    "N, bins, pathes = get_hist(stat_d, n_bins = 'auto', \\\n",
    "                           figsize = (20,8), \\\n",
    "                           xlim = (0, xlim_right), \\\n",
    "                           hist_fname='./Pictures/%s (with lemmatization) xlim_right %s.png'%(corpus_name, xlim_right), \n",
    "                           title = 'Распределение PT кодов по кол-ву уникальных фраз в %s корпусе (число уникальных фраз обрезано до %s)'%(corpus_name,xlim_right))"
   ]
  },
  {
   "cell_type": "code",
   "execution_count": 40,
   "id": "miniature-caribbean",
   "metadata": {
    "scrolled": true
   },
   "outputs": [
    {
     "data": {
      "image/png": "[encoded data removed]",
      "text/plain": [
       "<Figure size 1080x576 with 1 Axes>"
      ]
     },
     "metadata": {
      "needs_background": "light"
     },
     "output_type": "display_data"
    }
   ],
   "source": [
    "#сформируем статистику примеров\n",
    "codes_count = Counter(all_pt_ids)\n",
    "get_freq_codes_hist(codes_count, figsize=(15, 8), num_freq_codes=50, hist_fname='./Pictures/%s freq codes.png'%corpus_name, title='Кол-во PT кодов в %s'%corpus_name)"
   ]
  },
  {
   "cell_type": "code",
   "execution_count": 41,
   "id": "chubby-league",
   "metadata": {},
   "outputs": [
    {
     "data": {
      "text/html": [
       "<div>\n",
       "<style scoped>\n",
       "    .dataframe tbody tr th:only-of-type {\n",
       "        vertical-align: middle;\n",
       "    }\n",
       "\n",
       "    .dataframe tbody tr th {\n",
       "        vertical-align: top;\n",
       "    }\n",
       "\n",
       "    .dataframe thead tr th {\n",
       "        text-align: left;\n",
       "    }\n",
       "</style>\n",
       "<table border=\"1\" class=\"dataframe\">\n",
       "  <thead>\n",
       "    <tr>\n",
       "      <th></th>\n",
       "      <th colspan=\"2\" halign=\"left\">Кол-во уникальных кодов после лемматизации</th>\n",
       "    </tr>\n",
       "    <tr>\n",
       "      <th></th>\n",
       "      <th>1</th>\n",
       "      <th>2</th>\n",
       "    </tr>\n",
       "  </thead>\n",
       "  <tbody>\n",
       "    <tr>\n",
       "      <th>Кол-во фраз в корпусе</th>\n",
       "      <td>5831</td>\n",
       "      <td>145</td>\n",
       "    </tr>\n",
       "  </tbody>\n",
       "</table>\n",
       "</div>"
      ],
      "text/plain": [
       "                      Кол-во уникальных кодов после лемматизации     \n",
       "                                                               1    2\n",
       "Кол-во фраз в корпусе                                       5831  145"
      ]
     },
     "execution_count": 41,
     "metadata": {},
     "output_type": "execute_result"
    }
   ],
   "source": [
    "get_phrases_unambiguity_df(all_pt_ids, load_lemmas_li(cfg['corp_name'], cfg['lang']))"
   ]
  },
  {
   "cell_type": "code",
   "execution_count": 44,
   "id": "manual-harris",
   "metadata": {},
   "outputs": [
    {
     "name": "stdout",
     "output_type": "stream",
     "text": [
      "tokenize phrases...\n"
     ]
    },
    {
     "name": "stderr",
     "output_type": "stream",
     "text": [
      "100%|██████████| 5976/5976 [00:21<00:00, 279.24it/s]"
     ]
    },
    {
     "name": "stdout",
     "output_type": "stream",
     "text": [
      "len ds: 1244\n",
      "avg pt in text: 4.803858520900322\n",
      "avg num words in text: 102.76045016077171\n",
      "avg num words in phrase: 2.603078982597055\n"
     ]
    },
    {
     "name": "stderr",
     "output_type": "stream",
     "text": [
      "\n"
     ]
    }
   ],
   "source": [
    "#средняя длинна текста в токенах (цифры кол-ва слова из статьи по CADEC https://gabrielstanovsky.github.io/assets/papers/eacl17a/paper.pdf)\n",
    "#[якорь] для удобного поиска\n",
    "num_ds_words = 127834\n",
    "len_ds = 1244\n",
    "#среднее кол-во pt в тексте\n",
    "avg_pt_in_text = len(all_pt_ids) / len_ds\n",
    "#среднее кол-во слов в тексте\n",
    "avg_num_words_in_text = num_ds_words / len_ds\n",
    "#средняя длина упоминания\n",
    "num_phrases_words = 0\n",
    "print('tokenize phrases...')\n",
    "for phrase in tqdm(all_pt_phrases):\n",
    "    num_phrases_words+=len(tokenize_text(phrase, cfg['lang']))\n",
    "avg_num_words_in_phrase = num_phrases_words/len(all_pt_phrases)\n",
    "print('len ds: %s\\navg pt in text: %s\\navg num words in text: %s\\navg num words in phrase: %s'%(len_ds, avg_pt_in_text, \\\n",
    "                                                       avg_num_words_in_text, \\\n",
    "                                                       avg_num_words_in_phrase,\n",
    "                                                       ))"
   ]
  },
  {
   "cell_type": "code",
   "execution_count": 45,
   "id": "cubic-disaster",
   "metadata": {
    "scrolled": true
   },
   "outputs": [
    {
     "data": {
      "text/html": [
       "<div>\n",
       "<style scoped>\n",
       "    .dataframe tbody tr th:only-of-type {\n",
       "        vertical-align: middle;\n",
       "    }\n",
       "\n",
       "    .dataframe tbody tr th {\n",
       "        vertical-align: top;\n",
       "    }\n",
       "\n",
       "    .dataframe thead th {\n",
       "        text-align: right;\n",
       "    }\n",
       "</style>\n",
       "<table border=\"1\" class=\"dataframe\">\n",
       "  <thead>\n",
       "    <tr style=\"text-align: right;\">\n",
       "      <th></th>\n",
       "      <th>PT код</th>\n",
       "      <th>Название PT концепта</th>\n",
       "      <th>Кол-во примеров</th>\n",
       "    </tr>\n",
       "  </thead>\n",
       "  <tbody>\n",
       "    <tr>\n",
       "      <th>1</th>\n",
       "      <td>10033371</td>\n",
       "      <td>Боль / Pain</td>\n",
       "      <td>555</td>\n",
       "    </tr>\n",
       "    <tr>\n",
       "      <th>2</th>\n",
       "      <td>10003239</td>\n",
       "      <td>Артралгия / Arthralgia</td>\n",
       "      <td>351</td>\n",
       "    </tr>\n",
       "    <tr>\n",
       "      <th>3</th>\n",
       "      <td>10028411</td>\n",
       "      <td>Миалгия / Myalgia</td>\n",
       "      <td>297</td>\n",
       "    </tr>\n",
       "    <tr>\n",
       "      <th>4</th>\n",
       "      <td>10028334</td>\n",
       "      <td>Мышечные спазмы / Muscle spasms</td>\n",
       "      <td>293</td>\n",
       "    </tr>\n",
       "    <tr>\n",
       "      <th>5</th>\n",
       "      <td>10033425</td>\n",
       "      <td>Боль в конечности / Pain in extremity</td>\n",
       "      <td>248</td>\n",
       "    </tr>\n",
       "    <tr>\n",
       "      <th>6</th>\n",
       "      <td>10016256</td>\n",
       "      <td>Усталость / Fatigue</td>\n",
       "      <td>234</td>\n",
       "    </tr>\n",
       "    <tr>\n",
       "      <th>7</th>\n",
       "      <td>10016766</td>\n",
       "      <td>Флатуленция / Flatulence</td>\n",
       "      <td>134</td>\n",
       "    </tr>\n",
       "    <tr>\n",
       "      <th>8</th>\n",
       "      <td>10028372</td>\n",
       "      <td>Мышечная слабость / Muscular weakness</td>\n",
       "      <td>134</td>\n",
       "    </tr>\n",
       "    <tr>\n",
       "      <th>9</th>\n",
       "      <td>10003549</td>\n",
       "      <td>Астения / Asthenia</td>\n",
       "      <td>128</td>\n",
       "    </tr>\n",
       "    <tr>\n",
       "      <th>10</th>\n",
       "      <td>10012378</td>\n",
       "      <td>Депрессия / Depression</td>\n",
       "      <td>124</td>\n",
       "    </tr>\n",
       "    <tr>\n",
       "      <th>11</th>\n",
       "      <td>10022437</td>\n",
       "      <td>Бессонница / Insomnia</td>\n",
       "      <td>114</td>\n",
       "    </tr>\n",
       "    <tr>\n",
       "      <th>12</th>\n",
       "      <td>10003988</td>\n",
       "      <td>Боль со стороны спины / Back pain</td>\n",
       "      <td>113</td>\n",
       "    </tr>\n",
       "    <tr>\n",
       "      <th>13</th>\n",
       "      <td>10019211</td>\n",
       "      <td>Головная боль / Headache</td>\n",
       "      <td>112</td>\n",
       "    </tr>\n",
       "    <tr>\n",
       "      <th>14</th>\n",
       "      <td>10033775</td>\n",
       "      <td>Парестезия / Paraesthesia</td>\n",
       "      <td>103</td>\n",
       "    </tr>\n",
       "    <tr>\n",
       "      <th>15</th>\n",
       "      <td>10027175</td>\n",
       "      <td>Нарушение памяти / Memory impairment</td>\n",
       "      <td>98</td>\n",
       "    </tr>\n",
       "    <tr>\n",
       "      <th>16</th>\n",
       "      <td>10013573</td>\n",
       "      <td>Головокружение / Dizziness</td>\n",
       "      <td>89</td>\n",
       "    </tr>\n",
       "    <tr>\n",
       "      <th>17</th>\n",
       "      <td>10012735</td>\n",
       "      <td>Диарея / Diarrhoea</td>\n",
       "      <td>83</td>\n",
       "    </tr>\n",
       "    <tr>\n",
       "      <th>18</th>\n",
       "      <td>10017577</td>\n",
       "      <td>Нарушение походки / Gait disturbance</td>\n",
       "      <td>75</td>\n",
       "    </tr>\n",
       "    <tr>\n",
       "      <th>19</th>\n",
       "      <td>10001949</td>\n",
       "      <td>Амнезия / Amnesia</td>\n",
       "      <td>72</td>\n",
       "    </tr>\n",
       "    <tr>\n",
       "      <th>20</th>\n",
       "      <td>10020937</td>\n",
       "      <td>Гипестезия / Hypoaesthesia</td>\n",
       "      <td>70</td>\n",
       "    </tr>\n",
       "    <tr>\n",
       "      <th>21</th>\n",
       "      <td>10000087</td>\n",
       "      <td>Боль в верхних отделах живота / Abdominal pain...</td>\n",
       "      <td>66</td>\n",
       "    </tr>\n",
       "    <tr>\n",
       "      <th>22</th>\n",
       "      <td>10028813</td>\n",
       "      <td>Тошнота / Nausea</td>\n",
       "      <td>61</td>\n",
       "    </tr>\n",
       "    <tr>\n",
       "      <th>23</th>\n",
       "      <td>10028836</td>\n",
       "      <td>Боль в шее / Neck pain</td>\n",
       "      <td>50</td>\n",
       "    </tr>\n",
       "    <tr>\n",
       "      <th>24</th>\n",
       "      <td>10052904</td>\n",
       "      <td>Скелетно-мышечная скованность / Musculoskeleta...</td>\n",
       "      <td>50</td>\n",
       "    </tr>\n",
       "    <tr>\n",
       "      <th>25</th>\n",
       "      <td>10027374</td>\n",
       "      <td>Нарушение психики / Mental impairment</td>\n",
       "      <td>50</td>\n",
       "    </tr>\n",
       "    <tr>\n",
       "      <th>26</th>\n",
       "      <td>10001760</td>\n",
       "      <td>Алопеция / Alopecia</td>\n",
       "      <td>49</td>\n",
       "    </tr>\n",
       "    <tr>\n",
       "      <th>27</th>\n",
       "      <td>10002855</td>\n",
       "      <td>Чувство тревоги / Anxiety</td>\n",
       "      <td>43</td>\n",
       "    </tr>\n",
       "    <tr>\n",
       "      <th>28</th>\n",
       "      <td>10000060</td>\n",
       "      <td>Вздутие живота / Abdominal distension</td>\n",
       "      <td>43</td>\n",
       "    </tr>\n",
       "    <tr>\n",
       "      <th>29</th>\n",
       "      <td>10047513</td>\n",
       "      <td>Помутнение в поле зрения / Vision blurred</td>\n",
       "      <td>38</td>\n",
       "    </tr>\n",
       "    <tr>\n",
       "      <th>30</th>\n",
       "      <td>10028289</td>\n",
       "      <td>Атрофия мышц / Muscle atrophy</td>\n",
       "      <td>38</td>\n",
       "    </tr>\n",
       "    <tr>\n",
       "      <th>31</th>\n",
       "      <td>10037087</td>\n",
       "      <td>Зуд / Pruritus</td>\n",
       "      <td>36</td>\n",
       "    </tr>\n",
       "    <tr>\n",
       "      <th>32</th>\n",
       "      <td>10010774</td>\n",
       "      <td>Запор / Constipation</td>\n",
       "      <td>35</td>\n",
       "    </tr>\n",
       "    <tr>\n",
       "      <th>33</th>\n",
       "      <td>10013496</td>\n",
       "      <td>Нарушение внимания / Disturbance in attention</td>\n",
       "      <td>34</td>\n",
       "    </tr>\n",
       "    <tr>\n",
       "      <th>34</th>\n",
       "      <td>10006784</td>\n",
       "      <td>Чувство жжения / Burning sensation</td>\n",
       "      <td>32</td>\n",
       "    </tr>\n",
       "    <tr>\n",
       "      <th>35</th>\n",
       "      <td>10000081</td>\n",
       "      <td>Боль в животе / Abdominal pain</td>\n",
       "      <td>32</td>\n",
       "    </tr>\n",
       "    <tr>\n",
       "      <th>36</th>\n",
       "      <td>10025482</td>\n",
       "      <td>Недомогание / Malaise</td>\n",
       "      <td>30</td>\n",
       "    </tr>\n",
       "    <tr>\n",
       "      <th>37</th>\n",
       "      <td>10013968</td>\n",
       "      <td>Одышка / Dyspnoea</td>\n",
       "      <td>30</td>\n",
       "    </tr>\n",
       "    <tr>\n",
       "      <th>38</th>\n",
       "      <td>10008479</td>\n",
       "      <td>Боль в грудной клетке / Chest pain</td>\n",
       "      <td>29</td>\n",
       "    </tr>\n",
       "    <tr>\n",
       "      <th>39</th>\n",
       "      <td>10000059</td>\n",
       "      <td>Абдоминальный дискомфорт / Abdominal discomfort</td>\n",
       "      <td>29</td>\n",
       "    </tr>\n",
       "    <tr>\n",
       "      <th>40</th>\n",
       "      <td>10061265</td>\n",
       "      <td>Расстройство обучения / Learning disorder</td>\n",
       "      <td>28</td>\n",
       "    </tr>\n",
       "    <tr>\n",
       "      <th>41</th>\n",
       "      <td>10037844</td>\n",
       "      <td>Сыпь / Rash</td>\n",
       "      <td>28</td>\n",
       "    </tr>\n",
       "    <tr>\n",
       "      <th>42</th>\n",
       "      <td>10047571</td>\n",
       "      <td>Расстройство зрения / Visual impairment</td>\n",
       "      <td>28</td>\n",
       "    </tr>\n",
       "    <tr>\n",
       "      <th>43</th>\n",
       "      <td>10028347</td>\n",
       "      <td>Подергивание мышц / Muscle twitching</td>\n",
       "      <td>27</td>\n",
       "    </tr>\n",
       "    <tr>\n",
       "      <th>44</th>\n",
       "      <td>10047899</td>\n",
       "      <td>Увеличение веса / Weight increased</td>\n",
       "      <td>27</td>\n",
       "    </tr>\n",
       "    <tr>\n",
       "      <th>45</th>\n",
       "      <td>10022004</td>\n",
       "      <td>Гриппоподобное заболевание / Influenza like il...</td>\n",
       "      <td>27</td>\n",
       "    </tr>\n",
       "    <tr>\n",
       "      <th>46</th>\n",
       "      <td>10029331</td>\n",
       "      <td>Нейропатия периферическая / Neuropathy peripheral</td>\n",
       "      <td>27</td>\n",
       "    </tr>\n",
       "    <tr>\n",
       "      <th>47</th>\n",
       "      <td>10028641</td>\n",
       "      <td>Миопатия / Myopathy</td>\n",
       "      <td>26</td>\n",
       "    </tr>\n",
       "    <tr>\n",
       "      <th>48</th>\n",
       "      <td>10023230</td>\n",
       "      <td>Скованность сустава / Joint stiffness</td>\n",
       "      <td>26</td>\n",
       "    </tr>\n",
       "    <tr>\n",
       "      <th>49</th>\n",
       "      <td>10047340</td>\n",
       "      <td>Вертиго / Vertigo</td>\n",
       "      <td>26</td>\n",
       "    </tr>\n",
       "    <tr>\n",
       "      <th>50</th>\n",
       "      <td>10049565</td>\n",
       "      <td>Мышечное утомление / Muscle fatigue</td>\n",
       "      <td>26</td>\n",
       "    </tr>\n",
       "  </tbody>\n",
       "</table>\n",
       "</div>"
      ],
      "text/plain": [
       "      PT код                               Название PT концепта  \\\n",
       "1   10033371                                        Боль / Pain   \n",
       "2   10003239                             Артралгия / Arthralgia   \n",
       "3   10028411                                  Миалгия / Myalgia   \n",
       "4   10028334                    Мышечные спазмы / Muscle spasms   \n",
       "5   10033425              Боль в конечности / Pain in extremity   \n",
       "6   10016256                                Усталость / Fatigue   \n",
       "7   10016766                           Флатуленция / Flatulence   \n",
       "8   10028372              Мышечная слабость / Muscular weakness   \n",
       "9   10003549                                 Астения / Asthenia   \n",
       "10  10012378                             Депрессия / Depression   \n",
       "11  10022437                              Бессонница / Insomnia   \n",
       "12  10003988                  Боль со стороны спины / Back pain   \n",
       "13  10019211                           Головная боль / Headache   \n",
       "14  10033775                          Парестезия / Paraesthesia   \n",
       "15  10027175               Нарушение памяти / Memory impairment   \n",
       "16  10013573                         Головокружение / Dizziness   \n",
       "17  10012735                                 Диарея / Diarrhoea   \n",
       "18  10017577               Нарушение походки / Gait disturbance   \n",
       "19  10001949                                  Амнезия / Amnesia   \n",
       "20  10020937                         Гипестезия / Hypoaesthesia   \n",
       "21  10000087  Боль в верхних отделах живота / Abdominal pain...   \n",
       "22  10028813                                   Тошнота / Nausea   \n",
       "23  10028836                             Боль в шее / Neck pain   \n",
       "24  10052904  Скелетно-мышечная скованность / Musculoskeleta...   \n",
       "25  10027374              Нарушение психики / Mental impairment   \n",
       "26  10001760                                Алопеция / Alopecia   \n",
       "27  10002855                          Чувство тревоги / Anxiety   \n",
       "28  10000060              Вздутие живота / Abdominal distension   \n",
       "29  10047513          Помутнение в поле зрения / Vision blurred   \n",
       "30  10028289                      Атрофия мышц / Muscle atrophy   \n",
       "31  10037087                                     Зуд / Pruritus   \n",
       "32  10010774                               Запор / Constipation   \n",
       "33  10013496      Нарушение внимания / Disturbance in attention   \n",
       "34  10006784                 Чувство жжения / Burning sensation   \n",
       "35  10000081                     Боль в животе / Abdominal pain   \n",
       "36  10025482                              Недомогание / Malaise   \n",
       "37  10013968                                  Одышка / Dyspnoea   \n",
       "38  10008479                 Боль в грудной клетке / Chest pain   \n",
       "39  10000059    Абдоминальный дискомфорт / Abdominal discomfort   \n",
       "40  10061265          Расстройство обучения / Learning disorder   \n",
       "41  10037844                                        Сыпь / Rash   \n",
       "42  10047571            Расстройство зрения / Visual impairment   \n",
       "43  10028347               Подергивание мышц / Muscle twitching   \n",
       "44  10047899                 Увеличение веса / Weight increased   \n",
       "45  10022004  Гриппоподобное заболевание / Influenza like il...   \n",
       "46  10029331  Нейропатия периферическая / Neuropathy peripheral   \n",
       "47  10028641                                Миопатия / Myopathy   \n",
       "48  10023230              Скованность сустава / Joint stiffness   \n",
       "49  10047340                                  Вертиго / Vertigo   \n",
       "50  10049565                Мышечное утомление / Muscle fatigue   \n",
       "\n",
       "    Кол-во примеров  \n",
       "1               555  \n",
       "2               351  \n",
       "3               297  \n",
       "4               293  \n",
       "5               248  \n",
       "6               234  \n",
       "7               134  \n",
       "8               134  \n",
       "9               128  \n",
       "10              124  \n",
       "11              114  \n",
       "12              113  \n",
       "13              112  \n",
       "14              103  \n",
       "15               98  \n",
       "16               89  \n",
       "17               83  \n",
       "18               75  \n",
       "19               72  \n",
       "20               70  \n",
       "21               66  \n",
       "22               61  \n",
       "23               50  \n",
       "24               50  \n",
       "25               50  \n",
       "26               49  \n",
       "27               43  \n",
       "28               43  \n",
       "29               38  \n",
       "30               38  \n",
       "31               36  \n",
       "32               35  \n",
       "33               34  \n",
       "34               32  \n",
       "35               32  \n",
       "36               30  \n",
       "37               30  \n",
       "38               29  \n",
       "39               29  \n",
       "40               28  \n",
       "41               28  \n",
       "42               28  \n",
       "43               27  \n",
       "44               27  \n",
       "45               27  \n",
       "46               27  \n",
       "47               26  \n",
       "48               26  \n",
       "49               26  \n",
       "50               26  "
      ]
     },
     "execution_count": 45,
     "metadata": {},
     "output_type": "execute_result"
    }
   ],
   "source": [
    "get_freq_codes_table(codes_count, num_freq_codes=50, lang='both', table_fname='./Tables/%s most freq codes.xlsx'%corpus_name)"
   ]
  },
  {
   "cell_type": "code",
   "execution_count": 46,
   "id": "abroad-buyer",
   "metadata": {
    "scrolled": true
   },
   "outputs": [
    {
     "name": "stdout",
     "output_type": "stream",
     "text": [
      "num codes in intersection with RDRS: 251\n"
     ]
    }
   ],
   "source": [
    "print('num codes in intersection with RDRS: %s'%len(set.intersection(set(all_pt_ids), RDRS_PT_IDS_SET)))"
   ]
  },
  {
   "cell_type": "markdown",
   "id": "sufficient-chocolate",
   "metadata": {},
   "source": [
    "<h4>Разбиение Тутубалиной на 5 фолдов - по нему посчитаем outofvoc</h4>"
   ]
  },
  {
   "cell_type": "code",
   "execution_count": 47,
   "id": "compact-hotel",
   "metadata": {},
   "outputs": [],
   "source": [
    "#Оно по SNOMED и не используется\n",
    "#data_dir = './Raw/CADEC_Tutubalina/'\n",
    "#for mode in ['train', 'test']:\n",
    "#    for fold in range(5):\n",
    "#        df = pd.read_csv(data_dir+mode+'_'+str(fold)+'.csv', sep='\\t')\n",
    "#        df"
   ]
  },
  {
   "cell_type": "code",
   "execution_count": 48,
   "id": "loaded-metabolism",
   "metadata": {},
   "outputs": [
    {
     "data": {
      "text/html": [
       "<div>\n",
       "<style scoped>\n",
       "    .dataframe tbody tr th:only-of-type {\n",
       "        vertical-align: middle;\n",
       "    }\n",
       "\n",
       "    .dataframe tbody tr th {\n",
       "        vertical-align: top;\n",
       "    }\n",
       "\n",
       "    .dataframe thead tr th {\n",
       "        text-align: left;\n",
       "    }\n",
       "</style>\n",
       "<table border=\"1\" class=\"dataframe\">\n",
       "  <thead>\n",
       "    <tr>\n",
       "      <th></th>\n",
       "      <th colspan=\"2\" halign=\"left\">Тестовое множество</th>\n",
       "      <th colspan=\"2\" halign=\"left\">Обучающее множество</th>\n",
       "    </tr>\n",
       "    <tr>\n",
       "      <th></th>\n",
       "      <th>Нет в тренировочном</th>\n",
       "      <th>Всего</th>\n",
       "      <th>Нет в тестовом</th>\n",
       "      <th>Всего</th>\n",
       "    </tr>\n",
       "  </thead>\n",
       "  <tbody>\n",
       "    <tr>\n",
       "      <th>Кол-во примеров</th>\n",
       "      <td>73</td>\n",
       "      <td>1413</td>\n",
       "      <td>391</td>\n",
       "      <td>4563</td>\n",
       "    </tr>\n",
       "  </tbody>\n",
       "</table>\n",
       "</div>"
      ],
      "text/plain": [
       "                 Тестовое множество       Обучающее множество      \n",
       "                Нет в тренировочном Всего      Нет в тестовом Всего\n",
       "Кол-во примеров                  73  1413                 391  4563"
      ]
     },
     "execution_count": 48,
     "metadata": {},
     "output_type": "execute_result"
    }
   ],
   "source": [
    "get_out_of_voc_table(train_concepts, test_concepts)"
   ]
  },
  {
   "cell_type": "markdown",
   "id": "ranking-truth",
   "metadata": {},
   "source": [
    "<h4>То, что просил Сбоев</h4>"
   ]
  },
  {
   "cell_type": "code",
   "execution_count": 29,
   "id": "honest-single",
   "metadata": {},
   "outputs": [],
   "source": [
    "CADEC_diff = set(all_pt_ids) - set(RDRS_PT_IDS_SET)\n",
    "mh_li = [mh_rus, mh_en]\n",
    "pt_ids_li = list(CADEC_diff)\n",
    "concept_name_li = [' / '.join([curr_mh.ptcode_to_pt[code] for curr_mh in mh_li]) for code in pt_ids_li]\n",
    "diff_codes_table = pd.DataFrame({'PT код': pt_ids_li,\n",
    "                                 'Название PT концепта': concept_name_li})\n",
    "diff_codes_table.to_excel('./Tables/То,что есть в кадеке, но нет в RDRS.xlsx', index=False)\n",
    "#diff_codes_table"
   ]
  },
  {
   "cell_type": "code",
   "execution_count": 50,
   "id": "incoming-wealth",
   "metadata": {},
   "outputs": [],
   "source": [
    "FULL_DS = concat_new_corp_to_ds(FULL_DS, all_pt_phrases, all_pt_ids, cfg['corp_name'], cfg['lang'])"
   ]
  },
  {
   "cell_type": "markdown",
   "id": "amended-worst",
   "metadata": {},
   "source": [
    "<h3>TAC 2017</h3>"
   ]
  },
  {
   "cell_type": "code",
   "execution_count": 52,
   "id": "advanced-disorder",
   "metadata": {
    "scrolled": true
   },
   "outputs": [
    {
     "name": "stdout",
     "output_type": "stream",
     "text": [
      "tokenize texts...\n"
     ]
    },
    {
     "name": "stderr",
     "output_type": "stream",
     "text": [
      "101it [00:46,  2.18it/s]\n",
      "100%|██████████| 7045/7045 [04:29<00:00, 26.16it/s]\n"
     ]
    },
    {
     "name": "stdout",
     "output_type": "stream",
     "text": [
      "saving corpus TAC 2017 statistic, lang: en, lemmatize: True\n"
     ]
    }
   ],
   "source": [
    "#без контекста, только фразы c нормализацией\n",
    "cfg = {'corp_name': 'TAC 2017',\n",
    "       'lemmatize': True,\n",
    "       'lang': 'en', \n",
    "       }\n",
    "\n",
    "\n",
    "corpus_name = cfg['corp_name']\n",
    "\n",
    "\n",
    "\n",
    "data_dir = './Raw/TAC 2017/train_xml'\n",
    "num_ds_words = 0\n",
    "len_ds = 0\n",
    "\n",
    "def list_and_filter_dir(data_dir):\n",
    "    for file in os.listdir(data_dir):\n",
    "        if file[0]=='.' or file.find('xml')<0:\n",
    "            continue\n",
    "        yield file\n",
    "        \n",
    "\n",
    "all_pt_ids = []\n",
    "all_pt_terms = []\n",
    "all_pt_phrases = []\n",
    "\n",
    "print('tokenize texts...')\n",
    "for file in tqdm(list_and_filter_dir(data_dir)):\n",
    "    len_ds+=1\n",
    "    tree = ET.parse(os.path.join(data_dir, file))\n",
    "    root = tree.getroot()\n",
    "    \n",
    "    pt_ids = []\n",
    "    pt_terms = []\n",
    "    pt_phrases = []\n",
    "        \n",
    "    for section in root.findall('./Text/Section'):\n",
    "        num_ds_words += len(tokenize_text(section.text, cfg['lang']))\n",
    "        \n",
    "    for norm_mention in root.findall('./Reactions/Reaction'):\n",
    "        for meddra_code in norm_mention.findall('Normalization'):\n",
    "            meddra_pt = meddra_code.get('meddra_pt')\n",
    "            meddra_pt_id = meddra_code.get('meddra_pt_id')\n",
    "            meddra_llt_id = meddra_code.get('meddra_llt_id')\n",
    "            if meddra_pt is None or (meddra_pt_id is None and meddra_llt_id is None):\n",
    "                continue\n",
    "            if meddra_llt_id:\n",
    "                meddra_pt_id = mh_en.lltcode_to_ptcode[meddra_llt_id]\n",
    "            pt_ids.append(meddra_pt_id)\n",
    "            pt_terms.append(meddra_pt)\n",
    "            pt_phrases.append(norm_mention.get('str'))\n",
    "            \n",
    "    all_pt_ids.extend(pt_ids)\n",
    "    all_pt_terms.extend(pt_terms)\n",
    "    all_pt_phrases.extend(pt_phrases)\n",
    "    \n",
    "#print(all_pt_ids[500:508])\n",
    "#print(all_pt_terms[500:508])\n",
    "#print(all_pt_phrases[500:508])\n",
    "\n",
    "stat_d = count_representativeness(all_pt_ids, all_pt_phrases, save_lemmas_li=True, **cfg)\n",
    "if not CorpStat.check_saved_stat_for_corp(**cfg):\n",
    "    stat_d.save_stat_for_corp()\n",
    "stat_d = {k: v for k, v in stat_d.items() if k in mh_en.ptcodes}\n",
    "#pprint(stat_d)"
   ]
  },
  {
   "cell_type": "code",
   "execution_count": null,
   "id": "timely-overview",
   "metadata": {},
   "outputs": [],
   "source": [
    "stat_d = CorpStat.load_stat_for_corp(**cfg)\n",
    "stat_d_filtered = {k: v for k, v in stat_d.map_codes_to_phrases.items() if k in mh_en.ptcodes}\n",
    "stat_d = CorpStat(stat_d_filtered)\n",
    "stat_d"
   ]
  },
  {
   "cell_type": "code",
   "execution_count": 53,
   "id": "suburban-tunisia",
   "metadata": {
    "scrolled": true
   },
   "outputs": [
    {
     "name": "stdout",
     "output_type": "stream",
     "text": [
      "num concepts: 7045\n"
     ]
    }
   ],
   "source": [
    "print('num concepts: %s'%len(all_pt_ids))"
   ]
  },
  {
   "cell_type": "code",
   "execution_count": 57,
   "id": "altered-chess",
   "metadata": {
    "scrolled": true
   },
   "outputs": [
    {
     "data": {
      "image/png": "[encoded data removed]",
      "text/plain": [
       "<Figure size 1440x576 with 1 Axes>"
      ]
     },
     "metadata": {
      "needs_background": "light"
     },
     "output_type": "display_data"
    },
    {
     "name": "stdout",
     "output_type": "stream",
     "text": [
      "num uniq meddra codes: 1482\n",
      "num uniq phrases: 2705\n",
      "avg num uniq phrases per code: 1.8535762483130904\n"
     ]
    }
   ],
   "source": [
    "N, bins, pathes = get_hist(stat_d, n_bins = 'auto', \\\n",
    "                           figsize=(20,8), \\\n",
    "                           hist_fname='./Pictures/%s (with lemmatization).png'%corpus_name,\n",
    "                           title = 'Распределение PT кодов по кол-ву уникальных фраз в %s корпусе'%corpus_name)\n",
    "count_uniq_codes_and_phrases(stat_d)\n",
    "avg_num_phrases_per_code(stat_d)"
   ]
  },
  {
   "cell_type": "code",
   "execution_count": 58,
   "id": "molecular-christmas",
   "metadata": {
    "scrolled": true
   },
   "outputs": [
    {
     "data": {
      "image/png": "[encoded data removed]",
      "text/plain": [
       "<Figure size 1080x576 with 1 Axes>"
      ]
     },
     "metadata": {
      "needs_background": "light"
     },
     "output_type": "display_data"
    }
   ],
   "source": [
    "#сформируем статистику примеров\n",
    "codes_count = Counter(all_pt_ids)\n",
    "get_freq_codes_hist(codes_count, figsize=(15, 8), num_freq_codes=50, hist_fname='./Pictures/%s freq codes.png'%corpus_name, title='Кол-во PT кодов в %s'%corpus_name)"
   ]
  },
  {
   "cell_type": "code",
   "execution_count": 59,
   "id": "hungarian-wholesale",
   "metadata": {},
   "outputs": [
    {
     "data": {
      "text/html": [
       "<div>\n",
       "<style scoped>\n",
       "    .dataframe tbody tr th:only-of-type {\n",
       "        vertical-align: middle;\n",
       "    }\n",
       "\n",
       "    .dataframe tbody tr th {\n",
       "        vertical-align: top;\n",
       "    }\n",
       "\n",
       "    .dataframe thead tr th {\n",
       "        text-align: left;\n",
       "    }\n",
       "</style>\n",
       "<table border=\"1\" class=\"dataframe\">\n",
       "  <thead>\n",
       "    <tr>\n",
       "      <th></th>\n",
       "      <th colspan=\"2\" halign=\"left\">Кол-во уникальных кодов после лемматизации</th>\n",
       "    </tr>\n",
       "    <tr>\n",
       "      <th></th>\n",
       "      <th>1</th>\n",
       "      <th>2</th>\n",
       "    </tr>\n",
       "  </thead>\n",
       "  <tbody>\n",
       "    <tr>\n",
       "      <th>Кол-во фраз в корпусе</th>\n",
       "      <td>6943</td>\n",
       "      <td>102</td>\n",
       "    </tr>\n",
       "  </tbody>\n",
       "</table>\n",
       "</div>"
      ],
      "text/plain": [
       "                      Кол-во уникальных кодов после лемматизации     \n",
       "                                                               1    2\n",
       "Кол-во фраз в корпусе                                       6943  102"
      ]
     },
     "execution_count": 59,
     "metadata": {},
     "output_type": "execute_result"
    }
   ],
   "source": [
    "get_phrases_unambiguity_df(all_pt_ids, load_lemmas_li(cfg['corp_name'], cfg['lang']))"
   ]
  },
  {
   "cell_type": "code",
   "execution_count": 60,
   "id": "medieval-tuner",
   "metadata": {
    "scrolled": true
   },
   "outputs": [
    {
     "data": {
      "text/html": [
       "<div>\n",
       "<style scoped>\n",
       "    .dataframe tbody tr th:only-of-type {\n",
       "        vertical-align: middle;\n",
       "    }\n",
       "\n",
       "    .dataframe tbody tr th {\n",
       "        vertical-align: top;\n",
       "    }\n",
       "\n",
       "    .dataframe thead th {\n",
       "        text-align: right;\n",
       "    }\n",
       "</style>\n",
       "<table border=\"1\" class=\"dataframe\">\n",
       "  <thead>\n",
       "    <tr style=\"text-align: right;\">\n",
       "      <th></th>\n",
       "      <th>PT код</th>\n",
       "      <th>Название PT концепта</th>\n",
       "      <th>Кол-во примеров</th>\n",
       "    </tr>\n",
       "  </thead>\n",
       "  <tbody>\n",
       "    <tr>\n",
       "      <th>1</th>\n",
       "      <td>10011906</td>\n",
       "      <td>Смерть</td>\n",
       "      <td>114</td>\n",
       "    </tr>\n",
       "    <tr>\n",
       "      <th>2</th>\n",
       "      <td>10020751</td>\n",
       "      <td>Гиперчувствительность</td>\n",
       "      <td>106</td>\n",
       "    </tr>\n",
       "    <tr>\n",
       "      <th>3</th>\n",
       "      <td>10037844</td>\n",
       "      <td>Сыпь</td>\n",
       "      <td>86</td>\n",
       "    </tr>\n",
       "    <tr>\n",
       "      <th>4</th>\n",
       "      <td>10001551</td>\n",
       "      <td>Повышение уровня аланинаминотрансферазы</td>\n",
       "      <td>85</td>\n",
       "    </tr>\n",
       "    <tr>\n",
       "      <th>5</th>\n",
       "      <td>10028813</td>\n",
       "      <td>Тошнота</td>\n",
       "      <td>77</td>\n",
       "    </tr>\n",
       "    <tr>\n",
       "      <th>6</th>\n",
       "      <td>10019211</td>\n",
       "      <td>Головная боль</td>\n",
       "      <td>71</td>\n",
       "    </tr>\n",
       "    <tr>\n",
       "      <th>7</th>\n",
       "      <td>10012735</td>\n",
       "      <td>Диарея</td>\n",
       "      <td>60</td>\n",
       "    </tr>\n",
       "    <tr>\n",
       "      <th>8</th>\n",
       "      <td>10003481</td>\n",
       "      <td>Повышение уровня аспартатаминотрансферазы</td>\n",
       "      <td>59</td>\n",
       "    </tr>\n",
       "    <tr>\n",
       "      <th>9</th>\n",
       "      <td>10013573</td>\n",
       "      <td>Головокружение</td>\n",
       "      <td>56</td>\n",
       "    </tr>\n",
       "    <tr>\n",
       "      <th>10</th>\n",
       "      <td>10047700</td>\n",
       "      <td>Рвота</td>\n",
       "      <td>54</td>\n",
       "    </tr>\n",
       "    <tr>\n",
       "      <th>11</th>\n",
       "      <td>10016256</td>\n",
       "      <td>Усталость</td>\n",
       "      <td>51</td>\n",
       "    </tr>\n",
       "    <tr>\n",
       "      <th>12</th>\n",
       "      <td>10037087</td>\n",
       "      <td>Зуд</td>\n",
       "      <td>51</td>\n",
       "    </tr>\n",
       "    <tr>\n",
       "      <th>13</th>\n",
       "      <td>10013968</td>\n",
       "      <td>Одышка</td>\n",
       "      <td>50</td>\n",
       "    </tr>\n",
       "    <tr>\n",
       "      <th>14</th>\n",
       "      <td>10000081</td>\n",
       "      <td>Боль в животе</td>\n",
       "      <td>49</td>\n",
       "    </tr>\n",
       "    <tr>\n",
       "      <th>15</th>\n",
       "      <td>10037660</td>\n",
       "      <td>Пирексия</td>\n",
       "      <td>44</td>\n",
       "    </tr>\n",
       "    <tr>\n",
       "      <th>16</th>\n",
       "      <td>10014387</td>\n",
       "      <td>Удлинение интервала QT на электрокардиограмме</td>\n",
       "      <td>44</td>\n",
       "    </tr>\n",
       "    <tr>\n",
       "      <th>17</th>\n",
       "      <td>10021789</td>\n",
       "      <td>Инфекция</td>\n",
       "      <td>42</td>\n",
       "    </tr>\n",
       "    <tr>\n",
       "      <th>18</th>\n",
       "      <td>10046306</td>\n",
       "      <td>Инфекция верхних дыхательных путей</td>\n",
       "      <td>41</td>\n",
       "    </tr>\n",
       "    <tr>\n",
       "      <th>19</th>\n",
       "      <td>10002198</td>\n",
       "      <td>Анафилактическая реакция</td>\n",
       "      <td>41</td>\n",
       "    </tr>\n",
       "    <tr>\n",
       "      <th>20</th>\n",
       "      <td>10002424</td>\n",
       "      <td>Ангиоотек</td>\n",
       "      <td>40</td>\n",
       "    </tr>\n",
       "    <tr>\n",
       "      <th>21</th>\n",
       "      <td>10003549</td>\n",
       "      <td>Астения</td>\n",
       "      <td>39</td>\n",
       "    </tr>\n",
       "    <tr>\n",
       "      <th>22</th>\n",
       "      <td>10010774</td>\n",
       "      <td>Запор</td>\n",
       "      <td>39</td>\n",
       "    </tr>\n",
       "    <tr>\n",
       "      <th>23</th>\n",
       "      <td>10011224</td>\n",
       "      <td>Кашель</td>\n",
       "      <td>39</td>\n",
       "    </tr>\n",
       "    <tr>\n",
       "      <th>24</th>\n",
       "      <td>10021097</td>\n",
       "      <td>Гипотензия</td>\n",
       "      <td>38</td>\n",
       "    </tr>\n",
       "    <tr>\n",
       "      <th>25</th>\n",
       "      <td>10003239</td>\n",
       "      <td>Артралгия</td>\n",
       "      <td>37</td>\n",
       "    </tr>\n",
       "    <tr>\n",
       "      <th>26</th>\n",
       "      <td>10054889</td>\n",
       "      <td>Повышение уровня трансаминаз</td>\n",
       "      <td>37</td>\n",
       "    </tr>\n",
       "    <tr>\n",
       "      <th>27</th>\n",
       "      <td>10035664</td>\n",
       "      <td>Пневмония</td>\n",
       "      <td>36</td>\n",
       "    </tr>\n",
       "    <tr>\n",
       "      <th>28</th>\n",
       "      <td>10046571</td>\n",
       "      <td>Инфекция мочевыводящих путей</td>\n",
       "      <td>35</td>\n",
       "    </tr>\n",
       "    <tr>\n",
       "      <th>29</th>\n",
       "      <td>10005483</td>\n",
       "      <td>Повышение уровня креатинина в крови</td>\n",
       "      <td>35</td>\n",
       "    </tr>\n",
       "    <tr>\n",
       "      <th>30</th>\n",
       "      <td>10055798</td>\n",
       "      <td>Кровоизлияние</td>\n",
       "      <td>35</td>\n",
       "    </tr>\n",
       "    <tr>\n",
       "      <th>31</th>\n",
       "      <td>10061428</td>\n",
       "      <td>Снижение аппетита</td>\n",
       "      <td>34</td>\n",
       "    </tr>\n",
       "    <tr>\n",
       "      <th>32</th>\n",
       "      <td>10028810</td>\n",
       "      <td>Назофарингит</td>\n",
       "      <td>34</td>\n",
       "    </tr>\n",
       "    <tr>\n",
       "      <th>33</th>\n",
       "      <td>10046735</td>\n",
       "      <td>Крапивница</td>\n",
       "      <td>34</td>\n",
       "    </tr>\n",
       "    <tr>\n",
       "      <th>34</th>\n",
       "      <td>10020772</td>\n",
       "      <td>Гипертензия</td>\n",
       "      <td>32</td>\n",
       "    </tr>\n",
       "    <tr>\n",
       "      <th>35</th>\n",
       "      <td>10003988</td>\n",
       "      <td>Боль со стороны спины</td>\n",
       "      <td>31</td>\n",
       "    </tr>\n",
       "    <tr>\n",
       "      <th>36</th>\n",
       "      <td>10030124</td>\n",
       "      <td>Периферический отек</td>\n",
       "      <td>31</td>\n",
       "    </tr>\n",
       "    <tr>\n",
       "      <th>37</th>\n",
       "      <td>10022437</td>\n",
       "      <td>Бессонница</td>\n",
       "      <td>31</td>\n",
       "    </tr>\n",
       "    <tr>\n",
       "      <th>38</th>\n",
       "      <td>10013946</td>\n",
       "      <td>Диспепсия</td>\n",
       "      <td>31</td>\n",
       "    </tr>\n",
       "    <tr>\n",
       "      <th>39</th>\n",
       "      <td>10062237</td>\n",
       "      <td>Несостоятельность функции почек</td>\n",
       "      <td>30</td>\n",
       "    </tr>\n",
       "    <tr>\n",
       "      <th>40</th>\n",
       "      <td>10029354</td>\n",
       "      <td>Нейтропения</td>\n",
       "      <td>29</td>\n",
       "    </tr>\n",
       "    <tr>\n",
       "      <th>41</th>\n",
       "      <td>10002034</td>\n",
       "      <td>Анемия</td>\n",
       "      <td>29</td>\n",
       "    </tr>\n",
       "    <tr>\n",
       "      <th>42</th>\n",
       "      <td>10005364</td>\n",
       "      <td>Повышение уровня билирубина в крови</td>\n",
       "      <td>28</td>\n",
       "    </tr>\n",
       "    <tr>\n",
       "      <th>43</th>\n",
       "      <td>10033775</td>\n",
       "      <td>Парестезия</td>\n",
       "      <td>27</td>\n",
       "    </tr>\n",
       "    <tr>\n",
       "      <th>44</th>\n",
       "      <td>10033425</td>\n",
       "      <td>Боль в конечности</td>\n",
       "      <td>27</td>\n",
       "    </tr>\n",
       "    <tr>\n",
       "      <th>45</th>\n",
       "      <td>10018884</td>\n",
       "      <td>Снижение уровня гемоглобина</td>\n",
       "      <td>27</td>\n",
       "    </tr>\n",
       "    <tr>\n",
       "      <th>46</th>\n",
       "      <td>10022095</td>\n",
       "      <td>Реакция в месте инъекции</td>\n",
       "      <td>26</td>\n",
       "    </tr>\n",
       "    <tr>\n",
       "      <th>47</th>\n",
       "      <td>10007554</td>\n",
       "      <td>Сердечная недостаточность</td>\n",
       "      <td>26</td>\n",
       "    </tr>\n",
       "    <tr>\n",
       "      <th>48</th>\n",
       "      <td>10028997</td>\n",
       "      <td>Злокачественное новообразование</td>\n",
       "      <td>26</td>\n",
       "    </tr>\n",
       "    <tr>\n",
       "      <th>49</th>\n",
       "      <td>10047513</td>\n",
       "      <td>Помутнение в поле зрения</td>\n",
       "      <td>25</td>\n",
       "    </tr>\n",
       "    <tr>\n",
       "      <th>50</th>\n",
       "      <td>10039906</td>\n",
       "      <td>Приступ</td>\n",
       "      <td>24</td>\n",
       "    </tr>\n",
       "  </tbody>\n",
       "</table>\n",
       "</div>"
      ],
      "text/plain": [
       "      PT код                           Название PT концепта  Кол-во примеров\n",
       "1   10011906                                         Смерть              114\n",
       "2   10020751                          Гиперчувствительность              106\n",
       "3   10037844                                           Сыпь               86\n",
       "4   10001551        Повышение уровня аланинаминотрансферазы               85\n",
       "5   10028813                                        Тошнота               77\n",
       "6   10019211                                  Головная боль               71\n",
       "7   10012735                                         Диарея               60\n",
       "8   10003481      Повышение уровня аспартатаминотрансферазы               59\n",
       "9   10013573                                 Головокружение               56\n",
       "10  10047700                                          Рвота               54\n",
       "11  10016256                                      Усталость               51\n",
       "12  10037087                                            Зуд               51\n",
       "13  10013968                                         Одышка               50\n",
       "14  10000081                                  Боль в животе               49\n",
       "15  10037660                                       Пирексия               44\n",
       "16  10014387  Удлинение интервала QT на электрокардиограмме               44\n",
       "17  10021789                                       Инфекция               42\n",
       "18  10046306             Инфекция верхних дыхательных путей               41\n",
       "19  10002198                       Анафилактическая реакция               41\n",
       "20  10002424                                      Ангиоотек               40\n",
       "21  10003549                                        Астения               39\n",
       "22  10010774                                          Запор               39\n",
       "23  10011224                                         Кашель               39\n",
       "24  10021097                                     Гипотензия               38\n",
       "25  10003239                                      Артралгия               37\n",
       "26  10054889                   Повышение уровня трансаминаз               37\n",
       "27  10035664                                      Пневмония               36\n",
       "28  10046571                   Инфекция мочевыводящих путей               35\n",
       "29  10005483            Повышение уровня креатинина в крови               35\n",
       "30  10055798                                  Кровоизлияние               35\n",
       "31  10061428                              Снижение аппетита               34\n",
       "32  10028810                                   Назофарингит               34\n",
       "33  10046735                                     Крапивница               34\n",
       "34  10020772                                    Гипертензия               32\n",
       "35  10003988                          Боль со стороны спины               31\n",
       "36  10030124                            Периферический отек               31\n",
       "37  10022437                                     Бессонница               31\n",
       "38  10013946                                      Диспепсия               31\n",
       "39  10062237                Несостоятельность функции почек               30\n",
       "40  10029354                                    Нейтропения               29\n",
       "41  10002034                                         Анемия               29\n",
       "42  10005364            Повышение уровня билирубина в крови               28\n",
       "43  10033775                                     Парестезия               27\n",
       "44  10033425                              Боль в конечности               27\n",
       "45  10018884                    Снижение уровня гемоглобина               27\n",
       "46  10022095                       Реакция в месте инъекции               26\n",
       "47  10007554                      Сердечная недостаточность               26\n",
       "48  10028997                Злокачественное новообразование               26\n",
       "49  10047513                       Помутнение в поле зрения               25\n",
       "50  10039906                                        Приступ               24"
      ]
     },
     "execution_count": 60,
     "metadata": {},
     "output_type": "execute_result"
    }
   ],
   "source": [
    "get_freq_codes_table(codes_count, num_freq_codes=50, table_fname='./Tables/%s most freq codes.xlsx'%corpus_name)"
   ]
  },
  {
   "cell_type": "code",
   "execution_count": 63,
   "id": "rocky-particle",
   "metadata": {},
   "outputs": [
    {
     "name": "stdout",
     "output_type": "stream",
     "text": [
      "tokenize phrases...\n"
     ]
    },
    {
     "name": "stderr",
     "output_type": "stream",
     "text": [
      "100%|██████████| 7045/7045 [00:25<00:00, 281.07it/s]"
     ]
    },
    {
     "name": "stdout",
     "output_type": "stream",
     "text": [
      "len ds: 101\n",
      "avg pt in text: 69.75247524752476\n",
      "avg num words in text: 2611.2178217821784\n",
      "avg num words in phrase: 2.000567778566359\n"
     ]
    },
    {
     "name": "stderr",
     "output_type": "stream",
     "text": [
      "\n"
     ]
    }
   ],
   "source": [
    "#среднее кол-во pt в тексте\n",
    "#[якорь] для удобного поиска\n",
    "avg_pt_in_text = len(all_pt_ids) / len_ds\n",
    "#среднее кол-во слов в тексте\n",
    "avg_num_words_in_text = num_ds_words / len_ds\n",
    "#средняя длина упоминания\n",
    "num_phrases_words = 0\n",
    "print('tokenize phrases...')\n",
    "for phrase in tqdm(all_pt_phrases):\n",
    "    num_phrases_words+=len(tokenize_text(phrase, cfg['lang']))\n",
    "avg_num_words_in_phrase = num_phrases_words/len(all_pt_phrases)\n",
    "print('len ds: %s\\navg pt in text: %s\\navg num words in text: %s\\navg num words in phrase: %s'%(len_ds, avg_pt_in_text, \\\n",
    "                                                       avg_num_words_in_text, \\\n",
    "                                                       avg_num_words_in_phrase,\n",
    "                                                       ))\n"
   ]
  },
  {
   "cell_type": "code",
   "execution_count": 36,
   "id": "simple-transition",
   "metadata": {
    "scrolled": true
   },
   "outputs": [],
   "source": [
    "#насколько множество pt кодов совпадает с нашим корпусом RDR?"
   ]
  },
  {
   "cell_type": "code",
   "execution_count": 64,
   "id": "spanish-closure",
   "metadata": {
    "scrolled": true
   },
   "outputs": [
    {
     "name": "stdout",
     "output_type": "stream",
     "text": [
      "num codes in intersection with RDRS: 422\n"
     ]
    }
   ],
   "source": [
    "print('num codes in intersection with RDRS: %s'%len(set.intersection(set(all_pt_ids), RDRS_PT_IDS_SET)))"
   ]
  },
  {
   "cell_type": "code",
   "execution_count": 65,
   "id": "capable-nation",
   "metadata": {},
   "outputs": [],
   "source": [
    "FULL_DS = concat_new_corp_to_ds(FULL_DS, all_pt_phrases, all_pt_ids, cfg['corp_name'], cfg['lang'])"
   ]
  },
  {
   "cell_type": "markdown",
   "id": "rough-silence",
   "metadata": {},
   "source": [
    "<h3>SMM4H 2017</h3>"
   ]
  },
  {
   "cell_type": "code",
   "execution_count": 67,
   "id": "competitive-davis",
   "metadata": {
    "scrolled": true
   },
   "outputs": [
    {
     "name": "stderr",
     "output_type": "stream",
     "text": [
      "100%|██████████| 9139/9139 [04:21<00:00, 34.97it/s]"
     ]
    },
    {
     "name": "stdout",
     "output_type": "stream",
     "text": [
      "saving corpus SMM4H 2017 statistic, lang: en, lemmatize: True\n"
     ]
    },
    {
     "name": "stderr",
     "output_type": "stream",
     "text": [
      "\n"
     ]
    }
   ],
   "source": [
    "cfg = {'corp_name': 'SMM4H 2017',\n",
    "       'lemmatize': True,\n",
    "       'lang': 'en', \n",
    "       }\n",
    "\n",
    "\n",
    "corpus_name = cfg['corp_name']\n",
    "\n",
    "\n",
    "corpus_name = 'SMM4H 2017'\n",
    "data_dir = './Raw/SMM4H_2017/'\n",
    "ds_ids = set()\n",
    "with open(data_dir + 'train.txt') as tr, open(data_dir + 'test.txt') as ts:\n",
    "    train_phrases = []\n",
    "    train_terms = []\n",
    "    train_codes = []\n",
    "    test_phrases = []\n",
    "    test_terms = []\n",
    "    test_codes = []\n",
    "    for pair in tr.read().split('\\n'):\n",
    "        if pair=='':\n",
    "            continue\n",
    "        row_inf = pair.split('\\t')\n",
    "        if row_inf[2] in mh_en.lltcode_to_ptcode.keys():\n",
    "            row_inf[2] = mh_en.lltcode_to_ptcode[row_inf[2]]\n",
    "        if row_inf[2] in mh_en.ptcodes:\n",
    "            train_phrases.append(row_inf[1])\n",
    "            train_terms.append(mh_en.ptcode_to_pt[row_inf[2]])\n",
    "            train_codes.append(row_inf[2])\n",
    "        ds_ids.add(row_inf[0])\n",
    "    for pair in ts.read().split('\\n'):\n",
    "        if pair=='':\n",
    "            continue\n",
    "        row_inf = pair.split('\\t')\n",
    "        if row_inf[2] in mh_en.lltcode_to_ptcode.keys():\n",
    "            row_inf[2] = mh_en.lltcode_to_ptcode[row_inf[2]]\n",
    "        if row_inf[2] in mh_en.ptcodes:\n",
    "            test_phrases.append(row_inf[1])\n",
    "            test_terms.append(mh_en.ptcode_to_pt[row_inf[2]])\n",
    "            test_codes.append(row_inf[2])\n",
    "        ds_ids.add(row_inf[0])\n",
    "        \n",
    "all_pt_ids = train_codes + test_codes\n",
    "all_pt_phrases = train_phrases + test_phrases\n",
    "stat_d = count_representativeness(all_pt_ids, all_pt_phrases, save_lemmas_li=True, **cfg)\n",
    "if not CorpStat.check_saved_stat_for_corp(**cfg):\n",
    "    stat_d.save_stat_for_corp()\n",
    "len_ds = len(ds_ids)"
   ]
  },
  {
   "cell_type": "code",
   "execution_count": 70,
   "id": "geographic-karma",
   "metadata": {
    "scrolled": true
   },
   "outputs": [
    {
     "name": "stdout",
     "output_type": "stream",
     "text": [
      "num concepts: 9139\n"
     ]
    }
   ],
   "source": [
    "print('num concepts: %s'%len(all_pt_ids))"
   ]
  },
  {
   "cell_type": "code",
   "execution_count": 71,
   "id": "political-climb",
   "metadata": {
    "scrolled": false
   },
   "outputs": [
    {
     "data": {
      "image/png": "[encoded data removed]",
      "text/plain": [
       "<Figure size 1440x576 with 1 Axes>"
      ]
     },
     "metadata": {
      "needs_background": "light"
     },
     "output_type": "display_data"
    },
    {
     "name": "stdout",
     "output_type": "stream",
     "text": [
      "num uniq meddra codes: 503\n",
      "num uniq phrases: 3312\n",
      "avg num uniq phrases per code: 6.6282306163021865\n"
     ]
    }
   ],
   "source": [
    "N, bins, pathes = get_hist(stat_d, n_bins = 'auto', \\\n",
    "                           figsize=(20,8), \\\n",
    "                           hist_fname='./Pictures/%s (with lemmatization).png'%corpus_name,\n",
    "                           title = 'Распределение PT кодов по кол-ву уникальных фраз в %s корпусе'%corpus_name)\n",
    "count_uniq_codes_and_phrases(stat_d)\n",
    "avg_num_phrases_per_code(stat_d)"
   ]
  },
  {
   "cell_type": "code",
   "execution_count": 72,
   "id": "joint-greeting",
   "metadata": {
    "scrolled": true
   },
   "outputs": [
    {
     "data": {
      "image/png": "[encoded data removed]",
      "text/plain": [
       "<Figure size 1440x576 with 1 Axes>"
      ]
     },
     "metadata": {
      "needs_background": "light"
     },
     "output_type": "display_data"
    }
   ],
   "source": [
    "xlim_right = 50\n",
    "N, bins, pathes = get_hist(stat_d, n_bins = 'auto', \\\n",
    "                           figsize = (20,8), \\\n",
    "                           xlim = (0, xlim_right), \\\n",
    "                           hist_fname='./Pictures/%s (with lemmatization) xlim_right %s.png'%(corpus_name, xlim_right), \n",
    "                           title = 'Распределение PT кодов по кол-ву уникальных фраз в %s корпусе (число уникальных фраз обрезано до %s)'%(corpus_name,xlim_right))"
   ]
  },
  {
   "cell_type": "code",
   "execution_count": 73,
   "id": "broken-advertiser",
   "metadata": {
    "scrolled": true
   },
   "outputs": [
    {
     "data": {
      "image/png": "[encoded data removed]",
      "text/plain": [
       "<Figure size 1080x576 with 1 Axes>"
      ]
     },
     "metadata": {
      "needs_background": "light"
     },
     "output_type": "display_data"
    }
   ],
   "source": [
    "#сформируем статистику примеров\n",
    "codes_count = Counter(all_pt_ids)\n",
    "get_freq_codes_hist(codes_count, figsize=(15, 8), num_freq_codes=50, hist_fname='./Pictures/%s freq codes.png'%corpus_name, title='Кол-во PT кодов в %s'%corpus_name)"
   ]
  },
  {
   "cell_type": "code",
   "execution_count": 74,
   "id": "excessive-fitting",
   "metadata": {},
   "outputs": [
    {
     "data": {
      "text/html": [
       "<div>\n",
       "<style scoped>\n",
       "    .dataframe tbody tr th:only-of-type {\n",
       "        vertical-align: middle;\n",
       "    }\n",
       "\n",
       "    .dataframe tbody tr th {\n",
       "        vertical-align: top;\n",
       "    }\n",
       "\n",
       "    .dataframe thead tr th {\n",
       "        text-align: left;\n",
       "    }\n",
       "</style>\n",
       "<table border=\"1\" class=\"dataframe\">\n",
       "  <thead>\n",
       "    <tr>\n",
       "      <th></th>\n",
       "      <th colspan=\"2\" halign=\"left\">Кол-во уникальных кодов после лемматизации</th>\n",
       "    </tr>\n",
       "    <tr>\n",
       "      <th></th>\n",
       "      <th>1</th>\n",
       "      <th>2</th>\n",
       "    </tr>\n",
       "  </thead>\n",
       "  <tbody>\n",
       "    <tr>\n",
       "      <th>Кол-во фраз в корпусе</th>\n",
       "      <td>8962</td>\n",
       "      <td>177</td>\n",
       "    </tr>\n",
       "  </tbody>\n",
       "</table>\n",
       "</div>"
      ],
      "text/plain": [
       "                      Кол-во уникальных кодов после лемматизации     \n",
       "                                                               1    2\n",
       "Кол-во фраз в корпусе                                       8962  177"
      ]
     },
     "execution_count": 74,
     "metadata": {},
     "output_type": "execute_result"
    }
   ],
   "source": [
    "get_phrases_unambiguity_df(all_pt_ids, load_lemmas_li(cfg['corp_name'], cfg['lang']))"
   ]
  },
  {
   "cell_type": "code",
   "execution_count": 75,
   "id": "endless-dairy",
   "metadata": {
    "scrolled": true
   },
   "outputs": [
    {
     "data": {
      "text/html": [
       "<div>\n",
       "<style scoped>\n",
       "    .dataframe tbody tr th:only-of-type {\n",
       "        vertical-align: middle;\n",
       "    }\n",
       "\n",
       "    .dataframe tbody tr th {\n",
       "        vertical-align: top;\n",
       "    }\n",
       "\n",
       "    .dataframe thead th {\n",
       "        text-align: right;\n",
       "    }\n",
       "</style>\n",
       "<table border=\"1\" class=\"dataframe\">\n",
       "  <thead>\n",
       "    <tr style=\"text-align: right;\">\n",
       "      <th></th>\n",
       "      <th>PT код</th>\n",
       "      <th>Название PT концепта</th>\n",
       "      <th>Кол-во примеров</th>\n",
       "    </tr>\n",
       "  </thead>\n",
       "  <tbody>\n",
       "    <tr>\n",
       "      <th>1</th>\n",
       "      <td>10022437</td>\n",
       "      <td>Бессонница / Insomnia</td>\n",
       "      <td>963</td>\n",
       "    </tr>\n",
       "    <tr>\n",
       "      <th>2</th>\n",
       "      <td>10048010</td>\n",
       "      <td>Абстинентный синдром / Withdrawal syndrome</td>\n",
       "      <td>605</td>\n",
       "    </tr>\n",
       "    <tr>\n",
       "      <th>3</th>\n",
       "      <td>10016256</td>\n",
       "      <td>Усталость / Fatigue</td>\n",
       "      <td>401</td>\n",
       "    </tr>\n",
       "    <tr>\n",
       "      <th>4</th>\n",
       "      <td>10041349</td>\n",
       "      <td>Сомнолентность / Somnolence</td>\n",
       "      <td>357</td>\n",
       "    </tr>\n",
       "    <tr>\n",
       "      <th>5</th>\n",
       "      <td>10033371</td>\n",
       "      <td>Боль / Pain</td>\n",
       "      <td>308</td>\n",
       "    </tr>\n",
       "    <tr>\n",
       "      <th>6</th>\n",
       "      <td>10020765</td>\n",
       "      <td>Гиперсомния / Hypersomnia</td>\n",
       "      <td>291</td>\n",
       "    </tr>\n",
       "    <tr>\n",
       "      <th>7</th>\n",
       "      <td>10047899</td>\n",
       "      <td>Увеличение веса / Weight increased</td>\n",
       "      <td>282</td>\n",
       "    </tr>\n",
       "    <tr>\n",
       "      <th>8</th>\n",
       "      <td>10016322</td>\n",
       "      <td>Плохое самочувствие / Feeling abnormal</td>\n",
       "      <td>257</td>\n",
       "    </tr>\n",
       "    <tr>\n",
       "      <th>9</th>\n",
       "      <td>10025482</td>\n",
       "      <td>Недомогание / Malaise</td>\n",
       "      <td>252</td>\n",
       "    </tr>\n",
       "    <tr>\n",
       "      <th>10</th>\n",
       "      <td>10044565</td>\n",
       "      <td>Тремор / Tremor</td>\n",
       "      <td>203</td>\n",
       "    </tr>\n",
       "    <tr>\n",
       "      <th>11</th>\n",
       "      <td>10000125</td>\n",
       "      <td>Необычные сновидения / Abnormal dreams</td>\n",
       "      <td>196</td>\n",
       "    </tr>\n",
       "    <tr>\n",
       "      <th>12</th>\n",
       "      <td>10019211</td>\n",
       "      <td>Головная боль / Headache</td>\n",
       "      <td>194</td>\n",
       "    </tr>\n",
       "    <tr>\n",
       "      <th>13</th>\n",
       "      <td>10028813</td>\n",
       "      <td>Тошнота / Nausea</td>\n",
       "      <td>147</td>\n",
       "    </tr>\n",
       "    <tr>\n",
       "      <th>14</th>\n",
       "      <td>10061428</td>\n",
       "      <td>Снижение аппетита / Decreased appetite</td>\n",
       "      <td>144</td>\n",
       "    </tr>\n",
       "    <tr>\n",
       "      <th>15</th>\n",
       "      <td>10013573</td>\n",
       "      <td>Головокружение / Dizziness</td>\n",
       "      <td>127</td>\n",
       "    </tr>\n",
       "    <tr>\n",
       "      <th>16</th>\n",
       "      <td>10020642</td>\n",
       "      <td>Гипергидроз / Hyperhidrosis</td>\n",
       "      <td>118</td>\n",
       "    </tr>\n",
       "    <tr>\n",
       "      <th>17</th>\n",
       "      <td>10020751</td>\n",
       "      <td>Гиперчувствительность / Hypersensitivity</td>\n",
       "      <td>110</td>\n",
       "    </tr>\n",
       "    <tr>\n",
       "      <th>18</th>\n",
       "      <td>10012378</td>\n",
       "      <td>Депрессия / Depression</td>\n",
       "      <td>102</td>\n",
       "    </tr>\n",
       "    <tr>\n",
       "      <th>19</th>\n",
       "      <td>10013663</td>\n",
       "      <td>Зависимость от психоактивных веществ/лекарстве...</td>\n",
       "      <td>96</td>\n",
       "    </tr>\n",
       "    <tr>\n",
       "      <th>20</th>\n",
       "      <td>10011469</td>\n",
       "      <td>Плач / Crying</td>\n",
       "      <td>92</td>\n",
       "    </tr>\n",
       "    <tr>\n",
       "      <th>21</th>\n",
       "      <td>10002855</td>\n",
       "      <td>Чувство тревоги / Anxiety</td>\n",
       "      <td>87</td>\n",
       "    </tr>\n",
       "    <tr>\n",
       "      <th>22</th>\n",
       "      <td>10020466</td>\n",
       "      <td>Голод / Hunger</td>\n",
       "      <td>86</td>\n",
       "    </tr>\n",
       "    <tr>\n",
       "      <th>23</th>\n",
       "      <td>10002368</td>\n",
       "      <td>Гнев / Anger</td>\n",
       "      <td>68</td>\n",
       "    </tr>\n",
       "    <tr>\n",
       "      <th>24</th>\n",
       "      <td>10037844</td>\n",
       "      <td>Сыпь / Rash</td>\n",
       "      <td>67</td>\n",
       "    </tr>\n",
       "    <tr>\n",
       "      <th>25</th>\n",
       "      <td>10003239</td>\n",
       "      <td>Артралгия / Arthralgia</td>\n",
       "      <td>66</td>\n",
       "    </tr>\n",
       "    <tr>\n",
       "      <th>26</th>\n",
       "      <td>10019133</td>\n",
       "      <td>Похмелье / Hangover</td>\n",
       "      <td>66</td>\n",
       "    </tr>\n",
       "    <tr>\n",
       "      <th>27</th>\n",
       "      <td>10042458</td>\n",
       "      <td>Суицидальные мысли / Suicidal ideation</td>\n",
       "      <td>66</td>\n",
       "    </tr>\n",
       "    <tr>\n",
       "      <th>28</th>\n",
       "      <td>10047700</td>\n",
       "      <td>Рвота / Vomiting</td>\n",
       "      <td>65</td>\n",
       "    </tr>\n",
       "    <tr>\n",
       "      <th>29</th>\n",
       "      <td>10047895</td>\n",
       "      <td>Снижение веса / Weight decreased</td>\n",
       "      <td>63</td>\n",
       "    </tr>\n",
       "    <tr>\n",
       "      <th>30</th>\n",
       "      <td>10067484</td>\n",
       "      <td>Нежелательная реакция / Adverse reaction</td>\n",
       "      <td>62</td>\n",
       "    </tr>\n",
       "    <tr>\n",
       "      <th>31</th>\n",
       "      <td>10022998</td>\n",
       "      <td>Раздражительность / Irritability</td>\n",
       "      <td>59</td>\n",
       "    </tr>\n",
       "    <tr>\n",
       "      <th>32</th>\n",
       "      <td>10013709</td>\n",
       "      <td>Неэффективность лекарственного препарата / Dru...</td>\n",
       "      <td>56</td>\n",
       "    </tr>\n",
       "    <tr>\n",
       "      <th>33</th>\n",
       "      <td>10040984</td>\n",
       "      <td>Расстройство сна / Sleep disorder</td>\n",
       "      <td>55</td>\n",
       "    </tr>\n",
       "    <tr>\n",
       "      <th>34</th>\n",
       "      <td>10061920</td>\n",
       "      <td>Психотическое расстройство / Psychotic disorder</td>\n",
       "      <td>55</td>\n",
       "    </tr>\n",
       "    <tr>\n",
       "      <th>35</th>\n",
       "      <td>10033557</td>\n",
       "      <td>Сердцебиение / Palpitations</td>\n",
       "      <td>54</td>\n",
       "    </tr>\n",
       "    <tr>\n",
       "      <th>36</th>\n",
       "      <td>10037087</td>\n",
       "      <td>Зуд / Pruritus</td>\n",
       "      <td>54</td>\n",
       "    </tr>\n",
       "    <tr>\n",
       "      <th>37</th>\n",
       "      <td>10037211</td>\n",
       "      <td>Психомоторная гиперактивность / Psychomotor hy...</td>\n",
       "      <td>54</td>\n",
       "    </tr>\n",
       "    <tr>\n",
       "      <th>38</th>\n",
       "      <td>10013781</td>\n",
       "      <td>Сухость во рту / Dry mouth</td>\n",
       "      <td>52</td>\n",
       "    </tr>\n",
       "    <tr>\n",
       "      <th>39</th>\n",
       "      <td>10027599</td>\n",
       "      <td>Мигрень / Migraine</td>\n",
       "      <td>51</td>\n",
       "    </tr>\n",
       "    <tr>\n",
       "      <th>40</th>\n",
       "      <td>10029412</td>\n",
       "      <td>Кошмары / Nightmare</td>\n",
       "      <td>50</td>\n",
       "    </tr>\n",
       "    <tr>\n",
       "      <th>41</th>\n",
       "      <td>10020937</td>\n",
       "      <td>Гипестезия / Hypoaesthesia</td>\n",
       "      <td>50</td>\n",
       "    </tr>\n",
       "    <tr>\n",
       "      <th>42</th>\n",
       "      <td>10015535</td>\n",
       "      <td>Эйфоричное настроение / Euphoric mood</td>\n",
       "      <td>46</td>\n",
       "    </tr>\n",
       "    <tr>\n",
       "      <th>43</th>\n",
       "      <td>10016338</td>\n",
       "      <td>Ощущение тревоги / Feeling jittery</td>\n",
       "      <td>44</td>\n",
       "    </tr>\n",
       "    <tr>\n",
       "      <th>44</th>\n",
       "      <td>10003988</td>\n",
       "      <td>Боль со стороны спины / Back pain</td>\n",
       "      <td>39</td>\n",
       "    </tr>\n",
       "    <tr>\n",
       "      <th>45</th>\n",
       "      <td>10021654</td>\n",
       "      <td>Усиление аппетита / Increased appetite</td>\n",
       "      <td>38</td>\n",
       "    </tr>\n",
       "    <tr>\n",
       "      <th>46</th>\n",
       "      <td>10003402</td>\n",
       "      <td>Ужаливание членистоногими / Arthropod sting</td>\n",
       "      <td>38</td>\n",
       "    </tr>\n",
       "    <tr>\n",
       "      <th>47</th>\n",
       "      <td>10052804</td>\n",
       "      <td>Переносимость препарата / Drug tolerance</td>\n",
       "      <td>35</td>\n",
       "    </tr>\n",
       "    <tr>\n",
       "      <th>48</th>\n",
       "      <td>10033775</td>\n",
       "      <td>Парестезия / Paraesthesia</td>\n",
       "      <td>34</td>\n",
       "    </tr>\n",
       "    <tr>\n",
       "      <th>49</th>\n",
       "      <td>10006514</td>\n",
       "      <td>Бруксизм / Bruxism</td>\n",
       "      <td>34</td>\n",
       "    </tr>\n",
       "    <tr>\n",
       "      <th>50</th>\n",
       "      <td>10027951</td>\n",
       "      <td>Перепады настроения / Mood swings</td>\n",
       "      <td>32</td>\n",
       "    </tr>\n",
       "  </tbody>\n",
       "</table>\n",
       "</div>"
      ],
      "text/plain": [
       "      PT код                               Название PT концепта  \\\n",
       "1   10022437                              Бессонница / Insomnia   \n",
       "2   10048010         Абстинентный синдром / Withdrawal syndrome   \n",
       "3   10016256                                Усталость / Fatigue   \n",
       "4   10041349                        Сомнолентность / Somnolence   \n",
       "5   10033371                                        Боль / Pain   \n",
       "6   10020765                          Гиперсомния / Hypersomnia   \n",
       "7   10047899                 Увеличение веса / Weight increased   \n",
       "8   10016322             Плохое самочувствие / Feeling abnormal   \n",
       "9   10025482                              Недомогание / Malaise   \n",
       "10  10044565                                    Тремор / Tremor   \n",
       "11  10000125             Необычные сновидения / Abnormal dreams   \n",
       "12  10019211                           Головная боль / Headache   \n",
       "13  10028813                                   Тошнота / Nausea   \n",
       "14  10061428             Снижение аппетита / Decreased appetite   \n",
       "15  10013573                         Головокружение / Dizziness   \n",
       "16  10020642                        Гипергидроз / Hyperhidrosis   \n",
       "17  10020751           Гиперчувствительность / Hypersensitivity   \n",
       "18  10012378                             Депрессия / Depression   \n",
       "19  10013663  Зависимость от психоактивных веществ/лекарстве...   \n",
       "20  10011469                                      Плач / Crying   \n",
       "21  10002855                          Чувство тревоги / Anxiety   \n",
       "22  10020466                                     Голод / Hunger   \n",
       "23  10002368                                       Гнев / Anger   \n",
       "24  10037844                                        Сыпь / Rash   \n",
       "25  10003239                             Артралгия / Arthralgia   \n",
       "26  10019133                                Похмелье / Hangover   \n",
       "27  10042458             Суицидальные мысли / Suicidal ideation   \n",
       "28  10047700                                   Рвота / Vomiting   \n",
       "29  10047895                   Снижение веса / Weight decreased   \n",
       "30  10067484           Нежелательная реакция / Adverse reaction   \n",
       "31  10022998                   Раздражительность / Irritability   \n",
       "32  10013709  Неэффективность лекарственного препарата / Dru...   \n",
       "33  10040984                  Расстройство сна / Sleep disorder   \n",
       "34  10061920    Психотическое расстройство / Psychotic disorder   \n",
       "35  10033557                        Сердцебиение / Palpitations   \n",
       "36  10037087                                     Зуд / Pruritus   \n",
       "37  10037211  Психомоторная гиперактивность / Psychomotor hy...   \n",
       "38  10013781                         Сухость во рту / Dry mouth   \n",
       "39  10027599                                 Мигрень / Migraine   \n",
       "40  10029412                                Кошмары / Nightmare   \n",
       "41  10020937                         Гипестезия / Hypoaesthesia   \n",
       "42  10015535              Эйфоричное настроение / Euphoric mood   \n",
       "43  10016338                 Ощущение тревоги / Feeling jittery   \n",
       "44  10003988                  Боль со стороны спины / Back pain   \n",
       "45  10021654             Усиление аппетита / Increased appetite   \n",
       "46  10003402        Ужаливание членистоногими / Arthropod sting   \n",
       "47  10052804           Переносимость препарата / Drug tolerance   \n",
       "48  10033775                          Парестезия / Paraesthesia   \n",
       "49  10006514                                 Бруксизм / Bruxism   \n",
       "50  10027951                  Перепады настроения / Mood swings   \n",
       "\n",
       "    Кол-во примеров  \n",
       "1               963  \n",
       "2               605  \n",
       "3               401  \n",
       "4               357  \n",
       "5               308  \n",
       "6               291  \n",
       "7               282  \n",
       "8               257  \n",
       "9               252  \n",
       "10              203  \n",
       "11              196  \n",
       "12              194  \n",
       "13              147  \n",
       "14              144  \n",
       "15              127  \n",
       "16              118  \n",
       "17              110  \n",
       "18              102  \n",
       "19               96  \n",
       "20               92  \n",
       "21               87  \n",
       "22               86  \n",
       "23               68  \n",
       "24               67  \n",
       "25               66  \n",
       "26               66  \n",
       "27               66  \n",
       "28               65  \n",
       "29               63  \n",
       "30               62  \n",
       "31               59  \n",
       "32               56  \n",
       "33               55  \n",
       "34               55  \n",
       "35               54  \n",
       "36               54  \n",
       "37               54  \n",
       "38               52  \n",
       "39               51  \n",
       "40               50  \n",
       "41               50  \n",
       "42               46  \n",
       "43               44  \n",
       "44               39  \n",
       "45               38  \n",
       "46               38  \n",
       "47               35  \n",
       "48               34  \n",
       "49               34  \n",
       "50               32  "
      ]
     },
     "execution_count": 75,
     "metadata": {},
     "output_type": "execute_result"
    }
   ],
   "source": [
    "get_freq_codes_table(codes_count, num_freq_codes=50, lang='both', table_fname='./Tables/%s most freq codes.xlsx'%corpus_name)"
   ]
  },
  {
   "cell_type": "code",
   "execution_count": 78,
   "id": "fewer-montana",
   "metadata": {},
   "outputs": [
    {
     "name": "stdout",
     "output_type": "stream",
     "text": [
      "tokenize phrases...\n"
     ]
    },
    {
     "name": "stderr",
     "output_type": "stream",
     "text": [
      "100%|██████████| 9139/9139 [00:28<00:00, 320.25it/s]"
     ]
    },
    {
     "name": "stdout",
     "output_type": "stream",
     "text": [
      "len ds: 9149\n",
      "avg pt in text: 0.9989069843698765\n",
      "avg num words in text: 2611.2178217821784\n",
      "avg num words in phrase: 2.0762665499507604\n"
     ]
    },
    {
     "name": "stderr",
     "output_type": "stream",
     "text": [
      "\n"
     ]
    }
   ],
   "source": [
    "#среднее кол-во pt в тексте\n",
    "#[якорь] для удобного поиска\n",
    "avg_pt_in_text = len(all_pt_ids) / len_ds\n",
    "#среднее кол-во слов в тексте\n",
    "#avg_num_words_in_text = num_ds_words / len_ds\n",
    "#средняя длина упоминания\n",
    "num_phrases_words = 0\n",
    "print('tokenize phrases...')\n",
    "for phrase in tqdm(all_pt_phrases):\n",
    "    num_phrases_words+=len(tokenize_text(phrase, cfg['lang']))\n",
    "avg_num_words_in_phrase = num_phrases_words/len(all_pt_phrases)\n",
    "print('len ds: %s\\navg pt in text: %s\\navg num words in text: %s\\navg num words in phrase: %s'%(len_ds, avg_pt_in_text, \\\n",
    "                                                       avg_num_words_in_text, \\\n",
    "                                                       avg_num_words_in_phrase,\n",
    "                                                       ))\n"
   ]
  },
  {
   "cell_type": "code",
   "execution_count": 79,
   "id": "short-faculty",
   "metadata": {},
   "outputs": [
    {
     "data": {
      "text/html": [
       "<div>\n",
       "<style scoped>\n",
       "    .dataframe tbody tr th:only-of-type {\n",
       "        vertical-align: middle;\n",
       "    }\n",
       "\n",
       "    .dataframe tbody tr th {\n",
       "        vertical-align: top;\n",
       "    }\n",
       "\n",
       "    .dataframe thead tr th {\n",
       "        text-align: left;\n",
       "    }\n",
       "</style>\n",
       "<table border=\"1\" class=\"dataframe\">\n",
       "  <thead>\n",
       "    <tr>\n",
       "      <th></th>\n",
       "      <th colspan=\"2\" halign=\"left\">Тестовое множество</th>\n",
       "      <th colspan=\"2\" halign=\"left\">Обучающее множество</th>\n",
       "    </tr>\n",
       "    <tr>\n",
       "      <th></th>\n",
       "      <th>Нет в тренировочном</th>\n",
       "      <th>Всего</th>\n",
       "      <th>Нет в тестовом</th>\n",
       "      <th>Всего</th>\n",
       "    </tr>\n",
       "  </thead>\n",
       "  <tbody>\n",
       "    <tr>\n",
       "      <th>Кол-во примеров</th>\n",
       "      <td>36</td>\n",
       "      <td>2496</td>\n",
       "      <td>582</td>\n",
       "      <td>6643</td>\n",
       "    </tr>\n",
       "  </tbody>\n",
       "</table>\n",
       "</div>"
      ],
      "text/plain": [
       "                 Тестовое множество       Обучающее множество      \n",
       "                Нет в тренировочном Всего      Нет в тестовом Всего\n",
       "Кол-во примеров                  36  2496                 582  6643"
      ]
     },
     "execution_count": 79,
     "metadata": {},
     "output_type": "execute_result"
    }
   ],
   "source": [
    "get_out_of_voc_table(train_codes, test_codes)"
   ]
  },
  {
   "cell_type": "code",
   "execution_count": 80,
   "id": "intense-decimal",
   "metadata": {
    "scrolled": true
   },
   "outputs": [
    {
     "name": "stdout",
     "output_type": "stream",
     "text": [
      "num codes in intersection with RDRS: 284\n"
     ]
    }
   ],
   "source": [
    "print('num codes in intersection with RDRS: %s'%len(set.intersection(set(all_pt_ids), RDRS_PT_IDS_SET)))"
   ]
  },
  {
   "cell_type": "code",
   "execution_count": 81,
   "id": "quiet-screen",
   "metadata": {},
   "outputs": [],
   "source": [
    "FULL_DS = concat_new_corp_to_ds(FULL_DS, all_pt_phrases, all_pt_ids, cfg['corp_name'], cfg['lang'])"
   ]
  },
  {
   "cell_type": "markdown",
   "id": "steady-basic",
   "metadata": {},
   "source": [
    "<h3>MedMention</h3>"
   ]
  },
  {
   "cell_type": "code",
   "execution_count": 84,
   "id": "flying-ancient",
   "metadata": {
    "scrolled": true
   },
   "outputs": [
    {
     "name": "stdout",
     "output_type": "stream",
     "text": [
      "tokenize texts...\n"
     ]
    },
    {
     "name": "stderr",
     "output_type": "stream",
     "text": [
      "365672it [13:26, 453.36it/s]                        \n"
     ]
    }
   ],
   "source": [
    "cfg = {'corp_name': 'MedMention',\n",
    "       'lemmatize': True,\n",
    "       'lang': 'en', \n",
    "       }\n",
    "\n",
    "corpus_name=cfg['corp_name']\n",
    "\n",
    "data_dir = './Raw/MedMentions/full/data/'\n",
    "num_ds_words = 0\n",
    "\n",
    "test_concepts = []\n",
    "train_concepts = []\n",
    "test_phrases = []\n",
    "train_phrases = []\n",
    "\n",
    "all_txt_ids = []\n",
    "all_pt_ids = []\n",
    "all_pt_phrases = []\n",
    "\n",
    "no_matched_umls_codes = []\n",
    "\n",
    "with open(data_dir+'corpus_pubtator_pmids_test.txt') as f:\n",
    "    test_ids = f.read().strip('\\n').split('\\n')\n",
    "    \n",
    "with open(data_dir+'corpus_pubtator_pmids_trng.txt') as f:\n",
    "    train_ids = f.read().strip('\\n').split('\\n')\n",
    "\n",
    "len_ds = len(test_ids) + len(train_ids)\n",
    "    \n",
    "with open(data_dir+'corpus_pubtator.txt') as f:\n",
    "    print('tokenize texts...')\n",
    "    for line in tqdm(f, total=len_ds):\n",
    "        if line.find('|')>0:\n",
    "            num_ds_words+=len(tokenize_text(line.split('|')[2], cfg['lang']))\n",
    "            continue\n",
    "        if line=='\\n':\n",
    "            continue\n",
    "        row_inf = line.split('\\t')\n",
    "        umls_id = row_inf[-1][:-1]\n",
    "        curr_text_id = row_inf[0]\n",
    "        phrase = row_inf[3]\n",
    "        pt_code = mh_en.force_umlscode_to_ptcode(umls_id)\n",
    "        if pt_code and pt_code in mh_en.ptcodes:\n",
    "            all_pt_ids.append(pt_code)\n",
    "        else:\n",
    "            no_matched_umls_codes.append(umls_id)\n",
    "            continue\n",
    "        if curr_text_id in test_ids:\n",
    "            test_concepts.append(pt_code)\n",
    "        elif curr_text_id in train_ids:\n",
    "            train_concepts.append(pt_code)\n",
    "        all_pt_phrases.append(phrase)\n",
    "        all_txt_ids.append(curr_text_id)\n",
    "\n",
    "len_ds = len(set(all_txt_ids))"
   ]
  },
  {
   "cell_type": "code",
   "execution_count": 85,
   "id": "related-agency",
   "metadata": {
    "scrolled": true
   },
   "outputs": [
    {
     "name": "stdout",
     "output_type": "stream",
     "text": [
      "len no matched umls codes: 316341\n",
      "len matched umls codes: 36155\n"
     ]
    }
   ],
   "source": [
    "print('len no matched umls codes: %s'%len(no_matched_umls_codes))\n",
    "print('len matched umls codes: %s'%len(all_pt_phrases))\n",
    "#если использовать только pt коды, то len no matched umls codes: 322985"
   ]
  },
  {
   "cell_type": "code",
   "execution_count": 86,
   "id": "pressing-malpractice",
   "metadata": {
    "scrolled": true
   },
   "outputs": [
    {
     "name": "stdout",
     "output_type": "stream",
     "text": [
      "num concepts: 36155\n"
     ]
    }
   ],
   "source": [
    "print('num concepts: %s'%len(all_pt_ids))"
   ]
  },
  {
   "cell_type": "code",
   "execution_count": 87,
   "id": "fundamental-nickel",
   "metadata": {
    "scrolled": true
   },
   "outputs": [
    {
     "data": {
      "text/plain": [
       "22759"
      ]
     },
     "execution_count": 87,
     "metadata": {},
     "output_type": "execute_result"
    }
   ],
   "source": [
    "len(mh_en.umlscode_to_ptcode)"
   ]
  },
  {
   "cell_type": "code",
   "execution_count": 88,
   "id": "indian-greeting",
   "metadata": {
    "scrolled": true
   },
   "outputs": [
    {
     "name": "stderr",
     "output_type": "stream",
     "text": [
      "100%|██████████| 36155/36155 [20:55<00:00, 28.80it/s]\n"
     ]
    },
    {
     "name": "stdout",
     "output_type": "stream",
     "text": [
      "saving corpus MedMention statistic, lang: en, lemmatize: True\n"
     ]
    }
   ],
   "source": [
    "stat_d = count_representativeness(all_pt_ids, all_pt_phrases, save_lemmas_li = True, **cfg)\n",
    "if not CorpStat.check_saved_stat_for_corp(**cfg):\n",
    "    stat_d.save_stat_for_corp()"
   ]
  },
  {
   "cell_type": "code",
   "execution_count": 95,
   "id": "through-balance",
   "metadata": {
    "scrolled": true
   },
   "outputs": [
    {
     "data": {
      "image/png": "[encoded data removed]",
      "text/plain": [
       "<Figure size 1440x576 with 1 Axes>"
      ]
     },
     "metadata": {
      "needs_background": "light"
     },
     "output_type": "display_data"
    },
    {
     "name": "stdout",
     "output_type": "stream",
     "text": [
      "num uniq meddra codes: 3284\n",
      "num uniq phrases: 9111\n",
      "avg num uniq phrases per code: 2.922655298416565\n"
     ]
    }
   ],
   "source": [
    "N, bins, pathes = get_hist(stat_d, n_bins = 'auto', \\\n",
    "                           figsize=(20,8), \\\n",
    "                           hist_fname='./Pictures/%s (with lemmatization).png'%corpus_name,\n",
    "                           title = 'Распределение PT кодов по кол-ву уникальных фраз в %s корпусе'%corpus_name)\n",
    "count_uniq_codes_and_phrases(stat_d)\n",
    "avg_num_phrases_per_code(stat_d)"
   ]
  },
  {
   "cell_type": "code",
   "execution_count": 96,
   "id": "effective-playing",
   "metadata": {
    "scrolled": true
   },
   "outputs": [
    {
     "data": {
      "image/png": "[encoded data removed]",
      "text/plain": [
       "<Figure size 1440x576 with 1 Axes>"
      ]
     },
     "metadata": {
      "needs_background": "light"
     },
     "output_type": "display_data"
    }
   ],
   "source": [
    "xlim_right = 30\n",
    "N, bins, pathes = get_hist(stat_d, n_bins = 'auto', \\\n",
    "                           figsize = (20,8), \\\n",
    "                           xlim = (0, xlim_right), \\\n",
    "                           hist_fname='./Pictures/%s (with lemmatization) xlim_right %s.png'%(corpus_name, xlim_right), \n",
    "                           title = 'Распределение PT кодов по кол-ву уникальных фраз в %s корпусе (число уникальных фраз обрезано до %s)'%(corpus_name,xlim_right))"
   ]
  },
  {
   "cell_type": "code",
   "execution_count": 97,
   "id": "antique-controversy",
   "metadata": {
    "scrolled": true
   },
   "outputs": [
    {
     "data": {
      "image/png": "[encoded data removed]",
      "text/plain": [
       "<Figure size 1080x576 with 1 Axes>"
      ]
     },
     "metadata": {
      "needs_background": "light"
     },
     "output_type": "display_data"
    }
   ],
   "source": [
    "#сформируем статистику примеров\n",
    "codes_count = Counter(all_pt_ids)\n",
    "get_freq_codes_hist(codes_count, figsize=(15, 8), num_freq_codes=50, hist_fname='./Pictures/%s freq codes.png'%corpus_name, title='Кол-во PT кодов в %s'%corpus_name)"
   ]
  },
  {
   "cell_type": "code",
   "execution_count": 98,
   "id": "magnetic-seminar",
   "metadata": {},
   "outputs": [
    {
     "data": {
      "text/html": [
       "<div>\n",
       "<style scoped>\n",
       "    .dataframe tbody tr th:only-of-type {\n",
       "        vertical-align: middle;\n",
       "    }\n",
       "\n",
       "    .dataframe tbody tr th {\n",
       "        vertical-align: top;\n",
       "    }\n",
       "\n",
       "    .dataframe thead tr th {\n",
       "        text-align: left;\n",
       "    }\n",
       "</style>\n",
       "<table border=\"1\" class=\"dataframe\">\n",
       "  <thead>\n",
       "    <tr>\n",
       "      <th></th>\n",
       "      <th colspan=\"10\" halign=\"left\">Кол-во уникальных кодов после лемматизации</th>\n",
       "    </tr>\n",
       "    <tr>\n",
       "      <th></th>\n",
       "      <th>1</th>\n",
       "      <th>2</th>\n",
       "      <th>3</th>\n",
       "      <th>4</th>\n",
       "      <th>5</th>\n",
       "      <th>6</th>\n",
       "      <th>7</th>\n",
       "      <th>8</th>\n",
       "      <th>13</th>\n",
       "      <th>14</th>\n",
       "    </tr>\n",
       "  </thead>\n",
       "  <tbody>\n",
       "    <tr>\n",
       "      <th>Кол-во фраз в корпусе</th>\n",
       "      <td>27862</td>\n",
       "      <td>5271</td>\n",
       "      <td>1328</td>\n",
       "      <td>836</td>\n",
       "      <td>100</td>\n",
       "      <td>288</td>\n",
       "      <td>9</td>\n",
       "      <td>325</td>\n",
       "      <td>19</td>\n",
       "      <td>117</td>\n",
       "    </tr>\n",
       "  </tbody>\n",
       "</table>\n",
       "</div>"
      ],
      "text/plain": [
       "                      Кол-во уникальных кодов после лемматизации              \\\n",
       "                                                              1     2     3    \n",
       "Кол-во фраз в корпусе                                      27862  5271  1328   \n",
       "\n",
       "                                                       \n",
       "                        4    5    6  7    8   13   14  \n",
       "Кол-во фраз в корпусе  836  100  288  9  325  19  117  "
      ]
     },
     "execution_count": 98,
     "metadata": {},
     "output_type": "execute_result"
    }
   ],
   "source": [
    "get_phrases_unambiguity_df(all_pt_ids, load_lemmas_li(cfg['corp_name'], cfg['lang']))"
   ]
  },
  {
   "cell_type": "code",
   "execution_count": 99,
   "id": "sharp-check",
   "metadata": {
    "scrolled": true
   },
   "outputs": [
    {
     "data": {
      "text/html": [
       "<div>\n",
       "<style scoped>\n",
       "    .dataframe tbody tr th:only-of-type {\n",
       "        vertical-align: middle;\n",
       "    }\n",
       "\n",
       "    .dataframe tbody tr th {\n",
       "        vertical-align: top;\n",
       "    }\n",
       "\n",
       "    .dataframe thead th {\n",
       "        text-align: right;\n",
       "    }\n",
       "</style>\n",
       "<table border=\"1\" class=\"dataframe\">\n",
       "  <thead>\n",
       "    <tr style=\"text-align: right;\">\n",
       "      <th></th>\n",
       "      <th>PT код</th>\n",
       "      <th>Название PT концепта</th>\n",
       "      <th>Кол-во примеров</th>\n",
       "    </tr>\n",
       "  </thead>\n",
       "  <tbody>\n",
       "    <tr>\n",
       "      <th>1</th>\n",
       "      <td>10053757</td>\n",
       "      <td>Терапевтическая процедура / Therapeutic procedure</td>\n",
       "      <td>1669</td>\n",
       "    </tr>\n",
       "    <tr>\n",
       "      <th>2</th>\n",
       "      <td>10042609</td>\n",
       "      <td>Оперативное лечение / Surgery</td>\n",
       "      <td>476</td>\n",
       "    </tr>\n",
       "    <tr>\n",
       "      <th>3</th>\n",
       "      <td>10059938</td>\n",
       "      <td>Лабораторный анализ / Laboratory test</td>\n",
       "      <td>417</td>\n",
       "    </tr>\n",
       "    <tr>\n",
       "      <th>4</th>\n",
       "      <td>10028980</td>\n",
       "      <td>Новообразование / Neoplasm</td>\n",
       "      <td>410</td>\n",
       "    </tr>\n",
       "    <tr>\n",
       "      <th>5</th>\n",
       "      <td>10021789</td>\n",
       "      <td>Инфекция / Infection</td>\n",
       "      <td>351</td>\n",
       "    </tr>\n",
       "    <tr>\n",
       "      <th>6</th>\n",
       "      <td>10075978</td>\n",
       "      <td>Интервенционная процедура / Interventional pro...</td>\n",
       "      <td>319</td>\n",
       "    </tr>\n",
       "    <tr>\n",
       "      <th>7</th>\n",
       "      <td>10028997</td>\n",
       "      <td>Злокачественное новообразование / Neoplasm mal...</td>\n",
       "      <td>287</td>\n",
       "    </tr>\n",
       "    <tr>\n",
       "      <th>8</th>\n",
       "      <td>10029883</td>\n",
       "      <td>Ожирение / Obesity</td>\n",
       "      <td>282</td>\n",
       "    </tr>\n",
       "    <tr>\n",
       "      <th>9</th>\n",
       "      <td>10021731</td>\n",
       "      <td>Младенческий возраст / Infant</td>\n",
       "      <td>261</td>\n",
       "    </tr>\n",
       "    <tr>\n",
       "      <th>10</th>\n",
       "      <td>10006187</td>\n",
       "      <td>Рак молочной железы / Breast cancer</td>\n",
       "      <td>258</td>\n",
       "    </tr>\n",
       "    <tr>\n",
       "      <th>11</th>\n",
       "      <td>10061816</td>\n",
       "      <td>Диагностическая процедура / Diagnostic procedure</td>\n",
       "      <td>257</td>\n",
       "    </tr>\n",
       "    <tr>\n",
       "      <th>12</th>\n",
       "      <td>10059512</td>\n",
       "      <td>Апоптоз / Apoptosis</td>\n",
       "      <td>252</td>\n",
       "    </tr>\n",
       "    <tr>\n",
       "      <th>13</th>\n",
       "      <td>10061218</td>\n",
       "      <td>Воспаление / Inflammation</td>\n",
       "      <td>248</td>\n",
       "    </tr>\n",
       "    <tr>\n",
       "      <th>14</th>\n",
       "      <td>10022116</td>\n",
       "      <td>Повреждение / Injury</td>\n",
       "      <td>218</td>\n",
       "    </tr>\n",
       "    <tr>\n",
       "      <th>15</th>\n",
       "      <td>10012378</td>\n",
       "      <td>Депрессия / Depression</td>\n",
       "      <td>211</td>\n",
       "    </tr>\n",
       "    <tr>\n",
       "      <th>16</th>\n",
       "      <td>10033371</td>\n",
       "      <td>Боль / Pain</td>\n",
       "      <td>207</td>\n",
       "    </tr>\n",
       "    <tr>\n",
       "      <th>17</th>\n",
       "      <td>10020772</td>\n",
       "      <td>Гипертензия / Hypertension</td>\n",
       "      <td>186</td>\n",
       "    </tr>\n",
       "    <tr>\n",
       "      <th>18</th>\n",
       "      <td>10023192</td>\n",
       "      <td>Смена работы / Job change</td>\n",
       "      <td>184</td>\n",
       "    </tr>\n",
       "    <tr>\n",
       "      <th>19</th>\n",
       "      <td>10067585</td>\n",
       "      <td>Сахарный диабет 2 типа / Type 2 diabetes mellitus</td>\n",
       "      <td>183</td>\n",
       "    </tr>\n",
       "    <tr>\n",
       "      <th>20</th>\n",
       "      <td>10010234</td>\n",
       "      <td>Компьютерная томограмма / Computerised tomogram</td>\n",
       "      <td>179</td>\n",
       "    </tr>\n",
       "    <tr>\n",
       "      <th>21</th>\n",
       "      <td>10061346</td>\n",
       "      <td>рН биологической жидкости / pH body fluid</td>\n",
       "      <td>177</td>\n",
       "    </tr>\n",
       "    <tr>\n",
       "      <th>22</th>\n",
       "      <td>10012271</td>\n",
       "      <td>Деменция при болезни Альцгеймера / Dementia Al...</td>\n",
       "      <td>176</td>\n",
       "    </tr>\n",
       "    <tr>\n",
       "      <th>23</th>\n",
       "      <td>10036556</td>\n",
       "      <td>Беременность / Pregnancy</td>\n",
       "      <td>176</td>\n",
       "    </tr>\n",
       "    <tr>\n",
       "      <th>24</th>\n",
       "      <td>10060862</td>\n",
       "      <td>Рак предстательной железы / Prostate cancer</td>\n",
       "      <td>157</td>\n",
       "    </tr>\n",
       "    <tr>\n",
       "      <th>25</th>\n",
       "      <td>10044755</td>\n",
       "      <td>Туберкулез / Tuberculosis</td>\n",
       "      <td>154</td>\n",
       "    </tr>\n",
       "    <tr>\n",
       "      <th>26</th>\n",
       "      <td>10007649</td>\n",
       "      <td>Сердечно-сосудистая патология / Cardiovascular...</td>\n",
       "      <td>153</td>\n",
       "    </tr>\n",
       "    <tr>\n",
       "      <th>27</th>\n",
       "      <td>10015867</td>\n",
       "      <td>Выход крови из сосудистого русла / Extravasati...</td>\n",
       "      <td>151</td>\n",
       "    </tr>\n",
       "    <tr>\n",
       "      <th>28</th>\n",
       "      <td>10062297</td>\n",
       "      <td>Иммунологическое исследование / Immunology test</td>\n",
       "      <td>150</td>\n",
       "    </tr>\n",
       "    <tr>\n",
       "      <th>29</th>\n",
       "      <td>10061536</td>\n",
       "      <td>Болезнь Паркинсона / Parkinson's disease</td>\n",
       "      <td>149</td>\n",
       "    </tr>\n",
       "    <tr>\n",
       "      <th>30</th>\n",
       "      <td>10080562</td>\n",
       "      <td>Окислительный стресс / Oxidative stress</td>\n",
       "      <td>141</td>\n",
       "    </tr>\n",
       "    <tr>\n",
       "      <th>31</th>\n",
       "      <td>10008190</td>\n",
       "      <td>Острое нарушение мозгового кровообращения / Ce...</td>\n",
       "      <td>137</td>\n",
       "    </tr>\n",
       "    <tr>\n",
       "      <th>32</th>\n",
       "      <td>10057668</td>\n",
       "      <td>Когнитивное нарушение / Cognitive disorder</td>\n",
       "      <td>136</td>\n",
       "    </tr>\n",
       "    <tr>\n",
       "      <th>33</th>\n",
       "      <td>10061758</td>\n",
       "      <td>Химиотерапия / Chemotherapy</td>\n",
       "      <td>131</td>\n",
       "    </tr>\n",
       "    <tr>\n",
       "      <th>34</th>\n",
       "      <td>10062194</td>\n",
       "      <td>Метастаз / Metastasis</td>\n",
       "      <td>131</td>\n",
       "    </tr>\n",
       "    <tr>\n",
       "      <th>35</th>\n",
       "      <td>10037794</td>\n",
       "      <td>Лучевая терапия / Radiotherapy</td>\n",
       "      <td>129</td>\n",
       "    </tr>\n",
       "    <tr>\n",
       "      <th>36</th>\n",
       "      <td>10059866</td>\n",
       "      <td>Резистентность к лекарственному препарату / Dr...</td>\n",
       "      <td>128</td>\n",
       "    </tr>\n",
       "    <tr>\n",
       "      <th>37</th>\n",
       "      <td>10039626</td>\n",
       "      <td>Шизофрения / Schizophrenia</td>\n",
       "      <td>126</td>\n",
       "    </tr>\n",
       "    <tr>\n",
       "      <th>38</th>\n",
       "      <td>10073071</td>\n",
       "      <td>Гепатоцеллюлярная карцинома / Hepatocellular c...</td>\n",
       "      <td>125</td>\n",
       "    </tr>\n",
       "    <tr>\n",
       "      <th>39</th>\n",
       "      <td>10061818</td>\n",
       "      <td>Прогрессирование заболевания / Disease progres...</td>\n",
       "      <td>122</td>\n",
       "    </tr>\n",
       "    <tr>\n",
       "      <th>40</th>\n",
       "      <td>10021143</td>\n",
       "      <td>Гипоксия / Hypoxia</td>\n",
       "      <td>118</td>\n",
       "    </tr>\n",
       "    <tr>\n",
       "      <th>41</th>\n",
       "      <td>10003553</td>\n",
       "      <td>Астма / Asthma</td>\n",
       "      <td>116</td>\n",
       "    </tr>\n",
       "    <tr>\n",
       "      <th>42</th>\n",
       "      <td>10020161</td>\n",
       "      <td>ВИЧ-инфекция / HIV infection</td>\n",
       "      <td>113</td>\n",
       "    </tr>\n",
       "    <tr>\n",
       "      <th>43</th>\n",
       "      <td>10061451</td>\n",
       "      <td>Рак толстой и прямой кишки / Colorectal cancer</td>\n",
       "      <td>112</td>\n",
       "    </tr>\n",
       "    <tr>\n",
       "      <th>44</th>\n",
       "      <td>10045434</td>\n",
       "      <td>Ультразвуковое исследование / Ultrasound scan</td>\n",
       "      <td>111</td>\n",
       "    </tr>\n",
       "    <tr>\n",
       "      <th>45</th>\n",
       "      <td>10012601</td>\n",
       "      <td>Сахарный диабет / Diabetes mellitus</td>\n",
       "      <td>111</td>\n",
       "    </tr>\n",
       "    <tr>\n",
       "      <th>46</th>\n",
       "      <td>10061284</td>\n",
       "      <td>Психологическое расстройство / Mental disorder</td>\n",
       "      <td>108</td>\n",
       "    </tr>\n",
       "    <tr>\n",
       "      <th>47</th>\n",
       "      <td>10042209</td>\n",
       "      <td>Стресс / Stress</td>\n",
       "      <td>105</td>\n",
       "    </tr>\n",
       "    <tr>\n",
       "      <th>48</th>\n",
       "      <td>10003658</td>\n",
       "      <td>Фибрилляция предсердий / Atrial fibrillation</td>\n",
       "      <td>104</td>\n",
       "    </tr>\n",
       "    <tr>\n",
       "      <th>49</th>\n",
       "      <td>10009033</td>\n",
       "      <td>Хроническая обструктивная болезнь легких / Chr...</td>\n",
       "      <td>104</td>\n",
       "    </tr>\n",
       "    <tr>\n",
       "      <th>50</th>\n",
       "      <td>10011906</td>\n",
       "      <td>Смерть / Death</td>\n",
       "      <td>103</td>\n",
       "    </tr>\n",
       "  </tbody>\n",
       "</table>\n",
       "</div>"
      ],
      "text/plain": [
       "      PT код                               Название PT концепта  \\\n",
       "1   10053757  Терапевтическая процедура / Therapeutic procedure   \n",
       "2   10042609                      Оперативное лечение / Surgery   \n",
       "3   10059938              Лабораторный анализ / Laboratory test   \n",
       "4   10028980                         Новообразование / Neoplasm   \n",
       "5   10021789                               Инфекция / Infection   \n",
       "6   10075978  Интервенционная процедура / Interventional pro...   \n",
       "7   10028997  Злокачественное новообразование / Neoplasm mal...   \n",
       "8   10029883                                 Ожирение / Obesity   \n",
       "9   10021731                      Младенческий возраст / Infant   \n",
       "10  10006187                Рак молочной железы / Breast cancer   \n",
       "11  10061816   Диагностическая процедура / Diagnostic procedure   \n",
       "12  10059512                                Апоптоз / Apoptosis   \n",
       "13  10061218                          Воспаление / Inflammation   \n",
       "14  10022116                               Повреждение / Injury   \n",
       "15  10012378                             Депрессия / Depression   \n",
       "16  10033371                                        Боль / Pain   \n",
       "17  10020772                         Гипертензия / Hypertension   \n",
       "18  10023192                          Смена работы / Job change   \n",
       "19  10067585  Сахарный диабет 2 типа / Type 2 diabetes mellitus   \n",
       "20  10010234    Компьютерная томограмма / Computerised tomogram   \n",
       "21  10061346          рН биологической жидкости / pH body fluid   \n",
       "22  10012271  Деменция при болезни Альцгеймера / Dementia Al...   \n",
       "23  10036556                           Беременность / Pregnancy   \n",
       "24  10060862        Рак предстательной железы / Prostate cancer   \n",
       "25  10044755                          Туберкулез / Tuberculosis   \n",
       "26  10007649  Сердечно-сосудистая патология / Cardiovascular...   \n",
       "27  10015867  Выход крови из сосудистого русла / Extravasati...   \n",
       "28  10062297    Иммунологическое исследование / Immunology test   \n",
       "29  10061536           Болезнь Паркинсона / Parkinson's disease   \n",
       "30  10080562            Окислительный стресс / Oxidative stress   \n",
       "31  10008190  Острое нарушение мозгового кровообращения / Ce...   \n",
       "32  10057668         Когнитивное нарушение / Cognitive disorder   \n",
       "33  10061758                        Химиотерапия / Chemotherapy   \n",
       "34  10062194                              Метастаз / Metastasis   \n",
       "35  10037794                     Лучевая терапия / Radiotherapy   \n",
       "36  10059866  Резистентность к лекарственному препарату / Dr...   \n",
       "37  10039626                         Шизофрения / Schizophrenia   \n",
       "38  10073071  Гепатоцеллюлярная карцинома / Hepatocellular c...   \n",
       "39  10061818  Прогрессирование заболевания / Disease progres...   \n",
       "40  10021143                                 Гипоксия / Hypoxia   \n",
       "41  10003553                                     Астма / Asthma   \n",
       "42  10020161                       ВИЧ-инфекция / HIV infection   \n",
       "43  10061451     Рак толстой и прямой кишки / Colorectal cancer   \n",
       "44  10045434      Ультразвуковое исследование / Ultrasound scan   \n",
       "45  10012601                Сахарный диабет / Diabetes mellitus   \n",
       "46  10061284     Психологическое расстройство / Mental disorder   \n",
       "47  10042209                                    Стресс / Stress   \n",
       "48  10003658       Фибрилляция предсердий / Atrial fibrillation   \n",
       "49  10009033  Хроническая обструктивная болезнь легких / Chr...   \n",
       "50  10011906                                     Смерть / Death   \n",
       "\n",
       "    Кол-во примеров  \n",
       "1              1669  \n",
       "2               476  \n",
       "3               417  \n",
       "4               410  \n",
       "5               351  \n",
       "6               319  \n",
       "7               287  \n",
       "8               282  \n",
       "9               261  \n",
       "10              258  \n",
       "11              257  \n",
       "12              252  \n",
       "13              248  \n",
       "14              218  \n",
       "15              211  \n",
       "16              207  \n",
       "17              186  \n",
       "18              184  \n",
       "19              183  \n",
       "20              179  \n",
       "21              177  \n",
       "22              176  \n",
       "23              176  \n",
       "24              157  \n",
       "25              154  \n",
       "26              153  \n",
       "27              151  \n",
       "28              150  \n",
       "29              149  \n",
       "30              141  \n",
       "31              137  \n",
       "32              136  \n",
       "33              131  \n",
       "34              131  \n",
       "35              129  \n",
       "36              128  \n",
       "37              126  \n",
       "38              125  \n",
       "39              122  \n",
       "40              118  \n",
       "41              116  \n",
       "42              113  \n",
       "43              112  \n",
       "44              111  \n",
       "45              111  \n",
       "46              108  \n",
       "47              105  \n",
       "48              104  \n",
       "49              104  \n",
       "50              103  "
      ]
     },
     "execution_count": 99,
     "metadata": {},
     "output_type": "execute_result"
    }
   ],
   "source": [
    "get_freq_codes_table(codes_count, lang='both', num_freq_codes=50, table_fname='./Tables/%s most freq codes.xlsx'%corpus_name)"
   ]
  },
  {
   "cell_type": "code",
   "execution_count": 100,
   "id": "studied-numbers",
   "metadata": {},
   "outputs": [
    {
     "name": "stdout",
     "output_type": "stream",
     "text": [
      "tokenize phrases...\n"
     ]
    },
    {
     "name": "stderr",
     "output_type": "stream",
     "text": [
      "100%|██████████| 36155/36155 [01:53<00:00, 318.87it/s]"
     ]
    },
    {
     "name": "stdout",
     "output_type": "stream",
     "text": [
      "len ds: 3577\n",
      "avg pt in text: 10.107632093933464\n",
      "avg num words in text: 335.0581492871121\n",
      "avg num words in phrase: 1.5769879684690915\n"
     ]
    },
    {
     "name": "stderr",
     "output_type": "stream",
     "text": [
      "\n"
     ]
    }
   ],
   "source": [
    "#среднее кол-во pt в тексте\n",
    "#[якорь] для удобного поиска\n",
    "avg_pt_in_text = len(all_pt_ids) / len_ds\n",
    "#среднее кол-во слов в тексте\n",
    "avg_num_words_in_text = num_ds_words / len_ds\n",
    "#средняя длина упоминания\n",
    "num_phrases_words = 0\n",
    "print('tokenize phrases...')\n",
    "for phrase in tqdm(all_pt_phrases):\n",
    "    num_phrases_words+=len(tokenize_text(phrase, cfg['lang']))\n",
    "avg_num_words_in_phrase = num_phrases_words/len(all_pt_phrases)\n",
    "print('len ds: %s\\navg pt in text: %s\\navg num words in text: %s\\navg num words in phrase: %s'%(len_ds, avg_pt_in_text, \\\n",
    "                                                       avg_num_words_in_text, \\\n",
    "                                                       avg_num_words_in_phrase,\n",
    "                                                       ))"
   ]
  },
  {
   "cell_type": "code",
   "execution_count": 101,
   "id": "cordless-hawaii",
   "metadata": {},
   "outputs": [
    {
     "data": {
      "text/html": [
       "<div>\n",
       "<style scoped>\n",
       "    .dataframe tbody tr th:only-of-type {\n",
       "        vertical-align: middle;\n",
       "    }\n",
       "\n",
       "    .dataframe tbody tr th {\n",
       "        vertical-align: top;\n",
       "    }\n",
       "\n",
       "    .dataframe thead tr th {\n",
       "        text-align: left;\n",
       "    }\n",
       "</style>\n",
       "<table border=\"1\" class=\"dataframe\">\n",
       "  <thead>\n",
       "    <tr>\n",
       "      <th></th>\n",
       "      <th colspan=\"2\" halign=\"left\">Тестовое множество</th>\n",
       "      <th colspan=\"2\" halign=\"left\">Обучающее множество</th>\n",
       "    </tr>\n",
       "    <tr>\n",
       "      <th></th>\n",
       "      <th>Нет в тренировочном</th>\n",
       "      <th>Всего</th>\n",
       "      <th>Нет в тестовом</th>\n",
       "      <th>Всего</th>\n",
       "    </tr>\n",
       "  </thead>\n",
       "  <tbody>\n",
       "    <tr>\n",
       "      <th>Кол-во примеров</th>\n",
       "      <td>1096</td>\n",
       "      <td>7022</td>\n",
       "      <td>6509</td>\n",
       "      <td>22031</td>\n",
       "    </tr>\n",
       "  </tbody>\n",
       "</table>\n",
       "</div>"
      ],
      "text/plain": [
       "                 Тестовое множество       Обучающее множество       \n",
       "                Нет в тренировочном Всего      Нет в тестовом  Всего\n",
       "Кол-во примеров                1096  7022                6509  22031"
      ]
     },
     "execution_count": 101,
     "metadata": {},
     "output_type": "execute_result"
    }
   ],
   "source": [
    "get_out_of_voc_table(train_concepts, test_concepts)"
   ]
  },
  {
   "cell_type": "code",
   "execution_count": 102,
   "id": "smaller-culture",
   "metadata": {},
   "outputs": [],
   "source": [
    "FULL_DS = concat_new_corp_to_ds(FULL_DS, all_pt_phrases, all_pt_ids, cfg['corp_name'], cfg['lang'])"
   ]
  },
  {
   "cell_type": "markdown",
   "id": "respiratory-quebec",
   "metadata": {},
   "source": [
    "<h3>PsyTar origin (из коробки, без моей обработки и токенизации)</h3>"
   ]
  },
  {
   "cell_type": "code",
   "execution_count": 104,
   "id": "valued-corpus",
   "metadata": {
    "scrolled": true
   },
   "outputs": [],
   "source": [
    "cfg = {'corp_name': 'PsyTar',\n",
    "       'lemmatize': True,\n",
    "       'lang': 'en', \n",
    "       }\n",
    "\n",
    "corpus_name=cfg['corp_name']\n",
    "\n",
    "\n",
    "df = pd.read_excel(\"./Raw/PsyTAR_origin/PsyTAR_dataset.xlsx\", sheet_name=None, engine='openpyxl')\n",
    "df = {'ADRs': df['ADR_Mapped'], 'WDs': df['WD-Mapped '], 'SSI': df['SSI_Mapped'], 'DIs': df['DI_Mapped']}"
   ]
  },
  {
   "cell_type": "code",
   "execution_count": 105,
   "id": "lesbian-claim",
   "metadata": {
    "scrolled": true
   },
   "outputs": [
    {
     "name": "stdout",
     "output_type": "stream",
     "text": [
      "['some sleepiness ', 'excessive yawning', 'at first, headache', 'at first, nausea', 'at first, trembling belly', 'at first, loss of appetite', 'vivid dreams ', 'nightmares', 'libido is low', 'low sex drive']\n",
      "['10022437', '10048232', '10019211', '10028813', '10000059', '10061428', '10000125', '10029412', '10024419', '10024419']\n",
      "['Insomnia', 'Yawning', 'Headache', 'Nausea', 'Abdominal discomfort', 'Decreased appetite', 'Abnormal dreams', 'Nightmare', 'Libido decreased', 'Libido decreased']\n"
     ]
    }
   ],
   "source": [
    "all_pt_ids = []\n",
    "all_pt_phrases = []\n",
    "\n",
    "\n",
    "for k in df:\n",
    "    #df[k] = df[k].apply(lambda x: re.sub('\\s+', '', x[x.name].split('/')[0]) if x.name == 'UMLS1' or x.name == 'UMLS2' else x)\n",
    "    df[k]['UMLS1'] = df[k]['UMLS1'].apply(lambda x: re.sub('\\s+', '', x.split('/')[0].upper()))\n",
    "    df[k]['UMLS2'] = df[k]['UMLS2'].apply(lambda x: re.sub('\\s+', '', x.split('/')[0].upper()) if pd.notna(x) else x)\n",
    "    #из двух umls выбираем тот, у которого есть pt код\n",
    "    df[k]['UMLS'] = df[k]['UMLS1']\n",
    "    mask_no_pt_codes = df[k]['UMLS1'].apply(lambda x: False if mh_en.force_umlscode_to_ptcode(x) else True)\n",
    "    #заменили на UMLS2 у которого может быть pt code, если UMLS2 нет, тогда ставится NaN\n",
    "    df[k].loc[mask_no_pt_codes, 'UMLS'] = df[k]['UMLS2'][mask_no_pt_codes]\n",
    "    df[k]['pt_meddra'] = df[k]['UMLS'].apply(lambda x: mh_en.force_umlscode_to_ptcode(x))\n",
    "    df[k] = df[k][df[k]['pt_meddra'].notna()]\n",
    "    pt_ids = df[k]['pt_meddra'].to_list()\n",
    "    phrases_li = df[k][k].to_list()\n",
    "    \n",
    "    all_pt_phrases.extend(phrases_li)\n",
    "    all_pt_ids.extend(pt_ids)\n",
    "    \n",
    "print(all_pt_phrases[700:710])\n",
    "print(all_pt_ids[700:710])\n",
    "print([mh_en.ptcode_to_pt[code] for code in all_pt_ids[700:710]])"
   ]
  },
  {
   "cell_type": "code",
   "execution_count": 106,
   "id": "spoken-operations",
   "metadata": {
    "scrolled": true
   },
   "outputs": [
    {
     "name": "stderr",
     "output_type": "stream",
     "text": [
      "100%|██████████| 6300/6300 [03:08<00:00, 33.49it/s]"
     ]
    },
    {
     "name": "stdout",
     "output_type": "stream",
     "text": [
      "saving corpus PsyTar statistic, lang: en, lemmatize: True\n"
     ]
    },
    {
     "name": "stderr",
     "output_type": "stream",
     "text": [
      "\n"
     ]
    }
   ],
   "source": [
    "stat_d = count_representativeness(all_pt_ids, all_pt_phrases, save_lemmas_li=True, **cfg)\n",
    "if not CorpStat.check_saved_stat_for_corp(**cfg):\n",
    "    stat_d.save_stat_for_corp()"
   ]
  },
  {
   "cell_type": "code",
   "execution_count": 107,
   "id": "exempt-scanner",
   "metadata": {
    "scrolled": true
   },
   "outputs": [
    {
     "name": "stdout",
     "output_type": "stream",
     "text": [
      "num concepts: 6300\n"
     ]
    }
   ],
   "source": [
    "print('num concepts: %s'%len(all_pt_ids))"
   ]
  },
  {
   "cell_type": "code",
   "execution_count": 108,
   "id": "declared-forest",
   "metadata": {
    "scrolled": true
   },
   "outputs": [
    {
     "data": {
      "image/png": "[encoded data removed]",
      "text/plain": [
       "<Figure size 1440x576 with 1 Axes>"
      ]
     },
     "metadata": {
      "needs_background": "light"
     },
     "output_type": "display_data"
    },
    {
     "name": "stdout",
     "output_type": "stream",
     "text": [
      "num uniq meddra codes: 398\n",
      "num uniq phrases: 2916\n",
      "avg num uniq phrases per code: 7.381909547738694\n"
     ]
    }
   ],
   "source": [
    "N, bins, pathes = get_hist(stat_d, n_bins = 'auto', \\\n",
    "                           figsize=(20,8), \\\n",
    "                           hist_fname='./Pictures/%s (with lemmatization).png'%corpus_name,\n",
    "                           title = 'Распределение PT кодов по кол-ву уникальных фраз в %s корпусе'%corpus_name)\n",
    "count_uniq_codes_and_phrases(stat_d)\n",
    "avg_num_phrases_per_code(stat_d)"
   ]
  },
  {
   "cell_type": "code",
   "execution_count": 109,
   "id": "adopted-recycling",
   "metadata": {
    "scrolled": true
   },
   "outputs": [
    {
     "data": {
      "image/png": "[encoded data removed]",
      "text/plain": [
       "<Figure size 1080x576 with 1 Axes>"
      ]
     },
     "metadata": {
      "needs_background": "light"
     },
     "output_type": "display_data"
    }
   ],
   "source": [
    "#сформируем статистику примеров\n",
    "codes_count = Counter(all_pt_ids)\n",
    "get_freq_codes_hist(codes_count, figsize=(15, 8), num_freq_codes=50, hist_fname='./Pictures/%s freq codes.png'%corpus_name, title='Кол-во PT кодов в %s'%corpus_name)"
   ]
  },
  {
   "cell_type": "code",
   "execution_count": 110,
   "id": "smoking-commercial",
   "metadata": {},
   "outputs": [
    {
     "data": {
      "text/html": [
       "<div>\n",
       "<style scoped>\n",
       "    .dataframe tbody tr th:only-of-type {\n",
       "        vertical-align: middle;\n",
       "    }\n",
       "\n",
       "    .dataframe tbody tr th {\n",
       "        vertical-align: top;\n",
       "    }\n",
       "\n",
       "    .dataframe thead tr th {\n",
       "        text-align: left;\n",
       "    }\n",
       "</style>\n",
       "<table border=\"1\" class=\"dataframe\">\n",
       "  <thead>\n",
       "    <tr>\n",
       "      <th></th>\n",
       "      <th colspan=\"3\" halign=\"left\">Кол-во уникальных кодов после лемматизации</th>\n",
       "    </tr>\n",
       "    <tr>\n",
       "      <th></th>\n",
       "      <th>1</th>\n",
       "      <th>2</th>\n",
       "      <th>3</th>\n",
       "    </tr>\n",
       "  </thead>\n",
       "  <tbody>\n",
       "    <tr>\n",
       "      <th>Кол-во фраз в корпусе</th>\n",
       "      <td>5593</td>\n",
       "      <td>152</td>\n",
       "      <td>555</td>\n",
       "    </tr>\n",
       "  </tbody>\n",
       "</table>\n",
       "</div>"
      ],
      "text/plain": [
       "                      Кол-во уникальных кодов после лемматизации          \n",
       "                                                               1    2    3\n",
       "Кол-во фраз в корпусе                                       5593  152  555"
      ]
     },
     "execution_count": 110,
     "metadata": {},
     "output_type": "execute_result"
    }
   ],
   "source": [
    "get_phrases_unambiguity_df(all_pt_ids, load_lemmas_li(cfg['corp_name'], cfg['lang']))"
   ]
  },
  {
   "cell_type": "code",
   "execution_count": 112,
   "id": "surgical-discharge",
   "metadata": {},
   "outputs": [
    {
     "name": "stdout",
     "output_type": "stream",
     "text": [
      "tokenize phrases...\n"
     ]
    },
    {
     "name": "stderr",
     "output_type": "stream",
     "text": [
      "100%|██████████| 6300/6300 [00:26<00:00, 241.23it/s]"
     ]
    },
    {
     "name": "stdout",
     "output_type": "stream",
     "text": [
      "len ds: 891\n",
      "avg pt in text: 7.070707070707071\n",
      "avg num words in text: 335.0581492871121\n",
      "avg num words in phrase: 2.5490476190476192\n"
     ]
    },
    {
     "name": "stderr",
     "output_type": "stream",
     "text": [
      "\n"
     ]
    }
   ],
   "source": [
    "#среднее кол-во pt в тексте\n",
    "#[якорь] для удобного поиска\n",
    "len_ds = 891 #(из статьи)\n",
    "avg_pt_in_text = len(all_pt_ids) / len_ds\n",
    "#среднее кол-во слов в тексте\n",
    "#avg_num_words_in_text = num_ds_words / len_ds\n",
    "#средняя длина упоминания\n",
    "num_phrases_words = 0\n",
    "print('tokenize phrases...')\n",
    "for phrase in tqdm(all_pt_phrases):\n",
    "    num_phrases_words+=len(tokenize_text(phrase, cfg['lang']))\n",
    "avg_num_words_in_phrase = num_phrases_words/len(all_pt_phrases)\n",
    "print('len ds: %s\\navg pt in text: %s\\navg num words in text: %s\\navg num words in phrase: %s'%(len_ds, avg_pt_in_text, \\\n",
    "                                                       avg_num_words_in_text, \\\n",
    "                                                       avg_num_words_in_phrase,\n",
    "                                                       ))\n"
   ]
  },
  {
   "cell_type": "code",
   "execution_count": 113,
   "id": "dimensional-listening",
   "metadata": {
    "scrolled": true
   },
   "outputs": [
    {
     "data": {
      "text/html": [
       "<div>\n",
       "<style scoped>\n",
       "    .dataframe tbody tr th:only-of-type {\n",
       "        vertical-align: middle;\n",
       "    }\n",
       "\n",
       "    .dataframe tbody tr th {\n",
       "        vertical-align: top;\n",
       "    }\n",
       "\n",
       "    .dataframe thead th {\n",
       "        text-align: right;\n",
       "    }\n",
       "</style>\n",
       "<table border=\"1\" class=\"dataframe\">\n",
       "  <thead>\n",
       "    <tr style=\"text-align: right;\">\n",
       "      <th></th>\n",
       "      <th>PT код</th>\n",
       "      <th>Название PT концепта</th>\n",
       "      <th>Кол-во примеров</th>\n",
       "    </tr>\n",
       "  </thead>\n",
       "  <tbody>\n",
       "    <tr>\n",
       "      <th>1</th>\n",
       "      <td>10012374</td>\n",
       "      <td>Сниженное настроение / Depressed mood</td>\n",
       "      <td>792</td>\n",
       "    </tr>\n",
       "    <tr>\n",
       "      <th>2</th>\n",
       "      <td>10002855</td>\n",
       "      <td>Чувство тревоги / Anxiety</td>\n",
       "      <td>522</td>\n",
       "    </tr>\n",
       "    <tr>\n",
       "      <th>3</th>\n",
       "      <td>10028813</td>\n",
       "      <td>Тошнота / Nausea</td>\n",
       "      <td>206</td>\n",
       "    </tr>\n",
       "    <tr>\n",
       "      <th>4</th>\n",
       "      <td>10022437</td>\n",
       "      <td>Бессонница / Insomnia</td>\n",
       "      <td>190</td>\n",
       "    </tr>\n",
       "    <tr>\n",
       "      <th>5</th>\n",
       "      <td>10013573</td>\n",
       "      <td>Головокружение / Dizziness</td>\n",
       "      <td>174</td>\n",
       "    </tr>\n",
       "    <tr>\n",
       "      <th>6</th>\n",
       "      <td>10047899</td>\n",
       "      <td>Увеличение веса / Weight increased</td>\n",
       "      <td>156</td>\n",
       "    </tr>\n",
       "    <tr>\n",
       "      <th>7</th>\n",
       "      <td>10019211</td>\n",
       "      <td>Головная боль / Headache</td>\n",
       "      <td>146</td>\n",
       "    </tr>\n",
       "    <tr>\n",
       "      <th>8</th>\n",
       "      <td>10024870</td>\n",
       "      <td>Отсутствие либидо / Loss of libido</td>\n",
       "      <td>142</td>\n",
       "    </tr>\n",
       "    <tr>\n",
       "      <th>9</th>\n",
       "      <td>10016322</td>\n",
       "      <td>Плохое самочувствие / Feeling abnormal</td>\n",
       "      <td>135</td>\n",
       "    </tr>\n",
       "    <tr>\n",
       "      <th>10</th>\n",
       "      <td>10016256</td>\n",
       "      <td>Усталость / Fatigue</td>\n",
       "      <td>134</td>\n",
       "    </tr>\n",
       "    <tr>\n",
       "      <th>11</th>\n",
       "      <td>10020642</td>\n",
       "      <td>Гипергидроз / Hyperhidrosis</td>\n",
       "      <td>110</td>\n",
       "    </tr>\n",
       "    <tr>\n",
       "      <th>12</th>\n",
       "      <td>10061428</td>\n",
       "      <td>Снижение аппетита / Decreased appetite</td>\n",
       "      <td>106</td>\n",
       "    </tr>\n",
       "    <tr>\n",
       "      <th>13</th>\n",
       "      <td>10000125</td>\n",
       "      <td>Необычные сновидения / Abnormal dreams</td>\n",
       "      <td>92</td>\n",
       "    </tr>\n",
       "    <tr>\n",
       "      <th>14</th>\n",
       "      <td>10003068</td>\n",
       "      <td>Аптиалия / Aptyalism</td>\n",
       "      <td>90</td>\n",
       "    </tr>\n",
       "    <tr>\n",
       "      <th>15</th>\n",
       "      <td>10042458</td>\n",
       "      <td>Суицидальные мысли / Suicidal ideation</td>\n",
       "      <td>86</td>\n",
       "    </tr>\n",
       "    <tr>\n",
       "      <th>16</th>\n",
       "      <td>10024419</td>\n",
       "      <td>Снижение либидо / Libido decreased</td>\n",
       "      <td>80</td>\n",
       "    </tr>\n",
       "    <tr>\n",
       "      <th>17</th>\n",
       "      <td>10010774</td>\n",
       "      <td>Запор / Constipation</td>\n",
       "      <td>78</td>\n",
       "    </tr>\n",
       "    <tr>\n",
       "      <th>18</th>\n",
       "      <td>10029410</td>\n",
       "      <td>Ночная потливость / Night sweats</td>\n",
       "      <td>76</td>\n",
       "    </tr>\n",
       "    <tr>\n",
       "      <th>19</th>\n",
       "      <td>10044565</td>\n",
       "      <td>Тремор / Tremor</td>\n",
       "      <td>74</td>\n",
       "    </tr>\n",
       "    <tr>\n",
       "      <th>20</th>\n",
       "      <td>10041349</td>\n",
       "      <td>Сомнолентность / Somnolence</td>\n",
       "      <td>71</td>\n",
       "    </tr>\n",
       "    <tr>\n",
       "      <th>21</th>\n",
       "      <td>10024264</td>\n",
       "      <td>Летаргия / Lethargy</td>\n",
       "      <td>66</td>\n",
       "    </tr>\n",
       "    <tr>\n",
       "      <th>22</th>\n",
       "      <td>10006514</td>\n",
       "      <td>Бруксизм / Bruxism</td>\n",
       "      <td>65</td>\n",
       "    </tr>\n",
       "    <tr>\n",
       "      <th>23</th>\n",
       "      <td>10033664</td>\n",
       "      <td>Паническая атака / Panic attack</td>\n",
       "      <td>62</td>\n",
       "    </tr>\n",
       "    <tr>\n",
       "      <th>24</th>\n",
       "      <td>10002368</td>\n",
       "      <td>Гнев / Anger</td>\n",
       "      <td>61</td>\n",
       "    </tr>\n",
       "    <tr>\n",
       "      <th>25</th>\n",
       "      <td>10022998</td>\n",
       "      <td>Раздражительность / Irritability</td>\n",
       "      <td>59</td>\n",
       "    </tr>\n",
       "    <tr>\n",
       "      <th>26</th>\n",
       "      <td>10029412</td>\n",
       "      <td>Кошмары / Nightmare</td>\n",
       "      <td>58</td>\n",
       "    </tr>\n",
       "    <tr>\n",
       "      <th>27</th>\n",
       "      <td>10040477</td>\n",
       "      <td>Сексуальная дисфункция / Sexual dysfunction</td>\n",
       "      <td>56</td>\n",
       "    </tr>\n",
       "    <tr>\n",
       "      <th>28</th>\n",
       "      <td>10027940</td>\n",
       "      <td>Настроение измененное / Mood altered</td>\n",
       "      <td>54</td>\n",
       "    </tr>\n",
       "    <tr>\n",
       "      <th>29</th>\n",
       "      <td>10025482</td>\n",
       "      <td>Недомогание / Malaise</td>\n",
       "      <td>52</td>\n",
       "    </tr>\n",
       "    <tr>\n",
       "      <th>30</th>\n",
       "      <td>10002652</td>\n",
       "      <td>Аноргазмия / Anorgasmia</td>\n",
       "      <td>50</td>\n",
       "    </tr>\n",
       "    <tr>\n",
       "      <th>31</th>\n",
       "      <td>10016759</td>\n",
       "      <td>Уплощение аффекта / Flat affect</td>\n",
       "      <td>49</td>\n",
       "    </tr>\n",
       "    <tr>\n",
       "      <th>32</th>\n",
       "      <td>10033371</td>\n",
       "      <td>Боль / Pain</td>\n",
       "      <td>49</td>\n",
       "    </tr>\n",
       "    <tr>\n",
       "      <th>33</th>\n",
       "      <td>10047895</td>\n",
       "      <td>Снижение веса / Weight decreased</td>\n",
       "      <td>49</td>\n",
       "    </tr>\n",
       "    <tr>\n",
       "      <th>34</th>\n",
       "      <td>10012735</td>\n",
       "      <td>Диарея / Diarrhoea</td>\n",
       "      <td>47</td>\n",
       "    </tr>\n",
       "    <tr>\n",
       "      <th>35</th>\n",
       "      <td>10024642</td>\n",
       "      <td>Вялость / Listless</td>\n",
       "      <td>43</td>\n",
       "    </tr>\n",
       "    <tr>\n",
       "      <th>36</th>\n",
       "      <td>10048232</td>\n",
       "      <td>Зевание / Yawning</td>\n",
       "      <td>40</td>\n",
       "    </tr>\n",
       "    <tr>\n",
       "      <th>37</th>\n",
       "      <td>10041247</td>\n",
       "      <td>Боязнь общества / Social fear</td>\n",
       "      <td>38</td>\n",
       "    </tr>\n",
       "    <tr>\n",
       "      <th>38</th>\n",
       "      <td>10001949</td>\n",
       "      <td>Амнезия / Amnesia</td>\n",
       "      <td>34</td>\n",
       "    </tr>\n",
       "    <tr>\n",
       "      <th>39</th>\n",
       "      <td>10027175</td>\n",
       "      <td>Нарушение памяти / Memory impairment</td>\n",
       "      <td>33</td>\n",
       "    </tr>\n",
       "    <tr>\n",
       "      <th>40</th>\n",
       "      <td>10033775</td>\n",
       "      <td>Парестезия / Paraesthesia</td>\n",
       "      <td>33</td>\n",
       "    </tr>\n",
       "    <tr>\n",
       "      <th>41</th>\n",
       "      <td>10013496</td>\n",
       "      <td>Нарушение внимания / Disturbance in attention</td>\n",
       "      <td>32</td>\n",
       "    </tr>\n",
       "    <tr>\n",
       "      <th>42</th>\n",
       "      <td>10011469</td>\n",
       "      <td>Плач / Crying</td>\n",
       "      <td>30</td>\n",
       "    </tr>\n",
       "    <tr>\n",
       "      <th>43</th>\n",
       "      <td>10016338</td>\n",
       "      <td>Ощущение тревоги / Feeling jittery</td>\n",
       "      <td>29</td>\n",
       "    </tr>\n",
       "    <tr>\n",
       "      <th>44</th>\n",
       "      <td>10057840</td>\n",
       "      <td>Большая депрессия / Major depression</td>\n",
       "      <td>29</td>\n",
       "    </tr>\n",
       "    <tr>\n",
       "      <th>45</th>\n",
       "      <td>10001760</td>\n",
       "      <td>Алопеция / Alopecia</td>\n",
       "      <td>25</td>\n",
       "    </tr>\n",
       "    <tr>\n",
       "      <th>46</th>\n",
       "      <td>10019303</td>\n",
       "      <td>Частота сердечных сокращений выше нормы / Hear...</td>\n",
       "      <td>25</td>\n",
       "    </tr>\n",
       "    <tr>\n",
       "      <th>47</th>\n",
       "      <td>10047700</td>\n",
       "      <td>Рвота / Vomiting</td>\n",
       "      <td>25</td>\n",
       "    </tr>\n",
       "    <tr>\n",
       "      <th>48</th>\n",
       "      <td>10002942</td>\n",
       "      <td>Апатия / Apathy</td>\n",
       "      <td>25</td>\n",
       "    </tr>\n",
       "    <tr>\n",
       "      <th>49</th>\n",
       "      <td>10001497</td>\n",
       "      <td>Ажитация / Agitation</td>\n",
       "      <td>25</td>\n",
       "    </tr>\n",
       "    <tr>\n",
       "      <th>50</th>\n",
       "      <td>10029897</td>\n",
       "      <td>Обсессии / Obsessive thoughts</td>\n",
       "      <td>24</td>\n",
       "    </tr>\n",
       "  </tbody>\n",
       "</table>\n",
       "</div>"
      ],
      "text/plain": [
       "      PT код                               Название PT концепта  \\\n",
       "1   10012374              Сниженное настроение / Depressed mood   \n",
       "2   10002855                          Чувство тревоги / Anxiety   \n",
       "3   10028813                                   Тошнота / Nausea   \n",
       "4   10022437                              Бессонница / Insomnia   \n",
       "5   10013573                         Головокружение / Dizziness   \n",
       "6   10047899                 Увеличение веса / Weight increased   \n",
       "7   10019211                           Головная боль / Headache   \n",
       "8   10024870                 Отсутствие либидо / Loss of libido   \n",
       "9   10016322             Плохое самочувствие / Feeling abnormal   \n",
       "10  10016256                                Усталость / Fatigue   \n",
       "11  10020642                        Гипергидроз / Hyperhidrosis   \n",
       "12  10061428             Снижение аппетита / Decreased appetite   \n",
       "13  10000125             Необычные сновидения / Abnormal dreams   \n",
       "14  10003068                               Аптиалия / Aptyalism   \n",
       "15  10042458             Суицидальные мысли / Suicidal ideation   \n",
       "16  10024419                 Снижение либидо / Libido decreased   \n",
       "17  10010774                               Запор / Constipation   \n",
       "18  10029410                   Ночная потливость / Night sweats   \n",
       "19  10044565                                    Тремор / Tremor   \n",
       "20  10041349                        Сомнолентность / Somnolence   \n",
       "21  10024264                                Летаргия / Lethargy   \n",
       "22  10006514                                 Бруксизм / Bruxism   \n",
       "23  10033664                    Паническая атака / Panic attack   \n",
       "24  10002368                                       Гнев / Anger   \n",
       "25  10022998                   Раздражительность / Irritability   \n",
       "26  10029412                                Кошмары / Nightmare   \n",
       "27  10040477        Сексуальная дисфункция / Sexual dysfunction   \n",
       "28  10027940               Настроение измененное / Mood altered   \n",
       "29  10025482                              Недомогание / Malaise   \n",
       "30  10002652                            Аноргазмия / Anorgasmia   \n",
       "31  10016759                    Уплощение аффекта / Flat affect   \n",
       "32  10033371                                        Боль / Pain   \n",
       "33  10047895                   Снижение веса / Weight decreased   \n",
       "34  10012735                                 Диарея / Diarrhoea   \n",
       "35  10024642                                 Вялость / Listless   \n",
       "36  10048232                                  Зевание / Yawning   \n",
       "37  10041247                      Боязнь общества / Social fear   \n",
       "38  10001949                                  Амнезия / Amnesia   \n",
       "39  10027175               Нарушение памяти / Memory impairment   \n",
       "40  10033775                          Парестезия / Paraesthesia   \n",
       "41  10013496      Нарушение внимания / Disturbance in attention   \n",
       "42  10011469                                      Плач / Crying   \n",
       "43  10016338                 Ощущение тревоги / Feeling jittery   \n",
       "44  10057840               Большая депрессия / Major depression   \n",
       "45  10001760                                Алопеция / Alopecia   \n",
       "46  10019303  Частота сердечных сокращений выше нормы / Hear...   \n",
       "47  10047700                                   Рвота / Vomiting   \n",
       "48  10002942                                    Апатия / Apathy   \n",
       "49  10001497                               Ажитация / Agitation   \n",
       "50  10029897                      Обсессии / Obsessive thoughts   \n",
       "\n",
       "    Кол-во примеров  \n",
       "1               792  \n",
       "2               522  \n",
       "3               206  \n",
       "4               190  \n",
       "5               174  \n",
       "6               156  \n",
       "7               146  \n",
       "8               142  \n",
       "9               135  \n",
       "10              134  \n",
       "11              110  \n",
       "12              106  \n",
       "13               92  \n",
       "14               90  \n",
       "15               86  \n",
       "16               80  \n",
       "17               78  \n",
       "18               76  \n",
       "19               74  \n",
       "20               71  \n",
       "21               66  \n",
       "22               65  \n",
       "23               62  \n",
       "24               61  \n",
       "25               59  \n",
       "26               58  \n",
       "27               56  \n",
       "28               54  \n",
       "29               52  \n",
       "30               50  \n",
       "31               49  \n",
       "32               49  \n",
       "33               49  \n",
       "34               47  \n",
       "35               43  \n",
       "36               40  \n",
       "37               38  \n",
       "38               34  \n",
       "39               33  \n",
       "40               33  \n",
       "41               32  \n",
       "42               30  \n",
       "43               29  \n",
       "44               29  \n",
       "45               25  \n",
       "46               25  \n",
       "47               25  \n",
       "48               25  \n",
       "49               25  \n",
       "50               24  "
      ]
     },
     "execution_count": 113,
     "metadata": {},
     "output_type": "execute_result"
    }
   ],
   "source": [
    "get_freq_codes_table(codes_count, lang='both', num_freq_codes=50, table_fname='./Tables/%s most freq codes.xlsx'%corpus_name)"
   ]
  },
  {
   "cell_type": "code",
   "execution_count": 115,
   "id": "fleet-mauritius",
   "metadata": {
    "scrolled": true
   },
   "outputs": [
    {
     "name": "stdout",
     "output_type": "stream",
     "text": [
      "num codes in intersection with RDRS: 229\n"
     ]
    }
   ],
   "source": [
    "print('num codes in intersection with RDRS: %s'%len(set.intersection(set(all_pt_ids), RDRS_PT_IDS_SET)))"
   ]
  },
  {
   "cell_type": "code",
   "execution_count": 116,
   "id": "unnecessary-pilot",
   "metadata": {},
   "outputs": [],
   "source": [
    "FULL_DS = concat_new_corp_to_ds(FULL_DS, all_pt_phrases, all_pt_ids, cfg['corp_name'], cfg['lang'])"
   ]
  },
  {
   "cell_type": "markdown",
   "id": "mature-shaft",
   "metadata": {},
   "source": [
    "---"
   ]
  },
  {
   "cell_type": "markdown",
   "id": "greatest-workstation",
   "metadata": {},
   "source": [
    "<h2>Работа с полным корпусом</h2>"
   ]
  },
  {
   "cell_type": "markdown",
   "id": "toxic-score",
   "metadata": {},
   "source": [
    "1. v1 - FULL_prepared_corp.csv - отфильтрованы аббревиатуры из переведенной части\n",
    "2. v2 - FULL_prepared_filtered_(3 word)\\_hlt_corp.csv - отфильтрованы слова с длиной до 3 из переведенной части и аббревиатуры, добавлен уровень hlt\n",
    "3. v3 - FULL_prepared_hlt_corp.csv - отфильтрованы аббревиатуры, добавлен уровень hlt"
   ]
  },
  {
   "cell_type": "code",
   "execution_count": 118,
   "id": "derived-organizer",
   "metadata": {},
   "outputs": [],
   "source": [
    "FULL_DS.to_csv('./CorpsStatisticData/FULL_normalization_corpus.csv', index=False)"
   ]
  },
  {
   "cell_type": "code",
   "execution_count": 122,
   "id": "reported-given",
   "metadata": {},
   "outputs": [
    {
     "data": {
      "text/plain": [
       "4607"
      ]
     },
     "execution_count": 122,
     "metadata": {},
     "output_type": "execute_result"
    }
   ],
   "source": [
    "FULL_DS['pt code'].nunique()"
   ]
  },
  {
   "cell_type": "code",
   "execution_count": 125,
   "id": "selective-carroll",
   "metadata": {},
   "outputs": [
    {
     "name": "stdout",
     "output_type": "stream",
     "text": [
      "num codes in intersection with RDRS: 641\n"
     ]
    }
   ],
   "source": [
    "print('num codes in intersection with RDRS: %s'%len(set.intersection(set(FULL_DS[FULL_DS['corp_name']!='RDRS']['pt code'].unique()), RDRS_PT_IDS_SET)))"
   ]
  },
  {
   "cell_type": "markdown",
   "id": "noticed-music",
   "metadata": {},
   "source": [
    "1. Оставляем только en часть, переводим её\n",
    "2. Добавляем llt с линком к pt\n",
    "3. Оставляем только уникальные фразы"
   ]
  },
  {
   "cell_type": "code",
   "execution_count": 1,
   "id": "arabic-durham",
   "metadata": {},
   "outputs": [
    {
     "name": "stderr",
     "output_type": "stream",
     "text": [
      "100%|██████████| 64615/64615 [7:06:10<00:00,  2.53it/s]   \n"
     ]
    },
    {
     "data": {
      "text/html": [
       "<div>\n",
       "<style scoped>\n",
       "    .dataframe tbody tr th:only-of-type {\n",
       "        vertical-align: middle;\n",
       "    }\n",
       "\n",
       "    .dataframe tbody tr th {\n",
       "        vertical-align: top;\n",
       "    }\n",
       "\n",
       "    .dataframe thead th {\n",
       "        text-align: right;\n",
       "    }\n",
       "</style>\n",
       "<table border=\"1\" class=\"dataframe\">\n",
       "  <thead>\n",
       "    <tr style=\"text-align: right;\">\n",
       "      <th></th>\n",
       "      <th>phrase</th>\n",
       "      <th>pt code</th>\n",
       "      <th>corp_name</th>\n",
       "      <th>lang</th>\n",
       "      <th>phrase_translated</th>\n",
       "    </tr>\n",
       "  </thead>\n",
       "  <tbody>\n",
       "    <tr>\n",
       "      <th>0</th>\n",
       "      <td>pain in joints\\n</td>\n",
       "      <td>10003239</td>\n",
       "      <td>CADEC</td>\n",
       "      <td>en</td>\n",
       "      <td>боль в суставах</td>\n",
       "    </tr>\n",
       "    <tr>\n",
       "      <th>1</th>\n",
       "      <td>pain in my left leg\\n</td>\n",
       "      <td>10033425</td>\n",
       "      <td>CADEC</td>\n",
       "      <td>en</td>\n",
       "      <td>боль в моей левой ноге</td>\n",
       "    </tr>\n",
       "    <tr>\n",
       "      <th>2</th>\n",
       "      <td>Elevated CPK levels\\n</td>\n",
       "      <td>10005483</td>\n",
       "      <td>CADEC</td>\n",
       "      <td>en</td>\n",
       "      <td>Повышенные уровни CPK</td>\n",
       "    </tr>\n",
       "    <tr>\n",
       "      <th>3</th>\n",
       "      <td>muscle problems\\n</td>\n",
       "      <td>10028641</td>\n",
       "      <td>CADEC</td>\n",
       "      <td>en</td>\n",
       "      <td>мышечные проблемы</td>\n",
       "    </tr>\n",
       "    <tr>\n",
       "      <th>4</th>\n",
       "      <td>elevated CPK levels\\n</td>\n",
       "      <td>10005483</td>\n",
       "      <td>CADEC</td>\n",
       "      <td>en</td>\n",
       "      <td>повышенные уровни CPK</td>\n",
       "    </tr>\n",
       "    <tr>\n",
       "      <th>...</th>\n",
       "      <td>...</td>\n",
       "      <td>...</td>\n",
       "      <td>...</td>\n",
       "      <td>...</td>\n",
       "      <td>...</td>\n",
       "    </tr>\n",
       "    <tr>\n",
       "      <th>64610</th>\n",
       "      <td>anxiety</td>\n",
       "      <td>10002855</td>\n",
       "      <td>PsyTar</td>\n",
       "      <td>en</td>\n",
       "      <td>no_translation</td>\n",
       "    </tr>\n",
       "    <tr>\n",
       "      <th>64611</th>\n",
       "      <td>stress</td>\n",
       "      <td>10042209</td>\n",
       "      <td>PsyTar</td>\n",
       "      <td>en</td>\n",
       "      <td>стресс</td>\n",
       "    </tr>\n",
       "    <tr>\n",
       "      <th>64612</th>\n",
       "      <td>jump off the deap end</td>\n",
       "      <td>10029901</td>\n",
       "      <td>PsyTar</td>\n",
       "      <td>en</td>\n",
       "      <td>no_translation</td>\n",
       "    </tr>\n",
       "    <tr>\n",
       "      <th>64613</th>\n",
       "      <td>depression</td>\n",
       "      <td>10012374</td>\n",
       "      <td>PsyTar</td>\n",
       "      <td>en</td>\n",
       "      <td>no_translation</td>\n",
       "    </tr>\n",
       "    <tr>\n",
       "      <th>64614</th>\n",
       "      <td>sense of dread</td>\n",
       "      <td>10025482</td>\n",
       "      <td>PsyTar</td>\n",
       "      <td>en</td>\n",
       "      <td>no_translation</td>\n",
       "    </tr>\n",
       "  </tbody>\n",
       "</table>\n",
       "<p>64615 rows × 5 columns</p>\n",
       "</div>"
      ],
      "text/plain": [
       "                      phrase   pt code corp_name lang       phrase_translated\n",
       "0           pain in joints\\n  10003239     CADEC   en         боль в суставах\n",
       "1      pain in my left leg\\n  10033425     CADEC   en  боль в моей левой ноге\n",
       "2      Elevated CPK levels\\n  10005483     CADEC   en   Повышенные уровни CPK\n",
       "3          muscle problems\\n  10028641     CADEC   en       мышечные проблемы\n",
       "4      elevated CPK levels\\n  10005483     CADEC   en   повышенные уровни CPK\n",
       "...                      ...       ...       ...  ...                     ...\n",
       "64610                anxiety  10002855    PsyTar   en          no_translation\n",
       "64611                 stress  10042209    PsyTar   en                  стресс\n",
       "64612  jump off the deap end  10029901    PsyTar   en          no_translation\n",
       "64613             depression  10012374    PsyTar   en          no_translation\n",
       "64614         sense of dread  10025482    PsyTar   en          no_translation\n",
       "\n",
       "[64615 rows x 5 columns]"
      ]
     },
     "execution_count": 1,
     "metadata": {},
     "output_type": "execute_result"
    }
   ],
   "source": [
    "from googletrans import Translator\n",
    "import pandas as pd\n",
    "from tqdm import tqdm\n",
    "\n",
    "tqdm.pandas()\n",
    "\n",
    "1#\n",
    "FULL_DS = pd.read_csv('./CorpsStatisticData/FULL_normalization_corpus1.csv')\n",
    "def translate(phrase):\n",
    "    try:\n",
    "        return translator.translate(phrase, src='en', dest='ru').text\n",
    "    except:\n",
    "        return 'no_translation'\n",
    "    \n",
    "translator = Translator()\n",
    "FULL_DS_EN = FULL_DS[FULL_DS['lang']=='en'].reset_index(drop=True)\n",
    "FULL_DS_EN['phrase_translated'] = FULL_DS_EN['phrase'].progress_apply(translate)\n",
    "FULL_DS_EN"
   ]
  },
  {
   "cell_type": "code",
   "execution_count": 2,
   "id": "electronic-relative",
   "metadata": {},
   "outputs": [],
   "source": [
    "FULL_DS_EN.to_csv('./CorpsStatisticData/FULL_normalization_corpus_translated_part1.csv', index=False)"
   ]
  },
  {
   "cell_type": "code",
   "execution_count": 54,
   "id": "hidden-details",
   "metadata": {},
   "outputs": [
    {
     "data": {
      "text/html": [
       "<div>\n",
       "<style scoped>\n",
       "    .dataframe tbody tr th:only-of-type {\n",
       "        vertical-align: middle;\n",
       "    }\n",
       "\n",
       "    .dataframe tbody tr th {\n",
       "        vertical-align: top;\n",
       "    }\n",
       "\n",
       "    .dataframe thead th {\n",
       "        text-align: right;\n",
       "    }\n",
       "</style>\n",
       "<table border=\"1\" class=\"dataframe\">\n",
       "  <thead>\n",
       "    <tr style=\"text-align: right;\">\n",
       "      <th></th>\n",
       "      <th>phrase</th>\n",
       "      <th>pt code</th>\n",
       "      <th>corp_name</th>\n",
       "      <th>lang</th>\n",
       "      <th>phrase_translated</th>\n",
       "    </tr>\n",
       "  </thead>\n",
       "  <tbody>\n",
       "    <tr>\n",
       "      <th>0</th>\n",
       "      <td>pain in joints\\n</td>\n",
       "      <td>10003239</td>\n",
       "      <td>CADEC</td>\n",
       "      <td>en</td>\n",
       "      <td>боль в суставах</td>\n",
       "    </tr>\n",
       "    <tr>\n",
       "      <th>1</th>\n",
       "      <td>pain in my left leg\\n</td>\n",
       "      <td>10033425</td>\n",
       "      <td>CADEC</td>\n",
       "      <td>en</td>\n",
       "      <td>боль в моей левой ноге</td>\n",
       "    </tr>\n",
       "    <tr>\n",
       "      <th>3</th>\n",
       "      <td>muscle problems\\n</td>\n",
       "      <td>10028641</td>\n",
       "      <td>CADEC</td>\n",
       "      <td>en</td>\n",
       "      <td>мышечные проблемы</td>\n",
       "    </tr>\n",
       "    <tr>\n",
       "      <th>5</th>\n",
       "      <td>muscle aches\\n</td>\n",
       "      <td>10028411</td>\n",
       "      <td>CADEC</td>\n",
       "      <td>en</td>\n",
       "      <td>мышечные боли</td>\n",
       "    </tr>\n",
       "    <tr>\n",
       "      <th>6</th>\n",
       "      <td>severe intense left arm and shoulder pain\\n</td>\n",
       "      <td>10033371</td>\n",
       "      <td>CADEC</td>\n",
       "      <td>en</td>\n",
       "      <td>Сильная интенсивная левая рука и боль в плече</td>\n",
       "    </tr>\n",
       "    <tr>\n",
       "      <th>...</th>\n",
       "      <td>...</td>\n",
       "      <td>...</td>\n",
       "      <td>...</td>\n",
       "      <td>...</td>\n",
       "      <td>...</td>\n",
       "    </tr>\n",
       "    <tr>\n",
       "      <th>64596</th>\n",
       "      <td>depression</td>\n",
       "      <td>10012374</td>\n",
       "      <td>PsyTar</td>\n",
       "      <td>en</td>\n",
       "      <td>депрессия</td>\n",
       "    </tr>\n",
       "    <tr>\n",
       "      <th>64598</th>\n",
       "      <td>got my appetite back</td>\n",
       "      <td>10061428</td>\n",
       "      <td>PsyTar</td>\n",
       "      <td>en</td>\n",
       "      <td>Получил мой аппетит</td>\n",
       "    </tr>\n",
       "    <tr>\n",
       "      <th>64599</th>\n",
       "      <td>anxiety</td>\n",
       "      <td>10002855</td>\n",
       "      <td>PsyTar</td>\n",
       "      <td>en</td>\n",
       "      <td>беспокойство</td>\n",
       "    </tr>\n",
       "    <tr>\n",
       "      <th>64603</th>\n",
       "      <td>depression</td>\n",
       "      <td>10012374</td>\n",
       "      <td>PsyTar</td>\n",
       "      <td>en</td>\n",
       "      <td>депрессия</td>\n",
       "    </tr>\n",
       "    <tr>\n",
       "      <th>64611</th>\n",
       "      <td>stress</td>\n",
       "      <td>10042209</td>\n",
       "      <td>PsyTar</td>\n",
       "      <td>en</td>\n",
       "      <td>стресс</td>\n",
       "    </tr>\n",
       "  </tbody>\n",
       "</table>\n",
       "<p>51031 rows × 5 columns</p>\n",
       "</div>"
      ],
      "text/plain": [
       "                                            phrase   pt code corp_name lang  \\\n",
       "0                                 pain in joints\\n  10003239     CADEC   en   \n",
       "1                            pain in my left leg\\n  10033425     CADEC   en   \n",
       "3                                muscle problems\\n  10028641     CADEC   en   \n",
       "5                                   muscle aches\\n  10028411     CADEC   en   \n",
       "6      severe intense left arm and shoulder pain\\n  10033371     CADEC   en   \n",
       "...                                            ...       ...       ...  ...   \n",
       "64596                                   depression  10012374    PsyTar   en   \n",
       "64598                         got my appetite back  10061428    PsyTar   en   \n",
       "64599                                      anxiety  10002855    PsyTar   en   \n",
       "64603                                   depression  10012374    PsyTar   en   \n",
       "64611                                       stress  10042209    PsyTar   en   \n",
       "\n",
       "                                   phrase_translated  \n",
       "0                                    боль в суставах  \n",
       "1                             боль в моей левой ноге  \n",
       "3                                  мышечные проблемы  \n",
       "5                                      мышечные боли  \n",
       "6      Сильная интенсивная левая рука и боль в плече  \n",
       "...                                              ...  \n",
       "64596                                      депрессия  \n",
       "64598                            Получил мой аппетит  \n",
       "64599                                   беспокойство  \n",
       "64603                                      депрессия  \n",
       "64611                                         стресс  \n",
       "\n",
       "[51031 rows x 5 columns]"
      ]
     },
     "execution_count": 54,
     "metadata": {},
     "output_type": "execute_result"
    }
   ],
   "source": [
    "from googletrans import Translator\n",
    "import pandas as pd\n",
    "from tqdm import tqdm\n",
    "import re\n",
    "    \n",
    "regex = r'[AZ][AZ]+'\n",
    "def filter_abbreviation_rows(phrase):\n",
    "    if re.search('[A-Z][A-Z]+|([A-Z]\\.)([A-Z]\\.)+', phrase):\n",
    "        return False\n",
    "    else:\n",
    "        return True\n",
    "    \n",
    "FULL_DS_EN = pd.read_csv('./CorpsStatisticData/FULL_normalization_corpus_translated_part.csv')\n",
    "FULL_DS_EN = FULL_DS_EN[FULL_DS_EN['phrase_translated']!='no_translation'] #чистим фразы, которые не перевелись\n",
    "FULL_DS_EN = FULL_DS_EN[FULL_DS_EN['phrase'].apply(filter_abbreviation_rows)] #чистим фразы, с абрревиатурами\n",
    "FULL_DS_EN"
   ]
  },
  {
   "cell_type": "code",
   "execution_count": 57,
   "id": "coordinate-wales",
   "metadata": {},
   "outputs": [],
   "source": [
    "FULL_DS_EN['phrase'], FULL_DS_EN['phrase_translated'] = FULL_DS_EN['phrase_translated'], FULL_DS_EN['phrase']"
   ]
  },
  {
   "cell_type": "code",
   "execution_count": 44,
   "id": "funky-maker",
   "metadata": {},
   "outputs": [],
   "source": [
    "FULL_DS_EN.to_csv('./CorpsStatisticData/full_ds_en_filtered', index=False)"
   ]
  },
  {
   "cell_type": "code",
   "execution_count": 58,
   "id": "english-mississippi",
   "metadata": {},
   "outputs": [
    {
     "data": {
      "text/html": [
       "<div>\n",
       "<style scoped>\n",
       "    .dataframe tbody tr th:only-of-type {\n",
       "        vertical-align: middle;\n",
       "    }\n",
       "\n",
       "    .dataframe tbody tr th {\n",
       "        vertical-align: top;\n",
       "    }\n",
       "\n",
       "    .dataframe thead th {\n",
       "        text-align: right;\n",
       "    }\n",
       "</style>\n",
       "<table border=\"1\" class=\"dataframe\">\n",
       "  <thead>\n",
       "    <tr style=\"text-align: right;\">\n",
       "      <th></th>\n",
       "      <th>phrase</th>\n",
       "      <th>pt code</th>\n",
       "      <th>corp_name</th>\n",
       "      <th>lang</th>\n",
       "      <th>phrase_translated</th>\n",
       "    </tr>\n",
       "  </thead>\n",
       "  <tbody>\n",
       "    <tr>\n",
       "      <th>0</th>\n",
       "      <td>боль в суставах</td>\n",
       "      <td>10003239</td>\n",
       "      <td>CADEC</td>\n",
       "      <td>en</td>\n",
       "      <td>pain in joints\\n</td>\n",
       "    </tr>\n",
       "    <tr>\n",
       "      <th>1</th>\n",
       "      <td>боль в моей левой ноге</td>\n",
       "      <td>10033425</td>\n",
       "      <td>CADEC</td>\n",
       "      <td>en</td>\n",
       "      <td>pain in my left leg\\n</td>\n",
       "    </tr>\n",
       "    <tr>\n",
       "      <th>2</th>\n",
       "      <td>мышечные проблемы</td>\n",
       "      <td>10028641</td>\n",
       "      <td>CADEC</td>\n",
       "      <td>en</td>\n",
       "      <td>muscle problems\\n</td>\n",
       "    </tr>\n",
       "    <tr>\n",
       "      <th>3</th>\n",
       "      <td>мышечные боли</td>\n",
       "      <td>10028411</td>\n",
       "      <td>CADEC</td>\n",
       "      <td>en</td>\n",
       "      <td>muscle aches\\n</td>\n",
       "    </tr>\n",
       "    <tr>\n",
       "      <th>4</th>\n",
       "      <td>Сильная интенсивная левая рука и боль в плече</td>\n",
       "      <td>10033371</td>\n",
       "      <td>CADEC</td>\n",
       "      <td>en</td>\n",
       "      <td>severe intense left arm and shoulder pain\\n</td>\n",
       "    </tr>\n",
       "    <tr>\n",
       "      <th>...</th>\n",
       "      <td>...</td>\n",
       "      <td>...</td>\n",
       "      <td>...</td>\n",
       "      <td>...</td>\n",
       "      <td>...</td>\n",
       "    </tr>\n",
       "    <tr>\n",
       "      <th>132224</th>\n",
       "      <td>Окклюзия плечеголовного стента</td>\n",
       "      <td>10077143</td>\n",
       "      <td>meddra_llt</td>\n",
       "      <td>ru</td>\n",
       "      <td>NaN</td>\n",
       "    </tr>\n",
       "    <tr>\n",
       "      <th>132225</th>\n",
       "      <td>Острая макулярная нейроретинопатия</td>\n",
       "      <td>10086444</td>\n",
       "      <td>meddra_llt</td>\n",
       "      <td>ru</td>\n",
       "      <td>NaN</td>\n",
       "    </tr>\n",
       "    <tr>\n",
       "      <th>132226</th>\n",
       "      <td>Парацентральная острая срединная макулопатия</td>\n",
       "      <td>10086444</td>\n",
       "      <td>meddra_llt</td>\n",
       "      <td>ru</td>\n",
       "      <td>NaN</td>\n",
       "    </tr>\n",
       "    <tr>\n",
       "      <th>132227</th>\n",
       "      <td>Привкус продукта</td>\n",
       "      <td>10086446</td>\n",
       "      <td>meddra_llt</td>\n",
       "      <td>ru</td>\n",
       "      <td>NaN</td>\n",
       "    </tr>\n",
       "    <tr>\n",
       "      <th>132228</th>\n",
       "      <td>Цереброкардиальный синдром</td>\n",
       "      <td>10086448</td>\n",
       "      <td>meddra_llt</td>\n",
       "      <td>ru</td>\n",
       "      <td>NaN</td>\n",
       "    </tr>\n",
       "  </tbody>\n",
       "</table>\n",
       "<p>132229 rows × 5 columns</p>\n",
       "</div>"
      ],
      "text/plain": [
       "                                               phrase   pt code   corp_name  \\\n",
       "0                                     боль в суставах  10003239       CADEC   \n",
       "1                              боль в моей левой ноге  10033425       CADEC   \n",
       "2                                   мышечные проблемы  10028641       CADEC   \n",
       "3                                       мышечные боли  10028411       CADEC   \n",
       "4       Сильная интенсивная левая рука и боль в плече  10033371       CADEC   \n",
       "...                                               ...       ...         ...   \n",
       "132224                 Окклюзия плечеголовного стента  10077143  meddra_llt   \n",
       "132225             Острая макулярная нейроретинопатия  10086444  meddra_llt   \n",
       "132226   Парацентральная острая срединная макулопатия  10086444  meddra_llt   \n",
       "132227                               Привкус продукта  10086446  meddra_llt   \n",
       "132228                     Цереброкардиальный синдром  10086448  meddra_llt   \n",
       "\n",
       "       lang                            phrase_translated  \n",
       "0        en                             pain in joints\\n  \n",
       "1        en                        pain in my left leg\\n  \n",
       "2        en                            muscle problems\\n  \n",
       "3        en                               muscle aches\\n  \n",
       "4        en  severe intense left arm and shoulder pain\\n  \n",
       "...     ...                                          ...  \n",
       "132224   ru                                          NaN  \n",
       "132225   ru                                          NaN  \n",
       "132226   ru                                          NaN  \n",
       "132227   ru                                          NaN  \n",
       "132228   ru                                          NaN  \n",
       "\n",
       "[132229 rows x 5 columns]"
      ]
     },
     "execution_count": 58,
     "metadata": {},
     "output_type": "execute_result"
    }
   ],
   "source": [
    "#self.lltcode_to_ptcode[llt_line[0]] = llt_line[2]\n",
    "#self.llt_to_lltcode[llt_line[1]] = llt_line[0]\n",
    "\n",
    "mh_rus.llt_to_ptcode = {k: mh_rus.lltcode_to_ptcode[v] for k, v in mh_rus.llt_to_lltcode.items()}\n",
    "FULL_DS = concat_new_corp_to_ds(FULL_DS_EN, mh_rus.llt_to_ptcode.keys(),\n",
    "                                mh_rus.llt_to_ptcode.values(), 'meddra_llt', 'ru')\n",
    "FULL_DS"
   ]
  },
  {
   "cell_type": "code",
   "execution_count": 59,
   "id": "naked-heaven",
   "metadata": {},
   "outputs": [],
   "source": [
    "FULL_DS = FULL_DS.drop_duplicates(subset=['phrase'], keep='first')"
   ]
  },
  {
   "cell_type": "code",
   "execution_count": 60,
   "id": "understood-chance",
   "metadata": {},
   "outputs": [
    {
     "name": "stderr",
     "output_type": "stream",
     "text": [
      "/tmp/ipykernel_57/1884764347.py:1: SettingWithCopyWarning: \n",
      "A value is trying to be set on a copy of a slice from a DataFrame.\n",
      "Try using .loc[row_indexer,col_indexer] = value instead\n",
      "\n",
      "See the caveats in the documentation: https://pandas.pydata.org/pandas-docs/stable/user_guide/indexing.html#returning-a-view-versus-a-copy\n",
      "  FULL_DS['pt code'] = FULL_DS['pt code'].apply(lambda x: str(x))\n"
     ]
    }
   ],
   "source": [
    "FULL_DS['pt code'] = FULL_DS['pt code'].apply(lambda x: str(x))"
   ]
  },
  {
   "cell_type": "code",
   "execution_count": 61,
   "id": "ahead-carnival",
   "metadata": {},
   "outputs": [],
   "source": [
    "FULL_DS = FULL_DS[FULL_DS['pt code'].apply(lambda x: True if x in mh_rus.ptcodes else False)]"
   ]
  },
  {
   "cell_type": "code",
   "execution_count": 62,
   "id": "cooperative-andrews",
   "metadata": {},
   "outputs": [],
   "source": [
    "FULL_DS.to_csv('./CorpsStatisticData/FULL_prepared_corp.csv', index=False)"
   ]
  },
  {
   "cell_type": "code",
   "execution_count": 63,
   "id": "proper-technique",
   "metadata": {},
   "outputs": [
    {
     "data": {
      "text/html": [
       "<div>\n",
       "<style scoped>\n",
       "    .dataframe tbody tr th:only-of-type {\n",
       "        vertical-align: middle;\n",
       "    }\n",
       "\n",
       "    .dataframe tbody tr th {\n",
       "        vertical-align: top;\n",
       "    }\n",
       "\n",
       "    .dataframe thead th {\n",
       "        text-align: right;\n",
       "    }\n",
       "</style>\n",
       "<table border=\"1\" class=\"dataframe\">\n",
       "  <thead>\n",
       "    <tr style=\"text-align: right;\">\n",
       "      <th></th>\n",
       "      <th>phrase</th>\n",
       "      <th>pt code</th>\n",
       "      <th>corp_name</th>\n",
       "      <th>lang</th>\n",
       "      <th>phrase_translated</th>\n",
       "    </tr>\n",
       "  </thead>\n",
       "  <tbody>\n",
       "    <tr>\n",
       "      <th>0</th>\n",
       "      <td>боль в суставах</td>\n",
       "      <td>10003239</td>\n",
       "      <td>CADEC</td>\n",
       "      <td>en</td>\n",
       "      <td>pain in joints\\n</td>\n",
       "    </tr>\n",
       "    <tr>\n",
       "      <th>1</th>\n",
       "      <td>боль в моей левой ноге</td>\n",
       "      <td>10033425</td>\n",
       "      <td>CADEC</td>\n",
       "      <td>en</td>\n",
       "      <td>pain in my left leg\\n</td>\n",
       "    </tr>\n",
       "    <tr>\n",
       "      <th>2</th>\n",
       "      <td>мышечные проблемы</td>\n",
       "      <td>10028641</td>\n",
       "      <td>CADEC</td>\n",
       "      <td>en</td>\n",
       "      <td>muscle problems\\n</td>\n",
       "    </tr>\n",
       "    <tr>\n",
       "      <th>3</th>\n",
       "      <td>мышечные боли</td>\n",
       "      <td>10028411</td>\n",
       "      <td>CADEC</td>\n",
       "      <td>en</td>\n",
       "      <td>muscle aches\\n</td>\n",
       "    </tr>\n",
       "    <tr>\n",
       "      <th>4</th>\n",
       "      <td>Сильная интенсивная левая рука и боль в плече</td>\n",
       "      <td>10033371</td>\n",
       "      <td>CADEC</td>\n",
       "      <td>en</td>\n",
       "      <td>severe intense left arm and shoulder pain\\n</td>\n",
       "    </tr>\n",
       "    <tr>\n",
       "      <th>...</th>\n",
       "      <td>...</td>\n",
       "      <td>...</td>\n",
       "      <td>...</td>\n",
       "      <td>...</td>\n",
       "      <td>...</td>\n",
       "    </tr>\n",
       "    <tr>\n",
       "      <th>132224</th>\n",
       "      <td>Окклюзия плечеголовного стента</td>\n",
       "      <td>10077143</td>\n",
       "      <td>meddra_llt</td>\n",
       "      <td>ru</td>\n",
       "      <td>NaN</td>\n",
       "    </tr>\n",
       "    <tr>\n",
       "      <th>132225</th>\n",
       "      <td>Острая макулярная нейроретинопатия</td>\n",
       "      <td>10086444</td>\n",
       "      <td>meddra_llt</td>\n",
       "      <td>ru</td>\n",
       "      <td>NaN</td>\n",
       "    </tr>\n",
       "    <tr>\n",
       "      <th>132226</th>\n",
       "      <td>Парацентральная острая срединная макулопатия</td>\n",
       "      <td>10086444</td>\n",
       "      <td>meddra_llt</td>\n",
       "      <td>ru</td>\n",
       "      <td>NaN</td>\n",
       "    </tr>\n",
       "    <tr>\n",
       "      <th>132227</th>\n",
       "      <td>Привкус продукта</td>\n",
       "      <td>10086446</td>\n",
       "      <td>meddra_llt</td>\n",
       "      <td>ru</td>\n",
       "      <td>NaN</td>\n",
       "    </tr>\n",
       "    <tr>\n",
       "      <th>132228</th>\n",
       "      <td>Цереброкардиальный синдром</td>\n",
       "      <td>10086448</td>\n",
       "      <td>meddra_llt</td>\n",
       "      <td>ru</td>\n",
       "      <td>NaN</td>\n",
       "    </tr>\n",
       "  </tbody>\n",
       "</table>\n",
       "<p>97793 rows × 5 columns</p>\n",
       "</div>"
      ],
      "text/plain": [
       "                                               phrase   pt code   corp_name  \\\n",
       "0                                     боль в суставах  10003239       CADEC   \n",
       "1                              боль в моей левой ноге  10033425       CADEC   \n",
       "2                                   мышечные проблемы  10028641       CADEC   \n",
       "3                                       мышечные боли  10028411       CADEC   \n",
       "4       Сильная интенсивная левая рука и боль в плече  10033371       CADEC   \n",
       "...                                               ...       ...         ...   \n",
       "132224                 Окклюзия плечеголовного стента  10077143  meddra_llt   \n",
       "132225             Острая макулярная нейроретинопатия  10086444  meddra_llt   \n",
       "132226   Парацентральная острая срединная макулопатия  10086444  meddra_llt   \n",
       "132227                               Привкус продукта  10086446  meddra_llt   \n",
       "132228                     Цереброкардиальный синдром  10086448  meddra_llt   \n",
       "\n",
       "       lang                            phrase_translated  \n",
       "0        en                             pain in joints\\n  \n",
       "1        en                        pain in my left leg\\n  \n",
       "2        en                            muscle problems\\n  \n",
       "3        en                               muscle aches\\n  \n",
       "4        en  severe intense left arm and shoulder pain\\n  \n",
       "...     ...                                          ...  \n",
       "132224   ru                                          NaN  \n",
       "132225   ru                                          NaN  \n",
       "132226   ru                                          NaN  \n",
       "132227   ru                                          NaN  \n",
       "132228   ru                                          NaN  \n",
       "\n",
       "[97793 rows x 5 columns]"
      ]
     },
     "execution_count": 63,
     "metadata": {},
     "output_type": "execute_result"
    }
   ],
   "source": [
    "FULL_DS"
   ]
  },
  {
   "cell_type": "code",
   "execution_count": 28,
   "id": "revised-bedroom",
   "metadata": {},
   "outputs": [
    {
     "name": "stdout",
     "output_type": "stream",
     "text": [
      "None\n"
     ]
    }
   ],
   "source": [
    "print(re.search('[A-Z][A-Z]+|([A-Z]\\.)([A-Z]\\.)+', 'Повышенные уровни C.P'))"
   ]
  },
  {
   "cell_type": "code",
   "execution_count": 4,
   "id": "opposite-dealer",
   "metadata": {},
   "outputs": [
    {
     "data": {
      "text/plain": [
       "'What are you doing'"
      ]
     },
     "execution_count": 4,
     "metadata": {},
     "output_type": "execute_result"
    }
   ],
   "source": [
    "translator = Translator()\n",
    "result = translator.translate('Mitä sinä teet')\n",
    "result.text"
   ]
  },
  {
   "cell_type": "code",
   "execution_count": 8,
   "id": "thirty-kitchen",
   "metadata": {},
   "outputs": [
    {
     "data": {
      "text/plain": [
       "'боль в суставах'"
      ]
     },
     "execution_count": 8,
     "metadata": {},
     "output_type": "execute_result"
    }
   ],
   "source": [
    "translator.translate('pain in joints', src='en', dest='ru').text"
   ]
  },
  {
   "cell_type": "code",
   "execution_count": 132,
   "id": "yellow-conducting",
   "metadata": {},
   "outputs": [
    {
     "data": {
      "text/plain": [
       "11908         pain in joints\\n\n",
       "11909    pain in my left leg\\n\n",
       "11910    Elevated CPK levels\\n\n",
       "11911        muscle problems\\n\n",
       "11912    elevated CPK levels\\n\n",
       "                 ...          \n",
       "76518                  anxiety\n",
       "76519                   stress\n",
       "76520    jump off the deap end\n",
       "76521               depression\n",
       "76522           sense of dread\n",
       "Name: phrase, Length: 64615, dtype: object"
      ]
     },
     "execution_count": 132,
     "metadata": {},
     "output_type": "execute_result"
    }
   ],
   "source": [
    "FULL_DS_EN['phrase'].dropna()"
   ]
  },
  {
   "cell_type": "markdown",
   "id": "political-raising",
   "metadata": {},
   "source": [
    "<h3>работа с hlt и доп. фильтрацией</h3>"
   ]
  },
  {
   "cell_type": "markdown",
   "id": "attempted-register",
   "metadata": {},
   "source": [
    "<h4>доп. фильтрация</h4>"
   ]
  },
  {
   "cell_type": "code",
   "execution_count": 11,
   "id": "amended-sharing",
   "metadata": {},
   "outputs": [],
   "source": [
    "from nltk.tokenize import word_tokenize\n",
    "import pandas as pd\n",
    "\n",
    "def filtering_long_phrases(phrase):\n",
    "    if len(word_tokenize(phrase))<=3:\n",
    "        return True\n",
    "    else:\n",
    "        return False\n",
    "    \n",
    "FULL_DS = pd.read_csv('./CorpsStatisticData/FULL_prepared_corp.csv')\n",
    "#FULL_DS_EN, FULL_DS_RU = FULL_DS[FULL_DS['lang']=='en'], FULL_DS[FULL_DS['lang']=='ru']\n",
    "#FULL_DS_EN = FULL_DS_EN[FULL_DS_EN['phrase_translated'].apply(filtering_long_phrases)]\n",
    "#FULL_DS = pd.concat((FULL_DS_EN, FULL_DS_RU), join='outer', ignore_index=True)"
   ]
  },
  {
   "cell_type": "code",
   "execution_count": 12,
   "id": "statutory-priority",
   "metadata": {},
   "outputs": [
    {
     "data": {
      "text/html": [
       "<div>\n",
       "<style scoped>\n",
       "    .dataframe tbody tr th:only-of-type {\n",
       "        vertical-align: middle;\n",
       "    }\n",
       "\n",
       "    .dataframe tbody tr th {\n",
       "        vertical-align: top;\n",
       "    }\n",
       "\n",
       "    .dataframe thead th {\n",
       "        text-align: right;\n",
       "    }\n",
       "</style>\n",
       "<table border=\"1\" class=\"dataframe\">\n",
       "  <thead>\n",
       "    <tr style=\"text-align: right;\">\n",
       "      <th></th>\n",
       "      <th>phrase</th>\n",
       "      <th>pt code</th>\n",
       "      <th>corp_name</th>\n",
       "      <th>lang</th>\n",
       "      <th>phrase_translated</th>\n",
       "    </tr>\n",
       "  </thead>\n",
       "  <tbody>\n",
       "    <tr>\n",
       "      <th>0</th>\n",
       "      <td>боль в суставах</td>\n",
       "      <td>10003239</td>\n",
       "      <td>CADEC</td>\n",
       "      <td>en</td>\n",
       "      <td>pain in joints\\n</td>\n",
       "    </tr>\n",
       "    <tr>\n",
       "      <th>1</th>\n",
       "      <td>боль в моей левой ноге</td>\n",
       "      <td>10033425</td>\n",
       "      <td>CADEC</td>\n",
       "      <td>en</td>\n",
       "      <td>pain in my left leg\\n</td>\n",
       "    </tr>\n",
       "    <tr>\n",
       "      <th>2</th>\n",
       "      <td>мышечные проблемы</td>\n",
       "      <td>10028641</td>\n",
       "      <td>CADEC</td>\n",
       "      <td>en</td>\n",
       "      <td>muscle problems\\n</td>\n",
       "    </tr>\n",
       "    <tr>\n",
       "      <th>3</th>\n",
       "      <td>мышечные боли</td>\n",
       "      <td>10028411</td>\n",
       "      <td>CADEC</td>\n",
       "      <td>en</td>\n",
       "      <td>muscle aches\\n</td>\n",
       "    </tr>\n",
       "    <tr>\n",
       "      <th>4</th>\n",
       "      <td>Сильная интенсивная левая рука и боль в плече</td>\n",
       "      <td>10033371</td>\n",
       "      <td>CADEC</td>\n",
       "      <td>en</td>\n",
       "      <td>severe intense left arm and shoulder pain\\n</td>\n",
       "    </tr>\n",
       "    <tr>\n",
       "      <th>...</th>\n",
       "      <td>...</td>\n",
       "      <td>...</td>\n",
       "      <td>...</td>\n",
       "      <td>...</td>\n",
       "      <td>...</td>\n",
       "    </tr>\n",
       "    <tr>\n",
       "      <th>99525</th>\n",
       "      <td>Генетические полиморфизмы</td>\n",
       "      <td>10083372</td>\n",
       "      <td>meddra_hlt</td>\n",
       "      <td>ru</td>\n",
       "      <td>NaN</td>\n",
       "    </tr>\n",
       "    <tr>\n",
       "      <th>99526</th>\n",
       "      <td>Коронавирусные инфекции</td>\n",
       "      <td>10085503</td>\n",
       "      <td>meddra_hlt</td>\n",
       "      <td>ru</td>\n",
       "      <td>NaN</td>\n",
       "    </tr>\n",
       "    <tr>\n",
       "      <th>99527</th>\n",
       "      <td>Инфекции, обусловленные вирусом гепатита</td>\n",
       "      <td>10084252</td>\n",
       "      <td>meddra_hlt</td>\n",
       "      <td>ru</td>\n",
       "      <td>NaN</td>\n",
       "    </tr>\n",
       "    <tr>\n",
       "      <th>99528</th>\n",
       "      <td>Диагностические процедуры для оценки нарушений...</td>\n",
       "      <td>10086191</td>\n",
       "      <td>meddra_hlt</td>\n",
       "      <td>ru</td>\n",
       "      <td>NaN</td>\n",
       "    </tr>\n",
       "    <tr>\n",
       "      <th>99529</th>\n",
       "      <td>Фолликулярные лимфомы</td>\n",
       "      <td>10078972</td>\n",
       "      <td>meddra_hlt</td>\n",
       "      <td>ru</td>\n",
       "      <td>NaN</td>\n",
       "    </tr>\n",
       "  </tbody>\n",
       "</table>\n",
       "<p>99530 rows × 5 columns</p>\n",
       "</div>"
      ],
      "text/plain": [
       "                                                  phrase   pt code  \\\n",
       "0                                        боль в суставах  10003239   \n",
       "1                                 боль в моей левой ноге  10033425   \n",
       "2                                      мышечные проблемы  10028641   \n",
       "3                                          мышечные боли  10028411   \n",
       "4          Сильная интенсивная левая рука и боль в плече  10033371   \n",
       "...                                                  ...       ...   \n",
       "99525                          Генетические полиморфизмы  10083372   \n",
       "99526                            Коронавирусные инфекции  10085503   \n",
       "99527           Инфекции, обусловленные вирусом гепатита  10084252   \n",
       "99528  Диагностические процедуры для оценки нарушений...  10086191   \n",
       "99529                              Фолликулярные лимфомы  10078972   \n",
       "\n",
       "        corp_name lang                            phrase_translated  \n",
       "0           CADEC   en                             pain in joints\\n  \n",
       "1           CADEC   en                        pain in my left leg\\n  \n",
       "2           CADEC   en                            muscle problems\\n  \n",
       "3           CADEC   en                               muscle aches\\n  \n",
       "4           CADEC   en  severe intense left arm and shoulder pain\\n  \n",
       "...           ...  ...                                          ...  \n",
       "99525  meddra_hlt   ru                                          NaN  \n",
       "99526  meddra_hlt   ru                                          NaN  \n",
       "99527  meddra_hlt   ru                                          NaN  \n",
       "99528  meddra_hlt   ru                                          NaN  \n",
       "99529  meddra_hlt   ru                                          NaN  \n",
       "\n",
       "[99530 rows x 5 columns]"
      ]
     },
     "execution_count": 12,
     "metadata": {},
     "output_type": "execute_result"
    }
   ],
   "source": [
    "with open('./External/hlt.asc', \"r\") as f, open('./External/hlt_pt.asc', \"r\") as map_f:\n",
    "    mh_rus.hltcode_to_hlt = {}\n",
    "    mh_rus.hlt_to_hltcode = {}\n",
    "    for hlt_line in f:\n",
    "        hlt_line = hlt_line.split(\"$\")\n",
    "        mh_rus.hltcode_to_hlt[hlt_line[0]] = hlt_line[1]\n",
    "        mh_rus.hlt_to_hltcode[hlt_line[1]] = hlt_line[0]\n",
    "    mh_rus.hltcode_to_ptcode = {}\n",
    "    for map_line in map_f:\n",
    "        map_line = map_line.split(\"$\")\n",
    "        mh_rus.hltcode_to_ptcode[map_line[0]] = map_line[1]\n",
    "    mh_rus.hlt_to_ptcode = {k: mh_rus.hltcode_to_ptcode[v] for k, v in mh_rus.hlt_to_hltcode.items()}\n",
    "\n",
    "\n",
    "FULL_DS = concat_new_corp_to_ds(FULL_DS, mh_rus.hlt_to_ptcode.keys(),\n",
    "                                mh_rus.hlt_to_ptcode.values(), 'meddra_hlt', 'ru')\n",
    "FULL_DS"
   ]
  },
  {
   "cell_type": "code",
   "execution_count": 13,
   "id": "optical-daily",
   "metadata": {},
   "outputs": [],
   "source": [
    "FULL_DS.to_csv('./CorpsStatisticData/FULL_prepared_hlt_corp.csv')"
   ]
  },
  {
   "cell_type": "code",
   "execution_count": 16,
   "id": "traditional-march",
   "metadata": {},
   "outputs": [
    {
     "name": "stdout",
     "output_type": "stream",
     "text": [
      "openssl req - new - newkey rsa :4096 - nodes- subj \"/ CN = newuser / O = JUPYTER . NRCKI . RU \"- keyout key . key - out cert . csr\n"
     ]
    }
   ],
   "source": [
    "s = '''openssl req - new - newkey rsa :4096 - nodes\n",
    "- subj \"/ CN = newuser / O = JUPYTER . NRCKI . RU \"\n",
    "- keyout key . key - out cert . csr'''.replace('\\n', '')\n",
    "print(s)"
   ]
  },
  {
   "cell_type": "markdown",
   "id": "charming-preparation",
   "metadata": {},
   "source": [
    "---"
   ]
  },
  {
   "cell_type": "markdown",
   "id": "tamil-electric",
   "metadata": {},
   "source": [
    "<h2>Дополнительная статистика по RDRS</h2>"
   ]
  },
  {
   "cell_type": "code",
   "execution_count": 12,
   "id": "stylish-offense",
   "metadata": {},
   "outputs": [],
   "source": [
    "cfg = {'corp_name': 'RDRS',\n",
    "       'lemmatize': True,\n",
    "       'lang': 'ru', \n",
    "       }\n",
    "\n",
    "\n",
    "corpus_name = cfg['corp_name']\n",
    "\n",
    "ds = []\n",
    "with jsonlines.open('./Raw/medNorm_16022022.jsonlines') as reader:\n",
    "    for obj in reader:\n",
    "        ds.append(obj)"
   ]
  },
  {
   "cell_type": "code",
   "execution_count": 15,
   "id": "intermediate-meditation",
   "metadata": {},
   "outputs": [
    {
     "data": {
      "text/plain": [
       "{'ADR', 'Disease:Indication'}"
      ]
     },
     "execution_count": 15,
     "metadata": {},
     "output_type": "execute_result"
    }
   ],
   "source": [
    "ent_stat_df = pd.DataFrame(columns=['ADR', 'Indication'])\n",
    "ent_types_set = set()\n",
    "for review in ds:\n",
    "    for ent in review['objects']['MedEntity']:\n",
    "        if 'MedDRA' in ent.keys() and ent['MedDRA']!='':\n",
    "            if 'DisType' in ent.keys():\n",
    "                ent_type = 'Indication'\n",
    "                #ent_types_set.add(ent['MedEntityType']+':'+ent['DisType'])\n",
    "            else:\n",
    "                ent_type = 'ADR'\n",
    "                #ent_types_set.add(ent['MedEntityType'])\n",
    "            \n",
    "            #if ent['MedDRA']=='':\n",
    "            #    continue\n",
    "            #else:\n",
    "ent_types_set                "
   ]
  },
  {
   "cell_type": "markdown",
   "id": "conceptual-nylon",
   "metadata": {},
   "source": [
    "<h3>MedNorm (с ним не вышло)</h3>"
   ]
  },
  {
   "cell_type": "code",
   "execution_count": null,
   "id": "toxic-physics",
   "metadata": {
    "scrolled": true
   },
   "outputs": [],
   "source": [
    "#По сути MedNorm это объединение и компиляция 5 датасетов, некоторые из которых уже были предствалены\n",
    "#Это CADEC, TwADR-L, TwiMed, SMM4H 2017, TAC 2017\n",
    "\n",
    "\n",
    "df = pd.read_csv('./Raw/MedNorm/mednorm_full.tsv', sep='\\t')\n",
    "\n",
    "#pd.to_numeric(df['meddra_code'], downcast='integer', errors='ignore')\n",
    "df['pt_id'] = df['meddra_code'].apply(lambda x: str(int(x)) if pd.notna(x) else x)\n",
    "\n",
    "\n",
    "mask_not_matched_pt_ids = df['meddra_code'].isna()\n",
    "df.loc[mask_not_matched_pt_ids, 'pt_id'] = df['single_mapped_meddra_codes'][mask_not_matched_pt_ids]\n",
    "\n",
    "all_pt_ids = df['pt_id'].tolist()\n",
    "all_pt_phrases = df['phrase'].tolist()\n",
    "\n",
    "print(all_pt_phrases[700:710])\n",
    "print(all_pt_ids[700:710])\n",
    "#print([mh_en.ptcode_to_pt[code] for code in all_pt_ids[700:710]])\n",
    "\n",
    "errors = 0\n",
    "for code in all_pt_ids:\n",
    "    if code in mh_en.ptcodes or code in mh_en.lltcode_to_ptcode.keys():\n",
    "        pass\n",
    "    else:\n",
    "        errors+=1\n",
    "#df.loc[:, 'pt_id'] = pd.to_numeric(df['pt_id'], downcast='integer', errors='ignore')\n",
    "errors"
   ]
  },
  {
   "cell_type": "code",
   "execution_count": null,
   "id": "appreciated-colorado",
   "metadata": {
    "scrolled": true
   },
   "outputs": [],
   "source": [
    "stat_d = count_representativeness(all_pt_ids, all_pt_phrases)"
   ]
  }
 ],
 "metadata": {
  "kernelspec": {
   "display_name": "prepare_data",
   "language": "python",
   "name": "myenv"
  },
  "language_info": {
   "codemirror_mode": {
    "name": "ipython",
    "version": 3
   },
   "file_extension": ".py",
   "mimetype": "text/x-python",
   "name": "python",
   "nbconvert_exporter": "python",
   "pygments_lexer": "ipython3",
   "version": "3.9.9"
  }
 },
 "nbformat": 4,
 "nbformat_minor": 5
}
