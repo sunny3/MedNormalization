{
 "cells": [
  {
   "cell_type": "markdown",
   "id": "later-equation",
   "metadata": {},
   "source": [
    "Ноутбук по переводу UMLS CUI в pt meddra и переводу на рус. англоязычных датасетов, а также подсчету статистики"
   ]
  },
  {
   "cell_type": "code",
   "execution_count": 1,
   "id": "respiratory-adobe",
   "metadata": {},
   "outputs": [],
   "source": [
    "import os\n",
    "import xml.etree.ElementTree as ET\n",
    "from nltk.stem import WordNetLemmatizer\n",
    "import nltk\n",
    "from nltk.corpus import wordnet\n",
    "from pprint import pprint\n",
    "import numpy as np\n",
    "import matplotlib.pyplot as plt\n",
    "import jsonlines\n",
    "from sklearn.model_selection import train_test_split\n",
    "import pandas as pd"
   ]
  },
  {
   "cell_type": "code",
   "execution_count": null,
   "id": "underlying-break",
   "metadata": {},
   "outputs": [],
   "source": [
    "nltk.download('punkt')"
   ]
  },
  {
   "cell_type": "code",
   "execution_count": 25,
   "id": "norman-perry",
   "metadata": {},
   "outputs": [
    {
     "name": "stderr",
     "output_type": "stream",
     "text": [
      "[nltk_data] Downloading package omw-1.4 to\n",
      "[nltk_data]     /home/romanrybka/nltk_data...\n",
      "[nltk_data]   Unzipping corpora/omw-1.4.zip.\n"
     ]
    },
    {
     "data": {
      "text/plain": [
       "True"
      ]
     },
     "execution_count": 25,
     "metadata": {},
     "output_type": "execute_result"
    }
   ],
   "source": [
    "nltk.download('omw-1.4')"
   ]
  },
  {
   "cell_type": "markdown",
   "id": "applicable-terrain",
   "metadata": {},
   "source": [
    "<h2>Инициализация необходимых объектов, функций, классов</h2>"
   ]
  },
  {
   "cell_type": "markdown",
   "id": "built-arlington",
   "metadata": {},
   "source": [
    "<h3>Маппинг кодов с концептами pt</h3>"
   ]
  },
  {
   "cell_type": "code",
   "execution_count": 2,
   "id": "fantastic-adult",
   "metadata": {},
   "outputs": [],
   "source": [
    "class MeddraHelper():\n",
    "    def __init__(self, meddra_path_pt, meddra_path_llt, umls_path, lang='ENG'):\n",
    "        assert lang in ['ENG', 'RUS'], \"Choose 'RUS' or 'ENG'\"\n",
    "        self.meddra_path_pt = meddra_path_pt\n",
    "        self.meddra_path_llt = meddra_path_llt\n",
    "        self.umls_path = umls_path\n",
    "        self.language = lang\n",
    "        self.ptcodes = []\n",
    "        self.ptcode_to_pt = {}\n",
    "        self.pt_to_ptcode = {}\n",
    "        self.umlscode_to_ptcode = {}\n",
    "        self.umlscode_to_pt = {}\n",
    "        self.umlscode_to_lltcode = {}\n",
    "        self.umlscode_to_llt = {}\n",
    "        self.lltcode_to_ptcode = {}\n",
    "        self.llt_to_lltcode = {}\n",
    "        self.Load()\n",
    "\n",
    "    def Load(self):\n",
    "        \"\"\"\n",
    "        собираем из медры только то, что надо, а именно:\n",
    "        - все пт коды для быстрой проверки, является ли найденный где-то код PT кодом\n",
    "        \"\"\"\n",
    "        with open(self.meddra_path_pt, \"r\") as f:\n",
    "            for pt_line in f:\n",
    "                pt_line = pt_line.split(\"$\")\n",
    "                self.ptcodes.append(pt_line[0])\n",
    "                self.ptcode_to_pt[pt_line[0]] = pt_line[1]\n",
    "                self.pt_to_ptcode[pt_line[1]] = pt_line[0]\n",
    "                \n",
    "        with open(self.meddra_path_llt, \"r\") as f:\n",
    "            for llt_line in f:\n",
    "                llt_line = llt_line.split(\"$\")\n",
    "                self.lltcode_to_ptcode[llt_line[0]] = llt_line[2]\n",
    "                self.llt_to_lltcode[llt_line[1]] = llt_line[0]\n",
    "        \n",
    "        with open(self.umls_path, \"r\") as f: #./Data/ExternalMRCONSO.RRF 12 и 13 строки\n",
    "            for umls_line in f:\n",
    "                umls_line_values = umls_line.split('|')\n",
    "                umls_meddra_flag, umls_meddra_pt_or_llt_flag, lang_flag = umls_line_values[11], umls_line_values[12], umls_line_values[1] \n",
    "                umls_meddra_flag = True if umls_meddra_flag=='MDR' else False\n",
    "                umls_meddra_pt_flag = True if umls_meddra_pt_or_llt_flag=='PT' else False\n",
    "                umls_meddra_llt_flag = True if umls_meddra_pt_or_llt_flag=='LLT' else False\n",
    "                lang_flag = True if self.language == lang_flag else False\n",
    "                if not umls_meddra_flag or not (umls_meddra_pt_flag or umls_meddra_llt_flag)  or not lang_flag:\n",
    "                    continue\n",
    "                umls_code = umls_line_values[0]\n",
    "                meddra_code = umls_line_values[10] \n",
    "                meddra_term = umls_line_values[14]\n",
    "                if umls_meddra_pt_flag:\n",
    "                    self.umlscode_to_ptcode[umls_code] = meddra_code\n",
    "                    self.umlscode_to_pt[umls_code] = meddra_term\n",
    "                if umls_meddra_llt_flag:\n",
    "                    self.umlscode_to_lltcode[umls_code] = meddra_code\n",
    "                    self.umlscode_to_llt[umls_code] = meddra_term\n",
    "                    \n",
    "    def force_umlscode_to_ptcode(self, umls_code):\n",
    "        #если код umls не приводится сразу к pt\n",
    "        #тогда пробуем привести к llt, затем к pt\n",
    "        if umls_code in self.umlscode_to_ptcode.keys():\n",
    "            return self.umlscode_to_ptcode[umls_code]\n",
    "        elif umls_code in self.umlscode_to_lltcode.keys():\n",
    "            return self.lltcode_to_ptcode[self.umlscode_to_lltcode[umls_code]]\n",
    "        else:\n",
    "            return None"
   ]
  },
  {
   "cell_type": "markdown",
   "id": "together-purchase",
   "metadata": {},
   "source": [
    "<h3>Функции по сбору статистики и лемматизации</h3>"
   ]
  },
  {
   "cell_type": "code",
   "execution_count": 3,
   "id": "pleased-defense",
   "metadata": {},
   "outputs": [],
   "source": [
    "import re\n",
    "\n",
    "def nltk_pos_tagger(word):\n",
    "    nltk_tag = nltk.pos_tag([word])[0][1]\n",
    "    if nltk_tag.startswith('J'):\n",
    "        return wordnet.ADJ\n",
    "    elif nltk_tag.startswith('V'):\n",
    "        return wordnet.VERB\n",
    "    elif nltk_tag.startswith('N'):\n",
    "        return wordnet.NOUN\n",
    "    elif nltk_tag.startswith('R'):\n",
    "        return wordnet.ADV\n",
    "    else:          \n",
    "        return None\n",
    "    \n",
    "    \n",
    "def get_word_lemma(word):\n",
    "    tag = nltk_pos_tagger(word)\n",
    "    if tag:\n",
    "        return lemmatizer.lemmatize(word.lower(), tag)\n",
    "    else:\n",
    "        return lemmatizer.lemmatize(word.lower())\n",
    "    \n",
    "def lemmatize_phrase(phrase):\n",
    "    words = nltk.word_tokenize(phrase)\n",
    "    lemmas = list(map(get_word_lemma, words)) \n",
    "    return ' '.join(lemmas)\n",
    "    \n",
    "def count_representativeness(pt_ids, phrases, lemmatize=True):\n",
    "    stat_dict = {k: set() for k in set(pt_ids)}\n",
    "    for pt_id, phrase in zip(pt_ids, phrases):\n",
    "        if lemmatize:\n",
    "            stat_dict[pt_id].add(re.sub('\\s+', ' ', lemmatize_phrase(phrase).lower()))\n",
    "        else:\n",
    "            stat_dict[pt_id].add(re.sub('\\s+', ' ', phrase.lower()))\n",
    "    count_stat_dict = {k: len(v) for k, v in stat_dict.items()}\n",
    "    return count_stat_dict"
   ]
  },
  {
   "cell_type": "markdown",
   "id": "plastic-fireplace",
   "metadata": {},
   "source": [
    "<h3>Функции по визуализации</h3>"
   ]
  },
  {
   "cell_type": "code",
   "execution_count": 4,
   "id": "pursuant-painting",
   "metadata": {},
   "outputs": [],
   "source": [
    "def count_uniq_codes_and_phrases(all_pt_phrases, lemmatize_phrases=True):\n",
    "    print('num uniq meddra codes: %s'%len(stat_d))\n",
    "    if lemmatize_phrases:\n",
    "        print('num uniq phrases: %s'%len(set(map(lambda x: re.sub('\\s+', ' ', lemmatize_phrase(x).lower()), all_pt_phrases))))\n",
    "    else:\n",
    "        print('num uniq phrases: %s'%len(set(map(lambda x: re.sub('\\s+', ' ', x.lower()), all_pt_phrases))))\n",
    "\n",
    "def avg_num_phrases_per_code(stat_d):\n",
    "    print('avg num phrases per code: %s'%(sum(list(stat_d.values()))/len(stat_d)))\n",
    "    \n",
    "def get_hist(stat_d, n_bins, hist_fname, figsize=(6,8), xlim = None, ylim = None):\n",
    "    if n_bins == 'auto':\n",
    "        max_uniq_phrases = max(list(stat_d.values()))\n",
    "        n_bins = max_uniq_phrases-1\n",
    "    plt.figure(figsize=figsize)\n",
    "    N, bins, patches = plt.hist(list(stat_d.values()), bins = n_bins)\n",
    "    if xlim:\n",
    "        plt.xlim(left = xlim[0])\n",
    "        plt.xlim(right = xlim[1])\n",
    "    if ylim:\n",
    "        plt.ylim(left=ylim[0])\n",
    "        plt.ylim(right=ylim[1])\n",
    "    plt.xlabel('Кол-во уникальных лемматизированных фраз на 1 pt код')\n",
    "    plt.ylabel('Кол-во pt кодов в корпусе')\n",
    "    plt.savefig(hist_fname)\n",
    "    plt.show()\n",
    "    return (N, bins, patches)\n",
    "\n",
    "def get_most_freq_codes(bins, stat_d, num_last_bins = 2):\n",
    "    #num_last_bins - сколько колонок взять с конца гистограммы\n",
    "    freq_max_section = np.trunc((bins[-(num_last_bins+1)], bins[-1]))\n",
    "    return [k for k,v in stat_d.items() if v in freq_max_section]"
   ]
  },
  {
   "cell_type": "markdown",
   "id": "competent-houston",
   "metadata": {},
   "source": [
    "<h3>Глобальные объекты и переменные</h3>"
   ]
  },
  {
   "cell_type": "code",
   "execution_count": 5,
   "id": "confident-yemen",
   "metadata": {},
   "outputs": [],
   "source": [
    "ALL_AVAILABLE_PTCODES = set()"
   ]
  },
  {
   "cell_type": "code",
   "execution_count": 6,
   "id": "elementary-grill",
   "metadata": {},
   "outputs": [],
   "source": [
    "mh_en = MeddraHelper(meddra_path_pt = './External/pt_en.asc', \n",
    "                     meddra_path_llt = './External/llt_en.asc',\n",
    "                     umls_path = './External/MRCONSO.RRF')\n",
    "mh_rus = MeddraHelper(meddra_path_pt = './External/pt_rus.asc', \n",
    "                      meddra_path_llt = './External/llt_rus.asc',\n",
    "                      lang = 'RUS', \n",
    "                      umls_path = './External/MRCONSO.RRF')\n",
    "lemmatizer = WordNetLemmatizer()"
   ]
  },
  {
   "cell_type": "code",
   "execution_count": 7,
   "id": "stone-alarm",
   "metadata": {},
   "outputs": [],
   "source": [
    "FULL_STAT = {k: 0 for k in mh_en.ptcodes}"
   ]
  },
  {
   "cell_type": "markdown",
   "id": "ordered-annotation",
   "metadata": {},
   "source": [
    "<h2>Обработка датасетов</h2>"
   ]
  },
  {
   "cell_type": "markdown",
   "id": "suspended-synthetic",
   "metadata": {},
   "source": [
    "<h3>TAC 2017</h3>"
   ]
  },
  {
   "cell_type": "code",
   "execution_count": 8,
   "id": "thorough-smile",
   "metadata": {},
   "outputs": [],
   "source": [
    "#без контекста, только фразы c нормализацией\n",
    "data_dir = './Raw/TAC 2017/train_xml'\n",
    "\n",
    "def list_and_filter_dir(data_dir):\n",
    "    for file in os.listdir(data_dir):\n",
    "        if file[0]=='.' or file.find('xml')<0:\n",
    "            continue\n",
    "        yield file\n",
    "        \n",
    "\n",
    "all_pt_ids = []\n",
    "all_pt_terms = []\n",
    "all_pt_phrases = []\n",
    "\n",
    "for file in list_and_filter_dir(data_dir):\n",
    "    tree = ET.parse(os.path.join(data_dir, file))\n",
    "    root = tree.getroot()\n",
    "    \n",
    "    pt_ids = []\n",
    "    pt_terms = []\n",
    "    pt_phrases = []\n",
    "        \n",
    "    for norm_mention in root.findall('./Reactions/Reaction'):\n",
    "        for meddra_code in norm_mention.findall('Normalization'):\n",
    "            meddra_pt = meddra_code.get('meddra_pt')\n",
    "            meddra_pt_id = meddra_code.get('meddra_pt_id')\n",
    "            if meddra_pt is None or meddra_pt_id is None:\n",
    "                continue\n",
    "            pt_ids.append(meddra_pt_id)\n",
    "            pt_terms.append(meddra_pt)\n",
    "            pt_phrases.append(norm_mention.get('str'))\n",
    "            \n",
    "    all_pt_ids.extend(pt_ids)\n",
    "    all_pt_terms.extend(pt_terms)\n",
    "    all_pt_phrases.extend(pt_phrases)\n",
    "    \n",
    "#print(all_pt_ids[500:508])\n",
    "#print(all_pt_terms[500:508])\n",
    "#print(all_pt_phrases[500:508])\n",
    "\n",
    "stat_d = count_representativeness(all_pt_ids, all_pt_phrases)\n",
    "stat_d = {k: v for k, v in stat_d.items() if k in mh_en.ptcodes}\n",
    "#pprint(stat_d)"
   ]
  },
  {
   "cell_type": "code",
   "execution_count": 9,
   "id": "behavioral-township",
   "metadata": {},
   "outputs": [
    {
     "name": "stdout",
     "output_type": "stream",
     "text": [
      "num concepts: 7045\n"
     ]
    }
   ],
   "source": [
    "print('num concepts: %s'%len(all_pt_ids))"
   ]
  },
  {
   "cell_type": "code",
   "execution_count": 69,
   "id": "rolled-worst",
   "metadata": {},
   "outputs": [
    {
     "data": {
      "image/png": "[encoded data removed]",
      "text/plain": [
       "<Figure size 720x720 with 1 Axes>"
      ]
     },
     "metadata": {
      "needs_background": "light"
     },
     "output_type": "display_data"
    },
    {
     "name": "stdout",
     "output_type": "stream",
     "text": [
      "num uniq meddra codes: 1464\n",
      "num uniq phrases: 2731\n",
      "avg num phrases per code: 1.8599726775956285\n"
     ]
    }
   ],
   "source": [
    "N, bins, pathes = get_hist(stat_d, n_bins = 'auto', figsize = (10, 10), hist_fname='TAC 2017 (with lemmatization).png')\n",
    "count_uniq_codes_and_phrases(all_pt_phrases)\n",
    "avg_num_phrases_per_code(stat_d)"
   ]
  },
  {
   "cell_type": "code",
   "execution_count": 138,
   "id": "metric-check",
   "metadata": {},
   "outputs": [
    {
     "data": {
      "text/plain": [
       "34"
      ]
     },
     "execution_count": 138,
     "metadata": {},
     "output_type": "execute_result"
    }
   ],
   "source": [
    "len(bins)"
   ]
  },
  {
   "cell_type": "code",
   "execution_count": 74,
   "id": "secondary-singer",
   "metadata": {},
   "outputs": [],
   "source": [
    "freq_codes = get_most_freq_codes(bins, stat_d, num_last_bins = 2)"
   ]
  },
  {
   "cell_type": "code",
   "execution_count": 82,
   "id": "specialized-crown",
   "metadata": {},
   "outputs": [
    {
     "name": "stdout",
     "output_type": "stream",
     "text": [
      "['Alanine aminotransferase increased']\n"
     ]
    }
   ],
   "source": [
    "pprint(list(map(lambda x: mh.ptcode_to_pt[x], freq_codes)), indent=1)"
   ]
  },
  {
   "cell_type": "code",
   "execution_count": 128,
   "id": "powered-cruise",
   "metadata": {},
   "outputs": [],
   "source": [
    "for k in stat_d:  \n",
    "    FULL_STAT[k]+=stat_d[k]\n",
    "    \n",
    "ALL_AVAILABLE_PTCODES.update(set(stat_d.keys()))"
   ]
  },
  {
   "cell_type": "markdown",
   "id": "geographic-ireland",
   "metadata": {},
   "source": [
    "<h3>SMM4H 2017</h3>"
   ]
  },
  {
   "cell_type": "code",
   "execution_count": 1,
   "id": "dynamic-forwarding",
   "metadata": {},
   "outputs": [
    {
     "ename": "NameError",
     "evalue": "name 'mh_en' is not defined",
     "output_type": "error",
     "traceback": [
      "\u001b[0;31m---------------------------------------------------------------------------\u001b[0m",
      "\u001b[0;31mNameError\u001b[0m                                 Traceback (most recent call last)",
      "Input \u001b[0;32mIn [1]\u001b[0m, in \u001b[0;36m<module>\u001b[0;34m\u001b[0m\n\u001b[1;32m     11\u001b[0m     \u001b[38;5;28;01mcontinue\u001b[39;00m\n\u001b[1;32m     12\u001b[0m row_inf \u001b[38;5;241m=\u001b[39m pair\u001b[38;5;241m.\u001b[39msplit(\u001b[38;5;124m'\u001b[39m\u001b[38;5;130;01m\\t\u001b[39;00m\u001b[38;5;124m'\u001b[39m)\n\u001b[0;32m---> 13\u001b[0m \u001b[38;5;28;01mif\u001b[39;00m row_inf[\u001b[38;5;241m2\u001b[39m] \u001b[38;5;129;01min\u001b[39;00m \u001b[43mmh_en\u001b[49m\u001b[38;5;241m.\u001b[39mptcodes:\n\u001b[1;32m     14\u001b[0m     train_phrases\u001b[38;5;241m.\u001b[39mappend(row_inf[\u001b[38;5;241m1\u001b[39m])\n\u001b[1;32m     15\u001b[0m     train_terms\u001b[38;5;241m.\u001b[39mappend(mh_en\u001b[38;5;241m.\u001b[39mptcode_to_pt[row_inf[\u001b[38;5;241m2\u001b[39m]])\n",
      "\u001b[0;31mNameError\u001b[0m: name 'mh_en' is not defined"
     ]
    }
   ],
   "source": [
    "data_dir = './Raw/SMM4H_2017/'\n",
    "with open(data_dir + 'train.txt') as tr, open(data_dir + 'test.txt') as ts:\n",
    "    train_phrases = []\n",
    "    train_terms = []\n",
    "    train_codes = []\n",
    "    test_phrases = []\n",
    "    test_terms = []\n",
    "    test_codes = []\n",
    "    for pair in tr.read().split('\\n'):\n",
    "        if pair=='':\n",
    "            continue\n",
    "        row_inf = pair.split('\\t')\n",
    "        if row_inf[2] in mh_en.ptcodes:\n",
    "            train_phrases.append(row_inf[1])\n",
    "            train_terms.append(mh_en.ptcode_to_pt[row_inf[2]])\n",
    "            train_codes.append(row_inf[2])\n",
    "    for pair in ts.read().split('\\n'):\n",
    "        if pair=='':\n",
    "            continue\n",
    "        row_inf = pair.split('\\t')\n",
    "        if row_inf[2] in mh_en.ptcodes:\n",
    "            test_phrases.append(row_inf[1])\n",
    "            test_terms.append(mh_en.ptcode_to_pt[row_inf[2]])\n",
    "            test_codes.append(row_inf[2])\n",
    "\n",
    "all_pt_ids = train_codes + test_codes\n",
    "all_pt_phrases = train_phrases + test_phrases\n",
    "stat_d = count_representativeness(all_pt_ids, all_pt_phrases)"
   ]
  },
  {
   "cell_type": "code",
   "execution_count": 11,
   "id": "revised-respondent",
   "metadata": {},
   "outputs": [
    {
     "name": "stdout",
     "output_type": "stream",
     "text": [
      "num concepts: 9121\n"
     ]
    }
   ],
   "source": [
    "print('num concepts: %s'%len(all_pt_ids))"
   ]
  },
  {
   "cell_type": "code",
   "execution_count": 71,
   "id": "parallel-sheep",
   "metadata": {
    "scrolled": true
   },
   "outputs": [
    {
     "data": {
      "image/png": "[encoded data removed]",
      "text/plain": [
       "<Figure size 576x576 with 1 Axes>"
      ]
     },
     "metadata": {
      "needs_background": "light"
     },
     "output_type": "display_data"
    },
    {
     "name": "stdout",
     "output_type": "stream",
     "text": [
      "num uniq meddra codes: 497\n",
      "num uniq phrases: 3313\n",
      "avg num phrases per code: 6.710261569416499\n"
     ]
    }
   ],
   "source": [
    "N, bins, pathes = get_hist(stat_d, n_bins = 'auto', \\\n",
    "                           figsize=(8,8), \\\n",
    "                           hist_fname='SMM4H 2017 (with lemmatization).png')\n",
    "count_uniq_codes_and_phrases(all_pt_phrases)\n",
    "avg_num_phrases_per_code(stat_d)"
   ]
  },
  {
   "cell_type": "code",
   "execution_count": 33,
   "id": "spare-tamil",
   "metadata": {},
   "outputs": [
    {
     "data": {
      "image/png": "[encoded data removed]",
      "text/plain": [
       "<Figure size 1440x432 with 1 Axes>"
      ]
     },
     "metadata": {
      "needs_background": "light"
     },
     "output_type": "display_data"
    }
   ],
   "source": [
    "N, bins, pathes = get_hist(stat_d, n_bins = 'auto', \\\n",
    "                           figsize=(20,6), \\\n",
    "                           xlim = (0,50), \\\n",
    "                           hist_fname='SMM4H 2017 (with lemmatization) xlim_right 50.png')"
   ]
  },
  {
   "cell_type": "code",
   "execution_count": 133,
   "id": "attempted-chain",
   "metadata": {},
   "outputs": [],
   "source": [
    "for k in stat_d:  \n",
    "    FULL_STAT[k]+=stat_d[k]\n",
    "    \n",
    "ALL_AVAILABLE_PTCODES.update(set(stat_d.keys()))"
   ]
  },
  {
   "cell_type": "markdown",
   "id": "spiritual-macro",
   "metadata": {},
   "source": [
    "<h3>Наш корпус RDR</h3>"
   ]
  },
  {
   "cell_type": "code",
   "execution_count": 12,
   "id": "floppy-smile",
   "metadata": {},
   "outputs": [],
   "source": [
    "ds = []\n",
    "with jsonlines.open('./Raw/medNorm_16022022.jsonlines') as reader:\n",
    "    for obj in reader:\n",
    "        ds.append(obj)"
   ]
  },
  {
   "cell_type": "code",
   "execution_count": 36,
   "id": "protective-pathology",
   "metadata": {},
   "outputs": [
    {
     "data": {
      "text/plain": [
       "'Недостаточность 11-бета-гидроксилазы'"
      ]
     },
     "execution_count": 36,
     "metadata": {},
     "output_type": "execute_result"
    }
   ],
   "source": [
    "list(mh_rus.pt_to_ptcode.keys())[0]"
   ]
  },
  {
   "cell_type": "code",
   "execution_count": 13,
   "id": "designing-process",
   "metadata": {},
   "outputs": [],
   "source": [
    "all_pt_ids = []\n",
    "all_pt_phrases = []\n",
    "for review in ds:\n",
    "    for ent in review['objects']['MedEntity']:\n",
    "        if 'MedDRA' in ent.keys() and ent['MedDRA']!='':\n",
    "            try:\n",
    "                all_pt_ids.append(mh_rus.pt_to_ptcode[ent['MedDRA'].split('|')[0]])\n",
    "                all_pt_phrases.append(ent['text'])\n",
    "            except KeyError:\n",
    "                log_markup_errors.append({'review_id': review['meta']['fileName'], 'entity_id': ent['xmiID']})\n",
    "stat_d = count_representativeness(all_pt_ids, all_pt_phrases)"
   ]
  },
  {
   "cell_type": "code",
   "execution_count": 14,
   "id": "accomplished-resistance",
   "metadata": {},
   "outputs": [
    {
     "name": "stdout",
     "output_type": "stream",
     "text": [
      "num concepts: 11908\n"
     ]
    }
   ],
   "source": [
    "print('num concepts: %s'%len(all_pt_ids))"
   ]
  },
  {
   "cell_type": "code",
   "execution_count": 43,
   "id": "academic-homeless",
   "metadata": {},
   "outputs": [
    {
     "data": {
      "image/png": "[encoded data removed]",
      "text/plain": [
       "<Figure size 1440x576 with 1 Axes>"
      ]
     },
     "metadata": {
      "needs_background": "light"
     },
     "output_type": "display_data"
    },
    {
     "name": "stdout",
     "output_type": "stream",
     "text": [
      "num uniq meddra codes: 490\n",
      "num uniq phrases: 3263\n",
      "avg num phrases per code: 6.7122448979591836\n"
     ]
    }
   ],
   "source": [
    "N, bins, pathes = get_hist(stat_d, n_bins = 'auto', \\\n",
    "                           figsize=(20,8), \\\n",
    "                           hist_fname='RDR (with lemmatization).png')\n",
    "count_uniq_codes_and_phrases(all_pt_phrases)\n",
    "avg_num_phrases_per_code(stat_d)"
   ]
  },
  {
   "cell_type": "code",
   "execution_count": 42,
   "id": "funky-creek",
   "metadata": {},
   "outputs": [
    {
     "data": {
      "image/png": "[encoded data removed]",
      "text/plain": [
       "<Figure size 1440x576 with 1 Axes>"
      ]
     },
     "metadata": {
      "needs_background": "light"
     },
     "output_type": "display_data"
    }
   ],
   "source": [
    "N, bins, pathes = get_hist(stat_d, n_bins = 'auto', \\\n",
    "                           figsize = (20,8), \\\n",
    "                           xlim = (0, 50), \\\n",
    "                           hist_fname='RDR (with lemmatization) xlim_right 50.png')"
   ]
  },
  {
   "cell_type": "markdown",
   "id": "animated-vaccine",
   "metadata": {},
   "source": [
    "<h3>CADEC</h3>"
   ]
  },
  {
   "cell_type": "code",
   "execution_count": 15,
   "id": "popular-flight",
   "metadata": {},
   "outputs": [],
   "source": [
    "data_dir = './Raw/CADEC/cadec_table_grartem.csv'\n",
    "\n",
    "df = pd.read_csv('./Raw/CADEC/cadec_table_grartem.csv')\n",
    "\n",
    "\n",
    "all_pt_ids = df['meddra'].to_list()\n",
    "all_pt_phrases = df['term'].to_list()"
   ]
  },
  {
   "cell_type": "code",
   "execution_count": 16,
   "id": "stable-gnome",
   "metadata": {},
   "outputs": [],
   "source": [
    "stat_d = count_representativeness(all_pt_ids, all_pt_phrases)"
   ]
  },
  {
   "cell_type": "code",
   "execution_count": 17,
   "id": "ultimate-table",
   "metadata": {},
   "outputs": [
    {
     "name": "stdout",
     "output_type": "stream",
     "text": [
      "num concepts: 6318\n"
     ]
    }
   ],
   "source": [
    "print('num concepts: %s'%len(all_pt_ids))"
   ]
  },
  {
   "cell_type": "code",
   "execution_count": 51,
   "id": "commercial-arbor",
   "metadata": {},
   "outputs": [
    {
     "data": {
      "image/png": "[encoded data removed]",
      "text/plain": [
       "<Figure size 1440x576 with 1 Axes>"
      ]
     },
     "metadata": {
      "needs_background": "light"
     },
     "output_type": "display_data"
    },
    {
     "name": "stdout",
     "output_type": "stream",
     "text": [
      "num uniq meddra codes: 490\n",
      "num uniq phrases: 3263\n",
      "avg num phrases per code: 6.7122448979591836\n"
     ]
    }
   ],
   "source": [
    "N, bins, pathes = get_hist(stat_d, n_bins = 'auto', \\\n",
    "                           figsize=(20,8), \\\n",
    "                           hist_fname='CADEC (with lemmatization).png')\n",
    "count_uniq_codes_and_phrases(all_pt_phrases)\n",
    "avg_num_phrases_per_code(stat_d)"
   ]
  },
  {
   "cell_type": "code",
   "execution_count": 50,
   "id": "mighty-sister",
   "metadata": {},
   "outputs": [
    {
     "data": {
      "image/png": "[encoded data removed]",
      "text/plain": [
       "<Figure size 1440x576 with 1 Axes>"
      ]
     },
     "metadata": {
      "needs_background": "light"
     },
     "output_type": "display_data"
    }
   ],
   "source": [
    "N, bins, pathes = get_hist(stat_d, n_bins = 'auto', \\\n",
    "                           figsize=(20,8), \\\n",
    "                           xlim = (0, 50), \\\n",
    "                           hist_fname='CADEC (with lemmatization) xlim_right 50.png')"
   ]
  },
  {
   "cell_type": "markdown",
   "id": "hollow-sharp",
   "metadata": {},
   "source": [
    "<h3>MedMention</h3>"
   ]
  },
  {
   "cell_type": "code",
   "execution_count": 18,
   "id": "digital-quality",
   "metadata": {},
   "outputs": [],
   "source": [
    "data_dir = './Raw/MedMentions/full/data/'\n",
    "\n",
    "all_txt_ids = []\n",
    "all_pt_ids = []\n",
    "all_pt_phrases = []\n",
    "\n",
    "no_matched_umls_codes = []\n",
    "\n",
    "with open(data_dir+'corpus_pubtator.txt') as f:\n",
    "    for line in f:\n",
    "        if line.find('|')>0 or line=='\\n':\n",
    "            continue\n",
    "        row_inf = line.split('\\t')\n",
    "        umls_id = row_inf[-1][:-1]\n",
    "        curr_text_id = row_inf[0]\n",
    "        phrase = row_inf[3]\n",
    "        pt_code = mh_en.force_umlscode_to_ptcode(umls_id)\n",
    "        if pt_code:\n",
    "            all_pt_ids.append(pt_code)\n",
    "        else:\n",
    "            no_matched_umls_codes.append(umls_id)\n",
    "            continue\n",
    "        all_txt_ids.append(curr_text_id)\n",
    "        all_pt_phrases.append(phrase)"
   ]
  },
  {
   "cell_type": "code",
   "execution_count": 19,
   "id": "systematic-concentrate",
   "metadata": {},
   "outputs": [
    {
     "name": "stdout",
     "output_type": "stream",
     "text": [
      "len no matched umls codes: 315814\n",
      "len matched umls codes: 36682\n"
     ]
    }
   ],
   "source": [
    "print('len no matched umls codes: %s'%len(no_matched_umls_codes))\n",
    "print('len matched umls codes: %s'%len(all_pt_phrases))\n",
    "#если использовать только pt коды, то len no matched umls codes: 322985"
   ]
  },
  {
   "cell_type": "code",
   "execution_count": 20,
   "id": "returning-station",
   "metadata": {},
   "outputs": [
    {
     "name": "stdout",
     "output_type": "stream",
     "text": [
      "num concepts: 36682\n"
     ]
    }
   ],
   "source": [
    "print('num concepts: %s'%len(all_pt_ids))"
   ]
  },
  {
   "cell_type": "code",
   "execution_count": 45,
   "id": "impressed-niagara",
   "metadata": {},
   "outputs": [
    {
     "data": {
      "text/plain": [
       "22759"
      ]
     },
     "execution_count": 45,
     "metadata": {},
     "output_type": "execute_result"
    }
   ],
   "source": [
    "len(mh_en.umlscode_to_ptcode)"
   ]
  },
  {
   "cell_type": "code",
   "execution_count": 54,
   "id": "necessary-tourist",
   "metadata": {},
   "outputs": [],
   "source": [
    "stat_d = count_representativeness(all_pt_ids, all_pt_phrases)"
   ]
  },
  {
   "cell_type": "code",
   "execution_count": 58,
   "id": "posted-feature",
   "metadata": {},
   "outputs": [
    {
     "data": {
      "image/png": "[encoded data removed]",
      "text/plain": [
       "<Figure size 1440x576 with 1 Axes>"
      ]
     },
     "metadata": {
      "needs_background": "light"
     },
     "output_type": "display_data"
    },
    {
     "name": "stdout",
     "output_type": "stream",
     "text": [
      "num uniq meddra codes: 3329\n",
      "num uniq phrases: 9215\n",
      "avg num phrases per code: 2.9191949534394714\n"
     ]
    }
   ],
   "source": [
    "N, bins, pathes = get_hist(stat_d, n_bins = 'auto', \\\n",
    "                           figsize=(20,8), \\\n",
    "                           hist_fname='MedMentions translated in pt codes (with lemmatization).png')\n",
    "count_uniq_codes_and_phrases(all_pt_phrases)\n",
    "avg_num_phrases_per_code(stat_d)"
   ]
  },
  {
   "cell_type": "code",
   "execution_count": 57,
   "id": "creative-projection",
   "metadata": {},
   "outputs": [
    {
     "data": {
      "image/png": "[encoded data removed]",
      "text/plain": [
       "<Figure size 1440x576 with 1 Axes>"
      ]
     },
     "metadata": {
      "needs_background": "light"
     },
     "output_type": "display_data"
    }
   ],
   "source": [
    "N, bins, pathes = get_hist(stat_d, n_bins = 'auto', \\\n",
    "                           figsize=(20,8), \\\n",
    "                           xlim=(0,50), \\\n",
    "                           hist_fname='MedMentions translated in pt codes (with lemmatization) xlim_right 30.png')"
   ]
  },
  {
   "cell_type": "code",
   "execution_count": 40,
   "id": "significant-tribute",
   "metadata": {},
   "outputs": [],
   "source": [
    "most_freq_codes = get_most_freq_codes(bins, stat_d)"
   ]
  },
  {
   "cell_type": "code",
   "execution_count": 41,
   "id": "approximate-preliminary",
   "metadata": {},
   "outputs": [
    {
     "data": {
      "text/plain": [
       "['Laboratory test']"
      ]
     },
     "execution_count": 41,
     "metadata": {},
     "output_type": "execute_result"
    }
   ],
   "source": [
    "[mh_en.ptcode_to_pt[code] for code in most_freq_codes]"
   ]
  },
  {
   "cell_type": "markdown",
   "id": "included-above",
   "metadata": {},
   "source": [
    "<h3>PsyTar origin (из коробки, без моей обработки и токенизации)</h3>"
   ]
  },
  {
   "cell_type": "code",
   "execution_count": 21,
   "id": "relevant-appraisal",
   "metadata": {},
   "outputs": [],
   "source": [
    "df = pd.read_excel(\"./Raw/PsyTAR_origin/PsyTAR_dataset.xlsx\", sheet_name=None, engine='openpyxl')\n",
    "df = {'ADRs': df['ADR_Mapped'], 'WDs': df['WD-Mapped '], 'SSI': df['SSI_Mapped'], 'DIs': df['DI_Mapped']}"
   ]
  },
  {
   "cell_type": "code",
   "execution_count": 22,
   "id": "juvenile-paintball",
   "metadata": {},
   "outputs": [
    {
     "name": "stdout",
     "output_type": "stream",
     "text": [
      "['some sleepiness ', 'excessive yawning', 'at first, headache', 'at first, nausea', 'at first, trembling belly', 'at first, loss of appetite', 'vivid dreams ', 'nightmares', 'libido is low', 'low sex drive']\n",
      "['10022437', '10048232', '10019211', '10028813', '10000059', '10061428', '10000125', '10029412', '10024419', '10024419']\n",
      "['Insomnia', 'Yawning', 'Headache', 'Nausea', 'Abdominal discomfort', 'Decreased appetite', 'Abnormal dreams', 'Nightmare', 'Libido decreased', 'Libido decreased']\n"
     ]
    }
   ],
   "source": [
    "all_pt_ids = []\n",
    "all_pt_phrases = []\n",
    "\n",
    "\n",
    "for k in df:\n",
    "    #df[k] = df[k].apply(lambda x: re.sub('\\s+', '', x[x.name].split('/')[0]) if x.name == 'UMLS1' or x.name == 'UMLS2' else x)\n",
    "    df[k]['UMLS1'] = df[k]['UMLS1'].apply(lambda x: re.sub('\\s+', '', x.split('/')[0].upper()))\n",
    "    df[k]['UMLS2'] = df[k]['UMLS2'].apply(lambda x: re.sub('\\s+', '', x.split('/')[0].upper()) if pd.notna(x) else x)\n",
    "    #из двух umls выбираем тот, у которого есть pt код\n",
    "    df[k]['UMLS'] = df[k]['UMLS1']\n",
    "    mask_no_pt_codes = df[k]['UMLS1'].apply(lambda x: False if mh_en.force_umlscode_to_ptcode(x) else True)\n",
    "    #заменили на UMLS2 у которого может быть pt code, если UMLS2 нет, тогда ставится NaN\n",
    "    df[k].loc[mask_no_pt_codes, 'UMLS'] = df[k]['UMLS2'][mask_no_pt_codes]\n",
    "    df[k]['pt_meddra'] = df[k]['UMLS'].apply(lambda x: mh_en.force_umlscode_to_ptcode(x))\n",
    "    df[k] = df[k][df[k]['pt_meddra'].notna()]\n",
    "    pt_ids = df[k]['pt_meddra'].to_list()\n",
    "    phrases_li = df[k][k].to_list()\n",
    "    \n",
    "    all_pt_phrases.extend(phrases_li)\n",
    "    all_pt_ids.extend(pt_ids)\n",
    "    \n",
    "print(all_pt_phrases[700:710])\n",
    "print(all_pt_ids[700:710])\n",
    "print([mh_en.ptcode_to_pt[code] for code in all_pt_ids[700:710]])"
   ]
  },
  {
   "cell_type": "code",
   "execution_count": 23,
   "id": "korean-retailer",
   "metadata": {},
   "outputs": [],
   "source": [
    "stat_d = count_representativeness(all_pt_ids, all_pt_phrases)"
   ]
  },
  {
   "cell_type": "code",
   "execution_count": 24,
   "id": "artistic-beijing",
   "metadata": {},
   "outputs": [
    {
     "name": "stdout",
     "output_type": "stream",
     "text": [
      "num concepts: 6300\n"
     ]
    }
   ],
   "source": [
    "print('num concepts: %s'%len(all_pt_ids))"
   ]
  },
  {
   "cell_type": "code",
   "execution_count": 63,
   "id": "activated-glucose",
   "metadata": {},
   "outputs": [
    {
     "data": {
      "image/png": "[encoded data removed]",
      "text/plain": [
       "<Figure size 1440x576 with 1 Axes>"
      ]
     },
     "metadata": {
      "needs_background": "light"
     },
     "output_type": "display_data"
    },
    {
     "name": "stdout",
     "output_type": "stream",
     "text": [
      "num uniq meddra codes: 398\n",
      "num uniq phrases: 2923\n",
      "avg num phrases per code: 7.399497487437186\n"
     ]
    }
   ],
   "source": [
    "N, bins, pathes = get_hist(stat_d, n_bins = 'auto', \\\n",
    "                           figsize=(20,8), \\\n",
    "                           hist_fname='PsyTar translated in pt codes (with lemmatization).png')\n",
    "count_uniq_codes_and_phrases(all_pt_phrases)\n",
    "avg_num_phrases_per_code(stat_d)"
   ]
  },
  {
   "cell_type": "markdown",
   "id": "rolled-plumbing",
   "metadata": {},
   "source": [
    "<h3>MedNorm</h3>"
   ]
  },
  {
   "cell_type": "code",
   "execution_count": 170,
   "id": "under-customs",
   "metadata": {},
   "outputs": [
    {
     "name": "stdout",
     "output_type": "stream",
     "text": [
      "['Elevated blood pressure', 'acid reflux-type symptoms', 'heart palpitations', 'nausea', 'dizzy', 'Extreme gas in stomach and intestines', 'stomach pain', 'dizziness', 'pain in major joints', 'numbness in both legs']\n",
      "['10020772', '10000479', '10033557', '10028813', '10013573', '10016766', '10042076', '10013573', '10003239', '10029850']\n"
     ]
    },
    {
     "data": {
      "text/plain": [
       "7302"
      ]
     },
     "execution_count": 170,
     "metadata": {},
     "output_type": "execute_result"
    }
   ],
   "source": [
    "#По сути MedNorm это объединение и компиляция 5 датасетов, некоторые из которых уже были предствалены\n",
    "#Это CADEC, TwADR-L, TwiMed, SMM4H 2017, TAC 2017\n",
    "\n",
    "\n",
    "df = pd.read_csv('./Raw/MedNorm/mednorm_full.tsv', sep='\\t')\n",
    "\n",
    "#pd.to_numeric(df['meddra_code'], downcast='integer', errors='ignore')\n",
    "df['pt_id'] = df['meddra_code'].apply(lambda x: str(int(x)) if pd.notna(x) else x)\n",
    "\n",
    "\n",
    "mask_not_matched_pt_ids = df['meddra_code'].isna()\n",
    "df.loc[mask_not_matched_pt_ids, 'pt_id'] = df['single_mapped_meddra_codes'][mask_not_matched_pt_ids]\n",
    "\n",
    "all_pt_ids = df['pt_id'].tolist()\n",
    "all_pt_phrases = df['phrase'].tolist()\n",
    "\n",
    "print(all_pt_phrases[700:710])\n",
    "print(all_pt_ids[700:710])\n",
    "#print([mh_en.ptcode_to_pt[code] for code in all_pt_ids[700:710]])\n",
    "\n",
    "errors = 0\n",
    "for code in all_pt_ids:\n",
    "    if code in mh_en.ptcodes or code in mh_en.lltcode_to_ptcode.keys():\n",
    "        pass\n",
    "    else:\n",
    "        errors+=1\n",
    "#df.loc[:, 'pt_id'] = pd.to_numeric(df['pt_id'], downcast='integer', errors='ignore')\n",
    "errors"
   ]
  },
  {
   "cell_type": "code",
   "execution_count": 136,
   "id": "banned-string",
   "metadata": {},
   "outputs": [
    {
     "data": {
      "text/plain": [
       "27979"
      ]
     },
     "execution_count": 136,
     "metadata": {},
     "output_type": "execute_result"
    }
   ],
   "source": [
    "stat_d = count_representativeness(all_pt_ids, all_pt_phrases)"
   ]
  }
 ],
 "metadata": {
  "kernelspec": {
   "display_name": "normalization env",
   "language": "python",
   "name": "latest_torch"
  },
  "language_info": {
   "codemirror_mode": {
    "name": "ipython",
    "version": 3
   },
   "file_extension": ".py",
   "mimetype": "text/x-python",
   "name": "python",
   "nbconvert_exporter": "python",
   "pygments_lexer": "ipython3",
   "version": "3.9.9"
  }
 },
 "nbformat": 4,
 "nbformat_minor": 5
}
