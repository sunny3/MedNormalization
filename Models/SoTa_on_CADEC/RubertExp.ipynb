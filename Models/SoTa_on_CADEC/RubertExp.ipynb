{
 "cells": [
  {
   "cell_type": "markdown",
   "id": "great-trance",
   "metadata": {},
   "source": [
    "<h3>Глобальные переменные</h3>"
   ]
  },
  {
   "cell_type": "code",
   "execution_count": 1,
   "id": "lonely-timing",
   "metadata": {},
   "outputs": [],
   "source": [
    "transformer_model_path = 'DeepPavlov/rubert-base-cased'\n",
    "USE_CUDA = True"
   ]
  },
  {
   "cell_type": "markdown",
   "id": "historic-rocket",
   "metadata": {},
   "source": [
    "<h3>Векторизуем словарь Meddra</h3>"
   ]
  },
  {
   "cell_type": "code",
   "execution_count": 2,
   "id": "lesbian-hawaiian",
   "metadata": {},
   "outputs": [],
   "source": [
    "from vectorization import ConceptVectorizer"
   ]
  },
  {
   "cell_type": "code",
   "execution_count": null,
   "id": "conservative-cheese",
   "metadata": {},
   "outputs": [],
   "source": [
    "#сюда прописывается путь до модели и путь до файла словаря расширения .asc, который необходимо векторизовать\n",
    "CV_train = ConceptVectorizer(transformer_model_path, '../../Data/External/pt_rus.asc', \\\n",
    "                             use_concept_less=False, use_model=False, use_cuda=USE_CUDA)\n",
    "CV_test = ConceptVectorizer(transformer_model_path, '../../Data/External/pt_rus.asc', \\\n",
    "                             use_concept_less=True, use_model=False, use_cuda=USE_CUDA)\n",
    "CV_test_without_conceptless = ConceptVectorizer(transformer_model_path, '../../Data/External/pt_rus.asc', \\\n",
    "                             use_concept_less=False, use_model=False, use_cuda=USE_CUDA)"
   ]
  },
  {
   "cell_type": "code",
   "execution_count": 3,
   "id": "canadian-climate",
   "metadata": {},
   "outputs": [],
   "source": [
    "#альтернатива\n",
    "CV = ConceptVectorizer(transformer_model_path, '../../Data/External/pt_rus.asc', \\\n",
    "                             use_concept_less=False, use_model=False, use_cuda=USE_CUDA)\n",
    "CV_with_conceptless = ConceptVectorizer(transformer_model_path, '../../Data/External/pt_rus.asc', \\\n",
    "                             use_concept_less=True, use_model=False, use_cuda=USE_CUDA)"
   ]
  },
  {
   "cell_type": "markdown",
   "id": "current-providence",
   "metadata": {},
   "source": [
    "Расчет вложений словаря"
   ]
  },
  {
   "cell_type": "code",
   "execution_count": 4,
   "id": "single-pearl",
   "metadata": {},
   "outputs": [
    {
     "name": "stdout",
     "output_type": "stream",
     "text": [
      "getting concept embeddings in mean_pooling mode...\n",
      "moving to cuda... device name cuda:0\n",
      "Compute embeddings...\n"
     ]
    },
    {
     "name": "stderr",
     "output_type": "stream",
     "text": [
      "100%|██████████| 25077/25077 [08:21<00:00, 50.02it/s]\n"
     ]
    },
    {
     "name": "stdout",
     "output_type": "stream",
     "text": [
      "Embedding aggregation...\n",
      "Concept embeddings have computed in 501.371141910553 seconds\n"
     ]
    }
   ],
   "source": [
    "#используется только для векторизации словаря\n",
    "#когда вектора готовы, проще их загрузить ячейкой с загрузкой\n",
    "CV_train.fit_transform(mode='mean_pooling')"
   ]
  },
  {
   "cell_type": "markdown",
   "id": "mobile-drill",
   "metadata": {},
   "source": [
    "Сохранение рассчитанных векторов концептов"
   ]
  },
  {
   "cell_type": "code",
   "execution_count": 5,
   "id": "affiliated-choice",
   "metadata": {},
   "outputs": [],
   "source": [
    "import torch\n",
    "\n",
    "torch.save(CV_train.thesaurus_embeddings, './Model_weights/xlmroberta_thesaurus_embeddings.pt')"
   ]
  },
  {
   "cell_type": "markdown",
   "id": "christian-climb",
   "metadata": {},
   "source": [
    "Загрузка готовых вложений (если они есть). Загружать вложения после fit_transform() не надо"
   ]
  },
  {
   "cell_type": "code",
   "execution_count": 4,
   "id": "linear-cornwall",
   "metadata": {},
   "outputs": [],
   "source": [
    "import torch\n",
    "\n",
    "CV.thesaurus_embeddings = torch.load('./Model_weights/rubert_thesaurus_embeddings_meddra_origin.pt')\n",
    "CV.normalization_mode = 'mean_pooling'\n",
    "\n",
    "#CV_with_conceptless.thesaurus_embeddings = torch.load('./Model_weights/rubert_thesaurus_embeddings_meddra_origin.pt')\n",
    "#CV_with_conceptless.normalization_mode = 'mean_pooling'\n",
    "\n",
    "#CV_train.thesaurus_embeddings = torch.load('./Model_weights/rubert_thesaurus_embeddings_meddra_origin.pt')\n",
    "#CV_train.normalization_mode = 'mean_pooling'\n",
    "\n",
    "#CV_test.thesaurus_embeddings = torch.load('./Model_weights/rubert_thesaurus_embeddings_meddra_origin.pt')\n",
    "#CV_test.normalization_mode = 'mean_pooling'\n",
    "\n",
    "#CV_test_without_conceptless.thesaurus_embeddings = torch.load('./Model_weights/rubert_thesaurus_embeddings_meddra_origin.pt')\n",
    "#CV_test_without_conceptless.normalization_mode = 'mean_pooling'"
   ]
  },
  {
   "cell_type": "code",
   "execution_count": 5,
   "id": "cooked-scenario",
   "metadata": {},
   "outputs": [
    {
     "data": {
      "text/plain": [
       "torch.Size([25077, 768])"
      ]
     },
     "execution_count": 5,
     "metadata": {},
     "output_type": "execute_result"
    }
   ],
   "source": [
    "CV.thesaurus_embeddings.size()"
   ]
  },
  {
   "cell_type": "markdown",
   "id": "adjustable-tooth",
   "metadata": {},
   "source": [
    "<h3>Обработка датасета RDR</h3>"
   ]
  },
  {
   "cell_type": "code",
   "execution_count": 6,
   "id": "finite-testimony",
   "metadata": {},
   "outputs": [],
   "source": [
    "import jsonlines\n",
    "import numpy as np\n",
    "from sklearn.model_selection import train_test_split"
   ]
  },
  {
   "cell_type": "code",
   "execution_count": 7,
   "id": "charged-columbia",
   "metadata": {},
   "outputs": [],
   "source": [
    "ds = []\n",
    "with jsonlines.open('../../Data/Raw/medNorm_16022022.jsonlines') as reader:\n",
    "    for obj in reader:\n",
    "        ds.append(obj)"
   ]
  },
  {
   "cell_type": "code",
   "execution_count": 8,
   "id": "least-evanescence",
   "metadata": {},
   "outputs": [],
   "source": [
    "X_train, X_test = train_test_split(ds, test_size=0.33, random_state=42)"
   ]
  },
  {
   "cell_type": "code",
   "execution_count": 9,
   "id": "covered-trade",
   "metadata": {},
   "outputs": [
    {
     "name": "stdout",
     "output_type": "stream",
     "text": [
      "Всего фраз в трейне: 8121\n",
      "Всего фраз в тесте: 3787\n",
      "Уникальных фраз в трейне: 4382\n",
      "Уникальных фраз в тесте: 2240\n",
      "544 концептов не входящих либо в трейн, либо в тест\n",
      "146 концептов, которые есть в тесте, но нет в трейне\n",
      "398 концептов, которые есть в трейне, но нет в тесте\n"
     ]
    }
   ],
   "source": [
    "#выцепим фразы с нормализацией по Meddra без их контекста\n",
    "train_phrases = []\n",
    "train_sentences = []\n",
    "train_concepts = []\n",
    "\n",
    "test_phrases = []\n",
    "test_sentences = []\n",
    "test_concepts = []\n",
    "\n",
    "test_phrases_with_conceptless = []\n",
    "test_concepts_with_conceptless = []\n",
    "\n",
    "log_markup_errors = []\n",
    "\n",
    "train_ids = []\n",
    "test_ids = []\n",
    "\n",
    "#в трейне не будем собирать conceptless термины\n",
    "USE_CONCEPT_LESS = False\n",
    "for review in X_train:\n",
    "    for ent in review['objects']['MedEntity']:\n",
    "        if 'MedDRA' in ent.keys():\n",
    "            if ent['MedDRA']=='':\n",
    "                if USE_CONCEPT_LESS:\n",
    "                    ent['MedDRA'] = 'CONCEPT_LESS'\n",
    "                else:\n",
    "                    continue\n",
    "            try:\n",
    "                #train_concepts.append(CV_train.meddra_term_to_meddra_code[ent['MedDRA'].split('|')[0]])\n",
    "                train_concepts.append(CV.meddra_term_to_meddra_code[ent['MedDRA'].split('|')[0]])\n",
    "                train_phrases.append(ent['text'])\n",
    "                train_ids.append(review['meta']['fileName'])\n",
    "            except KeyError:\n",
    "                log_markup_errors.append({'review_id': review['meta']['fileName'], 'entity_id': ent['xmiID']})\n",
    "            \n",
    "\n",
    "USE_CONCEPT_LESS = False\n",
    "for review in X_test:\n",
    "    for ent in review['objects']['MedEntity']:\n",
    "        if 'MedDRA' in ent.keys():\n",
    "            if ent['MedDRA']=='':\n",
    "                if USE_CONCEPT_LESS:\n",
    "                    ent['MedDRA'] = 'CONCEPT_LESS'\n",
    "                else:\n",
    "                    continue\n",
    "            try:\n",
    "                test_concepts.append(CV.meddra_term_to_meddra_code[ent['MedDRA'].split('|')[0]])\n",
    "                test_phrases.append(ent['text'])\n",
    "            except KeyError:\n",
    "                log_markup_errors.append({'review_id': review['meta']['fileName'], 'entity_id': ent['xmiID']})\n",
    "                \n",
    "USE_CONCEPT_LESS = True\n",
    "for review in X_test:\n",
    "    for ent in review['objects']['MedEntity']:\n",
    "        if 'MedDRA' in ent.keys():\n",
    "            if ent['MedDRA']=='':\n",
    "                if USE_CONCEPT_LESS:\n",
    "                    ent['MedDRA'] = 'CONCEPT_LESS'\n",
    "                else:\n",
    "                    continue\n",
    "            try:\n",
    "                test_concepts_with_conceptless.append(CV_with_conceptless.meddra_term_to_meddra_code[ent['MedDRA'].split('|')[0]])\n",
    "                test_phrases_with_conceptless.append(ent['text'])\n",
    "                test_ids.append(review['meta']['fileName'])\n",
    "            except KeyError:\n",
    "                log_markup_errors.append({'review_id': review['meta']['fileName'], 'entity_id': ent['xmiID']})\n",
    "\n",
    "            \n",
    "            \n",
    "print('Всего фраз в трейне: %s'%len(train_phrases))\n",
    "print('Всего фраз в тесте: %s'%len(test_phrases))\n",
    "\n",
    "print('Уникальных фраз в трейне: %s'%len(set(train_phrases)))\n",
    "print('Уникальных фраз в тесте: %s'%len(set(test_phrases)))\n",
    "\n",
    "#Посмотрим на статистику разбиения\n",
    "print('%s концептов не входящих либо в трейн, либо в тест'%len(set.union(set(train_concepts), set(test_concepts)) - set.intersection(set(test_concepts), set(train_concepts))))\n",
    "print('%s концептов, которые есть в тесте, но нет в трейне'%len(set(test_concepts) - set(train_concepts)))\n",
    "print('%s концептов, которые есть в трейне, но нет в тесте'%len(set(train_concepts) - set(test_concepts)))"
   ]
  },
  {
   "cell_type": "code",
   "execution_count": 10,
   "id": "optional-economy",
   "metadata": {},
   "outputs": [],
   "source": [
    "from evaluator import Evaluator\n",
    "\n",
    "evaluator = Evaluator(train_concepts, test_concepts)"
   ]
  },
  {
   "cell_type": "markdown",
   "id": "creative-happiness",
   "metadata": {},
   "source": [
    "---"
   ]
  },
  {
   "cell_type": "markdown",
   "id": "adolescent-estate",
   "metadata": {},
   "source": [
    "<h4>Добавим дополнительную часть</h4>"
   ]
  },
  {
   "cell_type": "code",
   "execution_count": 11,
   "id": "elder-registrar",
   "metadata": {},
   "outputs": [],
   "source": [
    "import pandas as pd\n",
    "\n",
    "#df = pd.read_csv('../../Data/CorpsStatisticData/FULL_prepared_corp.csv')\n",
    "df = pd.read_csv('../../Data/CorpsStatisticData/FULL_prepared_hlt_corp.csv')\n",
    "train_concepts = train_concepts + df['pt code'].apply(lambda x: str(x)).to_list()\n",
    "train_phrases = train_phrases + df['phrase'].to_list()"
   ]
  },
  {
   "cell_type": "markdown",
   "id": "faced-economics",
   "metadata": {},
   "source": [
    "---"
   ]
  },
  {
   "cell_type": "markdown",
   "id": "bridal-newark",
   "metadata": {},
   "source": [
    "<h4>Чисто доп. часть подгружаем</h4>"
   ]
  },
  {
   "cell_type": "code",
   "execution_count": 11,
   "id": "hungarian-hormone",
   "metadata": {},
   "outputs": [],
   "source": [
    "import pandas as pd\n",
    "from dataset import MedNormDataset\n",
    "\n",
    "df = pd.read_csv('../../Data/CorpsStatisticData/FULL_prepared_corp.csv')\n",
    "train_concepts = df['pt code'].apply(lambda x: str(x)).to_list()\n",
    "train_phrases = df['phrase'].to_list()\n",
    "\n",
    "#ds_train = MedNormDataset(train_phrases, train_concepts, CV_train, use_cuda=USE_CUDA)\n",
    "#ds_test = MedNormDataset(train_phrases, train_concepts, CV_train, use_cuda=USE_CUDA)"
   ]
  },
  {
   "cell_type": "code",
   "execution_count": 12,
   "id": "popular-citizen",
   "metadata": {},
   "outputs": [
    {
     "name": "stderr",
     "output_type": "stream",
     "text": [
      "Asking to truncate to max_length but no maximum length is provided and the model has no predefined maximum length. Default to no truncation.\n"
     ]
    }
   ],
   "source": [
    "from dataset import MedNormDataset\n",
    "\n",
    "ds_train = MedNormDataset(train_phrases, train_concepts, CV, use_cuda=USE_CUDA)\n",
    "ds_test = MedNormDataset(test_phrases, test_concepts, CV, use_cuda=USE_CUDA)"
   ]
  },
  {
   "cell_type": "markdown",
   "id": "saved-tiffany",
   "metadata": {},
   "source": [
    "<h2>Обучение</h2>"
   ]
  },
  {
   "cell_type": "markdown",
   "id": "decent-basis",
   "metadata": {},
   "source": [
    "<h4>Настройка глобальных переменных для большей детерменированности</h4>"
   ]
  },
  {
   "cell_type": "code",
   "execution_count": 13,
   "id": "urban-twelve",
   "metadata": {},
   "outputs": [],
   "source": [
    "import os \n",
    "\n",
    "os.environ[\"CUBLAS_WORKSPACE_CONFIG\"]=\":16:8\"\n",
    "torch.use_deterministic_algorithms(mode=False)\n",
    "np.random.seed(0)\n",
    "torch.manual_seed(0)\n",
    "torch.backends.cudnn.benchmark = False"
   ]
  },
  {
   "cell_type": "markdown",
   "id": "musical-worse",
   "metadata": {},
   "source": [
    "<h4>Импорт модели</h4>"
   ]
  },
  {
   "cell_type": "code",
   "execution_count": 14,
   "id": "annual-foster",
   "metadata": {},
   "outputs": [
    {
     "name": "stderr",
     "output_type": "stream",
     "text": [
      "Some weights of the model checkpoint at DeepPavlov/rubert-base-cased were not used when initializing BertModel: ['cls.predictions.decoder.bias', 'cls.predictions.decoder.weight', 'cls.predictions.bias', 'cls.predictions.transform.dense.bias', 'cls.predictions.transform.dense.weight', 'cls.predictions.transform.LayerNorm.bias', 'cls.seq_relationship.weight', 'cls.seq_relationship.bias', 'cls.predictions.transform.LayerNorm.weight']\n",
      "- This IS expected if you are initializing BertModel from the checkpoint of a model trained on another task or with another architecture (e.g. initializing a BertForSequenceClassification model from a BertForPreTraining model).\n",
      "- This IS NOT expected if you are initializing BertModel from the checkpoint of a model that you expect to be exactly identical (initializing a BertForSequenceClassification model from a BertForSequenceClassification model).\n"
     ]
    },
    {
     "name": "stdout",
     "output_type": "stream",
     "text": [
      "Net loaded\n"
     ]
    }
   ],
   "source": [
    "from models import CADEC_SoTa\n",
    "\n",
    "\n",
    "net = CADEC_SoTa(transformer_model_path, CV.thesaurus_embeddings)\n",
    "#перемещение модели на вычислительные мощности, либо cpu, либо cuda\n",
    "device = 'cuda' if USE_CUDA else 'cpu'\n",
    "net.to(device)\n",
    "print('Net loaded')"
   ]
  },
  {
   "cell_type": "markdown",
   "id": "magnetic-picnic",
   "metadata": {},
   "source": [
    "<h4>Инициализация доп. объектов для обучения</h4>"
   ]
  },
  {
   "cell_type": "code",
   "execution_count": 15,
   "id": "suitable-procedure",
   "metadata": {},
   "outputs": [],
   "source": [
    "import torch.optim as optim\n",
    "import torch.nn as nn\n",
    "import torch\n",
    "import numpy as np\n",
    "\n",
    "from torch.optim.lr_scheduler import CyclicLR\n",
    "    \n",
    "criterion = nn.CrossEntropyLoss()\n",
    "optimizer = optim.AdamW(net.parameters(), lr=0.0001) #, cycle_momentum=True\n",
    "#scheduler = CyclicLR(optimizer, base_lr=4.7e-05, max_lr=0.0002, cycle_momentum=False)\n",
    "scaler = torch.cuda.amp.GradScaler()"
   ]
  },
  {
   "cell_type": "markdown",
   "id": "capable-steel",
   "metadata": {},
   "source": [
    "<h4>Цикл обучения</h4>"
   ]
  },
  {
   "cell_type": "code",
   "execution_count": null,
   "id": "deluxe-bailey",
   "metadata": {},
   "outputs": [
    {
     "name": "stderr",
     "output_type": "stream",
     "text": [
      "Epoch 1: 100%|██████████| 1683/1683 [05:52<00:00,  4.78batch/s, loss_decrease=1.000001223904128] \n",
      "100%|██████████| 3787/3787 [00:40<00:00, 92.89batch/s]\n"
     ]
    },
    {
     "data": {
      "text/html": [
       "<div>\n",
       "<style scoped>\n",
       "    .dataframe tbody tr th:only-of-type {\n",
       "        vertical-align: middle;\n",
       "    }\n",
       "\n",
       "    .dataframe tbody tr th {\n",
       "        vertical-align: top;\n",
       "    }\n",
       "\n",
       "    .dataframe thead tr th {\n",
       "        text-align: left;\n",
       "    }\n",
       "</style>\n",
       "<table border=\"1\" class=\"dataframe\">\n",
       "  <thead>\n",
       "    <tr>\n",
       "      <th></th>\n",
       "      <th colspan=\"2\" halign=\"left\">All</th>\n",
       "      <th colspan=\"2\" halign=\"left\">In VOC</th>\n",
       "      <th colspan=\"2\" halign=\"left\">Out of VOC</th>\n",
       "    </tr>\n",
       "    <tr>\n",
       "      <th></th>\n",
       "      <th>f1 micro</th>\n",
       "      <th>f1 macro</th>\n",
       "      <th>f1 micro</th>\n",
       "      <th>f1 macro</th>\n",
       "      <th>f1 micro</th>\n",
       "      <th>f1 macro</th>\n",
       "    </tr>\n",
       "  </thead>\n",
       "  <tbody>\n",
       "    <tr>\n",
       "      <th>0</th>\n",
       "      <td>0.348561</td>\n",
       "      <td>0.059877</td>\n",
       "      <td>0.363206</td>\n",
       "      <td>0.063241</td>\n",
       "      <td>0.07732</td>\n",
       "      <td>0.042541</td>\n",
       "    </tr>\n",
       "  </tbody>\n",
       "</table>\n",
       "</div>"
      ],
      "text/plain": [
       "        All              In VOC           Out of VOC          \n",
       "   f1 micro  f1 macro  f1 micro  f1 macro   f1 micro  f1 macro\n",
       "0  0.348561  0.059877  0.363206  0.063241    0.07732  0.042541"
      ]
     },
     "metadata": {},
     "output_type": "display_data"
    },
    {
     "name": "stderr",
     "output_type": "stream",
     "text": [
      "Epoch 2: 100%|██████████| 1683/1683 [05:57<00:00,  4.71batch/s, loss_decrease=1.0000016946372827]\n",
      "100%|██████████| 3787/3787 [00:39<00:00, 95.15batch/s] \n"
     ]
    },
    {
     "data": {
      "text/html": [
       "<div>\n",
       "<style scoped>\n",
       "    .dataframe tbody tr th:only-of-type {\n",
       "        vertical-align: middle;\n",
       "    }\n",
       "\n",
       "    .dataframe tbody tr th {\n",
       "        vertical-align: top;\n",
       "    }\n",
       "\n",
       "    .dataframe thead tr th {\n",
       "        text-align: left;\n",
       "    }\n",
       "</style>\n",
       "<table border=\"1\" class=\"dataframe\">\n",
       "  <thead>\n",
       "    <tr>\n",
       "      <th></th>\n",
       "      <th colspan=\"2\" halign=\"left\">All</th>\n",
       "      <th colspan=\"2\" halign=\"left\">In VOC</th>\n",
       "      <th colspan=\"2\" halign=\"left\">Out of VOC</th>\n",
       "    </tr>\n",
       "    <tr>\n",
       "      <th></th>\n",
       "      <th>f1 micro</th>\n",
       "      <th>f1 macro</th>\n",
       "      <th>f1 micro</th>\n",
       "      <th>f1 macro</th>\n",
       "      <th>f1 micro</th>\n",
       "      <th>f1 macro</th>\n",
       "    </tr>\n",
       "  </thead>\n",
       "  <tbody>\n",
       "    <tr>\n",
       "      <th>0</th>\n",
       "      <td>0.517824</td>\n",
       "      <td>0.096982</td>\n",
       "      <td>0.540495</td>\n",
       "      <td>0.105915</td>\n",
       "      <td>0.097938</td>\n",
       "      <td>0.05716</td>\n",
       "    </tr>\n",
       "  </tbody>\n",
       "</table>\n",
       "</div>"
      ],
      "text/plain": [
       "        All              In VOC           Out of VOC         \n",
       "   f1 micro  f1 macro  f1 micro  f1 macro   f1 micro f1 macro\n",
       "0  0.517824  0.096982  0.540495  0.105915   0.097938  0.05716"
      ]
     },
     "metadata": {},
     "output_type": "display_data"
    },
    {
     "name": "stderr",
     "output_type": "stream",
     "text": [
      "Epoch 3: 100%|██████████| 1683/1683 [05:53<00:00,  4.77batch/s, loss_decrease=1.0000020712241255]\n",
      "100%|██████████| 3787/3787 [00:45<00:00, 83.57batch/s]\n"
     ]
    },
    {
     "data": {
      "text/html": [
       "<div>\n",
       "<style scoped>\n",
       "    .dataframe tbody tr th:only-of-type {\n",
       "        vertical-align: middle;\n",
       "    }\n",
       "\n",
       "    .dataframe tbody tr th {\n",
       "        vertical-align: top;\n",
       "    }\n",
       "\n",
       "    .dataframe thead tr th {\n",
       "        text-align: left;\n",
       "    }\n",
       "</style>\n",
       "<table border=\"1\" class=\"dataframe\">\n",
       "  <thead>\n",
       "    <tr>\n",
       "      <th></th>\n",
       "      <th colspan=\"2\" halign=\"left\">All</th>\n",
       "      <th colspan=\"2\" halign=\"left\">In VOC</th>\n",
       "      <th colspan=\"2\" halign=\"left\">Out of VOC</th>\n",
       "    </tr>\n",
       "    <tr>\n",
       "      <th></th>\n",
       "      <th>f1 micro</th>\n",
       "      <th>f1 macro</th>\n",
       "      <th>f1 micro</th>\n",
       "      <th>f1 macro</th>\n",
       "      <th>f1 micro</th>\n",
       "      <th>f1 macro</th>\n",
       "    </tr>\n",
       "  </thead>\n",
       "  <tbody>\n",
       "    <tr>\n",
       "      <th>0</th>\n",
       "      <td>0.576446</td>\n",
       "      <td>0.114764</td>\n",
       "      <td>0.602282</td>\n",
       "      <td>0.130294</td>\n",
       "      <td>0.097938</td>\n",
       "      <td>0.054577</td>\n",
       "    </tr>\n",
       "  </tbody>\n",
       "</table>\n",
       "</div>"
      ],
      "text/plain": [
       "        All              In VOC           Out of VOC          \n",
       "   f1 micro  f1 macro  f1 micro  f1 macro   f1 micro  f1 macro\n",
       "0  0.576446  0.114764  0.602282  0.130294   0.097938  0.054577"
      ]
     },
     "metadata": {},
     "output_type": "display_data"
    },
    {
     "name": "stderr",
     "output_type": "stream",
     "text": [
      "Epoch 4: 100%|██████████| 1683/1683 [05:55<00:00,  4.73batch/s, loss_decrease=1.0000020712241255]\n",
      "100%|██████████| 3787/3787 [00:41<00:00, 91.18batch/s] \n"
     ]
    },
    {
     "data": {
      "text/html": [
       "<div>\n",
       "<style scoped>\n",
       "    .dataframe tbody tr th:only-of-type {\n",
       "        vertical-align: middle;\n",
       "    }\n",
       "\n",
       "    .dataframe tbody tr th {\n",
       "        vertical-align: top;\n",
       "    }\n",
       "\n",
       "    .dataframe thead tr th {\n",
       "        text-align: left;\n",
       "    }\n",
       "</style>\n",
       "<table border=\"1\" class=\"dataframe\">\n",
       "  <thead>\n",
       "    <tr>\n",
       "      <th></th>\n",
       "      <th colspan=\"2\" halign=\"left\">All</th>\n",
       "      <th colspan=\"2\" halign=\"left\">In VOC</th>\n",
       "      <th colspan=\"2\" halign=\"left\">Out of VOC</th>\n",
       "    </tr>\n",
       "    <tr>\n",
       "      <th></th>\n",
       "      <th>f1 micro</th>\n",
       "      <th>f1 macro</th>\n",
       "      <th>f1 micro</th>\n",
       "      <th>f1 macro</th>\n",
       "      <th>f1 micro</th>\n",
       "      <th>f1 macro</th>\n",
       "    </tr>\n",
       "  </thead>\n",
       "  <tbody>\n",
       "    <tr>\n",
       "      <th>0</th>\n",
       "      <td>0.612622</td>\n",
       "      <td>0.124299</td>\n",
       "      <td>0.640412</td>\n",
       "      <td>0.143039</td>\n",
       "      <td>0.097938</td>\n",
       "      <td>0.050183</td>\n",
       "    </tr>\n",
       "  </tbody>\n",
       "</table>\n",
       "</div>"
      ],
      "text/plain": [
       "        All              In VOC           Out of VOC          \n",
       "   f1 micro  f1 macro  f1 micro  f1 macro   f1 micro  f1 macro\n",
       "0  0.612622  0.124299  0.640412  0.143039   0.097938  0.050183"
      ]
     },
     "metadata": {},
     "output_type": "display_data"
    },
    {
     "name": "stderr",
     "output_type": "stream",
     "text": [
      "Epoch 5: 100%|██████████| 1683/1683 [05:54<00:00,  4.75batch/s, loss_decrease=1.0000023536644438]\n",
      "100%|██████████| 3787/3787 [00:45<00:00, 83.39batch/s]\n"
     ]
    },
    {
     "data": {
      "text/html": [
       "<div>\n",
       "<style scoped>\n",
       "    .dataframe tbody tr th:only-of-type {\n",
       "        vertical-align: middle;\n",
       "    }\n",
       "\n",
       "    .dataframe tbody tr th {\n",
       "        vertical-align: top;\n",
       "    }\n",
       "\n",
       "    .dataframe thead tr th {\n",
       "        text-align: left;\n",
       "    }\n",
       "</style>\n",
       "<table border=\"1\" class=\"dataframe\">\n",
       "  <thead>\n",
       "    <tr>\n",
       "      <th></th>\n",
       "      <th colspan=\"2\" halign=\"left\">All</th>\n",
       "      <th colspan=\"2\" halign=\"left\">In VOC</th>\n",
       "      <th colspan=\"2\" halign=\"left\">Out of VOC</th>\n",
       "    </tr>\n",
       "    <tr>\n",
       "      <th></th>\n",
       "      <th>f1 micro</th>\n",
       "      <th>f1 macro</th>\n",
       "      <th>f1 micro</th>\n",
       "      <th>f1 macro</th>\n",
       "      <th>f1 micro</th>\n",
       "      <th>f1 macro</th>\n",
       "    </tr>\n",
       "  </thead>\n",
       "  <tbody>\n",
       "    <tr>\n",
       "      <th>0</th>\n",
       "      <td>0.635331</td>\n",
       "      <td>0.135485</td>\n",
       "      <td>0.663512</td>\n",
       "      <td>0.154195</td>\n",
       "      <td>0.113402</td>\n",
       "      <td>0.063251</td>\n",
       "    </tr>\n",
       "  </tbody>\n",
       "</table>\n",
       "</div>"
      ],
      "text/plain": [
       "        All              In VOC           Out of VOC          \n",
       "   f1 micro  f1 macro  f1 micro  f1 macro   f1 micro  f1 macro\n",
       "0  0.635331  0.135485  0.663512  0.154195   0.113402  0.063251"
      ]
     },
     "metadata": {},
     "output_type": "display_data"
    },
    {
     "name": "stderr",
     "output_type": "stream",
     "text": [
      "Epoch 6: 100%|██████████| 1683/1683 [05:49<00:00,  4.81batch/s, loss_decrease=1.0000025419580778]\n",
      "100%|██████████| 3787/3787 [00:43<00:00, 86.11batch/s] \n"
     ]
    },
    {
     "data": {
      "text/html": [
       "<div>\n",
       "<style scoped>\n",
       "    .dataframe tbody tr th:only-of-type {\n",
       "        vertical-align: middle;\n",
       "    }\n",
       "\n",
       "    .dataframe tbody tr th {\n",
       "        vertical-align: top;\n",
       "    }\n",
       "\n",
       "    .dataframe thead tr th {\n",
       "        text-align: left;\n",
       "    }\n",
       "</style>\n",
       "<table border=\"1\" class=\"dataframe\">\n",
       "  <thead>\n",
       "    <tr>\n",
       "      <th></th>\n",
       "      <th colspan=\"2\" halign=\"left\">All</th>\n",
       "      <th colspan=\"2\" halign=\"left\">In VOC</th>\n",
       "      <th colspan=\"2\" halign=\"left\">Out of VOC</th>\n",
       "    </tr>\n",
       "    <tr>\n",
       "      <th></th>\n",
       "      <th>f1 micro</th>\n",
       "      <th>f1 macro</th>\n",
       "      <th>f1 micro</th>\n",
       "      <th>f1 macro</th>\n",
       "      <th>f1 micro</th>\n",
       "      <th>f1 macro</th>\n",
       "    </tr>\n",
       "  </thead>\n",
       "  <tbody>\n",
       "    <tr>\n",
       "      <th>0</th>\n",
       "      <td>0.653024</td>\n",
       "      <td>0.146445</td>\n",
       "      <td>0.68216</td>\n",
       "      <td>0.170017</td>\n",
       "      <td>0.113402</td>\n",
       "      <td>0.063015</td>\n",
       "    </tr>\n",
       "  </tbody>\n",
       "</table>\n",
       "</div>"
      ],
      "text/plain": [
       "        All             In VOC           Out of VOC          \n",
       "   f1 micro  f1 macro f1 micro  f1 macro   f1 micro  f1 macro\n",
       "0  0.653024  0.146445  0.68216  0.170017   0.113402  0.063015"
      ]
     },
     "metadata": {},
     "output_type": "display_data"
    },
    {
     "name": "stderr",
     "output_type": "stream",
     "text": [
      "Epoch 7: 100%|██████████| 1683/1683 [05:52<00:00,  4.77batch/s, loss_decrease=1.0000026361049215]\n",
      "100%|██████████| 3787/3787 [00:41<00:00, 91.06batch/s] \n"
     ]
    },
    {
     "data": {
      "text/html": [
       "<div>\n",
       "<style scoped>\n",
       "    .dataframe tbody tr th:only-of-type {\n",
       "        vertical-align: middle;\n",
       "    }\n",
       "\n",
       "    .dataframe tbody tr th {\n",
       "        vertical-align: top;\n",
       "    }\n",
       "\n",
       "    .dataframe thead tr th {\n",
       "        text-align: left;\n",
       "    }\n",
       "</style>\n",
       "<table border=\"1\" class=\"dataframe\">\n",
       "  <thead>\n",
       "    <tr>\n",
       "      <th></th>\n",
       "      <th colspan=\"2\" halign=\"left\">All</th>\n",
       "      <th colspan=\"2\" halign=\"left\">In VOC</th>\n",
       "      <th colspan=\"2\" halign=\"left\">Out of VOC</th>\n",
       "    </tr>\n",
       "    <tr>\n",
       "      <th></th>\n",
       "      <th>f1 micro</th>\n",
       "      <th>f1 macro</th>\n",
       "      <th>f1 micro</th>\n",
       "      <th>f1 macro</th>\n",
       "      <th>f1 micro</th>\n",
       "      <th>f1 macro</th>\n",
       "    </tr>\n",
       "  </thead>\n",
       "  <tbody>\n",
       "    <tr>\n",
       "      <th>0</th>\n",
       "      <td>0.665434</td>\n",
       "      <td>0.157576</td>\n",
       "      <td>0.694127</td>\n",
       "      <td>0.18084</td>\n",
       "      <td>0.134021</td>\n",
       "      <td>0.072485</td>\n",
       "    </tr>\n",
       "  </tbody>\n",
       "</table>\n",
       "</div>"
      ],
      "text/plain": [
       "        All              In VOC          Out of VOC          \n",
       "   f1 micro  f1 macro  f1 micro f1 macro   f1 micro  f1 macro\n",
       "0  0.665434  0.157576  0.694127  0.18084   0.134021  0.072485"
      ]
     },
     "metadata": {},
     "output_type": "display_data"
    },
    {
     "name": "stderr",
     "output_type": "stream",
     "text": [
      "Epoch 8: 100%|██████████| 1683/1683 [05:53<00:00,  4.76batch/s, loss_decrease=1.0000027302517829]\n",
      "100%|██████████| 3787/3787 [00:41<00:00, 91.69batch/s] \n"
     ]
    },
    {
     "data": {
      "text/html": [
       "<div>\n",
       "<style scoped>\n",
       "    .dataframe tbody tr th:only-of-type {\n",
       "        vertical-align: middle;\n",
       "    }\n",
       "\n",
       "    .dataframe tbody tr th {\n",
       "        vertical-align: top;\n",
       "    }\n",
       "\n",
       "    .dataframe thead tr th {\n",
       "        text-align: left;\n",
       "    }\n",
       "</style>\n",
       "<table border=\"1\" class=\"dataframe\">\n",
       "  <thead>\n",
       "    <tr>\n",
       "      <th></th>\n",
       "      <th colspan=\"2\" halign=\"left\">All</th>\n",
       "      <th colspan=\"2\" halign=\"left\">In VOC</th>\n",
       "      <th colspan=\"2\" halign=\"left\">Out of VOC</th>\n",
       "    </tr>\n",
       "    <tr>\n",
       "      <th></th>\n",
       "      <th>f1 micro</th>\n",
       "      <th>f1 macro</th>\n",
       "      <th>f1 micro</th>\n",
       "      <th>f1 macro</th>\n",
       "      <th>f1 micro</th>\n",
       "      <th>f1 macro</th>\n",
       "    </tr>\n",
       "  </thead>\n",
       "  <tbody>\n",
       "    <tr>\n",
       "      <th>0</th>\n",
       "      <td>0.667547</td>\n",
       "      <td>0.158452</td>\n",
       "      <td>0.696911</td>\n",
       "      <td>0.185014</td>\n",
       "      <td>0.123711</td>\n",
       "      <td>0.06743</td>\n",
       "    </tr>\n",
       "  </tbody>\n",
       "</table>\n",
       "</div>"
      ],
      "text/plain": [
       "        All              In VOC           Out of VOC         \n",
       "   f1 micro  f1 macro  f1 micro  f1 macro   f1 micro f1 macro\n",
       "0  0.667547  0.158452  0.696911  0.185014   0.123711  0.06743"
      ]
     },
     "metadata": {},
     "output_type": "display_data"
    },
    {
     "name": "stderr",
     "output_type": "stream",
     "text": [
      "Epoch 9: 100%|██████████| 1683/1683 [05:52<00:00,  4.78batch/s, loss_decrease=1.000002824398662] \n",
      "100%|██████████| 3787/3787 [00:39<00:00, 94.70batch/s] \n"
     ]
    },
    {
     "data": {
      "text/html": [
       "<div>\n",
       "<style scoped>\n",
       "    .dataframe tbody tr th:only-of-type {\n",
       "        vertical-align: middle;\n",
       "    }\n",
       "\n",
       "    .dataframe tbody tr th {\n",
       "        vertical-align: top;\n",
       "    }\n",
       "\n",
       "    .dataframe thead tr th {\n",
       "        text-align: left;\n",
       "    }\n",
       "</style>\n",
       "<table border=\"1\" class=\"dataframe\">\n",
       "  <thead>\n",
       "    <tr>\n",
       "      <th></th>\n",
       "      <th colspan=\"2\" halign=\"left\">All</th>\n",
       "      <th colspan=\"2\" halign=\"left\">In VOC</th>\n",
       "      <th colspan=\"2\" halign=\"left\">Out of VOC</th>\n",
       "    </tr>\n",
       "    <tr>\n",
       "      <th></th>\n",
       "      <th>f1 micro</th>\n",
       "      <th>f1 macro</th>\n",
       "      <th>f1 micro</th>\n",
       "      <th>f1 macro</th>\n",
       "      <th>f1 micro</th>\n",
       "      <th>f1 macro</th>\n",
       "    </tr>\n",
       "  </thead>\n",
       "  <tbody>\n",
       "    <tr>\n",
       "      <th>0</th>\n",
       "      <td>0.684183</td>\n",
       "      <td>0.175413</td>\n",
       "      <td>0.713888</td>\n",
       "      <td>0.204398</td>\n",
       "      <td>0.134021</td>\n",
       "      <td>0.075125</td>\n",
       "    </tr>\n",
       "  </tbody>\n",
       "</table>\n",
       "</div>"
      ],
      "text/plain": [
       "        All              In VOC           Out of VOC          \n",
       "   f1 micro  f1 macro  f1 micro  f1 macro   f1 micro  f1 macro\n",
       "0  0.684183  0.175413  0.713888  0.204398   0.134021  0.075125"
      ]
     },
     "metadata": {},
     "output_type": "display_data"
    },
    {
     "name": "stderr",
     "output_type": "stream",
     "text": [
      "Epoch 10: 100%|██████████| 1683/1683 [05:52<00:00,  4.78batch/s, loss_decrease=1.000002824398662] \n",
      "100%|██████████| 3787/3787 [00:39<00:00, 96.04batch/s] \n"
     ]
    },
    {
     "data": {
      "text/html": [
       "<div>\n",
       "<style scoped>\n",
       "    .dataframe tbody tr th:only-of-type {\n",
       "        vertical-align: middle;\n",
       "    }\n",
       "\n",
       "    .dataframe tbody tr th {\n",
       "        vertical-align: top;\n",
       "    }\n",
       "\n",
       "    .dataframe thead tr th {\n",
       "        text-align: left;\n",
       "    }\n",
       "</style>\n",
       "<table border=\"1\" class=\"dataframe\">\n",
       "  <thead>\n",
       "    <tr>\n",
       "      <th></th>\n",
       "      <th colspan=\"2\" halign=\"left\">All</th>\n",
       "      <th colspan=\"2\" halign=\"left\">In VOC</th>\n",
       "      <th colspan=\"2\" halign=\"left\">Out of VOC</th>\n",
       "    </tr>\n",
       "    <tr>\n",
       "      <th></th>\n",
       "      <th>f1 micro</th>\n",
       "      <th>f1 macro</th>\n",
       "      <th>f1 micro</th>\n",
       "      <th>f1 macro</th>\n",
       "      <th>f1 micro</th>\n",
       "      <th>f1 macro</th>\n",
       "    </tr>\n",
       "  </thead>\n",
       "  <tbody>\n",
       "    <tr>\n",
       "      <th>0</th>\n",
       "      <td>0.693161</td>\n",
       "      <td>0.173757</td>\n",
       "      <td>0.723908</td>\n",
       "      <td>0.202431</td>\n",
       "      <td>0.123711</td>\n",
       "      <td>0.073877</td>\n",
       "    </tr>\n",
       "  </tbody>\n",
       "</table>\n",
       "</div>"
      ],
      "text/plain": [
       "        All              In VOC           Out of VOC          \n",
       "   f1 micro  f1 macro  f1 micro  f1 macro   f1 micro  f1 macro\n",
       "0  0.693161  0.173757  0.723908  0.202431   0.123711  0.073877"
      ]
     },
     "metadata": {},
     "output_type": "display_data"
    },
    {
     "name": "stderr",
     "output_type": "stream",
     "text": [
      "Epoch 11: 100%|██████████| 1683/1683 [05:47<00:00,  4.84batch/s, loss_decrease=1.0000030126924735]\n",
      "100%|██████████| 3787/3787 [00:43<00:00, 86.59batch/s] \n"
     ]
    },
    {
     "data": {
      "text/html": [
       "<div>\n",
       "<style scoped>\n",
       "    .dataframe tbody tr th:only-of-type {\n",
       "        vertical-align: middle;\n",
       "    }\n",
       "\n",
       "    .dataframe tbody tr th {\n",
       "        vertical-align: top;\n",
       "    }\n",
       "\n",
       "    .dataframe thead tr th {\n",
       "        text-align: left;\n",
       "    }\n",
       "</style>\n",
       "<table border=\"1\" class=\"dataframe\">\n",
       "  <thead>\n",
       "    <tr>\n",
       "      <th></th>\n",
       "      <th colspan=\"2\" halign=\"left\">All</th>\n",
       "      <th colspan=\"2\" halign=\"left\">In VOC</th>\n",
       "      <th colspan=\"2\" halign=\"left\">Out of VOC</th>\n",
       "    </tr>\n",
       "    <tr>\n",
       "      <th></th>\n",
       "      <th>f1 micro</th>\n",
       "      <th>f1 macro</th>\n",
       "      <th>f1 micro</th>\n",
       "      <th>f1 macro</th>\n",
       "      <th>f1 micro</th>\n",
       "      <th>f1 macro</th>\n",
       "    </tr>\n",
       "  </thead>\n",
       "  <tbody>\n",
       "    <tr>\n",
       "      <th>0</th>\n",
       "      <td>0.693161</td>\n",
       "      <td>0.181623</td>\n",
       "      <td>0.723073</td>\n",
       "      <td>0.210467</td>\n",
       "      <td>0.139175</td>\n",
       "      <td>0.083274</td>\n",
       "    </tr>\n",
       "  </tbody>\n",
       "</table>\n",
       "</div>"
      ],
      "text/plain": [
       "        All              In VOC           Out of VOC          \n",
       "   f1 micro  f1 macro  f1 micro  f1 macro   f1 micro  f1 macro\n",
       "0  0.693161  0.181623  0.723073  0.210467   0.139175  0.083274"
      ]
     },
     "metadata": {},
     "output_type": "display_data"
    },
    {
     "name": "stderr",
     "output_type": "stream",
     "text": [
      "Epoch 12: 100%|██████████| 1683/1683 [05:50<00:00,  4.81batch/s, loss_decrease=1.0000030126924735]\n",
      "100%|██████████| 3787/3787 [00:41<00:00, 90.26batch/s]\n"
     ]
    },
    {
     "data": {
      "text/html": [
       "<div>\n",
       "<style scoped>\n",
       "    .dataframe tbody tr th:only-of-type {\n",
       "        vertical-align: middle;\n",
       "    }\n",
       "\n",
       "    .dataframe tbody tr th {\n",
       "        vertical-align: top;\n",
       "    }\n",
       "\n",
       "    .dataframe thead tr th {\n",
       "        text-align: left;\n",
       "    }\n",
       "</style>\n",
       "<table border=\"1\" class=\"dataframe\">\n",
       "  <thead>\n",
       "    <tr>\n",
       "      <th></th>\n",
       "      <th colspan=\"2\" halign=\"left\">All</th>\n",
       "      <th colspan=\"2\" halign=\"left\">In VOC</th>\n",
       "      <th colspan=\"2\" halign=\"left\">Out of VOC</th>\n",
       "    </tr>\n",
       "    <tr>\n",
       "      <th></th>\n",
       "      <th>f1 micro</th>\n",
       "      <th>f1 macro</th>\n",
       "      <th>f1 micro</th>\n",
       "      <th>f1 macro</th>\n",
       "      <th>f1 micro</th>\n",
       "      <th>f1 macro</th>\n",
       "    </tr>\n",
       "  </thead>\n",
       "  <tbody>\n",
       "    <tr>\n",
       "      <th>0</th>\n",
       "      <td>0.701611</td>\n",
       "      <td>0.189903</td>\n",
       "      <td>0.731422</td>\n",
       "      <td>0.214162</td>\n",
       "      <td>0.149485</td>\n",
       "      <td>0.096177</td>\n",
       "    </tr>\n",
       "  </tbody>\n",
       "</table>\n",
       "</div>"
      ],
      "text/plain": [
       "        All              In VOC           Out of VOC          \n",
       "   f1 micro  f1 macro  f1 micro  f1 macro   f1 micro  f1 macro\n",
       "0  0.701611  0.189903  0.731422  0.214162   0.149485  0.096177"
      ]
     },
     "metadata": {},
     "output_type": "display_data"
    },
    {
     "name": "stderr",
     "output_type": "stream",
     "text": [
      "Epoch 13: 100%|██████████| 1683/1683 [05:50<00:00,  4.80batch/s, loss_decrease=1.0000030126924735]\n",
      "100%|██████████| 3787/3787 [00:41<00:00, 90.49batch/s] \n"
     ]
    },
    {
     "data": {
      "text/html": [
       "<div>\n",
       "<style scoped>\n",
       "    .dataframe tbody tr th:only-of-type {\n",
       "        vertical-align: middle;\n",
       "    }\n",
       "\n",
       "    .dataframe tbody tr th {\n",
       "        vertical-align: top;\n",
       "    }\n",
       "\n",
       "    .dataframe thead tr th {\n",
       "        text-align: left;\n",
       "    }\n",
       "</style>\n",
       "<table border=\"1\" class=\"dataframe\">\n",
       "  <thead>\n",
       "    <tr>\n",
       "      <th></th>\n",
       "      <th colspan=\"2\" halign=\"left\">All</th>\n",
       "      <th colspan=\"2\" halign=\"left\">In VOC</th>\n",
       "      <th colspan=\"2\" halign=\"left\">Out of VOC</th>\n",
       "    </tr>\n",
       "    <tr>\n",
       "      <th></th>\n",
       "      <th>f1 micro</th>\n",
       "      <th>f1 macro</th>\n",
       "      <th>f1 micro</th>\n",
       "      <th>f1 macro</th>\n",
       "      <th>f1 micro</th>\n",
       "      <th>f1 macro</th>\n",
       "    </tr>\n",
       "  </thead>\n",
       "  <tbody>\n",
       "    <tr>\n",
       "      <th>0</th>\n",
       "      <td>0.699762</td>\n",
       "      <td>0.189974</td>\n",
       "      <td>0.730031</td>\n",
       "      <td>0.222027</td>\n",
       "      <td>0.139175</td>\n",
       "      <td>0.077549</td>\n",
       "    </tr>\n",
       "  </tbody>\n",
       "</table>\n",
       "</div>"
      ],
      "text/plain": [
       "        All              In VOC           Out of VOC          \n",
       "   f1 micro  f1 macro  f1 micro  f1 macro   f1 micro  f1 macro\n",
       "0  0.699762  0.189974  0.730031  0.222027   0.139175  0.077549"
      ]
     },
     "metadata": {},
     "output_type": "display_data"
    },
    {
     "name": "stderr",
     "output_type": "stream",
     "text": [
      "Epoch 14: 100%|██████████| 1683/1683 [05:52<00:00,  4.77batch/s, loss_decrease=1.0000030126924735]\n",
      "100%|██████████| 3787/3787 [00:40<00:00, 93.74batch/s]\n"
     ]
    },
    {
     "data": {
      "text/html": [
       "<div>\n",
       "<style scoped>\n",
       "    .dataframe tbody tr th:only-of-type {\n",
       "        vertical-align: middle;\n",
       "    }\n",
       "\n",
       "    .dataframe tbody tr th {\n",
       "        vertical-align: top;\n",
       "    }\n",
       "\n",
       "    .dataframe thead tr th {\n",
       "        text-align: left;\n",
       "    }\n",
       "</style>\n",
       "<table border=\"1\" class=\"dataframe\">\n",
       "  <thead>\n",
       "    <tr>\n",
       "      <th></th>\n",
       "      <th colspan=\"2\" halign=\"left\">All</th>\n",
       "      <th colspan=\"2\" halign=\"left\">In VOC</th>\n",
       "      <th colspan=\"2\" halign=\"left\">Out of VOC</th>\n",
       "    </tr>\n",
       "    <tr>\n",
       "      <th></th>\n",
       "      <th>f1 micro</th>\n",
       "      <th>f1 macro</th>\n",
       "      <th>f1 micro</th>\n",
       "      <th>f1 macro</th>\n",
       "      <th>f1 micro</th>\n",
       "      <th>f1 macro</th>\n",
       "    </tr>\n",
       "  </thead>\n",
       "  <tbody>\n",
       "    <tr>\n",
       "      <th>0</th>\n",
       "      <td>0.715078</td>\n",
       "      <td>0.198162</td>\n",
       "      <td>0.746173</td>\n",
       "      <td>0.231724</td>\n",
       "      <td>0.139175</td>\n",
       "      <td>0.08563</td>\n",
       "    </tr>\n",
       "  </tbody>\n",
       "</table>\n",
       "</div>"
      ],
      "text/plain": [
       "        All              In VOC           Out of VOC         \n",
       "   f1 micro  f1 macro  f1 micro  f1 macro   f1 micro f1 macro\n",
       "0  0.715078  0.198162  0.746173  0.231724   0.139175  0.08563"
      ]
     },
     "metadata": {},
     "output_type": "display_data"
    },
    {
     "name": "stderr",
     "output_type": "stream",
     "text": [
      "Epoch 15:  96%|█████████▌| 1610/1683 [05:36<00:15,  4.77batch/s, loss_decrease=1.0000029185455588]"
     ]
    }
   ],
   "source": [
    "from tqdm import trange\n",
    "from tqdm import tqdm\n",
    "from sklearn.metrics import classification_report, f1_score\n",
    "from evaluator import Evaluator\n",
    "import numpy as np\n",
    "\n",
    "\n",
    "\n",
    "#Гиперпараметры\n",
    "batch_size=64\n",
    "epochs = 50\n",
    "    \n",
    "trainloader = torch.utils.data.DataLoader(ds_train, batch_size=batch_size,\n",
    "                                          shuffle=False, num_workers=0)\n",
    "testloader = torch.utils.data.DataLoader(ds_test, batch_size=1, shuffle=False)\n",
    "\n",
    "\n",
    "initial_loss = None\n",
    "\n",
    "for epoch in range(1, epochs+1):\n",
    "    #обучение модели в эпохе\n",
    "    net.train()\n",
    "    with tqdm(trainloader, unit=\"batch\") as tepoch:\n",
    "        for data in tepoch:\n",
    "\n",
    "            tepoch.set_description(f\"Epoch {epoch}\")\n",
    "\n",
    "            inputs = data['tokenized_phrases']\n",
    "            labels = data['one_hot_labels']\n",
    "\n",
    "            optimizer.zero_grad()\n",
    "            if USE_CUDA=='cuda':\n",
    "                with torch.cuda.amp.autocast():\n",
    "                    outputs = net(inputs)['output']\n",
    "                    loss = criterion(outputs, labels)\n",
    "                scaler.scale(loss).backward()\n",
    "                scaler.step(optimizer)\n",
    "                scaler.update()\n",
    "            else:\n",
    "                outputs = net(inputs)['output']\n",
    "                loss = criterion(outputs, labels)\n",
    "                loss.backward()\n",
    "                optimizer.step()\n",
    "            if initial_loss is None:\n",
    "                initial_loss = loss.item()\n",
    "            tepoch.set_postfix(loss_decrease = str(initial_loss/loss.item()))\n",
    "    #расчет точностей модели после эпохи\n",
    "    net.eval()\n",
    "    model_answers=[]\n",
    "    real_answers=[]\n",
    "    with tqdm(testloader, unit=\"batch\") as eval_process:\n",
    "        for data in eval_process:\n",
    "\n",
    "            inputs = data['tokenized_phrases']\n",
    "\n",
    "            with torch.no_grad():\n",
    "                outputs_dict = net(inputs)\n",
    "                pred_meddra_code = CV.meddra_codes[outputs_dict['output'].argmax()]\n",
    "\n",
    "\n",
    "            model_answers.append(pred_meddra_code)\n",
    "            real_answers.append(data['label_codes'][0])\n",
    "    evaluator.get_all_f1_scores(real_answers, model_answers)\n",
    "print('Finished Training')\n",
    "torch.save(net,'./Model_weights/rubert_additional_corp_%s_exp_16.pt'%epoch)"
   ]
  },
  {
   "cell_type": "markdown",
   "id": "generic-catalog",
   "metadata": {},
   "source": [
    "<h3>50 эпох на доп. корпусе v2 с RDRS</h3>"
   ]
  },
  {
   "cell_type": "code",
   "execution_count": 19,
   "id": "whole-accounting",
   "metadata": {},
   "outputs": [
    {
     "name": "stderr",
     "output_type": "stream",
     "text": [
      "Epoch 1: 100%|██████████| 1617/1617 [05:37<00:00,  4.80batch/s, loss_decrease=1.000000941464448] \n",
      "100%|██████████| 3787/3787 [00:40<00:00, 93.40batch/s]\n"
     ]
    },
    {
     "data": {
      "text/html": [
       "<div>\n",
       "<style scoped>\n",
       "    .dataframe tbody tr th:only-of-type {\n",
       "        vertical-align: middle;\n",
       "    }\n",
       "\n",
       "    .dataframe tbody tr th {\n",
       "        vertical-align: top;\n",
       "    }\n",
       "\n",
       "    .dataframe thead tr th {\n",
       "        text-align: left;\n",
       "    }\n",
       "</style>\n",
       "<table border=\"1\" class=\"dataframe\">\n",
       "  <thead>\n",
       "    <tr>\n",
       "      <th></th>\n",
       "      <th colspan=\"2\" halign=\"left\">All</th>\n",
       "      <th colspan=\"2\" halign=\"left\">In VOC</th>\n",
       "      <th colspan=\"2\" halign=\"left\">Out of VOC</th>\n",
       "    </tr>\n",
       "    <tr>\n",
       "      <th></th>\n",
       "      <th>f1 micro</th>\n",
       "      <th>f1 macro</th>\n",
       "      <th>f1 micro</th>\n",
       "      <th>f1 macro</th>\n",
       "      <th>f1 micro</th>\n",
       "      <th>f1 macro</th>\n",
       "    </tr>\n",
       "  </thead>\n",
       "  <tbody>\n",
       "    <tr>\n",
       "      <th>0</th>\n",
       "      <td>0.342752</td>\n",
       "      <td>0.061241</td>\n",
       "      <td>0.35764</td>\n",
       "      <td>0.064874</td>\n",
       "      <td>0.06701</td>\n",
       "      <td>0.040636</td>\n",
       "    </tr>\n",
       "  </tbody>\n",
       "</table>\n",
       "</div>"
      ],
      "text/plain": [
       "        All             In VOC           Out of VOC          \n",
       "   f1 micro  f1 macro f1 micro  f1 macro   f1 micro  f1 macro\n",
       "0  0.342752  0.061241  0.35764  0.064874    0.06701  0.040636"
      ]
     },
     "metadata": {},
     "output_type": "display_data"
    },
    {
     "name": "stderr",
     "output_type": "stream",
     "text": [
      "Epoch 2: 100%|██████████| 1617/1617 [05:38<00:00,  4.78batch/s, loss_decrease=1.0000011297575502]\n",
      "100%|██████████| 3787/3787 [00:43<00:00, 86.97batch/s]\n"
     ]
    },
    {
     "data": {
      "text/html": [
       "<div>\n",
       "<style scoped>\n",
       "    .dataframe tbody tr th:only-of-type {\n",
       "        vertical-align: middle;\n",
       "    }\n",
       "\n",
       "    .dataframe tbody tr th {\n",
       "        vertical-align: top;\n",
       "    }\n",
       "\n",
       "    .dataframe thead tr th {\n",
       "        text-align: left;\n",
       "    }\n",
       "</style>\n",
       "<table border=\"1\" class=\"dataframe\">\n",
       "  <thead>\n",
       "    <tr>\n",
       "      <th></th>\n",
       "      <th colspan=\"2\" halign=\"left\">All</th>\n",
       "      <th colspan=\"2\" halign=\"left\">In VOC</th>\n",
       "      <th colspan=\"2\" halign=\"left\">Out of VOC</th>\n",
       "    </tr>\n",
       "    <tr>\n",
       "      <th></th>\n",
       "      <th>f1 micro</th>\n",
       "      <th>f1 macro</th>\n",
       "      <th>f1 micro</th>\n",
       "      <th>f1 macro</th>\n",
       "      <th>f1 micro</th>\n",
       "      <th>f1 macro</th>\n",
       "    </tr>\n",
       "  </thead>\n",
       "  <tbody>\n",
       "    <tr>\n",
       "      <th>0</th>\n",
       "      <td>0.494587</td>\n",
       "      <td>0.100847</td>\n",
       "      <td>0.515168</td>\n",
       "      <td>0.106615</td>\n",
       "      <td>0.113402</td>\n",
       "      <td>0.067633</td>\n",
       "    </tr>\n",
       "  </tbody>\n",
       "</table>\n",
       "</div>"
      ],
      "text/plain": [
       "        All              In VOC           Out of VOC          \n",
       "   f1 micro  f1 macro  f1 micro  f1 macro   f1 micro  f1 macro\n",
       "0  0.494587  0.100847  0.515168  0.106615   0.113402  0.067633"
      ]
     },
     "metadata": {},
     "output_type": "display_data"
    },
    {
     "name": "stderr",
     "output_type": "stream",
     "text": [
      "Epoch 3: 100%|██████████| 1617/1617 [05:34<00:00,  4.83batch/s, loss_decrease=1.000001223904128] \n",
      "100%|██████████| 3787/3787 [00:43<00:00, 87.24batch/s]\n"
     ]
    },
    {
     "data": {
      "text/html": [
       "<div>\n",
       "<style scoped>\n",
       "    .dataframe tbody tr th:only-of-type {\n",
       "        vertical-align: middle;\n",
       "    }\n",
       "\n",
       "    .dataframe tbody tr th {\n",
       "        vertical-align: top;\n",
       "    }\n",
       "\n",
       "    .dataframe thead tr th {\n",
       "        text-align: left;\n",
       "    }\n",
       "</style>\n",
       "<table border=\"1\" class=\"dataframe\">\n",
       "  <thead>\n",
       "    <tr>\n",
       "      <th></th>\n",
       "      <th colspan=\"2\" halign=\"left\">All</th>\n",
       "      <th colspan=\"2\" halign=\"left\">In VOC</th>\n",
       "      <th colspan=\"2\" halign=\"left\">Out of VOC</th>\n",
       "    </tr>\n",
       "    <tr>\n",
       "      <th></th>\n",
       "      <th>f1 micro</th>\n",
       "      <th>f1 macro</th>\n",
       "      <th>f1 micro</th>\n",
       "      <th>f1 macro</th>\n",
       "      <th>f1 micro</th>\n",
       "      <th>f1 macro</th>\n",
       "    </tr>\n",
       "  </thead>\n",
       "  <tbody>\n",
       "    <tr>\n",
       "      <th>0</th>\n",
       "      <td>0.583311</td>\n",
       "      <td>0.113348</td>\n",
       "      <td>0.60924</td>\n",
       "      <td>0.126587</td>\n",
       "      <td>0.103093</td>\n",
       "      <td>0.060301</td>\n",
       "    </tr>\n",
       "  </tbody>\n",
       "</table>\n",
       "</div>"
      ],
      "text/plain": [
       "        All             In VOC           Out of VOC          \n",
       "   f1 micro  f1 macro f1 micro  f1 macro   f1 micro  f1 macro\n",
       "0  0.583311  0.113348  0.60924  0.126587   0.103093  0.060301"
      ]
     },
     "metadata": {},
     "output_type": "display_data"
    },
    {
     "name": "stderr",
     "output_type": "stream",
     "text": [
      "Epoch 4: 100%|██████████| 1617/1617 [05:34<00:00,  4.84batch/s, loss_decrease=1.0000013180507235]\n",
      "100%|██████████| 3787/3787 [00:40<00:00, 93.28batch/s]\n"
     ]
    },
    {
     "data": {
      "text/html": [
       "<div>\n",
       "<style scoped>\n",
       "    .dataframe tbody tr th:only-of-type {\n",
       "        vertical-align: middle;\n",
       "    }\n",
       "\n",
       "    .dataframe tbody tr th {\n",
       "        vertical-align: top;\n",
       "    }\n",
       "\n",
       "    .dataframe thead tr th {\n",
       "        text-align: left;\n",
       "    }\n",
       "</style>\n",
       "<table border=\"1\" class=\"dataframe\">\n",
       "  <thead>\n",
       "    <tr>\n",
       "      <th></th>\n",
       "      <th colspan=\"2\" halign=\"left\">All</th>\n",
       "      <th colspan=\"2\" halign=\"left\">In VOC</th>\n",
       "      <th colspan=\"2\" halign=\"left\">Out of VOC</th>\n",
       "    </tr>\n",
       "    <tr>\n",
       "      <th></th>\n",
       "      <th>f1 micro</th>\n",
       "      <th>f1 macro</th>\n",
       "      <th>f1 micro</th>\n",
       "      <th>f1 macro</th>\n",
       "      <th>f1 micro</th>\n",
       "      <th>f1 macro</th>\n",
       "    </tr>\n",
       "  </thead>\n",
       "  <tbody>\n",
       "    <tr>\n",
       "      <th>0</th>\n",
       "      <td>0.617111</td>\n",
       "      <td>0.126074</td>\n",
       "      <td>0.644865</td>\n",
       "      <td>0.142645</td>\n",
       "      <td>0.103093</td>\n",
       "      <td>0.061707</td>\n",
       "    </tr>\n",
       "  </tbody>\n",
       "</table>\n",
       "</div>"
      ],
      "text/plain": [
       "        All              In VOC           Out of VOC          \n",
       "   f1 micro  f1 macro  f1 micro  f1 macro   f1 micro  f1 macro\n",
       "0  0.617111  0.126074  0.644865  0.142645   0.103093  0.061707"
      ]
     },
     "metadata": {},
     "output_type": "display_data"
    },
    {
     "name": "stderr",
     "output_type": "stream",
     "text": [
      "Epoch 5: 100%|██████████| 1617/1617 [05:32<00:00,  4.86batch/s, loss_decrease=1.0000013180507235]\n",
      "100%|██████████| 3787/3787 [00:41<00:00, 90.79batch/s]\n"
     ]
    },
    {
     "data": {
      "text/html": [
       "<div>\n",
       "<style scoped>\n",
       "    .dataframe tbody tr th:only-of-type {\n",
       "        vertical-align: middle;\n",
       "    }\n",
       "\n",
       "    .dataframe tbody tr th {\n",
       "        vertical-align: top;\n",
       "    }\n",
       "\n",
       "    .dataframe thead tr th {\n",
       "        text-align: left;\n",
       "    }\n",
       "</style>\n",
       "<table border=\"1\" class=\"dataframe\">\n",
       "  <thead>\n",
       "    <tr>\n",
       "      <th></th>\n",
       "      <th colspan=\"2\" halign=\"left\">All</th>\n",
       "      <th colspan=\"2\" halign=\"left\">In VOC</th>\n",
       "      <th colspan=\"2\" halign=\"left\">Out of VOC</th>\n",
       "    </tr>\n",
       "    <tr>\n",
       "      <th></th>\n",
       "      <th>f1 micro</th>\n",
       "      <th>f1 macro</th>\n",
       "      <th>f1 micro</th>\n",
       "      <th>f1 macro</th>\n",
       "      <th>f1 micro</th>\n",
       "      <th>f1 macro</th>\n",
       "    </tr>\n",
       "  </thead>\n",
       "  <tbody>\n",
       "    <tr>\n",
       "      <th>0</th>\n",
       "      <td>0.634539</td>\n",
       "      <td>0.134528</td>\n",
       "      <td>0.664904</td>\n",
       "      <td>0.161613</td>\n",
       "      <td>0.072165</td>\n",
       "      <td>0.041792</td>\n",
       "    </tr>\n",
       "  </tbody>\n",
       "</table>\n",
       "</div>"
      ],
      "text/plain": [
       "        All              In VOC           Out of VOC          \n",
       "   f1 micro  f1 macro  f1 micro  f1 macro   f1 micro  f1 macro\n",
       "0  0.634539  0.134528  0.664904  0.161613   0.072165  0.041792"
      ]
     },
     "metadata": {},
     "output_type": "display_data"
    },
    {
     "name": "stderr",
     "output_type": "stream",
     "text": [
      "Epoch 6: 100%|██████████| 1617/1617 [05:37<00:00,  4.79batch/s, loss_decrease=1.0000015063439676]\n",
      "100%|██████████| 3787/3787 [00:40<00:00, 92.41batch/s]\n"
     ]
    },
    {
     "data": {
      "text/html": [
       "<div>\n",
       "<style scoped>\n",
       "    .dataframe tbody tr th:only-of-type {\n",
       "        vertical-align: middle;\n",
       "    }\n",
       "\n",
       "    .dataframe tbody tr th {\n",
       "        vertical-align: top;\n",
       "    }\n",
       "\n",
       "    .dataframe thead tr th {\n",
       "        text-align: left;\n",
       "    }\n",
       "</style>\n",
       "<table border=\"1\" class=\"dataframe\">\n",
       "  <thead>\n",
       "    <tr>\n",
       "      <th></th>\n",
       "      <th colspan=\"2\" halign=\"left\">All</th>\n",
       "      <th colspan=\"2\" halign=\"left\">In VOC</th>\n",
       "      <th colspan=\"2\" halign=\"left\">Out of VOC</th>\n",
       "    </tr>\n",
       "    <tr>\n",
       "      <th></th>\n",
       "      <th>f1 micro</th>\n",
       "      <th>f1 macro</th>\n",
       "      <th>f1 micro</th>\n",
       "      <th>f1 macro</th>\n",
       "      <th>f1 micro</th>\n",
       "      <th>f1 macro</th>\n",
       "    </tr>\n",
       "  </thead>\n",
       "  <tbody>\n",
       "    <tr>\n",
       "      <th>0</th>\n",
       "      <td>0.652759</td>\n",
       "      <td>0.148826</td>\n",
       "      <td>0.683273</td>\n",
       "      <td>0.178561</td>\n",
       "      <td>0.087629</td>\n",
       "      <td>0.049006</td>\n",
       "    </tr>\n",
       "  </tbody>\n",
       "</table>\n",
       "</div>"
      ],
      "text/plain": [
       "        All              In VOC           Out of VOC          \n",
       "   f1 micro  f1 macro  f1 micro  f1 macro   f1 micro  f1 macro\n",
       "0  0.652759  0.148826  0.683273  0.178561   0.087629  0.049006"
      ]
     },
     "metadata": {},
     "output_type": "display_data"
    },
    {
     "name": "stderr",
     "output_type": "stream",
     "text": [
      "Epoch 7: 100%|██████████| 1617/1617 [05:37<00:00,  4.79batch/s, loss_decrease=1.0000016946372827]\n",
      "100%|██████████| 3787/3787 [00:44<00:00, 85.13batch/s]\n"
     ]
    },
    {
     "data": {
      "text/html": [
       "<div>\n",
       "<style scoped>\n",
       "    .dataframe tbody tr th:only-of-type {\n",
       "        vertical-align: middle;\n",
       "    }\n",
       "\n",
       "    .dataframe tbody tr th {\n",
       "        vertical-align: top;\n",
       "    }\n",
       "\n",
       "    .dataframe thead tr th {\n",
       "        text-align: left;\n",
       "    }\n",
       "</style>\n",
       "<table border=\"1\" class=\"dataframe\">\n",
       "  <thead>\n",
       "    <tr>\n",
       "      <th></th>\n",
       "      <th colspan=\"2\" halign=\"left\">All</th>\n",
       "      <th colspan=\"2\" halign=\"left\">In VOC</th>\n",
       "      <th colspan=\"2\" halign=\"left\">Out of VOC</th>\n",
       "    </tr>\n",
       "    <tr>\n",
       "      <th></th>\n",
       "      <th>f1 micro</th>\n",
       "      <th>f1 macro</th>\n",
       "      <th>f1 micro</th>\n",
       "      <th>f1 macro</th>\n",
       "      <th>f1 micro</th>\n",
       "      <th>f1 macro</th>\n",
       "    </tr>\n",
       "  </thead>\n",
       "  <tbody>\n",
       "    <tr>\n",
       "      <th>0</th>\n",
       "      <td>0.660945</td>\n",
       "      <td>0.160118</td>\n",
       "      <td>0.690788</td>\n",
       "      <td>0.189451</td>\n",
       "      <td>0.108247</td>\n",
       "      <td>0.058713</td>\n",
       "    </tr>\n",
       "  </tbody>\n",
       "</table>\n",
       "</div>"
      ],
      "text/plain": [
       "        All              In VOC           Out of VOC          \n",
       "   f1 micro  f1 macro  f1 micro  f1 macro   f1 micro  f1 macro\n",
       "0  0.660945  0.160118  0.690788  0.189451   0.108247  0.058713"
      ]
     },
     "metadata": {},
     "output_type": "display_data"
    },
    {
     "name": "stderr",
     "output_type": "stream",
     "text": [
      "Epoch 8: 100%|██████████| 1617/1617 [05:36<00:00,  4.81batch/s, loss_decrease=1.0000016946372827]\n",
      "100%|██████████| 3787/3787 [00:40<00:00, 92.71batch/s]\n"
     ]
    },
    {
     "data": {
      "text/html": [
       "<div>\n",
       "<style scoped>\n",
       "    .dataframe tbody tr th:only-of-type {\n",
       "        vertical-align: middle;\n",
       "    }\n",
       "\n",
       "    .dataframe tbody tr th {\n",
       "        vertical-align: top;\n",
       "    }\n",
       "\n",
       "    .dataframe thead tr th {\n",
       "        text-align: left;\n",
       "    }\n",
       "</style>\n",
       "<table border=\"1\" class=\"dataframe\">\n",
       "  <thead>\n",
       "    <tr>\n",
       "      <th></th>\n",
       "      <th colspan=\"2\" halign=\"left\">All</th>\n",
       "      <th colspan=\"2\" halign=\"left\">In VOC</th>\n",
       "      <th colspan=\"2\" halign=\"left\">Out of VOC</th>\n",
       "    </tr>\n",
       "    <tr>\n",
       "      <th></th>\n",
       "      <th>f1 micro</th>\n",
       "      <th>f1 macro</th>\n",
       "      <th>f1 micro</th>\n",
       "      <th>f1 macro</th>\n",
       "      <th>f1 micro</th>\n",
       "      <th>f1 macro</th>\n",
       "    </tr>\n",
       "  </thead>\n",
       "  <tbody>\n",
       "    <tr>\n",
       "      <th>0</th>\n",
       "      <td>0.664642</td>\n",
       "      <td>0.15239</td>\n",
       "      <td>0.695241</td>\n",
       "      <td>0.180466</td>\n",
       "      <td>0.097938</td>\n",
       "      <td>0.057177</td>\n",
       "    </tr>\n",
       "  </tbody>\n",
       "</table>\n",
       "</div>"
      ],
      "text/plain": [
       "        All             In VOC           Out of VOC          \n",
       "   f1 micro f1 macro  f1 micro  f1 macro   f1 micro  f1 macro\n",
       "0  0.664642  0.15239  0.695241  0.180466   0.097938  0.057177"
      ]
     },
     "metadata": {},
     "output_type": "display_data"
    },
    {
     "name": "stderr",
     "output_type": "stream",
     "text": [
      "Epoch 9: 100%|██████████| 1617/1617 [05:34<00:00,  4.83batch/s, loss_decrease=1.0000016946372827]\n",
      "100%|██████████| 3787/3787 [00:40<00:00, 94.42batch/s]\n"
     ]
    },
    {
     "data": {
      "text/html": [
       "<div>\n",
       "<style scoped>\n",
       "    .dataframe tbody tr th:only-of-type {\n",
       "        vertical-align: middle;\n",
       "    }\n",
       "\n",
       "    .dataframe tbody tr th {\n",
       "        vertical-align: top;\n",
       "    }\n",
       "\n",
       "    .dataframe thead tr th {\n",
       "        text-align: left;\n",
       "    }\n",
       "</style>\n",
       "<table border=\"1\" class=\"dataframe\">\n",
       "  <thead>\n",
       "    <tr>\n",
       "      <th></th>\n",
       "      <th colspan=\"2\" halign=\"left\">All</th>\n",
       "      <th colspan=\"2\" halign=\"left\">In VOC</th>\n",
       "      <th colspan=\"2\" halign=\"left\">Out of VOC</th>\n",
       "    </tr>\n",
       "    <tr>\n",
       "      <th></th>\n",
       "      <th>f1 micro</th>\n",
       "      <th>f1 macro</th>\n",
       "      <th>f1 micro</th>\n",
       "      <th>f1 macro</th>\n",
       "      <th>f1 micro</th>\n",
       "      <th>f1 macro</th>\n",
       "    </tr>\n",
       "  </thead>\n",
       "  <tbody>\n",
       "    <tr>\n",
       "      <th>0</th>\n",
       "      <td>0.678637</td>\n",
       "      <td>0.164178</td>\n",
       "      <td>0.709157</td>\n",
       "      <td>0.193287</td>\n",
       "      <td>0.113402</td>\n",
       "      <td>0.060922</td>\n",
       "    </tr>\n",
       "  </tbody>\n",
       "</table>\n",
       "</div>"
      ],
      "text/plain": [
       "        All              In VOC           Out of VOC          \n",
       "   f1 micro  f1 macro  f1 micro  f1 macro   f1 micro  f1 macro\n",
       "0  0.678637  0.164178  0.709157  0.193287   0.113402  0.060922"
      ]
     },
     "metadata": {},
     "output_type": "display_data"
    },
    {
     "name": "stderr",
     "output_type": "stream",
     "text": [
      "Epoch 10: 100%|██████████| 1617/1617 [05:36<00:00,  4.80batch/s, loss_decrease=1.0000016946372827]\n",
      "100%|██████████| 3787/3787 [00:40<00:00, 94.58batch/s]\n"
     ]
    },
    {
     "data": {
      "text/html": [
       "<div>\n",
       "<style scoped>\n",
       "    .dataframe tbody tr th:only-of-type {\n",
       "        vertical-align: middle;\n",
       "    }\n",
       "\n",
       "    .dataframe tbody tr th {\n",
       "        vertical-align: top;\n",
       "    }\n",
       "\n",
       "    .dataframe thead tr th {\n",
       "        text-align: left;\n",
       "    }\n",
       "</style>\n",
       "<table border=\"1\" class=\"dataframe\">\n",
       "  <thead>\n",
       "    <tr>\n",
       "      <th></th>\n",
       "      <th colspan=\"2\" halign=\"left\">All</th>\n",
       "      <th colspan=\"2\" halign=\"left\">In VOC</th>\n",
       "      <th colspan=\"2\" halign=\"left\">Out of VOC</th>\n",
       "    </tr>\n",
       "    <tr>\n",
       "      <th></th>\n",
       "      <th>f1 micro</th>\n",
       "      <th>f1 macro</th>\n",
       "      <th>f1 micro</th>\n",
       "      <th>f1 macro</th>\n",
       "      <th>f1 micro</th>\n",
       "      <th>f1 macro</th>\n",
       "    </tr>\n",
       "  </thead>\n",
       "  <tbody>\n",
       "    <tr>\n",
       "      <th>0</th>\n",
       "      <td>0.688936</td>\n",
       "      <td>0.16503</td>\n",
       "      <td>0.719176</td>\n",
       "      <td>0.188379</td>\n",
       "      <td>0.128866</td>\n",
       "      <td>0.072015</td>\n",
       "    </tr>\n",
       "  </tbody>\n",
       "</table>\n",
       "</div>"
      ],
      "text/plain": [
       "        All             In VOC           Out of VOC          \n",
       "   f1 micro f1 macro  f1 micro  f1 macro   f1 micro  f1 macro\n",
       "0  0.688936  0.16503  0.719176  0.188379   0.128866  0.072015"
      ]
     },
     "metadata": {},
     "output_type": "display_data"
    },
    {
     "name": "stderr",
     "output_type": "stream",
     "text": [
      "Epoch 11: 100%|██████████| 1617/1617 [05:34<00:00,  4.84batch/s, loss_decrease=1.0000019770773882]\n",
      "100%|██████████| 3787/3787 [00:47<00:00, 80.29batch/s]\n"
     ]
    },
    {
     "data": {
      "text/html": [
       "<div>\n",
       "<style scoped>\n",
       "    .dataframe tbody tr th:only-of-type {\n",
       "        vertical-align: middle;\n",
       "    }\n",
       "\n",
       "    .dataframe tbody tr th {\n",
       "        vertical-align: top;\n",
       "    }\n",
       "\n",
       "    .dataframe thead tr th {\n",
       "        text-align: left;\n",
       "    }\n",
       "</style>\n",
       "<table border=\"1\" class=\"dataframe\">\n",
       "  <thead>\n",
       "    <tr>\n",
       "      <th></th>\n",
       "      <th colspan=\"2\" halign=\"left\">All</th>\n",
       "      <th colspan=\"2\" halign=\"left\">In VOC</th>\n",
       "      <th colspan=\"2\" halign=\"left\">Out of VOC</th>\n",
       "    </tr>\n",
       "    <tr>\n",
       "      <th></th>\n",
       "      <th>f1 micro</th>\n",
       "      <th>f1 macro</th>\n",
       "      <th>f1 micro</th>\n",
       "      <th>f1 macro</th>\n",
       "      <th>f1 micro</th>\n",
       "      <th>f1 macro</th>\n",
       "    </tr>\n",
       "  </thead>\n",
       "  <tbody>\n",
       "    <tr>\n",
       "      <th>0</th>\n",
       "      <td>0.689992</td>\n",
       "      <td>0.164089</td>\n",
       "      <td>0.721124</td>\n",
       "      <td>0.194643</td>\n",
       "      <td>0.113402</td>\n",
       "      <td>0.061119</td>\n",
       "    </tr>\n",
       "  </tbody>\n",
       "</table>\n",
       "</div>"
      ],
      "text/plain": [
       "        All              In VOC           Out of VOC          \n",
       "   f1 micro  f1 macro  f1 micro  f1 macro   f1 micro  f1 macro\n",
       "0  0.689992  0.164089  0.721124  0.194643   0.113402  0.061119"
      ]
     },
     "metadata": {},
     "output_type": "display_data"
    },
    {
     "name": "stderr",
     "output_type": "stream",
     "text": [
      "Epoch 12: 100%|██████████| 1617/1617 [05:37<00:00,  4.79batch/s, loss_decrease=1.0000020712241255]\n",
      "100%|██████████| 3787/3787 [00:40<00:00, 93.99batch/s]\n"
     ]
    },
    {
     "data": {
      "text/html": [
       "<div>\n",
       "<style scoped>\n",
       "    .dataframe tbody tr th:only-of-type {\n",
       "        vertical-align: middle;\n",
       "    }\n",
       "\n",
       "    .dataframe tbody tr th {\n",
       "        vertical-align: top;\n",
       "    }\n",
       "\n",
       "    .dataframe thead tr th {\n",
       "        text-align: left;\n",
       "    }\n",
       "</style>\n",
       "<table border=\"1\" class=\"dataframe\">\n",
       "  <thead>\n",
       "    <tr>\n",
       "      <th></th>\n",
       "      <th colspan=\"2\" halign=\"left\">All</th>\n",
       "      <th colspan=\"2\" halign=\"left\">In VOC</th>\n",
       "      <th colspan=\"2\" halign=\"left\">Out of VOC</th>\n",
       "    </tr>\n",
       "    <tr>\n",
       "      <th></th>\n",
       "      <th>f1 micro</th>\n",
       "      <th>f1 macro</th>\n",
       "      <th>f1 micro</th>\n",
       "      <th>f1 macro</th>\n",
       "      <th>f1 micro</th>\n",
       "      <th>f1 macro</th>\n",
       "    </tr>\n",
       "  </thead>\n",
       "  <tbody>\n",
       "    <tr>\n",
       "      <th>0</th>\n",
       "      <td>0.695009</td>\n",
       "      <td>0.171125</td>\n",
       "      <td>0.726134</td>\n",
       "      <td>0.200515</td>\n",
       "      <td>0.118557</td>\n",
       "      <td>0.066438</td>\n",
       "    </tr>\n",
       "  </tbody>\n",
       "</table>\n",
       "</div>"
      ],
      "text/plain": [
       "        All              In VOC           Out of VOC          \n",
       "   f1 micro  f1 macro  f1 micro  f1 macro   f1 micro  f1 macro\n",
       "0  0.695009  0.171125  0.726134  0.200515   0.118557  0.066438"
      ]
     },
     "metadata": {},
     "output_type": "display_data"
    },
    {
     "name": "stderr",
     "output_type": "stream",
     "text": [
      "Epoch 13: 100%|██████████| 1617/1617 [05:34<00:00,  4.83batch/s, loss_decrease=1.0000020712241255]\n",
      "100%|██████████| 3787/3787 [00:40<00:00, 93.93batch/s]\n"
     ]
    },
    {
     "data": {
      "text/html": [
       "<div>\n",
       "<style scoped>\n",
       "    .dataframe tbody tr th:only-of-type {\n",
       "        vertical-align: middle;\n",
       "    }\n",
       "\n",
       "    .dataframe tbody tr th {\n",
       "        vertical-align: top;\n",
       "    }\n",
       "\n",
       "    .dataframe thead tr th {\n",
       "        text-align: left;\n",
       "    }\n",
       "</style>\n",
       "<table border=\"1\" class=\"dataframe\">\n",
       "  <thead>\n",
       "    <tr>\n",
       "      <th></th>\n",
       "      <th colspan=\"2\" halign=\"left\">All</th>\n",
       "      <th colspan=\"2\" halign=\"left\">In VOC</th>\n",
       "      <th colspan=\"2\" halign=\"left\">Out of VOC</th>\n",
       "    </tr>\n",
       "    <tr>\n",
       "      <th></th>\n",
       "      <th>f1 micro</th>\n",
       "      <th>f1 macro</th>\n",
       "      <th>f1 micro</th>\n",
       "      <th>f1 macro</th>\n",
       "      <th>f1 micro</th>\n",
       "      <th>f1 macro</th>\n",
       "    </tr>\n",
       "  </thead>\n",
       "  <tbody>\n",
       "    <tr>\n",
       "      <th>0</th>\n",
       "      <td>0.701875</td>\n",
       "      <td>0.177148</td>\n",
       "      <td>0.73337</td>\n",
       "      <td>0.208875</td>\n",
       "      <td>0.118557</td>\n",
       "      <td>0.069781</td>\n",
       "    </tr>\n",
       "  </tbody>\n",
       "</table>\n",
       "</div>"
      ],
      "text/plain": [
       "        All             In VOC           Out of VOC          \n",
       "   f1 micro  f1 macro f1 micro  f1 macro   f1 micro  f1 macro\n",
       "0  0.701875  0.177148  0.73337  0.208875   0.118557  0.069781"
      ]
     },
     "metadata": {},
     "output_type": "display_data"
    },
    {
     "name": "stderr",
     "output_type": "stream",
     "text": [
      "Epoch 14: 100%|██████████| 1617/1617 [05:37<00:00,  4.80batch/s, loss_decrease=1.0000021653708804]\n",
      "100%|██████████| 3787/3787 [00:40<00:00, 93.78batch/s]\n"
     ]
    },
    {
     "data": {
      "text/html": [
       "<div>\n",
       "<style scoped>\n",
       "    .dataframe tbody tr th:only-of-type {\n",
       "        vertical-align: middle;\n",
       "    }\n",
       "\n",
       "    .dataframe tbody tr th {\n",
       "        vertical-align: top;\n",
       "    }\n",
       "\n",
       "    .dataframe thead tr th {\n",
       "        text-align: left;\n",
       "    }\n",
       "</style>\n",
       "<table border=\"1\" class=\"dataframe\">\n",
       "  <thead>\n",
       "    <tr>\n",
       "      <th></th>\n",
       "      <th colspan=\"2\" halign=\"left\">All</th>\n",
       "      <th colspan=\"2\" halign=\"left\">In VOC</th>\n",
       "      <th colspan=\"2\" halign=\"left\">Out of VOC</th>\n",
       "    </tr>\n",
       "    <tr>\n",
       "      <th></th>\n",
       "      <th>f1 micro</th>\n",
       "      <th>f1 macro</th>\n",
       "      <th>f1 micro</th>\n",
       "      <th>f1 macro</th>\n",
       "      <th>f1 micro</th>\n",
       "      <th>f1 macro</th>\n",
       "    </tr>\n",
       "  </thead>\n",
       "  <tbody>\n",
       "    <tr>\n",
       "      <th>0</th>\n",
       "      <td>0.69765</td>\n",
       "      <td>0.174238</td>\n",
       "      <td>0.730866</td>\n",
       "      <td>0.213333</td>\n",
       "      <td>0.082474</td>\n",
       "      <td>0.050401</td>\n",
       "    </tr>\n",
       "  </tbody>\n",
       "</table>\n",
       "</div>"
      ],
      "text/plain": [
       "       All              In VOC           Out of VOC          \n",
       "  f1 micro  f1 macro  f1 micro  f1 macro   f1 micro  f1 macro\n",
       "0  0.69765  0.174238  0.730866  0.213333   0.082474  0.050401"
      ]
     },
     "metadata": {},
     "output_type": "display_data"
    },
    {
     "name": "stderr",
     "output_type": "stream",
     "text": [
      "Epoch 15: 100%|██████████| 1617/1617 [05:37<00:00,  4.80batch/s, loss_decrease=1.0000021653708804]\n",
      "100%|██████████| 3787/3787 [00:40<00:00, 94.15batch/s]\n"
     ]
    },
    {
     "data": {
      "text/html": [
       "<div>\n",
       "<style scoped>\n",
       "    .dataframe tbody tr th:only-of-type {\n",
       "        vertical-align: middle;\n",
       "    }\n",
       "\n",
       "    .dataframe tbody tr th {\n",
       "        vertical-align: top;\n",
       "    }\n",
       "\n",
       "    .dataframe thead tr th {\n",
       "        text-align: left;\n",
       "    }\n",
       "</style>\n",
       "<table border=\"1\" class=\"dataframe\">\n",
       "  <thead>\n",
       "    <tr>\n",
       "      <th></th>\n",
       "      <th colspan=\"2\" halign=\"left\">All</th>\n",
       "      <th colspan=\"2\" halign=\"left\">In VOC</th>\n",
       "      <th colspan=\"2\" halign=\"left\">Out of VOC</th>\n",
       "    </tr>\n",
       "    <tr>\n",
       "      <th></th>\n",
       "      <th>f1 micro</th>\n",
       "      <th>f1 macro</th>\n",
       "      <th>f1 micro</th>\n",
       "      <th>f1 macro</th>\n",
       "      <th>f1 micro</th>\n",
       "      <th>f1 macro</th>\n",
       "    </tr>\n",
       "  </thead>\n",
       "  <tbody>\n",
       "    <tr>\n",
       "      <th>0</th>\n",
       "      <td>0.709533</td>\n",
       "      <td>0.190111</td>\n",
       "      <td>0.740328</td>\n",
       "      <td>0.228506</td>\n",
       "      <td>0.139175</td>\n",
       "      <td>0.074537</td>\n",
       "    </tr>\n",
       "  </tbody>\n",
       "</table>\n",
       "</div>"
      ],
      "text/plain": [
       "        All              In VOC           Out of VOC          \n",
       "   f1 micro  f1 macro  f1 micro  f1 macro   f1 micro  f1 macro\n",
       "0  0.709533  0.190111  0.740328  0.228506   0.139175  0.074537"
      ]
     },
     "metadata": {},
     "output_type": "display_data"
    },
    {
     "name": "stderr",
     "output_type": "stream",
     "text": [
      "Epoch 16: 100%|██████████| 1617/1617 [05:36<00:00,  4.81batch/s, loss_decrease=1.0000022595176532]\n",
      "100%|██████████| 3787/3787 [00:45<00:00, 83.50batch/s]\n"
     ]
    },
    {
     "data": {
      "text/html": [
       "<div>\n",
       "<style scoped>\n",
       "    .dataframe tbody tr th:only-of-type {\n",
       "        vertical-align: middle;\n",
       "    }\n",
       "\n",
       "    .dataframe tbody tr th {\n",
       "        vertical-align: top;\n",
       "    }\n",
       "\n",
       "    .dataframe thead tr th {\n",
       "        text-align: left;\n",
       "    }\n",
       "</style>\n",
       "<table border=\"1\" class=\"dataframe\">\n",
       "  <thead>\n",
       "    <tr>\n",
       "      <th></th>\n",
       "      <th colspan=\"2\" halign=\"left\">All</th>\n",
       "      <th colspan=\"2\" halign=\"left\">In VOC</th>\n",
       "      <th colspan=\"2\" halign=\"left\">Out of VOC</th>\n",
       "    </tr>\n",
       "    <tr>\n",
       "      <th></th>\n",
       "      <th>f1 micro</th>\n",
       "      <th>f1 macro</th>\n",
       "      <th>f1 micro</th>\n",
       "      <th>f1 macro</th>\n",
       "      <th>f1 micro</th>\n",
       "      <th>f1 macro</th>\n",
       "    </tr>\n",
       "  </thead>\n",
       "  <tbody>\n",
       "    <tr>\n",
       "      <th>0</th>\n",
       "      <td>0.719039</td>\n",
       "      <td>0.194794</td>\n",
       "      <td>0.75007</td>\n",
       "      <td>0.229721</td>\n",
       "      <td>0.14433</td>\n",
       "      <td>0.080821</td>\n",
       "    </tr>\n",
       "  </tbody>\n",
       "</table>\n",
       "</div>"
      ],
      "text/plain": [
       "        All             In VOC           Out of VOC          \n",
       "   f1 micro  f1 macro f1 micro  f1 macro   f1 micro  f1 macro\n",
       "0  0.719039  0.194794  0.75007  0.229721    0.14433  0.080821"
      ]
     },
     "metadata": {},
     "output_type": "display_data"
    },
    {
     "name": "stderr",
     "output_type": "stream",
     "text": [
      "Epoch 17: 100%|██████████| 1617/1617 [05:27<00:00,  4.94batch/s, loss_decrease=1.0000022595176532]\n",
      "100%|██████████| 3787/3787 [00:42<00:00, 88.17batch/s]\n"
     ]
    },
    {
     "data": {
      "text/html": [
       "<div>\n",
       "<style scoped>\n",
       "    .dataframe tbody tr th:only-of-type {\n",
       "        vertical-align: middle;\n",
       "    }\n",
       "\n",
       "    .dataframe tbody tr th {\n",
       "        vertical-align: top;\n",
       "    }\n",
       "\n",
       "    .dataframe thead tr th {\n",
       "        text-align: left;\n",
       "    }\n",
       "</style>\n",
       "<table border=\"1\" class=\"dataframe\">\n",
       "  <thead>\n",
       "    <tr>\n",
       "      <th></th>\n",
       "      <th colspan=\"2\" halign=\"left\">All</th>\n",
       "      <th colspan=\"2\" halign=\"left\">In VOC</th>\n",
       "      <th colspan=\"2\" halign=\"left\">Out of VOC</th>\n",
       "    </tr>\n",
       "    <tr>\n",
       "      <th></th>\n",
       "      <th>f1 micro</th>\n",
       "      <th>f1 macro</th>\n",
       "      <th>f1 micro</th>\n",
       "      <th>f1 macro</th>\n",
       "      <th>f1 micro</th>\n",
       "      <th>f1 macro</th>\n",
       "    </tr>\n",
       "  </thead>\n",
       "  <tbody>\n",
       "    <tr>\n",
       "      <th>0</th>\n",
       "      <td>0.716662</td>\n",
       "      <td>0.194472</td>\n",
       "      <td>0.745616</td>\n",
       "      <td>0.221627</td>\n",
       "      <td>0.180412</td>\n",
       "      <td>0.098075</td>\n",
       "    </tr>\n",
       "  </tbody>\n",
       "</table>\n",
       "</div>"
      ],
      "text/plain": [
       "        All              In VOC           Out of VOC          \n",
       "   f1 micro  f1 macro  f1 micro  f1 macro   f1 micro  f1 macro\n",
       "0  0.716662  0.194472  0.745616  0.221627   0.180412  0.098075"
      ]
     },
     "metadata": {},
     "output_type": "display_data"
    },
    {
     "name": "stderr",
     "output_type": "stream",
     "text": [
      "Epoch 18: 100%|██████████| 1617/1617 [05:36<00:00,  4.80batch/s, loss_decrease=1.0000023536644438]\n",
      "100%|██████████| 3787/3787 [00:39<00:00, 95.04batch/s]\n"
     ]
    },
    {
     "data": {
      "text/html": [
       "<div>\n",
       "<style scoped>\n",
       "    .dataframe tbody tr th:only-of-type {\n",
       "        vertical-align: middle;\n",
       "    }\n",
       "\n",
       "    .dataframe tbody tr th {\n",
       "        vertical-align: top;\n",
       "    }\n",
       "\n",
       "    .dataframe thead tr th {\n",
       "        text-align: left;\n",
       "    }\n",
       "</style>\n",
       "<table border=\"1\" class=\"dataframe\">\n",
       "  <thead>\n",
       "    <tr>\n",
       "      <th></th>\n",
       "      <th colspan=\"2\" halign=\"left\">All</th>\n",
       "      <th colspan=\"2\" halign=\"left\">In VOC</th>\n",
       "      <th colspan=\"2\" halign=\"left\">Out of VOC</th>\n",
       "    </tr>\n",
       "    <tr>\n",
       "      <th></th>\n",
       "      <th>f1 micro</th>\n",
       "      <th>f1 macro</th>\n",
       "      <th>f1 micro</th>\n",
       "      <th>f1 macro</th>\n",
       "      <th>f1 micro</th>\n",
       "      <th>f1 macro</th>\n",
       "    </tr>\n",
       "  </thead>\n",
       "  <tbody>\n",
       "    <tr>\n",
       "      <th>0</th>\n",
       "      <td>0.718775</td>\n",
       "      <td>0.196514</td>\n",
       "      <td>0.748956</td>\n",
       "      <td>0.227994</td>\n",
       "      <td>0.159794</td>\n",
       "      <td>0.088933</td>\n",
       "    </tr>\n",
       "  </tbody>\n",
       "</table>\n",
       "</div>"
      ],
      "text/plain": [
       "        All              In VOC           Out of VOC          \n",
       "   f1 micro  f1 macro  f1 micro  f1 macro   f1 micro  f1 macro\n",
       "0  0.718775  0.196514  0.748956  0.227994   0.159794  0.088933"
      ]
     },
     "metadata": {},
     "output_type": "display_data"
    },
    {
     "name": "stderr",
     "output_type": "stream",
     "text": [
      "Epoch 19: 100%|██████████| 1617/1617 [05:35<00:00,  4.82batch/s, loss_decrease=1.0000023536644438]\n",
      "100%|██████████| 3787/3787 [00:39<00:00, 96.18batch/s]\n"
     ]
    },
    {
     "data": {
      "text/html": [
       "<div>\n",
       "<style scoped>\n",
       "    .dataframe tbody tr th:only-of-type {\n",
       "        vertical-align: middle;\n",
       "    }\n",
       "\n",
       "    .dataframe tbody tr th {\n",
       "        vertical-align: top;\n",
       "    }\n",
       "\n",
       "    .dataframe thead tr th {\n",
       "        text-align: left;\n",
       "    }\n",
       "</style>\n",
       "<table border=\"1\" class=\"dataframe\">\n",
       "  <thead>\n",
       "    <tr>\n",
       "      <th></th>\n",
       "      <th colspan=\"2\" halign=\"left\">All</th>\n",
       "      <th colspan=\"2\" halign=\"left\">In VOC</th>\n",
       "      <th colspan=\"2\" halign=\"left\">Out of VOC</th>\n",
       "    </tr>\n",
       "    <tr>\n",
       "      <th></th>\n",
       "      <th>f1 micro</th>\n",
       "      <th>f1 macro</th>\n",
       "      <th>f1 micro</th>\n",
       "      <th>f1 macro</th>\n",
       "      <th>f1 micro</th>\n",
       "      <th>f1 macro</th>\n",
       "    </tr>\n",
       "  </thead>\n",
       "  <tbody>\n",
       "    <tr>\n",
       "      <th>0</th>\n",
       "      <td>0.722472</td>\n",
       "      <td>0.20232</td>\n",
       "      <td>0.753966</td>\n",
       "      <td>0.241225</td>\n",
       "      <td>0.139175</td>\n",
       "      <td>0.08046</td>\n",
       "    </tr>\n",
       "  </tbody>\n",
       "</table>\n",
       "</div>"
      ],
      "text/plain": [
       "        All             In VOC           Out of VOC         \n",
       "   f1 micro f1 macro  f1 micro  f1 macro   f1 micro f1 macro\n",
       "0  0.722472  0.20232  0.753966  0.241225   0.139175  0.08046"
      ]
     },
     "metadata": {},
     "output_type": "display_data"
    },
    {
     "name": "stderr",
     "output_type": "stream",
     "text": [
      "Epoch 20: 100%|██████████| 1617/1617 [05:34<00:00,  4.83batch/s, loss_decrease=1.0000023536644438]\n",
      "100%|██████████| 3787/3787 [00:45<00:00, 82.96batch/s]\n"
     ]
    },
    {
     "data": {
      "text/html": [
       "<div>\n",
       "<style scoped>\n",
       "    .dataframe tbody tr th:only-of-type {\n",
       "        vertical-align: middle;\n",
       "    }\n",
       "\n",
       "    .dataframe tbody tr th {\n",
       "        vertical-align: top;\n",
       "    }\n",
       "\n",
       "    .dataframe thead tr th {\n",
       "        text-align: left;\n",
       "    }\n",
       "</style>\n",
       "<table border=\"1\" class=\"dataframe\">\n",
       "  <thead>\n",
       "    <tr>\n",
       "      <th></th>\n",
       "      <th colspan=\"2\" halign=\"left\">All</th>\n",
       "      <th colspan=\"2\" halign=\"left\">In VOC</th>\n",
       "      <th colspan=\"2\" halign=\"left\">Out of VOC</th>\n",
       "    </tr>\n",
       "    <tr>\n",
       "      <th></th>\n",
       "      <th>f1 micro</th>\n",
       "      <th>f1 macro</th>\n",
       "      <th>f1 micro</th>\n",
       "      <th>f1 macro</th>\n",
       "      <th>f1 micro</th>\n",
       "      <th>f1 macro</th>\n",
       "    </tr>\n",
       "  </thead>\n",
       "  <tbody>\n",
       "    <tr>\n",
       "      <th>0</th>\n",
       "      <td>0.719303</td>\n",
       "      <td>0.197377</td>\n",
       "      <td>0.75007</td>\n",
       "      <td>0.232907</td>\n",
       "      <td>0.149485</td>\n",
       "      <td>0.087629</td>\n",
       "    </tr>\n",
       "  </tbody>\n",
       "</table>\n",
       "</div>"
      ],
      "text/plain": [
       "        All             In VOC           Out of VOC          \n",
       "   f1 micro  f1 macro f1 micro  f1 macro   f1 micro  f1 macro\n",
       "0  0.719303  0.197377  0.75007  0.232907   0.149485  0.087629"
      ]
     },
     "metadata": {},
     "output_type": "display_data"
    },
    {
     "name": "stderr",
     "output_type": "stream",
     "text": [
      "Epoch 21: 100%|██████████| 1617/1617 [05:38<00:00,  4.78batch/s, loss_decrease=1.000002447811252] \n",
      "100%|██████████| 3787/3787 [00:40<00:00, 94.26batch/s] \n"
     ]
    },
    {
     "data": {
      "text/html": [
       "<div>\n",
       "<style scoped>\n",
       "    .dataframe tbody tr th:only-of-type {\n",
       "        vertical-align: middle;\n",
       "    }\n",
       "\n",
       "    .dataframe tbody tr th {\n",
       "        vertical-align: top;\n",
       "    }\n",
       "\n",
       "    .dataframe thead tr th {\n",
       "        text-align: left;\n",
       "    }\n",
       "</style>\n",
       "<table border=\"1\" class=\"dataframe\">\n",
       "  <thead>\n",
       "    <tr>\n",
       "      <th></th>\n",
       "      <th colspan=\"2\" halign=\"left\">All</th>\n",
       "      <th colspan=\"2\" halign=\"left\">In VOC</th>\n",
       "      <th colspan=\"2\" halign=\"left\">Out of VOC</th>\n",
       "    </tr>\n",
       "    <tr>\n",
       "      <th></th>\n",
       "      <th>f1 micro</th>\n",
       "      <th>f1 macro</th>\n",
       "      <th>f1 micro</th>\n",
       "      <th>f1 macro</th>\n",
       "      <th>f1 micro</th>\n",
       "      <th>f1 macro</th>\n",
       "    </tr>\n",
       "  </thead>\n",
       "  <tbody>\n",
       "    <tr>\n",
       "      <th>0</th>\n",
       "      <td>0.720095</td>\n",
       "      <td>0.20388</td>\n",
       "      <td>0.75007</td>\n",
       "      <td>0.237635</td>\n",
       "      <td>0.164948</td>\n",
       "      <td>0.094085</td>\n",
       "    </tr>\n",
       "  </tbody>\n",
       "</table>\n",
       "</div>"
      ],
      "text/plain": [
       "        All            In VOC           Out of VOC          \n",
       "   f1 micro f1 macro f1 micro  f1 macro   f1 micro  f1 macro\n",
       "0  0.720095  0.20388  0.75007  0.237635   0.164948  0.094085"
      ]
     },
     "metadata": {},
     "output_type": "display_data"
    },
    {
     "name": "stderr",
     "output_type": "stream",
     "text": [
      "Epoch 22: 100%|██████████| 1617/1617 [05:36<00:00,  4.80batch/s, loss_decrease=1.0000023536644438]\n",
      "100%|██████████| 3787/3787 [00:39<00:00, 97.01batch/s] \n"
     ]
    },
    {
     "data": {
      "text/html": [
       "<div>\n",
       "<style scoped>\n",
       "    .dataframe tbody tr th:only-of-type {\n",
       "        vertical-align: middle;\n",
       "    }\n",
       "\n",
       "    .dataframe tbody tr th {\n",
       "        vertical-align: top;\n",
       "    }\n",
       "\n",
       "    .dataframe thead tr th {\n",
       "        text-align: left;\n",
       "    }\n",
       "</style>\n",
       "<table border=\"1\" class=\"dataframe\">\n",
       "  <thead>\n",
       "    <tr>\n",
       "      <th></th>\n",
       "      <th colspan=\"2\" halign=\"left\">All</th>\n",
       "      <th colspan=\"2\" halign=\"left\">In VOC</th>\n",
       "      <th colspan=\"2\" halign=\"left\">Out of VOC</th>\n",
       "    </tr>\n",
       "    <tr>\n",
       "      <th></th>\n",
       "      <th>f1 micro</th>\n",
       "      <th>f1 macro</th>\n",
       "      <th>f1 micro</th>\n",
       "      <th>f1 macro</th>\n",
       "      <th>f1 micro</th>\n",
       "      <th>f1 macro</th>\n",
       "    </tr>\n",
       "  </thead>\n",
       "  <tbody>\n",
       "    <tr>\n",
       "      <th>0</th>\n",
       "      <td>0.731978</td>\n",
       "      <td>0.215865</td>\n",
       "      <td>0.762594</td>\n",
       "      <td>0.255353</td>\n",
       "      <td>0.164948</td>\n",
       "      <td>0.09375</td>\n",
       "    </tr>\n",
       "  </tbody>\n",
       "</table>\n",
       "</div>"
      ],
      "text/plain": [
       "        All              In VOC           Out of VOC         \n",
       "   f1 micro  f1 macro  f1 micro  f1 macro   f1 micro f1 macro\n",
       "0  0.731978  0.215865  0.762594  0.255353   0.164948  0.09375"
      ]
     },
     "metadata": {},
     "output_type": "display_data"
    },
    {
     "name": "stderr",
     "output_type": "stream",
     "text": [
      "Epoch 23: 100%|██████████| 1617/1617 [05:37<00:00,  4.79batch/s, loss_decrease=1.000002447811252] \n",
      "100%|██████████| 3787/3787 [00:44<00:00, 85.08batch/s]\n"
     ]
    },
    {
     "data": {
      "text/html": [
       "<div>\n",
       "<style scoped>\n",
       "    .dataframe tbody tr th:only-of-type {\n",
       "        vertical-align: middle;\n",
       "    }\n",
       "\n",
       "    .dataframe tbody tr th {\n",
       "        vertical-align: top;\n",
       "    }\n",
       "\n",
       "    .dataframe thead tr th {\n",
       "        text-align: left;\n",
       "    }\n",
       "</style>\n",
       "<table border=\"1\" class=\"dataframe\">\n",
       "  <thead>\n",
       "    <tr>\n",
       "      <th></th>\n",
       "      <th colspan=\"2\" halign=\"left\">All</th>\n",
       "      <th colspan=\"2\" halign=\"left\">In VOC</th>\n",
       "      <th colspan=\"2\" halign=\"left\">Out of VOC</th>\n",
       "    </tr>\n",
       "    <tr>\n",
       "      <th></th>\n",
       "      <th>f1 micro</th>\n",
       "      <th>f1 macro</th>\n",
       "      <th>f1 micro</th>\n",
       "      <th>f1 macro</th>\n",
       "      <th>f1 micro</th>\n",
       "      <th>f1 macro</th>\n",
       "    </tr>\n",
       "  </thead>\n",
       "  <tbody>\n",
       "    <tr>\n",
       "      <th>0</th>\n",
       "      <td>0.723792</td>\n",
       "      <td>0.215399</td>\n",
       "      <td>0.753688</td>\n",
       "      <td>0.248176</td>\n",
       "      <td>0.170103</td>\n",
       "      <td>0.100473</td>\n",
       "    </tr>\n",
       "  </tbody>\n",
       "</table>\n",
       "</div>"
      ],
      "text/plain": [
       "        All              In VOC           Out of VOC          \n",
       "   f1 micro  f1 macro  f1 micro  f1 macro   f1 micro  f1 macro\n",
       "0  0.723792  0.215399  0.753688  0.248176   0.170103  0.100473"
      ]
     },
     "metadata": {},
     "output_type": "display_data"
    },
    {
     "name": "stderr",
     "output_type": "stream",
     "text": [
      "Epoch 24: 100%|██████████| 1617/1617 [05:37<00:00,  4.79batch/s, loss_decrease=1.0000025419580778]\n",
      "100%|██████████| 3787/3787 [00:40<00:00, 94.32batch/s] \n"
     ]
    },
    {
     "data": {
      "text/html": [
       "<div>\n",
       "<style scoped>\n",
       "    .dataframe tbody tr th:only-of-type {\n",
       "        vertical-align: middle;\n",
       "    }\n",
       "\n",
       "    .dataframe tbody tr th {\n",
       "        vertical-align: top;\n",
       "    }\n",
       "\n",
       "    .dataframe thead tr th {\n",
       "        text-align: left;\n",
       "    }\n",
       "</style>\n",
       "<table border=\"1\" class=\"dataframe\">\n",
       "  <thead>\n",
       "    <tr>\n",
       "      <th></th>\n",
       "      <th colspan=\"2\" halign=\"left\">All</th>\n",
       "      <th colspan=\"2\" halign=\"left\">In VOC</th>\n",
       "      <th colspan=\"2\" halign=\"left\">Out of VOC</th>\n",
       "    </tr>\n",
       "    <tr>\n",
       "      <th></th>\n",
       "      <th>f1 micro</th>\n",
       "      <th>f1 macro</th>\n",
       "      <th>f1 micro</th>\n",
       "      <th>f1 macro</th>\n",
       "      <th>f1 micro</th>\n",
       "      <th>f1 macro</th>\n",
       "    </tr>\n",
       "  </thead>\n",
       "  <tbody>\n",
       "    <tr>\n",
       "      <th>0</th>\n",
       "      <td>0.724584</td>\n",
       "      <td>0.215957</td>\n",
       "      <td>0.754244</td>\n",
       "      <td>0.252021</td>\n",
       "      <td>0.175258</td>\n",
       "      <td>0.096328</td>\n",
       "    </tr>\n",
       "  </tbody>\n",
       "</table>\n",
       "</div>"
      ],
      "text/plain": [
       "        All              In VOC           Out of VOC          \n",
       "   f1 micro  f1 macro  f1 micro  f1 macro   f1 micro  f1 macro\n",
       "0  0.724584  0.215957  0.754244  0.252021   0.175258  0.096328"
      ]
     },
     "metadata": {},
     "output_type": "display_data"
    },
    {
     "name": "stderr",
     "output_type": "stream",
     "text": [
      "Epoch 25: 100%|██████████| 1617/1617 [05:35<00:00,  4.83batch/s, loss_decrease=1.0000025419580778]\n",
      "100%|██████████| 3787/3787 [00:40<00:00, 94.45batch/s]\n"
     ]
    },
    {
     "data": {
      "text/html": [
       "<div>\n",
       "<style scoped>\n",
       "    .dataframe tbody tr th:only-of-type {\n",
       "        vertical-align: middle;\n",
       "    }\n",
       "\n",
       "    .dataframe tbody tr th {\n",
       "        vertical-align: top;\n",
       "    }\n",
       "\n",
       "    .dataframe thead tr th {\n",
       "        text-align: left;\n",
       "    }\n",
       "</style>\n",
       "<table border=\"1\" class=\"dataframe\">\n",
       "  <thead>\n",
       "    <tr>\n",
       "      <th></th>\n",
       "      <th colspan=\"2\" halign=\"left\">All</th>\n",
       "      <th colspan=\"2\" halign=\"left\">In VOC</th>\n",
       "      <th colspan=\"2\" halign=\"left\">Out of VOC</th>\n",
       "    </tr>\n",
       "    <tr>\n",
       "      <th></th>\n",
       "      <th>f1 micro</th>\n",
       "      <th>f1 macro</th>\n",
       "      <th>f1 micro</th>\n",
       "      <th>f1 macro</th>\n",
       "      <th>f1 micro</th>\n",
       "      <th>f1 macro</th>\n",
       "    </tr>\n",
       "  </thead>\n",
       "  <tbody>\n",
       "    <tr>\n",
       "      <th>0</th>\n",
       "      <td>0.727753</td>\n",
       "      <td>0.219349</td>\n",
       "      <td>0.758141</td>\n",
       "      <td>0.256021</td>\n",
       "      <td>0.164948</td>\n",
       "      <td>0.0964</td>\n",
       "    </tr>\n",
       "  </tbody>\n",
       "</table>\n",
       "</div>"
      ],
      "text/plain": [
       "        All              In VOC           Out of VOC         \n",
       "   f1 micro  f1 macro  f1 micro  f1 macro   f1 micro f1 macro\n",
       "0  0.727753  0.219349  0.758141  0.256021   0.164948   0.0964"
      ]
     },
     "metadata": {},
     "output_type": "display_data"
    },
    {
     "name": "stderr",
     "output_type": "stream",
     "text": [
      "Epoch 26: 100%|██████████| 1617/1617 [05:40<00:00,  4.74batch/s, loss_decrease=1.0000026361049215]\n",
      "100%|██████████| 3787/3787 [00:39<00:00, 96.17batch/s] \n"
     ]
    },
    {
     "data": {
      "text/html": [
       "<div>\n",
       "<style scoped>\n",
       "    .dataframe tbody tr th:only-of-type {\n",
       "        vertical-align: middle;\n",
       "    }\n",
       "\n",
       "    .dataframe tbody tr th {\n",
       "        vertical-align: top;\n",
       "    }\n",
       "\n",
       "    .dataframe thead tr th {\n",
       "        text-align: left;\n",
       "    }\n",
       "</style>\n",
       "<table border=\"1\" class=\"dataframe\">\n",
       "  <thead>\n",
       "    <tr>\n",
       "      <th></th>\n",
       "      <th colspan=\"2\" halign=\"left\">All</th>\n",
       "      <th colspan=\"2\" halign=\"left\">In VOC</th>\n",
       "      <th colspan=\"2\" halign=\"left\">Out of VOC</th>\n",
       "    </tr>\n",
       "    <tr>\n",
       "      <th></th>\n",
       "      <th>f1 micro</th>\n",
       "      <th>f1 macro</th>\n",
       "      <th>f1 micro</th>\n",
       "      <th>f1 macro</th>\n",
       "      <th>f1 micro</th>\n",
       "      <th>f1 macro</th>\n",
       "    </tr>\n",
       "  </thead>\n",
       "  <tbody>\n",
       "    <tr>\n",
       "      <th>0</th>\n",
       "      <td>0.730129</td>\n",
       "      <td>0.228714</td>\n",
       "      <td>0.760089</td>\n",
       "      <td>0.267359</td>\n",
       "      <td>0.175258</td>\n",
       "      <td>0.10323</td>\n",
       "    </tr>\n",
       "  </tbody>\n",
       "</table>\n",
       "</div>"
      ],
      "text/plain": [
       "        All              In VOC           Out of VOC         \n",
       "   f1 micro  f1 macro  f1 micro  f1 macro   f1 micro f1 macro\n",
       "0  0.730129  0.228714  0.760089  0.267359   0.175258  0.10323"
      ]
     },
     "metadata": {},
     "output_type": "display_data"
    },
    {
     "name": "stderr",
     "output_type": "stream",
     "text": [
      "Epoch 27: 100%|██████████| 1617/1617 [05:35<00:00,  4.82batch/s, loss_decrease=1.0000026361049215]\n",
      "100%|██████████| 3787/3787 [00:40<00:00, 93.12batch/s] \n"
     ]
    },
    {
     "data": {
      "text/html": [
       "<div>\n",
       "<style scoped>\n",
       "    .dataframe tbody tr th:only-of-type {\n",
       "        vertical-align: middle;\n",
       "    }\n",
       "\n",
       "    .dataframe tbody tr th {\n",
       "        vertical-align: top;\n",
       "    }\n",
       "\n",
       "    .dataframe thead tr th {\n",
       "        text-align: left;\n",
       "    }\n",
       "</style>\n",
       "<table border=\"1\" class=\"dataframe\">\n",
       "  <thead>\n",
       "    <tr>\n",
       "      <th></th>\n",
       "      <th colspan=\"2\" halign=\"left\">All</th>\n",
       "      <th colspan=\"2\" halign=\"left\">In VOC</th>\n",
       "      <th colspan=\"2\" halign=\"left\">Out of VOC</th>\n",
       "    </tr>\n",
       "    <tr>\n",
       "      <th></th>\n",
       "      <th>f1 micro</th>\n",
       "      <th>f1 macro</th>\n",
       "      <th>f1 micro</th>\n",
       "      <th>f1 macro</th>\n",
       "      <th>f1 micro</th>\n",
       "      <th>f1 macro</th>\n",
       "    </tr>\n",
       "  </thead>\n",
       "  <tbody>\n",
       "    <tr>\n",
       "      <th>0</th>\n",
       "      <td>0.724848</td>\n",
       "      <td>0.209151</td>\n",
       "      <td>0.756749</td>\n",
       "      <td>0.253965</td>\n",
       "      <td>0.134021</td>\n",
       "      <td>0.076701</td>\n",
       "    </tr>\n",
       "  </tbody>\n",
       "</table>\n",
       "</div>"
      ],
      "text/plain": [
       "        All              In VOC           Out of VOC          \n",
       "   f1 micro  f1 macro  f1 micro  f1 macro   f1 micro  f1 macro\n",
       "0  0.724848  0.209151  0.756749  0.253965   0.134021  0.076701"
      ]
     },
     "metadata": {},
     "output_type": "display_data"
    },
    {
     "name": "stderr",
     "output_type": "stream",
     "text": [
      "Epoch 28: 100%|██████████| 1617/1617 [05:38<00:00,  4.77batch/s, loss_decrease=1.0000027302517829]\n",
      "100%|██████████| 3787/3787 [00:41<00:00, 91.62batch/s] \n"
     ]
    },
    {
     "data": {
      "text/html": [
       "<div>\n",
       "<style scoped>\n",
       "    .dataframe tbody tr th:only-of-type {\n",
       "        vertical-align: middle;\n",
       "    }\n",
       "\n",
       "    .dataframe tbody tr th {\n",
       "        vertical-align: top;\n",
       "    }\n",
       "\n",
       "    .dataframe thead tr th {\n",
       "        text-align: left;\n",
       "    }\n",
       "</style>\n",
       "<table border=\"1\" class=\"dataframe\">\n",
       "  <thead>\n",
       "    <tr>\n",
       "      <th></th>\n",
       "      <th colspan=\"2\" halign=\"left\">All</th>\n",
       "      <th colspan=\"2\" halign=\"left\">In VOC</th>\n",
       "      <th colspan=\"2\" halign=\"left\">Out of VOC</th>\n",
       "    </tr>\n",
       "    <tr>\n",
       "      <th></th>\n",
       "      <th>f1 micro</th>\n",
       "      <th>f1 macro</th>\n",
       "      <th>f1 micro</th>\n",
       "      <th>f1 macro</th>\n",
       "      <th>f1 micro</th>\n",
       "      <th>f1 macro</th>\n",
       "    </tr>\n",
       "  </thead>\n",
       "  <tbody>\n",
       "    <tr>\n",
       "      <th>0</th>\n",
       "      <td>0.730129</td>\n",
       "      <td>0.217474</td>\n",
       "      <td>0.759811</td>\n",
       "      <td>0.249778</td>\n",
       "      <td>0.180412</td>\n",
       "      <td>0.103009</td>\n",
       "    </tr>\n",
       "  </tbody>\n",
       "</table>\n",
       "</div>"
      ],
      "text/plain": [
       "        All              In VOC           Out of VOC          \n",
       "   f1 micro  f1 macro  f1 micro  f1 macro   f1 micro  f1 macro\n",
       "0  0.730129  0.217474  0.759811  0.249778   0.180412  0.103009"
      ]
     },
     "metadata": {},
     "output_type": "display_data"
    },
    {
     "name": "stderr",
     "output_type": "stream",
     "text": [
      "Epoch 29: 100%|██████████| 1617/1617 [05:37<00:00,  4.79batch/s, loss_decrease=1.000002824398662] \n",
      "100%|██████████| 3787/3787 [00:41<00:00, 91.24batch/s] \n"
     ]
    },
    {
     "data": {
      "text/html": [
       "<div>\n",
       "<style scoped>\n",
       "    .dataframe tbody tr th:only-of-type {\n",
       "        vertical-align: middle;\n",
       "    }\n",
       "\n",
       "    .dataframe tbody tr th {\n",
       "        vertical-align: top;\n",
       "    }\n",
       "\n",
       "    .dataframe thead tr th {\n",
       "        text-align: left;\n",
       "    }\n",
       "</style>\n",
       "<table border=\"1\" class=\"dataframe\">\n",
       "  <thead>\n",
       "    <tr>\n",
       "      <th></th>\n",
       "      <th colspan=\"2\" halign=\"left\">All</th>\n",
       "      <th colspan=\"2\" halign=\"left\">In VOC</th>\n",
       "      <th colspan=\"2\" halign=\"left\">Out of VOC</th>\n",
       "    </tr>\n",
       "    <tr>\n",
       "      <th></th>\n",
       "      <th>f1 micro</th>\n",
       "      <th>f1 macro</th>\n",
       "      <th>f1 micro</th>\n",
       "      <th>f1 macro</th>\n",
       "      <th>f1 micro</th>\n",
       "      <th>f1 macro</th>\n",
       "    </tr>\n",
       "  </thead>\n",
       "  <tbody>\n",
       "    <tr>\n",
       "      <th>0</th>\n",
       "      <td>0.734618</td>\n",
       "      <td>0.224266</td>\n",
       "      <td>0.765377</td>\n",
       "      <td>0.262888</td>\n",
       "      <td>0.164948</td>\n",
       "      <td>0.09474</td>\n",
       "    </tr>\n",
       "  </tbody>\n",
       "</table>\n",
       "</div>"
      ],
      "text/plain": [
       "        All              In VOC           Out of VOC         \n",
       "   f1 micro  f1 macro  f1 micro  f1 macro   f1 micro f1 macro\n",
       "0  0.734618  0.224266  0.765377  0.262888   0.164948  0.09474"
      ]
     },
     "metadata": {},
     "output_type": "display_data"
    },
    {
     "name": "stderr",
     "output_type": "stream",
     "text": [
      "Epoch 30: 100%|██████████| 1617/1617 [05:39<00:00,  4.77batch/s, loss_decrease=1.000002824398662] \n",
      "100%|██████████| 3787/3787 [00:40<00:00, 94.34batch/s] \n"
     ]
    },
    {
     "data": {
      "text/html": [
       "<div>\n",
       "<style scoped>\n",
       "    .dataframe tbody tr th:only-of-type {\n",
       "        vertical-align: middle;\n",
       "    }\n",
       "\n",
       "    .dataframe tbody tr th {\n",
       "        vertical-align: top;\n",
       "    }\n",
       "\n",
       "    .dataframe thead tr th {\n",
       "        text-align: left;\n",
       "    }\n",
       "</style>\n",
       "<table border=\"1\" class=\"dataframe\">\n",
       "  <thead>\n",
       "    <tr>\n",
       "      <th></th>\n",
       "      <th colspan=\"2\" halign=\"left\">All</th>\n",
       "      <th colspan=\"2\" halign=\"left\">In VOC</th>\n",
       "      <th colspan=\"2\" halign=\"left\">Out of VOC</th>\n",
       "    </tr>\n",
       "    <tr>\n",
       "      <th></th>\n",
       "      <th>f1 micro</th>\n",
       "      <th>f1 macro</th>\n",
       "      <th>f1 micro</th>\n",
       "      <th>f1 macro</th>\n",
       "      <th>f1 micro</th>\n",
       "      <th>f1 macro</th>\n",
       "    </tr>\n",
       "  </thead>\n",
       "  <tbody>\n",
       "    <tr>\n",
       "      <th>0</th>\n",
       "      <td>0.737523</td>\n",
       "      <td>0.22813</td>\n",
       "      <td>0.76816</td>\n",
       "      <td>0.269785</td>\n",
       "      <td>0.170103</td>\n",
       "      <td>0.095563</td>\n",
       "    </tr>\n",
       "  </tbody>\n",
       "</table>\n",
       "</div>"
      ],
      "text/plain": [
       "        All            In VOC           Out of VOC          \n",
       "   f1 micro f1 macro f1 micro  f1 macro   f1 micro  f1 macro\n",
       "0  0.737523  0.22813  0.76816  0.269785   0.170103  0.095563"
      ]
     },
     "metadata": {},
     "output_type": "display_data"
    },
    {
     "name": "stderr",
     "output_type": "stream",
     "text": [
      "Epoch 31: 100%|██████████| 1617/1617 [05:37<00:00,  4.80batch/s, loss_decrease=1.000002824398662] \n",
      "100%|██████████| 3787/3787 [00:39<00:00, 94.73batch/s] \n"
     ]
    },
    {
     "data": {
      "text/html": [
       "<div>\n",
       "<style scoped>\n",
       "    .dataframe tbody tr th:only-of-type {\n",
       "        vertical-align: middle;\n",
       "    }\n",
       "\n",
       "    .dataframe tbody tr th {\n",
       "        vertical-align: top;\n",
       "    }\n",
       "\n",
       "    .dataframe thead tr th {\n",
       "        text-align: left;\n",
       "    }\n",
       "</style>\n",
       "<table border=\"1\" class=\"dataframe\">\n",
       "  <thead>\n",
       "    <tr>\n",
       "      <th></th>\n",
       "      <th colspan=\"2\" halign=\"left\">All</th>\n",
       "      <th colspan=\"2\" halign=\"left\">In VOC</th>\n",
       "      <th colspan=\"2\" halign=\"left\">Out of VOC</th>\n",
       "    </tr>\n",
       "    <tr>\n",
       "      <th></th>\n",
       "      <th>f1 micro</th>\n",
       "      <th>f1 macro</th>\n",
       "      <th>f1 micro</th>\n",
       "      <th>f1 macro</th>\n",
       "      <th>f1 micro</th>\n",
       "      <th>f1 macro</th>\n",
       "    </tr>\n",
       "  </thead>\n",
       "  <tbody>\n",
       "    <tr>\n",
       "      <th>0</th>\n",
       "      <td>0.738579</td>\n",
       "      <td>0.229845</td>\n",
       "      <td>0.768995</td>\n",
       "      <td>0.273519</td>\n",
       "      <td>0.175258</td>\n",
       "      <td>0.098167</td>\n",
       "    </tr>\n",
       "  </tbody>\n",
       "</table>\n",
       "</div>"
      ],
      "text/plain": [
       "        All              In VOC           Out of VOC          \n",
       "   f1 micro  f1 macro  f1 micro  f1 macro   f1 micro  f1 macro\n",
       "0  0.738579  0.229845  0.768995  0.273519   0.175258  0.098167"
      ]
     },
     "metadata": {},
     "output_type": "display_data"
    },
    {
     "name": "stderr",
     "output_type": "stream",
     "text": [
      "Epoch 32: 100%|██████████| 1617/1617 [05:36<00:00,  4.80batch/s, loss_decrease=1.0000027302517829]\n",
      "100%|██████████| 3787/3787 [00:39<00:00, 97.00batch/s] \n"
     ]
    },
    {
     "data": {
      "text/html": [
       "<div>\n",
       "<style scoped>\n",
       "    .dataframe tbody tr th:only-of-type {\n",
       "        vertical-align: middle;\n",
       "    }\n",
       "\n",
       "    .dataframe tbody tr th {\n",
       "        vertical-align: top;\n",
       "    }\n",
       "\n",
       "    .dataframe thead tr th {\n",
       "        text-align: left;\n",
       "    }\n",
       "</style>\n",
       "<table border=\"1\" class=\"dataframe\">\n",
       "  <thead>\n",
       "    <tr>\n",
       "      <th></th>\n",
       "      <th colspan=\"2\" halign=\"left\">All</th>\n",
       "      <th colspan=\"2\" halign=\"left\">In VOC</th>\n",
       "      <th colspan=\"2\" halign=\"left\">Out of VOC</th>\n",
       "    </tr>\n",
       "    <tr>\n",
       "      <th></th>\n",
       "      <th>f1 micro</th>\n",
       "      <th>f1 macro</th>\n",
       "      <th>f1 micro</th>\n",
       "      <th>f1 macro</th>\n",
       "      <th>f1 micro</th>\n",
       "      <th>f1 macro</th>\n",
       "    </tr>\n",
       "  </thead>\n",
       "  <tbody>\n",
       "    <tr>\n",
       "      <th>0</th>\n",
       "      <td>0.742276</td>\n",
       "      <td>0.235359</td>\n",
       "      <td>0.772057</td>\n",
       "      <td>0.273627</td>\n",
       "      <td>0.190722</td>\n",
       "      <td>0.109727</td>\n",
       "    </tr>\n",
       "  </tbody>\n",
       "</table>\n",
       "</div>"
      ],
      "text/plain": [
       "        All              In VOC           Out of VOC          \n",
       "   f1 micro  f1 macro  f1 micro  f1 macro   f1 micro  f1 macro\n",
       "0  0.742276  0.235359  0.772057  0.273627   0.190722  0.109727"
      ]
     },
     "metadata": {},
     "output_type": "display_data"
    },
    {
     "name": "stderr",
     "output_type": "stream",
     "text": [
      "Epoch 33: 100%|██████████| 1617/1617 [05:38<00:00,  4.77batch/s, loss_decrease=1.000002824398662] \n",
      "100%|██████████| 3787/3787 [00:39<00:00, 97.03batch/s] \n"
     ]
    },
    {
     "data": {
      "text/html": [
       "<div>\n",
       "<style scoped>\n",
       "    .dataframe tbody tr th:only-of-type {\n",
       "        vertical-align: middle;\n",
       "    }\n",
       "\n",
       "    .dataframe tbody tr th {\n",
       "        vertical-align: top;\n",
       "    }\n",
       "\n",
       "    .dataframe thead tr th {\n",
       "        text-align: left;\n",
       "    }\n",
       "</style>\n",
       "<table border=\"1\" class=\"dataframe\">\n",
       "  <thead>\n",
       "    <tr>\n",
       "      <th></th>\n",
       "      <th colspan=\"2\" halign=\"left\">All</th>\n",
       "      <th colspan=\"2\" halign=\"left\">In VOC</th>\n",
       "      <th colspan=\"2\" halign=\"left\">Out of VOC</th>\n",
       "    </tr>\n",
       "    <tr>\n",
       "      <th></th>\n",
       "      <th>f1 micro</th>\n",
       "      <th>f1 macro</th>\n",
       "      <th>f1 micro</th>\n",
       "      <th>f1 macro</th>\n",
       "      <th>f1 micro</th>\n",
       "      <th>f1 macro</th>\n",
       "    </tr>\n",
       "  </thead>\n",
       "  <tbody>\n",
       "    <tr>\n",
       "      <th>0</th>\n",
       "      <td>0.734618</td>\n",
       "      <td>0.224378</td>\n",
       "      <td>0.76482</td>\n",
       "      <td>0.260856</td>\n",
       "      <td>0.175258</td>\n",
       "      <td>0.103651</td>\n",
       "    </tr>\n",
       "  </tbody>\n",
       "</table>\n",
       "</div>"
      ],
      "text/plain": [
       "        All             In VOC           Out of VOC          \n",
       "   f1 micro  f1 macro f1 micro  f1 macro   f1 micro  f1 macro\n",
       "0  0.734618  0.224378  0.76482  0.260856   0.175258  0.103651"
      ]
     },
     "metadata": {},
     "output_type": "display_data"
    },
    {
     "name": "stderr",
     "output_type": "stream",
     "text": [
      "Epoch 34: 100%|██████████| 1617/1617 [05:39<00:00,  4.76batch/s, loss_decrease=1.000002824398662] \n",
      "100%|██████████| 3787/3787 [00:39<00:00, 97.06batch/s] \n"
     ]
    },
    {
     "data": {
      "text/html": [
       "<div>\n",
       "<style scoped>\n",
       "    .dataframe tbody tr th:only-of-type {\n",
       "        vertical-align: middle;\n",
       "    }\n",
       "\n",
       "    .dataframe tbody tr th {\n",
       "        vertical-align: top;\n",
       "    }\n",
       "\n",
       "    .dataframe thead tr th {\n",
       "        text-align: left;\n",
       "    }\n",
       "</style>\n",
       "<table border=\"1\" class=\"dataframe\">\n",
       "  <thead>\n",
       "    <tr>\n",
       "      <th></th>\n",
       "      <th colspan=\"2\" halign=\"left\">All</th>\n",
       "      <th colspan=\"2\" halign=\"left\">In VOC</th>\n",
       "      <th colspan=\"2\" halign=\"left\">Out of VOC</th>\n",
       "    </tr>\n",
       "    <tr>\n",
       "      <th></th>\n",
       "      <th>f1 micro</th>\n",
       "      <th>f1 macro</th>\n",
       "      <th>f1 micro</th>\n",
       "      <th>f1 macro</th>\n",
       "      <th>f1 micro</th>\n",
       "      <th>f1 macro</th>\n",
       "    </tr>\n",
       "  </thead>\n",
       "  <tbody>\n",
       "    <tr>\n",
       "      <th>0</th>\n",
       "      <td>0.724848</td>\n",
       "      <td>0.211708</td>\n",
       "      <td>0.756193</td>\n",
       "      <td>0.255885</td>\n",
       "      <td>0.14433</td>\n",
       "      <td>0.076612</td>\n",
       "    </tr>\n",
       "  </tbody>\n",
       "</table>\n",
       "</div>"
      ],
      "text/plain": [
       "        All              In VOC           Out of VOC          \n",
       "   f1 micro  f1 macro  f1 micro  f1 macro   f1 micro  f1 macro\n",
       "0  0.724848  0.211708  0.756193  0.255885    0.14433  0.076612"
      ]
     },
     "metadata": {},
     "output_type": "display_data"
    },
    {
     "name": "stderr",
     "output_type": "stream",
     "text": [
      "Epoch 35: 100%|██████████| 1617/1617 [05:41<00:00,  4.73batch/s, loss_decrease=1.0000030126924735]\n",
      "100%|██████████| 3787/3787 [00:47<00:00, 80.33batch/s]\n"
     ]
    },
    {
     "data": {
      "text/html": [
       "<div>\n",
       "<style scoped>\n",
       "    .dataframe tbody tr th:only-of-type {\n",
       "        vertical-align: middle;\n",
       "    }\n",
       "\n",
       "    .dataframe tbody tr th {\n",
       "        vertical-align: top;\n",
       "    }\n",
       "\n",
       "    .dataframe thead tr th {\n",
       "        text-align: left;\n",
       "    }\n",
       "</style>\n",
       "<table border=\"1\" class=\"dataframe\">\n",
       "  <thead>\n",
       "    <tr>\n",
       "      <th></th>\n",
       "      <th colspan=\"2\" halign=\"left\">All</th>\n",
       "      <th colspan=\"2\" halign=\"left\">In VOC</th>\n",
       "      <th colspan=\"2\" halign=\"left\">Out of VOC</th>\n",
       "    </tr>\n",
       "    <tr>\n",
       "      <th></th>\n",
       "      <th>f1 micro</th>\n",
       "      <th>f1 macro</th>\n",
       "      <th>f1 micro</th>\n",
       "      <th>f1 macro</th>\n",
       "      <th>f1 micro</th>\n",
       "      <th>f1 macro</th>\n",
       "    </tr>\n",
       "  </thead>\n",
       "  <tbody>\n",
       "    <tr>\n",
       "      <th>0</th>\n",
       "      <td>0.735939</td>\n",
       "      <td>0.228052</td>\n",
       "      <td>0.765655</td>\n",
       "      <td>0.266337</td>\n",
       "      <td>0.185567</td>\n",
       "      <td>0.104762</td>\n",
       "    </tr>\n",
       "  </tbody>\n",
       "</table>\n",
       "</div>"
      ],
      "text/plain": [
       "        All              In VOC           Out of VOC          \n",
       "   f1 micro  f1 macro  f1 micro  f1 macro   f1 micro  f1 macro\n",
       "0  0.735939  0.228052  0.765655  0.266337   0.185567  0.104762"
      ]
     },
     "metadata": {},
     "output_type": "display_data"
    },
    {
     "name": "stderr",
     "output_type": "stream",
     "text": [
      "Epoch 36: 100%|██████████| 1617/1617 [05:38<00:00,  4.78batch/s, loss_decrease=1.0000029185455588]\n",
      "100%|██████████| 3787/3787 [00:39<00:00, 96.03batch/s] \n"
     ]
    },
    {
     "data": {
      "text/html": [
       "<div>\n",
       "<style scoped>\n",
       "    .dataframe tbody tr th:only-of-type {\n",
       "        vertical-align: middle;\n",
       "    }\n",
       "\n",
       "    .dataframe tbody tr th {\n",
       "        vertical-align: top;\n",
       "    }\n",
       "\n",
       "    .dataframe thead tr th {\n",
       "        text-align: left;\n",
       "    }\n",
       "</style>\n",
       "<table border=\"1\" class=\"dataframe\">\n",
       "  <thead>\n",
       "    <tr>\n",
       "      <th></th>\n",
       "      <th colspan=\"2\" halign=\"left\">All</th>\n",
       "      <th colspan=\"2\" halign=\"left\">In VOC</th>\n",
       "      <th colspan=\"2\" halign=\"left\">Out of VOC</th>\n",
       "    </tr>\n",
       "    <tr>\n",
       "      <th></th>\n",
       "      <th>f1 micro</th>\n",
       "      <th>f1 macro</th>\n",
       "      <th>f1 micro</th>\n",
       "      <th>f1 macro</th>\n",
       "      <th>f1 micro</th>\n",
       "      <th>f1 macro</th>\n",
       "    </tr>\n",
       "  </thead>\n",
       "  <tbody>\n",
       "    <tr>\n",
       "      <th>0</th>\n",
       "      <td>0.733562</td>\n",
       "      <td>0.223897</td>\n",
       "      <td>0.763707</td>\n",
       "      <td>0.258893</td>\n",
       "      <td>0.175258</td>\n",
       "      <td>0.106504</td>\n",
       "    </tr>\n",
       "  </tbody>\n",
       "</table>\n",
       "</div>"
      ],
      "text/plain": [
       "        All              In VOC           Out of VOC          \n",
       "   f1 micro  f1 macro  f1 micro  f1 macro   f1 micro  f1 macro\n",
       "0  0.733562  0.223897  0.763707  0.258893   0.175258  0.106504"
      ]
     },
     "metadata": {},
     "output_type": "display_data"
    },
    {
     "name": "stderr",
     "output_type": "stream",
     "text": [
      "Epoch 37: 100%|██████████| 1617/1617 [05:36<00:00,  4.80batch/s, loss_decrease=1.0000030126924735]\n",
      "100%|██████████| 3787/3787 [00:39<00:00, 96.41batch/s] \n"
     ]
    },
    {
     "data": {
      "text/html": [
       "<div>\n",
       "<style scoped>\n",
       "    .dataframe tbody tr th:only-of-type {\n",
       "        vertical-align: middle;\n",
       "    }\n",
       "\n",
       "    .dataframe tbody tr th {\n",
       "        vertical-align: top;\n",
       "    }\n",
       "\n",
       "    .dataframe thead tr th {\n",
       "        text-align: left;\n",
       "    }\n",
       "</style>\n",
       "<table border=\"1\" class=\"dataframe\">\n",
       "  <thead>\n",
       "    <tr>\n",
       "      <th></th>\n",
       "      <th colspan=\"2\" halign=\"left\">All</th>\n",
       "      <th colspan=\"2\" halign=\"left\">In VOC</th>\n",
       "      <th colspan=\"2\" halign=\"left\">Out of VOC</th>\n",
       "    </tr>\n",
       "    <tr>\n",
       "      <th></th>\n",
       "      <th>f1 micro</th>\n",
       "      <th>f1 macro</th>\n",
       "      <th>f1 micro</th>\n",
       "      <th>f1 macro</th>\n",
       "      <th>f1 micro</th>\n",
       "      <th>f1 macro</th>\n",
       "    </tr>\n",
       "  </thead>\n",
       "  <tbody>\n",
       "    <tr>\n",
       "      <th>0</th>\n",
       "      <td>0.734618</td>\n",
       "      <td>0.222921</td>\n",
       "      <td>0.766212</td>\n",
       "      <td>0.264329</td>\n",
       "      <td>0.149485</td>\n",
       "      <td>0.087659</td>\n",
       "    </tr>\n",
       "  </tbody>\n",
       "</table>\n",
       "</div>"
      ],
      "text/plain": [
       "        All              In VOC           Out of VOC          \n",
       "   f1 micro  f1 macro  f1 micro  f1 macro   f1 micro  f1 macro\n",
       "0  0.734618  0.222921  0.766212  0.264329   0.149485  0.087659"
      ]
     },
     "metadata": {},
     "output_type": "display_data"
    },
    {
     "name": "stderr",
     "output_type": "stream",
     "text": [
      "Epoch 38: 100%|██████████| 1617/1617 [05:42<00:00,  4.72batch/s, loss_decrease=1.0000030126924735]\n",
      "100%|██████████| 3787/3787 [00:40<00:00, 94.62batch/s] \n"
     ]
    },
    {
     "data": {
      "text/html": [
       "<div>\n",
       "<style scoped>\n",
       "    .dataframe tbody tr th:only-of-type {\n",
       "        vertical-align: middle;\n",
       "    }\n",
       "\n",
       "    .dataframe tbody tr th {\n",
       "        vertical-align: top;\n",
       "    }\n",
       "\n",
       "    .dataframe thead tr th {\n",
       "        text-align: left;\n",
       "    }\n",
       "</style>\n",
       "<table border=\"1\" class=\"dataframe\">\n",
       "  <thead>\n",
       "    <tr>\n",
       "      <th></th>\n",
       "      <th colspan=\"2\" halign=\"left\">All</th>\n",
       "      <th colspan=\"2\" halign=\"left\">In VOC</th>\n",
       "      <th colspan=\"2\" halign=\"left\">Out of VOC</th>\n",
       "    </tr>\n",
       "    <tr>\n",
       "      <th></th>\n",
       "      <th>f1 micro</th>\n",
       "      <th>f1 macro</th>\n",
       "      <th>f1 micro</th>\n",
       "      <th>f1 macro</th>\n",
       "      <th>f1 micro</th>\n",
       "      <th>f1 macro</th>\n",
       "    </tr>\n",
       "  </thead>\n",
       "  <tbody>\n",
       "    <tr>\n",
       "      <th>0</th>\n",
       "      <td>0.736995</td>\n",
       "      <td>0.231288</td>\n",
       "      <td>0.767325</td>\n",
       "      <td>0.270953</td>\n",
       "      <td>0.175258</td>\n",
       "      <td>0.101935</td>\n",
       "    </tr>\n",
       "  </tbody>\n",
       "</table>\n",
       "</div>"
      ],
      "text/plain": [
       "        All              In VOC           Out of VOC          \n",
       "   f1 micro  f1 macro  f1 micro  f1 macro   f1 micro  f1 macro\n",
       "0  0.736995  0.231288  0.767325  0.270953   0.175258  0.101935"
      ]
     },
     "metadata": {},
     "output_type": "display_data"
    },
    {
     "name": "stderr",
     "output_type": "stream",
     "text": [
      "Epoch 39: 100%|██████████| 1617/1617 [05:42<00:00,  4.72batch/s, loss_decrease=1.0000031068394057]\n",
      "100%|██████████| 3787/3787 [00:38<00:00, 97.82batch/s] \n"
     ]
    },
    {
     "data": {
      "text/html": [
       "<div>\n",
       "<style scoped>\n",
       "    .dataframe tbody tr th:only-of-type {\n",
       "        vertical-align: middle;\n",
       "    }\n",
       "\n",
       "    .dataframe tbody tr th {\n",
       "        vertical-align: top;\n",
       "    }\n",
       "\n",
       "    .dataframe thead tr th {\n",
       "        text-align: left;\n",
       "    }\n",
       "</style>\n",
       "<table border=\"1\" class=\"dataframe\">\n",
       "  <thead>\n",
       "    <tr>\n",
       "      <th></th>\n",
       "      <th colspan=\"2\" halign=\"left\">All</th>\n",
       "      <th colspan=\"2\" halign=\"left\">In VOC</th>\n",
       "      <th colspan=\"2\" halign=\"left\">Out of VOC</th>\n",
       "    </tr>\n",
       "    <tr>\n",
       "      <th></th>\n",
       "      <th>f1 micro</th>\n",
       "      <th>f1 macro</th>\n",
       "      <th>f1 micro</th>\n",
       "      <th>f1 macro</th>\n",
       "      <th>f1 micro</th>\n",
       "      <th>f1 macro</th>\n",
       "    </tr>\n",
       "  </thead>\n",
       "  <tbody>\n",
       "    <tr>\n",
       "      <th>0</th>\n",
       "      <td>0.746765</td>\n",
       "      <td>0.253441</td>\n",
       "      <td>0.775953</td>\n",
       "      <td>0.292817</td>\n",
       "      <td>0.206186</td>\n",
       "      <td>0.117236</td>\n",
       "    </tr>\n",
       "  </tbody>\n",
       "</table>\n",
       "</div>"
      ],
      "text/plain": [
       "        All              In VOC           Out of VOC          \n",
       "   f1 micro  f1 macro  f1 micro  f1 macro   f1 micro  f1 macro\n",
       "0  0.746765  0.253441  0.775953  0.292817   0.206186  0.117236"
      ]
     },
     "metadata": {},
     "output_type": "display_data"
    },
    {
     "name": "stderr",
     "output_type": "stream",
     "text": [
      "Epoch 40: 100%|██████████| 1617/1617 [05:35<00:00,  4.82batch/s, loss_decrease=1.0000032009863558]\n",
      "100%|██████████| 3787/3787 [00:41<00:00, 91.84batch/s] \n"
     ]
    },
    {
     "data": {
      "text/html": [
       "<div>\n",
       "<style scoped>\n",
       "    .dataframe tbody tr th:only-of-type {\n",
       "        vertical-align: middle;\n",
       "    }\n",
       "\n",
       "    .dataframe tbody tr th {\n",
       "        vertical-align: top;\n",
       "    }\n",
       "\n",
       "    .dataframe thead tr th {\n",
       "        text-align: left;\n",
       "    }\n",
       "</style>\n",
       "<table border=\"1\" class=\"dataframe\">\n",
       "  <thead>\n",
       "    <tr>\n",
       "      <th></th>\n",
       "      <th colspan=\"2\" halign=\"left\">All</th>\n",
       "      <th colspan=\"2\" halign=\"left\">In VOC</th>\n",
       "      <th colspan=\"2\" halign=\"left\">Out of VOC</th>\n",
       "    </tr>\n",
       "    <tr>\n",
       "      <th></th>\n",
       "      <th>f1 micro</th>\n",
       "      <th>f1 macro</th>\n",
       "      <th>f1 micro</th>\n",
       "      <th>f1 macro</th>\n",
       "      <th>f1 micro</th>\n",
       "      <th>f1 macro</th>\n",
       "    </tr>\n",
       "  </thead>\n",
       "  <tbody>\n",
       "    <tr>\n",
       "      <th>0</th>\n",
       "      <td>0.74122</td>\n",
       "      <td>0.230214</td>\n",
       "      <td>0.772057</td>\n",
       "      <td>0.272226</td>\n",
       "      <td>0.170103</td>\n",
       "      <td>0.096886</td>\n",
       "    </tr>\n",
       "  </tbody>\n",
       "</table>\n",
       "</div>"
      ],
      "text/plain": [
       "       All              In VOC           Out of VOC          \n",
       "  f1 micro  f1 macro  f1 micro  f1 macro   f1 micro  f1 macro\n",
       "0  0.74122  0.230214  0.772057  0.272226   0.170103  0.096886"
      ]
     },
     "metadata": {},
     "output_type": "display_data"
    },
    {
     "name": "stderr",
     "output_type": "stream",
     "text": [
      "Epoch 41: 100%|██████████| 1617/1617 [05:41<00:00,  4.74batch/s, loss_decrease=1.0000032009863558]\n",
      "100%|██████████| 3787/3787 [00:39<00:00, 94.72batch/s] \n"
     ]
    },
    {
     "data": {
      "text/html": [
       "<div>\n",
       "<style scoped>\n",
       "    .dataframe tbody tr th:only-of-type {\n",
       "        vertical-align: middle;\n",
       "    }\n",
       "\n",
       "    .dataframe tbody tr th {\n",
       "        vertical-align: top;\n",
       "    }\n",
       "\n",
       "    .dataframe thead tr th {\n",
       "        text-align: left;\n",
       "    }\n",
       "</style>\n",
       "<table border=\"1\" class=\"dataframe\">\n",
       "  <thead>\n",
       "    <tr>\n",
       "      <th></th>\n",
       "      <th colspan=\"2\" halign=\"left\">All</th>\n",
       "      <th colspan=\"2\" halign=\"left\">In VOC</th>\n",
       "      <th colspan=\"2\" halign=\"left\">Out of VOC</th>\n",
       "    </tr>\n",
       "    <tr>\n",
       "      <th></th>\n",
       "      <th>f1 micro</th>\n",
       "      <th>f1 macro</th>\n",
       "      <th>f1 micro</th>\n",
       "      <th>f1 macro</th>\n",
       "      <th>f1 micro</th>\n",
       "      <th>f1 macro</th>\n",
       "    </tr>\n",
       "  </thead>\n",
       "  <tbody>\n",
       "    <tr>\n",
       "      <th>0</th>\n",
       "      <td>0.743068</td>\n",
       "      <td>0.238318</td>\n",
       "      <td>0.773448</td>\n",
       "      <td>0.279961</td>\n",
       "      <td>0.180412</td>\n",
       "      <td>0.107394</td>\n",
       "    </tr>\n",
       "  </tbody>\n",
       "</table>\n",
       "</div>"
      ],
      "text/plain": [
       "        All              In VOC           Out of VOC          \n",
       "   f1 micro  f1 macro  f1 micro  f1 macro   f1 micro  f1 macro\n",
       "0  0.743068  0.238318  0.773448  0.279961   0.180412  0.107394"
      ]
     },
     "metadata": {},
     "output_type": "display_data"
    },
    {
     "name": "stderr",
     "output_type": "stream",
     "text": [
      "100%|██████████| 3787/3787 [00:40<00:00, 93.21batch/s] 8batch/s, loss_decrease=1.0000022595176532]\n"
     ]
    },
    {
     "data": {
      "text/html": [
       "<div>\n",
       "<style scoped>\n",
       "    .dataframe tbody tr th:only-of-type {\n",
       "        vertical-align: middle;\n",
       "    }\n",
       "\n",
       "    .dataframe tbody tr th {\n",
       "        vertical-align: top;\n",
       "    }\n",
       "\n",
       "    .dataframe thead tr th {\n",
       "        text-align: left;\n",
       "    }\n",
       "</style>\n",
       "<table border=\"1\" class=\"dataframe\">\n",
       "  <thead>\n",
       "    <tr>\n",
       "      <th></th>\n",
       "      <th colspan=\"2\" halign=\"left\">All</th>\n",
       "      <th colspan=\"2\" halign=\"left\">In VOC</th>\n",
       "      <th colspan=\"2\" halign=\"left\">Out of VOC</th>\n",
       "    </tr>\n",
       "    <tr>\n",
       "      <th></th>\n",
       "      <th>f1 micro</th>\n",
       "      <th>f1 macro</th>\n",
       "      <th>f1 micro</th>\n",
       "      <th>f1 macro</th>\n",
       "      <th>f1 micro</th>\n",
       "      <th>f1 macro</th>\n",
       "    </tr>\n",
       "  </thead>\n",
       "  <tbody>\n",
       "    <tr>\n",
       "      <th>0</th>\n",
       "      <td>0.74254</td>\n",
       "      <td>0.247732</td>\n",
       "      <td>0.7715</td>\n",
       "      <td>0.288709</td>\n",
       "      <td>0.206186</td>\n",
       "      <td>0.115288</td>\n",
       "    </tr>\n",
       "  </tbody>\n",
       "</table>\n",
       "</div>"
      ],
      "text/plain": [
       "       All             In VOC           Out of VOC          \n",
       "  f1 micro  f1 macro f1 micro  f1 macro   f1 micro  f1 macro\n",
       "0  0.74254  0.247732   0.7715  0.288709   0.206186  0.115288"
      ]
     },
     "metadata": {},
     "output_type": "display_data"
    },
    {
     "name": "stderr",
     "output_type": "stream",
     "text": [
      "Epoch 43: 100%|██████████| 1617/1617 [05:41<00:00,  4.74batch/s, loss_decrease=1.0000032009863558]\n",
      "100%|██████████| 3787/3787 [00:40<00:00, 92.58batch/s]\n"
     ]
    },
    {
     "data": {
      "text/html": [
       "<div>\n",
       "<style scoped>\n",
       "    .dataframe tbody tr th:only-of-type {\n",
       "        vertical-align: middle;\n",
       "    }\n",
       "\n",
       "    .dataframe tbody tr th {\n",
       "        vertical-align: top;\n",
       "    }\n",
       "\n",
       "    .dataframe thead tr th {\n",
       "        text-align: left;\n",
       "    }\n",
       "</style>\n",
       "<table border=\"1\" class=\"dataframe\">\n",
       "  <thead>\n",
       "    <tr>\n",
       "      <th></th>\n",
       "      <th colspan=\"2\" halign=\"left\">All</th>\n",
       "      <th colspan=\"2\" halign=\"left\">In VOC</th>\n",
       "      <th colspan=\"2\" halign=\"left\">Out of VOC</th>\n",
       "    </tr>\n",
       "    <tr>\n",
       "      <th></th>\n",
       "      <th>f1 micro</th>\n",
       "      <th>f1 macro</th>\n",
       "      <th>f1 micro</th>\n",
       "      <th>f1 macro</th>\n",
       "      <th>f1 micro</th>\n",
       "      <th>f1 macro</th>\n",
       "    </tr>\n",
       "  </thead>\n",
       "  <tbody>\n",
       "    <tr>\n",
       "      <th>0</th>\n",
       "      <td>0.738579</td>\n",
       "      <td>0.221173</td>\n",
       "      <td>0.768717</td>\n",
       "      <td>0.255345</td>\n",
       "      <td>0.180412</td>\n",
       "      <td>0.101598</td>\n",
       "    </tr>\n",
       "  </tbody>\n",
       "</table>\n",
       "</div>"
      ],
      "text/plain": [
       "        All              In VOC           Out of VOC          \n",
       "   f1 micro  f1 macro  f1 micro  f1 macro   f1 micro  f1 macro\n",
       "0  0.738579  0.221173  0.768717  0.255345   0.180412  0.101598"
      ]
     },
     "metadata": {},
     "output_type": "display_data"
    },
    {
     "name": "stderr",
     "output_type": "stream",
     "text": [
      "Epoch 44: 100%|██████████| 1617/1617 [05:39<00:00,  4.76batch/s, loss_decrease=1.0000032009863558]\n",
      "100%|██████████| 3787/3787 [00:39<00:00, 96.27batch/s] \n"
     ]
    },
    {
     "data": {
      "text/html": [
       "<div>\n",
       "<style scoped>\n",
       "    .dataframe tbody tr th:only-of-type {\n",
       "        vertical-align: middle;\n",
       "    }\n",
       "\n",
       "    .dataframe tbody tr th {\n",
       "        vertical-align: top;\n",
       "    }\n",
       "\n",
       "    .dataframe thead tr th {\n",
       "        text-align: left;\n",
       "    }\n",
       "</style>\n",
       "<table border=\"1\" class=\"dataframe\">\n",
       "  <thead>\n",
       "    <tr>\n",
       "      <th></th>\n",
       "      <th colspan=\"2\" halign=\"left\">All</th>\n",
       "      <th colspan=\"2\" halign=\"left\">In VOC</th>\n",
       "      <th colspan=\"2\" halign=\"left\">Out of VOC</th>\n",
       "    </tr>\n",
       "    <tr>\n",
       "      <th></th>\n",
       "      <th>f1 micro</th>\n",
       "      <th>f1 macro</th>\n",
       "      <th>f1 micro</th>\n",
       "      <th>f1 macro</th>\n",
       "      <th>f1 micro</th>\n",
       "      <th>f1 macro</th>\n",
       "    </tr>\n",
       "  </thead>\n",
       "  <tbody>\n",
       "    <tr>\n",
       "      <th>0</th>\n",
       "      <td>0.741748</td>\n",
       "      <td>0.233758</td>\n",
       "      <td>0.772613</td>\n",
       "      <td>0.276172</td>\n",
       "      <td>0.170103</td>\n",
       "      <td>0.096737</td>\n",
       "    </tr>\n",
       "  </tbody>\n",
       "</table>\n",
       "</div>"
      ],
      "text/plain": [
       "        All              In VOC           Out of VOC          \n",
       "   f1 micro  f1 macro  f1 micro  f1 macro   f1 micro  f1 macro\n",
       "0  0.741748  0.233758  0.772613  0.276172   0.170103  0.096737"
      ]
     },
     "metadata": {},
     "output_type": "display_data"
    },
    {
     "name": "stderr",
     "output_type": "stream",
     "text": [
      "Epoch 45: 100%|██████████| 1617/1617 [05:38<00:00,  4.78batch/s, loss_decrease=1.0000032009863558]\n",
      "100%|██████████| 3787/3787 [00:45<00:00, 83.61batch/s] \n"
     ]
    },
    {
     "data": {
      "text/html": [
       "<div>\n",
       "<style scoped>\n",
       "    .dataframe tbody tr th:only-of-type {\n",
       "        vertical-align: middle;\n",
       "    }\n",
       "\n",
       "    .dataframe tbody tr th {\n",
       "        vertical-align: top;\n",
       "    }\n",
       "\n",
       "    .dataframe thead tr th {\n",
       "        text-align: left;\n",
       "    }\n",
       "</style>\n",
       "<table border=\"1\" class=\"dataframe\">\n",
       "  <thead>\n",
       "    <tr>\n",
       "      <th></th>\n",
       "      <th colspan=\"2\" halign=\"left\">All</th>\n",
       "      <th colspan=\"2\" halign=\"left\">In VOC</th>\n",
       "      <th colspan=\"2\" halign=\"left\">Out of VOC</th>\n",
       "    </tr>\n",
       "    <tr>\n",
       "      <th></th>\n",
       "      <th>f1 micro</th>\n",
       "      <th>f1 macro</th>\n",
       "      <th>f1 micro</th>\n",
       "      <th>f1 macro</th>\n",
       "      <th>f1 micro</th>\n",
       "      <th>f1 macro</th>\n",
       "    </tr>\n",
       "  </thead>\n",
       "  <tbody>\n",
       "    <tr>\n",
       "      <th>0</th>\n",
       "      <td>0.743332</td>\n",
       "      <td>0.236723</td>\n",
       "      <td>0.773448</td>\n",
       "      <td>0.277904</td>\n",
       "      <td>0.185567</td>\n",
       "      <td>0.10668</td>\n",
       "    </tr>\n",
       "  </tbody>\n",
       "</table>\n",
       "</div>"
      ],
      "text/plain": [
       "        All              In VOC           Out of VOC         \n",
       "   f1 micro  f1 macro  f1 micro  f1 macro   f1 micro f1 macro\n",
       "0  0.743332  0.236723  0.773448  0.277904   0.185567  0.10668"
      ]
     },
     "metadata": {},
     "output_type": "display_data"
    },
    {
     "name": "stderr",
     "output_type": "stream",
     "text": [
      "Epoch 46: 100%|██████████| 1617/1617 [05:39<00:00,  4.77batch/s, loss_decrease=1.0000032951333235]\n",
      "100%|██████████| 3787/3787 [00:40<00:00, 94.21batch/s]\n"
     ]
    },
    {
     "data": {
      "text/html": [
       "<div>\n",
       "<style scoped>\n",
       "    .dataframe tbody tr th:only-of-type {\n",
       "        vertical-align: middle;\n",
       "    }\n",
       "\n",
       "    .dataframe tbody tr th {\n",
       "        vertical-align: top;\n",
       "    }\n",
       "\n",
       "    .dataframe thead tr th {\n",
       "        text-align: left;\n",
       "    }\n",
       "</style>\n",
       "<table border=\"1\" class=\"dataframe\">\n",
       "  <thead>\n",
       "    <tr>\n",
       "      <th></th>\n",
       "      <th colspan=\"2\" halign=\"left\">All</th>\n",
       "      <th colspan=\"2\" halign=\"left\">In VOC</th>\n",
       "      <th colspan=\"2\" halign=\"left\">Out of VOC</th>\n",
       "    </tr>\n",
       "    <tr>\n",
       "      <th></th>\n",
       "      <th>f1 micro</th>\n",
       "      <th>f1 macro</th>\n",
       "      <th>f1 micro</th>\n",
       "      <th>f1 macro</th>\n",
       "      <th>f1 micro</th>\n",
       "      <th>f1 macro</th>\n",
       "    </tr>\n",
       "  </thead>\n",
       "  <tbody>\n",
       "    <tr>\n",
       "      <th>0</th>\n",
       "      <td>0.742804</td>\n",
       "      <td>0.24157</td>\n",
       "      <td>0.772613</td>\n",
       "      <td>0.282207</td>\n",
       "      <td>0.190722</td>\n",
       "      <td>0.107516</td>\n",
       "    </tr>\n",
       "  </tbody>\n",
       "</table>\n",
       "</div>"
      ],
      "text/plain": [
       "        All             In VOC           Out of VOC          \n",
       "   f1 micro f1 macro  f1 micro  f1 macro   f1 micro  f1 macro\n",
       "0  0.742804  0.24157  0.772613  0.282207   0.190722  0.107516"
      ]
     },
     "metadata": {},
     "output_type": "display_data"
    },
    {
     "name": "stderr",
     "output_type": "stream",
     "text": [
      "Epoch 47: 100%|██████████| 1617/1617 [05:37<00:00,  4.79batch/s, loss_decrease=1.0000032951333235]\n",
      "100%|██████████| 3787/3787 [00:40<00:00, 92.46batch/s]\n"
     ]
    },
    {
     "data": {
      "text/html": [
       "<div>\n",
       "<style scoped>\n",
       "    .dataframe tbody tr th:only-of-type {\n",
       "        vertical-align: middle;\n",
       "    }\n",
       "\n",
       "    .dataframe tbody tr th {\n",
       "        vertical-align: top;\n",
       "    }\n",
       "\n",
       "    .dataframe thead tr th {\n",
       "        text-align: left;\n",
       "    }\n",
       "</style>\n",
       "<table border=\"1\" class=\"dataframe\">\n",
       "  <thead>\n",
       "    <tr>\n",
       "      <th></th>\n",
       "      <th colspan=\"2\" halign=\"left\">All</th>\n",
       "      <th colspan=\"2\" halign=\"left\">In VOC</th>\n",
       "      <th colspan=\"2\" halign=\"left\">Out of VOC</th>\n",
       "    </tr>\n",
       "    <tr>\n",
       "      <th></th>\n",
       "      <th>f1 micro</th>\n",
       "      <th>f1 macro</th>\n",
       "      <th>f1 micro</th>\n",
       "      <th>f1 macro</th>\n",
       "      <th>f1 micro</th>\n",
       "      <th>f1 macro</th>\n",
       "    </tr>\n",
       "  </thead>\n",
       "  <tbody>\n",
       "    <tr>\n",
       "      <th>0</th>\n",
       "      <td>0.745973</td>\n",
       "      <td>0.235655</td>\n",
       "      <td>0.77651</td>\n",
       "      <td>0.276821</td>\n",
       "      <td>0.180412</td>\n",
       "      <td>0.103448</td>\n",
       "    </tr>\n",
       "  </tbody>\n",
       "</table>\n",
       "</div>"
      ],
      "text/plain": [
       "        All             In VOC           Out of VOC          \n",
       "   f1 micro  f1 macro f1 micro  f1 macro   f1 micro  f1 macro\n",
       "0  0.745973  0.235655  0.77651  0.276821   0.180412  0.103448"
      ]
     },
     "metadata": {},
     "output_type": "display_data"
    },
    {
     "name": "stderr",
     "output_type": "stream",
     "text": [
      "Epoch 48: 100%|██████████| 1617/1617 [05:38<00:00,  4.77batch/s, loss_decrease=1.0000032951333235]\n",
      "100%|██████████| 3787/3787 [00:39<00:00, 96.40batch/s] \n"
     ]
    },
    {
     "data": {
      "text/html": [
       "<div>\n",
       "<style scoped>\n",
       "    .dataframe tbody tr th:only-of-type {\n",
       "        vertical-align: middle;\n",
       "    }\n",
       "\n",
       "    .dataframe tbody tr th {\n",
       "        vertical-align: top;\n",
       "    }\n",
       "\n",
       "    .dataframe thead tr th {\n",
       "        text-align: left;\n",
       "    }\n",
       "</style>\n",
       "<table border=\"1\" class=\"dataframe\">\n",
       "  <thead>\n",
       "    <tr>\n",
       "      <th></th>\n",
       "      <th colspan=\"2\" halign=\"left\">All</th>\n",
       "      <th colspan=\"2\" halign=\"left\">In VOC</th>\n",
       "      <th colspan=\"2\" halign=\"left\">Out of VOC</th>\n",
       "    </tr>\n",
       "    <tr>\n",
       "      <th></th>\n",
       "      <th>f1 micro</th>\n",
       "      <th>f1 macro</th>\n",
       "      <th>f1 micro</th>\n",
       "      <th>f1 macro</th>\n",
       "      <th>f1 micro</th>\n",
       "      <th>f1 macro</th>\n",
       "    </tr>\n",
       "  </thead>\n",
       "  <tbody>\n",
       "    <tr>\n",
       "      <th>0</th>\n",
       "      <td>0.744653</td>\n",
       "      <td>0.247322</td>\n",
       "      <td>0.775397</td>\n",
       "      <td>0.293076</td>\n",
       "      <td>0.175258</td>\n",
       "      <td>0.100465</td>\n",
       "    </tr>\n",
       "  </tbody>\n",
       "</table>\n",
       "</div>"
      ],
      "text/plain": [
       "        All              In VOC           Out of VOC          \n",
       "   f1 micro  f1 macro  f1 micro  f1 macro   f1 micro  f1 macro\n",
       "0  0.744653  0.247322  0.775397  0.293076   0.175258  0.100465"
      ]
     },
     "metadata": {},
     "output_type": "display_data"
    },
    {
     "name": "stderr",
     "output_type": "stream",
     "text": [
      "Epoch 49: 100%|██████████| 1617/1617 [05:39<00:00,  4.76batch/s, loss_decrease=1.0000032951333235]\n",
      "100%|██████████| 3787/3787 [00:39<00:00, 96.19batch/s] \n"
     ]
    },
    {
     "data": {
      "text/html": [
       "<div>\n",
       "<style scoped>\n",
       "    .dataframe tbody tr th:only-of-type {\n",
       "        vertical-align: middle;\n",
       "    }\n",
       "\n",
       "    .dataframe tbody tr th {\n",
       "        vertical-align: top;\n",
       "    }\n",
       "\n",
       "    .dataframe thead tr th {\n",
       "        text-align: left;\n",
       "    }\n",
       "</style>\n",
       "<table border=\"1\" class=\"dataframe\">\n",
       "  <thead>\n",
       "    <tr>\n",
       "      <th></th>\n",
       "      <th colspan=\"2\" halign=\"left\">All</th>\n",
       "      <th colspan=\"2\" halign=\"left\">In VOC</th>\n",
       "      <th colspan=\"2\" halign=\"left\">Out of VOC</th>\n",
       "    </tr>\n",
       "    <tr>\n",
       "      <th></th>\n",
       "      <th>f1 micro</th>\n",
       "      <th>f1 macro</th>\n",
       "      <th>f1 micro</th>\n",
       "      <th>f1 macro</th>\n",
       "      <th>f1 micro</th>\n",
       "      <th>f1 macro</th>\n",
       "    </tr>\n",
       "  </thead>\n",
       "  <tbody>\n",
       "    <tr>\n",
       "      <th>0</th>\n",
       "      <td>0.745181</td>\n",
       "      <td>0.248322</td>\n",
       "      <td>0.775675</td>\n",
       "      <td>0.290498</td>\n",
       "      <td>0.180412</td>\n",
       "      <td>0.104694</td>\n",
       "    </tr>\n",
       "  </tbody>\n",
       "</table>\n",
       "</div>"
      ],
      "text/plain": [
       "        All              In VOC           Out of VOC          \n",
       "   f1 micro  f1 macro  f1 micro  f1 macro   f1 micro  f1 macro\n",
       "0  0.745181  0.248322  0.775675  0.290498   0.180412  0.104694"
      ]
     },
     "metadata": {},
     "output_type": "display_data"
    },
    {
     "name": "stderr",
     "output_type": "stream",
     "text": [
      "Epoch 50: 100%|██████████| 1617/1617 [05:38<00:00,  4.78batch/s, loss_decrease=1.0000032951333235]\n",
      "100%|██████████| 3787/3787 [00:39<00:00, 96.14batch/s] \n"
     ]
    },
    {
     "data": {
      "text/html": [
       "<div>\n",
       "<style scoped>\n",
       "    .dataframe tbody tr th:only-of-type {\n",
       "        vertical-align: middle;\n",
       "    }\n",
       "\n",
       "    .dataframe tbody tr th {\n",
       "        vertical-align: top;\n",
       "    }\n",
       "\n",
       "    .dataframe thead tr th {\n",
       "        text-align: left;\n",
       "    }\n",
       "</style>\n",
       "<table border=\"1\" class=\"dataframe\">\n",
       "  <thead>\n",
       "    <tr>\n",
       "      <th></th>\n",
       "      <th colspan=\"2\" halign=\"left\">All</th>\n",
       "      <th colspan=\"2\" halign=\"left\">In VOC</th>\n",
       "      <th colspan=\"2\" halign=\"left\">Out of VOC</th>\n",
       "    </tr>\n",
       "    <tr>\n",
       "      <th></th>\n",
       "      <th>f1 micro</th>\n",
       "      <th>f1 macro</th>\n",
       "      <th>f1 micro</th>\n",
       "      <th>f1 macro</th>\n",
       "      <th>f1 micro</th>\n",
       "      <th>f1 macro</th>\n",
       "    </tr>\n",
       "  </thead>\n",
       "  <tbody>\n",
       "    <tr>\n",
       "      <th>0</th>\n",
       "      <td>0.745181</td>\n",
       "      <td>0.24042</td>\n",
       "      <td>0.775953</td>\n",
       "      <td>0.283091</td>\n",
       "      <td>0.175258</td>\n",
       "      <td>0.10323</td>\n",
       "    </tr>\n",
       "  </tbody>\n",
       "</table>\n",
       "</div>"
      ],
      "text/plain": [
       "        All             In VOC           Out of VOC         \n",
       "   f1 micro f1 macro  f1 micro  f1 macro   f1 micro f1 macro\n",
       "0  0.745181  0.24042  0.775953  0.283091   0.175258  0.10323"
      ]
     },
     "metadata": {},
     "output_type": "display_data"
    },
    {
     "name": "stdout",
     "output_type": "stream",
     "text": [
      "Finished Training\n"
     ]
    }
   ],
   "source": [
    "from tqdm import trange\n",
    "from tqdm import tqdm\n",
    "from sklearn.metrics import classification_report, f1_score\n",
    "from evaluator import Evaluator\n",
    "import numpy as np\n",
    "\n",
    "\n",
    "\n",
    "#Гиперпараметры\n",
    "batch_size=64\n",
    "epochs = 50\n",
    "    \n",
    "trainloader = torch.utils.data.DataLoader(ds_train, batch_size=batch_size,\n",
    "                                          shuffle=False, num_workers=0)\n",
    "testloader = torch.utils.data.DataLoader(ds_test, batch_size=1, shuffle=False)\n",
    "\n",
    "\n",
    "initial_loss = None\n",
    "\n",
    "for epoch in range(1, epochs+1):\n",
    "    #обучение модели в эпохе\n",
    "    net.train()\n",
    "    with tqdm(trainloader, unit=\"batch\") as tepoch:\n",
    "        for data in tepoch:\n",
    "\n",
    "            tepoch.set_description(f\"Epoch {epoch}\")\n",
    "\n",
    "            inputs = data['tokenized_phrases']\n",
    "            labels = data['one_hot_labels']\n",
    "\n",
    "            optimizer.zero_grad()\n",
    "            if USE_CUDA=='cuda':\n",
    "                with torch.cuda.amp.autocast():\n",
    "                    outputs = net(inputs)['output']\n",
    "                    loss = criterion(outputs, labels)\n",
    "                scaler.scale(loss).backward()\n",
    "                scaler.step(optimizer)\n",
    "                scaler.update()\n",
    "            else:\n",
    "                outputs = net(inputs)['output']\n",
    "                loss = criterion(outputs, labels)\n",
    "                loss.backward()\n",
    "                optimizer.step()\n",
    "            if initial_loss is None:\n",
    "                initial_loss = loss.item()\n",
    "            tepoch.set_postfix(loss_decrease = str(initial_loss/loss.item()))\n",
    "    #расчет точностей модели после эпохи\n",
    "    net.eval()\n",
    "    model_answers=[]\n",
    "    real_answers=[]\n",
    "    with tqdm(testloader, unit=\"batch\") as eval_process:\n",
    "        for data in eval_process:\n",
    "\n",
    "            inputs = data['tokenized_phrases']\n",
    "\n",
    "            with torch.no_grad():\n",
    "                outputs_dict = net(inputs)\n",
    "                pred_meddra_code = CV.meddra_codes[outputs_dict['output'].argmax()]\n",
    "\n",
    "\n",
    "            model_answers.append(pred_meddra_code)\n",
    "            real_answers.append(data['label_codes'][0])\n",
    "    evaluator.get_all_f1_scores(real_answers, model_answers)\n",
    "print('Finished Training')\n",
    "torch.save(net,'./Model_weights/rubert_additional_corp_v3_%s.pt'%epoch)"
   ]
  },
  {
   "cell_type": "markdown",
   "id": "handed-radio",
   "metadata": {},
   "source": [
    "<h2>Подбор гиперпараметров</h2>"
   ]
  },
  {
   "cell_type": "code",
   "execution_count": null,
   "id": "gross-failure",
   "metadata": {},
   "outputs": [],
   "source": [
    "from parameters_optimization import CADEC_SoTa_Optimizer\n",
    "\n",
    "training_param_optimizer = CADEC_SoTa_Optimizer(net, ds_train, ds_test, \n",
    "                                                hyperparam_space={'lr': (0.00001, 0.001), 'batch_size': (16, 32, 64)},\n",
    "                                                verbose=True)\n",
    "best_hyperparams = training_param_optimizer.optimize()\n",
    "print(best_hyperparams)"
   ]
  },
  {
   "cell_type": "code",
   "execution_count": null,
   "id": "blank-korean",
   "metadata": {},
   "outputs": [],
   "source": [
    "'5. f1: 0.4008, lr: 0.0002819, bs: 32'"
   ]
  },
  {
   "cell_type": "code",
   "execution_count": null,
   "id": "paperback-apollo",
   "metadata": {},
   "outputs": [],
   "source": [
    "'f1: 0.4563, lr: 0.0003526, bs: 16'"
   ]
  },
  {
   "cell_type": "code",
   "execution_count": 12,
   "id": "brave-stream",
   "metadata": {},
   "outputs": [],
   "source": [
    "import torch\n",
    "from models import CADEC_SoTa\n",
    "\n",
    "net = torch.load('./Model_weights/rubert_only_additional_corp_v2_30ep.pt') "
   ]
  },
  {
   "cell_type": "markdown",
   "id": "unusual-gregory",
   "metadata": {},
   "source": [
    "<h3>Процесс обучения и рассчета точностей rubert с доп. корпусом и классом Evaluator</h3>"
   ]
  },
  {
   "cell_type": "code",
   "execution_count": 15,
   "id": "educational-driver",
   "metadata": {},
   "outputs": [
    {
     "name": "stderr",
     "output_type": "stream",
     "text": [
      "Epoch 1: 100%|██████████| 508/508 [00:47<00:00, 10.64batch/s, loss_decrease=0.9999988702420243]\n",
      "100%|██████████| 3787/3787 [00:44<00:00, 85.25batch/s]\n"
     ]
    },
    {
     "data": {
      "text/html": [
       "<div>\n",
       "<style scoped>\n",
       "    .dataframe tbody tr th:only-of-type {\n",
       "        vertical-align: middle;\n",
       "    }\n",
       "\n",
       "    .dataframe tbody tr th {\n",
       "        vertical-align: top;\n",
       "    }\n",
       "\n",
       "    .dataframe thead tr th {\n",
       "        text-align: left;\n",
       "    }\n",
       "</style>\n",
       "<table border=\"1\" class=\"dataframe\">\n",
       "  <thead>\n",
       "    <tr>\n",
       "      <th></th>\n",
       "      <th colspan=\"2\" halign=\"left\">All</th>\n",
       "      <th colspan=\"2\" halign=\"left\">In VOC</th>\n",
       "      <th colspan=\"2\" halign=\"left\">Out of VOC</th>\n",
       "    </tr>\n",
       "    <tr>\n",
       "      <th></th>\n",
       "      <th>f1 micro</th>\n",
       "      <th>f1 macro</th>\n",
       "      <th>f1 micro</th>\n",
       "      <th>f1 macro</th>\n",
       "      <th>f1 micro</th>\n",
       "      <th>f1 macro</th>\n",
       "    </tr>\n",
       "  </thead>\n",
       "  <tbody>\n",
       "    <tr>\n",
       "      <th>0</th>\n",
       "      <td>0.7061</td>\n",
       "      <td>0.239987</td>\n",
       "      <td>0.735597</td>\n",
       "      <td>0.2816</td>\n",
       "      <td>0.159794</td>\n",
       "      <td>0.101421</td>\n",
       "    </tr>\n",
       "  </tbody>\n",
       "</table>\n",
       "</div>"
      ],
      "text/plain": [
       "       All              In VOC          Out of VOC          \n",
       "  f1 micro  f1 macro  f1 micro f1 macro   f1 micro  f1 macro\n",
       "0   0.7061  0.239987  0.735597   0.2816   0.159794  0.101421"
      ]
     },
     "metadata": {},
     "output_type": "display_data"
    },
    {
     "name": "stderr",
     "output_type": "stream",
     "text": [
      "Epoch 2: 100%|██████████| 508/508 [00:46<00:00, 11.02batch/s, loss_decrease=0.9999995292671999]\n",
      "100%|██████████| 3787/3787 [00:42<00:00, 89.00batch/s]\n"
     ]
    },
    {
     "data": {
      "text/html": [
       "<div>\n",
       "<style scoped>\n",
       "    .dataframe tbody tr th:only-of-type {\n",
       "        vertical-align: middle;\n",
       "    }\n",
       "\n",
       "    .dataframe tbody tr th {\n",
       "        vertical-align: top;\n",
       "    }\n",
       "\n",
       "    .dataframe thead tr th {\n",
       "        text-align: left;\n",
       "    }\n",
       "</style>\n",
       "<table border=\"1\" class=\"dataframe\">\n",
       "  <thead>\n",
       "    <tr>\n",
       "      <th></th>\n",
       "      <th colspan=\"2\" halign=\"left\">All</th>\n",
       "      <th colspan=\"2\" halign=\"left\">In VOC</th>\n",
       "      <th colspan=\"2\" halign=\"left\">Out of VOC</th>\n",
       "    </tr>\n",
       "    <tr>\n",
       "      <th></th>\n",
       "      <th>f1 micro</th>\n",
       "      <th>f1 macro</th>\n",
       "      <th>f1 micro</th>\n",
       "      <th>f1 macro</th>\n",
       "      <th>f1 micro</th>\n",
       "      <th>f1 macro</th>\n",
       "    </tr>\n",
       "  </thead>\n",
       "  <tbody>\n",
       "    <tr>\n",
       "      <th>0</th>\n",
       "      <td>0.730922</td>\n",
       "      <td>0.259726</td>\n",
       "      <td>0.761481</td>\n",
       "      <td>0.314257</td>\n",
       "      <td>0.164948</td>\n",
       "      <td>0.097863</td>\n",
       "    </tr>\n",
       "  </tbody>\n",
       "</table>\n",
       "</div>"
      ],
      "text/plain": [
       "        All              In VOC           Out of VOC          \n",
       "   f1 micro  f1 macro  f1 micro  f1 macro   f1 micro  f1 macro\n",
       "0  0.730922  0.259726  0.761481  0.314257   0.164948  0.097863"
      ]
     },
     "metadata": {},
     "output_type": "display_data"
    },
    {
     "name": "stderr",
     "output_type": "stream",
     "text": [
      "Epoch 3: 100%|██████████| 508/508 [00:45<00:00, 11.20batch/s, loss_decrease=0.9999997175602667]\n",
      "100%|██████████| 3787/3787 [00:42<00:00, 90.04batch/s]\n"
     ]
    },
    {
     "data": {
      "text/html": [
       "<div>\n",
       "<style scoped>\n",
       "    .dataframe tbody tr th:only-of-type {\n",
       "        vertical-align: middle;\n",
       "    }\n",
       "\n",
       "    .dataframe tbody tr th {\n",
       "        vertical-align: top;\n",
       "    }\n",
       "\n",
       "    .dataframe thead tr th {\n",
       "        text-align: left;\n",
       "    }\n",
       "</style>\n",
       "<table border=\"1\" class=\"dataframe\">\n",
       "  <thead>\n",
       "    <tr>\n",
       "      <th></th>\n",
       "      <th colspan=\"2\" halign=\"left\">All</th>\n",
       "      <th colspan=\"2\" halign=\"left\">In VOC</th>\n",
       "      <th colspan=\"2\" halign=\"left\">Out of VOC</th>\n",
       "    </tr>\n",
       "    <tr>\n",
       "      <th></th>\n",
       "      <th>f1 micro</th>\n",
       "      <th>f1 macro</th>\n",
       "      <th>f1 micro</th>\n",
       "      <th>f1 macro</th>\n",
       "      <th>f1 micro</th>\n",
       "      <th>f1 macro</th>\n",
       "    </tr>\n",
       "  </thead>\n",
       "  <tbody>\n",
       "    <tr>\n",
       "      <th>0</th>\n",
       "      <td>0.740956</td>\n",
       "      <td>0.260669</td>\n",
       "      <td>0.773448</td>\n",
       "      <td>0.321769</td>\n",
       "      <td>0.139175</td>\n",
       "      <td>0.085008</td>\n",
       "    </tr>\n",
       "  </tbody>\n",
       "</table>\n",
       "</div>"
      ],
      "text/plain": [
       "        All              In VOC           Out of VOC          \n",
       "   f1 micro  f1 macro  f1 micro  f1 macro   f1 micro  f1 macro\n",
       "0  0.740956  0.260669  0.773448  0.321769   0.139175  0.085008"
      ]
     },
     "metadata": {},
     "output_type": "display_data"
    },
    {
     "name": "stderr",
     "output_type": "stream",
     "text": [
      "Epoch 4: 100%|██████████| 508/508 [00:45<00:00, 11.23batch/s, loss_decrease=1.000000564879945] \n",
      "100%|██████████| 3787/3787 [00:42<00:00, 88.15batch/s]\n"
     ]
    },
    {
     "data": {
      "text/html": [
       "<div>\n",
       "<style scoped>\n",
       "    .dataframe tbody tr th:only-of-type {\n",
       "        vertical-align: middle;\n",
       "    }\n",
       "\n",
       "    .dataframe tbody tr th {\n",
       "        vertical-align: top;\n",
       "    }\n",
       "\n",
       "    .dataframe thead tr th {\n",
       "        text-align: left;\n",
       "    }\n",
       "</style>\n",
       "<table border=\"1\" class=\"dataframe\">\n",
       "  <thead>\n",
       "    <tr>\n",
       "      <th></th>\n",
       "      <th colspan=\"2\" halign=\"left\">All</th>\n",
       "      <th colspan=\"2\" halign=\"left\">In VOC</th>\n",
       "      <th colspan=\"2\" halign=\"left\">Out of VOC</th>\n",
       "    </tr>\n",
       "    <tr>\n",
       "      <th></th>\n",
       "      <th>f1 micro</th>\n",
       "      <th>f1 macro</th>\n",
       "      <th>f1 micro</th>\n",
       "      <th>f1 macro</th>\n",
       "      <th>f1 micro</th>\n",
       "      <th>f1 macro</th>\n",
       "    </tr>\n",
       "  </thead>\n",
       "  <tbody>\n",
       "    <tr>\n",
       "      <th>0</th>\n",
       "      <td>0.749142</td>\n",
       "      <td>0.269401</td>\n",
       "      <td>0.78152</td>\n",
       "      <td>0.327828</td>\n",
       "      <td>0.149485</td>\n",
       "      <td>0.097154</td>\n",
       "    </tr>\n",
       "  </tbody>\n",
       "</table>\n",
       "</div>"
      ],
      "text/plain": [
       "        All             In VOC           Out of VOC          \n",
       "   f1 micro  f1 macro f1 micro  f1 macro   f1 micro  f1 macro\n",
       "0  0.749142  0.269401  0.78152  0.327828   0.149485  0.097154"
      ]
     },
     "metadata": {},
     "output_type": "display_data"
    },
    {
     "name": "stderr",
     "output_type": "stream",
     "text": [
      "Epoch 5: 100%|██████████| 508/508 [00:45<00:00, 11.07batch/s, loss_decrease=1.000000753173402] \n",
      "100%|██████████| 3787/3787 [00:41<00:00, 92.23batch/s]\n"
     ]
    },
    {
     "data": {
      "text/html": [
       "<div>\n",
       "<style scoped>\n",
       "    .dataframe tbody tr th:only-of-type {\n",
       "        vertical-align: middle;\n",
       "    }\n",
       "\n",
       "    .dataframe tbody tr th {\n",
       "        vertical-align: top;\n",
       "    }\n",
       "\n",
       "    .dataframe thead tr th {\n",
       "        text-align: left;\n",
       "    }\n",
       "</style>\n",
       "<table border=\"1\" class=\"dataframe\">\n",
       "  <thead>\n",
       "    <tr>\n",
       "      <th></th>\n",
       "      <th colspan=\"2\" halign=\"left\">All</th>\n",
       "      <th colspan=\"2\" halign=\"left\">In VOC</th>\n",
       "      <th colspan=\"2\" halign=\"left\">Out of VOC</th>\n",
       "    </tr>\n",
       "    <tr>\n",
       "      <th></th>\n",
       "      <th>f1 micro</th>\n",
       "      <th>f1 macro</th>\n",
       "      <th>f1 micro</th>\n",
       "      <th>f1 macro</th>\n",
       "      <th>f1 micro</th>\n",
       "      <th>f1 macro</th>\n",
       "    </tr>\n",
       "  </thead>\n",
       "  <tbody>\n",
       "    <tr>\n",
       "      <th>0</th>\n",
       "      <td>0.746237</td>\n",
       "      <td>0.267683</td>\n",
       "      <td>0.779571</td>\n",
       "      <td>0.335442</td>\n",
       "      <td>0.128866</td>\n",
       "      <td>0.083105</td>\n",
       "    </tr>\n",
       "  </tbody>\n",
       "</table>\n",
       "</div>"
      ],
      "text/plain": [
       "        All              In VOC           Out of VOC          \n",
       "   f1 micro  f1 macro  f1 micro  f1 macro   f1 micro  f1 macro\n",
       "0  0.746237  0.267683  0.779571  0.335442   0.128866  0.083105"
      ]
     },
     "metadata": {},
     "output_type": "display_data"
    },
    {
     "name": "stderr",
     "output_type": "stream",
     "text": [
      "Epoch 6: 100%|██████████| 508/508 [00:44<00:00, 11.34batch/s, loss_decrease=1.000000847320157] \n",
      "100%|██████████| 3787/3787 [00:43<00:00, 87.17batch/s]\n"
     ]
    },
    {
     "data": {
      "text/html": [
       "<div>\n",
       "<style scoped>\n",
       "    .dataframe tbody tr th:only-of-type {\n",
       "        vertical-align: middle;\n",
       "    }\n",
       "\n",
       "    .dataframe tbody tr th {\n",
       "        vertical-align: top;\n",
       "    }\n",
       "\n",
       "    .dataframe thead tr th {\n",
       "        text-align: left;\n",
       "    }\n",
       "</style>\n",
       "<table border=\"1\" class=\"dataframe\">\n",
       "  <thead>\n",
       "    <tr>\n",
       "      <th></th>\n",
       "      <th colspan=\"2\" halign=\"left\">All</th>\n",
       "      <th colspan=\"2\" halign=\"left\">In VOC</th>\n",
       "      <th colspan=\"2\" halign=\"left\">Out of VOC</th>\n",
       "    </tr>\n",
       "    <tr>\n",
       "      <th></th>\n",
       "      <th>f1 micro</th>\n",
       "      <th>f1 macro</th>\n",
       "      <th>f1 micro</th>\n",
       "      <th>f1 macro</th>\n",
       "      <th>f1 micro</th>\n",
       "      <th>f1 macro</th>\n",
       "    </tr>\n",
       "  </thead>\n",
       "  <tbody>\n",
       "    <tr>\n",
       "      <th>0</th>\n",
       "      <td>0.751518</td>\n",
       "      <td>0.274348</td>\n",
       "      <td>0.784581</td>\n",
       "      <td>0.34006</td>\n",
       "      <td>0.139175</td>\n",
       "      <td>0.094612</td>\n",
       "    </tr>\n",
       "  </tbody>\n",
       "</table>\n",
       "</div>"
      ],
      "text/plain": [
       "        All              In VOC          Out of VOC          \n",
       "   f1 micro  f1 macro  f1 micro f1 macro   f1 micro  f1 macro\n",
       "0  0.751518  0.274348  0.784581  0.34006   0.139175  0.094612"
      ]
     },
     "metadata": {},
     "output_type": "display_data"
    },
    {
     "name": "stderr",
     "output_type": "stream",
     "text": [
      "Epoch 7: 100%|██████████| 508/508 [00:46<00:00, 11.02batch/s, loss_decrease=1.0000010356137203]\n",
      "100%|██████████| 3787/3787 [00:45<00:00, 83.89batch/s]\n"
     ]
    },
    {
     "data": {
      "text/html": [
       "<div>\n",
       "<style scoped>\n",
       "    .dataframe tbody tr th:only-of-type {\n",
       "        vertical-align: middle;\n",
       "    }\n",
       "\n",
       "    .dataframe tbody tr th {\n",
       "        vertical-align: top;\n",
       "    }\n",
       "\n",
       "    .dataframe thead tr th {\n",
       "        text-align: left;\n",
       "    }\n",
       "</style>\n",
       "<table border=\"1\" class=\"dataframe\">\n",
       "  <thead>\n",
       "    <tr>\n",
       "      <th></th>\n",
       "      <th colspan=\"2\" halign=\"left\">All</th>\n",
       "      <th colspan=\"2\" halign=\"left\">In VOC</th>\n",
       "      <th colspan=\"2\" halign=\"left\">Out of VOC</th>\n",
       "    </tr>\n",
       "    <tr>\n",
       "      <th></th>\n",
       "      <th>f1 micro</th>\n",
       "      <th>f1 macro</th>\n",
       "      <th>f1 micro</th>\n",
       "      <th>f1 macro</th>\n",
       "      <th>f1 micro</th>\n",
       "      <th>f1 macro</th>\n",
       "    </tr>\n",
       "  </thead>\n",
       "  <tbody>\n",
       "    <tr>\n",
       "      <th>0</th>\n",
       "      <td>0.753895</td>\n",
       "      <td>0.271889</td>\n",
       "      <td>0.789034</td>\n",
       "      <td>0.351435</td>\n",
       "      <td>0.103093</td>\n",
       "      <td>0.063579</td>\n",
       "    </tr>\n",
       "  </tbody>\n",
       "</table>\n",
       "</div>"
      ],
      "text/plain": [
       "        All              In VOC           Out of VOC          \n",
       "   f1 micro  f1 macro  f1 micro  f1 macro   f1 micro  f1 macro\n",
       "0  0.753895  0.271889  0.789034  0.351435   0.103093  0.063579"
      ]
     },
     "metadata": {},
     "output_type": "display_data"
    },
    {
     "name": "stderr",
     "output_type": "stream",
     "text": [
      "Epoch 8: 100%|██████████| 508/508 [00:47<00:00, 10.66batch/s, loss_decrease=1.0000009414669297]\n",
      "100%|██████████| 3787/3787 [00:44<00:00, 84.71batch/s]\n"
     ]
    },
    {
     "data": {
      "text/html": [
       "<div>\n",
       "<style scoped>\n",
       "    .dataframe tbody tr th:only-of-type {\n",
       "        vertical-align: middle;\n",
       "    }\n",
       "\n",
       "    .dataframe tbody tr th {\n",
       "        vertical-align: top;\n",
       "    }\n",
       "\n",
       "    .dataframe thead tr th {\n",
       "        text-align: left;\n",
       "    }\n",
       "</style>\n",
       "<table border=\"1\" class=\"dataframe\">\n",
       "  <thead>\n",
       "    <tr>\n",
       "      <th></th>\n",
       "      <th colspan=\"2\" halign=\"left\">All</th>\n",
       "      <th colspan=\"2\" halign=\"left\">In VOC</th>\n",
       "      <th colspan=\"2\" halign=\"left\">Out of VOC</th>\n",
       "    </tr>\n",
       "    <tr>\n",
       "      <th></th>\n",
       "      <th>f1 micro</th>\n",
       "      <th>f1 macro</th>\n",
       "      <th>f1 micro</th>\n",
       "      <th>f1 macro</th>\n",
       "      <th>f1 micro</th>\n",
       "      <th>f1 macro</th>\n",
       "    </tr>\n",
       "  </thead>\n",
       "  <tbody>\n",
       "    <tr>\n",
       "      <th>0</th>\n",
       "      <td>0.754951</td>\n",
       "      <td>0.286102</td>\n",
       "      <td>0.788199</td>\n",
       "      <td>0.354944</td>\n",
       "      <td>0.139175</td>\n",
       "      <td>0.089308</td>\n",
       "    </tr>\n",
       "  </tbody>\n",
       "</table>\n",
       "</div>"
      ],
      "text/plain": [
       "        All              In VOC           Out of VOC          \n",
       "   f1 micro  f1 macro  f1 micro  f1 macro   f1 micro  f1 macro\n",
       "0  0.754951  0.286102  0.788199  0.354944   0.139175  0.089308"
      ]
     },
     "metadata": {},
     "output_type": "display_data"
    },
    {
     "name": "stderr",
     "output_type": "stream",
     "text": [
      "Epoch 9: 100%|██████████| 508/508 [00:45<00:00, 11.28batch/s, loss_decrease=1.0000012239073544]\n",
      "100%|██████████| 3787/3787 [00:42<00:00, 89.20batch/s]\n"
     ]
    },
    {
     "data": {
      "text/html": [
       "<div>\n",
       "<style scoped>\n",
       "    .dataframe tbody tr th:only-of-type {\n",
       "        vertical-align: middle;\n",
       "    }\n",
       "\n",
       "    .dataframe tbody tr th {\n",
       "        vertical-align: top;\n",
       "    }\n",
       "\n",
       "    .dataframe thead tr th {\n",
       "        text-align: left;\n",
       "    }\n",
       "</style>\n",
       "<table border=\"1\" class=\"dataframe\">\n",
       "  <thead>\n",
       "    <tr>\n",
       "      <th></th>\n",
       "      <th colspan=\"2\" halign=\"left\">All</th>\n",
       "      <th colspan=\"2\" halign=\"left\">In VOC</th>\n",
       "      <th colspan=\"2\" halign=\"left\">Out of VOC</th>\n",
       "    </tr>\n",
       "    <tr>\n",
       "      <th></th>\n",
       "      <th>f1 micro</th>\n",
       "      <th>f1 macro</th>\n",
       "      <th>f1 micro</th>\n",
       "      <th>f1 macro</th>\n",
       "      <th>f1 micro</th>\n",
       "      <th>f1 macro</th>\n",
       "    </tr>\n",
       "  </thead>\n",
       "  <tbody>\n",
       "    <tr>\n",
       "      <th>0</th>\n",
       "      <td>0.755743</td>\n",
       "      <td>0.275392</td>\n",
       "      <td>0.790982</td>\n",
       "      <td>0.359169</td>\n",
       "      <td>0.103093</td>\n",
       "      <td>0.069643</td>\n",
       "    </tr>\n",
       "  </tbody>\n",
       "</table>\n",
       "</div>"
      ],
      "text/plain": [
       "        All              In VOC           Out of VOC          \n",
       "   f1 micro  f1 macro  f1 micro  f1 macro   f1 micro  f1 macro\n",
       "0  0.755743  0.275392  0.790982  0.359169   0.103093  0.069643"
      ]
     },
     "metadata": {},
     "output_type": "display_data"
    },
    {
     "name": "stderr",
     "output_type": "stream",
     "text": [
      "Epoch 10: 100%|██████████| 508/508 [00:45<00:00, 11.20batch/s, loss_decrease=1.0000014122010594]\n",
      "100%|██████████| 3787/3787 [00:43<00:00, 86.59batch/s]\n"
     ]
    },
    {
     "data": {
      "text/html": [
       "<div>\n",
       "<style scoped>\n",
       "    .dataframe tbody tr th:only-of-type {\n",
       "        vertical-align: middle;\n",
       "    }\n",
       "\n",
       "    .dataframe tbody tr th {\n",
       "        vertical-align: top;\n",
       "    }\n",
       "\n",
       "    .dataframe thead tr th {\n",
       "        text-align: left;\n",
       "    }\n",
       "</style>\n",
       "<table border=\"1\" class=\"dataframe\">\n",
       "  <thead>\n",
       "    <tr>\n",
       "      <th></th>\n",
       "      <th colspan=\"2\" halign=\"left\">All</th>\n",
       "      <th colspan=\"2\" halign=\"left\">In VOC</th>\n",
       "      <th colspan=\"2\" halign=\"left\">Out of VOC</th>\n",
       "    </tr>\n",
       "    <tr>\n",
       "      <th></th>\n",
       "      <th>f1 micro</th>\n",
       "      <th>f1 macro</th>\n",
       "      <th>f1 micro</th>\n",
       "      <th>f1 macro</th>\n",
       "      <th>f1 micro</th>\n",
       "      <th>f1 macro</th>\n",
       "    </tr>\n",
       "  </thead>\n",
       "  <tbody>\n",
       "    <tr>\n",
       "      <th>0</th>\n",
       "      <td>0.759704</td>\n",
       "      <td>0.276826</td>\n",
       "      <td>0.795714</td>\n",
       "      <td>0.360133</td>\n",
       "      <td>0.092784</td>\n",
       "      <td>0.064748</td>\n",
       "    </tr>\n",
       "  </tbody>\n",
       "</table>\n",
       "</div>"
      ],
      "text/plain": [
       "        All              In VOC           Out of VOC          \n",
       "   f1 micro  f1 macro  f1 micro  f1 macro   f1 micro  f1 macro\n",
       "0  0.759704  0.276826  0.795714  0.360133   0.092784  0.064748"
      ]
     },
     "metadata": {},
     "output_type": "display_data"
    },
    {
     "name": "stderr",
     "output_type": "stream",
     "text": [
      "Epoch 11: 100%|██████████| 508/508 [00:43<00:00, 11.56batch/s, loss_decrease=1.0000014122010594]\n",
      "100%|██████████| 3787/3787 [00:41<00:00, 90.65batch/s]\n"
     ]
    },
    {
     "data": {
      "text/html": [
       "<div>\n",
       "<style scoped>\n",
       "    .dataframe tbody tr th:only-of-type {\n",
       "        vertical-align: middle;\n",
       "    }\n",
       "\n",
       "    .dataframe tbody tr th {\n",
       "        vertical-align: top;\n",
       "    }\n",
       "\n",
       "    .dataframe thead tr th {\n",
       "        text-align: left;\n",
       "    }\n",
       "</style>\n",
       "<table border=\"1\" class=\"dataframe\">\n",
       "  <thead>\n",
       "    <tr>\n",
       "      <th></th>\n",
       "      <th colspan=\"2\" halign=\"left\">All</th>\n",
       "      <th colspan=\"2\" halign=\"left\">In VOC</th>\n",
       "      <th colspan=\"2\" halign=\"left\">Out of VOC</th>\n",
       "    </tr>\n",
       "    <tr>\n",
       "      <th></th>\n",
       "      <th>f1 micro</th>\n",
       "      <th>f1 macro</th>\n",
       "      <th>f1 micro</th>\n",
       "      <th>f1 macro</th>\n",
       "      <th>f1 micro</th>\n",
       "      <th>f1 macro</th>\n",
       "    </tr>\n",
       "  </thead>\n",
       "  <tbody>\n",
       "    <tr>\n",
       "      <th>0</th>\n",
       "      <td>0.761289</td>\n",
       "      <td>0.29164</td>\n",
       "      <td>0.795714</td>\n",
       "      <td>0.369902</td>\n",
       "      <td>0.123711</td>\n",
       "      <td>0.079976</td>\n",
       "    </tr>\n",
       "  </tbody>\n",
       "</table>\n",
       "</div>"
      ],
      "text/plain": [
       "        All             In VOC           Out of VOC          \n",
       "   f1 micro f1 macro  f1 micro  f1 macro   f1 micro  f1 macro\n",
       "0  0.761289  0.29164  0.795714  0.369902   0.123711  0.079976"
      ]
     },
     "metadata": {},
     "output_type": "display_data"
    },
    {
     "name": "stderr",
     "output_type": "stream",
     "text": [
      "Epoch 12: 100%|██████████| 508/508 [00:47<00:00, 10.81batch/s, loss_decrease=1.0000014122010594]\n",
      "100%|██████████| 3787/3787 [00:40<00:00, 92.80batch/s]\n"
     ]
    },
    {
     "data": {
      "text/html": [
       "<div>\n",
       "<style scoped>\n",
       "    .dataframe tbody tr th:only-of-type {\n",
       "        vertical-align: middle;\n",
       "    }\n",
       "\n",
       "    .dataframe tbody tr th {\n",
       "        vertical-align: top;\n",
       "    }\n",
       "\n",
       "    .dataframe thead tr th {\n",
       "        text-align: left;\n",
       "    }\n",
       "</style>\n",
       "<table border=\"1\" class=\"dataframe\">\n",
       "  <thead>\n",
       "    <tr>\n",
       "      <th></th>\n",
       "      <th colspan=\"2\" halign=\"left\">All</th>\n",
       "      <th colspan=\"2\" halign=\"left\">In VOC</th>\n",
       "      <th colspan=\"2\" halign=\"left\">Out of VOC</th>\n",
       "    </tr>\n",
       "    <tr>\n",
       "      <th></th>\n",
       "      <th>f1 micro</th>\n",
       "      <th>f1 macro</th>\n",
       "      <th>f1 micro</th>\n",
       "      <th>f1 macro</th>\n",
       "      <th>f1 micro</th>\n",
       "      <th>f1 macro</th>\n",
       "    </tr>\n",
       "  </thead>\n",
       "  <tbody>\n",
       "    <tr>\n",
       "      <th>0</th>\n",
       "      <td>0.75944</td>\n",
       "      <td>0.28217</td>\n",
       "      <td>0.794879</td>\n",
       "      <td>0.363899</td>\n",
       "      <td>0.103093</td>\n",
       "      <td>0.065243</td>\n",
       "    </tr>\n",
       "  </tbody>\n",
       "</table>\n",
       "</div>"
      ],
      "text/plain": [
       "       All             In VOC           Out of VOC          \n",
       "  f1 micro f1 macro  f1 micro  f1 macro   f1 micro  f1 macro\n",
       "0  0.75944  0.28217  0.794879  0.363899   0.103093  0.065243"
      ]
     },
     "metadata": {},
     "output_type": "display_data"
    },
    {
     "name": "stderr",
     "output_type": "stream",
     "text": [
      "Epoch 13: 100%|██████████| 508/508 [00:46<00:00, 10.88batch/s, loss_decrease=1.0000015063479386]\n",
      "100%|██████████| 3787/3787 [00:45<00:00, 83.76batch/s]\n"
     ]
    },
    {
     "data": {
      "text/html": [
       "<div>\n",
       "<style scoped>\n",
       "    .dataframe tbody tr th:only-of-type {\n",
       "        vertical-align: middle;\n",
       "    }\n",
       "\n",
       "    .dataframe tbody tr th {\n",
       "        vertical-align: top;\n",
       "    }\n",
       "\n",
       "    .dataframe thead tr th {\n",
       "        text-align: left;\n",
       "    }\n",
       "</style>\n",
       "<table border=\"1\" class=\"dataframe\">\n",
       "  <thead>\n",
       "    <tr>\n",
       "      <th></th>\n",
       "      <th colspan=\"2\" halign=\"left\">All</th>\n",
       "      <th colspan=\"2\" halign=\"left\">In VOC</th>\n",
       "      <th colspan=\"2\" halign=\"left\">Out of VOC</th>\n",
       "    </tr>\n",
       "    <tr>\n",
       "      <th></th>\n",
       "      <th>f1 micro</th>\n",
       "      <th>f1 macro</th>\n",
       "      <th>f1 micro</th>\n",
       "      <th>f1 macro</th>\n",
       "      <th>f1 micro</th>\n",
       "      <th>f1 macro</th>\n",
       "    </tr>\n",
       "  </thead>\n",
       "  <tbody>\n",
       "    <tr>\n",
       "      <th>0</th>\n",
       "      <td>0.756536</td>\n",
       "      <td>0.288147</td>\n",
       "      <td>0.792096</td>\n",
       "      <td>0.380289</td>\n",
       "      <td>0.097938</td>\n",
       "      <td>0.059167</td>\n",
       "    </tr>\n",
       "  </tbody>\n",
       "</table>\n",
       "</div>"
      ],
      "text/plain": [
       "        All              In VOC           Out of VOC          \n",
       "   f1 micro  f1 macro  f1 micro  f1 macro   f1 micro  f1 macro\n",
       "0  0.756536  0.288147  0.792096  0.380289   0.097938  0.059167"
      ]
     },
     "metadata": {},
     "output_type": "display_data"
    },
    {
     "name": "stderr",
     "output_type": "stream",
     "text": [
      "Epoch 14: 100%|██████████| 508/508 [00:45<00:00, 11.14batch/s, loss_decrease=1.0000015063479386]\n",
      "100%|██████████| 3787/3787 [00:41<00:00, 92.06batch/s]\n"
     ]
    },
    {
     "data": {
      "text/html": [
       "<div>\n",
       "<style scoped>\n",
       "    .dataframe tbody tr th:only-of-type {\n",
       "        vertical-align: middle;\n",
       "    }\n",
       "\n",
       "    .dataframe tbody tr th {\n",
       "        vertical-align: top;\n",
       "    }\n",
       "\n",
       "    .dataframe thead tr th {\n",
       "        text-align: left;\n",
       "    }\n",
       "</style>\n",
       "<table border=\"1\" class=\"dataframe\">\n",
       "  <thead>\n",
       "    <tr>\n",
       "      <th></th>\n",
       "      <th colspan=\"2\" halign=\"left\">All</th>\n",
       "      <th colspan=\"2\" halign=\"left\">In VOC</th>\n",
       "      <th colspan=\"2\" halign=\"left\">Out of VOC</th>\n",
       "    </tr>\n",
       "    <tr>\n",
       "      <th></th>\n",
       "      <th>f1 micro</th>\n",
       "      <th>f1 macro</th>\n",
       "      <th>f1 micro</th>\n",
       "      <th>f1 macro</th>\n",
       "      <th>f1 micro</th>\n",
       "      <th>f1 macro</th>\n",
       "    </tr>\n",
       "  </thead>\n",
       "  <tbody>\n",
       "    <tr>\n",
       "      <th>0</th>\n",
       "      <td>0.762345</td>\n",
       "      <td>0.292919</td>\n",
       "      <td>0.797105</td>\n",
       "      <td>0.378833</td>\n",
       "      <td>0.118557</td>\n",
       "      <td>0.074609</td>\n",
       "    </tr>\n",
       "  </tbody>\n",
       "</table>\n",
       "</div>"
      ],
      "text/plain": [
       "        All              In VOC           Out of VOC          \n",
       "   f1 micro  f1 macro  f1 micro  f1 macro   f1 micro  f1 macro\n",
       "0  0.762345  0.292919  0.797105  0.378833   0.118557  0.074609"
      ]
     },
     "metadata": {},
     "output_type": "display_data"
    },
    {
     "name": "stderr",
     "output_type": "stream",
     "text": [
      "Epoch 15: 100%|██████████| 508/508 [00:45<00:00, 11.06batch/s, loss_decrease=1.0000015063479386]\n",
      "100%|██████████| 3787/3787 [00:41<00:00, 90.58batch/s]\n"
     ]
    },
    {
     "data": {
      "text/html": [
       "<div>\n",
       "<style scoped>\n",
       "    .dataframe tbody tr th:only-of-type {\n",
       "        vertical-align: middle;\n",
       "    }\n",
       "\n",
       "    .dataframe tbody tr th {\n",
       "        vertical-align: top;\n",
       "    }\n",
       "\n",
       "    .dataframe thead tr th {\n",
       "        text-align: left;\n",
       "    }\n",
       "</style>\n",
       "<table border=\"1\" class=\"dataframe\">\n",
       "  <thead>\n",
       "    <tr>\n",
       "      <th></th>\n",
       "      <th colspan=\"2\" halign=\"left\">All</th>\n",
       "      <th colspan=\"2\" halign=\"left\">In VOC</th>\n",
       "      <th colspan=\"2\" halign=\"left\">Out of VOC</th>\n",
       "    </tr>\n",
       "    <tr>\n",
       "      <th></th>\n",
       "      <th>f1 micro</th>\n",
       "      <th>f1 macro</th>\n",
       "      <th>f1 micro</th>\n",
       "      <th>f1 macro</th>\n",
       "      <th>f1 micro</th>\n",
       "      <th>f1 macro</th>\n",
       "    </tr>\n",
       "  </thead>\n",
       "  <tbody>\n",
       "    <tr>\n",
       "      <th>0</th>\n",
       "      <td>0.766042</td>\n",
       "      <td>0.303002</td>\n",
       "      <td>0.800724</td>\n",
       "      <td>0.392179</td>\n",
       "      <td>0.123711</td>\n",
       "      <td>0.074007</td>\n",
       "    </tr>\n",
       "  </tbody>\n",
       "</table>\n",
       "</div>"
      ],
      "text/plain": [
       "        All              In VOC           Out of VOC          \n",
       "   f1 micro  f1 macro  f1 micro  f1 macro   f1 micro  f1 macro\n",
       "0  0.766042  0.303002  0.800724  0.392179   0.123711  0.074007"
      ]
     },
     "metadata": {},
     "output_type": "display_data"
    },
    {
     "name": "stderr",
     "output_type": "stream",
     "text": [
      "Epoch 16: 100%|██████████| 508/508 [00:45<00:00, 11.13batch/s, loss_decrease=1.0000016946417498]\n",
      "100%|██████████| 3787/3787 [00:42<00:00, 89.12batch/s]\n"
     ]
    },
    {
     "data": {
      "text/html": [
       "<div>\n",
       "<style scoped>\n",
       "    .dataframe tbody tr th:only-of-type {\n",
       "        vertical-align: middle;\n",
       "    }\n",
       "\n",
       "    .dataframe tbody tr th {\n",
       "        vertical-align: top;\n",
       "    }\n",
       "\n",
       "    .dataframe thead tr th {\n",
       "        text-align: left;\n",
       "    }\n",
       "</style>\n",
       "<table border=\"1\" class=\"dataframe\">\n",
       "  <thead>\n",
       "    <tr>\n",
       "      <th></th>\n",
       "      <th colspan=\"2\" halign=\"left\">All</th>\n",
       "      <th colspan=\"2\" halign=\"left\">In VOC</th>\n",
       "      <th colspan=\"2\" halign=\"left\">Out of VOC</th>\n",
       "    </tr>\n",
       "    <tr>\n",
       "      <th></th>\n",
       "      <th>f1 micro</th>\n",
       "      <th>f1 macro</th>\n",
       "      <th>f1 micro</th>\n",
       "      <th>f1 macro</th>\n",
       "      <th>f1 micro</th>\n",
       "      <th>f1 macro</th>\n",
       "    </tr>\n",
       "  </thead>\n",
       "  <tbody>\n",
       "    <tr>\n",
       "      <th>0</th>\n",
       "      <td>0.765778</td>\n",
       "      <td>0.302016</td>\n",
       "      <td>0.80128</td>\n",
       "      <td>0.391014</td>\n",
       "      <td>0.108247</td>\n",
       "      <td>0.068841</td>\n",
       "    </tr>\n",
       "  </tbody>\n",
       "</table>\n",
       "</div>"
      ],
      "text/plain": [
       "        All             In VOC           Out of VOC          \n",
       "   f1 micro  f1 macro f1 micro  f1 macro   f1 micro  f1 macro\n",
       "0  0.765778  0.302016  0.80128  0.391014   0.108247  0.068841"
      ]
     },
     "metadata": {},
     "output_type": "display_data"
    },
    {
     "name": "stderr",
     "output_type": "stream",
     "text": [
      "Epoch 17: 100%|██████████| 508/508 [00:46<00:00, 10.96batch/s, loss_decrease=1.0000016946417498]\n",
      "100%|██████████| 3787/3787 [00:41<00:00, 90.79batch/s]\n"
     ]
    },
    {
     "data": {
      "text/html": [
       "<div>\n",
       "<style scoped>\n",
       "    .dataframe tbody tr th:only-of-type {\n",
       "        vertical-align: middle;\n",
       "    }\n",
       "\n",
       "    .dataframe tbody tr th {\n",
       "        vertical-align: top;\n",
       "    }\n",
       "\n",
       "    .dataframe thead tr th {\n",
       "        text-align: left;\n",
       "    }\n",
       "</style>\n",
       "<table border=\"1\" class=\"dataframe\">\n",
       "  <thead>\n",
       "    <tr>\n",
       "      <th></th>\n",
       "      <th colspan=\"2\" halign=\"left\">All</th>\n",
       "      <th colspan=\"2\" halign=\"left\">In VOC</th>\n",
       "      <th colspan=\"2\" halign=\"left\">Out of VOC</th>\n",
       "    </tr>\n",
       "    <tr>\n",
       "      <th></th>\n",
       "      <th>f1 micro</th>\n",
       "      <th>f1 macro</th>\n",
       "      <th>f1 micro</th>\n",
       "      <th>f1 macro</th>\n",
       "      <th>f1 micro</th>\n",
       "      <th>f1 macro</th>\n",
       "    </tr>\n",
       "  </thead>\n",
       "  <tbody>\n",
       "    <tr>\n",
       "      <th>0</th>\n",
       "      <td>0.766306</td>\n",
       "      <td>0.302434</td>\n",
       "      <td>0.801559</td>\n",
       "      <td>0.391322</td>\n",
       "      <td>0.113402</td>\n",
       "      <td>0.070238</td>\n",
       "    </tr>\n",
       "  </tbody>\n",
       "</table>\n",
       "</div>"
      ],
      "text/plain": [
       "        All              In VOC           Out of VOC          \n",
       "   f1 micro  f1 macro  f1 micro  f1 macro   f1 micro  f1 macro\n",
       "0  0.766306  0.302434  0.801559  0.391322   0.113402  0.070238"
      ]
     },
     "metadata": {},
     "output_type": "display_data"
    },
    {
     "name": "stderr",
     "output_type": "stream",
     "text": [
      "Epoch 18: 100%|██████████| 508/508 [00:46<00:00, 10.88batch/s, loss_decrease=1.0000016946417498]\n",
      "100%|██████████| 3787/3787 [00:40<00:00, 92.58batch/s]\n"
     ]
    },
    {
     "data": {
      "text/html": [
       "<div>\n",
       "<style scoped>\n",
       "    .dataframe tbody tr th:only-of-type {\n",
       "        vertical-align: middle;\n",
       "    }\n",
       "\n",
       "    .dataframe tbody tr th {\n",
       "        vertical-align: top;\n",
       "    }\n",
       "\n",
       "    .dataframe thead tr th {\n",
       "        text-align: left;\n",
       "    }\n",
       "</style>\n",
       "<table border=\"1\" class=\"dataframe\">\n",
       "  <thead>\n",
       "    <tr>\n",
       "      <th></th>\n",
       "      <th colspan=\"2\" halign=\"left\">All</th>\n",
       "      <th colspan=\"2\" halign=\"left\">In VOC</th>\n",
       "      <th colspan=\"2\" halign=\"left\">Out of VOC</th>\n",
       "    </tr>\n",
       "    <tr>\n",
       "      <th></th>\n",
       "      <th>f1 micro</th>\n",
       "      <th>f1 macro</th>\n",
       "      <th>f1 micro</th>\n",
       "      <th>f1 macro</th>\n",
       "      <th>f1 micro</th>\n",
       "      <th>f1 macro</th>\n",
       "    </tr>\n",
       "  </thead>\n",
       "  <tbody>\n",
       "    <tr>\n",
       "      <th>0</th>\n",
       "      <td>0.766306</td>\n",
       "      <td>0.299958</td>\n",
       "      <td>0.802394</td>\n",
       "      <td>0.391624</td>\n",
       "      <td>0.097938</td>\n",
       "      <td>0.065114</td>\n",
       "    </tr>\n",
       "  </tbody>\n",
       "</table>\n",
       "</div>"
      ],
      "text/plain": [
       "        All              In VOC           Out of VOC          \n",
       "   f1 micro  f1 macro  f1 micro  f1 macro   f1 micro  f1 macro\n",
       "0  0.766306  0.299958  0.802394  0.391624   0.097938  0.065114"
      ]
     },
     "metadata": {},
     "output_type": "display_data"
    },
    {
     "name": "stderr",
     "output_type": "stream",
     "text": [
      "Epoch 19: 100%|██████████| 508/508 [00:45<00:00, 11.11batch/s, loss_decrease=1.0000016946417498]\n",
      "100%|██████████| 3787/3787 [00:42<00:00, 89.42batch/s]\n"
     ]
    },
    {
     "data": {
      "text/html": [
       "<div>\n",
       "<style scoped>\n",
       "    .dataframe tbody tr th:only-of-type {\n",
       "        vertical-align: middle;\n",
       "    }\n",
       "\n",
       "    .dataframe tbody tr th {\n",
       "        vertical-align: top;\n",
       "    }\n",
       "\n",
       "    .dataframe thead tr th {\n",
       "        text-align: left;\n",
       "    }\n",
       "</style>\n",
       "<table border=\"1\" class=\"dataframe\">\n",
       "  <thead>\n",
       "    <tr>\n",
       "      <th></th>\n",
       "      <th colspan=\"2\" halign=\"left\">All</th>\n",
       "      <th colspan=\"2\" halign=\"left\">In VOC</th>\n",
       "      <th colspan=\"2\" halign=\"left\">Out of VOC</th>\n",
       "    </tr>\n",
       "    <tr>\n",
       "      <th></th>\n",
       "      <th>f1 micro</th>\n",
       "      <th>f1 macro</th>\n",
       "      <th>f1 micro</th>\n",
       "      <th>f1 macro</th>\n",
       "      <th>f1 micro</th>\n",
       "      <th>f1 macro</th>\n",
       "    </tr>\n",
       "  </thead>\n",
       "  <tbody>\n",
       "    <tr>\n",
       "      <th>0</th>\n",
       "      <td>0.767362</td>\n",
       "      <td>0.300727</td>\n",
       "      <td>0.803228</td>\n",
       "      <td>0.392967</td>\n",
       "      <td>0.103093</td>\n",
       "      <td>0.06596</td>\n",
       "    </tr>\n",
       "  </tbody>\n",
       "</table>\n",
       "</div>"
      ],
      "text/plain": [
       "        All              In VOC           Out of VOC         \n",
       "   f1 micro  f1 macro  f1 micro  f1 macro   f1 micro f1 macro\n",
       "0  0.767362  0.300727  0.803228  0.392967   0.103093  0.06596"
      ]
     },
     "metadata": {},
     "output_type": "display_data"
    },
    {
     "name": "stderr",
     "output_type": "stream",
     "text": [
      "Epoch 20: 100%|██████████| 508/508 [00:44<00:00, 11.50batch/s, loss_decrease=1.0000016946417498]\n",
      "100%|██████████| 3787/3787 [00:41<00:00, 91.17batch/s]\n"
     ]
    },
    {
     "data": {
      "text/html": [
       "<div>\n",
       "<style scoped>\n",
       "    .dataframe tbody tr th:only-of-type {\n",
       "        vertical-align: middle;\n",
       "    }\n",
       "\n",
       "    .dataframe tbody tr th {\n",
       "        vertical-align: top;\n",
       "    }\n",
       "\n",
       "    .dataframe thead tr th {\n",
       "        text-align: left;\n",
       "    }\n",
       "</style>\n",
       "<table border=\"1\" class=\"dataframe\">\n",
       "  <thead>\n",
       "    <tr>\n",
       "      <th></th>\n",
       "      <th colspan=\"2\" halign=\"left\">All</th>\n",
       "      <th colspan=\"2\" halign=\"left\">In VOC</th>\n",
       "      <th colspan=\"2\" halign=\"left\">Out of VOC</th>\n",
       "    </tr>\n",
       "    <tr>\n",
       "      <th></th>\n",
       "      <th>f1 micro</th>\n",
       "      <th>f1 macro</th>\n",
       "      <th>f1 micro</th>\n",
       "      <th>f1 macro</th>\n",
       "      <th>f1 micro</th>\n",
       "      <th>f1 macro</th>\n",
       "    </tr>\n",
       "  </thead>\n",
       "  <tbody>\n",
       "    <tr>\n",
       "      <th>0</th>\n",
       "      <td>0.767098</td>\n",
       "      <td>0.298482</td>\n",
       "      <td>0.803507</td>\n",
       "      <td>0.391808</td>\n",
       "      <td>0.092784</td>\n",
       "      <td>0.059649</td>\n",
       "    </tr>\n",
       "  </tbody>\n",
       "</table>\n",
       "</div>"
      ],
      "text/plain": [
       "        All              In VOC           Out of VOC          \n",
       "   f1 micro  f1 macro  f1 micro  f1 macro   f1 micro  f1 macro\n",
       "0  0.767098  0.298482  0.803507  0.391808   0.092784  0.059649"
      ]
     },
     "metadata": {},
     "output_type": "display_data"
    },
    {
     "name": "stderr",
     "output_type": "stream",
     "text": [
      "Epoch 21: 100%|██████████| 508/508 [00:46<00:00, 10.90batch/s, loss_decrease=1.0000016946417498]\n",
      "100%|██████████| 3787/3787 [00:48<00:00, 77.66batch/s]\n"
     ]
    },
    {
     "data": {
      "text/html": [
       "<div>\n",
       "<style scoped>\n",
       "    .dataframe tbody tr th:only-of-type {\n",
       "        vertical-align: middle;\n",
       "    }\n",
       "\n",
       "    .dataframe tbody tr th {\n",
       "        vertical-align: top;\n",
       "    }\n",
       "\n",
       "    .dataframe thead tr th {\n",
       "        text-align: left;\n",
       "    }\n",
       "</style>\n",
       "<table border=\"1\" class=\"dataframe\">\n",
       "  <thead>\n",
       "    <tr>\n",
       "      <th></th>\n",
       "      <th colspan=\"2\" halign=\"left\">All</th>\n",
       "      <th colspan=\"2\" halign=\"left\">In VOC</th>\n",
       "      <th colspan=\"2\" halign=\"left\">Out of VOC</th>\n",
       "    </tr>\n",
       "    <tr>\n",
       "      <th></th>\n",
       "      <th>f1 micro</th>\n",
       "      <th>f1 macro</th>\n",
       "      <th>f1 micro</th>\n",
       "      <th>f1 macro</th>\n",
       "      <th>f1 micro</th>\n",
       "      <th>f1 macro</th>\n",
       "    </tr>\n",
       "  </thead>\n",
       "  <tbody>\n",
       "    <tr>\n",
       "      <th>0</th>\n",
       "      <td>0.76657</td>\n",
       "      <td>0.303764</td>\n",
       "      <td>0.802394</td>\n",
       "      <td>0.400904</td>\n",
       "      <td>0.103093</td>\n",
       "      <td>0.067488</td>\n",
       "    </tr>\n",
       "  </tbody>\n",
       "</table>\n",
       "</div>"
      ],
      "text/plain": [
       "       All              In VOC           Out of VOC          \n",
       "  f1 micro  f1 macro  f1 micro  f1 macro   f1 micro  f1 macro\n",
       "0  0.76657  0.303764  0.802394  0.400904   0.103093  0.067488"
      ]
     },
     "metadata": {},
     "output_type": "display_data"
    },
    {
     "name": "stderr",
     "output_type": "stream",
     "text": [
      "Epoch 22: 100%|██████████| 508/508 [00:45<00:00, 11.06batch/s, loss_decrease=1.0000016946417498]\n",
      "100%|██████████| 3787/3787 [00:41<00:00, 90.91batch/s]\n"
     ]
    },
    {
     "data": {
      "text/html": [
       "<div>\n",
       "<style scoped>\n",
       "    .dataframe tbody tr th:only-of-type {\n",
       "        vertical-align: middle;\n",
       "    }\n",
       "\n",
       "    .dataframe tbody tr th {\n",
       "        vertical-align: top;\n",
       "    }\n",
       "\n",
       "    .dataframe thead tr th {\n",
       "        text-align: left;\n",
       "    }\n",
       "</style>\n",
       "<table border=\"1\" class=\"dataframe\">\n",
       "  <thead>\n",
       "    <tr>\n",
       "      <th></th>\n",
       "      <th colspan=\"2\" halign=\"left\">All</th>\n",
       "      <th colspan=\"2\" halign=\"left\">In VOC</th>\n",
       "      <th colspan=\"2\" halign=\"left\">Out of VOC</th>\n",
       "    </tr>\n",
       "    <tr>\n",
       "      <th></th>\n",
       "      <th>f1 micro</th>\n",
       "      <th>f1 macro</th>\n",
       "      <th>f1 micro</th>\n",
       "      <th>f1 macro</th>\n",
       "      <th>f1 micro</th>\n",
       "      <th>f1 macro</th>\n",
       "    </tr>\n",
       "  </thead>\n",
       "  <tbody>\n",
       "    <tr>\n",
       "      <th>0</th>\n",
       "      <td>0.767626</td>\n",
       "      <td>0.308106</td>\n",
       "      <td>0.804063</td>\n",
       "      <td>0.408871</td>\n",
       "      <td>0.092784</td>\n",
       "      <td>0.058685</td>\n",
       "    </tr>\n",
       "  </tbody>\n",
       "</table>\n",
       "</div>"
      ],
      "text/plain": [
       "        All              In VOC           Out of VOC          \n",
       "   f1 micro  f1 macro  f1 micro  f1 macro   f1 micro  f1 macro\n",
       "0  0.767626  0.308106  0.804063  0.408871   0.092784  0.058685"
      ]
     },
     "metadata": {},
     "output_type": "display_data"
    },
    {
     "name": "stderr",
     "output_type": "stream",
     "text": [
      "Epoch 23: 100%|██████████| 508/508 [00:46<00:00, 11.00batch/s, loss_decrease=1.0000016946417498]\n",
      "100%|██████████| 3787/3787 [00:41<00:00, 92.32batch/s]\n"
     ]
    },
    {
     "data": {
      "text/html": [
       "<div>\n",
       "<style scoped>\n",
       "    .dataframe tbody tr th:only-of-type {\n",
       "        vertical-align: middle;\n",
       "    }\n",
       "\n",
       "    .dataframe tbody tr th {\n",
       "        vertical-align: top;\n",
       "    }\n",
       "\n",
       "    .dataframe thead tr th {\n",
       "        text-align: left;\n",
       "    }\n",
       "</style>\n",
       "<table border=\"1\" class=\"dataframe\">\n",
       "  <thead>\n",
       "    <tr>\n",
       "      <th></th>\n",
       "      <th colspan=\"2\" halign=\"left\">All</th>\n",
       "      <th colspan=\"2\" halign=\"left\">In VOC</th>\n",
       "      <th colspan=\"2\" halign=\"left\">Out of VOC</th>\n",
       "    </tr>\n",
       "    <tr>\n",
       "      <th></th>\n",
       "      <th>f1 micro</th>\n",
       "      <th>f1 macro</th>\n",
       "      <th>f1 micro</th>\n",
       "      <th>f1 macro</th>\n",
       "      <th>f1 micro</th>\n",
       "      <th>f1 macro</th>\n",
       "    </tr>\n",
       "  </thead>\n",
       "  <tbody>\n",
       "    <tr>\n",
       "      <th>0</th>\n",
       "      <td>0.764457</td>\n",
       "      <td>0.293941</td>\n",
       "      <td>0.800724</td>\n",
       "      <td>0.389938</td>\n",
       "      <td>0.092784</td>\n",
       "      <td>0.056537</td>\n",
       "    </tr>\n",
       "  </tbody>\n",
       "</table>\n",
       "</div>"
      ],
      "text/plain": [
       "        All              In VOC           Out of VOC          \n",
       "   f1 micro  f1 macro  f1 micro  f1 macro   f1 micro  f1 macro\n",
       "0  0.764457  0.293941  0.800724  0.389938   0.092784  0.056537"
      ]
     },
     "metadata": {},
     "output_type": "display_data"
    },
    {
     "name": "stderr",
     "output_type": "stream",
     "text": [
      "Epoch 24: 100%|██████████| 508/508 [00:45<00:00, 11.06batch/s, loss_decrease=1.0000016004948353]\n",
      "100%|██████████| 3787/3787 [00:41<00:00, 90.26batch/s]\n"
     ]
    },
    {
     "data": {
      "text/html": [
       "<div>\n",
       "<style scoped>\n",
       "    .dataframe tbody tr th:only-of-type {\n",
       "        vertical-align: middle;\n",
       "    }\n",
       "\n",
       "    .dataframe tbody tr th {\n",
       "        vertical-align: top;\n",
       "    }\n",
       "\n",
       "    .dataframe thead tr th {\n",
       "        text-align: left;\n",
       "    }\n",
       "</style>\n",
       "<table border=\"1\" class=\"dataframe\">\n",
       "  <thead>\n",
       "    <tr>\n",
       "      <th></th>\n",
       "      <th colspan=\"2\" halign=\"left\">All</th>\n",
       "      <th colspan=\"2\" halign=\"left\">In VOC</th>\n",
       "      <th colspan=\"2\" halign=\"left\">Out of VOC</th>\n",
       "    </tr>\n",
       "    <tr>\n",
       "      <th></th>\n",
       "      <th>f1 micro</th>\n",
       "      <th>f1 macro</th>\n",
       "      <th>f1 micro</th>\n",
       "      <th>f1 macro</th>\n",
       "      <th>f1 micro</th>\n",
       "      <th>f1 macro</th>\n",
       "    </tr>\n",
       "  </thead>\n",
       "  <tbody>\n",
       "    <tr>\n",
       "      <th>0</th>\n",
       "      <td>0.763137</td>\n",
       "      <td>0.303615</td>\n",
       "      <td>0.799332</td>\n",
       "      <td>0.402271</td>\n",
       "      <td>0.092784</td>\n",
       "      <td>0.058333</td>\n",
       "    </tr>\n",
       "  </tbody>\n",
       "</table>\n",
       "</div>"
      ],
      "text/plain": [
       "        All              In VOC           Out of VOC          \n",
       "   f1 micro  f1 macro  f1 micro  f1 macro   f1 micro  f1 macro\n",
       "0  0.763137  0.303615  0.799332  0.402271   0.092784  0.058333"
      ]
     },
     "metadata": {},
     "output_type": "display_data"
    },
    {
     "name": "stderr",
     "output_type": "stream",
     "text": [
      "Epoch 25: 100%|██████████| 508/508 [00:46<00:00, 10.89batch/s, loss_decrease=1.0000016946417498]\n",
      "100%|██████████| 3787/3787 [00:41<00:00, 90.42batch/s]\n"
     ]
    },
    {
     "data": {
      "text/html": [
       "<div>\n",
       "<style scoped>\n",
       "    .dataframe tbody tr th:only-of-type {\n",
       "        vertical-align: middle;\n",
       "    }\n",
       "\n",
       "    .dataframe tbody tr th {\n",
       "        vertical-align: top;\n",
       "    }\n",
       "\n",
       "    .dataframe thead tr th {\n",
       "        text-align: left;\n",
       "    }\n",
       "</style>\n",
       "<table border=\"1\" class=\"dataframe\">\n",
       "  <thead>\n",
       "    <tr>\n",
       "      <th></th>\n",
       "      <th colspan=\"2\" halign=\"left\">All</th>\n",
       "      <th colspan=\"2\" halign=\"left\">In VOC</th>\n",
       "      <th colspan=\"2\" halign=\"left\">Out of VOC</th>\n",
       "    </tr>\n",
       "    <tr>\n",
       "      <th></th>\n",
       "      <th>f1 micro</th>\n",
       "      <th>f1 macro</th>\n",
       "      <th>f1 micro</th>\n",
       "      <th>f1 macro</th>\n",
       "      <th>f1 micro</th>\n",
       "      <th>f1 macro</th>\n",
       "    </tr>\n",
       "  </thead>\n",
       "  <tbody>\n",
       "    <tr>\n",
       "      <th>0</th>\n",
       "      <td>0.763401</td>\n",
       "      <td>0.293437</td>\n",
       "      <td>0.800445</td>\n",
       "      <td>0.390248</td>\n",
       "      <td>0.07732</td>\n",
       "      <td>0.049883</td>\n",
       "    </tr>\n",
       "  </tbody>\n",
       "</table>\n",
       "</div>"
      ],
      "text/plain": [
       "        All              In VOC           Out of VOC          \n",
       "   f1 micro  f1 macro  f1 micro  f1 macro   f1 micro  f1 macro\n",
       "0  0.763401  0.293437  0.800445  0.390248    0.07732  0.049883"
      ]
     },
     "metadata": {},
     "output_type": "display_data"
    },
    {
     "name": "stderr",
     "output_type": "stream",
     "text": [
      "Epoch 26: 100%|██████████| 508/508 [00:44<00:00, 11.46batch/s, loss_decrease=1.0000016946417498]\n",
      "100%|██████████| 3787/3787 [00:40<00:00, 93.21batch/s]\n"
     ]
    },
    {
     "data": {
      "text/html": [
       "<div>\n",
       "<style scoped>\n",
       "    .dataframe tbody tr th:only-of-type {\n",
       "        vertical-align: middle;\n",
       "    }\n",
       "\n",
       "    .dataframe tbody tr th {\n",
       "        vertical-align: top;\n",
       "    }\n",
       "\n",
       "    .dataframe thead tr th {\n",
       "        text-align: left;\n",
       "    }\n",
       "</style>\n",
       "<table border=\"1\" class=\"dataframe\">\n",
       "  <thead>\n",
       "    <tr>\n",
       "      <th></th>\n",
       "      <th colspan=\"2\" halign=\"left\">All</th>\n",
       "      <th colspan=\"2\" halign=\"left\">In VOC</th>\n",
       "      <th colspan=\"2\" halign=\"left\">Out of VOC</th>\n",
       "    </tr>\n",
       "    <tr>\n",
       "      <th></th>\n",
       "      <th>f1 micro</th>\n",
       "      <th>f1 macro</th>\n",
       "      <th>f1 micro</th>\n",
       "      <th>f1 macro</th>\n",
       "      <th>f1 micro</th>\n",
       "      <th>f1 macro</th>\n",
       "    </tr>\n",
       "  </thead>\n",
       "  <tbody>\n",
       "    <tr>\n",
       "      <th>0</th>\n",
       "      <td>0.770531</td>\n",
       "      <td>0.301965</td>\n",
       "      <td>0.80796</td>\n",
       "      <td>0.40459</td>\n",
       "      <td>0.07732</td>\n",
       "      <td>0.049361</td>\n",
       "    </tr>\n",
       "  </tbody>\n",
       "</table>\n",
       "</div>"
      ],
      "text/plain": [
       "        All             In VOC          Out of VOC          \n",
       "   f1 micro  f1 macro f1 micro f1 macro   f1 micro  f1 macro\n",
       "0  0.770531  0.301965  0.80796  0.40459    0.07732  0.049361"
      ]
     },
     "metadata": {},
     "output_type": "display_data"
    },
    {
     "name": "stderr",
     "output_type": "stream",
     "text": [
      "Epoch 27: 100%|██████████| 508/508 [00:45<00:00, 11.16batch/s, loss_decrease=1.0000016946417498]\n",
      "100%|██████████| 3787/3787 [00:41<00:00, 92.34batch/s]\n"
     ]
    },
    {
     "data": {
      "text/html": [
       "<div>\n",
       "<style scoped>\n",
       "    .dataframe tbody tr th:only-of-type {\n",
       "        vertical-align: middle;\n",
       "    }\n",
       "\n",
       "    .dataframe tbody tr th {\n",
       "        vertical-align: top;\n",
       "    }\n",
       "\n",
       "    .dataframe thead tr th {\n",
       "        text-align: left;\n",
       "    }\n",
       "</style>\n",
       "<table border=\"1\" class=\"dataframe\">\n",
       "  <thead>\n",
       "    <tr>\n",
       "      <th></th>\n",
       "      <th colspan=\"2\" halign=\"left\">All</th>\n",
       "      <th colspan=\"2\" halign=\"left\">In VOC</th>\n",
       "      <th colspan=\"2\" halign=\"left\">Out of VOC</th>\n",
       "    </tr>\n",
       "    <tr>\n",
       "      <th></th>\n",
       "      <th>f1 micro</th>\n",
       "      <th>f1 macro</th>\n",
       "      <th>f1 micro</th>\n",
       "      <th>f1 macro</th>\n",
       "      <th>f1 micro</th>\n",
       "      <th>f1 macro</th>\n",
       "    </tr>\n",
       "  </thead>\n",
       "  <tbody>\n",
       "    <tr>\n",
       "      <th>0</th>\n",
       "      <td>0.772379</td>\n",
       "      <td>0.306227</td>\n",
       "      <td>0.809073</td>\n",
       "      <td>0.405598</td>\n",
       "      <td>0.092784</td>\n",
       "      <td>0.056346</td>\n",
       "    </tr>\n",
       "  </tbody>\n",
       "</table>\n",
       "</div>"
      ],
      "text/plain": [
       "        All              In VOC           Out of VOC          \n",
       "   f1 micro  f1 macro  f1 micro  f1 macro   f1 micro  f1 macro\n",
       "0  0.772379  0.306227  0.809073  0.405598   0.092784  0.056346"
      ]
     },
     "metadata": {},
     "output_type": "display_data"
    },
    {
     "name": "stderr",
     "output_type": "stream",
     "text": [
      "Epoch 28: 100%|██████████| 508/508 [00:45<00:00, 11.25batch/s, loss_decrease=1.0000016004948353]\n",
      "100%|██████████| 3787/3787 [00:41<00:00, 92.24batch/s]\n"
     ]
    },
    {
     "data": {
      "text/html": [
       "<div>\n",
       "<style scoped>\n",
       "    .dataframe tbody tr th:only-of-type {\n",
       "        vertical-align: middle;\n",
       "    }\n",
       "\n",
       "    .dataframe tbody tr th {\n",
       "        vertical-align: top;\n",
       "    }\n",
       "\n",
       "    .dataframe thead tr th {\n",
       "        text-align: left;\n",
       "    }\n",
       "</style>\n",
       "<table border=\"1\" class=\"dataframe\">\n",
       "  <thead>\n",
       "    <tr>\n",
       "      <th></th>\n",
       "      <th colspan=\"2\" halign=\"left\">All</th>\n",
       "      <th colspan=\"2\" halign=\"left\">In VOC</th>\n",
       "      <th colspan=\"2\" halign=\"left\">Out of VOC</th>\n",
       "    </tr>\n",
       "    <tr>\n",
       "      <th></th>\n",
       "      <th>f1 micro</th>\n",
       "      <th>f1 macro</th>\n",
       "      <th>f1 micro</th>\n",
       "      <th>f1 macro</th>\n",
       "      <th>f1 micro</th>\n",
       "      <th>f1 macro</th>\n",
       "    </tr>\n",
       "  </thead>\n",
       "  <tbody>\n",
       "    <tr>\n",
       "      <th>0</th>\n",
       "      <td>0.772115</td>\n",
       "      <td>0.315178</td>\n",
       "      <td>0.808238</td>\n",
       "      <td>0.415513</td>\n",
       "      <td>0.103093</td>\n",
       "      <td>0.066061</td>\n",
       "    </tr>\n",
       "  </tbody>\n",
       "</table>\n",
       "</div>"
      ],
      "text/plain": [
       "        All              In VOC           Out of VOC          \n",
       "   f1 micro  f1 macro  f1 micro  f1 macro   f1 micro  f1 macro\n",
       "0  0.772115  0.315178  0.808238  0.415513   0.103093  0.066061"
      ]
     },
     "metadata": {},
     "output_type": "display_data"
    },
    {
     "name": "stderr",
     "output_type": "stream",
     "text": [
      "Epoch 29: 100%|██████████| 508/508 [00:44<00:00, 11.42batch/s, loss_decrease=1.0000016946417498]\n",
      "100%|██████████| 3787/3787 [00:40<00:00, 92.42batch/s]\n"
     ]
    },
    {
     "data": {
      "text/html": [
       "<div>\n",
       "<style scoped>\n",
       "    .dataframe tbody tr th:only-of-type {\n",
       "        vertical-align: middle;\n",
       "    }\n",
       "\n",
       "    .dataframe tbody tr th {\n",
       "        vertical-align: top;\n",
       "    }\n",
       "\n",
       "    .dataframe thead tr th {\n",
       "        text-align: left;\n",
       "    }\n",
       "</style>\n",
       "<table border=\"1\" class=\"dataframe\">\n",
       "  <thead>\n",
       "    <tr>\n",
       "      <th></th>\n",
       "      <th colspan=\"2\" halign=\"left\">All</th>\n",
       "      <th colspan=\"2\" halign=\"left\">In VOC</th>\n",
       "      <th colspan=\"2\" halign=\"left\">Out of VOC</th>\n",
       "    </tr>\n",
       "    <tr>\n",
       "      <th></th>\n",
       "      <th>f1 micro</th>\n",
       "      <th>f1 macro</th>\n",
       "      <th>f1 micro</th>\n",
       "      <th>f1 macro</th>\n",
       "      <th>f1 micro</th>\n",
       "      <th>f1 macro</th>\n",
       "    </tr>\n",
       "  </thead>\n",
       "  <tbody>\n",
       "    <tr>\n",
       "      <th>0</th>\n",
       "      <td>0.768946</td>\n",
       "      <td>0.308963</td>\n",
       "      <td>0.806012</td>\n",
       "      <td>0.410626</td>\n",
       "      <td>0.082474</td>\n",
       "      <td>0.053592</td>\n",
       "    </tr>\n",
       "  </tbody>\n",
       "</table>\n",
       "</div>"
      ],
      "text/plain": [
       "        All              In VOC           Out of VOC          \n",
       "   f1 micro  f1 macro  f1 micro  f1 macro   f1 micro  f1 macro\n",
       "0  0.768946  0.308963  0.806012  0.410626   0.082474  0.053592"
      ]
     },
     "metadata": {},
     "output_type": "display_data"
    },
    {
     "name": "stderr",
     "output_type": "stream",
     "text": [
      "Epoch 30: 100%|██████████| 508/508 [00:46<00:00, 10.89batch/s, loss_decrease=1.0000017887886823]\n",
      "100%|██████████| 3787/3787 [00:42<00:00, 90.07batch/s]\n"
     ]
    },
    {
     "data": {
      "text/html": [
       "<div>\n",
       "<style scoped>\n",
       "    .dataframe tbody tr th:only-of-type {\n",
       "        vertical-align: middle;\n",
       "    }\n",
       "\n",
       "    .dataframe tbody tr th {\n",
       "        vertical-align: top;\n",
       "    }\n",
       "\n",
       "    .dataframe thead tr th {\n",
       "        text-align: left;\n",
       "    }\n",
       "</style>\n",
       "<table border=\"1\" class=\"dataframe\">\n",
       "  <thead>\n",
       "    <tr>\n",
       "      <th></th>\n",
       "      <th colspan=\"2\" halign=\"left\">All</th>\n",
       "      <th colspan=\"2\" halign=\"left\">In VOC</th>\n",
       "      <th colspan=\"2\" halign=\"left\">Out of VOC</th>\n",
       "    </tr>\n",
       "    <tr>\n",
       "      <th></th>\n",
       "      <th>f1 micro</th>\n",
       "      <th>f1 macro</th>\n",
       "      <th>f1 micro</th>\n",
       "      <th>f1 macro</th>\n",
       "      <th>f1 micro</th>\n",
       "      <th>f1 macro</th>\n",
       "    </tr>\n",
       "  </thead>\n",
       "  <tbody>\n",
       "    <tr>\n",
       "      <th>0</th>\n",
       "      <td>0.770531</td>\n",
       "      <td>0.306657</td>\n",
       "      <td>0.807125</td>\n",
       "      <td>0.406233</td>\n",
       "      <td>0.092784</td>\n",
       "      <td>0.057126</td>\n",
       "    </tr>\n",
       "  </tbody>\n",
       "</table>\n",
       "</div>"
      ],
      "text/plain": [
       "        All              In VOC           Out of VOC          \n",
       "   f1 micro  f1 macro  f1 micro  f1 macro   f1 micro  f1 macro\n",
       "0  0.770531  0.306657  0.807125  0.406233   0.092784  0.057126"
      ]
     },
     "metadata": {},
     "output_type": "display_data"
    },
    {
     "name": "stderr",
     "output_type": "stream",
     "text": [
      "Epoch 31: 100%|██████████| 508/508 [00:43<00:00, 11.66batch/s, loss_decrease=1.0000016946417498]\n",
      "100%|██████████| 3787/3787 [00:40<00:00, 92.75batch/s]\n"
     ]
    },
    {
     "data": {
      "text/html": [
       "<div>\n",
       "<style scoped>\n",
       "    .dataframe tbody tr th:only-of-type {\n",
       "        vertical-align: middle;\n",
       "    }\n",
       "\n",
       "    .dataframe tbody tr th {\n",
       "        vertical-align: top;\n",
       "    }\n",
       "\n",
       "    .dataframe thead tr th {\n",
       "        text-align: left;\n",
       "    }\n",
       "</style>\n",
       "<table border=\"1\" class=\"dataframe\">\n",
       "  <thead>\n",
       "    <tr>\n",
       "      <th></th>\n",
       "      <th colspan=\"2\" halign=\"left\">All</th>\n",
       "      <th colspan=\"2\" halign=\"left\">In VOC</th>\n",
       "      <th colspan=\"2\" halign=\"left\">Out of VOC</th>\n",
       "    </tr>\n",
       "    <tr>\n",
       "      <th></th>\n",
       "      <th>f1 micro</th>\n",
       "      <th>f1 macro</th>\n",
       "      <th>f1 micro</th>\n",
       "      <th>f1 macro</th>\n",
       "      <th>f1 micro</th>\n",
       "      <th>f1 macro</th>\n",
       "    </tr>\n",
       "  </thead>\n",
       "  <tbody>\n",
       "    <tr>\n",
       "      <th>0</th>\n",
       "      <td>0.76921</td>\n",
       "      <td>0.30977</td>\n",
       "      <td>0.806012</td>\n",
       "      <td>0.407839</td>\n",
       "      <td>0.087629</td>\n",
       "      <td>0.05516</td>\n",
       "    </tr>\n",
       "  </tbody>\n",
       "</table>\n",
       "</div>"
      ],
      "text/plain": [
       "       All             In VOC           Out of VOC         \n",
       "  f1 micro f1 macro  f1 micro  f1 macro   f1 micro f1 macro\n",
       "0  0.76921  0.30977  0.806012  0.407839   0.087629  0.05516"
      ]
     },
     "metadata": {},
     "output_type": "display_data"
    },
    {
     "name": "stderr",
     "output_type": "stream",
     "text": [
      "Epoch 32: 100%|██████████| 508/508 [00:46<00:00, 10.95batch/s, loss_decrease=1.0000017887886823]\n",
      "100%|██████████| 3787/3787 [00:41<00:00, 92.35batch/s]\n"
     ]
    },
    {
     "data": {
      "text/html": [
       "<div>\n",
       "<style scoped>\n",
       "    .dataframe tbody tr th:only-of-type {\n",
       "        vertical-align: middle;\n",
       "    }\n",
       "\n",
       "    .dataframe tbody tr th {\n",
       "        vertical-align: top;\n",
       "    }\n",
       "\n",
       "    .dataframe thead tr th {\n",
       "        text-align: left;\n",
       "    }\n",
       "</style>\n",
       "<table border=\"1\" class=\"dataframe\">\n",
       "  <thead>\n",
       "    <tr>\n",
       "      <th></th>\n",
       "      <th colspan=\"2\" halign=\"left\">All</th>\n",
       "      <th colspan=\"2\" halign=\"left\">In VOC</th>\n",
       "      <th colspan=\"2\" halign=\"left\">Out of VOC</th>\n",
       "    </tr>\n",
       "    <tr>\n",
       "      <th></th>\n",
       "      <th>f1 micro</th>\n",
       "      <th>f1 macro</th>\n",
       "      <th>f1 micro</th>\n",
       "      <th>f1 macro</th>\n",
       "      <th>f1 micro</th>\n",
       "      <th>f1 macro</th>\n",
       "    </tr>\n",
       "  </thead>\n",
       "  <tbody>\n",
       "    <tr>\n",
       "      <th>0</th>\n",
       "      <td>0.771587</td>\n",
       "      <td>0.307608</td>\n",
       "      <td>0.809073</td>\n",
       "      <td>0.410028</td>\n",
       "      <td>0.07732</td>\n",
       "      <td>0.052569</td>\n",
       "    </tr>\n",
       "  </tbody>\n",
       "</table>\n",
       "</div>"
      ],
      "text/plain": [
       "        All              In VOC           Out of VOC          \n",
       "   f1 micro  f1 macro  f1 micro  f1 macro   f1 micro  f1 macro\n",
       "0  0.771587  0.307608  0.809073  0.410028    0.07732  0.052569"
      ]
     },
     "metadata": {},
     "output_type": "display_data"
    },
    {
     "name": "stderr",
     "output_type": "stream",
     "text": [
      "Epoch 33: 100%|██████████| 508/508 [00:45<00:00, 11.19batch/s, loss_decrease=1.0000017887886823]\n",
      "100%|██████████| 3787/3787 [00:41<00:00, 91.77batch/s]\n"
     ]
    },
    {
     "data": {
      "text/html": [
       "<div>\n",
       "<style scoped>\n",
       "    .dataframe tbody tr th:only-of-type {\n",
       "        vertical-align: middle;\n",
       "    }\n",
       "\n",
       "    .dataframe tbody tr th {\n",
       "        vertical-align: top;\n",
       "    }\n",
       "\n",
       "    .dataframe thead tr th {\n",
       "        text-align: left;\n",
       "    }\n",
       "</style>\n",
       "<table border=\"1\" class=\"dataframe\">\n",
       "  <thead>\n",
       "    <tr>\n",
       "      <th></th>\n",
       "      <th colspan=\"2\" halign=\"left\">All</th>\n",
       "      <th colspan=\"2\" halign=\"left\">In VOC</th>\n",
       "      <th colspan=\"2\" halign=\"left\">Out of VOC</th>\n",
       "    </tr>\n",
       "    <tr>\n",
       "      <th></th>\n",
       "      <th>f1 micro</th>\n",
       "      <th>f1 macro</th>\n",
       "      <th>f1 micro</th>\n",
       "      <th>f1 macro</th>\n",
       "      <th>f1 micro</th>\n",
       "      <th>f1 macro</th>\n",
       "    </tr>\n",
       "  </thead>\n",
       "  <tbody>\n",
       "    <tr>\n",
       "      <th>0</th>\n",
       "      <td>0.770267</td>\n",
       "      <td>0.307808</td>\n",
       "      <td>0.807403</td>\n",
       "      <td>0.411021</td>\n",
       "      <td>0.082474</td>\n",
       "      <td>0.053974</td>\n",
       "    </tr>\n",
       "  </tbody>\n",
       "</table>\n",
       "</div>"
      ],
      "text/plain": [
       "        All              In VOC           Out of VOC          \n",
       "   f1 micro  f1 macro  f1 micro  f1 macro   f1 micro  f1 macro\n",
       "0  0.770267  0.307808  0.807403  0.411021   0.082474  0.053974"
      ]
     },
     "metadata": {},
     "output_type": "display_data"
    },
    {
     "name": "stderr",
     "output_type": "stream",
     "text": [
      "Epoch 34: 100%|██████████| 508/508 [00:46<00:00, 10.88batch/s, loss_decrease=1.0000017887886823]\n",
      "100%|██████████| 3787/3787 [00:42<00:00, 89.64batch/s]\n"
     ]
    },
    {
     "data": {
      "text/html": [
       "<div>\n",
       "<style scoped>\n",
       "    .dataframe tbody tr th:only-of-type {\n",
       "        vertical-align: middle;\n",
       "    }\n",
       "\n",
       "    .dataframe tbody tr th {\n",
       "        vertical-align: top;\n",
       "    }\n",
       "\n",
       "    .dataframe thead tr th {\n",
       "        text-align: left;\n",
       "    }\n",
       "</style>\n",
       "<table border=\"1\" class=\"dataframe\">\n",
       "  <thead>\n",
       "    <tr>\n",
       "      <th></th>\n",
       "      <th colspan=\"2\" halign=\"left\">All</th>\n",
       "      <th colspan=\"2\" halign=\"left\">In VOC</th>\n",
       "      <th colspan=\"2\" halign=\"left\">Out of VOC</th>\n",
       "    </tr>\n",
       "    <tr>\n",
       "      <th></th>\n",
       "      <th>f1 micro</th>\n",
       "      <th>f1 macro</th>\n",
       "      <th>f1 micro</th>\n",
       "      <th>f1 macro</th>\n",
       "      <th>f1 micro</th>\n",
       "      <th>f1 macro</th>\n",
       "    </tr>\n",
       "  </thead>\n",
       "  <tbody>\n",
       "    <tr>\n",
       "      <th>0</th>\n",
       "      <td>0.768682</td>\n",
       "      <td>0.307351</td>\n",
       "      <td>0.806012</td>\n",
       "      <td>0.410443</td>\n",
       "      <td>0.07732</td>\n",
       "      <td>0.051786</td>\n",
       "    </tr>\n",
       "  </tbody>\n",
       "</table>\n",
       "</div>"
      ],
      "text/plain": [
       "        All              In VOC           Out of VOC          \n",
       "   f1 micro  f1 macro  f1 micro  f1 macro   f1 micro  f1 macro\n",
       "0  0.768682  0.307351  0.806012  0.410443    0.07732  0.051786"
      ]
     },
     "metadata": {},
     "output_type": "display_data"
    },
    {
     "name": "stderr",
     "output_type": "stream",
     "text": [
      "Epoch 35: 100%|██████████| 508/508 [00:45<00:00, 11.21batch/s, loss_decrease=1.0000017887886823]\n",
      "100%|██████████| 3787/3787 [00:42<00:00, 89.10batch/s]\n"
     ]
    },
    {
     "data": {
      "text/html": [
       "<div>\n",
       "<style scoped>\n",
       "    .dataframe tbody tr th:only-of-type {\n",
       "        vertical-align: middle;\n",
       "    }\n",
       "\n",
       "    .dataframe tbody tr th {\n",
       "        vertical-align: top;\n",
       "    }\n",
       "\n",
       "    .dataframe thead tr th {\n",
       "        text-align: left;\n",
       "    }\n",
       "</style>\n",
       "<table border=\"1\" class=\"dataframe\">\n",
       "  <thead>\n",
       "    <tr>\n",
       "      <th></th>\n",
       "      <th colspan=\"2\" halign=\"left\">All</th>\n",
       "      <th colspan=\"2\" halign=\"left\">In VOC</th>\n",
       "      <th colspan=\"2\" halign=\"left\">Out of VOC</th>\n",
       "    </tr>\n",
       "    <tr>\n",
       "      <th></th>\n",
       "      <th>f1 micro</th>\n",
       "      <th>f1 macro</th>\n",
       "      <th>f1 micro</th>\n",
       "      <th>f1 macro</th>\n",
       "      <th>f1 micro</th>\n",
       "      <th>f1 macro</th>\n",
       "    </tr>\n",
       "  </thead>\n",
       "  <tbody>\n",
       "    <tr>\n",
       "      <th>0</th>\n",
       "      <td>0.772907</td>\n",
       "      <td>0.312236</td>\n",
       "      <td>0.80963</td>\n",
       "      <td>0.420218</td>\n",
       "      <td>0.092784</td>\n",
       "      <td>0.057738</td>\n",
       "    </tr>\n",
       "  </tbody>\n",
       "</table>\n",
       "</div>"
      ],
      "text/plain": [
       "        All             In VOC           Out of VOC          \n",
       "   f1 micro  f1 macro f1 micro  f1 macro   f1 micro  f1 macro\n",
       "0  0.772907  0.312236  0.80963  0.420218   0.092784  0.057738"
      ]
     },
     "metadata": {},
     "output_type": "display_data"
    },
    {
     "name": "stderr",
     "output_type": "stream",
     "text": [
      "Epoch 36: 100%|██████████| 508/508 [00:45<00:00, 11.10batch/s, loss_decrease=1.0000017887886823]\n",
      "100%|██████████| 3787/3787 [00:41<00:00, 90.86batch/s]\n"
     ]
    },
    {
     "data": {
      "text/html": [
       "<div>\n",
       "<style scoped>\n",
       "    .dataframe tbody tr th:only-of-type {\n",
       "        vertical-align: middle;\n",
       "    }\n",
       "\n",
       "    .dataframe tbody tr th {\n",
       "        vertical-align: top;\n",
       "    }\n",
       "\n",
       "    .dataframe thead tr th {\n",
       "        text-align: left;\n",
       "    }\n",
       "</style>\n",
       "<table border=\"1\" class=\"dataframe\">\n",
       "  <thead>\n",
       "    <tr>\n",
       "      <th></th>\n",
       "      <th colspan=\"2\" halign=\"left\">All</th>\n",
       "      <th colspan=\"2\" halign=\"left\">In VOC</th>\n",
       "      <th colspan=\"2\" halign=\"left\">Out of VOC</th>\n",
       "    </tr>\n",
       "    <tr>\n",
       "      <th></th>\n",
       "      <th>f1 micro</th>\n",
       "      <th>f1 macro</th>\n",
       "      <th>f1 micro</th>\n",
       "      <th>f1 macro</th>\n",
       "      <th>f1 micro</th>\n",
       "      <th>f1 macro</th>\n",
       "    </tr>\n",
       "  </thead>\n",
       "  <tbody>\n",
       "    <tr>\n",
       "      <th>0</th>\n",
       "      <td>0.771587</td>\n",
       "      <td>0.311272</td>\n",
       "      <td>0.808238</td>\n",
       "      <td>0.412052</td>\n",
       "      <td>0.092784</td>\n",
       "      <td>0.06131</td>\n",
       "    </tr>\n",
       "  </tbody>\n",
       "</table>\n",
       "</div>"
      ],
      "text/plain": [
       "        All              In VOC           Out of VOC         \n",
       "   f1 micro  f1 macro  f1 micro  f1 macro   f1 micro f1 macro\n",
       "0  0.771587  0.311272  0.808238  0.412052   0.092784  0.06131"
      ]
     },
     "metadata": {},
     "output_type": "display_data"
    },
    {
     "name": "stderr",
     "output_type": "stream",
     "text": [
      "Epoch 37: 100%|██████████| 508/508 [00:48<00:00, 10.49batch/s, loss_decrease=1.0000017887886823]\n",
      "100%|██████████| 3787/3787 [00:42<00:00, 89.73batch/s]\n"
     ]
    },
    {
     "data": {
      "text/html": [
       "<div>\n",
       "<style scoped>\n",
       "    .dataframe tbody tr th:only-of-type {\n",
       "        vertical-align: middle;\n",
       "    }\n",
       "\n",
       "    .dataframe tbody tr th {\n",
       "        vertical-align: top;\n",
       "    }\n",
       "\n",
       "    .dataframe thead tr th {\n",
       "        text-align: left;\n",
       "    }\n",
       "</style>\n",
       "<table border=\"1\" class=\"dataframe\">\n",
       "  <thead>\n",
       "    <tr>\n",
       "      <th></th>\n",
       "      <th colspan=\"2\" halign=\"left\">All</th>\n",
       "      <th colspan=\"2\" halign=\"left\">In VOC</th>\n",
       "      <th colspan=\"2\" halign=\"left\">Out of VOC</th>\n",
       "    </tr>\n",
       "    <tr>\n",
       "      <th></th>\n",
       "      <th>f1 micro</th>\n",
       "      <th>f1 macro</th>\n",
       "      <th>f1 micro</th>\n",
       "      <th>f1 macro</th>\n",
       "      <th>f1 micro</th>\n",
       "      <th>f1 macro</th>\n",
       "    </tr>\n",
       "  </thead>\n",
       "  <tbody>\n",
       "    <tr>\n",
       "      <th>0</th>\n",
       "      <td>0.772907</td>\n",
       "      <td>0.31113</td>\n",
       "      <td>0.810186</td>\n",
       "      <td>0.417848</td>\n",
       "      <td>0.082474</td>\n",
       "      <td>0.053783</td>\n",
       "    </tr>\n",
       "  </tbody>\n",
       "</table>\n",
       "</div>"
      ],
      "text/plain": [
       "        All             In VOC           Out of VOC          \n",
       "   f1 micro f1 macro  f1 micro  f1 macro   f1 micro  f1 macro\n",
       "0  0.772907  0.31113  0.810186  0.417848   0.082474  0.053783"
      ]
     },
     "metadata": {},
     "output_type": "display_data"
    },
    {
     "name": "stderr",
     "output_type": "stream",
     "text": [
      "Epoch 38: 100%|██████████| 508/508 [00:46<00:00, 10.95batch/s, loss_decrease=1.0000018829356323]\n",
      "100%|██████████| 3787/3787 [00:42<00:00, 88.51batch/s]\n"
     ]
    },
    {
     "data": {
      "text/html": [
       "<div>\n",
       "<style scoped>\n",
       "    .dataframe tbody tr th:only-of-type {\n",
       "        vertical-align: middle;\n",
       "    }\n",
       "\n",
       "    .dataframe tbody tr th {\n",
       "        vertical-align: top;\n",
       "    }\n",
       "\n",
       "    .dataframe thead tr th {\n",
       "        text-align: left;\n",
       "    }\n",
       "</style>\n",
       "<table border=\"1\" class=\"dataframe\">\n",
       "  <thead>\n",
       "    <tr>\n",
       "      <th></th>\n",
       "      <th colspan=\"2\" halign=\"left\">All</th>\n",
       "      <th colspan=\"2\" halign=\"left\">In VOC</th>\n",
       "      <th colspan=\"2\" halign=\"left\">Out of VOC</th>\n",
       "    </tr>\n",
       "    <tr>\n",
       "      <th></th>\n",
       "      <th>f1 micro</th>\n",
       "      <th>f1 macro</th>\n",
       "      <th>f1 micro</th>\n",
       "      <th>f1 macro</th>\n",
       "      <th>f1 micro</th>\n",
       "      <th>f1 macro</th>\n",
       "    </tr>\n",
       "  </thead>\n",
       "  <tbody>\n",
       "    <tr>\n",
       "      <th>0</th>\n",
       "      <td>0.772115</td>\n",
       "      <td>0.316636</td>\n",
       "      <td>0.80796</td>\n",
       "      <td>0.415407</td>\n",
       "      <td>0.108247</td>\n",
       "      <td>0.069697</td>\n",
       "    </tr>\n",
       "  </tbody>\n",
       "</table>\n",
       "</div>"
      ],
      "text/plain": [
       "        All             In VOC           Out of VOC          \n",
       "   f1 micro  f1 macro f1 micro  f1 macro   f1 micro  f1 macro\n",
       "0  0.772115  0.316636  0.80796  0.415407   0.108247  0.069697"
      ]
     },
     "metadata": {},
     "output_type": "display_data"
    },
    {
     "name": "stderr",
     "output_type": "stream",
     "text": [
      "Epoch 39: 100%|██████████| 508/508 [00:45<00:00, 11.26batch/s, loss_decrease=1.0000018829356323]\n",
      "100%|██████████| 3787/3787 [00:41<00:00, 90.44batch/s]\n"
     ]
    },
    {
     "data": {
      "text/html": [
       "<div>\n",
       "<style scoped>\n",
       "    .dataframe tbody tr th:only-of-type {\n",
       "        vertical-align: middle;\n",
       "    }\n",
       "\n",
       "    .dataframe tbody tr th {\n",
       "        vertical-align: top;\n",
       "    }\n",
       "\n",
       "    .dataframe thead tr th {\n",
       "        text-align: left;\n",
       "    }\n",
       "</style>\n",
       "<table border=\"1\" class=\"dataframe\">\n",
       "  <thead>\n",
       "    <tr>\n",
       "      <th></th>\n",
       "      <th colspan=\"2\" halign=\"left\">All</th>\n",
       "      <th colspan=\"2\" halign=\"left\">In VOC</th>\n",
       "      <th colspan=\"2\" halign=\"left\">Out of VOC</th>\n",
       "    </tr>\n",
       "    <tr>\n",
       "      <th></th>\n",
       "      <th>f1 micro</th>\n",
       "      <th>f1 macro</th>\n",
       "      <th>f1 micro</th>\n",
       "      <th>f1 macro</th>\n",
       "      <th>f1 micro</th>\n",
       "      <th>f1 macro</th>\n",
       "    </tr>\n",
       "  </thead>\n",
       "  <tbody>\n",
       "    <tr>\n",
       "      <th>0</th>\n",
       "      <td>0.771587</td>\n",
       "      <td>0.310947</td>\n",
       "      <td>0.808517</td>\n",
       "      <td>0.417325</td>\n",
       "      <td>0.087629</td>\n",
       "      <td>0.055357</td>\n",
       "    </tr>\n",
       "  </tbody>\n",
       "</table>\n",
       "</div>"
      ],
      "text/plain": [
       "        All              In VOC           Out of VOC          \n",
       "   f1 micro  f1 macro  f1 micro  f1 macro   f1 micro  f1 macro\n",
       "0  0.771587  0.310947  0.808517  0.417325   0.087629  0.055357"
      ]
     },
     "metadata": {},
     "output_type": "display_data"
    },
    {
     "name": "stderr",
     "output_type": "stream",
     "text": [
      "Epoch 40: 100%|██████████| 508/508 [00:48<00:00, 10.47batch/s, loss_decrease=1.0000016946417498]\n",
      "100%|██████████| 3787/3787 [00:40<00:00, 92.82batch/s]\n"
     ]
    },
    {
     "data": {
      "text/html": [
       "<div>\n",
       "<style scoped>\n",
       "    .dataframe tbody tr th:only-of-type {\n",
       "        vertical-align: middle;\n",
       "    }\n",
       "\n",
       "    .dataframe tbody tr th {\n",
       "        vertical-align: top;\n",
       "    }\n",
       "\n",
       "    .dataframe thead tr th {\n",
       "        text-align: left;\n",
       "    }\n",
       "</style>\n",
       "<table border=\"1\" class=\"dataframe\">\n",
       "  <thead>\n",
       "    <tr>\n",
       "      <th></th>\n",
       "      <th colspan=\"2\" halign=\"left\">All</th>\n",
       "      <th colspan=\"2\" halign=\"left\">In VOC</th>\n",
       "      <th colspan=\"2\" halign=\"left\">Out of VOC</th>\n",
       "    </tr>\n",
       "    <tr>\n",
       "      <th></th>\n",
       "      <th>f1 micro</th>\n",
       "      <th>f1 macro</th>\n",
       "      <th>f1 micro</th>\n",
       "      <th>f1 macro</th>\n",
       "      <th>f1 micro</th>\n",
       "      <th>f1 macro</th>\n",
       "    </tr>\n",
       "  </thead>\n",
       "  <tbody>\n",
       "    <tr>\n",
       "      <th>0</th>\n",
       "      <td>0.773964</td>\n",
       "      <td>0.31881</td>\n",
       "      <td>0.810465</td>\n",
       "      <td>0.419274</td>\n",
       "      <td>0.097938</td>\n",
       "      <td>0.063406</td>\n",
       "    </tr>\n",
       "  </tbody>\n",
       "</table>\n",
       "</div>"
      ],
      "text/plain": [
       "        All             In VOC           Out of VOC          \n",
       "   f1 micro f1 macro  f1 micro  f1 macro   f1 micro  f1 macro\n",
       "0  0.773964  0.31881  0.810465  0.419274   0.097938  0.063406"
      ]
     },
     "metadata": {},
     "output_type": "display_data"
    },
    {
     "name": "stderr",
     "output_type": "stream",
     "text": [
      "Epoch 41: 100%|██████████| 508/508 [00:45<00:00, 11.11batch/s, loss_decrease=1.0000018829356323]\n",
      "100%|██████████| 3787/3787 [00:41<00:00, 90.61batch/s]\n"
     ]
    },
    {
     "data": {
      "text/html": [
       "<div>\n",
       "<style scoped>\n",
       "    .dataframe tbody tr th:only-of-type {\n",
       "        vertical-align: middle;\n",
       "    }\n",
       "\n",
       "    .dataframe tbody tr th {\n",
       "        vertical-align: top;\n",
       "    }\n",
       "\n",
       "    .dataframe thead tr th {\n",
       "        text-align: left;\n",
       "    }\n",
       "</style>\n",
       "<table border=\"1\" class=\"dataframe\">\n",
       "  <thead>\n",
       "    <tr>\n",
       "      <th></th>\n",
       "      <th colspan=\"2\" halign=\"left\">All</th>\n",
       "      <th colspan=\"2\" halign=\"left\">In VOC</th>\n",
       "      <th colspan=\"2\" halign=\"left\">Out of VOC</th>\n",
       "    </tr>\n",
       "    <tr>\n",
       "      <th></th>\n",
       "      <th>f1 micro</th>\n",
       "      <th>f1 macro</th>\n",
       "      <th>f1 micro</th>\n",
       "      <th>f1 macro</th>\n",
       "      <th>f1 micro</th>\n",
       "      <th>f1 macro</th>\n",
       "    </tr>\n",
       "  </thead>\n",
       "  <tbody>\n",
       "    <tr>\n",
       "      <th>0</th>\n",
       "      <td>0.775548</td>\n",
       "      <td>0.319414</td>\n",
       "      <td>0.812413</td>\n",
       "      <td>0.423905</td>\n",
       "      <td>0.092784</td>\n",
       "      <td>0.057738</td>\n",
       "    </tr>\n",
       "  </tbody>\n",
       "</table>\n",
       "</div>"
      ],
      "text/plain": [
       "        All              In VOC           Out of VOC          \n",
       "   f1 micro  f1 macro  f1 micro  f1 macro   f1 micro  f1 macro\n",
       "0  0.775548  0.319414  0.812413  0.423905   0.092784  0.057738"
      ]
     },
     "metadata": {},
     "output_type": "display_data"
    },
    {
     "name": "stderr",
     "output_type": "stream",
     "text": [
      "Epoch 42: 100%|██████████| 508/508 [00:45<00:00, 11.24batch/s, loss_decrease=1.0000017887886823]\n",
      "100%|██████████| 3787/3787 [00:41<00:00, 90.58batch/s]\n"
     ]
    },
    {
     "data": {
      "text/html": [
       "<div>\n",
       "<style scoped>\n",
       "    .dataframe tbody tr th:only-of-type {\n",
       "        vertical-align: middle;\n",
       "    }\n",
       "\n",
       "    .dataframe tbody tr th {\n",
       "        vertical-align: top;\n",
       "    }\n",
       "\n",
       "    .dataframe thead tr th {\n",
       "        text-align: left;\n",
       "    }\n",
       "</style>\n",
       "<table border=\"1\" class=\"dataframe\">\n",
       "  <thead>\n",
       "    <tr>\n",
       "      <th></th>\n",
       "      <th colspan=\"2\" halign=\"left\">All</th>\n",
       "      <th colspan=\"2\" halign=\"left\">In VOC</th>\n",
       "      <th colspan=\"2\" halign=\"left\">Out of VOC</th>\n",
       "    </tr>\n",
       "    <tr>\n",
       "      <th></th>\n",
       "      <th>f1 micro</th>\n",
       "      <th>f1 macro</th>\n",
       "      <th>f1 micro</th>\n",
       "      <th>f1 macro</th>\n",
       "      <th>f1 micro</th>\n",
       "      <th>f1 macro</th>\n",
       "    </tr>\n",
       "  </thead>\n",
       "  <tbody>\n",
       "    <tr>\n",
       "      <th>0</th>\n",
       "      <td>0.770267</td>\n",
       "      <td>0.309536</td>\n",
       "      <td>0.807125</td>\n",
       "      <td>0.413432</td>\n",
       "      <td>0.087629</td>\n",
       "      <td>0.054167</td>\n",
       "    </tr>\n",
       "  </tbody>\n",
       "</table>\n",
       "</div>"
      ],
      "text/plain": [
       "        All              In VOC           Out of VOC          \n",
       "   f1 micro  f1 macro  f1 micro  f1 macro   f1 micro  f1 macro\n",
       "0  0.770267  0.309536  0.807125  0.413432   0.087629  0.054167"
      ]
     },
     "metadata": {},
     "output_type": "display_data"
    },
    {
     "name": "stderr",
     "output_type": "stream",
     "text": [
      "Epoch 43: 100%|██████████| 508/508 [00:44<00:00, 11.55batch/s, loss_decrease=1.0000017887886823]\n",
      "100%|██████████| 3787/3787 [00:41<00:00, 90.66batch/s]\n"
     ]
    },
    {
     "data": {
      "text/html": [
       "<div>\n",
       "<style scoped>\n",
       "    .dataframe tbody tr th:only-of-type {\n",
       "        vertical-align: middle;\n",
       "    }\n",
       "\n",
       "    .dataframe tbody tr th {\n",
       "        vertical-align: top;\n",
       "    }\n",
       "\n",
       "    .dataframe thead tr th {\n",
       "        text-align: left;\n",
       "    }\n",
       "</style>\n",
       "<table border=\"1\" class=\"dataframe\">\n",
       "  <thead>\n",
       "    <tr>\n",
       "      <th></th>\n",
       "      <th colspan=\"2\" halign=\"left\">All</th>\n",
       "      <th colspan=\"2\" halign=\"left\">In VOC</th>\n",
       "      <th colspan=\"2\" halign=\"left\">Out of VOC</th>\n",
       "    </tr>\n",
       "    <tr>\n",
       "      <th></th>\n",
       "      <th>f1 micro</th>\n",
       "      <th>f1 macro</th>\n",
       "      <th>f1 micro</th>\n",
       "      <th>f1 macro</th>\n",
       "      <th>f1 micro</th>\n",
       "      <th>f1 macro</th>\n",
       "    </tr>\n",
       "  </thead>\n",
       "  <tbody>\n",
       "    <tr>\n",
       "      <th>0</th>\n",
       "      <td>0.774228</td>\n",
       "      <td>0.323043</td>\n",
       "      <td>0.810465</td>\n",
       "      <td>0.427549</td>\n",
       "      <td>0.103093</td>\n",
       "      <td>0.066667</td>\n",
       "    </tr>\n",
       "  </tbody>\n",
       "</table>\n",
       "</div>"
      ],
      "text/plain": [
       "        All              In VOC           Out of VOC          \n",
       "   f1 micro  f1 macro  f1 micro  f1 macro   f1 micro  f1 macro\n",
       "0  0.774228  0.323043  0.810465  0.427549   0.103093  0.066667"
      ]
     },
     "metadata": {},
     "output_type": "display_data"
    },
    {
     "name": "stderr",
     "output_type": "stream",
     "text": [
      "Epoch 44: 100%|██████████| 508/508 [00:47<00:00, 10.77batch/s, loss_decrease=1.0000018829356323]\n",
      "100%|██████████| 3787/3787 [00:41<00:00, 91.61batch/s]\n"
     ]
    },
    {
     "data": {
      "text/html": [
       "<div>\n",
       "<style scoped>\n",
       "    .dataframe tbody tr th:only-of-type {\n",
       "        vertical-align: middle;\n",
       "    }\n",
       "\n",
       "    .dataframe tbody tr th {\n",
       "        vertical-align: top;\n",
       "    }\n",
       "\n",
       "    .dataframe thead tr th {\n",
       "        text-align: left;\n",
       "    }\n",
       "</style>\n",
       "<table border=\"1\" class=\"dataframe\">\n",
       "  <thead>\n",
       "    <tr>\n",
       "      <th></th>\n",
       "      <th colspan=\"2\" halign=\"left\">All</th>\n",
       "      <th colspan=\"2\" halign=\"left\">In VOC</th>\n",
       "      <th colspan=\"2\" halign=\"left\">Out of VOC</th>\n",
       "    </tr>\n",
       "    <tr>\n",
       "      <th></th>\n",
       "      <th>f1 micro</th>\n",
       "      <th>f1 macro</th>\n",
       "      <th>f1 micro</th>\n",
       "      <th>f1 macro</th>\n",
       "      <th>f1 micro</th>\n",
       "      <th>f1 macro</th>\n",
       "    </tr>\n",
       "  </thead>\n",
       "  <tbody>\n",
       "    <tr>\n",
       "      <th>0</th>\n",
       "      <td>0.771323</td>\n",
       "      <td>0.31688</td>\n",
       "      <td>0.807682</td>\n",
       "      <td>0.42154</td>\n",
       "      <td>0.097938</td>\n",
       "      <td>0.061837</td>\n",
       "    </tr>\n",
       "  </tbody>\n",
       "</table>\n",
       "</div>"
      ],
      "text/plain": [
       "        All             In VOC          Out of VOC          \n",
       "   f1 micro f1 macro  f1 micro f1 macro   f1 micro  f1 macro\n",
       "0  0.771323  0.31688  0.807682  0.42154   0.097938  0.061837"
      ]
     },
     "metadata": {},
     "output_type": "display_data"
    },
    {
     "name": "stderr",
     "output_type": "stream",
     "text": [
      "Epoch 45: 100%|██████████| 508/508 [00:46<00:00, 10.84batch/s, loss_decrease=1.0000018829356323]\n",
      "100%|██████████| 3787/3787 [00:42<00:00, 89.77batch/s]\n"
     ]
    },
    {
     "data": {
      "text/html": [
       "<div>\n",
       "<style scoped>\n",
       "    .dataframe tbody tr th:only-of-type {\n",
       "        vertical-align: middle;\n",
       "    }\n",
       "\n",
       "    .dataframe tbody tr th {\n",
       "        vertical-align: top;\n",
       "    }\n",
       "\n",
       "    .dataframe thead tr th {\n",
       "        text-align: left;\n",
       "    }\n",
       "</style>\n",
       "<table border=\"1\" class=\"dataframe\">\n",
       "  <thead>\n",
       "    <tr>\n",
       "      <th></th>\n",
       "      <th colspan=\"2\" halign=\"left\">All</th>\n",
       "      <th colspan=\"2\" halign=\"left\">In VOC</th>\n",
       "      <th colspan=\"2\" halign=\"left\">Out of VOC</th>\n",
       "    </tr>\n",
       "    <tr>\n",
       "      <th></th>\n",
       "      <th>f1 micro</th>\n",
       "      <th>f1 macro</th>\n",
       "      <th>f1 micro</th>\n",
       "      <th>f1 macro</th>\n",
       "      <th>f1 micro</th>\n",
       "      <th>f1 macro</th>\n",
       "    </tr>\n",
       "  </thead>\n",
       "  <tbody>\n",
       "    <tr>\n",
       "      <th>0</th>\n",
       "      <td>0.774492</td>\n",
       "      <td>0.322912</td>\n",
       "      <td>0.811578</td>\n",
       "      <td>0.431818</td>\n",
       "      <td>0.087629</td>\n",
       "      <td>0.057126</td>\n",
       "    </tr>\n",
       "  </tbody>\n",
       "</table>\n",
       "</div>"
      ],
      "text/plain": [
       "        All              In VOC           Out of VOC          \n",
       "   f1 micro  f1 macro  f1 micro  f1 macro   f1 micro  f1 macro\n",
       "0  0.774492  0.322912  0.811578  0.431818   0.087629  0.057126"
      ]
     },
     "metadata": {},
     "output_type": "display_data"
    },
    {
     "name": "stderr",
     "output_type": "stream",
     "text": [
      "Epoch 46: 100%|██████████| 508/508 [00:46<00:00, 11.04batch/s, loss_decrease=1.0000018829356323]\n",
      "100%|██████████| 3787/3787 [00:42<00:00, 89.27batch/s]\n"
     ]
    },
    {
     "data": {
      "text/html": [
       "<div>\n",
       "<style scoped>\n",
       "    .dataframe tbody tr th:only-of-type {\n",
       "        vertical-align: middle;\n",
       "    }\n",
       "\n",
       "    .dataframe tbody tr th {\n",
       "        vertical-align: top;\n",
       "    }\n",
       "\n",
       "    .dataframe thead tr th {\n",
       "        text-align: left;\n",
       "    }\n",
       "</style>\n",
       "<table border=\"1\" class=\"dataframe\">\n",
       "  <thead>\n",
       "    <tr>\n",
       "      <th></th>\n",
       "      <th colspan=\"2\" halign=\"left\">All</th>\n",
       "      <th colspan=\"2\" halign=\"left\">In VOC</th>\n",
       "      <th colspan=\"2\" halign=\"left\">Out of VOC</th>\n",
       "    </tr>\n",
       "    <tr>\n",
       "      <th></th>\n",
       "      <th>f1 micro</th>\n",
       "      <th>f1 macro</th>\n",
       "      <th>f1 micro</th>\n",
       "      <th>f1 macro</th>\n",
       "      <th>f1 micro</th>\n",
       "      <th>f1 macro</th>\n",
       "    </tr>\n",
       "  </thead>\n",
       "  <tbody>\n",
       "    <tr>\n",
       "      <th>0</th>\n",
       "      <td>0.77634</td>\n",
       "      <td>0.328336</td>\n",
       "      <td>0.812691</td>\n",
       "      <td>0.438021</td>\n",
       "      <td>0.103093</td>\n",
       "      <td>0.064421</td>\n",
       "    </tr>\n",
       "  </tbody>\n",
       "</table>\n",
       "</div>"
      ],
      "text/plain": [
       "       All              In VOC           Out of VOC          \n",
       "  f1 micro  f1 macro  f1 micro  f1 macro   f1 micro  f1 macro\n",
       "0  0.77634  0.328336  0.812691  0.438021   0.103093  0.064421"
      ]
     },
     "metadata": {},
     "output_type": "display_data"
    },
    {
     "name": "stderr",
     "output_type": "stream",
     "text": [
      "Epoch 47: 100%|██████████| 508/508 [00:48<00:00, 10.44batch/s, loss_decrease=1.0000018829356323]\n",
      "100%|██████████| 3787/3787 [00:42<00:00, 90.07batch/s]\n"
     ]
    },
    {
     "data": {
      "text/html": [
       "<div>\n",
       "<style scoped>\n",
       "    .dataframe tbody tr th:only-of-type {\n",
       "        vertical-align: middle;\n",
       "    }\n",
       "\n",
       "    .dataframe tbody tr th {\n",
       "        vertical-align: top;\n",
       "    }\n",
       "\n",
       "    .dataframe thead tr th {\n",
       "        text-align: left;\n",
       "    }\n",
       "</style>\n",
       "<table border=\"1\" class=\"dataframe\">\n",
       "  <thead>\n",
       "    <tr>\n",
       "      <th></th>\n",
       "      <th colspan=\"2\" halign=\"left\">All</th>\n",
       "      <th colspan=\"2\" halign=\"left\">In VOC</th>\n",
       "      <th colspan=\"2\" halign=\"left\">Out of VOC</th>\n",
       "    </tr>\n",
       "    <tr>\n",
       "      <th></th>\n",
       "      <th>f1 micro</th>\n",
       "      <th>f1 macro</th>\n",
       "      <th>f1 micro</th>\n",
       "      <th>f1 macro</th>\n",
       "      <th>f1 micro</th>\n",
       "      <th>f1 macro</th>\n",
       "    </tr>\n",
       "  </thead>\n",
       "  <tbody>\n",
       "    <tr>\n",
       "      <th>0</th>\n",
       "      <td>0.77634</td>\n",
       "      <td>0.323171</td>\n",
       "      <td>0.81297</td>\n",
       "      <td>0.431996</td>\n",
       "      <td>0.097938</td>\n",
       "      <td>0.060446</td>\n",
       "    </tr>\n",
       "  </tbody>\n",
       "</table>\n",
       "</div>"
      ],
      "text/plain": [
       "       All             In VOC           Out of VOC          \n",
       "  f1 micro  f1 macro f1 micro  f1 macro   f1 micro  f1 macro\n",
       "0  0.77634  0.323171  0.81297  0.431996   0.097938  0.060446"
      ]
     },
     "metadata": {},
     "output_type": "display_data"
    },
    {
     "name": "stderr",
     "output_type": "stream",
     "text": [
      "Epoch 48: 100%|██████████| 508/508 [00:44<00:00, 11.33batch/s, loss_decrease=1.0000018829356323]\n",
      "100%|██████████| 3787/3787 [00:41<00:00, 92.33batch/s]\n"
     ]
    },
    {
     "data": {
      "text/html": [
       "<div>\n",
       "<style scoped>\n",
       "    .dataframe tbody tr th:only-of-type {\n",
       "        vertical-align: middle;\n",
       "    }\n",
       "\n",
       "    .dataframe tbody tr th {\n",
       "        vertical-align: top;\n",
       "    }\n",
       "\n",
       "    .dataframe thead tr th {\n",
       "        text-align: left;\n",
       "    }\n",
       "</style>\n",
       "<table border=\"1\" class=\"dataframe\">\n",
       "  <thead>\n",
       "    <tr>\n",
       "      <th></th>\n",
       "      <th colspan=\"2\" halign=\"left\">All</th>\n",
       "      <th colspan=\"2\" halign=\"left\">In VOC</th>\n",
       "      <th colspan=\"2\" halign=\"left\">Out of VOC</th>\n",
       "    </tr>\n",
       "    <tr>\n",
       "      <th></th>\n",
       "      <th>f1 micro</th>\n",
       "      <th>f1 macro</th>\n",
       "      <th>f1 micro</th>\n",
       "      <th>f1 macro</th>\n",
       "      <th>f1 micro</th>\n",
       "      <th>f1 macro</th>\n",
       "    </tr>\n",
       "  </thead>\n",
       "  <tbody>\n",
       "    <tr>\n",
       "      <th>0</th>\n",
       "      <td>0.77634</td>\n",
       "      <td>0.327708</td>\n",
       "      <td>0.812691</td>\n",
       "      <td>0.429052</td>\n",
       "      <td>0.103093</td>\n",
       "      <td>0.06465</td>\n",
       "    </tr>\n",
       "  </tbody>\n",
       "</table>\n",
       "</div>"
      ],
      "text/plain": [
       "       All              In VOC           Out of VOC         \n",
       "  f1 micro  f1 macro  f1 micro  f1 macro   f1 micro f1 macro\n",
       "0  0.77634  0.327708  0.812691  0.429052   0.103093  0.06465"
      ]
     },
     "metadata": {},
     "output_type": "display_data"
    },
    {
     "name": "stderr",
     "output_type": "stream",
     "text": [
      "Epoch 49: 100%|██████████| 508/508 [00:44<00:00, 11.40batch/s, loss_decrease=1.0000018829356323]\n",
      "100%|██████████| 3787/3787 [00:42<00:00, 88.42batch/s]\n"
     ]
    },
    {
     "data": {
      "text/html": [
       "<div>\n",
       "<style scoped>\n",
       "    .dataframe tbody tr th:only-of-type {\n",
       "        vertical-align: middle;\n",
       "    }\n",
       "\n",
       "    .dataframe tbody tr th {\n",
       "        vertical-align: top;\n",
       "    }\n",
       "\n",
       "    .dataframe thead tr th {\n",
       "        text-align: left;\n",
       "    }\n",
       "</style>\n",
       "<table border=\"1\" class=\"dataframe\">\n",
       "  <thead>\n",
       "    <tr>\n",
       "      <th></th>\n",
       "      <th colspan=\"2\" halign=\"left\">All</th>\n",
       "      <th colspan=\"2\" halign=\"left\">In VOC</th>\n",
       "      <th colspan=\"2\" halign=\"left\">Out of VOC</th>\n",
       "    </tr>\n",
       "    <tr>\n",
       "      <th></th>\n",
       "      <th>f1 micro</th>\n",
       "      <th>f1 macro</th>\n",
       "      <th>f1 micro</th>\n",
       "      <th>f1 macro</th>\n",
       "      <th>f1 micro</th>\n",
       "      <th>f1 macro</th>\n",
       "    </tr>\n",
       "  </thead>\n",
       "  <tbody>\n",
       "    <tr>\n",
       "      <th>0</th>\n",
       "      <td>0.77502</td>\n",
       "      <td>0.32381</td>\n",
       "      <td>0.811856</td>\n",
       "      <td>0.434133</td>\n",
       "      <td>0.092784</td>\n",
       "      <td>0.057126</td>\n",
       "    </tr>\n",
       "  </tbody>\n",
       "</table>\n",
       "</div>"
      ],
      "text/plain": [
       "       All             In VOC           Out of VOC          \n",
       "  f1 micro f1 macro  f1 micro  f1 macro   f1 micro  f1 macro\n",
       "0  0.77502  0.32381  0.811856  0.434133   0.092784  0.057126"
      ]
     },
     "metadata": {},
     "output_type": "display_data"
    },
    {
     "name": "stderr",
     "output_type": "stream",
     "text": [
      "Epoch 50: 100%|██████████| 508/508 [00:46<00:00, 10.83batch/s, loss_decrease=1.0000018829356323]\n",
      "100%|██████████| 3787/3787 [00:42<00:00, 89.55batch/s]\n"
     ]
    },
    {
     "data": {
      "text/html": [
       "<div>\n",
       "<style scoped>\n",
       "    .dataframe tbody tr th:only-of-type {\n",
       "        vertical-align: middle;\n",
       "    }\n",
       "\n",
       "    .dataframe tbody tr th {\n",
       "        vertical-align: top;\n",
       "    }\n",
       "\n",
       "    .dataframe thead tr th {\n",
       "        text-align: left;\n",
       "    }\n",
       "</style>\n",
       "<table border=\"1\" class=\"dataframe\">\n",
       "  <thead>\n",
       "    <tr>\n",
       "      <th></th>\n",
       "      <th colspan=\"2\" halign=\"left\">All</th>\n",
       "      <th colspan=\"2\" halign=\"left\">In VOC</th>\n",
       "      <th colspan=\"2\" halign=\"left\">Out of VOC</th>\n",
       "    </tr>\n",
       "    <tr>\n",
       "      <th></th>\n",
       "      <th>f1 micro</th>\n",
       "      <th>f1 macro</th>\n",
       "      <th>f1 micro</th>\n",
       "      <th>f1 macro</th>\n",
       "      <th>f1 micro</th>\n",
       "      <th>f1 macro</th>\n",
       "    </tr>\n",
       "  </thead>\n",
       "  <tbody>\n",
       "    <tr>\n",
       "      <th>0</th>\n",
       "      <td>0.775812</td>\n",
       "      <td>0.325669</td>\n",
       "      <td>0.812691</td>\n",
       "      <td>0.435375</td>\n",
       "      <td>0.092784</td>\n",
       "      <td>0.056725</td>\n",
       "    </tr>\n",
       "  </tbody>\n",
       "</table>\n",
       "</div>"
      ],
      "text/plain": [
       "        All              In VOC           Out of VOC          \n",
       "   f1 micro  f1 macro  f1 micro  f1 macro   f1 micro  f1 macro\n",
       "0  0.775812  0.325669  0.812691  0.435375   0.092784  0.056725"
      ]
     },
     "metadata": {},
     "output_type": "display_data"
    },
    {
     "name": "stdout",
     "output_type": "stream",
     "text": [
      "Finished Training\n"
     ]
    }
   ],
   "source": [
    "from tqdm import trange\n",
    "from tqdm import tqdm\n",
    "from sklearn.metrics import classification_report, f1_score\n",
    "from evaluator import Evaluator\n",
    "import numpy as np\n",
    "\n",
    "\n",
    "\n",
    "#Гиперпараметры\n",
    "batch_size=16\n",
    "epochs = 50\n",
    "    \n",
    "trainloader = torch.utils.data.DataLoader(ds_train, batch_size=batch_size,\n",
    "                                          shuffle=False, num_workers=0)\n",
    "testloader = torch.utils.data.DataLoader(ds_test, batch_size=1, shuffle=False)\n",
    "\n",
    "evaluator = Evaluator(train_concepts, test_concepts_without_conceptless)\n",
    "\n",
    "initial_loss = None\n",
    "best_f1=0\n",
    "for epoch in range(1, epochs+1):\n",
    "    #обучение модели в эпохе\n",
    "    net.train()\n",
    "    with tqdm(trainloader, unit=\"batch\") as tepoch:\n",
    "        for data in tepoch:\n",
    "\n",
    "            tepoch.set_description(f\"Epoch {epoch}\")\n",
    "\n",
    "            inputs = data['tokenized_phrases']\n",
    "            labels = data['one_hot_labels']\n",
    "\n",
    "            optimizer.zero_grad()\n",
    "            if USE_CUDA=='cuda':\n",
    "                with torch.cuda.amp.autocast():\n",
    "                    outputs = net(inputs)['output']\n",
    "                    loss = criterion(outputs, labels)\n",
    "                scaler.scale(loss).backward()\n",
    "                scaler.step(optimizer)\n",
    "                scaler.update()\n",
    "            else:\n",
    "                outputs = net(inputs)['output']\n",
    "                loss = criterion(outputs, labels)\n",
    "                loss.backward()\n",
    "                optimizer.step()\n",
    "            if initial_loss is None:\n",
    "                initial_loss = loss.item()\n",
    "            tepoch.set_postfix(loss_decrease = str(initial_loss/loss.item()))\n",
    "    #расчет точностей модели после эпохи\n",
    "    net.eval()\n",
    "    model_answers=[]\n",
    "    real_answers=[]\n",
    "    with tqdm(testloader, unit=\"batch\") as eval_process:\n",
    "        for data in eval_process:\n",
    "\n",
    "            inputs = data['tokenized_phrases']\n",
    "\n",
    "            with torch.no_grad():\n",
    "                outputs_dict = net(inputs)\n",
    "                pred_meddra_code = CV_without_conceptless.meddra_codes[outputs_dict['output'].argmax()]\n",
    "\n",
    "\n",
    "            model_answers.append(pred_meddra_code)\n",
    "            real_answers.append(data['label_codes'][0])\n",
    "    evaluator.get_all_f1_scores(real_answers, model_answers)\n",
    "print('Finished Training')\n",
    "torch.save(net,'./Model_weights/rubert_additional_corp_v2_%s.pt'%epoch)"
   ]
  },
  {
   "cell_type": "code",
   "execution_count": 25,
   "id": "acquired-bangladesh",
   "metadata": {},
   "outputs": [
    {
     "name": "stderr",
     "output_type": "stream",
     "text": [
      "100%|██████████| 3787/3787 [00:42<00:00, 89.50batch/s]\n"
     ]
    },
    {
     "data": {
      "text/html": [
       "<div>\n",
       "<style scoped>\n",
       "    .dataframe tbody tr th:only-of-type {\n",
       "        vertical-align: middle;\n",
       "    }\n",
       "\n",
       "    .dataframe tbody tr th {\n",
       "        vertical-align: top;\n",
       "    }\n",
       "\n",
       "    .dataframe thead tr th {\n",
       "        text-align: left;\n",
       "    }\n",
       "</style>\n",
       "<table border=\"1\" class=\"dataframe\">\n",
       "  <thead>\n",
       "    <tr>\n",
       "      <th></th>\n",
       "      <th colspan=\"2\" halign=\"left\">All</th>\n",
       "      <th colspan=\"2\" halign=\"left\">In VOC</th>\n",
       "      <th colspan=\"2\" halign=\"left\">Out of VOC</th>\n",
       "    </tr>\n",
       "    <tr>\n",
       "      <th></th>\n",
       "      <th>f1 micro</th>\n",
       "      <th>f1 macro</th>\n",
       "      <th>f1 micro</th>\n",
       "      <th>f1 macro</th>\n",
       "      <th>f1 micro</th>\n",
       "      <th>f1 macro</th>\n",
       "    </tr>\n",
       "  </thead>\n",
       "  <tbody>\n",
       "    <tr>\n",
       "      <th>0</th>\n",
       "      <td>0.7061</td>\n",
       "      <td>0.239987</td>\n",
       "      <td>0.735597</td>\n",
       "      <td>0.2816</td>\n",
       "      <td>0.159794</td>\n",
       "      <td>0.101421</td>\n",
       "    </tr>\n",
       "  </tbody>\n",
       "</table>\n",
       "</div>"
      ],
      "text/plain": [
       "       All              In VOC          Out of VOC          \n",
       "  f1 micro  f1 macro  f1 micro f1 macro   f1 micro  f1 macro\n",
       "0   0.7061  0.239987  0.735597   0.2816   0.159794  0.101421"
      ]
     },
     "metadata": {},
     "output_type": "display_data"
    }
   ],
   "source": [
    "net.eval()\n",
    "model_answers=[]\n",
    "real_answers=[]\n",
    "evaluator = Evaluator(train_concepts, test_concepts_without_conceptless)\n",
    "with tqdm(testloader, unit=\"batch\") as eval_process:\n",
    "    for data in eval_process:\n",
    "\n",
    "        inputs = data['tokenized_phrases']\n",
    "\n",
    "        with torch.no_grad():\n",
    "            outputs_dict = net(inputs)\n",
    "            pred_meddra_code = CV_without_conceptless.meddra_codes[outputs_dict['output'].argmax()]\n",
    "\n",
    "\n",
    "        model_answers.append(pred_meddra_code)\n",
    "        real_answers.append(data['label_codes'][0])\n",
    "evaluator.get_all_f1_scores(real_answers, model_answers)"
   ]
  },
  {
   "cell_type": "code",
   "execution_count": 24,
   "id": "divine-cross",
   "metadata": {},
   "outputs": [
    {
     "data": {
      "text/plain": [
       "array([], dtype=int64)"
      ]
     },
     "execution_count": 24,
     "metadata": {},
     "output_type": "execute_result"
    }
   ],
   "source": [
    "evaluator.in_voc_idx"
   ]
  },
  {
   "cell_type": "markdown",
   "id": "rational-fishing",
   "metadata": {},
   "source": [
    "<h3>Процесс обучения и рассчета точностей на доп. корпусе</h3>"
   ]
  },
  {
   "cell_type": "code",
   "execution_count": 17,
   "id": "lightweight-express",
   "metadata": {},
   "outputs": [
    {
     "name": "stderr",
     "output_type": "stream",
     "text": [
      "Epoch 1: 100%|██████████| 1529/1529 [03:05<00:00,  8.26batch/s, loss_decrease=1.0000015063442513]\n",
      "100%|██████████| 3787/3787 [00:40<00:00, 94.32batch/s] \n"
     ]
    },
    {
     "name": "stdout",
     "output_type": "stream",
     "text": [
      "0.12278848692896752 micro\n",
      "0.054613601851199206 macro\n"
     ]
    },
    {
     "name": "stderr",
     "output_type": "stream",
     "text": [
      "Epoch 2: 100%|██████████| 1529/1529 [03:03<00:00,  8.34batch/s, loss_decrease=1.0000019770777604]\n",
      "100%|██████████| 3787/3787 [00:38<00:00, 97.19batch/s] \n"
     ]
    },
    {
     "name": "stdout",
     "output_type": "stream",
     "text": [
      "0.1938209664642197 micro\n",
      "0.06721648734675416 macro\n"
     ]
    },
    {
     "name": "stderr",
     "output_type": "stream",
     "text": [
      "Epoch 3: 100%|██████████| 1529/1529 [03:04<00:00,  8.29batch/s, loss_decrease=1.0000021653712883]\n",
      "100%|██████████| 3787/3787 [00:41<00:00, 91.63batch/s] \n"
     ]
    },
    {
     "name": "stdout",
     "output_type": "stream",
     "text": [
      "0.2476894639556377 micro\n",
      "0.06917721120082441 macro\n"
     ]
    },
    {
     "name": "stderr",
     "output_type": "stream",
     "text": [
      "Epoch 4: 100%|██████████| 1529/1529 [03:02<00:00,  8.39batch/s, loss_decrease=1.0000021653712883]\n",
      "100%|██████████| 3787/3787 [00:41<00:00, 91.74batch/s] \n"
     ]
    },
    {
     "name": "stdout",
     "output_type": "stream",
     "text": [
      "0.27224716134143123 micro\n",
      "0.08251990316780486 macro\n"
     ]
    },
    {
     "name": "stderr",
     "output_type": "stream",
     "text": [
      "Epoch 5: 100%|██████████| 1529/1529 [03:02<00:00,  8.37batch/s, loss_decrease=1.0000021653712883]\n",
      "100%|██████████| 3787/3787 [00:43<00:00, 87.38batch/s] \n"
     ]
    },
    {
     "name": "stdout",
     "output_type": "stream",
     "text": [
      "0.3044626353313969 micro\n",
      "0.08402469266345143 macro\n"
     ]
    },
    {
     "name": "stderr",
     "output_type": "stream",
     "text": [
      "Epoch 6: 100%|██████████| 1529/1529 [03:02<00:00,  8.37batch/s, loss_decrease=1.0000021653712883]\n",
      "100%|██████████| 3787/3787 [00:43<00:00, 88.03batch/s] \n"
     ]
    },
    {
     "name": "stdout",
     "output_type": "stream",
     "text": [
      "0.33667810932136255 micro\n",
      "0.09558875691844372 macro\n"
     ]
    },
    {
     "name": "stderr",
     "output_type": "stream",
     "text": [
      "Epoch 7: 100%|██████████| 1529/1529 [03:01<00:00,  8.43batch/s, loss_decrease=1.0000022595180786]\n",
      "100%|██████████| 3787/3787 [00:42<00:00, 88.67batch/s] \n"
     ]
    },
    {
     "name": "stdout",
     "output_type": "stream",
     "text": [
      "0.34407182466332187 micro\n",
      "0.09850908401032399 macro\n"
     ]
    },
    {
     "name": "stderr",
     "output_type": "stream",
     "text": [
      "Epoch 8: 100%|██████████| 1529/1529 [03:02<00:00,  8.36batch/s, loss_decrease=1.0000021653712883]\n",
      "100%|██████████| 3787/3787 [00:41<00:00, 90.31batch/s] \n"
     ]
    },
    {
     "name": "stdout",
     "output_type": "stream",
     "text": [
      "0.35780301029838923 micro\n",
      "0.10530155055055056 macro\n"
     ]
    },
    {
     "name": "stderr",
     "output_type": "stream",
     "text": [
      "Epoch 9: 100%|██████████| 1529/1529 [03:04<00:00,  8.28batch/s, loss_decrease=1.0000021653712883]\n",
      "100%|██████████| 3787/3787 [00:38<00:00, 98.95batch/s] \n"
     ]
    },
    {
     "name": "stdout",
     "output_type": "stream",
     "text": [
      "0.37496699234222336 micro\n",
      "0.10853689119890586 macro\n"
     ]
    },
    {
     "name": "stderr",
     "output_type": "stream",
     "text": [
      "Epoch 10: 100%|██████████| 1529/1529 [03:02<00:00,  8.39batch/s, loss_decrease=1.0000020712245155]\n",
      "100%|██████████| 3787/3787 [00:39<00:00, 94.93batch/s] \n"
     ]
    },
    {
     "name": "stdout",
     "output_type": "stream",
     "text": [
      "0.39582783205703725 micro\n",
      "0.1070768033238578 macro\n"
     ]
    },
    {
     "name": "stderr",
     "output_type": "stream",
     "text": [
      "Epoch 11: 100%|██████████| 1529/1529 [03:00<00:00,  8.49batch/s, loss_decrease=1.0000021653712883]\n",
      "100%|██████████| 3787/3787 [00:39<00:00, 95.29batch/s] \n"
     ]
    },
    {
     "name": "stdout",
     "output_type": "stream",
     "text": [
      "0.405598098758912 micro\n",
      "0.11265058099085253 macro\n"
     ]
    },
    {
     "name": "stderr",
     "output_type": "stream",
     "text": [
      "Epoch 12: 100%|██████████| 1529/1529 [03:05<00:00,  8.24batch/s, loss_decrease=1.0000021653712883]\n",
      "100%|██████████| 3787/3787 [00:40<00:00, 93.13batch/s] \n"
     ]
    },
    {
     "name": "stdout",
     "output_type": "stream",
     "text": [
      "0.41800897808291526 micro\n",
      "0.12363658579061598 macro\n"
     ]
    },
    {
     "name": "stderr",
     "output_type": "stream",
     "text": [
      "Epoch 13: 100%|██████████| 1529/1529 [03:02<00:00,  8.40batch/s, loss_decrease=1.0000021653712883]\n",
      "100%|██████████| 3787/3787 [00:39<00:00, 96.48batch/s] \n"
     ]
    },
    {
     "name": "stdout",
     "output_type": "stream",
     "text": [
      "0.40401373118563505 micro\n",
      "0.1278693202920669 macro\n"
     ]
    },
    {
     "name": "stderr",
     "output_type": "stream",
     "text": [
      "Epoch 14: 100%|██████████| 1529/1529 [03:05<00:00,  8.24batch/s, loss_decrease=1.0000021653712883]\n",
      "100%|██████████| 3787/3787 [00:38<00:00, 98.03batch/s] \n"
     ]
    },
    {
     "name": "stdout",
     "output_type": "stream",
     "text": [
      "0.41351993662529707 micro\n",
      "0.1215625673740327 macro\n"
     ]
    },
    {
     "name": "stderr",
     "output_type": "stream",
     "text": [
      "Epoch 15: 100%|██████████| 1529/1529 [03:02<00:00,  8.39batch/s, loss_decrease=1.0000022595180786]\n",
      "100%|██████████| 3787/3787 [00:40<00:00, 92.94batch/s] \n"
     ]
    },
    {
     "name": "stdout",
     "output_type": "stream",
     "text": [
      "0.43253234750462105 micro\n",
      "0.1342823802255639 macro\n"
     ]
    },
    {
     "name": "stderr",
     "output_type": "stream",
     "text": [
      "Epoch 16: 100%|██████████| 1529/1529 [03:03<00:00,  8.31batch/s, loss_decrease=1.0000021653712883]\n",
      "100%|██████████| 3787/3787 [00:40<00:00, 93.45batch/s] \n"
     ]
    },
    {
     "name": "stdout",
     "output_type": "stream",
     "text": [
      "0.4351729601267494 micro\n",
      "0.12242473021122763 macro\n"
     ]
    },
    {
     "name": "stderr",
     "output_type": "stream",
     "text": [
      "Epoch 17: 100%|██████████| 1529/1529 [02:59<00:00,  8.52batch/s, loss_decrease=1.0000022595180786]\n",
      "100%|██████████| 3787/3787 [00:39<00:00, 96.76batch/s] \n"
     ]
    },
    {
     "name": "stdout",
     "output_type": "stream",
     "text": [
      "0.44045418537100606 micro\n",
      "0.13426671753355598 macro\n"
     ]
    },
    {
     "name": "stderr",
     "output_type": "stream",
     "text": [
      "Epoch 18: 100%|██████████| 1529/1529 [03:01<00:00,  8.41batch/s, loss_decrease=1.0000022595180786]\n",
      "100%|██████████| 3787/3787 [00:39<00:00, 97.01batch/s] \n"
     ]
    },
    {
     "name": "stdout",
     "output_type": "stream",
     "text": [
      "0.4510166358595194 micro\n",
      "0.13196269136183703 macro\n"
     ]
    },
    {
     "name": "stderr",
     "output_type": "stream",
     "text": [
      "Epoch 19: 100%|██████████| 1529/1529 [03:02<00:00,  8.38batch/s, loss_decrease=1.0000021653712883]\n",
      "100%|██████████| 3787/3787 [00:38<00:00, 97.91batch/s] \n"
     ]
    },
    {
     "name": "stdout",
     "output_type": "stream",
     "text": [
      "0.4520728809083707 micro\n",
      "0.13128057113087138 macro\n"
     ]
    },
    {
     "name": "stderr",
     "output_type": "stream",
     "text": [
      "Epoch 20: 100%|██████████| 1529/1529 [02:59<00:00,  8.54batch/s, loss_decrease=1.0000021653712883]\n",
      "100%|██████████| 3787/3787 [00:42<00:00, 89.86batch/s] \n"
     ]
    },
    {
     "name": "stdout",
     "output_type": "stream",
     "text": [
      "0.4578822286770531 micro\n",
      "0.13504377570952822 macro\n"
     ]
    },
    {
     "name": "stderr",
     "output_type": "stream",
     "text": [
      "Epoch 21: 100%|██████████| 1529/1529 [02:57<00:00,  8.63batch/s, loss_decrease=1.0000022595180786]\n",
      "100%|██████████| 3787/3787 [00:39<00:00, 95.94batch/s] \n"
     ]
    },
    {
     "name": "stdout",
     "output_type": "stream",
     "text": [
      "0.45444943226828627 micro\n",
      "0.13781141651527187 macro\n"
     ]
    },
    {
     "name": "stderr",
     "output_type": "stream",
     "text": [
      "Epoch 22: 100%|██████████| 1529/1529 [02:55<00:00,  8.73batch/s, loss_decrease=1.0000022595180786]\n",
      "100%|██████████| 3787/3787 [00:39<00:00, 96.48batch/s] \n"
     ]
    },
    {
     "name": "stdout",
     "output_type": "stream",
     "text": [
      "0.45524161605492475 micro\n",
      "0.145484726201721 macro\n"
     ]
    },
    {
     "name": "stderr",
     "output_type": "stream",
     "text": [
      "Epoch 23: 100%|██████████| 1529/1529 [02:56<00:00,  8.65batch/s, loss_decrease=1.0000022595180786]\n",
      "100%|██████████| 3787/3787 [00:42<00:00, 89.20batch/s] \n"
     ]
    },
    {
     "name": "stdout",
     "output_type": "stream",
     "text": [
      "0.46263533139688406 micro\n",
      "0.13855448633013692 macro\n"
     ]
    },
    {
     "name": "stderr",
     "output_type": "stream",
     "text": [
      "Epoch 24: 100%|██████████| 1529/1529 [03:05<00:00,  8.25batch/s, loss_decrease=1.0000022595180786]\n",
      "100%|██████████| 3787/3787 [00:39<00:00, 95.89batch/s] \n"
     ]
    },
    {
     "name": "stdout",
     "output_type": "stream",
     "text": [
      "0.47187747557433324 micro\n",
      "0.14337480969161037 macro\n"
     ]
    },
    {
     "name": "stderr",
     "output_type": "stream",
     "text": [
      "Epoch 25: 100%|██████████| 1529/1529 [03:05<00:00,  8.22batch/s, loss_decrease=1.0000022595180786]\n",
      "100%|██████████| 3787/3787 [00:46<00:00, 81.55batch/s]\n"
     ]
    },
    {
     "name": "stdout",
     "output_type": "stream",
     "text": [
      "0.4745180881964616 micro\n",
      "0.15286734050215856 macro\n"
     ]
    },
    {
     "name": "stderr",
     "output_type": "stream",
     "text": [
      "Epoch 26: 100%|██████████| 1529/1529 [03:00<00:00,  8.46batch/s, loss_decrease=1.0000022595180786]\n",
      "100%|██████████| 3787/3787 [00:42<00:00, 88.88batch/s] \n"
     ]
    },
    {
     "name": "stdout",
     "output_type": "stream",
     "text": [
      "0.4684446791655664 micro\n",
      "0.1501833688938569 macro\n"
     ]
    },
    {
     "name": "stderr",
     "output_type": "stream",
     "text": [
      "Epoch 27: 100%|██████████| 1529/1529 [03:02<00:00,  8.38batch/s, loss_decrease=1.0000022595180786]\n",
      "100%|██████████| 3787/3787 [00:44<00:00, 84.89batch/s] \n"
     ]
    },
    {
     "name": "stdout",
     "output_type": "stream",
     "text": [
      "0.4676524953789279 micro\n",
      "0.14824685461405288 macro\n"
     ]
    },
    {
     "name": "stderr",
     "output_type": "stream",
     "text": [
      "Epoch 28: 100%|██████████| 1529/1529 [03:00<00:00,  8.46batch/s, loss_decrease=1.0000022595180786]\n",
      "100%|██████████| 3787/3787 [00:41<00:00, 90.84batch/s]\n"
     ]
    },
    {
     "name": "stdout",
     "output_type": "stream",
     "text": [
      "0.4779508846052284 micro\n",
      "0.15678419166189123 macro\n"
     ]
    },
    {
     "name": "stderr",
     "output_type": "stream",
     "text": [
      "Epoch 29: 100%|██████████| 1529/1529 [02:49<00:00,  9.01batch/s, loss_decrease=1.0000022595180786]\n",
      "100%|██████████| 3787/3787 [00:40<00:00, 93.85batch/s] \n"
     ]
    },
    {
     "name": "stdout",
     "output_type": "stream",
     "text": [
      "0.47927119091629256 micro\n",
      "0.1571352333250121 macro\n"
     ]
    },
    {
     "name": "stderr",
     "output_type": "stream",
     "text": [
      "Epoch 30: 100%|██████████| 1529/1529 [02:44<00:00,  9.31batch/s, loss_decrease=1.0000022595180786]\n",
      "100%|██████████| 3787/3787 [00:39<00:00, 95.14batch/s] \n"
     ]
    },
    {
     "name": "stdout",
     "output_type": "stream",
     "text": [
      "0.4708212305254819 micro\n",
      "0.15236921283847657 macro\n",
      "Finished Training\n"
     ]
    }
   ],
   "source": [
    "from tqdm import trange\n",
    "from tqdm import tqdm\n",
    "from sklearn.metrics import classification_report, f1_score\n",
    "\n",
    "#Гиперпараметры\n",
    "batch_size=64#16\n",
    "epochs = 30\n",
    "    \n",
    "trainloader = torch.utils.data.DataLoader(ds_train, batch_size=batch_size,\n",
    "                                          shuffle=False, num_workers=0)\n",
    "testloader = torch.utils.data.DataLoader(ds_test, batch_size=1, shuffle=False)\n",
    "\n",
    "net.train()\n",
    "initial_loss = None\n",
    "best_f1=0\n",
    "for epoch in range(1, epochs+1):\n",
    "    #обучение модели в эпохе\n",
    "    net.train()\n",
    "    with tqdm(trainloader, unit=\"batch\") as tepoch:\n",
    "        for data in tepoch:\n",
    "\n",
    "            tepoch.set_description(f\"Epoch {epoch}\")\n",
    "\n",
    "            inputs = data['tokenized_phrases']\n",
    "            labels = data['one_hot_labels']\n",
    "\n",
    "            optimizer.zero_grad()\n",
    "            if device=='cuda':\n",
    "                with torch.cuda.amp.autocast():\n",
    "                    outputs = net(inputs)['output']\n",
    "                    loss = criterion(outputs, labels)\n",
    "                scaler.scale(loss).backward()\n",
    "                scaler.step(optimizer)\n",
    "                scaler.update()\n",
    "            else:\n",
    "                outputs = net(inputs)['output']\n",
    "                loss = criterion(outputs, labels)\n",
    "                loss.backward()\n",
    "                optimizer.step()\n",
    "            if initial_loss is None:\n",
    "                initial_loss = loss.item()\n",
    "            tepoch.set_postfix(loss_decrease = str(initial_loss/loss.item()))\n",
    "    #расчет точностей модели после эпохи\n",
    "    \n",
    "    net.eval()\n",
    "    model_answers=[]\n",
    "    real_answers=[]\n",
    "    with tqdm(testloader, unit=\"batch\") as eval_process:\n",
    "        for data in eval_process:\n",
    "\n",
    "            inputs = data['tokenized_phrases']\n",
    "\n",
    "            with torch.no_grad():\n",
    "                outputs_dict = net(inputs)\n",
    "                pred_meddra_code = CV_test_without_conceptless.meddra_codes[outputs_dict['output'].argmax()]\n",
    "\n",
    "\n",
    "            model_answers.append(pred_meddra_code)\n",
    "            real_answers.append(data['label_codes'])\n",
    "    #f1 = f1_score(real_answers, model_answers, average='micro')\n",
    "    \n",
    "    #if f1>best_f1:\n",
    "    #    best_f1=f1\n",
    "    #    torch.save(net,'./Model_weights/xlmroberta_best_%s.pt'%epoch)\n",
    "    #if epoch==9:\n",
    "    #    torch.save(net,'./Model_weights/xlmroberta_%s.pt'%epoch)\n",
    "    \n",
    "    f1 = f1_score(real_answers, model_answers, average='micro')\n",
    "    print('%s micro'%f1)\n",
    "    f1 = f1_score(real_answers, model_answers, average='macro')\n",
    "    print('%s macro'%f1)\n",
    "            \n",
    "print('Finished Training')\n",
    "torch.save(net,'./Model_weights/rubert_only_additional_corp_v2%s.pt'%epoch)"
   ]
  },
  {
   "cell_type": "markdown",
   "id": "cooperative-shade",
   "metadata": {},
   "source": [
    "<h2>Анализ ошибок rubert</h2>"
   ]
  },
  {
   "cell_type": "code",
   "execution_count": 94,
   "id": "signed-baseball",
   "metadata": {},
   "outputs": [],
   "source": [
    "from tabulate import tabulate\n",
    "import pandas as pd\n",
    "\n",
    "class Evaluator:\n",
    "    '''Расчет точностей и работа с индексами In and Out of VOC'''\n",
    "    def __init__(self, train_conepts, test_concepts):\n",
    "        self.train_conepts, self.test_concepts = np.array(train_conepts), np.array(test_concepts)\n",
    "        self.get_in_out_of_voc_idx()\n",
    "        \n",
    "    def get_in_out_of_voc_idx(self):\n",
    "        mask_out_of_voc = np.in1d(self.test_concepts, self.train_conepts) #маска элементов первого array, которые есть во втором array\n",
    "        self.in_voc_idx = np.nonzero(mask_out_of_voc)[0] \n",
    "        self.out_of_voc_idx = np.nonzero(~mask_out_of_voc)[0]\n",
    "        \n",
    "    def get_f1_score(self, y_true, y_pred, average, idx='All'):\n",
    "        if idx=='All':\n",
    "            return f1_score(y_true, y_pred, average=average)\n",
    "        elif idx=='In VOC':\n",
    "            return f1_score(y_true[self.in_voc_idx], y_pred[self.in_voc_idx], average=average)\n",
    "        elif idx=='Out of VOC':\n",
    "            return f1_score(y_true[self.out_of_voc_idx], y_pred[self.out_of_voc_idx], average=average)\n",
    "        \n",
    "    def get_all_f1_scores(self, y_true, y_pred, pretty_print=True):\n",
    "        columns_tuples = [('All', 'f1 micro'), \n",
    "                     ('All', 'f1 macro'),\n",
    "                                           \n",
    "                     ('In VOC', 'f1 micro'), \n",
    "                     ('In VOC', 'f1 macro'),\n",
    "                                           \n",
    "                     ('Out of VOC', 'f1 micro'), \n",
    "                     ('Out of VOC', 'f1 macro')]\n",
    "        all_f1_scores = []\n",
    "        for cfg_row in columns_tuples:\n",
    "            all_f1_scores.append(self.get_f1_score(np.array(y_true), np.array(y_pred), \n",
    "                                                   average=cfg_row[1][3:], idx=cfg_row[0]))\n",
    "        all_f1_scores = np.array(all_f1_scores).reshape((1,6))\n",
    "        col_index = pd.MultiIndex.from_tuples(columns_tuples)\n",
    "        self.f1_scores_df = pd.DataFrame(all_f1_scores, columns=col_index)\n",
    "        if pretty_print:\n",
    "            display(self.f1_scores_df) #, headers='keys', tablefmt='psql')"
   ]
  },
  {
   "cell_type": "code",
   "execution_count": 95,
   "id": "ranking-plaza",
   "metadata": {},
   "outputs": [],
   "source": [
    "evaluator = Evaluator(train_concepts, test_concepts_without_conceptless)"
   ]
  },
  {
   "cell_type": "code",
   "execution_count": 97,
   "id": "consolidated-brake",
   "metadata": {},
   "outputs": [],
   "source": [
    "net = torch.load('./Model_weights/rubert_50_exp_11.pt')"
   ]
  },
  {
   "cell_type": "code",
   "execution_count": 103,
   "id": "expected-honolulu",
   "metadata": {},
   "outputs": [
    {
     "name": "stderr",
     "output_type": "stream",
     "text": [
      "100%|██████████| 3787/3787 [00:42<00:00, 88.59batch/s] \n"
     ]
    },
    {
     "data": {
      "text/html": [
       "<div>\n",
       "<style scoped>\n",
       "    .dataframe tbody tr th:only-of-type {\n",
       "        vertical-align: middle;\n",
       "    }\n",
       "\n",
       "    .dataframe tbody tr th {\n",
       "        vertical-align: top;\n",
       "    }\n",
       "\n",
       "    .dataframe thead tr th {\n",
       "        text-align: left;\n",
       "    }\n",
       "</style>\n",
       "<table border=\"1\" class=\"dataframe\">\n",
       "  <thead>\n",
       "    <tr>\n",
       "      <th></th>\n",
       "      <th colspan=\"2\" halign=\"left\">All</th>\n",
       "      <th colspan=\"2\" halign=\"left\">In VOC</th>\n",
       "      <th colspan=\"2\" halign=\"left\">Out of VOC</th>\n",
       "    </tr>\n",
       "    <tr>\n",
       "      <th></th>\n",
       "      <th>f1 micro</th>\n",
       "      <th>f1 macro</th>\n",
       "      <th>f1 micro</th>\n",
       "      <th>f1 macro</th>\n",
       "      <th>f1 micro</th>\n",
       "      <th>f1 macro</th>\n",
       "    </tr>\n",
       "  </thead>\n",
       "  <tbody>\n",
       "    <tr>\n",
       "      <th>0</th>\n",
       "      <td>0.762345</td>\n",
       "      <td>0.293459</td>\n",
       "      <td>0.801837</td>\n",
       "      <td>0.421247</td>\n",
       "      <td>0.030928</td>\n",
       "      <td>0.015411</td>\n",
       "    </tr>\n",
       "  </tbody>\n",
       "</table>\n",
       "</div>"
      ],
      "text/plain": [
       "        All              In VOC           Out of VOC          \n",
       "   f1 micro  f1 macro  f1 micro  f1 macro   f1 micro  f1 macro\n",
       "0  0.762345  0.293459  0.801837  0.421247   0.030928  0.015411"
      ]
     },
     "metadata": {},
     "output_type": "display_data"
    }
   ],
   "source": [
    "net.eval()\n",
    "model_answers=[]\n",
    "real_answers=[]\n",
    "phrases = []\n",
    "with tqdm(testloader, unit=\"batch\") as eval_process:\n",
    "    for data in eval_process:\n",
    "\n",
    "        inputs = data['tokenized_phrases']\n",
    "\n",
    "        with torch.no_grad():\n",
    "            outputs_dict = net(inputs)\n",
    "            pred_meddra_code = CV_test_without_conceptless.meddra_codes[outputs_dict['output'].argmax()]\n",
    "\n",
    "\n",
    "        model_answers.append(pred_meddra_code)\n",
    "        real_answers.append(data['label_codes'][0])\n",
    "        phrases.append(data['phrases'][0])\n",
    "    evaluator.get_all_f1_scores(real_answers, model_answers)"
   ]
  },
  {
   "cell_type": "code",
   "execution_count": 108,
   "id": "raising-steel",
   "metadata": {},
   "outputs": [],
   "source": [
    "import pandas as pd\n",
    "\n",
    "model_df_out = pd.DataFrame({'true': model_answers, 'pred': real_answers, 'phrases': phrases, 'test_ids': test_ids})\n",
    "model_df_out['true_terms'] = model_df_out['true'].apply(lambda x: CV_train.meddra_code_to_meddra_term[x])\n",
    "model_df_out['pred_terms'] = model_df_out['pred'].apply(lambda x: CV_train.meddra_code_to_meddra_term[x])\n",
    "model_df_out['is wrong'] = model_df_out['pred'] != model_df_out['true']\n",
    "model_df_out[model_df_out['is wrong']].to_csv('rubert_50_epochs_out.csv', index=False)"
   ]
  },
  {
   "cell_type": "code",
   "execution_count": 106,
   "id": "endangered-plant",
   "metadata": {},
   "outputs": [
    {
     "name": "stdout",
     "output_type": "stream",
     "text": [
      "4006\n"
     ]
    }
   ],
   "source": [
    "print(len(test_ids)) "
   ]
  },
  {
   "cell_type": "code",
   "execution_count": 90,
   "id": "martial-entrepreneur",
   "metadata": {},
   "outputs": [
    {
     "data": {
      "text/plain": [
       "3787"
      ]
     },
     "execution_count": 90,
     "metadata": {},
     "output_type": "execute_result"
    }
   ],
   "source": [
    "len(real_answers)"
   ]
  },
  {
   "cell_type": "code",
   "execution_count": 91,
   "id": "annual-transparency",
   "metadata": {},
   "outputs": [
    {
     "data": {
      "text/plain": [
       "4006"
      ]
     },
     "execution_count": 91,
     "metadata": {},
     "output_type": "execute_result"
    }
   ],
   "source": [
    "len(evaluator.test_concepts)"
   ]
  },
  {
   "cell_type": "markdown",
   "id": "buried-canadian",
   "metadata": {},
   "source": [
    "<h3>Процесс обучения и рассчета точностей rubert</h3>"
   ]
  },
  {
   "cell_type": "code",
   "execution_count": 15,
   "id": "nuclear-oxygen",
   "metadata": {},
   "outputs": [
    {
     "name": "stderr",
     "output_type": "stream",
     "text": [
      "Epoch 1: 100%|██████████| 508/508 [00:56<00:00,  9.00batch/s, loss_decrease=1.0000013180507235]\n",
      "100%|██████████| 3787/3787 [00:44<00:00, 85.89batch/s] \n"
     ]
    },
    {
     "name": "stdout",
     "output_type": "stream",
     "text": [
      "0.5901769210456826 micro\n",
      "0.10543854161409019 macro\n"
     ]
    },
    {
     "name": "stderr",
     "output_type": "stream",
     "text": [
      "Epoch 2: 100%|██████████| 508/508 [00:54<00:00,  9.39batch/s, loss_decrease=1.0000016004906163]\n",
      "100%|██████████| 3787/3787 [00:39<00:00, 96.16batch/s] \n"
     ]
    },
    {
     "name": "stdout",
     "output_type": "stream",
     "text": [
      "0.646686031159229 micro\n",
      "0.13236941797643076 macro\n"
     ]
    },
    {
     "name": "stderr",
     "output_type": "stream",
     "text": [
      "Epoch 3: 100%|██████████| 508/508 [00:51<00:00,  9.79batch/s, loss_decrease=1.0000020712241255]\n",
      "100%|██████████| 3787/3787 [00:39<00:00, 97.00batch/s] \n"
     ]
    },
    {
     "name": "stdout",
     "output_type": "stream",
     "text": [
      "0.6722999735938738 micro\n",
      "0.15958209748166557 macro\n"
     ]
    },
    {
     "name": "stderr",
     "output_type": "stream",
     "text": [
      "Epoch 4: 100%|██████████| 508/508 [00:46<00:00, 10.91batch/s, loss_decrease=1.0000026361049215]\n",
      "100%|██████████| 3787/3787 [00:41<00:00, 91.99batch/s] \n"
     ]
    },
    {
     "name": "stdout",
     "output_type": "stream",
     "text": [
      "0.6931608133086876 micro\n",
      "0.16705094432385006 macro\n"
     ]
    },
    {
     "name": "stderr",
     "output_type": "stream",
     "text": [
      "Epoch 5: 100%|██████████| 508/508 [00:54<00:00,  9.25batch/s, loss_decrease=1.0000030126924735]\n",
      "100%|██████████| 3787/3787 [00:38<00:00, 97.11batch/s] \n"
     ]
    },
    {
     "name": "stdout",
     "output_type": "stream",
     "text": [
      "0.7087404277792446 micro\n",
      "0.19073258549292407 macro\n"
     ]
    },
    {
     "name": "stderr",
     "output_type": "stream",
     "text": [
      "Epoch 6: 100%|██████████| 508/508 [00:54<00:00,  9.30batch/s, loss_decrease=1.0000032009863558]\n",
      "100%|██████████| 3787/3787 [00:42<00:00, 88.98batch/s] \n"
     ]
    },
    {
     "name": "stdout",
     "output_type": "stream",
     "text": [
      "0.7200950620543967 micro\n",
      "0.20884585011609227 macro\n"
     ]
    },
    {
     "name": "stderr",
     "output_type": "stream",
     "text": [
      "Epoch 7: 100%|██████████| 508/508 [00:53<00:00,  9.56batch/s, loss_decrease=1.0000034834273122]\n",
      "100%|██████████| 3787/3787 [00:38<00:00, 97.60batch/s] \n"
     ]
    },
    {
     "name": "stdout",
     "output_type": "stream",
     "text": [
      "0.7232637972009505 micro\n",
      "0.20193002497660537 macro\n"
     ]
    },
    {
     "name": "stderr",
     "output_type": "stream",
     "text": [
      "Epoch 8: 100%|██████████| 508/508 [00:41<00:00, 12.11batch/s, loss_decrease=1.0000034834273122]\n",
      "100%|██████████| 3787/3787 [00:37<00:00, 99.87batch/s] \n"
     ]
    },
    {
     "name": "stdout",
     "output_type": "stream",
     "text": [
      "0.7282809611829945 micro\n",
      "0.2086349395684316 macro\n"
     ]
    },
    {
     "name": "stderr",
     "output_type": "stream",
     "text": [
      "Epoch 9: 100%|██████████| 508/508 [00:38<00:00, 13.31batch/s, loss_decrease=1.000003577574333] \n",
      "100%|██████████| 3787/3787 [00:39<00:00, 95.31batch/s] \n"
     ]
    },
    {
     "name": "stdout",
     "output_type": "stream",
     "text": [
      "0.7288090837074201 micro\n",
      "0.21397709310396554 macro\n"
     ]
    },
    {
     "name": "stderr",
     "output_type": "stream",
     "text": [
      "Epoch 10: 100%|██████████| 508/508 [00:54<00:00,  9.36batch/s, loss_decrease=1.000003765868428] \n",
      "100%|██████████| 3787/3787 [00:39<00:00, 96.56batch/s] \n"
     ]
    },
    {
     "name": "stdout",
     "output_type": "stream",
     "text": [
      "0.732241880116187 micro\n",
      "0.22640093197113087 macro\n"
     ]
    },
    {
     "name": "stderr",
     "output_type": "stream",
     "text": [
      "Epoch 11: 100%|██████████| 508/508 [00:52<00:00,  9.71batch/s, loss_decrease=1.0000038600155021]\n",
      "100%|██████████| 3787/3787 [00:38<00:00, 98.27batch/s] \n"
     ]
    },
    {
     "name": "stdout",
     "output_type": "stream",
     "text": [
      "0.7375231053604437 micro\n",
      "0.22787427875615723 macro\n"
     ]
    },
    {
     "name": "stderr",
     "output_type": "stream",
     "text": [
      "Epoch 12: 100%|██████████| 508/508 [00:54<00:00,  9.40batch/s, loss_decrease=1.0000038600155021]\n",
      "100%|██████████| 3787/3787 [00:38<00:00, 98.38batch/s] \n"
     ]
    },
    {
     "name": "stdout",
     "output_type": "stream",
     "text": [
      "0.7380512278848693 micro\n",
      "0.22764440246642573 macro\n"
     ]
    },
    {
     "name": "stderr",
     "output_type": "stream",
     "text": [
      "Epoch 13: 100%|██████████| 508/508 [00:54<00:00,  9.31batch/s, loss_decrease=1.000003954162594] \n",
      "100%|██████████| 3787/3787 [00:38<00:00, 98.64batch/s] \n"
     ]
    },
    {
     "name": "stdout",
     "output_type": "stream",
     "text": [
      "0.7428043306047003 micro\n",
      "0.24052938224060266 macro\n"
     ]
    },
    {
     "name": "stderr",
     "output_type": "stream",
     "text": [
      "Epoch 14: 100%|██████████| 508/508 [00:53<00:00,  9.43batch/s, loss_decrease=1.0000040483097037]\n",
      "100%|██████████| 3787/3787 [00:38<00:00, 98.23batch/s] \n"
     ]
    },
    {
     "name": "stdout",
     "output_type": "stream",
     "text": [
      "0.7404277792447848 micro\n",
      "0.23665083375226015 macro\n"
     ]
    },
    {
     "name": "stderr",
     "output_type": "stream",
     "text": [
      "Epoch 15: 100%|██████████| 508/508 [00:53<00:00,  9.46batch/s, loss_decrease=1.0000040483097037]\n",
      "100%|██████████| 3787/3787 [00:39<00:00, 96.57batch/s] \n"
     ]
    },
    {
     "name": "stdout",
     "output_type": "stream",
     "text": [
      "0.7472933720623185 micro\n",
      "0.2458806473316118 macro\n"
     ]
    },
    {
     "name": "stderr",
     "output_type": "stream",
     "text": [
      "Epoch 16: 100%|██████████| 508/508 [00:53<00:00,  9.47batch/s, loss_decrease=1.0000040483097037]\n",
      "100%|██████████| 3787/3787 [00:38<00:00, 98.08batch/s] \n"
     ]
    },
    {
     "name": "stdout",
     "output_type": "stream",
     "text": [
      "0.7454449432268286 micro\n",
      "0.24204639369089845 macro\n"
     ]
    },
    {
     "name": "stderr",
     "output_type": "stream",
     "text": [
      "Epoch 17: 100%|██████████| 508/508 [00:54<00:00,  9.36batch/s, loss_decrease=1.0000040483097037]\n",
      "100%|██████████| 3787/3787 [00:38<00:00, 99.31batch/s] \n"
     ]
    },
    {
     "name": "stdout",
     "output_type": "stream",
     "text": [
      "0.7441246369157644 micro\n",
      "0.24301831653788464 macro\n"
     ]
    },
    {
     "name": "stderr",
     "output_type": "stream",
     "text": [
      "Epoch 18: 100%|██████████| 508/508 [00:48<00:00, 10.58batch/s, loss_decrease=1.000004142456831] \n",
      "100%|██████████| 3787/3787 [00:38<00:00, 97.45batch/s] \n"
     ]
    },
    {
     "name": "stdout",
     "output_type": "stream",
     "text": [
      "0.7488777396355955 micro\n",
      "0.24172983368831158 macro\n"
     ]
    },
    {
     "name": "stderr",
     "output_type": "stream",
     "text": [
      "Epoch 19: 100%|██████████| 508/508 [00:48<00:00, 10.57batch/s, loss_decrease=1.000004142456831] \n",
      "100%|██████████| 3787/3787 [00:39<00:00, 96.70batch/s] \n"
     ]
    },
    {
     "name": "stdout",
     "output_type": "stream",
     "text": [
      "0.7483496171111698 micro\n",
      "0.2473403970202944 macro\n"
     ]
    },
    {
     "name": "stderr",
     "output_type": "stream",
     "text": [
      "Epoch 20: 100%|██████████| 508/508 [00:53<00:00,  9.57batch/s, loss_decrease=1.000004142456831] \n",
      "100%|██████████| 3787/3787 [00:38<00:00, 97.88batch/s] \n"
     ]
    },
    {
     "name": "stdout",
     "output_type": "stream",
     "text": [
      "0.7467652495378928 micro\n",
      "0.2544077869547003 macro\n"
     ]
    },
    {
     "name": "stderr",
     "output_type": "stream",
     "text": [
      "Epoch 21: 100%|██████████| 508/508 [00:53<00:00,  9.46batch/s, loss_decrease=1.000004142456831] \n",
      "100%|██████████| 3787/3787 [00:40<00:00, 94.63batch/s] \n"
     ]
    },
    {
     "name": "stdout",
     "output_type": "stream",
     "text": [
      "0.7486136783733827 micro\n",
      "0.25431585268129536 macro\n"
     ]
    },
    {
     "name": "stderr",
     "output_type": "stream",
     "text": [
      "Epoch 22: 100%|██████████| 508/508 [00:48<00:00, 10.55batch/s, loss_decrease=1.0000043307511386]\n",
      "100%|██████████| 3787/3787 [00:40<00:00, 92.59batch/s] \n"
     ]
    },
    {
     "name": "stdout",
     "output_type": "stream",
     "text": [
      "0.7517824135199367 micro\n",
      "0.2617720776427117 macro\n"
     ]
    },
    {
     "name": "stderr",
     "output_type": "stream",
     "text": [
      "Epoch 23: 100%|██████████| 508/508 [00:54<00:00,  9.37batch/s, loss_decrease=1.0000042366039759]\n",
      "100%|██████████| 3787/3787 [00:39<00:00, 96.43batch/s] \n"
     ]
    },
    {
     "name": "stdout",
     "output_type": "stream",
     "text": [
      "0.7523105360443623 micro\n",
      "0.26331535554145186 macro\n"
     ]
    },
    {
     "name": "stderr",
     "output_type": "stream",
     "text": [
      "Epoch 24: 100%|██████████| 508/508 [00:54<00:00,  9.31batch/s, loss_decrease=1.0000043307511386]\n",
      "100%|██████████| 3787/3787 [00:40<00:00, 92.56batch/s] \n"
     ]
    },
    {
     "name": "stdout",
     "output_type": "stream",
     "text": [
      "0.7536308423554264 micro\n",
      "0.267981156137318 macro\n"
     ]
    },
    {
     "name": "stderr",
     "output_type": "stream",
     "text": [
      "Epoch 25: 100%|██████████| 508/508 [00:54<00:00,  9.36batch/s, loss_decrease=1.0000043307511386]\n",
      "100%|██████████| 3787/3787 [00:39<00:00, 96.24batch/s] \n"
     ]
    },
    {
     "name": "stdout",
     "output_type": "stream",
     "text": [
      "0.7541589648798521 micro\n",
      "0.2705961880356192 macro\n"
     ]
    },
    {
     "name": "stderr",
     "output_type": "stream",
     "text": [
      "Epoch 26: 100%|██████████| 508/508 [00:46<00:00, 10.86batch/s, loss_decrease=1.0000043307511386]\n",
      "100%|██████████| 3787/3787 [00:38<00:00, 98.85batch/s] \n"
     ]
    },
    {
     "name": "stdout",
     "output_type": "stream",
     "text": [
      "0.7525745973065753 micro\n",
      "0.27399964285054995 macro\n"
     ]
    },
    {
     "name": "stderr",
     "output_type": "stream",
     "text": [
      "Epoch 27: 100%|██████████| 508/508 [00:53<00:00,  9.51batch/s, loss_decrease=1.0000043307511386]\n",
      "100%|██████████| 3787/3787 [00:38<00:00, 97.84batch/s] \n"
     ]
    },
    {
     "name": "stdout",
     "output_type": "stream",
     "text": [
      "0.7541589648798521 micro\n",
      "0.2699958853315516 macro\n"
     ]
    },
    {
     "name": "stderr",
     "output_type": "stream",
     "text": [
      "Epoch 28: 100%|██████████| 508/508 [00:52<00:00,  9.72batch/s, loss_decrease=1.0000043307511386]\n",
      "100%|██████████| 3787/3787 [00:38<00:00, 98.52batch/s] \n"
     ]
    },
    {
     "name": "stdout",
     "output_type": "stream",
     "text": [
      "0.7552152099287035 micro\n",
      "0.2780578302967096 macro\n"
     ]
    },
    {
     "name": "stderr",
     "output_type": "stream",
     "text": [
      "Epoch 29: 100%|██████████| 508/508 [00:50<00:00, 10.07batch/s, loss_decrease=1.0000043307511386]\n",
      "100%|██████████| 3787/3787 [00:39<00:00, 96.28batch/s] \n"
     ]
    },
    {
     "name": "stdout",
     "output_type": "stream",
     "text": [
      "0.7549511486664905 micro\n",
      "0.2776173545309697 macro\n"
     ]
    },
    {
     "name": "stderr",
     "output_type": "stream",
     "text": [
      "Epoch 30: 100%|██████████| 508/508 [00:50<00:00, 10.10batch/s, loss_decrease=1.0000043307511386]\n",
      "100%|██████████| 3787/3787 [00:39<00:00, 96.67batch/s] \n"
     ]
    },
    {
     "name": "stdout",
     "output_type": "stream",
     "text": [
      "0.7525745973065753 micro\n",
      "0.27089933709632125 macro\n"
     ]
    },
    {
     "name": "stderr",
     "output_type": "stream",
     "text": [
      "Epoch 31: 100%|██████████| 508/508 [00:54<00:00,  9.41batch/s, loss_decrease=1.0000043307511386]\n",
      "100%|██████████| 3787/3787 [00:38<00:00, 99.47batch/s] \n"
     ]
    },
    {
     "name": "stdout",
     "output_type": "stream",
     "text": [
      "0.7594401901241087 micro\n",
      "0.28655519615023584 macro\n"
     ]
    },
    {
     "name": "stderr",
     "output_type": "stream",
     "text": [
      "Epoch 32: 100%|██████████| 508/508 [00:52<00:00,  9.65batch/s, loss_decrease=1.0000043307511386]\n",
      "100%|██████████| 3787/3787 [00:38<00:00, 97.73batch/s] \n"
     ]
    },
    {
     "name": "stdout",
     "output_type": "stream",
     "text": [
      "0.759176128861896 micro\n",
      "0.2853471489776611 macro\n"
     ]
    },
    {
     "name": "stderr",
     "output_type": "stream",
     "text": [
      "Epoch 33: 100%|██████████| 508/508 [00:54<00:00,  9.36batch/s, loss_decrease=1.0000043307511386]\n",
      "100%|██████████| 3787/3787 [00:40<00:00, 93.52batch/s] \n"
     ]
    },
    {
     "name": "stdout",
     "output_type": "stream",
     "text": [
      "0.7567995775019805 micro\n",
      "0.2796108342606278 macro\n"
     ]
    },
    {
     "name": "stderr",
     "output_type": "stream",
     "text": [
      "Epoch 34: 100%|██████████| 508/508 [00:54<00:00,  9.32batch/s, loss_decrease=1.000004424898319] \n",
      "100%|██████████| 3787/3787 [00:38<00:00, 99.02batch/s] \n"
     ]
    },
    {
     "name": "stdout",
     "output_type": "stream",
     "text": [
      "0.7565355162397677 micro\n",
      "0.27772117971732135 macro\n"
     ]
    },
    {
     "name": "stderr",
     "output_type": "stream",
     "text": [
      "Epoch 35: 100%|██████████| 508/508 [00:54<00:00,  9.29batch/s, loss_decrease=1.0000042366039759]\n",
      "100%|██████████| 3787/3787 [00:39<00:00, 97.06batch/s] \n"
     ]
    },
    {
     "name": "stdout",
     "output_type": "stream",
     "text": [
      "0.7362027990493794 micro\n",
      "0.25709907168561547 macro\n"
     ]
    },
    {
     "name": "stderr",
     "output_type": "stream",
     "text": [
      "Epoch 36: 100%|██████████| 508/508 [00:54<00:00,  9.37batch/s, loss_decrease=1.0000043307511386]\n",
      "100%|██████████| 3787/3787 [00:38<00:00, 98.61batch/s] \n"
     ]
    },
    {
     "name": "stdout",
     "output_type": "stream",
     "text": [
      "0.7578558225508318 micro\n",
      "0.2875871838949693 macro\n"
     ]
    },
    {
     "name": "stderr",
     "output_type": "stream",
     "text": [
      "Epoch 37: 100%|██████████| 508/508 [00:53<00:00,  9.46batch/s, loss_decrease=1.000004424898319] \n",
      "100%|██████████| 3787/3787 [00:39<00:00, 96.47batch/s] \n"
     ]
    },
    {
     "name": "stdout",
     "output_type": "stream",
     "text": [
      "0.7567995775019805 micro\n",
      "0.2795867618075589 macro\n"
     ]
    },
    {
     "name": "stderr",
     "output_type": "stream",
     "text": [
      "Epoch 38: 100%|██████████| 508/508 [00:52<00:00,  9.69batch/s, loss_decrease=1.0000043307511386]\n",
      "100%|██████████| 3787/3787 [00:39<00:00, 96.69batch/s] \n"
     ]
    },
    {
     "name": "stdout",
     "output_type": "stream",
     "text": [
      "0.7531027198310007 micro\n",
      "0.2694643224949508 macro\n"
     ]
    },
    {
     "name": "stderr",
     "output_type": "stream",
     "text": [
      "Epoch 39: 100%|██████████| 508/508 [00:54<00:00,  9.39batch/s, loss_decrease=1.0000043307511386]\n",
      "100%|██████████| 3787/3787 [00:38<00:00, 97.49batch/s] \n"
     ]
    },
    {
     "name": "stdout",
     "output_type": "stream",
     "text": [
      "0.7541589648798521 micro\n",
      "0.27614368166951697 macro\n"
     ]
    },
    {
     "name": "stderr",
     "output_type": "stream",
     "text": [
      "Epoch 40: 100%|██████████| 508/508 [00:54<00:00,  9.34batch/s, loss_decrease=1.0000043307511386]\n",
      "100%|██████████| 3787/3787 [00:39<00:00, 96.92batch/s] \n"
     ]
    },
    {
     "name": "stdout",
     "output_type": "stream",
     "text": [
      "0.7586480063374703 micro\n",
      "0.28292958918433947 macro\n"
     ]
    },
    {
     "name": "stderr",
     "output_type": "stream",
     "text": [
      "Epoch 41: 100%|██████████| 508/508 [00:48<00:00, 10.58batch/s, loss_decrease=1.000004424898319] \n",
      "100%|██████████| 3787/3787 [00:40<00:00, 94.25batch/s] \n"
     ]
    },
    {
     "name": "stdout",
     "output_type": "stream",
     "text": [
      "0.7520464747821495 micro\n",
      "0.27058433834495643 macro\n"
     ]
    },
    {
     "name": "stderr",
     "output_type": "stream",
     "text": [
      "Epoch 42: 100%|██████████| 508/508 [00:52<00:00,  9.68batch/s, loss_decrease=1.000004424898319] \n",
      "100%|██████████| 3787/3787 [00:38<00:00, 99.38batch/s] \n"
     ]
    },
    {
     "name": "stdout",
     "output_type": "stream",
     "text": [
      "0.7552152099287035 micro\n",
      "0.27685176964318076 macro\n"
     ]
    },
    {
     "name": "stderr",
     "output_type": "stream",
     "text": [
      "Epoch 43: 100%|██████████| 508/508 [00:53<00:00,  9.42batch/s, loss_decrease=1.000004424898319] \n",
      "100%|██████████| 3787/3787 [00:38<00:00, 98.20batch/s] \n"
     ]
    },
    {
     "name": "stdout",
     "output_type": "stream",
     "text": [
      "0.7581198838130445 micro\n",
      "0.2780172427623849 macro\n"
     ]
    },
    {
     "name": "stderr",
     "output_type": "stream",
     "text": [
      "Epoch 44: 100%|██████████| 508/508 [00:54<00:00,  9.39batch/s, loss_decrease=1.000004424898319] \n",
      "100%|██████████| 3787/3787 [00:38<00:00, 98.80batch/s] \n"
     ]
    },
    {
     "name": "stdout",
     "output_type": "stream",
     "text": [
      "0.7599683126485345 micro\n",
      "0.2886542118296363 macro\n"
     ]
    },
    {
     "name": "stderr",
     "output_type": "stream",
     "text": [
      "Epoch 45: 100%|██████████| 508/508 [00:54<00:00,  9.34batch/s, loss_decrease=1.0000045190455173]\n",
      "100%|██████████| 3787/3787 [00:38<00:00, 98.28batch/s] \n"
     ]
    },
    {
     "name": "stdout",
     "output_type": "stream",
     "text": [
      "0.7565355162397677 micro\n",
      "0.28421733865315746 macro\n"
     ]
    },
    {
     "name": "stderr",
     "output_type": "stream",
     "text": [
      "Epoch 46: 100%|██████████| 508/508 [00:54<00:00,  9.37batch/s, loss_decrease=1.0000045190455173]\n",
      "100%|██████████| 3787/3787 [00:38<00:00, 97.84batch/s] \n"
     ]
    },
    {
     "name": "stdout",
     "output_type": "stream",
     "text": [
      "0.759176128861896 micro\n",
      "0.2898668714871588 macro\n"
     ]
    },
    {
     "name": "stderr",
     "output_type": "stream",
     "text": [
      "Epoch 47: 100%|██████████| 508/508 [00:53<00:00,  9.47batch/s, loss_decrease=1.000004424898319] \n",
      "100%|██████████| 3787/3787 [00:39<00:00, 94.95batch/s] \n"
     ]
    },
    {
     "name": "stdout",
     "output_type": "stream",
     "text": [
      "0.7567995775019805 micro\n",
      "0.2860491394667863 macro\n"
     ]
    },
    {
     "name": "stderr",
     "output_type": "stream",
     "text": [
      "Epoch 48: 100%|██████████| 508/508 [00:50<00:00,  9.99batch/s, loss_decrease=1.0000045190455173]\n",
      "100%|██████████| 3787/3787 [00:41<00:00, 90.57batch/s] \n"
     ]
    },
    {
     "name": "stdout",
     "output_type": "stream",
     "text": [
      "0.7618167414840243 micro\n",
      "0.2914558917760406 macro\n"
     ]
    },
    {
     "name": "stderr",
     "output_type": "stream",
     "text": [
      "Epoch 49: 100%|██████████| 508/508 [00:53<00:00,  9.53batch/s, loss_decrease=1.0000045190455173]\n",
      "100%|██████████| 3787/3787 [00:39<00:00, 97.07batch/s] \n"
     ]
    },
    {
     "name": "stdout",
     "output_type": "stream",
     "text": [
      "0.7602323739107472 micro\n",
      "0.2881593763156088 macro\n"
     ]
    },
    {
     "name": "stderr",
     "output_type": "stream",
     "text": [
      "Epoch 50: 100%|██████████| 508/508 [00:54<00:00,  9.41batch/s, loss_decrease=1.000004424898319] \n",
      "100%|██████████| 3787/3787 [00:38<00:00, 98.66batch/s] \n"
     ]
    },
    {
     "name": "stdout",
     "output_type": "stream",
     "text": [
      "0.76234486400845 micro\n",
      "0.2934589715874881 macro\n",
      "Finished Training\n"
     ]
    }
   ],
   "source": [
    "from tqdm import trange\n",
    "from tqdm import tqdm\n",
    "from sklearn.metrics import classification_report, f1_score\n",
    "\n",
    "#Гиперпараметры\n",
    "batch_size=64#16\n",
    "epochs = 50\n",
    "    \n",
    "trainloader = torch.utils.data.DataLoader(ds_train, batch_size=batch_size,\n",
    "                                          shuffle=False, num_workers=0)\n",
    "testloader = torch.utils.data.DataLoader(ds_test, batch_size=1, shuffle=False)\n",
    "\n",
    "net.train()\n",
    "initial_loss = None\n",
    "best_f1=0\n",
    "for epoch in range(1, epochs+1):\n",
    "    #обучение модели в эпохе\n",
    "    net.train()\n",
    "    with tqdm(trainloader, unit=\"batch\") as tepoch:\n",
    "        for data in tepoch:\n",
    "\n",
    "            tepoch.set_description(f\"Epoch {epoch}\")\n",
    "\n",
    "            inputs = data['tokenized_phrases']\n",
    "            labels = data['one_hot_labels']\n",
    "\n",
    "            optimizer.zero_grad()\n",
    "            if device=='cuda':\n",
    "                with torch.cuda.amp.autocast():\n",
    "                    outputs = net(inputs)['output']\n",
    "                    loss = criterion(outputs, labels)\n",
    "                scaler.scale(loss).backward()\n",
    "                scaler.step(optimizer)\n",
    "                scaler.update()\n",
    "            else:\n",
    "                outputs = net(inputs)['output']\n",
    "                loss = criterion(outputs, labels)\n",
    "                loss.backward()\n",
    "                optimizer.step()\n",
    "            if initial_loss is None:\n",
    "                initial_loss = loss.item()\n",
    "            tepoch.set_postfix(loss_decrease = str(initial_loss/loss.item()))\n",
    "    #расчет точностей модели после эпохи\n",
    "    net.eval()\n",
    "    model_answers=[]\n",
    "    real_answers=[]\n",
    "    with tqdm(testloader, unit=\"batch\") as eval_process:\n",
    "        for data in eval_process:\n",
    "\n",
    "            inputs = data['tokenized_phrases']\n",
    "\n",
    "            with torch.no_grad():\n",
    "                outputs_dict = net(inputs)\n",
    "                pred_meddra_code = CV_test_without_conceptless.meddra_codes[outputs_dict['output'].argmax()]\n",
    "\n",
    "\n",
    "            model_answers.append(pred_meddra_code)\n",
    "            real_answers.append(data['label_codes'])\n",
    "    f1 = f1_score(real_answers, model_answers, average='micro')\n",
    "    #if f1>best_f1:\n",
    "    #    best_f1=f1\n",
    "    #    torch.save(net,'./Model_weights/xlmroberta_best_%s.pt'%epoch)\n",
    "    #if epoch==9:\n",
    "    #    torch.save(net,'./Model_weights/xlmroberta_%s.pt'%epoch)\n",
    "    f1 = f1_score(real_answers, model_answers, average='micro')\n",
    "    print('%s micro'%f1)\n",
    "    f1 = f1_score(real_answers, model_answers, average='macro')\n",
    "    print('%s macro'%f1)\n",
    "            \n",
    "print('Finished Training')\n",
    "torch.save(net,'./Model_weights/rubert_%s.pt'%epoch)"
   ]
  },
  {
   "cell_type": "markdown",
   "id": "spoken-belgium",
   "metadata": {},
   "source": [
    "<h3>Анализ ошибок RuBERT</h3>"
   ]
  },
  {
   "cell_type": "code",
   "execution_count": 83,
   "id": "classified-miniature",
   "metadata": {},
   "outputs": [
    {
     "data": {
      "text/plain": [
       "['10036898',\n",
       " '10036898',\n",
       " 'CONCEPT_LESS',\n",
       " '10036898',\n",
       " '10036898',\n",
       " '10063420',\n",
       " '10037430',\n",
       " '10042209',\n",
       " '10062519',\n",
       " '10029216',\n",
       " '10022998',\n",
       " '10011224',\n",
       " '10039101',\n",
       " '10005911',\n",
       " '10022437',\n",
       " '10022998',\n",
       " '10002855',\n",
       " '10042209',\n",
       " '10011224',\n",
       " '10028813',\n",
       " '10005911',\n",
       " '10039101',\n",
       " '10011224',\n",
       " '10037660',\n",
       " '10016766',\n",
       " '10013082',\n",
       " '10017367',\n",
       " '10020751',\n",
       " '10015150',\n",
       " '10013082',\n",
       " '10033616',\n",
       " '10000496',\n",
       " '10040007',\n",
       " '10039101',\n",
       " '10022437',\n",
       " '10062519',\n",
       " '10042209',\n",
       " '10042209',\n",
       " '10039101',\n",
       " '10039101',\n",
       " '10036898',\n",
       " '10033371',\n",
       " '10003239',\n",
       " '10003051',\n",
       " '10061218',\n",
       " '10023204',\n",
       " '10011224',\n",
       " '10039101',\n",
       " '10039101',\n",
       " '10039101',\n",
       " '10011224',\n",
       " '10011224',\n",
       " '10062519',\n",
       " '10029412',\n",
       " '10027783',\n",
       " '10062519',\n",
       " '10029216',\n",
       " '10068319',\n",
       " '10021425',\n",
       " '10012735',\n",
       " '10047700',\n",
       " '10011224',\n",
       " '10014551',\n",
       " '10022998',\n",
       " '10061284',\n",
       " '10022437',\n",
       " 'CONCEPT_LESS',\n",
       " '10000060',\n",
       " '10061422',\n",
       " '10016766',\n",
       " '10039740',\n",
       " '10022998',\n",
       " '10010774',\n",
       " '10005750',\n",
       " '10028735',\n",
       " '10028735',\n",
       " '10012378',\n",
       " '10036898',\n",
       " '10040984',\n",
       " '10040984',\n",
       " '10039740',\n",
       " '10013496',\n",
       " '10080831',\n",
       " '10049087',\n",
       " '10049087',\n",
       " '10022437',\n",
       " '10012373',\n",
       " '10025482',\n",
       " '10016256',\n",
       " '10041349',\n",
       " '10019211',\n",
       " '10062519',\n",
       " '10005911',\n",
       " '10033371',\n",
       " '10017944',\n",
       " '10025482',\n",
       " '10080125',\n",
       " '10039101',\n",
       " '10036898',\n",
       " '10057009',\n",
       " '10019211',\n",
       " '10019211',\n",
       " '10019211',\n",
       " '10033371',\n",
       " '10019211',\n",
       " '10001497',\n",
       " '10020852',\n",
       " '10062519',\n",
       " '10001497',\n",
       " '10036898',\n",
       " '10036898',\n",
       " '10036898',\n",
       " '10080125',\n",
       " '10036898',\n",
       " '10028735',\n",
       " '10080125',\n",
       " '10005911',\n",
       " '10011968',\n",
       " 'CONCEPT_LESS',\n",
       " '10039101',\n",
       " '10068319',\n",
       " '10039101',\n",
       " '10019194',\n",
       " '10003549',\n",
       " '10013573',\n",
       " 'CONCEPT_LESS',\n",
       " 'CONCEPT_LESS',\n",
       " '10022437',\n",
       " '10040984',\n",
       " '10022035',\n",
       " '10061827',\n",
       " '10013781',\n",
       " '10046910',\n",
       " '10046910',\n",
       " '10046788',\n",
       " '10046788',\n",
       " '10046788',\n",
       " '10033645',\n",
       " '10033371',\n",
       " '10036898',\n",
       " '10036898',\n",
       " '10039101',\n",
       " '10010893',\n",
       " '10004207',\n",
       " '10054954',\n",
       " '10054954',\n",
       " '10001497',\n",
       " '10054954',\n",
       " '10052437',\n",
       " '10033371',\n",
       " '10076406',\n",
       " '10039101',\n",
       " '10036898',\n",
       " '10003549',\n",
       " '10041349',\n",
       " '10036898',\n",
       " '10012434',\n",
       " '10036898',\n",
       " '10037855',\n",
       " '10037844',\n",
       " '10046735',\n",
       " '10037844',\n",
       " '10037087',\n",
       " '10020751',\n",
       " '10020751',\n",
       " '10012434',\n",
       " '10037867',\n",
       " '10037844',\n",
       " '10028813',\n",
       " '10028813',\n",
       " '10061549',\n",
       " '10042772',\n",
       " '10033371',\n",
       " '10047700',\n",
       " '10061549',\n",
       " '10061549',\n",
       " '10018045',\n",
       " '10018045',\n",
       " 'CONCEPT_LESS',\n",
       " '10005911',\n",
       " '10041349',\n",
       " '10039101',\n",
       " '10011224',\n",
       " '10020751',\n",
       " 'CONCEPT_LESS',\n",
       " '10028813',\n",
       " '10012735',\n",
       " '10013789',\n",
       " '10043458',\n",
       " '10019973',\n",
       " '10067152',\n",
       " '10013082',\n",
       " '10070721',\n",
       " '10037660',\n",
       " '10005911',\n",
       " '10039101',\n",
       " '10039101',\n",
       " '10039101',\n",
       " '10005911',\n",
       " '10039101',\n",
       " '10036898',\n",
       " '10036898',\n",
       " '10011224',\n",
       " '10068319',\n",
       " '10039101',\n",
       " '10005911',\n",
       " '10039101',\n",
       " 'CONCEPT_LESS',\n",
       " '10000081',\n",
       " '10033371',\n",
       " '10016766',\n",
       " '10033371',\n",
       " 'CONCEPT_LESS',\n",
       " '10022437',\n",
       " '10062519',\n",
       " '10012373',\n",
       " '10041349',\n",
       " '10028334',\n",
       " '10006002',\n",
       " '10003988',\n",
       " '10018276',\n",
       " '10019211',\n",
       " '10001760',\n",
       " '10006956',\n",
       " 'CONCEPT_LESS',\n",
       " '10006956',\n",
       " '10037087',\n",
       " 'CONCEPT_LESS',\n",
       " '10017853',\n",
       " 'CONCEPT_LESS',\n",
       " '10033371',\n",
       " '10000081',\n",
       " 'CONCEPT_LESS',\n",
       " '10033371',\n",
       " '10011224',\n",
       " '10039101',\n",
       " '10019211',\n",
       " '10003239',\n",
       " '10068319',\n",
       " '10005911',\n",
       " '10028735',\n",
       " '10019211',\n",
       " '10028411',\n",
       " '10005911',\n",
       " '10028411',\n",
       " '10019211',\n",
       " '10015915',\n",
       " '10013082',\n",
       " '10013786',\n",
       " '10015150',\n",
       " '10001488',\n",
       " '10001488',\n",
       " '10028735',\n",
       " '10039101',\n",
       " '10065646',\n",
       " '10021926',\n",
       " '10065646',\n",
       " '10062080',\n",
       " '10006313',\n",
       " '10027951',\n",
       " '10040007',\n",
       " '10037660',\n",
       " '10000087',\n",
       " '10010774',\n",
       " '10028735',\n",
       " '10036898',\n",
       " '10036898',\n",
       " '10082129',\n",
       " '10012735',\n",
       " '10000081',\n",
       " '10013082',\n",
       " 'CONCEPT_LESS',\n",
       " 'CONCEPT_LESS',\n",
       " '10005724',\n",
       " '10028334',\n",
       " '10041349',\n",
       " '10002942',\n",
       " '10024642',\n",
       " '10042209',\n",
       " '10061218',\n",
       " '10028411',\n",
       " '10028411',\n",
       " '10033425',\n",
       " '10003549',\n",
       " '10017577',\n",
       " '10052804',\n",
       " '10005911',\n",
       " '10039101',\n",
       " '10041232',\n",
       " '10052804',\n",
       " '10005911',\n",
       " '10005911',\n",
       " '10028813',\n",
       " '10012335',\n",
       " '10033664',\n",
       " '10057840',\n",
       " '10002855',\n",
       " '10016344',\n",
       " '10016344',\n",
       " '10016256',\n",
       " 'CONCEPT_LESS',\n",
       " '10028813',\n",
       " '10013786',\n",
       " 'CONCEPT_LESS',\n",
       " '10061218',\n",
       " '10016825',\n",
       " '10012444',\n",
       " '10013786',\n",
       " '10012444',\n",
       " '10033670',\n",
       " '10044565',\n",
       " '10046790',\n",
       " '10028334',\n",
       " '10000059',\n",
       " '10065646',\n",
       " '10047895',\n",
       " '10030124',\n",
       " '10030124',\n",
       " '10003988',\n",
       " '10013050',\n",
       " '10027951',\n",
       " '10046996',\n",
       " '10003549',\n",
       " '10039101',\n",
       " '10041232',\n",
       " '10080125',\n",
       " '10036898',\n",
       " '10033371',\n",
       " '10005750',\n",
       " '10028813',\n",
       " '10013573',\n",
       " '10017999',\n",
       " '10019670',\n",
       " '10000059',\n",
       " '10000081',\n",
       " '10070840',\n",
       " '10013855',\n",
       " '10070840',\n",
       " 'CONCEPT_LESS',\n",
       " '10017944',\n",
       " '10036898',\n",
       " '10066598',\n",
       " '10013946',\n",
       " '10019211',\n",
       " '10013082',\n",
       " 'CONCEPT_LESS',\n",
       " '10005911',\n",
       " '10019211',\n",
       " '10068319',\n",
       " '10028735',\n",
       " '10005911',\n",
       " '10019211',\n",
       " '10039101',\n",
       " '10011224',\n",
       " '10005911',\n",
       " '10005911',\n",
       " '10005911',\n",
       " 'CONCEPT_LESS',\n",
       " 'CONCEPT_LESS',\n",
       " 'CONCEPT_LESS',\n",
       " 'CONCEPT_LESS',\n",
       " '10036898',\n",
       " '10036898',\n",
       " '10036898',\n",
       " '10002383',\n",
       " '10012735',\n",
       " '10036898',\n",
       " '10005911',\n",
       " '10005911',\n",
       " '10005911',\n",
       " '10070052',\n",
       " '10005911',\n",
       " '10058080',\n",
       " '10058080',\n",
       " '10036898',\n",
       " '10025482',\n",
       " '10041349',\n",
       " '10013573',\n",
       " '10040984',\n",
       " '10022437',\n",
       " '10001497',\n",
       " '10049816',\n",
       " '10001488',\n",
       " '10028347',\n",
       " '10028403',\n",
       " '10028334',\n",
       " '10028334',\n",
       " '10037660',\n",
       " '10010774',\n",
       " '10000081',\n",
       " '10042209',\n",
       " '10042209',\n",
       " '10042209',\n",
       " '10022437',\n",
       " 'CONCEPT_LESS',\n",
       " '10042209',\n",
       " '10040984',\n",
       " '10033371',\n",
       " '10057009',\n",
       " '10037087',\n",
       " '10006784',\n",
       " '10022437',\n",
       " '10062519',\n",
       " '10022998',\n",
       " '10029216',\n",
       " '10061428',\n",
       " '10005911',\n",
       " '10004207',\n",
       " '10005911',\n",
       " '10057009',\n",
       " '10037876',\n",
       " '10036898',\n",
       " '10036898',\n",
       " '10043521',\n",
       " '10068319',\n",
       " '10037660',\n",
       " '10005911',\n",
       " '10016334',\n",
       " '10005911',\n",
       " '10005911',\n",
       " '10043521',\n",
       " '10068319',\n",
       " '10043521',\n",
       " '10024642',\n",
       " '10016256',\n",
       " '10027940',\n",
       " '10027175',\n",
       " '10027175',\n",
       " '10027175',\n",
       " '10001949',\n",
       " '10003549',\n",
       " '10003549',\n",
       " '10024855',\n",
       " '10027175',\n",
       " '10054263',\n",
       " '10049704',\n",
       " '10054263',\n",
       " '10015137',\n",
       " '10015137',\n",
       " '10028813',\n",
       " '10047700',\n",
       " '10015137',\n",
       " '10013573',\n",
       " '10033371',\n",
       " '10000060',\n",
       " '10013781',\n",
       " '10082490',\n",
       " '10022437',\n",
       " '10010305',\n",
       " '10015137',\n",
       " '10013946',\n",
       " '10013911',\n",
       " '10005911',\n",
       " '10061218',\n",
       " '10039101',\n",
       " '10016338',\n",
       " '10002383',\n",
       " '10007554',\n",
       " '10030973',\n",
       " '10019973',\n",
       " '10039101',\n",
       " '10036898',\n",
       " '10003239',\n",
       " '10037660',\n",
       " '10012378',\n",
       " '10037660',\n",
       " '10068319',\n",
       " '10047700',\n",
       " '10047700',\n",
       " '10015150',\n",
       " '10008196',\n",
       " '10019211',\n",
       " '10019211',\n",
       " '10019211',\n",
       " '10043882',\n",
       " '10019211',\n",
       " '10005750',\n",
       " '10047184',\n",
       " '10065169',\n",
       " '10068319',\n",
       " '10061218',\n",
       " '10019973',\n",
       " '10022437',\n",
       " '10062519',\n",
       " '10038743',\n",
       " 'CONCEPT_LESS',\n",
       " '10010264',\n",
       " 'CONCEPT_LESS',\n",
       " '10062519',\n",
       " '10010264',\n",
       " '10039101',\n",
       " '10039101',\n",
       " '10028735',\n",
       " '10039101',\n",
       " '10061331',\n",
       " '10061331',\n",
       " '10061331',\n",
       " '10069055',\n",
       " '10000084',\n",
       " '10033371',\n",
       " '10061331',\n",
       " '10019211',\n",
       " '10043521',\n",
       " '10068319',\n",
       " '10061218',\n",
       " '10005911',\n",
       " '10016759',\n",
       " 'CONCEPT_LESS',\n",
       " '10040984',\n",
       " '10029412',\n",
       " '10012373',\n",
       " '10013496',\n",
       " '10027940',\n",
       " '10001497',\n",
       " '10033670',\n",
       " 'CONCEPT_LESS',\n",
       " '10013968',\n",
       " '10033670',\n",
       " '10022998',\n",
       " '10002368',\n",
       " '10041349',\n",
       " '10028735',\n",
       " '10028735',\n",
       " 'CONCEPT_LESS',\n",
       " '10070101',\n",
       " '10019303',\n",
       " '10005750',\n",
       " '10043882',\n",
       " '10013573',\n",
       " '10033474',\n",
       " '10029216',\n",
       " '10038743',\n",
       " '10038743',\n",
       " '10022437',\n",
       " '10015856',\n",
       " '10024642',\n",
       " '10040007',\n",
       " '10029333',\n",
       " '10003119',\n",
       " '10039101',\n",
       " '10039101',\n",
       " '10039101',\n",
       " '10039101',\n",
       " '10013573',\n",
       " '10027990',\n",
       " '10019211',\n",
       " '10029216',\n",
       " '10028813',\n",
       " '10000081',\n",
       " '10019211',\n",
       " '10013573',\n",
       " 'CONCEPT_LESS',\n",
       " 'CONCEPT_LESS',\n",
       " 'CONCEPT_LESS',\n",
       " '10039101',\n",
       " '10011224',\n",
       " '10005911',\n",
       " '10019211',\n",
       " '10028813',\n",
       " '10079450',\n",
       " '10005750',\n",
       " '10039101',\n",
       " '10028735',\n",
       " '10028735',\n",
       " '10068319',\n",
       " '10005911',\n",
       " '10021013',\n",
       " '10012318',\n",
       " '10013082',\n",
       " 'CONCEPT_LESS',\n",
       " '10041349',\n",
       " '10013496',\n",
       " '10033371',\n",
       " '10068319',\n",
       " '10068319',\n",
       " '10033371',\n",
       " '10033371',\n",
       " '10070302',\n",
       " '10021021',\n",
       " '10021021',\n",
       " '10028334',\n",
       " '10067152',\n",
       " '10024552',\n",
       " '10037844',\n",
       " '10036898',\n",
       " '10036898',\n",
       " '10036898',\n",
       " '10036898',\n",
       " '10062519',\n",
       " '10036898',\n",
       " '10052437',\n",
       " '10028735',\n",
       " '10036898',\n",
       " '10037660',\n",
       " '10011224',\n",
       " '10015915',\n",
       " '10011224',\n",
       " '10068319',\n",
       " 'CONCEPT_LESS',\n",
       " '10062519',\n",
       " '10038428',\n",
       " '10033371',\n",
       " '10076704',\n",
       " '10037844',\n",
       " '10019211',\n",
       " '10028813',\n",
       " '10008469',\n",
       " '10020751',\n",
       " '10020751',\n",
       " '10037844',\n",
       " '10020751',\n",
       " '10042209',\n",
       " '10003497',\n",
       " '10041812',\n",
       " '10011224',\n",
       " '10000087',\n",
       " 'CONCEPT_LESS',\n",
       " '10001760',\n",
       " '10028813',\n",
       " '10027975',\n",
       " '10047700',\n",
       " '10028694',\n",
       " '10000496',\n",
       " '10020751',\n",
       " '10020751',\n",
       " '10041349',\n",
       " '10061284',\n",
       " '10033670',\n",
       " '10022998',\n",
       " 'CONCEPT_LESS',\n",
       " '10029216',\n",
       " '10029216',\n",
       " '10041349',\n",
       " '10041349',\n",
       " '10016322',\n",
       " '10052804',\n",
       " '10041349',\n",
       " '10039101',\n",
       " '10030124',\n",
       " '10027975',\n",
       " '10047899',\n",
       " '10017940',\n",
       " '10029216',\n",
       " 'CONCEPT_LESS',\n",
       " '10022437',\n",
       " '10022437',\n",
       " '10041349',\n",
       " '10052804',\n",
       " '10042209',\n",
       " '10042209',\n",
       " '10042209',\n",
       " '10043071',\n",
       " 'CONCEPT_LESS',\n",
       " '10005911',\n",
       " '10072908',\n",
       " '10017944',\n",
       " '10019211',\n",
       " '10019211',\n",
       " '10053155',\n",
       " '10033664',\n",
       " '10044565',\n",
       " '10016326',\n",
       " '10025482',\n",
       " '10000087',\n",
       " '10000087',\n",
       " '10037660',\n",
       " '10005911',\n",
       " '10019211',\n",
       " '10015150',\n",
       " '10037087',\n",
       " '10037087',\n",
       " '10042674',\n",
       " '10041349',\n",
       " '10024670',\n",
       " '10050012',\n",
       " '10041349',\n",
       " '10041349',\n",
       " '10003549',\n",
       " '10013573',\n",
       " '10019211',\n",
       " '10019211',\n",
       " '10013573',\n",
       " '10028372',\n",
       " '10020937',\n",
       " '10022437',\n",
       " '10062519',\n",
       " '10041349',\n",
       " '10040984',\n",
       " '10029412',\n",
       " '10022998',\n",
       " '10022998',\n",
       " '10005911',\n",
       " '10039101',\n",
       " '10036898',\n",
       " '10039101',\n",
       " '10020751',\n",
       " '10057009',\n",
       " '10005911',\n",
       " '10037844',\n",
       " '10020751',\n",
       " '10020751',\n",
       " '10020751',\n",
       " '10020751',\n",
       " '10020751',\n",
       " '10013573',\n",
       " '10033557',\n",
       " '10060800',\n",
       " '10003549',\n",
       " '10005911',\n",
       " '10013082',\n",
       " '10028813',\n",
       " '10016766',\n",
       " '10057071',\n",
       " 'CONCEPT_LESS',\n",
       " '10037660',\n",
       " '10037660',\n",
       " '10020937',\n",
       " '10068319',\n",
       " '10028810',\n",
       " '10005911',\n",
       " '10000081',\n",
       " '10016100',\n",
       " '10039740',\n",
       " '10016766',\n",
       " '10063338',\n",
       " '10063338',\n",
       " '10000081',\n",
       " '10033371',\n",
       " '10049589',\n",
       " '10013082',\n",
       " '10049589',\n",
       " '10049589',\n",
       " '10071212',\n",
       " '10033371',\n",
       " '10049589',\n",
       " '10000084',\n",
       " '10033371',\n",
       " '10000084',\n",
       " '10033371',\n",
       " '10049589',\n",
       " '10049589',\n",
       " '10013082',\n",
       " '10006784',\n",
       " '10052437',\n",
       " '10061428',\n",
       " '10061148',\n",
       " '10041349',\n",
       " '10039101',\n",
       " '10039101',\n",
       " '10039101',\n",
       " '10028735',\n",
       " '10028735',\n",
       " '10028735',\n",
       " '10013946',\n",
       " '10042209',\n",
       " '10029216',\n",
       " '10077275',\n",
       " 'CONCEPT_LESS',\n",
       " '10041349',\n",
       " '10041349',\n",
       " '10000496',\n",
       " '10003549',\n",
       " '10061273',\n",
       " '10000496',\n",
       " 'CONCEPT_LESS',\n",
       " 'CONCEPT_LESS',\n",
       " '10028347',\n",
       " '10044043',\n",
       " '10037844',\n",
       " '10037087',\n",
       " '10033371',\n",
       " '10015150',\n",
       " '10015150',\n",
       " '10029216',\n",
       " '10002855',\n",
       " '10037660',\n",
       " '10068319',\n",
       " '10011224',\n",
       " '10037844',\n",
       " '10037844',\n",
       " '10037844',\n",
       " '10037844',\n",
       " '10037844',\n",
       " '10003549',\n",
       " '10037660',\n",
       " '10037660',\n",
       " '10037660',\n",
       " '10005911',\n",
       " '10037844',\n",
       " 'CONCEPT_LESS',\n",
       " '10000496',\n",
       " '10037844',\n",
       " 'CONCEPT_LESS',\n",
       " '10006784',\n",
       " '10000496',\n",
       " '10000496',\n",
       " '10028735',\n",
       " '10000220',\n",
       " '10028813',\n",
       " '10012735',\n",
       " '10028813',\n",
       " 'CONCEPT_LESS',\n",
       " '10013573',\n",
       " '10033371',\n",
       " '10038776',\n",
       " '10037660',\n",
       " '10011224',\n",
       " '10039101',\n",
       " '10068319',\n",
       " '10039101',\n",
       " '10068319',\n",
       " '10011224',\n",
       " '10039101',\n",
       " '10036898',\n",
       " '10036898',\n",
       " '10011224',\n",
       " '10005911',\n",
       " '10011224',\n",
       " '10039101',\n",
       " '10005911',\n",
       " '10029216',\n",
       " '10029216',\n",
       " '10036898',\n",
       " '10061210',\n",
       " '10033371',\n",
       " '10019211',\n",
       " '10005911',\n",
       " '10019211',\n",
       " '10005911',\n",
       " '10039101',\n",
       " '10039101',\n",
       " '10025482',\n",
       " '10005911',\n",
       " '10043528',\n",
       " '10012735',\n",
       " '10040844',\n",
       " '10036898',\n",
       " '10019211',\n",
       " '10039101',\n",
       " '10080125',\n",
       " '10005911',\n",
       " '10065735',\n",
       " '10036898',\n",
       " '10041349',\n",
       " '10041349',\n",
       " '10041349',\n",
       " '10041349',\n",
       " '10061364',\n",
       " '10033425',\n",
       " '10006784',\n",
       " '10033425',\n",
       " '10051373',\n",
       " '10003050',\n",
       " '10052428',\n",
       " '10006784',\n",
       " '10013946',\n",
       " '10028813',\n",
       " '10013573',\n",
       " '10013781',\n",
       " '10043951',\n",
       " '10005750',\n",
       " '10008479',\n",
       " '10013573',\n",
       " '10047571',\n",
       " '10043882',\n",
       " '10011224',\n",
       " '10019211',\n",
       " '10020751',\n",
       " '10037844',\n",
       " '10037844',\n",
       " '10016825',\n",
       " '10020751',\n",
       " '10020751',\n",
       " '10020751',\n",
       " '10013573',\n",
       " '10028813',\n",
       " '10003569',\n",
       " '10028813',\n",
       " '10028813',\n",
       " '10016334',\n",
       " '10028813',\n",
       " '10060800',\n",
       " '10028813',\n",
       " '10070863',\n",
       " '10037660',\n",
       " '10039101',\n",
       " '10037660',\n",
       " '10036898',\n",
       " '10005911',\n",
       " '10016766',\n",
       " '10016766',\n",
       " '10016766',\n",
       " '10016766',\n",
       " '10001497',\n",
       " '10001497',\n",
       " '10034912',\n",
       " '10041349',\n",
       " '10062519',\n",
       " '10062519',\n",
       " 'CONCEPT_LESS',\n",
       " '10015946',\n",
       " '10003051',\n",
       " '10006784',\n",
       " '10000496',\n",
       " '10064578',\n",
       " '10037660',\n",
       " '10012431',\n",
       " '10019211',\n",
       " '10042674',\n",
       " '10080125',\n",
       " '10023644',\n",
       " '10005911',\n",
       " '10036898',\n",
       " '10041349',\n",
       " '10003549',\n",
       " '10005911',\n",
       " '10005911',\n",
       " '10068319',\n",
       " '10005911',\n",
       " '10041349',\n",
       " '10005911',\n",
       " '10039101',\n",
       " '10080125',\n",
       " '10000081',\n",
       " '10007947',\n",
       " '10013573',\n",
       " '10043882',\n",
       " '10047571',\n",
       " '10013573',\n",
       " '10043882',\n",
       " '10013573',\n",
       " '10074869',\n",
       " '10033371',\n",
       " 'CONCEPT_LESS',\n",
       " '10000059',\n",
       " '10033371',\n",
       " '10028334',\n",
       " '10010774',\n",
       " '10000059',\n",
       " 'CONCEPT_LESS',\n",
       " '10033371',\n",
       " '10039101',\n",
       " '10011224',\n",
       " '10005911',\n",
       " '10000081',\n",
       " '10030963',\n",
       " '10000081',\n",
       " '10010774',\n",
       " '10010774',\n",
       " '10000059',\n",
       " '10005911',\n",
       " '10005750',\n",
       " '10005750',\n",
       " '10037660',\n",
       " '10005911',\n",
       " '10036898',\n",
       " '10036898',\n",
       " '10005911',\n",
       " '10039101',\n",
       " '10036898',\n",
       " '10036898',\n",
       " '10039101',\n",
       " '10039101',\n",
       " '10036898',\n",
       " 'CONCEPT_LESS',\n",
       " '10041349',\n",
       " 'CONCEPT_LESS',\n",
       " '10036898',\n",
       " '10036898',\n",
       " '10036898',\n",
       " '10042209',\n",
       " '10010893',\n",
       " '10029216',\n",
       " '10029216',\n",
       " 'CONCEPT_LESS',\n",
       " '10052804',\n",
       " '10016322',\n",
       " '10037660',\n",
       " '10025482',\n",
       " '10041349',\n",
       " '10055798',\n",
       " '10028735',\n",
       " '10028735',\n",
       " '10015090',\n",
       " '10028735',\n",
       " '10041235',\n",
       " '10041232',\n",
       " '10005911',\n",
       " '10036898',\n",
       " 'CONCEPT_LESS',\n",
       " '10029158',\n",
       " 'CONCEPT_LESS',\n",
       " '10017999',\n",
       " 'CONCEPT_LESS',\n",
       " '10029148',\n",
       " 'CONCEPT_LESS',\n",
       " '10007027',\n",
       " '10062519',\n",
       " '10042209',\n",
       " '10000059',\n",
       " ...]"
      ]
     },
     "execution_count": 83,
     "metadata": {},
     "output_type": "execute_result"
    }
   ],
   "source": [
    "Evaluator(, test_concepts_without_conceptless)"
   ]
  },
  {
   "cell_type": "code",
   "execution_count": null,
   "id": "communist-christian",
   "metadata": {},
   "outputs": [],
   "source": [
    "#testloader = torch.utils.data.DataLoader(ds_test, batch_size=1, shuffle=False)\n",
    "net.eval()\n",
    "model_answers=[]\n",
    "real_answers=[]\n",
    "with tqdm(testloader, unit=\"batch\") as eval_process:\n",
    "    for data in eval_process:\n",
    "\n",
    "        inputs = data['tokenized_phrases']\n",
    "\n",
    "        with torch.no_grad():\n",
    "            outputs_dict = net(inputs)\n",
    "            pred_meddra_code = CV_test_without_conceptless.meddra_codes[outputs_dict['output'].argmax()]\n",
    "\n",
    "\n",
    "        model_answers.append(pred_meddra_code)\n",
    "        real_answers.append(data['label_codes'][0])\n",
    "        \n",
    "    "
   ]
  },
  {
   "cell_type": "code",
   "execution_count": 26,
   "id": "loved-radar",
   "metadata": {},
   "outputs": [
    {
     "data": {
      "text/plain": [
       "0.3333333333333333"
      ]
     },
     "execution_count": 26,
     "metadata": {},
     "output_type": "execute_result"
    }
   ],
   "source": [
    "f1_score(y_true=np.array([[1],[2],[3]]), y_pred=np.array([1,0,0]), average='micro')"
   ]
  },
  {
   "cell_type": "code",
   "execution_count": 34,
   "id": "corporate-anaheim",
   "metadata": {},
   "outputs": [
    {
     "data": {
      "text/plain": [
       "array([0, 3, 4])"
      ]
     },
     "execution_count": 34,
     "metadata": {},
     "output_type": "execute_result"
    }
   ],
   "source": [
    "import numpy as np\n",
    "\n",
    "a = np.array([1,2,3])\n",
    "b = np.array([0,1, 3, 0, 0])\n",
    "\n",
    "np.nonzero(~np.in1d(b, a))[0]"
   ]
  },
  {
   "cell_type": "code",
   "execution_count": 38,
   "id": "dress-invention",
   "metadata": {},
   "outputs": [
    {
     "data": {
      "text/plain": [
       "array([0, 0, 0])"
      ]
     },
     "execution_count": 38,
     "metadata": {},
     "output_type": "execute_result"
    }
   ],
   "source": [
    "b[np.array([0, 3, 4])]"
   ]
  },
  {
   "cell_type": "code",
   "execution_count": 32,
   "id": "potential-confusion",
   "metadata": {},
   "outputs": [
    {
     "data": {
      "text/plain": [
       "array([1, 2, 3])"
      ]
     },
     "execution_count": 32,
     "metadata": {},
     "output_type": "execute_result"
    }
   ],
   "source": [
    "np.array(np.array([1,2,3]))"
   ]
  },
  {
   "cell_type": "code",
   "execution_count": 12,
   "id": "coordinate-training",
   "metadata": {},
   "outputs": [],
   "source": [
    "net = torch.load('./Model_weights/rubert_50.pt')"
   ]
  },
  {
   "cell_type": "code",
   "execution_count": 13,
   "id": "medieval-columbus",
   "metadata": {},
   "outputs": [
    {
     "name": "stderr",
     "output_type": "stream",
     "text": [
      "100%|██████████| 3787/3787 [00:41<00:00, 91.47batch/s] \n"
     ]
    },
    {
     "name": "stdout",
     "output_type": "stream",
     "text": [
      "0.76234486400845 micro\n",
      "0.2934589715874881 macro\n"
     ]
    }
   ],
   "source": [
    "from tqdm import tqdm\n",
    "from sklearn.metrics import f1_score\n",
    "import pandas as pd\n",
    "\n",
    "testloader = torch.utils.data.DataLoader(ds_test, batch_size=1, shuffle=False)\n",
    "net.eval()\n",
    "model_answers=[]\n",
    "real_answers=[]\n",
    "with tqdm(testloader, unit=\"batch\") as eval_process:\n",
    "    for data in eval_process:\n",
    "\n",
    "        inputs = data['tokenized_phrases']\n",
    "\n",
    "        with torch.no_grad():\n",
    "            outputs_dict = net(inputs)\n",
    "            pred_meddra_code = CV_test_without_conceptless.meddra_codes[outputs_dict['output'].argmax()]\n",
    "\n",
    "\n",
    "        model_answers.append(pred_meddra_code)\n",
    "        real_answers.append(data['label_codes'])\n",
    "        \n",
    "    f1 = f1_score(real_answers, model_answers, average='micro')\n",
    "    print('%s micro'%f1)\n",
    "    f1 = f1_score(real_answers, model_answers, average='macro')\n",
    "    print('%s macro'%f1)\n",
    "            \n"
   ]
  },
  {
   "cell_type": "markdown",
   "id": "flexible-trader",
   "metadata": {},
   "source": [
    "---"
   ]
  },
  {
   "cell_type": "code",
   "execution_count": 14,
   "id": "pleased-athletics",
   "metadata": {},
   "outputs": [
    {
     "name": "stderr",
     "output_type": "stream",
     "text": [
      "Epoch 1: 100%|██████████| 508/508 [01:42<00:00,  4.97batch/s, loss_decrease=1.0000003765853183]\n",
      "100%|██████████| 3787/3787 [01:22<00:00, 45.94batch/s]\n"
     ]
    },
    {
     "name": "stdout",
     "output_type": "stream",
     "text": [
      "0.28201742804330604\n"
     ]
    },
    {
     "name": "stderr",
     "output_type": "stream",
     "text": [
      "Epoch 2: 100%|██████████| 508/508 [01:41<00:00,  5.03batch/s, loss_decrease=1.0000003765853183]\n",
      "100%|██████████| 3787/3787 [01:14<00:00, 50.50batch/s]\n"
     ]
    },
    {
     "name": "stdout",
     "output_type": "stream",
     "text": [
      "0.4415104304198574\n"
     ]
    },
    {
     "name": "stderr",
     "output_type": "stream",
     "text": [
      "Epoch 3: 100%|██████████| 508/508 [01:38<00:00,  5.14batch/s, loss_decrease=1.000000470731692] \n",
      "100%|██████████| 3787/3787 [01:16<00:00, 49.60batch/s]\n"
     ]
    },
    {
     "name": "stdout",
     "output_type": "stream",
     "text": [
      "0.5167678901505149\n"
     ]
    },
    {
     "name": "stderr",
     "output_type": "stream",
     "text": [
      "Epoch 4: 100%|██████████| 508/508 [01:40<00:00,  5.06batch/s, loss_decrease=1.000000470731692] \n",
      "100%|██████████| 3787/3787 [01:14<00:00, 50.53batch/s]\n"
     ]
    },
    {
     "name": "stdout",
     "output_type": "stream",
     "text": [
      "0.5373646686031159\n"
     ]
    },
    {
     "name": "stderr",
     "output_type": "stream",
     "text": [
      "Epoch 5: 100%|██████████| 508/508 [01:41<00:00,  4.99batch/s, loss_decrease=1.000000470731692] \n",
      "100%|██████████| 3787/3787 [01:14<00:00, 50.78batch/s]\n"
     ]
    },
    {
     "name": "stdout",
     "output_type": "stream",
     "text": [
      "0.5579614470557169\n"
     ]
    },
    {
     "name": "stderr",
     "output_type": "stream",
     "text": [
      "Epoch 6: 100%|██████████| 508/508 [01:36<00:00,  5.25batch/s, loss_decrease=1.000000470731692] \n",
      "100%|██████████| 3787/3787 [01:14<00:00, 50.88batch/s]\n"
     ]
    },
    {
     "name": "stdout",
     "output_type": "stream",
     "text": [
      "0.6216002112490098\n"
     ]
    },
    {
     "name": "stderr",
     "output_type": "stream",
     "text": [
      "Epoch 7: 100%|██████████| 508/508 [01:37<00:00,  5.20batch/s, loss_decrease=1.0000005648780839]\n",
      "100%|██████████| 3787/3787 [01:16<00:00, 49.59batch/s]\n"
     ]
    },
    {
     "name": "stdout",
     "output_type": "stream",
     "text": [
      "0.6374438869817798\n"
     ]
    },
    {
     "name": "stderr",
     "output_type": "stream",
     "text": [
      "Epoch 8: 100%|██████████| 508/508 [01:38<00:00,  5.15batch/s, loss_decrease=1.0000005648780839]\n",
      "100%|██████████| 3787/3787 [01:14<00:00, 51.16batch/s]\n"
     ]
    },
    {
     "name": "stdout",
     "output_type": "stream",
     "text": [
      "0.659360971745445\n"
     ]
    },
    {
     "name": "stderr",
     "output_type": "stream",
     "text": [
      "Epoch 9: 100%|██████████| 508/508 [01:39<00:00,  5.08batch/s, loss_decrease=1.0000005648780839]\n",
      "100%|██████████| 3787/3787 [01:15<00:00, 50.15batch/s]\n"
     ]
    },
    {
     "name": "stdout",
     "output_type": "stream",
     "text": [
      "0.659360971745445\n"
     ]
    },
    {
     "name": "stderr",
     "output_type": "stream",
     "text": [
      "Epoch 10: 100%|██████████| 508/508 [01:40<00:00,  5.03batch/s, loss_decrease=1.0000005648780839]\n",
      "100%|██████████| 3787/3787 [01:15<00:00, 50.06batch/s]\n"
     ]
    },
    {
     "name": "stdout",
     "output_type": "stream",
     "text": [
      "0.654607869025614\n"
     ]
    },
    {
     "name": "stderr",
     "output_type": "stream",
     "text": [
      "Epoch 11: 100%|██████████| 508/508 [01:38<00:00,  5.15batch/s, loss_decrease=1.0000005648780839]\n",
      "100%|██████████| 3787/3787 [01:15<00:00, 50.46batch/s]\n"
     ]
    },
    {
     "name": "stdout",
     "output_type": "stream",
     "text": [
      "0.6596250330076577\n"
     ]
    },
    {
     "name": "stderr",
     "output_type": "stream",
     "text": [
      "Epoch 12: 100%|██████████| 508/508 [01:32<00:00,  5.50batch/s, loss_decrease=1.0000005648780839]\n",
      "100%|██████████| 3787/3787 [01:12<00:00, 51.97batch/s]\n"
     ]
    },
    {
     "name": "stdout",
     "output_type": "stream",
     "text": [
      "0.66728280961183\n"
     ]
    },
    {
     "name": "stderr",
     "output_type": "stream",
     "text": [
      "Epoch 13: 100%|██████████| 508/508 [01:40<00:00,  5.08batch/s, loss_decrease=1.0000005648780839]\n",
      "100%|██████████| 3787/3787 [01:14<00:00, 50.73batch/s]\n"
     ]
    },
    {
     "name": "stdout",
     "output_type": "stream",
     "text": [
      "0.6891998943754951\n"
     ]
    },
    {
     "name": "stderr",
     "output_type": "stream",
     "text": [
      "Epoch 14: 100%|██████████| 508/508 [01:34<00:00,  5.35batch/s, loss_decrease=1.0000005648780839]\n",
      "100%|██████████| 3787/3787 [01:16<00:00, 49.41batch/s]\n"
     ]
    },
    {
     "name": "stdout",
     "output_type": "stream",
     "text": [
      "0.6913123844731978\n"
     ]
    },
    {
     "name": "stderr",
     "output_type": "stream",
     "text": [
      "Epoch 15: 100%|██████████| 508/508 [01:35<00:00,  5.35batch/s, loss_decrease=1.0000005648780839]\n",
      "100%|██████████| 3787/3787 [01:14<00:00, 50.68batch/s]\n"
     ]
    },
    {
     "name": "stdout",
     "output_type": "stream",
     "text": [
      "0.6981779772907315\n"
     ]
    },
    {
     "name": "stderr",
     "output_type": "stream",
     "text": [
      "Epoch 16: 100%|██████████| 508/508 [01:37<00:00,  5.21batch/s, loss_decrease=1.0000006590244932]\n",
      "100%|██████████| 3787/3787 [01:15<00:00, 49.88batch/s]\n"
     ]
    },
    {
     "name": "stdout",
     "output_type": "stream",
     "text": [
      "0.6968576709796673\n"
     ]
    },
    {
     "name": "stderr",
     "output_type": "stream",
     "text": [
      "Epoch 17: 100%|██████████| 508/508 [01:38<00:00,  5.15batch/s, loss_decrease=1.0000006590244932]\n",
      "100%|██████████| 3787/3787 [01:13<00:00, 51.50batch/s]\n"
     ]
    },
    {
     "name": "stdout",
     "output_type": "stream",
     "text": [
      "0.6992342223395828\n"
     ]
    },
    {
     "name": "stderr",
     "output_type": "stream",
     "text": [
      "Epoch 18: 100%|██████████| 508/508 [01:34<00:00,  5.37batch/s, loss_decrease=1.0000006590244932]\n",
      "100%|██████████| 3787/3787 [01:15<00:00, 50.47batch/s]\n"
     ]
    },
    {
     "name": "stdout",
     "output_type": "stream",
     "text": [
      "0.6918405069976235\n"
     ]
    },
    {
     "name": "stderr",
     "output_type": "stream",
     "text": [
      "Epoch 19: 100%|██████████| 508/508 [01:39<00:00,  5.10batch/s, loss_decrease=1.0000006590244932]\n",
      "100%|██████████| 3787/3787 [01:14<00:00, 50.90batch/s]\n"
     ]
    },
    {
     "name": "stdout",
     "output_type": "stream",
     "text": [
      "0.6794296276736203\n"
     ]
    },
    {
     "name": "stderr",
     "output_type": "stream",
     "text": [
      "Epoch 20: 100%|██████████| 508/508 [01:40<00:00,  5.07batch/s, loss_decrease=1.0000006590244932]\n",
      "100%|██████████| 3787/3787 [01:14<00:00, 51.15batch/s]\n"
     ]
    },
    {
     "name": "stdout",
     "output_type": "stream",
     "text": [
      "0.6720359123316609\n"
     ]
    },
    {
     "name": "stderr",
     "output_type": "stream",
     "text": [
      "Epoch 21: 100%|██████████| 508/508 [01:40<00:00,  5.04batch/s, loss_decrease=1.0000006590244932]\n",
      "100%|██████████| 3787/3787 [01:13<00:00, 51.22batch/s]\n"
     ]
    },
    {
     "name": "stdout",
     "output_type": "stream",
     "text": [
      "0.7045154475838394\n"
     ]
    },
    {
     "name": "stderr",
     "output_type": "stream",
     "text": [
      "Epoch 22: 100%|██████████| 508/508 [01:40<00:00,  5.07batch/s, loss_decrease=1.0000006590244932]\n",
      "100%|██████████| 3787/3787 [01:14<00:00, 50.67batch/s]\n"
     ]
    },
    {
     "name": "stdout",
     "output_type": "stream",
     "text": [
      "0.6973857935040929\n"
     ]
    },
    {
     "name": "stderr",
     "output_type": "stream",
     "text": [
      "Epoch 23: 100%|██████████| 508/508 [01:38<00:00,  5.16batch/s, loss_decrease=1.0000006590244932]\n",
      "100%|██████████| 3787/3787 [01:18<00:00, 48.42batch/s]\n"
     ]
    },
    {
     "name": "stdout",
     "output_type": "stream",
     "text": [
      "0.7166622656456297\n"
     ]
    },
    {
     "name": "stderr",
     "output_type": "stream",
     "text": [
      "Epoch 24: 100%|██████████| 508/508 [01:40<00:00,  5.06batch/s, loss_decrease=1.0000006590244932]\n",
      "100%|██████████| 3787/3787 [01:15<00:00, 50.47batch/s]\n"
     ]
    },
    {
     "name": "stdout",
     "output_type": "stream",
     "text": [
      "0.7092685503036703\n"
     ]
    },
    {
     "name": "stderr",
     "output_type": "stream",
     "text": [
      "Epoch 25: 100%|██████████| 508/508 [01:40<00:00,  5.06batch/s, loss_decrease=1.0000006590244932]\n",
      "100%|██████████| 3787/3787 [01:16<00:00, 49.55batch/s]\n"
     ]
    },
    {
     "name": "stdout",
     "output_type": "stream",
     "text": [
      "0.7119091629257988\n"
     ]
    },
    {
     "name": "stderr",
     "output_type": "stream",
     "text": [
      "Epoch 26: 100%|██████████| 508/508 [01:39<00:00,  5.09batch/s, loss_decrease=1.0000006590244932]\n",
      "100%|██████████| 3787/3787 [01:13<00:00, 51.42batch/s]\n"
     ]
    },
    {
     "name": "stdout",
     "output_type": "stream",
     "text": [
      "0.7074201214681806\n"
     ]
    },
    {
     "name": "stderr",
     "output_type": "stream",
     "text": [
      "Epoch 27: 100%|██████████| 508/508 [01:39<00:00,  5.11batch/s, loss_decrease=1.0000006590244932]\n",
      "100%|██████████| 3787/3787 [01:14<00:00, 50.64batch/s]\n"
     ]
    },
    {
     "name": "stdout",
     "output_type": "stream",
     "text": [
      "0.6981779772907315\n"
     ]
    },
    {
     "name": "stderr",
     "output_type": "stream",
     "text": [
      "Epoch 28: 100%|██████████| 508/508 [01:40<00:00,  5.08batch/s, loss_decrease=1.0000006590244932]\n",
      "100%|██████████| 3787/3787 [01:14<00:00, 50.99batch/s]\n"
     ]
    },
    {
     "name": "stdout",
     "output_type": "stream",
     "text": [
      "0.7026670187483496\n"
     ]
    },
    {
     "name": "stderr",
     "output_type": "stream",
     "text": [
      "Epoch 29: 100%|██████████| 508/508 [01:39<00:00,  5.08batch/s, loss_decrease=1.0000006590244932]\n",
      "100%|██████████| 3787/3787 [01:14<00:00, 50.57batch/s]\n"
     ]
    },
    {
     "name": "stdout",
     "output_type": "stream",
     "text": [
      "0.7132294692368629\n"
     ]
    },
    {
     "name": "stderr",
     "output_type": "stream",
     "text": [
      "Epoch 30: 100%|██████████| 508/508 [01:39<00:00,  5.09batch/s, loss_decrease=1.0000006590244932]\n",
      "100%|██████████| 3787/3787 [01:14<00:00, 50.82batch/s]\n"
     ]
    },
    {
     "name": "stdout",
     "output_type": "stream",
     "text": [
      "0.7171903881700554\n"
     ]
    },
    {
     "name": "stderr",
     "output_type": "stream",
     "text": [
      "Epoch 31: 100%|██████████| 508/508 [01:40<00:00,  5.08batch/s, loss_decrease=1.00000075317092]  \n",
      "100%|██████████| 3787/3787 [01:14<00:00, 50.78batch/s]\n"
     ]
    },
    {
     "name": "stdout",
     "output_type": "stream",
     "text": [
      "0.7169263269078426\n"
     ]
    },
    {
     "name": "stderr",
     "output_type": "stream",
     "text": [
      "Epoch 32: 100%|██████████| 508/508 [01:40<00:00,  5.08batch/s, loss_decrease=1.00000075317092]  \n",
      "100%|██████████| 3787/3787 [01:16<00:00, 49.51batch/s]\n"
     ]
    },
    {
     "name": "stdout",
     "output_type": "stream",
     "text": [
      "0.7203591233166093\n"
     ]
    },
    {
     "name": "stderr",
     "output_type": "stream",
     "text": [
      "Epoch 33: 100%|██████████| 508/508 [01:37<00:00,  5.22batch/s, loss_decrease=1.00000075317092]  \n",
      "100%|██████████| 3787/3787 [01:15<00:00, 50.38batch/s]\n"
     ]
    },
    {
     "name": "stdout",
     "output_type": "stream",
     "text": [
      "0.7198310007921838\n"
     ]
    },
    {
     "name": "stderr",
     "output_type": "stream",
     "text": [
      "Epoch 34: 100%|██████████| 508/508 [01:40<00:00,  5.04batch/s, loss_decrease=1.0000006590244932]\n",
      "100%|██████████| 3787/3787 [01:13<00:00, 51.41batch/s]\n"
     ]
    },
    {
     "name": "stdout",
     "output_type": "stream",
     "text": [
      "0.711645101663586\n"
     ]
    },
    {
     "name": "stderr",
     "output_type": "stream",
     "text": [
      "Epoch 35: 100%|██████████| 508/508 [01:41<00:00,  5.01batch/s, loss_decrease=1.00000075317092]  \n",
      "100%|██████████| 3787/3787 [01:15<00:00, 49.95batch/s]\n"
     ]
    },
    {
     "name": "stdout",
     "output_type": "stream",
     "text": [
      "0.6960654871930287\n"
     ]
    },
    {
     "name": "stderr",
     "output_type": "stream",
     "text": [
      "Epoch 36: 100%|██████████| 508/508 [01:41<00:00,  5.02batch/s, loss_decrease=1.00000075317092]  \n",
      "100%|██████████| 3787/3787 [01:13<00:00, 51.68batch/s]\n"
     ]
    },
    {
     "name": "stdout",
     "output_type": "stream",
     "text": [
      "0.6899920781621336\n"
     ]
    },
    {
     "name": "stderr",
     "output_type": "stream",
     "text": [
      "Epoch 37: 100%|██████████| 508/508 [01:38<00:00,  5.15batch/s, loss_decrease=1.00000075317092]  \n",
      "100%|██████████| 3787/3787 [01:15<00:00, 50.26batch/s]\n"
     ]
    },
    {
     "name": "stdout",
     "output_type": "stream",
     "text": [
      "0.7163982043834168\n"
     ]
    },
    {
     "name": "stderr",
     "output_type": "stream",
     "text": [
      "Epoch 38: 100%|██████████| 508/508 [01:40<00:00,  5.07batch/s, loss_decrease=1.0000006590244932]\n",
      "100%|██████████| 3787/3787 [01:22<00:00, 45.99batch/s]\n"
     ]
    },
    {
     "name": "stdout",
     "output_type": "stream",
     "text": [
      "0.7179825719566939\n"
     ]
    },
    {
     "name": "stderr",
     "output_type": "stream",
     "text": [
      "Epoch 39: 100%|██████████| 508/508 [01:39<00:00,  5.12batch/s, loss_decrease=1.00000075317092]  \n",
      "100%|██████████| 3787/3787 [01:13<00:00, 51.47batch/s]\n"
     ]
    },
    {
     "name": "stdout",
     "output_type": "stream",
     "text": [
      "0.7156060205967785\n"
     ]
    },
    {
     "name": "stderr",
     "output_type": "stream",
     "text": [
      "Epoch 40: 100%|██████████| 508/508 [01:40<00:00,  5.06batch/s, loss_decrease=1.0000006590244932]\n",
      "100%|██████████| 3787/3787 [01:15<00:00, 49.95batch/s]\n"
     ]
    },
    {
     "name": "stdout",
     "output_type": "stream",
     "text": [
      "0.7190388170055453\n"
     ]
    },
    {
     "name": "stderr",
     "output_type": "stream",
     "text": [
      "Epoch 41: 100%|██████████| 508/508 [01:41<00:00,  5.03batch/s, loss_decrease=1.00000075317092]  \n",
      "100%|██████████| 3787/3787 [01:15<00:00, 50.09batch/s]\n"
     ]
    },
    {
     "name": "stdout",
     "output_type": "stream",
     "text": [
      "0.7232637972009505\n"
     ]
    },
    {
     "name": "stderr",
     "output_type": "stream",
     "text": [
      "Epoch 42: 100%|██████████| 508/508 [01:41<00:00,  5.02batch/s, loss_decrease=1.0000006590244932]\n",
      "100%|██████████| 3787/3787 [01:14<00:00, 50.74batch/s]\n"
     ]
    },
    {
     "name": "stdout",
     "output_type": "stream",
     "text": [
      "0.719566939529971\n"
     ]
    },
    {
     "name": "stderr",
     "output_type": "stream",
     "text": [
      "Epoch 43: 100%|██████████| 508/508 [01:40<00:00,  5.06batch/s, loss_decrease=1.00000075317092]  \n",
      "100%|██████████| 3787/3787 [01:14<00:00, 51.02batch/s]\n"
     ]
    },
    {
     "name": "stdout",
     "output_type": "stream",
     "text": [
      "0.7193028782677581\n"
     ]
    },
    {
     "name": "stderr",
     "output_type": "stream",
     "text": [
      "Epoch 44: 100%|██████████| 508/508 [01:41<00:00,  5.02batch/s, loss_decrease=1.00000075317092]  \n",
      "100%|██████████| 3787/3787 [01:14<00:00, 51.06batch/s]\n"
     ]
    },
    {
     "name": "stdout",
     "output_type": "stream",
     "text": [
      "0.732241880116187\n"
     ]
    },
    {
     "name": "stderr",
     "output_type": "stream",
     "text": [
      "Epoch 45: 100%|██████████| 508/508 [01:39<00:00,  5.10batch/s, loss_decrease=1.0000006590244932]\n",
      "100%|██████████| 3787/3787 [01:13<00:00, 51.58batch/s]\n"
     ]
    },
    {
     "name": "stdout",
     "output_type": "stream",
     "text": [
      "0.7171903881700554\n"
     ]
    },
    {
     "name": "stderr",
     "output_type": "stream",
     "text": [
      "Epoch 46: 100%|██████████| 508/508 [01:40<00:00,  5.07batch/s, loss_decrease=1.00000075317092]  \n",
      "100%|██████████| 3787/3787 [01:14<00:00, 51.16batch/s]\n"
     ]
    },
    {
     "name": "stdout",
     "output_type": "stream",
     "text": [
      "0.7237919197253764\n"
     ]
    },
    {
     "name": "stderr",
     "output_type": "stream",
     "text": [
      "Epoch 47: 100%|██████████| 508/508 [01:39<00:00,  5.09batch/s, loss_decrease=1.00000075317092]  \n",
      "100%|██████████| 3787/3787 [01:12<00:00, 51.91batch/s]\n"
     ]
    },
    {
     "name": "stdout",
     "output_type": "stream",
     "text": [
      "0.7208872458410351\n"
     ]
    },
    {
     "name": "stderr",
     "output_type": "stream",
     "text": [
      "Epoch 48: 100%|██████████| 508/508 [01:40<00:00,  5.06batch/s, loss_decrease=1.00000075317092]  \n",
      "100%|██████████| 3787/3787 [01:16<00:00, 49.39batch/s]\n"
     ]
    },
    {
     "name": "stdout",
     "output_type": "stream",
     "text": [
      "0.7219434908898863\n"
     ]
    },
    {
     "name": "stderr",
     "output_type": "stream",
     "text": [
      "Epoch 49: 100%|██████████| 508/508 [01:40<00:00,  5.08batch/s, loss_decrease=1.0000006590244932]\n",
      "100%|██████████| 3787/3787 [01:15<00:00, 50.03batch/s]\n"
     ]
    },
    {
     "name": "stdout",
     "output_type": "stream",
     "text": [
      "0.7222075521520993\n"
     ]
    },
    {
     "name": "stderr",
     "output_type": "stream",
     "text": [
      "Epoch 50: 100%|██████████| 508/508 [01:39<00:00,  5.09batch/s, loss_decrease=1.00000075317092]  \n",
      "100%|██████████| 3787/3787 [01:14<00:00, 50.98batch/s]\n"
     ]
    },
    {
     "name": "stdout",
     "output_type": "stream",
     "text": [
      "0.7280168999207816\n",
      "Finished Training\n"
     ]
    }
   ],
   "source": [
    "from tqdm import trange\n",
    "from tqdm import tqdm\n",
    "from sklearn.metrics import classification_report, f1_score\n",
    "\n",
    "\n",
    "\n",
    "#Гиперпараметры\n",
    "batch_size=16\n",
    "epochs = 50\n",
    "    \n",
    "trainloader = torch.utils.data.DataLoader(ds_train, batch_size=batch_size,\n",
    "                                          shuffle=False, num_workers=0)\n",
    "testloader = torch.utils.data.DataLoader(ds_test, batch_size=1, shuffle=False)\n",
    "\n",
    "net.train()\n",
    "initial_loss = None\n",
    "best_f1=0\n",
    "for epoch in range(1, epochs+1):\n",
    "    #обучение модели в эпохе\n",
    "    net.train()\n",
    "    with tqdm(trainloader, unit=\"batch\") as tepoch:\n",
    "        for data in tepoch:\n",
    "\n",
    "            tepoch.set_description(f\"Epoch {epoch}\")\n",
    "\n",
    "            inputs = data['tokenized_phrases']\n",
    "            labels = data['one_hot_labels']\n",
    "\n",
    "            optimizer.zero_grad()\n",
    "            if USE_CUDA:\n",
    "                with torch.cuda.amp.autocast():\n",
    "                    outputs = net(inputs)['output']\n",
    "                    loss = criterion(outputs, labels)\n",
    "                scaler.scale(loss).backward()\n",
    "                scaler.step(optimizer)\n",
    "                scheduler.step()\n",
    "                #scheduler.step()\n",
    "                scaler.update()\n",
    "            else:\n",
    "                outputs = net(inputs)['output']\n",
    "                loss = criterion(outputs, labels)\n",
    "                loss.backward()\n",
    "                optimizer.step()\n",
    "                scheduler.step()\n",
    "            if initial_loss is None:\n",
    "                initial_loss = loss.item()\n",
    "            tepoch.set_postfix(loss_decrease = str(initial_loss/loss.item()))\n",
    "    #расчет точностей модели после эпохи\n",
    "    net.eval()\n",
    "    model_answers=[]\n",
    "    real_answers=[]\n",
    "    with tqdm(testloader, unit=\"batch\") as eval_process:\n",
    "        for data in eval_process:\n",
    "\n",
    "            inputs = data['tokenized_phrases']\n",
    "\n",
    "            with torch.no_grad():\n",
    "                outputs_dict = net(inputs)\n",
    "                pred_meddra_code = CV_test_without_conceptless.meddra_codes[outputs_dict['output'].argmax()]\n",
    "\n",
    "\n",
    "            model_answers.append(pred_meddra_code)\n",
    "            real_answers.append(data['label_codes'])\n",
    "    f1 = f1_score(real_answers, model_answers, average='micro')\n",
    "    if f1>best_f1:\n",
    "        best_f1=f1\n",
    "        torch.save(net,'./Model_weights/xlmrobertasag_best_cycliclr_%s.pt'%epoch)\n",
    "    if epoch==9:\n",
    "        torch.save(net,'./Model_weights/xlmrobertasag_cycliclr_%s.pt'%epoch)\n",
    "    print(f1)\n",
    "            \n",
    "print('Finished Training')\n",
    "torch.save(net,'./Model_weights/xlmrobertasag_cycliclr_%s.pt'%epoch)"
   ]
  },
  {
   "cell_type": "markdown",
   "id": "separate-wright",
   "metadata": {},
   "source": [
    "<h3>Процесс обучения и рассчета точностей xlmrobertasag</h3>"
   ]
  },
  {
   "cell_type": "code",
   "execution_count": 14,
   "id": "exciting-interval",
   "metadata": {},
   "outputs": [
    {
     "name": "stderr",
     "output_type": "stream",
     "text": [
      "Epoch 1: 100%|██████████| 508/508 [01:43<00:00,  4.89batch/s, loss_decrease=1.0000002824389622]\n",
      "100%|██████████| 3787/3787 [01:16<00:00, 49.41batch/s]\n"
     ]
    },
    {
     "name": "stdout",
     "output_type": "stream",
     "text": [
      "0.2207552152099287\n"
     ]
    },
    {
     "name": "stderr",
     "output_type": "stream",
     "text": [
      "Epoch 2: 100%|██████████| 508/508 [01:40<00:00,  5.04batch/s, loss_decrease=1.0000003765853183]\n",
      "100%|██████████| 3787/3787 [01:21<00:00, 46.64batch/s]\n"
     ]
    },
    {
     "name": "stdout",
     "output_type": "stream",
     "text": [
      "0.39820438341695275\n"
     ]
    },
    {
     "name": "stderr",
     "output_type": "stream",
     "text": [
      "Epoch 3: 100%|██████████| 508/508 [01:41<00:00,  5.00batch/s, loss_decrease=1.0000003765853183]\n",
      "100%|██████████| 3787/3787 [01:17<00:00, 48.72batch/s]\n"
     ]
    },
    {
     "name": "stdout",
     "output_type": "stream",
     "text": [
      "0.4478479007129655\n"
     ]
    },
    {
     "name": "stderr",
     "output_type": "stream",
     "text": [
      "Epoch 4: 100%|██████████| 508/508 [01:39<00:00,  5.09batch/s, loss_decrease=1.0000003765853183]\n",
      "100%|██████████| 3787/3787 [01:16<00:00, 49.83batch/s]\n"
     ]
    },
    {
     "name": "stdout",
     "output_type": "stream",
     "text": [
      "0.4969632954845524\n"
     ]
    },
    {
     "name": "stderr",
     "output_type": "stream",
     "text": [
      "Epoch 5: 100%|██████████| 508/508 [01:40<00:00,  5.06batch/s, loss_decrease=1.0000003765853183]\n",
      "100%|██████████| 3787/3787 [01:16<00:00, 49.19batch/s]\n"
     ]
    },
    {
     "name": "stdout",
     "output_type": "stream",
     "text": [
      "0.5352521785054133\n"
     ]
    },
    {
     "name": "stderr",
     "output_type": "stream",
     "text": [
      "Epoch 6: 100%|██████████| 508/508 [01:38<00:00,  5.18batch/s, loss_decrease=1.000000470731692] \n",
      "100%|██████████| 3787/3787 [01:18<00:00, 48.30batch/s]\n"
     ]
    },
    {
     "name": "stdout",
     "output_type": "stream",
     "text": [
      "0.5423818325851597\n"
     ]
    },
    {
     "name": "stderr",
     "output_type": "stream",
     "text": [
      "Epoch 7: 100%|██████████| 508/508 [01:42<00:00,  4.94batch/s, loss_decrease=1.000000470731692] \n",
      "100%|██████████| 3787/3787 [01:22<00:00, 46.16batch/s]\n"
     ]
    },
    {
     "name": "stdout",
     "output_type": "stream",
     "text": [
      "0.5635067335621864\n"
     ]
    },
    {
     "name": "stderr",
     "output_type": "stream",
     "text": [
      "Epoch 8: 100%|██████████| 508/508 [01:40<00:00,  5.05batch/s, loss_decrease=1.000000470731692] \n",
      "100%|██████████| 3787/3787 [01:15<00:00, 50.19batch/s]\n"
     ]
    },
    {
     "name": "stdout",
     "output_type": "stream",
     "text": [
      "0.5777660417216794\n"
     ]
    },
    {
     "name": "stderr",
     "output_type": "stream",
     "text": [
      "Epoch 9: 100%|██████████| 508/508 [01:41<00:00,  4.99batch/s, loss_decrease=1.000000470731692] \n",
      "100%|██████████| 3787/3787 [01:17<00:00, 49.01batch/s]\n"
     ]
    },
    {
     "name": "stdout",
     "output_type": "stream",
     "text": [
      "0.6041721679429628\n"
     ]
    },
    {
     "name": "stderr",
     "output_type": "stream",
     "text": [
      "Epoch 10: 100%|██████████| 508/508 [01:39<00:00,  5.11batch/s, loss_decrease=1.000000470731692] \n",
      "100%|██████████| 3787/3787 [01:12<00:00, 51.94batch/s]\n"
     ]
    },
    {
     "name": "stdout",
     "output_type": "stream",
     "text": [
      "0.6165830472669659\n"
     ]
    },
    {
     "name": "stderr",
     "output_type": "stream",
     "text": [
      "Epoch 11: 100%|██████████| 508/508 [01:39<00:00,  5.12batch/s, loss_decrease=1.000000470731692] \n",
      "100%|██████████| 3787/3787 [01:16<00:00, 49.54batch/s]\n"
     ]
    },
    {
     "name": "stdout",
     "output_type": "stream",
     "text": [
      "0.6258251914444151\n"
     ]
    },
    {
     "name": "stderr",
     "output_type": "stream",
     "text": [
      "Epoch 12: 100%|██████████| 508/508 [01:38<00:00,  5.14batch/s, loss_decrease=1.000000470731692] \n",
      "100%|██████████| 3787/3787 [01:12<00:00, 52.01batch/s]\n"
     ]
    },
    {
     "name": "stdout",
     "output_type": "stream",
     "text": [
      "0.6326907842619488\n"
     ]
    },
    {
     "name": "stderr",
     "output_type": "stream",
     "text": [
      "Epoch 13: 100%|██████████| 508/508 [01:39<00:00,  5.11batch/s, loss_decrease=1.000000470731692] \n",
      "100%|██████████| 3787/3787 [01:18<00:00, 48.40batch/s]\n"
     ]
    },
    {
     "name": "stdout",
     "output_type": "stream",
     "text": [
      "0.6337470293108001\n"
     ]
    },
    {
     "name": "stderr",
     "output_type": "stream",
     "text": [
      "Epoch 14: 100%|██████████| 508/508 [01:38<00:00,  5.16batch/s, loss_decrease=1.000000470731692] \n",
      "100%|██████████| 3787/3787 [01:15<00:00, 50.46batch/s]\n"
     ]
    },
    {
     "name": "stdout",
     "output_type": "stream",
     "text": [
      "0.6363876419329284\n"
     ]
    },
    {
     "name": "stderr",
     "output_type": "stream",
     "text": [
      "Epoch 15: 100%|██████████| 508/508 [01:39<00:00,  5.12batch/s, loss_decrease=1.0000005648780839]\n",
      "100%|██████████| 3787/3787 [01:14<00:00, 50.64batch/s]\n"
     ]
    },
    {
     "name": "stdout",
     "output_type": "stream",
     "text": [
      "0.6456297861103776\n"
     ]
    },
    {
     "name": "stderr",
     "output_type": "stream",
     "text": [
      "Epoch 16: 100%|██████████| 508/508 [01:38<00:00,  5.13batch/s, loss_decrease=1.0000005648780839]\n",
      "100%|██████████| 3787/3787 [01:13<00:00, 51.74batch/s]\n"
     ]
    },
    {
     "name": "stdout",
     "output_type": "stream",
     "text": [
      "0.6612094005809348\n"
     ]
    },
    {
     "name": "stderr",
     "output_type": "stream",
     "text": [
      "Epoch 17: 100%|██████████| 508/508 [01:38<00:00,  5.14batch/s, loss_decrease=1.0000005648780839]\n",
      "100%|██████████| 3787/3787 [01:13<00:00, 51.53batch/s]\n"
     ]
    },
    {
     "name": "stdout",
     "output_type": "stream",
     "text": [
      "0.6609453393187219\n"
     ]
    },
    {
     "name": "stderr",
     "output_type": "stream",
     "text": [
      "Epoch 18: 100%|██████████| 508/508 [01:43<00:00,  4.91batch/s, loss_decrease=1.0000005648780839]\n",
      "100%|██████████| 3787/3787 [01:23<00:00, 45.38batch/s]\n"
     ]
    },
    {
     "name": "stdout",
     "output_type": "stream",
     "text": [
      "0.6691312384473198\n"
     ]
    },
    {
     "name": "stderr",
     "output_type": "stream",
     "text": [
      "Epoch 19: 100%|██████████| 508/508 [01:42<00:00,  4.95batch/s, loss_decrease=1.0000005648780839]\n",
      "100%|██████████| 3787/3787 [01:13<00:00, 51.73batch/s]\n"
     ]
    },
    {
     "name": "stdout",
     "output_type": "stream",
     "text": [
      "0.6744124636915765\n"
     ]
    },
    {
     "name": "stderr",
     "output_type": "stream",
     "text": [
      "Epoch 20: 100%|██████████| 508/508 [01:41<00:00,  5.03batch/s, loss_decrease=1.0000005648780839]\n",
      "100%|██████████| 3787/3787 [01:24<00:00, 45.07batch/s]\n"
     ]
    },
    {
     "name": "stdout",
     "output_type": "stream",
     "text": [
      "0.665698442038553\n"
     ]
    },
    {
     "name": "stderr",
     "output_type": "stream",
     "text": [
      "Epoch 21: 100%|██████████| 508/508 [01:37<00:00,  5.20batch/s, loss_decrease=1.0000005648780839]\n",
      "100%|██████████| 3787/3787 [01:16<00:00, 49.19batch/s]\n"
     ]
    },
    {
     "name": "stdout",
     "output_type": "stream",
     "text": [
      "0.6778452601003433\n"
     ]
    },
    {
     "name": "stderr",
     "output_type": "stream",
     "text": [
      "Epoch 22: 100%|██████████| 508/508 [01:38<00:00,  5.14batch/s, loss_decrease=1.0000005648780839]\n",
      "100%|██████████| 3787/3787 [01:13<00:00, 51.50batch/s]\n"
     ]
    },
    {
     "name": "stdout",
     "output_type": "stream",
     "text": [
      "0.6765249537892791\n"
     ]
    },
    {
     "name": "stderr",
     "output_type": "stream",
     "text": [
      "Epoch 23: 100%|██████████| 508/508 [01:39<00:00,  5.08batch/s, loss_decrease=1.0000005648780839]\n",
      "100%|██████████| 3787/3787 [01:21<00:00, 46.49batch/s]\n"
     ]
    },
    {
     "name": "stdout",
     "output_type": "stream",
     "text": [
      "0.6936889358331133\n"
     ]
    },
    {
     "name": "stderr",
     "output_type": "stream",
     "text": [
      "Epoch 24: 100%|██████████| 508/508 [01:40<00:00,  5.04batch/s, loss_decrease=1.0000006590244932]\n",
      "100%|██████████| 3787/3787 [01:16<00:00, 49.37batch/s]\n"
     ]
    },
    {
     "name": "stdout",
     "output_type": "stream",
     "text": [
      "0.6886717718510694\n"
     ]
    },
    {
     "name": "stderr",
     "output_type": "stream",
     "text": [
      "Epoch 25: 100%|██████████| 508/508 [01:39<00:00,  5.09batch/s, loss_decrease=1.0000005648780839]\n",
      "100%|██████████| 3787/3787 [01:12<00:00, 51.91batch/s]\n"
     ]
    },
    {
     "name": "stdout",
     "output_type": "stream",
     "text": [
      "0.6891998943754951\n"
     ]
    },
    {
     "name": "stderr",
     "output_type": "stream",
     "text": [
      "Epoch 26: 100%|██████████| 508/508 [01:34<00:00,  5.35batch/s, loss_decrease=1.0000006590244932]\n",
      "100%|██████████| 3787/3787 [01:14<00:00, 50.80batch/s]\n"
     ]
    },
    {
     "name": "stdout",
     "output_type": "stream",
     "text": [
      "0.6907842619487721\n"
     ]
    },
    {
     "name": "stderr",
     "output_type": "stream",
     "text": [
      "Epoch 27: 100%|██████████| 508/508 [01:39<00:00,  5.11batch/s, loss_decrease=1.0000006590244932]\n",
      "100%|██████████| 3787/3787 [01:13<00:00, 51.27batch/s]\n"
     ]
    },
    {
     "name": "stdout",
     "output_type": "stream",
     "text": [
      "0.6947451808819646\n"
     ]
    },
    {
     "name": "stderr",
     "output_type": "stream",
     "text": [
      "Epoch 28: 100%|██████████| 508/508 [01:36<00:00,  5.27batch/s, loss_decrease=1.0000006590244932]\n",
      "100%|██████████| 3787/3787 [01:14<00:00, 50.79batch/s]\n"
     ]
    },
    {
     "name": "stdout",
     "output_type": "stream",
     "text": [
      "0.6884077105888566\n"
     ]
    },
    {
     "name": "stderr",
     "output_type": "stream",
     "text": [
      "Epoch 29: 100%|██████████| 508/508 [01:38<00:00,  5.16batch/s, loss_decrease=1.0000006590244932]\n",
      "100%|██████████| 3787/3787 [01:14<00:00, 50.90batch/s]\n"
     ]
    },
    {
     "name": "stdout",
     "output_type": "stream",
     "text": [
      "0.6836546078690257\n"
     ]
    },
    {
     "name": "stderr",
     "output_type": "stream",
     "text": [
      "Epoch 30: 100%|██████████| 508/508 [01:39<00:00,  5.12batch/s, loss_decrease=1.0000006590244932]\n",
      "100%|██████████| 3787/3787 [01:13<00:00, 51.26batch/s]\n"
     ]
    },
    {
     "name": "stdout",
     "output_type": "stream",
     "text": [
      "0.6939529970953261\n"
     ]
    },
    {
     "name": "stderr",
     "output_type": "stream",
     "text": [
      "Epoch 31: 100%|██████████| 508/508 [01:39<00:00,  5.12batch/s, loss_decrease=1.0000006590244932]\n",
      "100%|██████████| 3787/3787 [01:14<00:00, 50.97batch/s]\n"
     ]
    },
    {
     "name": "stdout",
     "output_type": "stream",
     "text": [
      "0.6965936097174544\n"
     ]
    },
    {
     "name": "stderr",
     "output_type": "stream",
     "text": [
      "Epoch 32: 100%|██████████| 508/508 [01:39<00:00,  5.12batch/s, loss_decrease=1.0000006590244932]\n",
      "100%|██████████| 3787/3787 [01:15<00:00, 50.22batch/s]\n"
     ]
    },
    {
     "name": "stdout",
     "output_type": "stream",
     "text": [
      "0.7031951412727753\n"
     ]
    },
    {
     "name": "stderr",
     "output_type": "stream",
     "text": [
      "Epoch 33: 100%|██████████| 508/508 [01:41<00:00,  4.99batch/s, loss_decrease=1.0000006590244932]\n",
      "100%|██████████| 3787/3787 [01:15<00:00, 50.05batch/s]\n"
     ]
    },
    {
     "name": "stdout",
     "output_type": "stream",
     "text": [
      "0.6955373646686032\n"
     ]
    },
    {
     "name": "stderr",
     "output_type": "stream",
     "text": [
      "Epoch 34: 100%|██████████| 508/508 [01:40<00:00,  5.08batch/s, loss_decrease=1.0000006590244932]\n",
      "100%|██████████| 3787/3787 [01:15<00:00, 49.89batch/s]\n"
     ]
    },
    {
     "name": "stdout",
     "output_type": "stream",
     "text": [
      "0.7024029574861368\n"
     ]
    },
    {
     "name": "stderr",
     "output_type": "stream",
     "text": [
      "Epoch 35: 100%|██████████| 508/508 [01:42<00:00,  4.96batch/s, loss_decrease=1.0000006590244932]\n",
      "100%|██████████| 3787/3787 [01:19<00:00, 47.43batch/s]\n"
     ]
    },
    {
     "name": "stdout",
     "output_type": "stream",
     "text": [
      "0.6936889358331133\n"
     ]
    },
    {
     "name": "stderr",
     "output_type": "stream",
     "text": [
      "Epoch 36: 100%|██████████| 508/508 [01:42<00:00,  4.98batch/s, loss_decrease=1.0000006590244932]\n",
      "100%|██████████| 3787/3787 [01:16<00:00, 49.42batch/s]\n"
     ]
    },
    {
     "name": "stdout",
     "output_type": "stream",
     "text": [
      "0.6931608133086876\n"
     ]
    },
    {
     "name": "stderr",
     "output_type": "stream",
     "text": [
      "Epoch 37: 100%|██████████| 508/508 [01:36<00:00,  5.28batch/s, loss_decrease=1.0000006590244932]\n",
      "100%|██████████| 3787/3787 [01:13<00:00, 51.51batch/s]\n"
     ]
    },
    {
     "name": "stdout",
     "output_type": "stream",
     "text": [
      "0.69897016107737\n"
     ]
    },
    {
     "name": "stderr",
     "output_type": "stream",
     "text": [
      "Epoch 38: 100%|██████████| 508/508 [01:40<00:00,  5.07batch/s, loss_decrease=1.0000006590244932]\n",
      "100%|██████████| 3787/3787 [01:12<00:00, 52.16batch/s]\n"
     ]
    },
    {
     "name": "stdout",
     "output_type": "stream",
     "text": [
      "0.7024029574861368\n"
     ]
    },
    {
     "name": "stderr",
     "output_type": "stream",
     "text": [
      "Epoch 39: 100%|██████████| 508/508 [01:37<00:00,  5.18batch/s, loss_decrease=1.0000006590244932]\n",
      "100%|██████████| 3787/3787 [01:22<00:00, 46.16batch/s]\n"
     ]
    },
    {
     "name": "stdout",
     "output_type": "stream",
     "text": [
      "0.7058357538949036\n"
     ]
    },
    {
     "name": "stderr",
     "output_type": "stream",
     "text": [
      "Epoch 40: 100%|██████████| 508/508 [01:41<00:00,  4.99batch/s, loss_decrease=1.0000006590244932]\n",
      "100%|██████████| 3787/3787 [01:19<00:00, 47.55batch/s]\n"
     ]
    },
    {
     "name": "stdout",
     "output_type": "stream",
     "text": [
      "0.7026670187483496\n"
     ]
    },
    {
     "name": "stderr",
     "output_type": "stream",
     "text": [
      "Epoch 41: 100%|██████████| 508/508 [01:44<00:00,  4.88batch/s, loss_decrease=1.0000006590244932]\n",
      "100%|██████████| 3787/3787 [01:17<00:00, 48.84batch/s]\n"
     ]
    },
    {
     "name": "stdout",
     "output_type": "stream",
     "text": [
      "0.7113810404013731\n"
     ]
    },
    {
     "name": "stderr",
     "output_type": "stream",
     "text": [
      "Epoch 42: 100%|██████████| 508/508 [01:41<00:00,  4.98batch/s, loss_decrease=1.0000006590244932]\n",
      "100%|██████████| 3787/3787 [01:18<00:00, 47.97batch/s]\n"
     ]
    },
    {
     "name": "stdout",
     "output_type": "stream",
     "text": [
      "0.7071560602059679\n"
     ]
    },
    {
     "name": "stderr",
     "output_type": "stream",
     "text": [
      "Epoch 43: 100%|██████████| 508/508 [01:38<00:00,  5.13batch/s, loss_decrease=1.0000006590244932]\n",
      "100%|██████████| 3787/3787 [01:14<00:00, 50.55batch/s]\n"
     ]
    },
    {
     "name": "stdout",
     "output_type": "stream",
     "text": [
      "0.7090044890414576\n"
     ]
    },
    {
     "name": "stderr",
     "output_type": "stream",
     "text": [
      "Epoch 44: 100%|██████████| 508/508 [01:39<00:00,  5.12batch/s, loss_decrease=1.00000075317092]  \n",
      "100%|██████████| 3787/3787 [01:14<00:00, 51.15batch/s]\n"
     ]
    },
    {
     "name": "stdout",
     "output_type": "stream",
     "text": [
      "0.7105888566147345\n"
     ]
    },
    {
     "name": "stderr",
     "output_type": "stream",
     "text": [
      "Epoch 45: 100%|██████████| 508/508 [01:39<00:00,  5.11batch/s, loss_decrease=1.0000006590244932]\n",
      "100%|██████████| 3787/3787 [01:17<00:00, 48.67batch/s]\n"
     ]
    },
    {
     "name": "stdout",
     "output_type": "stream",
     "text": [
      "0.7108529178769475\n"
     ]
    },
    {
     "name": "stderr",
     "output_type": "stream",
     "text": [
      "Epoch 46: 100%|██████████| 508/508 [01:41<00:00,  5.01batch/s, loss_decrease=1.00000075317092]  \n",
      "100%|██████████| 3787/3787 [01:22<00:00, 46.16batch/s]\n"
     ]
    },
    {
     "name": "stdout",
     "output_type": "stream",
     "text": [
      "0.7058357538949036\n"
     ]
    },
    {
     "name": "stderr",
     "output_type": "stream",
     "text": [
      "Epoch 47: 100%|██████████| 508/508 [01:39<00:00,  5.11batch/s, loss_decrease=1.0000006590244932]\n",
      "100%|██████████| 3787/3787 [01:16<00:00, 49.40batch/s]\n"
     ]
    },
    {
     "name": "stdout",
     "output_type": "stream",
     "text": [
      "0.7132294692368629\n"
     ]
    },
    {
     "name": "stderr",
     "output_type": "stream",
     "text": [
      "Epoch 48: 100%|██████████| 508/508 [01:40<00:00,  5.04batch/s, loss_decrease=1.0000006590244932]\n",
      "100%|██████████| 3787/3787 [01:14<00:00, 50.92batch/s]\n"
     ]
    },
    {
     "name": "stdout",
     "output_type": "stream",
     "text": [
      "0.7127013467124372\n"
     ]
    },
    {
     "name": "stderr",
     "output_type": "stream",
     "text": [
      "Epoch 49: 100%|██████████| 508/508 [01:38<00:00,  5.16batch/s, loss_decrease=1.00000075317092]  \n",
      "100%|██████████| 3787/3787 [01:15<00:00, 50.41batch/s]\n"
     ]
    },
    {
     "name": "stdout",
     "output_type": "stream",
     "text": [
      "0.7060998151571165\n"
     ]
    },
    {
     "name": "stderr",
     "output_type": "stream",
     "text": [
      "Epoch 50: 100%|██████████| 508/508 [01:38<00:00,  5.15batch/s, loss_decrease=1.00000075317092]  \n",
      "100%|██████████| 3787/3787 [01:16<00:00, 49.75batch/s]\n"
     ]
    },
    {
     "name": "stdout",
     "output_type": "stream",
     "text": [
      "0.7097966728280961\n",
      "Finished Training\n"
     ]
    }
   ],
   "source": [
    "from tqdm import trange\n",
    "from tqdm import tqdm\n",
    "from sklearn.metrics import classification_report, f1_score\n",
    "\n",
    "#Гиперпараметры\n",
    "batch_size=16\n",
    "epochs = 50\n",
    "    \n",
    "trainloader = torch.utils.data.DataLoader(ds_train, batch_size=batch_size,\n",
    "                                          shuffle=False, num_workers=0)\n",
    "testloader = torch.utils.data.DataLoader(ds_test, batch_size=1, shuffle=False)\n",
    "\n",
    "net.train()\n",
    "initial_loss = None\n",
    "best_f1=0\n",
    "for epoch in range(1, epochs+1):\n",
    "    #обучение модели в эпохе\n",
    "    net.train()\n",
    "    with tqdm(trainloader, unit=\"batch\") as tepoch:\n",
    "        for data in tepoch:\n",
    "\n",
    "            tepoch.set_description(f\"Epoch {epoch}\")\n",
    "\n",
    "            inputs = data['tokenized_phrases']\n",
    "            labels = data['one_hot_labels']\n",
    "\n",
    "            optimizer.zero_grad()\n",
    "            if device=='cuda':\n",
    "                with torch.cuda.amp.autocast():\n",
    "                    outputs = net(inputs)['output']\n",
    "                    loss = criterion(outputs, labels)\n",
    "                scaler.scale(loss).backward()\n",
    "                scaler.step(optimizer)\n",
    "                scaler.update()\n",
    "            else:\n",
    "                outputs = net(inputs)['output']\n",
    "                loss = criterion(outputs, labels)\n",
    "                loss.backward()\n",
    "                optimizer.step()\n",
    "            if initial_loss is None:\n",
    "                initial_loss = loss.item()\n",
    "            tepoch.set_postfix(loss_decrease = str(initial_loss/loss.item()))\n",
    "    #расчет точностей модели после эпохи\n",
    "    net.eval()\n",
    "    model_answers=[]\n",
    "    real_answers=[]\n",
    "    with tqdm(testloader, unit=\"batch\") as eval_process:\n",
    "        for data in eval_process:\n",
    "\n",
    "            inputs = data['tokenized_phrases']\n",
    "\n",
    "            with torch.no_grad():\n",
    "                outputs_dict = net(inputs)\n",
    "                pred_meddra_code = CV_test_without_conceptless.meddra_codes[outputs_dict['output'].argmax()]\n",
    "\n",
    "\n",
    "            model_answers.append(pred_meddra_code)\n",
    "            real_answers.append(data['label_codes'])\n",
    "    f1 = f1_score(real_answers, model_answers, average='micro')\n",
    "    if f1>best_f1:\n",
    "        best_f1=f1\n",
    "        torch.save(net,'./Model_weights/xlmroberta_best_%s.pt'%epoch)\n",
    "    if epoch==9:\n",
    "        torch.save(net,'./Model_weights/xlmroberta_%s.pt'%epoch)\n",
    "    print(f1)\n",
    "            \n",
    "print('Finished Training')\n",
    "torch.save(net,'./Model_weights/xlmroberta_%s.pt'%epoch)"
   ]
  },
  {
   "cell_type": "markdown",
   "id": "roman-spice",
   "metadata": {},
   "source": [
    "Инференс (подать фразу в сетку и посмотреть, какой концепт она выдаст)"
   ]
  },
  {
   "cell_type": "markdown",
   "id": "romance-serial",
   "metadata": {},
   "source": [
    "Чтобы сетка выдавала отсутствие концепта на несвязанные с медрой фразы, раскомментируйте строчку с label_concepless_tensors"
   ]
  },
  {
   "cell_type": "code",
   "execution_count": 60,
   "id": "leading-freight",
   "metadata": {},
   "outputs": [
    {
     "name": "stderr",
     "output_type": "stream",
     "text": [
      "Asking to truncate to max_length but no maximum length is provided and the model has no predefined maximum length. Default to no truncation.\n"
     ]
    },
    {
     "name": "stdout",
     "output_type": "stream",
     "text": [
      "phrase: Disease\n",
      "model output: Myalgia\n"
     ]
    }
   ],
   "source": [
    "from transformers import AutoTokenizer\n",
    "\n",
    "phrase = 'Disease'\n",
    "tokenizer = AutoTokenizer.from_pretrained(transformer_model_path)\n",
    "encoded_input = tokenizer([phrase], padding=True, truncation=True, return_tensors='pt')\n",
    "\n",
    "with torch.no_grad():\n",
    "    outputs_dict = net(inputs)\n",
    "    #outputs_dict.label_concepless_tensors(score_treshold = 6.1977e-05)\n",
    "    pred_meddra_code = CV.meddra_codes[outputs_dict['output'].argmax()]\n",
    "    \n",
    "print('phrase: %s'%phrase)\n",
    "print('model output: %s'%CV.meddra_code_to_meddra_term[pred_meddra_code])"
   ]
  },
  {
   "cell_type": "markdown",
   "id": "appropriate-tanzania",
   "metadata": {},
   "source": [
    "<h2>Сохранение и загрузка модели</h2>"
   ]
  },
  {
   "cell_type": "markdown",
   "id": "political-bread",
   "metadata": {},
   "source": [
    "сохранение"
   ]
  },
  {
   "cell_type": "code",
   "execution_count": 63,
   "id": "focused-shadow",
   "metadata": {},
   "outputs": [],
   "source": [
    "torch.save(net, './trained_model_weights.pt')\n",
    "torch.save(optimizer.state_dict(), './trained_model_opt.pt')"
   ]
  },
  {
   "cell_type": "markdown",
   "id": "olympic-diary",
   "metadata": {},
   "source": [
    "загрузка"
   ]
  },
  {
   "cell_type": "code",
   "execution_count": 64,
   "id": "former-welsh",
   "metadata": {},
   "outputs": [],
   "source": [
    "the_model = torch.load('./trained_model_weights.pt')"
   ]
  }
 ],
 "metadata": {
  "kernelspec": {
   "display_name": "normalization env",
   "language": "python",
   "name": "latest_torch"
  },
  "language_info": {
   "codemirror_mode": {
    "name": "ipython",
    "version": 3
   },
   "file_extension": ".py",
   "mimetype": "text/x-python",
   "name": "python",
   "nbconvert_exporter": "python",
   "pygments_lexer": "ipython3",
   "version": "3.9.9"
  }
 },
 "nbformat": 4,
 "nbformat_minor": 5
}
