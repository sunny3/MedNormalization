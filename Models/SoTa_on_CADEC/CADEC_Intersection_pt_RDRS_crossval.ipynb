{
 "cells": [
  {
   "cell_type": "markdown",
   "id": "homeless-electric",
   "metadata": {},
   "source": [
    "<h2>Rubert на упоминаниях RDRS, которые содержат общие с корпусом CADEC PT коды</h2>"
   ]
  },
  {
   "cell_type": "code",
   "execution_count": 1,
   "id": "miniature-arnold",
   "metadata": {},
   "outputs": [],
   "source": [
    "transformer_model_path = 'DeepPavlov/rubert-base-cased'#'sagteam/xlm-roberta-large-sag'\n",
    "USE_CUDA = True\n",
    "ADD_CONTEXT = False\n",
    "USE_CYCLR = False"
   ]
  },
  {
   "cell_type": "code",
   "execution_count": 2,
   "id": "chicken-prophet",
   "metadata": {},
   "outputs": [],
   "source": [
    "import pandas as pd\n",
    "from vectorization import ConceptVectorizer\n",
    "import torch\n",
    "from sklearn.model_selection import train_test_split\n",
    "from sklearn.model_selection import KFold"
   ]
  },
  {
   "cell_type": "code",
   "execution_count": 3,
   "id": "physical-filter",
   "metadata": {},
   "outputs": [],
   "source": [
    "#альтернатива\n",
    "CV = ConceptVectorizer(transformer_model_path, '../../Data/External/pt_rus.asc', \\\n",
    "                             use_concept_less=False, use_model=False, use_cuda=USE_CUDA)\n",
    "CV_with_conceptless = ConceptVectorizer(transformer_model_path, '../../Data/External/pt_rus.asc', \\\n",
    "                             use_concept_less=True, use_model=False, use_cuda=USE_CUDA)"
   ]
  },
  {
   "cell_type": "code",
   "execution_count": 4,
   "id": "together-habitat",
   "metadata": {},
   "outputs": [],
   "source": [
    "CV.thesaurus_embeddings = torch.load('./Model_weights/rubert_thesaurus_embeddings_meddra_origin.pt')\n",
    "CV.normalization_mode = 'mean_pooling'"
   ]
  },
  {
   "cell_type": "code",
   "execution_count": 5,
   "id": "likely-field",
   "metadata": {},
   "outputs": [],
   "source": [
    "n_splits=5\n",
    "kf = KFold(n_splits=n_splits, random_state=42, shuffle=True)"
   ]
  },
  {
   "cell_type": "code",
   "execution_count": 6,
   "id": "political-probability",
   "metadata": {},
   "outputs": [
    {
     "name": "stdout",
     "output_type": "stream",
     "text": [
      "Сплит 1\n",
      "Всего фраз в трейне: 5665\n",
      "Всего фраз в тесте: 1574\n",
      "Всего фраз в девелопе: 630\n",
      "Уникальных фраз в трейне: 2878\n",
      "Уникальных фраз в тесте: 1011\n",
      "Уникальных фраз в девелопе: 467\n",
      "83 концептов не входящих либо в трейн, либо в тест\n",
      "11 концептов, которые есть в тесте, но нет в трейне\n",
      "72 концептов, которые есть в трейне, но нет в тесте\n",
      "\n",
      "\n",
      "Сплит 2\n",
      "Всего фраз в трейне: 5665\n",
      "Всего фраз в тесте: 1574\n",
      "Всего фраз в девелопе: 630\n",
      "Уникальных фраз в трейне: 2891\n",
      "Уникальных фраз в тесте: 1009\n",
      "Уникальных фраз в девелопе: 442\n",
      "89 концептов не входящих либо в трейн, либо в тест\n",
      "7 концептов, которые есть в тесте, но нет в трейне\n",
      "82 концептов, которые есть в трейне, но нет в тесте\n",
      "\n",
      "\n",
      "Сплит 3\n",
      "Всего фраз в трейне: 5665\n",
      "Всего фраз в тесте: 1574\n",
      "Всего фраз в девелопе: 630\n",
      "Уникальных фраз в трейне: 2901\n",
      "Уникальных фраз в тесте: 984\n",
      "Уникальных фраз в девелопе: 476\n",
      "83 концептов не входящих либо в трейн, либо в тест\n",
      "6 концептов, которые есть в тесте, но нет в трейне\n",
      "77 концептов, которые есть в трейне, но нет в тесте\n",
      "\n",
      "\n",
      "Сплит 4\n",
      "Всего фраз в трейне: 5665\n",
      "Всего фраз в тесте: 1574\n",
      "Всего фраз в девелопе: 630\n",
      "Уникальных фраз в трейне: 2907\n",
      "Уникальных фраз в тесте: 986\n",
      "Уникальных фраз в девелопе: 472\n",
      "74 концептов не входящих либо в трейн, либо в тест\n",
      "13 концептов, которые есть в тесте, но нет в трейне\n",
      "61 концептов, которые есть в трейне, но нет в тесте\n",
      "\n",
      "\n",
      "Сплит 5\n",
      "Всего фраз в трейне: 5666\n",
      "Всего фраз в тесте: 1573\n",
      "Всего фраз в девелопе: 630\n",
      "Уникальных фраз в трейне: 2889\n",
      "Уникальных фраз в тесте: 997\n",
      "Уникальных фраз в девелопе: 455\n",
      "85 концептов не входящих либо в трейн, либо в тест\n",
      "13 концептов, которые есть в тесте, но нет в трейне\n",
      "72 концептов, которые есть в трейне, но нет в тесте\n",
      "\n",
      "\n"
     ]
    }
   ],
   "source": [
    "df = pd.read_csv('../../Data/RDRS_intersection_part.csv')\n",
    "\n",
    "\n",
    "all_splits = dict()\n",
    "\n",
    "df['pt_id'] = df['pt_id'].apply(lambda x: str(x))\n",
    "\n",
    "terms = df['phrase'].to_numpy()\n",
    "concepts = df['pt_id'].to_numpy()\n",
    "\n",
    "split_idx = 1\n",
    "for train_index, test_index in kf.split(df['phrase']):\n",
    "    all_splits[split_idx]=dict()\n",
    "    all_splits[split_idx]['train'] = dict()\n",
    "    all_splits[split_idx]['test'] = dict()\n",
    "    all_splits[split_idx]['validation'] = dict()\n",
    "    all_splits[split_idx]['test']['phrases'] = list(terms[test_index])\n",
    "    all_splits[split_idx]['test']['concepts'] = list(concepts[test_index])\n",
    "    \n",
    "    train_index, val_index = train_test_split(train_index, test_size=0.1, random_state=42)\n",
    "    \n",
    "    all_splits[split_idx]['train']['phrases'] = list(terms[train_index])\n",
    "    all_splits[split_idx]['train']['concepts'] = list(concepts[train_index])\n",
    "    all_splits[split_idx]['validation']['phrases'] = list(terms[val_index])\n",
    "    all_splits[split_idx]['validation']['concepts'] = list(concepts[val_index])\n",
    "    \n",
    "    \n",
    "    print('Сплит %s'%split_idx)\n",
    "    print('Всего фраз в трейне: %s'%len(all_splits[split_idx]['train']['phrases']))\n",
    "    print('Всего фраз в тесте: %s'%len(all_splits[split_idx]['test']['phrases']))\n",
    "    print('Всего фраз в девелопе: %s'%len(all_splits[split_idx]['validation']['phrases']))\n",
    "\n",
    "    print('Уникальных фраз в трейне: %s'%len(set(all_splits[split_idx]['train']['phrases'])))\n",
    "    print('Уникальных фраз в тесте: %s'%len(set(all_splits[split_idx]['test']['phrases'])))\n",
    "    print('Уникальных фраз в девелопе: %s'%len(set(all_splits[split_idx]['validation']['phrases'])))\n",
    "    \n",
    "    print('%s концептов не входящих либо в трейн, либо в тест'%len(set.union(set(all_splits[split_idx]['train']['concepts']), set(all_splits[split_idx]['test']['concepts'])) - set.intersection(set(all_splits[split_idx]['test']['concepts']), set(all_splits[split_idx]['train']['concepts']))))\n",
    "    print('%s концептов, которые есть в тесте, но нет в трейне'%len(set(all_splits[split_idx]['test']['concepts']) - set(all_splits[split_idx]['train']['concepts'])))\n",
    "    print('%s концептов, которые есть в трейне, но нет в тесте'%len(set(all_splits[split_idx]['train']['concepts']) - set(all_splits[split_idx]['test']['concepts'])))\n",
    "    print('\\n')\n",
    "    split_idx+=1"
   ]
  },
  {
   "cell_type": "code",
   "execution_count": 8,
   "id": "leading-toilet",
   "metadata": {},
   "outputs": [
    {
     "name": "stdout",
     "output_type": "stream",
     "text": [
      "Сплит 1\n"
     ]
    },
    {
     "name": "stderr",
     "output_type": "stream",
     "text": [
      "Epoch 1: 100%|██████████| 355/355 [00:33<00:00, 10.67batch/s, loss_decrease=0.9999961400026681]\n",
      "100%|██████████| 630/630 [00:07<00:00, 88.19batch/s]\n"
     ]
    },
    {
     "data": {
      "text/html": [
       "<div>\n",
       "<style scoped>\n",
       "    .dataframe tbody tr th:only-of-type {\n",
       "        vertical-align: middle;\n",
       "    }\n",
       "\n",
       "    .dataframe tbody tr th {\n",
       "        vertical-align: top;\n",
       "    }\n",
       "\n",
       "    .dataframe thead tr th {\n",
       "        text-align: left;\n",
       "    }\n",
       "</style>\n",
       "<table border=\"1\" class=\"dataframe\">\n",
       "  <thead>\n",
       "    <tr>\n",
       "      <th></th>\n",
       "      <th colspan=\"2\" halign=\"left\">All</th>\n",
       "      <th colspan=\"2\" halign=\"left\">In VOC</th>\n",
       "      <th colspan=\"2\" halign=\"left\">Out of VOC</th>\n",
       "    </tr>\n",
       "    <tr>\n",
       "      <th></th>\n",
       "      <th>f1 micro</th>\n",
       "      <th>f1 macro</th>\n",
       "      <th>f1 micro</th>\n",
       "      <th>f1 macro</th>\n",
       "      <th>f1 micro</th>\n",
       "      <th>f1 macro</th>\n",
       "    </tr>\n",
       "  </thead>\n",
       "  <tbody>\n",
       "    <tr>\n",
       "      <th>score</th>\n",
       "      <td>0.777778</td>\n",
       "      <td>0.481684</td>\n",
       "      <td>0.782748</td>\n",
       "      <td>0.499963</td>\n",
       "      <td>0.0</td>\n",
       "      <td>0.0</td>\n",
       "    </tr>\n",
       "  </tbody>\n",
       "</table>\n",
       "</div>"
      ],
      "text/plain": [
       "            All              In VOC           Out of VOC         \n",
       "       f1 micro  f1 macro  f1 micro  f1 macro   f1 micro f1 macro\n",
       "score  0.777778  0.481684  0.782748  0.499963        0.0      0.0"
      ]
     },
     "metadata": {},
     "output_type": "display_data"
    },
    {
     "name": "stdout",
     "output_type": "stream",
     "text": [
      "Validation metric increased (-inf --> 0.481684).  Saving model ...\n"
     ]
    },
    {
     "name": "stderr",
     "output_type": "stream",
     "text": [
      "Epoch 2: 100%|██████████| 355/355 [00:32<00:00, 10.82batch/s, loss_decrease=0.9999970814626843]\n",
      "100%|██████████| 630/630 [00:06<00:00, 91.42batch/s]\n"
     ]
    },
    {
     "data": {
      "text/html": [
       "<div>\n",
       "<style scoped>\n",
       "    .dataframe tbody tr th:only-of-type {\n",
       "        vertical-align: middle;\n",
       "    }\n",
       "\n",
       "    .dataframe tbody tr th {\n",
       "        vertical-align: top;\n",
       "    }\n",
       "\n",
       "    .dataframe thead tr th {\n",
       "        text-align: left;\n",
       "    }\n",
       "</style>\n",
       "<table border=\"1\" class=\"dataframe\">\n",
       "  <thead>\n",
       "    <tr>\n",
       "      <th></th>\n",
       "      <th colspan=\"2\" halign=\"left\">All</th>\n",
       "      <th colspan=\"2\" halign=\"left\">In VOC</th>\n",
       "      <th colspan=\"2\" halign=\"left\">Out of VOC</th>\n",
       "    </tr>\n",
       "    <tr>\n",
       "      <th></th>\n",
       "      <th>f1 micro</th>\n",
       "      <th>f1 macro</th>\n",
       "      <th>f1 micro</th>\n",
       "      <th>f1 macro</th>\n",
       "      <th>f1 micro</th>\n",
       "      <th>f1 macro</th>\n",
       "    </tr>\n",
       "  </thead>\n",
       "  <tbody>\n",
       "    <tr>\n",
       "      <th>score</th>\n",
       "      <td>0.795238</td>\n",
       "      <td>0.480681</td>\n",
       "      <td>0.800319</td>\n",
       "      <td>0.491311</td>\n",
       "      <td>0.0</td>\n",
       "      <td>0.0</td>\n",
       "    </tr>\n",
       "  </tbody>\n",
       "</table>\n",
       "</div>"
      ],
      "text/plain": [
       "            All              In VOC           Out of VOC         \n",
       "       f1 micro  f1 macro  f1 micro  f1 macro   f1 micro f1 macro\n",
       "score  0.795238  0.480681  0.800319  0.491311        0.0      0.0"
      ]
     },
     "metadata": {},
     "output_type": "display_data"
    },
    {
     "name": "stdout",
     "output_type": "stream",
     "text": [
      "EarlyStopping counter: 1 out of 7\n"
     ]
    },
    {
     "name": "stderr",
     "output_type": "stream",
     "text": [
      "Epoch 3: 100%|██████████| 355/355 [00:32<00:00, 10.83batch/s, loss_decrease=0.9999980229244732]\n",
      "100%|██████████| 630/630 [00:07<00:00, 87.49batch/s] \n"
     ]
    },
    {
     "data": {
      "text/html": [
       "<div>\n",
       "<style scoped>\n",
       "    .dataframe tbody tr th:only-of-type {\n",
       "        vertical-align: middle;\n",
       "    }\n",
       "\n",
       "    .dataframe tbody tr th {\n",
       "        vertical-align: top;\n",
       "    }\n",
       "\n",
       "    .dataframe thead tr th {\n",
       "        text-align: left;\n",
       "    }\n",
       "</style>\n",
       "<table border=\"1\" class=\"dataframe\">\n",
       "  <thead>\n",
       "    <tr>\n",
       "      <th></th>\n",
       "      <th colspan=\"2\" halign=\"left\">All</th>\n",
       "      <th colspan=\"2\" halign=\"left\">In VOC</th>\n",
       "      <th colspan=\"2\" halign=\"left\">Out of VOC</th>\n",
       "    </tr>\n",
       "    <tr>\n",
       "      <th></th>\n",
       "      <th>f1 micro</th>\n",
       "      <th>f1 macro</th>\n",
       "      <th>f1 micro</th>\n",
       "      <th>f1 macro</th>\n",
       "      <th>f1 micro</th>\n",
       "      <th>f1 macro</th>\n",
       "    </tr>\n",
       "  </thead>\n",
       "  <tbody>\n",
       "    <tr>\n",
       "      <th>score</th>\n",
       "      <td>0.792063</td>\n",
       "      <td>0.507893</td>\n",
       "      <td>0.797125</td>\n",
       "      <td>0.529452</td>\n",
       "      <td>0.0</td>\n",
       "      <td>0.0</td>\n",
       "    </tr>\n",
       "  </tbody>\n",
       "</table>\n",
       "</div>"
      ],
      "text/plain": [
       "            All              In VOC           Out of VOC         \n",
       "       f1 micro  f1 macro  f1 micro  f1 macro   f1 micro f1 macro\n",
       "score  0.792063  0.507893  0.797125  0.529452        0.0      0.0"
      ]
     },
     "metadata": {},
     "output_type": "display_data"
    },
    {
     "name": "stdout",
     "output_type": "stream",
     "text": [
      "Validation metric increased (0.481684 --> 0.507893).  Saving model ...\n"
     ]
    },
    {
     "name": "stderr",
     "output_type": "stream",
     "text": [
      "Epoch 4: 100%|██████████| 355/355 [00:32<00:00, 10.95batch/s, loss_decrease=0.9999974580471871]\n",
      "100%|██████████| 630/630 [00:06<00:00, 90.03batch/s]\n"
     ]
    },
    {
     "data": {
      "text/html": [
       "<div>\n",
       "<style scoped>\n",
       "    .dataframe tbody tr th:only-of-type {\n",
       "        vertical-align: middle;\n",
       "    }\n",
       "\n",
       "    .dataframe tbody tr th {\n",
       "        vertical-align: top;\n",
       "    }\n",
       "\n",
       "    .dataframe thead tr th {\n",
       "        text-align: left;\n",
       "    }\n",
       "</style>\n",
       "<table border=\"1\" class=\"dataframe\">\n",
       "  <thead>\n",
       "    <tr>\n",
       "      <th></th>\n",
       "      <th colspan=\"2\" halign=\"left\">All</th>\n",
       "      <th colspan=\"2\" halign=\"left\">In VOC</th>\n",
       "      <th colspan=\"2\" halign=\"left\">Out of VOC</th>\n",
       "    </tr>\n",
       "    <tr>\n",
       "      <th></th>\n",
       "      <th>f1 micro</th>\n",
       "      <th>f1 macro</th>\n",
       "      <th>f1 micro</th>\n",
       "      <th>f1 macro</th>\n",
       "      <th>f1 micro</th>\n",
       "      <th>f1 macro</th>\n",
       "    </tr>\n",
       "  </thead>\n",
       "  <tbody>\n",
       "    <tr>\n",
       "      <th>score</th>\n",
       "      <td>0.809524</td>\n",
       "      <td>0.520291</td>\n",
       "      <td>0.814696</td>\n",
       "      <td>0.539374</td>\n",
       "      <td>0.0</td>\n",
       "      <td>0.0</td>\n",
       "    </tr>\n",
       "  </tbody>\n",
       "</table>\n",
       "</div>"
      ],
      "text/plain": [
       "            All              In VOC           Out of VOC         \n",
       "       f1 micro  f1 macro  f1 micro  f1 macro   f1 micro f1 macro\n",
       "score  0.809524  0.520291  0.814696  0.539374        0.0      0.0"
      ]
     },
     "metadata": {},
     "output_type": "display_data"
    },
    {
     "name": "stdout",
     "output_type": "stream",
     "text": [
      "Validation metric increased (0.507893 --> 0.520291).  Saving model ...\n"
     ]
    },
    {
     "name": "stderr",
     "output_type": "stream",
     "text": [
      "Epoch 5: 100%|██████████| 355/355 [00:31<00:00, 11.15batch/s, loss_decrease=0.9999975521933572]\n",
      "100%|██████████| 630/630 [00:06<00:00, 96.13batch/s] \n"
     ]
    },
    {
     "data": {
      "text/html": [
       "<div>\n",
       "<style scoped>\n",
       "    .dataframe tbody tr th:only-of-type {\n",
       "        vertical-align: middle;\n",
       "    }\n",
       "\n",
       "    .dataframe tbody tr th {\n",
       "        vertical-align: top;\n",
       "    }\n",
       "\n",
       "    .dataframe thead tr th {\n",
       "        text-align: left;\n",
       "    }\n",
       "</style>\n",
       "<table border=\"1\" class=\"dataframe\">\n",
       "  <thead>\n",
       "    <tr>\n",
       "      <th></th>\n",
       "      <th colspan=\"2\" halign=\"left\">All</th>\n",
       "      <th colspan=\"2\" halign=\"left\">In VOC</th>\n",
       "      <th colspan=\"2\" halign=\"left\">Out of VOC</th>\n",
       "    </tr>\n",
       "    <tr>\n",
       "      <th></th>\n",
       "      <th>f1 micro</th>\n",
       "      <th>f1 macro</th>\n",
       "      <th>f1 micro</th>\n",
       "      <th>f1 macro</th>\n",
       "      <th>f1 micro</th>\n",
       "      <th>f1 macro</th>\n",
       "    </tr>\n",
       "  </thead>\n",
       "  <tbody>\n",
       "    <tr>\n",
       "      <th>score</th>\n",
       "      <td>0.828571</td>\n",
       "      <td>0.565484</td>\n",
       "      <td>0.833866</td>\n",
       "      <td>0.588832</td>\n",
       "      <td>0.0</td>\n",
       "      <td>0.0</td>\n",
       "    </tr>\n",
       "  </tbody>\n",
       "</table>\n",
       "</div>"
      ],
      "text/plain": [
       "            All              In VOC           Out of VOC         \n",
       "       f1 micro  f1 macro  f1 micro  f1 macro   f1 micro f1 macro\n",
       "score  0.828571  0.565484  0.833866  0.588832        0.0      0.0"
      ]
     },
     "metadata": {},
     "output_type": "display_data"
    },
    {
     "name": "stdout",
     "output_type": "stream",
     "text": [
      "Validation metric increased (0.520291 --> 0.565484).  Saving model ...\n"
     ]
    },
    {
     "name": "stderr",
     "output_type": "stream",
     "text": [
      "Epoch 6: 100%|██████████| 355/355 [00:30<00:00, 11.53batch/s, loss_decrease=0.9999982112170437]\n",
      "100%|██████████| 630/630 [00:07<00:00, 89.71batch/s] \n"
     ]
    },
    {
     "data": {
      "text/html": [
       "<div>\n",
       "<style scoped>\n",
       "    .dataframe tbody tr th:only-of-type {\n",
       "        vertical-align: middle;\n",
       "    }\n",
       "\n",
       "    .dataframe tbody tr th {\n",
       "        vertical-align: top;\n",
       "    }\n",
       "\n",
       "    .dataframe thead tr th {\n",
       "        text-align: left;\n",
       "    }\n",
       "</style>\n",
       "<table border=\"1\" class=\"dataframe\">\n",
       "  <thead>\n",
       "    <tr>\n",
       "      <th></th>\n",
       "      <th colspan=\"2\" halign=\"left\">All</th>\n",
       "      <th colspan=\"2\" halign=\"left\">In VOC</th>\n",
       "      <th colspan=\"2\" halign=\"left\">Out of VOC</th>\n",
       "    </tr>\n",
       "    <tr>\n",
       "      <th></th>\n",
       "      <th>f1 micro</th>\n",
       "      <th>f1 macro</th>\n",
       "      <th>f1 micro</th>\n",
       "      <th>f1 macro</th>\n",
       "      <th>f1 micro</th>\n",
       "      <th>f1 macro</th>\n",
       "    </tr>\n",
       "  </thead>\n",
       "  <tbody>\n",
       "    <tr>\n",
       "      <th>score</th>\n",
       "      <td>0.820635</td>\n",
       "      <td>0.554585</td>\n",
       "      <td>0.825879</td>\n",
       "      <td>0.571674</td>\n",
       "      <td>0.0</td>\n",
       "      <td>0.0</td>\n",
       "    </tr>\n",
       "  </tbody>\n",
       "</table>\n",
       "</div>"
      ],
      "text/plain": [
       "            All              In VOC           Out of VOC         \n",
       "       f1 micro  f1 macro  f1 micro  f1 macro   f1 micro f1 macro\n",
       "score  0.820635  0.554585  0.825879  0.571674        0.0      0.0"
      ]
     },
     "metadata": {},
     "output_type": "display_data"
    },
    {
     "name": "stdout",
     "output_type": "stream",
     "text": [
      "EarlyStopping counter: 1 out of 7\n"
     ]
    },
    {
     "name": "stderr",
     "output_type": "stream",
     "text": [
      "Epoch 7: 100%|██████████| 355/355 [00:32<00:00, 10.84batch/s, loss_decrease=0.9999988702415988]\n",
      "100%|██████████| 630/630 [00:06<00:00, 96.46batch/s] \n"
     ]
    },
    {
     "data": {
      "text/html": [
       "<div>\n",
       "<style scoped>\n",
       "    .dataframe tbody tr th:only-of-type {\n",
       "        vertical-align: middle;\n",
       "    }\n",
       "\n",
       "    .dataframe tbody tr th {\n",
       "        vertical-align: top;\n",
       "    }\n",
       "\n",
       "    .dataframe thead tr th {\n",
       "        text-align: left;\n",
       "    }\n",
       "</style>\n",
       "<table border=\"1\" class=\"dataframe\">\n",
       "  <thead>\n",
       "    <tr>\n",
       "      <th></th>\n",
       "      <th colspan=\"2\" halign=\"left\">All</th>\n",
       "      <th colspan=\"2\" halign=\"left\">In VOC</th>\n",
       "      <th colspan=\"2\" halign=\"left\">Out of VOC</th>\n",
       "    </tr>\n",
       "    <tr>\n",
       "      <th></th>\n",
       "      <th>f1 micro</th>\n",
       "      <th>f1 macro</th>\n",
       "      <th>f1 micro</th>\n",
       "      <th>f1 macro</th>\n",
       "      <th>f1 micro</th>\n",
       "      <th>f1 macro</th>\n",
       "    </tr>\n",
       "  </thead>\n",
       "  <tbody>\n",
       "    <tr>\n",
       "      <th>score</th>\n",
       "      <td>0.820635</td>\n",
       "      <td>0.536427</td>\n",
       "      <td>0.825879</td>\n",
       "      <td>0.550455</td>\n",
       "      <td>0.0</td>\n",
       "      <td>0.0</td>\n",
       "    </tr>\n",
       "  </tbody>\n",
       "</table>\n",
       "</div>"
      ],
      "text/plain": [
       "            All              In VOC           Out of VOC         \n",
       "       f1 micro  f1 macro  f1 micro  f1 macro   f1 micro f1 macro\n",
       "score  0.820635  0.536427  0.825879  0.550455        0.0      0.0"
      ]
     },
     "metadata": {},
     "output_type": "display_data"
    },
    {
     "name": "stdout",
     "output_type": "stream",
     "text": [
      "EarlyStopping counter: 2 out of 7\n"
     ]
    },
    {
     "name": "stderr",
     "output_type": "stream",
     "text": [
      "Epoch 8: 100%|██████████| 355/355 [00:30<00:00, 11.58batch/s, loss_decrease=0.9999991526809598]\n",
      "100%|██████████| 630/630 [00:06<00:00, 93.60batch/s] \n"
     ]
    },
    {
     "data": {
      "text/html": [
       "<div>\n",
       "<style scoped>\n",
       "    .dataframe tbody tr th:only-of-type {\n",
       "        vertical-align: middle;\n",
       "    }\n",
       "\n",
       "    .dataframe tbody tr th {\n",
       "        vertical-align: top;\n",
       "    }\n",
       "\n",
       "    .dataframe thead tr th {\n",
       "        text-align: left;\n",
       "    }\n",
       "</style>\n",
       "<table border=\"1\" class=\"dataframe\">\n",
       "  <thead>\n",
       "    <tr>\n",
       "      <th></th>\n",
       "      <th colspan=\"2\" halign=\"left\">All</th>\n",
       "      <th colspan=\"2\" halign=\"left\">In VOC</th>\n",
       "      <th colspan=\"2\" halign=\"left\">Out of VOC</th>\n",
       "    </tr>\n",
       "    <tr>\n",
       "      <th></th>\n",
       "      <th>f1 micro</th>\n",
       "      <th>f1 macro</th>\n",
       "      <th>f1 micro</th>\n",
       "      <th>f1 macro</th>\n",
       "      <th>f1 micro</th>\n",
       "      <th>f1 macro</th>\n",
       "    </tr>\n",
       "  </thead>\n",
       "  <tbody>\n",
       "    <tr>\n",
       "      <th>score</th>\n",
       "      <td>0.825397</td>\n",
       "      <td>0.533715</td>\n",
       "      <td>0.830671</td>\n",
       "      <td>0.554596</td>\n",
       "      <td>0.0</td>\n",
       "      <td>0.0</td>\n",
       "    </tr>\n",
       "  </tbody>\n",
       "</table>\n",
       "</div>"
      ],
      "text/plain": [
       "            All              In VOC           Out of VOC         \n",
       "       f1 micro  f1 macro  f1 micro  f1 macro   f1 micro f1 macro\n",
       "score  0.825397  0.533715  0.830671  0.554596        0.0      0.0"
      ]
     },
     "metadata": {},
     "output_type": "display_data"
    },
    {
     "name": "stdout",
     "output_type": "stream",
     "text": [
      "EarlyStopping counter: 3 out of 7\n"
     ]
    },
    {
     "name": "stderr",
     "output_type": "stream",
     "text": [
      "Epoch 9: 100%|██████████| 355/355 [00:31<00:00, 11.30batch/s, loss_decrease=0.9999995292670226]\n",
      "100%|██████████| 630/630 [00:07<00:00, 84.52batch/s] \n"
     ]
    },
    {
     "data": {
      "text/html": [
       "<div>\n",
       "<style scoped>\n",
       "    .dataframe tbody tr th:only-of-type {\n",
       "        vertical-align: middle;\n",
       "    }\n",
       "\n",
       "    .dataframe tbody tr th {\n",
       "        vertical-align: top;\n",
       "    }\n",
       "\n",
       "    .dataframe thead tr th {\n",
       "        text-align: left;\n",
       "    }\n",
       "</style>\n",
       "<table border=\"1\" class=\"dataframe\">\n",
       "  <thead>\n",
       "    <tr>\n",
       "      <th></th>\n",
       "      <th colspan=\"2\" halign=\"left\">All</th>\n",
       "      <th colspan=\"2\" halign=\"left\">In VOC</th>\n",
       "      <th colspan=\"2\" halign=\"left\">Out of VOC</th>\n",
       "    </tr>\n",
       "    <tr>\n",
       "      <th></th>\n",
       "      <th>f1 micro</th>\n",
       "      <th>f1 macro</th>\n",
       "      <th>f1 micro</th>\n",
       "      <th>f1 macro</th>\n",
       "      <th>f1 micro</th>\n",
       "      <th>f1 macro</th>\n",
       "    </tr>\n",
       "  </thead>\n",
       "  <tbody>\n",
       "    <tr>\n",
       "      <th>score</th>\n",
       "      <td>0.830159</td>\n",
       "      <td>0.573836</td>\n",
       "      <td>0.835463</td>\n",
       "      <td>0.591684</td>\n",
       "      <td>0.0</td>\n",
       "      <td>0.0</td>\n",
       "    </tr>\n",
       "  </tbody>\n",
       "</table>\n",
       "</div>"
      ],
      "text/plain": [
       "            All              In VOC           Out of VOC         \n",
       "       f1 micro  f1 macro  f1 micro  f1 macro   f1 micro f1 macro\n",
       "score  0.830159  0.573836  0.835463  0.591684        0.0      0.0"
      ]
     },
     "metadata": {},
     "output_type": "display_data"
    },
    {
     "name": "stdout",
     "output_type": "stream",
     "text": [
      "Validation metric increased (0.565484 --> 0.573836).  Saving model ...\n"
     ]
    },
    {
     "name": "stderr",
     "output_type": "stream",
     "text": [
      "Epoch 10: 100%|██████████| 355/355 [00:29<00:00, 11.87batch/s, loss_decrease=0.9999995292670226]\n",
      "100%|██████████| 630/630 [00:06<00:00, 97.52batch/s] \n"
     ]
    },
    {
     "data": {
      "text/html": [
       "<div>\n",
       "<style scoped>\n",
       "    .dataframe tbody tr th:only-of-type {\n",
       "        vertical-align: middle;\n",
       "    }\n",
       "\n",
       "    .dataframe tbody tr th {\n",
       "        vertical-align: top;\n",
       "    }\n",
       "\n",
       "    .dataframe thead tr th {\n",
       "        text-align: left;\n",
       "    }\n",
       "</style>\n",
       "<table border=\"1\" class=\"dataframe\">\n",
       "  <thead>\n",
       "    <tr>\n",
       "      <th></th>\n",
       "      <th colspan=\"2\" halign=\"left\">All</th>\n",
       "      <th colspan=\"2\" halign=\"left\">In VOC</th>\n",
       "      <th colspan=\"2\" halign=\"left\">Out of VOC</th>\n",
       "    </tr>\n",
       "    <tr>\n",
       "      <th></th>\n",
       "      <th>f1 micro</th>\n",
       "      <th>f1 macro</th>\n",
       "      <th>f1 micro</th>\n",
       "      <th>f1 macro</th>\n",
       "      <th>f1 micro</th>\n",
       "      <th>f1 macro</th>\n",
       "    </tr>\n",
       "  </thead>\n",
       "  <tbody>\n",
       "    <tr>\n",
       "      <th>score</th>\n",
       "      <td>0.830159</td>\n",
       "      <td>0.558975</td>\n",
       "      <td>0.835463</td>\n",
       "      <td>0.572377</td>\n",
       "      <td>0.0</td>\n",
       "      <td>0.0</td>\n",
       "    </tr>\n",
       "  </tbody>\n",
       "</table>\n",
       "</div>"
      ],
      "text/plain": [
       "            All              In VOC           Out of VOC         \n",
       "       f1 micro  f1 macro  f1 micro  f1 macro   f1 micro f1 macro\n",
       "score  0.830159  0.558975  0.835463  0.572377        0.0      0.0"
      ]
     },
     "metadata": {},
     "output_type": "display_data"
    },
    {
     "name": "stdout",
     "output_type": "stream",
     "text": [
      "EarlyStopping counter: 1 out of 7\n"
     ]
    },
    {
     "name": "stderr",
     "output_type": "stream",
     "text": [
      "Epoch 11: 100%|██████████| 355/355 [00:30<00:00, 11.47batch/s, loss_decrease=0.9999995292670226]\n",
      "100%|██████████| 630/630 [00:07<00:00, 88.83batch/s] \n"
     ]
    },
    {
     "data": {
      "text/html": [
       "<div>\n",
       "<style scoped>\n",
       "    .dataframe tbody tr th:only-of-type {\n",
       "        vertical-align: middle;\n",
       "    }\n",
       "\n",
       "    .dataframe tbody tr th {\n",
       "        vertical-align: top;\n",
       "    }\n",
       "\n",
       "    .dataframe thead tr th {\n",
       "        text-align: left;\n",
       "    }\n",
       "</style>\n",
       "<table border=\"1\" class=\"dataframe\">\n",
       "  <thead>\n",
       "    <tr>\n",
       "      <th></th>\n",
       "      <th colspan=\"2\" halign=\"left\">All</th>\n",
       "      <th colspan=\"2\" halign=\"left\">In VOC</th>\n",
       "      <th colspan=\"2\" halign=\"left\">Out of VOC</th>\n",
       "    </tr>\n",
       "    <tr>\n",
       "      <th></th>\n",
       "      <th>f1 micro</th>\n",
       "      <th>f1 macro</th>\n",
       "      <th>f1 micro</th>\n",
       "      <th>f1 macro</th>\n",
       "      <th>f1 micro</th>\n",
       "      <th>f1 macro</th>\n",
       "    </tr>\n",
       "  </thead>\n",
       "  <tbody>\n",
       "    <tr>\n",
       "      <th>score</th>\n",
       "      <td>0.826984</td>\n",
       "      <td>0.547829</td>\n",
       "      <td>0.832268</td>\n",
       "      <td>0.567642</td>\n",
       "      <td>0.0</td>\n",
       "      <td>0.0</td>\n",
       "    </tr>\n",
       "  </tbody>\n",
       "</table>\n",
       "</div>"
      ],
      "text/plain": [
       "            All              In VOC           Out of VOC         \n",
       "       f1 micro  f1 macro  f1 micro  f1 macro   f1 micro f1 macro\n",
       "score  0.826984  0.547829  0.832268  0.567642        0.0      0.0"
      ]
     },
     "metadata": {},
     "output_type": "display_data"
    },
    {
     "name": "stdout",
     "output_type": "stream",
     "text": [
      "EarlyStopping counter: 2 out of 7\n"
     ]
    },
    {
     "name": "stderr",
     "output_type": "stream",
     "text": [
      "Epoch 12: 100%|██████████| 355/355 [00:32<00:00, 10.98batch/s, loss_decrease=0.9999992468274489]\n",
      "100%|██████████| 630/630 [00:07<00:00, 88.29batch/s] \n"
     ]
    },
    {
     "data": {
      "text/html": [
       "<div>\n",
       "<style scoped>\n",
       "    .dataframe tbody tr th:only-of-type {\n",
       "        vertical-align: middle;\n",
       "    }\n",
       "\n",
       "    .dataframe tbody tr th {\n",
       "        vertical-align: top;\n",
       "    }\n",
       "\n",
       "    .dataframe thead tr th {\n",
       "        text-align: left;\n",
       "    }\n",
       "</style>\n",
       "<table border=\"1\" class=\"dataframe\">\n",
       "  <thead>\n",
       "    <tr>\n",
       "      <th></th>\n",
       "      <th colspan=\"2\" halign=\"left\">All</th>\n",
       "      <th colspan=\"2\" halign=\"left\">In VOC</th>\n",
       "      <th colspan=\"2\" halign=\"left\">Out of VOC</th>\n",
       "    </tr>\n",
       "    <tr>\n",
       "      <th></th>\n",
       "      <th>f1 micro</th>\n",
       "      <th>f1 macro</th>\n",
       "      <th>f1 micro</th>\n",
       "      <th>f1 macro</th>\n",
       "      <th>f1 micro</th>\n",
       "      <th>f1 macro</th>\n",
       "    </tr>\n",
       "  </thead>\n",
       "  <tbody>\n",
       "    <tr>\n",
       "      <th>score</th>\n",
       "      <td>0.807937</td>\n",
       "      <td>0.52932</td>\n",
       "      <td>0.813099</td>\n",
       "      <td>0.545032</td>\n",
       "      <td>0.0</td>\n",
       "      <td>0.0</td>\n",
       "    </tr>\n",
       "  </tbody>\n",
       "</table>\n",
       "</div>"
      ],
      "text/plain": [
       "            All             In VOC           Out of VOC         \n",
       "       f1 micro f1 macro  f1 micro  f1 macro   f1 micro f1 macro\n",
       "score  0.807937  0.52932  0.813099  0.545032        0.0      0.0"
      ]
     },
     "metadata": {},
     "output_type": "display_data"
    },
    {
     "name": "stdout",
     "output_type": "stream",
     "text": [
      "EarlyStopping counter: 3 out of 7\n"
     ]
    },
    {
     "name": "stderr",
     "output_type": "stream",
     "text": [
      "Epoch 13: 100%|██████████| 355/355 [00:31<00:00, 11.21batch/s, loss_decrease=0.9999995292670226]\n",
      "100%|██████████| 630/630 [00:06<00:00, 94.22batch/s] \n"
     ]
    },
    {
     "data": {
      "text/html": [
       "<div>\n",
       "<style scoped>\n",
       "    .dataframe tbody tr th:only-of-type {\n",
       "        vertical-align: middle;\n",
       "    }\n",
       "\n",
       "    .dataframe tbody tr th {\n",
       "        vertical-align: top;\n",
       "    }\n",
       "\n",
       "    .dataframe thead tr th {\n",
       "        text-align: left;\n",
       "    }\n",
       "</style>\n",
       "<table border=\"1\" class=\"dataframe\">\n",
       "  <thead>\n",
       "    <tr>\n",
       "      <th></th>\n",
       "      <th colspan=\"2\" halign=\"left\">All</th>\n",
       "      <th colspan=\"2\" halign=\"left\">In VOC</th>\n",
       "      <th colspan=\"2\" halign=\"left\">Out of VOC</th>\n",
       "    </tr>\n",
       "    <tr>\n",
       "      <th></th>\n",
       "      <th>f1 micro</th>\n",
       "      <th>f1 macro</th>\n",
       "      <th>f1 micro</th>\n",
       "      <th>f1 macro</th>\n",
       "      <th>f1 micro</th>\n",
       "      <th>f1 macro</th>\n",
       "    </tr>\n",
       "  </thead>\n",
       "  <tbody>\n",
       "    <tr>\n",
       "      <th>score</th>\n",
       "      <td>0.826984</td>\n",
       "      <td>0.572611</td>\n",
       "      <td>0.832268</td>\n",
       "      <td>0.594822</td>\n",
       "      <td>0.0</td>\n",
       "      <td>0.0</td>\n",
       "    </tr>\n",
       "  </tbody>\n",
       "</table>\n",
       "</div>"
      ],
      "text/plain": [
       "            All              In VOC           Out of VOC         \n",
       "       f1 micro  f1 macro  f1 micro  f1 macro   f1 micro f1 macro\n",
       "score  0.826984  0.572611  0.832268  0.594822        0.0      0.0"
      ]
     },
     "metadata": {},
     "output_type": "display_data"
    },
    {
     "name": "stdout",
     "output_type": "stream",
     "text": [
      "EarlyStopping counter: 4 out of 7\n"
     ]
    },
    {
     "name": "stderr",
     "output_type": "stream",
     "text": [
      "Epoch 14: 100%|██████████| 355/355 [00:32<00:00, 10.96batch/s, loss_decrease=0.9999995292670226]\n",
      "100%|██████████| 630/630 [00:06<00:00, 98.13batch/s] \n"
     ]
    },
    {
     "data": {
      "text/html": [
       "<div>\n",
       "<style scoped>\n",
       "    .dataframe tbody tr th:only-of-type {\n",
       "        vertical-align: middle;\n",
       "    }\n",
       "\n",
       "    .dataframe tbody tr th {\n",
       "        vertical-align: top;\n",
       "    }\n",
       "\n",
       "    .dataframe thead tr th {\n",
       "        text-align: left;\n",
       "    }\n",
       "</style>\n",
       "<table border=\"1\" class=\"dataframe\">\n",
       "  <thead>\n",
       "    <tr>\n",
       "      <th></th>\n",
       "      <th colspan=\"2\" halign=\"left\">All</th>\n",
       "      <th colspan=\"2\" halign=\"left\">In VOC</th>\n",
       "      <th colspan=\"2\" halign=\"left\">Out of VOC</th>\n",
       "    </tr>\n",
       "    <tr>\n",
       "      <th></th>\n",
       "      <th>f1 micro</th>\n",
       "      <th>f1 macro</th>\n",
       "      <th>f1 micro</th>\n",
       "      <th>f1 macro</th>\n",
       "      <th>f1 micro</th>\n",
       "      <th>f1 macro</th>\n",
       "    </tr>\n",
       "  </thead>\n",
       "  <tbody>\n",
       "    <tr>\n",
       "      <th>score</th>\n",
       "      <td>0.820635</td>\n",
       "      <td>0.539267</td>\n",
       "      <td>0.824281</td>\n",
       "      <td>0.552602</td>\n",
       "      <td>0.25</td>\n",
       "      <td>0.142857</td>\n",
       "    </tr>\n",
       "  </tbody>\n",
       "</table>\n",
       "</div>"
      ],
      "text/plain": [
       "            All              In VOC           Out of VOC          \n",
       "       f1 micro  f1 macro  f1 micro  f1 macro   f1 micro  f1 macro\n",
       "score  0.820635  0.539267  0.824281  0.552602       0.25  0.142857"
      ]
     },
     "metadata": {},
     "output_type": "display_data"
    },
    {
     "name": "stdout",
     "output_type": "stream",
     "text": [
      "EarlyStopping counter: 5 out of 7\n"
     ]
    },
    {
     "name": "stderr",
     "output_type": "stream",
     "text": [
      "Epoch 15: 100%|██████████| 355/355 [00:31<00:00, 11.24batch/s, loss_decrease=0.9999993409739557]\n",
      "100%|██████████| 630/630 [00:06<00:00, 95.88batch/s] \n"
     ]
    },
    {
     "data": {
      "text/html": [
       "<div>\n",
       "<style scoped>\n",
       "    .dataframe tbody tr th:only-of-type {\n",
       "        vertical-align: middle;\n",
       "    }\n",
       "\n",
       "    .dataframe tbody tr th {\n",
       "        vertical-align: top;\n",
       "    }\n",
       "\n",
       "    .dataframe thead tr th {\n",
       "        text-align: left;\n",
       "    }\n",
       "</style>\n",
       "<table border=\"1\" class=\"dataframe\">\n",
       "  <thead>\n",
       "    <tr>\n",
       "      <th></th>\n",
       "      <th colspan=\"2\" halign=\"left\">All</th>\n",
       "      <th colspan=\"2\" halign=\"left\">In VOC</th>\n",
       "      <th colspan=\"2\" halign=\"left\">Out of VOC</th>\n",
       "    </tr>\n",
       "    <tr>\n",
       "      <th></th>\n",
       "      <th>f1 micro</th>\n",
       "      <th>f1 macro</th>\n",
       "      <th>f1 micro</th>\n",
       "      <th>f1 macro</th>\n",
       "      <th>f1 micro</th>\n",
       "      <th>f1 macro</th>\n",
       "    </tr>\n",
       "  </thead>\n",
       "  <tbody>\n",
       "    <tr>\n",
       "      <th>score</th>\n",
       "      <td>0.82381</td>\n",
       "      <td>0.525793</td>\n",
       "      <td>0.829073</td>\n",
       "      <td>0.543264</td>\n",
       "      <td>0.0</td>\n",
       "      <td>0.0</td>\n",
       "    </tr>\n",
       "  </tbody>\n",
       "</table>\n",
       "</div>"
      ],
      "text/plain": [
       "           All              In VOC           Out of VOC         \n",
       "      f1 micro  f1 macro  f1 micro  f1 macro   f1 micro f1 macro\n",
       "score  0.82381  0.525793  0.829073  0.543264        0.0      0.0"
      ]
     },
     "metadata": {},
     "output_type": "display_data"
    },
    {
     "name": "stdout",
     "output_type": "stream",
     "text": [
      "EarlyStopping counter: 6 out of 7\n"
     ]
    },
    {
     "name": "stderr",
     "output_type": "stream",
     "text": [
      "Epoch 16: 100%|██████████| 355/355 [00:32<00:00, 11.04batch/s, loss_decrease=0.9999996234135826]\n",
      "100%|██████████| 630/630 [00:06<00:00, 96.69batch/s] \n"
     ]
    },
    {
     "data": {
      "text/html": [
       "<div>\n",
       "<style scoped>\n",
       "    .dataframe tbody tr th:only-of-type {\n",
       "        vertical-align: middle;\n",
       "    }\n",
       "\n",
       "    .dataframe tbody tr th {\n",
       "        vertical-align: top;\n",
       "    }\n",
       "\n",
       "    .dataframe thead tr th {\n",
       "        text-align: left;\n",
       "    }\n",
       "</style>\n",
       "<table border=\"1\" class=\"dataframe\">\n",
       "  <thead>\n",
       "    <tr>\n",
       "      <th></th>\n",
       "      <th colspan=\"2\" halign=\"left\">All</th>\n",
       "      <th colspan=\"2\" halign=\"left\">In VOC</th>\n",
       "      <th colspan=\"2\" halign=\"left\">Out of VOC</th>\n",
       "    </tr>\n",
       "    <tr>\n",
       "      <th></th>\n",
       "      <th>f1 micro</th>\n",
       "      <th>f1 macro</th>\n",
       "      <th>f1 micro</th>\n",
       "      <th>f1 macro</th>\n",
       "      <th>f1 micro</th>\n",
       "      <th>f1 macro</th>\n",
       "    </tr>\n",
       "  </thead>\n",
       "  <tbody>\n",
       "    <tr>\n",
       "      <th>score</th>\n",
       "      <td>0.812698</td>\n",
       "      <td>0.555521</td>\n",
       "      <td>0.817891</td>\n",
       "      <td>0.568003</td>\n",
       "      <td>0.0</td>\n",
       "      <td>0.0</td>\n",
       "    </tr>\n",
       "  </tbody>\n",
       "</table>\n",
       "</div>"
      ],
      "text/plain": [
       "            All              In VOC           Out of VOC         \n",
       "       f1 micro  f1 macro  f1 micro  f1 macro   f1 micro f1 macro\n",
       "score  0.812698  0.555521  0.817891  0.568003        0.0      0.0"
      ]
     },
     "metadata": {},
     "output_type": "display_data"
    },
    {
     "name": "stdout",
     "output_type": "stream",
     "text": [
      "EarlyStopping counter: 7 out of 7\n",
      "Early stopping\n",
      "Evaluating on test dataset\n"
     ]
    },
    {
     "name": "stderr",
     "output_type": "stream",
     "text": [
      "100%|██████████| 1574/1574 [00:16<00:00, 93.02batch/s] \n"
     ]
    },
    {
     "data": {
      "text/html": [
       "<div>\n",
       "<style scoped>\n",
       "    .dataframe tbody tr th:only-of-type {\n",
       "        vertical-align: middle;\n",
       "    }\n",
       "\n",
       "    .dataframe tbody tr th {\n",
       "        vertical-align: top;\n",
       "    }\n",
       "\n",
       "    .dataframe thead tr th {\n",
       "        text-align: left;\n",
       "    }\n",
       "</style>\n",
       "<table border=\"1\" class=\"dataframe\">\n",
       "  <thead>\n",
       "    <tr>\n",
       "      <th></th>\n",
       "      <th colspan=\"2\" halign=\"left\">All</th>\n",
       "      <th colspan=\"2\" halign=\"left\">In VOC</th>\n",
       "      <th colspan=\"2\" halign=\"left\">Out of VOC</th>\n",
       "    </tr>\n",
       "    <tr>\n",
       "      <th></th>\n",
       "      <th>f1 micro</th>\n",
       "      <th>f1 macro</th>\n",
       "      <th>f1 micro</th>\n",
       "      <th>f1 macro</th>\n",
       "      <th>f1 micro</th>\n",
       "      <th>f1 macro</th>\n",
       "    </tr>\n",
       "  </thead>\n",
       "  <tbody>\n",
       "    <tr>\n",
       "      <th>score</th>\n",
       "      <td>0.85197</td>\n",
       "      <td>0.543328</td>\n",
       "      <td>0.858974</td>\n",
       "      <td>0.573156</td>\n",
       "      <td>0.071429</td>\n",
       "      <td>0.047619</td>\n",
       "    </tr>\n",
       "  </tbody>\n",
       "</table>\n",
       "</div>"
      ],
      "text/plain": [
       "           All              In VOC           Out of VOC          \n",
       "      f1 micro  f1 macro  f1 micro  f1 macro   f1 micro  f1 macro\n",
       "score  0.85197  0.543328  0.858974  0.573156   0.071429  0.047619"
      ]
     },
     "metadata": {},
     "output_type": "display_data"
    },
    {
     "name": "stdout",
     "output_type": "stream",
     "text": [
      "Сплит 2\n"
     ]
    },
    {
     "name": "stderr",
     "output_type": "stream",
     "text": [
      "Epoch 1: 100%|██████████| 355/355 [00:31<00:00, 11.21batch/s, loss_decrease=1.0000002824399992]\n",
      "100%|██████████| 630/630 [00:07<00:00, 84.95batch/s] \n"
     ]
    },
    {
     "data": {
      "text/html": [
       "<div>\n",
       "<style scoped>\n",
       "    .dataframe tbody tr th:only-of-type {\n",
       "        vertical-align: middle;\n",
       "    }\n",
       "\n",
       "    .dataframe tbody tr th {\n",
       "        vertical-align: top;\n",
       "    }\n",
       "\n",
       "    .dataframe thead tr th {\n",
       "        text-align: left;\n",
       "    }\n",
       "</style>\n",
       "<table border=\"1\" class=\"dataframe\">\n",
       "  <thead>\n",
       "    <tr>\n",
       "      <th></th>\n",
       "      <th colspan=\"2\" halign=\"left\">All</th>\n",
       "      <th colspan=\"2\" halign=\"left\">In VOC</th>\n",
       "      <th colspan=\"2\" halign=\"left\">Out of VOC</th>\n",
       "    </tr>\n",
       "    <tr>\n",
       "      <th></th>\n",
       "      <th>f1 micro</th>\n",
       "      <th>f1 macro</th>\n",
       "      <th>f1 micro</th>\n",
       "      <th>f1 macro</th>\n",
       "      <th>f1 micro</th>\n",
       "      <th>f1 macro</th>\n",
       "    </tr>\n",
       "  </thead>\n",
       "  <tbody>\n",
       "    <tr>\n",
       "      <th>score</th>\n",
       "      <td>0.809524</td>\n",
       "      <td>0.486865</td>\n",
       "      <td>0.809524</td>\n",
       "      <td>0.486865</td>\n",
       "      <td>0.0</td>\n",
       "      <td>0.0</td>\n",
       "    </tr>\n",
       "  </tbody>\n",
       "</table>\n",
       "</div>"
      ],
      "text/plain": [
       "            All              In VOC           Out of VOC         \n",
       "       f1 micro  f1 macro  f1 micro  f1 macro   f1 micro f1 macro\n",
       "score  0.809524  0.486865  0.809524  0.486865        0.0      0.0"
      ]
     },
     "metadata": {},
     "output_type": "display_data"
    },
    {
     "name": "stdout",
     "output_type": "stream",
     "text": [
      "Validation metric increased (-inf --> 0.486865).  Saving model ...\n"
     ]
    },
    {
     "name": "stderr",
     "output_type": "stream",
     "text": [
      "Epoch 2: 100%|██████████| 355/355 [00:32<00:00, 11.01batch/s, loss_decrease=1.000001129760954] \n",
      "100%|██████████| 630/630 [00:06<00:00, 93.94batch/s] \n"
     ]
    },
    {
     "data": {
      "text/html": [
       "<div>\n",
       "<style scoped>\n",
       "    .dataframe tbody tr th:only-of-type {\n",
       "        vertical-align: middle;\n",
       "    }\n",
       "\n",
       "    .dataframe tbody tr th {\n",
       "        vertical-align: top;\n",
       "    }\n",
       "\n",
       "    .dataframe thead tr th {\n",
       "        text-align: left;\n",
       "    }\n",
       "</style>\n",
       "<table border=\"1\" class=\"dataframe\">\n",
       "  <thead>\n",
       "    <tr>\n",
       "      <th></th>\n",
       "      <th colspan=\"2\" halign=\"left\">All</th>\n",
       "      <th colspan=\"2\" halign=\"left\">In VOC</th>\n",
       "      <th colspan=\"2\" halign=\"left\">Out of VOC</th>\n",
       "    </tr>\n",
       "    <tr>\n",
       "      <th></th>\n",
       "      <th>f1 micro</th>\n",
       "      <th>f1 macro</th>\n",
       "      <th>f1 micro</th>\n",
       "      <th>f1 macro</th>\n",
       "      <th>f1 micro</th>\n",
       "      <th>f1 macro</th>\n",
       "    </tr>\n",
       "  </thead>\n",
       "  <tbody>\n",
       "    <tr>\n",
       "      <th>score</th>\n",
       "      <td>0.833333</td>\n",
       "      <td>0.550519</td>\n",
       "      <td>0.833333</td>\n",
       "      <td>0.550519</td>\n",
       "      <td>0.0</td>\n",
       "      <td>0.0</td>\n",
       "    </tr>\n",
       "  </tbody>\n",
       "</table>\n",
       "</div>"
      ],
      "text/plain": [
       "            All              In VOC           Out of VOC         \n",
       "       f1 micro  f1 macro  f1 micro  f1 macro   f1 micro f1 macro\n",
       "score  0.833333  0.550519  0.833333  0.550519        0.0      0.0"
      ]
     },
     "metadata": {},
     "output_type": "display_data"
    },
    {
     "name": "stdout",
     "output_type": "stream",
     "text": [
      "Validation metric increased (0.486865 --> 0.550519).  Saving model ...\n"
     ]
    },
    {
     "name": "stderr",
     "output_type": "stream",
     "text": [
      "Epoch 3: 100%|██████████| 355/355 [00:30<00:00, 11.51batch/s, loss_decrease=1.0000012239078153]\n",
      "100%|██████████| 630/630 [00:06<00:00, 97.17batch/s] \n"
     ]
    },
    {
     "data": {
      "text/html": [
       "<div>\n",
       "<style scoped>\n",
       "    .dataframe tbody tr th:only-of-type {\n",
       "        vertical-align: middle;\n",
       "    }\n",
       "\n",
       "    .dataframe tbody tr th {\n",
       "        vertical-align: top;\n",
       "    }\n",
       "\n",
       "    .dataframe thead tr th {\n",
       "        text-align: left;\n",
       "    }\n",
       "</style>\n",
       "<table border=\"1\" class=\"dataframe\">\n",
       "  <thead>\n",
       "    <tr>\n",
       "      <th></th>\n",
       "      <th colspan=\"2\" halign=\"left\">All</th>\n",
       "      <th colspan=\"2\" halign=\"left\">In VOC</th>\n",
       "      <th colspan=\"2\" halign=\"left\">Out of VOC</th>\n",
       "    </tr>\n",
       "    <tr>\n",
       "      <th></th>\n",
       "      <th>f1 micro</th>\n",
       "      <th>f1 macro</th>\n",
       "      <th>f1 micro</th>\n",
       "      <th>f1 macro</th>\n",
       "      <th>f1 micro</th>\n",
       "      <th>f1 macro</th>\n",
       "    </tr>\n",
       "  </thead>\n",
       "  <tbody>\n",
       "    <tr>\n",
       "      <th>score</th>\n",
       "      <td>0.815873</td>\n",
       "      <td>0.533351</td>\n",
       "      <td>0.815873</td>\n",
       "      <td>0.533351</td>\n",
       "      <td>0.0</td>\n",
       "      <td>0.0</td>\n",
       "    </tr>\n",
       "  </tbody>\n",
       "</table>\n",
       "</div>"
      ],
      "text/plain": [
       "            All              In VOC           Out of VOC         \n",
       "       f1 micro  f1 macro  f1 micro  f1 macro   f1 micro f1 macro\n",
       "score  0.815873  0.533351  0.815873  0.533351        0.0      0.0"
      ]
     },
     "metadata": {},
     "output_type": "display_data"
    },
    {
     "name": "stdout",
     "output_type": "stream",
     "text": [
      "EarlyStopping counter: 1 out of 7\n"
     ]
    },
    {
     "name": "stderr",
     "output_type": "stream",
     "text": [
      "Epoch 4: 100%|██████████| 355/355 [00:29<00:00, 12.07batch/s, loss_decrease=1.0000012239078153]\n",
      "100%|██████████| 630/630 [00:06<00:00, 96.75batch/s] \n"
     ]
    },
    {
     "data": {
      "text/html": [
       "<div>\n",
       "<style scoped>\n",
       "    .dataframe tbody tr th:only-of-type {\n",
       "        vertical-align: middle;\n",
       "    }\n",
       "\n",
       "    .dataframe tbody tr th {\n",
       "        vertical-align: top;\n",
       "    }\n",
       "\n",
       "    .dataframe thead tr th {\n",
       "        text-align: left;\n",
       "    }\n",
       "</style>\n",
       "<table border=\"1\" class=\"dataframe\">\n",
       "  <thead>\n",
       "    <tr>\n",
       "      <th></th>\n",
       "      <th colspan=\"2\" halign=\"left\">All</th>\n",
       "      <th colspan=\"2\" halign=\"left\">In VOC</th>\n",
       "      <th colspan=\"2\" halign=\"left\">Out of VOC</th>\n",
       "    </tr>\n",
       "    <tr>\n",
       "      <th></th>\n",
       "      <th>f1 micro</th>\n",
       "      <th>f1 macro</th>\n",
       "      <th>f1 micro</th>\n",
       "      <th>f1 macro</th>\n",
       "      <th>f1 micro</th>\n",
       "      <th>f1 macro</th>\n",
       "    </tr>\n",
       "  </thead>\n",
       "  <tbody>\n",
       "    <tr>\n",
       "      <th>score</th>\n",
       "      <td>0.844444</td>\n",
       "      <td>0.556076</td>\n",
       "      <td>0.844444</td>\n",
       "      <td>0.556076</td>\n",
       "      <td>0.0</td>\n",
       "      <td>0.0</td>\n",
       "    </tr>\n",
       "  </tbody>\n",
       "</table>\n",
       "</div>"
      ],
      "text/plain": [
       "            All              In VOC           Out of VOC         \n",
       "       f1 micro  f1 macro  f1 micro  f1 macro   f1 micro f1 macro\n",
       "score  0.844444  0.556076  0.844444  0.556076        0.0      0.0"
      ]
     },
     "metadata": {},
     "output_type": "display_data"
    },
    {
     "name": "stdout",
     "output_type": "stream",
     "text": [
      "Validation metric increased (0.550519 --> 0.556076).  Saving model ...\n"
     ]
    },
    {
     "name": "stderr",
     "output_type": "stream",
     "text": [
      "Epoch 5: 100%|██████████| 355/355 [00:31<00:00, 11.37batch/s, loss_decrease=1.0000014122015912]\n",
      "100%|██████████| 630/630 [00:07<00:00, 85.60batch/s] \n"
     ]
    },
    {
     "data": {
      "text/html": [
       "<div>\n",
       "<style scoped>\n",
       "    .dataframe tbody tr th:only-of-type {\n",
       "        vertical-align: middle;\n",
       "    }\n",
       "\n",
       "    .dataframe tbody tr th {\n",
       "        vertical-align: top;\n",
       "    }\n",
       "\n",
       "    .dataframe thead tr th {\n",
       "        text-align: left;\n",
       "    }\n",
       "</style>\n",
       "<table border=\"1\" class=\"dataframe\">\n",
       "  <thead>\n",
       "    <tr>\n",
       "      <th></th>\n",
       "      <th colspan=\"2\" halign=\"left\">All</th>\n",
       "      <th colspan=\"2\" halign=\"left\">In VOC</th>\n",
       "      <th colspan=\"2\" halign=\"left\">Out of VOC</th>\n",
       "    </tr>\n",
       "    <tr>\n",
       "      <th></th>\n",
       "      <th>f1 micro</th>\n",
       "      <th>f1 macro</th>\n",
       "      <th>f1 micro</th>\n",
       "      <th>f1 macro</th>\n",
       "      <th>f1 micro</th>\n",
       "      <th>f1 macro</th>\n",
       "    </tr>\n",
       "  </thead>\n",
       "  <tbody>\n",
       "    <tr>\n",
       "      <th>score</th>\n",
       "      <td>0.84127</td>\n",
       "      <td>0.587744</td>\n",
       "      <td>0.84127</td>\n",
       "      <td>0.587744</td>\n",
       "      <td>0.0</td>\n",
       "      <td>0.0</td>\n",
       "    </tr>\n",
       "  </tbody>\n",
       "</table>\n",
       "</div>"
      ],
      "text/plain": [
       "           All             In VOC           Out of VOC         \n",
       "      f1 micro  f1 macro f1 micro  f1 macro   f1 micro f1 macro\n",
       "score  0.84127  0.587744  0.84127  0.587744        0.0      0.0"
      ]
     },
     "metadata": {},
     "output_type": "display_data"
    },
    {
     "name": "stdout",
     "output_type": "stream",
     "text": [
      "Validation metric increased (0.556076 --> 0.587744).  Saving model ...\n"
     ]
    },
    {
     "name": "stderr",
     "output_type": "stream",
     "text": [
      "Epoch 6: 100%|██████████| 355/355 [00:31<00:00, 11.33batch/s, loss_decrease=1.0000014122015912]\n",
      "100%|██████████| 630/630 [00:06<00:00, 97.91batch/s] \n"
     ]
    },
    {
     "data": {
      "text/html": [
       "<div>\n",
       "<style scoped>\n",
       "    .dataframe tbody tr th:only-of-type {\n",
       "        vertical-align: middle;\n",
       "    }\n",
       "\n",
       "    .dataframe tbody tr th {\n",
       "        vertical-align: top;\n",
       "    }\n",
       "\n",
       "    .dataframe thead tr th {\n",
       "        text-align: left;\n",
       "    }\n",
       "</style>\n",
       "<table border=\"1\" class=\"dataframe\">\n",
       "  <thead>\n",
       "    <tr>\n",
       "      <th></th>\n",
       "      <th colspan=\"2\" halign=\"left\">All</th>\n",
       "      <th colspan=\"2\" halign=\"left\">In VOC</th>\n",
       "      <th colspan=\"2\" halign=\"left\">Out of VOC</th>\n",
       "    </tr>\n",
       "    <tr>\n",
       "      <th></th>\n",
       "      <th>f1 micro</th>\n",
       "      <th>f1 macro</th>\n",
       "      <th>f1 micro</th>\n",
       "      <th>f1 macro</th>\n",
       "      <th>f1 micro</th>\n",
       "      <th>f1 macro</th>\n",
       "    </tr>\n",
       "  </thead>\n",
       "  <tbody>\n",
       "    <tr>\n",
       "      <th>score</th>\n",
       "      <td>0.849206</td>\n",
       "      <td>0.603271</td>\n",
       "      <td>0.849206</td>\n",
       "      <td>0.603271</td>\n",
       "      <td>0.0</td>\n",
       "      <td>0.0</td>\n",
       "    </tr>\n",
       "  </tbody>\n",
       "</table>\n",
       "</div>"
      ],
      "text/plain": [
       "            All              In VOC           Out of VOC         \n",
       "       f1 micro  f1 macro  f1 micro  f1 macro   f1 micro f1 macro\n",
       "score  0.849206  0.603271  0.849206  0.603271        0.0      0.0"
      ]
     },
     "metadata": {},
     "output_type": "display_data"
    },
    {
     "name": "stdout",
     "output_type": "stream",
     "text": [
      "Validation metric increased (0.587744 --> 0.603271).  Saving model ...\n"
     ]
    },
    {
     "name": "stderr",
     "output_type": "stream",
     "text": [
      "Epoch 7: 100%|██████████| 355/355 [00:31<00:00, 11.30batch/s, loss_decrease=1.0000014122015912]\n",
      "100%|██████████| 630/630 [00:07<00:00, 88.22batch/s]\n"
     ]
    },
    {
     "data": {
      "text/html": [
       "<div>\n",
       "<style scoped>\n",
       "    .dataframe tbody tr th:only-of-type {\n",
       "        vertical-align: middle;\n",
       "    }\n",
       "\n",
       "    .dataframe tbody tr th {\n",
       "        vertical-align: top;\n",
       "    }\n",
       "\n",
       "    .dataframe thead tr th {\n",
       "        text-align: left;\n",
       "    }\n",
       "</style>\n",
       "<table border=\"1\" class=\"dataframe\">\n",
       "  <thead>\n",
       "    <tr>\n",
       "      <th></th>\n",
       "      <th colspan=\"2\" halign=\"left\">All</th>\n",
       "      <th colspan=\"2\" halign=\"left\">In VOC</th>\n",
       "      <th colspan=\"2\" halign=\"left\">Out of VOC</th>\n",
       "    </tr>\n",
       "    <tr>\n",
       "      <th></th>\n",
       "      <th>f1 micro</th>\n",
       "      <th>f1 macro</th>\n",
       "      <th>f1 micro</th>\n",
       "      <th>f1 macro</th>\n",
       "      <th>f1 micro</th>\n",
       "      <th>f1 macro</th>\n",
       "    </tr>\n",
       "  </thead>\n",
       "  <tbody>\n",
       "    <tr>\n",
       "      <th>score</th>\n",
       "      <td>0.861905</td>\n",
       "      <td>0.619357</td>\n",
       "      <td>0.861905</td>\n",
       "      <td>0.619357</td>\n",
       "      <td>0.0</td>\n",
       "      <td>0.0</td>\n",
       "    </tr>\n",
       "  </tbody>\n",
       "</table>\n",
       "</div>"
      ],
      "text/plain": [
       "            All              In VOC           Out of VOC         \n",
       "       f1 micro  f1 macro  f1 micro  f1 macro   f1 micro f1 macro\n",
       "score  0.861905  0.619357  0.861905  0.619357        0.0      0.0"
      ]
     },
     "metadata": {},
     "output_type": "display_data"
    },
    {
     "name": "stdout",
     "output_type": "stream",
     "text": [
      "Validation metric increased (0.603271 --> 0.619357).  Saving model ...\n"
     ]
    },
    {
     "name": "stderr",
     "output_type": "stream",
     "text": [
      "Epoch 8: 100%|██████████| 355/355 [00:31<00:00, 11.11batch/s, loss_decrease=1.0000014122015912]\n",
      "100%|██████████| 630/630 [00:08<00:00, 78.72batch/s]\n"
     ]
    },
    {
     "data": {
      "text/html": [
       "<div>\n",
       "<style scoped>\n",
       "    .dataframe tbody tr th:only-of-type {\n",
       "        vertical-align: middle;\n",
       "    }\n",
       "\n",
       "    .dataframe tbody tr th {\n",
       "        vertical-align: top;\n",
       "    }\n",
       "\n",
       "    .dataframe thead tr th {\n",
       "        text-align: left;\n",
       "    }\n",
       "</style>\n",
       "<table border=\"1\" class=\"dataframe\">\n",
       "  <thead>\n",
       "    <tr>\n",
       "      <th></th>\n",
       "      <th colspan=\"2\" halign=\"left\">All</th>\n",
       "      <th colspan=\"2\" halign=\"left\">In VOC</th>\n",
       "      <th colspan=\"2\" halign=\"left\">Out of VOC</th>\n",
       "    </tr>\n",
       "    <tr>\n",
       "      <th></th>\n",
       "      <th>f1 micro</th>\n",
       "      <th>f1 macro</th>\n",
       "      <th>f1 micro</th>\n",
       "      <th>f1 macro</th>\n",
       "      <th>f1 micro</th>\n",
       "      <th>f1 macro</th>\n",
       "    </tr>\n",
       "  </thead>\n",
       "  <tbody>\n",
       "    <tr>\n",
       "      <th>score</th>\n",
       "      <td>0.863492</td>\n",
       "      <td>0.611414</td>\n",
       "      <td>0.863492</td>\n",
       "      <td>0.611414</td>\n",
       "      <td>0.0</td>\n",
       "      <td>0.0</td>\n",
       "    </tr>\n",
       "  </tbody>\n",
       "</table>\n",
       "</div>"
      ],
      "text/plain": [
       "            All              In VOC           Out of VOC         \n",
       "       f1 micro  f1 macro  f1 micro  f1 macro   f1 micro f1 macro\n",
       "score  0.863492  0.611414  0.863492  0.611414        0.0      0.0"
      ]
     },
     "metadata": {},
     "output_type": "display_data"
    },
    {
     "name": "stdout",
     "output_type": "stream",
     "text": [
      "EarlyStopping counter: 1 out of 7\n"
     ]
    },
    {
     "name": "stderr",
     "output_type": "stream",
     "text": [
      "Epoch 9: 100%|██████████| 355/355 [00:32<00:00, 11.04batch/s, loss_decrease=1.0000014122015912]\n",
      "100%|██████████| 630/630 [00:06<00:00, 93.67batch/s] \n"
     ]
    },
    {
     "data": {
      "text/html": [
       "<div>\n",
       "<style scoped>\n",
       "    .dataframe tbody tr th:only-of-type {\n",
       "        vertical-align: middle;\n",
       "    }\n",
       "\n",
       "    .dataframe tbody tr th {\n",
       "        vertical-align: top;\n",
       "    }\n",
       "\n",
       "    .dataframe thead tr th {\n",
       "        text-align: left;\n",
       "    }\n",
       "</style>\n",
       "<table border=\"1\" class=\"dataframe\">\n",
       "  <thead>\n",
       "    <tr>\n",
       "      <th></th>\n",
       "      <th colspan=\"2\" halign=\"left\">All</th>\n",
       "      <th colspan=\"2\" halign=\"left\">In VOC</th>\n",
       "      <th colspan=\"2\" halign=\"left\">Out of VOC</th>\n",
       "    </tr>\n",
       "    <tr>\n",
       "      <th></th>\n",
       "      <th>f1 micro</th>\n",
       "      <th>f1 macro</th>\n",
       "      <th>f1 micro</th>\n",
       "      <th>f1 macro</th>\n",
       "      <th>f1 micro</th>\n",
       "      <th>f1 macro</th>\n",
       "    </tr>\n",
       "  </thead>\n",
       "  <tbody>\n",
       "    <tr>\n",
       "      <th>score</th>\n",
       "      <td>0.860317</td>\n",
       "      <td>0.623122</td>\n",
       "      <td>0.860317</td>\n",
       "      <td>0.623122</td>\n",
       "      <td>0.0</td>\n",
       "      <td>0.0</td>\n",
       "    </tr>\n",
       "  </tbody>\n",
       "</table>\n",
       "</div>"
      ],
      "text/plain": [
       "            All              In VOC           Out of VOC         \n",
       "       f1 micro  f1 macro  f1 micro  f1 macro   f1 micro f1 macro\n",
       "score  0.860317  0.623122  0.860317  0.623122        0.0      0.0"
      ]
     },
     "metadata": {},
     "output_type": "display_data"
    },
    {
     "name": "stdout",
     "output_type": "stream",
     "text": [
      "Validation metric increased (0.619357 --> 0.623122).  Saving model ...\n"
     ]
    },
    {
     "name": "stderr",
     "output_type": "stream",
     "text": [
      "Epoch 10: 100%|██████████| 355/355 [00:30<00:00, 11.50batch/s, loss_decrease=1.0000015063485057]\n",
      "100%|██████████| 630/630 [00:07<00:00, 87.69batch/s]\n"
     ]
    },
    {
     "data": {
      "text/html": [
       "<div>\n",
       "<style scoped>\n",
       "    .dataframe tbody tr th:only-of-type {\n",
       "        vertical-align: middle;\n",
       "    }\n",
       "\n",
       "    .dataframe tbody tr th {\n",
       "        vertical-align: top;\n",
       "    }\n",
       "\n",
       "    .dataframe thead tr th {\n",
       "        text-align: left;\n",
       "    }\n",
       "</style>\n",
       "<table border=\"1\" class=\"dataframe\">\n",
       "  <thead>\n",
       "    <tr>\n",
       "      <th></th>\n",
       "      <th colspan=\"2\" halign=\"left\">All</th>\n",
       "      <th colspan=\"2\" halign=\"left\">In VOC</th>\n",
       "      <th colspan=\"2\" halign=\"left\">Out of VOC</th>\n",
       "    </tr>\n",
       "    <tr>\n",
       "      <th></th>\n",
       "      <th>f1 micro</th>\n",
       "      <th>f1 macro</th>\n",
       "      <th>f1 micro</th>\n",
       "      <th>f1 macro</th>\n",
       "      <th>f1 micro</th>\n",
       "      <th>f1 macro</th>\n",
       "    </tr>\n",
       "  </thead>\n",
       "  <tbody>\n",
       "    <tr>\n",
       "      <th>score</th>\n",
       "      <td>0.873016</td>\n",
       "      <td>0.636567</td>\n",
       "      <td>0.873016</td>\n",
       "      <td>0.636567</td>\n",
       "      <td>0.0</td>\n",
       "      <td>0.0</td>\n",
       "    </tr>\n",
       "  </tbody>\n",
       "</table>\n",
       "</div>"
      ],
      "text/plain": [
       "            All              In VOC           Out of VOC         \n",
       "       f1 micro  f1 macro  f1 micro  f1 macro   f1 micro f1 macro\n",
       "score  0.873016  0.636567  0.873016  0.636567        0.0      0.0"
      ]
     },
     "metadata": {},
     "output_type": "display_data"
    },
    {
     "name": "stdout",
     "output_type": "stream",
     "text": [
      "Validation metric increased (0.623122 --> 0.636567).  Saving model ...\n"
     ]
    },
    {
     "name": "stderr",
     "output_type": "stream",
     "text": [
      "Epoch 11: 100%|██████████| 355/355 [00:31<00:00, 11.15batch/s, loss_decrease=1.0000015063485057]\n",
      "100%|██████████| 630/630 [00:07<00:00, 86.06batch/s] \n"
     ]
    },
    {
     "data": {
      "text/html": [
       "<div>\n",
       "<style scoped>\n",
       "    .dataframe tbody tr th:only-of-type {\n",
       "        vertical-align: middle;\n",
       "    }\n",
       "\n",
       "    .dataframe tbody tr th {\n",
       "        vertical-align: top;\n",
       "    }\n",
       "\n",
       "    .dataframe thead tr th {\n",
       "        text-align: left;\n",
       "    }\n",
       "</style>\n",
       "<table border=\"1\" class=\"dataframe\">\n",
       "  <thead>\n",
       "    <tr>\n",
       "      <th></th>\n",
       "      <th colspan=\"2\" halign=\"left\">All</th>\n",
       "      <th colspan=\"2\" halign=\"left\">In VOC</th>\n",
       "      <th colspan=\"2\" halign=\"left\">Out of VOC</th>\n",
       "    </tr>\n",
       "    <tr>\n",
       "      <th></th>\n",
       "      <th>f1 micro</th>\n",
       "      <th>f1 macro</th>\n",
       "      <th>f1 micro</th>\n",
       "      <th>f1 macro</th>\n",
       "      <th>f1 micro</th>\n",
       "      <th>f1 macro</th>\n",
       "    </tr>\n",
       "  </thead>\n",
       "  <tbody>\n",
       "    <tr>\n",
       "      <th>score</th>\n",
       "      <td>0.869841</td>\n",
       "      <td>0.65588</td>\n",
       "      <td>0.869841</td>\n",
       "      <td>0.65588</td>\n",
       "      <td>0.0</td>\n",
       "      <td>0.0</td>\n",
       "    </tr>\n",
       "  </tbody>\n",
       "</table>\n",
       "</div>"
      ],
      "text/plain": [
       "            All             In VOC          Out of VOC         \n",
       "       f1 micro f1 macro  f1 micro f1 macro   f1 micro f1 macro\n",
       "score  0.869841  0.65588  0.869841  0.65588        0.0      0.0"
      ]
     },
     "metadata": {},
     "output_type": "display_data"
    },
    {
     "name": "stdout",
     "output_type": "stream",
     "text": [
      "Validation metric increased (0.636567 --> 0.655880).  Saving model ...\n"
     ]
    },
    {
     "name": "stderr",
     "output_type": "stream",
     "text": [
      "Epoch 12: 100%|██████████| 355/355 [00:31<00:00, 11.19batch/s, loss_decrease=1.0000015063485057]\n",
      "100%|██████████| 630/630 [00:06<00:00, 93.77batch/s]\n"
     ]
    },
    {
     "data": {
      "text/html": [
       "<div>\n",
       "<style scoped>\n",
       "    .dataframe tbody tr th:only-of-type {\n",
       "        vertical-align: middle;\n",
       "    }\n",
       "\n",
       "    .dataframe tbody tr th {\n",
       "        vertical-align: top;\n",
       "    }\n",
       "\n",
       "    .dataframe thead tr th {\n",
       "        text-align: left;\n",
       "    }\n",
       "</style>\n",
       "<table border=\"1\" class=\"dataframe\">\n",
       "  <thead>\n",
       "    <tr>\n",
       "      <th></th>\n",
       "      <th colspan=\"2\" halign=\"left\">All</th>\n",
       "      <th colspan=\"2\" halign=\"left\">In VOC</th>\n",
       "      <th colspan=\"2\" halign=\"left\">Out of VOC</th>\n",
       "    </tr>\n",
       "    <tr>\n",
       "      <th></th>\n",
       "      <th>f1 micro</th>\n",
       "      <th>f1 macro</th>\n",
       "      <th>f1 micro</th>\n",
       "      <th>f1 macro</th>\n",
       "      <th>f1 micro</th>\n",
       "      <th>f1 macro</th>\n",
       "    </tr>\n",
       "  </thead>\n",
       "  <tbody>\n",
       "    <tr>\n",
       "      <th>score</th>\n",
       "      <td>0.871429</td>\n",
       "      <td>0.656346</td>\n",
       "      <td>0.871429</td>\n",
       "      <td>0.656346</td>\n",
       "      <td>0.0</td>\n",
       "      <td>0.0</td>\n",
       "    </tr>\n",
       "  </tbody>\n",
       "</table>\n",
       "</div>"
      ],
      "text/plain": [
       "            All              In VOC           Out of VOC         \n",
       "       f1 micro  f1 macro  f1 micro  f1 macro   f1 micro f1 macro\n",
       "score  0.871429  0.656346  0.871429  0.656346        0.0      0.0"
      ]
     },
     "metadata": {},
     "output_type": "display_data"
    },
    {
     "name": "stdout",
     "output_type": "stream",
     "text": [
      "Validation metric increased (0.655880 --> 0.656346).  Saving model ...\n"
     ]
    },
    {
     "name": "stderr",
     "output_type": "stream",
     "text": [
      "Epoch 13: 100%|██████████| 355/355 [00:31<00:00, 11.40batch/s, loss_decrease=1.0000014122015912]\n",
      "100%|██████████| 630/630 [00:06<00:00, 93.85batch/s] \n"
     ]
    },
    {
     "data": {
      "text/html": [
       "<div>\n",
       "<style scoped>\n",
       "    .dataframe tbody tr th:only-of-type {\n",
       "        vertical-align: middle;\n",
       "    }\n",
       "\n",
       "    .dataframe tbody tr th {\n",
       "        vertical-align: top;\n",
       "    }\n",
       "\n",
       "    .dataframe thead tr th {\n",
       "        text-align: left;\n",
       "    }\n",
       "</style>\n",
       "<table border=\"1\" class=\"dataframe\">\n",
       "  <thead>\n",
       "    <tr>\n",
       "      <th></th>\n",
       "      <th colspan=\"2\" halign=\"left\">All</th>\n",
       "      <th colspan=\"2\" halign=\"left\">In VOC</th>\n",
       "      <th colspan=\"2\" halign=\"left\">Out of VOC</th>\n",
       "    </tr>\n",
       "    <tr>\n",
       "      <th></th>\n",
       "      <th>f1 micro</th>\n",
       "      <th>f1 macro</th>\n",
       "      <th>f1 micro</th>\n",
       "      <th>f1 macro</th>\n",
       "      <th>f1 micro</th>\n",
       "      <th>f1 macro</th>\n",
       "    </tr>\n",
       "  </thead>\n",
       "  <tbody>\n",
       "    <tr>\n",
       "      <th>score</th>\n",
       "      <td>0.866667</td>\n",
       "      <td>0.62488</td>\n",
       "      <td>0.866667</td>\n",
       "      <td>0.62488</td>\n",
       "      <td>0.0</td>\n",
       "      <td>0.0</td>\n",
       "    </tr>\n",
       "  </tbody>\n",
       "</table>\n",
       "</div>"
      ],
      "text/plain": [
       "            All             In VOC          Out of VOC         \n",
       "       f1 micro f1 macro  f1 micro f1 macro   f1 micro f1 macro\n",
       "score  0.866667  0.62488  0.866667  0.62488        0.0      0.0"
      ]
     },
     "metadata": {},
     "output_type": "display_data"
    },
    {
     "name": "stdout",
     "output_type": "stream",
     "text": [
      "EarlyStopping counter: 1 out of 7\n"
     ]
    },
    {
     "name": "stderr",
     "output_type": "stream",
     "text": [
      "Epoch 14: 100%|██████████| 355/355 [00:32<00:00, 11.08batch/s, loss_decrease=1.0000015063485057]\n",
      "100%|██████████| 630/630 [00:06<00:00, 98.26batch/s] \n"
     ]
    },
    {
     "data": {
      "text/html": [
       "<div>\n",
       "<style scoped>\n",
       "    .dataframe tbody tr th:only-of-type {\n",
       "        vertical-align: middle;\n",
       "    }\n",
       "\n",
       "    .dataframe tbody tr th {\n",
       "        vertical-align: top;\n",
       "    }\n",
       "\n",
       "    .dataframe thead tr th {\n",
       "        text-align: left;\n",
       "    }\n",
       "</style>\n",
       "<table border=\"1\" class=\"dataframe\">\n",
       "  <thead>\n",
       "    <tr>\n",
       "      <th></th>\n",
       "      <th colspan=\"2\" halign=\"left\">All</th>\n",
       "      <th colspan=\"2\" halign=\"left\">In VOC</th>\n",
       "      <th colspan=\"2\" halign=\"left\">Out of VOC</th>\n",
       "    </tr>\n",
       "    <tr>\n",
       "      <th></th>\n",
       "      <th>f1 micro</th>\n",
       "      <th>f1 macro</th>\n",
       "      <th>f1 micro</th>\n",
       "      <th>f1 macro</th>\n",
       "      <th>f1 micro</th>\n",
       "      <th>f1 macro</th>\n",
       "    </tr>\n",
       "  </thead>\n",
       "  <tbody>\n",
       "    <tr>\n",
       "      <th>score</th>\n",
       "      <td>0.860317</td>\n",
       "      <td>0.609791</td>\n",
       "      <td>0.860317</td>\n",
       "      <td>0.609791</td>\n",
       "      <td>0.0</td>\n",
       "      <td>0.0</td>\n",
       "    </tr>\n",
       "  </tbody>\n",
       "</table>\n",
       "</div>"
      ],
      "text/plain": [
       "            All              In VOC           Out of VOC         \n",
       "       f1 micro  f1 macro  f1 micro  f1 macro   f1 micro f1 macro\n",
       "score  0.860317  0.609791  0.860317  0.609791        0.0      0.0"
      ]
     },
     "metadata": {},
     "output_type": "display_data"
    },
    {
     "name": "stdout",
     "output_type": "stream",
     "text": [
      "EarlyStopping counter: 2 out of 7\n"
     ]
    },
    {
     "name": "stderr",
     "output_type": "stream",
     "text": [
      "Epoch 15: 100%|██████████| 355/355 [00:31<00:00, 11.40batch/s, loss_decrease=1.0000014122015912]\n",
      "100%|██████████| 630/630 [00:06<00:00, 96.14batch/s] \n"
     ]
    },
    {
     "data": {
      "text/html": [
       "<div>\n",
       "<style scoped>\n",
       "    .dataframe tbody tr th:only-of-type {\n",
       "        vertical-align: middle;\n",
       "    }\n",
       "\n",
       "    .dataframe tbody tr th {\n",
       "        vertical-align: top;\n",
       "    }\n",
       "\n",
       "    .dataframe thead tr th {\n",
       "        text-align: left;\n",
       "    }\n",
       "</style>\n",
       "<table border=\"1\" class=\"dataframe\">\n",
       "  <thead>\n",
       "    <tr>\n",
       "      <th></th>\n",
       "      <th colspan=\"2\" halign=\"left\">All</th>\n",
       "      <th colspan=\"2\" halign=\"left\">In VOC</th>\n",
       "      <th colspan=\"2\" halign=\"left\">Out of VOC</th>\n",
       "    </tr>\n",
       "    <tr>\n",
       "      <th></th>\n",
       "      <th>f1 micro</th>\n",
       "      <th>f1 macro</th>\n",
       "      <th>f1 micro</th>\n",
       "      <th>f1 macro</th>\n",
       "      <th>f1 micro</th>\n",
       "      <th>f1 macro</th>\n",
       "    </tr>\n",
       "  </thead>\n",
       "  <tbody>\n",
       "    <tr>\n",
       "      <th>score</th>\n",
       "      <td>0.869841</td>\n",
       "      <td>0.61502</td>\n",
       "      <td>0.869841</td>\n",
       "      <td>0.61502</td>\n",
       "      <td>0.0</td>\n",
       "      <td>0.0</td>\n",
       "    </tr>\n",
       "  </tbody>\n",
       "</table>\n",
       "</div>"
      ],
      "text/plain": [
       "            All             In VOC          Out of VOC         \n",
       "       f1 micro f1 macro  f1 micro f1 macro   f1 micro f1 macro\n",
       "score  0.869841  0.61502  0.869841  0.61502        0.0      0.0"
      ]
     },
     "metadata": {},
     "output_type": "display_data"
    },
    {
     "name": "stdout",
     "output_type": "stream",
     "text": [
      "EarlyStopping counter: 3 out of 7\n"
     ]
    },
    {
     "name": "stderr",
     "output_type": "stream",
     "text": [
      "Epoch 16: 100%|██████████| 355/355 [00:31<00:00, 11.16batch/s, loss_decrease=1.0000015063485057]\n",
      "100%|██████████| 630/630 [00:07<00:00, 86.61batch/s]\n"
     ]
    },
    {
     "data": {
      "text/html": [
       "<div>\n",
       "<style scoped>\n",
       "    .dataframe tbody tr th:only-of-type {\n",
       "        vertical-align: middle;\n",
       "    }\n",
       "\n",
       "    .dataframe tbody tr th {\n",
       "        vertical-align: top;\n",
       "    }\n",
       "\n",
       "    .dataframe thead tr th {\n",
       "        text-align: left;\n",
       "    }\n",
       "</style>\n",
       "<table border=\"1\" class=\"dataframe\">\n",
       "  <thead>\n",
       "    <tr>\n",
       "      <th></th>\n",
       "      <th colspan=\"2\" halign=\"left\">All</th>\n",
       "      <th colspan=\"2\" halign=\"left\">In VOC</th>\n",
       "      <th colspan=\"2\" halign=\"left\">Out of VOC</th>\n",
       "    </tr>\n",
       "    <tr>\n",
       "      <th></th>\n",
       "      <th>f1 micro</th>\n",
       "      <th>f1 macro</th>\n",
       "      <th>f1 micro</th>\n",
       "      <th>f1 macro</th>\n",
       "      <th>f1 micro</th>\n",
       "      <th>f1 macro</th>\n",
       "    </tr>\n",
       "  </thead>\n",
       "  <tbody>\n",
       "    <tr>\n",
       "      <th>score</th>\n",
       "      <td>0.839683</td>\n",
       "      <td>0.578437</td>\n",
       "      <td>0.839683</td>\n",
       "      <td>0.578437</td>\n",
       "      <td>0.0</td>\n",
       "      <td>0.0</td>\n",
       "    </tr>\n",
       "  </tbody>\n",
       "</table>\n",
       "</div>"
      ],
      "text/plain": [
       "            All              In VOC           Out of VOC         \n",
       "       f1 micro  f1 macro  f1 micro  f1 macro   f1 micro f1 macro\n",
       "score  0.839683  0.578437  0.839683  0.578437        0.0      0.0"
      ]
     },
     "metadata": {},
     "output_type": "display_data"
    },
    {
     "name": "stdout",
     "output_type": "stream",
     "text": [
      "EarlyStopping counter: 4 out of 7\n"
     ]
    },
    {
     "name": "stderr",
     "output_type": "stream",
     "text": [
      "Epoch 17: 100%|██████████| 355/355 [00:31<00:00, 11.15batch/s, loss_decrease=1.0000014122015912]\n",
      "100%|██████████| 630/630 [00:06<00:00, 94.84batch/s] \n"
     ]
    },
    {
     "data": {
      "text/html": [
       "<div>\n",
       "<style scoped>\n",
       "    .dataframe tbody tr th:only-of-type {\n",
       "        vertical-align: middle;\n",
       "    }\n",
       "\n",
       "    .dataframe tbody tr th {\n",
       "        vertical-align: top;\n",
       "    }\n",
       "\n",
       "    .dataframe thead tr th {\n",
       "        text-align: left;\n",
       "    }\n",
       "</style>\n",
       "<table border=\"1\" class=\"dataframe\">\n",
       "  <thead>\n",
       "    <tr>\n",
       "      <th></th>\n",
       "      <th colspan=\"2\" halign=\"left\">All</th>\n",
       "      <th colspan=\"2\" halign=\"left\">In VOC</th>\n",
       "      <th colspan=\"2\" halign=\"left\">Out of VOC</th>\n",
       "    </tr>\n",
       "    <tr>\n",
       "      <th></th>\n",
       "      <th>f1 micro</th>\n",
       "      <th>f1 macro</th>\n",
       "      <th>f1 micro</th>\n",
       "      <th>f1 macro</th>\n",
       "      <th>f1 micro</th>\n",
       "      <th>f1 macro</th>\n",
       "    </tr>\n",
       "  </thead>\n",
       "  <tbody>\n",
       "    <tr>\n",
       "      <th>score</th>\n",
       "      <td>0.855556</td>\n",
       "      <td>0.615899</td>\n",
       "      <td>0.855556</td>\n",
       "      <td>0.615899</td>\n",
       "      <td>0.0</td>\n",
       "      <td>0.0</td>\n",
       "    </tr>\n",
       "  </tbody>\n",
       "</table>\n",
       "</div>"
      ],
      "text/plain": [
       "            All              In VOC           Out of VOC         \n",
       "       f1 micro  f1 macro  f1 micro  f1 macro   f1 micro f1 macro\n",
       "score  0.855556  0.615899  0.855556  0.615899        0.0      0.0"
      ]
     },
     "metadata": {},
     "output_type": "display_data"
    },
    {
     "name": "stdout",
     "output_type": "stream",
     "text": [
      "EarlyStopping counter: 5 out of 7\n"
     ]
    },
    {
     "name": "stderr",
     "output_type": "stream",
     "text": [
      "Epoch 18: 100%|██████████| 355/355 [00:31<00:00, 11.34batch/s, loss_decrease=1.0000015063485057]\n",
      "100%|██████████| 630/630 [00:07<00:00, 89.18batch/s] \n"
     ]
    },
    {
     "data": {
      "text/html": [
       "<div>\n",
       "<style scoped>\n",
       "    .dataframe tbody tr th:only-of-type {\n",
       "        vertical-align: middle;\n",
       "    }\n",
       "\n",
       "    .dataframe tbody tr th {\n",
       "        vertical-align: top;\n",
       "    }\n",
       "\n",
       "    .dataframe thead tr th {\n",
       "        text-align: left;\n",
       "    }\n",
       "</style>\n",
       "<table border=\"1\" class=\"dataframe\">\n",
       "  <thead>\n",
       "    <tr>\n",
       "      <th></th>\n",
       "      <th colspan=\"2\" halign=\"left\">All</th>\n",
       "      <th colspan=\"2\" halign=\"left\">In VOC</th>\n",
       "      <th colspan=\"2\" halign=\"left\">Out of VOC</th>\n",
       "    </tr>\n",
       "    <tr>\n",
       "      <th></th>\n",
       "      <th>f1 micro</th>\n",
       "      <th>f1 macro</th>\n",
       "      <th>f1 micro</th>\n",
       "      <th>f1 macro</th>\n",
       "      <th>f1 micro</th>\n",
       "      <th>f1 macro</th>\n",
       "    </tr>\n",
       "  </thead>\n",
       "  <tbody>\n",
       "    <tr>\n",
       "      <th>score</th>\n",
       "      <td>0.871429</td>\n",
       "      <td>0.615411</td>\n",
       "      <td>0.871429</td>\n",
       "      <td>0.615411</td>\n",
       "      <td>0.0</td>\n",
       "      <td>0.0</td>\n",
       "    </tr>\n",
       "  </tbody>\n",
       "</table>\n",
       "</div>"
      ],
      "text/plain": [
       "            All              In VOC           Out of VOC         \n",
       "       f1 micro  f1 macro  f1 micro  f1 macro   f1 micro f1 macro\n",
       "score  0.871429  0.615411  0.871429  0.615411        0.0      0.0"
      ]
     },
     "metadata": {},
     "output_type": "display_data"
    },
    {
     "name": "stdout",
     "output_type": "stream",
     "text": [
      "EarlyStopping counter: 6 out of 7\n"
     ]
    },
    {
     "name": "stderr",
     "output_type": "stream",
     "text": [
      "Epoch 19: 100%|██████████| 355/355 [00:30<00:00, 11.77batch/s, loss_decrease=0.9999969873166029]\n",
      "100%|██████████| 630/630 [00:06<00:00, 92.48batch/s]\n"
     ]
    },
    {
     "data": {
      "text/html": [
       "<div>\n",
       "<style scoped>\n",
       "    .dataframe tbody tr th:only-of-type {\n",
       "        vertical-align: middle;\n",
       "    }\n",
       "\n",
       "    .dataframe tbody tr th {\n",
       "        vertical-align: top;\n",
       "    }\n",
       "\n",
       "    .dataframe thead tr th {\n",
       "        text-align: left;\n",
       "    }\n",
       "</style>\n",
       "<table border=\"1\" class=\"dataframe\">\n",
       "  <thead>\n",
       "    <tr>\n",
       "      <th></th>\n",
       "      <th colspan=\"2\" halign=\"left\">All</th>\n",
       "      <th colspan=\"2\" halign=\"left\">In VOC</th>\n",
       "      <th colspan=\"2\" halign=\"left\">Out of VOC</th>\n",
       "    </tr>\n",
       "    <tr>\n",
       "      <th></th>\n",
       "      <th>f1 micro</th>\n",
       "      <th>f1 macro</th>\n",
       "      <th>f1 micro</th>\n",
       "      <th>f1 macro</th>\n",
       "      <th>f1 micro</th>\n",
       "      <th>f1 macro</th>\n",
       "    </tr>\n",
       "  </thead>\n",
       "  <tbody>\n",
       "    <tr>\n",
       "      <th>score</th>\n",
       "      <td>0.873016</td>\n",
       "      <td>0.62485</td>\n",
       "      <td>0.873016</td>\n",
       "      <td>0.62485</td>\n",
       "      <td>0.0</td>\n",
       "      <td>0.0</td>\n",
       "    </tr>\n",
       "  </tbody>\n",
       "</table>\n",
       "</div>"
      ],
      "text/plain": [
       "            All             In VOC          Out of VOC         \n",
       "       f1 micro f1 macro  f1 micro f1 macro   f1 micro f1 macro\n",
       "score  0.873016  0.62485  0.873016  0.62485        0.0      0.0"
      ]
     },
     "metadata": {},
     "output_type": "display_data"
    },
    {
     "name": "stdout",
     "output_type": "stream",
     "text": [
      "EarlyStopping counter: 7 out of 7\n",
      "Early stopping\n",
      "Evaluating on test dataset\n"
     ]
    },
    {
     "name": "stderr",
     "output_type": "stream",
     "text": [
      "100%|██████████| 1574/1574 [00:16<00:00, 96.50batch/s] \n"
     ]
    },
    {
     "data": {
      "text/html": [
       "<div>\n",
       "<style scoped>\n",
       "    .dataframe tbody tr th:only-of-type {\n",
       "        vertical-align: middle;\n",
       "    }\n",
       "\n",
       "    .dataframe tbody tr th {\n",
       "        vertical-align: top;\n",
       "    }\n",
       "\n",
       "    .dataframe thead tr th {\n",
       "        text-align: left;\n",
       "    }\n",
       "</style>\n",
       "<table border=\"1\" class=\"dataframe\">\n",
       "  <thead>\n",
       "    <tr>\n",
       "      <th></th>\n",
       "      <th colspan=\"2\" halign=\"left\">All</th>\n",
       "      <th colspan=\"2\" halign=\"left\">In VOC</th>\n",
       "      <th colspan=\"2\" halign=\"left\">Out of VOC</th>\n",
       "    </tr>\n",
       "    <tr>\n",
       "      <th></th>\n",
       "      <th>f1 micro</th>\n",
       "      <th>f1 macro</th>\n",
       "      <th>f1 micro</th>\n",
       "      <th>f1 macro</th>\n",
       "      <th>f1 micro</th>\n",
       "      <th>f1 macro</th>\n",
       "    </tr>\n",
       "  </thead>\n",
       "  <tbody>\n",
       "    <tr>\n",
       "      <th>score</th>\n",
       "      <td>0.851334</td>\n",
       "      <td>0.572359</td>\n",
       "      <td>0.854499</td>\n",
       "      <td>0.597226</td>\n",
       "      <td>0.142857</td>\n",
       "      <td>0.076923</td>\n",
       "    </tr>\n",
       "  </tbody>\n",
       "</table>\n",
       "</div>"
      ],
      "text/plain": [
       "            All              In VOC           Out of VOC          \n",
       "       f1 micro  f1 macro  f1 micro  f1 macro   f1 micro  f1 macro\n",
       "score  0.851334  0.572359  0.854499  0.597226   0.142857  0.076923"
      ]
     },
     "metadata": {},
     "output_type": "display_data"
    },
    {
     "name": "stdout",
     "output_type": "stream",
     "text": [
      "Сплит 3\n"
     ]
    },
    {
     "name": "stderr",
     "output_type": "stream",
     "text": [
      "Epoch 1: 100%|██████████| 355/355 [00:31<00:00, 11.19batch/s, loss_decrease=1.0000021653772002]\n",
      "100%|██████████| 630/630 [00:06<00:00, 90.51batch/s] \n"
     ]
    },
    {
     "data": {
      "text/html": [
       "<div>\n",
       "<style scoped>\n",
       "    .dataframe tbody tr th:only-of-type {\n",
       "        vertical-align: middle;\n",
       "    }\n",
       "\n",
       "    .dataframe tbody tr th {\n",
       "        vertical-align: top;\n",
       "    }\n",
       "\n",
       "    .dataframe thead tr th {\n",
       "        text-align: left;\n",
       "    }\n",
       "</style>\n",
       "<table border=\"1\" class=\"dataframe\">\n",
       "  <thead>\n",
       "    <tr>\n",
       "      <th></th>\n",
       "      <th colspan=\"2\" halign=\"left\">All</th>\n",
       "      <th colspan=\"2\" halign=\"left\">In VOC</th>\n",
       "      <th colspan=\"2\" halign=\"left\">Out of VOC</th>\n",
       "    </tr>\n",
       "    <tr>\n",
       "      <th></th>\n",
       "      <th>f1 micro</th>\n",
       "      <th>f1 macro</th>\n",
       "      <th>f1 micro</th>\n",
       "      <th>f1 macro</th>\n",
       "      <th>f1 micro</th>\n",
       "      <th>f1 macro</th>\n",
       "    </tr>\n",
       "  </thead>\n",
       "  <tbody>\n",
       "    <tr>\n",
       "      <th>score</th>\n",
       "      <td>0.766667</td>\n",
       "      <td>0.437668</td>\n",
       "      <td>0.7728</td>\n",
       "      <td>0.458079</td>\n",
       "      <td>0.0</td>\n",
       "      <td>0.0</td>\n",
       "    </tr>\n",
       "  </tbody>\n",
       "</table>\n",
       "</div>"
      ],
      "text/plain": [
       "            All             In VOC           Out of VOC         \n",
       "       f1 micro  f1 macro f1 micro  f1 macro   f1 micro f1 macro\n",
       "score  0.766667  0.437668   0.7728  0.458079        0.0      0.0"
      ]
     },
     "metadata": {},
     "output_type": "display_data"
    },
    {
     "name": "stdout",
     "output_type": "stream",
     "text": [
      "Validation metric increased (-inf --> 0.437668).  Saving model ...\n"
     ]
    },
    {
     "name": "stderr",
     "output_type": "stream",
     "text": [
      "Epoch 2: 100%|██████████| 355/355 [00:31<00:00, 11.17batch/s, loss_decrease=1.000002447818396] \n",
      "100%|██████████| 630/630 [00:07<00:00, 88.95batch/s] \n"
     ]
    },
    {
     "data": {
      "text/html": [
       "<div>\n",
       "<style scoped>\n",
       "    .dataframe tbody tr th:only-of-type {\n",
       "        vertical-align: middle;\n",
       "    }\n",
       "\n",
       "    .dataframe tbody tr th {\n",
       "        vertical-align: top;\n",
       "    }\n",
       "\n",
       "    .dataframe thead tr th {\n",
       "        text-align: left;\n",
       "    }\n",
       "</style>\n",
       "<table border=\"1\" class=\"dataframe\">\n",
       "  <thead>\n",
       "    <tr>\n",
       "      <th></th>\n",
       "      <th colspan=\"2\" halign=\"left\">All</th>\n",
       "      <th colspan=\"2\" halign=\"left\">In VOC</th>\n",
       "      <th colspan=\"2\" halign=\"left\">Out of VOC</th>\n",
       "    </tr>\n",
       "    <tr>\n",
       "      <th></th>\n",
       "      <th>f1 micro</th>\n",
       "      <th>f1 macro</th>\n",
       "      <th>f1 micro</th>\n",
       "      <th>f1 macro</th>\n",
       "      <th>f1 micro</th>\n",
       "      <th>f1 macro</th>\n",
       "    </tr>\n",
       "  </thead>\n",
       "  <tbody>\n",
       "    <tr>\n",
       "      <th>score</th>\n",
       "      <td>0.787302</td>\n",
       "      <td>0.480629</td>\n",
       "      <td>0.7936</td>\n",
       "      <td>0.500757</td>\n",
       "      <td>0.0</td>\n",
       "      <td>0.0</td>\n",
       "    </tr>\n",
       "  </tbody>\n",
       "</table>\n",
       "</div>"
      ],
      "text/plain": [
       "            All             In VOC           Out of VOC         \n",
       "       f1 micro  f1 macro f1 micro  f1 macro   f1 micro f1 macro\n",
       "score  0.787302  0.480629   0.7936  0.500757        0.0      0.0"
      ]
     },
     "metadata": {},
     "output_type": "display_data"
    },
    {
     "name": "stdout",
     "output_type": "stream",
     "text": [
      "Validation metric increased (0.437668 --> 0.480629).  Saving model ...\n"
     ]
    },
    {
     "name": "stderr",
     "output_type": "stream",
     "text": [
      "Epoch 3: 100%|██████████| 355/355 [00:30<00:00, 11.73batch/s, loss_decrease=1.000002447818396] \n",
      "100%|██████████| 630/630 [00:06<00:00, 94.75batch/s] \n"
     ]
    },
    {
     "data": {
      "text/html": [
       "<div>\n",
       "<style scoped>\n",
       "    .dataframe tbody tr th:only-of-type {\n",
       "        vertical-align: middle;\n",
       "    }\n",
       "\n",
       "    .dataframe tbody tr th {\n",
       "        vertical-align: top;\n",
       "    }\n",
       "\n",
       "    .dataframe thead tr th {\n",
       "        text-align: left;\n",
       "    }\n",
       "</style>\n",
       "<table border=\"1\" class=\"dataframe\">\n",
       "  <thead>\n",
       "    <tr>\n",
       "      <th></th>\n",
       "      <th colspan=\"2\" halign=\"left\">All</th>\n",
       "      <th colspan=\"2\" halign=\"left\">In VOC</th>\n",
       "      <th colspan=\"2\" halign=\"left\">Out of VOC</th>\n",
       "    </tr>\n",
       "    <tr>\n",
       "      <th></th>\n",
       "      <th>f1 micro</th>\n",
       "      <th>f1 macro</th>\n",
       "      <th>f1 micro</th>\n",
       "      <th>f1 macro</th>\n",
       "      <th>f1 micro</th>\n",
       "      <th>f1 macro</th>\n",
       "    </tr>\n",
       "  </thead>\n",
       "  <tbody>\n",
       "    <tr>\n",
       "      <th>score</th>\n",
       "      <td>0.803175</td>\n",
       "      <td>0.500127</td>\n",
       "      <td>0.8096</td>\n",
       "      <td>0.522515</td>\n",
       "      <td>0.0</td>\n",
       "      <td>0.0</td>\n",
       "    </tr>\n",
       "  </tbody>\n",
       "</table>\n",
       "</div>"
      ],
      "text/plain": [
       "            All             In VOC           Out of VOC         \n",
       "       f1 micro  f1 macro f1 micro  f1 macro   f1 micro f1 macro\n",
       "score  0.803175  0.500127   0.8096  0.522515        0.0      0.0"
      ]
     },
     "metadata": {},
     "output_type": "display_data"
    },
    {
     "name": "stdout",
     "output_type": "stream",
     "text": [
      "Validation metric increased (0.480629 --> 0.500127).  Saving model ...\n"
     ]
    },
    {
     "name": "stderr",
     "output_type": "stream",
     "text": [
      "Epoch 4: 100%|██████████| 355/355 [00:30<00:00, 11.59batch/s, loss_decrease=1.000002447818396] \n",
      "100%|██████████| 630/630 [00:06<00:00, 97.82batch/s] \n"
     ]
    },
    {
     "data": {
      "text/html": [
       "<div>\n",
       "<style scoped>\n",
       "    .dataframe tbody tr th:only-of-type {\n",
       "        vertical-align: middle;\n",
       "    }\n",
       "\n",
       "    .dataframe tbody tr th {\n",
       "        vertical-align: top;\n",
       "    }\n",
       "\n",
       "    .dataframe thead tr th {\n",
       "        text-align: left;\n",
       "    }\n",
       "</style>\n",
       "<table border=\"1\" class=\"dataframe\">\n",
       "  <thead>\n",
       "    <tr>\n",
       "      <th></th>\n",
       "      <th colspan=\"2\" halign=\"left\">All</th>\n",
       "      <th colspan=\"2\" halign=\"left\">In VOC</th>\n",
       "      <th colspan=\"2\" halign=\"left\">Out of VOC</th>\n",
       "    </tr>\n",
       "    <tr>\n",
       "      <th></th>\n",
       "      <th>f1 micro</th>\n",
       "      <th>f1 macro</th>\n",
       "      <th>f1 micro</th>\n",
       "      <th>f1 macro</th>\n",
       "      <th>f1 micro</th>\n",
       "      <th>f1 macro</th>\n",
       "    </tr>\n",
       "  </thead>\n",
       "  <tbody>\n",
       "    <tr>\n",
       "      <th>score</th>\n",
       "      <td>0.806349</td>\n",
       "      <td>0.536857</td>\n",
       "      <td>0.8128</td>\n",
       "      <td>0.565212</td>\n",
       "      <td>0.0</td>\n",
       "      <td>0.0</td>\n",
       "    </tr>\n",
       "  </tbody>\n",
       "</table>\n",
       "</div>"
      ],
      "text/plain": [
       "            All             In VOC           Out of VOC         \n",
       "       f1 micro  f1 macro f1 micro  f1 macro   f1 micro f1 macro\n",
       "score  0.806349  0.536857   0.8128  0.565212        0.0      0.0"
      ]
     },
     "metadata": {},
     "output_type": "display_data"
    },
    {
     "name": "stdout",
     "output_type": "stream",
     "text": [
      "Validation metric increased (0.500127 --> 0.536857).  Saving model ...\n"
     ]
    },
    {
     "name": "stderr",
     "output_type": "stream",
     "text": [
      "Epoch 5: 100%|██████████| 355/355 [00:31<00:00, 11.29batch/s, loss_decrease=1.000002447818396] \n",
      "100%|██████████| 630/630 [00:06<00:00, 90.20batch/s] \n"
     ]
    },
    {
     "data": {
      "text/html": [
       "<div>\n",
       "<style scoped>\n",
       "    .dataframe tbody tr th:only-of-type {\n",
       "        vertical-align: middle;\n",
       "    }\n",
       "\n",
       "    .dataframe tbody tr th {\n",
       "        vertical-align: top;\n",
       "    }\n",
       "\n",
       "    .dataframe thead tr th {\n",
       "        text-align: left;\n",
       "    }\n",
       "</style>\n",
       "<table border=\"1\" class=\"dataframe\">\n",
       "  <thead>\n",
       "    <tr>\n",
       "      <th></th>\n",
       "      <th colspan=\"2\" halign=\"left\">All</th>\n",
       "      <th colspan=\"2\" halign=\"left\">In VOC</th>\n",
       "      <th colspan=\"2\" halign=\"left\">Out of VOC</th>\n",
       "    </tr>\n",
       "    <tr>\n",
       "      <th></th>\n",
       "      <th>f1 micro</th>\n",
       "      <th>f1 macro</th>\n",
       "      <th>f1 micro</th>\n",
       "      <th>f1 macro</th>\n",
       "      <th>f1 micro</th>\n",
       "      <th>f1 macro</th>\n",
       "    </tr>\n",
       "  </thead>\n",
       "  <tbody>\n",
       "    <tr>\n",
       "      <th>score</th>\n",
       "      <td>0.814286</td>\n",
       "      <td>0.532315</td>\n",
       "      <td>0.8208</td>\n",
       "      <td>0.562353</td>\n",
       "      <td>0.0</td>\n",
       "      <td>0.0</td>\n",
       "    </tr>\n",
       "  </tbody>\n",
       "</table>\n",
       "</div>"
      ],
      "text/plain": [
       "            All             In VOC           Out of VOC         \n",
       "       f1 micro  f1 macro f1 micro  f1 macro   f1 micro f1 macro\n",
       "score  0.814286  0.532315   0.8208  0.562353        0.0      0.0"
      ]
     },
     "metadata": {},
     "output_type": "display_data"
    },
    {
     "name": "stdout",
     "output_type": "stream",
     "text": [
      "EarlyStopping counter: 1 out of 7\n"
     ]
    },
    {
     "name": "stderr",
     "output_type": "stream",
     "text": [
      "Epoch 6: 100%|██████████| 355/355 [00:31<00:00, 11.43batch/s, loss_decrease=1.000002447818396] \n",
      "100%|██████████| 630/630 [00:06<00:00, 98.18batch/s] \n"
     ]
    },
    {
     "data": {
      "text/html": [
       "<div>\n",
       "<style scoped>\n",
       "    .dataframe tbody tr th:only-of-type {\n",
       "        vertical-align: middle;\n",
       "    }\n",
       "\n",
       "    .dataframe tbody tr th {\n",
       "        vertical-align: top;\n",
       "    }\n",
       "\n",
       "    .dataframe thead tr th {\n",
       "        text-align: left;\n",
       "    }\n",
       "</style>\n",
       "<table border=\"1\" class=\"dataframe\">\n",
       "  <thead>\n",
       "    <tr>\n",
       "      <th></th>\n",
       "      <th colspan=\"2\" halign=\"left\">All</th>\n",
       "      <th colspan=\"2\" halign=\"left\">In VOC</th>\n",
       "      <th colspan=\"2\" halign=\"left\">Out of VOC</th>\n",
       "    </tr>\n",
       "    <tr>\n",
       "      <th></th>\n",
       "      <th>f1 micro</th>\n",
       "      <th>f1 macro</th>\n",
       "      <th>f1 micro</th>\n",
       "      <th>f1 macro</th>\n",
       "      <th>f1 micro</th>\n",
       "      <th>f1 macro</th>\n",
       "    </tr>\n",
       "  </thead>\n",
       "  <tbody>\n",
       "    <tr>\n",
       "      <th>score</th>\n",
       "      <td>0.819048</td>\n",
       "      <td>0.565437</td>\n",
       "      <td>0.8256</td>\n",
       "      <td>0.597661</td>\n",
       "      <td>0.0</td>\n",
       "      <td>0.0</td>\n",
       "    </tr>\n",
       "  </tbody>\n",
       "</table>\n",
       "</div>"
      ],
      "text/plain": [
       "            All             In VOC           Out of VOC         \n",
       "       f1 micro  f1 macro f1 micro  f1 macro   f1 micro f1 macro\n",
       "score  0.819048  0.565437   0.8256  0.597661        0.0      0.0"
      ]
     },
     "metadata": {},
     "output_type": "display_data"
    },
    {
     "name": "stdout",
     "output_type": "stream",
     "text": [
      "Validation metric increased (0.536857 --> 0.565437).  Saving model ...\n"
     ]
    },
    {
     "name": "stderr",
     "output_type": "stream",
     "text": [
      "Epoch 7: 100%|██████████| 355/355 [00:30<00:00, 11.46batch/s, loss_decrease=1.000002447818396] \n",
      "100%|██████████| 630/630 [00:06<00:00, 94.00batch/s] \n"
     ]
    },
    {
     "data": {
      "text/html": [
       "<div>\n",
       "<style scoped>\n",
       "    .dataframe tbody tr th:only-of-type {\n",
       "        vertical-align: middle;\n",
       "    }\n",
       "\n",
       "    .dataframe tbody tr th {\n",
       "        vertical-align: top;\n",
       "    }\n",
       "\n",
       "    .dataframe thead tr th {\n",
       "        text-align: left;\n",
       "    }\n",
       "</style>\n",
       "<table border=\"1\" class=\"dataframe\">\n",
       "  <thead>\n",
       "    <tr>\n",
       "      <th></th>\n",
       "      <th colspan=\"2\" halign=\"left\">All</th>\n",
       "      <th colspan=\"2\" halign=\"left\">In VOC</th>\n",
       "      <th colspan=\"2\" halign=\"left\">Out of VOC</th>\n",
       "    </tr>\n",
       "    <tr>\n",
       "      <th></th>\n",
       "      <th>f1 micro</th>\n",
       "      <th>f1 macro</th>\n",
       "      <th>f1 micro</th>\n",
       "      <th>f1 macro</th>\n",
       "      <th>f1 micro</th>\n",
       "      <th>f1 macro</th>\n",
       "    </tr>\n",
       "  </thead>\n",
       "  <tbody>\n",
       "    <tr>\n",
       "      <th>score</th>\n",
       "      <td>0.82381</td>\n",
       "      <td>0.542303</td>\n",
       "      <td>0.8304</td>\n",
       "      <td>0.575484</td>\n",
       "      <td>0.0</td>\n",
       "      <td>0.0</td>\n",
       "    </tr>\n",
       "  </tbody>\n",
       "</table>\n",
       "</div>"
      ],
      "text/plain": [
       "           All             In VOC           Out of VOC         \n",
       "      f1 micro  f1 macro f1 micro  f1 macro   f1 micro f1 macro\n",
       "score  0.82381  0.542303   0.8304  0.575484        0.0      0.0"
      ]
     },
     "metadata": {},
     "output_type": "display_data"
    },
    {
     "name": "stdout",
     "output_type": "stream",
     "text": [
      "EarlyStopping counter: 1 out of 7\n"
     ]
    },
    {
     "name": "stderr",
     "output_type": "stream",
     "text": [
      "Epoch 8: 100%|██████████| 355/355 [00:30<00:00, 11.54batch/s, loss_decrease=1.000002353671313] \n",
      "100%|██████████| 630/630 [00:06<00:00, 94.92batch/s] \n"
     ]
    },
    {
     "data": {
      "text/html": [
       "<div>\n",
       "<style scoped>\n",
       "    .dataframe tbody tr th:only-of-type {\n",
       "        vertical-align: middle;\n",
       "    }\n",
       "\n",
       "    .dataframe tbody tr th {\n",
       "        vertical-align: top;\n",
       "    }\n",
       "\n",
       "    .dataframe thead tr th {\n",
       "        text-align: left;\n",
       "    }\n",
       "</style>\n",
       "<table border=\"1\" class=\"dataframe\">\n",
       "  <thead>\n",
       "    <tr>\n",
       "      <th></th>\n",
       "      <th colspan=\"2\" halign=\"left\">All</th>\n",
       "      <th colspan=\"2\" halign=\"left\">In VOC</th>\n",
       "      <th colspan=\"2\" halign=\"left\">Out of VOC</th>\n",
       "    </tr>\n",
       "    <tr>\n",
       "      <th></th>\n",
       "      <th>f1 micro</th>\n",
       "      <th>f1 macro</th>\n",
       "      <th>f1 micro</th>\n",
       "      <th>f1 macro</th>\n",
       "      <th>f1 micro</th>\n",
       "      <th>f1 macro</th>\n",
       "    </tr>\n",
       "  </thead>\n",
       "  <tbody>\n",
       "    <tr>\n",
       "      <th>score</th>\n",
       "      <td>0.831746</td>\n",
       "      <td>0.522735</td>\n",
       "      <td>0.8384</td>\n",
       "      <td>0.550447</td>\n",
       "      <td>0.0</td>\n",
       "      <td>0.0</td>\n",
       "    </tr>\n",
       "  </tbody>\n",
       "</table>\n",
       "</div>"
      ],
      "text/plain": [
       "            All             In VOC           Out of VOC         \n",
       "       f1 micro  f1 macro f1 micro  f1 macro   f1 micro f1 macro\n",
       "score  0.831746  0.522735   0.8384  0.550447        0.0      0.0"
      ]
     },
     "metadata": {},
     "output_type": "display_data"
    },
    {
     "name": "stdout",
     "output_type": "stream",
     "text": [
      "EarlyStopping counter: 2 out of 7\n"
     ]
    },
    {
     "name": "stderr",
     "output_type": "stream",
     "text": [
      "Epoch 9: 100%|██████████| 355/355 [00:31<00:00, 11.18batch/s, loss_decrease=1.000002447818396] \n",
      "100%|██████████| 630/630 [00:06<00:00, 91.96batch/s] \n"
     ]
    },
    {
     "data": {
      "text/html": [
       "<div>\n",
       "<style scoped>\n",
       "    .dataframe tbody tr th:only-of-type {\n",
       "        vertical-align: middle;\n",
       "    }\n",
       "\n",
       "    .dataframe tbody tr th {\n",
       "        vertical-align: top;\n",
       "    }\n",
       "\n",
       "    .dataframe thead tr th {\n",
       "        text-align: left;\n",
       "    }\n",
       "</style>\n",
       "<table border=\"1\" class=\"dataframe\">\n",
       "  <thead>\n",
       "    <tr>\n",
       "      <th></th>\n",
       "      <th colspan=\"2\" halign=\"left\">All</th>\n",
       "      <th colspan=\"2\" halign=\"left\">In VOC</th>\n",
       "      <th colspan=\"2\" halign=\"left\">Out of VOC</th>\n",
       "    </tr>\n",
       "    <tr>\n",
       "      <th></th>\n",
       "      <th>f1 micro</th>\n",
       "      <th>f1 macro</th>\n",
       "      <th>f1 micro</th>\n",
       "      <th>f1 macro</th>\n",
       "      <th>f1 micro</th>\n",
       "      <th>f1 macro</th>\n",
       "    </tr>\n",
       "  </thead>\n",
       "  <tbody>\n",
       "    <tr>\n",
       "      <th>score</th>\n",
       "      <td>0.828571</td>\n",
       "      <td>0.537075</td>\n",
       "      <td>0.8352</td>\n",
       "      <td>0.566973</td>\n",
       "      <td>0.0</td>\n",
       "      <td>0.0</td>\n",
       "    </tr>\n",
       "  </tbody>\n",
       "</table>\n",
       "</div>"
      ],
      "text/plain": [
       "            All             In VOC           Out of VOC         \n",
       "       f1 micro  f1 macro f1 micro  f1 macro   f1 micro f1 macro\n",
       "score  0.828571  0.537075   0.8352  0.566973        0.0      0.0"
      ]
     },
     "metadata": {},
     "output_type": "display_data"
    },
    {
     "name": "stdout",
     "output_type": "stream",
     "text": [
      "EarlyStopping counter: 3 out of 7\n"
     ]
    },
    {
     "name": "stderr",
     "output_type": "stream",
     "text": [
      "Epoch 10: 100%|██████████| 355/355 [00:30<00:00, 11.67batch/s, loss_decrease=1.000002447818396] \n",
      "100%|██████████| 630/630 [00:06<00:00, 98.20batch/s] \n"
     ]
    },
    {
     "data": {
      "text/html": [
       "<div>\n",
       "<style scoped>\n",
       "    .dataframe tbody tr th:only-of-type {\n",
       "        vertical-align: middle;\n",
       "    }\n",
       "\n",
       "    .dataframe tbody tr th {\n",
       "        vertical-align: top;\n",
       "    }\n",
       "\n",
       "    .dataframe thead tr th {\n",
       "        text-align: left;\n",
       "    }\n",
       "</style>\n",
       "<table border=\"1\" class=\"dataframe\">\n",
       "  <thead>\n",
       "    <tr>\n",
       "      <th></th>\n",
       "      <th colspan=\"2\" halign=\"left\">All</th>\n",
       "      <th colspan=\"2\" halign=\"left\">In VOC</th>\n",
       "      <th colspan=\"2\" halign=\"left\">Out of VOC</th>\n",
       "    </tr>\n",
       "    <tr>\n",
       "      <th></th>\n",
       "      <th>f1 micro</th>\n",
       "      <th>f1 macro</th>\n",
       "      <th>f1 micro</th>\n",
       "      <th>f1 macro</th>\n",
       "      <th>f1 micro</th>\n",
       "      <th>f1 macro</th>\n",
       "    </tr>\n",
       "  </thead>\n",
       "  <tbody>\n",
       "    <tr>\n",
       "      <th>score</th>\n",
       "      <td>0.820635</td>\n",
       "      <td>0.545772</td>\n",
       "      <td>0.8272</td>\n",
       "      <td>0.578719</td>\n",
       "      <td>0.0</td>\n",
       "      <td>0.0</td>\n",
       "    </tr>\n",
       "  </tbody>\n",
       "</table>\n",
       "</div>"
      ],
      "text/plain": [
       "            All             In VOC           Out of VOC         \n",
       "       f1 micro  f1 macro f1 micro  f1 macro   f1 micro f1 macro\n",
       "score  0.820635  0.545772   0.8272  0.578719        0.0      0.0"
      ]
     },
     "metadata": {},
     "output_type": "display_data"
    },
    {
     "name": "stdout",
     "output_type": "stream",
     "text": [
      "EarlyStopping counter: 4 out of 7\n"
     ]
    },
    {
     "name": "stderr",
     "output_type": "stream",
     "text": [
      "Epoch 11: 100%|██████████| 355/355 [00:31<00:00, 11.31batch/s, loss_decrease=1.000002447818396] \n",
      "100%|██████████| 630/630 [00:06<00:00, 96.51batch/s] \n"
     ]
    },
    {
     "data": {
      "text/html": [
       "<div>\n",
       "<style scoped>\n",
       "    .dataframe tbody tr th:only-of-type {\n",
       "        vertical-align: middle;\n",
       "    }\n",
       "\n",
       "    .dataframe tbody tr th {\n",
       "        vertical-align: top;\n",
       "    }\n",
       "\n",
       "    .dataframe thead tr th {\n",
       "        text-align: left;\n",
       "    }\n",
       "</style>\n",
       "<table border=\"1\" class=\"dataframe\">\n",
       "  <thead>\n",
       "    <tr>\n",
       "      <th></th>\n",
       "      <th colspan=\"2\" halign=\"left\">All</th>\n",
       "      <th colspan=\"2\" halign=\"left\">In VOC</th>\n",
       "      <th colspan=\"2\" halign=\"left\">Out of VOC</th>\n",
       "    </tr>\n",
       "    <tr>\n",
       "      <th></th>\n",
       "      <th>f1 micro</th>\n",
       "      <th>f1 macro</th>\n",
       "      <th>f1 micro</th>\n",
       "      <th>f1 macro</th>\n",
       "      <th>f1 micro</th>\n",
       "      <th>f1 macro</th>\n",
       "    </tr>\n",
       "  </thead>\n",
       "  <tbody>\n",
       "    <tr>\n",
       "      <th>score</th>\n",
       "      <td>0.819048</td>\n",
       "      <td>0.546745</td>\n",
       "      <td>0.8256</td>\n",
       "      <td>0.573371</td>\n",
       "      <td>0.0</td>\n",
       "      <td>0.0</td>\n",
       "    </tr>\n",
       "  </tbody>\n",
       "</table>\n",
       "</div>"
      ],
      "text/plain": [
       "            All             In VOC           Out of VOC         \n",
       "       f1 micro  f1 macro f1 micro  f1 macro   f1 micro f1 macro\n",
       "score  0.819048  0.546745   0.8256  0.573371        0.0      0.0"
      ]
     },
     "metadata": {},
     "output_type": "display_data"
    },
    {
     "name": "stdout",
     "output_type": "stream",
     "text": [
      "EarlyStopping counter: 5 out of 7\n"
     ]
    },
    {
     "name": "stderr",
     "output_type": "stream",
     "text": [
      "Epoch 12: 100%|██████████| 355/355 [00:31<00:00, 11.36batch/s, loss_decrease=1.000002447818396] \n",
      "100%|██████████| 630/630 [00:06<00:00, 96.46batch/s] \n"
     ]
    },
    {
     "data": {
      "text/html": [
       "<div>\n",
       "<style scoped>\n",
       "    .dataframe tbody tr th:only-of-type {\n",
       "        vertical-align: middle;\n",
       "    }\n",
       "\n",
       "    .dataframe tbody tr th {\n",
       "        vertical-align: top;\n",
       "    }\n",
       "\n",
       "    .dataframe thead tr th {\n",
       "        text-align: left;\n",
       "    }\n",
       "</style>\n",
       "<table border=\"1\" class=\"dataframe\">\n",
       "  <thead>\n",
       "    <tr>\n",
       "      <th></th>\n",
       "      <th colspan=\"2\" halign=\"left\">All</th>\n",
       "      <th colspan=\"2\" halign=\"left\">In VOC</th>\n",
       "      <th colspan=\"2\" halign=\"left\">Out of VOC</th>\n",
       "    </tr>\n",
       "    <tr>\n",
       "      <th></th>\n",
       "      <th>f1 micro</th>\n",
       "      <th>f1 macro</th>\n",
       "      <th>f1 micro</th>\n",
       "      <th>f1 macro</th>\n",
       "      <th>f1 micro</th>\n",
       "      <th>f1 macro</th>\n",
       "    </tr>\n",
       "  </thead>\n",
       "  <tbody>\n",
       "    <tr>\n",
       "      <th>score</th>\n",
       "      <td>0.825397</td>\n",
       "      <td>0.575572</td>\n",
       "      <td>0.832</td>\n",
       "      <td>0.604458</td>\n",
       "      <td>0.0</td>\n",
       "      <td>0.0</td>\n",
       "    </tr>\n",
       "  </tbody>\n",
       "</table>\n",
       "</div>"
      ],
      "text/plain": [
       "            All             In VOC           Out of VOC         \n",
       "       f1 micro  f1 macro f1 micro  f1 macro   f1 micro f1 macro\n",
       "score  0.825397  0.575572    0.832  0.604458        0.0      0.0"
      ]
     },
     "metadata": {},
     "output_type": "display_data"
    },
    {
     "name": "stdout",
     "output_type": "stream",
     "text": [
      "Validation metric increased (0.565437 --> 0.575572).  Saving model ...\n"
     ]
    },
    {
     "name": "stderr",
     "output_type": "stream",
     "text": [
      "Epoch 13: 100%|██████████| 355/355 [00:30<00:00, 11.48batch/s, loss_decrease=1.000002447818396] \n",
      "100%|██████████| 630/630 [00:06<00:00, 94.09batch/s] \n"
     ]
    },
    {
     "data": {
      "text/html": [
       "<div>\n",
       "<style scoped>\n",
       "    .dataframe tbody tr th:only-of-type {\n",
       "        vertical-align: middle;\n",
       "    }\n",
       "\n",
       "    .dataframe tbody tr th {\n",
       "        vertical-align: top;\n",
       "    }\n",
       "\n",
       "    .dataframe thead tr th {\n",
       "        text-align: left;\n",
       "    }\n",
       "</style>\n",
       "<table border=\"1\" class=\"dataframe\">\n",
       "  <thead>\n",
       "    <tr>\n",
       "      <th></th>\n",
       "      <th colspan=\"2\" halign=\"left\">All</th>\n",
       "      <th colspan=\"2\" halign=\"left\">In VOC</th>\n",
       "      <th colspan=\"2\" halign=\"left\">Out of VOC</th>\n",
       "    </tr>\n",
       "    <tr>\n",
       "      <th></th>\n",
       "      <th>f1 micro</th>\n",
       "      <th>f1 macro</th>\n",
       "      <th>f1 micro</th>\n",
       "      <th>f1 macro</th>\n",
       "      <th>f1 micro</th>\n",
       "      <th>f1 macro</th>\n",
       "    </tr>\n",
       "  </thead>\n",
       "  <tbody>\n",
       "    <tr>\n",
       "      <th>score</th>\n",
       "      <td>0.822222</td>\n",
       "      <td>0.569659</td>\n",
       "      <td>0.8288</td>\n",
       "      <td>0.598168</td>\n",
       "      <td>0.0</td>\n",
       "      <td>0.0</td>\n",
       "    </tr>\n",
       "  </tbody>\n",
       "</table>\n",
       "</div>"
      ],
      "text/plain": [
       "            All             In VOC           Out of VOC         \n",
       "       f1 micro  f1 macro f1 micro  f1 macro   f1 micro f1 macro\n",
       "score  0.822222  0.569659   0.8288  0.598168        0.0      0.0"
      ]
     },
     "metadata": {},
     "output_type": "display_data"
    },
    {
     "name": "stdout",
     "output_type": "stream",
     "text": [
      "EarlyStopping counter: 1 out of 7\n"
     ]
    },
    {
     "name": "stderr",
     "output_type": "stream",
     "text": [
      "Epoch 14: 100%|██████████| 355/355 [00:31<00:00, 11.33batch/s, loss_decrease=1.000002447818396] \n",
      "100%|██████████| 630/630 [00:06<00:00, 98.88batch/s] \n"
     ]
    },
    {
     "data": {
      "text/html": [
       "<div>\n",
       "<style scoped>\n",
       "    .dataframe tbody tr th:only-of-type {\n",
       "        vertical-align: middle;\n",
       "    }\n",
       "\n",
       "    .dataframe tbody tr th {\n",
       "        vertical-align: top;\n",
       "    }\n",
       "\n",
       "    .dataframe thead tr th {\n",
       "        text-align: left;\n",
       "    }\n",
       "</style>\n",
       "<table border=\"1\" class=\"dataframe\">\n",
       "  <thead>\n",
       "    <tr>\n",
       "      <th></th>\n",
       "      <th colspan=\"2\" halign=\"left\">All</th>\n",
       "      <th colspan=\"2\" halign=\"left\">In VOC</th>\n",
       "      <th colspan=\"2\" halign=\"left\">Out of VOC</th>\n",
       "    </tr>\n",
       "    <tr>\n",
       "      <th></th>\n",
       "      <th>f1 micro</th>\n",
       "      <th>f1 macro</th>\n",
       "      <th>f1 micro</th>\n",
       "      <th>f1 macro</th>\n",
       "      <th>f1 micro</th>\n",
       "      <th>f1 macro</th>\n",
       "    </tr>\n",
       "  </thead>\n",
       "  <tbody>\n",
       "    <tr>\n",
       "      <th>score</th>\n",
       "      <td>0.839683</td>\n",
       "      <td>0.601661</td>\n",
       "      <td>0.8464</td>\n",
       "      <td>0.632976</td>\n",
       "      <td>0.0</td>\n",
       "      <td>0.0</td>\n",
       "    </tr>\n",
       "  </tbody>\n",
       "</table>\n",
       "</div>"
      ],
      "text/plain": [
       "            All             In VOC           Out of VOC         \n",
       "       f1 micro  f1 macro f1 micro  f1 macro   f1 micro f1 macro\n",
       "score  0.839683  0.601661   0.8464  0.632976        0.0      0.0"
      ]
     },
     "metadata": {},
     "output_type": "display_data"
    },
    {
     "name": "stdout",
     "output_type": "stream",
     "text": [
      "Validation metric increased (0.575572 --> 0.601661).  Saving model ...\n"
     ]
    },
    {
     "name": "stderr",
     "output_type": "stream",
     "text": [
      "Epoch 15: 100%|██████████| 355/355 [00:30<00:00, 11.77batch/s, loss_decrease=1.000002447818396] \n",
      "100%|██████████| 630/630 [00:07<00:00, 86.42batch/s]\n"
     ]
    },
    {
     "data": {
      "text/html": [
       "<div>\n",
       "<style scoped>\n",
       "    .dataframe tbody tr th:only-of-type {\n",
       "        vertical-align: middle;\n",
       "    }\n",
       "\n",
       "    .dataframe tbody tr th {\n",
       "        vertical-align: top;\n",
       "    }\n",
       "\n",
       "    .dataframe thead tr th {\n",
       "        text-align: left;\n",
       "    }\n",
       "</style>\n",
       "<table border=\"1\" class=\"dataframe\">\n",
       "  <thead>\n",
       "    <tr>\n",
       "      <th></th>\n",
       "      <th colspan=\"2\" halign=\"left\">All</th>\n",
       "      <th colspan=\"2\" halign=\"left\">In VOC</th>\n",
       "      <th colspan=\"2\" halign=\"left\">Out of VOC</th>\n",
       "    </tr>\n",
       "    <tr>\n",
       "      <th></th>\n",
       "      <th>f1 micro</th>\n",
       "      <th>f1 macro</th>\n",
       "      <th>f1 micro</th>\n",
       "      <th>f1 macro</th>\n",
       "      <th>f1 micro</th>\n",
       "      <th>f1 macro</th>\n",
       "    </tr>\n",
       "  </thead>\n",
       "  <tbody>\n",
       "    <tr>\n",
       "      <th>score</th>\n",
       "      <td>0.825397</td>\n",
       "      <td>0.556229</td>\n",
       "      <td>0.832</td>\n",
       "      <td>0.588497</td>\n",
       "      <td>0.0</td>\n",
       "      <td>0.0</td>\n",
       "    </tr>\n",
       "  </tbody>\n",
       "</table>\n",
       "</div>"
      ],
      "text/plain": [
       "            All             In VOC           Out of VOC         \n",
       "       f1 micro  f1 macro f1 micro  f1 macro   f1 micro f1 macro\n",
       "score  0.825397  0.556229    0.832  0.588497        0.0      0.0"
      ]
     },
     "metadata": {},
     "output_type": "display_data"
    },
    {
     "name": "stdout",
     "output_type": "stream",
     "text": [
      "EarlyStopping counter: 1 out of 7\n"
     ]
    },
    {
     "name": "stderr",
     "output_type": "stream",
     "text": [
      "Epoch 16: 100%|██████████| 355/355 [00:31<00:00, 11.39batch/s, loss_decrease=1.000002447818396] \n",
      "100%|██████████| 630/630 [00:06<00:00, 94.25batch/s] \n"
     ]
    },
    {
     "data": {
      "text/html": [
       "<div>\n",
       "<style scoped>\n",
       "    .dataframe tbody tr th:only-of-type {\n",
       "        vertical-align: middle;\n",
       "    }\n",
       "\n",
       "    .dataframe tbody tr th {\n",
       "        vertical-align: top;\n",
       "    }\n",
       "\n",
       "    .dataframe thead tr th {\n",
       "        text-align: left;\n",
       "    }\n",
       "</style>\n",
       "<table border=\"1\" class=\"dataframe\">\n",
       "  <thead>\n",
       "    <tr>\n",
       "      <th></th>\n",
       "      <th colspan=\"2\" halign=\"left\">All</th>\n",
       "      <th colspan=\"2\" halign=\"left\">In VOC</th>\n",
       "      <th colspan=\"2\" halign=\"left\">Out of VOC</th>\n",
       "    </tr>\n",
       "    <tr>\n",
       "      <th></th>\n",
       "      <th>f1 micro</th>\n",
       "      <th>f1 macro</th>\n",
       "      <th>f1 micro</th>\n",
       "      <th>f1 macro</th>\n",
       "      <th>f1 micro</th>\n",
       "      <th>f1 macro</th>\n",
       "    </tr>\n",
       "  </thead>\n",
       "  <tbody>\n",
       "    <tr>\n",
       "      <th>score</th>\n",
       "      <td>0.825397</td>\n",
       "      <td>0.581657</td>\n",
       "      <td>0.832</td>\n",
       "      <td>0.611339</td>\n",
       "      <td>0.0</td>\n",
       "      <td>0.0</td>\n",
       "    </tr>\n",
       "  </tbody>\n",
       "</table>\n",
       "</div>"
      ],
      "text/plain": [
       "            All             In VOC           Out of VOC         \n",
       "       f1 micro  f1 macro f1 micro  f1 macro   f1 micro f1 macro\n",
       "score  0.825397  0.581657    0.832  0.611339        0.0      0.0"
      ]
     },
     "metadata": {},
     "output_type": "display_data"
    },
    {
     "name": "stdout",
     "output_type": "stream",
     "text": [
      "EarlyStopping counter: 2 out of 7\n"
     ]
    },
    {
     "name": "stderr",
     "output_type": "stream",
     "text": [
      "Epoch 17: 100%|██████████| 355/355 [00:31<00:00, 11.13batch/s, loss_decrease=1.000002447818396] \n",
      "100%|██████████| 630/630 [00:06<00:00, 91.53batch/s] \n"
     ]
    },
    {
     "data": {
      "text/html": [
       "<div>\n",
       "<style scoped>\n",
       "    .dataframe tbody tr th:only-of-type {\n",
       "        vertical-align: middle;\n",
       "    }\n",
       "\n",
       "    .dataframe tbody tr th {\n",
       "        vertical-align: top;\n",
       "    }\n",
       "\n",
       "    .dataframe thead tr th {\n",
       "        text-align: left;\n",
       "    }\n",
       "</style>\n",
       "<table border=\"1\" class=\"dataframe\">\n",
       "  <thead>\n",
       "    <tr>\n",
       "      <th></th>\n",
       "      <th colspan=\"2\" halign=\"left\">All</th>\n",
       "      <th colspan=\"2\" halign=\"left\">In VOC</th>\n",
       "      <th colspan=\"2\" halign=\"left\">Out of VOC</th>\n",
       "    </tr>\n",
       "    <tr>\n",
       "      <th></th>\n",
       "      <th>f1 micro</th>\n",
       "      <th>f1 macro</th>\n",
       "      <th>f1 micro</th>\n",
       "      <th>f1 macro</th>\n",
       "      <th>f1 micro</th>\n",
       "      <th>f1 macro</th>\n",
       "    </tr>\n",
       "  </thead>\n",
       "  <tbody>\n",
       "    <tr>\n",
       "      <th>score</th>\n",
       "      <td>0.828571</td>\n",
       "      <td>0.562459</td>\n",
       "      <td>0.8352</td>\n",
       "      <td>0.590455</td>\n",
       "      <td>0.0</td>\n",
       "      <td>0.0</td>\n",
       "    </tr>\n",
       "  </tbody>\n",
       "</table>\n",
       "</div>"
      ],
      "text/plain": [
       "            All             In VOC           Out of VOC         \n",
       "       f1 micro  f1 macro f1 micro  f1 macro   f1 micro f1 macro\n",
       "score  0.828571  0.562459   0.8352  0.590455        0.0      0.0"
      ]
     },
     "metadata": {},
     "output_type": "display_data"
    },
    {
     "name": "stdout",
     "output_type": "stream",
     "text": [
      "EarlyStopping counter: 3 out of 7\n"
     ]
    },
    {
     "name": "stderr",
     "output_type": "stream",
     "text": [
      "Epoch 18: 100%|██████████| 355/355 [00:31<00:00, 11.17batch/s, loss_decrease=1.000002447818396] \n",
      "100%|██████████| 630/630 [00:06<00:00, 96.76batch/s] \n"
     ]
    },
    {
     "data": {
      "text/html": [
       "<div>\n",
       "<style scoped>\n",
       "    .dataframe tbody tr th:only-of-type {\n",
       "        vertical-align: middle;\n",
       "    }\n",
       "\n",
       "    .dataframe tbody tr th {\n",
       "        vertical-align: top;\n",
       "    }\n",
       "\n",
       "    .dataframe thead tr th {\n",
       "        text-align: left;\n",
       "    }\n",
       "</style>\n",
       "<table border=\"1\" class=\"dataframe\">\n",
       "  <thead>\n",
       "    <tr>\n",
       "      <th></th>\n",
       "      <th colspan=\"2\" halign=\"left\">All</th>\n",
       "      <th colspan=\"2\" halign=\"left\">In VOC</th>\n",
       "      <th colspan=\"2\" halign=\"left\">Out of VOC</th>\n",
       "    </tr>\n",
       "    <tr>\n",
       "      <th></th>\n",
       "      <th>f1 micro</th>\n",
       "      <th>f1 macro</th>\n",
       "      <th>f1 micro</th>\n",
       "      <th>f1 macro</th>\n",
       "      <th>f1 micro</th>\n",
       "      <th>f1 macro</th>\n",
       "    </tr>\n",
       "  </thead>\n",
       "  <tbody>\n",
       "    <tr>\n",
       "      <th>score</th>\n",
       "      <td>0.815873</td>\n",
       "      <td>0.574544</td>\n",
       "      <td>0.8224</td>\n",
       "      <td>0.597594</td>\n",
       "      <td>0.0</td>\n",
       "      <td>0.0</td>\n",
       "    </tr>\n",
       "  </tbody>\n",
       "</table>\n",
       "</div>"
      ],
      "text/plain": [
       "            All             In VOC           Out of VOC         \n",
       "       f1 micro  f1 macro f1 micro  f1 macro   f1 micro f1 macro\n",
       "score  0.815873  0.574544   0.8224  0.597594        0.0      0.0"
      ]
     },
     "metadata": {},
     "output_type": "display_data"
    },
    {
     "name": "stdout",
     "output_type": "stream",
     "text": [
      "EarlyStopping counter: 4 out of 7\n"
     ]
    },
    {
     "name": "stderr",
     "output_type": "stream",
     "text": [
      "Epoch 19: 100%|██████████| 355/355 [00:31<00:00, 11.39batch/s, loss_decrease=0.9999993409740178]\n",
      "100%|██████████| 630/630 [00:06<00:00, 97.72batch/s] \n"
     ]
    },
    {
     "data": {
      "text/html": [
       "<div>\n",
       "<style scoped>\n",
       "    .dataframe tbody tr th:only-of-type {\n",
       "        vertical-align: middle;\n",
       "    }\n",
       "\n",
       "    .dataframe tbody tr th {\n",
       "        vertical-align: top;\n",
       "    }\n",
       "\n",
       "    .dataframe thead tr th {\n",
       "        text-align: left;\n",
       "    }\n",
       "</style>\n",
       "<table border=\"1\" class=\"dataframe\">\n",
       "  <thead>\n",
       "    <tr>\n",
       "      <th></th>\n",
       "      <th colspan=\"2\" halign=\"left\">All</th>\n",
       "      <th colspan=\"2\" halign=\"left\">In VOC</th>\n",
       "      <th colspan=\"2\" halign=\"left\">Out of VOC</th>\n",
       "    </tr>\n",
       "    <tr>\n",
       "      <th></th>\n",
       "      <th>f1 micro</th>\n",
       "      <th>f1 macro</th>\n",
       "      <th>f1 micro</th>\n",
       "      <th>f1 macro</th>\n",
       "      <th>f1 micro</th>\n",
       "      <th>f1 macro</th>\n",
       "    </tr>\n",
       "  </thead>\n",
       "  <tbody>\n",
       "    <tr>\n",
       "      <th>score</th>\n",
       "      <td>0.0</td>\n",
       "      <td>0.0</td>\n",
       "      <td>0.0</td>\n",
       "      <td>0.0</td>\n",
       "      <td>0.0</td>\n",
       "      <td>0.0</td>\n",
       "    </tr>\n",
       "  </tbody>\n",
       "</table>\n",
       "</div>"
      ],
      "text/plain": [
       "           All            In VOC          Out of VOC         \n",
       "      f1 micro f1 macro f1 micro f1 macro   f1 micro f1 macro\n",
       "score      0.0      0.0      0.0      0.0        0.0      0.0"
      ]
     },
     "metadata": {},
     "output_type": "display_data"
    },
    {
     "name": "stdout",
     "output_type": "stream",
     "text": [
      "EarlyStopping counter: 5 out of 7\n"
     ]
    },
    {
     "name": "stderr",
     "output_type": "stream",
     "text": [
      "Epoch 20: 100%|██████████| 355/355 [00:31<00:00, 11.25batch/s, loss_decrease=0.9999993409740178]\n",
      "100%|██████████| 630/630 [00:07<00:00, 86.79batch/s]\n"
     ]
    },
    {
     "data": {
      "text/html": [
       "<div>\n",
       "<style scoped>\n",
       "    .dataframe tbody tr th:only-of-type {\n",
       "        vertical-align: middle;\n",
       "    }\n",
       "\n",
       "    .dataframe tbody tr th {\n",
       "        vertical-align: top;\n",
       "    }\n",
       "\n",
       "    .dataframe thead tr th {\n",
       "        text-align: left;\n",
       "    }\n",
       "</style>\n",
       "<table border=\"1\" class=\"dataframe\">\n",
       "  <thead>\n",
       "    <tr>\n",
       "      <th></th>\n",
       "      <th colspan=\"2\" halign=\"left\">All</th>\n",
       "      <th colspan=\"2\" halign=\"left\">In VOC</th>\n",
       "      <th colspan=\"2\" halign=\"left\">Out of VOC</th>\n",
       "    </tr>\n",
       "    <tr>\n",
       "      <th></th>\n",
       "      <th>f1 micro</th>\n",
       "      <th>f1 macro</th>\n",
       "      <th>f1 micro</th>\n",
       "      <th>f1 macro</th>\n",
       "      <th>f1 micro</th>\n",
       "      <th>f1 macro</th>\n",
       "    </tr>\n",
       "  </thead>\n",
       "  <tbody>\n",
       "    <tr>\n",
       "      <th>score</th>\n",
       "      <td>0.0</td>\n",
       "      <td>0.0</td>\n",
       "      <td>0.0</td>\n",
       "      <td>0.0</td>\n",
       "      <td>0.0</td>\n",
       "      <td>0.0</td>\n",
       "    </tr>\n",
       "  </tbody>\n",
       "</table>\n",
       "</div>"
      ],
      "text/plain": [
       "           All            In VOC          Out of VOC         \n",
       "      f1 micro f1 macro f1 micro f1 macro   f1 micro f1 macro\n",
       "score      0.0      0.0      0.0      0.0        0.0      0.0"
      ]
     },
     "metadata": {},
     "output_type": "display_data"
    },
    {
     "name": "stdout",
     "output_type": "stream",
     "text": [
      "EarlyStopping counter: 6 out of 7\n"
     ]
    },
    {
     "name": "stderr",
     "output_type": "stream",
     "text": [
      "Epoch 21: 100%|██████████| 355/355 [00:31<00:00, 11.35batch/s, loss_decrease=0.9999993409740178]\n",
      "100%|██████████| 630/630 [00:06<00:00, 92.99batch/s] \n"
     ]
    },
    {
     "data": {
      "text/html": [
       "<div>\n",
       "<style scoped>\n",
       "    .dataframe tbody tr th:only-of-type {\n",
       "        vertical-align: middle;\n",
       "    }\n",
       "\n",
       "    .dataframe tbody tr th {\n",
       "        vertical-align: top;\n",
       "    }\n",
       "\n",
       "    .dataframe thead tr th {\n",
       "        text-align: left;\n",
       "    }\n",
       "</style>\n",
       "<table border=\"1\" class=\"dataframe\">\n",
       "  <thead>\n",
       "    <tr>\n",
       "      <th></th>\n",
       "      <th colspan=\"2\" halign=\"left\">All</th>\n",
       "      <th colspan=\"2\" halign=\"left\">In VOC</th>\n",
       "      <th colspan=\"2\" halign=\"left\">Out of VOC</th>\n",
       "    </tr>\n",
       "    <tr>\n",
       "      <th></th>\n",
       "      <th>f1 micro</th>\n",
       "      <th>f1 macro</th>\n",
       "      <th>f1 micro</th>\n",
       "      <th>f1 macro</th>\n",
       "      <th>f1 micro</th>\n",
       "      <th>f1 macro</th>\n",
       "    </tr>\n",
       "  </thead>\n",
       "  <tbody>\n",
       "    <tr>\n",
       "      <th>score</th>\n",
       "      <td>0.0</td>\n",
       "      <td>0.0</td>\n",
       "      <td>0.0</td>\n",
       "      <td>0.0</td>\n",
       "      <td>0.0</td>\n",
       "      <td>0.0</td>\n",
       "    </tr>\n",
       "  </tbody>\n",
       "</table>\n",
       "</div>"
      ],
      "text/plain": [
       "           All            In VOC          Out of VOC         \n",
       "      f1 micro f1 macro f1 micro f1 macro   f1 micro f1 macro\n",
       "score      0.0      0.0      0.0      0.0        0.0      0.0"
      ]
     },
     "metadata": {},
     "output_type": "display_data"
    },
    {
     "name": "stdout",
     "output_type": "stream",
     "text": [
      "EarlyStopping counter: 7 out of 7\n",
      "Early stopping\n",
      "Evaluating on test dataset\n"
     ]
    },
    {
     "name": "stderr",
     "output_type": "stream",
     "text": [
      "100%|██████████| 1574/1574 [00:16<00:00, 96.53batch/s] \n"
     ]
    },
    {
     "data": {
      "text/html": [
       "<div>\n",
       "<style scoped>\n",
       "    .dataframe tbody tr th:only-of-type {\n",
       "        vertical-align: middle;\n",
       "    }\n",
       "\n",
       "    .dataframe tbody tr th {\n",
       "        vertical-align: top;\n",
       "    }\n",
       "\n",
       "    .dataframe thead tr th {\n",
       "        text-align: left;\n",
       "    }\n",
       "</style>\n",
       "<table border=\"1\" class=\"dataframe\">\n",
       "  <thead>\n",
       "    <tr>\n",
       "      <th></th>\n",
       "      <th colspan=\"2\" halign=\"left\">All</th>\n",
       "      <th colspan=\"2\" halign=\"left\">In VOC</th>\n",
       "      <th colspan=\"2\" halign=\"left\">Out of VOC</th>\n",
       "    </tr>\n",
       "    <tr>\n",
       "      <th></th>\n",
       "      <th>f1 micro</th>\n",
       "      <th>f1 macro</th>\n",
       "      <th>f1 micro</th>\n",
       "      <th>f1 macro</th>\n",
       "      <th>f1 micro</th>\n",
       "      <th>f1 macro</th>\n",
       "    </tr>\n",
       "  </thead>\n",
       "  <tbody>\n",
       "    <tr>\n",
       "      <th>score</th>\n",
       "      <td>0.838628</td>\n",
       "      <td>0.56115</td>\n",
       "      <td>0.842374</td>\n",
       "      <td>0.586298</td>\n",
       "      <td>0.0</td>\n",
       "      <td>0.0</td>\n",
       "    </tr>\n",
       "  </tbody>\n",
       "</table>\n",
       "</div>"
      ],
      "text/plain": [
       "            All             In VOC           Out of VOC         \n",
       "       f1 micro f1 macro  f1 micro  f1 macro   f1 micro f1 macro\n",
       "score  0.838628  0.56115  0.842374  0.586298        0.0      0.0"
      ]
     },
     "metadata": {},
     "output_type": "display_data"
    },
    {
     "name": "stdout",
     "output_type": "stream",
     "text": [
      "Сплит 4\n"
     ]
    },
    {
     "name": "stderr",
     "output_type": "stream",
     "text": [
      "Epoch 1: 100%|██████████| 355/355 [00:31<00:00, 11.28batch/s, loss_decrease=0.9999982112165384]\n",
      "100%|██████████| 630/630 [00:06<00:00, 94.90batch/s]\n"
     ]
    },
    {
     "data": {
      "text/html": [
       "<div>\n",
       "<style scoped>\n",
       "    .dataframe tbody tr th:only-of-type {\n",
       "        vertical-align: middle;\n",
       "    }\n",
       "\n",
       "    .dataframe tbody tr th {\n",
       "        vertical-align: top;\n",
       "    }\n",
       "\n",
       "    .dataframe thead tr th {\n",
       "        text-align: left;\n",
       "    }\n",
       "</style>\n",
       "<table border=\"1\" class=\"dataframe\">\n",
       "  <thead>\n",
       "    <tr>\n",
       "      <th></th>\n",
       "      <th colspan=\"2\" halign=\"left\">All</th>\n",
       "      <th colspan=\"2\" halign=\"left\">In VOC</th>\n",
       "      <th colspan=\"2\" halign=\"left\">Out of VOC</th>\n",
       "    </tr>\n",
       "    <tr>\n",
       "      <th></th>\n",
       "      <th>f1 micro</th>\n",
       "      <th>f1 macro</th>\n",
       "      <th>f1 micro</th>\n",
       "      <th>f1 macro</th>\n",
       "      <th>f1 micro</th>\n",
       "      <th>f1 macro</th>\n",
       "    </tr>\n",
       "  </thead>\n",
       "  <tbody>\n",
       "    <tr>\n",
       "      <th>score</th>\n",
       "      <td>0.766667</td>\n",
       "      <td>0.463396</td>\n",
       "      <td>0.773312</td>\n",
       "      <td>0.478464</td>\n",
       "      <td>0.25</td>\n",
       "      <td>0.138889</td>\n",
       "    </tr>\n",
       "  </tbody>\n",
       "</table>\n",
       "</div>"
      ],
      "text/plain": [
       "            All              In VOC           Out of VOC          \n",
       "       f1 micro  f1 macro  f1 micro  f1 macro   f1 micro  f1 macro\n",
       "score  0.766667  0.463396  0.773312  0.478464       0.25  0.138889"
      ]
     },
     "metadata": {},
     "output_type": "display_data"
    },
    {
     "name": "stdout",
     "output_type": "stream",
     "text": [
      "Validation metric increased (-inf --> 0.463396).  Saving model ...\n"
     ]
    },
    {
     "name": "stderr",
     "output_type": "stream",
     "text": [
      "Epoch 2: 100%|██████████| 355/355 [00:31<00:00, 11.20batch/s, loss_decrease=0.9999986819484079]\n",
      "100%|██████████| 630/630 [00:06<00:00, 94.56batch/s] \n"
     ]
    },
    {
     "data": {
      "text/html": [
       "<div>\n",
       "<style scoped>\n",
       "    .dataframe tbody tr th:only-of-type {\n",
       "        vertical-align: middle;\n",
       "    }\n",
       "\n",
       "    .dataframe tbody tr th {\n",
       "        vertical-align: top;\n",
       "    }\n",
       "\n",
       "    .dataframe thead tr th {\n",
       "        text-align: left;\n",
       "    }\n",
       "</style>\n",
       "<table border=\"1\" class=\"dataframe\">\n",
       "  <thead>\n",
       "    <tr>\n",
       "      <th></th>\n",
       "      <th colspan=\"2\" halign=\"left\">All</th>\n",
       "      <th colspan=\"2\" halign=\"left\">In VOC</th>\n",
       "      <th colspan=\"2\" halign=\"left\">Out of VOC</th>\n",
       "    </tr>\n",
       "    <tr>\n",
       "      <th></th>\n",
       "      <th>f1 micro</th>\n",
       "      <th>f1 macro</th>\n",
       "      <th>f1 micro</th>\n",
       "      <th>f1 macro</th>\n",
       "      <th>f1 micro</th>\n",
       "      <th>f1 macro</th>\n",
       "    </tr>\n",
       "  </thead>\n",
       "  <tbody>\n",
       "    <tr>\n",
       "      <th>score</th>\n",
       "      <td>0.796825</td>\n",
       "      <td>0.517331</td>\n",
       "      <td>0.802251</td>\n",
       "      <td>0.541197</td>\n",
       "      <td>0.375</td>\n",
       "      <td>0.166667</td>\n",
       "    </tr>\n",
       "  </tbody>\n",
       "</table>\n",
       "</div>"
      ],
      "text/plain": [
       "            All              In VOC           Out of VOC          \n",
       "       f1 micro  f1 macro  f1 micro  f1 macro   f1 micro  f1 macro\n",
       "score  0.796825  0.517331  0.802251  0.541197      0.375  0.166667"
      ]
     },
     "metadata": {},
     "output_type": "display_data"
    },
    {
     "name": "stdout",
     "output_type": "stream",
     "text": [
      "Validation metric increased (0.463396 --> 0.517331).  Saving model ...\n"
     ]
    },
    {
     "name": "stderr",
     "output_type": "stream",
     "text": [
      "Epoch 3: 100%|██████████| 355/355 [00:32<00:00, 11.09batch/s, loss_decrease=0.9999988702412798]\n",
      "100%|██████████| 630/630 [00:07<00:00, 82.66batch/s]\n"
     ]
    },
    {
     "data": {
      "text/html": [
       "<div>\n",
       "<style scoped>\n",
       "    .dataframe tbody tr th:only-of-type {\n",
       "        vertical-align: middle;\n",
       "    }\n",
       "\n",
       "    .dataframe tbody tr th {\n",
       "        vertical-align: top;\n",
       "    }\n",
       "\n",
       "    .dataframe thead tr th {\n",
       "        text-align: left;\n",
       "    }\n",
       "</style>\n",
       "<table border=\"1\" class=\"dataframe\">\n",
       "  <thead>\n",
       "    <tr>\n",
       "      <th></th>\n",
       "      <th colspan=\"2\" halign=\"left\">All</th>\n",
       "      <th colspan=\"2\" halign=\"left\">In VOC</th>\n",
       "      <th colspan=\"2\" halign=\"left\">Out of VOC</th>\n",
       "    </tr>\n",
       "    <tr>\n",
       "      <th></th>\n",
       "      <th>f1 micro</th>\n",
       "      <th>f1 macro</th>\n",
       "      <th>f1 micro</th>\n",
       "      <th>f1 macro</th>\n",
       "      <th>f1 micro</th>\n",
       "      <th>f1 macro</th>\n",
       "    </tr>\n",
       "  </thead>\n",
       "  <tbody>\n",
       "    <tr>\n",
       "      <th>score</th>\n",
       "      <td>0.814286</td>\n",
       "      <td>0.569033</td>\n",
       "      <td>0.819936</td>\n",
       "      <td>0.585951</td>\n",
       "      <td>0.375</td>\n",
       "      <td>0.242424</td>\n",
       "    </tr>\n",
       "  </tbody>\n",
       "</table>\n",
       "</div>"
      ],
      "text/plain": [
       "            All              In VOC           Out of VOC          \n",
       "       f1 micro  f1 macro  f1 micro  f1 macro   f1 micro  f1 macro\n",
       "score  0.814286  0.569033  0.819936  0.585951      0.375  0.242424"
      ]
     },
     "metadata": {},
     "output_type": "display_data"
    },
    {
     "name": "stdout",
     "output_type": "stream",
     "text": [
      "Validation metric increased (0.517331 --> 0.569033).  Saving model ...\n"
     ]
    },
    {
     "name": "stderr",
     "output_type": "stream",
     "text": [
      "Epoch 4: 100%|██████████| 355/355 [00:31<00:00, 11.12batch/s, loss_decrease=0.9999988702412798]\n",
      "100%|██████████| 630/630 [00:07<00:00, 87.32batch/s]\n"
     ]
    },
    {
     "data": {
      "text/html": [
       "<div>\n",
       "<style scoped>\n",
       "    .dataframe tbody tr th:only-of-type {\n",
       "        vertical-align: middle;\n",
       "    }\n",
       "\n",
       "    .dataframe tbody tr th {\n",
       "        vertical-align: top;\n",
       "    }\n",
       "\n",
       "    .dataframe thead tr th {\n",
       "        text-align: left;\n",
       "    }\n",
       "</style>\n",
       "<table border=\"1\" class=\"dataframe\">\n",
       "  <thead>\n",
       "    <tr>\n",
       "      <th></th>\n",
       "      <th colspan=\"2\" halign=\"left\">All</th>\n",
       "      <th colspan=\"2\" halign=\"left\">In VOC</th>\n",
       "      <th colspan=\"2\" halign=\"left\">Out of VOC</th>\n",
       "    </tr>\n",
       "    <tr>\n",
       "      <th></th>\n",
       "      <th>f1 micro</th>\n",
       "      <th>f1 macro</th>\n",
       "      <th>f1 micro</th>\n",
       "      <th>f1 macro</th>\n",
       "      <th>f1 micro</th>\n",
       "      <th>f1 macro</th>\n",
       "    </tr>\n",
       "  </thead>\n",
       "  <tbody>\n",
       "    <tr>\n",
       "      <th>score</th>\n",
       "      <td>0.833333</td>\n",
       "      <td>0.57854</td>\n",
       "      <td>0.840836</td>\n",
       "      <td>0.606961</td>\n",
       "      <td>0.25</td>\n",
       "      <td>0.128205</td>\n",
       "    </tr>\n",
       "  </tbody>\n",
       "</table>\n",
       "</div>"
      ],
      "text/plain": [
       "            All             In VOC           Out of VOC          \n",
       "       f1 micro f1 macro  f1 micro  f1 macro   f1 micro  f1 macro\n",
       "score  0.833333  0.57854  0.840836  0.606961       0.25  0.128205"
      ]
     },
     "metadata": {},
     "output_type": "display_data"
    },
    {
     "name": "stdout",
     "output_type": "stream",
     "text": [
      "Validation metric increased (0.569033 --> 0.578540).  Saving model ...\n"
     ]
    },
    {
     "name": "stderr",
     "output_type": "stream",
     "text": [
      "Epoch 5: 100%|██████████| 355/355 [00:30<00:00, 11.47batch/s, loss_decrease=0.9999990585342226]\n",
      "100%|██████████| 630/630 [00:06<00:00, 95.15batch/s] \n"
     ]
    },
    {
     "data": {
      "text/html": [
       "<div>\n",
       "<style scoped>\n",
       "    .dataframe tbody tr th:only-of-type {\n",
       "        vertical-align: middle;\n",
       "    }\n",
       "\n",
       "    .dataframe tbody tr th {\n",
       "        vertical-align: top;\n",
       "    }\n",
       "\n",
       "    .dataframe thead tr th {\n",
       "        text-align: left;\n",
       "    }\n",
       "</style>\n",
       "<table border=\"1\" class=\"dataframe\">\n",
       "  <thead>\n",
       "    <tr>\n",
       "      <th></th>\n",
       "      <th colspan=\"2\" halign=\"left\">All</th>\n",
       "      <th colspan=\"2\" halign=\"left\">In VOC</th>\n",
       "      <th colspan=\"2\" halign=\"left\">Out of VOC</th>\n",
       "    </tr>\n",
       "    <tr>\n",
       "      <th></th>\n",
       "      <th>f1 micro</th>\n",
       "      <th>f1 macro</th>\n",
       "      <th>f1 micro</th>\n",
       "      <th>f1 macro</th>\n",
       "      <th>f1 micro</th>\n",
       "      <th>f1 macro</th>\n",
       "    </tr>\n",
       "  </thead>\n",
       "  <tbody>\n",
       "    <tr>\n",
       "      <th>score</th>\n",
       "      <td>0.811111</td>\n",
       "      <td>0.555113</td>\n",
       "      <td>0.818328</td>\n",
       "      <td>0.583102</td>\n",
       "      <td>0.25</td>\n",
       "      <td>0.128205</td>\n",
       "    </tr>\n",
       "  </tbody>\n",
       "</table>\n",
       "</div>"
      ],
      "text/plain": [
       "            All              In VOC           Out of VOC          \n",
       "       f1 micro  f1 macro  f1 micro  f1 macro   f1 micro  f1 macro\n",
       "score  0.811111  0.555113  0.818328  0.583102       0.25  0.128205"
      ]
     },
     "metadata": {},
     "output_type": "display_data"
    },
    {
     "name": "stdout",
     "output_type": "stream",
     "text": [
      "EarlyStopping counter: 1 out of 7\n"
     ]
    },
    {
     "name": "stderr",
     "output_type": "stream",
     "text": [
      "Epoch 8: 100%|██████████| 355/355 [00:31<00:00, 11.39batch/s, loss_decrease=0.9999993409737696]\n",
      "100%|██████████| 630/630 [00:06<00:00, 92.22batch/s] \n"
     ]
    },
    {
     "data": {
      "text/html": [
       "<div>\n",
       "<style scoped>\n",
       "    .dataframe tbody tr th:only-of-type {\n",
       "        vertical-align: middle;\n",
       "    }\n",
       "\n",
       "    .dataframe tbody tr th {\n",
       "        vertical-align: top;\n",
       "    }\n",
       "\n",
       "    .dataframe thead tr th {\n",
       "        text-align: left;\n",
       "    }\n",
       "</style>\n",
       "<table border=\"1\" class=\"dataframe\">\n",
       "  <thead>\n",
       "    <tr>\n",
       "      <th></th>\n",
       "      <th colspan=\"2\" halign=\"left\">All</th>\n",
       "      <th colspan=\"2\" halign=\"left\">In VOC</th>\n",
       "      <th colspan=\"2\" halign=\"left\">Out of VOC</th>\n",
       "    </tr>\n",
       "    <tr>\n",
       "      <th></th>\n",
       "      <th>f1 micro</th>\n",
       "      <th>f1 macro</th>\n",
       "      <th>f1 micro</th>\n",
       "      <th>f1 macro</th>\n",
       "      <th>f1 micro</th>\n",
       "      <th>f1 macro</th>\n",
       "    </tr>\n",
       "  </thead>\n",
       "  <tbody>\n",
       "    <tr>\n",
       "      <th>score</th>\n",
       "      <td>0.830159</td>\n",
       "      <td>0.59938</td>\n",
       "      <td>0.840836</td>\n",
       "      <td>0.638747</td>\n",
       "      <td>0.0</td>\n",
       "      <td>0.0</td>\n",
       "    </tr>\n",
       "  </tbody>\n",
       "</table>\n",
       "</div>"
      ],
      "text/plain": [
       "            All             In VOC           Out of VOC         \n",
       "       f1 micro f1 macro  f1 micro  f1 macro   f1 micro f1 macro\n",
       "score  0.830159  0.59938  0.840836  0.638747        0.0      0.0"
      ]
     },
     "metadata": {},
     "output_type": "display_data"
    },
    {
     "name": "stdout",
     "output_type": "stream",
     "text": [
      "Validation metric increased (0.596843 --> 0.599380).  Saving model ...\n"
     ]
    },
    {
     "name": "stderr",
     "output_type": "stream",
     "text": [
      "Epoch 9: 100%|██████████| 355/355 [00:30<00:00, 11.56batch/s, loss_decrease=0.9999994351203207]\n",
      "100%|██████████| 630/630 [00:07<00:00, 79.88batch/s]\n"
     ]
    },
    {
     "data": {
      "text/html": [
       "<div>\n",
       "<style scoped>\n",
       "    .dataframe tbody tr th:only-of-type {\n",
       "        vertical-align: middle;\n",
       "    }\n",
       "\n",
       "    .dataframe tbody tr th {\n",
       "        vertical-align: top;\n",
       "    }\n",
       "\n",
       "    .dataframe thead tr th {\n",
       "        text-align: left;\n",
       "    }\n",
       "</style>\n",
       "<table border=\"1\" class=\"dataframe\">\n",
       "  <thead>\n",
       "    <tr>\n",
       "      <th></th>\n",
       "      <th colspan=\"2\" halign=\"left\">All</th>\n",
       "      <th colspan=\"2\" halign=\"left\">In VOC</th>\n",
       "      <th colspan=\"2\" halign=\"left\">Out of VOC</th>\n",
       "    </tr>\n",
       "    <tr>\n",
       "      <th></th>\n",
       "      <th>f1 micro</th>\n",
       "      <th>f1 macro</th>\n",
       "      <th>f1 micro</th>\n",
       "      <th>f1 macro</th>\n",
       "      <th>f1 micro</th>\n",
       "      <th>f1 macro</th>\n",
       "    </tr>\n",
       "  </thead>\n",
       "  <tbody>\n",
       "    <tr>\n",
       "      <th>score</th>\n",
       "      <td>0.830159</td>\n",
       "      <td>0.57588</td>\n",
       "      <td>0.840836</td>\n",
       "      <td>0.614586</td>\n",
       "      <td>0.0</td>\n",
       "      <td>0.0</td>\n",
       "    </tr>\n",
       "  </tbody>\n",
       "</table>\n",
       "</div>"
      ],
      "text/plain": [
       "            All             In VOC           Out of VOC         \n",
       "       f1 micro f1 macro  f1 micro  f1 macro   f1 micro f1 macro\n",
       "score  0.830159  0.57588  0.840836  0.614586        0.0      0.0"
      ]
     },
     "metadata": {},
     "output_type": "display_data"
    },
    {
     "name": "stdout",
     "output_type": "stream",
     "text": [
      "EarlyStopping counter: 1 out of 7\n"
     ]
    },
    {
     "name": "stderr",
     "output_type": "stream",
     "text": [
      "Epoch 10: 100%|██████████| 355/355 [00:31<00:00, 11.26batch/s, loss_decrease=0.9999993409737696]\n",
      "100%|██████████| 630/630 [00:06<00:00, 96.92batch/s] \n"
     ]
    },
    {
     "data": {
      "text/html": [
       "<div>\n",
       "<style scoped>\n",
       "    .dataframe tbody tr th:only-of-type {\n",
       "        vertical-align: middle;\n",
       "    }\n",
       "\n",
       "    .dataframe tbody tr th {\n",
       "        vertical-align: top;\n",
       "    }\n",
       "\n",
       "    .dataframe thead tr th {\n",
       "        text-align: left;\n",
       "    }\n",
       "</style>\n",
       "<table border=\"1\" class=\"dataframe\">\n",
       "  <thead>\n",
       "    <tr>\n",
       "      <th></th>\n",
       "      <th colspan=\"2\" halign=\"left\">All</th>\n",
       "      <th colspan=\"2\" halign=\"left\">In VOC</th>\n",
       "      <th colspan=\"2\" halign=\"left\">Out of VOC</th>\n",
       "    </tr>\n",
       "    <tr>\n",
       "      <th></th>\n",
       "      <th>f1 micro</th>\n",
       "      <th>f1 macro</th>\n",
       "      <th>f1 micro</th>\n",
       "      <th>f1 macro</th>\n",
       "      <th>f1 micro</th>\n",
       "      <th>f1 macro</th>\n",
       "    </tr>\n",
       "  </thead>\n",
       "  <tbody>\n",
       "    <tr>\n",
       "      <th>score</th>\n",
       "      <td>0.820635</td>\n",
       "      <td>0.579065</td>\n",
       "      <td>0.83119</td>\n",
       "      <td>0.619169</td>\n",
       "      <td>0.0</td>\n",
       "      <td>0.0</td>\n",
       "    </tr>\n",
       "  </tbody>\n",
       "</table>\n",
       "</div>"
      ],
      "text/plain": [
       "            All             In VOC           Out of VOC         \n",
       "       f1 micro  f1 macro f1 micro  f1 macro   f1 micro f1 macro\n",
       "score  0.820635  0.579065  0.83119  0.619169        0.0      0.0"
      ]
     },
     "metadata": {},
     "output_type": "display_data"
    },
    {
     "name": "stdout",
     "output_type": "stream",
     "text": [
      "EarlyStopping counter: 2 out of 7\n"
     ]
    },
    {
     "name": "stderr",
     "output_type": "stream",
     "text": [
      "Epoch 11: 100%|██████████| 355/355 [00:31<00:00, 11.43batch/s, loss_decrease=0.9999993409737696]\n",
      "100%|██████████| 630/630 [00:06<00:00, 96.41batch/s] \n"
     ]
    },
    {
     "data": {
      "text/html": [
       "<div>\n",
       "<style scoped>\n",
       "    .dataframe tbody tr th:only-of-type {\n",
       "        vertical-align: middle;\n",
       "    }\n",
       "\n",
       "    .dataframe tbody tr th {\n",
       "        vertical-align: top;\n",
       "    }\n",
       "\n",
       "    .dataframe thead tr th {\n",
       "        text-align: left;\n",
       "    }\n",
       "</style>\n",
       "<table border=\"1\" class=\"dataframe\">\n",
       "  <thead>\n",
       "    <tr>\n",
       "      <th></th>\n",
       "      <th colspan=\"2\" halign=\"left\">All</th>\n",
       "      <th colspan=\"2\" halign=\"left\">In VOC</th>\n",
       "      <th colspan=\"2\" halign=\"left\">Out of VOC</th>\n",
       "    </tr>\n",
       "    <tr>\n",
       "      <th></th>\n",
       "      <th>f1 micro</th>\n",
       "      <th>f1 macro</th>\n",
       "      <th>f1 micro</th>\n",
       "      <th>f1 macro</th>\n",
       "      <th>f1 micro</th>\n",
       "      <th>f1 macro</th>\n",
       "    </tr>\n",
       "  </thead>\n",
       "  <tbody>\n",
       "    <tr>\n",
       "      <th>score</th>\n",
       "      <td>0.820635</td>\n",
       "      <td>0.588803</td>\n",
       "      <td>0.827974</td>\n",
       "      <td>0.618346</td>\n",
       "      <td>0.25</td>\n",
       "      <td>0.153846</td>\n",
       "    </tr>\n",
       "  </tbody>\n",
       "</table>\n",
       "</div>"
      ],
      "text/plain": [
       "            All              In VOC           Out of VOC          \n",
       "       f1 micro  f1 macro  f1 micro  f1 macro   f1 micro  f1 macro\n",
       "score  0.820635  0.588803  0.827974  0.618346       0.25  0.153846"
      ]
     },
     "metadata": {},
     "output_type": "display_data"
    },
    {
     "name": "stdout",
     "output_type": "stream",
     "text": [
      "EarlyStopping counter: 3 out of 7\n"
     ]
    },
    {
     "name": "stderr",
     "output_type": "stream",
     "text": [
      "Epoch 12: 100%|██████████| 355/355 [00:31<00:00, 11.12batch/s, loss_decrease=0.9999994351203207]\n",
      "100%|██████████| 630/630 [00:06<00:00, 97.73batch/s] \n"
     ]
    },
    {
     "data": {
      "text/html": [
       "<div>\n",
       "<style scoped>\n",
       "    .dataframe tbody tr th:only-of-type {\n",
       "        vertical-align: middle;\n",
       "    }\n",
       "\n",
       "    .dataframe tbody tr th {\n",
       "        vertical-align: top;\n",
       "    }\n",
       "\n",
       "    .dataframe thead tr th {\n",
       "        text-align: left;\n",
       "    }\n",
       "</style>\n",
       "<table border=\"1\" class=\"dataframe\">\n",
       "  <thead>\n",
       "    <tr>\n",
       "      <th></th>\n",
       "      <th colspan=\"2\" halign=\"left\">All</th>\n",
       "      <th colspan=\"2\" halign=\"left\">In VOC</th>\n",
       "      <th colspan=\"2\" halign=\"left\">Out of VOC</th>\n",
       "    </tr>\n",
       "    <tr>\n",
       "      <th></th>\n",
       "      <th>f1 micro</th>\n",
       "      <th>f1 macro</th>\n",
       "      <th>f1 micro</th>\n",
       "      <th>f1 macro</th>\n",
       "      <th>f1 micro</th>\n",
       "      <th>f1 macro</th>\n",
       "    </tr>\n",
       "  </thead>\n",
       "  <tbody>\n",
       "    <tr>\n",
       "      <th>score</th>\n",
       "      <td>0.830159</td>\n",
       "      <td>0.590574</td>\n",
       "      <td>0.840836</td>\n",
       "      <td>0.638695</td>\n",
       "      <td>0.0</td>\n",
       "      <td>0.0</td>\n",
       "    </tr>\n",
       "  </tbody>\n",
       "</table>\n",
       "</div>"
      ],
      "text/plain": [
       "            All              In VOC           Out of VOC         \n",
       "       f1 micro  f1 macro  f1 micro  f1 macro   f1 micro f1 macro\n",
       "score  0.830159  0.590574  0.840836  0.638695        0.0      0.0"
      ]
     },
     "metadata": {},
     "output_type": "display_data"
    },
    {
     "name": "stdout",
     "output_type": "stream",
     "text": [
      "EarlyStopping counter: 4 out of 7\n"
     ]
    },
    {
     "name": "stderr",
     "output_type": "stream",
     "text": [
      "Epoch 13: 100%|██████████| 355/355 [00:30<00:00, 11.45batch/s, loss_decrease=0.9999993409737696]\n",
      "100%|██████████| 630/630 [00:06<00:00, 90.24batch/s]\n"
     ]
    },
    {
     "data": {
      "text/html": [
       "<div>\n",
       "<style scoped>\n",
       "    .dataframe tbody tr th:only-of-type {\n",
       "        vertical-align: middle;\n",
       "    }\n",
       "\n",
       "    .dataframe tbody tr th {\n",
       "        vertical-align: top;\n",
       "    }\n",
       "\n",
       "    .dataframe thead tr th {\n",
       "        text-align: left;\n",
       "    }\n",
       "</style>\n",
       "<table border=\"1\" class=\"dataframe\">\n",
       "  <thead>\n",
       "    <tr>\n",
       "      <th></th>\n",
       "      <th colspan=\"2\" halign=\"left\">All</th>\n",
       "      <th colspan=\"2\" halign=\"left\">In VOC</th>\n",
       "      <th colspan=\"2\" halign=\"left\">Out of VOC</th>\n",
       "    </tr>\n",
       "    <tr>\n",
       "      <th></th>\n",
       "      <th>f1 micro</th>\n",
       "      <th>f1 macro</th>\n",
       "      <th>f1 micro</th>\n",
       "      <th>f1 macro</th>\n",
       "      <th>f1 micro</th>\n",
       "      <th>f1 macro</th>\n",
       "    </tr>\n",
       "  </thead>\n",
       "  <tbody>\n",
       "    <tr>\n",
       "      <th>score</th>\n",
       "      <td>0.815873</td>\n",
       "      <td>0.581687</td>\n",
       "      <td>0.826367</td>\n",
       "      <td>0.62025</td>\n",
       "      <td>0.0</td>\n",
       "      <td>0.0</td>\n",
       "    </tr>\n",
       "  </tbody>\n",
       "</table>\n",
       "</div>"
      ],
      "text/plain": [
       "            All              In VOC          Out of VOC         \n",
       "       f1 micro  f1 macro  f1 micro f1 macro   f1 micro f1 macro\n",
       "score  0.815873  0.581687  0.826367  0.62025        0.0      0.0"
      ]
     },
     "metadata": {},
     "output_type": "display_data"
    },
    {
     "name": "stdout",
     "output_type": "stream",
     "text": [
      "EarlyStopping counter: 5 out of 7\n"
     ]
    },
    {
     "name": "stderr",
     "output_type": "stream",
     "text": [
      "Epoch 14: 100%|██████████| 355/355 [00:31<00:00, 11.18batch/s, loss_decrease=0.9999993409737696]\n",
      "100%|██████████| 630/630 [00:06<00:00, 95.33batch/s] \n"
     ]
    },
    {
     "data": {
      "text/html": [
       "<div>\n",
       "<style scoped>\n",
       "    .dataframe tbody tr th:only-of-type {\n",
       "        vertical-align: middle;\n",
       "    }\n",
       "\n",
       "    .dataframe tbody tr th {\n",
       "        vertical-align: top;\n",
       "    }\n",
       "\n",
       "    .dataframe thead tr th {\n",
       "        text-align: left;\n",
       "    }\n",
       "</style>\n",
       "<table border=\"1\" class=\"dataframe\">\n",
       "  <thead>\n",
       "    <tr>\n",
       "      <th></th>\n",
       "      <th colspan=\"2\" halign=\"left\">All</th>\n",
       "      <th colspan=\"2\" halign=\"left\">In VOC</th>\n",
       "      <th colspan=\"2\" halign=\"left\">Out of VOC</th>\n",
       "    </tr>\n",
       "    <tr>\n",
       "      <th></th>\n",
       "      <th>f1 micro</th>\n",
       "      <th>f1 macro</th>\n",
       "      <th>f1 micro</th>\n",
       "      <th>f1 macro</th>\n",
       "      <th>f1 micro</th>\n",
       "      <th>f1 macro</th>\n",
       "    </tr>\n",
       "  </thead>\n",
       "  <tbody>\n",
       "    <tr>\n",
       "      <th>score</th>\n",
       "      <td>0.833333</td>\n",
       "      <td>0.592024</td>\n",
       "      <td>0.840836</td>\n",
       "      <td>0.624124</td>\n",
       "      <td>0.25</td>\n",
       "      <td>0.128205</td>\n",
       "    </tr>\n",
       "  </tbody>\n",
       "</table>\n",
       "</div>"
      ],
      "text/plain": [
       "            All              In VOC           Out of VOC          \n",
       "       f1 micro  f1 macro  f1 micro  f1 macro   f1 micro  f1 macro\n",
       "score  0.833333  0.592024  0.840836  0.624124       0.25  0.128205"
      ]
     },
     "metadata": {},
     "output_type": "display_data"
    },
    {
     "name": "stdout",
     "output_type": "stream",
     "text": [
      "EarlyStopping counter: 6 out of 7\n"
     ]
    },
    {
     "name": "stderr",
     "output_type": "stream",
     "text": [
      "Epoch 15: 100%|██████████| 355/355 [00:32<00:00, 10.91batch/s, loss_decrease=0.9999994351203207]\n",
      "100%|██████████| 630/630 [00:07<00:00, 84.17batch/s]\n"
     ]
    },
    {
     "data": {
      "text/html": [
       "<div>\n",
       "<style scoped>\n",
       "    .dataframe tbody tr th:only-of-type {\n",
       "        vertical-align: middle;\n",
       "    }\n",
       "\n",
       "    .dataframe tbody tr th {\n",
       "        vertical-align: top;\n",
       "    }\n",
       "\n",
       "    .dataframe thead tr th {\n",
       "        text-align: left;\n",
       "    }\n",
       "</style>\n",
       "<table border=\"1\" class=\"dataframe\">\n",
       "  <thead>\n",
       "    <tr>\n",
       "      <th></th>\n",
       "      <th colspan=\"2\" halign=\"left\">All</th>\n",
       "      <th colspan=\"2\" halign=\"left\">In VOC</th>\n",
       "      <th colspan=\"2\" halign=\"left\">Out of VOC</th>\n",
       "    </tr>\n",
       "    <tr>\n",
       "      <th></th>\n",
       "      <th>f1 micro</th>\n",
       "      <th>f1 macro</th>\n",
       "      <th>f1 micro</th>\n",
       "      <th>f1 macro</th>\n",
       "      <th>f1 micro</th>\n",
       "      <th>f1 macro</th>\n",
       "    </tr>\n",
       "  </thead>\n",
       "  <tbody>\n",
       "    <tr>\n",
       "      <th>score</th>\n",
       "      <td>0.826984</td>\n",
       "      <td>0.583109</td>\n",
       "      <td>0.836013</td>\n",
       "      <td>0.617531</td>\n",
       "      <td>0.125</td>\n",
       "      <td>0.047619</td>\n",
       "    </tr>\n",
       "  </tbody>\n",
       "</table>\n",
       "</div>"
      ],
      "text/plain": [
       "            All              In VOC           Out of VOC          \n",
       "       f1 micro  f1 macro  f1 micro  f1 macro   f1 micro  f1 macro\n",
       "score  0.826984  0.583109  0.836013  0.617531      0.125  0.047619"
      ]
     },
     "metadata": {},
     "output_type": "display_data"
    },
    {
     "name": "stdout",
     "output_type": "stream",
     "text": [
      "EarlyStopping counter: 7 out of 7\n",
      "Early stopping\n",
      "Evaluating on test dataset\n"
     ]
    },
    {
     "name": "stderr",
     "output_type": "stream",
     "text": [
      "100%|██████████| 1574/1574 [00:17<00:00, 90.62batch/s] \n"
     ]
    },
    {
     "data": {
      "text/html": [
       "<div>\n",
       "<style scoped>\n",
       "    .dataframe tbody tr th:only-of-type {\n",
       "        vertical-align: middle;\n",
       "    }\n",
       "\n",
       "    .dataframe tbody tr th {\n",
       "        vertical-align: top;\n",
       "    }\n",
       "\n",
       "    .dataframe thead tr th {\n",
       "        text-align: left;\n",
       "    }\n",
       "</style>\n",
       "<table border=\"1\" class=\"dataframe\">\n",
       "  <thead>\n",
       "    <tr>\n",
       "      <th></th>\n",
       "      <th colspan=\"2\" halign=\"left\">All</th>\n",
       "      <th colspan=\"2\" halign=\"left\">In VOC</th>\n",
       "      <th colspan=\"2\" halign=\"left\">Out of VOC</th>\n",
       "    </tr>\n",
       "    <tr>\n",
       "      <th></th>\n",
       "      <th>f1 micro</th>\n",
       "      <th>f1 macro</th>\n",
       "      <th>f1 micro</th>\n",
       "      <th>f1 macro</th>\n",
       "      <th>f1 micro</th>\n",
       "      <th>f1 macro</th>\n",
       "    </tr>\n",
       "  </thead>\n",
       "  <tbody>\n",
       "    <tr>\n",
       "      <th>score</th>\n",
       "      <td>0.85197</td>\n",
       "      <td>0.55113</td>\n",
       "      <td>0.858333</td>\n",
       "      <td>0.587315</td>\n",
       "      <td>0.142857</td>\n",
       "      <td>0.08</td>\n",
       "    </tr>\n",
       "  </tbody>\n",
       "</table>\n",
       "</div>"
      ],
      "text/plain": [
       "           All             In VOC           Out of VOC         \n",
       "      f1 micro f1 macro  f1 micro  f1 macro   f1 micro f1 macro\n",
       "score  0.85197  0.55113  0.858333  0.587315   0.142857     0.08"
      ]
     },
     "metadata": {},
     "output_type": "display_data"
    },
    {
     "name": "stdout",
     "output_type": "stream",
     "text": [
      "Сплит 5\n"
     ]
    },
    {
     "name": "stderr",
     "output_type": "stream",
     "text": [
      "Epoch 1: 100%|██████████| 355/355 [00:31<00:00, 11.17batch/s, loss_decrease=1.0000015063482222]\n",
      "100%|██████████| 630/630 [00:06<00:00, 91.33batch/s] \n"
     ]
    },
    {
     "data": {
      "text/html": [
       "<div>\n",
       "<style scoped>\n",
       "    .dataframe tbody tr th:only-of-type {\n",
       "        vertical-align: middle;\n",
       "    }\n",
       "\n",
       "    .dataframe tbody tr th {\n",
       "        vertical-align: top;\n",
       "    }\n",
       "\n",
       "    .dataframe thead tr th {\n",
       "        text-align: left;\n",
       "    }\n",
       "</style>\n",
       "<table border=\"1\" class=\"dataframe\">\n",
       "  <thead>\n",
       "    <tr>\n",
       "      <th></th>\n",
       "      <th colspan=\"2\" halign=\"left\">All</th>\n",
       "      <th colspan=\"2\" halign=\"left\">In VOC</th>\n",
       "      <th colspan=\"2\" halign=\"left\">Out of VOC</th>\n",
       "    </tr>\n",
       "    <tr>\n",
       "      <th></th>\n",
       "      <th>f1 micro</th>\n",
       "      <th>f1 macro</th>\n",
       "      <th>f1 micro</th>\n",
       "      <th>f1 macro</th>\n",
       "      <th>f1 micro</th>\n",
       "      <th>f1 macro</th>\n",
       "    </tr>\n",
       "  </thead>\n",
       "  <tbody>\n",
       "    <tr>\n",
       "      <th>score</th>\n",
       "      <td>0.804762</td>\n",
       "      <td>0.536918</td>\n",
       "      <td>0.808612</td>\n",
       "      <td>0.549383</td>\n",
       "      <td>0.0</td>\n",
       "      <td>0.0</td>\n",
       "    </tr>\n",
       "  </tbody>\n",
       "</table>\n",
       "</div>"
      ],
      "text/plain": [
       "            All              In VOC           Out of VOC         \n",
       "       f1 micro  f1 macro  f1 micro  f1 macro   f1 micro f1 macro\n",
       "score  0.804762  0.536918  0.808612  0.549383        0.0      0.0"
      ]
     },
     "metadata": {},
     "output_type": "display_data"
    },
    {
     "name": "stdout",
     "output_type": "stream",
     "text": [
      "Validation metric increased (-inf --> 0.536918).  Saving model ...\n"
     ]
    },
    {
     "name": "stderr",
     "output_type": "stream",
     "text": [
      "Epoch 2: 100%|██████████| 355/355 [00:30<00:00, 11.49batch/s, loss_decrease=1.0000015063482222]\n",
      "100%|██████████| 630/630 [00:06<00:00, 95.60batch/s] \n"
     ]
    },
    {
     "data": {
      "text/html": [
       "<div>\n",
       "<style scoped>\n",
       "    .dataframe tbody tr th:only-of-type {\n",
       "        vertical-align: middle;\n",
       "    }\n",
       "\n",
       "    .dataframe tbody tr th {\n",
       "        vertical-align: top;\n",
       "    }\n",
       "\n",
       "    .dataframe thead tr th {\n",
       "        text-align: left;\n",
       "    }\n",
       "</style>\n",
       "<table border=\"1\" class=\"dataframe\">\n",
       "  <thead>\n",
       "    <tr>\n",
       "      <th></th>\n",
       "      <th colspan=\"2\" halign=\"left\">All</th>\n",
       "      <th colspan=\"2\" halign=\"left\">In VOC</th>\n",
       "      <th colspan=\"2\" halign=\"left\">Out of VOC</th>\n",
       "    </tr>\n",
       "    <tr>\n",
       "      <th></th>\n",
       "      <th>f1 micro</th>\n",
       "      <th>f1 macro</th>\n",
       "      <th>f1 micro</th>\n",
       "      <th>f1 macro</th>\n",
       "      <th>f1 micro</th>\n",
       "      <th>f1 macro</th>\n",
       "    </tr>\n",
       "  </thead>\n",
       "  <tbody>\n",
       "    <tr>\n",
       "      <th>score</th>\n",
       "      <td>0.825397</td>\n",
       "      <td>0.55309</td>\n",
       "      <td>0.829346</td>\n",
       "      <td>0.566009</td>\n",
       "      <td>0.0</td>\n",
       "      <td>0.0</td>\n",
       "    </tr>\n",
       "  </tbody>\n",
       "</table>\n",
       "</div>"
      ],
      "text/plain": [
       "            All             In VOC           Out of VOC         \n",
       "       f1 micro f1 macro  f1 micro  f1 macro   f1 micro f1 macro\n",
       "score  0.825397  0.55309  0.829346  0.566009        0.0      0.0"
      ]
     },
     "metadata": {},
     "output_type": "display_data"
    },
    {
     "name": "stdout",
     "output_type": "stream",
     "text": [
      "Validation metric increased (0.536918 --> 0.553090).  Saving model ...\n"
     ]
    },
    {
     "name": "stderr",
     "output_type": "stream",
     "text": [
      "Epoch 3: 100%|██████████| 355/355 [00:30<00:00, 11.49batch/s, loss_decrease=1.0000016004951366]\n",
      "100%|██████████| 630/630 [00:07<00:00, 83.79batch/s] \n"
     ]
    },
    {
     "data": {
      "text/html": [
       "<div>\n",
       "<style scoped>\n",
       "    .dataframe tbody tr th:only-of-type {\n",
       "        vertical-align: middle;\n",
       "    }\n",
       "\n",
       "    .dataframe tbody tr th {\n",
       "        vertical-align: top;\n",
       "    }\n",
       "\n",
       "    .dataframe thead tr th {\n",
       "        text-align: left;\n",
       "    }\n",
       "</style>\n",
       "<table border=\"1\" class=\"dataframe\">\n",
       "  <thead>\n",
       "    <tr>\n",
       "      <th></th>\n",
       "      <th colspan=\"2\" halign=\"left\">All</th>\n",
       "      <th colspan=\"2\" halign=\"left\">In VOC</th>\n",
       "      <th colspan=\"2\" halign=\"left\">Out of VOC</th>\n",
       "    </tr>\n",
       "    <tr>\n",
       "      <th></th>\n",
       "      <th>f1 micro</th>\n",
       "      <th>f1 macro</th>\n",
       "      <th>f1 micro</th>\n",
       "      <th>f1 macro</th>\n",
       "      <th>f1 micro</th>\n",
       "      <th>f1 macro</th>\n",
       "    </tr>\n",
       "  </thead>\n",
       "  <tbody>\n",
       "    <tr>\n",
       "      <th>score</th>\n",
       "      <td>0.830159</td>\n",
       "      <td>0.570338</td>\n",
       "      <td>0.834131</td>\n",
       "      <td>0.588078</td>\n",
       "      <td>0.0</td>\n",
       "      <td>0.0</td>\n",
       "    </tr>\n",
       "  </tbody>\n",
       "</table>\n",
       "</div>"
      ],
      "text/plain": [
       "            All              In VOC           Out of VOC         \n",
       "       f1 micro  f1 macro  f1 micro  f1 macro   f1 micro f1 macro\n",
       "score  0.830159  0.570338  0.834131  0.588078        0.0      0.0"
      ]
     },
     "metadata": {},
     "output_type": "display_data"
    },
    {
     "name": "stdout",
     "output_type": "stream",
     "text": [
      "Validation metric increased (0.553090 --> 0.570338).  Saving model ...\n"
     ]
    },
    {
     "name": "stderr",
     "output_type": "stream",
     "text": [
      "Epoch 4: 100%|██████████| 355/355 [00:31<00:00, 11.41batch/s, loss_decrease=1.0000015063482222]\n",
      "100%|██████████| 630/630 [00:07<00:00, 83.58batch/s]\n"
     ]
    },
    {
     "data": {
      "text/html": [
       "<div>\n",
       "<style scoped>\n",
       "    .dataframe tbody tr th:only-of-type {\n",
       "        vertical-align: middle;\n",
       "    }\n",
       "\n",
       "    .dataframe tbody tr th {\n",
       "        vertical-align: top;\n",
       "    }\n",
       "\n",
       "    .dataframe thead tr th {\n",
       "        text-align: left;\n",
       "    }\n",
       "</style>\n",
       "<table border=\"1\" class=\"dataframe\">\n",
       "  <thead>\n",
       "    <tr>\n",
       "      <th></th>\n",
       "      <th colspan=\"2\" halign=\"left\">All</th>\n",
       "      <th colspan=\"2\" halign=\"left\">In VOC</th>\n",
       "      <th colspan=\"2\" halign=\"left\">Out of VOC</th>\n",
       "    </tr>\n",
       "    <tr>\n",
       "      <th></th>\n",
       "      <th>f1 micro</th>\n",
       "      <th>f1 macro</th>\n",
       "      <th>f1 micro</th>\n",
       "      <th>f1 macro</th>\n",
       "      <th>f1 micro</th>\n",
       "      <th>f1 macro</th>\n",
       "    </tr>\n",
       "  </thead>\n",
       "  <tbody>\n",
       "    <tr>\n",
       "      <th>score</th>\n",
       "      <td>0.849206</td>\n",
       "      <td>0.616396</td>\n",
       "      <td>0.85327</td>\n",
       "      <td>0.63557</td>\n",
       "      <td>0.0</td>\n",
       "      <td>0.0</td>\n",
       "    </tr>\n",
       "  </tbody>\n",
       "</table>\n",
       "</div>"
      ],
      "text/plain": [
       "            All             In VOC          Out of VOC         \n",
       "       f1 micro  f1 macro f1 micro f1 macro   f1 micro f1 macro\n",
       "score  0.849206  0.616396  0.85327  0.63557        0.0      0.0"
      ]
     },
     "metadata": {},
     "output_type": "display_data"
    },
    {
     "name": "stdout",
     "output_type": "stream",
     "text": [
      "Validation metric increased (0.570338 --> 0.616396).  Saving model ...\n"
     ]
    },
    {
     "name": "stderr",
     "output_type": "stream",
     "text": [
      "Epoch 5: 100%|██████████| 355/355 [00:30<00:00, 11.53batch/s, loss_decrease=1.0000016004951366]\n",
      "100%|██████████| 630/630 [00:07<00:00, 86.92batch/s]\n"
     ]
    },
    {
     "data": {
      "text/html": [
       "<div>\n",
       "<style scoped>\n",
       "    .dataframe tbody tr th:only-of-type {\n",
       "        vertical-align: middle;\n",
       "    }\n",
       "\n",
       "    .dataframe tbody tr th {\n",
       "        vertical-align: top;\n",
       "    }\n",
       "\n",
       "    .dataframe thead tr th {\n",
       "        text-align: left;\n",
       "    }\n",
       "</style>\n",
       "<table border=\"1\" class=\"dataframe\">\n",
       "  <thead>\n",
       "    <tr>\n",
       "      <th></th>\n",
       "      <th colspan=\"2\" halign=\"left\">All</th>\n",
       "      <th colspan=\"2\" halign=\"left\">In VOC</th>\n",
       "      <th colspan=\"2\" halign=\"left\">Out of VOC</th>\n",
       "    </tr>\n",
       "    <tr>\n",
       "      <th></th>\n",
       "      <th>f1 micro</th>\n",
       "      <th>f1 macro</th>\n",
       "      <th>f1 micro</th>\n",
       "      <th>f1 macro</th>\n",
       "      <th>f1 micro</th>\n",
       "      <th>f1 macro</th>\n",
       "    </tr>\n",
       "  </thead>\n",
       "  <tbody>\n",
       "    <tr>\n",
       "      <th>score</th>\n",
       "      <td>0.839683</td>\n",
       "      <td>0.619443</td>\n",
       "      <td>0.8437</td>\n",
       "      <td>0.634995</td>\n",
       "      <td>0.0</td>\n",
       "      <td>0.0</td>\n",
       "    </tr>\n",
       "  </tbody>\n",
       "</table>\n",
       "</div>"
      ],
      "text/plain": [
       "            All             In VOC           Out of VOC         \n",
       "       f1 micro  f1 macro f1 micro  f1 macro   f1 micro f1 macro\n",
       "score  0.839683  0.619443   0.8437  0.634995        0.0      0.0"
      ]
     },
     "metadata": {},
     "output_type": "display_data"
    },
    {
     "name": "stdout",
     "output_type": "stream",
     "text": [
      "Validation metric increased (0.616396 --> 0.619443).  Saving model ...\n"
     ]
    },
    {
     "name": "stderr",
     "output_type": "stream",
     "text": [
      "Epoch 6: 100%|██████████| 355/355 [00:31<00:00, 11.29batch/s, loss_decrease=1.0000016004951366]\n",
      "100%|██████████| 630/630 [00:06<00:00, 98.62batch/s] \n"
     ]
    },
    {
     "data": {
      "text/html": [
       "<div>\n",
       "<style scoped>\n",
       "    .dataframe tbody tr th:only-of-type {\n",
       "        vertical-align: middle;\n",
       "    }\n",
       "\n",
       "    .dataframe tbody tr th {\n",
       "        vertical-align: top;\n",
       "    }\n",
       "\n",
       "    .dataframe thead tr th {\n",
       "        text-align: left;\n",
       "    }\n",
       "</style>\n",
       "<table border=\"1\" class=\"dataframe\">\n",
       "  <thead>\n",
       "    <tr>\n",
       "      <th></th>\n",
       "      <th colspan=\"2\" halign=\"left\">All</th>\n",
       "      <th colspan=\"2\" halign=\"left\">In VOC</th>\n",
       "      <th colspan=\"2\" halign=\"left\">Out of VOC</th>\n",
       "    </tr>\n",
       "    <tr>\n",
       "      <th></th>\n",
       "      <th>f1 micro</th>\n",
       "      <th>f1 macro</th>\n",
       "      <th>f1 micro</th>\n",
       "      <th>f1 macro</th>\n",
       "      <th>f1 micro</th>\n",
       "      <th>f1 macro</th>\n",
       "    </tr>\n",
       "  </thead>\n",
       "  <tbody>\n",
       "    <tr>\n",
       "      <th>score</th>\n",
       "      <td>0.847619</td>\n",
       "      <td>0.633099</td>\n",
       "      <td>0.851675</td>\n",
       "      <td>0.64889</td>\n",
       "      <td>0.0</td>\n",
       "      <td>0.0</td>\n",
       "    </tr>\n",
       "  </tbody>\n",
       "</table>\n",
       "</div>"
      ],
      "text/plain": [
       "            All              In VOC          Out of VOC         \n",
       "       f1 micro  f1 macro  f1 micro f1 macro   f1 micro f1 macro\n",
       "score  0.847619  0.633099  0.851675  0.64889        0.0      0.0"
      ]
     },
     "metadata": {},
     "output_type": "display_data"
    },
    {
     "name": "stdout",
     "output_type": "stream",
     "text": [
      "Validation metric increased (0.619443 --> 0.633099).  Saving model ...\n"
     ]
    },
    {
     "name": "stderr",
     "output_type": "stream",
     "text": [
      "Epoch 7: 100%|██████████| 355/355 [00:30<00:00, 11.61batch/s, loss_decrease=1.0000016004951366]\n",
      "100%|██████████| 630/630 [00:06<00:00, 91.43batch/s] \n"
     ]
    },
    {
     "data": {
      "text/html": [
       "<div>\n",
       "<style scoped>\n",
       "    .dataframe tbody tr th:only-of-type {\n",
       "        vertical-align: middle;\n",
       "    }\n",
       "\n",
       "    .dataframe tbody tr th {\n",
       "        vertical-align: top;\n",
       "    }\n",
       "\n",
       "    .dataframe thead tr th {\n",
       "        text-align: left;\n",
       "    }\n",
       "</style>\n",
       "<table border=\"1\" class=\"dataframe\">\n",
       "  <thead>\n",
       "    <tr>\n",
       "      <th></th>\n",
       "      <th colspan=\"2\" halign=\"left\">All</th>\n",
       "      <th colspan=\"2\" halign=\"left\">In VOC</th>\n",
       "      <th colspan=\"2\" halign=\"left\">Out of VOC</th>\n",
       "    </tr>\n",
       "    <tr>\n",
       "      <th></th>\n",
       "      <th>f1 micro</th>\n",
       "      <th>f1 macro</th>\n",
       "      <th>f1 micro</th>\n",
       "      <th>f1 macro</th>\n",
       "      <th>f1 micro</th>\n",
       "      <th>f1 macro</th>\n",
       "    </tr>\n",
       "  </thead>\n",
       "  <tbody>\n",
       "    <tr>\n",
       "      <th>score</th>\n",
       "      <td>0.860317</td>\n",
       "      <td>0.659751</td>\n",
       "      <td>0.864434</td>\n",
       "      <td>0.675818</td>\n",
       "      <td>0.0</td>\n",
       "      <td>0.0</td>\n",
       "    </tr>\n",
       "  </tbody>\n",
       "</table>\n",
       "</div>"
      ],
      "text/plain": [
       "            All              In VOC           Out of VOC         \n",
       "       f1 micro  f1 macro  f1 micro  f1 macro   f1 micro f1 macro\n",
       "score  0.860317  0.659751  0.864434  0.675818        0.0      0.0"
      ]
     },
     "metadata": {},
     "output_type": "display_data"
    },
    {
     "name": "stdout",
     "output_type": "stream",
     "text": [
      "Validation metric increased (0.633099 --> 0.659751).  Saving model ...\n"
     ]
    },
    {
     "name": "stderr",
     "output_type": "stream",
     "text": [
      "Epoch 8: 100%|██████████| 355/355 [00:31<00:00, 11.22batch/s, loss_decrease=1.0000016004951366]\n",
      "100%|██████████| 630/630 [00:06<00:00, 90.91batch/s] \n"
     ]
    },
    {
     "data": {
      "text/html": [
       "<div>\n",
       "<style scoped>\n",
       "    .dataframe tbody tr th:only-of-type {\n",
       "        vertical-align: middle;\n",
       "    }\n",
       "\n",
       "    .dataframe tbody tr th {\n",
       "        vertical-align: top;\n",
       "    }\n",
       "\n",
       "    .dataframe thead tr th {\n",
       "        text-align: left;\n",
       "    }\n",
       "</style>\n",
       "<table border=\"1\" class=\"dataframe\">\n",
       "  <thead>\n",
       "    <tr>\n",
       "      <th></th>\n",
       "      <th colspan=\"2\" halign=\"left\">All</th>\n",
       "      <th colspan=\"2\" halign=\"left\">In VOC</th>\n",
       "      <th colspan=\"2\" halign=\"left\">Out of VOC</th>\n",
       "    </tr>\n",
       "    <tr>\n",
       "      <th></th>\n",
       "      <th>f1 micro</th>\n",
       "      <th>f1 macro</th>\n",
       "      <th>f1 micro</th>\n",
       "      <th>f1 macro</th>\n",
       "      <th>f1 micro</th>\n",
       "      <th>f1 macro</th>\n",
       "    </tr>\n",
       "  </thead>\n",
       "  <tbody>\n",
       "    <tr>\n",
       "      <th>score</th>\n",
       "      <td>0.842857</td>\n",
       "      <td>0.615907</td>\n",
       "      <td>0.84689</td>\n",
       "      <td>0.63214</td>\n",
       "      <td>0.0</td>\n",
       "      <td>0.0</td>\n",
       "    </tr>\n",
       "  </tbody>\n",
       "</table>\n",
       "</div>"
      ],
      "text/plain": [
       "            All             In VOC          Out of VOC         \n",
       "       f1 micro  f1 macro f1 micro f1 macro   f1 micro f1 macro\n",
       "score  0.842857  0.615907  0.84689  0.63214        0.0      0.0"
      ]
     },
     "metadata": {},
     "output_type": "display_data"
    },
    {
     "name": "stdout",
     "output_type": "stream",
     "text": [
      "EarlyStopping counter: 1 out of 7\n"
     ]
    },
    {
     "name": "stderr",
     "output_type": "stream",
     "text": [
      "Epoch 9: 100%|██████████| 355/355 [00:30<00:00, 11.45batch/s, loss_decrease=1.0000016004951366]\n",
      "100%|██████████| 630/630 [00:06<00:00, 95.80batch/s] \n"
     ]
    },
    {
     "data": {
      "text/html": [
       "<div>\n",
       "<style scoped>\n",
       "    .dataframe tbody tr th:only-of-type {\n",
       "        vertical-align: middle;\n",
       "    }\n",
       "\n",
       "    .dataframe tbody tr th {\n",
       "        vertical-align: top;\n",
       "    }\n",
       "\n",
       "    .dataframe thead tr th {\n",
       "        text-align: left;\n",
       "    }\n",
       "</style>\n",
       "<table border=\"1\" class=\"dataframe\">\n",
       "  <thead>\n",
       "    <tr>\n",
       "      <th></th>\n",
       "      <th colspan=\"2\" halign=\"left\">All</th>\n",
       "      <th colspan=\"2\" halign=\"left\">In VOC</th>\n",
       "      <th colspan=\"2\" halign=\"left\">Out of VOC</th>\n",
       "    </tr>\n",
       "    <tr>\n",
       "      <th></th>\n",
       "      <th>f1 micro</th>\n",
       "      <th>f1 macro</th>\n",
       "      <th>f1 micro</th>\n",
       "      <th>f1 macro</th>\n",
       "      <th>f1 micro</th>\n",
       "      <th>f1 macro</th>\n",
       "    </tr>\n",
       "  </thead>\n",
       "  <tbody>\n",
       "    <tr>\n",
       "      <th>score</th>\n",
       "      <td>0.853968</td>\n",
       "      <td>0.615637</td>\n",
       "      <td>0.858054</td>\n",
       "      <td>0.630262</td>\n",
       "      <td>0.0</td>\n",
       "      <td>0.0</td>\n",
       "    </tr>\n",
       "  </tbody>\n",
       "</table>\n",
       "</div>"
      ],
      "text/plain": [
       "            All              In VOC           Out of VOC         \n",
       "       f1 micro  f1 macro  f1 micro  f1 macro   f1 micro f1 macro\n",
       "score  0.853968  0.615637  0.858054  0.630262        0.0      0.0"
      ]
     },
     "metadata": {},
     "output_type": "display_data"
    },
    {
     "name": "stdout",
     "output_type": "stream",
     "text": [
      "EarlyStopping counter: 2 out of 7\n"
     ]
    },
    {
     "name": "stderr",
     "output_type": "stream",
     "text": [
      "Epoch 10: 100%|██████████| 355/355 [00:31<00:00, 11.34batch/s, loss_decrease=1.0000016004951366]\n",
      "100%|██████████| 630/630 [00:06<00:00, 95.64batch/s] \n"
     ]
    },
    {
     "data": {
      "text/html": [
       "<div>\n",
       "<style scoped>\n",
       "    .dataframe tbody tr th:only-of-type {\n",
       "        vertical-align: middle;\n",
       "    }\n",
       "\n",
       "    .dataframe tbody tr th {\n",
       "        vertical-align: top;\n",
       "    }\n",
       "\n",
       "    .dataframe thead tr th {\n",
       "        text-align: left;\n",
       "    }\n",
       "</style>\n",
       "<table border=\"1\" class=\"dataframe\">\n",
       "  <thead>\n",
       "    <tr>\n",
       "      <th></th>\n",
       "      <th colspan=\"2\" halign=\"left\">All</th>\n",
       "      <th colspan=\"2\" halign=\"left\">In VOC</th>\n",
       "      <th colspan=\"2\" halign=\"left\">Out of VOC</th>\n",
       "    </tr>\n",
       "    <tr>\n",
       "      <th></th>\n",
       "      <th>f1 micro</th>\n",
       "      <th>f1 macro</th>\n",
       "      <th>f1 micro</th>\n",
       "      <th>f1 macro</th>\n",
       "      <th>f1 micro</th>\n",
       "      <th>f1 macro</th>\n",
       "    </tr>\n",
       "  </thead>\n",
       "  <tbody>\n",
       "    <tr>\n",
       "      <th>score</th>\n",
       "      <td>0.84127</td>\n",
       "      <td>0.601298</td>\n",
       "      <td>0.845295</td>\n",
       "      <td>0.619443</td>\n",
       "      <td>0.0</td>\n",
       "      <td>0.0</td>\n",
       "    </tr>\n",
       "  </tbody>\n",
       "</table>\n",
       "</div>"
      ],
      "text/plain": [
       "           All              In VOC           Out of VOC         \n",
       "      f1 micro  f1 macro  f1 micro  f1 macro   f1 micro f1 macro\n",
       "score  0.84127  0.601298  0.845295  0.619443        0.0      0.0"
      ]
     },
     "metadata": {},
     "output_type": "display_data"
    },
    {
     "name": "stdout",
     "output_type": "stream",
     "text": [
      "EarlyStopping counter: 3 out of 7\n"
     ]
    },
    {
     "name": "stderr",
     "output_type": "stream",
     "text": [
      "Epoch 11: 100%|██████████| 355/355 [00:30<00:00, 11.52batch/s, loss_decrease=1.0000016004951366]\n",
      "100%|██████████| 630/630 [00:06<00:00, 95.43batch/s] \n"
     ]
    },
    {
     "data": {
      "text/html": [
       "<div>\n",
       "<style scoped>\n",
       "    .dataframe tbody tr th:only-of-type {\n",
       "        vertical-align: middle;\n",
       "    }\n",
       "\n",
       "    .dataframe tbody tr th {\n",
       "        vertical-align: top;\n",
       "    }\n",
       "\n",
       "    .dataframe thead tr th {\n",
       "        text-align: left;\n",
       "    }\n",
       "</style>\n",
       "<table border=\"1\" class=\"dataframe\">\n",
       "  <thead>\n",
       "    <tr>\n",
       "      <th></th>\n",
       "      <th colspan=\"2\" halign=\"left\">All</th>\n",
       "      <th colspan=\"2\" halign=\"left\">In VOC</th>\n",
       "      <th colspan=\"2\" halign=\"left\">Out of VOC</th>\n",
       "    </tr>\n",
       "    <tr>\n",
       "      <th></th>\n",
       "      <th>f1 micro</th>\n",
       "      <th>f1 macro</th>\n",
       "      <th>f1 micro</th>\n",
       "      <th>f1 macro</th>\n",
       "      <th>f1 micro</th>\n",
       "      <th>f1 macro</th>\n",
       "    </tr>\n",
       "  </thead>\n",
       "  <tbody>\n",
       "    <tr>\n",
       "      <th>score</th>\n",
       "      <td>0.855556</td>\n",
       "      <td>0.602873</td>\n",
       "      <td>0.859649</td>\n",
       "      <td>0.621406</td>\n",
       "      <td>0.0</td>\n",
       "      <td>0.0</td>\n",
       "    </tr>\n",
       "  </tbody>\n",
       "</table>\n",
       "</div>"
      ],
      "text/plain": [
       "            All              In VOC           Out of VOC         \n",
       "       f1 micro  f1 macro  f1 micro  f1 macro   f1 micro f1 macro\n",
       "score  0.855556  0.602873  0.859649  0.621406        0.0      0.0"
      ]
     },
     "metadata": {},
     "output_type": "display_data"
    },
    {
     "name": "stdout",
     "output_type": "stream",
     "text": [
      "EarlyStopping counter: 4 out of 7\n"
     ]
    },
    {
     "name": "stderr",
     "output_type": "stream",
     "text": [
      "Epoch 12: 100%|██████████| 355/355 [00:32<00:00, 11.05batch/s, loss_decrease=1.0000016004951366]\n",
      "100%|██████████| 630/630 [00:07<00:00, 87.53batch/s]\n"
     ]
    },
    {
     "data": {
      "text/html": [
       "<div>\n",
       "<style scoped>\n",
       "    .dataframe tbody tr th:only-of-type {\n",
       "        vertical-align: middle;\n",
       "    }\n",
       "\n",
       "    .dataframe tbody tr th {\n",
       "        vertical-align: top;\n",
       "    }\n",
       "\n",
       "    .dataframe thead tr th {\n",
       "        text-align: left;\n",
       "    }\n",
       "</style>\n",
       "<table border=\"1\" class=\"dataframe\">\n",
       "  <thead>\n",
       "    <tr>\n",
       "      <th></th>\n",
       "      <th colspan=\"2\" halign=\"left\">All</th>\n",
       "      <th colspan=\"2\" halign=\"left\">In VOC</th>\n",
       "      <th colspan=\"2\" halign=\"left\">Out of VOC</th>\n",
       "    </tr>\n",
       "    <tr>\n",
       "      <th></th>\n",
       "      <th>f1 micro</th>\n",
       "      <th>f1 macro</th>\n",
       "      <th>f1 micro</th>\n",
       "      <th>f1 macro</th>\n",
       "      <th>f1 micro</th>\n",
       "      <th>f1 macro</th>\n",
       "    </tr>\n",
       "  </thead>\n",
       "  <tbody>\n",
       "    <tr>\n",
       "      <th>score</th>\n",
       "      <td>0.847619</td>\n",
       "      <td>0.590771</td>\n",
       "      <td>0.851675</td>\n",
       "      <td>0.605324</td>\n",
       "      <td>0.0</td>\n",
       "      <td>0.0</td>\n",
       "    </tr>\n",
       "  </tbody>\n",
       "</table>\n",
       "</div>"
      ],
      "text/plain": [
       "            All              In VOC           Out of VOC         \n",
       "       f1 micro  f1 macro  f1 micro  f1 macro   f1 micro f1 macro\n",
       "score  0.847619  0.590771  0.851675  0.605324        0.0      0.0"
      ]
     },
     "metadata": {},
     "output_type": "display_data"
    },
    {
     "name": "stdout",
     "output_type": "stream",
     "text": [
      "EarlyStopping counter: 5 out of 7\n"
     ]
    },
    {
     "name": "stderr",
     "output_type": "stream",
     "text": [
      "Epoch 13: 100%|██████████| 355/355 [00:31<00:00, 11.40batch/s, loss_decrease=1.0000016004951366]\n",
      "100%|██████████| 630/630 [00:06<00:00, 95.55batch/s] \n"
     ]
    },
    {
     "data": {
      "text/html": [
       "<div>\n",
       "<style scoped>\n",
       "    .dataframe tbody tr th:only-of-type {\n",
       "        vertical-align: middle;\n",
       "    }\n",
       "\n",
       "    .dataframe tbody tr th {\n",
       "        vertical-align: top;\n",
       "    }\n",
       "\n",
       "    .dataframe thead tr th {\n",
       "        text-align: left;\n",
       "    }\n",
       "</style>\n",
       "<table border=\"1\" class=\"dataframe\">\n",
       "  <thead>\n",
       "    <tr>\n",
       "      <th></th>\n",
       "      <th colspan=\"2\" halign=\"left\">All</th>\n",
       "      <th colspan=\"2\" halign=\"left\">In VOC</th>\n",
       "      <th colspan=\"2\" halign=\"left\">Out of VOC</th>\n",
       "    </tr>\n",
       "    <tr>\n",
       "      <th></th>\n",
       "      <th>f1 micro</th>\n",
       "      <th>f1 macro</th>\n",
       "      <th>f1 micro</th>\n",
       "      <th>f1 macro</th>\n",
       "      <th>f1 micro</th>\n",
       "      <th>f1 macro</th>\n",
       "    </tr>\n",
       "  </thead>\n",
       "  <tbody>\n",
       "    <tr>\n",
       "      <th>score</th>\n",
       "      <td>0.849206</td>\n",
       "      <td>0.615788</td>\n",
       "      <td>0.85327</td>\n",
       "      <td>0.631803</td>\n",
       "      <td>0.0</td>\n",
       "      <td>0.0</td>\n",
       "    </tr>\n",
       "  </tbody>\n",
       "</table>\n",
       "</div>"
      ],
      "text/plain": [
       "            All             In VOC           Out of VOC         \n",
       "       f1 micro  f1 macro f1 micro  f1 macro   f1 micro f1 macro\n",
       "score  0.849206  0.615788  0.85327  0.631803        0.0      0.0"
      ]
     },
     "metadata": {},
     "output_type": "display_data"
    },
    {
     "name": "stdout",
     "output_type": "stream",
     "text": [
      "EarlyStopping counter: 6 out of 7\n"
     ]
    },
    {
     "name": "stderr",
     "output_type": "stream",
     "text": [
      "Epoch 14: 100%|██████████| 355/355 [00:32<00:00, 11.02batch/s, loss_decrease=1.0000016004951366]\n",
      "100%|██████████| 630/630 [00:06<00:00, 94.93batch/s] \n"
     ]
    },
    {
     "data": {
      "text/html": [
       "<div>\n",
       "<style scoped>\n",
       "    .dataframe tbody tr th:only-of-type {\n",
       "        vertical-align: middle;\n",
       "    }\n",
       "\n",
       "    .dataframe tbody tr th {\n",
       "        vertical-align: top;\n",
       "    }\n",
       "\n",
       "    .dataframe thead tr th {\n",
       "        text-align: left;\n",
       "    }\n",
       "</style>\n",
       "<table border=\"1\" class=\"dataframe\">\n",
       "  <thead>\n",
       "    <tr>\n",
       "      <th></th>\n",
       "      <th colspan=\"2\" halign=\"left\">All</th>\n",
       "      <th colspan=\"2\" halign=\"left\">In VOC</th>\n",
       "      <th colspan=\"2\" halign=\"left\">Out of VOC</th>\n",
       "    </tr>\n",
       "    <tr>\n",
       "      <th></th>\n",
       "      <th>f1 micro</th>\n",
       "      <th>f1 macro</th>\n",
       "      <th>f1 micro</th>\n",
       "      <th>f1 macro</th>\n",
       "      <th>f1 micro</th>\n",
       "      <th>f1 macro</th>\n",
       "    </tr>\n",
       "  </thead>\n",
       "  <tbody>\n",
       "    <tr>\n",
       "      <th>score</th>\n",
       "      <td>0.828571</td>\n",
       "      <td>0.573159</td>\n",
       "      <td>0.832536</td>\n",
       "      <td>0.587425</td>\n",
       "      <td>0.0</td>\n",
       "      <td>0.0</td>\n",
       "    </tr>\n",
       "  </tbody>\n",
       "</table>\n",
       "</div>"
      ],
      "text/plain": [
       "            All              In VOC           Out of VOC         \n",
       "       f1 micro  f1 macro  f1 micro  f1 macro   f1 micro f1 macro\n",
       "score  0.828571  0.573159  0.832536  0.587425        0.0      0.0"
      ]
     },
     "metadata": {},
     "output_type": "display_data"
    },
    {
     "name": "stdout",
     "output_type": "stream",
     "text": [
      "EarlyStopping counter: 7 out of 7\n",
      "Early stopping\n",
      "Evaluating on test dataset\n"
     ]
    },
    {
     "name": "stderr",
     "output_type": "stream",
     "text": [
      "100%|██████████| 1573/1573 [00:15<00:00, 101.67batch/s]\n"
     ]
    },
    {
     "data": {
      "text/html": [
       "<div>\n",
       "<style scoped>\n",
       "    .dataframe tbody tr th:only-of-type {\n",
       "        vertical-align: middle;\n",
       "    }\n",
       "\n",
       "    .dataframe tbody tr th {\n",
       "        vertical-align: top;\n",
       "    }\n",
       "\n",
       "    .dataframe thead tr th {\n",
       "        text-align: left;\n",
       "    }\n",
       "</style>\n",
       "<table border=\"1\" class=\"dataframe\">\n",
       "  <thead>\n",
       "    <tr>\n",
       "      <th></th>\n",
       "      <th colspan=\"2\" halign=\"left\">All</th>\n",
       "      <th colspan=\"2\" halign=\"left\">In VOC</th>\n",
       "      <th colspan=\"2\" halign=\"left\">Out of VOC</th>\n",
       "    </tr>\n",
       "    <tr>\n",
       "      <th></th>\n",
       "      <th>f1 micro</th>\n",
       "      <th>f1 macro</th>\n",
       "      <th>f1 micro</th>\n",
       "      <th>f1 macro</th>\n",
       "      <th>f1 micro</th>\n",
       "      <th>f1 macro</th>\n",
       "    </tr>\n",
       "  </thead>\n",
       "  <tbody>\n",
       "    <tr>\n",
       "      <th>score</th>\n",
       "      <td>0.837254</td>\n",
       "      <td>0.49156</td>\n",
       "      <td>0.844772</td>\n",
       "      <td>0.534695</td>\n",
       "      <td>0.0</td>\n",
       "      <td>0.0</td>\n",
       "    </tr>\n",
       "  </tbody>\n",
       "</table>\n",
       "</div>"
      ],
      "text/plain": [
       "            All             In VOC           Out of VOC         \n",
       "       f1 micro f1 macro  f1 micro  f1 macro   f1 micro f1 macro\n",
       "score  0.837254  0.49156  0.844772  0.534695        0.0      0.0"
      ]
     },
     "metadata": {},
     "output_type": "display_data"
    },
    {
     "data": {
      "text/html": [
       "<div>\n",
       "<style scoped>\n",
       "    .dataframe tbody tr th:only-of-type {\n",
       "        vertical-align: middle;\n",
       "    }\n",
       "\n",
       "    .dataframe tbody tr th {\n",
       "        vertical-align: top;\n",
       "    }\n",
       "\n",
       "    .dataframe thead tr th {\n",
       "        text-align: left;\n",
       "    }\n",
       "</style>\n",
       "<table border=\"1\" class=\"dataframe\">\n",
       "  <thead>\n",
       "    <tr>\n",
       "      <th></th>\n",
       "      <th colspan=\"2\" halign=\"left\">All</th>\n",
       "      <th colspan=\"2\" halign=\"left\">In VOC</th>\n",
       "      <th colspan=\"2\" halign=\"left\">Out of VOC</th>\n",
       "    </tr>\n",
       "    <tr>\n",
       "      <th></th>\n",
       "      <th>f1 micro</th>\n",
       "      <th>f1 macro</th>\n",
       "      <th>f1 micro</th>\n",
       "      <th>f1 macro</th>\n",
       "      <th>f1 micro</th>\n",
       "      <th>f1 macro</th>\n",
       "    </tr>\n",
       "  </thead>\n",
       "  <tbody>\n",
       "    <tr>\n",
       "      <th>mean score</th>\n",
       "      <td>0.846231</td>\n",
       "      <td>0.543905</td>\n",
       "      <td>0.851791</td>\n",
       "      <td>0.575738</td>\n",
       "      <td>0.071429</td>\n",
       "      <td>0.040908</td>\n",
       "    </tr>\n",
       "    <tr>\n",
       "      <th>std</th>\n",
       "      <td>0.006787</td>\n",
       "      <td>0.027927</td>\n",
       "      <td>0.006924</td>\n",
       "      <td>0.021902</td>\n",
       "      <td>0.063888</td>\n",
       "      <td>0.035263</td>\n",
       "    </tr>\n",
       "  </tbody>\n",
       "</table>\n",
       "</div>"
      ],
      "text/plain": [
       "                 All              In VOC           Out of VOC          \n",
       "            f1 micro  f1 macro  f1 micro  f1 macro   f1 micro  f1 macro\n",
       "mean score  0.846231  0.543905  0.851791  0.575738   0.071429  0.040908\n",
       "std         0.006787  0.027927  0.006924  0.021902   0.063888  0.035263"
      ]
     },
     "execution_count": 8,
     "metadata": {},
     "output_type": "execute_result"
    }
   ],
   "source": [
    "from tqdm import trange\n",
    "from tqdm import tqdm\n",
    "from sklearn.metrics import classification_report, f1_score\n",
    "from evaluator import Evaluator\n",
    "import numpy as np\n",
    "import torch.optim as optim\n",
    "import torch.nn as nn\n",
    "import torch\n",
    "import numpy as np\n",
    "from tools.pytorchtools import EarlyStopping\n",
    "import pandas as pd\n",
    "from torch.optim.lr_scheduler import CyclicLR\n",
    "from dataset import *\n",
    "from models import CADEC_SoTa\n",
    "\n",
    "#Гиперпараметры\n",
    "batch_size=16\n",
    "epochs = 50\n",
    "\n",
    "all_splits_score_dfs = []\n",
    "\n",
    "input_format = 'phrases' if not ADD_CONTEXT else 'sentences'\n",
    "\n",
    "for fold_num in range(1, n_splits+1):\n",
    "    print('Сплит %s'%fold_num)\n",
    "    torch.manual_seed(0)\n",
    "    np.random.seed(0)\n",
    "    best_model_path = './Model_weights/rubert_int_test_size_033_es_split_%s.pt'%fold_num\n",
    "    \n",
    "    #фразы могут быть с контекстом или без контекста, в зависимости от флага ADD_CONTEXT\n",
    "    train_phrases, train_concepts = all_splits[fold_num]['train'][input_format], all_splits[fold_num]['train']['concepts']\n",
    "    val_phrases, val_concepts = all_splits[fold_num]['validation'][input_format], all_splits[fold_num]['validation']['concepts']\n",
    "    test_phrases, test_concepts = all_splits[fold_num]['test'][input_format], all_splits[fold_num]['test']['concepts']\n",
    "    \n",
    "    if not ADD_CONTEXT:\n",
    "        ds_train = MedNormDataset(train_phrases, train_concepts, CV, use_cuda=USE_CUDA)\n",
    "        ds_test = MedNormDataset(test_phrases, test_concepts, CV, use_cuda=USE_CUDA)\n",
    "        ds_val = MedNormDataset(val_phrases, val_concepts, CV, use_cuda=USE_CUDA)\n",
    "    else:\n",
    "        ds_train = MedNormContextDataset(train_phrases, train_concepts, CV, use_cuda=USE_CUDA)\n",
    "        ds_test = MedNormContextDataset(test_phrases, test_concepts, CV, use_cuda=USE_CUDA)\n",
    "        ds_val = MedNormContextDataset(val_phrases, val_concepts, CV, use_cuda=USE_CUDA)\n",
    "        \n",
    "    #net = CADEC_SoTa(transformer_model_path, CV.thesaurus_embeddings)\n",
    "    #перемещение модели на вычислительные мощности, либо cpu, либо cuda\n",
    "    net = torch.load('./Model_weights/rubert_only_additional_corp_v2_30ep.pt')\n",
    "    device = 'cuda' if USE_CUDA else 'cpu'\n",
    "    net.to(device)\n",
    "    \n",
    "    criterion = nn.CrossEntropyLoss()\n",
    "    optimizer = optim.AdamW(net.parameters(), lr=0.0002) #, cycle_momentum=True\n",
    "    if USE_CYCLR:\n",
    "        scheduler = CyclicLR(optimizer, base_lr=0.00002, max_lr=0.0002, cycle_momentum=False)\n",
    "    scaler = torch.cuda.amp.GradScaler()\n",
    "    early_stopping = EarlyStopping(path=best_model_path, mode='max', verbose=True)\n",
    "\n",
    "    trainloader = torch.utils.data.DataLoader(ds_train, batch_size=batch_size,\n",
    "                                              shuffle=False, num_workers=0)\n",
    "    testloader = torch.utils.data.DataLoader(ds_test, batch_size=1, shuffle=False)\n",
    "    valloader = torch.utils.data.DataLoader(ds_val, batch_size=1, shuffle=False)\n",
    "\n",
    "    valid_evaluator = Evaluator(train_concepts, val_concepts)\n",
    "    test_evaluator = Evaluator(train_concepts, test_concepts)\n",
    "\n",
    "    initial_loss = None\n",
    "\n",
    "    for epoch in range(1, epochs+1):\n",
    "        #обучение модели в эпохе\n",
    "        net.train()\n",
    "        with tqdm(trainloader, unit=\"batch\") as tepoch:\n",
    "            for data in tepoch:\n",
    "\n",
    "                tepoch.set_description(f\"Epoch {epoch}\")\n",
    "\n",
    "                inputs = data['tokenized_phrases']\n",
    "                labels = data['one_hot_labels']\n",
    "\n",
    "                optimizer.zero_grad()\n",
    "                if USE_CYCLR:\n",
    "                    with torch.cuda.amp.autocast():\n",
    "                        outputs = net(inputs)['output']\n",
    "                        loss = criterion(outputs, labels)\n",
    "                    scaler.scale(loss).backward()\n",
    "                    scaler.step(optimizer)\n",
    "                    if CYCLIC_LR:\n",
    "                        scheduler.step()\n",
    "                    scaler.update()\n",
    "                else:\n",
    "                    outputs = net(inputs)['output']\n",
    "                    loss = criterion(outputs, labels)\n",
    "                    loss.backward()\n",
    "                    optimizer.step()\n",
    "                    if USE_CYCLR:\n",
    "                        scheduler.step()\n",
    "                if initial_loss is None:\n",
    "                    initial_loss = loss.item()\n",
    "                tepoch.set_postfix(loss_decrease = str(initial_loss/loss.item()))\n",
    "        #расчет точностей модели после эпохи\n",
    "        net.eval()\n",
    "        model_answers=[]\n",
    "        with tqdm(valloader, unit=\"batch\") as eval_process:\n",
    "            for data in eval_process:\n",
    "\n",
    "                inputs = data['tokenized_phrases']\n",
    "\n",
    "                with torch.no_grad():\n",
    "                    outputs_dict = net(inputs)\n",
    "                    pred_meddra_code = CV.meddra_codes[outputs_dict['output'].argmax()]\n",
    "\n",
    "                model_answers.append(pred_meddra_code)\n",
    "\n",
    "        valid_evaluator.get_all_f1_scores(model_answers)\n",
    "        early_stopping(valid_evaluator.f1_scores_df['All']['f1 macro']['score'], net)\n",
    "        if early_stopping.early_stop:\n",
    "            print(\"Early stopping\")\n",
    "            break\n",
    "    net.load_state_dict(torch.load(best_model_path))\n",
    "\n",
    "\n",
    "\n",
    "    print('Evaluating on test dataset')\n",
    "    net.eval()\n",
    "    model_answers=[]\n",
    "    with tqdm(testloader, unit=\"batch\") as eval_process:\n",
    "        for data in eval_process:\n",
    "\n",
    "            inputs = data['tokenized_phrases']\n",
    "\n",
    "            with torch.no_grad():\n",
    "                outputs_dict = net(inputs)\n",
    "                pred_meddra_code = CV.meddra_codes[outputs_dict['output'].argmax()]\n",
    "\n",
    "            model_answers.append(pred_meddra_code)\n",
    "\n",
    "        test_evaluator.get_all_f1_scores(model_answers)\n",
    "    all_splits_score_dfs.append(test_evaluator.f1_scores_df)\n",
    "\n",
    "columns_tuples = [('All', 'f1 micro'), \n",
    "                 ('All', 'f1 macro'),\n",
    "\n",
    "                 ('In VOC', 'f1 micro'), \n",
    "                 ('In VOC', 'f1 macro'),\n",
    "\n",
    "                 ('Out of VOC', 'f1 micro'), \n",
    "                 ('Out of VOC', 'f1 macro')]\n",
    "col_index = pd.MultiIndex.from_tuples(columns_tuples)\n",
    "f1_mean_scores_df = pd.DataFrame(columns=col_index, index=['mean score', 'std'])\n",
    "f1_mean_scores_df.loc['std', :] = np.std(np.array(all_splits_score_dfs), axis = 0)\n",
    "f1_mean_scores_df.loc['mean score', :] = np.mean(np.array(all_splits_score_dfs), axis = 0)\n",
    "f1_mean_scores_df"
   ]
  },
  {
   "cell_type": "markdown",
   "id": "sticky-membership",
   "metadata": {},
   "source": [
    "<h2>SRoberta, Roberta на упоминаниях CADEC, которые содержат общие с корпусом RDRS PT коды</h2>"
   ]
  },
  {
   "cell_type": "code",
   "execution_count": null,
   "id": "controlling-union",
   "metadata": {},
   "outputs": [],
   "source": [
    "df = pd.read_csv('../../Data/CADEC_intersection_part.csv')\n",
    "df = df[df['pt_id']!='CONCEPT_LESS']\n",
    "df['pt_id'] =  df['meddra'].apply(lambda x: str(x).split('|')[0])\n",
    "mask = df['pt_id'].apply(lambda x: True if x in CV.meddra_codes else False)\n",
    "df = df[mask]\n",
    "\n",
    "folds = []\n",
    "#df['pt_id'] = df['pt_id'].apply(lambda x: str(x))\n",
    "concepts = df['pt_id'].to_list()\n",
    "terms = df['phrase'].to_list()\n",
    "\n",
    "for train_index, test_index in kf.split(df['phrase']):\n",
    "    train_phrases = list(terms[train_index])\n",
    "    test_phrases = list(terms[test_index])\n",
    "    train_concepts = list(concepts[train_index])\n",
    "    test_concepts = list(concepts[test_index])\n",
    "    folds.append([[train_phrases, train_concepts], [test_phrases, test_concepts]])"
   ]
  },
  {
   "cell_type": "code",
   "execution_count": null,
   "id": "strategic-catholic",
   "metadata": {},
   "outputs": [],
   "source": [
    "for fold_num in range(0, n_splits):\n",
    "    print('exp: %s\\n'%fold_num)\n",
    "    train_phrases, train_concepts = list(folds[fold_num][0][0]), list(folds[fold_num][0][1])\n",
    "    test_phrases, test_concepts = list(folds[fold_num][1][0]), list(folds[fold_num][1][1])\n",
    "\n",
    "    ds_train = MedNormDataset(train_phrases, train_concepts, CV, use_cuda=True)\n",
    "    ds_test = MedNormDataset(test_phrases, test_concepts, CV, use_cuda=True)\n",
    "\n",
    "    torch.manual_seed(0)\n",
    "    np.random.seed(0)\n",
    "    \n",
    "    net = CADEC_SoTa(transformer_model_path, torch.tensor(CV.thesaurus_embeddings))\n",
    "    #перемещение модели на вычислительные мощности, либо cpu, либо cuda\n",
    "    device = 'cuda' if USE_CUDA else 'cpu'\n",
    "    net.to(device)\n",
    "    print('Net loaded')\n",
    "    criterion = nn.CrossEntropyLoss()\n",
    "    optimizer = optim.AdamW(net.parameters(), lr=0.0001) #, cycle_momentum=True\n",
    "\n",
    "    scaler = torch.cuda.amp.GradScaler()\n",
    "    evaluator = Evaluator(train_concepts, test_concepts)\n",
    "    \n",
    "    trainloader = torch.utils.data.DataLoader(ds_train, batch_size=batch_size,\n",
    "                                          shuffle=False, num_workers=0)\n",
    "    testloader = torch.utils.data.DataLoader(ds_test, batch_size=1, shuffle=False)\n",
    "\n",
    "\n",
    "    initial_loss = None\n",
    "\n",
    "    for epoch in range(1, epochs+1):\n",
    "        #обучение модели в эпохе\n",
    "        net.train()\n",
    "        with tqdm(trainloader, unit=\"batch\") as tepoch:\n",
    "            for data in tepoch:\n",
    "\n",
    "                tepoch.set_description(f\"Epoch {epoch}\")\n",
    "\n",
    "                inputs = data['tokenized_phrases']\n",
    "                labels = data['one_hot_labels']\n",
    "\n",
    "                optimizer.zero_grad()\n",
    "                if USE_CUDA=='cuda':\n",
    "                    with torch.cuda.amp.autocast():\n",
    "                        outputs = net(inputs)['output']\n",
    "                        loss = criterion(outputs, labels)\n",
    "                    scaler.scale(loss).backward()\n",
    "                    scaler.step(optimizer)\n",
    "                    scaler.update()\n",
    "                else:\n",
    "                    outputs = net(inputs)['output']\n",
    "                    loss = criterion(outputs, labels)\n",
    "                    loss.backward()\n",
    "                    optimizer.step()\n",
    "                if initial_loss is None:\n",
    "                    initial_loss = loss.item()\n",
    "                tepoch.set_postfix(loss_decrease = str(initial_loss/loss.item()))\n",
    "    #расчет точностей модели после эпохи\n",
    "    net.eval()\n",
    "    model_answers=[]\n",
    "    real_answers=[]\n",
    "    with tqdm(testloader, unit=\"batch\") as eval_process:\n",
    "        for data in eval_process:\n",
    "\n",
    "            inputs = data['tokenized_phrases']\n",
    "\n",
    "            with torch.no_grad():\n",
    "                outputs_dict = net(inputs)\n",
    "                pred_meddra_code = CV.meddra_codes[outputs_dict['output'].argmax()]\n",
    "\n",
    "\n",
    "            model_answers.append(pred_meddra_code)\n",
    "            real_answers.append(data['label_codes'][0])\n",
    "    evaluator.get_all_f1_scores(model_answers)"
   ]
  },
  {
   "cell_type": "code",
   "execution_count": 20,
   "id": "official-above",
   "metadata": {},
   "outputs": [],
   "source": [
    "all_res = [[0.745816,  0.282695,  0.787387,  0.380494,   0.008475,  0.005435],\n",
    " [0.760033,  0.30586,  0.801036,  0.418271,        0.0,      0], \n",
    " [0.751041,  0.302117,  0.795414,  0.404055,        0.0,      0.0], \n",
    " [0.729866,  0.251004,  0.77186,  0.342622,   0.007634,  0.00319], \n",
    " [0.713244,  0.267209,  0.755146,  0.374987,        0.0,     0.0]]"
   ]
  },
  {
   "cell_type": "code",
   "execution_count": 22,
   "id": "coupled-specific",
   "metadata": {},
   "outputs": [
    {
     "data": {
      "text/html": [
       "<div>\n",
       "<style scoped>\n",
       "    .dataframe tbody tr th:only-of-type {\n",
       "        vertical-align: middle;\n",
       "    }\n",
       "\n",
       "    .dataframe tbody tr th {\n",
       "        vertical-align: top;\n",
       "    }\n",
       "\n",
       "    .dataframe thead tr th {\n",
       "        text-align: left;\n",
       "    }\n",
       "</style>\n",
       "<table border=\"1\" class=\"dataframe\">\n",
       "  <thead>\n",
       "    <tr>\n",
       "      <th></th>\n",
       "      <th colspan=\"2\" halign=\"left\">All</th>\n",
       "      <th colspan=\"2\" halign=\"left\">In VOC</th>\n",
       "      <th colspan=\"2\" halign=\"left\">Out of VOC</th>\n",
       "    </tr>\n",
       "    <tr>\n",
       "      <th></th>\n",
       "      <th>f1 micro</th>\n",
       "      <th>f1 macro</th>\n",
       "      <th>f1 micro</th>\n",
       "      <th>f1 macro</th>\n",
       "      <th>f1 micro</th>\n",
       "      <th>f1 macro</th>\n",
       "    </tr>\n",
       "  </thead>\n",
       "  <tbody>\n",
       "    <tr>\n",
       "      <th>mean score</th>\n",
       "      <td>0.74</td>\n",
       "      <td>0.281777</td>\n",
       "      <td>0.782169</td>\n",
       "      <td>0.384086</td>\n",
       "      <td>0.003222</td>\n",
       "      <td>0.001725</td>\n",
       "    </tr>\n",
       "    <tr>\n",
       "      <th>std</th>\n",
       "      <td>0.016587</td>\n",
       "      <td>0.020755</td>\n",
       "      <td>0.016704</td>\n",
       "      <td>0.026009</td>\n",
       "      <td>0.003955</td>\n",
       "      <td>0.002229</td>\n",
       "    </tr>\n",
       "  </tbody>\n",
       "</table>\n",
       "</div>"
      ],
      "text/plain": [
       "                 All              In VOC           Out of VOC          \n",
       "            f1 micro  f1 macro  f1 micro  f1 macro   f1 micro  f1 macro\n",
       "mean score      0.74  0.281777  0.782169  0.384086   0.003222  0.001725\n",
       "std         0.016587  0.020755  0.016704  0.026009   0.003955  0.002229"
      ]
     },
     "execution_count": 22,
     "metadata": {},
     "output_type": "execute_result"
    }
   ],
   "source": [
    "import numpy as np\n",
    "import pandas as pd\n",
    "\n",
    "columns_tuples = [('All', 'f1 micro'), \n",
    "                 ('All', 'f1 macro'),\n",
    "\n",
    "                 ('In VOC', 'f1 micro'), \n",
    "                 ('In VOC', 'f1 macro'),\n",
    "\n",
    "                 ('Out of VOC', 'f1 micro'), \n",
    "                 ('Out of VOC', 'f1 macro')]\n",
    "col_index = pd.MultiIndex.from_tuples(columns_tuples)\n",
    "f1_mean_scores_df = pd.DataFrame(columns=col_index, index=['mean score', 'std'])\n",
    "f1_mean_scores_df.loc['std', :] = np.std(np.array(all_res), axis = 0)\n",
    "f1_mean_scores_df.loc['mean score', :] = np.mean(np.array(all_res), axis = 0)\n",
    "f1_mean_scores_df"
   ]
  },
  {
   "cell_type": "code",
   "execution_count": null,
   "id": "material-worry",
   "metadata": {},
   "outputs": [],
   "source": []
  }
 ],
 "metadata": {
  "kernelspec": {
   "display_name": "normalization env",
   "language": "python",
   "name": "latest_torch"
  },
  "language_info": {
   "codemirror_mode": {
    "name": "ipython",
    "version": 3
   },
   "file_extension": ".py",
   "mimetype": "text/x-python",
   "name": "python",
   "nbconvert_exporter": "python",
   "pygments_lexer": "ipython3",
   "version": "3.9.9"
  }
 },
 "nbformat": 4,
 "nbformat_minor": 5
}
