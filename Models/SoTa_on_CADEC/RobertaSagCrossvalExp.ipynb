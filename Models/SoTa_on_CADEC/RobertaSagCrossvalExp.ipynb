{
 "cells": [
  {
   "cell_type": "markdown",
   "id": "infectious-dominican",
   "metadata": {},
   "source": [
    "<h3>Глобальные переменные</h3>"
   ]
  },
  {
   "cell_type": "code",
   "execution_count": 1,
   "id": "hired-deadline",
   "metadata": {},
   "outputs": [],
   "source": [
    "transformer_model_path = 'sagteam/xlm-roberta-large-sag'#'sagteam/xlm-roberta-large-sag'\n",
    "USE_CUDA = True\n",
    "ADD_CONTEXT = False"
   ]
  },
  {
   "cell_type": "markdown",
   "id": "active-lodging",
   "metadata": {},
   "source": [
    "<h3>Векторизуем словарь Meddra</h3>"
   ]
  },
  {
   "cell_type": "code",
   "execution_count": 2,
   "id": "global-trader",
   "metadata": {},
   "outputs": [],
   "source": [
    "from vectorization import ConceptVectorizer"
   ]
  },
  {
   "cell_type": "code",
   "execution_count": 3,
   "id": "tender-smooth",
   "metadata": {},
   "outputs": [],
   "source": [
    "#альтернатива\n",
    "CV = ConceptVectorizer(transformer_model_path, '../../Data/External/pt_rus.asc', \\\n",
    "                             use_concept_less=False, use_model=False, use_cuda=USE_CUDA)\n",
    "CV_with_conceptless = ConceptVectorizer(transformer_model_path, '../../Data/External/pt_rus.asc', \\\n",
    "                             use_concept_less=True, use_model=False, use_cuda=USE_CUDA)"
   ]
  },
  {
   "cell_type": "markdown",
   "id": "tribal-stanley",
   "metadata": {},
   "source": [
    "Расчет вложений словаря"
   ]
  },
  {
   "cell_type": "code",
   "execution_count": 4,
   "id": "published-genealogy",
   "metadata": {},
   "outputs": [
    {
     "name": "stdout",
     "output_type": "stream",
     "text": [
      "getting concept embeddings in mean_pooling mode...\n",
      "moving to cuda... device name cuda:0\n",
      "Compute embeddings...\n"
     ]
    },
    {
     "name": "stderr",
     "output_type": "stream",
     "text": [
      "100%|██████████| 25077/25077 [08:21<00:00, 50.02it/s]\n"
     ]
    },
    {
     "name": "stdout",
     "output_type": "stream",
     "text": [
      "Embedding aggregation...\n",
      "Concept embeddings have computed in 501.371141910553 seconds\n"
     ]
    }
   ],
   "source": [
    "#используется только для векторизации словаря\n",
    "#когда вектора готовы, проще их загрузить ячейкой с загрузкой\n",
    "CV_train.fit_transform(mode='mean_pooling')"
   ]
  },
  {
   "cell_type": "markdown",
   "id": "distinguished-substance",
   "metadata": {},
   "source": [
    "Сохранение рассчитанных векторов концептов"
   ]
  },
  {
   "cell_type": "code",
   "execution_count": 5,
   "id": "oriented-perry",
   "metadata": {},
   "outputs": [],
   "source": [
    "import torch\n",
    "\n",
    "torch.save(CV_train.thesaurus_embeddings, './Model_weights/xlmrobertasag_thesaurus_embeddings.pt')"
   ]
  },
  {
   "cell_type": "markdown",
   "id": "recorded-cover",
   "metadata": {},
   "source": [
    "Загрузка готовых вложений (если они есть). Загружать вложения после fit_transform() не надо"
   ]
  },
  {
   "cell_type": "code",
   "execution_count": 4,
   "id": "specialized-graduation",
   "metadata": {},
   "outputs": [],
   "source": [
    "import torch\n",
    "\n",
    "CV.thesaurus_embeddings = torch.load('./Model_weights/xlmrobertasag_thesaurus_embeddings.pt')\n",
    "CV.normalization_mode = 'mean_pooling'"
   ]
  },
  {
   "cell_type": "code",
   "execution_count": 5,
   "id": "massive-border",
   "metadata": {},
   "outputs": [
    {
     "data": {
      "text/plain": [
       "torch.Size([25077, 1024])"
      ]
     },
     "execution_count": 5,
     "metadata": {},
     "output_type": "execute_result"
    }
   ],
   "source": [
    "CV.thesaurus_embeddings.size()"
   ]
  },
  {
   "cell_type": "markdown",
   "id": "atmospheric-nevada",
   "metadata": {},
   "source": [
    "<h3>Обработка датасета RDRS</h3>"
   ]
  },
  {
   "cell_type": "code",
   "execution_count": 6,
   "id": "objective-nancy",
   "metadata": {},
   "outputs": [],
   "source": [
    "from tools.parse_RDRS import *\n",
    "from sklearn.model_selection import KFold"
   ]
  },
  {
   "cell_type": "code",
   "execution_count": 7,
   "id": "rational-burton",
   "metadata": {},
   "outputs": [
    {
     "name": "stdout",
     "output_type": "stream",
     "text": [
      "Сплит 1\n",
      "Всего фраз в трейне: 8194\n",
      "Всего фраз в тесте: 2211\n",
      "Уникальных фраз в трейне: 4452\n",
      "Уникальных фраз в тесте: 1390\n",
      "568 концептов не входящих либо в трейн, либо в тест\n",
      "96 концептов, которые есть в тесте, но нет в трейне\n",
      "472 концептов, которые есть в трейне, но нет в тесте\n",
      "\n",
      "\n",
      "Сплит 2\n",
      "Всего фраз в трейне: 8021\n",
      "Всего фраз в тесте: 2442\n",
      "Уникальных фраз в трейне: 4371\n",
      "Уникальных фраз в тесте: 1544\n",
      "546 концептов не входящих либо в трейн, либо в тест\n",
      "100 концептов, которые есть в тесте, но нет в трейне\n",
      "446 концептов, которые есть в трейне, но нет в тесте\n",
      "\n",
      "\n",
      "Сплит 3\n",
      "Всего фраз в трейне: 8134\n",
      "Всего фраз в тесте: 2402\n",
      "Уникальных фраз в трейне: 4444\n",
      "Уникальных фраз в тесте: 1488\n",
      "578 концептов не входящих либо в трейн, либо в тест\n",
      "93 концептов, которые есть в тесте, но нет в трейне\n",
      "485 концептов, которые есть в трейне, но нет в тесте\n",
      "\n",
      "\n",
      "Сплит 4\n",
      "Всего фраз в трейне: 8116\n",
      "Всего фраз в тесте: 2384\n",
      "Уникальных фраз в трейне: 4385\n",
      "Уникальных фраз в тесте: 1541\n",
      "542 концептов не входящих либо в трейн, либо в тест\n",
      "108 концептов, которые есть в тесте, но нет в трейне\n",
      "434 концептов, которые есть в трейне, но нет в тесте\n",
      "\n",
      "\n",
      "Сплит 5\n",
      "Всего фраз в трейне: 8031\n",
      "Всего фраз в тесте: 2469\n",
      "Уникальных фраз в трейне: 4311\n",
      "Уникальных фраз в тесте: 1607\n",
      "558 концептов не входящих либо в трейн, либо в тест\n",
      "111 концептов, которые есть в тесте, но нет в трейне\n",
      "447 концептов, которые есть в трейне, но нет в тесте\n",
      "\n",
      "\n"
     ]
    }
   ],
   "source": [
    "RDRS_path = '../../Data/Raw/medNorm_16022022.jsonlines'\n",
    "ds = np.array(parse_RDRS(RDRS_path))\n",
    "\n",
    "n_splits = 5\n",
    "kf = KFold(n_splits=n_splits, random_state=42, shuffle=True)\n",
    "folds = []\n",
    "\n",
    "all_splits = {}\n",
    "\n",
    "id_folds=1\n",
    "for train_index, test_index in kf.split(ds):\n",
    "    X_test = ds[test_index]\n",
    "    X_train = ds[train_index]\n",
    "    X_train, X_val = train_test_split(X_train, test_size=0.15, random_state=42)\n",
    "\n",
    "    ds_parsed, errors = parse_json_ds(X_train=X_train, \\\n",
    "                                 X_val=X_val, \\\n",
    "                                 X_test=X_test, \\\n",
    "                                 CV=CV, \\\n",
    "                                 CV_with_conceptless = CV_with_conceptless, \\\n",
    "                                 add_context=False)\n",
    "    \n",
    "    train_concepts, test_concepts = ds_parsed['train']['concepts'], ds_parsed['test']['concepts']\n",
    "    train_phrases, test_phrases = ds_parsed['train']['phrases'], ds_parsed['test']['phrases']\n",
    "    \n",
    "    all_splits[id_folds] = ds_parsed\n",
    "    \n",
    "    #Посмотрим на статистику разбиения\n",
    "    print('Сплит %s'%id_folds)\n",
    "    print('Всего фраз в трейне: %s'%len(train_phrases))\n",
    "    print('Всего фраз в тесте: %s'%len(test_phrases))\n",
    "\n",
    "    print('Уникальных фраз в трейне: %s'%len(set(train_phrases)))\n",
    "    print('Уникальных фраз в тесте: %s'%len(set(test_phrases)))\n",
    "    \n",
    "    print('%s концептов не входящих либо в трейн, либо в тест'%len(set.union(set(train_concepts), set(test_concepts)) - set.intersection(set(test_concepts), set(train_concepts))))\n",
    "    print('%s концептов, которые есть в тесте, но нет в трейне'%len(set(test_concepts) - set(train_concepts)))\n",
    "    print('%s концептов, которые есть в трейне, но нет в тесте'%len(set(train_concepts) - set(test_concepts)))\n",
    "    print('\\n')\n",
    "    id_folds+=1"
   ]
  },
  {
   "cell_type": "markdown",
   "id": "pharmaceutical-democrat",
   "metadata": {},
   "source": [
    "<h2>Roberta sag кроссвалидация с контекстом</h2>"
   ]
  },
  {
   "cell_type": "code",
   "execution_count": 10,
   "id": "constant-mouse",
   "metadata": {},
   "outputs": [
    {
     "name": "stdout",
     "output_type": "stream",
     "text": [
      "Сплит 1\n"
     ]
    },
    {
     "name": "stderr",
     "output_type": "stream",
     "text": [
      "Some weights of the model checkpoint at sagteam/xlm-roberta-large-sag were not used when initializing XLMRobertaModel: ['lm_head.decoder.weight', 'lm_head.dense.weight', 'lm_head.dense.bias', 'lm_head.bias', 'lm_head.layer_norm.bias', 'lm_head.decoder.bias', 'lm_head.layer_norm.weight']\n",
      "- This IS expected if you are initializing XLMRobertaModel from the checkpoint of a model trained on another task or with another architecture (e.g. initializing a BertForSequenceClassification model from a BertForPreTraining model).\n",
      "- This IS NOT expected if you are initializing XLMRobertaModel from the checkpoint of a model that you expect to be exactly identical (initializing a BertForSequenceClassification model from a BertForSequenceClassification model).\n",
      "Some weights of XLMRobertaModel were not initialized from the model checkpoint at sagteam/xlm-roberta-large-sag and are newly initialized: ['roberta.pooler.dense.bias', 'roberta.pooler.dense.weight']\n",
      "You should probably TRAIN this model on a down-stream task to be able to use it for predictions and inference.\n",
      "Epoch 1: 100%|██████████| 513/513 [01:43<00:00,  4.94batch/s, loss_decrease=1.0000003765853538]\n",
      "100%|██████████| 1503/1503 [00:34<00:00, 43.10batch/s]\n"
     ]
    },
    {
     "data": {
      "text/html": [
       "<div>\n",
       "<style scoped>\n",
       "    .dataframe tbody tr th:only-of-type {\n",
       "        vertical-align: middle;\n",
       "    }\n",
       "\n",
       "    .dataframe tbody tr th {\n",
       "        vertical-align: top;\n",
       "    }\n",
       "\n",
       "    .dataframe thead tr th {\n",
       "        text-align: left;\n",
       "    }\n",
       "</style>\n",
       "<table border=\"1\" class=\"dataframe\">\n",
       "  <thead>\n",
       "    <tr>\n",
       "      <th></th>\n",
       "      <th colspan=\"2\" halign=\"left\">All</th>\n",
       "      <th colspan=\"2\" halign=\"left\">In VOC</th>\n",
       "      <th colspan=\"2\" halign=\"left\">Out of VOC</th>\n",
       "    </tr>\n",
       "    <tr>\n",
       "      <th></th>\n",
       "      <th>f1 micro</th>\n",
       "      <th>f1 macro</th>\n",
       "      <th>f1 micro</th>\n",
       "      <th>f1 macro</th>\n",
       "      <th>f1 micro</th>\n",
       "      <th>f1 macro</th>\n",
       "    </tr>\n",
       "  </thead>\n",
       "  <tbody>\n",
       "    <tr>\n",
       "      <th>score</th>\n",
       "      <td>0.198935</td>\n",
       "      <td>0.043445</td>\n",
       "      <td>0.209711</td>\n",
       "      <td>0.053592</td>\n",
       "      <td>0.012195</td>\n",
       "      <td>0.011628</td>\n",
       "    </tr>\n",
       "  </tbody>\n",
       "</table>\n",
       "</div>"
      ],
      "text/plain": [
       "            All              In VOC           Out of VOC          \n",
       "       f1 micro  f1 macro  f1 micro  f1 macro   f1 micro  f1 macro\n",
       "score  0.198935  0.043445  0.209711  0.053592   0.012195  0.011628"
      ]
     },
     "metadata": {},
     "output_type": "display_data"
    },
    {
     "name": "stdout",
     "output_type": "stream",
     "text": [
      "Validation metric increased (-inf --> 0.043445).  Saving model ...\n"
     ]
    },
    {
     "name": "stderr",
     "output_type": "stream",
     "text": [
      "Epoch 2: 100%|██████████| 513/513 [01:44<00:00,  4.90batch/s, loss_decrease=1.000000564878137] \n",
      "100%|██████████| 1503/1503 [00:33<00:00, 44.56batch/s]\n"
     ]
    },
    {
     "data": {
      "text/html": [
       "<div>\n",
       "<style scoped>\n",
       "    .dataframe tbody tr th:only-of-type {\n",
       "        vertical-align: middle;\n",
       "    }\n",
       "\n",
       "    .dataframe tbody tr th {\n",
       "        vertical-align: top;\n",
       "    }\n",
       "\n",
       "    .dataframe thead tr th {\n",
       "        text-align: left;\n",
       "    }\n",
       "</style>\n",
       "<table border=\"1\" class=\"dataframe\">\n",
       "  <thead>\n",
       "    <tr>\n",
       "      <th></th>\n",
       "      <th colspan=\"2\" halign=\"left\">All</th>\n",
       "      <th colspan=\"2\" halign=\"left\">In VOC</th>\n",
       "      <th colspan=\"2\" halign=\"left\">Out of VOC</th>\n",
       "    </tr>\n",
       "    <tr>\n",
       "      <th></th>\n",
       "      <th>f1 micro</th>\n",
       "      <th>f1 macro</th>\n",
       "      <th>f1 micro</th>\n",
       "      <th>f1 macro</th>\n",
       "      <th>f1 micro</th>\n",
       "      <th>f1 macro</th>\n",
       "    </tr>\n",
       "  </thead>\n",
       "  <tbody>\n",
       "    <tr>\n",
       "      <th>score</th>\n",
       "      <td>0.343313</td>\n",
       "      <td>0.073324</td>\n",
       "      <td>0.362421</td>\n",
       "      <td>0.091521</td>\n",
       "      <td>0.012195</td>\n",
       "      <td>0.011364</td>\n",
       "    </tr>\n",
       "  </tbody>\n",
       "</table>\n",
       "</div>"
      ],
      "text/plain": [
       "            All              In VOC           Out of VOC          \n",
       "       f1 micro  f1 macro  f1 micro  f1 macro   f1 micro  f1 macro\n",
       "score  0.343313  0.073324  0.362421  0.091521   0.012195  0.011364"
      ]
     },
     "metadata": {},
     "output_type": "display_data"
    },
    {
     "name": "stdout",
     "output_type": "stream",
     "text": [
      "Validation metric increased (0.043445 --> 0.073324).  Saving model ...\n"
     ]
    },
    {
     "name": "stderr",
     "output_type": "stream",
     "text": [
      "Epoch 3: 100%|██████████| 513/513 [01:42<00:00,  5.03batch/s, loss_decrease=1.000000564878137] \n",
      "100%|██████████| 1503/1503 [00:30<00:00, 50.01batch/s]\n"
     ]
    },
    {
     "data": {
      "text/html": [
       "<div>\n",
       "<style scoped>\n",
       "    .dataframe tbody tr th:only-of-type {\n",
       "        vertical-align: middle;\n",
       "    }\n",
       "\n",
       "    .dataframe tbody tr th {\n",
       "        vertical-align: top;\n",
       "    }\n",
       "\n",
       "    .dataframe thead tr th {\n",
       "        text-align: left;\n",
       "    }\n",
       "</style>\n",
       "<table border=\"1\" class=\"dataframe\">\n",
       "  <thead>\n",
       "    <tr>\n",
       "      <th></th>\n",
       "      <th colspan=\"2\" halign=\"left\">All</th>\n",
       "      <th colspan=\"2\" halign=\"left\">In VOC</th>\n",
       "      <th colspan=\"2\" halign=\"left\">Out of VOC</th>\n",
       "    </tr>\n",
       "    <tr>\n",
       "      <th></th>\n",
       "      <th>f1 micro</th>\n",
       "      <th>f1 macro</th>\n",
       "      <th>f1 micro</th>\n",
       "      <th>f1 macro</th>\n",
       "      <th>f1 micro</th>\n",
       "      <th>f1 macro</th>\n",
       "    </tr>\n",
       "  </thead>\n",
       "  <tbody>\n",
       "    <tr>\n",
       "      <th>score</th>\n",
       "      <td>0.423154</td>\n",
       "      <td>0.110333</td>\n",
       "      <td>0.446165</td>\n",
       "      <td>0.135846</td>\n",
       "      <td>0.02439</td>\n",
       "      <td>0.020408</td>\n",
       "    </tr>\n",
       "  </tbody>\n",
       "</table>\n",
       "</div>"
      ],
      "text/plain": [
       "            All              In VOC           Out of VOC          \n",
       "       f1 micro  f1 macro  f1 micro  f1 macro   f1 micro  f1 macro\n",
       "score  0.423154  0.110333  0.446165  0.135846    0.02439  0.020408"
      ]
     },
     "metadata": {},
     "output_type": "display_data"
    },
    {
     "name": "stdout",
     "output_type": "stream",
     "text": [
      "Validation metric increased (0.073324 --> 0.110333).  Saving model ...\n"
     ]
    },
    {
     "name": "stderr",
     "output_type": "stream",
     "text": [
      "Epoch 4: 100%|██████████| 513/513 [01:41<00:00,  5.06batch/s, loss_decrease=1.0000007531709911]\n",
      "100%|██████████| 1503/1503 [00:29<00:00, 50.88batch/s]\n"
     ]
    },
    {
     "data": {
      "text/html": [
       "<div>\n",
       "<style scoped>\n",
       "    .dataframe tbody tr th:only-of-type {\n",
       "        vertical-align: middle;\n",
       "    }\n",
       "\n",
       "    .dataframe tbody tr th {\n",
       "        vertical-align: top;\n",
       "    }\n",
       "\n",
       "    .dataframe thead tr th {\n",
       "        text-align: left;\n",
       "    }\n",
       "</style>\n",
       "<table border=\"1\" class=\"dataframe\">\n",
       "  <thead>\n",
       "    <tr>\n",
       "      <th></th>\n",
       "      <th colspan=\"2\" halign=\"left\">All</th>\n",
       "      <th colspan=\"2\" halign=\"left\">In VOC</th>\n",
       "      <th colspan=\"2\" halign=\"left\">Out of VOC</th>\n",
       "    </tr>\n",
       "    <tr>\n",
       "      <th></th>\n",
       "      <th>f1 micro</th>\n",
       "      <th>f1 macro</th>\n",
       "      <th>f1 micro</th>\n",
       "      <th>f1 macro</th>\n",
       "      <th>f1 micro</th>\n",
       "      <th>f1 macro</th>\n",
       "    </tr>\n",
       "  </thead>\n",
       "  <tbody>\n",
       "    <tr>\n",
       "      <th>score</th>\n",
       "      <td>0.490353</td>\n",
       "      <td>0.140407</td>\n",
       "      <td>0.517241</td>\n",
       "      <td>0.175747</td>\n",
       "      <td>0.02439</td>\n",
       "      <td>0.020408</td>\n",
       "    </tr>\n",
       "  </tbody>\n",
       "</table>\n",
       "</div>"
      ],
      "text/plain": [
       "            All              In VOC           Out of VOC          \n",
       "       f1 micro  f1 macro  f1 micro  f1 macro   f1 micro  f1 macro\n",
       "score  0.490353  0.140407  0.517241  0.175747    0.02439  0.020408"
      ]
     },
     "metadata": {},
     "output_type": "display_data"
    },
    {
     "name": "stdout",
     "output_type": "stream",
     "text": [
      "Validation metric increased (0.110333 --> 0.140407).  Saving model ...\n"
     ]
    },
    {
     "name": "stderr",
     "output_type": "stream",
     "text": [
      "Epoch 5: 100%|██████████| 513/513 [01:40<00:00,  5.09batch/s, loss_decrease=1.0000008473174447]\n",
      "100%|██████████| 1503/1503 [00:29<00:00, 50.47batch/s]\n"
     ]
    },
    {
     "data": {
      "text/html": [
       "<div>\n",
       "<style scoped>\n",
       "    .dataframe tbody tr th:only-of-type {\n",
       "        vertical-align: middle;\n",
       "    }\n",
       "\n",
       "    .dataframe tbody tr th {\n",
       "        vertical-align: top;\n",
       "    }\n",
       "\n",
       "    .dataframe thead tr th {\n",
       "        text-align: left;\n",
       "    }\n",
       "</style>\n",
       "<table border=\"1\" class=\"dataframe\">\n",
       "  <thead>\n",
       "    <tr>\n",
       "      <th></th>\n",
       "      <th colspan=\"2\" halign=\"left\">All</th>\n",
       "      <th colspan=\"2\" halign=\"left\">In VOC</th>\n",
       "      <th colspan=\"2\" halign=\"left\">Out of VOC</th>\n",
       "    </tr>\n",
       "    <tr>\n",
       "      <th></th>\n",
       "      <th>f1 micro</th>\n",
       "      <th>f1 macro</th>\n",
       "      <th>f1 micro</th>\n",
       "      <th>f1 macro</th>\n",
       "      <th>f1 micro</th>\n",
       "      <th>f1 macro</th>\n",
       "    </tr>\n",
       "  </thead>\n",
       "  <tbody>\n",
       "    <tr>\n",
       "      <th>score</th>\n",
       "      <td>0.528942</td>\n",
       "      <td>0.153372</td>\n",
       "      <td>0.55665</td>\n",
       "      <td>0.191951</td>\n",
       "      <td>0.04878</td>\n",
       "      <td>0.026168</td>\n",
       "    </tr>\n",
       "  </tbody>\n",
       "</table>\n",
       "</div>"
      ],
      "text/plain": [
       "            All             In VOC           Out of VOC          \n",
       "       f1 micro  f1 macro f1 micro  f1 macro   f1 micro  f1 macro\n",
       "score  0.528942  0.153372  0.55665  0.191951    0.04878  0.026168"
      ]
     },
     "metadata": {},
     "output_type": "display_data"
    },
    {
     "name": "stdout",
     "output_type": "stream",
     "text": [
      "Validation metric increased (0.140407 --> 0.153372).  Saving model ...\n"
     ]
    },
    {
     "name": "stderr",
     "output_type": "stream",
     "text": [
      "Epoch 6: 100%|██████████| 513/513 [01:42<00:00,  5.01batch/s, loss_decrease=1.0000008473174447]\n",
      "100%|██████████| 1503/1503 [00:30<00:00, 50.05batch/s]\n"
     ]
    },
    {
     "data": {
      "text/html": [
       "<div>\n",
       "<style scoped>\n",
       "    .dataframe tbody tr th:only-of-type {\n",
       "        vertical-align: middle;\n",
       "    }\n",
       "\n",
       "    .dataframe tbody tr th {\n",
       "        vertical-align: top;\n",
       "    }\n",
       "\n",
       "    .dataframe thead tr th {\n",
       "        text-align: left;\n",
       "    }\n",
       "</style>\n",
       "<table border=\"1\" class=\"dataframe\">\n",
       "  <thead>\n",
       "    <tr>\n",
       "      <th></th>\n",
       "      <th colspan=\"2\" halign=\"left\">All</th>\n",
       "      <th colspan=\"2\" halign=\"left\">In VOC</th>\n",
       "      <th colspan=\"2\" halign=\"left\">Out of VOC</th>\n",
       "    </tr>\n",
       "    <tr>\n",
       "      <th></th>\n",
       "      <th>f1 micro</th>\n",
       "      <th>f1 macro</th>\n",
       "      <th>f1 micro</th>\n",
       "      <th>f1 macro</th>\n",
       "      <th>f1 micro</th>\n",
       "      <th>f1 macro</th>\n",
       "    </tr>\n",
       "  </thead>\n",
       "  <tbody>\n",
       "    <tr>\n",
       "      <th>score</th>\n",
       "      <td>0.62475</td>\n",
       "      <td>0.224423</td>\n",
       "      <td>0.655876</td>\n",
       "      <td>0.274478</td>\n",
       "      <td>0.085366</td>\n",
       "      <td>0.044248</td>\n",
       "    </tr>\n",
       "  </tbody>\n",
       "</table>\n",
       "</div>"
      ],
      "text/plain": [
       "           All              In VOC           Out of VOC          \n",
       "      f1 micro  f1 macro  f1 micro  f1 macro   f1 micro  f1 macro\n",
       "score  0.62475  0.224423  0.655876  0.274478   0.085366  0.044248"
      ]
     },
     "metadata": {},
     "output_type": "display_data"
    },
    {
     "name": "stdout",
     "output_type": "stream",
     "text": [
      "Validation metric increased (0.153372 --> 0.224423).  Saving model ...\n"
     ]
    },
    {
     "name": "stderr",
     "output_type": "stream",
     "text": [
      "Epoch 7: 100%|██████████| 513/513 [01:41<00:00,  5.06batch/s, loss_decrease=1.0000008473174447]\n",
      "100%|██████████| 1503/1503 [00:31<00:00, 48.28batch/s]\n"
     ]
    },
    {
     "data": {
      "text/html": [
       "<div>\n",
       "<style scoped>\n",
       "    .dataframe tbody tr th:only-of-type {\n",
       "        vertical-align: middle;\n",
       "    }\n",
       "\n",
       "    .dataframe tbody tr th {\n",
       "        vertical-align: top;\n",
       "    }\n",
       "\n",
       "    .dataframe thead tr th {\n",
       "        text-align: left;\n",
       "    }\n",
       "</style>\n",
       "<table border=\"1\" class=\"dataframe\">\n",
       "  <thead>\n",
       "    <tr>\n",
       "      <th></th>\n",
       "      <th colspan=\"2\" halign=\"left\">All</th>\n",
       "      <th colspan=\"2\" halign=\"left\">In VOC</th>\n",
       "      <th colspan=\"2\" halign=\"left\">Out of VOC</th>\n",
       "    </tr>\n",
       "    <tr>\n",
       "      <th></th>\n",
       "      <th>f1 micro</th>\n",
       "      <th>f1 macro</th>\n",
       "      <th>f1 micro</th>\n",
       "      <th>f1 macro</th>\n",
       "      <th>f1 micro</th>\n",
       "      <th>f1 macro</th>\n",
       "    </tr>\n",
       "  </thead>\n",
       "  <tbody>\n",
       "    <tr>\n",
       "      <th>score</th>\n",
       "      <td>0.657352</td>\n",
       "      <td>0.250566</td>\n",
       "      <td>0.690359</td>\n",
       "      <td>0.313592</td>\n",
       "      <td>0.085366</td>\n",
       "      <td>0.042373</td>\n",
       "    </tr>\n",
       "  </tbody>\n",
       "</table>\n",
       "</div>"
      ],
      "text/plain": [
       "            All              In VOC           Out of VOC          \n",
       "       f1 micro  f1 macro  f1 micro  f1 macro   f1 micro  f1 macro\n",
       "score  0.657352  0.250566  0.690359  0.313592   0.085366  0.042373"
      ]
     },
     "metadata": {},
     "output_type": "display_data"
    },
    {
     "name": "stdout",
     "output_type": "stream",
     "text": [
      "Validation metric increased (0.224423 --> 0.250566).  Saving model ...\n"
     ]
    },
    {
     "name": "stderr",
     "output_type": "stream",
     "text": [
      "Epoch 8: 100%|██████████| 513/513 [01:30<00:00,  5.67batch/s, loss_decrease=1.0000008473174447]\n",
      "100%|██████████| 1503/1503 [00:30<00:00, 49.81batch/s]\n"
     ]
    },
    {
     "data": {
      "text/html": [
       "<div>\n",
       "<style scoped>\n",
       "    .dataframe tbody tr th:only-of-type {\n",
       "        vertical-align: middle;\n",
       "    }\n",
       "\n",
       "    .dataframe tbody tr th {\n",
       "        vertical-align: top;\n",
       "    }\n",
       "\n",
       "    .dataframe thead tr th {\n",
       "        text-align: left;\n",
       "    }\n",
       "</style>\n",
       "<table border=\"1\" class=\"dataframe\">\n",
       "  <thead>\n",
       "    <tr>\n",
       "      <th></th>\n",
       "      <th colspan=\"2\" halign=\"left\">All</th>\n",
       "      <th colspan=\"2\" halign=\"left\">In VOC</th>\n",
       "      <th colspan=\"2\" halign=\"left\">Out of VOC</th>\n",
       "    </tr>\n",
       "    <tr>\n",
       "      <th></th>\n",
       "      <th>f1 micro</th>\n",
       "      <th>f1 macro</th>\n",
       "      <th>f1 micro</th>\n",
       "      <th>f1 macro</th>\n",
       "      <th>f1 micro</th>\n",
       "      <th>f1 macro</th>\n",
       "    </tr>\n",
       "  </thead>\n",
       "  <tbody>\n",
       "    <tr>\n",
       "      <th>score</th>\n",
       "      <td>0.672655</td>\n",
       "      <td>0.259117</td>\n",
       "      <td>0.707248</td>\n",
       "      <td>0.329468</td>\n",
       "      <td>0.073171</td>\n",
       "      <td>0.033333</td>\n",
       "    </tr>\n",
       "  </tbody>\n",
       "</table>\n",
       "</div>"
      ],
      "text/plain": [
       "            All              In VOC           Out of VOC          \n",
       "       f1 micro  f1 macro  f1 micro  f1 macro   f1 micro  f1 macro\n",
       "score  0.672655  0.259117  0.707248  0.329468   0.073171  0.033333"
      ]
     },
     "metadata": {},
     "output_type": "display_data"
    },
    {
     "name": "stdout",
     "output_type": "stream",
     "text": [
      "Validation metric increased (0.250566 --> 0.259117).  Saving model ...\n"
     ]
    },
    {
     "name": "stderr",
     "output_type": "stream",
     "text": [
      "Epoch 9: 100%|██████████| 513/513 [01:41<00:00,  5.07batch/s, loss_decrease=1.0000008473174447]\n",
      "100%|██████████| 1503/1503 [00:30<00:00, 50.08batch/s]\n"
     ]
    },
    {
     "data": {
      "text/html": [
       "<div>\n",
       "<style scoped>\n",
       "    .dataframe tbody tr th:only-of-type {\n",
       "        vertical-align: middle;\n",
       "    }\n",
       "\n",
       "    .dataframe tbody tr th {\n",
       "        vertical-align: top;\n",
       "    }\n",
       "\n",
       "    .dataframe thead tr th {\n",
       "        text-align: left;\n",
       "    }\n",
       "</style>\n",
       "<table border=\"1\" class=\"dataframe\">\n",
       "  <thead>\n",
       "    <tr>\n",
       "      <th></th>\n",
       "      <th colspan=\"2\" halign=\"left\">All</th>\n",
       "      <th colspan=\"2\" halign=\"left\">In VOC</th>\n",
       "      <th colspan=\"2\" halign=\"left\">Out of VOC</th>\n",
       "    </tr>\n",
       "    <tr>\n",
       "      <th></th>\n",
       "      <th>f1 micro</th>\n",
       "      <th>f1 macro</th>\n",
       "      <th>f1 micro</th>\n",
       "      <th>f1 macro</th>\n",
       "      <th>f1 micro</th>\n",
       "      <th>f1 macro</th>\n",
       "    </tr>\n",
       "  </thead>\n",
       "  <tbody>\n",
       "    <tr>\n",
       "      <th>score</th>\n",
       "      <td>0.661344</td>\n",
       "      <td>0.25399</td>\n",
       "      <td>0.694581</td>\n",
       "      <td>0.318009</td>\n",
       "      <td>0.085366</td>\n",
       "      <td>0.042017</td>\n",
       "    </tr>\n",
       "  </tbody>\n",
       "</table>\n",
       "</div>"
      ],
      "text/plain": [
       "            All             In VOC           Out of VOC          \n",
       "       f1 micro f1 macro  f1 micro  f1 macro   f1 micro  f1 macro\n",
       "score  0.661344  0.25399  0.694581  0.318009   0.085366  0.042017"
      ]
     },
     "metadata": {},
     "output_type": "display_data"
    },
    {
     "name": "stdout",
     "output_type": "stream",
     "text": [
      "EarlyStopping counter: 1 out of 7\n"
     ]
    },
    {
     "name": "stderr",
     "output_type": "stream",
     "text": [
      "Epoch 10: 100%|██████████| 513/513 [01:41<00:00,  5.06batch/s, loss_decrease=1.0000008473174447]\n",
      "100%|██████████| 1503/1503 [00:29<00:00, 50.61batch/s]\n"
     ]
    },
    {
     "data": {
      "text/html": [
       "<div>\n",
       "<style scoped>\n",
       "    .dataframe tbody tr th:only-of-type {\n",
       "        vertical-align: middle;\n",
       "    }\n",
       "\n",
       "    .dataframe tbody tr th {\n",
       "        vertical-align: top;\n",
       "    }\n",
       "\n",
       "    .dataframe thead tr th {\n",
       "        text-align: left;\n",
       "    }\n",
       "</style>\n",
       "<table border=\"1\" class=\"dataframe\">\n",
       "  <thead>\n",
       "    <tr>\n",
       "      <th></th>\n",
       "      <th colspan=\"2\" halign=\"left\">All</th>\n",
       "      <th colspan=\"2\" halign=\"left\">In VOC</th>\n",
       "      <th colspan=\"2\" halign=\"left\">Out of VOC</th>\n",
       "    </tr>\n",
       "    <tr>\n",
       "      <th></th>\n",
       "      <th>f1 micro</th>\n",
       "      <th>f1 macro</th>\n",
       "      <th>f1 micro</th>\n",
       "      <th>f1 macro</th>\n",
       "      <th>f1 micro</th>\n",
       "      <th>f1 macro</th>\n",
       "    </tr>\n",
       "  </thead>\n",
       "  <tbody>\n",
       "    <tr>\n",
       "      <th>score</th>\n",
       "      <td>0.664005</td>\n",
       "      <td>0.251596</td>\n",
       "      <td>0.6981</td>\n",
       "      <td>0.319996</td>\n",
       "      <td>0.073171</td>\n",
       "      <td>0.033898</td>\n",
       "    </tr>\n",
       "  </tbody>\n",
       "</table>\n",
       "</div>"
      ],
      "text/plain": [
       "            All             In VOC           Out of VOC          \n",
       "       f1 micro  f1 macro f1 micro  f1 macro   f1 micro  f1 macro\n",
       "score  0.664005  0.251596   0.6981  0.319996   0.073171  0.033898"
      ]
     },
     "metadata": {},
     "output_type": "display_data"
    },
    {
     "name": "stdout",
     "output_type": "stream",
     "text": [
      "EarlyStopping counter: 2 out of 7\n"
     ]
    },
    {
     "name": "stderr",
     "output_type": "stream",
     "text": [
      "Epoch 11: 100%|██████████| 513/513 [01:40<00:00,  5.10batch/s, loss_decrease=1.0000008473174447]\n",
      "100%|██████████| 1503/1503 [00:29<00:00, 50.68batch/s]\n"
     ]
    },
    {
     "data": {
      "text/html": [
       "<div>\n",
       "<style scoped>\n",
       "    .dataframe tbody tr th:only-of-type {\n",
       "        vertical-align: middle;\n",
       "    }\n",
       "\n",
       "    .dataframe tbody tr th {\n",
       "        vertical-align: top;\n",
       "    }\n",
       "\n",
       "    .dataframe thead tr th {\n",
       "        text-align: left;\n",
       "    }\n",
       "</style>\n",
       "<table border=\"1\" class=\"dataframe\">\n",
       "  <thead>\n",
       "    <tr>\n",
       "      <th></th>\n",
       "      <th colspan=\"2\" halign=\"left\">All</th>\n",
       "      <th colspan=\"2\" halign=\"left\">In VOC</th>\n",
       "      <th colspan=\"2\" halign=\"left\">Out of VOC</th>\n",
       "    </tr>\n",
       "    <tr>\n",
       "      <th></th>\n",
       "      <th>f1 micro</th>\n",
       "      <th>f1 macro</th>\n",
       "      <th>f1 micro</th>\n",
       "      <th>f1 macro</th>\n",
       "      <th>f1 micro</th>\n",
       "      <th>f1 macro</th>\n",
       "    </tr>\n",
       "  </thead>\n",
       "  <tbody>\n",
       "    <tr>\n",
       "      <th>score</th>\n",
       "      <td>0.594145</td>\n",
       "      <td>0.205554</td>\n",
       "      <td>0.626319</td>\n",
       "      <td>0.255911</td>\n",
       "      <td>0.036585</td>\n",
       "      <td>0.027778</td>\n",
       "    </tr>\n",
       "  </tbody>\n",
       "</table>\n",
       "</div>"
      ],
      "text/plain": [
       "            All              In VOC           Out of VOC          \n",
       "       f1 micro  f1 macro  f1 micro  f1 macro   f1 micro  f1 macro\n",
       "score  0.594145  0.205554  0.626319  0.255911   0.036585  0.027778"
      ]
     },
     "metadata": {},
     "output_type": "display_data"
    },
    {
     "name": "stdout",
     "output_type": "stream",
     "text": [
      "EarlyStopping counter: 3 out of 7\n"
     ]
    },
    {
     "name": "stderr",
     "output_type": "stream",
     "text": [
      "Epoch 12: 100%|██████████| 513/513 [01:40<00:00,  5.08batch/s, loss_decrease=1.0000008473174447]\n",
      "100%|██████████| 1503/1503 [00:30<00:00, 49.87batch/s]\n"
     ]
    },
    {
     "data": {
      "text/html": [
       "<div>\n",
       "<style scoped>\n",
       "    .dataframe tbody tr th:only-of-type {\n",
       "        vertical-align: middle;\n",
       "    }\n",
       "\n",
       "    .dataframe tbody tr th {\n",
       "        vertical-align: top;\n",
       "    }\n",
       "\n",
       "    .dataframe thead tr th {\n",
       "        text-align: left;\n",
       "    }\n",
       "</style>\n",
       "<table border=\"1\" class=\"dataframe\">\n",
       "  <thead>\n",
       "    <tr>\n",
       "      <th></th>\n",
       "      <th colspan=\"2\" halign=\"left\">All</th>\n",
       "      <th colspan=\"2\" halign=\"left\">In VOC</th>\n",
       "      <th colspan=\"2\" halign=\"left\">Out of VOC</th>\n",
       "    </tr>\n",
       "    <tr>\n",
       "      <th></th>\n",
       "      <th>f1 micro</th>\n",
       "      <th>f1 macro</th>\n",
       "      <th>f1 micro</th>\n",
       "      <th>f1 macro</th>\n",
       "      <th>f1 micro</th>\n",
       "      <th>f1 macro</th>\n",
       "    </tr>\n",
       "  </thead>\n",
       "  <tbody>\n",
       "    <tr>\n",
       "      <th>score</th>\n",
       "      <td>0.578842</td>\n",
       "      <td>0.209055</td>\n",
       "      <td>0.610134</td>\n",
       "      <td>0.261457</td>\n",
       "      <td>0.036585</td>\n",
       "      <td>0.026667</td>\n",
       "    </tr>\n",
       "  </tbody>\n",
       "</table>\n",
       "</div>"
      ],
      "text/plain": [
       "            All              In VOC           Out of VOC          \n",
       "       f1 micro  f1 macro  f1 micro  f1 macro   f1 micro  f1 macro\n",
       "score  0.578842  0.209055  0.610134  0.261457   0.036585  0.026667"
      ]
     },
     "metadata": {},
     "output_type": "display_data"
    },
    {
     "name": "stdout",
     "output_type": "stream",
     "text": [
      "EarlyStopping counter: 4 out of 7\n"
     ]
    },
    {
     "name": "stderr",
     "output_type": "stream",
     "text": [
      "Epoch 13: 100%|██████████| 513/513 [01:41<00:00,  5.08batch/s, loss_decrease=1.0000009414639162]\n",
      "100%|██████████| 1503/1503 [00:30<00:00, 49.56batch/s]\n"
     ]
    },
    {
     "data": {
      "text/html": [
       "<div>\n",
       "<style scoped>\n",
       "    .dataframe tbody tr th:only-of-type {\n",
       "        vertical-align: middle;\n",
       "    }\n",
       "\n",
       "    .dataframe tbody tr th {\n",
       "        vertical-align: top;\n",
       "    }\n",
       "\n",
       "    .dataframe thead tr th {\n",
       "        text-align: left;\n",
       "    }\n",
       "</style>\n",
       "<table border=\"1\" class=\"dataframe\">\n",
       "  <thead>\n",
       "    <tr>\n",
       "      <th></th>\n",
       "      <th colspan=\"2\" halign=\"left\">All</th>\n",
       "      <th colspan=\"2\" halign=\"left\">In VOC</th>\n",
       "      <th colspan=\"2\" halign=\"left\">Out of VOC</th>\n",
       "    </tr>\n",
       "    <tr>\n",
       "      <th></th>\n",
       "      <th>f1 micro</th>\n",
       "      <th>f1 macro</th>\n",
       "      <th>f1 micro</th>\n",
       "      <th>f1 macro</th>\n",
       "      <th>f1 micro</th>\n",
       "      <th>f1 macro</th>\n",
       "    </tr>\n",
       "  </thead>\n",
       "  <tbody>\n",
       "    <tr>\n",
       "      <th>score</th>\n",
       "      <td>0.656021</td>\n",
       "      <td>0.244842</td>\n",
       "      <td>0.688951</td>\n",
       "      <td>0.30586</td>\n",
       "      <td>0.085366</td>\n",
       "      <td>0.031609</td>\n",
       "    </tr>\n",
       "  </tbody>\n",
       "</table>\n",
       "</div>"
      ],
      "text/plain": [
       "            All              In VOC          Out of VOC          \n",
       "       f1 micro  f1 macro  f1 micro f1 macro   f1 micro  f1 macro\n",
       "score  0.656021  0.244842  0.688951  0.30586   0.085366  0.031609"
      ]
     },
     "metadata": {},
     "output_type": "display_data"
    },
    {
     "name": "stdout",
     "output_type": "stream",
     "text": [
      "EarlyStopping counter: 5 out of 7\n"
     ]
    },
    {
     "name": "stderr",
     "output_type": "stream",
     "text": [
      "Epoch 14: 100%|██████████| 513/513 [01:40<00:00,  5.10batch/s, loss_decrease=1.0000008473174447]\n",
      "100%|██████████| 1503/1503 [00:30<00:00, 49.14batch/s]\n"
     ]
    },
    {
     "data": {
      "text/html": [
       "<div>\n",
       "<style scoped>\n",
       "    .dataframe tbody tr th:only-of-type {\n",
       "        vertical-align: middle;\n",
       "    }\n",
       "\n",
       "    .dataframe tbody tr th {\n",
       "        vertical-align: top;\n",
       "    }\n",
       "\n",
       "    .dataframe thead tr th {\n",
       "        text-align: left;\n",
       "    }\n",
       "</style>\n",
       "<table border=\"1\" class=\"dataframe\">\n",
       "  <thead>\n",
       "    <tr>\n",
       "      <th></th>\n",
       "      <th colspan=\"2\" halign=\"left\">All</th>\n",
       "      <th colspan=\"2\" halign=\"left\">In VOC</th>\n",
       "      <th colspan=\"2\" halign=\"left\">Out of VOC</th>\n",
       "    </tr>\n",
       "    <tr>\n",
       "      <th></th>\n",
       "      <th>f1 micro</th>\n",
       "      <th>f1 macro</th>\n",
       "      <th>f1 micro</th>\n",
       "      <th>f1 macro</th>\n",
       "      <th>f1 micro</th>\n",
       "      <th>f1 macro</th>\n",
       "    </tr>\n",
       "  </thead>\n",
       "  <tbody>\n",
       "    <tr>\n",
       "      <th>score</th>\n",
       "      <td>0.699268</td>\n",
       "      <td>0.276953</td>\n",
       "      <td>0.736101</td>\n",
       "      <td>0.35255</td>\n",
       "      <td>0.060976</td>\n",
       "      <td>0.021505</td>\n",
       "    </tr>\n",
       "  </tbody>\n",
       "</table>\n",
       "</div>"
      ],
      "text/plain": [
       "            All              In VOC          Out of VOC          \n",
       "       f1 micro  f1 macro  f1 micro f1 macro   f1 micro  f1 macro\n",
       "score  0.699268  0.276953  0.736101  0.35255   0.060976  0.021505"
      ]
     },
     "metadata": {},
     "output_type": "display_data"
    },
    {
     "name": "stdout",
     "output_type": "stream",
     "text": [
      "Validation metric increased (0.259117 --> 0.276953).  Saving model ...\n"
     ]
    },
    {
     "name": "stderr",
     "output_type": "stream",
     "text": [
      "Epoch 15: 100%|██████████| 513/513 [01:38<00:00,  5.20batch/s, loss_decrease=1.0000008473174447]\n",
      "100%|██████████| 1503/1503 [00:30<00:00, 49.67batch/s]\n"
     ]
    },
    {
     "data": {
      "text/html": [
       "<div>\n",
       "<style scoped>\n",
       "    .dataframe tbody tr th:only-of-type {\n",
       "        vertical-align: middle;\n",
       "    }\n",
       "\n",
       "    .dataframe tbody tr th {\n",
       "        vertical-align: top;\n",
       "    }\n",
       "\n",
       "    .dataframe thead tr th {\n",
       "        text-align: left;\n",
       "    }\n",
       "</style>\n",
       "<table border=\"1\" class=\"dataframe\">\n",
       "  <thead>\n",
       "    <tr>\n",
       "      <th></th>\n",
       "      <th colspan=\"2\" halign=\"left\">All</th>\n",
       "      <th colspan=\"2\" halign=\"left\">In VOC</th>\n",
       "      <th colspan=\"2\" halign=\"left\">Out of VOC</th>\n",
       "    </tr>\n",
       "    <tr>\n",
       "      <th></th>\n",
       "      <th>f1 micro</th>\n",
       "      <th>f1 macro</th>\n",
       "      <th>f1 micro</th>\n",
       "      <th>f1 macro</th>\n",
       "      <th>f1 micro</th>\n",
       "      <th>f1 macro</th>\n",
       "    </tr>\n",
       "  </thead>\n",
       "  <tbody>\n",
       "    <tr>\n",
       "      <th>score</th>\n",
       "      <td>0.697272</td>\n",
       "      <td>0.269572</td>\n",
       "      <td>0.735398</td>\n",
       "      <td>0.349168</td>\n",
       "      <td>0.036585</td>\n",
       "      <td>0.008197</td>\n",
       "    </tr>\n",
       "  </tbody>\n",
       "</table>\n",
       "</div>"
      ],
      "text/plain": [
       "            All              In VOC           Out of VOC          \n",
       "       f1 micro  f1 macro  f1 micro  f1 macro   f1 micro  f1 macro\n",
       "score  0.697272  0.269572  0.735398  0.349168   0.036585  0.008197"
      ]
     },
     "metadata": {},
     "output_type": "display_data"
    },
    {
     "name": "stdout",
     "output_type": "stream",
     "text": [
      "EarlyStopping counter: 1 out of 7\n"
     ]
    },
    {
     "name": "stderr",
     "output_type": "stream",
     "text": [
      "Epoch 16: 100%|██████████| 513/513 [01:40<00:00,  5.08batch/s, loss_decrease=1.0000008473174447]\n",
      "100%|██████████| 1503/1503 [00:30<00:00, 49.98batch/s]\n"
     ]
    },
    {
     "data": {
      "text/html": [
       "<div>\n",
       "<style scoped>\n",
       "    .dataframe tbody tr th:only-of-type {\n",
       "        vertical-align: middle;\n",
       "    }\n",
       "\n",
       "    .dataframe tbody tr th {\n",
       "        vertical-align: top;\n",
       "    }\n",
       "\n",
       "    .dataframe thead tr th {\n",
       "        text-align: left;\n",
       "    }\n",
       "</style>\n",
       "<table border=\"1\" class=\"dataframe\">\n",
       "  <thead>\n",
       "    <tr>\n",
       "      <th></th>\n",
       "      <th colspan=\"2\" halign=\"left\">All</th>\n",
       "      <th colspan=\"2\" halign=\"left\">In VOC</th>\n",
       "      <th colspan=\"2\" halign=\"left\">Out of VOC</th>\n",
       "    </tr>\n",
       "    <tr>\n",
       "      <th></th>\n",
       "      <th>f1 micro</th>\n",
       "      <th>f1 macro</th>\n",
       "      <th>f1 micro</th>\n",
       "      <th>f1 macro</th>\n",
       "      <th>f1 micro</th>\n",
       "      <th>f1 macro</th>\n",
       "    </tr>\n",
       "  </thead>\n",
       "  <tbody>\n",
       "    <tr>\n",
       "      <th>score</th>\n",
       "      <td>0.700599</td>\n",
       "      <td>0.275068</td>\n",
       "      <td>0.738213</td>\n",
       "      <td>0.355762</td>\n",
       "      <td>0.04878</td>\n",
       "      <td>0.016393</td>\n",
       "    </tr>\n",
       "  </tbody>\n",
       "</table>\n",
       "</div>"
      ],
      "text/plain": [
       "            All              In VOC           Out of VOC          \n",
       "       f1 micro  f1 macro  f1 micro  f1 macro   f1 micro  f1 macro\n",
       "score  0.700599  0.275068  0.738213  0.355762    0.04878  0.016393"
      ]
     },
     "metadata": {},
     "output_type": "display_data"
    },
    {
     "name": "stdout",
     "output_type": "stream",
     "text": [
      "EarlyStopping counter: 2 out of 7\n"
     ]
    },
    {
     "name": "stderr",
     "output_type": "stream",
     "text": [
      "Epoch 17: 100%|██████████| 513/513 [01:41<00:00,  5.07batch/s, loss_decrease=1.0000008473174447]\n",
      "100%|██████████| 1503/1503 [00:30<00:00, 49.02batch/s]\n"
     ]
    },
    {
     "data": {
      "text/html": [
       "<div>\n",
       "<style scoped>\n",
       "    .dataframe tbody tr th:only-of-type {\n",
       "        vertical-align: middle;\n",
       "    }\n",
       "\n",
       "    .dataframe tbody tr th {\n",
       "        vertical-align: top;\n",
       "    }\n",
       "\n",
       "    .dataframe thead tr th {\n",
       "        text-align: left;\n",
       "    }\n",
       "</style>\n",
       "<table border=\"1\" class=\"dataframe\">\n",
       "  <thead>\n",
       "    <tr>\n",
       "      <th></th>\n",
       "      <th colspan=\"2\" halign=\"left\">All</th>\n",
       "      <th colspan=\"2\" halign=\"left\">In VOC</th>\n",
       "      <th colspan=\"2\" halign=\"left\">Out of VOC</th>\n",
       "    </tr>\n",
       "    <tr>\n",
       "      <th></th>\n",
       "      <th>f1 micro</th>\n",
       "      <th>f1 macro</th>\n",
       "      <th>f1 micro</th>\n",
       "      <th>f1 macro</th>\n",
       "      <th>f1 micro</th>\n",
       "      <th>f1 macro</th>\n",
       "    </tr>\n",
       "  </thead>\n",
       "  <tbody>\n",
       "    <tr>\n",
       "      <th>score</th>\n",
       "      <td>0.697937</td>\n",
       "      <td>0.269385</td>\n",
       "      <td>0.735398</td>\n",
       "      <td>0.3463</td>\n",
       "      <td>0.04878</td>\n",
       "      <td>0.014006</td>\n",
       "    </tr>\n",
       "  </tbody>\n",
       "</table>\n",
       "</div>"
      ],
      "text/plain": [
       "            All              In VOC          Out of VOC          \n",
       "       f1 micro  f1 macro  f1 micro f1 macro   f1 micro  f1 macro\n",
       "score  0.697937  0.269385  0.735398   0.3463    0.04878  0.014006"
      ]
     },
     "metadata": {},
     "output_type": "display_data"
    },
    {
     "name": "stdout",
     "output_type": "stream",
     "text": [
      "EarlyStopping counter: 3 out of 7\n"
     ]
    },
    {
     "name": "stderr",
     "output_type": "stream",
     "text": [
      "Epoch 18: 100%|██████████| 513/513 [01:40<00:00,  5.09batch/s, loss_decrease=1.0000008473174447]\n",
      "100%|██████████| 1503/1503 [00:29<00:00, 50.55batch/s]\n"
     ]
    },
    {
     "data": {
      "text/html": [
       "<div>\n",
       "<style scoped>\n",
       "    .dataframe tbody tr th:only-of-type {\n",
       "        vertical-align: middle;\n",
       "    }\n",
       "\n",
       "    .dataframe tbody tr th {\n",
       "        vertical-align: top;\n",
       "    }\n",
       "\n",
       "    .dataframe thead tr th {\n",
       "        text-align: left;\n",
       "    }\n",
       "</style>\n",
       "<table border=\"1\" class=\"dataframe\">\n",
       "  <thead>\n",
       "    <tr>\n",
       "      <th></th>\n",
       "      <th colspan=\"2\" halign=\"left\">All</th>\n",
       "      <th colspan=\"2\" halign=\"left\">In VOC</th>\n",
       "      <th colspan=\"2\" halign=\"left\">Out of VOC</th>\n",
       "    </tr>\n",
       "    <tr>\n",
       "      <th></th>\n",
       "      <th>f1 micro</th>\n",
       "      <th>f1 macro</th>\n",
       "      <th>f1 micro</th>\n",
       "      <th>f1 macro</th>\n",
       "      <th>f1 micro</th>\n",
       "      <th>f1 macro</th>\n",
       "    </tr>\n",
       "  </thead>\n",
       "  <tbody>\n",
       "    <tr>\n",
       "      <th>score</th>\n",
       "      <td>0.689288</td>\n",
       "      <td>0.262201</td>\n",
       "      <td>0.726249</td>\n",
       "      <td>0.341415</td>\n",
       "      <td>0.04878</td>\n",
       "      <td>0.013661</td>\n",
       "    </tr>\n",
       "  </tbody>\n",
       "</table>\n",
       "</div>"
      ],
      "text/plain": [
       "            All              In VOC           Out of VOC          \n",
       "       f1 micro  f1 macro  f1 micro  f1 macro   f1 micro  f1 macro\n",
       "score  0.689288  0.262201  0.726249  0.341415    0.04878  0.013661"
      ]
     },
     "metadata": {},
     "output_type": "display_data"
    },
    {
     "name": "stdout",
     "output_type": "stream",
     "text": [
      "EarlyStopping counter: 4 out of 7\n"
     ]
    },
    {
     "name": "stderr",
     "output_type": "stream",
     "text": [
      "Epoch 19: 100%|██████████| 513/513 [01:38<00:00,  5.19batch/s, loss_decrease=1.0000008473174447]\n",
      "100%|██████████| 1503/1503 [00:29<00:00, 50.52batch/s]\n"
     ]
    },
    {
     "data": {
      "text/html": [
       "<div>\n",
       "<style scoped>\n",
       "    .dataframe tbody tr th:only-of-type {\n",
       "        vertical-align: middle;\n",
       "    }\n",
       "\n",
       "    .dataframe tbody tr th {\n",
       "        vertical-align: top;\n",
       "    }\n",
       "\n",
       "    .dataframe thead tr th {\n",
       "        text-align: left;\n",
       "    }\n",
       "</style>\n",
       "<table border=\"1\" class=\"dataframe\">\n",
       "  <thead>\n",
       "    <tr>\n",
       "      <th></th>\n",
       "      <th colspan=\"2\" halign=\"left\">All</th>\n",
       "      <th colspan=\"2\" halign=\"left\">In VOC</th>\n",
       "      <th colspan=\"2\" halign=\"left\">Out of VOC</th>\n",
       "    </tr>\n",
       "    <tr>\n",
       "      <th></th>\n",
       "      <th>f1 micro</th>\n",
       "      <th>f1 macro</th>\n",
       "      <th>f1 micro</th>\n",
       "      <th>f1 macro</th>\n",
       "      <th>f1 micro</th>\n",
       "      <th>f1 macro</th>\n",
       "    </tr>\n",
       "  </thead>\n",
       "  <tbody>\n",
       "    <tr>\n",
       "      <th>score</th>\n",
       "      <td>0.681969</td>\n",
       "      <td>0.262334</td>\n",
       "      <td>0.718508</td>\n",
       "      <td>0.336423</td>\n",
       "      <td>0.04878</td>\n",
       "      <td>0.015873</td>\n",
       "    </tr>\n",
       "  </tbody>\n",
       "</table>\n",
       "</div>"
      ],
      "text/plain": [
       "            All              In VOC           Out of VOC          \n",
       "       f1 micro  f1 macro  f1 micro  f1 macro   f1 micro  f1 macro\n",
       "score  0.681969  0.262334  0.718508  0.336423    0.04878  0.015873"
      ]
     },
     "metadata": {},
     "output_type": "display_data"
    },
    {
     "name": "stdout",
     "output_type": "stream",
     "text": [
      "EarlyStopping counter: 5 out of 7\n"
     ]
    },
    {
     "name": "stderr",
     "output_type": "stream",
     "text": [
      "Epoch 20: 100%|██████████| 513/513 [01:41<00:00,  5.08batch/s, loss_decrease=1.0000009414639162]\n",
      "100%|██████████| 1503/1503 [00:30<00:00, 48.58batch/s]\n"
     ]
    },
    {
     "data": {
      "text/html": [
       "<div>\n",
       "<style scoped>\n",
       "    .dataframe tbody tr th:only-of-type {\n",
       "        vertical-align: middle;\n",
       "    }\n",
       "\n",
       "    .dataframe tbody tr th {\n",
       "        vertical-align: top;\n",
       "    }\n",
       "\n",
       "    .dataframe thead tr th {\n",
       "        text-align: left;\n",
       "    }\n",
       "</style>\n",
       "<table border=\"1\" class=\"dataframe\">\n",
       "  <thead>\n",
       "    <tr>\n",
       "      <th></th>\n",
       "      <th colspan=\"2\" halign=\"left\">All</th>\n",
       "      <th colspan=\"2\" halign=\"left\">In VOC</th>\n",
       "      <th colspan=\"2\" halign=\"left\">Out of VOC</th>\n",
       "    </tr>\n",
       "    <tr>\n",
       "      <th></th>\n",
       "      <th>f1 micro</th>\n",
       "      <th>f1 macro</th>\n",
       "      <th>f1 micro</th>\n",
       "      <th>f1 macro</th>\n",
       "      <th>f1 micro</th>\n",
       "      <th>f1 macro</th>\n",
       "    </tr>\n",
       "  </thead>\n",
       "  <tbody>\n",
       "    <tr>\n",
       "      <th>score</th>\n",
       "      <td>0.683965</td>\n",
       "      <td>0.267077</td>\n",
       "      <td>0.719916</td>\n",
       "      <td>0.341055</td>\n",
       "      <td>0.060976</td>\n",
       "      <td>0.022409</td>\n",
       "    </tr>\n",
       "  </tbody>\n",
       "</table>\n",
       "</div>"
      ],
      "text/plain": [
       "            All              In VOC           Out of VOC          \n",
       "       f1 micro  f1 macro  f1 micro  f1 macro   f1 micro  f1 macro\n",
       "score  0.683965  0.267077  0.719916  0.341055   0.060976  0.022409"
      ]
     },
     "metadata": {},
     "output_type": "display_data"
    },
    {
     "name": "stdout",
     "output_type": "stream",
     "text": [
      "EarlyStopping counter: 6 out of 7\n"
     ]
    },
    {
     "name": "stderr",
     "output_type": "stream",
     "text": [
      "Epoch 21: 100%|██████████| 513/513 [01:43<00:00,  4.98batch/s, loss_decrease=1.0000008473174447]\n",
      "100%|██████████| 1503/1503 [00:30<00:00, 48.94batch/s]\n"
     ]
    },
    {
     "data": {
      "text/html": [
       "<div>\n",
       "<style scoped>\n",
       "    .dataframe tbody tr th:only-of-type {\n",
       "        vertical-align: middle;\n",
       "    }\n",
       "\n",
       "    .dataframe tbody tr th {\n",
       "        vertical-align: top;\n",
       "    }\n",
       "\n",
       "    .dataframe thead tr th {\n",
       "        text-align: left;\n",
       "    }\n",
       "</style>\n",
       "<table border=\"1\" class=\"dataframe\">\n",
       "  <thead>\n",
       "    <tr>\n",
       "      <th></th>\n",
       "      <th colspan=\"2\" halign=\"left\">All</th>\n",
       "      <th colspan=\"2\" halign=\"left\">In VOC</th>\n",
       "      <th colspan=\"2\" halign=\"left\">Out of VOC</th>\n",
       "    </tr>\n",
       "    <tr>\n",
       "      <th></th>\n",
       "      <th>f1 micro</th>\n",
       "      <th>f1 macro</th>\n",
       "      <th>f1 micro</th>\n",
       "      <th>f1 macro</th>\n",
       "      <th>f1 micro</th>\n",
       "      <th>f1 macro</th>\n",
       "    </tr>\n",
       "  </thead>\n",
       "  <tbody>\n",
       "    <tr>\n",
       "      <th>score</th>\n",
       "      <td>0.705256</td>\n",
       "      <td>0.277178</td>\n",
       "      <td>0.743842</td>\n",
       "      <td>0.360422</td>\n",
       "      <td>0.036585</td>\n",
       "      <td>0.00813</td>\n",
       "    </tr>\n",
       "  </tbody>\n",
       "</table>\n",
       "</div>"
      ],
      "text/plain": [
       "            All              In VOC           Out of VOC         \n",
       "       f1 micro  f1 macro  f1 micro  f1 macro   f1 micro f1 macro\n",
       "score  0.705256  0.277178  0.743842  0.360422   0.036585  0.00813"
      ]
     },
     "metadata": {},
     "output_type": "display_data"
    },
    {
     "name": "stdout",
     "output_type": "stream",
     "text": [
      "Validation metric increased (0.276953 --> 0.277178).  Saving model ...\n"
     ]
    },
    {
     "name": "stderr",
     "output_type": "stream",
     "text": [
      "Epoch 22: 100%|██████████| 513/513 [01:41<00:00,  5.07batch/s, loss_decrease=1.0000009414639162]\n",
      "100%|██████████| 1503/1503 [00:30<00:00, 49.70batch/s]\n"
     ]
    },
    {
     "data": {
      "text/html": [
       "<div>\n",
       "<style scoped>\n",
       "    .dataframe tbody tr th:only-of-type {\n",
       "        vertical-align: middle;\n",
       "    }\n",
       "\n",
       "    .dataframe tbody tr th {\n",
       "        vertical-align: top;\n",
       "    }\n",
       "\n",
       "    .dataframe thead tr th {\n",
       "        text-align: left;\n",
       "    }\n",
       "</style>\n",
       "<table border=\"1\" class=\"dataframe\">\n",
       "  <thead>\n",
       "    <tr>\n",
       "      <th></th>\n",
       "      <th colspan=\"2\" halign=\"left\">All</th>\n",
       "      <th colspan=\"2\" halign=\"left\">In VOC</th>\n",
       "      <th colspan=\"2\" halign=\"left\">Out of VOC</th>\n",
       "    </tr>\n",
       "    <tr>\n",
       "      <th></th>\n",
       "      <th>f1 micro</th>\n",
       "      <th>f1 macro</th>\n",
       "      <th>f1 micro</th>\n",
       "      <th>f1 macro</th>\n",
       "      <th>f1 micro</th>\n",
       "      <th>f1 macro</th>\n",
       "    </tr>\n",
       "  </thead>\n",
       "  <tbody>\n",
       "    <tr>\n",
       "      <th>score</th>\n",
       "      <td>0.72322</td>\n",
       "      <td>0.286434</td>\n",
       "      <td>0.762139</td>\n",
       "      <td>0.369828</td>\n",
       "      <td>0.04878</td>\n",
       "      <td>0.015873</td>\n",
       "    </tr>\n",
       "  </tbody>\n",
       "</table>\n",
       "</div>"
      ],
      "text/plain": [
       "           All              In VOC           Out of VOC          \n",
       "      f1 micro  f1 macro  f1 micro  f1 macro   f1 micro  f1 macro\n",
       "score  0.72322  0.286434  0.762139  0.369828    0.04878  0.015873"
      ]
     },
     "metadata": {},
     "output_type": "display_data"
    },
    {
     "name": "stdout",
     "output_type": "stream",
     "text": [
      "Validation metric increased (0.277178 --> 0.286434).  Saving model ...\n"
     ]
    },
    {
     "name": "stderr",
     "output_type": "stream",
     "text": [
      "Epoch 23: 100%|██████████| 513/513 [01:41<00:00,  5.06batch/s, loss_decrease=1.0000009414639162]\n",
      "100%|██████████| 1503/1503 [00:29<00:00, 50.40batch/s]\n"
     ]
    },
    {
     "data": {
      "text/html": [
       "<div>\n",
       "<style scoped>\n",
       "    .dataframe tbody tr th:only-of-type {\n",
       "        vertical-align: middle;\n",
       "    }\n",
       "\n",
       "    .dataframe tbody tr th {\n",
       "        vertical-align: top;\n",
       "    }\n",
       "\n",
       "    .dataframe thead tr th {\n",
       "        text-align: left;\n",
       "    }\n",
       "</style>\n",
       "<table border=\"1\" class=\"dataframe\">\n",
       "  <thead>\n",
       "    <tr>\n",
       "      <th></th>\n",
       "      <th colspan=\"2\" halign=\"left\">All</th>\n",
       "      <th colspan=\"2\" halign=\"left\">In VOC</th>\n",
       "      <th colspan=\"2\" halign=\"left\">Out of VOC</th>\n",
       "    </tr>\n",
       "    <tr>\n",
       "      <th></th>\n",
       "      <th>f1 micro</th>\n",
       "      <th>f1 macro</th>\n",
       "      <th>f1 micro</th>\n",
       "      <th>f1 macro</th>\n",
       "      <th>f1 micro</th>\n",
       "      <th>f1 macro</th>\n",
       "    </tr>\n",
       "  </thead>\n",
       "  <tbody>\n",
       "    <tr>\n",
       "      <th>score</th>\n",
       "      <td>0.710579</td>\n",
       "      <td>0.286907</td>\n",
       "      <td>0.748768</td>\n",
       "      <td>0.370035</td>\n",
       "      <td>0.04878</td>\n",
       "      <td>0.016129</td>\n",
       "    </tr>\n",
       "  </tbody>\n",
       "</table>\n",
       "</div>"
      ],
      "text/plain": [
       "            All              In VOC           Out of VOC          \n",
       "       f1 micro  f1 macro  f1 micro  f1 macro   f1 micro  f1 macro\n",
       "score  0.710579  0.286907  0.748768  0.370035    0.04878  0.016129"
      ]
     },
     "metadata": {},
     "output_type": "display_data"
    },
    {
     "name": "stdout",
     "output_type": "stream",
     "text": [
      "Validation metric increased (0.286434 --> 0.286907).  Saving model ...\n"
     ]
    },
    {
     "name": "stderr",
     "output_type": "stream",
     "text": [
      "Epoch 24: 100%|██████████| 513/513 [01:40<00:00,  5.10batch/s, loss_decrease=1.0000009414639162]\n",
      "100%|██████████| 1503/1503 [00:29<00:00, 50.58batch/s]\n"
     ]
    },
    {
     "data": {
      "text/html": [
       "<div>\n",
       "<style scoped>\n",
       "    .dataframe tbody tr th:only-of-type {\n",
       "        vertical-align: middle;\n",
       "    }\n",
       "\n",
       "    .dataframe tbody tr th {\n",
       "        vertical-align: top;\n",
       "    }\n",
       "\n",
       "    .dataframe thead tr th {\n",
       "        text-align: left;\n",
       "    }\n",
       "</style>\n",
       "<table border=\"1\" class=\"dataframe\">\n",
       "  <thead>\n",
       "    <tr>\n",
       "      <th></th>\n",
       "      <th colspan=\"2\" halign=\"left\">All</th>\n",
       "      <th colspan=\"2\" halign=\"left\">In VOC</th>\n",
       "      <th colspan=\"2\" halign=\"left\">Out of VOC</th>\n",
       "    </tr>\n",
       "    <tr>\n",
       "      <th></th>\n",
       "      <th>f1 micro</th>\n",
       "      <th>f1 macro</th>\n",
       "      <th>f1 micro</th>\n",
       "      <th>f1 macro</th>\n",
       "      <th>f1 micro</th>\n",
       "      <th>f1 macro</th>\n",
       "    </tr>\n",
       "  </thead>\n",
       "  <tbody>\n",
       "    <tr>\n",
       "      <th>score</th>\n",
       "      <td>0.708583</td>\n",
       "      <td>0.288158</td>\n",
       "      <td>0.746657</td>\n",
       "      <td>0.372286</td>\n",
       "      <td>0.04878</td>\n",
       "      <td>0.016393</td>\n",
       "    </tr>\n",
       "  </tbody>\n",
       "</table>\n",
       "</div>"
      ],
      "text/plain": [
       "            All              In VOC           Out of VOC          \n",
       "       f1 micro  f1 macro  f1 micro  f1 macro   f1 micro  f1 macro\n",
       "score  0.708583  0.288158  0.746657  0.372286    0.04878  0.016393"
      ]
     },
     "metadata": {},
     "output_type": "display_data"
    },
    {
     "name": "stdout",
     "output_type": "stream",
     "text": [
      "Validation metric increased (0.286907 --> 0.288158).  Saving model ...\n"
     ]
    },
    {
     "name": "stderr",
     "output_type": "stream",
     "text": [
      "Epoch 25: 100%|██████████| 513/513 [01:41<00:00,  5.05batch/s, loss_decrease=1.0000008473174447]\n",
      "100%|██████████| 1503/1503 [00:30<00:00, 48.99batch/s]\n"
     ]
    },
    {
     "data": {
      "text/html": [
       "<div>\n",
       "<style scoped>\n",
       "    .dataframe tbody tr th:only-of-type {\n",
       "        vertical-align: middle;\n",
       "    }\n",
       "\n",
       "    .dataframe tbody tr th {\n",
       "        vertical-align: top;\n",
       "    }\n",
       "\n",
       "    .dataframe thead tr th {\n",
       "        text-align: left;\n",
       "    }\n",
       "</style>\n",
       "<table border=\"1\" class=\"dataframe\">\n",
       "  <thead>\n",
       "    <tr>\n",
       "      <th></th>\n",
       "      <th colspan=\"2\" halign=\"left\">All</th>\n",
       "      <th colspan=\"2\" halign=\"left\">In VOC</th>\n",
       "      <th colspan=\"2\" halign=\"left\">Out of VOC</th>\n",
       "    </tr>\n",
       "    <tr>\n",
       "      <th></th>\n",
       "      <th>f1 micro</th>\n",
       "      <th>f1 macro</th>\n",
       "      <th>f1 micro</th>\n",
       "      <th>f1 macro</th>\n",
       "      <th>f1 micro</th>\n",
       "      <th>f1 macro</th>\n",
       "    </tr>\n",
       "  </thead>\n",
       "  <tbody>\n",
       "    <tr>\n",
       "      <th>score</th>\n",
       "      <td>0.704591</td>\n",
       "      <td>0.278538</td>\n",
       "      <td>0.742435</td>\n",
       "      <td>0.357562</td>\n",
       "      <td>0.04878</td>\n",
       "      <td>0.016393</td>\n",
       "    </tr>\n",
       "  </tbody>\n",
       "</table>\n",
       "</div>"
      ],
      "text/plain": [
       "            All              In VOC           Out of VOC          \n",
       "       f1 micro  f1 macro  f1 micro  f1 macro   f1 micro  f1 macro\n",
       "score  0.704591  0.278538  0.742435  0.357562    0.04878  0.016393"
      ]
     },
     "metadata": {},
     "output_type": "display_data"
    },
    {
     "name": "stdout",
     "output_type": "stream",
     "text": [
      "EarlyStopping counter: 1 out of 7\n"
     ]
    },
    {
     "name": "stderr",
     "output_type": "stream",
     "text": [
      "Epoch 26: 100%|██████████| 513/513 [01:40<00:00,  5.10batch/s, loss_decrease=1.0000008473174447]\n",
      "100%|██████████| 1503/1503 [00:30<00:00, 49.09batch/s]\n"
     ]
    },
    {
     "data": {
      "text/html": [
       "<div>\n",
       "<style scoped>\n",
       "    .dataframe tbody tr th:only-of-type {\n",
       "        vertical-align: middle;\n",
       "    }\n",
       "\n",
       "    .dataframe tbody tr th {\n",
       "        vertical-align: top;\n",
       "    }\n",
       "\n",
       "    .dataframe thead tr th {\n",
       "        text-align: left;\n",
       "    }\n",
       "</style>\n",
       "<table border=\"1\" class=\"dataframe\">\n",
       "  <thead>\n",
       "    <tr>\n",
       "      <th></th>\n",
       "      <th colspan=\"2\" halign=\"left\">All</th>\n",
       "      <th colspan=\"2\" halign=\"left\">In VOC</th>\n",
       "      <th colspan=\"2\" halign=\"left\">Out of VOC</th>\n",
       "    </tr>\n",
       "    <tr>\n",
       "      <th></th>\n",
       "      <th>f1 micro</th>\n",
       "      <th>f1 macro</th>\n",
       "      <th>f1 micro</th>\n",
       "      <th>f1 macro</th>\n",
       "      <th>f1 micro</th>\n",
       "      <th>f1 macro</th>\n",
       "    </tr>\n",
       "  </thead>\n",
       "  <tbody>\n",
       "    <tr>\n",
       "      <th>score</th>\n",
       "      <td>0.709914</td>\n",
       "      <td>0.28584</td>\n",
       "      <td>0.748065</td>\n",
       "      <td>0.371286</td>\n",
       "      <td>0.04878</td>\n",
       "      <td>0.01626</td>\n",
       "    </tr>\n",
       "  </tbody>\n",
       "</table>\n",
       "</div>"
      ],
      "text/plain": [
       "            All             In VOC           Out of VOC         \n",
       "       f1 micro f1 macro  f1 micro  f1 macro   f1 micro f1 macro\n",
       "score  0.709914  0.28584  0.748065  0.371286    0.04878  0.01626"
      ]
     },
     "metadata": {},
     "output_type": "display_data"
    },
    {
     "name": "stdout",
     "output_type": "stream",
     "text": [
      "EarlyStopping counter: 2 out of 7\n"
     ]
    },
    {
     "name": "stderr",
     "output_type": "stream",
     "text": [
      "Epoch 27: 100%|██████████| 513/513 [01:41<00:00,  5.05batch/s, loss_decrease=1.0000008473174447]\n",
      "100%|██████████| 1503/1503 [00:30<00:00, 49.62batch/s]\n"
     ]
    },
    {
     "data": {
      "text/html": [
       "<div>\n",
       "<style scoped>\n",
       "    .dataframe tbody tr th:only-of-type {\n",
       "        vertical-align: middle;\n",
       "    }\n",
       "\n",
       "    .dataframe tbody tr th {\n",
       "        vertical-align: top;\n",
       "    }\n",
       "\n",
       "    .dataframe thead tr th {\n",
       "        text-align: left;\n",
       "    }\n",
       "</style>\n",
       "<table border=\"1\" class=\"dataframe\">\n",
       "  <thead>\n",
       "    <tr>\n",
       "      <th></th>\n",
       "      <th colspan=\"2\" halign=\"left\">All</th>\n",
       "      <th colspan=\"2\" halign=\"left\">In VOC</th>\n",
       "      <th colspan=\"2\" halign=\"left\">Out of VOC</th>\n",
       "    </tr>\n",
       "    <tr>\n",
       "      <th></th>\n",
       "      <th>f1 micro</th>\n",
       "      <th>f1 macro</th>\n",
       "      <th>f1 micro</th>\n",
       "      <th>f1 macro</th>\n",
       "      <th>f1 micro</th>\n",
       "      <th>f1 macro</th>\n",
       "    </tr>\n",
       "  </thead>\n",
       "  <tbody>\n",
       "    <tr>\n",
       "      <th>score</th>\n",
       "      <td>0.705256</td>\n",
       "      <td>0.277195</td>\n",
       "      <td>0.742435</td>\n",
       "      <td>0.358711</td>\n",
       "      <td>0.060976</td>\n",
       "      <td>0.020513</td>\n",
       "    </tr>\n",
       "  </tbody>\n",
       "</table>\n",
       "</div>"
      ],
      "text/plain": [
       "            All              In VOC           Out of VOC          \n",
       "       f1 micro  f1 macro  f1 micro  f1 macro   f1 micro  f1 macro\n",
       "score  0.705256  0.277195  0.742435  0.358711   0.060976  0.020513"
      ]
     },
     "metadata": {},
     "output_type": "display_data"
    },
    {
     "name": "stdout",
     "output_type": "stream",
     "text": [
      "EarlyStopping counter: 3 out of 7\n"
     ]
    },
    {
     "name": "stderr",
     "output_type": "stream",
     "text": [
      "Epoch 28: 100%|██████████| 513/513 [01:40<00:00,  5.08batch/s, loss_decrease=1.0000009414639162]\n",
      "100%|██████████| 1503/1503 [00:30<00:00, 49.35batch/s]\n"
     ]
    },
    {
     "data": {
      "text/html": [
       "<div>\n",
       "<style scoped>\n",
       "    .dataframe tbody tr th:only-of-type {\n",
       "        vertical-align: middle;\n",
       "    }\n",
       "\n",
       "    .dataframe tbody tr th {\n",
       "        vertical-align: top;\n",
       "    }\n",
       "\n",
       "    .dataframe thead tr th {\n",
       "        text-align: left;\n",
       "    }\n",
       "</style>\n",
       "<table border=\"1\" class=\"dataframe\">\n",
       "  <thead>\n",
       "    <tr>\n",
       "      <th></th>\n",
       "      <th colspan=\"2\" halign=\"left\">All</th>\n",
       "      <th colspan=\"2\" halign=\"left\">In VOC</th>\n",
       "      <th colspan=\"2\" halign=\"left\">Out of VOC</th>\n",
       "    </tr>\n",
       "    <tr>\n",
       "      <th></th>\n",
       "      <th>f1 micro</th>\n",
       "      <th>f1 macro</th>\n",
       "      <th>f1 micro</th>\n",
       "      <th>f1 macro</th>\n",
       "      <th>f1 micro</th>\n",
       "      <th>f1 macro</th>\n",
       "    </tr>\n",
       "  </thead>\n",
       "  <tbody>\n",
       "    <tr>\n",
       "      <th>score</th>\n",
       "      <td>0.703925</td>\n",
       "      <td>0.285336</td>\n",
       "      <td>0.742435</td>\n",
       "      <td>0.368199</td>\n",
       "      <td>0.036585</td>\n",
       "      <td>0.008264</td>\n",
       "    </tr>\n",
       "  </tbody>\n",
       "</table>\n",
       "</div>"
      ],
      "text/plain": [
       "            All              In VOC           Out of VOC          \n",
       "       f1 micro  f1 macro  f1 micro  f1 macro   f1 micro  f1 macro\n",
       "score  0.703925  0.285336  0.742435  0.368199   0.036585  0.008264"
      ]
     },
     "metadata": {},
     "output_type": "display_data"
    },
    {
     "name": "stdout",
     "output_type": "stream",
     "text": [
      "EarlyStopping counter: 4 out of 7\n"
     ]
    },
    {
     "name": "stderr",
     "output_type": "stream",
     "text": [
      "Epoch 29: 100%|██████████| 513/513 [01:38<00:00,  5.22batch/s, loss_decrease=1.0000009414639162]\n",
      "100%|██████████| 1503/1503 [00:29<00:00, 50.69batch/s]\n"
     ]
    },
    {
     "data": {
      "text/html": [
       "<div>\n",
       "<style scoped>\n",
       "    .dataframe tbody tr th:only-of-type {\n",
       "        vertical-align: middle;\n",
       "    }\n",
       "\n",
       "    .dataframe tbody tr th {\n",
       "        vertical-align: top;\n",
       "    }\n",
       "\n",
       "    .dataframe thead tr th {\n",
       "        text-align: left;\n",
       "    }\n",
       "</style>\n",
       "<table border=\"1\" class=\"dataframe\">\n",
       "  <thead>\n",
       "    <tr>\n",
       "      <th></th>\n",
       "      <th colspan=\"2\" halign=\"left\">All</th>\n",
       "      <th colspan=\"2\" halign=\"left\">In VOC</th>\n",
       "      <th colspan=\"2\" halign=\"left\">Out of VOC</th>\n",
       "    </tr>\n",
       "    <tr>\n",
       "      <th></th>\n",
       "      <th>f1 micro</th>\n",
       "      <th>f1 macro</th>\n",
       "      <th>f1 micro</th>\n",
       "      <th>f1 macro</th>\n",
       "      <th>f1 micro</th>\n",
       "      <th>f1 macro</th>\n",
       "    </tr>\n",
       "  </thead>\n",
       "  <tbody>\n",
       "    <tr>\n",
       "      <th>score</th>\n",
       "      <td>0.73187</td>\n",
       "      <td>0.314549</td>\n",
       "      <td>0.771992</td>\n",
       "      <td>0.410531</td>\n",
       "      <td>0.036585</td>\n",
       "      <td>0.007752</td>\n",
       "    </tr>\n",
       "  </tbody>\n",
       "</table>\n",
       "</div>"
      ],
      "text/plain": [
       "           All              In VOC           Out of VOC          \n",
       "      f1 micro  f1 macro  f1 micro  f1 macro   f1 micro  f1 macro\n",
       "score  0.73187  0.314549  0.771992  0.410531   0.036585  0.007752"
      ]
     },
     "metadata": {},
     "output_type": "display_data"
    },
    {
     "name": "stdout",
     "output_type": "stream",
     "text": [
      "Validation metric increased (0.288158 --> 0.314549).  Saving model ...\n"
     ]
    },
    {
     "name": "stderr",
     "output_type": "stream",
     "text": [
      "Epoch 30: 100%|██████████| 513/513 [01:40<00:00,  5.09batch/s, loss_decrease=1.0000009414639162]\n",
      "100%|██████████| 1503/1503 [00:29<00:00, 50.15batch/s]\n"
     ]
    },
    {
     "data": {
      "text/html": [
       "<div>\n",
       "<style scoped>\n",
       "    .dataframe tbody tr th:only-of-type {\n",
       "        vertical-align: middle;\n",
       "    }\n",
       "\n",
       "    .dataframe tbody tr th {\n",
       "        vertical-align: top;\n",
       "    }\n",
       "\n",
       "    .dataframe thead tr th {\n",
       "        text-align: left;\n",
       "    }\n",
       "</style>\n",
       "<table border=\"1\" class=\"dataframe\">\n",
       "  <thead>\n",
       "    <tr>\n",
       "      <th></th>\n",
       "      <th colspan=\"2\" halign=\"left\">All</th>\n",
       "      <th colspan=\"2\" halign=\"left\">In VOC</th>\n",
       "      <th colspan=\"2\" halign=\"left\">Out of VOC</th>\n",
       "    </tr>\n",
       "    <tr>\n",
       "      <th></th>\n",
       "      <th>f1 micro</th>\n",
       "      <th>f1 macro</th>\n",
       "      <th>f1 micro</th>\n",
       "      <th>f1 macro</th>\n",
       "      <th>f1 micro</th>\n",
       "      <th>f1 macro</th>\n",
       "    </tr>\n",
       "  </thead>\n",
       "  <tbody>\n",
       "    <tr>\n",
       "      <th>score</th>\n",
       "      <td>0.717898</td>\n",
       "      <td>0.309077</td>\n",
       "      <td>0.75651</td>\n",
       "      <td>0.402046</td>\n",
       "      <td>0.04878</td>\n",
       "      <td>0.015504</td>\n",
       "    </tr>\n",
       "  </tbody>\n",
       "</table>\n",
       "</div>"
      ],
      "text/plain": [
       "            All             In VOC           Out of VOC          \n",
       "       f1 micro  f1 macro f1 micro  f1 macro   f1 micro  f1 macro\n",
       "score  0.717898  0.309077  0.75651  0.402046    0.04878  0.015504"
      ]
     },
     "metadata": {},
     "output_type": "display_data"
    },
    {
     "name": "stdout",
     "output_type": "stream",
     "text": [
      "EarlyStopping counter: 1 out of 7\n"
     ]
    },
    {
     "name": "stderr",
     "output_type": "stream",
     "text": [
      "Epoch 31: 100%|██████████| 513/513 [01:40<00:00,  5.10batch/s, loss_decrease=1.0000008473174447]\n",
      "100%|██████████| 1503/1503 [00:30<00:00, 50.08batch/s]\n"
     ]
    },
    {
     "data": {
      "text/html": [
       "<div>\n",
       "<style scoped>\n",
       "    .dataframe tbody tr th:only-of-type {\n",
       "        vertical-align: middle;\n",
       "    }\n",
       "\n",
       "    .dataframe tbody tr th {\n",
       "        vertical-align: top;\n",
       "    }\n",
       "\n",
       "    .dataframe thead tr th {\n",
       "        text-align: left;\n",
       "    }\n",
       "</style>\n",
       "<table border=\"1\" class=\"dataframe\">\n",
       "  <thead>\n",
       "    <tr>\n",
       "      <th></th>\n",
       "      <th colspan=\"2\" halign=\"left\">All</th>\n",
       "      <th colspan=\"2\" halign=\"left\">In VOC</th>\n",
       "      <th colspan=\"2\" halign=\"left\">Out of VOC</th>\n",
       "    </tr>\n",
       "    <tr>\n",
       "      <th></th>\n",
       "      <th>f1 micro</th>\n",
       "      <th>f1 macro</th>\n",
       "      <th>f1 micro</th>\n",
       "      <th>f1 macro</th>\n",
       "      <th>f1 micro</th>\n",
       "      <th>f1 macro</th>\n",
       "    </tr>\n",
       "  </thead>\n",
       "  <tbody>\n",
       "    <tr>\n",
       "      <th>score</th>\n",
       "      <td>0.726547</td>\n",
       "      <td>0.314978</td>\n",
       "      <td>0.764954</td>\n",
       "      <td>0.403635</td>\n",
       "      <td>0.060976</td>\n",
       "      <td>0.023622</td>\n",
       "    </tr>\n",
       "  </tbody>\n",
       "</table>\n",
       "</div>"
      ],
      "text/plain": [
       "            All              In VOC           Out of VOC          \n",
       "       f1 micro  f1 macro  f1 micro  f1 macro   f1 micro  f1 macro\n",
       "score  0.726547  0.314978  0.764954  0.403635   0.060976  0.023622"
      ]
     },
     "metadata": {},
     "output_type": "display_data"
    },
    {
     "name": "stdout",
     "output_type": "stream",
     "text": [
      "Validation metric increased (0.314549 --> 0.314978).  Saving model ...\n"
     ]
    },
    {
     "name": "stderr",
     "output_type": "stream",
     "text": [
      "Epoch 32: 100%|██████████| 513/513 [01:41<00:00,  5.03batch/s, loss_decrease=1.0000009414639162]\n",
      "100%|██████████| 1503/1503 [00:31<00:00, 47.85batch/s]\n"
     ]
    },
    {
     "data": {
      "text/html": [
       "<div>\n",
       "<style scoped>\n",
       "    .dataframe tbody tr th:only-of-type {\n",
       "        vertical-align: middle;\n",
       "    }\n",
       "\n",
       "    .dataframe tbody tr th {\n",
       "        vertical-align: top;\n",
       "    }\n",
       "\n",
       "    .dataframe thead tr th {\n",
       "        text-align: left;\n",
       "    }\n",
       "</style>\n",
       "<table border=\"1\" class=\"dataframe\">\n",
       "  <thead>\n",
       "    <tr>\n",
       "      <th></th>\n",
       "      <th colspan=\"2\" halign=\"left\">All</th>\n",
       "      <th colspan=\"2\" halign=\"left\">In VOC</th>\n",
       "      <th colspan=\"2\" halign=\"left\">Out of VOC</th>\n",
       "    </tr>\n",
       "    <tr>\n",
       "      <th></th>\n",
       "      <th>f1 micro</th>\n",
       "      <th>f1 macro</th>\n",
       "      <th>f1 micro</th>\n",
       "      <th>f1 macro</th>\n",
       "      <th>f1 micro</th>\n",
       "      <th>f1 macro</th>\n",
       "    </tr>\n",
       "  </thead>\n",
       "  <tbody>\n",
       "    <tr>\n",
       "      <th>score</th>\n",
       "      <td>0.727212</td>\n",
       "      <td>0.318437</td>\n",
       "      <td>0.765658</td>\n",
       "      <td>0.404065</td>\n",
       "      <td>0.060976</td>\n",
       "      <td>0.024</td>\n",
       "    </tr>\n",
       "  </tbody>\n",
       "</table>\n",
       "</div>"
      ],
      "text/plain": [
       "            All              In VOC           Out of VOC         \n",
       "       f1 micro  f1 macro  f1 micro  f1 macro   f1 micro f1 macro\n",
       "score  0.727212  0.318437  0.765658  0.404065   0.060976    0.024"
      ]
     },
     "metadata": {},
     "output_type": "display_data"
    },
    {
     "name": "stdout",
     "output_type": "stream",
     "text": [
      "Validation metric increased (0.314978 --> 0.318437).  Saving model ...\n"
     ]
    },
    {
     "name": "stderr",
     "output_type": "stream",
     "text": [
      "Epoch 33: 100%|██████████| 513/513 [01:40<00:00,  5.09batch/s, loss_decrease=1.0000009414639162]\n",
      "100%|██████████| 1503/1503 [00:29<00:00, 50.51batch/s]\n"
     ]
    },
    {
     "data": {
      "text/html": [
       "<div>\n",
       "<style scoped>\n",
       "    .dataframe tbody tr th:only-of-type {\n",
       "        vertical-align: middle;\n",
       "    }\n",
       "\n",
       "    .dataframe tbody tr th {\n",
       "        vertical-align: top;\n",
       "    }\n",
       "\n",
       "    .dataframe thead tr th {\n",
       "        text-align: left;\n",
       "    }\n",
       "</style>\n",
       "<table border=\"1\" class=\"dataframe\">\n",
       "  <thead>\n",
       "    <tr>\n",
       "      <th></th>\n",
       "      <th colspan=\"2\" halign=\"left\">All</th>\n",
       "      <th colspan=\"2\" halign=\"left\">In VOC</th>\n",
       "      <th colspan=\"2\" halign=\"left\">Out of VOC</th>\n",
       "    </tr>\n",
       "    <tr>\n",
       "      <th></th>\n",
       "      <th>f1 micro</th>\n",
       "      <th>f1 macro</th>\n",
       "      <th>f1 micro</th>\n",
       "      <th>f1 macro</th>\n",
       "      <th>f1 micro</th>\n",
       "      <th>f1 macro</th>\n",
       "    </tr>\n",
       "  </thead>\n",
       "  <tbody>\n",
       "    <tr>\n",
       "      <th>score</th>\n",
       "      <td>0.7332</td>\n",
       "      <td>0.319568</td>\n",
       "      <td>0.771992</td>\n",
       "      <td>0.411682</td>\n",
       "      <td>0.060976</td>\n",
       "      <td>0.023438</td>\n",
       "    </tr>\n",
       "  </tbody>\n",
       "</table>\n",
       "</div>"
      ],
      "text/plain": [
       "           All              In VOC           Out of VOC          \n",
       "      f1 micro  f1 macro  f1 micro  f1 macro   f1 micro  f1 macro\n",
       "score   0.7332  0.319568  0.771992  0.411682   0.060976  0.023438"
      ]
     },
     "metadata": {},
     "output_type": "display_data"
    },
    {
     "name": "stdout",
     "output_type": "stream",
     "text": [
      "Validation metric increased (0.318437 --> 0.319568).  Saving model ...\n"
     ]
    },
    {
     "name": "stderr",
     "output_type": "stream",
     "text": [
      "Epoch 34: 100%|██████████| 513/513 [01:39<00:00,  5.18batch/s, loss_decrease=1.0000008473174447]\n",
      "100%|██████████| 1503/1503 [00:29<00:00, 50.24batch/s]\n"
     ]
    },
    {
     "data": {
      "text/html": [
       "<div>\n",
       "<style scoped>\n",
       "    .dataframe tbody tr th:only-of-type {\n",
       "        vertical-align: middle;\n",
       "    }\n",
       "\n",
       "    .dataframe tbody tr th {\n",
       "        vertical-align: top;\n",
       "    }\n",
       "\n",
       "    .dataframe thead tr th {\n",
       "        text-align: left;\n",
       "    }\n",
       "</style>\n",
       "<table border=\"1\" class=\"dataframe\">\n",
       "  <thead>\n",
       "    <tr>\n",
       "      <th></th>\n",
       "      <th colspan=\"2\" halign=\"left\">All</th>\n",
       "      <th colspan=\"2\" halign=\"left\">In VOC</th>\n",
       "      <th colspan=\"2\" halign=\"left\">Out of VOC</th>\n",
       "    </tr>\n",
       "    <tr>\n",
       "      <th></th>\n",
       "      <th>f1 micro</th>\n",
       "      <th>f1 macro</th>\n",
       "      <th>f1 micro</th>\n",
       "      <th>f1 macro</th>\n",
       "      <th>f1 micro</th>\n",
       "      <th>f1 macro</th>\n",
       "    </tr>\n",
       "  </thead>\n",
       "  <tbody>\n",
       "    <tr>\n",
       "      <th>score</th>\n",
       "      <td>0.719228</td>\n",
       "      <td>0.31091</td>\n",
       "      <td>0.757917</td>\n",
       "      <td>0.401961</td>\n",
       "      <td>0.04878</td>\n",
       "      <td>0.015625</td>\n",
       "    </tr>\n",
       "  </tbody>\n",
       "</table>\n",
       "</div>"
      ],
      "text/plain": [
       "            All             In VOC           Out of VOC          \n",
       "       f1 micro f1 macro  f1 micro  f1 macro   f1 micro  f1 macro\n",
       "score  0.719228  0.31091  0.757917  0.401961    0.04878  0.015625"
      ]
     },
     "metadata": {},
     "output_type": "display_data"
    },
    {
     "name": "stdout",
     "output_type": "stream",
     "text": [
      "EarlyStopping counter: 1 out of 7\n"
     ]
    },
    {
     "name": "stderr",
     "output_type": "stream",
     "text": [
      "Epoch 35: 100%|██████████| 513/513 [01:41<00:00,  5.07batch/s, loss_decrease=1.0000009414639162]\n",
      "100%|██████████| 1503/1503 [00:32<00:00, 46.76batch/s]\n"
     ]
    },
    {
     "data": {
      "text/html": [
       "<div>\n",
       "<style scoped>\n",
       "    .dataframe tbody tr th:only-of-type {\n",
       "        vertical-align: middle;\n",
       "    }\n",
       "\n",
       "    .dataframe tbody tr th {\n",
       "        vertical-align: top;\n",
       "    }\n",
       "\n",
       "    .dataframe thead tr th {\n",
       "        text-align: left;\n",
       "    }\n",
       "</style>\n",
       "<table border=\"1\" class=\"dataframe\">\n",
       "  <thead>\n",
       "    <tr>\n",
       "      <th></th>\n",
       "      <th colspan=\"2\" halign=\"left\">All</th>\n",
       "      <th colspan=\"2\" halign=\"left\">In VOC</th>\n",
       "      <th colspan=\"2\" halign=\"left\">Out of VOC</th>\n",
       "    </tr>\n",
       "    <tr>\n",
       "      <th></th>\n",
       "      <th>f1 micro</th>\n",
       "      <th>f1 macro</th>\n",
       "      <th>f1 micro</th>\n",
       "      <th>f1 macro</th>\n",
       "      <th>f1 micro</th>\n",
       "      <th>f1 macro</th>\n",
       "    </tr>\n",
       "  </thead>\n",
       "  <tbody>\n",
       "    <tr>\n",
       "      <th>score</th>\n",
       "      <td>0.725882</td>\n",
       "      <td>0.318494</td>\n",
       "      <td>0.764251</td>\n",
       "      <td>0.411569</td>\n",
       "      <td>0.060976</td>\n",
       "      <td>0.023622</td>\n",
       "    </tr>\n",
       "  </tbody>\n",
       "</table>\n",
       "</div>"
      ],
      "text/plain": [
       "            All              In VOC           Out of VOC          \n",
       "       f1 micro  f1 macro  f1 micro  f1 macro   f1 micro  f1 macro\n",
       "score  0.725882  0.318494  0.764251  0.411569   0.060976  0.023622"
      ]
     },
     "metadata": {},
     "output_type": "display_data"
    },
    {
     "name": "stdout",
     "output_type": "stream",
     "text": [
      "EarlyStopping counter: 2 out of 7\n"
     ]
    },
    {
     "name": "stderr",
     "output_type": "stream",
     "text": [
      "Epoch 36: 100%|██████████| 513/513 [01:42<00:00,  5.01batch/s, loss_decrease=1.0000009414639162]\n",
      "100%|██████████| 1503/1503 [00:31<00:00, 48.25batch/s]\n"
     ]
    },
    {
     "data": {
      "text/html": [
       "<div>\n",
       "<style scoped>\n",
       "    .dataframe tbody tr th:only-of-type {\n",
       "        vertical-align: middle;\n",
       "    }\n",
       "\n",
       "    .dataframe tbody tr th {\n",
       "        vertical-align: top;\n",
       "    }\n",
       "\n",
       "    .dataframe thead tr th {\n",
       "        text-align: left;\n",
       "    }\n",
       "</style>\n",
       "<table border=\"1\" class=\"dataframe\">\n",
       "  <thead>\n",
       "    <tr>\n",
       "      <th></th>\n",
       "      <th colspan=\"2\" halign=\"left\">All</th>\n",
       "      <th colspan=\"2\" halign=\"left\">In VOC</th>\n",
       "      <th colspan=\"2\" halign=\"left\">Out of VOC</th>\n",
       "    </tr>\n",
       "    <tr>\n",
       "      <th></th>\n",
       "      <th>f1 micro</th>\n",
       "      <th>f1 macro</th>\n",
       "      <th>f1 micro</th>\n",
       "      <th>f1 macro</th>\n",
       "      <th>f1 micro</th>\n",
       "      <th>f1 macro</th>\n",
       "    </tr>\n",
       "  </thead>\n",
       "  <tbody>\n",
       "    <tr>\n",
       "      <th>score</th>\n",
       "      <td>0.724551</td>\n",
       "      <td>0.316874</td>\n",
       "      <td>0.763547</td>\n",
       "      <td>0.414225</td>\n",
       "      <td>0.04878</td>\n",
       "      <td>0.015873</td>\n",
       "    </tr>\n",
       "  </tbody>\n",
       "</table>\n",
       "</div>"
      ],
      "text/plain": [
       "            All              In VOC           Out of VOC          \n",
       "       f1 micro  f1 macro  f1 micro  f1 macro   f1 micro  f1 macro\n",
       "score  0.724551  0.316874  0.763547  0.414225    0.04878  0.015873"
      ]
     },
     "metadata": {},
     "output_type": "display_data"
    },
    {
     "name": "stdout",
     "output_type": "stream",
     "text": [
      "EarlyStopping counter: 3 out of 7\n"
     ]
    },
    {
     "name": "stderr",
     "output_type": "stream",
     "text": [
      "Epoch 37: 100%|██████████| 513/513 [01:41<00:00,  5.06batch/s, loss_decrease=1.0000009414639162]\n",
      "100%|██████████| 1503/1503 [00:30<00:00, 48.69batch/s]\n"
     ]
    },
    {
     "data": {
      "text/html": [
       "<div>\n",
       "<style scoped>\n",
       "    .dataframe tbody tr th:only-of-type {\n",
       "        vertical-align: middle;\n",
       "    }\n",
       "\n",
       "    .dataframe tbody tr th {\n",
       "        vertical-align: top;\n",
       "    }\n",
       "\n",
       "    .dataframe thead tr th {\n",
       "        text-align: left;\n",
       "    }\n",
       "</style>\n",
       "<table border=\"1\" class=\"dataframe\">\n",
       "  <thead>\n",
       "    <tr>\n",
       "      <th></th>\n",
       "      <th colspan=\"2\" halign=\"left\">All</th>\n",
       "      <th colspan=\"2\" halign=\"left\">In VOC</th>\n",
       "      <th colspan=\"2\" halign=\"left\">Out of VOC</th>\n",
       "    </tr>\n",
       "    <tr>\n",
       "      <th></th>\n",
       "      <th>f1 micro</th>\n",
       "      <th>f1 macro</th>\n",
       "      <th>f1 micro</th>\n",
       "      <th>f1 macro</th>\n",
       "      <th>f1 micro</th>\n",
       "      <th>f1 macro</th>\n",
       "    </tr>\n",
       "  </thead>\n",
       "  <tbody>\n",
       "    <tr>\n",
       "      <th>score</th>\n",
       "      <td>0.734531</td>\n",
       "      <td>0.329913</td>\n",
       "      <td>0.774103</td>\n",
       "      <td>0.429618</td>\n",
       "      <td>0.04878</td>\n",
       "      <td>0.015267</td>\n",
       "    </tr>\n",
       "  </tbody>\n",
       "</table>\n",
       "</div>"
      ],
      "text/plain": [
       "            All              In VOC           Out of VOC          \n",
       "       f1 micro  f1 macro  f1 micro  f1 macro   f1 micro  f1 macro\n",
       "score  0.734531  0.329913  0.774103  0.429618    0.04878  0.015267"
      ]
     },
     "metadata": {},
     "output_type": "display_data"
    },
    {
     "name": "stdout",
     "output_type": "stream",
     "text": [
      "Validation metric increased (0.319568 --> 0.329913).  Saving model ...\n"
     ]
    },
    {
     "name": "stderr",
     "output_type": "stream",
     "text": [
      "Epoch 38: 100%|██████████| 513/513 [01:41<00:00,  5.04batch/s, loss_decrease=1.0000009414639162]\n",
      "100%|██████████| 1503/1503 [00:29<00:00, 51.21batch/s]\n"
     ]
    },
    {
     "data": {
      "text/html": [
       "<div>\n",
       "<style scoped>\n",
       "    .dataframe tbody tr th:only-of-type {\n",
       "        vertical-align: middle;\n",
       "    }\n",
       "\n",
       "    .dataframe tbody tr th {\n",
       "        vertical-align: top;\n",
       "    }\n",
       "\n",
       "    .dataframe thead tr th {\n",
       "        text-align: left;\n",
       "    }\n",
       "</style>\n",
       "<table border=\"1\" class=\"dataframe\">\n",
       "  <thead>\n",
       "    <tr>\n",
       "      <th></th>\n",
       "      <th colspan=\"2\" halign=\"left\">All</th>\n",
       "      <th colspan=\"2\" halign=\"left\">In VOC</th>\n",
       "      <th colspan=\"2\" halign=\"left\">Out of VOC</th>\n",
       "    </tr>\n",
       "    <tr>\n",
       "      <th></th>\n",
       "      <th>f1 micro</th>\n",
       "      <th>f1 macro</th>\n",
       "      <th>f1 micro</th>\n",
       "      <th>f1 macro</th>\n",
       "      <th>f1 micro</th>\n",
       "      <th>f1 macro</th>\n",
       "    </tr>\n",
       "  </thead>\n",
       "  <tbody>\n",
       "    <tr>\n",
       "      <th>score</th>\n",
       "      <td>0.736527</td>\n",
       "      <td>0.322607</td>\n",
       "      <td>0.776214</td>\n",
       "      <td>0.416185</td>\n",
       "      <td>0.04878</td>\n",
       "      <td>0.015748</td>\n",
       "    </tr>\n",
       "  </tbody>\n",
       "</table>\n",
       "</div>"
      ],
      "text/plain": [
       "            All              In VOC           Out of VOC          \n",
       "       f1 micro  f1 macro  f1 micro  f1 macro   f1 micro  f1 macro\n",
       "score  0.736527  0.322607  0.776214  0.416185    0.04878  0.015748"
      ]
     },
     "metadata": {},
     "output_type": "display_data"
    },
    {
     "name": "stdout",
     "output_type": "stream",
     "text": [
      "EarlyStopping counter: 1 out of 7\n"
     ]
    },
    {
     "name": "stderr",
     "output_type": "stream",
     "text": [
      "Epoch 39: 100%|██████████| 513/513 [01:39<00:00,  5.15batch/s, loss_decrease=1.0000008473174447]\n",
      "100%|██████████| 1503/1503 [00:29<00:00, 51.71batch/s]\n"
     ]
    },
    {
     "data": {
      "text/html": [
       "<div>\n",
       "<style scoped>\n",
       "    .dataframe tbody tr th:only-of-type {\n",
       "        vertical-align: middle;\n",
       "    }\n",
       "\n",
       "    .dataframe tbody tr th {\n",
       "        vertical-align: top;\n",
       "    }\n",
       "\n",
       "    .dataframe thead tr th {\n",
       "        text-align: left;\n",
       "    }\n",
       "</style>\n",
       "<table border=\"1\" class=\"dataframe\">\n",
       "  <thead>\n",
       "    <tr>\n",
       "      <th></th>\n",
       "      <th colspan=\"2\" halign=\"left\">All</th>\n",
       "      <th colspan=\"2\" halign=\"left\">In VOC</th>\n",
       "      <th colspan=\"2\" halign=\"left\">Out of VOC</th>\n",
       "    </tr>\n",
       "    <tr>\n",
       "      <th></th>\n",
       "      <th>f1 micro</th>\n",
       "      <th>f1 macro</th>\n",
       "      <th>f1 micro</th>\n",
       "      <th>f1 macro</th>\n",
       "      <th>f1 micro</th>\n",
       "      <th>f1 macro</th>\n",
       "    </tr>\n",
       "  </thead>\n",
       "  <tbody>\n",
       "    <tr>\n",
       "      <th>score</th>\n",
       "      <td>0.737858</td>\n",
       "      <td>0.331462</td>\n",
       "      <td>0.776918</td>\n",
       "      <td>0.432833</td>\n",
       "      <td>0.060976</td>\n",
       "      <td>0.023256</td>\n",
       "    </tr>\n",
       "  </tbody>\n",
       "</table>\n",
       "</div>"
      ],
      "text/plain": [
       "            All              In VOC           Out of VOC          \n",
       "       f1 micro  f1 macro  f1 micro  f1 macro   f1 micro  f1 macro\n",
       "score  0.737858  0.331462  0.776918  0.432833   0.060976  0.023256"
      ]
     },
     "metadata": {},
     "output_type": "display_data"
    },
    {
     "name": "stdout",
     "output_type": "stream",
     "text": [
      "Validation metric increased (0.329913 --> 0.331462).  Saving model ...\n"
     ]
    },
    {
     "name": "stderr",
     "output_type": "stream",
     "text": [
      "Epoch 40: 100%|██████████| 513/513 [01:37<00:00,  5.25batch/s, loss_decrease=1.0000009414639162]\n",
      "100%|██████████| 1503/1503 [00:29<00:00, 51.26batch/s]\n"
     ]
    },
    {
     "data": {
      "text/html": [
       "<div>\n",
       "<style scoped>\n",
       "    .dataframe tbody tr th:only-of-type {\n",
       "        vertical-align: middle;\n",
       "    }\n",
       "\n",
       "    .dataframe tbody tr th {\n",
       "        vertical-align: top;\n",
       "    }\n",
       "\n",
       "    .dataframe thead tr th {\n",
       "        text-align: left;\n",
       "    }\n",
       "</style>\n",
       "<table border=\"1\" class=\"dataframe\">\n",
       "  <thead>\n",
       "    <tr>\n",
       "      <th></th>\n",
       "      <th colspan=\"2\" halign=\"left\">All</th>\n",
       "      <th colspan=\"2\" halign=\"left\">In VOC</th>\n",
       "      <th colspan=\"2\" halign=\"left\">Out of VOC</th>\n",
       "    </tr>\n",
       "    <tr>\n",
       "      <th></th>\n",
       "      <th>f1 micro</th>\n",
       "      <th>f1 macro</th>\n",
       "      <th>f1 micro</th>\n",
       "      <th>f1 macro</th>\n",
       "      <th>f1 micro</th>\n",
       "      <th>f1 macro</th>\n",
       "    </tr>\n",
       "  </thead>\n",
       "  <tbody>\n",
       "    <tr>\n",
       "      <th>score</th>\n",
       "      <td>0.742515</td>\n",
       "      <td>0.340695</td>\n",
       "      <td>0.781844</td>\n",
       "      <td>0.441913</td>\n",
       "      <td>0.060976</td>\n",
       "      <td>0.023077</td>\n",
       "    </tr>\n",
       "  </tbody>\n",
       "</table>\n",
       "</div>"
      ],
      "text/plain": [
       "            All              In VOC           Out of VOC          \n",
       "       f1 micro  f1 macro  f1 micro  f1 macro   f1 micro  f1 macro\n",
       "score  0.742515  0.340695  0.781844  0.441913   0.060976  0.023077"
      ]
     },
     "metadata": {},
     "output_type": "display_data"
    },
    {
     "name": "stdout",
     "output_type": "stream",
     "text": [
      "Validation metric increased (0.331462 --> 0.340695).  Saving model ...\n"
     ]
    },
    {
     "name": "stderr",
     "output_type": "stream",
     "text": [
      "Epoch 41: 100%|██████████| 513/513 [01:41<00:00,  5.03batch/s, loss_decrease=1.0000009414639162]\n",
      "100%|██████████| 1503/1503 [00:29<00:00, 50.96batch/s]\n"
     ]
    },
    {
     "data": {
      "text/html": [
       "<div>\n",
       "<style scoped>\n",
       "    .dataframe tbody tr th:only-of-type {\n",
       "        vertical-align: middle;\n",
       "    }\n",
       "\n",
       "    .dataframe tbody tr th {\n",
       "        vertical-align: top;\n",
       "    }\n",
       "\n",
       "    .dataframe thead tr th {\n",
       "        text-align: left;\n",
       "    }\n",
       "</style>\n",
       "<table border=\"1\" class=\"dataframe\">\n",
       "  <thead>\n",
       "    <tr>\n",
       "      <th></th>\n",
       "      <th colspan=\"2\" halign=\"left\">All</th>\n",
       "      <th colspan=\"2\" halign=\"left\">In VOC</th>\n",
       "      <th colspan=\"2\" halign=\"left\">Out of VOC</th>\n",
       "    </tr>\n",
       "    <tr>\n",
       "      <th></th>\n",
       "      <th>f1 micro</th>\n",
       "      <th>f1 macro</th>\n",
       "      <th>f1 micro</th>\n",
       "      <th>f1 macro</th>\n",
       "      <th>f1 micro</th>\n",
       "      <th>f1 macro</th>\n",
       "    </tr>\n",
       "  </thead>\n",
       "  <tbody>\n",
       "    <tr>\n",
       "      <th>score</th>\n",
       "      <td>0.726547</td>\n",
       "      <td>0.320833</td>\n",
       "      <td>0.765658</td>\n",
       "      <td>0.418132</td>\n",
       "      <td>0.04878</td>\n",
       "      <td>0.015385</td>\n",
       "    </tr>\n",
       "  </tbody>\n",
       "</table>\n",
       "</div>"
      ],
      "text/plain": [
       "            All              In VOC           Out of VOC          \n",
       "       f1 micro  f1 macro  f1 micro  f1 macro   f1 micro  f1 macro\n",
       "score  0.726547  0.320833  0.765658  0.418132    0.04878  0.015385"
      ]
     },
     "metadata": {},
     "output_type": "display_data"
    },
    {
     "name": "stdout",
     "output_type": "stream",
     "text": [
      "EarlyStopping counter: 1 out of 7\n"
     ]
    },
    {
     "name": "stderr",
     "output_type": "stream",
     "text": [
      "Epoch 42: 100%|██████████| 513/513 [01:41<00:00,  5.04batch/s, loss_decrease=1.0000009414639162]\n",
      "100%|██████████| 1503/1503 [00:30<00:00, 49.72batch/s]\n"
     ]
    },
    {
     "data": {
      "text/html": [
       "<div>\n",
       "<style scoped>\n",
       "    .dataframe tbody tr th:only-of-type {\n",
       "        vertical-align: middle;\n",
       "    }\n",
       "\n",
       "    .dataframe tbody tr th {\n",
       "        vertical-align: top;\n",
       "    }\n",
       "\n",
       "    .dataframe thead tr th {\n",
       "        text-align: left;\n",
       "    }\n",
       "</style>\n",
       "<table border=\"1\" class=\"dataframe\">\n",
       "  <thead>\n",
       "    <tr>\n",
       "      <th></th>\n",
       "      <th colspan=\"2\" halign=\"left\">All</th>\n",
       "      <th colspan=\"2\" halign=\"left\">In VOC</th>\n",
       "      <th colspan=\"2\" halign=\"left\">Out of VOC</th>\n",
       "    </tr>\n",
       "    <tr>\n",
       "      <th></th>\n",
       "      <th>f1 micro</th>\n",
       "      <th>f1 macro</th>\n",
       "      <th>f1 micro</th>\n",
       "      <th>f1 macro</th>\n",
       "      <th>f1 micro</th>\n",
       "      <th>f1 macro</th>\n",
       "    </tr>\n",
       "  </thead>\n",
       "  <tbody>\n",
       "    <tr>\n",
       "      <th>score</th>\n",
       "      <td>0.737192</td>\n",
       "      <td>0.33304</td>\n",
       "      <td>0.776214</td>\n",
       "      <td>0.431209</td>\n",
       "      <td>0.060976</td>\n",
       "      <td>0.023622</td>\n",
       "    </tr>\n",
       "  </tbody>\n",
       "</table>\n",
       "</div>"
      ],
      "text/plain": [
       "            All             In VOC           Out of VOC          \n",
       "       f1 micro f1 macro  f1 micro  f1 macro   f1 micro  f1 macro\n",
       "score  0.737192  0.33304  0.776214  0.431209   0.060976  0.023622"
      ]
     },
     "metadata": {},
     "output_type": "display_data"
    },
    {
     "name": "stdout",
     "output_type": "stream",
     "text": [
      "EarlyStopping counter: 2 out of 7\n"
     ]
    },
    {
     "name": "stderr",
     "output_type": "stream",
     "text": [
      "Epoch 43: 100%|██████████| 513/513 [01:41<00:00,  5.07batch/s, loss_decrease=1.0000009414639162]\n",
      "100%|██████████| 1503/1503 [00:29<00:00, 50.82batch/s]\n"
     ]
    },
    {
     "data": {
      "text/html": [
       "<div>\n",
       "<style scoped>\n",
       "    .dataframe tbody tr th:only-of-type {\n",
       "        vertical-align: middle;\n",
       "    }\n",
       "\n",
       "    .dataframe tbody tr th {\n",
       "        vertical-align: top;\n",
       "    }\n",
       "\n",
       "    .dataframe thead tr th {\n",
       "        text-align: left;\n",
       "    }\n",
       "</style>\n",
       "<table border=\"1\" class=\"dataframe\">\n",
       "  <thead>\n",
       "    <tr>\n",
       "      <th></th>\n",
       "      <th colspan=\"2\" halign=\"left\">All</th>\n",
       "      <th colspan=\"2\" halign=\"left\">In VOC</th>\n",
       "      <th colspan=\"2\" halign=\"left\">Out of VOC</th>\n",
       "    </tr>\n",
       "    <tr>\n",
       "      <th></th>\n",
       "      <th>f1 micro</th>\n",
       "      <th>f1 macro</th>\n",
       "      <th>f1 micro</th>\n",
       "      <th>f1 macro</th>\n",
       "      <th>f1 micro</th>\n",
       "      <th>f1 macro</th>\n",
       "    </tr>\n",
       "  </thead>\n",
       "  <tbody>\n",
       "    <tr>\n",
       "      <th>score</th>\n",
       "      <td>0.72322</td>\n",
       "      <td>0.32999</td>\n",
       "      <td>0.760732</td>\n",
       "      <td>0.42163</td>\n",
       "      <td>0.073171</td>\n",
       "      <td>0.032</td>\n",
       "    </tr>\n",
       "  </tbody>\n",
       "</table>\n",
       "</div>"
      ],
      "text/plain": [
       "           All             In VOC          Out of VOC         \n",
       "      f1 micro f1 macro  f1 micro f1 macro   f1 micro f1 macro\n",
       "score  0.72322  0.32999  0.760732  0.42163   0.073171    0.032"
      ]
     },
     "metadata": {},
     "output_type": "display_data"
    },
    {
     "name": "stdout",
     "output_type": "stream",
     "text": [
      "EarlyStopping counter: 3 out of 7\n"
     ]
    },
    {
     "name": "stderr",
     "output_type": "stream",
     "text": [
      "Epoch 44: 100%|██████████| 513/513 [01:40<00:00,  5.08batch/s, loss_decrease=1.0000009414639162]\n",
      "100%|██████████| 1503/1503 [00:31<00:00, 46.97batch/s]\n"
     ]
    },
    {
     "data": {
      "text/html": [
       "<div>\n",
       "<style scoped>\n",
       "    .dataframe tbody tr th:only-of-type {\n",
       "        vertical-align: middle;\n",
       "    }\n",
       "\n",
       "    .dataframe tbody tr th {\n",
       "        vertical-align: top;\n",
       "    }\n",
       "\n",
       "    .dataframe thead tr th {\n",
       "        text-align: left;\n",
       "    }\n",
       "</style>\n",
       "<table border=\"1\" class=\"dataframe\">\n",
       "  <thead>\n",
       "    <tr>\n",
       "      <th></th>\n",
       "      <th colspan=\"2\" halign=\"left\">All</th>\n",
       "      <th colspan=\"2\" halign=\"left\">In VOC</th>\n",
       "      <th colspan=\"2\" halign=\"left\">Out of VOC</th>\n",
       "    </tr>\n",
       "    <tr>\n",
       "      <th></th>\n",
       "      <th>f1 micro</th>\n",
       "      <th>f1 macro</th>\n",
       "      <th>f1 micro</th>\n",
       "      <th>f1 macro</th>\n",
       "      <th>f1 micro</th>\n",
       "      <th>f1 macro</th>\n",
       "    </tr>\n",
       "  </thead>\n",
       "  <tbody>\n",
       "    <tr>\n",
       "      <th>score</th>\n",
       "      <td>0.725882</td>\n",
       "      <td>0.305133</td>\n",
       "      <td>0.765658</td>\n",
       "      <td>0.402638</td>\n",
       "      <td>0.036585</td>\n",
       "      <td>0.007752</td>\n",
       "    </tr>\n",
       "  </tbody>\n",
       "</table>\n",
       "</div>"
      ],
      "text/plain": [
       "            All              In VOC           Out of VOC          \n",
       "       f1 micro  f1 macro  f1 micro  f1 macro   f1 micro  f1 macro\n",
       "score  0.725882  0.305133  0.765658  0.402638   0.036585  0.007752"
      ]
     },
     "metadata": {},
     "output_type": "display_data"
    },
    {
     "name": "stdout",
     "output_type": "stream",
     "text": [
      "EarlyStopping counter: 4 out of 7\n"
     ]
    },
    {
     "name": "stderr",
     "output_type": "stream",
     "text": [
      "Epoch 45: 100%|██████████| 513/513 [01:43<00:00,  4.93batch/s, loss_decrease=1.0000009414639162]\n",
      "100%|██████████| 1503/1503 [00:34<00:00, 42.99batch/s]\n"
     ]
    },
    {
     "data": {
      "text/html": [
       "<div>\n",
       "<style scoped>\n",
       "    .dataframe tbody tr th:only-of-type {\n",
       "        vertical-align: middle;\n",
       "    }\n",
       "\n",
       "    .dataframe tbody tr th {\n",
       "        vertical-align: top;\n",
       "    }\n",
       "\n",
       "    .dataframe thead tr th {\n",
       "        text-align: left;\n",
       "    }\n",
       "</style>\n",
       "<table border=\"1\" class=\"dataframe\">\n",
       "  <thead>\n",
       "    <tr>\n",
       "      <th></th>\n",
       "      <th colspan=\"2\" halign=\"left\">All</th>\n",
       "      <th colspan=\"2\" halign=\"left\">In VOC</th>\n",
       "      <th colspan=\"2\" halign=\"left\">Out of VOC</th>\n",
       "    </tr>\n",
       "    <tr>\n",
       "      <th></th>\n",
       "      <th>f1 micro</th>\n",
       "      <th>f1 macro</th>\n",
       "      <th>f1 micro</th>\n",
       "      <th>f1 macro</th>\n",
       "      <th>f1 micro</th>\n",
       "      <th>f1 macro</th>\n",
       "    </tr>\n",
       "  </thead>\n",
       "  <tbody>\n",
       "    <tr>\n",
       "      <th>score</th>\n",
       "      <td>0.739854</td>\n",
       "      <td>0.326164</td>\n",
       "      <td>0.779733</td>\n",
       "      <td>0.433068</td>\n",
       "      <td>0.04878</td>\n",
       "      <td>0.014925</td>\n",
       "    </tr>\n",
       "  </tbody>\n",
       "</table>\n",
       "</div>"
      ],
      "text/plain": [
       "            All              In VOC           Out of VOC          \n",
       "       f1 micro  f1 macro  f1 micro  f1 macro   f1 micro  f1 macro\n",
       "score  0.739854  0.326164  0.779733  0.433068    0.04878  0.014925"
      ]
     },
     "metadata": {},
     "output_type": "display_data"
    },
    {
     "name": "stdout",
     "output_type": "stream",
     "text": [
      "EarlyStopping counter: 5 out of 7\n"
     ]
    },
    {
     "name": "stderr",
     "output_type": "stream",
     "text": [
      "Epoch 46: 100%|██████████| 513/513 [01:41<00:00,  5.05batch/s, loss_decrease=1.0000009414639162]\n",
      "100%|██████████| 1503/1503 [00:30<00:00, 48.62batch/s]\n"
     ]
    },
    {
     "data": {
      "text/html": [
       "<div>\n",
       "<style scoped>\n",
       "    .dataframe tbody tr th:only-of-type {\n",
       "        vertical-align: middle;\n",
       "    }\n",
       "\n",
       "    .dataframe tbody tr th {\n",
       "        vertical-align: top;\n",
       "    }\n",
       "\n",
       "    .dataframe thead tr th {\n",
       "        text-align: left;\n",
       "    }\n",
       "</style>\n",
       "<table border=\"1\" class=\"dataframe\">\n",
       "  <thead>\n",
       "    <tr>\n",
       "      <th></th>\n",
       "      <th colspan=\"2\" halign=\"left\">All</th>\n",
       "      <th colspan=\"2\" halign=\"left\">In VOC</th>\n",
       "      <th colspan=\"2\" halign=\"left\">Out of VOC</th>\n",
       "    </tr>\n",
       "    <tr>\n",
       "      <th></th>\n",
       "      <th>f1 micro</th>\n",
       "      <th>f1 macro</th>\n",
       "      <th>f1 micro</th>\n",
       "      <th>f1 macro</th>\n",
       "      <th>f1 micro</th>\n",
       "      <th>f1 macro</th>\n",
       "    </tr>\n",
       "  </thead>\n",
       "  <tbody>\n",
       "    <tr>\n",
       "      <th>score</th>\n",
       "      <td>0.7332</td>\n",
       "      <td>0.333685</td>\n",
       "      <td>0.771992</td>\n",
       "      <td>0.436761</td>\n",
       "      <td>0.060976</td>\n",
       "      <td>0.023438</td>\n",
       "    </tr>\n",
       "  </tbody>\n",
       "</table>\n",
       "</div>"
      ],
      "text/plain": [
       "           All              In VOC           Out of VOC          \n",
       "      f1 micro  f1 macro  f1 micro  f1 macro   f1 micro  f1 macro\n",
       "score   0.7332  0.333685  0.771992  0.436761   0.060976  0.023438"
      ]
     },
     "metadata": {},
     "output_type": "display_data"
    },
    {
     "name": "stdout",
     "output_type": "stream",
     "text": [
      "EarlyStopping counter: 6 out of 7\n"
     ]
    },
    {
     "name": "stderr",
     "output_type": "stream",
     "text": [
      "Epoch 47: 100%|██████████| 513/513 [01:38<00:00,  5.21batch/s, loss_decrease=1.0000009414639162]\n",
      "100%|██████████| 1503/1503 [00:30<00:00, 49.48batch/s]\n"
     ]
    },
    {
     "data": {
      "text/html": [
       "<div>\n",
       "<style scoped>\n",
       "    .dataframe tbody tr th:only-of-type {\n",
       "        vertical-align: middle;\n",
       "    }\n",
       "\n",
       "    .dataframe tbody tr th {\n",
       "        vertical-align: top;\n",
       "    }\n",
       "\n",
       "    .dataframe thead tr th {\n",
       "        text-align: left;\n",
       "    }\n",
       "</style>\n",
       "<table border=\"1\" class=\"dataframe\">\n",
       "  <thead>\n",
       "    <tr>\n",
       "      <th></th>\n",
       "      <th colspan=\"2\" halign=\"left\">All</th>\n",
       "      <th colspan=\"2\" halign=\"left\">In VOC</th>\n",
       "      <th colspan=\"2\" halign=\"left\">Out of VOC</th>\n",
       "    </tr>\n",
       "    <tr>\n",
       "      <th></th>\n",
       "      <th>f1 micro</th>\n",
       "      <th>f1 macro</th>\n",
       "      <th>f1 micro</th>\n",
       "      <th>f1 macro</th>\n",
       "      <th>f1 micro</th>\n",
       "      <th>f1 macro</th>\n",
       "    </tr>\n",
       "  </thead>\n",
       "  <tbody>\n",
       "    <tr>\n",
       "      <th>score</th>\n",
       "      <td>0.732535</td>\n",
       "      <td>0.334274</td>\n",
       "      <td>0.771288</td>\n",
       "      <td>0.434468</td>\n",
       "      <td>0.060976</td>\n",
       "      <td>0.023438</td>\n",
       "    </tr>\n",
       "  </tbody>\n",
       "</table>\n",
       "</div>"
      ],
      "text/plain": [
       "            All              In VOC           Out of VOC          \n",
       "       f1 micro  f1 macro  f1 micro  f1 macro   f1 micro  f1 macro\n",
       "score  0.732535  0.334274  0.771288  0.434468   0.060976  0.023438"
      ]
     },
     "metadata": {},
     "output_type": "display_data"
    },
    {
     "name": "stdout",
     "output_type": "stream",
     "text": [
      "EarlyStopping counter: 7 out of 7\n",
      "Early stopping\n",
      "Evaluating on test dataset\n"
     ]
    },
    {
     "name": "stderr",
     "output_type": "stream",
     "text": [
      "100%|██████████| 2211/2211 [00:51<00:00, 43.34batch/s]\n"
     ]
    },
    {
     "data": {
      "text/html": [
       "<div>\n",
       "<style scoped>\n",
       "    .dataframe tbody tr th:only-of-type {\n",
       "        vertical-align: middle;\n",
       "    }\n",
       "\n",
       "    .dataframe tbody tr th {\n",
       "        vertical-align: top;\n",
       "    }\n",
       "\n",
       "    .dataframe thead tr th {\n",
       "        text-align: left;\n",
       "    }\n",
       "</style>\n",
       "<table border=\"1\" class=\"dataframe\">\n",
       "  <thead>\n",
       "    <tr>\n",
       "      <th></th>\n",
       "      <th colspan=\"2\" halign=\"left\">All</th>\n",
       "      <th colspan=\"2\" halign=\"left\">In VOC</th>\n",
       "      <th colspan=\"2\" halign=\"left\">Out of VOC</th>\n",
       "    </tr>\n",
       "    <tr>\n",
       "      <th></th>\n",
       "      <th>f1 micro</th>\n",
       "      <th>f1 macro</th>\n",
       "      <th>f1 micro</th>\n",
       "      <th>f1 macro</th>\n",
       "      <th>f1 micro</th>\n",
       "      <th>f1 macro</th>\n",
       "    </tr>\n",
       "  </thead>\n",
       "  <tbody>\n",
       "    <tr>\n",
       "      <th>score</th>\n",
       "      <td>0.733152</td>\n",
       "      <td>0.29088</td>\n",
       "      <td>0.772097</td>\n",
       "      <td>0.380887</td>\n",
       "      <td>0.042373</td>\n",
       "      <td>0.022989</td>\n",
       "    </tr>\n",
       "  </tbody>\n",
       "</table>\n",
       "</div>"
      ],
      "text/plain": [
       "            All             In VOC           Out of VOC          \n",
       "       f1 micro f1 macro  f1 micro  f1 macro   f1 micro  f1 macro\n",
       "score  0.733152  0.29088  0.772097  0.380887   0.042373  0.022989"
      ]
     },
     "metadata": {},
     "output_type": "display_data"
    },
    {
     "name": "stdout",
     "output_type": "stream",
     "text": [
      "Сплит 2\n"
     ]
    },
    {
     "name": "stderr",
     "output_type": "stream",
     "text": [
      "Some weights of the model checkpoint at sagteam/xlm-roberta-large-sag were not used when initializing XLMRobertaModel: ['lm_head.decoder.weight', 'lm_head.dense.weight', 'lm_head.dense.bias', 'lm_head.bias', 'lm_head.layer_norm.bias', 'lm_head.decoder.bias', 'lm_head.layer_norm.weight']\n",
      "- This IS expected if you are initializing XLMRobertaModel from the checkpoint of a model trained on another task or with another architecture (e.g. initializing a BertForSequenceClassification model from a BertForPreTraining model).\n",
      "- This IS NOT expected if you are initializing XLMRobertaModel from the checkpoint of a model that you expect to be exactly identical (initializing a BertForSequenceClassification model from a BertForSequenceClassification model).\n",
      "Some weights of XLMRobertaModel were not initialized from the model checkpoint at sagteam/xlm-roberta-large-sag and are newly initialized: ['roberta.pooler.dense.bias', 'roberta.pooler.dense.weight']\n",
      "You should probably TRAIN this model on a down-stream task to be able to use it for predictions and inference.\n",
      "Epoch 1: 100%|██████████| 502/502 [01:41<00:00,  4.92batch/s, loss_decrease=1.0000008473172852]\n",
      "100%|██████████| 1445/1445 [00:31<00:00, 46.24batch/s]\n"
     ]
    },
    {
     "data": {
      "text/html": [
       "<div>\n",
       "<style scoped>\n",
       "    .dataframe tbody tr th:only-of-type {\n",
       "        vertical-align: middle;\n",
       "    }\n",
       "\n",
       "    .dataframe tbody tr th {\n",
       "        vertical-align: top;\n",
       "    }\n",
       "\n",
       "    .dataframe thead tr th {\n",
       "        text-align: left;\n",
       "    }\n",
       "</style>\n",
       "<table border=\"1\" class=\"dataframe\">\n",
       "  <thead>\n",
       "    <tr>\n",
       "      <th></th>\n",
       "      <th colspan=\"2\" halign=\"left\">All</th>\n",
       "      <th colspan=\"2\" halign=\"left\">In VOC</th>\n",
       "      <th colspan=\"2\" halign=\"left\">Out of VOC</th>\n",
       "    </tr>\n",
       "    <tr>\n",
       "      <th></th>\n",
       "      <th>f1 micro</th>\n",
       "      <th>f1 macro</th>\n",
       "      <th>f1 micro</th>\n",
       "      <th>f1 macro</th>\n",
       "      <th>f1 micro</th>\n",
       "      <th>f1 macro</th>\n",
       "    </tr>\n",
       "  </thead>\n",
       "  <tbody>\n",
       "    <tr>\n",
       "      <th>score</th>\n",
       "      <td>0.286505</td>\n",
       "      <td>0.077624</td>\n",
       "      <td>0.299634</td>\n",
       "      <td>0.081635</td>\n",
       "      <td>0.0625</td>\n",
       "      <td>0.052632</td>\n",
       "    </tr>\n",
       "  </tbody>\n",
       "</table>\n",
       "</div>"
      ],
      "text/plain": [
       "            All              In VOC           Out of VOC          \n",
       "       f1 micro  f1 macro  f1 micro  f1 macro   f1 micro  f1 macro\n",
       "score  0.286505  0.077624  0.299634  0.081635     0.0625  0.052632"
      ]
     },
     "metadata": {},
     "output_type": "display_data"
    },
    {
     "name": "stdout",
     "output_type": "stream",
     "text": [
      "Validation metric increased (-inf --> 0.077624).  Saving model ...\n"
     ]
    },
    {
     "name": "stderr",
     "output_type": "stream",
     "text": [
      "Epoch 2: 100%|██████████| 502/502 [01:39<00:00,  5.06batch/s, loss_decrease=1.0000008473172852]\n",
      "100%|██████████| 1445/1445 [00:29<00:00, 48.38batch/s]\n"
     ]
    },
    {
     "data": {
      "text/html": [
       "<div>\n",
       "<style scoped>\n",
       "    .dataframe tbody tr th:only-of-type {\n",
       "        vertical-align: middle;\n",
       "    }\n",
       "\n",
       "    .dataframe tbody tr th {\n",
       "        vertical-align: top;\n",
       "    }\n",
       "\n",
       "    .dataframe thead tr th {\n",
       "        text-align: left;\n",
       "    }\n",
       "</style>\n",
       "<table border=\"1\" class=\"dataframe\">\n",
       "  <thead>\n",
       "    <tr>\n",
       "      <th></th>\n",
       "      <th colspan=\"2\" halign=\"left\">All</th>\n",
       "      <th colspan=\"2\" halign=\"left\">In VOC</th>\n",
       "      <th colspan=\"2\" halign=\"left\">Out of VOC</th>\n",
       "    </tr>\n",
       "    <tr>\n",
       "      <th></th>\n",
       "      <th>f1 micro</th>\n",
       "      <th>f1 macro</th>\n",
       "      <th>f1 micro</th>\n",
       "      <th>f1 macro</th>\n",
       "      <th>f1 micro</th>\n",
       "      <th>f1 macro</th>\n",
       "    </tr>\n",
       "  </thead>\n",
       "  <tbody>\n",
       "    <tr>\n",
       "      <th>score</th>\n",
       "      <td>0.46782</td>\n",
       "      <td>0.122502</td>\n",
       "      <td>0.492308</td>\n",
       "      <td>0.143945</td>\n",
       "      <td>0.05</td>\n",
       "      <td>0.04</td>\n",
       "    </tr>\n",
       "  </tbody>\n",
       "</table>\n",
       "</div>"
      ],
      "text/plain": [
       "           All              In VOC           Out of VOC         \n",
       "      f1 micro  f1 macro  f1 micro  f1 macro   f1 micro f1 macro\n",
       "score  0.46782  0.122502  0.492308  0.143945       0.05     0.04"
      ]
     },
     "metadata": {},
     "output_type": "display_data"
    },
    {
     "name": "stdout",
     "output_type": "stream",
     "text": [
      "Validation metric increased (0.077624 --> 0.122502).  Saving model ...\n"
     ]
    },
    {
     "name": "stderr",
     "output_type": "stream",
     "text": [
      "Epoch 3: 100%|██████████| 502/502 [01:40<00:00,  5.01batch/s, loss_decrease=1.0000010356102103]\n",
      "100%|██████████| 1445/1445 [00:30<00:00, 47.88batch/s]\n"
     ]
    },
    {
     "data": {
      "text/html": [
       "<div>\n",
       "<style scoped>\n",
       "    .dataframe tbody tr th:only-of-type {\n",
       "        vertical-align: middle;\n",
       "    }\n",
       "\n",
       "    .dataframe tbody tr th {\n",
       "        vertical-align: top;\n",
       "    }\n",
       "\n",
       "    .dataframe thead tr th {\n",
       "        text-align: left;\n",
       "    }\n",
       "</style>\n",
       "<table border=\"1\" class=\"dataframe\">\n",
       "  <thead>\n",
       "    <tr>\n",
       "      <th></th>\n",
       "      <th colspan=\"2\" halign=\"left\">All</th>\n",
       "      <th colspan=\"2\" halign=\"left\">In VOC</th>\n",
       "      <th colspan=\"2\" halign=\"left\">Out of VOC</th>\n",
       "    </tr>\n",
       "    <tr>\n",
       "      <th></th>\n",
       "      <th>f1 micro</th>\n",
       "      <th>f1 macro</th>\n",
       "      <th>f1 micro</th>\n",
       "      <th>f1 macro</th>\n",
       "      <th>f1 micro</th>\n",
       "      <th>f1 macro</th>\n",
       "    </tr>\n",
       "  </thead>\n",
       "  <tbody>\n",
       "    <tr>\n",
       "      <th>score</th>\n",
       "      <td>0.523875</td>\n",
       "      <td>0.148187</td>\n",
       "      <td>0.552381</td>\n",
       "      <td>0.18135</td>\n",
       "      <td>0.0375</td>\n",
       "      <td>0.028846</td>\n",
       "    </tr>\n",
       "  </tbody>\n",
       "</table>\n",
       "</div>"
      ],
      "text/plain": [
       "            All              In VOC          Out of VOC          \n",
       "       f1 micro  f1 macro  f1 micro f1 macro   f1 micro  f1 macro\n",
       "score  0.523875  0.148187  0.552381  0.18135     0.0375  0.028846"
      ]
     },
     "metadata": {},
     "output_type": "display_data"
    },
    {
     "name": "stdout",
     "output_type": "stream",
     "text": [
      "Validation metric increased (0.122502 --> 0.148187).  Saving model ...\n"
     ]
    },
    {
     "name": "stderr",
     "output_type": "stream",
     "text": [
      "Epoch 4: 100%|██████████| 502/502 [01:39<00:00,  5.04batch/s, loss_decrease=1.0000010356102103]\n",
      "100%|██████████| 1445/1445 [00:29<00:00, 49.16batch/s]\n"
     ]
    },
    {
     "data": {
      "text/html": [
       "<div>\n",
       "<style scoped>\n",
       "    .dataframe tbody tr th:only-of-type {\n",
       "        vertical-align: middle;\n",
       "    }\n",
       "\n",
       "    .dataframe tbody tr th {\n",
       "        vertical-align: top;\n",
       "    }\n",
       "\n",
       "    .dataframe thead tr th {\n",
       "        text-align: left;\n",
       "    }\n",
       "</style>\n",
       "<table border=\"1\" class=\"dataframe\">\n",
       "  <thead>\n",
       "    <tr>\n",
       "      <th></th>\n",
       "      <th colspan=\"2\" halign=\"left\">All</th>\n",
       "      <th colspan=\"2\" halign=\"left\">In VOC</th>\n",
       "      <th colspan=\"2\" halign=\"left\">Out of VOC</th>\n",
       "    </tr>\n",
       "    <tr>\n",
       "      <th></th>\n",
       "      <th>f1 micro</th>\n",
       "      <th>f1 macro</th>\n",
       "      <th>f1 micro</th>\n",
       "      <th>f1 macro</th>\n",
       "      <th>f1 micro</th>\n",
       "      <th>f1 macro</th>\n",
       "    </tr>\n",
       "  </thead>\n",
       "  <tbody>\n",
       "    <tr>\n",
       "      <th>score</th>\n",
       "      <td>0.558478</td>\n",
       "      <td>0.17127</td>\n",
       "      <td>0.587546</td>\n",
       "      <td>0.202835</td>\n",
       "      <td>0.0625</td>\n",
       "      <td>0.046729</td>\n",
       "    </tr>\n",
       "  </tbody>\n",
       "</table>\n",
       "</div>"
      ],
      "text/plain": [
       "            All             In VOC           Out of VOC          \n",
       "       f1 micro f1 macro  f1 micro  f1 macro   f1 micro  f1 macro\n",
       "score  0.558478  0.17127  0.587546  0.202835     0.0625  0.046729"
      ]
     },
     "metadata": {},
     "output_type": "display_data"
    },
    {
     "name": "stdout",
     "output_type": "stream",
     "text": [
      "Validation metric increased (0.148187 --> 0.171270).  Saving model ...\n"
     ]
    },
    {
     "name": "stderr",
     "output_type": "stream",
     "text": [
      "Epoch 5: 100%|██████████| 502/502 [01:40<00:00,  5.01batch/s, loss_decrease=1.0000010356102103]\n",
      "100%|██████████| 1445/1445 [00:30<00:00, 47.96batch/s]\n"
     ]
    },
    {
     "data": {
      "text/html": [
       "<div>\n",
       "<style scoped>\n",
       "    .dataframe tbody tr th:only-of-type {\n",
       "        vertical-align: middle;\n",
       "    }\n",
       "\n",
       "    .dataframe tbody tr th {\n",
       "        vertical-align: top;\n",
       "    }\n",
       "\n",
       "    .dataframe thead tr th {\n",
       "        text-align: left;\n",
       "    }\n",
       "</style>\n",
       "<table border=\"1\" class=\"dataframe\">\n",
       "  <thead>\n",
       "    <tr>\n",
       "      <th></th>\n",
       "      <th colspan=\"2\" halign=\"left\">All</th>\n",
       "      <th colspan=\"2\" halign=\"left\">In VOC</th>\n",
       "      <th colspan=\"2\" halign=\"left\">Out of VOC</th>\n",
       "    </tr>\n",
       "    <tr>\n",
       "      <th></th>\n",
       "      <th>f1 micro</th>\n",
       "      <th>f1 macro</th>\n",
       "      <th>f1 micro</th>\n",
       "      <th>f1 macro</th>\n",
       "      <th>f1 micro</th>\n",
       "      <th>f1 macro</th>\n",
       "    </tr>\n",
       "  </thead>\n",
       "  <tbody>\n",
       "    <tr>\n",
       "      <th>score</th>\n",
       "      <td>0.579239</td>\n",
       "      <td>0.200419</td>\n",
       "      <td>0.609524</td>\n",
       "      <td>0.241874</td>\n",
       "      <td>0.0625</td>\n",
       "      <td>0.046729</td>\n",
       "    </tr>\n",
       "  </tbody>\n",
       "</table>\n",
       "</div>"
      ],
      "text/plain": [
       "            All              In VOC           Out of VOC          \n",
       "       f1 micro  f1 macro  f1 micro  f1 macro   f1 micro  f1 macro\n",
       "score  0.579239  0.200419  0.609524  0.241874     0.0625  0.046729"
      ]
     },
     "metadata": {},
     "output_type": "display_data"
    },
    {
     "name": "stdout",
     "output_type": "stream",
     "text": [
      "Validation metric increased (0.171270 --> 0.200419).  Saving model ...\n"
     ]
    },
    {
     "name": "stderr",
     "output_type": "stream",
     "text": [
      "Epoch 6: 100%|██████████| 502/502 [01:39<00:00,  5.03batch/s, loss_decrease=1.0000010356102103]\n",
      "100%|██████████| 1445/1445 [00:30<00:00, 47.58batch/s]\n"
     ]
    },
    {
     "data": {
      "text/html": [
       "<div>\n",
       "<style scoped>\n",
       "    .dataframe tbody tr th:only-of-type {\n",
       "        vertical-align: middle;\n",
       "    }\n",
       "\n",
       "    .dataframe tbody tr th {\n",
       "        vertical-align: top;\n",
       "    }\n",
       "\n",
       "    .dataframe thead tr th {\n",
       "        text-align: left;\n",
       "    }\n",
       "</style>\n",
       "<table border=\"1\" class=\"dataframe\">\n",
       "  <thead>\n",
       "    <tr>\n",
       "      <th></th>\n",
       "      <th colspan=\"2\" halign=\"left\">All</th>\n",
       "      <th colspan=\"2\" halign=\"left\">In VOC</th>\n",
       "      <th colspan=\"2\" halign=\"left\">Out of VOC</th>\n",
       "    </tr>\n",
       "    <tr>\n",
       "      <th></th>\n",
       "      <th>f1 micro</th>\n",
       "      <th>f1 macro</th>\n",
       "      <th>f1 micro</th>\n",
       "      <th>f1 macro</th>\n",
       "      <th>f1 micro</th>\n",
       "      <th>f1 macro</th>\n",
       "    </tr>\n",
       "  </thead>\n",
       "  <tbody>\n",
       "    <tr>\n",
       "      <th>score</th>\n",
       "      <td>0.624221</td>\n",
       "      <td>0.226105</td>\n",
       "      <td>0.657875</td>\n",
       "      <td>0.282181</td>\n",
       "      <td>0.05</td>\n",
       "      <td>0.035398</td>\n",
       "    </tr>\n",
       "  </tbody>\n",
       "</table>\n",
       "</div>"
      ],
      "text/plain": [
       "            All              In VOC           Out of VOC          \n",
       "       f1 micro  f1 macro  f1 micro  f1 macro   f1 micro  f1 macro\n",
       "score  0.624221  0.226105  0.657875  0.282181       0.05  0.035398"
      ]
     },
     "metadata": {},
     "output_type": "display_data"
    },
    {
     "name": "stdout",
     "output_type": "stream",
     "text": [
      "Validation metric increased (0.200419 --> 0.226105).  Saving model ...\n"
     ]
    },
    {
     "name": "stderr",
     "output_type": "stream",
     "text": [
      "Epoch 7: 100%|██████████| 502/502 [01:38<00:00,  5.08batch/s, loss_decrease=1.0000010356102103]\n",
      "100%|██████████| 1445/1445 [00:28<00:00, 50.25batch/s]\n"
     ]
    },
    {
     "data": {
      "text/html": [
       "<div>\n",
       "<style scoped>\n",
       "    .dataframe tbody tr th:only-of-type {\n",
       "        vertical-align: middle;\n",
       "    }\n",
       "\n",
       "    .dataframe tbody tr th {\n",
       "        vertical-align: top;\n",
       "    }\n",
       "\n",
       "    .dataframe thead tr th {\n",
       "        text-align: left;\n",
       "    }\n",
       "</style>\n",
       "<table border=\"1\" class=\"dataframe\">\n",
       "  <thead>\n",
       "    <tr>\n",
       "      <th></th>\n",
       "      <th colspan=\"2\" halign=\"left\">All</th>\n",
       "      <th colspan=\"2\" halign=\"left\">In VOC</th>\n",
       "      <th colspan=\"2\" halign=\"left\">Out of VOC</th>\n",
       "    </tr>\n",
       "    <tr>\n",
       "      <th></th>\n",
       "      <th>f1 micro</th>\n",
       "      <th>f1 macro</th>\n",
       "      <th>f1 micro</th>\n",
       "      <th>f1 macro</th>\n",
       "      <th>f1 micro</th>\n",
       "      <th>f1 macro</th>\n",
       "    </tr>\n",
       "  </thead>\n",
       "  <tbody>\n",
       "    <tr>\n",
       "      <th>score</th>\n",
       "      <td>0.642215</td>\n",
       "      <td>0.22451</td>\n",
       "      <td>0.677656</td>\n",
       "      <td>0.284655</td>\n",
       "      <td>0.0375</td>\n",
       "      <td>0.025862</td>\n",
       "    </tr>\n",
       "  </tbody>\n",
       "</table>\n",
       "</div>"
      ],
      "text/plain": [
       "            All             In VOC           Out of VOC          \n",
       "       f1 micro f1 macro  f1 micro  f1 macro   f1 micro  f1 macro\n",
       "score  0.642215  0.22451  0.677656  0.284655     0.0375  0.025862"
      ]
     },
     "metadata": {},
     "output_type": "display_data"
    },
    {
     "name": "stdout",
     "output_type": "stream",
     "text": [
      "EarlyStopping counter: 1 out of 7\n"
     ]
    },
    {
     "name": "stderr",
     "output_type": "stream",
     "text": [
      "Epoch 8: 100%|██████████| 502/502 [01:39<00:00,  5.04batch/s, loss_decrease=1.0000010356102103]\n",
      "100%|██████████| 1445/1445 [00:31<00:00, 46.41batch/s]\n"
     ]
    },
    {
     "data": {
      "text/html": [
       "<div>\n",
       "<style scoped>\n",
       "    .dataframe tbody tr th:only-of-type {\n",
       "        vertical-align: middle;\n",
       "    }\n",
       "\n",
       "    .dataframe tbody tr th {\n",
       "        vertical-align: top;\n",
       "    }\n",
       "\n",
       "    .dataframe thead tr th {\n",
       "        text-align: left;\n",
       "    }\n",
       "</style>\n",
       "<table border=\"1\" class=\"dataframe\">\n",
       "  <thead>\n",
       "    <tr>\n",
       "      <th></th>\n",
       "      <th colspan=\"2\" halign=\"left\">All</th>\n",
       "      <th colspan=\"2\" halign=\"left\">In VOC</th>\n",
       "      <th colspan=\"2\" halign=\"left\">Out of VOC</th>\n",
       "    </tr>\n",
       "    <tr>\n",
       "      <th></th>\n",
       "      <th>f1 micro</th>\n",
       "      <th>f1 macro</th>\n",
       "      <th>f1 micro</th>\n",
       "      <th>f1 macro</th>\n",
       "      <th>f1 micro</th>\n",
       "      <th>f1 macro</th>\n",
       "    </tr>\n",
       "  </thead>\n",
       "  <tbody>\n",
       "    <tr>\n",
       "      <th>score</th>\n",
       "      <td>0.649135</td>\n",
       "      <td>0.233114</td>\n",
       "      <td>0.684982</td>\n",
       "      <td>0.29506</td>\n",
       "      <td>0.0375</td>\n",
       "      <td>0.025862</td>\n",
       "    </tr>\n",
       "  </tbody>\n",
       "</table>\n",
       "</div>"
      ],
      "text/plain": [
       "            All              In VOC          Out of VOC          \n",
       "       f1 micro  f1 macro  f1 micro f1 macro   f1 micro  f1 macro\n",
       "score  0.649135  0.233114  0.684982  0.29506     0.0375  0.025862"
      ]
     },
     "metadata": {},
     "output_type": "display_data"
    },
    {
     "name": "stdout",
     "output_type": "stream",
     "text": [
      "Validation metric increased (0.226105 --> 0.233114).  Saving model ...\n"
     ]
    },
    {
     "name": "stderr",
     "output_type": "stream",
     "text": [
      "Epoch 9: 100%|██████████| 502/502 [01:38<00:00,  5.12batch/s, loss_decrease=1.0000010356102103]\n",
      "100%|██████████| 1445/1445 [00:30<00:00, 47.81batch/s]\n"
     ]
    },
    {
     "data": {
      "text/html": [
       "<div>\n",
       "<style scoped>\n",
       "    .dataframe tbody tr th:only-of-type {\n",
       "        vertical-align: middle;\n",
       "    }\n",
       "\n",
       "    .dataframe tbody tr th {\n",
       "        vertical-align: top;\n",
       "    }\n",
       "\n",
       "    .dataframe thead tr th {\n",
       "        text-align: left;\n",
       "    }\n",
       "</style>\n",
       "<table border=\"1\" class=\"dataframe\">\n",
       "  <thead>\n",
       "    <tr>\n",
       "      <th></th>\n",
       "      <th colspan=\"2\" halign=\"left\">All</th>\n",
       "      <th colspan=\"2\" halign=\"left\">In VOC</th>\n",
       "      <th colspan=\"2\" halign=\"left\">Out of VOC</th>\n",
       "    </tr>\n",
       "    <tr>\n",
       "      <th></th>\n",
       "      <th>f1 micro</th>\n",
       "      <th>f1 macro</th>\n",
       "      <th>f1 micro</th>\n",
       "      <th>f1 macro</th>\n",
       "      <th>f1 micro</th>\n",
       "      <th>f1 macro</th>\n",
       "    </tr>\n",
       "  </thead>\n",
       "  <tbody>\n",
       "    <tr>\n",
       "      <th>score</th>\n",
       "      <td>0.638062</td>\n",
       "      <td>0.23561</td>\n",
       "      <td>0.67326</td>\n",
       "      <td>0.300863</td>\n",
       "      <td>0.0375</td>\n",
       "      <td>0.025862</td>\n",
       "    </tr>\n",
       "  </tbody>\n",
       "</table>\n",
       "</div>"
      ],
      "text/plain": [
       "            All            In VOC           Out of VOC          \n",
       "       f1 micro f1 macro f1 micro  f1 macro   f1 micro  f1 macro\n",
       "score  0.638062  0.23561  0.67326  0.300863     0.0375  0.025862"
      ]
     },
     "metadata": {},
     "output_type": "display_data"
    },
    {
     "name": "stdout",
     "output_type": "stream",
     "text": [
      "Validation metric increased (0.233114 --> 0.235610).  Saving model ...\n"
     ]
    },
    {
     "name": "stderr",
     "output_type": "stream",
     "text": [
      "Epoch 10: 100%|██████████| 502/502 [01:38<00:00,  5.07batch/s, loss_decrease=1.0000010356102103]\n",
      "100%|██████████| 1445/1445 [00:31<00:00, 46.21batch/s]\n"
     ]
    },
    {
     "data": {
      "text/html": [
       "<div>\n",
       "<style scoped>\n",
       "    .dataframe tbody tr th:only-of-type {\n",
       "        vertical-align: middle;\n",
       "    }\n",
       "\n",
       "    .dataframe tbody tr th {\n",
       "        vertical-align: top;\n",
       "    }\n",
       "\n",
       "    .dataframe thead tr th {\n",
       "        text-align: left;\n",
       "    }\n",
       "</style>\n",
       "<table border=\"1\" class=\"dataframe\">\n",
       "  <thead>\n",
       "    <tr>\n",
       "      <th></th>\n",
       "      <th colspan=\"2\" halign=\"left\">All</th>\n",
       "      <th colspan=\"2\" halign=\"left\">In VOC</th>\n",
       "      <th colspan=\"2\" halign=\"left\">Out of VOC</th>\n",
       "    </tr>\n",
       "    <tr>\n",
       "      <th></th>\n",
       "      <th>f1 micro</th>\n",
       "      <th>f1 macro</th>\n",
       "      <th>f1 micro</th>\n",
       "      <th>f1 macro</th>\n",
       "      <th>f1 micro</th>\n",
       "      <th>f1 macro</th>\n",
       "    </tr>\n",
       "  </thead>\n",
       "  <tbody>\n",
       "    <tr>\n",
       "      <th>score</th>\n",
       "      <td>0.651211</td>\n",
       "      <td>0.240765</td>\n",
       "      <td>0.687179</td>\n",
       "      <td>0.305569</td>\n",
       "      <td>0.0375</td>\n",
       "      <td>0.024793</td>\n",
       "    </tr>\n",
       "  </tbody>\n",
       "</table>\n",
       "</div>"
      ],
      "text/plain": [
       "            All              In VOC           Out of VOC          \n",
       "       f1 micro  f1 macro  f1 micro  f1 macro   f1 micro  f1 macro\n",
       "score  0.651211  0.240765  0.687179  0.305569     0.0375  0.024793"
      ]
     },
     "metadata": {},
     "output_type": "display_data"
    },
    {
     "name": "stdout",
     "output_type": "stream",
     "text": [
      "Validation metric increased (0.235610 --> 0.240765).  Saving model ...\n"
     ]
    },
    {
     "name": "stderr",
     "output_type": "stream",
     "text": [
      "Epoch 11: 100%|██████████| 502/502 [01:38<00:00,  5.12batch/s, loss_decrease=1.0000010356102103]\n",
      "100%|██████████| 1445/1445 [00:30<00:00, 47.93batch/s]\n"
     ]
    },
    {
     "data": {
      "text/html": [
       "<div>\n",
       "<style scoped>\n",
       "    .dataframe tbody tr th:only-of-type {\n",
       "        vertical-align: middle;\n",
       "    }\n",
       "\n",
       "    .dataframe tbody tr th {\n",
       "        vertical-align: top;\n",
       "    }\n",
       "\n",
       "    .dataframe thead tr th {\n",
       "        text-align: left;\n",
       "    }\n",
       "</style>\n",
       "<table border=\"1\" class=\"dataframe\">\n",
       "  <thead>\n",
       "    <tr>\n",
       "      <th></th>\n",
       "      <th colspan=\"2\" halign=\"left\">All</th>\n",
       "      <th colspan=\"2\" halign=\"left\">In VOC</th>\n",
       "      <th colspan=\"2\" halign=\"left\">Out of VOC</th>\n",
       "    </tr>\n",
       "    <tr>\n",
       "      <th></th>\n",
       "      <th>f1 micro</th>\n",
       "      <th>f1 macro</th>\n",
       "      <th>f1 micro</th>\n",
       "      <th>f1 macro</th>\n",
       "      <th>f1 micro</th>\n",
       "      <th>f1 macro</th>\n",
       "    </tr>\n",
       "  </thead>\n",
       "  <tbody>\n",
       "    <tr>\n",
       "      <th>score</th>\n",
       "      <td>0.658824</td>\n",
       "      <td>0.258795</td>\n",
       "      <td>0.694505</td>\n",
       "      <td>0.323044</td>\n",
       "      <td>0.05</td>\n",
       "      <td>0.033333</td>\n",
       "    </tr>\n",
       "  </tbody>\n",
       "</table>\n",
       "</div>"
      ],
      "text/plain": [
       "            All              In VOC           Out of VOC          \n",
       "       f1 micro  f1 macro  f1 micro  f1 macro   f1 micro  f1 macro\n",
       "score  0.658824  0.258795  0.694505  0.323044       0.05  0.033333"
      ]
     },
     "metadata": {},
     "output_type": "display_data"
    },
    {
     "name": "stdout",
     "output_type": "stream",
     "text": [
      "Validation metric increased (0.240765 --> 0.258795).  Saving model ...\n"
     ]
    },
    {
     "name": "stderr",
     "output_type": "stream",
     "text": [
      "Epoch 12: 100%|██████████| 502/502 [01:37<00:00,  5.13batch/s, loss_decrease=1.0000010356102103]\n",
      "100%|██████████| 1445/1445 [00:29<00:00, 48.86batch/s]\n"
     ]
    },
    {
     "data": {
      "text/html": [
       "<div>\n",
       "<style scoped>\n",
       "    .dataframe tbody tr th:only-of-type {\n",
       "        vertical-align: middle;\n",
       "    }\n",
       "\n",
       "    .dataframe tbody tr th {\n",
       "        vertical-align: top;\n",
       "    }\n",
       "\n",
       "    .dataframe thead tr th {\n",
       "        text-align: left;\n",
       "    }\n",
       "</style>\n",
       "<table border=\"1\" class=\"dataframe\">\n",
       "  <thead>\n",
       "    <tr>\n",
       "      <th></th>\n",
       "      <th colspan=\"2\" halign=\"left\">All</th>\n",
       "      <th colspan=\"2\" halign=\"left\">In VOC</th>\n",
       "      <th colspan=\"2\" halign=\"left\">Out of VOC</th>\n",
       "    </tr>\n",
       "    <tr>\n",
       "      <th></th>\n",
       "      <th>f1 micro</th>\n",
       "      <th>f1 macro</th>\n",
       "      <th>f1 micro</th>\n",
       "      <th>f1 macro</th>\n",
       "      <th>f1 micro</th>\n",
       "      <th>f1 macro</th>\n",
       "    </tr>\n",
       "  </thead>\n",
       "  <tbody>\n",
       "    <tr>\n",
       "      <th>score</th>\n",
       "      <td>0.63737</td>\n",
       "      <td>0.238224</td>\n",
       "      <td>0.671795</td>\n",
       "      <td>0.296811</td>\n",
       "      <td>0.05</td>\n",
       "      <td>0.034188</td>\n",
       "    </tr>\n",
       "  </tbody>\n",
       "</table>\n",
       "</div>"
      ],
      "text/plain": [
       "           All              In VOC           Out of VOC          \n",
       "      f1 micro  f1 macro  f1 micro  f1 macro   f1 micro  f1 macro\n",
       "score  0.63737  0.238224  0.671795  0.296811       0.05  0.034188"
      ]
     },
     "metadata": {},
     "output_type": "display_data"
    },
    {
     "name": "stdout",
     "output_type": "stream",
     "text": [
      "EarlyStopping counter: 1 out of 7\n"
     ]
    },
    {
     "name": "stderr",
     "output_type": "stream",
     "text": [
      "Epoch 13: 100%|██████████| 502/502 [01:35<00:00,  5.24batch/s, loss_decrease=1.0000010356102103]\n",
      "100%|██████████| 1445/1445 [00:28<00:00, 50.18batch/s]\n"
     ]
    },
    {
     "data": {
      "text/html": [
       "<div>\n",
       "<style scoped>\n",
       "    .dataframe tbody tr th:only-of-type {\n",
       "        vertical-align: middle;\n",
       "    }\n",
       "\n",
       "    .dataframe tbody tr th {\n",
       "        vertical-align: top;\n",
       "    }\n",
       "\n",
       "    .dataframe thead tr th {\n",
       "        text-align: left;\n",
       "    }\n",
       "</style>\n",
       "<table border=\"1\" class=\"dataframe\">\n",
       "  <thead>\n",
       "    <tr>\n",
       "      <th></th>\n",
       "      <th colspan=\"2\" halign=\"left\">All</th>\n",
       "      <th colspan=\"2\" halign=\"left\">In VOC</th>\n",
       "      <th colspan=\"2\" halign=\"left\">Out of VOC</th>\n",
       "    </tr>\n",
       "    <tr>\n",
       "      <th></th>\n",
       "      <th>f1 micro</th>\n",
       "      <th>f1 macro</th>\n",
       "      <th>f1 micro</th>\n",
       "      <th>f1 macro</th>\n",
       "      <th>f1 micro</th>\n",
       "      <th>f1 macro</th>\n",
       "    </tr>\n",
       "  </thead>\n",
       "  <tbody>\n",
       "    <tr>\n",
       "      <th>score</th>\n",
       "      <td>0.658824</td>\n",
       "      <td>0.254644</td>\n",
       "      <td>0.695238</td>\n",
       "      <td>0.328761</td>\n",
       "      <td>0.0375</td>\n",
       "      <td>0.024793</td>\n",
       "    </tr>\n",
       "  </tbody>\n",
       "</table>\n",
       "</div>"
      ],
      "text/plain": [
       "            All              In VOC           Out of VOC          \n",
       "       f1 micro  f1 macro  f1 micro  f1 macro   f1 micro  f1 macro\n",
       "score  0.658824  0.254644  0.695238  0.328761     0.0375  0.024793"
      ]
     },
     "metadata": {},
     "output_type": "display_data"
    },
    {
     "name": "stdout",
     "output_type": "stream",
     "text": [
      "EarlyStopping counter: 2 out of 7\n"
     ]
    },
    {
     "name": "stderr",
     "output_type": "stream",
     "text": [
      "Epoch 14: 100%|██████████| 502/502 [01:40<00:00,  5.00batch/s, loss_decrease=1.0000010356102103]\n",
      "100%|██████████| 1445/1445 [00:30<00:00, 47.24batch/s]\n"
     ]
    },
    {
     "data": {
      "text/html": [
       "<div>\n",
       "<style scoped>\n",
       "    .dataframe tbody tr th:only-of-type {\n",
       "        vertical-align: middle;\n",
       "    }\n",
       "\n",
       "    .dataframe tbody tr th {\n",
       "        vertical-align: top;\n",
       "    }\n",
       "\n",
       "    .dataframe thead tr th {\n",
       "        text-align: left;\n",
       "    }\n",
       "</style>\n",
       "<table border=\"1\" class=\"dataframe\">\n",
       "  <thead>\n",
       "    <tr>\n",
       "      <th></th>\n",
       "      <th colspan=\"2\" halign=\"left\">All</th>\n",
       "      <th colspan=\"2\" halign=\"left\">In VOC</th>\n",
       "      <th colspan=\"2\" halign=\"left\">Out of VOC</th>\n",
       "    </tr>\n",
       "    <tr>\n",
       "      <th></th>\n",
       "      <th>f1 micro</th>\n",
       "      <th>f1 macro</th>\n",
       "      <th>f1 micro</th>\n",
       "      <th>f1 macro</th>\n",
       "      <th>f1 micro</th>\n",
       "      <th>f1 macro</th>\n",
       "    </tr>\n",
       "  </thead>\n",
       "  <tbody>\n",
       "    <tr>\n",
       "      <th>score</th>\n",
       "      <td>0.67128</td>\n",
       "      <td>0.260099</td>\n",
       "      <td>0.708425</td>\n",
       "      <td>0.332188</td>\n",
       "      <td>0.0375</td>\n",
       "      <td>0.02439</td>\n",
       "    </tr>\n",
       "  </tbody>\n",
       "</table>\n",
       "</div>"
      ],
      "text/plain": [
       "           All              In VOC           Out of VOC         \n",
       "      f1 micro  f1 macro  f1 micro  f1 macro   f1 micro f1 macro\n",
       "score  0.67128  0.260099  0.708425  0.332188     0.0375  0.02439"
      ]
     },
     "metadata": {},
     "output_type": "display_data"
    },
    {
     "name": "stdout",
     "output_type": "stream",
     "text": [
      "Validation metric increased (0.258795 --> 0.260099).  Saving model ...\n"
     ]
    },
    {
     "name": "stderr",
     "output_type": "stream",
     "text": [
      "Epoch 15: 100%|██████████| 502/502 [01:39<00:00,  5.03batch/s, loss_decrease=1.0000010356102103]\n",
      "100%|██████████| 1445/1445 [00:30<00:00, 47.32batch/s]\n"
     ]
    },
    {
     "data": {
      "text/html": [
       "<div>\n",
       "<style scoped>\n",
       "    .dataframe tbody tr th:only-of-type {\n",
       "        vertical-align: middle;\n",
       "    }\n",
       "\n",
       "    .dataframe tbody tr th {\n",
       "        vertical-align: top;\n",
       "    }\n",
       "\n",
       "    .dataframe thead tr th {\n",
       "        text-align: left;\n",
       "    }\n",
       "</style>\n",
       "<table border=\"1\" class=\"dataframe\">\n",
       "  <thead>\n",
       "    <tr>\n",
       "      <th></th>\n",
       "      <th colspan=\"2\" halign=\"left\">All</th>\n",
       "      <th colspan=\"2\" halign=\"left\">In VOC</th>\n",
       "      <th colspan=\"2\" halign=\"left\">Out of VOC</th>\n",
       "    </tr>\n",
       "    <tr>\n",
       "      <th></th>\n",
       "      <th>f1 micro</th>\n",
       "      <th>f1 macro</th>\n",
       "      <th>f1 micro</th>\n",
       "      <th>f1 macro</th>\n",
       "      <th>f1 micro</th>\n",
       "      <th>f1 macro</th>\n",
       "    </tr>\n",
       "  </thead>\n",
       "  <tbody>\n",
       "    <tr>\n",
       "      <th>score</th>\n",
       "      <td>0.683045</td>\n",
       "      <td>0.28186</td>\n",
       "      <td>0.721612</td>\n",
       "      <td>0.363392</td>\n",
       "      <td>0.025</td>\n",
       "      <td>0.016393</td>\n",
       "    </tr>\n",
       "  </tbody>\n",
       "</table>\n",
       "</div>"
      ],
      "text/plain": [
       "            All             In VOC           Out of VOC          \n",
       "       f1 micro f1 macro  f1 micro  f1 macro   f1 micro  f1 macro\n",
       "score  0.683045  0.28186  0.721612  0.363392      0.025  0.016393"
      ]
     },
     "metadata": {},
     "output_type": "display_data"
    },
    {
     "name": "stdout",
     "output_type": "stream",
     "text": [
      "Validation metric increased (0.260099 --> 0.281860).  Saving model ...\n"
     ]
    },
    {
     "name": "stderr",
     "output_type": "stream",
     "text": [
      "Epoch 16: 100%|██████████| 502/502 [01:38<00:00,  5.08batch/s, loss_decrease=1.0000010356102103]\n",
      "100%|██████████| 1445/1445 [00:28<00:00, 50.29batch/s]\n"
     ]
    },
    {
     "data": {
      "text/html": [
       "<div>\n",
       "<style scoped>\n",
       "    .dataframe tbody tr th:only-of-type {\n",
       "        vertical-align: middle;\n",
       "    }\n",
       "\n",
       "    .dataframe tbody tr th {\n",
       "        vertical-align: top;\n",
       "    }\n",
       "\n",
       "    .dataframe thead tr th {\n",
       "        text-align: left;\n",
       "    }\n",
       "</style>\n",
       "<table border=\"1\" class=\"dataframe\">\n",
       "  <thead>\n",
       "    <tr>\n",
       "      <th></th>\n",
       "      <th colspan=\"2\" halign=\"left\">All</th>\n",
       "      <th colspan=\"2\" halign=\"left\">In VOC</th>\n",
       "      <th colspan=\"2\" halign=\"left\">Out of VOC</th>\n",
       "    </tr>\n",
       "    <tr>\n",
       "      <th></th>\n",
       "      <th>f1 micro</th>\n",
       "      <th>f1 macro</th>\n",
       "      <th>f1 micro</th>\n",
       "      <th>f1 macro</th>\n",
       "      <th>f1 micro</th>\n",
       "      <th>f1 macro</th>\n",
       "    </tr>\n",
       "  </thead>\n",
       "  <tbody>\n",
       "    <tr>\n",
       "      <th>score</th>\n",
       "      <td>0.696886</td>\n",
       "      <td>0.291337</td>\n",
       "      <td>0.735531</td>\n",
       "      <td>0.374182</td>\n",
       "      <td>0.0375</td>\n",
       "      <td>0.023077</td>\n",
       "    </tr>\n",
       "  </tbody>\n",
       "</table>\n",
       "</div>"
      ],
      "text/plain": [
       "            All              In VOC           Out of VOC          \n",
       "       f1 micro  f1 macro  f1 micro  f1 macro   f1 micro  f1 macro\n",
       "score  0.696886  0.291337  0.735531  0.374182     0.0375  0.023077"
      ]
     },
     "metadata": {},
     "output_type": "display_data"
    },
    {
     "name": "stdout",
     "output_type": "stream",
     "text": [
      "Validation metric increased (0.281860 --> 0.291337).  Saving model ...\n"
     ]
    },
    {
     "name": "stderr",
     "output_type": "stream",
     "text": [
      "Epoch 17: 100%|██████████| 502/502 [01:39<00:00,  5.05batch/s, loss_decrease=1.0000007531708492]\n",
      "100%|██████████| 1445/1445 [00:30<00:00, 48.13batch/s]\n"
     ]
    },
    {
     "data": {
      "text/html": [
       "<div>\n",
       "<style scoped>\n",
       "    .dataframe tbody tr th:only-of-type {\n",
       "        vertical-align: middle;\n",
       "    }\n",
       "\n",
       "    .dataframe tbody tr th {\n",
       "        vertical-align: top;\n",
       "    }\n",
       "\n",
       "    .dataframe thead tr th {\n",
       "        text-align: left;\n",
       "    }\n",
       "</style>\n",
       "<table border=\"1\" class=\"dataframe\">\n",
       "  <thead>\n",
       "    <tr>\n",
       "      <th></th>\n",
       "      <th colspan=\"2\" halign=\"left\">All</th>\n",
       "      <th colspan=\"2\" halign=\"left\">In VOC</th>\n",
       "      <th colspan=\"2\" halign=\"left\">Out of VOC</th>\n",
       "    </tr>\n",
       "    <tr>\n",
       "      <th></th>\n",
       "      <th>f1 micro</th>\n",
       "      <th>f1 macro</th>\n",
       "      <th>f1 micro</th>\n",
       "      <th>f1 macro</th>\n",
       "      <th>f1 micro</th>\n",
       "      <th>f1 macro</th>\n",
       "    </tr>\n",
       "  </thead>\n",
       "  <tbody>\n",
       "    <tr>\n",
       "      <th>score</th>\n",
       "      <td>0.004844</td>\n",
       "      <td>0.000029</td>\n",
       "      <td>0.005128</td>\n",
       "      <td>0.00004</td>\n",
       "      <td>0.0</td>\n",
       "      <td>0.0</td>\n",
       "    </tr>\n",
       "  </tbody>\n",
       "</table>\n",
       "</div>"
      ],
      "text/plain": [
       "            All              In VOC          Out of VOC         \n",
       "       f1 micro  f1 macro  f1 micro f1 macro   f1 micro f1 macro\n",
       "score  0.004844  0.000029  0.005128  0.00004        0.0      0.0"
      ]
     },
     "metadata": {},
     "output_type": "display_data"
    },
    {
     "name": "stdout",
     "output_type": "stream",
     "text": [
      "EarlyStopping counter: 1 out of 7\n"
     ]
    },
    {
     "name": "stderr",
     "output_type": "stream",
     "text": [
      "Epoch 18: 100%|██████████| 502/502 [01:39<00:00,  5.04batch/s, loss_decrease=1.000000659024431] \n",
      "100%|██████████| 1445/1445 [00:28<00:00, 51.10batch/s]\n"
     ]
    },
    {
     "data": {
      "text/html": [
       "<div>\n",
       "<style scoped>\n",
       "    .dataframe tbody tr th:only-of-type {\n",
       "        vertical-align: middle;\n",
       "    }\n",
       "\n",
       "    .dataframe tbody tr th {\n",
       "        vertical-align: top;\n",
       "    }\n",
       "\n",
       "    .dataframe thead tr th {\n",
       "        text-align: left;\n",
       "    }\n",
       "</style>\n",
       "<table border=\"1\" class=\"dataframe\">\n",
       "  <thead>\n",
       "    <tr>\n",
       "      <th></th>\n",
       "      <th colspan=\"2\" halign=\"left\">All</th>\n",
       "      <th colspan=\"2\" halign=\"left\">In VOC</th>\n",
       "      <th colspan=\"2\" halign=\"left\">Out of VOC</th>\n",
       "    </tr>\n",
       "    <tr>\n",
       "      <th></th>\n",
       "      <th>f1 micro</th>\n",
       "      <th>f1 macro</th>\n",
       "      <th>f1 micro</th>\n",
       "      <th>f1 macro</th>\n",
       "      <th>f1 micro</th>\n",
       "      <th>f1 macro</th>\n",
       "    </tr>\n",
       "  </thead>\n",
       "  <tbody>\n",
       "    <tr>\n",
       "      <th>score</th>\n",
       "      <td>0.004844</td>\n",
       "      <td>0.000029</td>\n",
       "      <td>0.005128</td>\n",
       "      <td>0.00004</td>\n",
       "      <td>0.0</td>\n",
       "      <td>0.0</td>\n",
       "    </tr>\n",
       "  </tbody>\n",
       "</table>\n",
       "</div>"
      ],
      "text/plain": [
       "            All              In VOC          Out of VOC         \n",
       "       f1 micro  f1 macro  f1 micro f1 macro   f1 micro f1 macro\n",
       "score  0.004844  0.000029  0.005128  0.00004        0.0      0.0"
      ]
     },
     "metadata": {},
     "output_type": "display_data"
    },
    {
     "name": "stdout",
     "output_type": "stream",
     "text": [
      "EarlyStopping counter: 2 out of 7\n"
     ]
    },
    {
     "name": "stderr",
     "output_type": "stream",
     "text": [
      "Epoch 19: 100%|██████████| 502/502 [01:39<00:00,  5.04batch/s, loss_decrease=1.000000659024431] \n",
      "100%|██████████| 1445/1445 [00:28<00:00, 49.88batch/s]\n"
     ]
    },
    {
     "data": {
      "text/html": [
       "<div>\n",
       "<style scoped>\n",
       "    .dataframe tbody tr th:only-of-type {\n",
       "        vertical-align: middle;\n",
       "    }\n",
       "\n",
       "    .dataframe tbody tr th {\n",
       "        vertical-align: top;\n",
       "    }\n",
       "\n",
       "    .dataframe thead tr th {\n",
       "        text-align: left;\n",
       "    }\n",
       "</style>\n",
       "<table border=\"1\" class=\"dataframe\">\n",
       "  <thead>\n",
       "    <tr>\n",
       "      <th></th>\n",
       "      <th colspan=\"2\" halign=\"left\">All</th>\n",
       "      <th colspan=\"2\" halign=\"left\">In VOC</th>\n",
       "      <th colspan=\"2\" halign=\"left\">Out of VOC</th>\n",
       "    </tr>\n",
       "    <tr>\n",
       "      <th></th>\n",
       "      <th>f1 micro</th>\n",
       "      <th>f1 macro</th>\n",
       "      <th>f1 micro</th>\n",
       "      <th>f1 macro</th>\n",
       "      <th>f1 micro</th>\n",
       "      <th>f1 macro</th>\n",
       "    </tr>\n",
       "  </thead>\n",
       "  <tbody>\n",
       "    <tr>\n",
       "      <th>score</th>\n",
       "      <td>0.004844</td>\n",
       "      <td>0.000029</td>\n",
       "      <td>0.005128</td>\n",
       "      <td>0.00004</td>\n",
       "      <td>0.0</td>\n",
       "      <td>0.0</td>\n",
       "    </tr>\n",
       "  </tbody>\n",
       "</table>\n",
       "</div>"
      ],
      "text/plain": [
       "            All              In VOC          Out of VOC         \n",
       "       f1 micro  f1 macro  f1 micro f1 macro   f1 micro f1 macro\n",
       "score  0.004844  0.000029  0.005128  0.00004        0.0      0.0"
      ]
     },
     "metadata": {},
     "output_type": "display_data"
    },
    {
     "name": "stdout",
     "output_type": "stream",
     "text": [
      "EarlyStopping counter: 3 out of 7\n"
     ]
    },
    {
     "name": "stderr",
     "output_type": "stream",
     "text": [
      "Epoch 20: 100%|██████████| 502/502 [01:37<00:00,  5.13batch/s, loss_decrease=1.0000005648780306]\n",
      "100%|██████████| 1445/1445 [00:30<00:00, 47.19batch/s]\n"
     ]
    },
    {
     "data": {
      "text/html": [
       "<div>\n",
       "<style scoped>\n",
       "    .dataframe tbody tr th:only-of-type {\n",
       "        vertical-align: middle;\n",
       "    }\n",
       "\n",
       "    .dataframe tbody tr th {\n",
       "        vertical-align: top;\n",
       "    }\n",
       "\n",
       "    .dataframe thead tr th {\n",
       "        text-align: left;\n",
       "    }\n",
       "</style>\n",
       "<table border=\"1\" class=\"dataframe\">\n",
       "  <thead>\n",
       "    <tr>\n",
       "      <th></th>\n",
       "      <th colspan=\"2\" halign=\"left\">All</th>\n",
       "      <th colspan=\"2\" halign=\"left\">In VOC</th>\n",
       "      <th colspan=\"2\" halign=\"left\">Out of VOC</th>\n",
       "    </tr>\n",
       "    <tr>\n",
       "      <th></th>\n",
       "      <th>f1 micro</th>\n",
       "      <th>f1 macro</th>\n",
       "      <th>f1 micro</th>\n",
       "      <th>f1 macro</th>\n",
       "      <th>f1 micro</th>\n",
       "      <th>f1 macro</th>\n",
       "    </tr>\n",
       "  </thead>\n",
       "  <tbody>\n",
       "    <tr>\n",
       "      <th>score</th>\n",
       "      <td>0.004844</td>\n",
       "      <td>0.000029</td>\n",
       "      <td>0.005128</td>\n",
       "      <td>0.00004</td>\n",
       "      <td>0.0</td>\n",
       "      <td>0.0</td>\n",
       "    </tr>\n",
       "  </tbody>\n",
       "</table>\n",
       "</div>"
      ],
      "text/plain": [
       "            All              In VOC          Out of VOC         \n",
       "       f1 micro  f1 macro  f1 micro f1 macro   f1 micro f1 macro\n",
       "score  0.004844  0.000029  0.005128  0.00004        0.0      0.0"
      ]
     },
     "metadata": {},
     "output_type": "display_data"
    },
    {
     "name": "stdout",
     "output_type": "stream",
     "text": [
      "EarlyStopping counter: 4 out of 7\n"
     ]
    },
    {
     "name": "stderr",
     "output_type": "stream",
     "text": [
      "Epoch 21: 100%|██████████| 502/502 [01:39<00:00,  5.06batch/s, loss_decrease=1.0000007531708492]\n",
      "100%|██████████| 1445/1445 [00:29<00:00, 48.69batch/s]\n"
     ]
    },
    {
     "data": {
      "text/html": [
       "<div>\n",
       "<style scoped>\n",
       "    .dataframe tbody tr th:only-of-type {\n",
       "        vertical-align: middle;\n",
       "    }\n",
       "\n",
       "    .dataframe tbody tr th {\n",
       "        vertical-align: top;\n",
       "    }\n",
       "\n",
       "    .dataframe thead tr th {\n",
       "        text-align: left;\n",
       "    }\n",
       "</style>\n",
       "<table border=\"1\" class=\"dataframe\">\n",
       "  <thead>\n",
       "    <tr>\n",
       "      <th></th>\n",
       "      <th colspan=\"2\" halign=\"left\">All</th>\n",
       "      <th colspan=\"2\" halign=\"left\">In VOC</th>\n",
       "      <th colspan=\"2\" halign=\"left\">Out of VOC</th>\n",
       "    </tr>\n",
       "    <tr>\n",
       "      <th></th>\n",
       "      <th>f1 micro</th>\n",
       "      <th>f1 macro</th>\n",
       "      <th>f1 micro</th>\n",
       "      <th>f1 macro</th>\n",
       "      <th>f1 micro</th>\n",
       "      <th>f1 macro</th>\n",
       "    </tr>\n",
       "  </thead>\n",
       "  <tbody>\n",
       "    <tr>\n",
       "      <th>score</th>\n",
       "      <td>0.004844</td>\n",
       "      <td>0.000029</td>\n",
       "      <td>0.005128</td>\n",
       "      <td>0.00004</td>\n",
       "      <td>0.0</td>\n",
       "      <td>0.0</td>\n",
       "    </tr>\n",
       "  </tbody>\n",
       "</table>\n",
       "</div>"
      ],
      "text/plain": [
       "            All              In VOC          Out of VOC         \n",
       "       f1 micro  f1 macro  f1 micro f1 macro   f1 micro f1 macro\n",
       "score  0.004844  0.000029  0.005128  0.00004        0.0      0.0"
      ]
     },
     "metadata": {},
     "output_type": "display_data"
    },
    {
     "name": "stdout",
     "output_type": "stream",
     "text": [
      "EarlyStopping counter: 5 out of 7\n"
     ]
    },
    {
     "name": "stderr",
     "output_type": "stream",
     "text": [
      "Epoch 22: 100%|██████████| 502/502 [01:37<00:00,  5.13batch/s, loss_decrease=1.0000005648780306]\n",
      "100%|██████████| 1445/1445 [00:30<00:00, 46.70batch/s]\n"
     ]
    },
    {
     "data": {
      "text/html": [
       "<div>\n",
       "<style scoped>\n",
       "    .dataframe tbody tr th:only-of-type {\n",
       "        vertical-align: middle;\n",
       "    }\n",
       "\n",
       "    .dataframe tbody tr th {\n",
       "        vertical-align: top;\n",
       "    }\n",
       "\n",
       "    .dataframe thead tr th {\n",
       "        text-align: left;\n",
       "    }\n",
       "</style>\n",
       "<table border=\"1\" class=\"dataframe\">\n",
       "  <thead>\n",
       "    <tr>\n",
       "      <th></th>\n",
       "      <th colspan=\"2\" halign=\"left\">All</th>\n",
       "      <th colspan=\"2\" halign=\"left\">In VOC</th>\n",
       "      <th colspan=\"2\" halign=\"left\">Out of VOC</th>\n",
       "    </tr>\n",
       "    <tr>\n",
       "      <th></th>\n",
       "      <th>f1 micro</th>\n",
       "      <th>f1 macro</th>\n",
       "      <th>f1 micro</th>\n",
       "      <th>f1 macro</th>\n",
       "      <th>f1 micro</th>\n",
       "      <th>f1 macro</th>\n",
       "    </tr>\n",
       "  </thead>\n",
       "  <tbody>\n",
       "    <tr>\n",
       "      <th>score</th>\n",
       "      <td>0.004844</td>\n",
       "      <td>0.000029</td>\n",
       "      <td>0.005128</td>\n",
       "      <td>0.00004</td>\n",
       "      <td>0.0</td>\n",
       "      <td>0.0</td>\n",
       "    </tr>\n",
       "  </tbody>\n",
       "</table>\n",
       "</div>"
      ],
      "text/plain": [
       "            All              In VOC          Out of VOC         \n",
       "       f1 micro  f1 macro  f1 micro f1 macro   f1 micro f1 macro\n",
       "score  0.004844  0.000029  0.005128  0.00004        0.0      0.0"
      ]
     },
     "metadata": {},
     "output_type": "display_data"
    },
    {
     "name": "stdout",
     "output_type": "stream",
     "text": [
      "EarlyStopping counter: 6 out of 7\n"
     ]
    },
    {
     "name": "stderr",
     "output_type": "stream",
     "text": [
      "Epoch 23: 100%|██████████| 502/502 [01:33<00:00,  5.36batch/s, loss_decrease=1.000000659024431] \n",
      "100%|██████████| 1445/1445 [00:30<00:00, 46.99batch/s]\n"
     ]
    },
    {
     "data": {
      "text/html": [
       "<div>\n",
       "<style scoped>\n",
       "    .dataframe tbody tr th:only-of-type {\n",
       "        vertical-align: middle;\n",
       "    }\n",
       "\n",
       "    .dataframe tbody tr th {\n",
       "        vertical-align: top;\n",
       "    }\n",
       "\n",
       "    .dataframe thead tr th {\n",
       "        text-align: left;\n",
       "    }\n",
       "</style>\n",
       "<table border=\"1\" class=\"dataframe\">\n",
       "  <thead>\n",
       "    <tr>\n",
       "      <th></th>\n",
       "      <th colspan=\"2\" halign=\"left\">All</th>\n",
       "      <th colspan=\"2\" halign=\"left\">In VOC</th>\n",
       "      <th colspan=\"2\" halign=\"left\">Out of VOC</th>\n",
       "    </tr>\n",
       "    <tr>\n",
       "      <th></th>\n",
       "      <th>f1 micro</th>\n",
       "      <th>f1 macro</th>\n",
       "      <th>f1 micro</th>\n",
       "      <th>f1 macro</th>\n",
       "      <th>f1 micro</th>\n",
       "      <th>f1 macro</th>\n",
       "    </tr>\n",
       "  </thead>\n",
       "  <tbody>\n",
       "    <tr>\n",
       "      <th>score</th>\n",
       "      <td>0.004844</td>\n",
       "      <td>0.000029</td>\n",
       "      <td>0.005128</td>\n",
       "      <td>0.00004</td>\n",
       "      <td>0.0</td>\n",
       "      <td>0.0</td>\n",
       "    </tr>\n",
       "  </tbody>\n",
       "</table>\n",
       "</div>"
      ],
      "text/plain": [
       "            All              In VOC          Out of VOC         \n",
       "       f1 micro  f1 macro  f1 micro f1 macro   f1 micro f1 macro\n",
       "score  0.004844  0.000029  0.005128  0.00004        0.0      0.0"
      ]
     },
     "metadata": {},
     "output_type": "display_data"
    },
    {
     "name": "stdout",
     "output_type": "stream",
     "text": [
      "EarlyStopping counter: 7 out of 7\n",
      "Early stopping\n",
      "Evaluating on test dataset\n"
     ]
    },
    {
     "name": "stderr",
     "output_type": "stream",
     "text": [
      "100%|██████████| 2442/2442 [00:52<00:00, 46.59batch/s]\n"
     ]
    },
    {
     "data": {
      "text/html": [
       "<div>\n",
       "<style scoped>\n",
       "    .dataframe tbody tr th:only-of-type {\n",
       "        vertical-align: middle;\n",
       "    }\n",
       "\n",
       "    .dataframe tbody tr th {\n",
       "        vertical-align: top;\n",
       "    }\n",
       "\n",
       "    .dataframe thead tr th {\n",
       "        text-align: left;\n",
       "    }\n",
       "</style>\n",
       "<table border=\"1\" class=\"dataframe\">\n",
       "  <thead>\n",
       "    <tr>\n",
       "      <th></th>\n",
       "      <th colspan=\"2\" halign=\"left\">All</th>\n",
       "      <th colspan=\"2\" halign=\"left\">In VOC</th>\n",
       "      <th colspan=\"2\" halign=\"left\">Out of VOC</th>\n",
       "    </tr>\n",
       "    <tr>\n",
       "      <th></th>\n",
       "      <th>f1 micro</th>\n",
       "      <th>f1 macro</th>\n",
       "      <th>f1 micro</th>\n",
       "      <th>f1 macro</th>\n",
       "      <th>f1 micro</th>\n",
       "      <th>f1 macro</th>\n",
       "    </tr>\n",
       "  </thead>\n",
       "  <tbody>\n",
       "    <tr>\n",
       "      <th>score</th>\n",
       "      <td>0.692056</td>\n",
       "      <td>0.23773</td>\n",
       "      <td>0.728528</td>\n",
       "      <td>0.320508</td>\n",
       "      <td>0.016</td>\n",
       "      <td>0.007979</td>\n",
       "    </tr>\n",
       "  </tbody>\n",
       "</table>\n",
       "</div>"
      ],
      "text/plain": [
       "            All             In VOC           Out of VOC          \n",
       "       f1 micro f1 macro  f1 micro  f1 macro   f1 micro  f1 macro\n",
       "score  0.692056  0.23773  0.728528  0.320508      0.016  0.007979"
      ]
     },
     "metadata": {},
     "output_type": "display_data"
    },
    {
     "name": "stdout",
     "output_type": "stream",
     "text": [
      "Сплит 3\n"
     ]
    },
    {
     "name": "stderr",
     "output_type": "stream",
     "text": [
      "Some weights of the model checkpoint at sagteam/xlm-roberta-large-sag were not used when initializing XLMRobertaModel: ['lm_head.decoder.weight', 'lm_head.dense.weight', 'lm_head.dense.bias', 'lm_head.bias', 'lm_head.layer_norm.bias', 'lm_head.decoder.bias', 'lm_head.layer_norm.weight']\n",
      "- This IS expected if you are initializing XLMRobertaModel from the checkpoint of a model trained on another task or with another architecture (e.g. initializing a BertForSequenceClassification model from a BertForPreTraining model).\n",
      "- This IS NOT expected if you are initializing XLMRobertaModel from the checkpoint of a model that you expect to be exactly identical (initializing a BertForSequenceClassification model from a BertForSequenceClassification model).\n",
      "Some weights of XLMRobertaModel were not initialized from the model checkpoint at sagteam/xlm-roberta-large-sag and are newly initialized: ['roberta.pooler.dense.bias', 'roberta.pooler.dense.weight']\n",
      "You should probably TRAIN this model on a down-stream task to be able to use it for predictions and inference.\n",
      "Epoch 1: 100%|██████████| 509/509 [01:44<00:00,  4.87batch/s, loss_decrease=1.000000470731692] \n",
      "100%|██████████| 1372/1372 [00:33<00:00, 41.42batch/s]\n"
     ]
    },
    {
     "data": {
      "text/html": [
       "<div>\n",
       "<style scoped>\n",
       "    .dataframe tbody tr th:only-of-type {\n",
       "        vertical-align: middle;\n",
       "    }\n",
       "\n",
       "    .dataframe tbody tr th {\n",
       "        vertical-align: top;\n",
       "    }\n",
       "\n",
       "    .dataframe thead tr th {\n",
       "        text-align: left;\n",
       "    }\n",
       "</style>\n",
       "<table border=\"1\" class=\"dataframe\">\n",
       "  <thead>\n",
       "    <tr>\n",
       "      <th></th>\n",
       "      <th colspan=\"2\" halign=\"left\">All</th>\n",
       "      <th colspan=\"2\" halign=\"left\">In VOC</th>\n",
       "      <th colspan=\"2\" halign=\"left\">Out of VOC</th>\n",
       "    </tr>\n",
       "    <tr>\n",
       "      <th></th>\n",
       "      <th>f1 micro</th>\n",
       "      <th>f1 macro</th>\n",
       "      <th>f1 micro</th>\n",
       "      <th>f1 macro</th>\n",
       "      <th>f1 micro</th>\n",
       "      <th>f1 macro</th>\n",
       "    </tr>\n",
       "  </thead>\n",
       "  <tbody>\n",
       "    <tr>\n",
       "      <th>score</th>\n",
       "      <td>0.000729</td>\n",
       "      <td>0.000004</td>\n",
       "      <td>0.000775</td>\n",
       "      <td>0.000006</td>\n",
       "      <td>0.0</td>\n",
       "      <td>0.0</td>\n",
       "    </tr>\n",
       "  </tbody>\n",
       "</table>\n",
       "</div>"
      ],
      "text/plain": [
       "            All              In VOC           Out of VOC         \n",
       "       f1 micro  f1 macro  f1 micro  f1 macro   f1 micro f1 macro\n",
       "score  0.000729  0.000004  0.000775  0.000006        0.0      0.0"
      ]
     },
     "metadata": {},
     "output_type": "display_data"
    },
    {
     "name": "stdout",
     "output_type": "stream",
     "text": [
      "Validation metric increased (-inf --> 0.000004).  Saving model ...\n"
     ]
    },
    {
     "name": "stderr",
     "output_type": "stream",
     "text": [
      "Epoch 2: 100%|██████████| 509/509 [01:41<00:00,  5.00batch/s, loss_decrease=1.000000470731692] \n",
      "100%|██████████| 1372/1372 [00:30<00:00, 45.22batch/s]\n"
     ]
    },
    {
     "data": {
      "text/html": [
       "<div>\n",
       "<style scoped>\n",
       "    .dataframe tbody tr th:only-of-type {\n",
       "        vertical-align: middle;\n",
       "    }\n",
       "\n",
       "    .dataframe tbody tr th {\n",
       "        vertical-align: top;\n",
       "    }\n",
       "\n",
       "    .dataframe thead tr th {\n",
       "        text-align: left;\n",
       "    }\n",
       "</style>\n",
       "<table border=\"1\" class=\"dataframe\">\n",
       "  <thead>\n",
       "    <tr>\n",
       "      <th></th>\n",
       "      <th colspan=\"2\" halign=\"left\">All</th>\n",
       "      <th colspan=\"2\" halign=\"left\">In VOC</th>\n",
       "      <th colspan=\"2\" halign=\"left\">Out of VOC</th>\n",
       "    </tr>\n",
       "    <tr>\n",
       "      <th></th>\n",
       "      <th>f1 micro</th>\n",
       "      <th>f1 macro</th>\n",
       "      <th>f1 micro</th>\n",
       "      <th>f1 macro</th>\n",
       "      <th>f1 micro</th>\n",
       "      <th>f1 macro</th>\n",
       "    </tr>\n",
       "  </thead>\n",
       "  <tbody>\n",
       "    <tr>\n",
       "      <th>score</th>\n",
       "      <td>0.000729</td>\n",
       "      <td>0.000004</td>\n",
       "      <td>0.000775</td>\n",
       "      <td>0.000006</td>\n",
       "      <td>0.0</td>\n",
       "      <td>0.0</td>\n",
       "    </tr>\n",
       "  </tbody>\n",
       "</table>\n",
       "</div>"
      ],
      "text/plain": [
       "            All              In VOC           Out of VOC         \n",
       "       f1 micro  f1 macro  f1 micro  f1 macro   f1 micro f1 macro\n",
       "score  0.000729  0.000004  0.000775  0.000006        0.0      0.0"
      ]
     },
     "metadata": {},
     "output_type": "display_data"
    },
    {
     "name": "stdout",
     "output_type": "stream",
     "text": [
      "Validation metric increased (0.000004 --> 0.000004).  Saving model ...\n"
     ]
    },
    {
     "name": "stderr",
     "output_type": "stream",
     "text": [
      "Epoch 3: 100%|██████████| 509/509 [01:42<00:00,  4.98batch/s, loss_decrease=1.000000470731692] \n",
      "100%|██████████| 1372/1372 [00:31<00:00, 44.11batch/s]\n"
     ]
    },
    {
     "data": {
      "text/html": [
       "<div>\n",
       "<style scoped>\n",
       "    .dataframe tbody tr th:only-of-type {\n",
       "        vertical-align: middle;\n",
       "    }\n",
       "\n",
       "    .dataframe tbody tr th {\n",
       "        vertical-align: top;\n",
       "    }\n",
       "\n",
       "    .dataframe thead tr th {\n",
       "        text-align: left;\n",
       "    }\n",
       "</style>\n",
       "<table border=\"1\" class=\"dataframe\">\n",
       "  <thead>\n",
       "    <tr>\n",
       "      <th></th>\n",
       "      <th colspan=\"2\" halign=\"left\">All</th>\n",
       "      <th colspan=\"2\" halign=\"left\">In VOC</th>\n",
       "      <th colspan=\"2\" halign=\"left\">Out of VOC</th>\n",
       "    </tr>\n",
       "    <tr>\n",
       "      <th></th>\n",
       "      <th>f1 micro</th>\n",
       "      <th>f1 macro</th>\n",
       "      <th>f1 micro</th>\n",
       "      <th>f1 macro</th>\n",
       "      <th>f1 micro</th>\n",
       "      <th>f1 macro</th>\n",
       "    </tr>\n",
       "  </thead>\n",
       "  <tbody>\n",
       "    <tr>\n",
       "      <th>score</th>\n",
       "      <td>0.000729</td>\n",
       "      <td>0.000004</td>\n",
       "      <td>0.000775</td>\n",
       "      <td>0.000006</td>\n",
       "      <td>0.0</td>\n",
       "      <td>0.0</td>\n",
       "    </tr>\n",
       "  </tbody>\n",
       "</table>\n",
       "</div>"
      ],
      "text/plain": [
       "            All              In VOC           Out of VOC         \n",
       "       f1 micro  f1 macro  f1 micro  f1 macro   f1 micro f1 macro\n",
       "score  0.000729  0.000004  0.000775  0.000006        0.0      0.0"
      ]
     },
     "metadata": {},
     "output_type": "display_data"
    },
    {
     "name": "stdout",
     "output_type": "stream",
     "text": [
      "Validation metric increased (0.000004 --> 0.000004).  Saving model ...\n"
     ]
    },
    {
     "name": "stderr",
     "output_type": "stream",
     "text": [
      "Epoch 4: 100%|██████████| 509/509 [01:41<00:00,  4.99batch/s, loss_decrease=1.000000470731692] \n",
      "100%|██████████| 1372/1372 [00:29<00:00, 46.74batch/s]\n"
     ]
    },
    {
     "data": {
      "text/html": [
       "<div>\n",
       "<style scoped>\n",
       "    .dataframe tbody tr th:only-of-type {\n",
       "        vertical-align: middle;\n",
       "    }\n",
       "\n",
       "    .dataframe tbody tr th {\n",
       "        vertical-align: top;\n",
       "    }\n",
       "\n",
       "    .dataframe thead tr th {\n",
       "        text-align: left;\n",
       "    }\n",
       "</style>\n",
       "<table border=\"1\" class=\"dataframe\">\n",
       "  <thead>\n",
       "    <tr>\n",
       "      <th></th>\n",
       "      <th colspan=\"2\" halign=\"left\">All</th>\n",
       "      <th colspan=\"2\" halign=\"left\">In VOC</th>\n",
       "      <th colspan=\"2\" halign=\"left\">Out of VOC</th>\n",
       "    </tr>\n",
       "    <tr>\n",
       "      <th></th>\n",
       "      <th>f1 micro</th>\n",
       "      <th>f1 macro</th>\n",
       "      <th>f1 micro</th>\n",
       "      <th>f1 macro</th>\n",
       "      <th>f1 micro</th>\n",
       "      <th>f1 macro</th>\n",
       "    </tr>\n",
       "  </thead>\n",
       "  <tbody>\n",
       "    <tr>\n",
       "      <th>score</th>\n",
       "      <td>0.000729</td>\n",
       "      <td>0.000004</td>\n",
       "      <td>0.000775</td>\n",
       "      <td>0.000006</td>\n",
       "      <td>0.0</td>\n",
       "      <td>0.0</td>\n",
       "    </tr>\n",
       "  </tbody>\n",
       "</table>\n",
       "</div>"
      ],
      "text/plain": [
       "            All              In VOC           Out of VOC         \n",
       "       f1 micro  f1 macro  f1 micro  f1 macro   f1 micro f1 macro\n",
       "score  0.000729  0.000004  0.000775  0.000006        0.0      0.0"
      ]
     },
     "metadata": {},
     "output_type": "display_data"
    },
    {
     "name": "stdout",
     "output_type": "stream",
     "text": [
      "Validation metric increased (0.000004 --> 0.000004).  Saving model ...\n"
     ]
    },
    {
     "name": "stderr",
     "output_type": "stream",
     "text": [
      "Epoch 5: 100%|██████████| 509/509 [01:42<00:00,  4.95batch/s, loss_decrease=1.000000470731692] \n",
      "100%|██████████| 1372/1372 [00:31<00:00, 43.30batch/s]\n"
     ]
    },
    {
     "data": {
      "text/html": [
       "<div>\n",
       "<style scoped>\n",
       "    .dataframe tbody tr th:only-of-type {\n",
       "        vertical-align: middle;\n",
       "    }\n",
       "\n",
       "    .dataframe tbody tr th {\n",
       "        vertical-align: top;\n",
       "    }\n",
       "\n",
       "    .dataframe thead tr th {\n",
       "        text-align: left;\n",
       "    }\n",
       "</style>\n",
       "<table border=\"1\" class=\"dataframe\">\n",
       "  <thead>\n",
       "    <tr>\n",
       "      <th></th>\n",
       "      <th colspan=\"2\" halign=\"left\">All</th>\n",
       "      <th colspan=\"2\" halign=\"left\">In VOC</th>\n",
       "      <th colspan=\"2\" halign=\"left\">Out of VOC</th>\n",
       "    </tr>\n",
       "    <tr>\n",
       "      <th></th>\n",
       "      <th>f1 micro</th>\n",
       "      <th>f1 macro</th>\n",
       "      <th>f1 micro</th>\n",
       "      <th>f1 macro</th>\n",
       "      <th>f1 micro</th>\n",
       "      <th>f1 macro</th>\n",
       "    </tr>\n",
       "  </thead>\n",
       "  <tbody>\n",
       "    <tr>\n",
       "      <th>score</th>\n",
       "      <td>0.000729</td>\n",
       "      <td>0.000004</td>\n",
       "      <td>0.000775</td>\n",
       "      <td>0.000006</td>\n",
       "      <td>0.0</td>\n",
       "      <td>0.0</td>\n",
       "    </tr>\n",
       "  </tbody>\n",
       "</table>\n",
       "</div>"
      ],
      "text/plain": [
       "            All              In VOC           Out of VOC         \n",
       "       f1 micro  f1 macro  f1 micro  f1 macro   f1 micro f1 macro\n",
       "score  0.000729  0.000004  0.000775  0.000006        0.0      0.0"
      ]
     },
     "metadata": {},
     "output_type": "display_data"
    },
    {
     "name": "stdout",
     "output_type": "stream",
     "text": [
      "Validation metric increased (0.000004 --> 0.000004).  Saving model ...\n"
     ]
    },
    {
     "name": "stderr",
     "output_type": "stream",
     "text": [
      "Epoch 6: 100%|██████████| 509/509 [01:43<00:00,  4.94batch/s, loss_decrease=1.000000470731692] \n",
      "100%|██████████| 1372/1372 [00:31<00:00, 43.27batch/s]\n"
     ]
    },
    {
     "data": {
      "text/html": [
       "<div>\n",
       "<style scoped>\n",
       "    .dataframe tbody tr th:only-of-type {\n",
       "        vertical-align: middle;\n",
       "    }\n",
       "\n",
       "    .dataframe tbody tr th {\n",
       "        vertical-align: top;\n",
       "    }\n",
       "\n",
       "    .dataframe thead tr th {\n",
       "        text-align: left;\n",
       "    }\n",
       "</style>\n",
       "<table border=\"1\" class=\"dataframe\">\n",
       "  <thead>\n",
       "    <tr>\n",
       "      <th></th>\n",
       "      <th colspan=\"2\" halign=\"left\">All</th>\n",
       "      <th colspan=\"2\" halign=\"left\">In VOC</th>\n",
       "      <th colspan=\"2\" halign=\"left\">Out of VOC</th>\n",
       "    </tr>\n",
       "    <tr>\n",
       "      <th></th>\n",
       "      <th>f1 micro</th>\n",
       "      <th>f1 macro</th>\n",
       "      <th>f1 micro</th>\n",
       "      <th>f1 macro</th>\n",
       "      <th>f1 micro</th>\n",
       "      <th>f1 macro</th>\n",
       "    </tr>\n",
       "  </thead>\n",
       "  <tbody>\n",
       "    <tr>\n",
       "      <th>score</th>\n",
       "      <td>0.000729</td>\n",
       "      <td>0.000004</td>\n",
       "      <td>0.000775</td>\n",
       "      <td>0.000006</td>\n",
       "      <td>0.0</td>\n",
       "      <td>0.0</td>\n",
       "    </tr>\n",
       "  </tbody>\n",
       "</table>\n",
       "</div>"
      ],
      "text/plain": [
       "            All              In VOC           Out of VOC         \n",
       "       f1 micro  f1 macro  f1 micro  f1 macro   f1 micro f1 macro\n",
       "score  0.000729  0.000004  0.000775  0.000006        0.0      0.0"
      ]
     },
     "metadata": {},
     "output_type": "display_data"
    },
    {
     "name": "stdout",
     "output_type": "stream",
     "text": [
      "Validation metric increased (0.000004 --> 0.000004).  Saving model ...\n"
     ]
    },
    {
     "name": "stderr",
     "output_type": "stream",
     "text": [
      "Epoch 7: 100%|██████████| 509/509 [01:42<00:00,  4.99batch/s, loss_decrease=1.000000470731692] \n",
      "100%|██████████| 1372/1372 [00:30<00:00, 44.87batch/s]\n"
     ]
    },
    {
     "data": {
      "text/html": [
       "<div>\n",
       "<style scoped>\n",
       "    .dataframe tbody tr th:only-of-type {\n",
       "        vertical-align: middle;\n",
       "    }\n",
       "\n",
       "    .dataframe tbody tr th {\n",
       "        vertical-align: top;\n",
       "    }\n",
       "\n",
       "    .dataframe thead tr th {\n",
       "        text-align: left;\n",
       "    }\n",
       "</style>\n",
       "<table border=\"1\" class=\"dataframe\">\n",
       "  <thead>\n",
       "    <tr>\n",
       "      <th></th>\n",
       "      <th colspan=\"2\" halign=\"left\">All</th>\n",
       "      <th colspan=\"2\" halign=\"left\">In VOC</th>\n",
       "      <th colspan=\"2\" halign=\"left\">Out of VOC</th>\n",
       "    </tr>\n",
       "    <tr>\n",
       "      <th></th>\n",
       "      <th>f1 micro</th>\n",
       "      <th>f1 macro</th>\n",
       "      <th>f1 micro</th>\n",
       "      <th>f1 macro</th>\n",
       "      <th>f1 micro</th>\n",
       "      <th>f1 macro</th>\n",
       "    </tr>\n",
       "  </thead>\n",
       "  <tbody>\n",
       "    <tr>\n",
       "      <th>score</th>\n",
       "      <td>0.000729</td>\n",
       "      <td>0.000004</td>\n",
       "      <td>0.000775</td>\n",
       "      <td>0.000006</td>\n",
       "      <td>0.0</td>\n",
       "      <td>0.0</td>\n",
       "    </tr>\n",
       "  </tbody>\n",
       "</table>\n",
       "</div>"
      ],
      "text/plain": [
       "            All              In VOC           Out of VOC         \n",
       "       f1 micro  f1 macro  f1 micro  f1 macro   f1 micro f1 macro\n",
       "score  0.000729  0.000004  0.000775  0.000006        0.0      0.0"
      ]
     },
     "metadata": {},
     "output_type": "display_data"
    },
    {
     "name": "stdout",
     "output_type": "stream",
     "text": [
      "Validation metric increased (0.000004 --> 0.000004).  Saving model ...\n"
     ]
    },
    {
     "name": "stderr",
     "output_type": "stream",
     "text": [
      "Epoch 8: 100%|██████████| 509/509 [01:41<00:00,  5.02batch/s, loss_decrease=1.000000470731692] \n",
      "100%|██████████| 1372/1372 [00:32<00:00, 42.82batch/s]\n"
     ]
    },
    {
     "data": {
      "text/html": [
       "<div>\n",
       "<style scoped>\n",
       "    .dataframe tbody tr th:only-of-type {\n",
       "        vertical-align: middle;\n",
       "    }\n",
       "\n",
       "    .dataframe tbody tr th {\n",
       "        vertical-align: top;\n",
       "    }\n",
       "\n",
       "    .dataframe thead tr th {\n",
       "        text-align: left;\n",
       "    }\n",
       "</style>\n",
       "<table border=\"1\" class=\"dataframe\">\n",
       "  <thead>\n",
       "    <tr>\n",
       "      <th></th>\n",
       "      <th colspan=\"2\" halign=\"left\">All</th>\n",
       "      <th colspan=\"2\" halign=\"left\">In VOC</th>\n",
       "      <th colspan=\"2\" halign=\"left\">Out of VOC</th>\n",
       "    </tr>\n",
       "    <tr>\n",
       "      <th></th>\n",
       "      <th>f1 micro</th>\n",
       "      <th>f1 macro</th>\n",
       "      <th>f1 micro</th>\n",
       "      <th>f1 macro</th>\n",
       "      <th>f1 micro</th>\n",
       "      <th>f1 macro</th>\n",
       "    </tr>\n",
       "  </thead>\n",
       "  <tbody>\n",
       "    <tr>\n",
       "      <th>score</th>\n",
       "      <td>0.000729</td>\n",
       "      <td>0.000004</td>\n",
       "      <td>0.000775</td>\n",
       "      <td>0.000006</td>\n",
       "      <td>0.0</td>\n",
       "      <td>0.0</td>\n",
       "    </tr>\n",
       "  </tbody>\n",
       "</table>\n",
       "</div>"
      ],
      "text/plain": [
       "            All              In VOC           Out of VOC         \n",
       "       f1 micro  f1 macro  f1 micro  f1 macro   f1 micro f1 macro\n",
       "score  0.000729  0.000004  0.000775  0.000006        0.0      0.0"
      ]
     },
     "metadata": {},
     "output_type": "display_data"
    },
    {
     "name": "stdout",
     "output_type": "stream",
     "text": [
      "Validation metric increased (0.000004 --> 0.000004).  Saving model ...\n"
     ]
    },
    {
     "name": "stderr",
     "output_type": "stream",
     "text": [
      "Epoch 9: 100%|██████████| 509/509 [01:41<00:00,  5.03batch/s, loss_decrease=1.000000470731692] \n",
      "100%|██████████| 1372/1372 [00:30<00:00, 44.46batch/s]\n"
     ]
    },
    {
     "data": {
      "text/html": [
       "<div>\n",
       "<style scoped>\n",
       "    .dataframe tbody tr th:only-of-type {\n",
       "        vertical-align: middle;\n",
       "    }\n",
       "\n",
       "    .dataframe tbody tr th {\n",
       "        vertical-align: top;\n",
       "    }\n",
       "\n",
       "    .dataframe thead tr th {\n",
       "        text-align: left;\n",
       "    }\n",
       "</style>\n",
       "<table border=\"1\" class=\"dataframe\">\n",
       "  <thead>\n",
       "    <tr>\n",
       "      <th></th>\n",
       "      <th colspan=\"2\" halign=\"left\">All</th>\n",
       "      <th colspan=\"2\" halign=\"left\">In VOC</th>\n",
       "      <th colspan=\"2\" halign=\"left\">Out of VOC</th>\n",
       "    </tr>\n",
       "    <tr>\n",
       "      <th></th>\n",
       "      <th>f1 micro</th>\n",
       "      <th>f1 macro</th>\n",
       "      <th>f1 micro</th>\n",
       "      <th>f1 macro</th>\n",
       "      <th>f1 micro</th>\n",
       "      <th>f1 macro</th>\n",
       "    </tr>\n",
       "  </thead>\n",
       "  <tbody>\n",
       "    <tr>\n",
       "      <th>score</th>\n",
       "      <td>0.000729</td>\n",
       "      <td>0.000004</td>\n",
       "      <td>0.000775</td>\n",
       "      <td>0.000006</td>\n",
       "      <td>0.0</td>\n",
       "      <td>0.0</td>\n",
       "    </tr>\n",
       "  </tbody>\n",
       "</table>\n",
       "</div>"
      ],
      "text/plain": [
       "            All              In VOC           Out of VOC         \n",
       "       f1 micro  f1 macro  f1 micro  f1 macro   f1 micro f1 macro\n",
       "score  0.000729  0.000004  0.000775  0.000006        0.0      0.0"
      ]
     },
     "metadata": {},
     "output_type": "display_data"
    },
    {
     "name": "stdout",
     "output_type": "stream",
     "text": [
      "Validation metric increased (0.000004 --> 0.000004).  Saving model ...\n"
     ]
    },
    {
     "name": "stderr",
     "output_type": "stream",
     "text": [
      "Epoch 10: 100%|██████████| 509/509 [01:43<00:00,  4.92batch/s, loss_decrease=1.0000006590244932]\n",
      "100%|██████████| 1372/1372 [00:30<00:00, 44.88batch/s]\n"
     ]
    },
    {
     "data": {
      "text/html": [
       "<div>\n",
       "<style scoped>\n",
       "    .dataframe tbody tr th:only-of-type {\n",
       "        vertical-align: middle;\n",
       "    }\n",
       "\n",
       "    .dataframe tbody tr th {\n",
       "        vertical-align: top;\n",
       "    }\n",
       "\n",
       "    .dataframe thead tr th {\n",
       "        text-align: left;\n",
       "    }\n",
       "</style>\n",
       "<table border=\"1\" class=\"dataframe\">\n",
       "  <thead>\n",
       "    <tr>\n",
       "      <th></th>\n",
       "      <th colspan=\"2\" halign=\"left\">All</th>\n",
       "      <th colspan=\"2\" halign=\"left\">In VOC</th>\n",
       "      <th colspan=\"2\" halign=\"left\">Out of VOC</th>\n",
       "    </tr>\n",
       "    <tr>\n",
       "      <th></th>\n",
       "      <th>f1 micro</th>\n",
       "      <th>f1 macro</th>\n",
       "      <th>f1 micro</th>\n",
       "      <th>f1 macro</th>\n",
       "      <th>f1 micro</th>\n",
       "      <th>f1 macro</th>\n",
       "    </tr>\n",
       "  </thead>\n",
       "  <tbody>\n",
       "    <tr>\n",
       "      <th>score</th>\n",
       "      <td>0.412536</td>\n",
       "      <td>0.079</td>\n",
       "      <td>0.43876</td>\n",
       "      <td>0.102457</td>\n",
       "      <td>0.0</td>\n",
       "      <td>0.0</td>\n",
       "    </tr>\n",
       "  </tbody>\n",
       "</table>\n",
       "</div>"
      ],
      "text/plain": [
       "            All            In VOC           Out of VOC         \n",
       "       f1 micro f1 macro f1 micro  f1 macro   f1 micro f1 macro\n",
       "score  0.412536    0.079  0.43876  0.102457        0.0      0.0"
      ]
     },
     "metadata": {},
     "output_type": "display_data"
    },
    {
     "name": "stdout",
     "output_type": "stream",
     "text": [
      "Validation metric increased (0.000004 --> 0.079000).  Saving model ...\n"
     ]
    },
    {
     "name": "stderr",
     "output_type": "stream",
     "text": [
      "Epoch 11: 100%|██████████| 509/509 [01:44<00:00,  4.87batch/s, loss_decrease=1.00000075317092]  \n",
      "100%|██████████| 1372/1372 [00:30<00:00, 44.65batch/s]\n"
     ]
    },
    {
     "data": {
      "text/html": [
       "<div>\n",
       "<style scoped>\n",
       "    .dataframe tbody tr th:only-of-type {\n",
       "        vertical-align: middle;\n",
       "    }\n",
       "\n",
       "    .dataframe tbody tr th {\n",
       "        vertical-align: top;\n",
       "    }\n",
       "\n",
       "    .dataframe thead tr th {\n",
       "        text-align: left;\n",
       "    }\n",
       "</style>\n",
       "<table border=\"1\" class=\"dataframe\">\n",
       "  <thead>\n",
       "    <tr>\n",
       "      <th></th>\n",
       "      <th colspan=\"2\" halign=\"left\">All</th>\n",
       "      <th colspan=\"2\" halign=\"left\">In VOC</th>\n",
       "      <th colspan=\"2\" halign=\"left\">Out of VOC</th>\n",
       "    </tr>\n",
       "    <tr>\n",
       "      <th></th>\n",
       "      <th>f1 micro</th>\n",
       "      <th>f1 macro</th>\n",
       "      <th>f1 micro</th>\n",
       "      <th>f1 macro</th>\n",
       "      <th>f1 micro</th>\n",
       "      <th>f1 macro</th>\n",
       "    </tr>\n",
       "  </thead>\n",
       "  <tbody>\n",
       "    <tr>\n",
       "      <th>score</th>\n",
       "      <td>0.483965</td>\n",
       "      <td>0.103784</td>\n",
       "      <td>0.514729</td>\n",
       "      <td>0.132104</td>\n",
       "      <td>0.0</td>\n",
       "      <td>0.0</td>\n",
       "    </tr>\n",
       "  </tbody>\n",
       "</table>\n",
       "</div>"
      ],
      "text/plain": [
       "            All              In VOC           Out of VOC         \n",
       "       f1 micro  f1 macro  f1 micro  f1 macro   f1 micro f1 macro\n",
       "score  0.483965  0.103784  0.514729  0.132104        0.0      0.0"
      ]
     },
     "metadata": {},
     "output_type": "display_data"
    },
    {
     "name": "stdout",
     "output_type": "stream",
     "text": [
      "Validation metric increased (0.079000 --> 0.103784).  Saving model ...\n"
     ]
    },
    {
     "name": "stderr",
     "output_type": "stream",
     "text": [
      "Epoch 12: 100%|██████████| 509/509 [01:40<00:00,  5.05batch/s, loss_decrease=1.0000006590244932]\n",
      "100%|██████████| 1372/1372 [00:29<00:00, 47.22batch/s]\n"
     ]
    },
    {
     "data": {
      "text/html": [
       "<div>\n",
       "<style scoped>\n",
       "    .dataframe tbody tr th:only-of-type {\n",
       "        vertical-align: middle;\n",
       "    }\n",
       "\n",
       "    .dataframe tbody tr th {\n",
       "        vertical-align: top;\n",
       "    }\n",
       "\n",
       "    .dataframe thead tr th {\n",
       "        text-align: left;\n",
       "    }\n",
       "</style>\n",
       "<table border=\"1\" class=\"dataframe\">\n",
       "  <thead>\n",
       "    <tr>\n",
       "      <th></th>\n",
       "      <th colspan=\"2\" halign=\"left\">All</th>\n",
       "      <th colspan=\"2\" halign=\"left\">In VOC</th>\n",
       "      <th colspan=\"2\" halign=\"left\">Out of VOC</th>\n",
       "    </tr>\n",
       "    <tr>\n",
       "      <th></th>\n",
       "      <th>f1 micro</th>\n",
       "      <th>f1 macro</th>\n",
       "      <th>f1 micro</th>\n",
       "      <th>f1 macro</th>\n",
       "      <th>f1 micro</th>\n",
       "      <th>f1 macro</th>\n",
       "    </tr>\n",
       "  </thead>\n",
       "  <tbody>\n",
       "    <tr>\n",
       "      <th>score</th>\n",
       "      <td>0.56414</td>\n",
       "      <td>0.148037</td>\n",
       "      <td>0.6</td>\n",
       "      <td>0.192259</td>\n",
       "      <td>0.0</td>\n",
       "      <td>0.0</td>\n",
       "    </tr>\n",
       "  </tbody>\n",
       "</table>\n",
       "</div>"
      ],
      "text/plain": [
       "           All             In VOC           Out of VOC         \n",
       "      f1 micro  f1 macro f1 micro  f1 macro   f1 micro f1 macro\n",
       "score  0.56414  0.148037      0.6  0.192259        0.0      0.0"
      ]
     },
     "metadata": {},
     "output_type": "display_data"
    },
    {
     "name": "stdout",
     "output_type": "stream",
     "text": [
      "Validation metric increased (0.103784 --> 0.148037).  Saving model ...\n"
     ]
    },
    {
     "name": "stderr",
     "output_type": "stream",
     "text": [
      "Epoch 13: 100%|██████████| 509/509 [01:40<00:00,  5.05batch/s, loss_decrease=1.00000075317092]  \n",
      "100%|██████████| 1372/1372 [00:28<00:00, 47.88batch/s]\n"
     ]
    },
    {
     "data": {
      "text/html": [
       "<div>\n",
       "<style scoped>\n",
       "    .dataframe tbody tr th:only-of-type {\n",
       "        vertical-align: middle;\n",
       "    }\n",
       "\n",
       "    .dataframe tbody tr th {\n",
       "        vertical-align: top;\n",
       "    }\n",
       "\n",
       "    .dataframe thead tr th {\n",
       "        text-align: left;\n",
       "    }\n",
       "</style>\n",
       "<table border=\"1\" class=\"dataframe\">\n",
       "  <thead>\n",
       "    <tr>\n",
       "      <th></th>\n",
       "      <th colspan=\"2\" halign=\"left\">All</th>\n",
       "      <th colspan=\"2\" halign=\"left\">In VOC</th>\n",
       "      <th colspan=\"2\" halign=\"left\">Out of VOC</th>\n",
       "    </tr>\n",
       "    <tr>\n",
       "      <th></th>\n",
       "      <th>f1 micro</th>\n",
       "      <th>f1 macro</th>\n",
       "      <th>f1 micro</th>\n",
       "      <th>f1 macro</th>\n",
       "      <th>f1 micro</th>\n",
       "      <th>f1 macro</th>\n",
       "    </tr>\n",
       "  </thead>\n",
       "  <tbody>\n",
       "    <tr>\n",
       "      <th>score</th>\n",
       "      <td>0.583819</td>\n",
       "      <td>0.164252</td>\n",
       "      <td>0.62093</td>\n",
       "      <td>0.211714</td>\n",
       "      <td>0.0</td>\n",
       "      <td>0.0</td>\n",
       "    </tr>\n",
       "  </tbody>\n",
       "</table>\n",
       "</div>"
      ],
      "text/plain": [
       "            All             In VOC           Out of VOC         \n",
       "       f1 micro  f1 macro f1 micro  f1 macro   f1 micro f1 macro\n",
       "score  0.583819  0.164252  0.62093  0.211714        0.0      0.0"
      ]
     },
     "metadata": {},
     "output_type": "display_data"
    },
    {
     "name": "stdout",
     "output_type": "stream",
     "text": [
      "Validation metric increased (0.148037 --> 0.164252).  Saving model ...\n"
     ]
    },
    {
     "name": "stderr",
     "output_type": "stream",
     "text": [
      "Epoch 14: 100%|██████████| 509/509 [01:39<00:00,  5.10batch/s, loss_decrease=1.00000075317092]  \n",
      "100%|██████████| 1372/1372 [00:28<00:00, 48.80batch/s]\n"
     ]
    },
    {
     "data": {
      "text/html": [
       "<div>\n",
       "<style scoped>\n",
       "    .dataframe tbody tr th:only-of-type {\n",
       "        vertical-align: middle;\n",
       "    }\n",
       "\n",
       "    .dataframe tbody tr th {\n",
       "        vertical-align: top;\n",
       "    }\n",
       "\n",
       "    .dataframe thead tr th {\n",
       "        text-align: left;\n",
       "    }\n",
       "</style>\n",
       "<table border=\"1\" class=\"dataframe\">\n",
       "  <thead>\n",
       "    <tr>\n",
       "      <th></th>\n",
       "      <th colspan=\"2\" halign=\"left\">All</th>\n",
       "      <th colspan=\"2\" halign=\"left\">In VOC</th>\n",
       "      <th colspan=\"2\" halign=\"left\">Out of VOC</th>\n",
       "    </tr>\n",
       "    <tr>\n",
       "      <th></th>\n",
       "      <th>f1 micro</th>\n",
       "      <th>f1 macro</th>\n",
       "      <th>f1 micro</th>\n",
       "      <th>f1 macro</th>\n",
       "      <th>f1 micro</th>\n",
       "      <th>f1 macro</th>\n",
       "    </tr>\n",
       "  </thead>\n",
       "  <tbody>\n",
       "    <tr>\n",
       "      <th>score</th>\n",
       "      <td>0.605685</td>\n",
       "      <td>0.176789</td>\n",
       "      <td>0.644186</td>\n",
       "      <td>0.228005</td>\n",
       "      <td>0.0</td>\n",
       "      <td>0.0</td>\n",
       "    </tr>\n",
       "  </tbody>\n",
       "</table>\n",
       "</div>"
      ],
      "text/plain": [
       "            All              In VOC           Out of VOC         \n",
       "       f1 micro  f1 macro  f1 micro  f1 macro   f1 micro f1 macro\n",
       "score  0.605685  0.176789  0.644186  0.228005        0.0      0.0"
      ]
     },
     "metadata": {},
     "output_type": "display_data"
    },
    {
     "name": "stdout",
     "output_type": "stream",
     "text": [
      "Validation metric increased (0.164252 --> 0.176789).  Saving model ...\n"
     ]
    },
    {
     "name": "stderr",
     "output_type": "stream",
     "text": [
      "Epoch 15: 100%|██████████| 509/509 [01:41<00:00,  5.02batch/s, loss_decrease=1.00000075317092]  \n",
      "100%|██████████| 1372/1372 [00:28<00:00, 48.01batch/s]\n"
     ]
    },
    {
     "data": {
      "text/html": [
       "<div>\n",
       "<style scoped>\n",
       "    .dataframe tbody tr th:only-of-type {\n",
       "        vertical-align: middle;\n",
       "    }\n",
       "\n",
       "    .dataframe tbody tr th {\n",
       "        vertical-align: top;\n",
       "    }\n",
       "\n",
       "    .dataframe thead tr th {\n",
       "        text-align: left;\n",
       "    }\n",
       "</style>\n",
       "<table border=\"1\" class=\"dataframe\">\n",
       "  <thead>\n",
       "    <tr>\n",
       "      <th></th>\n",
       "      <th colspan=\"2\" halign=\"left\">All</th>\n",
       "      <th colspan=\"2\" halign=\"left\">In VOC</th>\n",
       "      <th colspan=\"2\" halign=\"left\">Out of VOC</th>\n",
       "    </tr>\n",
       "    <tr>\n",
       "      <th></th>\n",
       "      <th>f1 micro</th>\n",
       "      <th>f1 macro</th>\n",
       "      <th>f1 micro</th>\n",
       "      <th>f1 macro</th>\n",
       "      <th>f1 micro</th>\n",
       "      <th>f1 macro</th>\n",
       "    </tr>\n",
       "  </thead>\n",
       "  <tbody>\n",
       "    <tr>\n",
       "      <th>score</th>\n",
       "      <td>0.629009</td>\n",
       "      <td>0.19903</td>\n",
       "      <td>0.668992</td>\n",
       "      <td>0.256901</td>\n",
       "      <td>0.0</td>\n",
       "      <td>0.0</td>\n",
       "    </tr>\n",
       "  </tbody>\n",
       "</table>\n",
       "</div>"
      ],
      "text/plain": [
       "            All             In VOC           Out of VOC         \n",
       "       f1 micro f1 macro  f1 micro  f1 macro   f1 micro f1 macro\n",
       "score  0.629009  0.19903  0.668992  0.256901        0.0      0.0"
      ]
     },
     "metadata": {},
     "output_type": "display_data"
    },
    {
     "name": "stdout",
     "output_type": "stream",
     "text": [
      "Validation metric increased (0.176789 --> 0.199030).  Saving model ...\n"
     ]
    },
    {
     "name": "stderr",
     "output_type": "stream",
     "text": [
      "Epoch 16: 100%|██████████| 509/509 [01:34<00:00,  5.36batch/s, loss_decrease=1.00000075317092]  \n",
      "100%|██████████| 1372/1372 [00:29<00:00, 47.07batch/s]\n"
     ]
    },
    {
     "data": {
      "text/html": [
       "<div>\n",
       "<style scoped>\n",
       "    .dataframe tbody tr th:only-of-type {\n",
       "        vertical-align: middle;\n",
       "    }\n",
       "\n",
       "    .dataframe tbody tr th {\n",
       "        vertical-align: top;\n",
       "    }\n",
       "\n",
       "    .dataframe thead tr th {\n",
       "        text-align: left;\n",
       "    }\n",
       "</style>\n",
       "<table border=\"1\" class=\"dataframe\">\n",
       "  <thead>\n",
       "    <tr>\n",
       "      <th></th>\n",
       "      <th colspan=\"2\" halign=\"left\">All</th>\n",
       "      <th colspan=\"2\" halign=\"left\">In VOC</th>\n",
       "      <th colspan=\"2\" halign=\"left\">Out of VOC</th>\n",
       "    </tr>\n",
       "    <tr>\n",
       "      <th></th>\n",
       "      <th>f1 micro</th>\n",
       "      <th>f1 macro</th>\n",
       "      <th>f1 micro</th>\n",
       "      <th>f1 macro</th>\n",
       "      <th>f1 micro</th>\n",
       "      <th>f1 macro</th>\n",
       "    </tr>\n",
       "  </thead>\n",
       "  <tbody>\n",
       "    <tr>\n",
       "      <th>score</th>\n",
       "      <td>0.638484</td>\n",
       "      <td>0.214222</td>\n",
       "      <td>0.67907</td>\n",
       "      <td>0.275485</td>\n",
       "      <td>0.0</td>\n",
       "      <td>0.0</td>\n",
       "    </tr>\n",
       "  </tbody>\n",
       "</table>\n",
       "</div>"
      ],
      "text/plain": [
       "            All             In VOC           Out of VOC         \n",
       "       f1 micro  f1 macro f1 micro  f1 macro   f1 micro f1 macro\n",
       "score  0.638484  0.214222  0.67907  0.275485        0.0      0.0"
      ]
     },
     "metadata": {},
     "output_type": "display_data"
    },
    {
     "name": "stdout",
     "output_type": "stream",
     "text": [
      "Validation metric increased (0.199030 --> 0.214222).  Saving model ...\n"
     ]
    },
    {
     "name": "stderr",
     "output_type": "stream",
     "text": [
      "Epoch 17: 100%|██████████| 509/509 [01:39<00:00,  5.11batch/s, loss_decrease=1.000000847317365] \n",
      "100%|██████████| 1372/1372 [00:30<00:00, 45.70batch/s]\n"
     ]
    },
    {
     "data": {
      "text/html": [
       "<div>\n",
       "<style scoped>\n",
       "    .dataframe tbody tr th:only-of-type {\n",
       "        vertical-align: middle;\n",
       "    }\n",
       "\n",
       "    .dataframe tbody tr th {\n",
       "        vertical-align: top;\n",
       "    }\n",
       "\n",
       "    .dataframe thead tr th {\n",
       "        text-align: left;\n",
       "    }\n",
       "</style>\n",
       "<table border=\"1\" class=\"dataframe\">\n",
       "  <thead>\n",
       "    <tr>\n",
       "      <th></th>\n",
       "      <th colspan=\"2\" halign=\"left\">All</th>\n",
       "      <th colspan=\"2\" halign=\"left\">In VOC</th>\n",
       "      <th colspan=\"2\" halign=\"left\">Out of VOC</th>\n",
       "    </tr>\n",
       "    <tr>\n",
       "      <th></th>\n",
       "      <th>f1 micro</th>\n",
       "      <th>f1 macro</th>\n",
       "      <th>f1 micro</th>\n",
       "      <th>f1 macro</th>\n",
       "      <th>f1 micro</th>\n",
       "      <th>f1 macro</th>\n",
       "    </tr>\n",
       "  </thead>\n",
       "  <tbody>\n",
       "    <tr>\n",
       "      <th>score</th>\n",
       "      <td>0.629738</td>\n",
       "      <td>0.209304</td>\n",
       "      <td>0.668992</td>\n",
       "      <td>0.269782</td>\n",
       "      <td>0.012195</td>\n",
       "      <td>0.005698</td>\n",
       "    </tr>\n",
       "  </tbody>\n",
       "</table>\n",
       "</div>"
      ],
      "text/plain": [
       "            All              In VOC           Out of VOC          \n",
       "       f1 micro  f1 macro  f1 micro  f1 macro   f1 micro  f1 macro\n",
       "score  0.629738  0.209304  0.668992  0.269782   0.012195  0.005698"
      ]
     },
     "metadata": {},
     "output_type": "display_data"
    },
    {
     "name": "stdout",
     "output_type": "stream",
     "text": [
      "EarlyStopping counter: 1 out of 7\n"
     ]
    },
    {
     "name": "stderr",
     "output_type": "stream",
     "text": [
      "Epoch 18: 100%|██████████| 509/509 [01:40<00:00,  5.07batch/s, loss_decrease=1.000000847317365] \n",
      "100%|██████████| 1372/1372 [00:27<00:00, 49.80batch/s]\n"
     ]
    },
    {
     "data": {
      "text/html": [
       "<div>\n",
       "<style scoped>\n",
       "    .dataframe tbody tr th:only-of-type {\n",
       "        vertical-align: middle;\n",
       "    }\n",
       "\n",
       "    .dataframe tbody tr th {\n",
       "        vertical-align: top;\n",
       "    }\n",
       "\n",
       "    .dataframe thead tr th {\n",
       "        text-align: left;\n",
       "    }\n",
       "</style>\n",
       "<table border=\"1\" class=\"dataframe\">\n",
       "  <thead>\n",
       "    <tr>\n",
       "      <th></th>\n",
       "      <th colspan=\"2\" halign=\"left\">All</th>\n",
       "      <th colspan=\"2\" halign=\"left\">In VOC</th>\n",
       "      <th colspan=\"2\" halign=\"left\">Out of VOC</th>\n",
       "    </tr>\n",
       "    <tr>\n",
       "      <th></th>\n",
       "      <th>f1 micro</th>\n",
       "      <th>f1 macro</th>\n",
       "      <th>f1 micro</th>\n",
       "      <th>f1 macro</th>\n",
       "      <th>f1 micro</th>\n",
       "      <th>f1 macro</th>\n",
       "    </tr>\n",
       "  </thead>\n",
       "  <tbody>\n",
       "    <tr>\n",
       "      <th>score</th>\n",
       "      <td>0.627551</td>\n",
       "      <td>0.204939</td>\n",
       "      <td>0.667442</td>\n",
       "      <td>0.266221</td>\n",
       "      <td>0.0</td>\n",
       "      <td>0.0</td>\n",
       "    </tr>\n",
       "  </tbody>\n",
       "</table>\n",
       "</div>"
      ],
      "text/plain": [
       "            All              In VOC           Out of VOC         \n",
       "       f1 micro  f1 macro  f1 micro  f1 macro   f1 micro f1 macro\n",
       "score  0.627551  0.204939  0.667442  0.266221        0.0      0.0"
      ]
     },
     "metadata": {},
     "output_type": "display_data"
    },
    {
     "name": "stdout",
     "output_type": "stream",
     "text": [
      "EarlyStopping counter: 2 out of 7\n"
     ]
    },
    {
     "name": "stderr",
     "output_type": "stream",
     "text": [
      "Epoch 19: 100%|██████████| 509/509 [01:42<00:00,  4.97batch/s, loss_decrease=1.000000847317365] \n",
      "100%|██████████| 1372/1372 [00:27<00:00, 50.02batch/s]\n"
     ]
    },
    {
     "data": {
      "text/html": [
       "<div>\n",
       "<style scoped>\n",
       "    .dataframe tbody tr th:only-of-type {\n",
       "        vertical-align: middle;\n",
       "    }\n",
       "\n",
       "    .dataframe tbody tr th {\n",
       "        vertical-align: top;\n",
       "    }\n",
       "\n",
       "    .dataframe thead tr th {\n",
       "        text-align: left;\n",
       "    }\n",
       "</style>\n",
       "<table border=\"1\" class=\"dataframe\">\n",
       "  <thead>\n",
       "    <tr>\n",
       "      <th></th>\n",
       "      <th colspan=\"2\" halign=\"left\">All</th>\n",
       "      <th colspan=\"2\" halign=\"left\">In VOC</th>\n",
       "      <th colspan=\"2\" halign=\"left\">Out of VOC</th>\n",
       "    </tr>\n",
       "    <tr>\n",
       "      <th></th>\n",
       "      <th>f1 micro</th>\n",
       "      <th>f1 macro</th>\n",
       "      <th>f1 micro</th>\n",
       "      <th>f1 macro</th>\n",
       "      <th>f1 micro</th>\n",
       "      <th>f1 macro</th>\n",
       "    </tr>\n",
       "  </thead>\n",
       "  <tbody>\n",
       "    <tr>\n",
       "      <th>score</th>\n",
       "      <td>0.646501</td>\n",
       "      <td>0.235628</td>\n",
       "      <td>0.687597</td>\n",
       "      <td>0.306491</td>\n",
       "      <td>0.0</td>\n",
       "      <td>0.0</td>\n",
       "    </tr>\n",
       "  </tbody>\n",
       "</table>\n",
       "</div>"
      ],
      "text/plain": [
       "            All              In VOC           Out of VOC         \n",
       "       f1 micro  f1 macro  f1 micro  f1 macro   f1 micro f1 macro\n",
       "score  0.646501  0.235628  0.687597  0.306491        0.0      0.0"
      ]
     },
     "metadata": {},
     "output_type": "display_data"
    },
    {
     "name": "stdout",
     "output_type": "stream",
     "text": [
      "Validation metric increased (0.214222 --> 0.235628).  Saving model ...\n"
     ]
    },
    {
     "name": "stderr",
     "output_type": "stream",
     "text": [
      "Epoch 20: 100%|██████████| 509/509 [01:40<00:00,  5.05batch/s, loss_decrease=1.000000847317365] \n",
      "100%|██████████| 1372/1372 [00:27<00:00, 50.18batch/s]\n"
     ]
    },
    {
     "data": {
      "text/html": [
       "<div>\n",
       "<style scoped>\n",
       "    .dataframe tbody tr th:only-of-type {\n",
       "        vertical-align: middle;\n",
       "    }\n",
       "\n",
       "    .dataframe tbody tr th {\n",
       "        vertical-align: top;\n",
       "    }\n",
       "\n",
       "    .dataframe thead tr th {\n",
       "        text-align: left;\n",
       "    }\n",
       "</style>\n",
       "<table border=\"1\" class=\"dataframe\">\n",
       "  <thead>\n",
       "    <tr>\n",
       "      <th></th>\n",
       "      <th colspan=\"2\" halign=\"left\">All</th>\n",
       "      <th colspan=\"2\" halign=\"left\">In VOC</th>\n",
       "      <th colspan=\"2\" halign=\"left\">Out of VOC</th>\n",
       "    </tr>\n",
       "    <tr>\n",
       "      <th></th>\n",
       "      <th>f1 micro</th>\n",
       "      <th>f1 macro</th>\n",
       "      <th>f1 micro</th>\n",
       "      <th>f1 macro</th>\n",
       "      <th>f1 micro</th>\n",
       "      <th>f1 macro</th>\n",
       "    </tr>\n",
       "  </thead>\n",
       "  <tbody>\n",
       "    <tr>\n",
       "      <th>score</th>\n",
       "      <td>0.650146</td>\n",
       "      <td>0.228385</td>\n",
       "      <td>0.691473</td>\n",
       "      <td>0.295924</td>\n",
       "      <td>0.0</td>\n",
       "      <td>0.0</td>\n",
       "    </tr>\n",
       "  </tbody>\n",
       "</table>\n",
       "</div>"
      ],
      "text/plain": [
       "            All              In VOC           Out of VOC         \n",
       "       f1 micro  f1 macro  f1 micro  f1 macro   f1 micro f1 macro\n",
       "score  0.650146  0.228385  0.691473  0.295924        0.0      0.0"
      ]
     },
     "metadata": {},
     "output_type": "display_data"
    },
    {
     "name": "stdout",
     "output_type": "stream",
     "text": [
      "EarlyStopping counter: 1 out of 7\n"
     ]
    },
    {
     "name": "stderr",
     "output_type": "stream",
     "text": [
      "Epoch 21: 100%|██████████| 509/509 [01:40<00:00,  5.08batch/s, loss_decrease=1.000000847317365] \n",
      "100%|██████████| 1372/1372 [00:29<00:00, 47.24batch/s]\n"
     ]
    },
    {
     "data": {
      "text/html": [
       "<div>\n",
       "<style scoped>\n",
       "    .dataframe tbody tr th:only-of-type {\n",
       "        vertical-align: middle;\n",
       "    }\n",
       "\n",
       "    .dataframe tbody tr th {\n",
       "        vertical-align: top;\n",
       "    }\n",
       "\n",
       "    .dataframe thead tr th {\n",
       "        text-align: left;\n",
       "    }\n",
       "</style>\n",
       "<table border=\"1\" class=\"dataframe\">\n",
       "  <thead>\n",
       "    <tr>\n",
       "      <th></th>\n",
       "      <th colspan=\"2\" halign=\"left\">All</th>\n",
       "      <th colspan=\"2\" halign=\"left\">In VOC</th>\n",
       "      <th colspan=\"2\" halign=\"left\">Out of VOC</th>\n",
       "    </tr>\n",
       "    <tr>\n",
       "      <th></th>\n",
       "      <th>f1 micro</th>\n",
       "      <th>f1 macro</th>\n",
       "      <th>f1 micro</th>\n",
       "      <th>f1 macro</th>\n",
       "      <th>f1 micro</th>\n",
       "      <th>f1 macro</th>\n",
       "    </tr>\n",
       "  </thead>\n",
       "  <tbody>\n",
       "    <tr>\n",
       "      <th>score</th>\n",
       "      <td>0.653061</td>\n",
       "      <td>0.234358</td>\n",
       "      <td>0.694574</td>\n",
       "      <td>0.307893</td>\n",
       "      <td>0.0</td>\n",
       "      <td>0.0</td>\n",
       "    </tr>\n",
       "  </tbody>\n",
       "</table>\n",
       "</div>"
      ],
      "text/plain": [
       "            All              In VOC           Out of VOC         \n",
       "       f1 micro  f1 macro  f1 micro  f1 macro   f1 micro f1 macro\n",
       "score  0.653061  0.234358  0.694574  0.307893        0.0      0.0"
      ]
     },
     "metadata": {},
     "output_type": "display_data"
    },
    {
     "name": "stdout",
     "output_type": "stream",
     "text": [
      "EarlyStopping counter: 2 out of 7\n"
     ]
    },
    {
     "name": "stderr",
     "output_type": "stream",
     "text": [
      "Epoch 22: 100%|██████████| 509/509 [01:39<00:00,  5.13batch/s, loss_decrease=1.000000847317365] \n",
      "100%|██████████| 1372/1372 [00:28<00:00, 48.54batch/s]\n"
     ]
    },
    {
     "data": {
      "text/html": [
       "<div>\n",
       "<style scoped>\n",
       "    .dataframe tbody tr th:only-of-type {\n",
       "        vertical-align: middle;\n",
       "    }\n",
       "\n",
       "    .dataframe tbody tr th {\n",
       "        vertical-align: top;\n",
       "    }\n",
       "\n",
       "    .dataframe thead tr th {\n",
       "        text-align: left;\n",
       "    }\n",
       "</style>\n",
       "<table border=\"1\" class=\"dataframe\">\n",
       "  <thead>\n",
       "    <tr>\n",
       "      <th></th>\n",
       "      <th colspan=\"2\" halign=\"left\">All</th>\n",
       "      <th colspan=\"2\" halign=\"left\">In VOC</th>\n",
       "      <th colspan=\"2\" halign=\"left\">Out of VOC</th>\n",
       "    </tr>\n",
       "    <tr>\n",
       "      <th></th>\n",
       "      <th>f1 micro</th>\n",
       "      <th>f1 macro</th>\n",
       "      <th>f1 micro</th>\n",
       "      <th>f1 macro</th>\n",
       "      <th>f1 micro</th>\n",
       "      <th>f1 macro</th>\n",
       "    </tr>\n",
       "  </thead>\n",
       "  <tbody>\n",
       "    <tr>\n",
       "      <th>score</th>\n",
       "      <td>0.674927</td>\n",
       "      <td>0.255335</td>\n",
       "      <td>0.717829</td>\n",
       "      <td>0.337106</td>\n",
       "      <td>0.0</td>\n",
       "      <td>0.0</td>\n",
       "    </tr>\n",
       "  </tbody>\n",
       "</table>\n",
       "</div>"
      ],
      "text/plain": [
       "            All              In VOC           Out of VOC         \n",
       "       f1 micro  f1 macro  f1 micro  f1 macro   f1 micro f1 macro\n",
       "score  0.674927  0.255335  0.717829  0.337106        0.0      0.0"
      ]
     },
     "metadata": {},
     "output_type": "display_data"
    },
    {
     "name": "stdout",
     "output_type": "stream",
     "text": [
      "Validation metric increased (0.235628 --> 0.255335).  Saving model ...\n"
     ]
    },
    {
     "name": "stderr",
     "output_type": "stream",
     "text": [
      "Epoch 23: 100%|██████████| 509/509 [01:41<00:00,  5.03batch/s, loss_decrease=1.000000847317365] \n",
      "100%|██████████| 1372/1372 [00:28<00:00, 48.99batch/s]\n"
     ]
    },
    {
     "data": {
      "text/html": [
       "<div>\n",
       "<style scoped>\n",
       "    .dataframe tbody tr th:only-of-type {\n",
       "        vertical-align: middle;\n",
       "    }\n",
       "\n",
       "    .dataframe tbody tr th {\n",
       "        vertical-align: top;\n",
       "    }\n",
       "\n",
       "    .dataframe thead tr th {\n",
       "        text-align: left;\n",
       "    }\n",
       "</style>\n",
       "<table border=\"1\" class=\"dataframe\">\n",
       "  <thead>\n",
       "    <tr>\n",
       "      <th></th>\n",
       "      <th colspan=\"2\" halign=\"left\">All</th>\n",
       "      <th colspan=\"2\" halign=\"left\">In VOC</th>\n",
       "      <th colspan=\"2\" halign=\"left\">Out of VOC</th>\n",
       "    </tr>\n",
       "    <tr>\n",
       "      <th></th>\n",
       "      <th>f1 micro</th>\n",
       "      <th>f1 macro</th>\n",
       "      <th>f1 micro</th>\n",
       "      <th>f1 macro</th>\n",
       "      <th>f1 micro</th>\n",
       "      <th>f1 macro</th>\n",
       "    </tr>\n",
       "  </thead>\n",
       "  <tbody>\n",
       "    <tr>\n",
       "      <th>score</th>\n",
       "      <td>0.671283</td>\n",
       "      <td>0.25663</td>\n",
       "      <td>0.713178</td>\n",
       "      <td>0.333378</td>\n",
       "      <td>0.012195</td>\n",
       "      <td>0.005602</td>\n",
       "    </tr>\n",
       "  </tbody>\n",
       "</table>\n",
       "</div>"
      ],
      "text/plain": [
       "            All             In VOC           Out of VOC          \n",
       "       f1 micro f1 macro  f1 micro  f1 macro   f1 micro  f1 macro\n",
       "score  0.671283  0.25663  0.713178  0.333378   0.012195  0.005602"
      ]
     },
     "metadata": {},
     "output_type": "display_data"
    },
    {
     "name": "stdout",
     "output_type": "stream",
     "text": [
      "Validation metric increased (0.255335 --> 0.256630).  Saving model ...\n"
     ]
    },
    {
     "name": "stderr",
     "output_type": "stream",
     "text": [
      "Epoch 24: 100%|██████████| 509/509 [01:41<00:00,  5.02batch/s, loss_decrease=1.000000847317365] \n",
      "100%|██████████| 1372/1372 [00:28<00:00, 48.89batch/s]\n"
     ]
    },
    {
     "data": {
      "text/html": [
       "<div>\n",
       "<style scoped>\n",
       "    .dataframe tbody tr th:only-of-type {\n",
       "        vertical-align: middle;\n",
       "    }\n",
       "\n",
       "    .dataframe tbody tr th {\n",
       "        vertical-align: top;\n",
       "    }\n",
       "\n",
       "    .dataframe thead tr th {\n",
       "        text-align: left;\n",
       "    }\n",
       "</style>\n",
       "<table border=\"1\" class=\"dataframe\">\n",
       "  <thead>\n",
       "    <tr>\n",
       "      <th></th>\n",
       "      <th colspan=\"2\" halign=\"left\">All</th>\n",
       "      <th colspan=\"2\" halign=\"left\">In VOC</th>\n",
       "      <th colspan=\"2\" halign=\"left\">Out of VOC</th>\n",
       "    </tr>\n",
       "    <tr>\n",
       "      <th></th>\n",
       "      <th>f1 micro</th>\n",
       "      <th>f1 macro</th>\n",
       "      <th>f1 micro</th>\n",
       "      <th>f1 macro</th>\n",
       "      <th>f1 micro</th>\n",
       "      <th>f1 macro</th>\n",
       "    </tr>\n",
       "  </thead>\n",
       "  <tbody>\n",
       "    <tr>\n",
       "      <th>score</th>\n",
       "      <td>0.677114</td>\n",
       "      <td>0.258902</td>\n",
       "      <td>0.71938</td>\n",
       "      <td>0.338153</td>\n",
       "      <td>0.012195</td>\n",
       "      <td>0.00565</td>\n",
       "    </tr>\n",
       "  </tbody>\n",
       "</table>\n",
       "</div>"
      ],
      "text/plain": [
       "            All             In VOC           Out of VOC         \n",
       "       f1 micro  f1 macro f1 micro  f1 macro   f1 micro f1 macro\n",
       "score  0.677114  0.258902  0.71938  0.338153   0.012195  0.00565"
      ]
     },
     "metadata": {},
     "output_type": "display_data"
    },
    {
     "name": "stdout",
     "output_type": "stream",
     "text": [
      "Validation metric increased (0.256630 --> 0.258902).  Saving model ...\n"
     ]
    },
    {
     "name": "stderr",
     "output_type": "stream",
     "text": [
      "Epoch 25: 100%|██████████| 509/509 [01:40<00:00,  5.05batch/s, loss_decrease=1.000000847317365] \n",
      "100%|██████████| 1372/1372 [00:29<00:00, 46.14batch/s]\n"
     ]
    },
    {
     "data": {
      "text/html": [
       "<div>\n",
       "<style scoped>\n",
       "    .dataframe tbody tr th:only-of-type {\n",
       "        vertical-align: middle;\n",
       "    }\n",
       "\n",
       "    .dataframe tbody tr th {\n",
       "        vertical-align: top;\n",
       "    }\n",
       "\n",
       "    .dataframe thead tr th {\n",
       "        text-align: left;\n",
       "    }\n",
       "</style>\n",
       "<table border=\"1\" class=\"dataframe\">\n",
       "  <thead>\n",
       "    <tr>\n",
       "      <th></th>\n",
       "      <th colspan=\"2\" halign=\"left\">All</th>\n",
       "      <th colspan=\"2\" halign=\"left\">In VOC</th>\n",
       "      <th colspan=\"2\" halign=\"left\">Out of VOC</th>\n",
       "    </tr>\n",
       "    <tr>\n",
       "      <th></th>\n",
       "      <th>f1 micro</th>\n",
       "      <th>f1 macro</th>\n",
       "      <th>f1 micro</th>\n",
       "      <th>f1 macro</th>\n",
       "      <th>f1 micro</th>\n",
       "      <th>f1 macro</th>\n",
       "    </tr>\n",
       "  </thead>\n",
       "  <tbody>\n",
       "    <tr>\n",
       "      <th>score</th>\n",
       "      <td>0.677114</td>\n",
       "      <td>0.265665</td>\n",
       "      <td>0.720155</td>\n",
       "      <td>0.349515</td>\n",
       "      <td>0.0</td>\n",
       "      <td>0.0</td>\n",
       "    </tr>\n",
       "  </tbody>\n",
       "</table>\n",
       "</div>"
      ],
      "text/plain": [
       "            All              In VOC           Out of VOC         \n",
       "       f1 micro  f1 macro  f1 micro  f1 macro   f1 micro f1 macro\n",
       "score  0.677114  0.265665  0.720155  0.349515        0.0      0.0"
      ]
     },
     "metadata": {},
     "output_type": "display_data"
    },
    {
     "name": "stdout",
     "output_type": "stream",
     "text": [
      "Validation metric increased (0.258902 --> 0.265665).  Saving model ...\n"
     ]
    },
    {
     "name": "stderr",
     "output_type": "stream",
     "text": [
      "Epoch 26: 100%|██████████| 509/509 [01:40<00:00,  5.05batch/s, loss_decrease=1.000000847317365] \n",
      "100%|██████████| 1372/1372 [00:29<00:00, 46.72batch/s]\n"
     ]
    },
    {
     "data": {
      "text/html": [
       "<div>\n",
       "<style scoped>\n",
       "    .dataframe tbody tr th:only-of-type {\n",
       "        vertical-align: middle;\n",
       "    }\n",
       "\n",
       "    .dataframe tbody tr th {\n",
       "        vertical-align: top;\n",
       "    }\n",
       "\n",
       "    .dataframe thead tr th {\n",
       "        text-align: left;\n",
       "    }\n",
       "</style>\n",
       "<table border=\"1\" class=\"dataframe\">\n",
       "  <thead>\n",
       "    <tr>\n",
       "      <th></th>\n",
       "      <th colspan=\"2\" halign=\"left\">All</th>\n",
       "      <th colspan=\"2\" halign=\"left\">In VOC</th>\n",
       "      <th colspan=\"2\" halign=\"left\">Out of VOC</th>\n",
       "    </tr>\n",
       "    <tr>\n",
       "      <th></th>\n",
       "      <th>f1 micro</th>\n",
       "      <th>f1 macro</th>\n",
       "      <th>f1 micro</th>\n",
       "      <th>f1 macro</th>\n",
       "      <th>f1 micro</th>\n",
       "      <th>f1 macro</th>\n",
       "    </tr>\n",
       "  </thead>\n",
       "  <tbody>\n",
       "    <tr>\n",
       "      <th>score</th>\n",
       "      <td>0.68586</td>\n",
       "      <td>0.270814</td>\n",
       "      <td>0.728682</td>\n",
       "      <td>0.354091</td>\n",
       "      <td>0.012195</td>\n",
       "      <td>0.00551</td>\n",
       "    </tr>\n",
       "  </tbody>\n",
       "</table>\n",
       "</div>"
      ],
      "text/plain": [
       "           All              In VOC           Out of VOC         \n",
       "      f1 micro  f1 macro  f1 micro  f1 macro   f1 micro f1 macro\n",
       "score  0.68586  0.270814  0.728682  0.354091   0.012195  0.00551"
      ]
     },
     "metadata": {},
     "output_type": "display_data"
    },
    {
     "name": "stdout",
     "output_type": "stream",
     "text": [
      "Validation metric increased (0.265665 --> 0.270814).  Saving model ...\n"
     ]
    },
    {
     "name": "stderr",
     "output_type": "stream",
     "text": [
      "Epoch 27: 100%|██████████| 509/509 [01:40<00:00,  5.05batch/s, loss_decrease=1.000000847317365] \n",
      "100%|██████████| 1372/1372 [00:29<00:00, 47.17batch/s]\n"
     ]
    },
    {
     "data": {
      "text/html": [
       "<div>\n",
       "<style scoped>\n",
       "    .dataframe tbody tr th:only-of-type {\n",
       "        vertical-align: middle;\n",
       "    }\n",
       "\n",
       "    .dataframe tbody tr th {\n",
       "        vertical-align: top;\n",
       "    }\n",
       "\n",
       "    .dataframe thead tr th {\n",
       "        text-align: left;\n",
       "    }\n",
       "</style>\n",
       "<table border=\"1\" class=\"dataframe\">\n",
       "  <thead>\n",
       "    <tr>\n",
       "      <th></th>\n",
       "      <th colspan=\"2\" halign=\"left\">All</th>\n",
       "      <th colspan=\"2\" halign=\"left\">In VOC</th>\n",
       "      <th colspan=\"2\" halign=\"left\">Out of VOC</th>\n",
       "    </tr>\n",
       "    <tr>\n",
       "      <th></th>\n",
       "      <th>f1 micro</th>\n",
       "      <th>f1 macro</th>\n",
       "      <th>f1 micro</th>\n",
       "      <th>f1 macro</th>\n",
       "      <th>f1 micro</th>\n",
       "      <th>f1 macro</th>\n",
       "    </tr>\n",
       "  </thead>\n",
       "  <tbody>\n",
       "    <tr>\n",
       "      <th>score</th>\n",
       "      <td>0.662536</td>\n",
       "      <td>0.244933</td>\n",
       "      <td>0.704651</td>\n",
       "      <td>0.31947</td>\n",
       "      <td>0.0</td>\n",
       "      <td>0.0</td>\n",
       "    </tr>\n",
       "  </tbody>\n",
       "</table>\n",
       "</div>"
      ],
      "text/plain": [
       "            All              In VOC          Out of VOC         \n",
       "       f1 micro  f1 macro  f1 micro f1 macro   f1 micro f1 macro\n",
       "score  0.662536  0.244933  0.704651  0.31947        0.0      0.0"
      ]
     },
     "metadata": {},
     "output_type": "display_data"
    },
    {
     "name": "stdout",
     "output_type": "stream",
     "text": [
      "EarlyStopping counter: 1 out of 7\n"
     ]
    },
    {
     "name": "stderr",
     "output_type": "stream",
     "text": [
      "Epoch 28: 100%|██████████| 509/509 [01:40<00:00,  5.06batch/s, loss_decrease=1.000000847317365] \n",
      "100%|██████████| 1372/1372 [00:28<00:00, 47.66batch/s]\n"
     ]
    },
    {
     "data": {
      "text/html": [
       "<div>\n",
       "<style scoped>\n",
       "    .dataframe tbody tr th:only-of-type {\n",
       "        vertical-align: middle;\n",
       "    }\n",
       "\n",
       "    .dataframe tbody tr th {\n",
       "        vertical-align: top;\n",
       "    }\n",
       "\n",
       "    .dataframe thead tr th {\n",
       "        text-align: left;\n",
       "    }\n",
       "</style>\n",
       "<table border=\"1\" class=\"dataframe\">\n",
       "  <thead>\n",
       "    <tr>\n",
       "      <th></th>\n",
       "      <th colspan=\"2\" halign=\"left\">All</th>\n",
       "      <th colspan=\"2\" halign=\"left\">In VOC</th>\n",
       "      <th colspan=\"2\" halign=\"left\">Out of VOC</th>\n",
       "    </tr>\n",
       "    <tr>\n",
       "      <th></th>\n",
       "      <th>f1 micro</th>\n",
       "      <th>f1 macro</th>\n",
       "      <th>f1 micro</th>\n",
       "      <th>f1 macro</th>\n",
       "      <th>f1 micro</th>\n",
       "      <th>f1 macro</th>\n",
       "    </tr>\n",
       "  </thead>\n",
       "  <tbody>\n",
       "    <tr>\n",
       "      <th>score</th>\n",
       "      <td>0.676385</td>\n",
       "      <td>0.26268</td>\n",
       "      <td>0.717829</td>\n",
       "      <td>0.340212</td>\n",
       "      <td>0.02439</td>\n",
       "      <td>0.009804</td>\n",
       "    </tr>\n",
       "  </tbody>\n",
       "</table>\n",
       "</div>"
      ],
      "text/plain": [
       "            All             In VOC           Out of VOC          \n",
       "       f1 micro f1 macro  f1 micro  f1 macro   f1 micro  f1 macro\n",
       "score  0.676385  0.26268  0.717829  0.340212    0.02439  0.009804"
      ]
     },
     "metadata": {},
     "output_type": "display_data"
    },
    {
     "name": "stdout",
     "output_type": "stream",
     "text": [
      "EarlyStopping counter: 2 out of 7\n"
     ]
    },
    {
     "name": "stderr",
     "output_type": "stream",
     "text": [
      "Epoch 29: 100%|██████████| 509/509 [01:41<00:00,  5.03batch/s, loss_decrease=1.000000847317365] \n",
      "100%|██████████| 1372/1372 [00:28<00:00, 48.14batch/s]\n"
     ]
    },
    {
     "data": {
      "text/html": [
       "<div>\n",
       "<style scoped>\n",
       "    .dataframe tbody tr th:only-of-type {\n",
       "        vertical-align: middle;\n",
       "    }\n",
       "\n",
       "    .dataframe tbody tr th {\n",
       "        vertical-align: top;\n",
       "    }\n",
       "\n",
       "    .dataframe thead tr th {\n",
       "        text-align: left;\n",
       "    }\n",
       "</style>\n",
       "<table border=\"1\" class=\"dataframe\">\n",
       "  <thead>\n",
       "    <tr>\n",
       "      <th></th>\n",
       "      <th colspan=\"2\" halign=\"left\">All</th>\n",
       "      <th colspan=\"2\" halign=\"left\">In VOC</th>\n",
       "      <th colspan=\"2\" halign=\"left\">Out of VOC</th>\n",
       "    </tr>\n",
       "    <tr>\n",
       "      <th></th>\n",
       "      <th>f1 micro</th>\n",
       "      <th>f1 macro</th>\n",
       "      <th>f1 micro</th>\n",
       "      <th>f1 macro</th>\n",
       "      <th>f1 micro</th>\n",
       "      <th>f1 macro</th>\n",
       "    </tr>\n",
       "  </thead>\n",
       "  <tbody>\n",
       "    <tr>\n",
       "      <th>score</th>\n",
       "      <td>0.674198</td>\n",
       "      <td>0.277177</td>\n",
       "      <td>0.716279</td>\n",
       "      <td>0.36098</td>\n",
       "      <td>0.012195</td>\n",
       "      <td>0.004274</td>\n",
       "    </tr>\n",
       "  </tbody>\n",
       "</table>\n",
       "</div>"
      ],
      "text/plain": [
       "            All              In VOC          Out of VOC          \n",
       "       f1 micro  f1 macro  f1 micro f1 macro   f1 micro  f1 macro\n",
       "score  0.674198  0.277177  0.716279  0.36098   0.012195  0.004274"
      ]
     },
     "metadata": {},
     "output_type": "display_data"
    },
    {
     "name": "stdout",
     "output_type": "stream",
     "text": [
      "Validation metric increased (0.270814 --> 0.277177).  Saving model ...\n"
     ]
    },
    {
     "name": "stderr",
     "output_type": "stream",
     "text": [
      "Epoch 30: 100%|██████████| 509/509 [01:40<00:00,  5.07batch/s, loss_decrease=1.000000847317365] \n",
      "100%|██████████| 1372/1372 [00:29<00:00, 46.90batch/s]\n"
     ]
    },
    {
     "data": {
      "text/html": [
       "<div>\n",
       "<style scoped>\n",
       "    .dataframe tbody tr th:only-of-type {\n",
       "        vertical-align: middle;\n",
       "    }\n",
       "\n",
       "    .dataframe tbody tr th {\n",
       "        vertical-align: top;\n",
       "    }\n",
       "\n",
       "    .dataframe thead tr th {\n",
       "        text-align: left;\n",
       "    }\n",
       "</style>\n",
       "<table border=\"1\" class=\"dataframe\">\n",
       "  <thead>\n",
       "    <tr>\n",
       "      <th></th>\n",
       "      <th colspan=\"2\" halign=\"left\">All</th>\n",
       "      <th colspan=\"2\" halign=\"left\">In VOC</th>\n",
       "      <th colspan=\"2\" halign=\"left\">Out of VOC</th>\n",
       "    </tr>\n",
       "    <tr>\n",
       "      <th></th>\n",
       "      <th>f1 micro</th>\n",
       "      <th>f1 macro</th>\n",
       "      <th>f1 micro</th>\n",
       "      <th>f1 macro</th>\n",
       "      <th>f1 micro</th>\n",
       "      <th>f1 macro</th>\n",
       "    </tr>\n",
       "  </thead>\n",
       "  <tbody>\n",
       "    <tr>\n",
       "      <th>score</th>\n",
       "      <td>0.693878</td>\n",
       "      <td>0.287175</td>\n",
       "      <td>0.737209</td>\n",
       "      <td>0.381239</td>\n",
       "      <td>0.012195</td>\n",
       "      <td>0.003906</td>\n",
       "    </tr>\n",
       "  </tbody>\n",
       "</table>\n",
       "</div>"
      ],
      "text/plain": [
       "            All              In VOC           Out of VOC          \n",
       "       f1 micro  f1 macro  f1 micro  f1 macro   f1 micro  f1 macro\n",
       "score  0.693878  0.287175  0.737209  0.381239   0.012195  0.003906"
      ]
     },
     "metadata": {},
     "output_type": "display_data"
    },
    {
     "name": "stdout",
     "output_type": "stream",
     "text": [
      "Validation metric increased (0.277177 --> 0.287175).  Saving model ...\n"
     ]
    },
    {
     "name": "stderr",
     "output_type": "stream",
     "text": [
      "Epoch 31: 100%|██████████| 509/509 [01:39<00:00,  5.12batch/s, loss_decrease=1.000000847317365] \n",
      "100%|██████████| 1372/1372 [00:28<00:00, 47.48batch/s]\n"
     ]
    },
    {
     "data": {
      "text/html": [
       "<div>\n",
       "<style scoped>\n",
       "    .dataframe tbody tr th:only-of-type {\n",
       "        vertical-align: middle;\n",
       "    }\n",
       "\n",
       "    .dataframe tbody tr th {\n",
       "        vertical-align: top;\n",
       "    }\n",
       "\n",
       "    .dataframe thead tr th {\n",
       "        text-align: left;\n",
       "    }\n",
       "</style>\n",
       "<table border=\"1\" class=\"dataframe\">\n",
       "  <thead>\n",
       "    <tr>\n",
       "      <th></th>\n",
       "      <th colspan=\"2\" halign=\"left\">All</th>\n",
       "      <th colspan=\"2\" halign=\"left\">In VOC</th>\n",
       "      <th colspan=\"2\" halign=\"left\">Out of VOC</th>\n",
       "    </tr>\n",
       "    <tr>\n",
       "      <th></th>\n",
       "      <th>f1 micro</th>\n",
       "      <th>f1 macro</th>\n",
       "      <th>f1 micro</th>\n",
       "      <th>f1 macro</th>\n",
       "      <th>f1 micro</th>\n",
       "      <th>f1 macro</th>\n",
       "    </tr>\n",
       "  </thead>\n",
       "  <tbody>\n",
       "    <tr>\n",
       "      <th>score</th>\n",
       "      <td>0.690962</td>\n",
       "      <td>0.287041</td>\n",
       "      <td>0.734884</td>\n",
       "      <td>0.379864</td>\n",
       "      <td>0.0</td>\n",
       "      <td>0.0</td>\n",
       "    </tr>\n",
       "  </tbody>\n",
       "</table>\n",
       "</div>"
      ],
      "text/plain": [
       "            All              In VOC           Out of VOC         \n",
       "       f1 micro  f1 macro  f1 micro  f1 macro   f1 micro f1 macro\n",
       "score  0.690962  0.287041  0.734884  0.379864        0.0      0.0"
      ]
     },
     "metadata": {},
     "output_type": "display_data"
    },
    {
     "name": "stdout",
     "output_type": "stream",
     "text": [
      "EarlyStopping counter: 1 out of 7\n"
     ]
    },
    {
     "name": "stderr",
     "output_type": "stream",
     "text": [
      "Epoch 32: 100%|██████████| 509/509 [01:42<00:00,  4.98batch/s, loss_decrease=1.000000847317365] \n",
      "100%|██████████| 1372/1372 [00:30<00:00, 45.44batch/s]\n"
     ]
    },
    {
     "data": {
      "text/html": [
       "<div>\n",
       "<style scoped>\n",
       "    .dataframe tbody tr th:only-of-type {\n",
       "        vertical-align: middle;\n",
       "    }\n",
       "\n",
       "    .dataframe tbody tr th {\n",
       "        vertical-align: top;\n",
       "    }\n",
       "\n",
       "    .dataframe thead tr th {\n",
       "        text-align: left;\n",
       "    }\n",
       "</style>\n",
       "<table border=\"1\" class=\"dataframe\">\n",
       "  <thead>\n",
       "    <tr>\n",
       "      <th></th>\n",
       "      <th colspan=\"2\" halign=\"left\">All</th>\n",
       "      <th colspan=\"2\" halign=\"left\">In VOC</th>\n",
       "      <th colspan=\"2\" halign=\"left\">Out of VOC</th>\n",
       "    </tr>\n",
       "    <tr>\n",
       "      <th></th>\n",
       "      <th>f1 micro</th>\n",
       "      <th>f1 macro</th>\n",
       "      <th>f1 micro</th>\n",
       "      <th>f1 macro</th>\n",
       "      <th>f1 micro</th>\n",
       "      <th>f1 macro</th>\n",
       "    </tr>\n",
       "  </thead>\n",
       "  <tbody>\n",
       "    <tr>\n",
       "      <th>score</th>\n",
       "      <td>0.699708</td>\n",
       "      <td>0.294774</td>\n",
       "      <td>0.744186</td>\n",
       "      <td>0.392841</td>\n",
       "      <td>0.0</td>\n",
       "      <td>0.0</td>\n",
       "    </tr>\n",
       "  </tbody>\n",
       "</table>\n",
       "</div>"
      ],
      "text/plain": [
       "            All              In VOC           Out of VOC         \n",
       "       f1 micro  f1 macro  f1 micro  f1 macro   f1 micro f1 macro\n",
       "score  0.699708  0.294774  0.744186  0.392841        0.0      0.0"
      ]
     },
     "metadata": {},
     "output_type": "display_data"
    },
    {
     "name": "stdout",
     "output_type": "stream",
     "text": [
      "Validation metric increased (0.287175 --> 0.294774).  Saving model ...\n"
     ]
    },
    {
     "name": "stderr",
     "output_type": "stream",
     "text": [
      "Epoch 33: 100%|██████████| 509/509 [01:40<00:00,  5.08batch/s, loss_decrease=1.000000847317365] \n",
      "100%|██████████| 1372/1372 [00:27<00:00, 49.76batch/s]\n"
     ]
    },
    {
     "data": {
      "text/html": [
       "<div>\n",
       "<style scoped>\n",
       "    .dataframe tbody tr th:only-of-type {\n",
       "        vertical-align: middle;\n",
       "    }\n",
       "\n",
       "    .dataframe tbody tr th {\n",
       "        vertical-align: top;\n",
       "    }\n",
       "\n",
       "    .dataframe thead tr th {\n",
       "        text-align: left;\n",
       "    }\n",
       "</style>\n",
       "<table border=\"1\" class=\"dataframe\">\n",
       "  <thead>\n",
       "    <tr>\n",
       "      <th></th>\n",
       "      <th colspan=\"2\" halign=\"left\">All</th>\n",
       "      <th colspan=\"2\" halign=\"left\">In VOC</th>\n",
       "      <th colspan=\"2\" halign=\"left\">Out of VOC</th>\n",
       "    </tr>\n",
       "    <tr>\n",
       "      <th></th>\n",
       "      <th>f1 micro</th>\n",
       "      <th>f1 macro</th>\n",
       "      <th>f1 micro</th>\n",
       "      <th>f1 macro</th>\n",
       "      <th>f1 micro</th>\n",
       "      <th>f1 macro</th>\n",
       "    </tr>\n",
       "  </thead>\n",
       "  <tbody>\n",
       "    <tr>\n",
       "      <th>score</th>\n",
       "      <td>0.69242</td>\n",
       "      <td>0.286617</td>\n",
       "      <td>0.736434</td>\n",
       "      <td>0.378353</td>\n",
       "      <td>0.0</td>\n",
       "      <td>0.0</td>\n",
       "    </tr>\n",
       "  </tbody>\n",
       "</table>\n",
       "</div>"
      ],
      "text/plain": [
       "           All              In VOC           Out of VOC         \n",
       "      f1 micro  f1 macro  f1 micro  f1 macro   f1 micro f1 macro\n",
       "score  0.69242  0.286617  0.736434  0.378353        0.0      0.0"
      ]
     },
     "metadata": {},
     "output_type": "display_data"
    },
    {
     "name": "stdout",
     "output_type": "stream",
     "text": [
      "EarlyStopping counter: 1 out of 7\n"
     ]
    },
    {
     "name": "stderr",
     "output_type": "stream",
     "text": [
      "Epoch 34: 100%|██████████| 509/509 [01:40<00:00,  5.04batch/s, loss_decrease=1.000000847317365] \n",
      "100%|██████████| 1372/1372 [00:27<00:00, 49.49batch/s]\n"
     ]
    },
    {
     "data": {
      "text/html": [
       "<div>\n",
       "<style scoped>\n",
       "    .dataframe tbody tr th:only-of-type {\n",
       "        vertical-align: middle;\n",
       "    }\n",
       "\n",
       "    .dataframe tbody tr th {\n",
       "        vertical-align: top;\n",
       "    }\n",
       "\n",
       "    .dataframe thead tr th {\n",
       "        text-align: left;\n",
       "    }\n",
       "</style>\n",
       "<table border=\"1\" class=\"dataframe\">\n",
       "  <thead>\n",
       "    <tr>\n",
       "      <th></th>\n",
       "      <th colspan=\"2\" halign=\"left\">All</th>\n",
       "      <th colspan=\"2\" halign=\"left\">In VOC</th>\n",
       "      <th colspan=\"2\" halign=\"left\">Out of VOC</th>\n",
       "    </tr>\n",
       "    <tr>\n",
       "      <th></th>\n",
       "      <th>f1 micro</th>\n",
       "      <th>f1 macro</th>\n",
       "      <th>f1 micro</th>\n",
       "      <th>f1 macro</th>\n",
       "      <th>f1 micro</th>\n",
       "      <th>f1 macro</th>\n",
       "    </tr>\n",
       "  </thead>\n",
       "  <tbody>\n",
       "    <tr>\n",
       "      <th>score</th>\n",
       "      <td>0.698251</td>\n",
       "      <td>0.294424</td>\n",
       "      <td>0.742636</td>\n",
       "      <td>0.386043</td>\n",
       "      <td>0.0</td>\n",
       "      <td>0.0</td>\n",
       "    </tr>\n",
       "  </tbody>\n",
       "</table>\n",
       "</div>"
      ],
      "text/plain": [
       "            All              In VOC           Out of VOC         \n",
       "       f1 micro  f1 macro  f1 micro  f1 macro   f1 micro f1 macro\n",
       "score  0.698251  0.294424  0.742636  0.386043        0.0      0.0"
      ]
     },
     "metadata": {},
     "output_type": "display_data"
    },
    {
     "name": "stdout",
     "output_type": "stream",
     "text": [
      "EarlyStopping counter: 2 out of 7\n"
     ]
    },
    {
     "name": "stderr",
     "output_type": "stream",
     "text": [
      "Epoch 35: 100%|██████████| 509/509 [01:40<00:00,  5.04batch/s, loss_decrease=1.000000847317365] \n",
      "100%|██████████| 1372/1372 [00:28<00:00, 48.96batch/s]\n"
     ]
    },
    {
     "data": {
      "text/html": [
       "<div>\n",
       "<style scoped>\n",
       "    .dataframe tbody tr th:only-of-type {\n",
       "        vertical-align: middle;\n",
       "    }\n",
       "\n",
       "    .dataframe tbody tr th {\n",
       "        vertical-align: top;\n",
       "    }\n",
       "\n",
       "    .dataframe thead tr th {\n",
       "        text-align: left;\n",
       "    }\n",
       "</style>\n",
       "<table border=\"1\" class=\"dataframe\">\n",
       "  <thead>\n",
       "    <tr>\n",
       "      <th></th>\n",
       "      <th colspan=\"2\" halign=\"left\">All</th>\n",
       "      <th colspan=\"2\" halign=\"left\">In VOC</th>\n",
       "      <th colspan=\"2\" halign=\"left\">Out of VOC</th>\n",
       "    </tr>\n",
       "    <tr>\n",
       "      <th></th>\n",
       "      <th>f1 micro</th>\n",
       "      <th>f1 macro</th>\n",
       "      <th>f1 micro</th>\n",
       "      <th>f1 macro</th>\n",
       "      <th>f1 micro</th>\n",
       "      <th>f1 macro</th>\n",
       "    </tr>\n",
       "  </thead>\n",
       "  <tbody>\n",
       "    <tr>\n",
       "      <th>score</th>\n",
       "      <td>0.683673</td>\n",
       "      <td>0.266037</td>\n",
       "      <td>0.727132</td>\n",
       "      <td>0.351734</td>\n",
       "      <td>0.0</td>\n",
       "      <td>0.0</td>\n",
       "    </tr>\n",
       "  </tbody>\n",
       "</table>\n",
       "</div>"
      ],
      "text/plain": [
       "            All              In VOC           Out of VOC         \n",
       "       f1 micro  f1 macro  f1 micro  f1 macro   f1 micro f1 macro\n",
       "score  0.683673  0.266037  0.727132  0.351734        0.0      0.0"
      ]
     },
     "metadata": {},
     "output_type": "display_data"
    },
    {
     "name": "stdout",
     "output_type": "stream",
     "text": [
      "EarlyStopping counter: 3 out of 7\n"
     ]
    },
    {
     "name": "stderr",
     "output_type": "stream",
     "text": [
      "Epoch 36: 100%|██████████| 509/509 [01:41<00:00,  5.01batch/s, loss_decrease=1.000000847317365] \n",
      "100%|██████████| 1372/1372 [00:29<00:00, 47.00batch/s]\n"
     ]
    },
    {
     "data": {
      "text/html": [
       "<div>\n",
       "<style scoped>\n",
       "    .dataframe tbody tr th:only-of-type {\n",
       "        vertical-align: middle;\n",
       "    }\n",
       "\n",
       "    .dataframe tbody tr th {\n",
       "        vertical-align: top;\n",
       "    }\n",
       "\n",
       "    .dataframe thead tr th {\n",
       "        text-align: left;\n",
       "    }\n",
       "</style>\n",
       "<table border=\"1\" class=\"dataframe\">\n",
       "  <thead>\n",
       "    <tr>\n",
       "      <th></th>\n",
       "      <th colspan=\"2\" halign=\"left\">All</th>\n",
       "      <th colspan=\"2\" halign=\"left\">In VOC</th>\n",
       "      <th colspan=\"2\" halign=\"left\">Out of VOC</th>\n",
       "    </tr>\n",
       "    <tr>\n",
       "      <th></th>\n",
       "      <th>f1 micro</th>\n",
       "      <th>f1 macro</th>\n",
       "      <th>f1 micro</th>\n",
       "      <th>f1 macro</th>\n",
       "      <th>f1 micro</th>\n",
       "      <th>f1 macro</th>\n",
       "    </tr>\n",
       "  </thead>\n",
       "  <tbody>\n",
       "    <tr>\n",
       "      <th>score</th>\n",
       "      <td>0.687318</td>\n",
       "      <td>0.270743</td>\n",
       "      <td>0.731008</td>\n",
       "      <td>0.362128</td>\n",
       "      <td>0.0</td>\n",
       "      <td>0.0</td>\n",
       "    </tr>\n",
       "  </tbody>\n",
       "</table>\n",
       "</div>"
      ],
      "text/plain": [
       "            All              In VOC           Out of VOC         \n",
       "       f1 micro  f1 macro  f1 micro  f1 macro   f1 micro f1 macro\n",
       "score  0.687318  0.270743  0.731008  0.362128        0.0      0.0"
      ]
     },
     "metadata": {},
     "output_type": "display_data"
    },
    {
     "name": "stdout",
     "output_type": "stream",
     "text": [
      "EarlyStopping counter: 4 out of 7\n"
     ]
    },
    {
     "name": "stderr",
     "output_type": "stream",
     "text": [
      "Epoch 37: 100%|██████████| 509/509 [01:41<00:00,  5.03batch/s, loss_decrease=1.000000847317365] \n",
      "100%|██████████| 1372/1372 [00:28<00:00, 48.46batch/s]\n"
     ]
    },
    {
     "data": {
      "text/html": [
       "<div>\n",
       "<style scoped>\n",
       "    .dataframe tbody tr th:only-of-type {\n",
       "        vertical-align: middle;\n",
       "    }\n",
       "\n",
       "    .dataframe tbody tr th {\n",
       "        vertical-align: top;\n",
       "    }\n",
       "\n",
       "    .dataframe thead tr th {\n",
       "        text-align: left;\n",
       "    }\n",
       "</style>\n",
       "<table border=\"1\" class=\"dataframe\">\n",
       "  <thead>\n",
       "    <tr>\n",
       "      <th></th>\n",
       "      <th colspan=\"2\" halign=\"left\">All</th>\n",
       "      <th colspan=\"2\" halign=\"left\">In VOC</th>\n",
       "      <th colspan=\"2\" halign=\"left\">Out of VOC</th>\n",
       "    </tr>\n",
       "    <tr>\n",
       "      <th></th>\n",
       "      <th>f1 micro</th>\n",
       "      <th>f1 macro</th>\n",
       "      <th>f1 micro</th>\n",
       "      <th>f1 macro</th>\n",
       "      <th>f1 micro</th>\n",
       "      <th>f1 macro</th>\n",
       "    </tr>\n",
       "  </thead>\n",
       "  <tbody>\n",
       "    <tr>\n",
       "      <th>score</th>\n",
       "      <td>0.708455</td>\n",
       "      <td>0.303092</td>\n",
       "      <td>0.753488</td>\n",
       "      <td>0.403629</td>\n",
       "      <td>0.0</td>\n",
       "      <td>0.0</td>\n",
       "    </tr>\n",
       "  </tbody>\n",
       "</table>\n",
       "</div>"
      ],
      "text/plain": [
       "            All              In VOC           Out of VOC         \n",
       "       f1 micro  f1 macro  f1 micro  f1 macro   f1 micro f1 macro\n",
       "score  0.708455  0.303092  0.753488  0.403629        0.0      0.0"
      ]
     },
     "metadata": {},
     "output_type": "display_data"
    },
    {
     "name": "stdout",
     "output_type": "stream",
     "text": [
      "Validation metric increased (0.294774 --> 0.303092).  Saving model ...\n"
     ]
    },
    {
     "name": "stderr",
     "output_type": "stream",
     "text": [
      "Epoch 38: 100%|██████████| 509/509 [01:41<00:00,  5.00batch/s, loss_decrease=1.000000847317365] \n",
      "100%|██████████| 1372/1372 [00:29<00:00, 45.91batch/s]\n"
     ]
    },
    {
     "data": {
      "text/html": [
       "<div>\n",
       "<style scoped>\n",
       "    .dataframe tbody tr th:only-of-type {\n",
       "        vertical-align: middle;\n",
       "    }\n",
       "\n",
       "    .dataframe tbody tr th {\n",
       "        vertical-align: top;\n",
       "    }\n",
       "\n",
       "    .dataframe thead tr th {\n",
       "        text-align: left;\n",
       "    }\n",
       "</style>\n",
       "<table border=\"1\" class=\"dataframe\">\n",
       "  <thead>\n",
       "    <tr>\n",
       "      <th></th>\n",
       "      <th colspan=\"2\" halign=\"left\">All</th>\n",
       "      <th colspan=\"2\" halign=\"left\">In VOC</th>\n",
       "      <th colspan=\"2\" halign=\"left\">Out of VOC</th>\n",
       "    </tr>\n",
       "    <tr>\n",
       "      <th></th>\n",
       "      <th>f1 micro</th>\n",
       "      <th>f1 macro</th>\n",
       "      <th>f1 micro</th>\n",
       "      <th>f1 macro</th>\n",
       "      <th>f1 micro</th>\n",
       "      <th>f1 macro</th>\n",
       "    </tr>\n",
       "  </thead>\n",
       "  <tbody>\n",
       "    <tr>\n",
       "      <th>score</th>\n",
       "      <td>0.705539</td>\n",
       "      <td>0.293823</td>\n",
       "      <td>0.750388</td>\n",
       "      <td>0.395497</td>\n",
       "      <td>0.0</td>\n",
       "      <td>0.0</td>\n",
       "    </tr>\n",
       "  </tbody>\n",
       "</table>\n",
       "</div>"
      ],
      "text/plain": [
       "            All              In VOC           Out of VOC         \n",
       "       f1 micro  f1 macro  f1 micro  f1 macro   f1 micro f1 macro\n",
       "score  0.705539  0.293823  0.750388  0.395497        0.0      0.0"
      ]
     },
     "metadata": {},
     "output_type": "display_data"
    },
    {
     "name": "stdout",
     "output_type": "stream",
     "text": [
      "EarlyStopping counter: 1 out of 7\n"
     ]
    },
    {
     "name": "stderr",
     "output_type": "stream",
     "text": [
      "Epoch 39: 100%|██████████| 509/509 [01:40<00:00,  5.06batch/s, loss_decrease=1.000000847317365] \n",
      "100%|██████████| 1372/1372 [00:28<00:00, 47.93batch/s]\n"
     ]
    },
    {
     "data": {
      "text/html": [
       "<div>\n",
       "<style scoped>\n",
       "    .dataframe tbody tr th:only-of-type {\n",
       "        vertical-align: middle;\n",
       "    }\n",
       "\n",
       "    .dataframe tbody tr th {\n",
       "        vertical-align: top;\n",
       "    }\n",
       "\n",
       "    .dataframe thead tr th {\n",
       "        text-align: left;\n",
       "    }\n",
       "</style>\n",
       "<table border=\"1\" class=\"dataframe\">\n",
       "  <thead>\n",
       "    <tr>\n",
       "      <th></th>\n",
       "      <th colspan=\"2\" halign=\"left\">All</th>\n",
       "      <th colspan=\"2\" halign=\"left\">In VOC</th>\n",
       "      <th colspan=\"2\" halign=\"left\">Out of VOC</th>\n",
       "    </tr>\n",
       "    <tr>\n",
       "      <th></th>\n",
       "      <th>f1 micro</th>\n",
       "      <th>f1 macro</th>\n",
       "      <th>f1 micro</th>\n",
       "      <th>f1 macro</th>\n",
       "      <th>f1 micro</th>\n",
       "      <th>f1 macro</th>\n",
       "    </tr>\n",
       "  </thead>\n",
       "  <tbody>\n",
       "    <tr>\n",
       "      <th>score</th>\n",
       "      <td>0.705539</td>\n",
       "      <td>0.308887</td>\n",
       "      <td>0.750388</td>\n",
       "      <td>0.412754</td>\n",
       "      <td>0.0</td>\n",
       "      <td>0.0</td>\n",
       "    </tr>\n",
       "  </tbody>\n",
       "</table>\n",
       "</div>"
      ],
      "text/plain": [
       "            All              In VOC           Out of VOC         \n",
       "       f1 micro  f1 macro  f1 micro  f1 macro   f1 micro f1 macro\n",
       "score  0.705539  0.308887  0.750388  0.412754        0.0      0.0"
      ]
     },
     "metadata": {},
     "output_type": "display_data"
    },
    {
     "name": "stdout",
     "output_type": "stream",
     "text": [
      "Validation metric increased (0.303092 --> 0.308887).  Saving model ...\n"
     ]
    },
    {
     "name": "stderr",
     "output_type": "stream",
     "text": [
      "Epoch 40: 100%|██████████| 509/509 [01:40<00:00,  5.09batch/s, loss_decrease=1.000000847317365] \n",
      "100%|██████████| 1372/1372 [00:28<00:00, 48.46batch/s]\n"
     ]
    },
    {
     "data": {
      "text/html": [
       "<div>\n",
       "<style scoped>\n",
       "    .dataframe tbody tr th:only-of-type {\n",
       "        vertical-align: middle;\n",
       "    }\n",
       "\n",
       "    .dataframe tbody tr th {\n",
       "        vertical-align: top;\n",
       "    }\n",
       "\n",
       "    .dataframe thead tr th {\n",
       "        text-align: left;\n",
       "    }\n",
       "</style>\n",
       "<table border=\"1\" class=\"dataframe\">\n",
       "  <thead>\n",
       "    <tr>\n",
       "      <th></th>\n",
       "      <th colspan=\"2\" halign=\"left\">All</th>\n",
       "      <th colspan=\"2\" halign=\"left\">In VOC</th>\n",
       "      <th colspan=\"2\" halign=\"left\">Out of VOC</th>\n",
       "    </tr>\n",
       "    <tr>\n",
       "      <th></th>\n",
       "      <th>f1 micro</th>\n",
       "      <th>f1 macro</th>\n",
       "      <th>f1 micro</th>\n",
       "      <th>f1 macro</th>\n",
       "      <th>f1 micro</th>\n",
       "      <th>f1 macro</th>\n",
       "    </tr>\n",
       "  </thead>\n",
       "  <tbody>\n",
       "    <tr>\n",
       "      <th>score</th>\n",
       "      <td>0.710641</td>\n",
       "      <td>0.311438</td>\n",
       "      <td>0.755814</td>\n",
       "      <td>0.417507</td>\n",
       "      <td>0.0</td>\n",
       "      <td>0.0</td>\n",
       "    </tr>\n",
       "  </tbody>\n",
       "</table>\n",
       "</div>"
      ],
      "text/plain": [
       "            All              In VOC           Out of VOC         \n",
       "       f1 micro  f1 macro  f1 micro  f1 macro   f1 micro f1 macro\n",
       "score  0.710641  0.311438  0.755814  0.417507        0.0      0.0"
      ]
     },
     "metadata": {},
     "output_type": "display_data"
    },
    {
     "name": "stdout",
     "output_type": "stream",
     "text": [
      "Validation metric increased (0.308887 --> 0.311438).  Saving model ...\n"
     ]
    },
    {
     "name": "stderr",
     "output_type": "stream",
     "text": [
      "Epoch 41: 100%|██████████| 509/509 [01:41<00:00,  5.03batch/s, loss_decrease=1.000000847317365] \n",
      "100%|██████████| 1372/1372 [00:28<00:00, 47.41batch/s]\n"
     ]
    },
    {
     "data": {
      "text/html": [
       "<div>\n",
       "<style scoped>\n",
       "    .dataframe tbody tr th:only-of-type {\n",
       "        vertical-align: middle;\n",
       "    }\n",
       "\n",
       "    .dataframe tbody tr th {\n",
       "        vertical-align: top;\n",
       "    }\n",
       "\n",
       "    .dataframe thead tr th {\n",
       "        text-align: left;\n",
       "    }\n",
       "</style>\n",
       "<table border=\"1\" class=\"dataframe\">\n",
       "  <thead>\n",
       "    <tr>\n",
       "      <th></th>\n",
       "      <th colspan=\"2\" halign=\"left\">All</th>\n",
       "      <th colspan=\"2\" halign=\"left\">In VOC</th>\n",
       "      <th colspan=\"2\" halign=\"left\">Out of VOC</th>\n",
       "    </tr>\n",
       "    <tr>\n",
       "      <th></th>\n",
       "      <th>f1 micro</th>\n",
       "      <th>f1 macro</th>\n",
       "      <th>f1 micro</th>\n",
       "      <th>f1 macro</th>\n",
       "      <th>f1 micro</th>\n",
       "      <th>f1 macro</th>\n",
       "    </tr>\n",
       "  </thead>\n",
       "  <tbody>\n",
       "    <tr>\n",
       "      <th>score</th>\n",
       "      <td>0.709184</td>\n",
       "      <td>0.318108</td>\n",
       "      <td>0.754264</td>\n",
       "      <td>0.425</td>\n",
       "      <td>0.0</td>\n",
       "      <td>0.0</td>\n",
       "    </tr>\n",
       "  </tbody>\n",
       "</table>\n",
       "</div>"
      ],
      "text/plain": [
       "            All              In VOC          Out of VOC         \n",
       "       f1 micro  f1 macro  f1 micro f1 macro   f1 micro f1 macro\n",
       "score  0.709184  0.318108  0.754264    0.425        0.0      0.0"
      ]
     },
     "metadata": {},
     "output_type": "display_data"
    },
    {
     "name": "stdout",
     "output_type": "stream",
     "text": [
      "Validation metric increased (0.311438 --> 0.318108).  Saving model ...\n"
     ]
    },
    {
     "name": "stderr",
     "output_type": "stream",
     "text": [
      "Epoch 42: 100%|██████████| 509/509 [01:40<00:00,  5.05batch/s, loss_decrease=1.000000847317365] \n",
      "100%|██████████| 1372/1372 [00:27<00:00, 49.49batch/s]\n"
     ]
    },
    {
     "data": {
      "text/html": [
       "<div>\n",
       "<style scoped>\n",
       "    .dataframe tbody tr th:only-of-type {\n",
       "        vertical-align: middle;\n",
       "    }\n",
       "\n",
       "    .dataframe tbody tr th {\n",
       "        vertical-align: top;\n",
       "    }\n",
       "\n",
       "    .dataframe thead tr th {\n",
       "        text-align: left;\n",
       "    }\n",
       "</style>\n",
       "<table border=\"1\" class=\"dataframe\">\n",
       "  <thead>\n",
       "    <tr>\n",
       "      <th></th>\n",
       "      <th colspan=\"2\" halign=\"left\">All</th>\n",
       "      <th colspan=\"2\" halign=\"left\">In VOC</th>\n",
       "      <th colspan=\"2\" halign=\"left\">Out of VOC</th>\n",
       "    </tr>\n",
       "    <tr>\n",
       "      <th></th>\n",
       "      <th>f1 micro</th>\n",
       "      <th>f1 macro</th>\n",
       "      <th>f1 micro</th>\n",
       "      <th>f1 macro</th>\n",
       "      <th>f1 micro</th>\n",
       "      <th>f1 macro</th>\n",
       "    </tr>\n",
       "  </thead>\n",
       "  <tbody>\n",
       "    <tr>\n",
       "      <th>score</th>\n",
       "      <td>0.701166</td>\n",
       "      <td>0.298322</td>\n",
       "      <td>0.745736</td>\n",
       "      <td>0.392381</td>\n",
       "      <td>0.0</td>\n",
       "      <td>0.0</td>\n",
       "    </tr>\n",
       "  </tbody>\n",
       "</table>\n",
       "</div>"
      ],
      "text/plain": [
       "            All              In VOC           Out of VOC         \n",
       "       f1 micro  f1 macro  f1 micro  f1 macro   f1 micro f1 macro\n",
       "score  0.701166  0.298322  0.745736  0.392381        0.0      0.0"
      ]
     },
     "metadata": {},
     "output_type": "display_data"
    },
    {
     "name": "stdout",
     "output_type": "stream",
     "text": [
      "EarlyStopping counter: 1 out of 7\n"
     ]
    },
    {
     "name": "stderr",
     "output_type": "stream",
     "text": [
      "Epoch 43: 100%|██████████| 509/509 [01:40<00:00,  5.08batch/s, loss_decrease=1.000000470731692] \n",
      "100%|██████████| 1372/1372 [00:30<00:00, 44.68batch/s]\n"
     ]
    },
    {
     "data": {
      "text/html": [
       "<div>\n",
       "<style scoped>\n",
       "    .dataframe tbody tr th:only-of-type {\n",
       "        vertical-align: middle;\n",
       "    }\n",
       "\n",
       "    .dataframe tbody tr th {\n",
       "        vertical-align: top;\n",
       "    }\n",
       "\n",
       "    .dataframe thead tr th {\n",
       "        text-align: left;\n",
       "    }\n",
       "</style>\n",
       "<table border=\"1\" class=\"dataframe\">\n",
       "  <thead>\n",
       "    <tr>\n",
       "      <th></th>\n",
       "      <th colspan=\"2\" halign=\"left\">All</th>\n",
       "      <th colspan=\"2\" halign=\"left\">In VOC</th>\n",
       "      <th colspan=\"2\" halign=\"left\">Out of VOC</th>\n",
       "    </tr>\n",
       "    <tr>\n",
       "      <th></th>\n",
       "      <th>f1 micro</th>\n",
       "      <th>f1 macro</th>\n",
       "      <th>f1 micro</th>\n",
       "      <th>f1 macro</th>\n",
       "      <th>f1 micro</th>\n",
       "      <th>f1 macro</th>\n",
       "    </tr>\n",
       "  </thead>\n",
       "  <tbody>\n",
       "    <tr>\n",
       "      <th>score</th>\n",
       "      <td>0.000729</td>\n",
       "      <td>0.000004</td>\n",
       "      <td>0.000775</td>\n",
       "      <td>0.000006</td>\n",
       "      <td>0.0</td>\n",
       "      <td>0.0</td>\n",
       "    </tr>\n",
       "  </tbody>\n",
       "</table>\n",
       "</div>"
      ],
      "text/plain": [
       "            All              In VOC           Out of VOC         \n",
       "       f1 micro  f1 macro  f1 micro  f1 macro   f1 micro f1 macro\n",
       "score  0.000729  0.000004  0.000775  0.000006        0.0      0.0"
      ]
     },
     "metadata": {},
     "output_type": "display_data"
    },
    {
     "name": "stdout",
     "output_type": "stream",
     "text": [
      "EarlyStopping counter: 2 out of 7\n"
     ]
    },
    {
     "name": "stderr",
     "output_type": "stream",
     "text": [
      "Epoch 44: 100%|██████████| 509/509 [01:40<00:00,  5.04batch/s, loss_decrease=1.000000470731692] \n",
      "100%|██████████| 1372/1372 [00:28<00:00, 48.55batch/s]\n"
     ]
    },
    {
     "data": {
      "text/html": [
       "<div>\n",
       "<style scoped>\n",
       "    .dataframe tbody tr th:only-of-type {\n",
       "        vertical-align: middle;\n",
       "    }\n",
       "\n",
       "    .dataframe tbody tr th {\n",
       "        vertical-align: top;\n",
       "    }\n",
       "\n",
       "    .dataframe thead tr th {\n",
       "        text-align: left;\n",
       "    }\n",
       "</style>\n",
       "<table border=\"1\" class=\"dataframe\">\n",
       "  <thead>\n",
       "    <tr>\n",
       "      <th></th>\n",
       "      <th colspan=\"2\" halign=\"left\">All</th>\n",
       "      <th colspan=\"2\" halign=\"left\">In VOC</th>\n",
       "      <th colspan=\"2\" halign=\"left\">Out of VOC</th>\n",
       "    </tr>\n",
       "    <tr>\n",
       "      <th></th>\n",
       "      <th>f1 micro</th>\n",
       "      <th>f1 macro</th>\n",
       "      <th>f1 micro</th>\n",
       "      <th>f1 macro</th>\n",
       "      <th>f1 micro</th>\n",
       "      <th>f1 macro</th>\n",
       "    </tr>\n",
       "  </thead>\n",
       "  <tbody>\n",
       "    <tr>\n",
       "      <th>score</th>\n",
       "      <td>0.000729</td>\n",
       "      <td>0.000004</td>\n",
       "      <td>0.000775</td>\n",
       "      <td>0.000006</td>\n",
       "      <td>0.0</td>\n",
       "      <td>0.0</td>\n",
       "    </tr>\n",
       "  </tbody>\n",
       "</table>\n",
       "</div>"
      ],
      "text/plain": [
       "            All              In VOC           Out of VOC         \n",
       "       f1 micro  f1 macro  f1 micro  f1 macro   f1 micro f1 macro\n",
       "score  0.000729  0.000004  0.000775  0.000006        0.0      0.0"
      ]
     },
     "metadata": {},
     "output_type": "display_data"
    },
    {
     "name": "stdout",
     "output_type": "stream",
     "text": [
      "EarlyStopping counter: 3 out of 7\n"
     ]
    },
    {
     "name": "stderr",
     "output_type": "stream",
     "text": [
      "Epoch 45: 100%|██████████| 509/509 [01:40<00:00,  5.05batch/s, loss_decrease=1.000000470731692] \n",
      "100%|██████████| 1372/1372 [00:27<00:00, 49.29batch/s]\n"
     ]
    },
    {
     "data": {
      "text/html": [
       "<div>\n",
       "<style scoped>\n",
       "    .dataframe tbody tr th:only-of-type {\n",
       "        vertical-align: middle;\n",
       "    }\n",
       "\n",
       "    .dataframe tbody tr th {\n",
       "        vertical-align: top;\n",
       "    }\n",
       "\n",
       "    .dataframe thead tr th {\n",
       "        text-align: left;\n",
       "    }\n",
       "</style>\n",
       "<table border=\"1\" class=\"dataframe\">\n",
       "  <thead>\n",
       "    <tr>\n",
       "      <th></th>\n",
       "      <th colspan=\"2\" halign=\"left\">All</th>\n",
       "      <th colspan=\"2\" halign=\"left\">In VOC</th>\n",
       "      <th colspan=\"2\" halign=\"left\">Out of VOC</th>\n",
       "    </tr>\n",
       "    <tr>\n",
       "      <th></th>\n",
       "      <th>f1 micro</th>\n",
       "      <th>f1 macro</th>\n",
       "      <th>f1 micro</th>\n",
       "      <th>f1 macro</th>\n",
       "      <th>f1 micro</th>\n",
       "      <th>f1 macro</th>\n",
       "    </tr>\n",
       "  </thead>\n",
       "  <tbody>\n",
       "    <tr>\n",
       "      <th>score</th>\n",
       "      <td>0.000729</td>\n",
       "      <td>0.000004</td>\n",
       "      <td>0.000775</td>\n",
       "      <td>0.000006</td>\n",
       "      <td>0.0</td>\n",
       "      <td>0.0</td>\n",
       "    </tr>\n",
       "  </tbody>\n",
       "</table>\n",
       "</div>"
      ],
      "text/plain": [
       "            All              In VOC           Out of VOC         \n",
       "       f1 micro  f1 macro  f1 micro  f1 macro   f1 micro f1 macro\n",
       "score  0.000729  0.000004  0.000775  0.000006        0.0      0.0"
      ]
     },
     "metadata": {},
     "output_type": "display_data"
    },
    {
     "name": "stdout",
     "output_type": "stream",
     "text": [
      "EarlyStopping counter: 4 out of 7\n"
     ]
    },
    {
     "name": "stderr",
     "output_type": "stream",
     "text": [
      "Epoch 46: 100%|██████████| 509/509 [01:40<00:00,  5.08batch/s, loss_decrease=1.000000470731692] \n",
      "100%|██████████| 1372/1372 [00:29<00:00, 46.90batch/s]\n"
     ]
    },
    {
     "data": {
      "text/html": [
       "<div>\n",
       "<style scoped>\n",
       "    .dataframe tbody tr th:only-of-type {\n",
       "        vertical-align: middle;\n",
       "    }\n",
       "\n",
       "    .dataframe tbody tr th {\n",
       "        vertical-align: top;\n",
       "    }\n",
       "\n",
       "    .dataframe thead tr th {\n",
       "        text-align: left;\n",
       "    }\n",
       "</style>\n",
       "<table border=\"1\" class=\"dataframe\">\n",
       "  <thead>\n",
       "    <tr>\n",
       "      <th></th>\n",
       "      <th colspan=\"2\" halign=\"left\">All</th>\n",
       "      <th colspan=\"2\" halign=\"left\">In VOC</th>\n",
       "      <th colspan=\"2\" halign=\"left\">Out of VOC</th>\n",
       "    </tr>\n",
       "    <tr>\n",
       "      <th></th>\n",
       "      <th>f1 micro</th>\n",
       "      <th>f1 macro</th>\n",
       "      <th>f1 micro</th>\n",
       "      <th>f1 macro</th>\n",
       "      <th>f1 micro</th>\n",
       "      <th>f1 macro</th>\n",
       "    </tr>\n",
       "  </thead>\n",
       "  <tbody>\n",
       "    <tr>\n",
       "      <th>score</th>\n",
       "      <td>0.000729</td>\n",
       "      <td>0.000004</td>\n",
       "      <td>0.000775</td>\n",
       "      <td>0.000006</td>\n",
       "      <td>0.0</td>\n",
       "      <td>0.0</td>\n",
       "    </tr>\n",
       "  </tbody>\n",
       "</table>\n",
       "</div>"
      ],
      "text/plain": [
       "            All              In VOC           Out of VOC         \n",
       "       f1 micro  f1 macro  f1 micro  f1 macro   f1 micro f1 macro\n",
       "score  0.000729  0.000004  0.000775  0.000006        0.0      0.0"
      ]
     },
     "metadata": {},
     "output_type": "display_data"
    },
    {
     "name": "stdout",
     "output_type": "stream",
     "text": [
      "EarlyStopping counter: 5 out of 7\n"
     ]
    },
    {
     "name": "stderr",
     "output_type": "stream",
     "text": [
      "Epoch 47: 100%|██████████| 509/509 [01:39<00:00,  5.10batch/s, loss_decrease=1.000000470731692] \n",
      "100%|██████████| 1372/1372 [00:28<00:00, 48.79batch/s]\n"
     ]
    },
    {
     "data": {
      "text/html": [
       "<div>\n",
       "<style scoped>\n",
       "    .dataframe tbody tr th:only-of-type {\n",
       "        vertical-align: middle;\n",
       "    }\n",
       "\n",
       "    .dataframe tbody tr th {\n",
       "        vertical-align: top;\n",
       "    }\n",
       "\n",
       "    .dataframe thead tr th {\n",
       "        text-align: left;\n",
       "    }\n",
       "</style>\n",
       "<table border=\"1\" class=\"dataframe\">\n",
       "  <thead>\n",
       "    <tr>\n",
       "      <th></th>\n",
       "      <th colspan=\"2\" halign=\"left\">All</th>\n",
       "      <th colspan=\"2\" halign=\"left\">In VOC</th>\n",
       "      <th colspan=\"2\" halign=\"left\">Out of VOC</th>\n",
       "    </tr>\n",
       "    <tr>\n",
       "      <th></th>\n",
       "      <th>f1 micro</th>\n",
       "      <th>f1 macro</th>\n",
       "      <th>f1 micro</th>\n",
       "      <th>f1 macro</th>\n",
       "      <th>f1 micro</th>\n",
       "      <th>f1 macro</th>\n",
       "    </tr>\n",
       "  </thead>\n",
       "  <tbody>\n",
       "    <tr>\n",
       "      <th>score</th>\n",
       "      <td>0.000729</td>\n",
       "      <td>0.000004</td>\n",
       "      <td>0.000775</td>\n",
       "      <td>0.000006</td>\n",
       "      <td>0.0</td>\n",
       "      <td>0.0</td>\n",
       "    </tr>\n",
       "  </tbody>\n",
       "</table>\n",
       "</div>"
      ],
      "text/plain": [
       "            All              In VOC           Out of VOC         \n",
       "       f1 micro  f1 macro  f1 micro  f1 macro   f1 micro f1 macro\n",
       "score  0.000729  0.000004  0.000775  0.000006        0.0      0.0"
      ]
     },
     "metadata": {},
     "output_type": "display_data"
    },
    {
     "name": "stdout",
     "output_type": "stream",
     "text": [
      "EarlyStopping counter: 6 out of 7\n"
     ]
    },
    {
     "name": "stderr",
     "output_type": "stream",
     "text": [
      "Epoch 48: 100%|██████████| 509/509 [01:40<00:00,  5.08batch/s, loss_decrease=1.000000470731692] \n",
      "100%|██████████| 1372/1372 [00:30<00:00, 44.75batch/s]\n"
     ]
    },
    {
     "data": {
      "text/html": [
       "<div>\n",
       "<style scoped>\n",
       "    .dataframe tbody tr th:only-of-type {\n",
       "        vertical-align: middle;\n",
       "    }\n",
       "\n",
       "    .dataframe tbody tr th {\n",
       "        vertical-align: top;\n",
       "    }\n",
       "\n",
       "    .dataframe thead tr th {\n",
       "        text-align: left;\n",
       "    }\n",
       "</style>\n",
       "<table border=\"1\" class=\"dataframe\">\n",
       "  <thead>\n",
       "    <tr>\n",
       "      <th></th>\n",
       "      <th colspan=\"2\" halign=\"left\">All</th>\n",
       "      <th colspan=\"2\" halign=\"left\">In VOC</th>\n",
       "      <th colspan=\"2\" halign=\"left\">Out of VOC</th>\n",
       "    </tr>\n",
       "    <tr>\n",
       "      <th></th>\n",
       "      <th>f1 micro</th>\n",
       "      <th>f1 macro</th>\n",
       "      <th>f1 micro</th>\n",
       "      <th>f1 macro</th>\n",
       "      <th>f1 micro</th>\n",
       "      <th>f1 macro</th>\n",
       "    </tr>\n",
       "  </thead>\n",
       "  <tbody>\n",
       "    <tr>\n",
       "      <th>score</th>\n",
       "      <td>0.000729</td>\n",
       "      <td>0.000004</td>\n",
       "      <td>0.000775</td>\n",
       "      <td>0.000006</td>\n",
       "      <td>0.0</td>\n",
       "      <td>0.0</td>\n",
       "    </tr>\n",
       "  </tbody>\n",
       "</table>\n",
       "</div>"
      ],
      "text/plain": [
       "            All              In VOC           Out of VOC         \n",
       "       f1 micro  f1 macro  f1 micro  f1 macro   f1 micro f1 macro\n",
       "score  0.000729  0.000004  0.000775  0.000006        0.0      0.0"
      ]
     },
     "metadata": {},
     "output_type": "display_data"
    },
    {
     "name": "stdout",
     "output_type": "stream",
     "text": [
      "EarlyStopping counter: 7 out of 7\n",
      "Early stopping\n",
      "Evaluating on test dataset\n"
     ]
    },
    {
     "name": "stderr",
     "output_type": "stream",
     "text": [
      "100%|██████████| 2402/2402 [00:49<00:00, 48.10batch/s]\n"
     ]
    },
    {
     "data": {
      "text/html": [
       "<div>\n",
       "<style scoped>\n",
       "    .dataframe tbody tr th:only-of-type {\n",
       "        vertical-align: middle;\n",
       "    }\n",
       "\n",
       "    .dataframe tbody tr th {\n",
       "        vertical-align: top;\n",
       "    }\n",
       "\n",
       "    .dataframe thead tr th {\n",
       "        text-align: left;\n",
       "    }\n",
       "</style>\n",
       "<table border=\"1\" class=\"dataframe\">\n",
       "  <thead>\n",
       "    <tr>\n",
       "      <th></th>\n",
       "      <th colspan=\"2\" halign=\"left\">All</th>\n",
       "      <th colspan=\"2\" halign=\"left\">In VOC</th>\n",
       "      <th colspan=\"2\" halign=\"left\">Out of VOC</th>\n",
       "    </tr>\n",
       "    <tr>\n",
       "      <th></th>\n",
       "      <th>f1 micro</th>\n",
       "      <th>f1 macro</th>\n",
       "      <th>f1 micro</th>\n",
       "      <th>f1 macro</th>\n",
       "      <th>f1 micro</th>\n",
       "      <th>f1 macro</th>\n",
       "    </tr>\n",
       "  </thead>\n",
       "  <tbody>\n",
       "    <tr>\n",
       "      <th>score</th>\n",
       "      <td>0.716486</td>\n",
       "      <td>0.276004</td>\n",
       "      <td>0.753968</td>\n",
       "      <td>0.348254</td>\n",
       "      <td>0.08209</td>\n",
       "      <td>0.035714</td>\n",
       "    </tr>\n",
       "  </tbody>\n",
       "</table>\n",
       "</div>"
      ],
      "text/plain": [
       "            All              In VOC           Out of VOC          \n",
       "       f1 micro  f1 macro  f1 micro  f1 macro   f1 micro  f1 macro\n",
       "score  0.716486  0.276004  0.753968  0.348254    0.08209  0.035714"
      ]
     },
     "metadata": {},
     "output_type": "display_data"
    },
    {
     "name": "stdout",
     "output_type": "stream",
     "text": [
      "Сплит 4\n"
     ]
    },
    {
     "name": "stderr",
     "output_type": "stream",
     "text": [
      "Some weights of the model checkpoint at sagteam/xlm-roberta-large-sag were not used when initializing XLMRobertaModel: ['lm_head.decoder.weight', 'lm_head.dense.weight', 'lm_head.dense.bias', 'lm_head.bias', 'lm_head.layer_norm.bias', 'lm_head.decoder.bias', 'lm_head.layer_norm.weight']\n",
      "- This IS expected if you are initializing XLMRobertaModel from the checkpoint of a model trained on another task or with another architecture (e.g. initializing a BertForSequenceClassification model from a BertForPreTraining model).\n",
      "- This IS NOT expected if you are initializing XLMRobertaModel from the checkpoint of a model that you expect to be exactly identical (initializing a BertForSequenceClassification model from a BertForSequenceClassification model).\n",
      "Some weights of XLMRobertaModel were not initialized from the model checkpoint at sagteam/xlm-roberta-large-sag and are newly initialized: ['roberta.pooler.dense.bias', 'roberta.pooler.dense.weight']\n",
      "You should probably TRAIN this model on a down-stream task to be able to use it for predictions and inference.\n",
      "Epoch 1:   0%|          | 0/508 [00:03<?, ?batch/s]\n"
     ]
    },
    {
     "ename": "RuntimeError",
     "evalue": "CUDA out of memory. Tried to allocate 16.00 MiB (GPU 0; 31.75 GiB total capacity; 29.94 GiB already allocated; 15.69 MiB free; 30.37 GiB reserved in total by PyTorch) If reserved memory is >> allocated memory try setting max_split_size_mb to avoid fragmentation.  See documentation for Memory Management and PYTORCH_CUDA_ALLOC_CONF",
     "output_type": "error",
     "traceback": [
      "\u001b[0;31m---------------------------------------------------------------------------\u001b[0m",
      "\u001b[0;31mRuntimeError\u001b[0m                              Traceback (most recent call last)",
      "Input \u001b[0;32mIn [10]\u001b[0m, in \u001b[0;36m<module>\u001b[0;34m\u001b[0m\n\u001b[1;32m     81\u001b[0m     loss \u001b[38;5;241m=\u001b[39m criterion(outputs, labels)\n\u001b[1;32m     82\u001b[0m scaler\u001b[38;5;241m.\u001b[39mscale(loss)\u001b[38;5;241m.\u001b[39mbackward()\n\u001b[0;32m---> 83\u001b[0m \u001b[43mscaler\u001b[49m\u001b[38;5;241;43m.\u001b[39;49m\u001b[43mstep\u001b[49m\u001b[43m(\u001b[49m\u001b[43moptimizer\u001b[49m\u001b[43m)\u001b[49m\n\u001b[1;32m     84\u001b[0m scheduler\u001b[38;5;241m.\u001b[39mstep()\n\u001b[1;32m     85\u001b[0m scaler\u001b[38;5;241m.\u001b[39mupdate()\n",
      "File \u001b[0;32m~/.conda/envs/latest_torch/lib/python3.9/site-packages/torch/cuda/amp/grad_scaler.py:338\u001b[0m, in \u001b[0;36mGradScaler.step\u001b[0;34m(self, optimizer, *args, **kwargs)\u001b[0m\n\u001b[1;32m    334\u001b[0m     \u001b[38;5;28mself\u001b[39m\u001b[38;5;241m.\u001b[39munscale_(optimizer)\n\u001b[1;32m    336\u001b[0m \u001b[38;5;28;01massert\u001b[39;00m \u001b[38;5;28mlen\u001b[39m(optimizer_state[\u001b[38;5;124m\"\u001b[39m\u001b[38;5;124mfound_inf_per_device\u001b[39m\u001b[38;5;124m\"\u001b[39m]) \u001b[38;5;241m>\u001b[39m \u001b[38;5;241m0\u001b[39m, \u001b[38;5;124m\"\u001b[39m\u001b[38;5;124mNo inf checks were recorded for this optimizer.\u001b[39m\u001b[38;5;124m\"\u001b[39m\n\u001b[0;32m--> 338\u001b[0m retval \u001b[38;5;241m=\u001b[39m \u001b[38;5;28;43mself\u001b[39;49m\u001b[38;5;241;43m.\u001b[39;49m\u001b[43m_maybe_opt_step\u001b[49m\u001b[43m(\u001b[49m\u001b[43moptimizer\u001b[49m\u001b[43m,\u001b[49m\u001b[43m \u001b[49m\u001b[43moptimizer_state\u001b[49m\u001b[43m,\u001b[49m\u001b[43m \u001b[49m\u001b[38;5;241;43m*\u001b[39;49m\u001b[43margs\u001b[49m\u001b[43m,\u001b[49m\u001b[43m \u001b[49m\u001b[38;5;241;43m*\u001b[39;49m\u001b[38;5;241;43m*\u001b[39;49m\u001b[43mkwargs\u001b[49m\u001b[43m)\u001b[49m\n\u001b[1;32m    340\u001b[0m optimizer_state[\u001b[38;5;124m\"\u001b[39m\u001b[38;5;124mstage\u001b[39m\u001b[38;5;124m\"\u001b[39m] \u001b[38;5;241m=\u001b[39m OptState\u001b[38;5;241m.\u001b[39mSTEPPED\n\u001b[1;32m    342\u001b[0m \u001b[38;5;28;01mreturn\u001b[39;00m retval\n",
      "File \u001b[0;32m~/.conda/envs/latest_torch/lib/python3.9/site-packages/torch/cuda/amp/grad_scaler.py:285\u001b[0m, in \u001b[0;36mGradScaler._maybe_opt_step\u001b[0;34m(self, optimizer, optimizer_state, *args, **kwargs)\u001b[0m\n\u001b[1;32m    283\u001b[0m retval \u001b[38;5;241m=\u001b[39m \u001b[38;5;28;01mNone\u001b[39;00m\n\u001b[1;32m    284\u001b[0m \u001b[38;5;28;01mif\u001b[39;00m \u001b[38;5;129;01mnot\u001b[39;00m \u001b[38;5;28msum\u001b[39m(v\u001b[38;5;241m.\u001b[39mitem() \u001b[38;5;28;01mfor\u001b[39;00m v \u001b[38;5;129;01min\u001b[39;00m optimizer_state[\u001b[38;5;124m\"\u001b[39m\u001b[38;5;124mfound_inf_per_device\u001b[39m\u001b[38;5;124m\"\u001b[39m]\u001b[38;5;241m.\u001b[39mvalues()):\n\u001b[0;32m--> 285\u001b[0m     retval \u001b[38;5;241m=\u001b[39m \u001b[43moptimizer\u001b[49m\u001b[38;5;241;43m.\u001b[39;49m\u001b[43mstep\u001b[49m\u001b[43m(\u001b[49m\u001b[38;5;241;43m*\u001b[39;49m\u001b[43margs\u001b[49m\u001b[43m,\u001b[49m\u001b[43m \u001b[49m\u001b[38;5;241;43m*\u001b[39;49m\u001b[38;5;241;43m*\u001b[39;49m\u001b[43mkwargs\u001b[49m\u001b[43m)\u001b[49m\n\u001b[1;32m    286\u001b[0m \u001b[38;5;28;01mreturn\u001b[39;00m retval\n",
      "File \u001b[0;32m~/.conda/envs/latest_torch/lib/python3.9/site-packages/torch/optim/lr_scheduler.py:65\u001b[0m, in \u001b[0;36m_LRScheduler.__init__.<locals>.with_counter.<locals>.wrapper\u001b[0;34m(*args, **kwargs)\u001b[0m\n\u001b[1;32m     63\u001b[0m instance\u001b[38;5;241m.\u001b[39m_step_count \u001b[38;5;241m+\u001b[39m\u001b[38;5;241m=\u001b[39m \u001b[38;5;241m1\u001b[39m\n\u001b[1;32m     64\u001b[0m wrapped \u001b[38;5;241m=\u001b[39m func\u001b[38;5;241m.\u001b[39m\u001b[38;5;21m__get__\u001b[39m(instance, \u001b[38;5;28mcls\u001b[39m)\n\u001b[0;32m---> 65\u001b[0m \u001b[38;5;28;01mreturn\u001b[39;00m \u001b[43mwrapped\u001b[49m\u001b[43m(\u001b[49m\u001b[38;5;241;43m*\u001b[39;49m\u001b[43margs\u001b[49m\u001b[43m,\u001b[49m\u001b[43m \u001b[49m\u001b[38;5;241;43m*\u001b[39;49m\u001b[38;5;241;43m*\u001b[39;49m\u001b[43mkwargs\u001b[49m\u001b[43m)\u001b[49m\n",
      "File \u001b[0;32m~/.conda/envs/latest_torch/lib/python3.9/site-packages/torch/optim/optimizer.py:88\u001b[0m, in \u001b[0;36mOptimizer._hook_for_profile.<locals>.profile_hook_step.<locals>.wrapper\u001b[0;34m(*args, **kwargs)\u001b[0m\n\u001b[1;32m     86\u001b[0m profile_name \u001b[38;5;241m=\u001b[39m \u001b[38;5;124m\"\u001b[39m\u001b[38;5;124mOptimizer.step#\u001b[39m\u001b[38;5;132;01m{}\u001b[39;00m\u001b[38;5;124m.step\u001b[39m\u001b[38;5;124m\"\u001b[39m\u001b[38;5;241m.\u001b[39mformat(obj\u001b[38;5;241m.\u001b[39m\u001b[38;5;18m__class__\u001b[39m\u001b[38;5;241m.\u001b[39m\u001b[38;5;18m__name__\u001b[39m)\n\u001b[1;32m     87\u001b[0m \u001b[38;5;28;01mwith\u001b[39;00m torch\u001b[38;5;241m.\u001b[39mautograd\u001b[38;5;241m.\u001b[39mprofiler\u001b[38;5;241m.\u001b[39mrecord_function(profile_name):\n\u001b[0;32m---> 88\u001b[0m     \u001b[38;5;28;01mreturn\u001b[39;00m \u001b[43mfunc\u001b[49m\u001b[43m(\u001b[49m\u001b[38;5;241;43m*\u001b[39;49m\u001b[43margs\u001b[49m\u001b[43m,\u001b[49m\u001b[43m \u001b[49m\u001b[38;5;241;43m*\u001b[39;49m\u001b[38;5;241;43m*\u001b[39;49m\u001b[43mkwargs\u001b[49m\u001b[43m)\u001b[49m\n",
      "File \u001b[0;32m~/.conda/envs/latest_torch/lib/python3.9/site-packages/torch/autograd/grad_mode.py:28\u001b[0m, in \u001b[0;36m_DecoratorContextManager.__call__.<locals>.decorate_context\u001b[0;34m(*args, **kwargs)\u001b[0m\n\u001b[1;32m     25\u001b[0m \u001b[38;5;129m@functools\u001b[39m\u001b[38;5;241m.\u001b[39mwraps(func)\n\u001b[1;32m     26\u001b[0m \u001b[38;5;28;01mdef\u001b[39;00m \u001b[38;5;21mdecorate_context\u001b[39m(\u001b[38;5;241m*\u001b[39margs, \u001b[38;5;241m*\u001b[39m\u001b[38;5;241m*\u001b[39mkwargs):\n\u001b[1;32m     27\u001b[0m     \u001b[38;5;28;01mwith\u001b[39;00m \u001b[38;5;28mself\u001b[39m\u001b[38;5;241m.\u001b[39m\u001b[38;5;18m__class__\u001b[39m():\n\u001b[0;32m---> 28\u001b[0m         \u001b[38;5;28;01mreturn\u001b[39;00m \u001b[43mfunc\u001b[49m\u001b[43m(\u001b[49m\u001b[38;5;241;43m*\u001b[39;49m\u001b[43margs\u001b[49m\u001b[43m,\u001b[49m\u001b[43m \u001b[49m\u001b[38;5;241;43m*\u001b[39;49m\u001b[38;5;241;43m*\u001b[39;49m\u001b[43mkwargs\u001b[49m\u001b[43m)\u001b[49m\n",
      "File \u001b[0;32m~/.conda/envs/latest_torch/lib/python3.9/site-packages/torch/optim/adamw.py:121\u001b[0m, in \u001b[0;36mAdamW.step\u001b[0;34m(self, closure)\u001b[0m\n\u001b[1;32m    119\u001b[0m state[\u001b[38;5;124m'\u001b[39m\u001b[38;5;124mexp_avg\u001b[39m\u001b[38;5;124m'\u001b[39m] \u001b[38;5;241m=\u001b[39m torch\u001b[38;5;241m.\u001b[39mzeros_like(p, memory_format\u001b[38;5;241m=\u001b[39mtorch\u001b[38;5;241m.\u001b[39mpreserve_format)\n\u001b[1;32m    120\u001b[0m \u001b[38;5;66;03m# Exponential moving average of squared gradient values\u001b[39;00m\n\u001b[0;32m--> 121\u001b[0m state[\u001b[38;5;124m'\u001b[39m\u001b[38;5;124mexp_avg_sq\u001b[39m\u001b[38;5;124m'\u001b[39m] \u001b[38;5;241m=\u001b[39m \u001b[43mtorch\u001b[49m\u001b[38;5;241;43m.\u001b[39;49m\u001b[43mzeros_like\u001b[49m\u001b[43m(\u001b[49m\u001b[43mp\u001b[49m\u001b[43m,\u001b[49m\u001b[43m \u001b[49m\u001b[43mmemory_format\u001b[49m\u001b[38;5;241;43m=\u001b[39;49m\u001b[43mtorch\u001b[49m\u001b[38;5;241;43m.\u001b[39;49m\u001b[43mpreserve_format\u001b[49m\u001b[43m)\u001b[49m\n\u001b[1;32m    122\u001b[0m \u001b[38;5;28;01mif\u001b[39;00m amsgrad:\n\u001b[1;32m    123\u001b[0m     \u001b[38;5;66;03m# Maintains max of all exp. moving avg. of sq. grad. values\u001b[39;00m\n\u001b[1;32m    124\u001b[0m     state[\u001b[38;5;124m'\u001b[39m\u001b[38;5;124mmax_exp_avg_sq\u001b[39m\u001b[38;5;124m'\u001b[39m] \u001b[38;5;241m=\u001b[39m torch\u001b[38;5;241m.\u001b[39mzeros_like(p, memory_format\u001b[38;5;241m=\u001b[39mtorch\u001b[38;5;241m.\u001b[39mpreserve_format)\n",
      "\u001b[0;31mRuntimeError\u001b[0m: CUDA out of memory. Tried to allocate 16.00 MiB (GPU 0; 31.75 GiB total capacity; 29.94 GiB already allocated; 15.69 MiB free; 30.37 GiB reserved in total by PyTorch) If reserved memory is >> allocated memory try setting max_split_size_mb to avoid fragmentation.  See documentation for Memory Management and PYTORCH_CUDA_ALLOC_CONF"
     ]
    }
   ],
   "source": [
    "from tqdm import trange\n",
    "from tqdm import tqdm\n",
    "from sklearn.metrics import classification_report, f1_score\n",
    "from evaluator import Evaluator\n",
    "import numpy as np\n",
    "import torch.optim as optim\n",
    "import torch.nn as nn\n",
    "import torch\n",
    "import numpy as np\n",
    "from tools.pytorchtools import EarlyStopping\n",
    "import pandas as pd\n",
    "from torch.optim.lr_scheduler import CyclicLR\n",
    "from dataset import *\n",
    "from models import CADEC_SoTa\n",
    "\n",
    "#Гиперпараметры\n",
    "batch_size=16\n",
    "epochs = 50\n",
    "\n",
    "all_splits_score_dfs = []\n",
    "\n",
    "input_format = 'sentences' if ADD_CONTEXT else 'phrases'\n",
    "\n",
    "for fold_num in range(1, n_splits+1):\n",
    "    print('Сплит %s'%fold_num)\n",
    "    torch.manual_seed(0)\n",
    "    np.random.seed(0)\n",
    "    best_model_path = './Model_weights/robertasag_cyclic_lr_es_split_%s.pt'%fold_num\n",
    "    \n",
    "    #фразы могут быть с контекстом или без контекста, в зависимости от флага ADD_CONTEXT\n",
    "    train_phrases, train_concepts = all_splits[fold_num]['train'][input_format], all_splits[fold_num]['train']['concepts']\n",
    "    val_phrases, val_concepts = all_splits[fold_num]['validation'][input_format], all_splits[fold_num]['validation']['concepts']\n",
    "    test_phrases, test_concepts = all_splits[fold_num]['test'][input_format], all_splits[fold_num]['test']['concepts']\n",
    "    \n",
    "    if not ADD_CONTEXT:\n",
    "        ds_train = MedNormDataset(train_phrases, train_concepts, CV, use_cuda=USE_CUDA)\n",
    "        ds_test = MedNormDataset(test_phrases, test_concepts, CV, use_cuda=USE_CUDA)\n",
    "        ds_val = MedNormDataset(val_phrases, val_concepts, CV, use_cuda=USE_CUDA)\n",
    "    else:\n",
    "        ds_train = MedNormContextDataset(train_phrases, train_concepts, CV, use_cuda=USE_CUDA)\n",
    "        ds_test = MedNormContextDataset(test_phrases, test_concepts, CV, use_cuda=USE_CUDA)\n",
    "        ds_val = MedNormContextDataset(val_phrases, val_concepts, CV, use_cuda=USE_CUDA)\n",
    "        \n",
    "    net = CADEC_SoTa(transformer_model_path, CV.thesaurus_embeddings)\n",
    "    #перемещение модели на вычислительные мощности, либо cpu, либо cuda\n",
    "    device = 'cuda' if USE_CUDA else 'cpu'\n",
    "    net.to(device)\n",
    "    #net = torch.load('./Model_weights/rubert_only_additional_corp_v2_30ep.pt')\n",
    "    \n",
    "    criterion = nn.CrossEntropyLoss()\n",
    "    optimizer = optim.AdamW(net.parameters(), lr=0.00003) #, cycle_momentum=True\n",
    "    scheduler = CyclicLR(optimizer, base_lr=0.00004, max_lr=0.0002, cycle_momentum=False)\n",
    "    scaler = torch.cuda.amp.GradScaler()\n",
    "    early_stopping = EarlyStopping(path=best_model_path, mode='max', verbose=True)\n",
    "\n",
    "    trainloader = torch.utils.data.DataLoader(ds_train, batch_size=batch_size,\n",
    "                                              shuffle=False, num_workers=0)\n",
    "    testloader = torch.utils.data.DataLoader(ds_test, batch_size=1, shuffle=False)\n",
    "    valloader = torch.utils.data.DataLoader(ds_val, batch_size=1, shuffle=False)\n",
    "\n",
    "    valid_evaluator = Evaluator(train_concepts, val_concepts)\n",
    "    test_evaluator = Evaluator(train_concepts, test_concepts)\n",
    "\n",
    "    initial_loss = None\n",
    "\n",
    "    for epoch in range(1, epochs+1):\n",
    "        #обучение модели в эпохе\n",
    "        net.train()\n",
    "        with tqdm(trainloader, unit=\"batch\") as tepoch:\n",
    "            for data in tepoch:\n",
    "\n",
    "                tepoch.set_description(f\"Epoch {epoch}\")\n",
    "\n",
    "                inputs = data['tokenized_phrases']\n",
    "                labels = data['one_hot_labels']\n",
    "\n",
    "                optimizer.zero_grad()\n",
    "                if USE_CUDA:\n",
    "                    with torch.cuda.amp.autocast():\n",
    "                        outputs = net(inputs)['output']\n",
    "                        loss = criterion(outputs, labels)\n",
    "                    scaler.scale(loss).backward()\n",
    "                    scaler.step(optimizer)\n",
    "                    scheduler.step()\n",
    "                    scaler.update()\n",
    "                else:\n",
    "                    outputs = net(inputs)['output']\n",
    "                    loss = criterion(outputs, labels)\n",
    "                    loss.backward()\n",
    "                    optimizer.step()\n",
    "                    scheduler.step()\n",
    "                if initial_loss is None:\n",
    "                    initial_loss = loss.item()\n",
    "                tepoch.set_postfix(loss_decrease = str(initial_loss/loss.item()))\n",
    "        #расчет точностей модели после эпохи\n",
    "        net.eval()\n",
    "        model_answers=[]\n",
    "        with tqdm(valloader, unit=\"batch\") as eval_process:\n",
    "            for data in eval_process:\n",
    "\n",
    "                inputs = data['tokenized_phrases']\n",
    "\n",
    "                with torch.no_grad():\n",
    "                    outputs_dict = net(inputs)\n",
    "                    pred_meddra_code = CV.meddra_codes[outputs_dict['output'].argmax()]\n",
    "\n",
    "                model_answers.append(pred_meddra_code)\n",
    "\n",
    "        valid_evaluator.get_all_f1_scores(model_answers)\n",
    "        early_stopping(valid_evaluator.f1_scores_df['All']['f1 macro']['score'], net)\n",
    "        if early_stopping.early_stop:\n",
    "            print(\"Early stopping\")\n",
    "            break\n",
    "    net.load_state_dict(torch.load(best_model_path))\n",
    "\n",
    "\n",
    "\n",
    "    print('Evaluating on test dataset')\n",
    "    net.eval()\n",
    "    model_answers=[]\n",
    "    with tqdm(testloader, unit=\"batch\") as eval_process:\n",
    "        for data in eval_process:\n",
    "\n",
    "            inputs = data['tokenized_phrases']\n",
    "\n",
    "            with torch.no_grad():\n",
    "                outputs_dict = net(inputs)\n",
    "                pred_meddra_code = CV.meddra_codes[outputs_dict['output'].argmax()]\n",
    "\n",
    "            model_answers.append(pred_meddra_code)\n",
    "\n",
    "        test_evaluator.get_all_f1_scores(model_answers)\n",
    "    all_splits_score_dfs.append(test_evaluator.f1_scores_df)\n",
    "\n",
    "columns_tuples = [('All', 'f1 micro'), \n",
    "                 ('All', 'f1 macro'),\n",
    "\n",
    "                 ('In VOC', 'f1 micro'), \n",
    "                 ('In VOC', 'f1 macro'),\n",
    "\n",
    "                 ('Out of VOC', 'f1 micro'), \n",
    "                 ('Out of VOC', 'f1 macro')]\n",
    "col_index = pd.MultiIndex.from_tuples(columns_tuples)\n",
    "f1_mean_scores_df = pd.DataFrame(columns=col_index, index=['mean score', 'std'])\n",
    "f1_mean_scores_df.loc['std', :] = np.std(np.array(all_splits_score_dfs), axis = 0)\n",
    "f1_mean_scores_df.loc['mean score', :] = np.mean(np.array(all_splits_score_dfs), axis = 0)\n",
    "f1_mean_scores_df"
   ]
  },
  {
   "cell_type": "markdown",
   "id": "contrary-thread",
   "metadata": {},
   "source": [
    "<h2>Эксперимент с RuBERT</h2>"
   ]
  },
  {
   "cell_type": "markdown",
   "id": "focal-conversion",
   "metadata": {},
   "source": [
    "Подгружается rubert, который 30 эпох учился на корпусе<br> \n",
    "с переведенными с английского фразами из англоязычных корпусов и их pt концептами<br>\n",
    "а также содержащий фразы из llt и соответствующие им концепты<br>\n",
    "всего в этом корпусе было порядка ~90 тыс. примеров<br>"
   ]
  },
  {
   "cell_type": "code",
   "execution_count": 7,
   "id": "biblical-research",
   "metadata": {},
   "outputs": [
    {
     "name": "stdout",
     "output_type": "stream",
     "text": [
      "Сплит 1\n"
     ]
    },
    {
     "name": "stderr",
     "output_type": "stream",
     "text": [
      "Asking to truncate to max_length but no maximum length is provided and the model has no predefined maximum length. Default to no truncation.\n",
      "Epoch 1: 100%|██████████| 513/513 [00:51<00:00, 10.01batch/s, loss_decrease=1.0000015063476548]\n",
      "100%|██████████| 1503/1503 [00:17<00:00, 85.55batch/s]\n"
     ]
    },
    {
     "data": {
      "text/html": [
       "<div>\n",
       "<style scoped>\n",
       "    .dataframe tbody tr th:only-of-type {\n",
       "        vertical-align: middle;\n",
       "    }\n",
       "\n",
       "    .dataframe tbody tr th {\n",
       "        vertical-align: top;\n",
       "    }\n",
       "\n",
       "    .dataframe thead tr th {\n",
       "        text-align: left;\n",
       "    }\n",
       "</style>\n",
       "<table border=\"1\" class=\"dataframe\">\n",
       "  <thead>\n",
       "    <tr>\n",
       "      <th></th>\n",
       "      <th colspan=\"2\" halign=\"left\">All</th>\n",
       "      <th colspan=\"2\" halign=\"left\">In VOC</th>\n",
       "      <th colspan=\"2\" halign=\"left\">Out of VOC</th>\n",
       "    </tr>\n",
       "    <tr>\n",
       "      <th></th>\n",
       "      <th>f1 micro</th>\n",
       "      <th>f1 macro</th>\n",
       "      <th>f1 micro</th>\n",
       "      <th>f1 macro</th>\n",
       "      <th>f1 micro</th>\n",
       "      <th>f1 macro</th>\n",
       "    </tr>\n",
       "  </thead>\n",
       "  <tbody>\n",
       "    <tr>\n",
       "      <th>score</th>\n",
       "      <td>0.695941</td>\n",
       "      <td>0.303515</td>\n",
       "      <td>0.724842</td>\n",
       "      <td>0.357223</td>\n",
       "      <td>0.195122</td>\n",
       "      <td>0.093363</td>\n",
       "    </tr>\n",
       "  </tbody>\n",
       "</table>\n",
       "</div>"
      ],
      "text/plain": [
       "            All              In VOC           Out of VOC          \n",
       "       f1 micro  f1 macro  f1 micro  f1 macro   f1 micro  f1 macro\n",
       "score  0.695941  0.303515  0.724842  0.357223   0.195122  0.093363"
      ]
     },
     "metadata": {},
     "output_type": "display_data"
    },
    {
     "name": "stdout",
     "output_type": "stream",
     "text": [
      "Validation metric increased (-inf --> 0.303515).  Saving model ...\n"
     ]
    },
    {
     "name": "stderr",
     "output_type": "stream",
     "text": [
      "Epoch 2: 100%|██████████| 513/513 [00:48<00:00, 10.66batch/s, loss_decrease=1.0000028244055756]\n",
      "100%|██████████| 1503/1503 [00:17<00:00, 88.26batch/s] \n"
     ]
    },
    {
     "data": {
      "text/html": [
       "<div>\n",
       "<style scoped>\n",
       "    .dataframe tbody tr th:only-of-type {\n",
       "        vertical-align: middle;\n",
       "    }\n",
       "\n",
       "    .dataframe tbody tr th {\n",
       "        vertical-align: top;\n",
       "    }\n",
       "\n",
       "    .dataframe thead tr th {\n",
       "        text-align: left;\n",
       "    }\n",
       "</style>\n",
       "<table border=\"1\" class=\"dataframe\">\n",
       "  <thead>\n",
       "    <tr>\n",
       "      <th></th>\n",
       "      <th colspan=\"2\" halign=\"left\">All</th>\n",
       "      <th colspan=\"2\" halign=\"left\">In VOC</th>\n",
       "      <th colspan=\"2\" halign=\"left\">Out of VOC</th>\n",
       "    </tr>\n",
       "    <tr>\n",
       "      <th></th>\n",
       "      <th>f1 micro</th>\n",
       "      <th>f1 macro</th>\n",
       "      <th>f1 micro</th>\n",
       "      <th>f1 macro</th>\n",
       "      <th>f1 micro</th>\n",
       "      <th>f1 macro</th>\n",
       "    </tr>\n",
       "  </thead>\n",
       "  <tbody>\n",
       "    <tr>\n",
       "      <th>score</th>\n",
       "      <td>0.711244</td>\n",
       "      <td>0.314873</td>\n",
       "      <td>0.743139</td>\n",
       "      <td>0.37937</td>\n",
       "      <td>0.158537</td>\n",
       "      <td>0.071429</td>\n",
       "    </tr>\n",
       "  </tbody>\n",
       "</table>\n",
       "</div>"
      ],
      "text/plain": [
       "            All              In VOC          Out of VOC          \n",
       "       f1 micro  f1 macro  f1 micro f1 macro   f1 micro  f1 macro\n",
       "score  0.711244  0.314873  0.743139  0.37937   0.158537  0.071429"
      ]
     },
     "metadata": {},
     "output_type": "display_data"
    },
    {
     "name": "stdout",
     "output_type": "stream",
     "text": [
      "Validation metric increased (0.303515 --> 0.314873).  Saving model ...\n"
     ]
    },
    {
     "name": "stderr",
     "output_type": "stream",
     "text": [
      "Epoch 3: 100%|██████████| 513/513 [00:47<00:00, 10.88batch/s, loss_decrease=1.0000028244055756]\n",
      "100%|██████████| 1503/1503 [00:16<00:00, 89.78batch/s]\n"
     ]
    },
    {
     "data": {
      "text/html": [
       "<div>\n",
       "<style scoped>\n",
       "    .dataframe tbody tr th:only-of-type {\n",
       "        vertical-align: middle;\n",
       "    }\n",
       "\n",
       "    .dataframe tbody tr th {\n",
       "        vertical-align: top;\n",
       "    }\n",
       "\n",
       "    .dataframe thead tr th {\n",
       "        text-align: left;\n",
       "    }\n",
       "</style>\n",
       "<table border=\"1\" class=\"dataframe\">\n",
       "  <thead>\n",
       "    <tr>\n",
       "      <th></th>\n",
       "      <th colspan=\"2\" halign=\"left\">All</th>\n",
       "      <th colspan=\"2\" halign=\"left\">In VOC</th>\n",
       "      <th colspan=\"2\" halign=\"left\">Out of VOC</th>\n",
       "    </tr>\n",
       "    <tr>\n",
       "      <th></th>\n",
       "      <th>f1 micro</th>\n",
       "      <th>f1 macro</th>\n",
       "      <th>f1 micro</th>\n",
       "      <th>f1 macro</th>\n",
       "      <th>f1 micro</th>\n",
       "      <th>f1 macro</th>\n",
       "    </tr>\n",
       "  </thead>\n",
       "  <tbody>\n",
       "    <tr>\n",
       "      <th>score</th>\n",
       "      <td>0.73187</td>\n",
       "      <td>0.311611</td>\n",
       "      <td>0.764954</td>\n",
       "      <td>0.381332</td>\n",
       "      <td>0.158537</td>\n",
       "      <td>0.071429</td>\n",
       "    </tr>\n",
       "  </tbody>\n",
       "</table>\n",
       "</div>"
      ],
      "text/plain": [
       "           All              In VOC           Out of VOC          \n",
       "      f1 micro  f1 macro  f1 micro  f1 macro   f1 micro  f1 macro\n",
       "score  0.73187  0.311611  0.764954  0.381332   0.158537  0.071429"
      ]
     },
     "metadata": {},
     "output_type": "display_data"
    },
    {
     "name": "stdout",
     "output_type": "stream",
     "text": [
      "EarlyStopping counter: 1 out of 7\n"
     ]
    },
    {
     "name": "stderr",
     "output_type": "stream",
     "text": [
      "Epoch 4: 100%|██████████| 513/513 [00:45<00:00, 11.18batch/s, loss_decrease=1.0000028244055756]\n",
      "100%|██████████| 1503/1503 [00:15<00:00, 96.64batch/s] \n"
     ]
    },
    {
     "data": {
      "text/html": [
       "<div>\n",
       "<style scoped>\n",
       "    .dataframe tbody tr th:only-of-type {\n",
       "        vertical-align: middle;\n",
       "    }\n",
       "\n",
       "    .dataframe tbody tr th {\n",
       "        vertical-align: top;\n",
       "    }\n",
       "\n",
       "    .dataframe thead tr th {\n",
       "        text-align: left;\n",
       "    }\n",
       "</style>\n",
       "<table border=\"1\" class=\"dataframe\">\n",
       "  <thead>\n",
       "    <tr>\n",
       "      <th></th>\n",
       "      <th colspan=\"2\" halign=\"left\">All</th>\n",
       "      <th colspan=\"2\" halign=\"left\">In VOC</th>\n",
       "      <th colspan=\"2\" halign=\"left\">Out of VOC</th>\n",
       "    </tr>\n",
       "    <tr>\n",
       "      <th></th>\n",
       "      <th>f1 micro</th>\n",
       "      <th>f1 macro</th>\n",
       "      <th>f1 micro</th>\n",
       "      <th>f1 macro</th>\n",
       "      <th>f1 micro</th>\n",
       "      <th>f1 macro</th>\n",
       "    </tr>\n",
       "  </thead>\n",
       "  <tbody>\n",
       "    <tr>\n",
       "      <th>score</th>\n",
       "      <td>0.746507</td>\n",
       "      <td>0.341778</td>\n",
       "      <td>0.780436</td>\n",
       "      <td>0.421984</td>\n",
       "      <td>0.158537</td>\n",
       "      <td>0.068132</td>\n",
       "    </tr>\n",
       "  </tbody>\n",
       "</table>\n",
       "</div>"
      ],
      "text/plain": [
       "            All              In VOC           Out of VOC          \n",
       "       f1 micro  f1 macro  f1 micro  f1 macro   f1 micro  f1 macro\n",
       "score  0.746507  0.341778  0.780436  0.421984   0.158537  0.068132"
      ]
     },
     "metadata": {},
     "output_type": "display_data"
    },
    {
     "name": "stdout",
     "output_type": "stream",
     "text": [
      "Validation metric increased (0.314873 --> 0.341778).  Saving model ...\n"
     ]
    },
    {
     "name": "stderr",
     "output_type": "stream",
     "text": [
      "Epoch 5: 100%|██████████| 513/513 [00:46<00:00, 11.04batch/s, loss_decrease=1.0000029185527028]\n",
      "100%|██████████| 1503/1503 [00:16<00:00, 88.94batch/s] \n"
     ]
    },
    {
     "data": {
      "text/html": [
       "<div>\n",
       "<style scoped>\n",
       "    .dataframe tbody tr th:only-of-type {\n",
       "        vertical-align: middle;\n",
       "    }\n",
       "\n",
       "    .dataframe tbody tr th {\n",
       "        vertical-align: top;\n",
       "    }\n",
       "\n",
       "    .dataframe thead tr th {\n",
       "        text-align: left;\n",
       "    }\n",
       "</style>\n",
       "<table border=\"1\" class=\"dataframe\">\n",
       "  <thead>\n",
       "    <tr>\n",
       "      <th></th>\n",
       "      <th colspan=\"2\" halign=\"left\">All</th>\n",
       "      <th colspan=\"2\" halign=\"left\">In VOC</th>\n",
       "      <th colspan=\"2\" halign=\"left\">Out of VOC</th>\n",
       "    </tr>\n",
       "    <tr>\n",
       "      <th></th>\n",
       "      <th>f1 micro</th>\n",
       "      <th>f1 macro</th>\n",
       "      <th>f1 micro</th>\n",
       "      <th>f1 macro</th>\n",
       "      <th>f1 micro</th>\n",
       "      <th>f1 macro</th>\n",
       "    </tr>\n",
       "  </thead>\n",
       "  <tbody>\n",
       "    <tr>\n",
       "      <th>score</th>\n",
       "      <td>0.754491</td>\n",
       "      <td>0.33069</td>\n",
       "      <td>0.788881</td>\n",
       "      <td>0.408657</td>\n",
       "      <td>0.158537</td>\n",
       "      <td>0.069196</td>\n",
       "    </tr>\n",
       "  </tbody>\n",
       "</table>\n",
       "</div>"
      ],
      "text/plain": [
       "            All             In VOC           Out of VOC          \n",
       "       f1 micro f1 macro  f1 micro  f1 macro   f1 micro  f1 macro\n",
       "score  0.754491  0.33069  0.788881  0.408657   0.158537  0.069196"
      ]
     },
     "metadata": {},
     "output_type": "display_data"
    },
    {
     "name": "stdout",
     "output_type": "stream",
     "text": [
      "EarlyStopping counter: 1 out of 7\n"
     ]
    },
    {
     "name": "stderr",
     "output_type": "stream",
     "text": [
      "Epoch 6: 100%|██████████| 513/513 [00:47<00:00, 10.83batch/s, loss_decrease=1.0000029185527028]\n",
      "100%|██████████| 1503/1503 [00:15<00:00, 95.22batch/s] \n"
     ]
    },
    {
     "data": {
      "text/html": [
       "<div>\n",
       "<style scoped>\n",
       "    .dataframe tbody tr th:only-of-type {\n",
       "        vertical-align: middle;\n",
       "    }\n",
       "\n",
       "    .dataframe tbody tr th {\n",
       "        vertical-align: top;\n",
       "    }\n",
       "\n",
       "    .dataframe thead tr th {\n",
       "        text-align: left;\n",
       "    }\n",
       "</style>\n",
       "<table border=\"1\" class=\"dataframe\">\n",
       "  <thead>\n",
       "    <tr>\n",
       "      <th></th>\n",
       "      <th colspan=\"2\" halign=\"left\">All</th>\n",
       "      <th colspan=\"2\" halign=\"left\">In VOC</th>\n",
       "      <th colspan=\"2\" halign=\"left\">Out of VOC</th>\n",
       "    </tr>\n",
       "    <tr>\n",
       "      <th></th>\n",
       "      <th>f1 micro</th>\n",
       "      <th>f1 macro</th>\n",
       "      <th>f1 micro</th>\n",
       "      <th>f1 macro</th>\n",
       "      <th>f1 micro</th>\n",
       "      <th>f1 macro</th>\n",
       "    </tr>\n",
       "  </thead>\n",
       "  <tbody>\n",
       "    <tr>\n",
       "      <th>score</th>\n",
       "      <td>0.769794</td>\n",
       "      <td>0.345318</td>\n",
       "      <td>0.805067</td>\n",
       "      <td>0.430264</td>\n",
       "      <td>0.158537</td>\n",
       "      <td>0.07672</td>\n",
       "    </tr>\n",
       "  </tbody>\n",
       "</table>\n",
       "</div>"
      ],
      "text/plain": [
       "            All              In VOC           Out of VOC         \n",
       "       f1 micro  f1 macro  f1 micro  f1 macro   f1 micro f1 macro\n",
       "score  0.769794  0.345318  0.805067  0.430264   0.158537  0.07672"
      ]
     },
     "metadata": {},
     "output_type": "display_data"
    },
    {
     "name": "stdout",
     "output_type": "stream",
     "text": [
      "Validation metric increased (0.341778 --> 0.345318).  Saving model ...\n"
     ]
    },
    {
     "name": "stderr",
     "output_type": "stream",
     "text": [
      "Epoch 7: 100%|██████████| 513/513 [00:47<00:00, 10.90batch/s, loss_decrease=1.0000029185527028]\n",
      "100%|██████████| 1503/1503 [00:15<00:00, 98.75batch/s] \n"
     ]
    },
    {
     "data": {
      "text/html": [
       "<div>\n",
       "<style scoped>\n",
       "    .dataframe tbody tr th:only-of-type {\n",
       "        vertical-align: middle;\n",
       "    }\n",
       "\n",
       "    .dataframe tbody tr th {\n",
       "        vertical-align: top;\n",
       "    }\n",
       "\n",
       "    .dataframe thead tr th {\n",
       "        text-align: left;\n",
       "    }\n",
       "</style>\n",
       "<table border=\"1\" class=\"dataframe\">\n",
       "  <thead>\n",
       "    <tr>\n",
       "      <th></th>\n",
       "      <th colspan=\"2\" halign=\"left\">All</th>\n",
       "      <th colspan=\"2\" halign=\"left\">In VOC</th>\n",
       "      <th colspan=\"2\" halign=\"left\">Out of VOC</th>\n",
       "    </tr>\n",
       "    <tr>\n",
       "      <th></th>\n",
       "      <th>f1 micro</th>\n",
       "      <th>f1 macro</th>\n",
       "      <th>f1 micro</th>\n",
       "      <th>f1 macro</th>\n",
       "      <th>f1 micro</th>\n",
       "      <th>f1 macro</th>\n",
       "    </tr>\n",
       "  </thead>\n",
       "  <tbody>\n",
       "    <tr>\n",
       "      <th>score</th>\n",
       "      <td>0.772455</td>\n",
       "      <td>0.357022</td>\n",
       "      <td>0.807882</td>\n",
       "      <td>0.440988</td>\n",
       "      <td>0.158537</td>\n",
       "      <td>0.072009</td>\n",
       "    </tr>\n",
       "  </tbody>\n",
       "</table>\n",
       "</div>"
      ],
      "text/plain": [
       "            All              In VOC           Out of VOC          \n",
       "       f1 micro  f1 macro  f1 micro  f1 macro   f1 micro  f1 macro\n",
       "score  0.772455  0.357022  0.807882  0.440988   0.158537  0.072009"
      ]
     },
     "metadata": {},
     "output_type": "display_data"
    },
    {
     "name": "stdout",
     "output_type": "stream",
     "text": [
      "Validation metric increased (0.345318 --> 0.357022).  Saving model ...\n"
     ]
    },
    {
     "name": "stderr",
     "output_type": "stream",
     "text": [
      "Epoch 8: 100%|██████████| 513/513 [00:45<00:00, 11.27batch/s, loss_decrease=1.0000029185527028]\n",
      "100%|██████████| 1503/1503 [00:15<00:00, 95.83batch/s] \n"
     ]
    },
    {
     "data": {
      "text/html": [
       "<div>\n",
       "<style scoped>\n",
       "    .dataframe tbody tr th:only-of-type {\n",
       "        vertical-align: middle;\n",
       "    }\n",
       "\n",
       "    .dataframe tbody tr th {\n",
       "        vertical-align: top;\n",
       "    }\n",
       "\n",
       "    .dataframe thead tr th {\n",
       "        text-align: left;\n",
       "    }\n",
       "</style>\n",
       "<table border=\"1\" class=\"dataframe\">\n",
       "  <thead>\n",
       "    <tr>\n",
       "      <th></th>\n",
       "      <th colspan=\"2\" halign=\"left\">All</th>\n",
       "      <th colspan=\"2\" halign=\"left\">In VOC</th>\n",
       "      <th colspan=\"2\" halign=\"left\">Out of VOC</th>\n",
       "    </tr>\n",
       "    <tr>\n",
       "      <th></th>\n",
       "      <th>f1 micro</th>\n",
       "      <th>f1 macro</th>\n",
       "      <th>f1 micro</th>\n",
       "      <th>f1 macro</th>\n",
       "      <th>f1 micro</th>\n",
       "      <th>f1 macro</th>\n",
       "    </tr>\n",
       "  </thead>\n",
       "  <tbody>\n",
       "    <tr>\n",
       "      <th>score</th>\n",
       "      <td>0.780439</td>\n",
       "      <td>0.36616</td>\n",
       "      <td>0.816327</td>\n",
       "      <td>0.458239</td>\n",
       "      <td>0.158537</td>\n",
       "      <td>0.070295</td>\n",
       "    </tr>\n",
       "  </tbody>\n",
       "</table>\n",
       "</div>"
      ],
      "text/plain": [
       "            All             In VOC           Out of VOC          \n",
       "       f1 micro f1 macro  f1 micro  f1 macro   f1 micro  f1 macro\n",
       "score  0.780439  0.36616  0.816327  0.458239   0.158537  0.070295"
      ]
     },
     "metadata": {},
     "output_type": "display_data"
    },
    {
     "name": "stdout",
     "output_type": "stream",
     "text": [
      "Validation metric increased (0.357022 --> 0.366160).  Saving model ...\n"
     ]
    },
    {
     "name": "stderr",
     "output_type": "stream",
     "text": [
      "Epoch 9: 100%|██████████| 513/513 [00:44<00:00, 11.43batch/s, loss_decrease=1.0000029185527028]\n",
      "100%|██████████| 1503/1503 [00:15<00:00, 99.33batch/s] \n"
     ]
    },
    {
     "data": {
      "text/html": [
       "<div>\n",
       "<style scoped>\n",
       "    .dataframe tbody tr th:only-of-type {\n",
       "        vertical-align: middle;\n",
       "    }\n",
       "\n",
       "    .dataframe tbody tr th {\n",
       "        vertical-align: top;\n",
       "    }\n",
       "\n",
       "    .dataframe thead tr th {\n",
       "        text-align: left;\n",
       "    }\n",
       "</style>\n",
       "<table border=\"1\" class=\"dataframe\">\n",
       "  <thead>\n",
       "    <tr>\n",
       "      <th></th>\n",
       "      <th colspan=\"2\" halign=\"left\">All</th>\n",
       "      <th colspan=\"2\" halign=\"left\">In VOC</th>\n",
       "      <th colspan=\"2\" halign=\"left\">Out of VOC</th>\n",
       "    </tr>\n",
       "    <tr>\n",
       "      <th></th>\n",
       "      <th>f1 micro</th>\n",
       "      <th>f1 macro</th>\n",
       "      <th>f1 micro</th>\n",
       "      <th>f1 macro</th>\n",
       "      <th>f1 micro</th>\n",
       "      <th>f1 macro</th>\n",
       "    </tr>\n",
       "  </thead>\n",
       "  <tbody>\n",
       "    <tr>\n",
       "      <th>score</th>\n",
       "      <td>0.780439</td>\n",
       "      <td>0.366845</td>\n",
       "      <td>0.816327</td>\n",
       "      <td>0.458932</td>\n",
       "      <td>0.158537</td>\n",
       "      <td>0.07672</td>\n",
       "    </tr>\n",
       "  </tbody>\n",
       "</table>\n",
       "</div>"
      ],
      "text/plain": [
       "            All              In VOC           Out of VOC         \n",
       "       f1 micro  f1 macro  f1 micro  f1 macro   f1 micro f1 macro\n",
       "score  0.780439  0.366845  0.816327  0.458932   0.158537  0.07672"
      ]
     },
     "metadata": {},
     "output_type": "display_data"
    },
    {
     "name": "stdout",
     "output_type": "stream",
     "text": [
      "Validation metric increased (0.366160 --> 0.366845).  Saving model ...\n"
     ]
    },
    {
     "name": "stderr",
     "output_type": "stream",
     "text": [
      "Epoch 10: 100%|██████████| 513/513 [00:47<00:00, 10.81batch/s, loss_decrease=1.0000029185527028]\n",
      "100%|██████████| 1503/1503 [00:15<00:00, 96.31batch/s] \n"
     ]
    },
    {
     "data": {
      "text/html": [
       "<div>\n",
       "<style scoped>\n",
       "    .dataframe tbody tr th:only-of-type {\n",
       "        vertical-align: middle;\n",
       "    }\n",
       "\n",
       "    .dataframe tbody tr th {\n",
       "        vertical-align: top;\n",
       "    }\n",
       "\n",
       "    .dataframe thead tr th {\n",
       "        text-align: left;\n",
       "    }\n",
       "</style>\n",
       "<table border=\"1\" class=\"dataframe\">\n",
       "  <thead>\n",
       "    <tr>\n",
       "      <th></th>\n",
       "      <th colspan=\"2\" halign=\"left\">All</th>\n",
       "      <th colspan=\"2\" halign=\"left\">In VOC</th>\n",
       "      <th colspan=\"2\" halign=\"left\">Out of VOC</th>\n",
       "    </tr>\n",
       "    <tr>\n",
       "      <th></th>\n",
       "      <th>f1 micro</th>\n",
       "      <th>f1 macro</th>\n",
       "      <th>f1 micro</th>\n",
       "      <th>f1 macro</th>\n",
       "      <th>f1 micro</th>\n",
       "      <th>f1 macro</th>\n",
       "    </tr>\n",
       "  </thead>\n",
       "  <tbody>\n",
       "    <tr>\n",
       "      <th>score</th>\n",
       "      <td>0.779108</td>\n",
       "      <td>0.365241</td>\n",
       "      <td>0.814919</td>\n",
       "      <td>0.453416</td>\n",
       "      <td>0.158537</td>\n",
       "      <td>0.07672</td>\n",
       "    </tr>\n",
       "  </tbody>\n",
       "</table>\n",
       "</div>"
      ],
      "text/plain": [
       "            All              In VOC           Out of VOC         \n",
       "       f1 micro  f1 macro  f1 micro  f1 macro   f1 micro f1 macro\n",
       "score  0.779108  0.365241  0.814919  0.453416   0.158537  0.07672"
      ]
     },
     "metadata": {},
     "output_type": "display_data"
    },
    {
     "name": "stdout",
     "output_type": "stream",
     "text": [
      "EarlyStopping counter: 1 out of 7\n"
     ]
    },
    {
     "name": "stderr",
     "output_type": "stream",
     "text": [
      "Epoch 11: 100%|██████████| 513/513 [00:46<00:00, 11.02batch/s, loss_decrease=1.0000029185527028]\n",
      "100%|██████████| 1503/1503 [00:15<00:00, 97.65batch/s] \n"
     ]
    },
    {
     "data": {
      "text/html": [
       "<div>\n",
       "<style scoped>\n",
       "    .dataframe tbody tr th:only-of-type {\n",
       "        vertical-align: middle;\n",
       "    }\n",
       "\n",
       "    .dataframe tbody tr th {\n",
       "        vertical-align: top;\n",
       "    }\n",
       "\n",
       "    .dataframe thead tr th {\n",
       "        text-align: left;\n",
       "    }\n",
       "</style>\n",
       "<table border=\"1\" class=\"dataframe\">\n",
       "  <thead>\n",
       "    <tr>\n",
       "      <th></th>\n",
       "      <th colspan=\"2\" halign=\"left\">All</th>\n",
       "      <th colspan=\"2\" halign=\"left\">In VOC</th>\n",
       "      <th colspan=\"2\" halign=\"left\">Out of VOC</th>\n",
       "    </tr>\n",
       "    <tr>\n",
       "      <th></th>\n",
       "      <th>f1 micro</th>\n",
       "      <th>f1 macro</th>\n",
       "      <th>f1 micro</th>\n",
       "      <th>f1 macro</th>\n",
       "      <th>f1 micro</th>\n",
       "      <th>f1 macro</th>\n",
       "    </tr>\n",
       "  </thead>\n",
       "  <tbody>\n",
       "    <tr>\n",
       "      <th>score</th>\n",
       "      <td>0.770459</td>\n",
       "      <td>0.356998</td>\n",
       "      <td>0.806474</td>\n",
       "      <td>0.446973</td>\n",
       "      <td>0.146341</td>\n",
       "      <td>0.067708</td>\n",
       "    </tr>\n",
       "  </tbody>\n",
       "</table>\n",
       "</div>"
      ],
      "text/plain": [
       "            All              In VOC           Out of VOC          \n",
       "       f1 micro  f1 macro  f1 micro  f1 macro   f1 micro  f1 macro\n",
       "score  0.770459  0.356998  0.806474  0.446973   0.146341  0.067708"
      ]
     },
     "metadata": {},
     "output_type": "display_data"
    },
    {
     "name": "stdout",
     "output_type": "stream",
     "text": [
      "EarlyStopping counter: 2 out of 7\n"
     ]
    },
    {
     "name": "stderr",
     "output_type": "stream",
     "text": [
      "Epoch 12: 100%|██████████| 513/513 [00:45<00:00, 11.16batch/s, loss_decrease=1.0000029185527028]\n",
      "100%|██████████| 1503/1503 [00:15<00:00, 98.35batch/s] \n"
     ]
    },
    {
     "data": {
      "text/html": [
       "<div>\n",
       "<style scoped>\n",
       "    .dataframe tbody tr th:only-of-type {\n",
       "        vertical-align: middle;\n",
       "    }\n",
       "\n",
       "    .dataframe tbody tr th {\n",
       "        vertical-align: top;\n",
       "    }\n",
       "\n",
       "    .dataframe thead tr th {\n",
       "        text-align: left;\n",
       "    }\n",
       "</style>\n",
       "<table border=\"1\" class=\"dataframe\">\n",
       "  <thead>\n",
       "    <tr>\n",
       "      <th></th>\n",
       "      <th colspan=\"2\" halign=\"left\">All</th>\n",
       "      <th colspan=\"2\" halign=\"left\">In VOC</th>\n",
       "      <th colspan=\"2\" halign=\"left\">Out of VOC</th>\n",
       "    </tr>\n",
       "    <tr>\n",
       "      <th></th>\n",
       "      <th>f1 micro</th>\n",
       "      <th>f1 macro</th>\n",
       "      <th>f1 micro</th>\n",
       "      <th>f1 macro</th>\n",
       "      <th>f1 micro</th>\n",
       "      <th>f1 macro</th>\n",
       "    </tr>\n",
       "  </thead>\n",
       "  <tbody>\n",
       "    <tr>\n",
       "      <th>score</th>\n",
       "      <td>0.768463</td>\n",
       "      <td>0.340615</td>\n",
       "      <td>0.805067</td>\n",
       "      <td>0.428438</td>\n",
       "      <td>0.134146</td>\n",
       "      <td>0.058081</td>\n",
       "    </tr>\n",
       "  </tbody>\n",
       "</table>\n",
       "</div>"
      ],
      "text/plain": [
       "            All              In VOC           Out of VOC          \n",
       "       f1 micro  f1 macro  f1 micro  f1 macro   f1 micro  f1 macro\n",
       "score  0.768463  0.340615  0.805067  0.428438   0.134146  0.058081"
      ]
     },
     "metadata": {},
     "output_type": "display_data"
    },
    {
     "name": "stdout",
     "output_type": "stream",
     "text": [
      "EarlyStopping counter: 3 out of 7\n"
     ]
    },
    {
     "name": "stderr",
     "output_type": "stream",
     "text": [
      "Epoch 13: 100%|██████████| 513/513 [00:42<00:00, 12.11batch/s, loss_decrease=1.0000029185527028]\n",
      "100%|██████████| 1503/1503 [00:15<00:00, 96.03batch/s] \n"
     ]
    },
    {
     "data": {
      "text/html": [
       "<div>\n",
       "<style scoped>\n",
       "    .dataframe tbody tr th:only-of-type {\n",
       "        vertical-align: middle;\n",
       "    }\n",
       "\n",
       "    .dataframe tbody tr th {\n",
       "        vertical-align: top;\n",
       "    }\n",
       "\n",
       "    .dataframe thead tr th {\n",
       "        text-align: left;\n",
       "    }\n",
       "</style>\n",
       "<table border=\"1\" class=\"dataframe\">\n",
       "  <thead>\n",
       "    <tr>\n",
       "      <th></th>\n",
       "      <th colspan=\"2\" halign=\"left\">All</th>\n",
       "      <th colspan=\"2\" halign=\"left\">In VOC</th>\n",
       "      <th colspan=\"2\" halign=\"left\">Out of VOC</th>\n",
       "    </tr>\n",
       "    <tr>\n",
       "      <th></th>\n",
       "      <th>f1 micro</th>\n",
       "      <th>f1 macro</th>\n",
       "      <th>f1 micro</th>\n",
       "      <th>f1 macro</th>\n",
       "      <th>f1 micro</th>\n",
       "      <th>f1 macro</th>\n",
       "    </tr>\n",
       "  </thead>\n",
       "  <tbody>\n",
       "    <tr>\n",
       "      <th>score</th>\n",
       "      <td>0.77179</td>\n",
       "      <td>0.349417</td>\n",
       "      <td>0.808586</td>\n",
       "      <td>0.438139</td>\n",
       "      <td>0.134146</td>\n",
       "      <td>0.053156</td>\n",
       "    </tr>\n",
       "  </tbody>\n",
       "</table>\n",
       "</div>"
      ],
      "text/plain": [
       "           All              In VOC           Out of VOC          \n",
       "      f1 micro  f1 macro  f1 micro  f1 macro   f1 micro  f1 macro\n",
       "score  0.77179  0.349417  0.808586  0.438139   0.134146  0.053156"
      ]
     },
     "metadata": {},
     "output_type": "display_data"
    },
    {
     "name": "stdout",
     "output_type": "stream",
     "text": [
      "EarlyStopping counter: 4 out of 7\n"
     ]
    },
    {
     "name": "stderr",
     "output_type": "stream",
     "text": [
      "Epoch 14: 100%|██████████| 513/513 [00:46<00:00, 10.94batch/s, loss_decrease=1.0000029185527028]\n",
      "100%|██████████| 1503/1503 [00:16<00:00, 91.53batch/s] \n"
     ]
    },
    {
     "data": {
      "text/html": [
       "<div>\n",
       "<style scoped>\n",
       "    .dataframe tbody tr th:only-of-type {\n",
       "        vertical-align: middle;\n",
       "    }\n",
       "\n",
       "    .dataframe tbody tr th {\n",
       "        vertical-align: top;\n",
       "    }\n",
       "\n",
       "    .dataframe thead tr th {\n",
       "        text-align: left;\n",
       "    }\n",
       "</style>\n",
       "<table border=\"1\" class=\"dataframe\">\n",
       "  <thead>\n",
       "    <tr>\n",
       "      <th></th>\n",
       "      <th colspan=\"2\" halign=\"left\">All</th>\n",
       "      <th colspan=\"2\" halign=\"left\">In VOC</th>\n",
       "      <th colspan=\"2\" halign=\"left\">Out of VOC</th>\n",
       "    </tr>\n",
       "    <tr>\n",
       "      <th></th>\n",
       "      <th>f1 micro</th>\n",
       "      <th>f1 macro</th>\n",
       "      <th>f1 micro</th>\n",
       "      <th>f1 macro</th>\n",
       "      <th>f1 micro</th>\n",
       "      <th>f1 macro</th>\n",
       "    </tr>\n",
       "  </thead>\n",
       "  <tbody>\n",
       "    <tr>\n",
       "      <th>score</th>\n",
       "      <td>0.775782</td>\n",
       "      <td>0.350769</td>\n",
       "      <td>0.812104</td>\n",
       "      <td>0.438787</td>\n",
       "      <td>0.146341</td>\n",
       "      <td>0.067708</td>\n",
       "    </tr>\n",
       "  </tbody>\n",
       "</table>\n",
       "</div>"
      ],
      "text/plain": [
       "            All              In VOC           Out of VOC          \n",
       "       f1 micro  f1 macro  f1 micro  f1 macro   f1 micro  f1 macro\n",
       "score  0.775782  0.350769  0.812104  0.438787   0.146341  0.067708"
      ]
     },
     "metadata": {},
     "output_type": "display_data"
    },
    {
     "name": "stdout",
     "output_type": "stream",
     "text": [
      "EarlyStopping counter: 5 out of 7\n"
     ]
    },
    {
     "name": "stderr",
     "output_type": "stream",
     "text": [
      "Epoch 15: 100%|██████████| 513/513 [00:47<00:00, 10.87batch/s, loss_decrease=1.0000029185527028]\n",
      "100%|██████████| 1503/1503 [00:15<00:00, 99.31batch/s] \n"
     ]
    },
    {
     "data": {
      "text/html": [
       "<div>\n",
       "<style scoped>\n",
       "    .dataframe tbody tr th:only-of-type {\n",
       "        vertical-align: middle;\n",
       "    }\n",
       "\n",
       "    .dataframe tbody tr th {\n",
       "        vertical-align: top;\n",
       "    }\n",
       "\n",
       "    .dataframe thead tr th {\n",
       "        text-align: left;\n",
       "    }\n",
       "</style>\n",
       "<table border=\"1\" class=\"dataframe\">\n",
       "  <thead>\n",
       "    <tr>\n",
       "      <th></th>\n",
       "      <th colspan=\"2\" halign=\"left\">All</th>\n",
       "      <th colspan=\"2\" halign=\"left\">In VOC</th>\n",
       "      <th colspan=\"2\" halign=\"left\">Out of VOC</th>\n",
       "    </tr>\n",
       "    <tr>\n",
       "      <th></th>\n",
       "      <th>f1 micro</th>\n",
       "      <th>f1 macro</th>\n",
       "      <th>f1 micro</th>\n",
       "      <th>f1 macro</th>\n",
       "      <th>f1 micro</th>\n",
       "      <th>f1 macro</th>\n",
       "    </tr>\n",
       "  </thead>\n",
       "  <tbody>\n",
       "    <tr>\n",
       "      <th>score</th>\n",
       "      <td>0.780439</td>\n",
       "      <td>0.362049</td>\n",
       "      <td>0.817734</td>\n",
       "      <td>0.457406</td>\n",
       "      <td>0.134146</td>\n",
       "      <td>0.058974</td>\n",
       "    </tr>\n",
       "  </tbody>\n",
       "</table>\n",
       "</div>"
      ],
      "text/plain": [
       "            All              In VOC           Out of VOC          \n",
       "       f1 micro  f1 macro  f1 micro  f1 macro   f1 micro  f1 macro\n",
       "score  0.780439  0.362049  0.817734  0.457406   0.134146  0.058974"
      ]
     },
     "metadata": {},
     "output_type": "display_data"
    },
    {
     "name": "stdout",
     "output_type": "stream",
     "text": [
      "EarlyStopping counter: 6 out of 7\n"
     ]
    },
    {
     "name": "stderr",
     "output_type": "stream",
     "text": [
      "Epoch 16: 100%|██████████| 513/513 [00:46<00:00, 10.93batch/s, loss_decrease=1.0000029185527028]\n",
      "100%|██████████| 1503/1503 [00:16<00:00, 92.78batch/s] \n"
     ]
    },
    {
     "data": {
      "text/html": [
       "<div>\n",
       "<style scoped>\n",
       "    .dataframe tbody tr th:only-of-type {\n",
       "        vertical-align: middle;\n",
       "    }\n",
       "\n",
       "    .dataframe tbody tr th {\n",
       "        vertical-align: top;\n",
       "    }\n",
       "\n",
       "    .dataframe thead tr th {\n",
       "        text-align: left;\n",
       "    }\n",
       "</style>\n",
       "<table border=\"1\" class=\"dataframe\">\n",
       "  <thead>\n",
       "    <tr>\n",
       "      <th></th>\n",
       "      <th colspan=\"2\" halign=\"left\">All</th>\n",
       "      <th colspan=\"2\" halign=\"left\">In VOC</th>\n",
       "      <th colspan=\"2\" halign=\"left\">Out of VOC</th>\n",
       "    </tr>\n",
       "    <tr>\n",
       "      <th></th>\n",
       "      <th>f1 micro</th>\n",
       "      <th>f1 macro</th>\n",
       "      <th>f1 micro</th>\n",
       "      <th>f1 macro</th>\n",
       "      <th>f1 micro</th>\n",
       "      <th>f1 macro</th>\n",
       "    </tr>\n",
       "  </thead>\n",
       "  <tbody>\n",
       "    <tr>\n",
       "      <th>score</th>\n",
       "      <td>0.779774</td>\n",
       "      <td>0.359499</td>\n",
       "      <td>0.81703</td>\n",
       "      <td>0.457739</td>\n",
       "      <td>0.134146</td>\n",
       "      <td>0.059432</td>\n",
       "    </tr>\n",
       "  </tbody>\n",
       "</table>\n",
       "</div>"
      ],
      "text/plain": [
       "            All             In VOC           Out of VOC          \n",
       "       f1 micro  f1 macro f1 micro  f1 macro   f1 micro  f1 macro\n",
       "score  0.779774  0.359499  0.81703  0.457739   0.134146  0.059432"
      ]
     },
     "metadata": {},
     "output_type": "display_data"
    },
    {
     "name": "stdout",
     "output_type": "stream",
     "text": [
      "EarlyStopping counter: 7 out of 7\n",
      "Early stopping\n",
      "Evaluating on test dataset\n"
     ]
    },
    {
     "name": "stderr",
     "output_type": "stream",
     "text": [
      "100%|██████████| 2211/2211 [00:22<00:00, 98.04batch/s] \n"
     ]
    },
    {
     "data": {
      "text/html": [
       "<div>\n",
       "<style scoped>\n",
       "    .dataframe tbody tr th:only-of-type {\n",
       "        vertical-align: middle;\n",
       "    }\n",
       "\n",
       "    .dataframe tbody tr th {\n",
       "        vertical-align: top;\n",
       "    }\n",
       "\n",
       "    .dataframe thead tr th {\n",
       "        text-align: left;\n",
       "    }\n",
       "</style>\n",
       "<table border=\"1\" class=\"dataframe\">\n",
       "  <thead>\n",
       "    <tr>\n",
       "      <th></th>\n",
       "      <th colspan=\"2\" halign=\"left\">All</th>\n",
       "      <th colspan=\"2\" halign=\"left\">In VOC</th>\n",
       "      <th colspan=\"2\" halign=\"left\">Out of VOC</th>\n",
       "    </tr>\n",
       "    <tr>\n",
       "      <th></th>\n",
       "      <th>f1 micro</th>\n",
       "      <th>f1 macro</th>\n",
       "      <th>f1 micro</th>\n",
       "      <th>f1 macro</th>\n",
       "      <th>f1 micro</th>\n",
       "      <th>f1 macro</th>\n",
       "    </tr>\n",
       "  </thead>\n",
       "  <tbody>\n",
       "    <tr>\n",
       "      <th>score</th>\n",
       "      <td>0.76436</td>\n",
       "      <td>0.314414</td>\n",
       "      <td>0.799331</td>\n",
       "      <td>0.383588</td>\n",
       "      <td>0.144068</td>\n",
       "      <td>0.087669</td>\n",
       "    </tr>\n",
       "  </tbody>\n",
       "</table>\n",
       "</div>"
      ],
      "text/plain": [
       "           All              In VOC           Out of VOC          \n",
       "      f1 micro  f1 macro  f1 micro  f1 macro   f1 micro  f1 macro\n",
       "score  0.76436  0.314414  0.799331  0.383588   0.144068  0.087669"
      ]
     },
     "metadata": {},
     "output_type": "display_data"
    },
    {
     "name": "stdout",
     "output_type": "stream",
     "text": [
      "Сплит 2\n"
     ]
    },
    {
     "name": "stderr",
     "output_type": "stream",
     "text": [
      "Epoch 1: 100%|██████████| 502/502 [00:44<00:00, 11.18batch/s, loss_decrease=1.000003295137977] \n",
      "100%|██████████| 1445/1445 [00:15<00:00, 95.41batch/s] \n"
     ]
    },
    {
     "data": {
      "text/html": [
       "<div>\n",
       "<style scoped>\n",
       "    .dataframe tbody tr th:only-of-type {\n",
       "        vertical-align: middle;\n",
       "    }\n",
       "\n",
       "    .dataframe tbody tr th {\n",
       "        vertical-align: top;\n",
       "    }\n",
       "\n",
       "    .dataframe thead tr th {\n",
       "        text-align: left;\n",
       "    }\n",
       "</style>\n",
       "<table border=\"1\" class=\"dataframe\">\n",
       "  <thead>\n",
       "    <tr>\n",
       "      <th></th>\n",
       "      <th colspan=\"2\" halign=\"left\">All</th>\n",
       "      <th colspan=\"2\" halign=\"left\">In VOC</th>\n",
       "      <th colspan=\"2\" halign=\"left\">Out of VOC</th>\n",
       "    </tr>\n",
       "    <tr>\n",
       "      <th></th>\n",
       "      <th>f1 micro</th>\n",
       "      <th>f1 macro</th>\n",
       "      <th>f1 micro</th>\n",
       "      <th>f1 macro</th>\n",
       "      <th>f1 micro</th>\n",
       "      <th>f1 macro</th>\n",
       "    </tr>\n",
       "  </thead>\n",
       "  <tbody>\n",
       "    <tr>\n",
       "      <th>score</th>\n",
       "      <td>0.689965</td>\n",
       "      <td>0.287357</td>\n",
       "      <td>0.720147</td>\n",
       "      <td>0.333539</td>\n",
       "      <td>0.175</td>\n",
       "      <td>0.097884</td>\n",
       "    </tr>\n",
       "  </tbody>\n",
       "</table>\n",
       "</div>"
      ],
      "text/plain": [
       "            All              In VOC           Out of VOC          \n",
       "       f1 micro  f1 macro  f1 micro  f1 macro   f1 micro  f1 macro\n",
       "score  0.689965  0.287357  0.720147  0.333539      0.175  0.097884"
      ]
     },
     "metadata": {},
     "output_type": "display_data"
    },
    {
     "name": "stdout",
     "output_type": "stream",
     "text": [
      "Validation metric increased (-inf --> 0.287357).  Saving model ...\n"
     ]
    },
    {
     "name": "stderr",
     "output_type": "stream",
     "text": [
      "Epoch 2: 100%|██████████| 502/502 [00:45<00:00, 11.10batch/s, loss_decrease=1.000003295137977] \n",
      "100%|██████████| 1445/1445 [00:15<00:00, 95.49batch/s] \n"
     ]
    },
    {
     "data": {
      "text/html": [
       "<div>\n",
       "<style scoped>\n",
       "    .dataframe tbody tr th:only-of-type {\n",
       "        vertical-align: middle;\n",
       "    }\n",
       "\n",
       "    .dataframe tbody tr th {\n",
       "        vertical-align: top;\n",
       "    }\n",
       "\n",
       "    .dataframe thead tr th {\n",
       "        text-align: left;\n",
       "    }\n",
       "</style>\n",
       "<table border=\"1\" class=\"dataframe\">\n",
       "  <thead>\n",
       "    <tr>\n",
       "      <th></th>\n",
       "      <th colspan=\"2\" halign=\"left\">All</th>\n",
       "      <th colspan=\"2\" halign=\"left\">In VOC</th>\n",
       "      <th colspan=\"2\" halign=\"left\">Out of VOC</th>\n",
       "    </tr>\n",
       "    <tr>\n",
       "      <th></th>\n",
       "      <th>f1 micro</th>\n",
       "      <th>f1 macro</th>\n",
       "      <th>f1 micro</th>\n",
       "      <th>f1 macro</th>\n",
       "      <th>f1 micro</th>\n",
       "      <th>f1 macro</th>\n",
       "    </tr>\n",
       "  </thead>\n",
       "  <tbody>\n",
       "    <tr>\n",
       "      <th>score</th>\n",
       "      <td>0.714187</td>\n",
       "      <td>0.318367</td>\n",
       "      <td>0.745788</td>\n",
       "      <td>0.372822</td>\n",
       "      <td>0.175</td>\n",
       "      <td>0.100529</td>\n",
       "    </tr>\n",
       "  </tbody>\n",
       "</table>\n",
       "</div>"
      ],
      "text/plain": [
       "            All              In VOC           Out of VOC          \n",
       "       f1 micro  f1 macro  f1 micro  f1 macro   f1 micro  f1 macro\n",
       "score  0.714187  0.318367  0.745788  0.372822      0.175  0.100529"
      ]
     },
     "metadata": {},
     "output_type": "display_data"
    },
    {
     "name": "stdout",
     "output_type": "stream",
     "text": [
      "Validation metric increased (0.287357 --> 0.318367).  Saving model ...\n"
     ]
    },
    {
     "name": "stderr",
     "output_type": "stream",
     "text": [
      "Epoch 3: 100%|██████████| 502/502 [00:46<00:00, 10.76batch/s, loss_decrease=1.0000033892850952]\n",
      "100%|██████████| 1445/1445 [00:15<00:00, 96.19batch/s] \n"
     ]
    },
    {
     "data": {
      "text/html": [
       "<div>\n",
       "<style scoped>\n",
       "    .dataframe tbody tr th:only-of-type {\n",
       "        vertical-align: middle;\n",
       "    }\n",
       "\n",
       "    .dataframe tbody tr th {\n",
       "        vertical-align: top;\n",
       "    }\n",
       "\n",
       "    .dataframe thead tr th {\n",
       "        text-align: left;\n",
       "    }\n",
       "</style>\n",
       "<table border=\"1\" class=\"dataframe\">\n",
       "  <thead>\n",
       "    <tr>\n",
       "      <th></th>\n",
       "      <th colspan=\"2\" halign=\"left\">All</th>\n",
       "      <th colspan=\"2\" halign=\"left\">In VOC</th>\n",
       "      <th colspan=\"2\" halign=\"left\">Out of VOC</th>\n",
       "    </tr>\n",
       "    <tr>\n",
       "      <th></th>\n",
       "      <th>f1 micro</th>\n",
       "      <th>f1 macro</th>\n",
       "      <th>f1 micro</th>\n",
       "      <th>f1 macro</th>\n",
       "      <th>f1 micro</th>\n",
       "      <th>f1 macro</th>\n",
       "    </tr>\n",
       "  </thead>\n",
       "  <tbody>\n",
       "    <tr>\n",
       "      <th>score</th>\n",
       "      <td>0.708651</td>\n",
       "      <td>0.30839</td>\n",
       "      <td>0.740659</td>\n",
       "      <td>0.36909</td>\n",
       "      <td>0.1625</td>\n",
       "      <td>0.096419</td>\n",
       "    </tr>\n",
       "  </tbody>\n",
       "</table>\n",
       "</div>"
      ],
      "text/plain": [
       "            All             In VOC          Out of VOC          \n",
       "       f1 micro f1 macro  f1 micro f1 macro   f1 micro  f1 macro\n",
       "score  0.708651  0.30839  0.740659  0.36909     0.1625  0.096419"
      ]
     },
     "metadata": {},
     "output_type": "display_data"
    },
    {
     "name": "stdout",
     "output_type": "stream",
     "text": [
      "EarlyStopping counter: 1 out of 7\n"
     ]
    },
    {
     "name": "stderr",
     "output_type": "stream",
     "text": [
      "Epoch 4: 100%|██████████| 502/502 [00:44<00:00, 11.21batch/s, loss_decrease=1.0000033892850952]\n",
      "100%|██████████| 1445/1445 [00:14<00:00, 97.75batch/s] \n"
     ]
    },
    {
     "data": {
      "text/html": [
       "<div>\n",
       "<style scoped>\n",
       "    .dataframe tbody tr th:only-of-type {\n",
       "        vertical-align: middle;\n",
       "    }\n",
       "\n",
       "    .dataframe tbody tr th {\n",
       "        vertical-align: top;\n",
       "    }\n",
       "\n",
       "    .dataframe thead tr th {\n",
       "        text-align: left;\n",
       "    }\n",
       "</style>\n",
       "<table border=\"1\" class=\"dataframe\">\n",
       "  <thead>\n",
       "    <tr>\n",
       "      <th></th>\n",
       "      <th colspan=\"2\" halign=\"left\">All</th>\n",
       "      <th colspan=\"2\" halign=\"left\">In VOC</th>\n",
       "      <th colspan=\"2\" halign=\"left\">Out of VOC</th>\n",
       "    </tr>\n",
       "    <tr>\n",
       "      <th></th>\n",
       "      <th>f1 micro</th>\n",
       "      <th>f1 macro</th>\n",
       "      <th>f1 micro</th>\n",
       "      <th>f1 macro</th>\n",
       "      <th>f1 micro</th>\n",
       "      <th>f1 macro</th>\n",
       "    </tr>\n",
       "  </thead>\n",
       "  <tbody>\n",
       "    <tr>\n",
       "      <th>score</th>\n",
       "      <td>0.72526</td>\n",
       "      <td>0.319931</td>\n",
       "      <td>0.76044</td>\n",
       "      <td>0.384707</td>\n",
       "      <td>0.125</td>\n",
       "      <td>0.07672</td>\n",
       "    </tr>\n",
       "  </tbody>\n",
       "</table>\n",
       "</div>"
      ],
      "text/plain": [
       "           All             In VOC           Out of VOC         \n",
       "      f1 micro  f1 macro f1 micro  f1 macro   f1 micro f1 macro\n",
       "score  0.72526  0.319931  0.76044  0.384707      0.125  0.07672"
      ]
     },
     "metadata": {},
     "output_type": "display_data"
    },
    {
     "name": "stdout",
     "output_type": "stream",
     "text": [
      "Validation metric increased (0.318367 --> 0.319931).  Saving model ...\n"
     ]
    },
    {
     "name": "stderr",
     "output_type": "stream",
     "text": [
      "Epoch 5: 100%|██████████| 502/502 [00:45<00:00, 11.09batch/s, loss_decrease=1.000003295137977] \n",
      "100%|██████████| 1445/1445 [00:14<00:00, 97.39batch/s] \n"
     ]
    },
    {
     "data": {
      "text/html": [
       "<div>\n",
       "<style scoped>\n",
       "    .dataframe tbody tr th:only-of-type {\n",
       "        vertical-align: middle;\n",
       "    }\n",
       "\n",
       "    .dataframe tbody tr th {\n",
       "        vertical-align: top;\n",
       "    }\n",
       "\n",
       "    .dataframe thead tr th {\n",
       "        text-align: left;\n",
       "    }\n",
       "</style>\n",
       "<table border=\"1\" class=\"dataframe\">\n",
       "  <thead>\n",
       "    <tr>\n",
       "      <th></th>\n",
       "      <th colspan=\"2\" halign=\"left\">All</th>\n",
       "      <th colspan=\"2\" halign=\"left\">In VOC</th>\n",
       "      <th colspan=\"2\" halign=\"left\">Out of VOC</th>\n",
       "    </tr>\n",
       "    <tr>\n",
       "      <th></th>\n",
       "      <th>f1 micro</th>\n",
       "      <th>f1 macro</th>\n",
       "      <th>f1 micro</th>\n",
       "      <th>f1 macro</th>\n",
       "      <th>f1 micro</th>\n",
       "      <th>f1 macro</th>\n",
       "    </tr>\n",
       "  </thead>\n",
       "  <tbody>\n",
       "    <tr>\n",
       "      <th>score</th>\n",
       "      <td>0.734256</td>\n",
       "      <td>0.325338</td>\n",
       "      <td>0.768498</td>\n",
       "      <td>0.395833</td>\n",
       "      <td>0.15</td>\n",
       "      <td>0.091146</td>\n",
       "    </tr>\n",
       "  </tbody>\n",
       "</table>\n",
       "</div>"
      ],
      "text/plain": [
       "            All              In VOC           Out of VOC          \n",
       "       f1 micro  f1 macro  f1 micro  f1 macro   f1 micro  f1 macro\n",
       "score  0.734256  0.325338  0.768498  0.395833       0.15  0.091146"
      ]
     },
     "metadata": {},
     "output_type": "display_data"
    },
    {
     "name": "stdout",
     "output_type": "stream",
     "text": [
      "Validation metric increased (0.319931 --> 0.325338).  Saving model ...\n"
     ]
    },
    {
     "name": "stderr",
     "output_type": "stream",
     "text": [
      "Epoch 6: 100%|██████████| 502/502 [00:44<00:00, 11.26batch/s, loss_decrease=1.0000033892850952]\n",
      "100%|██████████| 1445/1445 [00:15<00:00, 94.30batch/s] \n"
     ]
    },
    {
     "data": {
      "text/html": [
       "<div>\n",
       "<style scoped>\n",
       "    .dataframe tbody tr th:only-of-type {\n",
       "        vertical-align: middle;\n",
       "    }\n",
       "\n",
       "    .dataframe tbody tr th {\n",
       "        vertical-align: top;\n",
       "    }\n",
       "\n",
       "    .dataframe thead tr th {\n",
       "        text-align: left;\n",
       "    }\n",
       "</style>\n",
       "<table border=\"1\" class=\"dataframe\">\n",
       "  <thead>\n",
       "    <tr>\n",
       "      <th></th>\n",
       "      <th colspan=\"2\" halign=\"left\">All</th>\n",
       "      <th colspan=\"2\" halign=\"left\">In VOC</th>\n",
       "      <th colspan=\"2\" halign=\"left\">Out of VOC</th>\n",
       "    </tr>\n",
       "    <tr>\n",
       "      <th></th>\n",
       "      <th>f1 micro</th>\n",
       "      <th>f1 macro</th>\n",
       "      <th>f1 micro</th>\n",
       "      <th>f1 macro</th>\n",
       "      <th>f1 micro</th>\n",
       "      <th>f1 macro</th>\n",
       "    </tr>\n",
       "  </thead>\n",
       "  <tbody>\n",
       "    <tr>\n",
       "      <th>score</th>\n",
       "      <td>0.750173</td>\n",
       "      <td>0.341536</td>\n",
       "      <td>0.786081</td>\n",
       "      <td>0.416321</td>\n",
       "      <td>0.1375</td>\n",
       "      <td>0.082687</td>\n",
       "    </tr>\n",
       "  </tbody>\n",
       "</table>\n",
       "</div>"
      ],
      "text/plain": [
       "            All              In VOC           Out of VOC          \n",
       "       f1 micro  f1 macro  f1 micro  f1 macro   f1 micro  f1 macro\n",
       "score  0.750173  0.341536  0.786081  0.416321     0.1375  0.082687"
      ]
     },
     "metadata": {},
     "output_type": "display_data"
    },
    {
     "name": "stdout",
     "output_type": "stream",
     "text": [
      "Validation metric increased (0.325338 --> 0.341536).  Saving model ...\n"
     ]
    },
    {
     "name": "stderr",
     "output_type": "stream",
     "text": [
      "Epoch 7: 100%|██████████| 502/502 [00:44<00:00, 11.28batch/s, loss_decrease=1.0000033892850952]\n",
      "100%|██████████| 1445/1445 [00:14<00:00, 99.42batch/s] \n"
     ]
    },
    {
     "data": {
      "text/html": [
       "<div>\n",
       "<style scoped>\n",
       "    .dataframe tbody tr th:only-of-type {\n",
       "        vertical-align: middle;\n",
       "    }\n",
       "\n",
       "    .dataframe tbody tr th {\n",
       "        vertical-align: top;\n",
       "    }\n",
       "\n",
       "    .dataframe thead tr th {\n",
       "        text-align: left;\n",
       "    }\n",
       "</style>\n",
       "<table border=\"1\" class=\"dataframe\">\n",
       "  <thead>\n",
       "    <tr>\n",
       "      <th></th>\n",
       "      <th colspan=\"2\" halign=\"left\">All</th>\n",
       "      <th colspan=\"2\" halign=\"left\">In VOC</th>\n",
       "      <th colspan=\"2\" halign=\"left\">Out of VOC</th>\n",
       "    </tr>\n",
       "    <tr>\n",
       "      <th></th>\n",
       "      <th>f1 micro</th>\n",
       "      <th>f1 macro</th>\n",
       "      <th>f1 micro</th>\n",
       "      <th>f1 macro</th>\n",
       "      <th>f1 micro</th>\n",
       "      <th>f1 macro</th>\n",
       "    </tr>\n",
       "  </thead>\n",
       "  <tbody>\n",
       "    <tr>\n",
       "      <th>score</th>\n",
       "      <td>0.756401</td>\n",
       "      <td>0.33898</td>\n",
       "      <td>0.792674</td>\n",
       "      <td>0.418321</td>\n",
       "      <td>0.1375</td>\n",
       "      <td>0.084656</td>\n",
       "    </tr>\n",
       "  </tbody>\n",
       "</table>\n",
       "</div>"
      ],
      "text/plain": [
       "            All             In VOC           Out of VOC          \n",
       "       f1 micro f1 macro  f1 micro  f1 macro   f1 micro  f1 macro\n",
       "score  0.756401  0.33898  0.792674  0.418321     0.1375  0.084656"
      ]
     },
     "metadata": {},
     "output_type": "display_data"
    },
    {
     "name": "stdout",
     "output_type": "stream",
     "text": [
      "EarlyStopping counter: 1 out of 7\n"
     ]
    },
    {
     "name": "stderr",
     "output_type": "stream",
     "text": [
      "Epoch 8: 100%|██████████| 502/502 [00:45<00:00, 11.08batch/s, loss_decrease=1.0000033892850952]\n",
      "100%|██████████| 1445/1445 [00:15<00:00, 93.15batch/s] \n"
     ]
    },
    {
     "data": {
      "text/html": [
       "<div>\n",
       "<style scoped>\n",
       "    .dataframe tbody tr th:only-of-type {\n",
       "        vertical-align: middle;\n",
       "    }\n",
       "\n",
       "    .dataframe tbody tr th {\n",
       "        vertical-align: top;\n",
       "    }\n",
       "\n",
       "    .dataframe thead tr th {\n",
       "        text-align: left;\n",
       "    }\n",
       "</style>\n",
       "<table border=\"1\" class=\"dataframe\">\n",
       "  <thead>\n",
       "    <tr>\n",
       "      <th></th>\n",
       "      <th colspan=\"2\" halign=\"left\">All</th>\n",
       "      <th colspan=\"2\" halign=\"left\">In VOC</th>\n",
       "      <th colspan=\"2\" halign=\"left\">Out of VOC</th>\n",
       "    </tr>\n",
       "    <tr>\n",
       "      <th></th>\n",
       "      <th>f1 micro</th>\n",
       "      <th>f1 macro</th>\n",
       "      <th>f1 micro</th>\n",
       "      <th>f1 macro</th>\n",
       "      <th>f1 micro</th>\n",
       "      <th>f1 macro</th>\n",
       "    </tr>\n",
       "  </thead>\n",
       "  <tbody>\n",
       "    <tr>\n",
       "      <th>score</th>\n",
       "      <td>0.767474</td>\n",
       "      <td>0.363726</td>\n",
       "      <td>0.804396</td>\n",
       "      <td>0.450505</td>\n",
       "      <td>0.1375</td>\n",
       "      <td>0.084656</td>\n",
       "    </tr>\n",
       "  </tbody>\n",
       "</table>\n",
       "</div>"
      ],
      "text/plain": [
       "            All              In VOC           Out of VOC          \n",
       "       f1 micro  f1 macro  f1 micro  f1 macro   f1 micro  f1 macro\n",
       "score  0.767474  0.363726  0.804396  0.450505     0.1375  0.084656"
      ]
     },
     "metadata": {},
     "output_type": "display_data"
    },
    {
     "name": "stdout",
     "output_type": "stream",
     "text": [
      "Validation metric increased (0.341536 --> 0.363726).  Saving model ...\n"
     ]
    },
    {
     "name": "stderr",
     "output_type": "stream",
     "text": [
      "Epoch 9: 100%|██████████| 502/502 [00:44<00:00, 11.28batch/s, loss_decrease=1.0000033892850952]\n",
      "100%|██████████| 1445/1445 [00:15<00:00, 96.33batch/s] \n"
     ]
    },
    {
     "data": {
      "text/html": [
       "<div>\n",
       "<style scoped>\n",
       "    .dataframe tbody tr th:only-of-type {\n",
       "        vertical-align: middle;\n",
       "    }\n",
       "\n",
       "    .dataframe tbody tr th {\n",
       "        vertical-align: top;\n",
       "    }\n",
       "\n",
       "    .dataframe thead tr th {\n",
       "        text-align: left;\n",
       "    }\n",
       "</style>\n",
       "<table border=\"1\" class=\"dataframe\">\n",
       "  <thead>\n",
       "    <tr>\n",
       "      <th></th>\n",
       "      <th colspan=\"2\" halign=\"left\">All</th>\n",
       "      <th colspan=\"2\" halign=\"left\">In VOC</th>\n",
       "      <th colspan=\"2\" halign=\"left\">Out of VOC</th>\n",
       "    </tr>\n",
       "    <tr>\n",
       "      <th></th>\n",
       "      <th>f1 micro</th>\n",
       "      <th>f1 macro</th>\n",
       "      <th>f1 micro</th>\n",
       "      <th>f1 macro</th>\n",
       "      <th>f1 micro</th>\n",
       "      <th>f1 macro</th>\n",
       "    </tr>\n",
       "  </thead>\n",
       "  <tbody>\n",
       "    <tr>\n",
       "      <th>score</th>\n",
       "      <td>0.768858</td>\n",
       "      <td>0.35787</td>\n",
       "      <td>0.805861</td>\n",
       "      <td>0.443056</td>\n",
       "      <td>0.1375</td>\n",
       "      <td>0.08399</td>\n",
       "    </tr>\n",
       "  </tbody>\n",
       "</table>\n",
       "</div>"
      ],
      "text/plain": [
       "            All             In VOC           Out of VOC         \n",
       "       f1 micro f1 macro  f1 micro  f1 macro   f1 micro f1 macro\n",
       "score  0.768858  0.35787  0.805861  0.443056     0.1375  0.08399"
      ]
     },
     "metadata": {},
     "output_type": "display_data"
    },
    {
     "name": "stdout",
     "output_type": "stream",
     "text": [
      "EarlyStopping counter: 1 out of 7\n"
     ]
    },
    {
     "name": "stderr",
     "output_type": "stream",
     "text": [
      "Epoch 10: 100%|██████████| 502/502 [00:44<00:00, 11.29batch/s, loss_decrease=1.0000033892850952]\n",
      "100%|██████████| 1445/1445 [00:14<00:00, 96.36batch/s] \n"
     ]
    },
    {
     "data": {
      "text/html": [
       "<div>\n",
       "<style scoped>\n",
       "    .dataframe tbody tr th:only-of-type {\n",
       "        vertical-align: middle;\n",
       "    }\n",
       "\n",
       "    .dataframe tbody tr th {\n",
       "        vertical-align: top;\n",
       "    }\n",
       "\n",
       "    .dataframe thead tr th {\n",
       "        text-align: left;\n",
       "    }\n",
       "</style>\n",
       "<table border=\"1\" class=\"dataframe\">\n",
       "  <thead>\n",
       "    <tr>\n",
       "      <th></th>\n",
       "      <th colspan=\"2\" halign=\"left\">All</th>\n",
       "      <th colspan=\"2\" halign=\"left\">In VOC</th>\n",
       "      <th colspan=\"2\" halign=\"left\">Out of VOC</th>\n",
       "    </tr>\n",
       "    <tr>\n",
       "      <th></th>\n",
       "      <th>f1 micro</th>\n",
       "      <th>f1 macro</th>\n",
       "      <th>f1 micro</th>\n",
       "      <th>f1 macro</th>\n",
       "      <th>f1 micro</th>\n",
       "      <th>f1 macro</th>\n",
       "    </tr>\n",
       "  </thead>\n",
       "  <tbody>\n",
       "    <tr>\n",
       "      <th>score</th>\n",
       "      <td>0.774394</td>\n",
       "      <td>0.373202</td>\n",
       "      <td>0.810989</td>\n",
       "      <td>0.45459</td>\n",
       "      <td>0.15</td>\n",
       "      <td>0.093333</td>\n",
       "    </tr>\n",
       "  </tbody>\n",
       "</table>\n",
       "</div>"
      ],
      "text/plain": [
       "            All              In VOC          Out of VOC          \n",
       "       f1 micro  f1 macro  f1 micro f1 macro   f1 micro  f1 macro\n",
       "score  0.774394  0.373202  0.810989  0.45459       0.15  0.093333"
      ]
     },
     "metadata": {},
     "output_type": "display_data"
    },
    {
     "name": "stdout",
     "output_type": "stream",
     "text": [
      "Validation metric increased (0.363726 --> 0.373202).  Saving model ...\n"
     ]
    },
    {
     "name": "stderr",
     "output_type": "stream",
     "text": [
      "Epoch 11: 100%|██████████| 502/502 [00:44<00:00, 11.23batch/s, loss_decrease=1.0000033892850952]\n",
      "100%|██████████| 1445/1445 [00:14<00:00, 98.17batch/s] \n"
     ]
    },
    {
     "data": {
      "text/html": [
       "<div>\n",
       "<style scoped>\n",
       "    .dataframe tbody tr th:only-of-type {\n",
       "        vertical-align: middle;\n",
       "    }\n",
       "\n",
       "    .dataframe tbody tr th {\n",
       "        vertical-align: top;\n",
       "    }\n",
       "\n",
       "    .dataframe thead tr th {\n",
       "        text-align: left;\n",
       "    }\n",
       "</style>\n",
       "<table border=\"1\" class=\"dataframe\">\n",
       "  <thead>\n",
       "    <tr>\n",
       "      <th></th>\n",
       "      <th colspan=\"2\" halign=\"left\">All</th>\n",
       "      <th colspan=\"2\" halign=\"left\">In VOC</th>\n",
       "      <th colspan=\"2\" halign=\"left\">Out of VOC</th>\n",
       "    </tr>\n",
       "    <tr>\n",
       "      <th></th>\n",
       "      <th>f1 micro</th>\n",
       "      <th>f1 macro</th>\n",
       "      <th>f1 micro</th>\n",
       "      <th>f1 macro</th>\n",
       "      <th>f1 micro</th>\n",
       "      <th>f1 macro</th>\n",
       "    </tr>\n",
       "  </thead>\n",
       "  <tbody>\n",
       "    <tr>\n",
       "      <th>score</th>\n",
       "      <td>0.757785</td>\n",
       "      <td>0.355395</td>\n",
       "      <td>0.794872</td>\n",
       "      <td>0.438931</td>\n",
       "      <td>0.125</td>\n",
       "      <td>0.075521</td>\n",
       "    </tr>\n",
       "  </tbody>\n",
       "</table>\n",
       "</div>"
      ],
      "text/plain": [
       "            All              In VOC           Out of VOC          \n",
       "       f1 micro  f1 macro  f1 micro  f1 macro   f1 micro  f1 macro\n",
       "score  0.757785  0.355395  0.794872  0.438931      0.125  0.075521"
      ]
     },
     "metadata": {},
     "output_type": "display_data"
    },
    {
     "name": "stdout",
     "output_type": "stream",
     "text": [
      "EarlyStopping counter: 1 out of 7\n"
     ]
    },
    {
     "name": "stderr",
     "output_type": "stream",
     "text": [
      "Epoch 12: 100%|██████████| 502/502 [00:45<00:00, 11.05batch/s, loss_decrease=1.0000033892850952]\n",
      "100%|██████████| 1445/1445 [00:14<00:00, 97.47batch/s] \n"
     ]
    },
    {
     "data": {
      "text/html": [
       "<div>\n",
       "<style scoped>\n",
       "    .dataframe tbody tr th:only-of-type {\n",
       "        vertical-align: middle;\n",
       "    }\n",
       "\n",
       "    .dataframe tbody tr th {\n",
       "        vertical-align: top;\n",
       "    }\n",
       "\n",
       "    .dataframe thead tr th {\n",
       "        text-align: left;\n",
       "    }\n",
       "</style>\n",
       "<table border=\"1\" class=\"dataframe\">\n",
       "  <thead>\n",
       "    <tr>\n",
       "      <th></th>\n",
       "      <th colspan=\"2\" halign=\"left\">All</th>\n",
       "      <th colspan=\"2\" halign=\"left\">In VOC</th>\n",
       "      <th colspan=\"2\" halign=\"left\">Out of VOC</th>\n",
       "    </tr>\n",
       "    <tr>\n",
       "      <th></th>\n",
       "      <th>f1 micro</th>\n",
       "      <th>f1 macro</th>\n",
       "      <th>f1 micro</th>\n",
       "      <th>f1 macro</th>\n",
       "      <th>f1 micro</th>\n",
       "      <th>f1 macro</th>\n",
       "    </tr>\n",
       "  </thead>\n",
       "  <tbody>\n",
       "    <tr>\n",
       "      <th>score</th>\n",
       "      <td>0.758478</td>\n",
       "      <td>0.353748</td>\n",
       "      <td>0.796337</td>\n",
       "      <td>0.44068</td>\n",
       "      <td>0.1125</td>\n",
       "      <td>0.069767</td>\n",
       "    </tr>\n",
       "  </tbody>\n",
       "</table>\n",
       "</div>"
      ],
      "text/plain": [
       "            All              In VOC          Out of VOC          \n",
       "       f1 micro  f1 macro  f1 micro f1 macro   f1 micro  f1 macro\n",
       "score  0.758478  0.353748  0.796337  0.44068     0.1125  0.069767"
      ]
     },
     "metadata": {},
     "output_type": "display_data"
    },
    {
     "name": "stdout",
     "output_type": "stream",
     "text": [
      "EarlyStopping counter: 2 out of 7\n"
     ]
    },
    {
     "name": "stderr",
     "output_type": "stream",
     "text": [
      "Epoch 13: 100%|██████████| 502/502 [00:44<00:00, 11.16batch/s, loss_decrease=1.0000033892850952]\n",
      "100%|██████████| 1445/1445 [00:14<00:00, 96.65batch/s] \n"
     ]
    },
    {
     "data": {
      "text/html": [
       "<div>\n",
       "<style scoped>\n",
       "    .dataframe tbody tr th:only-of-type {\n",
       "        vertical-align: middle;\n",
       "    }\n",
       "\n",
       "    .dataframe tbody tr th {\n",
       "        vertical-align: top;\n",
       "    }\n",
       "\n",
       "    .dataframe thead tr th {\n",
       "        text-align: left;\n",
       "    }\n",
       "</style>\n",
       "<table border=\"1\" class=\"dataframe\">\n",
       "  <thead>\n",
       "    <tr>\n",
       "      <th></th>\n",
       "      <th colspan=\"2\" halign=\"left\">All</th>\n",
       "      <th colspan=\"2\" halign=\"left\">In VOC</th>\n",
       "      <th colspan=\"2\" halign=\"left\">Out of VOC</th>\n",
       "    </tr>\n",
       "    <tr>\n",
       "      <th></th>\n",
       "      <th>f1 micro</th>\n",
       "      <th>f1 macro</th>\n",
       "      <th>f1 micro</th>\n",
       "      <th>f1 macro</th>\n",
       "      <th>f1 micro</th>\n",
       "      <th>f1 macro</th>\n",
       "    </tr>\n",
       "  </thead>\n",
       "  <tbody>\n",
       "    <tr>\n",
       "      <th>score</th>\n",
       "      <td>0.770934</td>\n",
       "      <td>0.366281</td>\n",
       "      <td>0.808791</td>\n",
       "      <td>0.460109</td>\n",
       "      <td>0.125</td>\n",
       "      <td>0.074359</td>\n",
       "    </tr>\n",
       "  </tbody>\n",
       "</table>\n",
       "</div>"
      ],
      "text/plain": [
       "            All              In VOC           Out of VOC          \n",
       "       f1 micro  f1 macro  f1 micro  f1 macro   f1 micro  f1 macro\n",
       "score  0.770934  0.366281  0.808791  0.460109      0.125  0.074359"
      ]
     },
     "metadata": {},
     "output_type": "display_data"
    },
    {
     "name": "stdout",
     "output_type": "stream",
     "text": [
      "EarlyStopping counter: 3 out of 7\n"
     ]
    },
    {
     "name": "stderr",
     "output_type": "stream",
     "text": [
      "Epoch 14: 100%|██████████| 502/502 [00:48<00:00, 10.43batch/s, loss_decrease=1.0000033892850952]\n",
      "100%|██████████| 1445/1445 [00:14<00:00, 97.47batch/s] \n"
     ]
    },
    {
     "data": {
      "text/html": [
       "<div>\n",
       "<style scoped>\n",
       "    .dataframe tbody tr th:only-of-type {\n",
       "        vertical-align: middle;\n",
       "    }\n",
       "\n",
       "    .dataframe tbody tr th {\n",
       "        vertical-align: top;\n",
       "    }\n",
       "\n",
       "    .dataframe thead tr th {\n",
       "        text-align: left;\n",
       "    }\n",
       "</style>\n",
       "<table border=\"1\" class=\"dataframe\">\n",
       "  <thead>\n",
       "    <tr>\n",
       "      <th></th>\n",
       "      <th colspan=\"2\" halign=\"left\">All</th>\n",
       "      <th colspan=\"2\" halign=\"left\">In VOC</th>\n",
       "      <th colspan=\"2\" halign=\"left\">Out of VOC</th>\n",
       "    </tr>\n",
       "    <tr>\n",
       "      <th></th>\n",
       "      <th>f1 micro</th>\n",
       "      <th>f1 macro</th>\n",
       "      <th>f1 micro</th>\n",
       "      <th>f1 macro</th>\n",
       "      <th>f1 micro</th>\n",
       "      <th>f1 macro</th>\n",
       "    </tr>\n",
       "  </thead>\n",
       "  <tbody>\n",
       "    <tr>\n",
       "      <th>score</th>\n",
       "      <td>0.771626</td>\n",
       "      <td>0.371779</td>\n",
       "      <td>0.809524</td>\n",
       "      <td>0.463976</td>\n",
       "      <td>0.125</td>\n",
       "      <td>0.076923</td>\n",
       "    </tr>\n",
       "  </tbody>\n",
       "</table>\n",
       "</div>"
      ],
      "text/plain": [
       "            All              In VOC           Out of VOC          \n",
       "       f1 micro  f1 macro  f1 micro  f1 macro   f1 micro  f1 macro\n",
       "score  0.771626  0.371779  0.809524  0.463976      0.125  0.076923"
      ]
     },
     "metadata": {},
     "output_type": "display_data"
    },
    {
     "name": "stdout",
     "output_type": "stream",
     "text": [
      "EarlyStopping counter: 4 out of 7\n"
     ]
    },
    {
     "name": "stderr",
     "output_type": "stream",
     "text": [
      "Epoch 15: 100%|██████████| 502/502 [00:46<00:00, 10.87batch/s, loss_decrease=1.0000033892850952]\n",
      "100%|██████████| 1445/1445 [00:14<00:00, 98.51batch/s] \n"
     ]
    },
    {
     "data": {
      "text/html": [
       "<div>\n",
       "<style scoped>\n",
       "    .dataframe tbody tr th:only-of-type {\n",
       "        vertical-align: middle;\n",
       "    }\n",
       "\n",
       "    .dataframe tbody tr th {\n",
       "        vertical-align: top;\n",
       "    }\n",
       "\n",
       "    .dataframe thead tr th {\n",
       "        text-align: left;\n",
       "    }\n",
       "</style>\n",
       "<table border=\"1\" class=\"dataframe\">\n",
       "  <thead>\n",
       "    <tr>\n",
       "      <th></th>\n",
       "      <th colspan=\"2\" halign=\"left\">All</th>\n",
       "      <th colspan=\"2\" halign=\"left\">In VOC</th>\n",
       "      <th colspan=\"2\" halign=\"left\">Out of VOC</th>\n",
       "    </tr>\n",
       "    <tr>\n",
       "      <th></th>\n",
       "      <th>f1 micro</th>\n",
       "      <th>f1 macro</th>\n",
       "      <th>f1 micro</th>\n",
       "      <th>f1 macro</th>\n",
       "      <th>f1 micro</th>\n",
       "      <th>f1 macro</th>\n",
       "    </tr>\n",
       "  </thead>\n",
       "  <tbody>\n",
       "    <tr>\n",
       "      <th>score</th>\n",
       "      <td>0.773702</td>\n",
       "      <td>0.378327</td>\n",
       "      <td>0.813187</td>\n",
       "      <td>0.478832</td>\n",
       "      <td>0.1</td>\n",
       "      <td>0.062016</td>\n",
       "    </tr>\n",
       "  </tbody>\n",
       "</table>\n",
       "</div>"
      ],
      "text/plain": [
       "            All              In VOC           Out of VOC          \n",
       "       f1 micro  f1 macro  f1 micro  f1 macro   f1 micro  f1 macro\n",
       "score  0.773702  0.378327  0.813187  0.478832        0.1  0.062016"
      ]
     },
     "metadata": {},
     "output_type": "display_data"
    },
    {
     "name": "stdout",
     "output_type": "stream",
     "text": [
      "Validation metric increased (0.373202 --> 0.378327).  Saving model ...\n"
     ]
    },
    {
     "name": "stderr",
     "output_type": "stream",
     "text": [
      "Epoch 16: 100%|██████████| 502/502 [00:45<00:00, 11.14batch/s, loss_decrease=1.0000033892850952]\n",
      "100%|██████████| 1445/1445 [00:14<00:00, 97.24batch/s] \n"
     ]
    },
    {
     "data": {
      "text/html": [
       "<div>\n",
       "<style scoped>\n",
       "    .dataframe tbody tr th:only-of-type {\n",
       "        vertical-align: middle;\n",
       "    }\n",
       "\n",
       "    .dataframe tbody tr th {\n",
       "        vertical-align: top;\n",
       "    }\n",
       "\n",
       "    .dataframe thead tr th {\n",
       "        text-align: left;\n",
       "    }\n",
       "</style>\n",
       "<table border=\"1\" class=\"dataframe\">\n",
       "  <thead>\n",
       "    <tr>\n",
       "      <th></th>\n",
       "      <th colspan=\"2\" halign=\"left\">All</th>\n",
       "      <th colspan=\"2\" halign=\"left\">In VOC</th>\n",
       "      <th colspan=\"2\" halign=\"left\">Out of VOC</th>\n",
       "    </tr>\n",
       "    <tr>\n",
       "      <th></th>\n",
       "      <th>f1 micro</th>\n",
       "      <th>f1 macro</th>\n",
       "      <th>f1 micro</th>\n",
       "      <th>f1 macro</th>\n",
       "      <th>f1 micro</th>\n",
       "      <th>f1 macro</th>\n",
       "    </tr>\n",
       "  </thead>\n",
       "  <tbody>\n",
       "    <tr>\n",
       "      <th>score</th>\n",
       "      <td>0.781315</td>\n",
       "      <td>0.389172</td>\n",
       "      <td>0.81978</td>\n",
       "      <td>0.490117</td>\n",
       "      <td>0.125</td>\n",
       "      <td>0.075521</td>\n",
       "    </tr>\n",
       "  </tbody>\n",
       "</table>\n",
       "</div>"
      ],
      "text/plain": [
       "            All             In VOC           Out of VOC          \n",
       "       f1 micro  f1 macro f1 micro  f1 macro   f1 micro  f1 macro\n",
       "score  0.781315  0.389172  0.81978  0.490117      0.125  0.075521"
      ]
     },
     "metadata": {},
     "output_type": "display_data"
    },
    {
     "name": "stdout",
     "output_type": "stream",
     "text": [
      "Validation metric increased (0.378327 --> 0.389172).  Saving model ...\n"
     ]
    },
    {
     "name": "stderr",
     "output_type": "stream",
     "text": [
      "Epoch 17: 100%|██████████| 502/502 [00:45<00:00, 11.11batch/s, loss_decrease=1.0000033892850952]\n",
      "100%|██████████| 1445/1445 [00:15<00:00, 90.65batch/s] \n"
     ]
    },
    {
     "data": {
      "text/html": [
       "<div>\n",
       "<style scoped>\n",
       "    .dataframe tbody tr th:only-of-type {\n",
       "        vertical-align: middle;\n",
       "    }\n",
       "\n",
       "    .dataframe tbody tr th {\n",
       "        vertical-align: top;\n",
       "    }\n",
       "\n",
       "    .dataframe thead tr th {\n",
       "        text-align: left;\n",
       "    }\n",
       "</style>\n",
       "<table border=\"1\" class=\"dataframe\">\n",
       "  <thead>\n",
       "    <tr>\n",
       "      <th></th>\n",
       "      <th colspan=\"2\" halign=\"left\">All</th>\n",
       "      <th colspan=\"2\" halign=\"left\">In VOC</th>\n",
       "      <th colspan=\"2\" halign=\"left\">Out of VOC</th>\n",
       "    </tr>\n",
       "    <tr>\n",
       "      <th></th>\n",
       "      <th>f1 micro</th>\n",
       "      <th>f1 macro</th>\n",
       "      <th>f1 micro</th>\n",
       "      <th>f1 macro</th>\n",
       "      <th>f1 micro</th>\n",
       "      <th>f1 macro</th>\n",
       "    </tr>\n",
       "  </thead>\n",
       "  <tbody>\n",
       "    <tr>\n",
       "      <th>score</th>\n",
       "      <td>0.774394</td>\n",
       "      <td>0.372019</td>\n",
       "      <td>0.813187</td>\n",
       "      <td>0.46853</td>\n",
       "      <td>0.1125</td>\n",
       "      <td>0.067183</td>\n",
       "    </tr>\n",
       "  </tbody>\n",
       "</table>\n",
       "</div>"
      ],
      "text/plain": [
       "            All              In VOC          Out of VOC          \n",
       "       f1 micro  f1 macro  f1 micro f1 macro   f1 micro  f1 macro\n",
       "score  0.774394  0.372019  0.813187  0.46853     0.1125  0.067183"
      ]
     },
     "metadata": {},
     "output_type": "display_data"
    },
    {
     "name": "stdout",
     "output_type": "stream",
     "text": [
      "EarlyStopping counter: 1 out of 7\n"
     ]
    },
    {
     "name": "stderr",
     "output_type": "stream",
     "text": [
      "Epoch 18: 100%|██████████| 502/502 [00:46<00:00, 10.82batch/s, loss_decrease=1.0000033892850952]\n",
      "100%|██████████| 1445/1445 [00:15<00:00, 94.08batch/s] \n"
     ]
    },
    {
     "data": {
      "text/html": [
       "<div>\n",
       "<style scoped>\n",
       "    .dataframe tbody tr th:only-of-type {\n",
       "        vertical-align: middle;\n",
       "    }\n",
       "\n",
       "    .dataframe tbody tr th {\n",
       "        vertical-align: top;\n",
       "    }\n",
       "\n",
       "    .dataframe thead tr th {\n",
       "        text-align: left;\n",
       "    }\n",
       "</style>\n",
       "<table border=\"1\" class=\"dataframe\">\n",
       "  <thead>\n",
       "    <tr>\n",
       "      <th></th>\n",
       "      <th colspan=\"2\" halign=\"left\">All</th>\n",
       "      <th colspan=\"2\" halign=\"left\">In VOC</th>\n",
       "      <th colspan=\"2\" halign=\"left\">Out of VOC</th>\n",
       "    </tr>\n",
       "    <tr>\n",
       "      <th></th>\n",
       "      <th>f1 micro</th>\n",
       "      <th>f1 macro</th>\n",
       "      <th>f1 micro</th>\n",
       "      <th>f1 macro</th>\n",
       "      <th>f1 micro</th>\n",
       "      <th>f1 macro</th>\n",
       "    </tr>\n",
       "  </thead>\n",
       "  <tbody>\n",
       "    <tr>\n",
       "      <th>score</th>\n",
       "      <td>0.77301</td>\n",
       "      <td>0.371184</td>\n",
       "      <td>0.812454</td>\n",
       "      <td>0.471444</td>\n",
       "      <td>0.1</td>\n",
       "      <td>0.061069</td>\n",
       "    </tr>\n",
       "  </tbody>\n",
       "</table>\n",
       "</div>"
      ],
      "text/plain": [
       "           All              In VOC           Out of VOC          \n",
       "      f1 micro  f1 macro  f1 micro  f1 macro   f1 micro  f1 macro\n",
       "score  0.77301  0.371184  0.812454  0.471444        0.1  0.061069"
      ]
     },
     "metadata": {},
     "output_type": "display_data"
    },
    {
     "name": "stdout",
     "output_type": "stream",
     "text": [
      "EarlyStopping counter: 2 out of 7\n"
     ]
    },
    {
     "name": "stderr",
     "output_type": "stream",
     "text": [
      "Epoch 19: 100%|██████████| 502/502 [00:45<00:00, 10.94batch/s, loss_decrease=1.0000033892850952]\n",
      "100%|██████████| 1445/1445 [00:14<00:00, 98.40batch/s] \n"
     ]
    },
    {
     "data": {
      "text/html": [
       "<div>\n",
       "<style scoped>\n",
       "    .dataframe tbody tr th:only-of-type {\n",
       "        vertical-align: middle;\n",
       "    }\n",
       "\n",
       "    .dataframe tbody tr th {\n",
       "        vertical-align: top;\n",
       "    }\n",
       "\n",
       "    .dataframe thead tr th {\n",
       "        text-align: left;\n",
       "    }\n",
       "</style>\n",
       "<table border=\"1\" class=\"dataframe\">\n",
       "  <thead>\n",
       "    <tr>\n",
       "      <th></th>\n",
       "      <th colspan=\"2\" halign=\"left\">All</th>\n",
       "      <th colspan=\"2\" halign=\"left\">In VOC</th>\n",
       "      <th colspan=\"2\" halign=\"left\">Out of VOC</th>\n",
       "    </tr>\n",
       "    <tr>\n",
       "      <th></th>\n",
       "      <th>f1 micro</th>\n",
       "      <th>f1 macro</th>\n",
       "      <th>f1 micro</th>\n",
       "      <th>f1 macro</th>\n",
       "      <th>f1 micro</th>\n",
       "      <th>f1 macro</th>\n",
       "    </tr>\n",
       "  </thead>\n",
       "  <tbody>\n",
       "    <tr>\n",
       "      <th>score</th>\n",
       "      <td>0.772318</td>\n",
       "      <td>0.366514</td>\n",
       "      <td>0.810989</td>\n",
       "      <td>0.461908</td>\n",
       "      <td>0.1125</td>\n",
       "      <td>0.065163</td>\n",
       "    </tr>\n",
       "  </tbody>\n",
       "</table>\n",
       "</div>"
      ],
      "text/plain": [
       "            All              In VOC           Out of VOC          \n",
       "       f1 micro  f1 macro  f1 micro  f1 macro   f1 micro  f1 macro\n",
       "score  0.772318  0.366514  0.810989  0.461908     0.1125  0.065163"
      ]
     },
     "metadata": {},
     "output_type": "display_data"
    },
    {
     "name": "stdout",
     "output_type": "stream",
     "text": [
      "EarlyStopping counter: 3 out of 7\n"
     ]
    },
    {
     "name": "stderr",
     "output_type": "stream",
     "text": [
      "Epoch 20: 100%|██████████| 502/502 [00:46<00:00, 10.88batch/s, loss_decrease=1.0000033892850952]\n",
      "100%|██████████| 1445/1445 [00:14<00:00, 97.27batch/s] \n"
     ]
    },
    {
     "data": {
      "text/html": [
       "<div>\n",
       "<style scoped>\n",
       "    .dataframe tbody tr th:only-of-type {\n",
       "        vertical-align: middle;\n",
       "    }\n",
       "\n",
       "    .dataframe tbody tr th {\n",
       "        vertical-align: top;\n",
       "    }\n",
       "\n",
       "    .dataframe thead tr th {\n",
       "        text-align: left;\n",
       "    }\n",
       "</style>\n",
       "<table border=\"1\" class=\"dataframe\">\n",
       "  <thead>\n",
       "    <tr>\n",
       "      <th></th>\n",
       "      <th colspan=\"2\" halign=\"left\">All</th>\n",
       "      <th colspan=\"2\" halign=\"left\">In VOC</th>\n",
       "      <th colspan=\"2\" halign=\"left\">Out of VOC</th>\n",
       "    </tr>\n",
       "    <tr>\n",
       "      <th></th>\n",
       "      <th>f1 micro</th>\n",
       "      <th>f1 macro</th>\n",
       "      <th>f1 micro</th>\n",
       "      <th>f1 macro</th>\n",
       "      <th>f1 micro</th>\n",
       "      <th>f1 macro</th>\n",
       "    </tr>\n",
       "  </thead>\n",
       "  <tbody>\n",
       "    <tr>\n",
       "      <th>score</th>\n",
       "      <td>0.770934</td>\n",
       "      <td>0.378106</td>\n",
       "      <td>0.808791</td>\n",
       "      <td>0.46954</td>\n",
       "      <td>0.125</td>\n",
       "      <td>0.076923</td>\n",
       "    </tr>\n",
       "  </tbody>\n",
       "</table>\n",
       "</div>"
      ],
      "text/plain": [
       "            All              In VOC          Out of VOC          \n",
       "       f1 micro  f1 macro  f1 micro f1 macro   f1 micro  f1 macro\n",
       "score  0.770934  0.378106  0.808791  0.46954      0.125  0.076923"
      ]
     },
     "metadata": {},
     "output_type": "display_data"
    },
    {
     "name": "stdout",
     "output_type": "stream",
     "text": [
      "EarlyStopping counter: 4 out of 7\n"
     ]
    },
    {
     "name": "stderr",
     "output_type": "stream",
     "text": [
      "Epoch 21: 100%|██████████| 502/502 [00:47<00:00, 10.66batch/s, loss_decrease=1.0000033892850952]\n",
      "100%|██████████| 1445/1445 [00:14<00:00, 98.48batch/s] \n"
     ]
    },
    {
     "data": {
      "text/html": [
       "<div>\n",
       "<style scoped>\n",
       "    .dataframe tbody tr th:only-of-type {\n",
       "        vertical-align: middle;\n",
       "    }\n",
       "\n",
       "    .dataframe tbody tr th {\n",
       "        vertical-align: top;\n",
       "    }\n",
       "\n",
       "    .dataframe thead tr th {\n",
       "        text-align: left;\n",
       "    }\n",
       "</style>\n",
       "<table border=\"1\" class=\"dataframe\">\n",
       "  <thead>\n",
       "    <tr>\n",
       "      <th></th>\n",
       "      <th colspan=\"2\" halign=\"left\">All</th>\n",
       "      <th colspan=\"2\" halign=\"left\">In VOC</th>\n",
       "      <th colspan=\"2\" halign=\"left\">Out of VOC</th>\n",
       "    </tr>\n",
       "    <tr>\n",
       "      <th></th>\n",
       "      <th>f1 micro</th>\n",
       "      <th>f1 macro</th>\n",
       "      <th>f1 micro</th>\n",
       "      <th>f1 macro</th>\n",
       "      <th>f1 micro</th>\n",
       "      <th>f1 macro</th>\n",
       "    </tr>\n",
       "  </thead>\n",
       "  <tbody>\n",
       "    <tr>\n",
       "      <th>score</th>\n",
       "      <td>0.768166</td>\n",
       "      <td>0.377304</td>\n",
       "      <td>0.805861</td>\n",
       "      <td>0.476628</td>\n",
       "      <td>0.125</td>\n",
       "      <td>0.073791</td>\n",
       "    </tr>\n",
       "  </tbody>\n",
       "</table>\n",
       "</div>"
      ],
      "text/plain": [
       "            All              In VOC           Out of VOC          \n",
       "       f1 micro  f1 macro  f1 micro  f1 macro   f1 micro  f1 macro\n",
       "score  0.768166  0.377304  0.805861  0.476628      0.125  0.073791"
      ]
     },
     "metadata": {},
     "output_type": "display_data"
    },
    {
     "name": "stdout",
     "output_type": "stream",
     "text": [
      "EarlyStopping counter: 5 out of 7\n"
     ]
    },
    {
     "name": "stderr",
     "output_type": "stream",
     "text": [
      "Epoch 22: 100%|██████████| 502/502 [00:44<00:00, 11.33batch/s, loss_decrease=1.0000033892850952]\n",
      "100%|██████████| 1445/1445 [00:15<00:00, 95.25batch/s] \n"
     ]
    },
    {
     "data": {
      "text/html": [
       "<div>\n",
       "<style scoped>\n",
       "    .dataframe tbody tr th:only-of-type {\n",
       "        vertical-align: middle;\n",
       "    }\n",
       "\n",
       "    .dataframe tbody tr th {\n",
       "        vertical-align: top;\n",
       "    }\n",
       "\n",
       "    .dataframe thead tr th {\n",
       "        text-align: left;\n",
       "    }\n",
       "</style>\n",
       "<table border=\"1\" class=\"dataframe\">\n",
       "  <thead>\n",
       "    <tr>\n",
       "      <th></th>\n",
       "      <th colspan=\"2\" halign=\"left\">All</th>\n",
       "      <th colspan=\"2\" halign=\"left\">In VOC</th>\n",
       "      <th colspan=\"2\" halign=\"left\">Out of VOC</th>\n",
       "    </tr>\n",
       "    <tr>\n",
       "      <th></th>\n",
       "      <th>f1 micro</th>\n",
       "      <th>f1 macro</th>\n",
       "      <th>f1 micro</th>\n",
       "      <th>f1 macro</th>\n",
       "      <th>f1 micro</th>\n",
       "      <th>f1 macro</th>\n",
       "    </tr>\n",
       "  </thead>\n",
       "  <tbody>\n",
       "    <tr>\n",
       "      <th>score</th>\n",
       "      <td>0.772318</td>\n",
       "      <td>0.377923</td>\n",
       "      <td>0.810256</td>\n",
       "      <td>0.479929</td>\n",
       "      <td>0.125</td>\n",
       "      <td>0.073791</td>\n",
       "    </tr>\n",
       "  </tbody>\n",
       "</table>\n",
       "</div>"
      ],
      "text/plain": [
       "            All              In VOC           Out of VOC          \n",
       "       f1 micro  f1 macro  f1 micro  f1 macro   f1 micro  f1 macro\n",
       "score  0.772318  0.377923  0.810256  0.479929      0.125  0.073791"
      ]
     },
     "metadata": {},
     "output_type": "display_data"
    },
    {
     "name": "stdout",
     "output_type": "stream",
     "text": [
      "EarlyStopping counter: 6 out of 7\n"
     ]
    },
    {
     "name": "stderr",
     "output_type": "stream",
     "text": [
      "Epoch 23: 100%|██████████| 502/502 [00:47<00:00, 10.51batch/s, loss_decrease=1.0000033892850952]\n",
      "100%|██████████| 1445/1445 [00:16<00:00, 89.46batch/s]\n"
     ]
    },
    {
     "data": {
      "text/html": [
       "<div>\n",
       "<style scoped>\n",
       "    .dataframe tbody tr th:only-of-type {\n",
       "        vertical-align: middle;\n",
       "    }\n",
       "\n",
       "    .dataframe tbody tr th {\n",
       "        vertical-align: top;\n",
       "    }\n",
       "\n",
       "    .dataframe thead tr th {\n",
       "        text-align: left;\n",
       "    }\n",
       "</style>\n",
       "<table border=\"1\" class=\"dataframe\">\n",
       "  <thead>\n",
       "    <tr>\n",
       "      <th></th>\n",
       "      <th colspan=\"2\" halign=\"left\">All</th>\n",
       "      <th colspan=\"2\" halign=\"left\">In VOC</th>\n",
       "      <th colspan=\"2\" halign=\"left\">Out of VOC</th>\n",
       "    </tr>\n",
       "    <tr>\n",
       "      <th></th>\n",
       "      <th>f1 micro</th>\n",
       "      <th>f1 macro</th>\n",
       "      <th>f1 micro</th>\n",
       "      <th>f1 macro</th>\n",
       "      <th>f1 micro</th>\n",
       "      <th>f1 macro</th>\n",
       "    </tr>\n",
       "  </thead>\n",
       "  <tbody>\n",
       "    <tr>\n",
       "      <th>score</th>\n",
       "      <td>0.778547</td>\n",
       "      <td>0.387756</td>\n",
       "      <td>0.817582</td>\n",
       "      <td>0.48978</td>\n",
       "      <td>0.1125</td>\n",
       "      <td>0.066667</td>\n",
       "    </tr>\n",
       "  </tbody>\n",
       "</table>\n",
       "</div>"
      ],
      "text/plain": [
       "            All              In VOC          Out of VOC          \n",
       "       f1 micro  f1 macro  f1 micro f1 macro   f1 micro  f1 macro\n",
       "score  0.778547  0.387756  0.817582  0.48978     0.1125  0.066667"
      ]
     },
     "metadata": {},
     "output_type": "display_data"
    },
    {
     "name": "stdout",
     "output_type": "stream",
     "text": [
      "EarlyStopping counter: 7 out of 7\n",
      "Early stopping\n",
      "Evaluating on test dataset\n"
     ]
    },
    {
     "name": "stderr",
     "output_type": "stream",
     "text": [
      "100%|██████████| 2442/2442 [00:24<00:00, 98.75batch/s] \n"
     ]
    },
    {
     "data": {
      "text/html": [
       "<div>\n",
       "<style scoped>\n",
       "    .dataframe tbody tr th:only-of-type {\n",
       "        vertical-align: middle;\n",
       "    }\n",
       "\n",
       "    .dataframe tbody tr th {\n",
       "        vertical-align: top;\n",
       "    }\n",
       "\n",
       "    .dataframe thead tr th {\n",
       "        text-align: left;\n",
       "    }\n",
       "</style>\n",
       "<table border=\"1\" class=\"dataframe\">\n",
       "  <thead>\n",
       "    <tr>\n",
       "      <th></th>\n",
       "      <th colspan=\"2\" halign=\"left\">All</th>\n",
       "      <th colspan=\"2\" halign=\"left\">In VOC</th>\n",
       "      <th colspan=\"2\" halign=\"left\">Out of VOC</th>\n",
       "    </tr>\n",
       "    <tr>\n",
       "      <th></th>\n",
       "      <th>f1 micro</th>\n",
       "      <th>f1 macro</th>\n",
       "      <th>f1 micro</th>\n",
       "      <th>f1 macro</th>\n",
       "      <th>f1 micro</th>\n",
       "      <th>f1 macro</th>\n",
       "    </tr>\n",
       "  </thead>\n",
       "  <tbody>\n",
       "    <tr>\n",
       "      <th>score</th>\n",
       "      <td>0.766175</td>\n",
       "      <td>0.328943</td>\n",
       "      <td>0.800173</td>\n",
       "      <td>0.402171</td>\n",
       "      <td>0.136</td>\n",
       "      <td>0.088183</td>\n",
       "    </tr>\n",
       "  </tbody>\n",
       "</table>\n",
       "</div>"
      ],
      "text/plain": [
       "            All              In VOC           Out of VOC          \n",
       "       f1 micro  f1 macro  f1 micro  f1 macro   f1 micro  f1 macro\n",
       "score  0.766175  0.328943  0.800173  0.402171      0.136  0.088183"
      ]
     },
     "metadata": {},
     "output_type": "display_data"
    },
    {
     "name": "stdout",
     "output_type": "stream",
     "text": [
      "Сплит 3\n"
     ]
    },
    {
     "name": "stderr",
     "output_type": "stream",
     "text": [
      "Epoch 1: 100%|██████████| 509/509 [00:49<00:00, 10.38batch/s, loss_decrease=1.0000025419631036]\n",
      "100%|██████████| 1372/1372 [00:14<00:00, 92.24batch/s] \n"
     ]
    },
    {
     "data": {
      "text/html": [
       "<div>\n",
       "<style scoped>\n",
       "    .dataframe tbody tr th:only-of-type {\n",
       "        vertical-align: middle;\n",
       "    }\n",
       "\n",
       "    .dataframe tbody tr th {\n",
       "        vertical-align: top;\n",
       "    }\n",
       "\n",
       "    .dataframe thead tr th {\n",
       "        text-align: left;\n",
       "    }\n",
       "</style>\n",
       "<table border=\"1\" class=\"dataframe\">\n",
       "  <thead>\n",
       "    <tr>\n",
       "      <th></th>\n",
       "      <th colspan=\"2\" halign=\"left\">All</th>\n",
       "      <th colspan=\"2\" halign=\"left\">In VOC</th>\n",
       "      <th colspan=\"2\" halign=\"left\">Out of VOC</th>\n",
       "    </tr>\n",
       "    <tr>\n",
       "      <th></th>\n",
       "      <th>f1 micro</th>\n",
       "      <th>f1 macro</th>\n",
       "      <th>f1 micro</th>\n",
       "      <th>f1 macro</th>\n",
       "      <th>f1 micro</th>\n",
       "      <th>f1 macro</th>\n",
       "    </tr>\n",
       "  </thead>\n",
       "  <tbody>\n",
       "    <tr>\n",
       "      <th>score</th>\n",
       "      <td>0.669096</td>\n",
       "      <td>0.27411</td>\n",
       "      <td>0.705426</td>\n",
       "      <td>0.333609</td>\n",
       "      <td>0.097561</td>\n",
       "      <td>0.05692</td>\n",
       "    </tr>\n",
       "  </tbody>\n",
       "</table>\n",
       "</div>"
      ],
      "text/plain": [
       "            All             In VOC           Out of VOC         \n",
       "       f1 micro f1 macro  f1 micro  f1 macro   f1 micro f1 macro\n",
       "score  0.669096  0.27411  0.705426  0.333609   0.097561  0.05692"
      ]
     },
     "metadata": {},
     "output_type": "display_data"
    },
    {
     "name": "stdout",
     "output_type": "stream",
     "text": [
      "Validation metric increased (-inf --> 0.274110).  Saving model ...\n"
     ]
    },
    {
     "name": "stderr",
     "output_type": "stream",
     "text": [
      "Epoch 2: 100%|██████████| 509/509 [00:46<00:00, 11.01batch/s, loss_decrease=1.0000027302571808]\n",
      "100%|██████████| 1372/1372 [00:14<00:00, 97.77batch/s] \n"
     ]
    },
    {
     "data": {
      "text/html": [
       "<div>\n",
       "<style scoped>\n",
       "    .dataframe tbody tr th:only-of-type {\n",
       "        vertical-align: middle;\n",
       "    }\n",
       "\n",
       "    .dataframe tbody tr th {\n",
       "        vertical-align: top;\n",
       "    }\n",
       "\n",
       "    .dataframe thead tr th {\n",
       "        text-align: left;\n",
       "    }\n",
       "</style>\n",
       "<table border=\"1\" class=\"dataframe\">\n",
       "  <thead>\n",
       "    <tr>\n",
       "      <th></th>\n",
       "      <th colspan=\"2\" halign=\"left\">All</th>\n",
       "      <th colspan=\"2\" halign=\"left\">In VOC</th>\n",
       "      <th colspan=\"2\" halign=\"left\">Out of VOC</th>\n",
       "    </tr>\n",
       "    <tr>\n",
       "      <th></th>\n",
       "      <th>f1 micro</th>\n",
       "      <th>f1 macro</th>\n",
       "      <th>f1 micro</th>\n",
       "      <th>f1 macro</th>\n",
       "      <th>f1 micro</th>\n",
       "      <th>f1 macro</th>\n",
       "    </tr>\n",
       "  </thead>\n",
       "  <tbody>\n",
       "    <tr>\n",
       "      <th>score</th>\n",
       "      <td>0.690233</td>\n",
       "      <td>0.296315</td>\n",
       "      <td>0.727907</td>\n",
       "      <td>0.363492</td>\n",
       "      <td>0.097561</td>\n",
       "      <td>0.058201</td>\n",
       "    </tr>\n",
       "  </tbody>\n",
       "</table>\n",
       "</div>"
      ],
      "text/plain": [
       "            All              In VOC           Out of VOC          \n",
       "       f1 micro  f1 macro  f1 micro  f1 macro   f1 micro  f1 macro\n",
       "score  0.690233  0.296315  0.727907  0.363492   0.097561  0.058201"
      ]
     },
     "metadata": {},
     "output_type": "display_data"
    },
    {
     "name": "stdout",
     "output_type": "stream",
     "text": [
      "Validation metric increased (0.274110 --> 0.296315).  Saving model ...\n"
     ]
    },
    {
     "name": "stderr",
     "output_type": "stream",
     "text": [
      "Epoch 3: 100%|██████████| 509/509 [00:41<00:00, 12.17batch/s, loss_decrease=1.0000027302571808]\n",
      "100%|██████████| 1372/1372 [00:13<00:00, 99.75batch/s] \n"
     ]
    },
    {
     "data": {
      "text/html": [
       "<div>\n",
       "<style scoped>\n",
       "    .dataframe tbody tr th:only-of-type {\n",
       "        vertical-align: middle;\n",
       "    }\n",
       "\n",
       "    .dataframe tbody tr th {\n",
       "        vertical-align: top;\n",
       "    }\n",
       "\n",
       "    .dataframe thead tr th {\n",
       "        text-align: left;\n",
       "    }\n",
       "</style>\n",
       "<table border=\"1\" class=\"dataframe\">\n",
       "  <thead>\n",
       "    <tr>\n",
       "      <th></th>\n",
       "      <th colspan=\"2\" halign=\"left\">All</th>\n",
       "      <th colspan=\"2\" halign=\"left\">In VOC</th>\n",
       "      <th colspan=\"2\" halign=\"left\">Out of VOC</th>\n",
       "    </tr>\n",
       "    <tr>\n",
       "      <th></th>\n",
       "      <th>f1 micro</th>\n",
       "      <th>f1 macro</th>\n",
       "      <th>f1 micro</th>\n",
       "      <th>f1 macro</th>\n",
       "      <th>f1 micro</th>\n",
       "      <th>f1 macro</th>\n",
       "    </tr>\n",
       "  </thead>\n",
       "  <tbody>\n",
       "    <tr>\n",
       "      <th>score</th>\n",
       "      <td>0.718659</td>\n",
       "      <td>0.304142</td>\n",
       "      <td>0.758915</td>\n",
       "      <td>0.375608</td>\n",
       "      <td>0.085366</td>\n",
       "      <td>0.048</td>\n",
       "    </tr>\n",
       "  </tbody>\n",
       "</table>\n",
       "</div>"
      ],
      "text/plain": [
       "            All              In VOC           Out of VOC         \n",
       "       f1 micro  f1 macro  f1 micro  f1 macro   f1 micro f1 macro\n",
       "score  0.718659  0.304142  0.758915  0.375608   0.085366    0.048"
      ]
     },
     "metadata": {},
     "output_type": "display_data"
    },
    {
     "name": "stdout",
     "output_type": "stream",
     "text": [
      "Validation metric increased (0.296315 --> 0.304142).  Saving model ...\n"
     ]
    },
    {
     "name": "stderr",
     "output_type": "stream",
     "text": [
      "Epoch 4: 100%|██████████| 509/509 [00:45<00:00, 11.08batch/s, loss_decrease=1.000002824404246] \n",
      "100%|██████████| 1372/1372 [00:14<00:00, 91.74batch/s] \n"
     ]
    },
    {
     "data": {
      "text/html": [
       "<div>\n",
       "<style scoped>\n",
       "    .dataframe tbody tr th:only-of-type {\n",
       "        vertical-align: middle;\n",
       "    }\n",
       "\n",
       "    .dataframe tbody tr th {\n",
       "        vertical-align: top;\n",
       "    }\n",
       "\n",
       "    .dataframe thead tr th {\n",
       "        text-align: left;\n",
       "    }\n",
       "</style>\n",
       "<table border=\"1\" class=\"dataframe\">\n",
       "  <thead>\n",
       "    <tr>\n",
       "      <th></th>\n",
       "      <th colspan=\"2\" halign=\"left\">All</th>\n",
       "      <th colspan=\"2\" halign=\"left\">In VOC</th>\n",
       "      <th colspan=\"2\" halign=\"left\">Out of VOC</th>\n",
       "    </tr>\n",
       "    <tr>\n",
       "      <th></th>\n",
       "      <th>f1 micro</th>\n",
       "      <th>f1 macro</th>\n",
       "      <th>f1 micro</th>\n",
       "      <th>f1 macro</th>\n",
       "      <th>f1 micro</th>\n",
       "      <th>f1 macro</th>\n",
       "    </tr>\n",
       "  </thead>\n",
       "  <tbody>\n",
       "    <tr>\n",
       "      <th>score</th>\n",
       "      <td>0.726676</td>\n",
       "      <td>0.317894</td>\n",
       "      <td>0.765116</td>\n",
       "      <td>0.396477</td>\n",
       "      <td>0.121951</td>\n",
       "      <td>0.06746</td>\n",
       "    </tr>\n",
       "  </tbody>\n",
       "</table>\n",
       "</div>"
      ],
      "text/plain": [
       "            All              In VOC           Out of VOC         \n",
       "       f1 micro  f1 macro  f1 micro  f1 macro   f1 micro f1 macro\n",
       "score  0.726676  0.317894  0.765116  0.396477   0.121951  0.06746"
      ]
     },
     "metadata": {},
     "output_type": "display_data"
    },
    {
     "name": "stdout",
     "output_type": "stream",
     "text": [
      "Validation metric increased (0.304142 --> 0.317894).  Saving model ...\n"
     ]
    },
    {
     "name": "stderr",
     "output_type": "stream",
     "text": [
      "Epoch 5: 100%|██████████| 509/509 [00:47<00:00, 10.70batch/s, loss_decrease=1.000002918551329] \n",
      "100%|██████████| 1372/1372 [00:15<00:00, 87.65batch/s] \n"
     ]
    },
    {
     "data": {
      "text/html": [
       "<div>\n",
       "<style scoped>\n",
       "    .dataframe tbody tr th:only-of-type {\n",
       "        vertical-align: middle;\n",
       "    }\n",
       "\n",
       "    .dataframe tbody tr th {\n",
       "        vertical-align: top;\n",
       "    }\n",
       "\n",
       "    .dataframe thead tr th {\n",
       "        text-align: left;\n",
       "    }\n",
       "</style>\n",
       "<table border=\"1\" class=\"dataframe\">\n",
       "  <thead>\n",
       "    <tr>\n",
       "      <th></th>\n",
       "      <th colspan=\"2\" halign=\"left\">All</th>\n",
       "      <th colspan=\"2\" halign=\"left\">In VOC</th>\n",
       "      <th colspan=\"2\" halign=\"left\">Out of VOC</th>\n",
       "    </tr>\n",
       "    <tr>\n",
       "      <th></th>\n",
       "      <th>f1 micro</th>\n",
       "      <th>f1 macro</th>\n",
       "      <th>f1 micro</th>\n",
       "      <th>f1 macro</th>\n",
       "      <th>f1 micro</th>\n",
       "      <th>f1 macro</th>\n",
       "    </tr>\n",
       "  </thead>\n",
       "  <tbody>\n",
       "    <tr>\n",
       "      <th>score</th>\n",
       "      <td>0.723761</td>\n",
       "      <td>0.303673</td>\n",
       "      <td>0.763566</td>\n",
       "      <td>0.380522</td>\n",
       "      <td>0.097561</td>\n",
       "      <td>0.042667</td>\n",
       "    </tr>\n",
       "  </tbody>\n",
       "</table>\n",
       "</div>"
      ],
      "text/plain": [
       "            All              In VOC           Out of VOC          \n",
       "       f1 micro  f1 macro  f1 micro  f1 macro   f1 micro  f1 macro\n",
       "score  0.723761  0.303673  0.763566  0.380522   0.097561  0.042667"
      ]
     },
     "metadata": {},
     "output_type": "display_data"
    },
    {
     "name": "stdout",
     "output_type": "stream",
     "text": [
      "EarlyStopping counter: 1 out of 7\n"
     ]
    },
    {
     "name": "stderr",
     "output_type": "stream",
     "text": [
      "Epoch 6: 100%|██████████| 509/509 [00:42<00:00, 11.96batch/s, loss_decrease=1.000002918551329] \n",
      "100%|██████████| 1372/1372 [00:14<00:00, 94.74batch/s] \n"
     ]
    },
    {
     "data": {
      "text/html": [
       "<div>\n",
       "<style scoped>\n",
       "    .dataframe tbody tr th:only-of-type {\n",
       "        vertical-align: middle;\n",
       "    }\n",
       "\n",
       "    .dataframe tbody tr th {\n",
       "        vertical-align: top;\n",
       "    }\n",
       "\n",
       "    .dataframe thead tr th {\n",
       "        text-align: left;\n",
       "    }\n",
       "</style>\n",
       "<table border=\"1\" class=\"dataframe\">\n",
       "  <thead>\n",
       "    <tr>\n",
       "      <th></th>\n",
       "      <th colspan=\"2\" halign=\"left\">All</th>\n",
       "      <th colspan=\"2\" halign=\"left\">In VOC</th>\n",
       "      <th colspan=\"2\" halign=\"left\">Out of VOC</th>\n",
       "    </tr>\n",
       "    <tr>\n",
       "      <th></th>\n",
       "      <th>f1 micro</th>\n",
       "      <th>f1 macro</th>\n",
       "      <th>f1 micro</th>\n",
       "      <th>f1 macro</th>\n",
       "      <th>f1 micro</th>\n",
       "      <th>f1 macro</th>\n",
       "    </tr>\n",
       "  </thead>\n",
       "  <tbody>\n",
       "    <tr>\n",
       "      <th>score</th>\n",
       "      <td>0.732507</td>\n",
       "      <td>0.293534</td>\n",
       "      <td>0.774419</td>\n",
       "      <td>0.378259</td>\n",
       "      <td>0.073171</td>\n",
       "      <td>0.028424</td>\n",
       "    </tr>\n",
       "  </tbody>\n",
       "</table>\n",
       "</div>"
      ],
      "text/plain": [
       "            All              In VOC           Out of VOC          \n",
       "       f1 micro  f1 macro  f1 micro  f1 macro   f1 micro  f1 macro\n",
       "score  0.732507  0.293534  0.774419  0.378259   0.073171  0.028424"
      ]
     },
     "metadata": {},
     "output_type": "display_data"
    },
    {
     "name": "stdout",
     "output_type": "stream",
     "text": [
      "EarlyStopping counter: 2 out of 7\n"
     ]
    },
    {
     "name": "stderr",
     "output_type": "stream",
     "text": [
      "Epoch 7: 100%|██████████| 509/509 [00:46<00:00, 11.04batch/s, loss_decrease=1.000002918551329] \n",
      "100%|██████████| 1372/1372 [00:14<00:00, 96.48batch/s] \n"
     ]
    },
    {
     "data": {
      "text/html": [
       "<div>\n",
       "<style scoped>\n",
       "    .dataframe tbody tr th:only-of-type {\n",
       "        vertical-align: middle;\n",
       "    }\n",
       "\n",
       "    .dataframe tbody tr th {\n",
       "        vertical-align: top;\n",
       "    }\n",
       "\n",
       "    .dataframe thead tr th {\n",
       "        text-align: left;\n",
       "    }\n",
       "</style>\n",
       "<table border=\"1\" class=\"dataframe\">\n",
       "  <thead>\n",
       "    <tr>\n",
       "      <th></th>\n",
       "      <th colspan=\"2\" halign=\"left\">All</th>\n",
       "      <th colspan=\"2\" halign=\"left\">In VOC</th>\n",
       "      <th colspan=\"2\" halign=\"left\">Out of VOC</th>\n",
       "    </tr>\n",
       "    <tr>\n",
       "      <th></th>\n",
       "      <th>f1 micro</th>\n",
       "      <th>f1 macro</th>\n",
       "      <th>f1 micro</th>\n",
       "      <th>f1 macro</th>\n",
       "      <th>f1 micro</th>\n",
       "      <th>f1 macro</th>\n",
       "    </tr>\n",
       "  </thead>\n",
       "  <tbody>\n",
       "    <tr>\n",
       "      <th>score</th>\n",
       "      <td>0.739796</td>\n",
       "      <td>0.311754</td>\n",
       "      <td>0.78062</td>\n",
       "      <td>0.391665</td>\n",
       "      <td>0.097561</td>\n",
       "      <td>0.044974</td>\n",
       "    </tr>\n",
       "  </tbody>\n",
       "</table>\n",
       "</div>"
      ],
      "text/plain": [
       "            All             In VOC           Out of VOC          \n",
       "       f1 micro  f1 macro f1 micro  f1 macro   f1 micro  f1 macro\n",
       "score  0.739796  0.311754  0.78062  0.391665   0.097561  0.044974"
      ]
     },
     "metadata": {},
     "output_type": "display_data"
    },
    {
     "name": "stdout",
     "output_type": "stream",
     "text": [
      "EarlyStopping counter: 3 out of 7\n"
     ]
    },
    {
     "name": "stderr",
     "output_type": "stream",
     "text": [
      "Epoch 8: 100%|██████████| 509/509 [00:47<00:00, 10.82batch/s, loss_decrease=1.000002918551329] \n",
      "100%|██████████| 1372/1372 [00:14<00:00, 93.74batch/s]\n"
     ]
    },
    {
     "data": {
      "text/html": [
       "<div>\n",
       "<style scoped>\n",
       "    .dataframe tbody tr th:only-of-type {\n",
       "        vertical-align: middle;\n",
       "    }\n",
       "\n",
       "    .dataframe tbody tr th {\n",
       "        vertical-align: top;\n",
       "    }\n",
       "\n",
       "    .dataframe thead tr th {\n",
       "        text-align: left;\n",
       "    }\n",
       "</style>\n",
       "<table border=\"1\" class=\"dataframe\">\n",
       "  <thead>\n",
       "    <tr>\n",
       "      <th></th>\n",
       "      <th colspan=\"2\" halign=\"left\">All</th>\n",
       "      <th colspan=\"2\" halign=\"left\">In VOC</th>\n",
       "      <th colspan=\"2\" halign=\"left\">Out of VOC</th>\n",
       "    </tr>\n",
       "    <tr>\n",
       "      <th></th>\n",
       "      <th>f1 micro</th>\n",
       "      <th>f1 macro</th>\n",
       "      <th>f1 micro</th>\n",
       "      <th>f1 macro</th>\n",
       "      <th>f1 micro</th>\n",
       "      <th>f1 macro</th>\n",
       "    </tr>\n",
       "  </thead>\n",
       "  <tbody>\n",
       "    <tr>\n",
       "      <th>score</th>\n",
       "      <td>0.741254</td>\n",
       "      <td>0.315033</td>\n",
       "      <td>0.782946</td>\n",
       "      <td>0.403508</td>\n",
       "      <td>0.085366</td>\n",
       "      <td>0.035623</td>\n",
       "    </tr>\n",
       "  </tbody>\n",
       "</table>\n",
       "</div>"
      ],
      "text/plain": [
       "            All              In VOC           Out of VOC          \n",
       "       f1 micro  f1 macro  f1 micro  f1 macro   f1 micro  f1 macro\n",
       "score  0.741254  0.315033  0.782946  0.403508   0.085366  0.035623"
      ]
     },
     "metadata": {},
     "output_type": "display_data"
    },
    {
     "name": "stdout",
     "output_type": "stream",
     "text": [
      "EarlyStopping counter: 4 out of 7\n"
     ]
    },
    {
     "name": "stderr",
     "output_type": "stream",
     "text": [
      "Epoch 9: 100%|██████████| 509/509 [00:47<00:00, 10.81batch/s, loss_decrease=1.000002918551329] \n",
      "100%|██████████| 1372/1372 [00:14<00:00, 97.99batch/s] \n"
     ]
    },
    {
     "data": {
      "text/html": [
       "<div>\n",
       "<style scoped>\n",
       "    .dataframe tbody tr th:only-of-type {\n",
       "        vertical-align: middle;\n",
       "    }\n",
       "\n",
       "    .dataframe tbody tr th {\n",
       "        vertical-align: top;\n",
       "    }\n",
       "\n",
       "    .dataframe thead tr th {\n",
       "        text-align: left;\n",
       "    }\n",
       "</style>\n",
       "<table border=\"1\" class=\"dataframe\">\n",
       "  <thead>\n",
       "    <tr>\n",
       "      <th></th>\n",
       "      <th colspan=\"2\" halign=\"left\">All</th>\n",
       "      <th colspan=\"2\" halign=\"left\">In VOC</th>\n",
       "      <th colspan=\"2\" halign=\"left\">Out of VOC</th>\n",
       "    </tr>\n",
       "    <tr>\n",
       "      <th></th>\n",
       "      <th>f1 micro</th>\n",
       "      <th>f1 macro</th>\n",
       "      <th>f1 micro</th>\n",
       "      <th>f1 macro</th>\n",
       "      <th>f1 micro</th>\n",
       "      <th>f1 macro</th>\n",
       "    </tr>\n",
       "  </thead>\n",
       "  <tbody>\n",
       "    <tr>\n",
       "      <th>score</th>\n",
       "      <td>0.740525</td>\n",
       "      <td>0.31398</td>\n",
       "      <td>0.781395</td>\n",
       "      <td>0.39679</td>\n",
       "      <td>0.097561</td>\n",
       "      <td>0.043257</td>\n",
       "    </tr>\n",
       "  </tbody>\n",
       "</table>\n",
       "</div>"
      ],
      "text/plain": [
       "            All             In VOC          Out of VOC          \n",
       "       f1 micro f1 macro  f1 micro f1 macro   f1 micro  f1 macro\n",
       "score  0.740525  0.31398  0.781395  0.39679   0.097561  0.043257"
      ]
     },
     "metadata": {},
     "output_type": "display_data"
    },
    {
     "name": "stdout",
     "output_type": "stream",
     "text": [
      "EarlyStopping counter: 5 out of 7\n"
     ]
    },
    {
     "name": "stderr",
     "output_type": "stream",
     "text": [
      "Epoch 10: 100%|██████████| 509/509 [00:48<00:00, 10.51batch/s, loss_decrease=1.000002918551329] \n",
      "100%|██████████| 1372/1372 [00:15<00:00, 90.64batch/s] \n"
     ]
    },
    {
     "data": {
      "text/html": [
       "<div>\n",
       "<style scoped>\n",
       "    .dataframe tbody tr th:only-of-type {\n",
       "        vertical-align: middle;\n",
       "    }\n",
       "\n",
       "    .dataframe tbody tr th {\n",
       "        vertical-align: top;\n",
       "    }\n",
       "\n",
       "    .dataframe thead tr th {\n",
       "        text-align: left;\n",
       "    }\n",
       "</style>\n",
       "<table border=\"1\" class=\"dataframe\">\n",
       "  <thead>\n",
       "    <tr>\n",
       "      <th></th>\n",
       "      <th colspan=\"2\" halign=\"left\">All</th>\n",
       "      <th colspan=\"2\" halign=\"left\">In VOC</th>\n",
       "      <th colspan=\"2\" halign=\"left\">Out of VOC</th>\n",
       "    </tr>\n",
       "    <tr>\n",
       "      <th></th>\n",
       "      <th>f1 micro</th>\n",
       "      <th>f1 macro</th>\n",
       "      <th>f1 micro</th>\n",
       "      <th>f1 macro</th>\n",
       "      <th>f1 micro</th>\n",
       "      <th>f1 macro</th>\n",
       "    </tr>\n",
       "  </thead>\n",
       "  <tbody>\n",
       "    <tr>\n",
       "      <th>score</th>\n",
       "      <td>0.74344</td>\n",
       "      <td>0.321502</td>\n",
       "      <td>0.785271</td>\n",
       "      <td>0.412919</td>\n",
       "      <td>0.085366</td>\n",
       "      <td>0.033592</td>\n",
       "    </tr>\n",
       "  </tbody>\n",
       "</table>\n",
       "</div>"
      ],
      "text/plain": [
       "           All              In VOC           Out of VOC          \n",
       "      f1 micro  f1 macro  f1 micro  f1 macro   f1 micro  f1 macro\n",
       "score  0.74344  0.321502  0.785271  0.412919   0.085366  0.033592"
      ]
     },
     "metadata": {},
     "output_type": "display_data"
    },
    {
     "name": "stdout",
     "output_type": "stream",
     "text": [
      "Validation metric increased (0.317894 --> 0.321502).  Saving model ...\n"
     ]
    },
    {
     "name": "stderr",
     "output_type": "stream",
     "text": [
      "Epoch 11: 100%|██████████| 509/509 [00:46<00:00, 10.93batch/s, loss_decrease=1.000002918551329] \n",
      "100%|██████████| 1372/1372 [00:13<00:00, 99.27batch/s] \n"
     ]
    },
    {
     "data": {
      "text/html": [
       "<div>\n",
       "<style scoped>\n",
       "    .dataframe tbody tr th:only-of-type {\n",
       "        vertical-align: middle;\n",
       "    }\n",
       "\n",
       "    .dataframe tbody tr th {\n",
       "        vertical-align: top;\n",
       "    }\n",
       "\n",
       "    .dataframe thead tr th {\n",
       "        text-align: left;\n",
       "    }\n",
       "</style>\n",
       "<table border=\"1\" class=\"dataframe\">\n",
       "  <thead>\n",
       "    <tr>\n",
       "      <th></th>\n",
       "      <th colspan=\"2\" halign=\"left\">All</th>\n",
       "      <th colspan=\"2\" halign=\"left\">In VOC</th>\n",
       "      <th colspan=\"2\" halign=\"left\">Out of VOC</th>\n",
       "    </tr>\n",
       "    <tr>\n",
       "      <th></th>\n",
       "      <th>f1 micro</th>\n",
       "      <th>f1 macro</th>\n",
       "      <th>f1 micro</th>\n",
       "      <th>f1 macro</th>\n",
       "      <th>f1 micro</th>\n",
       "      <th>f1 macro</th>\n",
       "    </tr>\n",
       "  </thead>\n",
       "  <tbody>\n",
       "    <tr>\n",
       "      <th>score</th>\n",
       "      <td>0.744898</td>\n",
       "      <td>0.324773</td>\n",
       "      <td>0.787597</td>\n",
       "      <td>0.417828</td>\n",
       "      <td>0.073171</td>\n",
       "      <td>0.034632</td>\n",
       "    </tr>\n",
       "  </tbody>\n",
       "</table>\n",
       "</div>"
      ],
      "text/plain": [
       "            All              In VOC           Out of VOC          \n",
       "       f1 micro  f1 macro  f1 micro  f1 macro   f1 micro  f1 macro\n",
       "score  0.744898  0.324773  0.787597  0.417828   0.073171  0.034632"
      ]
     },
     "metadata": {},
     "output_type": "display_data"
    },
    {
     "name": "stdout",
     "output_type": "stream",
     "text": [
      "Validation metric increased (0.321502 --> 0.324773).  Saving model ...\n"
     ]
    },
    {
     "name": "stderr",
     "output_type": "stream",
     "text": [
      "Epoch 12: 100%|██████████| 509/509 [00:45<00:00, 11.07batch/s, loss_decrease=1.000002918551329] \n",
      "100%|██████████| 1372/1372 [00:14<00:00, 97.66batch/s] \n"
     ]
    },
    {
     "data": {
      "text/html": [
       "<div>\n",
       "<style scoped>\n",
       "    .dataframe tbody tr th:only-of-type {\n",
       "        vertical-align: middle;\n",
       "    }\n",
       "\n",
       "    .dataframe tbody tr th {\n",
       "        vertical-align: top;\n",
       "    }\n",
       "\n",
       "    .dataframe thead tr th {\n",
       "        text-align: left;\n",
       "    }\n",
       "</style>\n",
       "<table border=\"1\" class=\"dataframe\">\n",
       "  <thead>\n",
       "    <tr>\n",
       "      <th></th>\n",
       "      <th colspan=\"2\" halign=\"left\">All</th>\n",
       "      <th colspan=\"2\" halign=\"left\">In VOC</th>\n",
       "      <th colspan=\"2\" halign=\"left\">Out of VOC</th>\n",
       "    </tr>\n",
       "    <tr>\n",
       "      <th></th>\n",
       "      <th>f1 micro</th>\n",
       "      <th>f1 macro</th>\n",
       "      <th>f1 micro</th>\n",
       "      <th>f1 macro</th>\n",
       "      <th>f1 micro</th>\n",
       "      <th>f1 macro</th>\n",
       "    </tr>\n",
       "  </thead>\n",
       "  <tbody>\n",
       "    <tr>\n",
       "      <th>score</th>\n",
       "      <td>0.734694</td>\n",
       "      <td>0.321771</td>\n",
       "      <td>0.775969</td>\n",
       "      <td>0.407507</td>\n",
       "      <td>0.085366</td>\n",
       "      <td>0.044218</td>\n",
       "    </tr>\n",
       "  </tbody>\n",
       "</table>\n",
       "</div>"
      ],
      "text/plain": [
       "            All              In VOC           Out of VOC          \n",
       "       f1 micro  f1 macro  f1 micro  f1 macro   f1 micro  f1 macro\n",
       "score  0.734694  0.321771  0.775969  0.407507   0.085366  0.044218"
      ]
     },
     "metadata": {},
     "output_type": "display_data"
    },
    {
     "name": "stdout",
     "output_type": "stream",
     "text": [
      "EarlyStopping counter: 1 out of 7\n"
     ]
    },
    {
     "name": "stderr",
     "output_type": "stream",
     "text": [
      "Epoch 13: 100%|██████████| 509/509 [00:44<00:00, 11.41batch/s, loss_decrease=1.000002918551329] \n",
      "100%|██████████| 1372/1372 [00:14<00:00, 96.34batch/s] \n"
     ]
    },
    {
     "data": {
      "text/html": [
       "<div>\n",
       "<style scoped>\n",
       "    .dataframe tbody tr th:only-of-type {\n",
       "        vertical-align: middle;\n",
       "    }\n",
       "\n",
       "    .dataframe tbody tr th {\n",
       "        vertical-align: top;\n",
       "    }\n",
       "\n",
       "    .dataframe thead tr th {\n",
       "        text-align: left;\n",
       "    }\n",
       "</style>\n",
       "<table border=\"1\" class=\"dataframe\">\n",
       "  <thead>\n",
       "    <tr>\n",
       "      <th></th>\n",
       "      <th colspan=\"2\" halign=\"left\">All</th>\n",
       "      <th colspan=\"2\" halign=\"left\">In VOC</th>\n",
       "      <th colspan=\"2\" halign=\"left\">Out of VOC</th>\n",
       "    </tr>\n",
       "    <tr>\n",
       "      <th></th>\n",
       "      <th>f1 micro</th>\n",
       "      <th>f1 macro</th>\n",
       "      <th>f1 micro</th>\n",
       "      <th>f1 macro</th>\n",
       "      <th>f1 micro</th>\n",
       "      <th>f1 macro</th>\n",
       "    </tr>\n",
       "  </thead>\n",
       "  <tbody>\n",
       "    <tr>\n",
       "      <th>score</th>\n",
       "      <td>0.737609</td>\n",
       "      <td>0.317037</td>\n",
       "      <td>0.77907</td>\n",
       "      <td>0.397849</td>\n",
       "      <td>0.085366</td>\n",
       "      <td>0.042857</td>\n",
       "    </tr>\n",
       "  </tbody>\n",
       "</table>\n",
       "</div>"
      ],
      "text/plain": [
       "            All             In VOC           Out of VOC          \n",
       "       f1 micro  f1 macro f1 micro  f1 macro   f1 micro  f1 macro\n",
       "score  0.737609  0.317037  0.77907  0.397849   0.085366  0.042857"
      ]
     },
     "metadata": {},
     "output_type": "display_data"
    },
    {
     "name": "stdout",
     "output_type": "stream",
     "text": [
      "EarlyStopping counter: 2 out of 7\n"
     ]
    },
    {
     "name": "stderr",
     "output_type": "stream",
     "text": [
      "Epoch 14: 100%|██████████| 509/509 [00:44<00:00, 11.32batch/s, loss_decrease=1.000002918551329] \n",
      "100%|██████████| 1372/1372 [00:14<00:00, 96.44batch/s]\n"
     ]
    },
    {
     "data": {
      "text/html": [
       "<div>\n",
       "<style scoped>\n",
       "    .dataframe tbody tr th:only-of-type {\n",
       "        vertical-align: middle;\n",
       "    }\n",
       "\n",
       "    .dataframe tbody tr th {\n",
       "        vertical-align: top;\n",
       "    }\n",
       "\n",
       "    .dataframe thead tr th {\n",
       "        text-align: left;\n",
       "    }\n",
       "</style>\n",
       "<table border=\"1\" class=\"dataframe\">\n",
       "  <thead>\n",
       "    <tr>\n",
       "      <th></th>\n",
       "      <th colspan=\"2\" halign=\"left\">All</th>\n",
       "      <th colspan=\"2\" halign=\"left\">In VOC</th>\n",
       "      <th colspan=\"2\" halign=\"left\">Out of VOC</th>\n",
       "    </tr>\n",
       "    <tr>\n",
       "      <th></th>\n",
       "      <th>f1 micro</th>\n",
       "      <th>f1 macro</th>\n",
       "      <th>f1 micro</th>\n",
       "      <th>f1 macro</th>\n",
       "      <th>f1 micro</th>\n",
       "      <th>f1 macro</th>\n",
       "    </tr>\n",
       "  </thead>\n",
       "  <tbody>\n",
       "    <tr>\n",
       "      <th>score</th>\n",
       "      <td>0.742711</td>\n",
       "      <td>0.329115</td>\n",
       "      <td>0.782946</td>\n",
       "      <td>0.40565</td>\n",
       "      <td>0.109756</td>\n",
       "      <td>0.059618</td>\n",
       "    </tr>\n",
       "  </tbody>\n",
       "</table>\n",
       "</div>"
      ],
      "text/plain": [
       "            All              In VOC          Out of VOC          \n",
       "       f1 micro  f1 macro  f1 micro f1 macro   f1 micro  f1 macro\n",
       "score  0.742711  0.329115  0.782946  0.40565   0.109756  0.059618"
      ]
     },
     "metadata": {},
     "output_type": "display_data"
    },
    {
     "name": "stdout",
     "output_type": "stream",
     "text": [
      "Validation metric increased (0.324773 --> 0.329115).  Saving model ...\n"
     ]
    },
    {
     "name": "stderr",
     "output_type": "stream",
     "text": [
      "Epoch 15: 100%|██████████| 509/509 [00:46<00:00, 11.06batch/s, loss_decrease=1.000002918551329] \n",
      "100%|██████████| 1372/1372 [00:14<00:00, 96.67batch/s] \n"
     ]
    },
    {
     "data": {
      "text/html": [
       "<div>\n",
       "<style scoped>\n",
       "    .dataframe tbody tr th:only-of-type {\n",
       "        vertical-align: middle;\n",
       "    }\n",
       "\n",
       "    .dataframe tbody tr th {\n",
       "        vertical-align: top;\n",
       "    }\n",
       "\n",
       "    .dataframe thead tr th {\n",
       "        text-align: left;\n",
       "    }\n",
       "</style>\n",
       "<table border=\"1\" class=\"dataframe\">\n",
       "  <thead>\n",
       "    <tr>\n",
       "      <th></th>\n",
       "      <th colspan=\"2\" halign=\"left\">All</th>\n",
       "      <th colspan=\"2\" halign=\"left\">In VOC</th>\n",
       "      <th colspan=\"2\" halign=\"left\">Out of VOC</th>\n",
       "    </tr>\n",
       "    <tr>\n",
       "      <th></th>\n",
       "      <th>f1 micro</th>\n",
       "      <th>f1 macro</th>\n",
       "      <th>f1 micro</th>\n",
       "      <th>f1 macro</th>\n",
       "      <th>f1 micro</th>\n",
       "      <th>f1 macro</th>\n",
       "    </tr>\n",
       "  </thead>\n",
       "  <tbody>\n",
       "    <tr>\n",
       "      <th>score</th>\n",
       "      <td>0.75</td>\n",
       "      <td>0.335895</td>\n",
       "      <td>0.790698</td>\n",
       "      <td>0.420793</td>\n",
       "      <td>0.109756</td>\n",
       "      <td>0.059152</td>\n",
       "    </tr>\n",
       "  </tbody>\n",
       "</table>\n",
       "</div>"
      ],
      "text/plain": [
       "           All              In VOC           Out of VOC          \n",
       "      f1 micro  f1 macro  f1 micro  f1 macro   f1 micro  f1 macro\n",
       "score     0.75  0.335895  0.790698  0.420793   0.109756  0.059152"
      ]
     },
     "metadata": {},
     "output_type": "display_data"
    },
    {
     "name": "stdout",
     "output_type": "stream",
     "text": [
      "Validation metric increased (0.329115 --> 0.335895).  Saving model ...\n"
     ]
    },
    {
     "name": "stderr",
     "output_type": "stream",
     "text": [
      "Epoch 16: 100%|██████████| 509/509 [00:45<00:00, 11.10batch/s, loss_decrease=1.000002918551329] \n",
      "100%|██████████| 1372/1372 [00:14<00:00, 96.53batch/s] \n"
     ]
    },
    {
     "data": {
      "text/html": [
       "<div>\n",
       "<style scoped>\n",
       "    .dataframe tbody tr th:only-of-type {\n",
       "        vertical-align: middle;\n",
       "    }\n",
       "\n",
       "    .dataframe tbody tr th {\n",
       "        vertical-align: top;\n",
       "    }\n",
       "\n",
       "    .dataframe thead tr th {\n",
       "        text-align: left;\n",
       "    }\n",
       "</style>\n",
       "<table border=\"1\" class=\"dataframe\">\n",
       "  <thead>\n",
       "    <tr>\n",
       "      <th></th>\n",
       "      <th colspan=\"2\" halign=\"left\">All</th>\n",
       "      <th colspan=\"2\" halign=\"left\">In VOC</th>\n",
       "      <th colspan=\"2\" halign=\"left\">Out of VOC</th>\n",
       "    </tr>\n",
       "    <tr>\n",
       "      <th></th>\n",
       "      <th>f1 micro</th>\n",
       "      <th>f1 macro</th>\n",
       "      <th>f1 micro</th>\n",
       "      <th>f1 macro</th>\n",
       "      <th>f1 micro</th>\n",
       "      <th>f1 macro</th>\n",
       "    </tr>\n",
       "  </thead>\n",
       "  <tbody>\n",
       "    <tr>\n",
       "      <th>score</th>\n",
       "      <td>0.748542</td>\n",
       "      <td>0.338969</td>\n",
       "      <td>0.789922</td>\n",
       "      <td>0.429459</td>\n",
       "      <td>0.097561</td>\n",
       "      <td>0.050549</td>\n",
       "    </tr>\n",
       "  </tbody>\n",
       "</table>\n",
       "</div>"
      ],
      "text/plain": [
       "            All              In VOC           Out of VOC          \n",
       "       f1 micro  f1 macro  f1 micro  f1 macro   f1 micro  f1 macro\n",
       "score  0.748542  0.338969  0.789922  0.429459   0.097561  0.050549"
      ]
     },
     "metadata": {},
     "output_type": "display_data"
    },
    {
     "name": "stdout",
     "output_type": "stream",
     "text": [
      "Validation metric increased (0.335895 --> 0.338969).  Saving model ...\n"
     ]
    },
    {
     "name": "stderr",
     "output_type": "stream",
     "text": [
      "Epoch 17: 100%|██████████| 509/509 [00:46<00:00, 10.87batch/s, loss_decrease=1.000002918551329] \n",
      "100%|██████████| 1372/1372 [00:14<00:00, 95.07batch/s] \n"
     ]
    },
    {
     "data": {
      "text/html": [
       "<div>\n",
       "<style scoped>\n",
       "    .dataframe tbody tr th:only-of-type {\n",
       "        vertical-align: middle;\n",
       "    }\n",
       "\n",
       "    .dataframe tbody tr th {\n",
       "        vertical-align: top;\n",
       "    }\n",
       "\n",
       "    .dataframe thead tr th {\n",
       "        text-align: left;\n",
       "    }\n",
       "</style>\n",
       "<table border=\"1\" class=\"dataframe\">\n",
       "  <thead>\n",
       "    <tr>\n",
       "      <th></th>\n",
       "      <th colspan=\"2\" halign=\"left\">All</th>\n",
       "      <th colspan=\"2\" halign=\"left\">In VOC</th>\n",
       "      <th colspan=\"2\" halign=\"left\">Out of VOC</th>\n",
       "    </tr>\n",
       "    <tr>\n",
       "      <th></th>\n",
       "      <th>f1 micro</th>\n",
       "      <th>f1 macro</th>\n",
       "      <th>f1 micro</th>\n",
       "      <th>f1 macro</th>\n",
       "      <th>f1 micro</th>\n",
       "      <th>f1 macro</th>\n",
       "    </tr>\n",
       "  </thead>\n",
       "  <tbody>\n",
       "    <tr>\n",
       "      <th>score</th>\n",
       "      <td>0.747085</td>\n",
       "      <td>0.336643</td>\n",
       "      <td>0.788372</td>\n",
       "      <td>0.426184</td>\n",
       "      <td>0.097561</td>\n",
       "      <td>0.050941</td>\n",
       "    </tr>\n",
       "  </tbody>\n",
       "</table>\n",
       "</div>"
      ],
      "text/plain": [
       "            All              In VOC           Out of VOC          \n",
       "       f1 micro  f1 macro  f1 micro  f1 macro   f1 micro  f1 macro\n",
       "score  0.747085  0.336643  0.788372  0.426184   0.097561  0.050941"
      ]
     },
     "metadata": {},
     "output_type": "display_data"
    },
    {
     "name": "stdout",
     "output_type": "stream",
     "text": [
      "EarlyStopping counter: 1 out of 7\n"
     ]
    },
    {
     "name": "stderr",
     "output_type": "stream",
     "text": [
      "Epoch 18: 100%|██████████| 509/509 [00:46<00:00, 10.99batch/s, loss_decrease=1.000002918551329] \n",
      "100%|██████████| 1372/1372 [00:14<00:00, 97.35batch/s]\n"
     ]
    },
    {
     "data": {
      "text/html": [
       "<div>\n",
       "<style scoped>\n",
       "    .dataframe tbody tr th:only-of-type {\n",
       "        vertical-align: middle;\n",
       "    }\n",
       "\n",
       "    .dataframe tbody tr th {\n",
       "        vertical-align: top;\n",
       "    }\n",
       "\n",
       "    .dataframe thead tr th {\n",
       "        text-align: left;\n",
       "    }\n",
       "</style>\n",
       "<table border=\"1\" class=\"dataframe\">\n",
       "  <thead>\n",
       "    <tr>\n",
       "      <th></th>\n",
       "      <th colspan=\"2\" halign=\"left\">All</th>\n",
       "      <th colspan=\"2\" halign=\"left\">In VOC</th>\n",
       "      <th colspan=\"2\" halign=\"left\">Out of VOC</th>\n",
       "    </tr>\n",
       "    <tr>\n",
       "      <th></th>\n",
       "      <th>f1 micro</th>\n",
       "      <th>f1 macro</th>\n",
       "      <th>f1 micro</th>\n",
       "      <th>f1 macro</th>\n",
       "      <th>f1 micro</th>\n",
       "      <th>f1 macro</th>\n",
       "    </tr>\n",
       "  </thead>\n",
       "  <tbody>\n",
       "    <tr>\n",
       "      <th>score</th>\n",
       "      <td>0.751458</td>\n",
       "      <td>0.339054</td>\n",
       "      <td>0.792248</td>\n",
       "      <td>0.425483</td>\n",
       "      <td>0.109756</td>\n",
       "      <td>0.058242</td>\n",
       "    </tr>\n",
       "  </tbody>\n",
       "</table>\n",
       "</div>"
      ],
      "text/plain": [
       "            All              In VOC           Out of VOC          \n",
       "       f1 micro  f1 macro  f1 micro  f1 macro   f1 micro  f1 macro\n",
       "score  0.751458  0.339054  0.792248  0.425483   0.109756  0.058242"
      ]
     },
     "metadata": {},
     "output_type": "display_data"
    },
    {
     "name": "stdout",
     "output_type": "stream",
     "text": [
      "Validation metric increased (0.338969 --> 0.339054).  Saving model ...\n"
     ]
    },
    {
     "name": "stderr",
     "output_type": "stream",
     "text": [
      "Epoch 19: 100%|██████████| 509/509 [00:46<00:00, 11.02batch/s, loss_decrease=1.000002918551329] \n",
      "100%|██████████| 1372/1372 [00:14<00:00, 97.63batch/s] \n"
     ]
    },
    {
     "data": {
      "text/html": [
       "<div>\n",
       "<style scoped>\n",
       "    .dataframe tbody tr th:only-of-type {\n",
       "        vertical-align: middle;\n",
       "    }\n",
       "\n",
       "    .dataframe tbody tr th {\n",
       "        vertical-align: top;\n",
       "    }\n",
       "\n",
       "    .dataframe thead tr th {\n",
       "        text-align: left;\n",
       "    }\n",
       "</style>\n",
       "<table border=\"1\" class=\"dataframe\">\n",
       "  <thead>\n",
       "    <tr>\n",
       "      <th></th>\n",
       "      <th colspan=\"2\" halign=\"left\">All</th>\n",
       "      <th colspan=\"2\" halign=\"left\">In VOC</th>\n",
       "      <th colspan=\"2\" halign=\"left\">Out of VOC</th>\n",
       "    </tr>\n",
       "    <tr>\n",
       "      <th></th>\n",
       "      <th>f1 micro</th>\n",
       "      <th>f1 macro</th>\n",
       "      <th>f1 micro</th>\n",
       "      <th>f1 macro</th>\n",
       "      <th>f1 micro</th>\n",
       "      <th>f1 macro</th>\n",
       "    </tr>\n",
       "  </thead>\n",
       "  <tbody>\n",
       "    <tr>\n",
       "      <th>score</th>\n",
       "      <td>0.753644</td>\n",
       "      <td>0.350557</td>\n",
       "      <td>0.796124</td>\n",
       "      <td>0.451502</td>\n",
       "      <td>0.085366</td>\n",
       "      <td>0.04253</td>\n",
       "    </tr>\n",
       "  </tbody>\n",
       "</table>\n",
       "</div>"
      ],
      "text/plain": [
       "            All              In VOC           Out of VOC         \n",
       "       f1 micro  f1 macro  f1 micro  f1 macro   f1 micro f1 macro\n",
       "score  0.753644  0.350557  0.796124  0.451502   0.085366  0.04253"
      ]
     },
     "metadata": {},
     "output_type": "display_data"
    },
    {
     "name": "stdout",
     "output_type": "stream",
     "text": [
      "Validation metric increased (0.339054 --> 0.350557).  Saving model ...\n"
     ]
    },
    {
     "name": "stderr",
     "output_type": "stream",
     "text": [
      "Epoch 20: 100%|██████████| 509/509 [00:44<00:00, 11.41batch/s, loss_decrease=1.000002918551329] \n",
      "100%|██████████| 1372/1372 [00:14<00:00, 97.24batch/s] \n"
     ]
    },
    {
     "data": {
      "text/html": [
       "<div>\n",
       "<style scoped>\n",
       "    .dataframe tbody tr th:only-of-type {\n",
       "        vertical-align: middle;\n",
       "    }\n",
       "\n",
       "    .dataframe tbody tr th {\n",
       "        vertical-align: top;\n",
       "    }\n",
       "\n",
       "    .dataframe thead tr th {\n",
       "        text-align: left;\n",
       "    }\n",
       "</style>\n",
       "<table border=\"1\" class=\"dataframe\">\n",
       "  <thead>\n",
       "    <tr>\n",
       "      <th></th>\n",
       "      <th colspan=\"2\" halign=\"left\">All</th>\n",
       "      <th colspan=\"2\" halign=\"left\">In VOC</th>\n",
       "      <th colspan=\"2\" halign=\"left\">Out of VOC</th>\n",
       "    </tr>\n",
       "    <tr>\n",
       "      <th></th>\n",
       "      <th>f1 micro</th>\n",
       "      <th>f1 macro</th>\n",
       "      <th>f1 micro</th>\n",
       "      <th>f1 macro</th>\n",
       "      <th>f1 micro</th>\n",
       "      <th>f1 macro</th>\n",
       "    </tr>\n",
       "  </thead>\n",
       "  <tbody>\n",
       "    <tr>\n",
       "      <th>score</th>\n",
       "      <td>0.755102</td>\n",
       "      <td>0.351529</td>\n",
       "      <td>0.797674</td>\n",
       "      <td>0.446368</td>\n",
       "      <td>0.085366</td>\n",
       "      <td>0.04189</td>\n",
       "    </tr>\n",
       "  </tbody>\n",
       "</table>\n",
       "</div>"
      ],
      "text/plain": [
       "            All              In VOC           Out of VOC         \n",
       "       f1 micro  f1 macro  f1 micro  f1 macro   f1 micro f1 macro\n",
       "score  0.755102  0.351529  0.797674  0.446368   0.085366  0.04189"
      ]
     },
     "metadata": {},
     "output_type": "display_data"
    },
    {
     "name": "stdout",
     "output_type": "stream",
     "text": [
      "Validation metric increased (0.350557 --> 0.351529).  Saving model ...\n"
     ]
    },
    {
     "name": "stderr",
     "output_type": "stream",
     "text": [
      "Epoch 21: 100%|██████████| 509/509 [00:45<00:00, 11.11batch/s, loss_decrease=1.000002918551329] \n",
      "100%|██████████| 1372/1372 [00:14<00:00, 96.34batch/s] \n"
     ]
    },
    {
     "data": {
      "text/html": [
       "<div>\n",
       "<style scoped>\n",
       "    .dataframe tbody tr th:only-of-type {\n",
       "        vertical-align: middle;\n",
       "    }\n",
       "\n",
       "    .dataframe tbody tr th {\n",
       "        vertical-align: top;\n",
       "    }\n",
       "\n",
       "    .dataframe thead tr th {\n",
       "        text-align: left;\n",
       "    }\n",
       "</style>\n",
       "<table border=\"1\" class=\"dataframe\">\n",
       "  <thead>\n",
       "    <tr>\n",
       "      <th></th>\n",
       "      <th colspan=\"2\" halign=\"left\">All</th>\n",
       "      <th colspan=\"2\" halign=\"left\">In VOC</th>\n",
       "      <th colspan=\"2\" halign=\"left\">Out of VOC</th>\n",
       "    </tr>\n",
       "    <tr>\n",
       "      <th></th>\n",
       "      <th>f1 micro</th>\n",
       "      <th>f1 macro</th>\n",
       "      <th>f1 micro</th>\n",
       "      <th>f1 macro</th>\n",
       "      <th>f1 micro</th>\n",
       "      <th>f1 macro</th>\n",
       "    </tr>\n",
       "  </thead>\n",
       "  <tbody>\n",
       "    <tr>\n",
       "      <th>score</th>\n",
       "      <td>0.757289</td>\n",
       "      <td>0.348719</td>\n",
       "      <td>0.79845</td>\n",
       "      <td>0.443785</td>\n",
       "      <td>0.109756</td>\n",
       "      <td>0.05597</td>\n",
       "    </tr>\n",
       "  </tbody>\n",
       "</table>\n",
       "</div>"
      ],
      "text/plain": [
       "            All             In VOC           Out of VOC         \n",
       "       f1 micro  f1 macro f1 micro  f1 macro   f1 micro f1 macro\n",
       "score  0.757289  0.348719  0.79845  0.443785   0.109756  0.05597"
      ]
     },
     "metadata": {},
     "output_type": "display_data"
    },
    {
     "name": "stdout",
     "output_type": "stream",
     "text": [
      "EarlyStopping counter: 1 out of 7\n"
     ]
    },
    {
     "name": "stderr",
     "output_type": "stream",
     "text": [
      "Epoch 22: 100%|██████████| 509/509 [00:45<00:00, 11.12batch/s, loss_decrease=1.0000030126984298]\n",
      "100%|██████████| 1372/1372 [00:14<00:00, 95.46batch/s] \n"
     ]
    },
    {
     "data": {
      "text/html": [
       "<div>\n",
       "<style scoped>\n",
       "    .dataframe tbody tr th:only-of-type {\n",
       "        vertical-align: middle;\n",
       "    }\n",
       "\n",
       "    .dataframe tbody tr th {\n",
       "        vertical-align: top;\n",
       "    }\n",
       "\n",
       "    .dataframe thead tr th {\n",
       "        text-align: left;\n",
       "    }\n",
       "</style>\n",
       "<table border=\"1\" class=\"dataframe\">\n",
       "  <thead>\n",
       "    <tr>\n",
       "      <th></th>\n",
       "      <th colspan=\"2\" halign=\"left\">All</th>\n",
       "      <th colspan=\"2\" halign=\"left\">In VOC</th>\n",
       "      <th colspan=\"2\" halign=\"left\">Out of VOC</th>\n",
       "    </tr>\n",
       "    <tr>\n",
       "      <th></th>\n",
       "      <th>f1 micro</th>\n",
       "      <th>f1 macro</th>\n",
       "      <th>f1 micro</th>\n",
       "      <th>f1 macro</th>\n",
       "      <th>f1 micro</th>\n",
       "      <th>f1 macro</th>\n",
       "    </tr>\n",
       "  </thead>\n",
       "  <tbody>\n",
       "    <tr>\n",
       "      <th>score</th>\n",
       "      <td>0.758017</td>\n",
       "      <td>0.356477</td>\n",
       "      <td>0.797674</td>\n",
       "      <td>0.452827</td>\n",
       "      <td>0.134146</td>\n",
       "      <td>0.063613</td>\n",
       "    </tr>\n",
       "  </tbody>\n",
       "</table>\n",
       "</div>"
      ],
      "text/plain": [
       "            All              In VOC           Out of VOC          \n",
       "       f1 micro  f1 macro  f1 micro  f1 macro   f1 micro  f1 macro\n",
       "score  0.758017  0.356477  0.797674  0.452827   0.134146  0.063613"
      ]
     },
     "metadata": {},
     "output_type": "display_data"
    },
    {
     "name": "stdout",
     "output_type": "stream",
     "text": [
      "Validation metric increased (0.351529 --> 0.356477).  Saving model ...\n"
     ]
    },
    {
     "name": "stderr",
     "output_type": "stream",
     "text": [
      "Epoch 23: 100%|██████████| 509/509 [00:45<00:00, 11.10batch/s, loss_decrease=1.0000030126984298]\n",
      "100%|██████████| 1372/1372 [00:14<00:00, 96.51batch/s] \n"
     ]
    },
    {
     "data": {
      "text/html": [
       "<div>\n",
       "<style scoped>\n",
       "    .dataframe tbody tr th:only-of-type {\n",
       "        vertical-align: middle;\n",
       "    }\n",
       "\n",
       "    .dataframe tbody tr th {\n",
       "        vertical-align: top;\n",
       "    }\n",
       "\n",
       "    .dataframe thead tr th {\n",
       "        text-align: left;\n",
       "    }\n",
       "</style>\n",
       "<table border=\"1\" class=\"dataframe\">\n",
       "  <thead>\n",
       "    <tr>\n",
       "      <th></th>\n",
       "      <th colspan=\"2\" halign=\"left\">All</th>\n",
       "      <th colspan=\"2\" halign=\"left\">In VOC</th>\n",
       "      <th colspan=\"2\" halign=\"left\">Out of VOC</th>\n",
       "    </tr>\n",
       "    <tr>\n",
       "      <th></th>\n",
       "      <th>f1 micro</th>\n",
       "      <th>f1 macro</th>\n",
       "      <th>f1 micro</th>\n",
       "      <th>f1 macro</th>\n",
       "      <th>f1 micro</th>\n",
       "      <th>f1 macro</th>\n",
       "    </tr>\n",
       "  </thead>\n",
       "  <tbody>\n",
       "    <tr>\n",
       "      <th>score</th>\n",
       "      <td>0.757289</td>\n",
       "      <td>0.352035</td>\n",
       "      <td>0.799225</td>\n",
       "      <td>0.450705</td>\n",
       "      <td>0.097561</td>\n",
       "      <td>0.048872</td>\n",
       "    </tr>\n",
       "  </tbody>\n",
       "</table>\n",
       "</div>"
      ],
      "text/plain": [
       "            All              In VOC           Out of VOC          \n",
       "       f1 micro  f1 macro  f1 micro  f1 macro   f1 micro  f1 macro\n",
       "score  0.757289  0.352035  0.799225  0.450705   0.097561  0.048872"
      ]
     },
     "metadata": {},
     "output_type": "display_data"
    },
    {
     "name": "stdout",
     "output_type": "stream",
     "text": [
      "EarlyStopping counter: 1 out of 7\n"
     ]
    },
    {
     "name": "stderr",
     "output_type": "stream",
     "text": [
      "Epoch 24: 100%|██████████| 509/509 [00:45<00:00, 11.27batch/s, loss_decrease=1.000002918551329] \n",
      "100%|██████████| 1372/1372 [00:14<00:00, 97.58batch/s] \n"
     ]
    },
    {
     "data": {
      "text/html": [
       "<div>\n",
       "<style scoped>\n",
       "    .dataframe tbody tr th:only-of-type {\n",
       "        vertical-align: middle;\n",
       "    }\n",
       "\n",
       "    .dataframe tbody tr th {\n",
       "        vertical-align: top;\n",
       "    }\n",
       "\n",
       "    .dataframe thead tr th {\n",
       "        text-align: left;\n",
       "    }\n",
       "</style>\n",
       "<table border=\"1\" class=\"dataframe\">\n",
       "  <thead>\n",
       "    <tr>\n",
       "      <th></th>\n",
       "      <th colspan=\"2\" halign=\"left\">All</th>\n",
       "      <th colspan=\"2\" halign=\"left\">In VOC</th>\n",
       "      <th colspan=\"2\" halign=\"left\">Out of VOC</th>\n",
       "    </tr>\n",
       "    <tr>\n",
       "      <th></th>\n",
       "      <th>f1 micro</th>\n",
       "      <th>f1 macro</th>\n",
       "      <th>f1 micro</th>\n",
       "      <th>f1 macro</th>\n",
       "      <th>f1 micro</th>\n",
       "      <th>f1 macro</th>\n",
       "    </tr>\n",
       "  </thead>\n",
       "  <tbody>\n",
       "    <tr>\n",
       "      <th>score</th>\n",
       "      <td>0.758746</td>\n",
       "      <td>0.360337</td>\n",
       "      <td>0.800775</td>\n",
       "      <td>0.460101</td>\n",
       "      <td>0.097561</td>\n",
       "      <td>0.049618</td>\n",
       "    </tr>\n",
       "  </tbody>\n",
       "</table>\n",
       "</div>"
      ],
      "text/plain": [
       "            All              In VOC           Out of VOC          \n",
       "       f1 micro  f1 macro  f1 micro  f1 macro   f1 micro  f1 macro\n",
       "score  0.758746  0.360337  0.800775  0.460101   0.097561  0.049618"
      ]
     },
     "metadata": {},
     "output_type": "display_data"
    },
    {
     "name": "stdout",
     "output_type": "stream",
     "text": [
      "Validation metric increased (0.356477 --> 0.360337).  Saving model ...\n"
     ]
    },
    {
     "name": "stderr",
     "output_type": "stream",
     "text": [
      "Epoch 25: 100%|██████████| 509/509 [00:45<00:00, 11.08batch/s, loss_decrease=1.0000030126984298]\n",
      "100%|██████████| 1372/1372 [00:15<00:00, 87.91batch/s]\n"
     ]
    },
    {
     "data": {
      "text/html": [
       "<div>\n",
       "<style scoped>\n",
       "    .dataframe tbody tr th:only-of-type {\n",
       "        vertical-align: middle;\n",
       "    }\n",
       "\n",
       "    .dataframe tbody tr th {\n",
       "        vertical-align: top;\n",
       "    }\n",
       "\n",
       "    .dataframe thead tr th {\n",
       "        text-align: left;\n",
       "    }\n",
       "</style>\n",
       "<table border=\"1\" class=\"dataframe\">\n",
       "  <thead>\n",
       "    <tr>\n",
       "      <th></th>\n",
       "      <th colspan=\"2\" halign=\"left\">All</th>\n",
       "      <th colspan=\"2\" halign=\"left\">In VOC</th>\n",
       "      <th colspan=\"2\" halign=\"left\">Out of VOC</th>\n",
       "    </tr>\n",
       "    <tr>\n",
       "      <th></th>\n",
       "      <th>f1 micro</th>\n",
       "      <th>f1 macro</th>\n",
       "      <th>f1 micro</th>\n",
       "      <th>f1 macro</th>\n",
       "      <th>f1 micro</th>\n",
       "      <th>f1 macro</th>\n",
       "    </tr>\n",
       "  </thead>\n",
       "  <tbody>\n",
       "    <tr>\n",
       "      <th>score</th>\n",
       "      <td>0.75656</td>\n",
       "      <td>0.353135</td>\n",
       "      <td>0.8</td>\n",
       "      <td>0.459811</td>\n",
       "      <td>0.073171</td>\n",
       "      <td>0.033582</td>\n",
       "    </tr>\n",
       "  </tbody>\n",
       "</table>\n",
       "</div>"
      ],
      "text/plain": [
       "           All             In VOC           Out of VOC          \n",
       "      f1 micro  f1 macro f1 micro  f1 macro   f1 micro  f1 macro\n",
       "score  0.75656  0.353135      0.8  0.459811   0.073171  0.033582"
      ]
     },
     "metadata": {},
     "output_type": "display_data"
    },
    {
     "name": "stdout",
     "output_type": "stream",
     "text": [
      "EarlyStopping counter: 1 out of 7\n"
     ]
    },
    {
     "name": "stderr",
     "output_type": "stream",
     "text": [
      "Epoch 26: 100%|██████████| 509/509 [00:45<00:00, 11.26batch/s, loss_decrease=1.000002918551329] \n",
      "100%|██████████| 1372/1372 [00:14<00:00, 92.36batch/s] \n"
     ]
    },
    {
     "data": {
      "text/html": [
       "<div>\n",
       "<style scoped>\n",
       "    .dataframe tbody tr th:only-of-type {\n",
       "        vertical-align: middle;\n",
       "    }\n",
       "\n",
       "    .dataframe tbody tr th {\n",
       "        vertical-align: top;\n",
       "    }\n",
       "\n",
       "    .dataframe thead tr th {\n",
       "        text-align: left;\n",
       "    }\n",
       "</style>\n",
       "<table border=\"1\" class=\"dataframe\">\n",
       "  <thead>\n",
       "    <tr>\n",
       "      <th></th>\n",
       "      <th colspan=\"2\" halign=\"left\">All</th>\n",
       "      <th colspan=\"2\" halign=\"left\">In VOC</th>\n",
       "      <th colspan=\"2\" halign=\"left\">Out of VOC</th>\n",
       "    </tr>\n",
       "    <tr>\n",
       "      <th></th>\n",
       "      <th>f1 micro</th>\n",
       "      <th>f1 macro</th>\n",
       "      <th>f1 micro</th>\n",
       "      <th>f1 macro</th>\n",
       "      <th>f1 micro</th>\n",
       "      <th>f1 macro</th>\n",
       "    </tr>\n",
       "  </thead>\n",
       "  <tbody>\n",
       "    <tr>\n",
       "      <th>score</th>\n",
       "      <td>0.749271</td>\n",
       "      <td>0.344016</td>\n",
       "      <td>0.791473</td>\n",
       "      <td>0.443788</td>\n",
       "      <td>0.085366</td>\n",
       "      <td>0.041045</td>\n",
       "    </tr>\n",
       "  </tbody>\n",
       "</table>\n",
       "</div>"
      ],
      "text/plain": [
       "            All              In VOC           Out of VOC          \n",
       "       f1 micro  f1 macro  f1 micro  f1 macro   f1 micro  f1 macro\n",
       "score  0.749271  0.344016  0.791473  0.443788   0.085366  0.041045"
      ]
     },
     "metadata": {},
     "output_type": "display_data"
    },
    {
     "name": "stdout",
     "output_type": "stream",
     "text": [
      "EarlyStopping counter: 2 out of 7\n"
     ]
    },
    {
     "name": "stderr",
     "output_type": "stream",
     "text": [
      "Epoch 27: 100%|██████████| 509/509 [00:43<00:00, 11.59batch/s, loss_decrease=1.0000030126984298]\n",
      "100%|██████████| 1372/1372 [00:14<00:00, 92.93batch/s] \n"
     ]
    },
    {
     "data": {
      "text/html": [
       "<div>\n",
       "<style scoped>\n",
       "    .dataframe tbody tr th:only-of-type {\n",
       "        vertical-align: middle;\n",
       "    }\n",
       "\n",
       "    .dataframe tbody tr th {\n",
       "        vertical-align: top;\n",
       "    }\n",
       "\n",
       "    .dataframe thead tr th {\n",
       "        text-align: left;\n",
       "    }\n",
       "</style>\n",
       "<table border=\"1\" class=\"dataframe\">\n",
       "  <thead>\n",
       "    <tr>\n",
       "      <th></th>\n",
       "      <th colspan=\"2\" halign=\"left\">All</th>\n",
       "      <th colspan=\"2\" halign=\"left\">In VOC</th>\n",
       "      <th colspan=\"2\" halign=\"left\">Out of VOC</th>\n",
       "    </tr>\n",
       "    <tr>\n",
       "      <th></th>\n",
       "      <th>f1 micro</th>\n",
       "      <th>f1 macro</th>\n",
       "      <th>f1 micro</th>\n",
       "      <th>f1 macro</th>\n",
       "      <th>f1 micro</th>\n",
       "      <th>f1 macro</th>\n",
       "    </tr>\n",
       "  </thead>\n",
       "  <tbody>\n",
       "    <tr>\n",
       "      <th>score</th>\n",
       "      <td>0.75</td>\n",
       "      <td>0.34489</td>\n",
       "      <td>0.792248</td>\n",
       "      <td>0.448773</td>\n",
       "      <td>0.085366</td>\n",
       "      <td>0.040373</td>\n",
       "    </tr>\n",
       "  </tbody>\n",
       "</table>\n",
       "</div>"
      ],
      "text/plain": [
       "           All             In VOC           Out of VOC          \n",
       "      f1 micro f1 macro  f1 micro  f1 macro   f1 micro  f1 macro\n",
       "score     0.75  0.34489  0.792248  0.448773   0.085366  0.040373"
      ]
     },
     "metadata": {},
     "output_type": "display_data"
    },
    {
     "name": "stdout",
     "output_type": "stream",
     "text": [
      "EarlyStopping counter: 3 out of 7\n"
     ]
    },
    {
     "name": "stderr",
     "output_type": "stream",
     "text": [
      "Epoch 28: 100%|██████████| 509/509 [00:41<00:00, 12.33batch/s, loss_decrease=1.0000030126984298]\n",
      "100%|██████████| 1372/1372 [00:14<00:00, 95.07batch/s] \n"
     ]
    },
    {
     "data": {
      "text/html": [
       "<div>\n",
       "<style scoped>\n",
       "    .dataframe tbody tr th:only-of-type {\n",
       "        vertical-align: middle;\n",
       "    }\n",
       "\n",
       "    .dataframe tbody tr th {\n",
       "        vertical-align: top;\n",
       "    }\n",
       "\n",
       "    .dataframe thead tr th {\n",
       "        text-align: left;\n",
       "    }\n",
       "</style>\n",
       "<table border=\"1\" class=\"dataframe\">\n",
       "  <thead>\n",
       "    <tr>\n",
       "      <th></th>\n",
       "      <th colspan=\"2\" halign=\"left\">All</th>\n",
       "      <th colspan=\"2\" halign=\"left\">In VOC</th>\n",
       "      <th colspan=\"2\" halign=\"left\">Out of VOC</th>\n",
       "    </tr>\n",
       "    <tr>\n",
       "      <th></th>\n",
       "      <th>f1 micro</th>\n",
       "      <th>f1 macro</th>\n",
       "      <th>f1 micro</th>\n",
       "      <th>f1 macro</th>\n",
       "      <th>f1 micro</th>\n",
       "      <th>f1 macro</th>\n",
       "    </tr>\n",
       "  </thead>\n",
       "  <tbody>\n",
       "    <tr>\n",
       "      <th>score</th>\n",
       "      <td>0.735423</td>\n",
       "      <td>0.331711</td>\n",
       "      <td>0.77907</td>\n",
       "      <td>0.431741</td>\n",
       "      <td>0.04878</td>\n",
       "      <td>0.028986</td>\n",
       "    </tr>\n",
       "  </tbody>\n",
       "</table>\n",
       "</div>"
      ],
      "text/plain": [
       "            All             In VOC           Out of VOC          \n",
       "       f1 micro  f1 macro f1 micro  f1 macro   f1 micro  f1 macro\n",
       "score  0.735423  0.331711  0.77907  0.431741    0.04878  0.028986"
      ]
     },
     "metadata": {},
     "output_type": "display_data"
    },
    {
     "name": "stdout",
     "output_type": "stream",
     "text": [
      "EarlyStopping counter: 4 out of 7\n"
     ]
    },
    {
     "name": "stderr",
     "output_type": "stream",
     "text": [
      "Epoch 29: 100%|██████████| 509/509 [00:44<00:00, 11.52batch/s, loss_decrease=1.000002918551329] \n",
      "100%|██████████| 1372/1372 [00:14<00:00, 94.99batch/s]\n"
     ]
    },
    {
     "data": {
      "text/html": [
       "<div>\n",
       "<style scoped>\n",
       "    .dataframe tbody tr th:only-of-type {\n",
       "        vertical-align: middle;\n",
       "    }\n",
       "\n",
       "    .dataframe tbody tr th {\n",
       "        vertical-align: top;\n",
       "    }\n",
       "\n",
       "    .dataframe thead tr th {\n",
       "        text-align: left;\n",
       "    }\n",
       "</style>\n",
       "<table border=\"1\" class=\"dataframe\">\n",
       "  <thead>\n",
       "    <tr>\n",
       "      <th></th>\n",
       "      <th colspan=\"2\" halign=\"left\">All</th>\n",
       "      <th colspan=\"2\" halign=\"left\">In VOC</th>\n",
       "      <th colspan=\"2\" halign=\"left\">Out of VOC</th>\n",
       "    </tr>\n",
       "    <tr>\n",
       "      <th></th>\n",
       "      <th>f1 micro</th>\n",
       "      <th>f1 macro</th>\n",
       "      <th>f1 micro</th>\n",
       "      <th>f1 macro</th>\n",
       "      <th>f1 micro</th>\n",
       "      <th>f1 macro</th>\n",
       "    </tr>\n",
       "  </thead>\n",
       "  <tbody>\n",
       "    <tr>\n",
       "      <th>score</th>\n",
       "      <td>0.750729</td>\n",
       "      <td>0.357854</td>\n",
       "      <td>0.793023</td>\n",
       "      <td>0.45837</td>\n",
       "      <td>0.085366</td>\n",
       "      <td>0.03909</td>\n",
       "    </tr>\n",
       "  </tbody>\n",
       "</table>\n",
       "</div>"
      ],
      "text/plain": [
       "            All              In VOC          Out of VOC         \n",
       "       f1 micro  f1 macro  f1 micro f1 macro   f1 micro f1 macro\n",
       "score  0.750729  0.357854  0.793023  0.45837   0.085366  0.03909"
      ]
     },
     "metadata": {},
     "output_type": "display_data"
    },
    {
     "name": "stdout",
     "output_type": "stream",
     "text": [
      "EarlyStopping counter: 5 out of 7\n"
     ]
    },
    {
     "name": "stderr",
     "output_type": "stream",
     "text": [
      "Epoch 30: 100%|██████████| 509/509 [00:46<00:00, 10.86batch/s, loss_decrease=1.0000030126984298]\n",
      "100%|██████████| 1372/1372 [00:14<00:00, 94.68batch/s] \n"
     ]
    },
    {
     "data": {
      "text/html": [
       "<div>\n",
       "<style scoped>\n",
       "    .dataframe tbody tr th:only-of-type {\n",
       "        vertical-align: middle;\n",
       "    }\n",
       "\n",
       "    .dataframe tbody tr th {\n",
       "        vertical-align: top;\n",
       "    }\n",
       "\n",
       "    .dataframe thead tr th {\n",
       "        text-align: left;\n",
       "    }\n",
       "</style>\n",
       "<table border=\"1\" class=\"dataframe\">\n",
       "  <thead>\n",
       "    <tr>\n",
       "      <th></th>\n",
       "      <th colspan=\"2\" halign=\"left\">All</th>\n",
       "      <th colspan=\"2\" halign=\"left\">In VOC</th>\n",
       "      <th colspan=\"2\" halign=\"left\">Out of VOC</th>\n",
       "    </tr>\n",
       "    <tr>\n",
       "      <th></th>\n",
       "      <th>f1 micro</th>\n",
       "      <th>f1 macro</th>\n",
       "      <th>f1 micro</th>\n",
       "      <th>f1 macro</th>\n",
       "      <th>f1 micro</th>\n",
       "      <th>f1 macro</th>\n",
       "    </tr>\n",
       "  </thead>\n",
       "  <tbody>\n",
       "    <tr>\n",
       "      <th>score</th>\n",
       "      <td>0.766035</td>\n",
       "      <td>0.378831</td>\n",
       "      <td>0.807752</td>\n",
       "      <td>0.485837</td>\n",
       "      <td>0.109756</td>\n",
       "      <td>0.053616</td>\n",
       "    </tr>\n",
       "  </tbody>\n",
       "</table>\n",
       "</div>"
      ],
      "text/plain": [
       "            All              In VOC           Out of VOC          \n",
       "       f1 micro  f1 macro  f1 micro  f1 macro   f1 micro  f1 macro\n",
       "score  0.766035  0.378831  0.807752  0.485837   0.109756  0.053616"
      ]
     },
     "metadata": {},
     "output_type": "display_data"
    },
    {
     "name": "stdout",
     "output_type": "stream",
     "text": [
      "Validation metric increased (0.360337 --> 0.378831).  Saving model ...\n"
     ]
    },
    {
     "name": "stderr",
     "output_type": "stream",
     "text": [
      "Epoch 31: 100%|██████████| 509/509 [00:42<00:00, 11.89batch/s, loss_decrease=1.0000030126984298]\n",
      "100%|██████████| 1372/1372 [00:14<00:00, 96.56batch/s] \n"
     ]
    },
    {
     "data": {
      "text/html": [
       "<div>\n",
       "<style scoped>\n",
       "    .dataframe tbody tr th:only-of-type {\n",
       "        vertical-align: middle;\n",
       "    }\n",
       "\n",
       "    .dataframe tbody tr th {\n",
       "        vertical-align: top;\n",
       "    }\n",
       "\n",
       "    .dataframe thead tr th {\n",
       "        text-align: left;\n",
       "    }\n",
       "</style>\n",
       "<table border=\"1\" class=\"dataframe\">\n",
       "  <thead>\n",
       "    <tr>\n",
       "      <th></th>\n",
       "      <th colspan=\"2\" halign=\"left\">All</th>\n",
       "      <th colspan=\"2\" halign=\"left\">In VOC</th>\n",
       "      <th colspan=\"2\" halign=\"left\">Out of VOC</th>\n",
       "    </tr>\n",
       "    <tr>\n",
       "      <th></th>\n",
       "      <th>f1 micro</th>\n",
       "      <th>f1 macro</th>\n",
       "      <th>f1 micro</th>\n",
       "      <th>f1 macro</th>\n",
       "      <th>f1 micro</th>\n",
       "      <th>f1 macro</th>\n",
       "    </tr>\n",
       "  </thead>\n",
       "  <tbody>\n",
       "    <tr>\n",
       "      <th>score</th>\n",
       "      <td>0.758746</td>\n",
       "      <td>0.364557</td>\n",
       "      <td>0.8</td>\n",
       "      <td>0.466763</td>\n",
       "      <td>0.109756</td>\n",
       "      <td>0.050373</td>\n",
       "    </tr>\n",
       "  </tbody>\n",
       "</table>\n",
       "</div>"
      ],
      "text/plain": [
       "            All             In VOC           Out of VOC          \n",
       "       f1 micro  f1 macro f1 micro  f1 macro   f1 micro  f1 macro\n",
       "score  0.758746  0.364557      0.8  0.466763   0.109756  0.050373"
      ]
     },
     "metadata": {},
     "output_type": "display_data"
    },
    {
     "name": "stdout",
     "output_type": "stream",
     "text": [
      "EarlyStopping counter: 1 out of 7\n"
     ]
    },
    {
     "name": "stderr",
     "output_type": "stream",
     "text": [
      "Epoch 32: 100%|██████████| 509/509 [00:46<00:00, 10.90batch/s, loss_decrease=1.0000030126984298]\n",
      "100%|██████████| 1372/1372 [00:14<00:00, 96.51batch/s] \n"
     ]
    },
    {
     "data": {
      "text/html": [
       "<div>\n",
       "<style scoped>\n",
       "    .dataframe tbody tr th:only-of-type {\n",
       "        vertical-align: middle;\n",
       "    }\n",
       "\n",
       "    .dataframe tbody tr th {\n",
       "        vertical-align: top;\n",
       "    }\n",
       "\n",
       "    .dataframe thead tr th {\n",
       "        text-align: left;\n",
       "    }\n",
       "</style>\n",
       "<table border=\"1\" class=\"dataframe\">\n",
       "  <thead>\n",
       "    <tr>\n",
       "      <th></th>\n",
       "      <th colspan=\"2\" halign=\"left\">All</th>\n",
       "      <th colspan=\"2\" halign=\"left\">In VOC</th>\n",
       "      <th colspan=\"2\" halign=\"left\">Out of VOC</th>\n",
       "    </tr>\n",
       "    <tr>\n",
       "      <th></th>\n",
       "      <th>f1 micro</th>\n",
       "      <th>f1 macro</th>\n",
       "      <th>f1 micro</th>\n",
       "      <th>f1 macro</th>\n",
       "      <th>f1 micro</th>\n",
       "      <th>f1 macro</th>\n",
       "    </tr>\n",
       "  </thead>\n",
       "  <tbody>\n",
       "    <tr>\n",
       "      <th>score</th>\n",
       "      <td>0.757289</td>\n",
       "      <td>0.363772</td>\n",
       "      <td>0.799225</td>\n",
       "      <td>0.464097</td>\n",
       "      <td>0.097561</td>\n",
       "      <td>0.048319</td>\n",
       "    </tr>\n",
       "  </tbody>\n",
       "</table>\n",
       "</div>"
      ],
      "text/plain": [
       "            All              In VOC           Out of VOC          \n",
       "       f1 micro  f1 macro  f1 micro  f1 macro   f1 micro  f1 macro\n",
       "score  0.757289  0.363772  0.799225  0.464097   0.097561  0.048319"
      ]
     },
     "metadata": {},
     "output_type": "display_data"
    },
    {
     "name": "stdout",
     "output_type": "stream",
     "text": [
      "EarlyStopping counter: 2 out of 7\n"
     ]
    },
    {
     "name": "stderr",
     "output_type": "stream",
     "text": [
      "Epoch 33: 100%|██████████| 509/509 [00:47<00:00, 10.74batch/s, loss_decrease=1.0000030126984298]\n",
      "100%|██████████| 1372/1372 [00:14<00:00, 97.35batch/s] \n"
     ]
    },
    {
     "data": {
      "text/html": [
       "<div>\n",
       "<style scoped>\n",
       "    .dataframe tbody tr th:only-of-type {\n",
       "        vertical-align: middle;\n",
       "    }\n",
       "\n",
       "    .dataframe tbody tr th {\n",
       "        vertical-align: top;\n",
       "    }\n",
       "\n",
       "    .dataframe thead tr th {\n",
       "        text-align: left;\n",
       "    }\n",
       "</style>\n",
       "<table border=\"1\" class=\"dataframe\">\n",
       "  <thead>\n",
       "    <tr>\n",
       "      <th></th>\n",
       "      <th colspan=\"2\" halign=\"left\">All</th>\n",
       "      <th colspan=\"2\" halign=\"left\">In VOC</th>\n",
       "      <th colspan=\"2\" halign=\"left\">Out of VOC</th>\n",
       "    </tr>\n",
       "    <tr>\n",
       "      <th></th>\n",
       "      <th>f1 micro</th>\n",
       "      <th>f1 macro</th>\n",
       "      <th>f1 micro</th>\n",
       "      <th>f1 macro</th>\n",
       "      <th>f1 micro</th>\n",
       "      <th>f1 macro</th>\n",
       "    </tr>\n",
       "  </thead>\n",
       "  <tbody>\n",
       "    <tr>\n",
       "      <th>score</th>\n",
       "      <td>0.758017</td>\n",
       "      <td>0.361414</td>\n",
       "      <td>0.8</td>\n",
       "      <td>0.465566</td>\n",
       "      <td>0.097561</td>\n",
       "      <td>0.04291</td>\n",
       "    </tr>\n",
       "  </tbody>\n",
       "</table>\n",
       "</div>"
      ],
      "text/plain": [
       "            All             In VOC           Out of VOC         \n",
       "       f1 micro  f1 macro f1 micro  f1 macro   f1 micro f1 macro\n",
       "score  0.758017  0.361414      0.8  0.465566   0.097561  0.04291"
      ]
     },
     "metadata": {},
     "output_type": "display_data"
    },
    {
     "name": "stdout",
     "output_type": "stream",
     "text": [
      "EarlyStopping counter: 3 out of 7\n"
     ]
    },
    {
     "name": "stderr",
     "output_type": "stream",
     "text": [
      "Epoch 34: 100%|██████████| 509/509 [00:45<00:00, 11.08batch/s, loss_decrease=1.0000030126984298]\n",
      "100%|██████████| 1372/1372 [00:14<00:00, 97.85batch/s] \n"
     ]
    },
    {
     "data": {
      "text/html": [
       "<div>\n",
       "<style scoped>\n",
       "    .dataframe tbody tr th:only-of-type {\n",
       "        vertical-align: middle;\n",
       "    }\n",
       "\n",
       "    .dataframe tbody tr th {\n",
       "        vertical-align: top;\n",
       "    }\n",
       "\n",
       "    .dataframe thead tr th {\n",
       "        text-align: left;\n",
       "    }\n",
       "</style>\n",
       "<table border=\"1\" class=\"dataframe\">\n",
       "  <thead>\n",
       "    <tr>\n",
       "      <th></th>\n",
       "      <th colspan=\"2\" halign=\"left\">All</th>\n",
       "      <th colspan=\"2\" halign=\"left\">In VOC</th>\n",
       "      <th colspan=\"2\" halign=\"left\">Out of VOC</th>\n",
       "    </tr>\n",
       "    <tr>\n",
       "      <th></th>\n",
       "      <th>f1 micro</th>\n",
       "      <th>f1 macro</th>\n",
       "      <th>f1 micro</th>\n",
       "      <th>f1 macro</th>\n",
       "      <th>f1 micro</th>\n",
       "      <th>f1 macro</th>\n",
       "    </tr>\n",
       "  </thead>\n",
       "  <tbody>\n",
       "    <tr>\n",
       "      <th>score</th>\n",
       "      <td>0.757289</td>\n",
       "      <td>0.358043</td>\n",
       "      <td>0.8</td>\n",
       "      <td>0.461206</td>\n",
       "      <td>0.085366</td>\n",
       "      <td>0.04127</td>\n",
       "    </tr>\n",
       "  </tbody>\n",
       "</table>\n",
       "</div>"
      ],
      "text/plain": [
       "            All             In VOC           Out of VOC         \n",
       "       f1 micro  f1 macro f1 micro  f1 macro   f1 micro f1 macro\n",
       "score  0.757289  0.358043      0.8  0.461206   0.085366  0.04127"
      ]
     },
     "metadata": {},
     "output_type": "display_data"
    },
    {
     "name": "stdout",
     "output_type": "stream",
     "text": [
      "EarlyStopping counter: 4 out of 7\n"
     ]
    },
    {
     "name": "stderr",
     "output_type": "stream",
     "text": [
      "Epoch 35: 100%|██████████| 509/509 [00:45<00:00, 11.14batch/s, loss_decrease=1.0000030126984298]\n",
      "100%|██████████| 1372/1372 [00:14<00:00, 97.60batch/s] \n"
     ]
    },
    {
     "data": {
      "text/html": [
       "<div>\n",
       "<style scoped>\n",
       "    .dataframe tbody tr th:only-of-type {\n",
       "        vertical-align: middle;\n",
       "    }\n",
       "\n",
       "    .dataframe tbody tr th {\n",
       "        vertical-align: top;\n",
       "    }\n",
       "\n",
       "    .dataframe thead tr th {\n",
       "        text-align: left;\n",
       "    }\n",
       "</style>\n",
       "<table border=\"1\" class=\"dataframe\">\n",
       "  <thead>\n",
       "    <tr>\n",
       "      <th></th>\n",
       "      <th colspan=\"2\" halign=\"left\">All</th>\n",
       "      <th colspan=\"2\" halign=\"left\">In VOC</th>\n",
       "      <th colspan=\"2\" halign=\"left\">Out of VOC</th>\n",
       "    </tr>\n",
       "    <tr>\n",
       "      <th></th>\n",
       "      <th>f1 micro</th>\n",
       "      <th>f1 macro</th>\n",
       "      <th>f1 micro</th>\n",
       "      <th>f1 macro</th>\n",
       "      <th>f1 micro</th>\n",
       "      <th>f1 macro</th>\n",
       "    </tr>\n",
       "  </thead>\n",
       "  <tbody>\n",
       "    <tr>\n",
       "      <th>score</th>\n",
       "      <td>0.761662</td>\n",
       "      <td>0.368506</td>\n",
       "      <td>0.804651</td>\n",
       "      <td>0.476763</td>\n",
       "      <td>0.085366</td>\n",
       "      <td>0.039384</td>\n",
       "    </tr>\n",
       "  </tbody>\n",
       "</table>\n",
       "</div>"
      ],
      "text/plain": [
       "            All              In VOC           Out of VOC          \n",
       "       f1 micro  f1 macro  f1 micro  f1 macro   f1 micro  f1 macro\n",
       "score  0.761662  0.368506  0.804651  0.476763   0.085366  0.039384"
      ]
     },
     "metadata": {},
     "output_type": "display_data"
    },
    {
     "name": "stdout",
     "output_type": "stream",
     "text": [
      "EarlyStopping counter: 5 out of 7\n"
     ]
    },
    {
     "name": "stderr",
     "output_type": "stream",
     "text": [
      "Epoch 36: 100%|██████████| 509/509 [00:47<00:00, 10.81batch/s, loss_decrease=1.000002918551329] \n",
      "100%|██████████| 1372/1372 [00:14<00:00, 95.07batch/s]\n"
     ]
    },
    {
     "data": {
      "text/html": [
       "<div>\n",
       "<style scoped>\n",
       "    .dataframe tbody tr th:only-of-type {\n",
       "        vertical-align: middle;\n",
       "    }\n",
       "\n",
       "    .dataframe tbody tr th {\n",
       "        vertical-align: top;\n",
       "    }\n",
       "\n",
       "    .dataframe thead tr th {\n",
       "        text-align: left;\n",
       "    }\n",
       "</style>\n",
       "<table border=\"1\" class=\"dataframe\">\n",
       "  <thead>\n",
       "    <tr>\n",
       "      <th></th>\n",
       "      <th colspan=\"2\" halign=\"left\">All</th>\n",
       "      <th colspan=\"2\" halign=\"left\">In VOC</th>\n",
       "      <th colspan=\"2\" halign=\"left\">Out of VOC</th>\n",
       "    </tr>\n",
       "    <tr>\n",
       "      <th></th>\n",
       "      <th>f1 micro</th>\n",
       "      <th>f1 macro</th>\n",
       "      <th>f1 micro</th>\n",
       "      <th>f1 macro</th>\n",
       "      <th>f1 micro</th>\n",
       "      <th>f1 macro</th>\n",
       "    </tr>\n",
       "  </thead>\n",
       "  <tbody>\n",
       "    <tr>\n",
       "      <th>score</th>\n",
       "      <td>0.75656</td>\n",
       "      <td>0.363742</td>\n",
       "      <td>0.799225</td>\n",
       "      <td>0.468247</td>\n",
       "      <td>0.085366</td>\n",
       "      <td>0.04127</td>\n",
       "    </tr>\n",
       "  </tbody>\n",
       "</table>\n",
       "</div>"
      ],
      "text/plain": [
       "           All              In VOC           Out of VOC         \n",
       "      f1 micro  f1 macro  f1 micro  f1 macro   f1 micro f1 macro\n",
       "score  0.75656  0.363742  0.799225  0.468247   0.085366  0.04127"
      ]
     },
     "metadata": {},
     "output_type": "display_data"
    },
    {
     "name": "stdout",
     "output_type": "stream",
     "text": [
      "EarlyStopping counter: 6 out of 7\n"
     ]
    },
    {
     "name": "stderr",
     "output_type": "stream",
     "text": [
      "Epoch 37: 100%|██████████| 509/509 [00:45<00:00, 11.27batch/s, loss_decrease=1.0000030126984298]\n",
      "100%|██████████| 1372/1372 [00:14<00:00, 93.06batch/s] \n"
     ]
    },
    {
     "data": {
      "text/html": [
       "<div>\n",
       "<style scoped>\n",
       "    .dataframe tbody tr th:only-of-type {\n",
       "        vertical-align: middle;\n",
       "    }\n",
       "\n",
       "    .dataframe tbody tr th {\n",
       "        vertical-align: top;\n",
       "    }\n",
       "\n",
       "    .dataframe thead tr th {\n",
       "        text-align: left;\n",
       "    }\n",
       "</style>\n",
       "<table border=\"1\" class=\"dataframe\">\n",
       "  <thead>\n",
       "    <tr>\n",
       "      <th></th>\n",
       "      <th colspan=\"2\" halign=\"left\">All</th>\n",
       "      <th colspan=\"2\" halign=\"left\">In VOC</th>\n",
       "      <th colspan=\"2\" halign=\"left\">Out of VOC</th>\n",
       "    </tr>\n",
       "    <tr>\n",
       "      <th></th>\n",
       "      <th>f1 micro</th>\n",
       "      <th>f1 macro</th>\n",
       "      <th>f1 micro</th>\n",
       "      <th>f1 macro</th>\n",
       "      <th>f1 micro</th>\n",
       "      <th>f1 macro</th>\n",
       "    </tr>\n",
       "  </thead>\n",
       "  <tbody>\n",
       "    <tr>\n",
       "      <th>score</th>\n",
       "      <td>0.755831</td>\n",
       "      <td>0.35839</td>\n",
       "      <td>0.796899</td>\n",
       "      <td>0.456456</td>\n",
       "      <td>0.109756</td>\n",
       "      <td>0.048346</td>\n",
       "    </tr>\n",
       "  </tbody>\n",
       "</table>\n",
       "</div>"
      ],
      "text/plain": [
       "            All             In VOC           Out of VOC          \n",
       "       f1 micro f1 macro  f1 micro  f1 macro   f1 micro  f1 macro\n",
       "score  0.755831  0.35839  0.796899  0.456456   0.109756  0.048346"
      ]
     },
     "metadata": {},
     "output_type": "display_data"
    },
    {
     "name": "stdout",
     "output_type": "stream",
     "text": [
      "EarlyStopping counter: 7 out of 7\n",
      "Early stopping\n",
      "Evaluating on test dataset\n"
     ]
    },
    {
     "name": "stderr",
     "output_type": "stream",
     "text": [
      "100%|██████████| 2402/2402 [00:24<00:00, 98.63batch/s] \n"
     ]
    },
    {
     "data": {
      "text/html": [
       "<div>\n",
       "<style scoped>\n",
       "    .dataframe tbody tr th:only-of-type {\n",
       "        vertical-align: middle;\n",
       "    }\n",
       "\n",
       "    .dataframe tbody tr th {\n",
       "        vertical-align: top;\n",
       "    }\n",
       "\n",
       "    .dataframe thead tr th {\n",
       "        text-align: left;\n",
       "    }\n",
       "</style>\n",
       "<table border=\"1\" class=\"dataframe\">\n",
       "  <thead>\n",
       "    <tr>\n",
       "      <th></th>\n",
       "      <th colspan=\"2\" halign=\"left\">All</th>\n",
       "      <th colspan=\"2\" halign=\"left\">In VOC</th>\n",
       "      <th colspan=\"2\" halign=\"left\">Out of VOC</th>\n",
       "    </tr>\n",
       "    <tr>\n",
       "      <th></th>\n",
       "      <th>f1 micro</th>\n",
       "      <th>f1 macro</th>\n",
       "      <th>f1 micro</th>\n",
       "      <th>f1 macro</th>\n",
       "      <th>f1 micro</th>\n",
       "      <th>f1 macro</th>\n",
       "    </tr>\n",
       "  </thead>\n",
       "  <tbody>\n",
       "    <tr>\n",
       "      <th>score</th>\n",
       "      <td>0.768526</td>\n",
       "      <td>0.331327</td>\n",
       "      <td>0.806437</td>\n",
       "      <td>0.418848</td>\n",
       "      <td>0.126866</td>\n",
       "      <td>0.06493</td>\n",
       "    </tr>\n",
       "  </tbody>\n",
       "</table>\n",
       "</div>"
      ],
      "text/plain": [
       "            All              In VOC           Out of VOC         \n",
       "       f1 micro  f1 macro  f1 micro  f1 macro   f1 micro f1 macro\n",
       "score  0.768526  0.331327  0.806437  0.418848   0.126866  0.06493"
      ]
     },
     "metadata": {},
     "output_type": "display_data"
    },
    {
     "name": "stdout",
     "output_type": "stream",
     "text": [
      "Сплит 4\n"
     ]
    },
    {
     "name": "stderr",
     "output_type": "stream",
     "text": [
      "Epoch 1: 100%|██████████| 508/508 [00:46<00:00, 10.82batch/s, loss_decrease=1.0000009414662208]\n",
      "100%|██████████| 1408/1408 [00:14<00:00, 94.79batch/s] \n"
     ]
    },
    {
     "data": {
      "text/html": [
       "<div>\n",
       "<style scoped>\n",
       "    .dataframe tbody tr th:only-of-type {\n",
       "        vertical-align: middle;\n",
       "    }\n",
       "\n",
       "    .dataframe tbody tr th {\n",
       "        vertical-align: top;\n",
       "    }\n",
       "\n",
       "    .dataframe thead tr th {\n",
       "        text-align: left;\n",
       "    }\n",
       "</style>\n",
       "<table border=\"1\" class=\"dataframe\">\n",
       "  <thead>\n",
       "    <tr>\n",
       "      <th></th>\n",
       "      <th colspan=\"2\" halign=\"left\">All</th>\n",
       "      <th colspan=\"2\" halign=\"left\">In VOC</th>\n",
       "      <th colspan=\"2\" halign=\"left\">Out of VOC</th>\n",
       "    </tr>\n",
       "    <tr>\n",
       "      <th></th>\n",
       "      <th>f1 micro</th>\n",
       "      <th>f1 macro</th>\n",
       "      <th>f1 micro</th>\n",
       "      <th>f1 macro</th>\n",
       "      <th>f1 micro</th>\n",
       "      <th>f1 macro</th>\n",
       "    </tr>\n",
       "  </thead>\n",
       "  <tbody>\n",
       "    <tr>\n",
       "      <th>score</th>\n",
       "      <td>0.698153</td>\n",
       "      <td>0.306853</td>\n",
       "      <td>0.724242</td>\n",
       "      <td>0.324927</td>\n",
       "      <td>0.306818</td>\n",
       "      <td>0.19174</td>\n",
       "    </tr>\n",
       "  </tbody>\n",
       "</table>\n",
       "</div>"
      ],
      "text/plain": [
       "            All              In VOC           Out of VOC         \n",
       "       f1 micro  f1 macro  f1 micro  f1 macro   f1 micro f1 macro\n",
       "score  0.698153  0.306853  0.724242  0.324927   0.306818  0.19174"
      ]
     },
     "metadata": {},
     "output_type": "display_data"
    },
    {
     "name": "stdout",
     "output_type": "stream",
     "text": [
      "Validation metric increased (-inf --> 0.306853).  Saving model ...\n"
     ]
    },
    {
     "name": "stderr",
     "output_type": "stream",
     "text": [
      "Epoch 2: 100%|██████████| 508/508 [00:47<00:00, 10.73batch/s, loss_decrease=1.0000012239064326]\n",
      "100%|██████████| 1408/1408 [00:14<00:00, 98.79batch/s] \n"
     ]
    },
    {
     "data": {
      "text/html": [
       "<div>\n",
       "<style scoped>\n",
       "    .dataframe tbody tr th:only-of-type {\n",
       "        vertical-align: middle;\n",
       "    }\n",
       "\n",
       "    .dataframe tbody tr th {\n",
       "        vertical-align: top;\n",
       "    }\n",
       "\n",
       "    .dataframe thead tr th {\n",
       "        text-align: left;\n",
       "    }\n",
       "</style>\n",
       "<table border=\"1\" class=\"dataframe\">\n",
       "  <thead>\n",
       "    <tr>\n",
       "      <th></th>\n",
       "      <th colspan=\"2\" halign=\"left\">All</th>\n",
       "      <th colspan=\"2\" halign=\"left\">In VOC</th>\n",
       "      <th colspan=\"2\" halign=\"left\">Out of VOC</th>\n",
       "    </tr>\n",
       "    <tr>\n",
       "      <th></th>\n",
       "      <th>f1 micro</th>\n",
       "      <th>f1 macro</th>\n",
       "      <th>f1 micro</th>\n",
       "      <th>f1 macro</th>\n",
       "      <th>f1 micro</th>\n",
       "      <th>f1 macro</th>\n",
       "    </tr>\n",
       "  </thead>\n",
       "  <tbody>\n",
       "    <tr>\n",
       "      <th>score</th>\n",
       "      <td>0.723722</td>\n",
       "      <td>0.338153</td>\n",
       "      <td>0.752273</td>\n",
       "      <td>0.370969</td>\n",
       "      <td>0.295455</td>\n",
       "      <td>0.181356</td>\n",
       "    </tr>\n",
       "  </tbody>\n",
       "</table>\n",
       "</div>"
      ],
      "text/plain": [
       "            All              In VOC           Out of VOC          \n",
       "       f1 micro  f1 macro  f1 micro  f1 macro   f1 micro  f1 macro\n",
       "score  0.723722  0.338153  0.752273  0.370969   0.295455  0.181356"
      ]
     },
     "metadata": {},
     "output_type": "display_data"
    },
    {
     "name": "stdout",
     "output_type": "stream",
     "text": [
      "Validation metric increased (0.306853 --> 0.338153).  Saving model ...\n"
     ]
    },
    {
     "name": "stderr",
     "output_type": "stream",
     "text": [
      "Epoch 3: 100%|██████████| 508/508 [00:45<00:00, 11.07batch/s, loss_decrease=1.0000016004936298]\n",
      "100%|██████████| 1408/1408 [00:15<00:00, 92.95batch/s]\n"
     ]
    },
    {
     "data": {
      "text/html": [
       "<div>\n",
       "<style scoped>\n",
       "    .dataframe tbody tr th:only-of-type {\n",
       "        vertical-align: middle;\n",
       "    }\n",
       "\n",
       "    .dataframe tbody tr th {\n",
       "        vertical-align: top;\n",
       "    }\n",
       "\n",
       "    .dataframe thead tr th {\n",
       "        text-align: left;\n",
       "    }\n",
       "</style>\n",
       "<table border=\"1\" class=\"dataframe\">\n",
       "  <thead>\n",
       "    <tr>\n",
       "      <th></th>\n",
       "      <th colspan=\"2\" halign=\"left\">All</th>\n",
       "      <th colspan=\"2\" halign=\"left\">In VOC</th>\n",
       "      <th colspan=\"2\" halign=\"left\">Out of VOC</th>\n",
       "    </tr>\n",
       "    <tr>\n",
       "      <th></th>\n",
       "      <th>f1 micro</th>\n",
       "      <th>f1 macro</th>\n",
       "      <th>f1 micro</th>\n",
       "      <th>f1 macro</th>\n",
       "      <th>f1 micro</th>\n",
       "      <th>f1 macro</th>\n",
       "    </tr>\n",
       "  </thead>\n",
       "  <tbody>\n",
       "    <tr>\n",
       "      <th>score</th>\n",
       "      <td>0.738636</td>\n",
       "      <td>0.349792</td>\n",
       "      <td>0.770455</td>\n",
       "      <td>0.399406</td>\n",
       "      <td>0.261364</td>\n",
       "      <td>0.156111</td>\n",
       "    </tr>\n",
       "  </tbody>\n",
       "</table>\n",
       "</div>"
      ],
      "text/plain": [
       "            All              In VOC           Out of VOC          \n",
       "       f1 micro  f1 macro  f1 micro  f1 macro   f1 micro  f1 macro\n",
       "score  0.738636  0.349792  0.770455  0.399406   0.261364  0.156111"
      ]
     },
     "metadata": {},
     "output_type": "display_data"
    },
    {
     "name": "stdout",
     "output_type": "stream",
     "text": [
      "Validation metric increased (0.338153 --> 0.349792).  Saving model ...\n"
     ]
    },
    {
     "name": "stderr",
     "output_type": "stream",
     "text": [
      "Epoch 4: 100%|██████████| 508/508 [00:44<00:00, 11.29batch/s, loss_decrease=1.0000016946404735]\n",
      "100%|██████████| 1408/1408 [00:14<00:00, 97.86batch/s] \n"
     ]
    },
    {
     "data": {
      "text/html": [
       "<div>\n",
       "<style scoped>\n",
       "    .dataframe tbody tr th:only-of-type {\n",
       "        vertical-align: middle;\n",
       "    }\n",
       "\n",
       "    .dataframe tbody tr th {\n",
       "        vertical-align: top;\n",
       "    }\n",
       "\n",
       "    .dataframe thead tr th {\n",
       "        text-align: left;\n",
       "    }\n",
       "</style>\n",
       "<table border=\"1\" class=\"dataframe\">\n",
       "  <thead>\n",
       "    <tr>\n",
       "      <th></th>\n",
       "      <th colspan=\"2\" halign=\"left\">All</th>\n",
       "      <th colspan=\"2\" halign=\"left\">In VOC</th>\n",
       "      <th colspan=\"2\" halign=\"left\">Out of VOC</th>\n",
       "    </tr>\n",
       "    <tr>\n",
       "      <th></th>\n",
       "      <th>f1 micro</th>\n",
       "      <th>f1 macro</th>\n",
       "      <th>f1 micro</th>\n",
       "      <th>f1 macro</th>\n",
       "      <th>f1 micro</th>\n",
       "      <th>f1 macro</th>\n",
       "    </tr>\n",
       "  </thead>\n",
       "  <tbody>\n",
       "    <tr>\n",
       "      <th>score</th>\n",
       "      <td>0.757102</td>\n",
       "      <td>0.374319</td>\n",
       "      <td>0.789394</td>\n",
       "      <td>0.424746</td>\n",
       "      <td>0.272727</td>\n",
       "      <td>0.161538</td>\n",
       "    </tr>\n",
       "  </tbody>\n",
       "</table>\n",
       "</div>"
      ],
      "text/plain": [
       "            All              In VOC           Out of VOC          \n",
       "       f1 micro  f1 macro  f1 micro  f1 macro   f1 micro  f1 macro\n",
       "score  0.757102  0.374319  0.789394  0.424746   0.272727  0.161538"
      ]
     },
     "metadata": {},
     "output_type": "display_data"
    },
    {
     "name": "stdout",
     "output_type": "stream",
     "text": [
      "Validation metric increased (0.349792 --> 0.374319).  Saving model ...\n"
     ]
    },
    {
     "name": "stderr",
     "output_type": "stream",
     "text": [
      "Epoch 5: 100%|██████████| 508/508 [00:44<00:00, 11.48batch/s, loss_decrease=1.0000016946404735]\n",
      "100%|██████████| 1408/1408 [00:15<00:00, 90.91batch/s]\n"
     ]
    },
    {
     "data": {
      "text/html": [
       "<div>\n",
       "<style scoped>\n",
       "    .dataframe tbody tr th:only-of-type {\n",
       "        vertical-align: middle;\n",
       "    }\n",
       "\n",
       "    .dataframe tbody tr th {\n",
       "        vertical-align: top;\n",
       "    }\n",
       "\n",
       "    .dataframe thead tr th {\n",
       "        text-align: left;\n",
       "    }\n",
       "</style>\n",
       "<table border=\"1\" class=\"dataframe\">\n",
       "  <thead>\n",
       "    <tr>\n",
       "      <th></th>\n",
       "      <th colspan=\"2\" halign=\"left\">All</th>\n",
       "      <th colspan=\"2\" halign=\"left\">In VOC</th>\n",
       "      <th colspan=\"2\" halign=\"left\">Out of VOC</th>\n",
       "    </tr>\n",
       "    <tr>\n",
       "      <th></th>\n",
       "      <th>f1 micro</th>\n",
       "      <th>f1 macro</th>\n",
       "      <th>f1 micro</th>\n",
       "      <th>f1 macro</th>\n",
       "      <th>f1 micro</th>\n",
       "      <th>f1 macro</th>\n",
       "    </tr>\n",
       "  </thead>\n",
       "  <tbody>\n",
       "    <tr>\n",
       "      <th>score</th>\n",
       "      <td>0.757812</td>\n",
       "      <td>0.377731</td>\n",
       "      <td>0.790152</td>\n",
       "      <td>0.429136</td>\n",
       "      <td>0.272727</td>\n",
       "      <td>0.157867</td>\n",
       "    </tr>\n",
       "  </tbody>\n",
       "</table>\n",
       "</div>"
      ],
      "text/plain": [
       "            All              In VOC           Out of VOC          \n",
       "       f1 micro  f1 macro  f1 micro  f1 macro   f1 micro  f1 macro\n",
       "score  0.757812  0.377731  0.790152  0.429136   0.272727  0.157867"
      ]
     },
     "metadata": {},
     "output_type": "display_data"
    },
    {
     "name": "stdout",
     "output_type": "stream",
     "text": [
      "Validation metric increased (0.374319 --> 0.377731).  Saving model ...\n"
     ]
    },
    {
     "name": "stderr",
     "output_type": "stream",
     "text": [
      "Epoch 6: 100%|██████████| 508/508 [00:44<00:00, 11.36batch/s, loss_decrease=1.000001882934214] \n",
      "100%|██████████| 1408/1408 [00:14<00:00, 95.19batch/s] \n"
     ]
    },
    {
     "data": {
      "text/html": [
       "<div>\n",
       "<style scoped>\n",
       "    .dataframe tbody tr th:only-of-type {\n",
       "        vertical-align: middle;\n",
       "    }\n",
       "\n",
       "    .dataframe tbody tr th {\n",
       "        vertical-align: top;\n",
       "    }\n",
       "\n",
       "    .dataframe thead tr th {\n",
       "        text-align: left;\n",
       "    }\n",
       "</style>\n",
       "<table border=\"1\" class=\"dataframe\">\n",
       "  <thead>\n",
       "    <tr>\n",
       "      <th></th>\n",
       "      <th colspan=\"2\" halign=\"left\">All</th>\n",
       "      <th colspan=\"2\" halign=\"left\">In VOC</th>\n",
       "      <th colspan=\"2\" halign=\"left\">Out of VOC</th>\n",
       "    </tr>\n",
       "    <tr>\n",
       "      <th></th>\n",
       "      <th>f1 micro</th>\n",
       "      <th>f1 macro</th>\n",
       "      <th>f1 micro</th>\n",
       "      <th>f1 macro</th>\n",
       "      <th>f1 micro</th>\n",
       "      <th>f1 macro</th>\n",
       "    </tr>\n",
       "  </thead>\n",
       "  <tbody>\n",
       "    <tr>\n",
       "      <th>score</th>\n",
       "      <td>0.758523</td>\n",
       "      <td>0.371008</td>\n",
       "      <td>0.792424</td>\n",
       "      <td>0.426699</td>\n",
       "      <td>0.25</td>\n",
       "      <td>0.133598</td>\n",
       "    </tr>\n",
       "  </tbody>\n",
       "</table>\n",
       "</div>"
      ],
      "text/plain": [
       "            All              In VOC           Out of VOC          \n",
       "       f1 micro  f1 macro  f1 micro  f1 macro   f1 micro  f1 macro\n",
       "score  0.758523  0.371008  0.792424  0.426699       0.25  0.133598"
      ]
     },
     "metadata": {},
     "output_type": "display_data"
    },
    {
     "name": "stdout",
     "output_type": "stream",
     "text": [
      "EarlyStopping counter: 1 out of 7\n"
     ]
    },
    {
     "name": "stderr",
     "output_type": "stream",
     "text": [
      "Epoch 7: 100%|██████████| 508/508 [00:44<00:00, 11.30batch/s, loss_decrease=1.0000020712280255]\n",
      "100%|██████████| 1408/1408 [00:15<00:00, 92.66batch/s] \n"
     ]
    },
    {
     "data": {
      "text/html": [
       "<div>\n",
       "<style scoped>\n",
       "    .dataframe tbody tr th:only-of-type {\n",
       "        vertical-align: middle;\n",
       "    }\n",
       "\n",
       "    .dataframe tbody tr th {\n",
       "        vertical-align: top;\n",
       "    }\n",
       "\n",
       "    .dataframe thead tr th {\n",
       "        text-align: left;\n",
       "    }\n",
       "</style>\n",
       "<table border=\"1\" class=\"dataframe\">\n",
       "  <thead>\n",
       "    <tr>\n",
       "      <th></th>\n",
       "      <th colspan=\"2\" halign=\"left\">All</th>\n",
       "      <th colspan=\"2\" halign=\"left\">In VOC</th>\n",
       "      <th colspan=\"2\" halign=\"left\">Out of VOC</th>\n",
       "    </tr>\n",
       "    <tr>\n",
       "      <th></th>\n",
       "      <th>f1 micro</th>\n",
       "      <th>f1 macro</th>\n",
       "      <th>f1 micro</th>\n",
       "      <th>f1 macro</th>\n",
       "      <th>f1 micro</th>\n",
       "      <th>f1 macro</th>\n",
       "    </tr>\n",
       "  </thead>\n",
       "  <tbody>\n",
       "    <tr>\n",
       "      <th>score</th>\n",
       "      <td>0.769176</td>\n",
       "      <td>0.380944</td>\n",
       "      <td>0.803788</td>\n",
       "      <td>0.439287</td>\n",
       "      <td>0.25</td>\n",
       "      <td>0.142257</td>\n",
       "    </tr>\n",
       "  </tbody>\n",
       "</table>\n",
       "</div>"
      ],
      "text/plain": [
       "            All              In VOC           Out of VOC          \n",
       "       f1 micro  f1 macro  f1 micro  f1 macro   f1 micro  f1 macro\n",
       "score  0.769176  0.380944  0.803788  0.439287       0.25  0.142257"
      ]
     },
     "metadata": {},
     "output_type": "display_data"
    },
    {
     "name": "stdout",
     "output_type": "stream",
     "text": [
      "Validation metric increased (0.377731 --> 0.380944).  Saving model ...\n"
     ]
    },
    {
     "name": "stderr",
     "output_type": "stream",
     "text": [
      "Epoch 8: 100%|██████████| 508/508 [00:46<00:00, 10.96batch/s, loss_decrease=1.0000020712280255]\n",
      "100%|██████████| 1408/1408 [00:14<00:00, 97.83batch/s] \n"
     ]
    },
    {
     "data": {
      "text/html": [
       "<div>\n",
       "<style scoped>\n",
       "    .dataframe tbody tr th:only-of-type {\n",
       "        vertical-align: middle;\n",
       "    }\n",
       "\n",
       "    .dataframe tbody tr th {\n",
       "        vertical-align: top;\n",
       "    }\n",
       "\n",
       "    .dataframe thead tr th {\n",
       "        text-align: left;\n",
       "    }\n",
       "</style>\n",
       "<table border=\"1\" class=\"dataframe\">\n",
       "  <thead>\n",
       "    <tr>\n",
       "      <th></th>\n",
       "      <th colspan=\"2\" halign=\"left\">All</th>\n",
       "      <th colspan=\"2\" halign=\"left\">In VOC</th>\n",
       "      <th colspan=\"2\" halign=\"left\">Out of VOC</th>\n",
       "    </tr>\n",
       "    <tr>\n",
       "      <th></th>\n",
       "      <th>f1 micro</th>\n",
       "      <th>f1 macro</th>\n",
       "      <th>f1 micro</th>\n",
       "      <th>f1 macro</th>\n",
       "      <th>f1 micro</th>\n",
       "      <th>f1 macro</th>\n",
       "    </tr>\n",
       "  </thead>\n",
       "  <tbody>\n",
       "    <tr>\n",
       "      <th>score</th>\n",
       "      <td>0.767756</td>\n",
       "      <td>0.38322</td>\n",
       "      <td>0.801515</td>\n",
       "      <td>0.439433</td>\n",
       "      <td>0.261364</td>\n",
       "      <td>0.150131</td>\n",
       "    </tr>\n",
       "  </tbody>\n",
       "</table>\n",
       "</div>"
      ],
      "text/plain": [
       "            All             In VOC           Out of VOC          \n",
       "       f1 micro f1 macro  f1 micro  f1 macro   f1 micro  f1 macro\n",
       "score  0.767756  0.38322  0.801515  0.439433   0.261364  0.150131"
      ]
     },
     "metadata": {},
     "output_type": "display_data"
    },
    {
     "name": "stdout",
     "output_type": "stream",
     "text": [
      "Validation metric increased (0.380944 --> 0.383220).  Saving model ...\n"
     ]
    },
    {
     "name": "stderr",
     "output_type": "stream",
     "text": [
      "Epoch 9: 100%|██████████| 508/508 [00:44<00:00, 11.34batch/s, loss_decrease=1.0000021653749578]\n",
      "100%|██████████| 1408/1408 [00:14<00:00, 98.39batch/s] \n"
     ]
    },
    {
     "data": {
      "text/html": [
       "<div>\n",
       "<style scoped>\n",
       "    .dataframe tbody tr th:only-of-type {\n",
       "        vertical-align: middle;\n",
       "    }\n",
       "\n",
       "    .dataframe tbody tr th {\n",
       "        vertical-align: top;\n",
       "    }\n",
       "\n",
       "    .dataframe thead tr th {\n",
       "        text-align: left;\n",
       "    }\n",
       "</style>\n",
       "<table border=\"1\" class=\"dataframe\">\n",
       "  <thead>\n",
       "    <tr>\n",
       "      <th></th>\n",
       "      <th colspan=\"2\" halign=\"left\">All</th>\n",
       "      <th colspan=\"2\" halign=\"left\">In VOC</th>\n",
       "      <th colspan=\"2\" halign=\"left\">Out of VOC</th>\n",
       "    </tr>\n",
       "    <tr>\n",
       "      <th></th>\n",
       "      <th>f1 micro</th>\n",
       "      <th>f1 macro</th>\n",
       "      <th>f1 micro</th>\n",
       "      <th>f1 macro</th>\n",
       "      <th>f1 micro</th>\n",
       "      <th>f1 macro</th>\n",
       "    </tr>\n",
       "  </thead>\n",
       "  <tbody>\n",
       "    <tr>\n",
       "      <th>score</th>\n",
       "      <td>0.763494</td>\n",
       "      <td>0.384518</td>\n",
       "      <td>0.797727</td>\n",
       "      <td>0.446723</td>\n",
       "      <td>0.25</td>\n",
       "      <td>0.143386</td>\n",
       "    </tr>\n",
       "  </tbody>\n",
       "</table>\n",
       "</div>"
      ],
      "text/plain": [
       "            All              In VOC           Out of VOC          \n",
       "       f1 micro  f1 macro  f1 micro  f1 macro   f1 micro  f1 macro\n",
       "score  0.763494  0.384518  0.797727  0.446723       0.25  0.143386"
      ]
     },
     "metadata": {},
     "output_type": "display_data"
    },
    {
     "name": "stdout",
     "output_type": "stream",
     "text": [
      "Validation metric increased (0.383220 --> 0.384518).  Saving model ...\n"
     ]
    },
    {
     "name": "stderr",
     "output_type": "stream",
     "text": [
      "Epoch 10: 100%|██████████| 508/508 [00:47<00:00, 10.67batch/s, loss_decrease=1.0000020712280255]\n",
      "100%|██████████| 1408/1408 [00:14<00:00, 94.22batch/s] \n"
     ]
    },
    {
     "data": {
      "text/html": [
       "<div>\n",
       "<style scoped>\n",
       "    .dataframe tbody tr th:only-of-type {\n",
       "        vertical-align: middle;\n",
       "    }\n",
       "\n",
       "    .dataframe tbody tr th {\n",
       "        vertical-align: top;\n",
       "    }\n",
       "\n",
       "    .dataframe thead tr th {\n",
       "        text-align: left;\n",
       "    }\n",
       "</style>\n",
       "<table border=\"1\" class=\"dataframe\">\n",
       "  <thead>\n",
       "    <tr>\n",
       "      <th></th>\n",
       "      <th colspan=\"2\" halign=\"left\">All</th>\n",
       "      <th colspan=\"2\" halign=\"left\">In VOC</th>\n",
       "      <th colspan=\"2\" halign=\"left\">Out of VOC</th>\n",
       "    </tr>\n",
       "    <tr>\n",
       "      <th></th>\n",
       "      <th>f1 micro</th>\n",
       "      <th>f1 macro</th>\n",
       "      <th>f1 micro</th>\n",
       "      <th>f1 macro</th>\n",
       "      <th>f1 micro</th>\n",
       "      <th>f1 macro</th>\n",
       "    </tr>\n",
       "  </thead>\n",
       "  <tbody>\n",
       "    <tr>\n",
       "      <th>score</th>\n",
       "      <td>0.770597</td>\n",
       "      <td>0.394674</td>\n",
       "      <td>0.803788</td>\n",
       "      <td>0.454193</td>\n",
       "      <td>0.272727</td>\n",
       "      <td>0.155914</td>\n",
       "    </tr>\n",
       "  </tbody>\n",
       "</table>\n",
       "</div>"
      ],
      "text/plain": [
       "            All              In VOC           Out of VOC          \n",
       "       f1 micro  f1 macro  f1 micro  f1 macro   f1 micro  f1 macro\n",
       "score  0.770597  0.394674  0.803788  0.454193   0.272727  0.155914"
      ]
     },
     "metadata": {},
     "output_type": "display_data"
    },
    {
     "name": "stdout",
     "output_type": "stream",
     "text": [
      "Validation metric increased (0.384518 --> 0.394674).  Saving model ...\n"
     ]
    },
    {
     "name": "stderr",
     "output_type": "stream",
     "text": [
      "Epoch 11: 100%|██████████| 508/508 [00:47<00:00, 10.76batch/s, loss_decrease=1.0000021653749578]\n",
      "100%|██████████| 1408/1408 [00:14<00:00, 97.32batch/s] \n"
     ]
    },
    {
     "data": {
      "text/html": [
       "<div>\n",
       "<style scoped>\n",
       "    .dataframe tbody tr th:only-of-type {\n",
       "        vertical-align: middle;\n",
       "    }\n",
       "\n",
       "    .dataframe tbody tr th {\n",
       "        vertical-align: top;\n",
       "    }\n",
       "\n",
       "    .dataframe thead tr th {\n",
       "        text-align: left;\n",
       "    }\n",
       "</style>\n",
       "<table border=\"1\" class=\"dataframe\">\n",
       "  <thead>\n",
       "    <tr>\n",
       "      <th></th>\n",
       "      <th colspan=\"2\" halign=\"left\">All</th>\n",
       "      <th colspan=\"2\" halign=\"left\">In VOC</th>\n",
       "      <th colspan=\"2\" halign=\"left\">Out of VOC</th>\n",
       "    </tr>\n",
       "    <tr>\n",
       "      <th></th>\n",
       "      <th>f1 micro</th>\n",
       "      <th>f1 macro</th>\n",
       "      <th>f1 micro</th>\n",
       "      <th>f1 macro</th>\n",
       "      <th>f1 micro</th>\n",
       "      <th>f1 macro</th>\n",
       "    </tr>\n",
       "  </thead>\n",
       "  <tbody>\n",
       "    <tr>\n",
       "      <th>score</th>\n",
       "      <td>0.772017</td>\n",
       "      <td>0.389233</td>\n",
       "      <td>0.805303</td>\n",
       "      <td>0.449946</td>\n",
       "      <td>0.272727</td>\n",
       "      <td>0.154667</td>\n",
       "    </tr>\n",
       "  </tbody>\n",
       "</table>\n",
       "</div>"
      ],
      "text/plain": [
       "            All              In VOC           Out of VOC          \n",
       "       f1 micro  f1 macro  f1 micro  f1 macro   f1 micro  f1 macro\n",
       "score  0.772017  0.389233  0.805303  0.449946   0.272727  0.154667"
      ]
     },
     "metadata": {},
     "output_type": "display_data"
    },
    {
     "name": "stdout",
     "output_type": "stream",
     "text": [
      "EarlyStopping counter: 1 out of 7\n"
     ]
    },
    {
     "name": "stderr",
     "output_type": "stream",
     "text": [
      "Epoch 12: 100%|██████████| 508/508 [00:46<00:00, 10.92batch/s, loss_decrease=1.0000020712280255]\n",
      "100%|██████████| 1408/1408 [00:14<00:00, 98.46batch/s] \n"
     ]
    },
    {
     "data": {
      "text/html": [
       "<div>\n",
       "<style scoped>\n",
       "    .dataframe tbody tr th:only-of-type {\n",
       "        vertical-align: middle;\n",
       "    }\n",
       "\n",
       "    .dataframe tbody tr th {\n",
       "        vertical-align: top;\n",
       "    }\n",
       "\n",
       "    .dataframe thead tr th {\n",
       "        text-align: left;\n",
       "    }\n",
       "</style>\n",
       "<table border=\"1\" class=\"dataframe\">\n",
       "  <thead>\n",
       "    <tr>\n",
       "      <th></th>\n",
       "      <th colspan=\"2\" halign=\"left\">All</th>\n",
       "      <th colspan=\"2\" halign=\"left\">In VOC</th>\n",
       "      <th colspan=\"2\" halign=\"left\">Out of VOC</th>\n",
       "    </tr>\n",
       "    <tr>\n",
       "      <th></th>\n",
       "      <th>f1 micro</th>\n",
       "      <th>f1 macro</th>\n",
       "      <th>f1 micro</th>\n",
       "      <th>f1 macro</th>\n",
       "      <th>f1 micro</th>\n",
       "      <th>f1 macro</th>\n",
       "    </tr>\n",
       "  </thead>\n",
       "  <tbody>\n",
       "    <tr>\n",
       "      <th>score</th>\n",
       "      <td>0.767756</td>\n",
       "      <td>0.382008</td>\n",
       "      <td>0.803788</td>\n",
       "      <td>0.451042</td>\n",
       "      <td>0.227273</td>\n",
       "      <td>0.11938</td>\n",
       "    </tr>\n",
       "  </tbody>\n",
       "</table>\n",
       "</div>"
      ],
      "text/plain": [
       "            All              In VOC           Out of VOC         \n",
       "       f1 micro  f1 macro  f1 micro  f1 macro   f1 micro f1 macro\n",
       "score  0.767756  0.382008  0.803788  0.451042   0.227273  0.11938"
      ]
     },
     "metadata": {},
     "output_type": "display_data"
    },
    {
     "name": "stdout",
     "output_type": "stream",
     "text": [
      "EarlyStopping counter: 2 out of 7\n"
     ]
    },
    {
     "name": "stderr",
     "output_type": "stream",
     "text": [
      "Epoch 13: 100%|██████████| 508/508 [00:46<00:00, 10.92batch/s, loss_decrease=1.0000021653749578]\n",
      "100%|██████████| 1408/1408 [00:15<00:00, 93.25batch/s]\n"
     ]
    },
    {
     "data": {
      "text/html": [
       "<div>\n",
       "<style scoped>\n",
       "    .dataframe tbody tr th:only-of-type {\n",
       "        vertical-align: middle;\n",
       "    }\n",
       "\n",
       "    .dataframe tbody tr th {\n",
       "        vertical-align: top;\n",
       "    }\n",
       "\n",
       "    .dataframe thead tr th {\n",
       "        text-align: left;\n",
       "    }\n",
       "</style>\n",
       "<table border=\"1\" class=\"dataframe\">\n",
       "  <thead>\n",
       "    <tr>\n",
       "      <th></th>\n",
       "      <th colspan=\"2\" halign=\"left\">All</th>\n",
       "      <th colspan=\"2\" halign=\"left\">In VOC</th>\n",
       "      <th colspan=\"2\" halign=\"left\">Out of VOC</th>\n",
       "    </tr>\n",
       "    <tr>\n",
       "      <th></th>\n",
       "      <th>f1 micro</th>\n",
       "      <th>f1 macro</th>\n",
       "      <th>f1 micro</th>\n",
       "      <th>f1 macro</th>\n",
       "      <th>f1 micro</th>\n",
       "      <th>f1 macro</th>\n",
       "    </tr>\n",
       "  </thead>\n",
       "  <tbody>\n",
       "    <tr>\n",
       "      <th>score</th>\n",
       "      <td>0.764915</td>\n",
       "      <td>0.386791</td>\n",
       "      <td>0.8</td>\n",
       "      <td>0.453159</td>\n",
       "      <td>0.238636</td>\n",
       "      <td>0.130159</td>\n",
       "    </tr>\n",
       "  </tbody>\n",
       "</table>\n",
       "</div>"
      ],
      "text/plain": [
       "            All             In VOC           Out of VOC          \n",
       "       f1 micro  f1 macro f1 micro  f1 macro   f1 micro  f1 macro\n",
       "score  0.764915  0.386791      0.8  0.453159   0.238636  0.130159"
      ]
     },
     "metadata": {},
     "output_type": "display_data"
    },
    {
     "name": "stdout",
     "output_type": "stream",
     "text": [
      "EarlyStopping counter: 3 out of 7\n"
     ]
    },
    {
     "name": "stderr",
     "output_type": "stream",
     "text": [
      "Epoch 14: 100%|██████████| 508/508 [00:47<00:00, 10.81batch/s, loss_decrease=1.0000022595219078]\n",
      "100%|██████████| 1408/1408 [00:15<00:00, 93.80batch/s] \n"
     ]
    },
    {
     "data": {
      "text/html": [
       "<div>\n",
       "<style scoped>\n",
       "    .dataframe tbody tr th:only-of-type {\n",
       "        vertical-align: middle;\n",
       "    }\n",
       "\n",
       "    .dataframe tbody tr th {\n",
       "        vertical-align: top;\n",
       "    }\n",
       "\n",
       "    .dataframe thead tr th {\n",
       "        text-align: left;\n",
       "    }\n",
       "</style>\n",
       "<table border=\"1\" class=\"dataframe\">\n",
       "  <thead>\n",
       "    <tr>\n",
       "      <th></th>\n",
       "      <th colspan=\"2\" halign=\"left\">All</th>\n",
       "      <th colspan=\"2\" halign=\"left\">In VOC</th>\n",
       "      <th colspan=\"2\" halign=\"left\">Out of VOC</th>\n",
       "    </tr>\n",
       "    <tr>\n",
       "      <th></th>\n",
       "      <th>f1 micro</th>\n",
       "      <th>f1 macro</th>\n",
       "      <th>f1 micro</th>\n",
       "      <th>f1 macro</th>\n",
       "      <th>f1 micro</th>\n",
       "      <th>f1 macro</th>\n",
       "    </tr>\n",
       "  </thead>\n",
       "  <tbody>\n",
       "    <tr>\n",
       "      <th>score</th>\n",
       "      <td>0.769176</td>\n",
       "      <td>0.390243</td>\n",
       "      <td>0.806061</td>\n",
       "      <td>0.465507</td>\n",
       "      <td>0.215909</td>\n",
       "      <td>0.111628</td>\n",
       "    </tr>\n",
       "  </tbody>\n",
       "</table>\n",
       "</div>"
      ],
      "text/plain": [
       "            All              In VOC           Out of VOC          \n",
       "       f1 micro  f1 macro  f1 micro  f1 macro   f1 micro  f1 macro\n",
       "score  0.769176  0.390243  0.806061  0.465507   0.215909  0.111628"
      ]
     },
     "metadata": {},
     "output_type": "display_data"
    },
    {
     "name": "stdout",
     "output_type": "stream",
     "text": [
      "EarlyStopping counter: 4 out of 7\n"
     ]
    },
    {
     "name": "stderr",
     "output_type": "stream",
     "text": [
      "Epoch 15: 100%|██████████| 508/508 [00:47<00:00, 10.80batch/s, loss_decrease=1.0000022595219078]\n",
      "100%|██████████| 1408/1408 [00:14<00:00, 95.57batch/s]\n"
     ]
    },
    {
     "data": {
      "text/html": [
       "<div>\n",
       "<style scoped>\n",
       "    .dataframe tbody tr th:only-of-type {\n",
       "        vertical-align: middle;\n",
       "    }\n",
       "\n",
       "    .dataframe tbody tr th {\n",
       "        vertical-align: top;\n",
       "    }\n",
       "\n",
       "    .dataframe thead tr th {\n",
       "        text-align: left;\n",
       "    }\n",
       "</style>\n",
       "<table border=\"1\" class=\"dataframe\">\n",
       "  <thead>\n",
       "    <tr>\n",
       "      <th></th>\n",
       "      <th colspan=\"2\" halign=\"left\">All</th>\n",
       "      <th colspan=\"2\" halign=\"left\">In VOC</th>\n",
       "      <th colspan=\"2\" halign=\"left\">Out of VOC</th>\n",
       "    </tr>\n",
       "    <tr>\n",
       "      <th></th>\n",
       "      <th>f1 micro</th>\n",
       "      <th>f1 macro</th>\n",
       "      <th>f1 micro</th>\n",
       "      <th>f1 macro</th>\n",
       "      <th>f1 micro</th>\n",
       "      <th>f1 macro</th>\n",
       "    </tr>\n",
       "  </thead>\n",
       "  <tbody>\n",
       "    <tr>\n",
       "      <th>score</th>\n",
       "      <td>0.772727</td>\n",
       "      <td>0.396704</td>\n",
       "      <td>0.809091</td>\n",
       "      <td>0.474131</td>\n",
       "      <td>0.227273</td>\n",
       "      <td>0.12359</td>\n",
       "    </tr>\n",
       "  </tbody>\n",
       "</table>\n",
       "</div>"
      ],
      "text/plain": [
       "            All              In VOC           Out of VOC         \n",
       "       f1 micro  f1 macro  f1 micro  f1 macro   f1 micro f1 macro\n",
       "score  0.772727  0.396704  0.809091  0.474131   0.227273  0.12359"
      ]
     },
     "metadata": {},
     "output_type": "display_data"
    },
    {
     "name": "stdout",
     "output_type": "stream",
     "text": [
      "Validation metric increased (0.394674 --> 0.396704).  Saving model ...\n"
     ]
    },
    {
     "name": "stderr",
     "output_type": "stream",
     "text": [
      "Epoch 16: 100%|██████████| 508/508 [00:46<00:00, 10.98batch/s, loss_decrease=1.0000023536688756]\n",
      "100%|██████████| 1408/1408 [00:14<00:00, 97.09batch/s] \n"
     ]
    },
    {
     "data": {
      "text/html": [
       "<div>\n",
       "<style scoped>\n",
       "    .dataframe tbody tr th:only-of-type {\n",
       "        vertical-align: middle;\n",
       "    }\n",
       "\n",
       "    .dataframe tbody tr th {\n",
       "        vertical-align: top;\n",
       "    }\n",
       "\n",
       "    .dataframe thead tr th {\n",
       "        text-align: left;\n",
       "    }\n",
       "</style>\n",
       "<table border=\"1\" class=\"dataframe\">\n",
       "  <thead>\n",
       "    <tr>\n",
       "      <th></th>\n",
       "      <th colspan=\"2\" halign=\"left\">All</th>\n",
       "      <th colspan=\"2\" halign=\"left\">In VOC</th>\n",
       "      <th colspan=\"2\" halign=\"left\">Out of VOC</th>\n",
       "    </tr>\n",
       "    <tr>\n",
       "      <th></th>\n",
       "      <th>f1 micro</th>\n",
       "      <th>f1 macro</th>\n",
       "      <th>f1 micro</th>\n",
       "      <th>f1 macro</th>\n",
       "      <th>f1 micro</th>\n",
       "      <th>f1 macro</th>\n",
       "    </tr>\n",
       "  </thead>\n",
       "  <tbody>\n",
       "    <tr>\n",
       "      <th>score</th>\n",
       "      <td>0.771307</td>\n",
       "      <td>0.395225</td>\n",
       "      <td>0.806818</td>\n",
       "      <td>0.464722</td>\n",
       "      <td>0.238636</td>\n",
       "      <td>0.129293</td>\n",
       "    </tr>\n",
       "  </tbody>\n",
       "</table>\n",
       "</div>"
      ],
      "text/plain": [
       "            All              In VOC           Out of VOC          \n",
       "       f1 micro  f1 macro  f1 micro  f1 macro   f1 micro  f1 macro\n",
       "score  0.771307  0.395225  0.806818  0.464722   0.238636  0.129293"
      ]
     },
     "metadata": {},
     "output_type": "display_data"
    },
    {
     "name": "stdout",
     "output_type": "stream",
     "text": [
      "EarlyStopping counter: 1 out of 7\n"
     ]
    },
    {
     "name": "stderr",
     "output_type": "stream",
     "text": [
      "Epoch 17: 100%|██████████| 508/508 [00:46<00:00, 10.85batch/s, loss_decrease=1.0000023536688756]\n",
      "100%|██████████| 1408/1408 [00:14<00:00, 94.18batch/s] \n"
     ]
    },
    {
     "data": {
      "text/html": [
       "<div>\n",
       "<style scoped>\n",
       "    .dataframe tbody tr th:only-of-type {\n",
       "        vertical-align: middle;\n",
       "    }\n",
       "\n",
       "    .dataframe tbody tr th {\n",
       "        vertical-align: top;\n",
       "    }\n",
       "\n",
       "    .dataframe thead tr th {\n",
       "        text-align: left;\n",
       "    }\n",
       "</style>\n",
       "<table border=\"1\" class=\"dataframe\">\n",
       "  <thead>\n",
       "    <tr>\n",
       "      <th></th>\n",
       "      <th colspan=\"2\" halign=\"left\">All</th>\n",
       "      <th colspan=\"2\" halign=\"left\">In VOC</th>\n",
       "      <th colspan=\"2\" halign=\"left\">Out of VOC</th>\n",
       "    </tr>\n",
       "    <tr>\n",
       "      <th></th>\n",
       "      <th>f1 micro</th>\n",
       "      <th>f1 macro</th>\n",
       "      <th>f1 micro</th>\n",
       "      <th>f1 macro</th>\n",
       "      <th>f1 micro</th>\n",
       "      <th>f1 macro</th>\n",
       "    </tr>\n",
       "  </thead>\n",
       "  <tbody>\n",
       "    <tr>\n",
       "      <th>score</th>\n",
       "      <td>0.775568</td>\n",
       "      <td>0.402094</td>\n",
       "      <td>0.810606</td>\n",
       "      <td>0.471639</td>\n",
       "      <td>0.25</td>\n",
       "      <td>0.138974</td>\n",
       "    </tr>\n",
       "  </tbody>\n",
       "</table>\n",
       "</div>"
      ],
      "text/plain": [
       "            All              In VOC           Out of VOC          \n",
       "       f1 micro  f1 macro  f1 micro  f1 macro   f1 micro  f1 macro\n",
       "score  0.775568  0.402094  0.810606  0.471639       0.25  0.138974"
      ]
     },
     "metadata": {},
     "output_type": "display_data"
    },
    {
     "name": "stdout",
     "output_type": "stream",
     "text": [
      "Validation metric increased (0.396704 --> 0.402094).  Saving model ...\n"
     ]
    },
    {
     "name": "stderr",
     "output_type": "stream",
     "text": [
      "Epoch 18: 100%|██████████| 508/508 [00:46<00:00, 10.81batch/s, loss_decrease=1.0000023536688756]\n",
      "100%|██████████| 1408/1408 [00:14<00:00, 94.41batch/s] \n"
     ]
    },
    {
     "data": {
      "text/html": [
       "<div>\n",
       "<style scoped>\n",
       "    .dataframe tbody tr th:only-of-type {\n",
       "        vertical-align: middle;\n",
       "    }\n",
       "\n",
       "    .dataframe tbody tr th {\n",
       "        vertical-align: top;\n",
       "    }\n",
       "\n",
       "    .dataframe thead tr th {\n",
       "        text-align: left;\n",
       "    }\n",
       "</style>\n",
       "<table border=\"1\" class=\"dataframe\">\n",
       "  <thead>\n",
       "    <tr>\n",
       "      <th></th>\n",
       "      <th colspan=\"2\" halign=\"left\">All</th>\n",
       "      <th colspan=\"2\" halign=\"left\">In VOC</th>\n",
       "      <th colspan=\"2\" halign=\"left\">Out of VOC</th>\n",
       "    </tr>\n",
       "    <tr>\n",
       "      <th></th>\n",
       "      <th>f1 micro</th>\n",
       "      <th>f1 macro</th>\n",
       "      <th>f1 micro</th>\n",
       "      <th>f1 macro</th>\n",
       "      <th>f1 micro</th>\n",
       "      <th>f1 macro</th>\n",
       "    </tr>\n",
       "  </thead>\n",
       "  <tbody>\n",
       "    <tr>\n",
       "      <th>score</th>\n",
       "      <td>0.777699</td>\n",
       "      <td>0.404992</td>\n",
       "      <td>0.813636</td>\n",
       "      <td>0.48024</td>\n",
       "      <td>0.238636</td>\n",
       "      <td>0.126154</td>\n",
       "    </tr>\n",
       "  </tbody>\n",
       "</table>\n",
       "</div>"
      ],
      "text/plain": [
       "            All              In VOC          Out of VOC          \n",
       "       f1 micro  f1 macro  f1 micro f1 macro   f1 micro  f1 macro\n",
       "score  0.777699  0.404992  0.813636  0.48024   0.238636  0.126154"
      ]
     },
     "metadata": {},
     "output_type": "display_data"
    },
    {
     "name": "stdout",
     "output_type": "stream",
     "text": [
      "Validation metric increased (0.402094 --> 0.404992).  Saving model ...\n"
     ]
    },
    {
     "name": "stderr",
     "output_type": "stream",
     "text": [
      "Epoch 19: 100%|██████████| 508/508 [00:46<00:00, 10.98batch/s, loss_decrease=1.0000023536688756]\n",
      "100%|██████████| 1408/1408 [00:14<00:00, 96.75batch/s] \n"
     ]
    },
    {
     "data": {
      "text/html": [
       "<div>\n",
       "<style scoped>\n",
       "    .dataframe tbody tr th:only-of-type {\n",
       "        vertical-align: middle;\n",
       "    }\n",
       "\n",
       "    .dataframe tbody tr th {\n",
       "        vertical-align: top;\n",
       "    }\n",
       "\n",
       "    .dataframe thead tr th {\n",
       "        text-align: left;\n",
       "    }\n",
       "</style>\n",
       "<table border=\"1\" class=\"dataframe\">\n",
       "  <thead>\n",
       "    <tr>\n",
       "      <th></th>\n",
       "      <th colspan=\"2\" halign=\"left\">All</th>\n",
       "      <th colspan=\"2\" halign=\"left\">In VOC</th>\n",
       "      <th colspan=\"2\" halign=\"left\">Out of VOC</th>\n",
       "    </tr>\n",
       "    <tr>\n",
       "      <th></th>\n",
       "      <th>f1 micro</th>\n",
       "      <th>f1 macro</th>\n",
       "      <th>f1 micro</th>\n",
       "      <th>f1 macro</th>\n",
       "      <th>f1 micro</th>\n",
       "      <th>f1 macro</th>\n",
       "    </tr>\n",
       "  </thead>\n",
       "  <tbody>\n",
       "    <tr>\n",
       "      <th>score</th>\n",
       "      <td>0.776278</td>\n",
       "      <td>0.407447</td>\n",
       "      <td>0.811364</td>\n",
       "      <td>0.484191</td>\n",
       "      <td>0.25</td>\n",
       "      <td>0.133846</td>\n",
       "    </tr>\n",
       "  </tbody>\n",
       "</table>\n",
       "</div>"
      ],
      "text/plain": [
       "            All              In VOC           Out of VOC          \n",
       "       f1 micro  f1 macro  f1 micro  f1 macro   f1 micro  f1 macro\n",
       "score  0.776278  0.407447  0.811364  0.484191       0.25  0.133846"
      ]
     },
     "metadata": {},
     "output_type": "display_data"
    },
    {
     "name": "stdout",
     "output_type": "stream",
     "text": [
      "Validation metric increased (0.404992 --> 0.407447).  Saving model ...\n"
     ]
    },
    {
     "name": "stderr",
     "output_type": "stream",
     "text": [
      "Epoch 20: 100%|██████████| 508/508 [00:46<00:00, 11.03batch/s, loss_decrease=1.0000023536688756]\n",
      "100%|██████████| 1408/1408 [00:14<00:00, 96.21batch/s] \n"
     ]
    },
    {
     "data": {
      "text/html": [
       "<div>\n",
       "<style scoped>\n",
       "    .dataframe tbody tr th:only-of-type {\n",
       "        vertical-align: middle;\n",
       "    }\n",
       "\n",
       "    .dataframe tbody tr th {\n",
       "        vertical-align: top;\n",
       "    }\n",
       "\n",
       "    .dataframe thead tr th {\n",
       "        text-align: left;\n",
       "    }\n",
       "</style>\n",
       "<table border=\"1\" class=\"dataframe\">\n",
       "  <thead>\n",
       "    <tr>\n",
       "      <th></th>\n",
       "      <th colspan=\"2\" halign=\"left\">All</th>\n",
       "      <th colspan=\"2\" halign=\"left\">In VOC</th>\n",
       "      <th colspan=\"2\" halign=\"left\">Out of VOC</th>\n",
       "    </tr>\n",
       "    <tr>\n",
       "      <th></th>\n",
       "      <th>f1 micro</th>\n",
       "      <th>f1 macro</th>\n",
       "      <th>f1 micro</th>\n",
       "      <th>f1 macro</th>\n",
       "      <th>f1 micro</th>\n",
       "      <th>f1 macro</th>\n",
       "    </tr>\n",
       "  </thead>\n",
       "  <tbody>\n",
       "    <tr>\n",
       "      <th>score</th>\n",
       "      <td>0.772017</td>\n",
       "      <td>0.402799</td>\n",
       "      <td>0.807576</td>\n",
       "      <td>0.472488</td>\n",
       "      <td>0.238636</td>\n",
       "      <td>0.124242</td>\n",
       "    </tr>\n",
       "  </tbody>\n",
       "</table>\n",
       "</div>"
      ],
      "text/plain": [
       "            All              In VOC           Out of VOC          \n",
       "       f1 micro  f1 macro  f1 micro  f1 macro   f1 micro  f1 macro\n",
       "score  0.772017  0.402799  0.807576  0.472488   0.238636  0.124242"
      ]
     },
     "metadata": {},
     "output_type": "display_data"
    },
    {
     "name": "stdout",
     "output_type": "stream",
     "text": [
      "EarlyStopping counter: 1 out of 7\n"
     ]
    },
    {
     "name": "stderr",
     "output_type": "stream",
     "text": [
      "Epoch 21: 100%|██████████| 508/508 [00:47<00:00, 10.80batch/s, loss_decrease=1.000002447815861] \n",
      "100%|██████████| 1408/1408 [00:14<00:00, 95.41batch/s] \n"
     ]
    },
    {
     "data": {
      "text/html": [
       "<div>\n",
       "<style scoped>\n",
       "    .dataframe tbody tr th:only-of-type {\n",
       "        vertical-align: middle;\n",
       "    }\n",
       "\n",
       "    .dataframe tbody tr th {\n",
       "        vertical-align: top;\n",
       "    }\n",
       "\n",
       "    .dataframe thead tr th {\n",
       "        text-align: left;\n",
       "    }\n",
       "</style>\n",
       "<table border=\"1\" class=\"dataframe\">\n",
       "  <thead>\n",
       "    <tr>\n",
       "      <th></th>\n",
       "      <th colspan=\"2\" halign=\"left\">All</th>\n",
       "      <th colspan=\"2\" halign=\"left\">In VOC</th>\n",
       "      <th colspan=\"2\" halign=\"left\">Out of VOC</th>\n",
       "    </tr>\n",
       "    <tr>\n",
       "      <th></th>\n",
       "      <th>f1 micro</th>\n",
       "      <th>f1 macro</th>\n",
       "      <th>f1 micro</th>\n",
       "      <th>f1 macro</th>\n",
       "      <th>f1 micro</th>\n",
       "      <th>f1 macro</th>\n",
       "    </tr>\n",
       "  </thead>\n",
       "  <tbody>\n",
       "    <tr>\n",
       "      <th>score</th>\n",
       "      <td>0.769886</td>\n",
       "      <td>0.387082</td>\n",
       "      <td>0.806061</td>\n",
       "      <td>0.464032</td>\n",
       "      <td>0.227273</td>\n",
       "      <td>0.120313</td>\n",
       "    </tr>\n",
       "  </tbody>\n",
       "</table>\n",
       "</div>"
      ],
      "text/plain": [
       "            All              In VOC           Out of VOC          \n",
       "       f1 micro  f1 macro  f1 micro  f1 macro   f1 micro  f1 macro\n",
       "score  0.769886  0.387082  0.806061  0.464032   0.227273  0.120313"
      ]
     },
     "metadata": {},
     "output_type": "display_data"
    },
    {
     "name": "stdout",
     "output_type": "stream",
     "text": [
      "EarlyStopping counter: 2 out of 7\n"
     ]
    },
    {
     "name": "stderr",
     "output_type": "stream",
     "text": [
      "Epoch 22: 100%|██████████| 508/508 [00:46<00:00, 10.89batch/s, loss_decrease=1.0000023536688756]\n",
      "100%|██████████| 1408/1408 [00:14<00:00, 96.32batch/s] \n"
     ]
    },
    {
     "data": {
      "text/html": [
       "<div>\n",
       "<style scoped>\n",
       "    .dataframe tbody tr th:only-of-type {\n",
       "        vertical-align: middle;\n",
       "    }\n",
       "\n",
       "    .dataframe tbody tr th {\n",
       "        vertical-align: top;\n",
       "    }\n",
       "\n",
       "    .dataframe thead tr th {\n",
       "        text-align: left;\n",
       "    }\n",
       "</style>\n",
       "<table border=\"1\" class=\"dataframe\">\n",
       "  <thead>\n",
       "    <tr>\n",
       "      <th></th>\n",
       "      <th colspan=\"2\" halign=\"left\">All</th>\n",
       "      <th colspan=\"2\" halign=\"left\">In VOC</th>\n",
       "      <th colspan=\"2\" halign=\"left\">Out of VOC</th>\n",
       "    </tr>\n",
       "    <tr>\n",
       "      <th></th>\n",
       "      <th>f1 micro</th>\n",
       "      <th>f1 macro</th>\n",
       "      <th>f1 micro</th>\n",
       "      <th>f1 macro</th>\n",
       "      <th>f1 micro</th>\n",
       "      <th>f1 macro</th>\n",
       "    </tr>\n",
       "  </thead>\n",
       "  <tbody>\n",
       "    <tr>\n",
       "      <th>score</th>\n",
       "      <td>0.772727</td>\n",
       "      <td>0.402556</td>\n",
       "      <td>0.808333</td>\n",
       "      <td>0.469248</td>\n",
       "      <td>0.238636</td>\n",
       "      <td>0.126154</td>\n",
       "    </tr>\n",
       "  </tbody>\n",
       "</table>\n",
       "</div>"
      ],
      "text/plain": [
       "            All              In VOC           Out of VOC          \n",
       "       f1 micro  f1 macro  f1 micro  f1 macro   f1 micro  f1 macro\n",
       "score  0.772727  0.402556  0.808333  0.469248   0.238636  0.126154"
      ]
     },
     "metadata": {},
     "output_type": "display_data"
    },
    {
     "name": "stdout",
     "output_type": "stream",
     "text": [
      "EarlyStopping counter: 3 out of 7\n"
     ]
    },
    {
     "name": "stderr",
     "output_type": "stream",
     "text": [
      "Epoch 23: 100%|██████████| 508/508 [00:45<00:00, 11.11batch/s, loss_decrease=1.000002447815861] \n",
      "100%|██████████| 1408/1408 [00:14<00:00, 98.02batch/s] \n"
     ]
    },
    {
     "data": {
      "text/html": [
       "<div>\n",
       "<style scoped>\n",
       "    .dataframe tbody tr th:only-of-type {\n",
       "        vertical-align: middle;\n",
       "    }\n",
       "\n",
       "    .dataframe tbody tr th {\n",
       "        vertical-align: top;\n",
       "    }\n",
       "\n",
       "    .dataframe thead tr th {\n",
       "        text-align: left;\n",
       "    }\n",
       "</style>\n",
       "<table border=\"1\" class=\"dataframe\">\n",
       "  <thead>\n",
       "    <tr>\n",
       "      <th></th>\n",
       "      <th colspan=\"2\" halign=\"left\">All</th>\n",
       "      <th colspan=\"2\" halign=\"left\">In VOC</th>\n",
       "      <th colspan=\"2\" halign=\"left\">Out of VOC</th>\n",
       "    </tr>\n",
       "    <tr>\n",
       "      <th></th>\n",
       "      <th>f1 micro</th>\n",
       "      <th>f1 macro</th>\n",
       "      <th>f1 micro</th>\n",
       "      <th>f1 macro</th>\n",
       "      <th>f1 micro</th>\n",
       "      <th>f1 macro</th>\n",
       "    </tr>\n",
       "  </thead>\n",
       "  <tbody>\n",
       "    <tr>\n",
       "      <th>score</th>\n",
       "      <td>0.768466</td>\n",
       "      <td>0.394274</td>\n",
       "      <td>0.805303</td>\n",
       "      <td>0.475914</td>\n",
       "      <td>0.215909</td>\n",
       "      <td>0.108205</td>\n",
       "    </tr>\n",
       "  </tbody>\n",
       "</table>\n",
       "</div>"
      ],
      "text/plain": [
       "            All              In VOC           Out of VOC          \n",
       "       f1 micro  f1 macro  f1 micro  f1 macro   f1 micro  f1 macro\n",
       "score  0.768466  0.394274  0.805303  0.475914   0.215909  0.108205"
      ]
     },
     "metadata": {},
     "output_type": "display_data"
    },
    {
     "name": "stdout",
     "output_type": "stream",
     "text": [
      "EarlyStopping counter: 4 out of 7\n"
     ]
    },
    {
     "name": "stderr",
     "output_type": "stream",
     "text": [
      "Epoch 24: 100%|██████████| 508/508 [00:46<00:00, 10.86batch/s, loss_decrease=1.000002447815861] \n",
      "100%|██████████| 1408/1408 [00:14<00:00, 97.04batch/s]\n"
     ]
    },
    {
     "data": {
      "text/html": [
       "<div>\n",
       "<style scoped>\n",
       "    .dataframe tbody tr th:only-of-type {\n",
       "        vertical-align: middle;\n",
       "    }\n",
       "\n",
       "    .dataframe tbody tr th {\n",
       "        vertical-align: top;\n",
       "    }\n",
       "\n",
       "    .dataframe thead tr th {\n",
       "        text-align: left;\n",
       "    }\n",
       "</style>\n",
       "<table border=\"1\" class=\"dataframe\">\n",
       "  <thead>\n",
       "    <tr>\n",
       "      <th></th>\n",
       "      <th colspan=\"2\" halign=\"left\">All</th>\n",
       "      <th colspan=\"2\" halign=\"left\">In VOC</th>\n",
       "      <th colspan=\"2\" halign=\"left\">Out of VOC</th>\n",
       "    </tr>\n",
       "    <tr>\n",
       "      <th></th>\n",
       "      <th>f1 micro</th>\n",
       "      <th>f1 macro</th>\n",
       "      <th>f1 micro</th>\n",
       "      <th>f1 macro</th>\n",
       "      <th>f1 micro</th>\n",
       "      <th>f1 macro</th>\n",
       "    </tr>\n",
       "  </thead>\n",
       "  <tbody>\n",
       "    <tr>\n",
       "      <th>score</th>\n",
       "      <td>0.772727</td>\n",
       "      <td>0.408032</td>\n",
       "      <td>0.808333</td>\n",
       "      <td>0.485321</td>\n",
       "      <td>0.238636</td>\n",
       "      <td>0.126509</td>\n",
       "    </tr>\n",
       "  </tbody>\n",
       "</table>\n",
       "</div>"
      ],
      "text/plain": [
       "            All              In VOC           Out of VOC          \n",
       "       f1 micro  f1 macro  f1 micro  f1 macro   f1 micro  f1 macro\n",
       "score  0.772727  0.408032  0.808333  0.485321   0.238636  0.126509"
      ]
     },
     "metadata": {},
     "output_type": "display_data"
    },
    {
     "name": "stdout",
     "output_type": "stream",
     "text": [
      "Validation metric increased (0.407447 --> 0.408032).  Saving model ...\n"
     ]
    },
    {
     "name": "stderr",
     "output_type": "stream",
     "text": [
      "Epoch 25: 100%|██████████| 508/508 [00:45<00:00, 11.21batch/s, loss_decrease=1.000002447815861] \n",
      "100%|██████████| 1408/1408 [00:14<00:00, 100.14batch/s]\n"
     ]
    },
    {
     "data": {
      "text/html": [
       "<div>\n",
       "<style scoped>\n",
       "    .dataframe tbody tr th:only-of-type {\n",
       "        vertical-align: middle;\n",
       "    }\n",
       "\n",
       "    .dataframe tbody tr th {\n",
       "        vertical-align: top;\n",
       "    }\n",
       "\n",
       "    .dataframe thead tr th {\n",
       "        text-align: left;\n",
       "    }\n",
       "</style>\n",
       "<table border=\"1\" class=\"dataframe\">\n",
       "  <thead>\n",
       "    <tr>\n",
       "      <th></th>\n",
       "      <th colspan=\"2\" halign=\"left\">All</th>\n",
       "      <th colspan=\"2\" halign=\"left\">In VOC</th>\n",
       "      <th colspan=\"2\" halign=\"left\">Out of VOC</th>\n",
       "    </tr>\n",
       "    <tr>\n",
       "      <th></th>\n",
       "      <th>f1 micro</th>\n",
       "      <th>f1 macro</th>\n",
       "      <th>f1 micro</th>\n",
       "      <th>f1 macro</th>\n",
       "      <th>f1 micro</th>\n",
       "      <th>f1 macro</th>\n",
       "    </tr>\n",
       "  </thead>\n",
       "  <tbody>\n",
       "    <tr>\n",
       "      <th>score</th>\n",
       "      <td>0.772017</td>\n",
       "      <td>0.398018</td>\n",
       "      <td>0.807576</td>\n",
       "      <td>0.470439</td>\n",
       "      <td>0.238636</td>\n",
       "      <td>0.126154</td>\n",
       "    </tr>\n",
       "  </tbody>\n",
       "</table>\n",
       "</div>"
      ],
      "text/plain": [
       "            All              In VOC           Out of VOC          \n",
       "       f1 micro  f1 macro  f1 micro  f1 macro   f1 micro  f1 macro\n",
       "score  0.772017  0.398018  0.807576  0.470439   0.238636  0.126154"
      ]
     },
     "metadata": {},
     "output_type": "display_data"
    },
    {
     "name": "stdout",
     "output_type": "stream",
     "text": [
      "EarlyStopping counter: 1 out of 7\n"
     ]
    },
    {
     "name": "stderr",
     "output_type": "stream",
     "text": [
      "Epoch 26: 100%|██████████| 508/508 [00:46<00:00, 11.00batch/s, loss_decrease=1.000002447815861] \n",
      "100%|██████████| 1408/1408 [00:14<00:00, 97.53batch/s] \n"
     ]
    },
    {
     "data": {
      "text/html": [
       "<div>\n",
       "<style scoped>\n",
       "    .dataframe tbody tr th:only-of-type {\n",
       "        vertical-align: middle;\n",
       "    }\n",
       "\n",
       "    .dataframe tbody tr th {\n",
       "        vertical-align: top;\n",
       "    }\n",
       "\n",
       "    .dataframe thead tr th {\n",
       "        text-align: left;\n",
       "    }\n",
       "</style>\n",
       "<table border=\"1\" class=\"dataframe\">\n",
       "  <thead>\n",
       "    <tr>\n",
       "      <th></th>\n",
       "      <th colspan=\"2\" halign=\"left\">All</th>\n",
       "      <th colspan=\"2\" halign=\"left\">In VOC</th>\n",
       "      <th colspan=\"2\" halign=\"left\">Out of VOC</th>\n",
       "    </tr>\n",
       "    <tr>\n",
       "      <th></th>\n",
       "      <th>f1 micro</th>\n",
       "      <th>f1 macro</th>\n",
       "      <th>f1 micro</th>\n",
       "      <th>f1 macro</th>\n",
       "      <th>f1 micro</th>\n",
       "      <th>f1 macro</th>\n",
       "    </tr>\n",
       "  </thead>\n",
       "  <tbody>\n",
       "    <tr>\n",
       "      <th>score</th>\n",
       "      <td>0.770597</td>\n",
       "      <td>0.40017</td>\n",
       "      <td>0.808333</td>\n",
       "      <td>0.479343</td>\n",
       "      <td>0.204545</td>\n",
       "      <td>0.108205</td>\n",
       "    </tr>\n",
       "  </tbody>\n",
       "</table>\n",
       "</div>"
      ],
      "text/plain": [
       "            All             In VOC           Out of VOC          \n",
       "       f1 micro f1 macro  f1 micro  f1 macro   f1 micro  f1 macro\n",
       "score  0.770597  0.40017  0.808333  0.479343   0.204545  0.108205"
      ]
     },
     "metadata": {},
     "output_type": "display_data"
    },
    {
     "name": "stdout",
     "output_type": "stream",
     "text": [
      "EarlyStopping counter: 2 out of 7\n"
     ]
    },
    {
     "name": "stderr",
     "output_type": "stream",
     "text": [
      "Epoch 27: 100%|██████████| 508/508 [00:46<00:00, 10.85batch/s, loss_decrease=1.0000023536688756]\n",
      "100%|██████████| 1408/1408 [00:14<00:00, 95.54batch/s]\n"
     ]
    },
    {
     "data": {
      "text/html": [
       "<div>\n",
       "<style scoped>\n",
       "    .dataframe tbody tr th:only-of-type {\n",
       "        vertical-align: middle;\n",
       "    }\n",
       "\n",
       "    .dataframe tbody tr th {\n",
       "        vertical-align: top;\n",
       "    }\n",
       "\n",
       "    .dataframe thead tr th {\n",
       "        text-align: left;\n",
       "    }\n",
       "</style>\n",
       "<table border=\"1\" class=\"dataframe\">\n",
       "  <thead>\n",
       "    <tr>\n",
       "      <th></th>\n",
       "      <th colspan=\"2\" halign=\"left\">All</th>\n",
       "      <th colspan=\"2\" halign=\"left\">In VOC</th>\n",
       "      <th colspan=\"2\" halign=\"left\">Out of VOC</th>\n",
       "    </tr>\n",
       "    <tr>\n",
       "      <th></th>\n",
       "      <th>f1 micro</th>\n",
       "      <th>f1 macro</th>\n",
       "      <th>f1 micro</th>\n",
       "      <th>f1 macro</th>\n",
       "      <th>f1 micro</th>\n",
       "      <th>f1 macro</th>\n",
       "    </tr>\n",
       "  </thead>\n",
       "  <tbody>\n",
       "    <tr>\n",
       "      <th>score</th>\n",
       "      <td>0.773438</td>\n",
       "      <td>0.400128</td>\n",
       "      <td>0.811364</td>\n",
       "      <td>0.481876</td>\n",
       "      <td>0.204545</td>\n",
       "      <td>0.104975</td>\n",
       "    </tr>\n",
       "  </tbody>\n",
       "</table>\n",
       "</div>"
      ],
      "text/plain": [
       "            All              In VOC           Out of VOC          \n",
       "       f1 micro  f1 macro  f1 micro  f1 macro   f1 micro  f1 macro\n",
       "score  0.773438  0.400128  0.811364  0.481876   0.204545  0.104975"
      ]
     },
     "metadata": {},
     "output_type": "display_data"
    },
    {
     "name": "stdout",
     "output_type": "stream",
     "text": [
      "EarlyStopping counter: 3 out of 7\n"
     ]
    },
    {
     "name": "stderr",
     "output_type": "stream",
     "text": [
      "Epoch 28: 100%|██████████| 508/508 [00:47<00:00, 10.74batch/s, loss_decrease=1.0000023536688756]\n",
      "100%|██████████| 1408/1408 [00:14<00:00, 98.30batch/s] \n"
     ]
    },
    {
     "data": {
      "text/html": [
       "<div>\n",
       "<style scoped>\n",
       "    .dataframe tbody tr th:only-of-type {\n",
       "        vertical-align: middle;\n",
       "    }\n",
       "\n",
       "    .dataframe tbody tr th {\n",
       "        vertical-align: top;\n",
       "    }\n",
       "\n",
       "    .dataframe thead tr th {\n",
       "        text-align: left;\n",
       "    }\n",
       "</style>\n",
       "<table border=\"1\" class=\"dataframe\">\n",
       "  <thead>\n",
       "    <tr>\n",
       "      <th></th>\n",
       "      <th colspan=\"2\" halign=\"left\">All</th>\n",
       "      <th colspan=\"2\" halign=\"left\">In VOC</th>\n",
       "      <th colspan=\"2\" halign=\"left\">Out of VOC</th>\n",
       "    </tr>\n",
       "    <tr>\n",
       "      <th></th>\n",
       "      <th>f1 micro</th>\n",
       "      <th>f1 macro</th>\n",
       "      <th>f1 micro</th>\n",
       "      <th>f1 macro</th>\n",
       "      <th>f1 micro</th>\n",
       "      <th>f1 macro</th>\n",
       "    </tr>\n",
       "  </thead>\n",
       "  <tbody>\n",
       "    <tr>\n",
       "      <th>score</th>\n",
       "      <td>0.776989</td>\n",
       "      <td>0.400622</td>\n",
       "      <td>0.813636</td>\n",
       "      <td>0.474051</td>\n",
       "      <td>0.227273</td>\n",
       "      <td>0.116279</td>\n",
       "    </tr>\n",
       "  </tbody>\n",
       "</table>\n",
       "</div>"
      ],
      "text/plain": [
       "            All              In VOC           Out of VOC          \n",
       "       f1 micro  f1 macro  f1 micro  f1 macro   f1 micro  f1 macro\n",
       "score  0.776989  0.400622  0.813636  0.474051   0.227273  0.116279"
      ]
     },
     "metadata": {},
     "output_type": "display_data"
    },
    {
     "name": "stdout",
     "output_type": "stream",
     "text": [
      "EarlyStopping counter: 4 out of 7\n"
     ]
    },
    {
     "name": "stderr",
     "output_type": "stream",
     "text": [
      "Epoch 29: 100%|██████████| 508/508 [00:42<00:00, 11.89batch/s, loss_decrease=1.000002447815861] \n",
      "100%|██████████| 1408/1408 [00:14<00:00, 97.44batch/s] \n"
     ]
    },
    {
     "data": {
      "text/html": [
       "<div>\n",
       "<style scoped>\n",
       "    .dataframe tbody tr th:only-of-type {\n",
       "        vertical-align: middle;\n",
       "    }\n",
       "\n",
       "    .dataframe tbody tr th {\n",
       "        vertical-align: top;\n",
       "    }\n",
       "\n",
       "    .dataframe thead tr th {\n",
       "        text-align: left;\n",
       "    }\n",
       "</style>\n",
       "<table border=\"1\" class=\"dataframe\">\n",
       "  <thead>\n",
       "    <tr>\n",
       "      <th></th>\n",
       "      <th colspan=\"2\" halign=\"left\">All</th>\n",
       "      <th colspan=\"2\" halign=\"left\">In VOC</th>\n",
       "      <th colspan=\"2\" halign=\"left\">Out of VOC</th>\n",
       "    </tr>\n",
       "    <tr>\n",
       "      <th></th>\n",
       "      <th>f1 micro</th>\n",
       "      <th>f1 macro</th>\n",
       "      <th>f1 micro</th>\n",
       "      <th>f1 macro</th>\n",
       "      <th>f1 micro</th>\n",
       "      <th>f1 macro</th>\n",
       "    </tr>\n",
       "  </thead>\n",
       "  <tbody>\n",
       "    <tr>\n",
       "      <th>score</th>\n",
       "      <td>0.772727</td>\n",
       "      <td>0.395161</td>\n",
       "      <td>0.810606</td>\n",
       "      <td>0.484177</td>\n",
       "      <td>0.204545</td>\n",
       "      <td>0.10101</td>\n",
       "    </tr>\n",
       "  </tbody>\n",
       "</table>\n",
       "</div>"
      ],
      "text/plain": [
       "            All              In VOC           Out of VOC         \n",
       "       f1 micro  f1 macro  f1 micro  f1 macro   f1 micro f1 macro\n",
       "score  0.772727  0.395161  0.810606  0.484177   0.204545  0.10101"
      ]
     },
     "metadata": {},
     "output_type": "display_data"
    },
    {
     "name": "stdout",
     "output_type": "stream",
     "text": [
      "EarlyStopping counter: 5 out of 7\n"
     ]
    },
    {
     "name": "stderr",
     "output_type": "stream",
     "text": [
      "Epoch 30: 100%|██████████| 508/508 [00:46<00:00, 10.95batch/s, loss_decrease=1.000002447815861] \n",
      "100%|██████████| 1408/1408 [00:14<00:00, 94.52batch/s] \n"
     ]
    },
    {
     "data": {
      "text/html": [
       "<div>\n",
       "<style scoped>\n",
       "    .dataframe tbody tr th:only-of-type {\n",
       "        vertical-align: middle;\n",
       "    }\n",
       "\n",
       "    .dataframe tbody tr th {\n",
       "        vertical-align: top;\n",
       "    }\n",
       "\n",
       "    .dataframe thead tr th {\n",
       "        text-align: left;\n",
       "    }\n",
       "</style>\n",
       "<table border=\"1\" class=\"dataframe\">\n",
       "  <thead>\n",
       "    <tr>\n",
       "      <th></th>\n",
       "      <th colspan=\"2\" halign=\"left\">All</th>\n",
       "      <th colspan=\"2\" halign=\"left\">In VOC</th>\n",
       "      <th colspan=\"2\" halign=\"left\">Out of VOC</th>\n",
       "    </tr>\n",
       "    <tr>\n",
       "      <th></th>\n",
       "      <th>f1 micro</th>\n",
       "      <th>f1 macro</th>\n",
       "      <th>f1 micro</th>\n",
       "      <th>f1 macro</th>\n",
       "      <th>f1 micro</th>\n",
       "      <th>f1 macro</th>\n",
       "    </tr>\n",
       "  </thead>\n",
       "  <tbody>\n",
       "    <tr>\n",
       "      <th>score</th>\n",
       "      <td>0.776989</td>\n",
       "      <td>0.41784</td>\n",
       "      <td>0.814394</td>\n",
       "      <td>0.509577</td>\n",
       "      <td>0.215909</td>\n",
       "      <td>0.115013</td>\n",
       "    </tr>\n",
       "  </tbody>\n",
       "</table>\n",
       "</div>"
      ],
      "text/plain": [
       "            All             In VOC           Out of VOC          \n",
       "       f1 micro f1 macro  f1 micro  f1 macro   f1 micro  f1 macro\n",
       "score  0.776989  0.41784  0.814394  0.509577   0.215909  0.115013"
      ]
     },
     "metadata": {},
     "output_type": "display_data"
    },
    {
     "name": "stdout",
     "output_type": "stream",
     "text": [
      "Validation metric increased (0.408032 --> 0.417840).  Saving model ...\n"
     ]
    },
    {
     "name": "stderr",
     "output_type": "stream",
     "text": [
      "Epoch 31: 100%|██████████| 508/508 [00:46<00:00, 10.95batch/s, loss_decrease=1.000002447815861] \n",
      "100%|██████████| 1408/1408 [00:14<00:00, 96.85batch/s] \n"
     ]
    },
    {
     "data": {
      "text/html": [
       "<div>\n",
       "<style scoped>\n",
       "    .dataframe tbody tr th:only-of-type {\n",
       "        vertical-align: middle;\n",
       "    }\n",
       "\n",
       "    .dataframe tbody tr th {\n",
       "        vertical-align: top;\n",
       "    }\n",
       "\n",
       "    .dataframe thead tr th {\n",
       "        text-align: left;\n",
       "    }\n",
       "</style>\n",
       "<table border=\"1\" class=\"dataframe\">\n",
       "  <thead>\n",
       "    <tr>\n",
       "      <th></th>\n",
       "      <th colspan=\"2\" halign=\"left\">All</th>\n",
       "      <th colspan=\"2\" halign=\"left\">In VOC</th>\n",
       "      <th colspan=\"2\" halign=\"left\">Out of VOC</th>\n",
       "    </tr>\n",
       "    <tr>\n",
       "      <th></th>\n",
       "      <th>f1 micro</th>\n",
       "      <th>f1 macro</th>\n",
       "      <th>f1 micro</th>\n",
       "      <th>f1 macro</th>\n",
       "      <th>f1 micro</th>\n",
       "      <th>f1 macro</th>\n",
       "    </tr>\n",
       "  </thead>\n",
       "  <tbody>\n",
       "    <tr>\n",
       "      <th>score</th>\n",
       "      <td>0.776989</td>\n",
       "      <td>0.408644</td>\n",
       "      <td>0.815152</td>\n",
       "      <td>0.498836</td>\n",
       "      <td>0.204545</td>\n",
       "      <td>0.106566</td>\n",
       "    </tr>\n",
       "  </tbody>\n",
       "</table>\n",
       "</div>"
      ],
      "text/plain": [
       "            All              In VOC           Out of VOC          \n",
       "       f1 micro  f1 macro  f1 micro  f1 macro   f1 micro  f1 macro\n",
       "score  0.776989  0.408644  0.815152  0.498836   0.204545  0.106566"
      ]
     },
     "metadata": {},
     "output_type": "display_data"
    },
    {
     "name": "stdout",
     "output_type": "stream",
     "text": [
      "EarlyStopping counter: 1 out of 7\n"
     ]
    },
    {
     "name": "stderr",
     "output_type": "stream",
     "text": [
      "Epoch 32: 100%|██████████| 508/508 [00:45<00:00, 11.11batch/s, loss_decrease=1.000002447815861] \n",
      "100%|██████████| 1408/1408 [00:15<00:00, 93.61batch/s]\n"
     ]
    },
    {
     "data": {
      "text/html": [
       "<div>\n",
       "<style scoped>\n",
       "    .dataframe tbody tr th:only-of-type {\n",
       "        vertical-align: middle;\n",
       "    }\n",
       "\n",
       "    .dataframe tbody tr th {\n",
       "        vertical-align: top;\n",
       "    }\n",
       "\n",
       "    .dataframe thead tr th {\n",
       "        text-align: left;\n",
       "    }\n",
       "</style>\n",
       "<table border=\"1\" class=\"dataframe\">\n",
       "  <thead>\n",
       "    <tr>\n",
       "      <th></th>\n",
       "      <th colspan=\"2\" halign=\"left\">All</th>\n",
       "      <th colspan=\"2\" halign=\"left\">In VOC</th>\n",
       "      <th colspan=\"2\" halign=\"left\">Out of VOC</th>\n",
       "    </tr>\n",
       "    <tr>\n",
       "      <th></th>\n",
       "      <th>f1 micro</th>\n",
       "      <th>f1 macro</th>\n",
       "      <th>f1 micro</th>\n",
       "      <th>f1 macro</th>\n",
       "      <th>f1 micro</th>\n",
       "      <th>f1 macro</th>\n",
       "    </tr>\n",
       "  </thead>\n",
       "  <tbody>\n",
       "    <tr>\n",
       "      <th>score</th>\n",
       "      <td>0.776278</td>\n",
       "      <td>0.415624</td>\n",
       "      <td>0.813636</td>\n",
       "      <td>0.501731</td>\n",
       "      <td>0.215909</td>\n",
       "      <td>0.115013</td>\n",
       "    </tr>\n",
       "  </tbody>\n",
       "</table>\n",
       "</div>"
      ],
      "text/plain": [
       "            All              In VOC           Out of VOC          \n",
       "       f1 micro  f1 macro  f1 micro  f1 macro   f1 micro  f1 macro\n",
       "score  0.776278  0.415624  0.813636  0.501731   0.215909  0.115013"
      ]
     },
     "metadata": {},
     "output_type": "display_data"
    },
    {
     "name": "stdout",
     "output_type": "stream",
     "text": [
      "EarlyStopping counter: 2 out of 7\n"
     ]
    },
    {
     "name": "stderr",
     "output_type": "stream",
     "text": [
      "Epoch 33: 100%|██████████| 508/508 [00:46<00:00, 10.95batch/s, loss_decrease=1.000002447815861] \n",
      "100%|██████████| 1408/1408 [00:14<00:00, 94.84batch/s] \n"
     ]
    },
    {
     "data": {
      "text/html": [
       "<div>\n",
       "<style scoped>\n",
       "    .dataframe tbody tr th:only-of-type {\n",
       "        vertical-align: middle;\n",
       "    }\n",
       "\n",
       "    .dataframe tbody tr th {\n",
       "        vertical-align: top;\n",
       "    }\n",
       "\n",
       "    .dataframe thead tr th {\n",
       "        text-align: left;\n",
       "    }\n",
       "</style>\n",
       "<table border=\"1\" class=\"dataframe\">\n",
       "  <thead>\n",
       "    <tr>\n",
       "      <th></th>\n",
       "      <th colspan=\"2\" halign=\"left\">All</th>\n",
       "      <th colspan=\"2\" halign=\"left\">In VOC</th>\n",
       "      <th colspan=\"2\" halign=\"left\">Out of VOC</th>\n",
       "    </tr>\n",
       "    <tr>\n",
       "      <th></th>\n",
       "      <th>f1 micro</th>\n",
       "      <th>f1 macro</th>\n",
       "      <th>f1 micro</th>\n",
       "      <th>f1 macro</th>\n",
       "      <th>f1 micro</th>\n",
       "      <th>f1 macro</th>\n",
       "    </tr>\n",
       "  </thead>\n",
       "  <tbody>\n",
       "    <tr>\n",
       "      <th>score</th>\n",
       "      <td>0.776989</td>\n",
       "      <td>0.419545</td>\n",
       "      <td>0.815909</td>\n",
       "      <td>0.509939</td>\n",
       "      <td>0.193182</td>\n",
       "      <td>0.098246</td>\n",
       "    </tr>\n",
       "  </tbody>\n",
       "</table>\n",
       "</div>"
      ],
      "text/plain": [
       "            All              In VOC           Out of VOC          \n",
       "       f1 micro  f1 macro  f1 micro  f1 macro   f1 micro  f1 macro\n",
       "score  0.776989  0.419545  0.815909  0.509939   0.193182  0.098246"
      ]
     },
     "metadata": {},
     "output_type": "display_data"
    },
    {
     "name": "stdout",
     "output_type": "stream",
     "text": [
      "Validation metric increased (0.417840 --> 0.419545).  Saving model ...\n"
     ]
    },
    {
     "name": "stderr",
     "output_type": "stream",
     "text": [
      "Epoch 34: 100%|██████████| 508/508 [00:47<00:00, 10.80batch/s, loss_decrease=1.000002447815861] \n",
      "100%|██████████| 1408/1408 [00:14<00:00, 99.52batch/s] \n"
     ]
    },
    {
     "data": {
      "text/html": [
       "<div>\n",
       "<style scoped>\n",
       "    .dataframe tbody tr th:only-of-type {\n",
       "        vertical-align: middle;\n",
       "    }\n",
       "\n",
       "    .dataframe tbody tr th {\n",
       "        vertical-align: top;\n",
       "    }\n",
       "\n",
       "    .dataframe thead tr th {\n",
       "        text-align: left;\n",
       "    }\n",
       "</style>\n",
       "<table border=\"1\" class=\"dataframe\">\n",
       "  <thead>\n",
       "    <tr>\n",
       "      <th></th>\n",
       "      <th colspan=\"2\" halign=\"left\">All</th>\n",
       "      <th colspan=\"2\" halign=\"left\">In VOC</th>\n",
       "      <th colspan=\"2\" halign=\"left\">Out of VOC</th>\n",
       "    </tr>\n",
       "    <tr>\n",
       "      <th></th>\n",
       "      <th>f1 micro</th>\n",
       "      <th>f1 macro</th>\n",
       "      <th>f1 micro</th>\n",
       "      <th>f1 macro</th>\n",
       "      <th>f1 micro</th>\n",
       "      <th>f1 macro</th>\n",
       "    </tr>\n",
       "  </thead>\n",
       "  <tbody>\n",
       "    <tr>\n",
       "      <th>score</th>\n",
       "      <td>0.77983</td>\n",
       "      <td>0.413699</td>\n",
       "      <td>0.818939</td>\n",
       "      <td>0.5093</td>\n",
       "      <td>0.193182</td>\n",
       "      <td>0.093233</td>\n",
       "    </tr>\n",
       "  </tbody>\n",
       "</table>\n",
       "</div>"
      ],
      "text/plain": [
       "           All              In VOC          Out of VOC          \n",
       "      f1 micro  f1 macro  f1 micro f1 macro   f1 micro  f1 macro\n",
       "score  0.77983  0.413699  0.818939   0.5093   0.193182  0.093233"
      ]
     },
     "metadata": {},
     "output_type": "display_data"
    },
    {
     "name": "stdout",
     "output_type": "stream",
     "text": [
      "EarlyStopping counter: 1 out of 7\n"
     ]
    },
    {
     "name": "stderr",
     "output_type": "stream",
     "text": [
      "Epoch 35: 100%|██████████| 508/508 [00:46<00:00, 10.88batch/s, loss_decrease=1.0000023536688756]\n",
      "100%|██████████| 1408/1408 [00:14<00:00, 94.98batch/s] \n"
     ]
    },
    {
     "data": {
      "text/html": [
       "<div>\n",
       "<style scoped>\n",
       "    .dataframe tbody tr th:only-of-type {\n",
       "        vertical-align: middle;\n",
       "    }\n",
       "\n",
       "    .dataframe tbody tr th {\n",
       "        vertical-align: top;\n",
       "    }\n",
       "\n",
       "    .dataframe thead tr th {\n",
       "        text-align: left;\n",
       "    }\n",
       "</style>\n",
       "<table border=\"1\" class=\"dataframe\">\n",
       "  <thead>\n",
       "    <tr>\n",
       "      <th></th>\n",
       "      <th colspan=\"2\" halign=\"left\">All</th>\n",
       "      <th colspan=\"2\" halign=\"left\">In VOC</th>\n",
       "      <th colspan=\"2\" halign=\"left\">Out of VOC</th>\n",
       "    </tr>\n",
       "    <tr>\n",
       "      <th></th>\n",
       "      <th>f1 micro</th>\n",
       "      <th>f1 macro</th>\n",
       "      <th>f1 micro</th>\n",
       "      <th>f1 macro</th>\n",
       "      <th>f1 micro</th>\n",
       "      <th>f1 macro</th>\n",
       "    </tr>\n",
       "  </thead>\n",
       "  <tbody>\n",
       "    <tr>\n",
       "      <th>score</th>\n",
       "      <td>0.77983</td>\n",
       "      <td>0.420693</td>\n",
       "      <td>0.817424</td>\n",
       "      <td>0.507421</td>\n",
       "      <td>0.215909</td>\n",
       "      <td>0.108271</td>\n",
       "    </tr>\n",
       "  </tbody>\n",
       "</table>\n",
       "</div>"
      ],
      "text/plain": [
       "           All              In VOC           Out of VOC          \n",
       "      f1 micro  f1 macro  f1 micro  f1 macro   f1 micro  f1 macro\n",
       "score  0.77983  0.420693  0.817424  0.507421   0.215909  0.108271"
      ]
     },
     "metadata": {},
     "output_type": "display_data"
    },
    {
     "name": "stdout",
     "output_type": "stream",
     "text": [
      "Validation metric increased (0.419545 --> 0.420693).  Saving model ...\n"
     ]
    },
    {
     "name": "stderr",
     "output_type": "stream",
     "text": [
      "Epoch 36: 100%|██████████| 508/508 [00:46<00:00, 10.99batch/s, loss_decrease=1.000002447815861] \n",
      "100%|██████████| 1408/1408 [00:15<00:00, 91.92batch/s] \n"
     ]
    },
    {
     "data": {
      "text/html": [
       "<div>\n",
       "<style scoped>\n",
       "    .dataframe tbody tr th:only-of-type {\n",
       "        vertical-align: middle;\n",
       "    }\n",
       "\n",
       "    .dataframe tbody tr th {\n",
       "        vertical-align: top;\n",
       "    }\n",
       "\n",
       "    .dataframe thead tr th {\n",
       "        text-align: left;\n",
       "    }\n",
       "</style>\n",
       "<table border=\"1\" class=\"dataframe\">\n",
       "  <thead>\n",
       "    <tr>\n",
       "      <th></th>\n",
       "      <th colspan=\"2\" halign=\"left\">All</th>\n",
       "      <th colspan=\"2\" halign=\"left\">In VOC</th>\n",
       "      <th colspan=\"2\" halign=\"left\">Out of VOC</th>\n",
       "    </tr>\n",
       "    <tr>\n",
       "      <th></th>\n",
       "      <th>f1 micro</th>\n",
       "      <th>f1 macro</th>\n",
       "      <th>f1 micro</th>\n",
       "      <th>f1 macro</th>\n",
       "      <th>f1 micro</th>\n",
       "      <th>f1 macro</th>\n",
       "    </tr>\n",
       "  </thead>\n",
       "  <tbody>\n",
       "    <tr>\n",
       "      <th>score</th>\n",
       "      <td>0.776989</td>\n",
       "      <td>0.407332</td>\n",
       "      <td>0.815152</td>\n",
       "      <td>0.496027</td>\n",
       "      <td>0.204545</td>\n",
       "      <td>0.101781</td>\n",
       "    </tr>\n",
       "  </tbody>\n",
       "</table>\n",
       "</div>"
      ],
      "text/plain": [
       "            All              In VOC           Out of VOC          \n",
       "       f1 micro  f1 macro  f1 micro  f1 macro   f1 micro  f1 macro\n",
       "score  0.776989  0.407332  0.815152  0.496027   0.204545  0.101781"
      ]
     },
     "metadata": {},
     "output_type": "display_data"
    },
    {
     "name": "stdout",
     "output_type": "stream",
     "text": [
      "EarlyStopping counter: 1 out of 7\n"
     ]
    },
    {
     "name": "stderr",
     "output_type": "stream",
     "text": [
      "Epoch 37: 100%|██████████| 508/508 [00:47<00:00, 10.70batch/s, loss_decrease=1.000002447815861] \n",
      "100%|██████████| 1408/1408 [00:15<00:00, 93.30batch/s] \n"
     ]
    },
    {
     "data": {
      "text/html": [
       "<div>\n",
       "<style scoped>\n",
       "    .dataframe tbody tr th:only-of-type {\n",
       "        vertical-align: middle;\n",
       "    }\n",
       "\n",
       "    .dataframe tbody tr th {\n",
       "        vertical-align: top;\n",
       "    }\n",
       "\n",
       "    .dataframe thead tr th {\n",
       "        text-align: left;\n",
       "    }\n",
       "</style>\n",
       "<table border=\"1\" class=\"dataframe\">\n",
       "  <thead>\n",
       "    <tr>\n",
       "      <th></th>\n",
       "      <th colspan=\"2\" halign=\"left\">All</th>\n",
       "      <th colspan=\"2\" halign=\"left\">In VOC</th>\n",
       "      <th colspan=\"2\" halign=\"left\">Out of VOC</th>\n",
       "    </tr>\n",
       "    <tr>\n",
       "      <th></th>\n",
       "      <th>f1 micro</th>\n",
       "      <th>f1 macro</th>\n",
       "      <th>f1 micro</th>\n",
       "      <th>f1 macro</th>\n",
       "      <th>f1 micro</th>\n",
       "      <th>f1 macro</th>\n",
       "    </tr>\n",
       "  </thead>\n",
       "  <tbody>\n",
       "    <tr>\n",
       "      <th>score</th>\n",
       "      <td>0.778409</td>\n",
       "      <td>0.423514</td>\n",
       "      <td>0.815152</td>\n",
       "      <td>0.509305</td>\n",
       "      <td>0.227273</td>\n",
       "      <td>0.116796</td>\n",
       "    </tr>\n",
       "  </tbody>\n",
       "</table>\n",
       "</div>"
      ],
      "text/plain": [
       "            All              In VOC           Out of VOC          \n",
       "       f1 micro  f1 macro  f1 micro  f1 macro   f1 micro  f1 macro\n",
       "score  0.778409  0.423514  0.815152  0.509305   0.227273  0.116796"
      ]
     },
     "metadata": {},
     "output_type": "display_data"
    },
    {
     "name": "stdout",
     "output_type": "stream",
     "text": [
      "Validation metric increased (0.420693 --> 0.423514).  Saving model ...\n"
     ]
    },
    {
     "name": "stderr",
     "output_type": "stream",
     "text": [
      "Epoch 38: 100%|██████████| 508/508 [00:47<00:00, 10.78batch/s, loss_decrease=1.000002447815861] \n",
      "100%|██████████| 1408/1408 [00:14<00:00, 98.77batch/s] \n"
     ]
    },
    {
     "data": {
      "text/html": [
       "<div>\n",
       "<style scoped>\n",
       "    .dataframe tbody tr th:only-of-type {\n",
       "        vertical-align: middle;\n",
       "    }\n",
       "\n",
       "    .dataframe tbody tr th {\n",
       "        vertical-align: top;\n",
       "    }\n",
       "\n",
       "    .dataframe thead tr th {\n",
       "        text-align: left;\n",
       "    }\n",
       "</style>\n",
       "<table border=\"1\" class=\"dataframe\">\n",
       "  <thead>\n",
       "    <tr>\n",
       "      <th></th>\n",
       "      <th colspan=\"2\" halign=\"left\">All</th>\n",
       "      <th colspan=\"2\" halign=\"left\">In VOC</th>\n",
       "      <th colspan=\"2\" halign=\"left\">Out of VOC</th>\n",
       "    </tr>\n",
       "    <tr>\n",
       "      <th></th>\n",
       "      <th>f1 micro</th>\n",
       "      <th>f1 macro</th>\n",
       "      <th>f1 micro</th>\n",
       "      <th>f1 macro</th>\n",
       "      <th>f1 micro</th>\n",
       "      <th>f1 macro</th>\n",
       "    </tr>\n",
       "  </thead>\n",
       "  <tbody>\n",
       "    <tr>\n",
       "      <th>score</th>\n",
       "      <td>0.779119</td>\n",
       "      <td>0.409924</td>\n",
       "      <td>0.818182</td>\n",
       "      <td>0.513173</td>\n",
       "      <td>0.193182</td>\n",
       "      <td>0.097512</td>\n",
       "    </tr>\n",
       "  </tbody>\n",
       "</table>\n",
       "</div>"
      ],
      "text/plain": [
       "            All              In VOC           Out of VOC          \n",
       "       f1 micro  f1 macro  f1 micro  f1 macro   f1 micro  f1 macro\n",
       "score  0.779119  0.409924  0.818182  0.513173   0.193182  0.097512"
      ]
     },
     "metadata": {},
     "output_type": "display_data"
    },
    {
     "name": "stdout",
     "output_type": "stream",
     "text": [
      "EarlyStopping counter: 1 out of 7\n"
     ]
    },
    {
     "name": "stderr",
     "output_type": "stream",
     "text": [
      "Epoch 39: 100%|██████████| 508/508 [00:46<00:00, 10.93batch/s, loss_decrease=1.000002447815861] \n",
      "100%|██████████| 1408/1408 [00:14<00:00, 95.38batch/s] \n"
     ]
    },
    {
     "data": {
      "text/html": [
       "<div>\n",
       "<style scoped>\n",
       "    .dataframe tbody tr th:only-of-type {\n",
       "        vertical-align: middle;\n",
       "    }\n",
       "\n",
       "    .dataframe tbody tr th {\n",
       "        vertical-align: top;\n",
       "    }\n",
       "\n",
       "    .dataframe thead tr th {\n",
       "        text-align: left;\n",
       "    }\n",
       "</style>\n",
       "<table border=\"1\" class=\"dataframe\">\n",
       "  <thead>\n",
       "    <tr>\n",
       "      <th></th>\n",
       "      <th colspan=\"2\" halign=\"left\">All</th>\n",
       "      <th colspan=\"2\" halign=\"left\">In VOC</th>\n",
       "      <th colspan=\"2\" halign=\"left\">Out of VOC</th>\n",
       "    </tr>\n",
       "    <tr>\n",
       "      <th></th>\n",
       "      <th>f1 micro</th>\n",
       "      <th>f1 macro</th>\n",
       "      <th>f1 micro</th>\n",
       "      <th>f1 macro</th>\n",
       "      <th>f1 micro</th>\n",
       "      <th>f1 macro</th>\n",
       "    </tr>\n",
       "  </thead>\n",
       "  <tbody>\n",
       "    <tr>\n",
       "      <th>score</th>\n",
       "      <td>0.779119</td>\n",
       "      <td>0.415815</td>\n",
       "      <td>0.818182</td>\n",
       "      <td>0.516274</td>\n",
       "      <td>0.193182</td>\n",
       "      <td>0.09899</td>\n",
       "    </tr>\n",
       "  </tbody>\n",
       "</table>\n",
       "</div>"
      ],
      "text/plain": [
       "            All              In VOC           Out of VOC         \n",
       "       f1 micro  f1 macro  f1 micro  f1 macro   f1 micro f1 macro\n",
       "score  0.779119  0.415815  0.818182  0.516274   0.193182  0.09899"
      ]
     },
     "metadata": {},
     "output_type": "display_data"
    },
    {
     "name": "stdout",
     "output_type": "stream",
     "text": [
      "EarlyStopping counter: 2 out of 7\n"
     ]
    },
    {
     "name": "stderr",
     "output_type": "stream",
     "text": [
      "Epoch 40: 100%|██████████| 508/508 [00:47<00:00, 10.68batch/s, loss_decrease=1.000002447815861] \n",
      "100%|██████████| 1408/1408 [00:14<00:00, 95.37batch/s] \n"
     ]
    },
    {
     "data": {
      "text/html": [
       "<div>\n",
       "<style scoped>\n",
       "    .dataframe tbody tr th:only-of-type {\n",
       "        vertical-align: middle;\n",
       "    }\n",
       "\n",
       "    .dataframe tbody tr th {\n",
       "        vertical-align: top;\n",
       "    }\n",
       "\n",
       "    .dataframe thead tr th {\n",
       "        text-align: left;\n",
       "    }\n",
       "</style>\n",
       "<table border=\"1\" class=\"dataframe\">\n",
       "  <thead>\n",
       "    <tr>\n",
       "      <th></th>\n",
       "      <th colspan=\"2\" halign=\"left\">All</th>\n",
       "      <th colspan=\"2\" halign=\"left\">In VOC</th>\n",
       "      <th colspan=\"2\" halign=\"left\">Out of VOC</th>\n",
       "    </tr>\n",
       "    <tr>\n",
       "      <th></th>\n",
       "      <th>f1 micro</th>\n",
       "      <th>f1 macro</th>\n",
       "      <th>f1 micro</th>\n",
       "      <th>f1 macro</th>\n",
       "      <th>f1 micro</th>\n",
       "      <th>f1 macro</th>\n",
       "    </tr>\n",
       "  </thead>\n",
       "  <tbody>\n",
       "    <tr>\n",
       "      <th>score</th>\n",
       "      <td>0.777699</td>\n",
       "      <td>0.411106</td>\n",
       "      <td>0.817424</td>\n",
       "      <td>0.516619</td>\n",
       "      <td>0.181818</td>\n",
       "      <td>0.09005</td>\n",
       "    </tr>\n",
       "  </tbody>\n",
       "</table>\n",
       "</div>"
      ],
      "text/plain": [
       "            All              In VOC           Out of VOC         \n",
       "       f1 micro  f1 macro  f1 micro  f1 macro   f1 micro f1 macro\n",
       "score  0.777699  0.411106  0.817424  0.516619   0.181818  0.09005"
      ]
     },
     "metadata": {},
     "output_type": "display_data"
    },
    {
     "name": "stdout",
     "output_type": "stream",
     "text": [
      "EarlyStopping counter: 3 out of 7\n"
     ]
    },
    {
     "name": "stderr",
     "output_type": "stream",
     "text": [
      "Epoch 41: 100%|██████████| 508/508 [00:48<00:00, 10.55batch/s, loss_decrease=1.000002447815861] \n",
      "100%|██████████| 1408/1408 [00:14<00:00, 95.72batch/s] \n"
     ]
    },
    {
     "data": {
      "text/html": [
       "<div>\n",
       "<style scoped>\n",
       "    .dataframe tbody tr th:only-of-type {\n",
       "        vertical-align: middle;\n",
       "    }\n",
       "\n",
       "    .dataframe tbody tr th {\n",
       "        vertical-align: top;\n",
       "    }\n",
       "\n",
       "    .dataframe thead tr th {\n",
       "        text-align: left;\n",
       "    }\n",
       "</style>\n",
       "<table border=\"1\" class=\"dataframe\">\n",
       "  <thead>\n",
       "    <tr>\n",
       "      <th></th>\n",
       "      <th colspan=\"2\" halign=\"left\">All</th>\n",
       "      <th colspan=\"2\" halign=\"left\">In VOC</th>\n",
       "      <th colspan=\"2\" halign=\"left\">Out of VOC</th>\n",
       "    </tr>\n",
       "    <tr>\n",
       "      <th></th>\n",
       "      <th>f1 micro</th>\n",
       "      <th>f1 macro</th>\n",
       "      <th>f1 micro</th>\n",
       "      <th>f1 macro</th>\n",
       "      <th>f1 micro</th>\n",
       "      <th>f1 macro</th>\n",
       "    </tr>\n",
       "  </thead>\n",
       "  <tbody>\n",
       "    <tr>\n",
       "      <th>score</th>\n",
       "      <td>0.78196</td>\n",
       "      <td>0.42192</td>\n",
       "      <td>0.820455</td>\n",
       "      <td>0.519031</td>\n",
       "      <td>0.204545</td>\n",
       "      <td>0.105764</td>\n",
       "    </tr>\n",
       "  </tbody>\n",
       "</table>\n",
       "</div>"
      ],
      "text/plain": [
       "           All             In VOC           Out of VOC          \n",
       "      f1 micro f1 macro  f1 micro  f1 macro   f1 micro  f1 macro\n",
       "score  0.78196  0.42192  0.820455  0.519031   0.204545  0.105764"
      ]
     },
     "metadata": {},
     "output_type": "display_data"
    },
    {
     "name": "stdout",
     "output_type": "stream",
     "text": [
      "EarlyStopping counter: 4 out of 7\n"
     ]
    },
    {
     "name": "stderr",
     "output_type": "stream",
     "text": [
      "Epoch 42: 100%|██████████| 508/508 [00:46<00:00, 10.96batch/s, loss_decrease=1.000002447815861] \n",
      "100%|██████████| 1408/1408 [00:14<00:00, 98.17batch/s] \n"
     ]
    },
    {
     "data": {
      "text/html": [
       "<div>\n",
       "<style scoped>\n",
       "    .dataframe tbody tr th:only-of-type {\n",
       "        vertical-align: middle;\n",
       "    }\n",
       "\n",
       "    .dataframe tbody tr th {\n",
       "        vertical-align: top;\n",
       "    }\n",
       "\n",
       "    .dataframe thead tr th {\n",
       "        text-align: left;\n",
       "    }\n",
       "</style>\n",
       "<table border=\"1\" class=\"dataframe\">\n",
       "  <thead>\n",
       "    <tr>\n",
       "      <th></th>\n",
       "      <th colspan=\"2\" halign=\"left\">All</th>\n",
       "      <th colspan=\"2\" halign=\"left\">In VOC</th>\n",
       "      <th colspan=\"2\" halign=\"left\">Out of VOC</th>\n",
       "    </tr>\n",
       "    <tr>\n",
       "      <th></th>\n",
       "      <th>f1 micro</th>\n",
       "      <th>f1 macro</th>\n",
       "      <th>f1 micro</th>\n",
       "      <th>f1 macro</th>\n",
       "      <th>f1 micro</th>\n",
       "      <th>f1 macro</th>\n",
       "    </tr>\n",
       "  </thead>\n",
       "  <tbody>\n",
       "    <tr>\n",
       "      <th>score</th>\n",
       "      <td>0.779119</td>\n",
       "      <td>0.415255</td>\n",
       "      <td>0.818182</td>\n",
       "      <td>0.514267</td>\n",
       "      <td>0.193182</td>\n",
       "      <td>0.09899</td>\n",
       "    </tr>\n",
       "  </tbody>\n",
       "</table>\n",
       "</div>"
      ],
      "text/plain": [
       "            All              In VOC           Out of VOC         \n",
       "       f1 micro  f1 macro  f1 micro  f1 macro   f1 micro f1 macro\n",
       "score  0.779119  0.415255  0.818182  0.514267   0.193182  0.09899"
      ]
     },
     "metadata": {},
     "output_type": "display_data"
    },
    {
     "name": "stdout",
     "output_type": "stream",
     "text": [
      "EarlyStopping counter: 5 out of 7\n"
     ]
    },
    {
     "name": "stderr",
     "output_type": "stream",
     "text": [
      "Epoch 43: 100%|██████████| 508/508 [00:46<00:00, 11.01batch/s, loss_decrease=1.000002447815861] \n",
      "100%|██████████| 1408/1408 [00:14<00:00, 95.32batch/s] \n"
     ]
    },
    {
     "data": {
      "text/html": [
       "<div>\n",
       "<style scoped>\n",
       "    .dataframe tbody tr th:only-of-type {\n",
       "        vertical-align: middle;\n",
       "    }\n",
       "\n",
       "    .dataframe tbody tr th {\n",
       "        vertical-align: top;\n",
       "    }\n",
       "\n",
       "    .dataframe thead tr th {\n",
       "        text-align: left;\n",
       "    }\n",
       "</style>\n",
       "<table border=\"1\" class=\"dataframe\">\n",
       "  <thead>\n",
       "    <tr>\n",
       "      <th></th>\n",
       "      <th colspan=\"2\" halign=\"left\">All</th>\n",
       "      <th colspan=\"2\" halign=\"left\">In VOC</th>\n",
       "      <th colspan=\"2\" halign=\"left\">Out of VOC</th>\n",
       "    </tr>\n",
       "    <tr>\n",
       "      <th></th>\n",
       "      <th>f1 micro</th>\n",
       "      <th>f1 macro</th>\n",
       "      <th>f1 micro</th>\n",
       "      <th>f1 macro</th>\n",
       "      <th>f1 micro</th>\n",
       "      <th>f1 macro</th>\n",
       "    </tr>\n",
       "  </thead>\n",
       "  <tbody>\n",
       "    <tr>\n",
       "      <th>score</th>\n",
       "      <td>0.776278</td>\n",
       "      <td>0.40233</td>\n",
       "      <td>0.815909</td>\n",
       "      <td>0.499724</td>\n",
       "      <td>0.181818</td>\n",
       "      <td>0.091414</td>\n",
       "    </tr>\n",
       "  </tbody>\n",
       "</table>\n",
       "</div>"
      ],
      "text/plain": [
       "            All             In VOC           Out of VOC          \n",
       "       f1 micro f1 macro  f1 micro  f1 macro   f1 micro  f1 macro\n",
       "score  0.776278  0.40233  0.815909  0.499724   0.181818  0.091414"
      ]
     },
     "metadata": {},
     "output_type": "display_data"
    },
    {
     "name": "stdout",
     "output_type": "stream",
     "text": [
      "EarlyStopping counter: 6 out of 7\n"
     ]
    },
    {
     "name": "stderr",
     "output_type": "stream",
     "text": [
      "Epoch 44: 100%|██████████| 508/508 [00:46<00:00, 10.87batch/s, loss_decrease=1.000002447815861] \n",
      "100%|██████████| 1408/1408 [00:15<00:00, 91.45batch/s] \n"
     ]
    },
    {
     "data": {
      "text/html": [
       "<div>\n",
       "<style scoped>\n",
       "    .dataframe tbody tr th:only-of-type {\n",
       "        vertical-align: middle;\n",
       "    }\n",
       "\n",
       "    .dataframe tbody tr th {\n",
       "        vertical-align: top;\n",
       "    }\n",
       "\n",
       "    .dataframe thead tr th {\n",
       "        text-align: left;\n",
       "    }\n",
       "</style>\n",
       "<table border=\"1\" class=\"dataframe\">\n",
       "  <thead>\n",
       "    <tr>\n",
       "      <th></th>\n",
       "      <th colspan=\"2\" halign=\"left\">All</th>\n",
       "      <th colspan=\"2\" halign=\"left\">In VOC</th>\n",
       "      <th colspan=\"2\" halign=\"left\">Out of VOC</th>\n",
       "    </tr>\n",
       "    <tr>\n",
       "      <th></th>\n",
       "      <th>f1 micro</th>\n",
       "      <th>f1 macro</th>\n",
       "      <th>f1 micro</th>\n",
       "      <th>f1 macro</th>\n",
       "      <th>f1 micro</th>\n",
       "      <th>f1 macro</th>\n",
       "    </tr>\n",
       "  </thead>\n",
       "  <tbody>\n",
       "    <tr>\n",
       "      <th>score</th>\n",
       "      <td>0.77983</td>\n",
       "      <td>0.406478</td>\n",
       "      <td>0.819697</td>\n",
       "      <td>0.511708</td>\n",
       "      <td>0.181818</td>\n",
       "      <td>0.091414</td>\n",
       "    </tr>\n",
       "  </tbody>\n",
       "</table>\n",
       "</div>"
      ],
      "text/plain": [
       "           All              In VOC           Out of VOC          \n",
       "      f1 micro  f1 macro  f1 micro  f1 macro   f1 micro  f1 macro\n",
       "score  0.77983  0.406478  0.819697  0.511708   0.181818  0.091414"
      ]
     },
     "metadata": {},
     "output_type": "display_data"
    },
    {
     "name": "stdout",
     "output_type": "stream",
     "text": [
      "EarlyStopping counter: 7 out of 7\n",
      "Early stopping\n",
      "Evaluating on test dataset\n"
     ]
    },
    {
     "name": "stderr",
     "output_type": "stream",
     "text": [
      "100%|██████████| 2384/2384 [00:24<00:00, 97.82batch/s] \n"
     ]
    },
    {
     "data": {
      "text/html": [
       "<div>\n",
       "<style scoped>\n",
       "    .dataframe tbody tr th:only-of-type {\n",
       "        vertical-align: middle;\n",
       "    }\n",
       "\n",
       "    .dataframe tbody tr th {\n",
       "        vertical-align: top;\n",
       "    }\n",
       "\n",
       "    .dataframe thead tr th {\n",
       "        text-align: left;\n",
       "    }\n",
       "</style>\n",
       "<table border=\"1\" class=\"dataframe\">\n",
       "  <thead>\n",
       "    <tr>\n",
       "      <th></th>\n",
       "      <th colspan=\"2\" halign=\"left\">All</th>\n",
       "      <th colspan=\"2\" halign=\"left\">In VOC</th>\n",
       "      <th colspan=\"2\" halign=\"left\">Out of VOC</th>\n",
       "    </tr>\n",
       "    <tr>\n",
       "      <th></th>\n",
       "      <th>f1 micro</th>\n",
       "      <th>f1 macro</th>\n",
       "      <th>f1 micro</th>\n",
       "      <th>f1 macro</th>\n",
       "      <th>f1 micro</th>\n",
       "      <th>f1 macro</th>\n",
       "    </tr>\n",
       "  </thead>\n",
       "  <tbody>\n",
       "    <tr>\n",
       "      <th>score</th>\n",
       "      <td>0.77349</td>\n",
       "      <td>0.347906</td>\n",
       "      <td>0.812694</td>\n",
       "      <td>0.451203</td>\n",
       "      <td>0.099237</td>\n",
       "      <td>0.057212</td>\n",
       "    </tr>\n",
       "  </tbody>\n",
       "</table>\n",
       "</div>"
      ],
      "text/plain": [
       "           All              In VOC           Out of VOC          \n",
       "      f1 micro  f1 macro  f1 micro  f1 macro   f1 micro  f1 macro\n",
       "score  0.77349  0.347906  0.812694  0.451203   0.099237  0.057212"
      ]
     },
     "metadata": {},
     "output_type": "display_data"
    },
    {
     "name": "stdout",
     "output_type": "stream",
     "text": [
      "Сплит 5\n"
     ]
    },
    {
     "name": "stderr",
     "output_type": "stream",
     "text": [
      "Epoch 1: 100%|██████████| 502/502 [00:46<00:00, 10.76batch/s, loss_decrease=1.000001318054198] \n",
      "100%|██████████| 1408/1408 [00:14<00:00, 95.15batch/s] \n"
     ]
    },
    {
     "data": {
      "text/html": [
       "<div>\n",
       "<style scoped>\n",
       "    .dataframe tbody tr th:only-of-type {\n",
       "        vertical-align: middle;\n",
       "    }\n",
       "\n",
       "    .dataframe tbody tr th {\n",
       "        vertical-align: top;\n",
       "    }\n",
       "\n",
       "    .dataframe thead tr th {\n",
       "        text-align: left;\n",
       "    }\n",
       "</style>\n",
       "<table border=\"1\" class=\"dataframe\">\n",
       "  <thead>\n",
       "    <tr>\n",
       "      <th></th>\n",
       "      <th colspan=\"2\" halign=\"left\">All</th>\n",
       "      <th colspan=\"2\" halign=\"left\">In VOC</th>\n",
       "      <th colspan=\"2\" halign=\"left\">Out of VOC</th>\n",
       "    </tr>\n",
       "    <tr>\n",
       "      <th></th>\n",
       "      <th>f1 micro</th>\n",
       "      <th>f1 macro</th>\n",
       "      <th>f1 micro</th>\n",
       "      <th>f1 macro</th>\n",
       "      <th>f1 micro</th>\n",
       "      <th>f1 macro</th>\n",
       "    </tr>\n",
       "  </thead>\n",
       "  <tbody>\n",
       "    <tr>\n",
       "      <th>score</th>\n",
       "      <td>0.683949</td>\n",
       "      <td>0.264557</td>\n",
       "      <td>0.716967</td>\n",
       "      <td>0.316351</td>\n",
       "      <td>0.105263</td>\n",
       "      <td>0.052151</td>\n",
       "    </tr>\n",
       "  </tbody>\n",
       "</table>\n",
       "</div>"
      ],
      "text/plain": [
       "            All              In VOC           Out of VOC          \n",
       "       f1 micro  f1 macro  f1 micro  f1 macro   f1 micro  f1 macro\n",
       "score  0.683949  0.264557  0.716967  0.316351   0.105263  0.052151"
      ]
     },
     "metadata": {},
     "output_type": "display_data"
    },
    {
     "name": "stdout",
     "output_type": "stream",
     "text": [
      "Validation metric increased (-inf --> 0.264557).  Saving model ...\n"
     ]
    },
    {
     "name": "stderr",
     "output_type": "stream",
     "text": [
      "Epoch 2: 100%|██████████| 502/502 [00:46<00:00, 10.83batch/s, loss_decrease=1.0000015063479386]\n",
      "100%|██████████| 1408/1408 [00:14<00:00, 95.96batch/s] \n"
     ]
    },
    {
     "data": {
      "text/html": [
       "<div>\n",
       "<style scoped>\n",
       "    .dataframe tbody tr th:only-of-type {\n",
       "        vertical-align: middle;\n",
       "    }\n",
       "\n",
       "    .dataframe tbody tr th {\n",
       "        vertical-align: top;\n",
       "    }\n",
       "\n",
       "    .dataframe thead tr th {\n",
       "        text-align: left;\n",
       "    }\n",
       "</style>\n",
       "<table border=\"1\" class=\"dataframe\">\n",
       "  <thead>\n",
       "    <tr>\n",
       "      <th></th>\n",
       "      <th colspan=\"2\" halign=\"left\">All</th>\n",
       "      <th colspan=\"2\" halign=\"left\">In VOC</th>\n",
       "      <th colspan=\"2\" halign=\"left\">Out of VOC</th>\n",
       "    </tr>\n",
       "    <tr>\n",
       "      <th></th>\n",
       "      <th>f1 micro</th>\n",
       "      <th>f1 macro</th>\n",
       "      <th>f1 micro</th>\n",
       "      <th>f1 macro</th>\n",
       "      <th>f1 micro</th>\n",
       "      <th>f1 macro</th>\n",
       "    </tr>\n",
       "  </thead>\n",
       "  <tbody>\n",
       "    <tr>\n",
       "      <th>score</th>\n",
       "      <td>0.71804</td>\n",
       "      <td>0.309739</td>\n",
       "      <td>0.750751</td>\n",
       "      <td>0.373346</td>\n",
       "      <td>0.144737</td>\n",
       "      <td>0.062763</td>\n",
       "    </tr>\n",
       "  </tbody>\n",
       "</table>\n",
       "</div>"
      ],
      "text/plain": [
       "           All              In VOC           Out of VOC          \n",
       "      f1 micro  f1 macro  f1 micro  f1 macro   f1 micro  f1 macro\n",
       "score  0.71804  0.309739  0.750751  0.373346   0.144737  0.062763"
      ]
     },
     "metadata": {},
     "output_type": "display_data"
    },
    {
     "name": "stdout",
     "output_type": "stream",
     "text": [
      "Validation metric increased (0.264557 --> 0.309739).  Saving model ...\n"
     ]
    },
    {
     "name": "stderr",
     "output_type": "stream",
     "text": [
      "Epoch 3: 100%|██████████| 502/502 [00:41<00:00, 12.13batch/s, loss_decrease=1.0000016946417498]\n",
      "100%|██████████| 1408/1408 [00:14<00:00, 98.02batch/s] \n"
     ]
    },
    {
     "data": {
      "text/html": [
       "<div>\n",
       "<style scoped>\n",
       "    .dataframe tbody tr th:only-of-type {\n",
       "        vertical-align: middle;\n",
       "    }\n",
       "\n",
       "    .dataframe tbody tr th {\n",
       "        vertical-align: top;\n",
       "    }\n",
       "\n",
       "    .dataframe thead tr th {\n",
       "        text-align: left;\n",
       "    }\n",
       "</style>\n",
       "<table border=\"1\" class=\"dataframe\">\n",
       "  <thead>\n",
       "    <tr>\n",
       "      <th></th>\n",
       "      <th colspan=\"2\" halign=\"left\">All</th>\n",
       "      <th colspan=\"2\" halign=\"left\">In VOC</th>\n",
       "      <th colspan=\"2\" halign=\"left\">Out of VOC</th>\n",
       "    </tr>\n",
       "    <tr>\n",
       "      <th></th>\n",
       "      <th>f1 micro</th>\n",
       "      <th>f1 macro</th>\n",
       "      <th>f1 micro</th>\n",
       "      <th>f1 macro</th>\n",
       "      <th>f1 micro</th>\n",
       "      <th>f1 macro</th>\n",
       "    </tr>\n",
       "  </thead>\n",
       "  <tbody>\n",
       "    <tr>\n",
       "      <th>score</th>\n",
       "      <td>0.71946</td>\n",
       "      <td>0.306837</td>\n",
       "      <td>0.753003</td>\n",
       "      <td>0.372869</td>\n",
       "      <td>0.131579</td>\n",
       "      <td>0.059504</td>\n",
       "    </tr>\n",
       "  </tbody>\n",
       "</table>\n",
       "</div>"
      ],
      "text/plain": [
       "           All              In VOC           Out of VOC          \n",
       "      f1 micro  f1 macro  f1 micro  f1 macro   f1 micro  f1 macro\n",
       "score  0.71946  0.306837  0.753003  0.372869   0.131579  0.059504"
      ]
     },
     "metadata": {},
     "output_type": "display_data"
    },
    {
     "name": "stdout",
     "output_type": "stream",
     "text": [
      "EarlyStopping counter: 1 out of 7\n"
     ]
    },
    {
     "name": "stderr",
     "output_type": "stream",
     "text": [
      "Epoch 4: 100%|██████████| 502/502 [00:42<00:00, 11.89batch/s, loss_decrease=1.0000019770826]   \n",
      "100%|██████████| 1408/1408 [00:14<00:00, 97.15batch/s]\n"
     ]
    },
    {
     "data": {
      "text/html": [
       "<div>\n",
       "<style scoped>\n",
       "    .dataframe tbody tr th:only-of-type {\n",
       "        vertical-align: middle;\n",
       "    }\n",
       "\n",
       "    .dataframe tbody tr th {\n",
       "        vertical-align: top;\n",
       "    }\n",
       "\n",
       "    .dataframe thead tr th {\n",
       "        text-align: left;\n",
       "    }\n",
       "</style>\n",
       "<table border=\"1\" class=\"dataframe\">\n",
       "  <thead>\n",
       "    <tr>\n",
       "      <th></th>\n",
       "      <th colspan=\"2\" halign=\"left\">All</th>\n",
       "      <th colspan=\"2\" halign=\"left\">In VOC</th>\n",
       "      <th colspan=\"2\" halign=\"left\">Out of VOC</th>\n",
       "    </tr>\n",
       "    <tr>\n",
       "      <th></th>\n",
       "      <th>f1 micro</th>\n",
       "      <th>f1 macro</th>\n",
       "      <th>f1 micro</th>\n",
       "      <th>f1 macro</th>\n",
       "      <th>f1 micro</th>\n",
       "      <th>f1 macro</th>\n",
       "    </tr>\n",
       "  </thead>\n",
       "  <tbody>\n",
       "    <tr>\n",
       "      <th>score</th>\n",
       "      <td>0.732955</td>\n",
       "      <td>0.319654</td>\n",
       "      <td>0.76952</td>\n",
       "      <td>0.396756</td>\n",
       "      <td>0.092105</td>\n",
       "      <td>0.040476</td>\n",
       "    </tr>\n",
       "  </tbody>\n",
       "</table>\n",
       "</div>"
      ],
      "text/plain": [
       "            All             In VOC           Out of VOC          \n",
       "       f1 micro  f1 macro f1 micro  f1 macro   f1 micro  f1 macro\n",
       "score  0.732955  0.319654  0.76952  0.396756   0.092105  0.040476"
      ]
     },
     "metadata": {},
     "output_type": "display_data"
    },
    {
     "name": "stdout",
     "output_type": "stream",
     "text": [
      "Validation metric increased (0.309739 --> 0.319654).  Saving model ...\n"
     ]
    },
    {
     "name": "stderr",
     "output_type": "stream",
     "text": [
      "Epoch 5: 100%|██████████| 502/502 [00:45<00:00, 11.02batch/s, loss_decrease=1.0000019770826]   \n",
      "100%|██████████| 1408/1408 [00:14<00:00, 97.58batch/s] \n"
     ]
    },
    {
     "data": {
      "text/html": [
       "<div>\n",
       "<style scoped>\n",
       "    .dataframe tbody tr th:only-of-type {\n",
       "        vertical-align: middle;\n",
       "    }\n",
       "\n",
       "    .dataframe tbody tr th {\n",
       "        vertical-align: top;\n",
       "    }\n",
       "\n",
       "    .dataframe thead tr th {\n",
       "        text-align: left;\n",
       "    }\n",
       "</style>\n",
       "<table border=\"1\" class=\"dataframe\">\n",
       "  <thead>\n",
       "    <tr>\n",
       "      <th></th>\n",
       "      <th colspan=\"2\" halign=\"left\">All</th>\n",
       "      <th colspan=\"2\" halign=\"left\">In VOC</th>\n",
       "      <th colspan=\"2\" halign=\"left\">Out of VOC</th>\n",
       "    </tr>\n",
       "    <tr>\n",
       "      <th></th>\n",
       "      <th>f1 micro</th>\n",
       "      <th>f1 macro</th>\n",
       "      <th>f1 micro</th>\n",
       "      <th>f1 macro</th>\n",
       "      <th>f1 micro</th>\n",
       "      <th>f1 macro</th>\n",
       "    </tr>\n",
       "  </thead>\n",
       "  <tbody>\n",
       "    <tr>\n",
       "      <th>score</th>\n",
       "      <td>0.741477</td>\n",
       "      <td>0.33783</td>\n",
       "      <td>0.776276</td>\n",
       "      <td>0.412257</td>\n",
       "      <td>0.131579</td>\n",
       "      <td>0.059921</td>\n",
       "    </tr>\n",
       "  </tbody>\n",
       "</table>\n",
       "</div>"
      ],
      "text/plain": [
       "            All             In VOC           Out of VOC          \n",
       "       f1 micro f1 macro  f1 micro  f1 macro   f1 micro  f1 macro\n",
       "score  0.741477  0.33783  0.776276  0.412257   0.131579  0.059921"
      ]
     },
     "metadata": {},
     "output_type": "display_data"
    },
    {
     "name": "stdout",
     "output_type": "stream",
     "text": [
      "Validation metric increased (0.319654 --> 0.337830).  Saving model ...\n"
     ]
    },
    {
     "name": "stderr",
     "output_type": "stream",
     "text": [
      "Epoch 6: 100%|██████████| 502/502 [00:44<00:00, 11.40batch/s, loss_decrease=1.0000019770826]   \n",
      "100%|██████████| 1408/1408 [00:14<00:00, 94.75batch/s]\n"
     ]
    },
    {
     "data": {
      "text/html": [
       "<div>\n",
       "<style scoped>\n",
       "    .dataframe tbody tr th:only-of-type {\n",
       "        vertical-align: middle;\n",
       "    }\n",
       "\n",
       "    .dataframe tbody tr th {\n",
       "        vertical-align: top;\n",
       "    }\n",
       "\n",
       "    .dataframe thead tr th {\n",
       "        text-align: left;\n",
       "    }\n",
       "</style>\n",
       "<table border=\"1\" class=\"dataframe\">\n",
       "  <thead>\n",
       "    <tr>\n",
       "      <th></th>\n",
       "      <th colspan=\"2\" halign=\"left\">All</th>\n",
       "      <th colspan=\"2\" halign=\"left\">In VOC</th>\n",
       "      <th colspan=\"2\" halign=\"left\">Out of VOC</th>\n",
       "    </tr>\n",
       "    <tr>\n",
       "      <th></th>\n",
       "      <th>f1 micro</th>\n",
       "      <th>f1 macro</th>\n",
       "      <th>f1 micro</th>\n",
       "      <th>f1 macro</th>\n",
       "      <th>f1 micro</th>\n",
       "      <th>f1 macro</th>\n",
       "    </tr>\n",
       "  </thead>\n",
       "  <tbody>\n",
       "    <tr>\n",
       "      <th>score</th>\n",
       "      <td>0.745028</td>\n",
       "      <td>0.330476</td>\n",
       "      <td>0.781532</td>\n",
       "      <td>0.413317</td>\n",
       "      <td>0.105263</td>\n",
       "      <td>0.044909</td>\n",
       "    </tr>\n",
       "  </tbody>\n",
       "</table>\n",
       "</div>"
      ],
      "text/plain": [
       "            All              In VOC           Out of VOC          \n",
       "       f1 micro  f1 macro  f1 micro  f1 macro   f1 micro  f1 macro\n",
       "score  0.745028  0.330476  0.781532  0.413317   0.105263  0.044909"
      ]
     },
     "metadata": {},
     "output_type": "display_data"
    },
    {
     "name": "stdout",
     "output_type": "stream",
     "text": [
      "EarlyStopping counter: 1 out of 7\n"
     ]
    },
    {
     "name": "stderr",
     "output_type": "stream",
     "text": [
      "Epoch 7: 100%|██████████| 502/502 [00:45<00:00, 10.98batch/s, loss_decrease=1.0000019770826]   \n",
      "100%|██████████| 1408/1408 [00:16<00:00, 86.65batch/s]\n"
     ]
    },
    {
     "data": {
      "text/html": [
       "<div>\n",
       "<style scoped>\n",
       "    .dataframe tbody tr th:only-of-type {\n",
       "        vertical-align: middle;\n",
       "    }\n",
       "\n",
       "    .dataframe tbody tr th {\n",
       "        vertical-align: top;\n",
       "    }\n",
       "\n",
       "    .dataframe thead tr th {\n",
       "        text-align: left;\n",
       "    }\n",
       "</style>\n",
       "<table border=\"1\" class=\"dataframe\">\n",
       "  <thead>\n",
       "    <tr>\n",
       "      <th></th>\n",
       "      <th colspan=\"2\" halign=\"left\">All</th>\n",
       "      <th colspan=\"2\" halign=\"left\">In VOC</th>\n",
       "      <th colspan=\"2\" halign=\"left\">Out of VOC</th>\n",
       "    </tr>\n",
       "    <tr>\n",
       "      <th></th>\n",
       "      <th>f1 micro</th>\n",
       "      <th>f1 macro</th>\n",
       "      <th>f1 micro</th>\n",
       "      <th>f1 macro</th>\n",
       "      <th>f1 micro</th>\n",
       "      <th>f1 macro</th>\n",
       "    </tr>\n",
       "  </thead>\n",
       "  <tbody>\n",
       "    <tr>\n",
       "      <th>score</th>\n",
       "      <td>0.752131</td>\n",
       "      <td>0.332069</td>\n",
       "      <td>0.790541</td>\n",
       "      <td>0.419802</td>\n",
       "      <td>0.078947</td>\n",
       "      <td>0.031359</td>\n",
       "    </tr>\n",
       "  </tbody>\n",
       "</table>\n",
       "</div>"
      ],
      "text/plain": [
       "            All              In VOC           Out of VOC          \n",
       "       f1 micro  f1 macro  f1 micro  f1 macro   f1 micro  f1 macro\n",
       "score  0.752131  0.332069  0.790541  0.419802   0.078947  0.031359"
      ]
     },
     "metadata": {},
     "output_type": "display_data"
    },
    {
     "name": "stdout",
     "output_type": "stream",
     "text": [
      "EarlyStopping counter: 2 out of 7\n"
     ]
    },
    {
     "name": "stderr",
     "output_type": "stream",
     "text": [
      "Epoch 8: 100%|██████████| 502/502 [00:45<00:00, 10.92batch/s, loss_decrease=1.0000019770826]   \n",
      "100%|██████████| 1408/1408 [00:14<00:00, 96.76batch/s]\n"
     ]
    },
    {
     "data": {
      "text/html": [
       "<div>\n",
       "<style scoped>\n",
       "    .dataframe tbody tr th:only-of-type {\n",
       "        vertical-align: middle;\n",
       "    }\n",
       "\n",
       "    .dataframe tbody tr th {\n",
       "        vertical-align: top;\n",
       "    }\n",
       "\n",
       "    .dataframe thead tr th {\n",
       "        text-align: left;\n",
       "    }\n",
       "</style>\n",
       "<table border=\"1\" class=\"dataframe\">\n",
       "  <thead>\n",
       "    <tr>\n",
       "      <th></th>\n",
       "      <th colspan=\"2\" halign=\"left\">All</th>\n",
       "      <th colspan=\"2\" halign=\"left\">In VOC</th>\n",
       "      <th colspan=\"2\" halign=\"left\">Out of VOC</th>\n",
       "    </tr>\n",
       "    <tr>\n",
       "      <th></th>\n",
       "      <th>f1 micro</th>\n",
       "      <th>f1 macro</th>\n",
       "      <th>f1 micro</th>\n",
       "      <th>f1 macro</th>\n",
       "      <th>f1 micro</th>\n",
       "      <th>f1 macro</th>\n",
       "    </tr>\n",
       "  </thead>\n",
       "  <tbody>\n",
       "    <tr>\n",
       "      <th>score</th>\n",
       "      <td>0.752131</td>\n",
       "      <td>0.334997</td>\n",
       "      <td>0.790541</td>\n",
       "      <td>0.424351</td>\n",
       "      <td>0.078947</td>\n",
       "      <td>0.030612</td>\n",
       "    </tr>\n",
       "  </tbody>\n",
       "</table>\n",
       "</div>"
      ],
      "text/plain": [
       "            All              In VOC           Out of VOC          \n",
       "       f1 micro  f1 macro  f1 micro  f1 macro   f1 micro  f1 macro\n",
       "score  0.752131  0.334997  0.790541  0.424351   0.078947  0.030612"
      ]
     },
     "metadata": {},
     "output_type": "display_data"
    },
    {
     "name": "stdout",
     "output_type": "stream",
     "text": [
      "EarlyStopping counter: 3 out of 7\n"
     ]
    },
    {
     "name": "stderr",
     "output_type": "stream",
     "text": [
      "Epoch 9: 100%|██████████| 502/502 [00:43<00:00, 11.46batch/s, loss_decrease=1.0000019770826]   \n",
      "100%|██████████| 1408/1408 [00:15<00:00, 92.46batch/s] \n"
     ]
    },
    {
     "data": {
      "text/html": [
       "<div>\n",
       "<style scoped>\n",
       "    .dataframe tbody tr th:only-of-type {\n",
       "        vertical-align: middle;\n",
       "    }\n",
       "\n",
       "    .dataframe tbody tr th {\n",
       "        vertical-align: top;\n",
       "    }\n",
       "\n",
       "    .dataframe thead tr th {\n",
       "        text-align: left;\n",
       "    }\n",
       "</style>\n",
       "<table border=\"1\" class=\"dataframe\">\n",
       "  <thead>\n",
       "    <tr>\n",
       "      <th></th>\n",
       "      <th colspan=\"2\" halign=\"left\">All</th>\n",
       "      <th colspan=\"2\" halign=\"left\">In VOC</th>\n",
       "      <th colspan=\"2\" halign=\"left\">Out of VOC</th>\n",
       "    </tr>\n",
       "    <tr>\n",
       "      <th></th>\n",
       "      <th>f1 micro</th>\n",
       "      <th>f1 macro</th>\n",
       "      <th>f1 micro</th>\n",
       "      <th>f1 macro</th>\n",
       "      <th>f1 micro</th>\n",
       "      <th>f1 macro</th>\n",
       "    </tr>\n",
       "  </thead>\n",
       "  <tbody>\n",
       "    <tr>\n",
       "      <th>score</th>\n",
       "      <td>0.753551</td>\n",
       "      <td>0.336485</td>\n",
       "      <td>0.792042</td>\n",
       "      <td>0.429992</td>\n",
       "      <td>0.078947</td>\n",
       "      <td>0.030857</td>\n",
       "    </tr>\n",
       "  </tbody>\n",
       "</table>\n",
       "</div>"
      ],
      "text/plain": [
       "            All              In VOC           Out of VOC          \n",
       "       f1 micro  f1 macro  f1 micro  f1 macro   f1 micro  f1 macro\n",
       "score  0.753551  0.336485  0.792042  0.429992   0.078947  0.030857"
      ]
     },
     "metadata": {},
     "output_type": "display_data"
    },
    {
     "name": "stdout",
     "output_type": "stream",
     "text": [
      "EarlyStopping counter: 4 out of 7\n"
     ]
    },
    {
     "name": "stderr",
     "output_type": "stream",
     "text": [
      "Epoch 10: 100%|██████████| 502/502 [00:45<00:00, 11.11batch/s, loss_decrease=1.0000019770826]   \n",
      "100%|██████████| 1408/1408 [00:14<00:00, 97.74batch/s] \n"
     ]
    },
    {
     "data": {
      "text/html": [
       "<div>\n",
       "<style scoped>\n",
       "    .dataframe tbody tr th:only-of-type {\n",
       "        vertical-align: middle;\n",
       "    }\n",
       "\n",
       "    .dataframe tbody tr th {\n",
       "        vertical-align: top;\n",
       "    }\n",
       "\n",
       "    .dataframe thead tr th {\n",
       "        text-align: left;\n",
       "    }\n",
       "</style>\n",
       "<table border=\"1\" class=\"dataframe\">\n",
       "  <thead>\n",
       "    <tr>\n",
       "      <th></th>\n",
       "      <th colspan=\"2\" halign=\"left\">All</th>\n",
       "      <th colspan=\"2\" halign=\"left\">In VOC</th>\n",
       "      <th colspan=\"2\" halign=\"left\">Out of VOC</th>\n",
       "    </tr>\n",
       "    <tr>\n",
       "      <th></th>\n",
       "      <th>f1 micro</th>\n",
       "      <th>f1 macro</th>\n",
       "      <th>f1 micro</th>\n",
       "      <th>f1 macro</th>\n",
       "      <th>f1 micro</th>\n",
       "      <th>f1 macro</th>\n",
       "    </tr>\n",
       "  </thead>\n",
       "  <tbody>\n",
       "    <tr>\n",
       "      <th>score</th>\n",
       "      <td>0.75071</td>\n",
       "      <td>0.32769</td>\n",
       "      <td>0.789039</td>\n",
       "      <td>0.418441</td>\n",
       "      <td>0.078947</td>\n",
       "      <td>0.030371</td>\n",
       "    </tr>\n",
       "  </tbody>\n",
       "</table>\n",
       "</div>"
      ],
      "text/plain": [
       "           All             In VOC           Out of VOC          \n",
       "      f1 micro f1 macro  f1 micro  f1 macro   f1 micro  f1 macro\n",
       "score  0.75071  0.32769  0.789039  0.418441   0.078947  0.030371"
      ]
     },
     "metadata": {},
     "output_type": "display_data"
    },
    {
     "name": "stdout",
     "output_type": "stream",
     "text": [
      "EarlyStopping counter: 5 out of 7\n"
     ]
    },
    {
     "name": "stderr",
     "output_type": "stream",
     "text": [
      "Epoch 11: 100%|██████████| 502/502 [00:46<00:00, 10.81batch/s, loss_decrease=1.0000019770826]   \n",
      "100%|██████████| 1408/1408 [00:14<00:00, 95.84batch/s]\n"
     ]
    },
    {
     "data": {
      "text/html": [
       "<div>\n",
       "<style scoped>\n",
       "    .dataframe tbody tr th:only-of-type {\n",
       "        vertical-align: middle;\n",
       "    }\n",
       "\n",
       "    .dataframe tbody tr th {\n",
       "        vertical-align: top;\n",
       "    }\n",
       "\n",
       "    .dataframe thead tr th {\n",
       "        text-align: left;\n",
       "    }\n",
       "</style>\n",
       "<table border=\"1\" class=\"dataframe\">\n",
       "  <thead>\n",
       "    <tr>\n",
       "      <th></th>\n",
       "      <th colspan=\"2\" halign=\"left\">All</th>\n",
       "      <th colspan=\"2\" halign=\"left\">In VOC</th>\n",
       "      <th colspan=\"2\" halign=\"left\">Out of VOC</th>\n",
       "    </tr>\n",
       "    <tr>\n",
       "      <th></th>\n",
       "      <th>f1 micro</th>\n",
       "      <th>f1 macro</th>\n",
       "      <th>f1 micro</th>\n",
       "      <th>f1 macro</th>\n",
       "      <th>f1 micro</th>\n",
       "      <th>f1 macro</th>\n",
       "    </tr>\n",
       "  </thead>\n",
       "  <tbody>\n",
       "    <tr>\n",
       "      <th>score</th>\n",
       "      <td>0.755682</td>\n",
       "      <td>0.33061</td>\n",
       "      <td>0.792042</td>\n",
       "      <td>0.408739</td>\n",
       "      <td>0.118421</td>\n",
       "      <td>0.051587</td>\n",
       "    </tr>\n",
       "  </tbody>\n",
       "</table>\n",
       "</div>"
      ],
      "text/plain": [
       "            All             In VOC           Out of VOC          \n",
       "       f1 micro f1 macro  f1 micro  f1 macro   f1 micro  f1 macro\n",
       "score  0.755682  0.33061  0.792042  0.408739   0.118421  0.051587"
      ]
     },
     "metadata": {},
     "output_type": "display_data"
    },
    {
     "name": "stdout",
     "output_type": "stream",
     "text": [
      "EarlyStopping counter: 6 out of 7\n"
     ]
    },
    {
     "name": "stderr",
     "output_type": "stream",
     "text": [
      "Epoch 12: 100%|██████████| 502/502 [00:45<00:00, 10.91batch/s, loss_decrease=1.0000019770826]   \n",
      "100%|██████████| 1408/1408 [00:14<00:00, 100.47batch/s]\n"
     ]
    },
    {
     "data": {
      "text/html": [
       "<div>\n",
       "<style scoped>\n",
       "    .dataframe tbody tr th:only-of-type {\n",
       "        vertical-align: middle;\n",
       "    }\n",
       "\n",
       "    .dataframe tbody tr th {\n",
       "        vertical-align: top;\n",
       "    }\n",
       "\n",
       "    .dataframe thead tr th {\n",
       "        text-align: left;\n",
       "    }\n",
       "</style>\n",
       "<table border=\"1\" class=\"dataframe\">\n",
       "  <thead>\n",
       "    <tr>\n",
       "      <th></th>\n",
       "      <th colspan=\"2\" halign=\"left\">All</th>\n",
       "      <th colspan=\"2\" halign=\"left\">In VOC</th>\n",
       "      <th colspan=\"2\" halign=\"left\">Out of VOC</th>\n",
       "    </tr>\n",
       "    <tr>\n",
       "      <th></th>\n",
       "      <th>f1 micro</th>\n",
       "      <th>f1 macro</th>\n",
       "      <th>f1 micro</th>\n",
       "      <th>f1 macro</th>\n",
       "      <th>f1 micro</th>\n",
       "      <th>f1 macro</th>\n",
       "    </tr>\n",
       "  </thead>\n",
       "  <tbody>\n",
       "    <tr>\n",
       "      <th>score</th>\n",
       "      <td>0.745028</td>\n",
       "      <td>0.31258</td>\n",
       "      <td>0.780781</td>\n",
       "      <td>0.380135</td>\n",
       "      <td>0.118421</td>\n",
       "      <td>0.048009</td>\n",
       "    </tr>\n",
       "  </tbody>\n",
       "</table>\n",
       "</div>"
      ],
      "text/plain": [
       "            All             In VOC           Out of VOC          \n",
       "       f1 micro f1 macro  f1 micro  f1 macro   f1 micro  f1 macro\n",
       "score  0.745028  0.31258  0.780781  0.380135   0.118421  0.048009"
      ]
     },
     "metadata": {},
     "output_type": "display_data"
    },
    {
     "name": "stdout",
     "output_type": "stream",
     "text": [
      "EarlyStopping counter: 7 out of 7\n",
      "Early stopping\n",
      "Evaluating on test dataset\n"
     ]
    },
    {
     "name": "stderr",
     "output_type": "stream",
     "text": [
      "100%|██████████| 2469/2469 [00:25<00:00, 97.17batch/s] \n"
     ]
    },
    {
     "data": {
      "text/html": [
       "<div>\n",
       "<style scoped>\n",
       "    .dataframe tbody tr th:only-of-type {\n",
       "        vertical-align: middle;\n",
       "    }\n",
       "\n",
       "    .dataframe tbody tr th {\n",
       "        vertical-align: top;\n",
       "    }\n",
       "\n",
       "    .dataframe thead tr th {\n",
       "        text-align: left;\n",
       "    }\n",
       "</style>\n",
       "<table border=\"1\" class=\"dataframe\">\n",
       "  <thead>\n",
       "    <tr>\n",
       "      <th></th>\n",
       "      <th colspan=\"2\" halign=\"left\">All</th>\n",
       "      <th colspan=\"2\" halign=\"left\">In VOC</th>\n",
       "      <th colspan=\"2\" halign=\"left\">Out of VOC</th>\n",
       "    </tr>\n",
       "    <tr>\n",
       "      <th></th>\n",
       "      <th>f1 micro</th>\n",
       "      <th>f1 macro</th>\n",
       "      <th>f1 micro</th>\n",
       "      <th>f1 macro</th>\n",
       "      <th>f1 micro</th>\n",
       "      <th>f1 macro</th>\n",
       "    </tr>\n",
       "  </thead>\n",
       "  <tbody>\n",
       "    <tr>\n",
       "      <th>score</th>\n",
       "      <td>0.73471</td>\n",
       "      <td>0.309099</td>\n",
       "      <td>0.770154</td>\n",
       "      <td>0.402704</td>\n",
       "      <td>0.131387</td>\n",
       "      <td>0.059365</td>\n",
       "    </tr>\n",
       "  </tbody>\n",
       "</table>\n",
       "</div>"
      ],
      "text/plain": [
       "           All              In VOC           Out of VOC          \n",
       "      f1 micro  f1 macro  f1 micro  f1 macro   f1 micro  f1 macro\n",
       "score  0.73471  0.309099  0.770154  0.402704   0.131387  0.059365"
      ]
     },
     "metadata": {},
     "output_type": "display_data"
    },
    {
     "data": {
      "text/html": [
       "<div>\n",
       "<style scoped>\n",
       "    .dataframe tbody tr th:only-of-type {\n",
       "        vertical-align: middle;\n",
       "    }\n",
       "\n",
       "    .dataframe tbody tr th {\n",
       "        vertical-align: top;\n",
       "    }\n",
       "\n",
       "    .dataframe thead tr th {\n",
       "        text-align: left;\n",
       "    }\n",
       "</style>\n",
       "<table border=\"1\" class=\"dataframe\">\n",
       "  <thead>\n",
       "    <tr>\n",
       "      <th></th>\n",
       "      <th colspan=\"2\" halign=\"left\">All</th>\n",
       "      <th colspan=\"2\" halign=\"left\">In VOC</th>\n",
       "      <th colspan=\"2\" halign=\"left\">Out of VOC</th>\n",
       "    </tr>\n",
       "    <tr>\n",
       "      <th></th>\n",
       "      <th>f1 micro</th>\n",
       "      <th>f1 macro</th>\n",
       "      <th>f1 micro</th>\n",
       "      <th>f1 macro</th>\n",
       "      <th>f1 micro</th>\n",
       "      <th>f1 macro</th>\n",
       "    </tr>\n",
       "  </thead>\n",
       "  <tbody>\n",
       "    <tr>\n",
       "      <th>mean score</th>\n",
       "      <td>0.761452</td>\n",
       "      <td>0.326338</td>\n",
       "      <td>0.797758</td>\n",
       "      <td>0.411703</td>\n",
       "      <td>0.127511</td>\n",
       "      <td>0.071472</td>\n",
       "    </tr>\n",
       "    <tr>\n",
       "      <th>std</th>\n",
       "      <td>0.013717</td>\n",
       "      <td>0.013684</td>\n",
       "      <td>0.01462</td>\n",
       "      <td>0.022687</td>\n",
       "      <td>0.015239</td>\n",
       "      <td>0.01367</td>\n",
       "    </tr>\n",
       "  </tbody>\n",
       "</table>\n",
       "</div>"
      ],
      "text/plain": [
       "                 All              In VOC           Out of VOC          \n",
       "            f1 micro  f1 macro  f1 micro  f1 macro   f1 micro  f1 macro\n",
       "mean score  0.761452  0.326338  0.797758  0.411703   0.127511  0.071472\n",
       "std         0.013717  0.013684   0.01462  0.022687   0.015239   0.01367"
      ]
     },
     "execution_count": 7,
     "metadata": {},
     "output_type": "execute_result"
    }
   ],
   "source": [
    "from tqdm import trange\n",
    "from tqdm import tqdm\n",
    "from sklearn.metrics import classification_report, f1_score\n",
    "from evaluator import Evaluator\n",
    "import numpy as np\n",
    "import torch.optim as optim\n",
    "import torch.nn as nn\n",
    "import torch\n",
    "import numpy as np\n",
    "from tools.pytorchtools import EarlyStopping\n",
    "import pandas as pd\n",
    "from torch.optim.lr_scheduler import CyclicLR\n",
    "from dataset import MedNormDataset\n",
    "\n",
    "\n",
    "#Гиперпараметры\n",
    "batch_size=16\n",
    "epochs = 50\n",
    "\n",
    "all_splits_score_dfs = []\n",
    "\n",
    "for fold_num in range(1, n_splits+1):\n",
    "    print('Сплит %s'%fold_num)\n",
    "    best_model_path = './Model_weights/rubert_cyclic_lr_es_split_%s.pt'%fold_num\n",
    "    \n",
    "    train_phrases, train_concepts = all_splits[fold_num]['train']['phrases'], all_splits[fold_num]['train']['concepts']\n",
    "    val_phrases, val_concepts = all_splits[fold_num]['validation']['phrases'], all_splits[fold_num]['validation']['concepts']\n",
    "    test_phrases, test_concepts = all_splits[fold_num]['test']['phrases'], all_splits[fold_num]['test']['concepts']\n",
    "    \n",
    "    ds_train = MedNormDataset(train_phrases, train_concepts, CV, use_cuda=USE_CUDA)\n",
    "    ds_test = MedNormDataset(test_phrases, test_concepts, CV, use_cuda=USE_CUDA)\n",
    "    ds_val = MedNormDataset(val_phrases, val_concepts, CV, use_cuda=USE_CUDA)\n",
    "\n",
    "    net = torch.load('./Model_weights/rubert_only_additional_corp_v2_30ep.pt')\n",
    "\n",
    "    criterion = nn.CrossEntropyLoss()\n",
    "    optimizer = optim.AdamW(net.parameters(), lr=0.0001) #, cycle_momentum=True\n",
    "    scheduler = CyclicLR(optimizer, base_lr=0.00002, max_lr=0.0001, cycle_momentum=False)\n",
    "    scaler = torch.cuda.amp.GradScaler()\n",
    "    early_stopping = EarlyStopping(path=best_model_path, mode='max', verbose=True)\n",
    "\n",
    "    trainloader = torch.utils.data.DataLoader(ds_train, batch_size=batch_size,\n",
    "                                              shuffle=False, num_workers=0)\n",
    "    testloader = torch.utils.data.DataLoader(ds_test, batch_size=1, shuffle=False)\n",
    "    valloader = torch.utils.data.DataLoader(ds_val, batch_size=1, shuffle=False)\n",
    "\n",
    "    valid_evaluator = Evaluator(train_concepts, val_concepts)\n",
    "    test_evaluator = Evaluator(train_concepts, test_concepts)\n",
    "\n",
    "    initial_loss = None\n",
    "\n",
    "    for epoch in range(1, epochs+1):\n",
    "        #обучение модели в эпохе\n",
    "        net.train()\n",
    "        with tqdm(trainloader, unit=\"batch\") as tepoch:\n",
    "            for data in tepoch:\n",
    "\n",
    "                tepoch.set_description(f\"Epoch {epoch}\")\n",
    "\n",
    "                inputs = data['tokenized_phrases']\n",
    "                labels = data['one_hot_labels']\n",
    "\n",
    "                optimizer.zero_grad()\n",
    "                if USE_CUDA=='cuda':\n",
    "                    with torch.cuda.amp.autocast():\n",
    "                        outputs = net(inputs)['output']\n",
    "                        loss = criterion(outputs, labels)\n",
    "                    scaler.scale(loss).backward()\n",
    "                    scaler.step(optimizer)\n",
    "                    scheduler.step()\n",
    "                    scaler.update()\n",
    "                else:\n",
    "                    outputs = net(inputs)['output']\n",
    "                    loss = criterion(outputs, labels)\n",
    "                    loss.backward()\n",
    "                    optimizer.step()\n",
    "                    scheduler.step()\n",
    "                if initial_loss is None:\n",
    "                    initial_loss = loss.item()\n",
    "                tepoch.set_postfix(loss_decrease = str(initial_loss/loss.item()))\n",
    "        #расчет точностей модели после эпохи\n",
    "        net.eval()\n",
    "        model_answers=[]\n",
    "        with tqdm(valloader, unit=\"batch\") as eval_process:\n",
    "            for data in eval_process:\n",
    "\n",
    "                inputs = data['tokenized_phrases']\n",
    "\n",
    "                with torch.no_grad():\n",
    "                    outputs_dict = net(inputs)\n",
    "                    pred_meddra_code = CV.meddra_codes[outputs_dict['output'].argmax()]\n",
    "\n",
    "                model_answers.append(pred_meddra_code)\n",
    "\n",
    "        valid_evaluator.get_all_f1_scores(model_answers)\n",
    "        early_stopping(valid_evaluator.f1_scores_df['All']['f1 macro']['score'], net)\n",
    "        if early_stopping.early_stop:\n",
    "            print(\"Early stopping\")\n",
    "            break\n",
    "    net.load_state_dict(torch.load(best_model_path))\n",
    "\n",
    "\n",
    "\n",
    "    print('Evaluating on test dataset')\n",
    "    net.eval()\n",
    "    model_answers=[]\n",
    "    with tqdm(testloader, unit=\"batch\") as eval_process:\n",
    "        for data in eval_process:\n",
    "\n",
    "            inputs = data['tokenized_phrases']\n",
    "\n",
    "            with torch.no_grad():\n",
    "                outputs_dict = net(inputs)\n",
    "                pred_meddra_code = CV.meddra_codes[outputs_dict['output'].argmax()]\n",
    "\n",
    "            model_answers.append(pred_meddra_code)\n",
    "\n",
    "        test_evaluator.get_all_f1_scores(model_answers)\n",
    "    all_splits_score_dfs.append(test_evaluator.f1_scores_df)\n",
    "\n",
    "columns_tuples = [('All', 'f1 micro'), \n",
    "                 ('All', 'f1 macro'),\n",
    "\n",
    "                 ('In VOC', 'f1 micro'), \n",
    "                 ('In VOC', 'f1 macro'),\n",
    "\n",
    "                 ('Out of VOC', 'f1 micro'), \n",
    "                 ('Out of VOC', 'f1 macro')]\n",
    "col_index = pd.MultiIndex.from_tuples(columns_tuples)\n",
    "f1_mean_scores_df = pd.DataFrame(columns=col_index, index=['mean score', 'std'])\n",
    "f1_mean_scores_df.loc['std', :] = np.std(np.array(all_splits_score_dfs), axis = 0)\n",
    "f1_mean_scores_df.loc['mean score', :] = np.mean(np.array(all_splits_score_dfs), axis = 0)\n",
    "f1_mean_scores_df"
   ]
  }
 ],
 "metadata": {
  "kernelspec": {
   "display_name": "normalization env",
   "language": "python",
   "name": "latest_torch"
  },
  "language_info": {
   "codemirror_mode": {
    "name": "ipython",
    "version": 3
   },
   "file_extension": ".py",
   "mimetype": "text/x-python",
   "name": "python",
   "nbconvert_exporter": "python",
   "pygments_lexer": "ipython3",
   "version": "3.9.9"
  }
 },
 "nbformat": 4,
 "nbformat_minor": 5
}
