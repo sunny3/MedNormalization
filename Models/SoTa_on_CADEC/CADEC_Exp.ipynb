{
 "cells": [
  {
   "cell_type": "markdown",
   "id": "saving-andorra",
   "metadata": {},
   "source": [
    "<h3>Глобальные переменные</h3>"
   ]
  },
  {
   "cell_type": "code",
   "execution_count": 3,
   "id": "lined-elizabeth",
   "metadata": {},
   "outputs": [],
   "source": [
    "transformer_model_path = 'roberta-base'\n",
    "USE_CUDA = True"
   ]
  },
  {
   "cell_type": "markdown",
   "id": "popular-genre",
   "metadata": {},
   "source": [
    "<h3>Векторизуем словарь Meddra</h3>"
   ]
  },
  {
   "cell_type": "code",
   "execution_count": 2,
   "id": "thirty-sound",
   "metadata": {},
   "outputs": [],
   "source": [
    "from sentence_transformers import SentenceTransformer\n",
    "from vectorization import ConceptVectorizer\n",
    "\n",
    "#роберта с mean pooling\n",
    "model = SentenceTransformer('all-distilroberta-v1')"
   ]
  },
  {
   "cell_type": "code",
   "execution_count": 5,
   "id": "brilliant-instrument",
   "metadata": {},
   "outputs": [],
   "source": [
    "#альтернатива\n",
    "from vectorization import ConceptVectorizer\n",
    "\n",
    "CV = ConceptVectorizer(transformer_model_path, '../../Data/External/pt_en.asc', \\\n",
    "                             use_concept_less=False, use_model=False, use_cuda=USE_CUDA)\n",
    "CV_with_conceptless = ConceptVectorizer(transformer_model_path, '../../Data/External/pt_en.asc', \\\n",
    "                             use_concept_less=True, use_model=False, use_cuda=USE_CUDA)"
   ]
  },
  {
   "cell_type": "markdown",
   "id": "civic-atlas",
   "metadata": {},
   "source": [
    "Расчет вложений словаря"
   ]
  },
  {
   "cell_type": "code",
   "execution_count": null,
   "id": "proof-maintenance",
   "metadata": {},
   "outputs": [],
   "source": [
    "CV.thesaurus_embeddings = model.encode(list(CV.meddra_term_to_meddra_code.keys()))\n",
    "CV.normalization_mode = 'mean_pooling'"
   ]
  },
  {
   "cell_type": "markdown",
   "id": "modern-collector",
   "metadata": {},
   "source": [
    "Сохранение рассчитанных векторов концептов"
   ]
  },
  {
   "cell_type": "code",
   "execution_count": 9,
   "id": "moving-cruise",
   "metadata": {},
   "outputs": [],
   "source": [
    "import torch\n",
    "\n",
    "torch.save(CV.thesaurus_embeddings, './Model_weights/distilroberta_thesaurus_embeddings_en.pt')"
   ]
  },
  {
   "cell_type": "markdown",
   "id": "blank-australian",
   "metadata": {},
   "source": [
    "Загрузка готовых вложений (если они есть). Загружать вложения после fit_transform() не надо"
   ]
  },
  {
   "cell_type": "code",
   "execution_count": 6,
   "id": "british-consolidation",
   "metadata": {},
   "outputs": [],
   "source": [
    "import torch\n",
    "\n",
    "CV.thesaurus_embeddings = torch.load('./Model_weights/distilroberta_thesaurus_embeddings_en.pt')\n",
    "CV.normalization_mode = 'mean_pooling'"
   ]
  },
  {
   "cell_type": "code",
   "execution_count": 7,
   "id": "fitted-capital",
   "metadata": {},
   "outputs": [
    {
     "data": {
      "text/plain": [
       "(25077, 768)"
      ]
     },
     "execution_count": 7,
     "metadata": {},
     "output_type": "execute_result"
    }
   ],
   "source": [
    "CV.thesaurus_embeddings.shape"
   ]
  },
  {
   "cell_type": "markdown",
   "id": "yellow-hostel",
   "metadata": {},
   "source": [
    "<h3>CADEC</h3>"
   ]
  },
  {
   "cell_type": "code",
   "execution_count": 8,
   "id": "greenhouse-affiliation",
   "metadata": {},
   "outputs": [],
   "source": [
    "import pandas as pd\n",
    "from sklearn.model_selection import train_test_split\n",
    "\n",
    "data_dir = '../../Data/Raw/CADEC/cadec_table_grartem.csv'\n",
    "\n",
    "df = pd.read_csv(data_dir)"
   ]
  },
  {
   "cell_type": "code",
   "execution_count": 9,
   "id": "chief-cooling",
   "metadata": {},
   "outputs": [],
   "source": [
    "df = df[df['meddra']!='CONCEPT_LESS']\n",
    "df['meddra'] =  df['meddra'].apply(lambda x: str(x).split('|')[0])\n",
    "mask = df['meddra'].apply(lambda x: True if x in CV.meddra_codes else False)\n",
    "df = df[mask]\n",
    "\n",
    "\n",
    "all_pt_ids = df['meddra'].to_list()\n",
    "all_pt_phrases = df['term'].to_list()\n",
    "#train_phrases, test_phrases, train_concepts, test_concepts = train_test_split(all_pt_phrases, all_pt_ids, test_size=0.33, random_state=42)"
   ]
  },
  {
   "cell_type": "code",
   "execution_count": 10,
   "id": "average-hudson",
   "metadata": {},
   "outputs": [],
   "source": [
    "from sklearn.model_selection import KFold\n",
    "\n",
    "n_splits = 5\n",
    "kf = KFold(n_splits=n_splits, random_state=42, shuffle=True)\n",
    "folds = []\n",
    "\n",
    "terms = df['term'].to_numpy()\n",
    "concepts = df['meddra'].to_numpy()\n",
    "\n",
    "for train_index, test_index in kf.split(df['term']):\n",
    "    train_phrases = terms[train_index]\n",
    "    test_phrases = terms[test_index]\n",
    "    train_concepts = concepts[train_index]\n",
    "    test_concepts = concepts[test_index]\n",
    "    folds.append([[train_phrases, train_concepts], [test_phrases, test_concepts]])"
   ]
  },
  {
   "cell_type": "code",
   "execution_count": 14,
   "id": "contrary-veteran",
   "metadata": {},
   "outputs": [
    {
     "name": "stdout",
     "output_type": "stream",
     "text": [
      "Всего фраз в трейне: 4773\n",
      "Всего фраз в тесте: 1194\n",
      "Уникальных фраз в трейне: 2789\n",
      "Уникальных фраз в тесте: 848\n",
      "254 концептов не входящих либо в трейн, либо в тест\n",
      "30 концептов, которые есть в тесте, но нет в трейне\n",
      "224 концептов, которые есть в трейне, но нет в тесте\n"
     ]
    }
   ],
   "source": [
    "fold_num = 1\n",
    "train_phrases, train_concepts = folds[fold_num][0][0], folds[fold_num][0][1]\n",
    "test_phrases, test_concepts = folds[fold_num][1][0], folds[fold_num][1][1]\n",
    "\n",
    "print('Всего фраз в трейне: %s'%len(train_phrases))\n",
    "print('Всего фраз в тесте: %s'%len(test_phrases))\n",
    "\n",
    "print('Уникальных фраз в трейне: %s'%len(set(train_phrases)))\n",
    "print('Уникальных фраз в тесте: %s'%len(set(test_phrases)))\n",
    "\n",
    "#Посмотрим на статистику разбиения\n",
    "print('%s концептов не входящих либо в трейн, либо в тест'%len(set.union(set(train_concepts), set(test_concepts)) - set.intersection(set(test_concepts), set(train_concepts))))\n",
    "print('%s концептов, которые есть в тесте, но нет в трейне'%len(set(test_concepts) - set(train_concepts)))\n",
    "print('%s концептов, которые есть в трейне, но нет в тесте'%len(set(train_concepts) - set(test_concepts)))"
   ]
  },
  {
   "cell_type": "markdown",
   "id": "assisted-fighter",
   "metadata": {},
   "source": [
    "---"
   ]
  },
  {
   "cell_type": "markdown",
   "id": "indian-manitoba",
   "metadata": {},
   "source": [
    "<h2>Обучение</h2>"
   ]
  },
  {
   "cell_type": "markdown",
   "id": "south-bankruptcy",
   "metadata": {},
   "source": [
    "<h4>Настройка глобальных переменных для большей детерменированности</h4>"
   ]
  },
  {
   "cell_type": "code",
   "execution_count": 15,
   "id": "molecular-dispute",
   "metadata": {},
   "outputs": [],
   "source": [
    "import os\n",
    "import numpy as np\n",
    "\n",
    "os.environ[\"CUBLAS_WORKSPACE_CONFIG\"]=\":16:8\"\n",
    "torch.use_deterministic_algorithms(mode=False)\n",
    "np.random.seed(0)\n",
    "torch.manual_seed(0)\n",
    "torch.backends.cudnn.benchmark = False"
   ]
  },
  {
   "cell_type": "markdown",
   "id": "nervous-angel",
   "metadata": {},
   "source": [
    "<h3>Кроссвалидация</h3>"
   ]
  },
  {
   "cell_type": "code",
   "execution_count": 12,
   "id": "south-western",
   "metadata": {},
   "outputs": [
    {
     "name": "stdout",
     "output_type": "stream",
     "text": [
      "exp: 0\n",
      "\n"
     ]
    },
    {
     "name": "stderr",
     "output_type": "stream",
     "text": [
      "Some weights of the model checkpoint at roberta-base were not used when initializing RobertaModel: ['lm_head.dense.weight', 'lm_head.decoder.weight', 'lm_head.layer_norm.weight', 'lm_head.layer_norm.bias', 'lm_head.dense.bias', 'lm_head.bias']\n",
      "- This IS expected if you are initializing RobertaModel from the checkpoint of a model trained on another task or with another architecture (e.g. initializing a BertForSequenceClassification model from a BertForPreTraining model).\n",
      "- This IS NOT expected if you are initializing RobertaModel from the checkpoint of a model that you expect to be exactly identical (initializing a BertForSequenceClassification model from a BertForSequenceClassification model).\n"
     ]
    },
    {
     "name": "stdout",
     "output_type": "stream",
     "text": [
      "Net loaded\n"
     ]
    },
    {
     "name": "stderr",
     "output_type": "stream",
     "text": [
      "Epoch 1: 100%|██████████| 299/299 [00:29<00:00, 10.16batch/s, loss_decrease=1.0000034834253444]\n",
      "Epoch 2: 100%|██████████| 299/299 [00:28<00:00, 10.42batch/s, loss_decrease=1.000004142454491] \n",
      "Epoch 3: 100%|██████████| 299/299 [00:27<00:00, 10.88batch/s, loss_decrease=1.0000044248958195]\n",
      "Epoch 4: 100%|██████████| 299/299 [00:28<00:00, 10.36batch/s, loss_decrease=1.0000051780734762]\n",
      "Epoch 5: 100%|██████████| 299/299 [00:28<00:00, 10.57batch/s, loss_decrease=1.0000051780734762]\n",
      "Epoch 6: 100%|██████████| 299/299 [00:28<00:00, 10.43batch/s, loss_decrease=1.0000051780734762]\n",
      "Epoch 7: 100%|██████████| 299/299 [00:28<00:00, 10.66batch/s, loss_decrease=1.0000052722207629]\n",
      "Epoch 8: 100%|██████████| 299/299 [00:28<00:00, 10.54batch/s, loss_decrease=1.0000053663680675]\n",
      "Epoch 9: 100%|██████████| 299/299 [00:27<00:00, 10.98batch/s, loss_decrease=1.000005083926207] \n",
      "Epoch 10: 100%|██████████| 299/299 [00:28<00:00, 10.59batch/s, loss_decrease=1.0000055546627298]\n",
      "Epoch 11: 100%|██████████| 299/299 [00:28<00:00, 10.59batch/s, loss_decrease=1.0000055546627298]\n",
      "Epoch 12: 100%|██████████| 299/299 [00:28<00:00, 10.51batch/s, loss_decrease=1.0000055546627298]\n",
      "Epoch 13: 100%|██████████| 299/299 [00:25<00:00, 11.72batch/s, loss_decrease=1.0000055546627298]\n",
      "Epoch 14: 100%|██████████| 299/299 [00:27<00:00, 10.73batch/s, loss_decrease=1.0000055546627298]\n",
      "Epoch 15: 100%|██████████| 299/299 [00:27<00:00, 10.87batch/s, loss_decrease=1.0000055546627298]\n",
      "Epoch 16: 100%|██████████| 299/299 [00:28<00:00, 10.66batch/s, loss_decrease=1.0000055546627298]\n",
      "Epoch 17: 100%|██████████| 299/299 [00:26<00:00, 11.21batch/s, loss_decrease=1.0000055546627298]\n",
      "Epoch 18: 100%|██████████| 299/299 [00:28<00:00, 10.59batch/s, loss_decrease=1.0000055546627298]\n",
      "Epoch 19: 100%|██████████| 299/299 [00:27<00:00, 10.75batch/s, loss_decrease=1.0000056488100875]\n",
      "Epoch 20: 100%|██████████| 299/299 [00:27<00:00, 10.86batch/s, loss_decrease=1.0000056488100875]\n",
      "Epoch 21: 100%|██████████| 299/299 [00:27<00:00, 11.02batch/s, loss_decrease=1.0000056488100875]\n",
      "Epoch 22: 100%|██████████| 299/299 [00:27<00:00, 10.93batch/s, loss_decrease=1.0000056488100875]\n",
      "Epoch 23: 100%|██████████| 299/299 [00:26<00:00, 11.39batch/s, loss_decrease=1.0000056488100875]\n",
      "Epoch 24: 100%|██████████| 299/299 [00:27<00:00, 10.78batch/s, loss_decrease=1.0000056488100875]\n",
      "Epoch 25: 100%|██████████| 299/299 [00:26<00:00, 11.30batch/s, loss_decrease=1.0000056488100875]\n",
      "100%|██████████| 1194/1194 [00:12<00:00, 94.45batch/s]\n"
     ]
    },
    {
     "data": {
      "text/html": [
       "<div>\n",
       "<style scoped>\n",
       "    .dataframe tbody tr th:only-of-type {\n",
       "        vertical-align: middle;\n",
       "    }\n",
       "\n",
       "    .dataframe tbody tr th {\n",
       "        vertical-align: top;\n",
       "    }\n",
       "\n",
       "    .dataframe thead tr th {\n",
       "        text-align: left;\n",
       "    }\n",
       "</style>\n",
       "<table border=\"1\" class=\"dataframe\">\n",
       "  <thead>\n",
       "    <tr>\n",
       "      <th></th>\n",
       "      <th colspan=\"2\" halign=\"left\">All</th>\n",
       "      <th colspan=\"2\" halign=\"left\">In VOC</th>\n",
       "      <th colspan=\"2\" halign=\"left\">Out of VOC</th>\n",
       "    </tr>\n",
       "    <tr>\n",
       "      <th></th>\n",
       "      <th>f1 micro</th>\n",
       "      <th>f1 macro</th>\n",
       "      <th>f1 micro</th>\n",
       "      <th>f1 macro</th>\n",
       "      <th>f1 micro</th>\n",
       "      <th>f1 macro</th>\n",
       "    </tr>\n",
       "  </thead>\n",
       "  <tbody>\n",
       "    <tr>\n",
       "      <th>score</th>\n",
       "      <td>0.894472</td>\n",
       "      <td>0.636641</td>\n",
       "      <td>0.910256</td>\n",
       "      <td>0.701305</td>\n",
       "      <td>0.125</td>\n",
       "      <td>0.073171</td>\n",
       "    </tr>\n",
       "  </tbody>\n",
       "</table>\n",
       "</div>"
      ],
      "text/plain": [
       "            All              In VOC           Out of VOC          \n",
       "       f1 micro  f1 macro  f1 micro  f1 macro   f1 micro  f1 macro\n",
       "score  0.894472  0.636641  0.910256  0.701305      0.125  0.073171"
      ]
     },
     "metadata": {},
     "output_type": "display_data"
    },
    {
     "name": "stdout",
     "output_type": "stream",
     "text": [
      "Finished Training\n"
     ]
    }
   ],
   "source": [
    "from models import CADEC_SoTa\n",
    "from dataset import MedNormDataset\n",
    "import torch.optim as optim\n",
    "import torch.nn as nn\n",
    "import torch\n",
    "from evaluator import Evaluator\n",
    "from tqdm import trange\n",
    "from tqdm import tqdm\n",
    "from sklearn.metrics import classification_report, f1_score\n",
    "\n",
    "#Гиперпараметры\n",
    "batch_size=16\n",
    "epochs = 25\n",
    "\n",
    "for fold_num in range(0, 1):\n",
    "    print('exp: %s\\n'%fold_num)\n",
    "    train_phrases, train_concepts = list(folds[fold_num][0][0]), list(folds[fold_num][0][1])\n",
    "    test_phrases, test_concepts = list(folds[fold_num][1][0]), list(folds[fold_num][1][1])\n",
    "\n",
    "    ds_train = MedNormDataset(train_phrases, train_concepts, CV, use_cuda=True)\n",
    "    ds_test = MedNormDataset(test_phrases, test_concepts, CV, use_cuda=True)\n",
    "\n",
    "    net = CADEC_SoTa(transformer_model_path, torch.tensor(CV.thesaurus_embeddings))\n",
    "    #перемещение модели на вычислительные мощности, либо cpu, либо cuda\n",
    "    device = 'cuda' if USE_CUDA else 'cpu'\n",
    "    net.to(device)\n",
    "    print('Net loaded')\n",
    "    criterion = nn.CrossEntropyLoss()\n",
    "    optimizer = optim.AdamW(net.parameters(), lr=0.0001) #, cycle_momentum=True\n",
    "\n",
    "    scaler = torch.cuda.amp.GradScaler()\n",
    "    evaluator = Evaluator(train_concepts, test_concepts)\n",
    "    \n",
    "    trainloader = torch.utils.data.DataLoader(ds_train, batch_size=batch_size,\n",
    "                                          shuffle=False, num_workers=0)\n",
    "    testloader = torch.utils.data.DataLoader(ds_test, batch_size=1, shuffle=False)\n",
    "\n",
    "\n",
    "    initial_loss = None\n",
    "\n",
    "    for epoch in range(1, epochs+1):\n",
    "        #обучение модели в эпохе\n",
    "        net.train()\n",
    "        with tqdm(trainloader, unit=\"batch\") as tepoch:\n",
    "            for data in tepoch:\n",
    "\n",
    "                tepoch.set_description(f\"Epoch {epoch}\")\n",
    "\n",
    "                inputs = data['tokenized_phrases']\n",
    "                labels = data['one_hot_labels']\n",
    "\n",
    "                optimizer.zero_grad()\n",
    "                if USE_CUDA=='cuda':\n",
    "                    with torch.cuda.amp.autocast():\n",
    "                        outputs = net(inputs)['output']\n",
    "                        loss = criterion(outputs, labels)\n",
    "                    scaler.scale(loss).backward()\n",
    "                    scaler.step(optimizer)\n",
    "                    scaler.update()\n",
    "                else:\n",
    "                    outputs = net(inputs)['output']\n",
    "                    loss = criterion(outputs, labels)\n",
    "                    loss.backward()\n",
    "                    optimizer.step()\n",
    "                if initial_loss is None:\n",
    "                    initial_loss = loss.item()\n",
    "                tepoch.set_postfix(loss_decrease = str(initial_loss/loss.item()))\n",
    "    #расчет точностей модели после эпохи\n",
    "    net.eval()\n",
    "    model_answers=[]\n",
    "    real_answers=[]\n",
    "    with tqdm(testloader, unit=\"batch\") as eval_process:\n",
    "        for data in eval_process:\n",
    "\n",
    "            inputs = data['tokenized_phrases']\n",
    "\n",
    "            with torch.no_grad():\n",
    "                outputs_dict = net(inputs)\n",
    "                pred_meddra_code = CV.meddra_codes[outputs_dict['output'].argmax()]\n",
    "\n",
    "\n",
    "            model_answers.append(pred_meddra_code)\n",
    "            real_answers.append(data['label_codes'][0])\n",
    "    evaluator.get_all_f1_scores(real_answers, model_answers)\n",
    "print('Finished Training')\n",
    "torch.save(net,'./Model_weights/CADEC_exp_%s.pt'%fold_num)"
   ]
  },
  {
   "cell_type": "code",
   "execution_count": 17,
   "id": "criminal-permission",
   "metadata": {},
   "outputs": [
    {
     "name": "stdout",
     "output_type": "stream",
     "text": [
      "exp: 1\n",
      "\n"
     ]
    },
    {
     "name": "stderr",
     "output_type": "stream",
     "text": [
      "Some weights of the model checkpoint at roberta-base were not used when initializing RobertaModel: ['lm_head.dense.weight', 'lm_head.decoder.weight', 'lm_head.bias', 'lm_head.dense.bias', 'lm_head.layer_norm.weight', 'lm_head.layer_norm.bias']\n",
      "- This IS expected if you are initializing RobertaModel from the checkpoint of a model trained on another task or with another architecture (e.g. initializing a BertForSequenceClassification model from a BertForPreTraining model).\n",
      "- This IS NOT expected if you are initializing RobertaModel from the checkpoint of a model that you expect to be exactly identical (initializing a BertForSequenceClassification model from a BertForSequenceClassification model).\n"
     ]
    },
    {
     "name": "stdout",
     "output_type": "stream",
     "text": [
      "Net loaded\n"
     ]
    },
    {
     "name": "stderr",
     "output_type": "stream",
     "text": [
      "Epoch 1: 100%|██████████| 299/299 [00:28<00:00, 10.67batch/s, loss_decrease=1.00000291854391]  \n",
      "100%|██████████| 1194/1194 [00:13<00:00, 89.94batch/s] \n"
     ]
    },
    {
     "data": {
      "text/html": [
       "<div>\n",
       "<style scoped>\n",
       "    .dataframe tbody tr th:only-of-type {\n",
       "        vertical-align: middle;\n",
       "    }\n",
       "\n",
       "    .dataframe tbody tr th {\n",
       "        vertical-align: top;\n",
       "    }\n",
       "\n",
       "    .dataframe thead tr th {\n",
       "        text-align: left;\n",
       "    }\n",
       "</style>\n",
       "<table border=\"1\" class=\"dataframe\">\n",
       "  <thead>\n",
       "    <tr>\n",
       "      <th></th>\n",
       "      <th colspan=\"2\" halign=\"left\">All</th>\n",
       "      <th colspan=\"2\" halign=\"left\">In VOC</th>\n",
       "      <th colspan=\"2\" halign=\"left\">Out of VOC</th>\n",
       "    </tr>\n",
       "    <tr>\n",
       "      <th></th>\n",
       "      <th>f1 micro</th>\n",
       "      <th>f1 macro</th>\n",
       "      <th>f1 micro</th>\n",
       "      <th>f1 macro</th>\n",
       "      <th>f1 micro</th>\n",
       "      <th>f1 macro</th>\n",
       "    </tr>\n",
       "  </thead>\n",
       "  <tbody>\n",
       "    <tr>\n",
       "      <th>score</th>\n",
       "      <td>0.657454</td>\n",
       "      <td>0.201744</td>\n",
       "      <td>0.67528</td>\n",
       "      <td>0.229217</td>\n",
       "      <td>0.030303</td>\n",
       "      <td>0.019608</td>\n",
       "    </tr>\n",
       "  </tbody>\n",
       "</table>\n",
       "</div>"
      ],
      "text/plain": [
       "            All             In VOC           Out of VOC          \n",
       "       f1 micro  f1 macro f1 micro  f1 macro   f1 micro  f1 macro\n",
       "score  0.657454  0.201744  0.67528  0.229217   0.030303  0.019608"
      ]
     },
     "metadata": {},
     "output_type": "display_data"
    },
    {
     "name": "stderr",
     "output_type": "stream",
     "text": [
      "Epoch 2: 100%|██████████| 299/299 [00:27<00:00, 10.77batch/s, loss_decrease=1.0000040483074168]\n",
      "100%|██████████| 1194/1194 [00:13<00:00, 89.41batch/s]\n"
     ]
    },
    {
     "data": {
      "text/html": [
       "<div>\n",
       "<style scoped>\n",
       "    .dataframe tbody tr th:only-of-type {\n",
       "        vertical-align: middle;\n",
       "    }\n",
       "\n",
       "    .dataframe tbody tr th {\n",
       "        vertical-align: top;\n",
       "    }\n",
       "\n",
       "    .dataframe thead tr th {\n",
       "        text-align: left;\n",
       "    }\n",
       "</style>\n",
       "<table border=\"1\" class=\"dataframe\">\n",
       "  <thead>\n",
       "    <tr>\n",
       "      <th></th>\n",
       "      <th colspan=\"2\" halign=\"left\">All</th>\n",
       "      <th colspan=\"2\" halign=\"left\">In VOC</th>\n",
       "      <th colspan=\"2\" halign=\"left\">Out of VOC</th>\n",
       "    </tr>\n",
       "    <tr>\n",
       "      <th></th>\n",
       "      <th>f1 micro</th>\n",
       "      <th>f1 macro</th>\n",
       "      <th>f1 micro</th>\n",
       "      <th>f1 macro</th>\n",
       "      <th>f1 micro</th>\n",
       "      <th>f1 macro</th>\n",
       "    </tr>\n",
       "  </thead>\n",
       "  <tbody>\n",
       "    <tr>\n",
       "      <th>score</th>\n",
       "      <td>0.742044</td>\n",
       "      <td>0.295979</td>\n",
       "      <td>0.760551</td>\n",
       "      <td>0.329662</td>\n",
       "      <td>0.090909</td>\n",
       "      <td>0.058824</td>\n",
       "    </tr>\n",
       "  </tbody>\n",
       "</table>\n",
       "</div>"
      ],
      "text/plain": [
       "            All              In VOC           Out of VOC          \n",
       "       f1 micro  f1 macro  f1 micro  f1 macro   f1 micro  f1 macro\n",
       "score  0.742044  0.295979  0.760551  0.329662   0.090909  0.058824"
      ]
     },
     "metadata": {},
     "output_type": "display_data"
    },
    {
     "name": "stderr",
     "output_type": "stream",
     "text": [
      "Epoch 3: 100%|██████████| 299/299 [00:27<00:00, 10.91batch/s, loss_decrease=1.0000044248958195]\n",
      "100%|██████████| 1194/1194 [00:12<00:00, 97.91batch/s] \n"
     ]
    },
    {
     "data": {
      "text/html": [
       "<div>\n",
       "<style scoped>\n",
       "    .dataframe tbody tr th:only-of-type {\n",
       "        vertical-align: middle;\n",
       "    }\n",
       "\n",
       "    .dataframe tbody tr th {\n",
       "        vertical-align: top;\n",
       "    }\n",
       "\n",
       "    .dataframe thead tr th {\n",
       "        text-align: left;\n",
       "    }\n",
       "</style>\n",
       "<table border=\"1\" class=\"dataframe\">\n",
       "  <thead>\n",
       "    <tr>\n",
       "      <th></th>\n",
       "      <th colspan=\"2\" halign=\"left\">All</th>\n",
       "      <th colspan=\"2\" halign=\"left\">In VOC</th>\n",
       "      <th colspan=\"2\" halign=\"left\">Out of VOC</th>\n",
       "    </tr>\n",
       "    <tr>\n",
       "      <th></th>\n",
       "      <th>f1 micro</th>\n",
       "      <th>f1 macro</th>\n",
       "      <th>f1 micro</th>\n",
       "      <th>f1 macro</th>\n",
       "      <th>f1 micro</th>\n",
       "      <th>f1 macro</th>\n",
       "    </tr>\n",
       "  </thead>\n",
       "  <tbody>\n",
       "    <tr>\n",
       "      <th>score</th>\n",
       "      <td>0.78727</td>\n",
       "      <td>0.356659</td>\n",
       "      <td>0.807063</td>\n",
       "      <td>0.405402</td>\n",
       "      <td>0.090909</td>\n",
       "      <td>0.057692</td>\n",
       "    </tr>\n",
       "  </tbody>\n",
       "</table>\n",
       "</div>"
      ],
      "text/plain": [
       "           All              In VOC           Out of VOC          \n",
       "      f1 micro  f1 macro  f1 micro  f1 macro   f1 micro  f1 macro\n",
       "score  0.78727  0.356659  0.807063  0.405402   0.090909  0.057692"
      ]
     },
     "metadata": {},
     "output_type": "display_data"
    },
    {
     "name": "stderr",
     "output_type": "stream",
     "text": [
      "Epoch 4: 100%|██████████| 299/299 [00:27<00:00, 10.97batch/s, loss_decrease=1.0000047073373077]\n",
      "100%|██████████| 1194/1194 [00:13<00:00, 90.68batch/s] \n"
     ]
    },
    {
     "data": {
      "text/html": [
       "<div>\n",
       "<style scoped>\n",
       "    .dataframe tbody tr th:only-of-type {\n",
       "        vertical-align: middle;\n",
       "    }\n",
       "\n",
       "    .dataframe tbody tr th {\n",
       "        vertical-align: top;\n",
       "    }\n",
       "\n",
       "    .dataframe thead tr th {\n",
       "        text-align: left;\n",
       "    }\n",
       "</style>\n",
       "<table border=\"1\" class=\"dataframe\">\n",
       "  <thead>\n",
       "    <tr>\n",
       "      <th></th>\n",
       "      <th colspan=\"2\" halign=\"left\">All</th>\n",
       "      <th colspan=\"2\" halign=\"left\">In VOC</th>\n",
       "      <th colspan=\"2\" halign=\"left\">Out of VOC</th>\n",
       "    </tr>\n",
       "    <tr>\n",
       "      <th></th>\n",
       "      <th>f1 micro</th>\n",
       "      <th>f1 macro</th>\n",
       "      <th>f1 micro</th>\n",
       "      <th>f1 macro</th>\n",
       "      <th>f1 micro</th>\n",
       "      <th>f1 macro</th>\n",
       "    </tr>\n",
       "  </thead>\n",
       "  <tbody>\n",
       "    <tr>\n",
       "      <th>score</th>\n",
       "      <td>0.806533</td>\n",
       "      <td>0.390303</td>\n",
       "      <td>0.826873</td>\n",
       "      <td>0.442956</td>\n",
       "      <td>0.090909</td>\n",
       "      <td>0.06</td>\n",
       "    </tr>\n",
       "  </tbody>\n",
       "</table>\n",
       "</div>"
      ],
      "text/plain": [
       "            All              In VOC           Out of VOC         \n",
       "       f1 micro  f1 macro  f1 micro  f1 macro   f1 micro f1 macro\n",
       "score  0.806533  0.390303  0.826873  0.442956   0.090909     0.06"
      ]
     },
     "metadata": {},
     "output_type": "display_data"
    },
    {
     "name": "stderr",
     "output_type": "stream",
     "text": [
      "Epoch 5: 100%|██████████| 299/299 [00:27<00:00, 10.76batch/s, loss_decrease=1.000004895631722] \n",
      "100%|██████████| 1194/1194 [00:12<00:00, 93.39batch/s]\n"
     ]
    },
    {
     "data": {
      "text/html": [
       "<div>\n",
       "<style scoped>\n",
       "    .dataframe tbody tr th:only-of-type {\n",
       "        vertical-align: middle;\n",
       "    }\n",
       "\n",
       "    .dataframe tbody tr th {\n",
       "        vertical-align: top;\n",
       "    }\n",
       "\n",
       "    .dataframe thead tr th {\n",
       "        text-align: left;\n",
       "    }\n",
       "</style>\n",
       "<table border=\"1\" class=\"dataframe\">\n",
       "  <thead>\n",
       "    <tr>\n",
       "      <th></th>\n",
       "      <th colspan=\"2\" halign=\"left\">All</th>\n",
       "      <th colspan=\"2\" halign=\"left\">In VOC</th>\n",
       "      <th colspan=\"2\" halign=\"left\">Out of VOC</th>\n",
       "    </tr>\n",
       "    <tr>\n",
       "      <th></th>\n",
       "      <th>f1 micro</th>\n",
       "      <th>f1 macro</th>\n",
       "      <th>f1 micro</th>\n",
       "      <th>f1 macro</th>\n",
       "      <th>f1 micro</th>\n",
       "      <th>f1 macro</th>\n",
       "    </tr>\n",
       "  </thead>\n",
       "  <tbody>\n",
       "    <tr>\n",
       "      <th>score</th>\n",
       "      <td>0.798157</td>\n",
       "      <td>0.415861</td>\n",
       "      <td>0.81826</td>\n",
       "      <td>0.478065</td>\n",
       "      <td>0.090909</td>\n",
       "      <td>0.055556</td>\n",
       "    </tr>\n",
       "  </tbody>\n",
       "</table>\n",
       "</div>"
      ],
      "text/plain": [
       "            All             In VOC           Out of VOC          \n",
       "       f1 micro  f1 macro f1 micro  f1 macro   f1 micro  f1 macro\n",
       "score  0.798157  0.415861  0.81826  0.478065   0.090909  0.055556"
      ]
     },
     "metadata": {},
     "output_type": "display_data"
    },
    {
     "name": "stderr",
     "output_type": "stream",
     "text": [
      "Epoch 6: 100%|██████████| 299/299 [00:28<00:00, 10.59batch/s, loss_decrease=1.000005083926207] \n",
      "100%|██████████| 1194/1194 [00:13<00:00, 91.79batch/s]\n"
     ]
    },
    {
     "data": {
      "text/html": [
       "<div>\n",
       "<style scoped>\n",
       "    .dataframe tbody tr th:only-of-type {\n",
       "        vertical-align: middle;\n",
       "    }\n",
       "\n",
       "    .dataframe tbody tr th {\n",
       "        vertical-align: top;\n",
       "    }\n",
       "\n",
       "    .dataframe thead tr th {\n",
       "        text-align: left;\n",
       "    }\n",
       "</style>\n",
       "<table border=\"1\" class=\"dataframe\">\n",
       "  <thead>\n",
       "    <tr>\n",
       "      <th></th>\n",
       "      <th colspan=\"2\" halign=\"left\">All</th>\n",
       "      <th colspan=\"2\" halign=\"left\">In VOC</th>\n",
       "      <th colspan=\"2\" halign=\"left\">Out of VOC</th>\n",
       "    </tr>\n",
       "    <tr>\n",
       "      <th></th>\n",
       "      <th>f1 micro</th>\n",
       "      <th>f1 macro</th>\n",
       "      <th>f1 micro</th>\n",
       "      <th>f1 macro</th>\n",
       "      <th>f1 micro</th>\n",
       "      <th>f1 macro</th>\n",
       "    </tr>\n",
       "  </thead>\n",
       "  <tbody>\n",
       "    <tr>\n",
       "      <th>score</th>\n",
       "      <td>0.834171</td>\n",
       "      <td>0.470046</td>\n",
       "      <td>0.856158</td>\n",
       "      <td>0.553829</td>\n",
       "      <td>0.060606</td>\n",
       "      <td>0.035088</td>\n",
       "    </tr>\n",
       "  </tbody>\n",
       "</table>\n",
       "</div>"
      ],
      "text/plain": [
       "            All              In VOC           Out of VOC          \n",
       "       f1 micro  f1 macro  f1 micro  f1 macro   f1 micro  f1 macro\n",
       "score  0.834171  0.470046  0.856158  0.553829   0.060606  0.035088"
      ]
     },
     "metadata": {},
     "output_type": "display_data"
    },
    {
     "name": "stderr",
     "output_type": "stream",
     "text": [
      "Epoch 7: 100%|██████████| 299/299 [00:26<00:00, 11.22batch/s, loss_decrease=1.0000051780734762]\n",
      "100%|██████████| 1194/1194 [00:12<00:00, 94.43batch/s] \n"
     ]
    },
    {
     "data": {
      "text/html": [
       "<div>\n",
       "<style scoped>\n",
       "    .dataframe tbody tr th:only-of-type {\n",
       "        vertical-align: middle;\n",
       "    }\n",
       "\n",
       "    .dataframe tbody tr th {\n",
       "        vertical-align: top;\n",
       "    }\n",
       "\n",
       "    .dataframe thead tr th {\n",
       "        text-align: left;\n",
       "    }\n",
       "</style>\n",
       "<table border=\"1\" class=\"dataframe\">\n",
       "  <thead>\n",
       "    <tr>\n",
       "      <th></th>\n",
       "      <th colspan=\"2\" halign=\"left\">All</th>\n",
       "      <th colspan=\"2\" halign=\"left\">In VOC</th>\n",
       "      <th colspan=\"2\" halign=\"left\">Out of VOC</th>\n",
       "    </tr>\n",
       "    <tr>\n",
       "      <th></th>\n",
       "      <th>f1 micro</th>\n",
       "      <th>f1 macro</th>\n",
       "      <th>f1 micro</th>\n",
       "      <th>f1 macro</th>\n",
       "      <th>f1 micro</th>\n",
       "      <th>f1 macro</th>\n",
       "    </tr>\n",
       "  </thead>\n",
       "  <tbody>\n",
       "    <tr>\n",
       "      <th>score</th>\n",
       "      <td>0.840034</td>\n",
       "      <td>0.489402</td>\n",
       "      <td>0.862188</td>\n",
       "      <td>0.569854</td>\n",
       "      <td>0.060606</td>\n",
       "      <td>0.036364</td>\n",
       "    </tr>\n",
       "  </tbody>\n",
       "</table>\n",
       "</div>"
      ],
      "text/plain": [
       "            All              In VOC           Out of VOC          \n",
       "       f1 micro  f1 macro  f1 micro  f1 macro   f1 micro  f1 macro\n",
       "score  0.840034  0.489402  0.862188  0.569854   0.060606  0.036364"
      ]
     },
     "metadata": {},
     "output_type": "display_data"
    },
    {
     "name": "stderr",
     "output_type": "stream",
     "text": [
      "Epoch 8: 100%|██████████| 299/299 [00:27<00:00, 11.00batch/s, loss_decrease=1.000005083926207] \n",
      "100%|██████████| 1194/1194 [00:12<00:00, 96.60batch/s] \n"
     ]
    },
    {
     "data": {
      "text/html": [
       "<div>\n",
       "<style scoped>\n",
       "    .dataframe tbody tr th:only-of-type {\n",
       "        vertical-align: middle;\n",
       "    }\n",
       "\n",
       "    .dataframe tbody tr th {\n",
       "        vertical-align: top;\n",
       "    }\n",
       "\n",
       "    .dataframe thead tr th {\n",
       "        text-align: left;\n",
       "    }\n",
       "</style>\n",
       "<table border=\"1\" class=\"dataframe\">\n",
       "  <thead>\n",
       "    <tr>\n",
       "      <th></th>\n",
       "      <th colspan=\"2\" halign=\"left\">All</th>\n",
       "      <th colspan=\"2\" halign=\"left\">In VOC</th>\n",
       "      <th colspan=\"2\" halign=\"left\">Out of VOC</th>\n",
       "    </tr>\n",
       "    <tr>\n",
       "      <th></th>\n",
       "      <th>f1 micro</th>\n",
       "      <th>f1 macro</th>\n",
       "      <th>f1 micro</th>\n",
       "      <th>f1 macro</th>\n",
       "      <th>f1 micro</th>\n",
       "      <th>f1 macro</th>\n",
       "    </tr>\n",
       "  </thead>\n",
       "  <tbody>\n",
       "    <tr>\n",
       "      <th>score</th>\n",
       "      <td>0.840034</td>\n",
       "      <td>0.486063</td>\n",
       "      <td>0.863049</td>\n",
       "      <td>0.577405</td>\n",
       "      <td>0.030303</td>\n",
       "      <td>0.017241</td>\n",
       "    </tr>\n",
       "  </tbody>\n",
       "</table>\n",
       "</div>"
      ],
      "text/plain": [
       "            All              In VOC           Out of VOC          \n",
       "       f1 micro  f1 macro  f1 micro  f1 macro   f1 micro  f1 macro\n",
       "score  0.840034  0.486063  0.863049  0.577405   0.030303  0.017241"
      ]
     },
     "metadata": {},
     "output_type": "display_data"
    },
    {
     "name": "stderr",
     "output_type": "stream",
     "text": [
      "Epoch 9: 100%|██████████| 299/299 [00:26<00:00, 11.15batch/s, loss_decrease=1.0000052722207629]\n",
      "100%|██████████| 1194/1194 [00:12<00:00, 95.65batch/s] \n"
     ]
    },
    {
     "data": {
      "text/html": [
       "<div>\n",
       "<style scoped>\n",
       "    .dataframe tbody tr th:only-of-type {\n",
       "        vertical-align: middle;\n",
       "    }\n",
       "\n",
       "    .dataframe tbody tr th {\n",
       "        vertical-align: top;\n",
       "    }\n",
       "\n",
       "    .dataframe thead tr th {\n",
       "        text-align: left;\n",
       "    }\n",
       "</style>\n",
       "<table border=\"1\" class=\"dataframe\">\n",
       "  <thead>\n",
       "    <tr>\n",
       "      <th></th>\n",
       "      <th colspan=\"2\" halign=\"left\">All</th>\n",
       "      <th colspan=\"2\" halign=\"left\">In VOC</th>\n",
       "      <th colspan=\"2\" halign=\"left\">Out of VOC</th>\n",
       "    </tr>\n",
       "    <tr>\n",
       "      <th></th>\n",
       "      <th>f1 micro</th>\n",
       "      <th>f1 macro</th>\n",
       "      <th>f1 micro</th>\n",
       "      <th>f1 macro</th>\n",
       "      <th>f1 micro</th>\n",
       "      <th>f1 macro</th>\n",
       "    </tr>\n",
       "  </thead>\n",
       "  <tbody>\n",
       "    <tr>\n",
       "      <th>score</th>\n",
       "      <td>0.844221</td>\n",
       "      <td>0.497884</td>\n",
       "      <td>0.866494</td>\n",
       "      <td>0.587341</td>\n",
       "      <td>0.060606</td>\n",
       "      <td>0.036364</td>\n",
       "    </tr>\n",
       "  </tbody>\n",
       "</table>\n",
       "</div>"
      ],
      "text/plain": [
       "            All              In VOC           Out of VOC          \n",
       "       f1 micro  f1 macro  f1 micro  f1 macro   f1 micro  f1 macro\n",
       "score  0.844221  0.497884  0.866494  0.587341   0.060606  0.036364"
      ]
     },
     "metadata": {},
     "output_type": "display_data"
    },
    {
     "name": "stderr",
     "output_type": "stream",
     "text": [
      "Epoch 10: 100%|██████████| 299/299 [00:26<00:00, 11.10batch/s, loss_decrease=1.0000051780734762]\n",
      "100%|██████████| 1194/1194 [00:12<00:00, 98.94batch/s] \n"
     ]
    },
    {
     "data": {
      "text/html": [
       "<div>\n",
       "<style scoped>\n",
       "    .dataframe tbody tr th:only-of-type {\n",
       "        vertical-align: middle;\n",
       "    }\n",
       "\n",
       "    .dataframe tbody tr th {\n",
       "        vertical-align: top;\n",
       "    }\n",
       "\n",
       "    .dataframe thead tr th {\n",
       "        text-align: left;\n",
       "    }\n",
       "</style>\n",
       "<table border=\"1\" class=\"dataframe\">\n",
       "  <thead>\n",
       "    <tr>\n",
       "      <th></th>\n",
       "      <th colspan=\"2\" halign=\"left\">All</th>\n",
       "      <th colspan=\"2\" halign=\"left\">In VOC</th>\n",
       "      <th colspan=\"2\" halign=\"left\">Out of VOC</th>\n",
       "    </tr>\n",
       "    <tr>\n",
       "      <th></th>\n",
       "      <th>f1 micro</th>\n",
       "      <th>f1 macro</th>\n",
       "      <th>f1 micro</th>\n",
       "      <th>f1 macro</th>\n",
       "      <th>f1 micro</th>\n",
       "      <th>f1 macro</th>\n",
       "    </tr>\n",
       "  </thead>\n",
       "  <tbody>\n",
       "    <tr>\n",
       "      <th>score</th>\n",
       "      <td>0.849246</td>\n",
       "      <td>0.506886</td>\n",
       "      <td>0.871662</td>\n",
       "      <td>0.590848</td>\n",
       "      <td>0.060606</td>\n",
       "      <td>0.036364</td>\n",
       "    </tr>\n",
       "  </tbody>\n",
       "</table>\n",
       "</div>"
      ],
      "text/plain": [
       "            All              In VOC           Out of VOC          \n",
       "       f1 micro  f1 macro  f1 micro  f1 macro   f1 micro  f1 macro\n",
       "score  0.849246  0.506886  0.871662  0.590848   0.060606  0.036364"
      ]
     },
     "metadata": {},
     "output_type": "display_data"
    },
    {
     "name": "stderr",
     "output_type": "stream",
     "text": [
      "Epoch 11: 100%|██████████| 299/299 [00:27<00:00, 11.06batch/s, loss_decrease=1.0000052722207629]\n",
      "100%|██████████| 1194/1194 [00:12<00:00, 95.45batch/s]\n"
     ]
    },
    {
     "data": {
      "text/html": [
       "<div>\n",
       "<style scoped>\n",
       "    .dataframe tbody tr th:only-of-type {\n",
       "        vertical-align: middle;\n",
       "    }\n",
       "\n",
       "    .dataframe tbody tr th {\n",
       "        vertical-align: top;\n",
       "    }\n",
       "\n",
       "    .dataframe thead tr th {\n",
       "        text-align: left;\n",
       "    }\n",
       "</style>\n",
       "<table border=\"1\" class=\"dataframe\">\n",
       "  <thead>\n",
       "    <tr>\n",
       "      <th></th>\n",
       "      <th colspan=\"2\" halign=\"left\">All</th>\n",
       "      <th colspan=\"2\" halign=\"left\">In VOC</th>\n",
       "      <th colspan=\"2\" halign=\"left\">Out of VOC</th>\n",
       "    </tr>\n",
       "    <tr>\n",
       "      <th></th>\n",
       "      <th>f1 micro</th>\n",
       "      <th>f1 macro</th>\n",
       "      <th>f1 micro</th>\n",
       "      <th>f1 macro</th>\n",
       "      <th>f1 micro</th>\n",
       "      <th>f1 macro</th>\n",
       "    </tr>\n",
       "  </thead>\n",
       "  <tbody>\n",
       "    <tr>\n",
       "      <th>score</th>\n",
       "      <td>0.851759</td>\n",
       "      <td>0.514182</td>\n",
       "      <td>0.874246</td>\n",
       "      <td>0.618597</td>\n",
       "      <td>0.060606</td>\n",
       "      <td>0.035088</td>\n",
       "    </tr>\n",
       "  </tbody>\n",
       "</table>\n",
       "</div>"
      ],
      "text/plain": [
       "            All              In VOC           Out of VOC          \n",
       "       f1 micro  f1 macro  f1 micro  f1 macro   f1 micro  f1 macro\n",
       "score  0.851759  0.514182  0.874246  0.618597   0.060606  0.035088"
      ]
     },
     "metadata": {},
     "output_type": "display_data"
    },
    {
     "name": "stderr",
     "output_type": "stream",
     "text": [
      "Epoch 12: 100%|██████████| 299/299 [00:27<00:00, 11.06batch/s, loss_decrease=1.0000053663680675]\n",
      "100%|██████████| 1194/1194 [00:12<00:00, 96.98batch/s] \n"
     ]
    },
    {
     "data": {
      "text/html": [
       "<div>\n",
       "<style scoped>\n",
       "    .dataframe tbody tr th:only-of-type {\n",
       "        vertical-align: middle;\n",
       "    }\n",
       "\n",
       "    .dataframe tbody tr th {\n",
       "        vertical-align: top;\n",
       "    }\n",
       "\n",
       "    .dataframe thead tr th {\n",
       "        text-align: left;\n",
       "    }\n",
       "</style>\n",
       "<table border=\"1\" class=\"dataframe\">\n",
       "  <thead>\n",
       "    <tr>\n",
       "      <th></th>\n",
       "      <th colspan=\"2\" halign=\"left\">All</th>\n",
       "      <th colspan=\"2\" halign=\"left\">In VOC</th>\n",
       "      <th colspan=\"2\" halign=\"left\">Out of VOC</th>\n",
       "    </tr>\n",
       "    <tr>\n",
       "      <th></th>\n",
       "      <th>f1 micro</th>\n",
       "      <th>f1 macro</th>\n",
       "      <th>f1 micro</th>\n",
       "      <th>f1 macro</th>\n",
       "      <th>f1 micro</th>\n",
       "      <th>f1 macro</th>\n",
       "    </tr>\n",
       "  </thead>\n",
       "  <tbody>\n",
       "    <tr>\n",
       "      <th>score</th>\n",
       "      <td>0.849246</td>\n",
       "      <td>0.489668</td>\n",
       "      <td>0.871662</td>\n",
       "      <td>0.582194</td>\n",
       "      <td>0.060606</td>\n",
       "      <td>0.036364</td>\n",
       "    </tr>\n",
       "  </tbody>\n",
       "</table>\n",
       "</div>"
      ],
      "text/plain": [
       "            All              In VOC           Out of VOC          \n",
       "       f1 micro  f1 macro  f1 micro  f1 macro   f1 micro  f1 macro\n",
       "score  0.849246  0.489668  0.871662  0.582194   0.060606  0.036364"
      ]
     },
     "metadata": {},
     "output_type": "display_data"
    },
    {
     "name": "stderr",
     "output_type": "stream",
     "text": [
      "Epoch 13: 100%|██████████| 299/299 [00:27<00:00, 10.69batch/s, loss_decrease=1.0000054605153899]\n",
      "100%|██████████| 1194/1194 [00:12<00:00, 96.29batch/s] \n"
     ]
    },
    {
     "data": {
      "text/html": [
       "<div>\n",
       "<style scoped>\n",
       "    .dataframe tbody tr th:only-of-type {\n",
       "        vertical-align: middle;\n",
       "    }\n",
       "\n",
       "    .dataframe tbody tr th {\n",
       "        vertical-align: top;\n",
       "    }\n",
       "\n",
       "    .dataframe thead tr th {\n",
       "        text-align: left;\n",
       "    }\n",
       "</style>\n",
       "<table border=\"1\" class=\"dataframe\">\n",
       "  <thead>\n",
       "    <tr>\n",
       "      <th></th>\n",
       "      <th colspan=\"2\" halign=\"left\">All</th>\n",
       "      <th colspan=\"2\" halign=\"left\">In VOC</th>\n",
       "      <th colspan=\"2\" halign=\"left\">Out of VOC</th>\n",
       "    </tr>\n",
       "    <tr>\n",
       "      <th></th>\n",
       "      <th>f1 micro</th>\n",
       "      <th>f1 macro</th>\n",
       "      <th>f1 micro</th>\n",
       "      <th>f1 macro</th>\n",
       "      <th>f1 micro</th>\n",
       "      <th>f1 macro</th>\n",
       "    </tr>\n",
       "  </thead>\n",
       "  <tbody>\n",
       "    <tr>\n",
       "      <th>score</th>\n",
       "      <td>0.841709</td>\n",
       "      <td>0.494932</td>\n",
       "      <td>0.864772</td>\n",
       "      <td>0.595861</td>\n",
       "      <td>0.030303</td>\n",
       "      <td>0.017544</td>\n",
       "    </tr>\n",
       "  </tbody>\n",
       "</table>\n",
       "</div>"
      ],
      "text/plain": [
       "            All              In VOC           Out of VOC          \n",
       "       f1 micro  f1 macro  f1 micro  f1 macro   f1 micro  f1 macro\n",
       "score  0.841709  0.494932  0.864772  0.595861   0.030303  0.017544"
      ]
     },
     "metadata": {},
     "output_type": "display_data"
    },
    {
     "name": "stderr",
     "output_type": "stream",
     "text": [
      "Epoch 14: 100%|██████████| 299/299 [00:25<00:00, 11.71batch/s, loss_decrease=1.0000053663680675]\n",
      "100%|██████████| 1194/1194 [00:12<00:00, 97.56batch/s] \n"
     ]
    },
    {
     "data": {
      "text/html": [
       "<div>\n",
       "<style scoped>\n",
       "    .dataframe tbody tr th:only-of-type {\n",
       "        vertical-align: middle;\n",
       "    }\n",
       "\n",
       "    .dataframe tbody tr th {\n",
       "        vertical-align: top;\n",
       "    }\n",
       "\n",
       "    .dataframe thead tr th {\n",
       "        text-align: left;\n",
       "    }\n",
       "</style>\n",
       "<table border=\"1\" class=\"dataframe\">\n",
       "  <thead>\n",
       "    <tr>\n",
       "      <th></th>\n",
       "      <th colspan=\"2\" halign=\"left\">All</th>\n",
       "      <th colspan=\"2\" halign=\"left\">In VOC</th>\n",
       "      <th colspan=\"2\" halign=\"left\">Out of VOC</th>\n",
       "    </tr>\n",
       "    <tr>\n",
       "      <th></th>\n",
       "      <th>f1 micro</th>\n",
       "      <th>f1 macro</th>\n",
       "      <th>f1 micro</th>\n",
       "      <th>f1 macro</th>\n",
       "      <th>f1 micro</th>\n",
       "      <th>f1 macro</th>\n",
       "    </tr>\n",
       "  </thead>\n",
       "  <tbody>\n",
       "    <tr>\n",
       "      <th>score</th>\n",
       "      <td>0.847571</td>\n",
       "      <td>0.497157</td>\n",
       "      <td>0.86994</td>\n",
       "      <td>0.588093</td>\n",
       "      <td>0.060606</td>\n",
       "      <td>0.035714</td>\n",
       "    </tr>\n",
       "  </tbody>\n",
       "</table>\n",
       "</div>"
      ],
      "text/plain": [
       "            All             In VOC           Out of VOC          \n",
       "       f1 micro  f1 macro f1 micro  f1 macro   f1 micro  f1 macro\n",
       "score  0.847571  0.497157  0.86994  0.588093   0.060606  0.035714"
      ]
     },
     "metadata": {},
     "output_type": "display_data"
    },
    {
     "name": "stderr",
     "output_type": "stream",
     "text": [
      "Epoch 15: 100%|██████████| 299/299 [00:24<00:00, 12.34batch/s, loss_decrease=1.0000054605153899]\n",
      "100%|██████████| 1194/1194 [00:13<00:00, 88.51batch/s]\n"
     ]
    },
    {
     "data": {
      "text/html": [
       "<div>\n",
       "<style scoped>\n",
       "    .dataframe tbody tr th:only-of-type {\n",
       "        vertical-align: middle;\n",
       "    }\n",
       "\n",
       "    .dataframe tbody tr th {\n",
       "        vertical-align: top;\n",
       "    }\n",
       "\n",
       "    .dataframe thead tr th {\n",
       "        text-align: left;\n",
       "    }\n",
       "</style>\n",
       "<table border=\"1\" class=\"dataframe\">\n",
       "  <thead>\n",
       "    <tr>\n",
       "      <th></th>\n",
       "      <th colspan=\"2\" halign=\"left\">All</th>\n",
       "      <th colspan=\"2\" halign=\"left\">In VOC</th>\n",
       "      <th colspan=\"2\" halign=\"left\">Out of VOC</th>\n",
       "    </tr>\n",
       "    <tr>\n",
       "      <th></th>\n",
       "      <th>f1 micro</th>\n",
       "      <th>f1 macro</th>\n",
       "      <th>f1 micro</th>\n",
       "      <th>f1 macro</th>\n",
       "      <th>f1 micro</th>\n",
       "      <th>f1 macro</th>\n",
       "    </tr>\n",
       "  </thead>\n",
       "  <tbody>\n",
       "    <tr>\n",
       "      <th>score</th>\n",
       "      <td>0.855109</td>\n",
       "      <td>0.500788</td>\n",
       "      <td>0.878553</td>\n",
       "      <td>0.604135</td>\n",
       "      <td>0.030303</td>\n",
       "      <td>0.017857</td>\n",
       "    </tr>\n",
       "  </tbody>\n",
       "</table>\n",
       "</div>"
      ],
      "text/plain": [
       "            All              In VOC           Out of VOC          \n",
       "       f1 micro  f1 macro  f1 micro  f1 macro   f1 micro  f1 macro\n",
       "score  0.855109  0.500788  0.878553  0.604135   0.030303  0.017857"
      ]
     },
     "metadata": {},
     "output_type": "display_data"
    },
    {
     "name": "stderr",
     "output_type": "stream",
     "text": [
      "Epoch 16: 100%|██████████| 299/299 [00:25<00:00, 11.68batch/s, loss_decrease=1.0000054605153899]\n",
      "100%|██████████| 1194/1194 [00:12<00:00, 95.59batch/s] \n"
     ]
    },
    {
     "data": {
      "text/html": [
       "<div>\n",
       "<style scoped>\n",
       "    .dataframe tbody tr th:only-of-type {\n",
       "        vertical-align: middle;\n",
       "    }\n",
       "\n",
       "    .dataframe tbody tr th {\n",
       "        vertical-align: top;\n",
       "    }\n",
       "\n",
       "    .dataframe thead tr th {\n",
       "        text-align: left;\n",
       "    }\n",
       "</style>\n",
       "<table border=\"1\" class=\"dataframe\">\n",
       "  <thead>\n",
       "    <tr>\n",
       "      <th></th>\n",
       "      <th colspan=\"2\" halign=\"left\">All</th>\n",
       "      <th colspan=\"2\" halign=\"left\">In VOC</th>\n",
       "      <th colspan=\"2\" halign=\"left\">Out of VOC</th>\n",
       "    </tr>\n",
       "    <tr>\n",
       "      <th></th>\n",
       "      <th>f1 micro</th>\n",
       "      <th>f1 macro</th>\n",
       "      <th>f1 micro</th>\n",
       "      <th>f1 macro</th>\n",
       "      <th>f1 micro</th>\n",
       "      <th>f1 macro</th>\n",
       "    </tr>\n",
       "  </thead>\n",
       "  <tbody>\n",
       "    <tr>\n",
       "      <th>score</th>\n",
       "      <td>0.850921</td>\n",
       "      <td>0.510381</td>\n",
       "      <td>0.874246</td>\n",
       "      <td>0.611823</td>\n",
       "      <td>0.030303</td>\n",
       "      <td>0.011696</td>\n",
       "    </tr>\n",
       "  </tbody>\n",
       "</table>\n",
       "</div>"
      ],
      "text/plain": [
       "            All              In VOC           Out of VOC          \n",
       "       f1 micro  f1 macro  f1 micro  f1 macro   f1 micro  f1 macro\n",
       "score  0.850921  0.510381  0.874246  0.611823   0.030303  0.011696"
      ]
     },
     "metadata": {},
     "output_type": "display_data"
    },
    {
     "name": "stderr",
     "output_type": "stream",
     "text": [
      "Epoch 17: 100%|██████████| 299/299 [00:27<00:00, 10.71batch/s, loss_decrease=1.0000054605153899]\n",
      "100%|██████████| 1194/1194 [00:12<00:00, 98.76batch/s] \n"
     ]
    },
    {
     "data": {
      "text/html": [
       "<div>\n",
       "<style scoped>\n",
       "    .dataframe tbody tr th:only-of-type {\n",
       "        vertical-align: middle;\n",
       "    }\n",
       "\n",
       "    .dataframe tbody tr th {\n",
       "        vertical-align: top;\n",
       "    }\n",
       "\n",
       "    .dataframe thead tr th {\n",
       "        text-align: left;\n",
       "    }\n",
       "</style>\n",
       "<table border=\"1\" class=\"dataframe\">\n",
       "  <thead>\n",
       "    <tr>\n",
       "      <th></th>\n",
       "      <th colspan=\"2\" halign=\"left\">All</th>\n",
       "      <th colspan=\"2\" halign=\"left\">In VOC</th>\n",
       "      <th colspan=\"2\" halign=\"left\">Out of VOC</th>\n",
       "    </tr>\n",
       "    <tr>\n",
       "      <th></th>\n",
       "      <th>f1 micro</th>\n",
       "      <th>f1 macro</th>\n",
       "      <th>f1 micro</th>\n",
       "      <th>f1 macro</th>\n",
       "      <th>f1 micro</th>\n",
       "      <th>f1 macro</th>\n",
       "    </tr>\n",
       "  </thead>\n",
       "  <tbody>\n",
       "    <tr>\n",
       "      <th>score</th>\n",
       "      <td>0.855109</td>\n",
       "      <td>0.519655</td>\n",
       "      <td>0.877692</td>\n",
       "      <td>0.611712</td>\n",
       "      <td>0.060606</td>\n",
       "      <td>0.035088</td>\n",
       "    </tr>\n",
       "  </tbody>\n",
       "</table>\n",
       "</div>"
      ],
      "text/plain": [
       "            All              In VOC           Out of VOC          \n",
       "       f1 micro  f1 macro  f1 micro  f1 macro   f1 micro  f1 macro\n",
       "score  0.855109  0.519655  0.877692  0.611712   0.060606  0.035088"
      ]
     },
     "metadata": {},
     "output_type": "display_data"
    },
    {
     "name": "stderr",
     "output_type": "stream",
     "text": [
      "Epoch 18: 100%|██████████| 299/299 [00:26<00:00, 11.32batch/s, loss_decrease=1.0000053663680675]\n",
      "100%|██████████| 1194/1194 [00:12<00:00, 97.21batch/s] \n"
     ]
    },
    {
     "data": {
      "text/html": [
       "<div>\n",
       "<style scoped>\n",
       "    .dataframe tbody tr th:only-of-type {\n",
       "        vertical-align: middle;\n",
       "    }\n",
       "\n",
       "    .dataframe tbody tr th {\n",
       "        vertical-align: top;\n",
       "    }\n",
       "\n",
       "    .dataframe thead tr th {\n",
       "        text-align: left;\n",
       "    }\n",
       "</style>\n",
       "<table border=\"1\" class=\"dataframe\">\n",
       "  <thead>\n",
       "    <tr>\n",
       "      <th></th>\n",
       "      <th colspan=\"2\" halign=\"left\">All</th>\n",
       "      <th colspan=\"2\" halign=\"left\">In VOC</th>\n",
       "      <th colspan=\"2\" halign=\"left\">Out of VOC</th>\n",
       "    </tr>\n",
       "    <tr>\n",
       "      <th></th>\n",
       "      <th>f1 micro</th>\n",
       "      <th>f1 macro</th>\n",
       "      <th>f1 micro</th>\n",
       "      <th>f1 macro</th>\n",
       "      <th>f1 micro</th>\n",
       "      <th>f1 macro</th>\n",
       "    </tr>\n",
       "  </thead>\n",
       "  <tbody>\n",
       "    <tr>\n",
       "      <th>score</th>\n",
       "      <td>0.846734</td>\n",
       "      <td>0.525302</td>\n",
       "      <td>0.869078</td>\n",
       "      <td>0.622514</td>\n",
       "      <td>0.060606</td>\n",
       "      <td>0.037037</td>\n",
       "    </tr>\n",
       "  </tbody>\n",
       "</table>\n",
       "</div>"
      ],
      "text/plain": [
       "            All              In VOC           Out of VOC          \n",
       "       f1 micro  f1 macro  f1 micro  f1 macro   f1 micro  f1 macro\n",
       "score  0.846734  0.525302  0.869078  0.622514   0.060606  0.037037"
      ]
     },
     "metadata": {},
     "output_type": "display_data"
    },
    {
     "name": "stderr",
     "output_type": "stream",
     "text": [
      "Epoch 19: 100%|██████████| 299/299 [00:26<00:00, 11.22batch/s, loss_decrease=1.0000054605153899]\n",
      "100%|██████████| 1194/1194 [00:12<00:00, 95.44batch/s]\n"
     ]
    },
    {
     "data": {
      "text/html": [
       "<div>\n",
       "<style scoped>\n",
       "    .dataframe tbody tr th:only-of-type {\n",
       "        vertical-align: middle;\n",
       "    }\n",
       "\n",
       "    .dataframe tbody tr th {\n",
       "        vertical-align: top;\n",
       "    }\n",
       "\n",
       "    .dataframe thead tr th {\n",
       "        text-align: left;\n",
       "    }\n",
       "</style>\n",
       "<table border=\"1\" class=\"dataframe\">\n",
       "  <thead>\n",
       "    <tr>\n",
       "      <th></th>\n",
       "      <th colspan=\"2\" halign=\"left\">All</th>\n",
       "      <th colspan=\"2\" halign=\"left\">In VOC</th>\n",
       "      <th colspan=\"2\" halign=\"left\">Out of VOC</th>\n",
       "    </tr>\n",
       "    <tr>\n",
       "      <th></th>\n",
       "      <th>f1 micro</th>\n",
       "      <th>f1 macro</th>\n",
       "      <th>f1 micro</th>\n",
       "      <th>f1 macro</th>\n",
       "      <th>f1 micro</th>\n",
       "      <th>f1 macro</th>\n",
       "    </tr>\n",
       "  </thead>\n",
       "  <tbody>\n",
       "    <tr>\n",
       "      <th>score</th>\n",
       "      <td>0.865997</td>\n",
       "      <td>0.542744</td>\n",
       "      <td>0.888028</td>\n",
       "      <td>0.641377</td>\n",
       "      <td>0.090909</td>\n",
       "      <td>0.046784</td>\n",
       "    </tr>\n",
       "  </tbody>\n",
       "</table>\n",
       "</div>"
      ],
      "text/plain": [
       "            All              In VOC           Out of VOC          \n",
       "       f1 micro  f1 macro  f1 micro  f1 macro   f1 micro  f1 macro\n",
       "score  0.865997  0.542744  0.888028  0.641377   0.090909  0.046784"
      ]
     },
     "metadata": {},
     "output_type": "display_data"
    },
    {
     "name": "stderr",
     "output_type": "stream",
     "text": [
      "Epoch 20: 100%|██████████| 299/299 [00:27<00:00, 10.94batch/s, loss_decrease=1.0000055546627298]\n",
      "100%|██████████| 1194/1194 [00:13<00:00, 90.87batch/s] \n"
     ]
    },
    {
     "data": {
      "text/html": [
       "<div>\n",
       "<style scoped>\n",
       "    .dataframe tbody tr th:only-of-type {\n",
       "        vertical-align: middle;\n",
       "    }\n",
       "\n",
       "    .dataframe tbody tr th {\n",
       "        vertical-align: top;\n",
       "    }\n",
       "\n",
       "    .dataframe thead tr th {\n",
       "        text-align: left;\n",
       "    }\n",
       "</style>\n",
       "<table border=\"1\" class=\"dataframe\">\n",
       "  <thead>\n",
       "    <tr>\n",
       "      <th></th>\n",
       "      <th colspan=\"2\" halign=\"left\">All</th>\n",
       "      <th colspan=\"2\" halign=\"left\">In VOC</th>\n",
       "      <th colspan=\"2\" halign=\"left\">Out of VOC</th>\n",
       "    </tr>\n",
       "    <tr>\n",
       "      <th></th>\n",
       "      <th>f1 micro</th>\n",
       "      <th>f1 macro</th>\n",
       "      <th>f1 micro</th>\n",
       "      <th>f1 macro</th>\n",
       "      <th>f1 micro</th>\n",
       "      <th>f1 macro</th>\n",
       "    </tr>\n",
       "  </thead>\n",
       "  <tbody>\n",
       "    <tr>\n",
       "      <th>score</th>\n",
       "      <td>0.860972</td>\n",
       "      <td>0.53485</td>\n",
       "      <td>0.883721</td>\n",
       "      <td>0.639659</td>\n",
       "      <td>0.060606</td>\n",
       "      <td>0.029762</td>\n",
       "    </tr>\n",
       "  </tbody>\n",
       "</table>\n",
       "</div>"
      ],
      "text/plain": [
       "            All             In VOC           Out of VOC          \n",
       "       f1 micro f1 macro  f1 micro  f1 macro   f1 micro  f1 macro\n",
       "score  0.860972  0.53485  0.883721  0.639659   0.060606  0.029762"
      ]
     },
     "metadata": {},
     "output_type": "display_data"
    },
    {
     "name": "stderr",
     "output_type": "stream",
     "text": [
      "Epoch 21: 100%|██████████| 299/299 [00:27<00:00, 11.00batch/s, loss_decrease=1.0000055546627298]\n",
      "100%|██████████| 1194/1194 [00:12<00:00, 94.90batch/s]\n"
     ]
    },
    {
     "data": {
      "text/html": [
       "<div>\n",
       "<style scoped>\n",
       "    .dataframe tbody tr th:only-of-type {\n",
       "        vertical-align: middle;\n",
       "    }\n",
       "\n",
       "    .dataframe tbody tr th {\n",
       "        vertical-align: top;\n",
       "    }\n",
       "\n",
       "    .dataframe thead tr th {\n",
       "        text-align: left;\n",
       "    }\n",
       "</style>\n",
       "<table border=\"1\" class=\"dataframe\">\n",
       "  <thead>\n",
       "    <tr>\n",
       "      <th></th>\n",
       "      <th colspan=\"2\" halign=\"left\">All</th>\n",
       "      <th colspan=\"2\" halign=\"left\">In VOC</th>\n",
       "      <th colspan=\"2\" halign=\"left\">Out of VOC</th>\n",
       "    </tr>\n",
       "    <tr>\n",
       "      <th></th>\n",
       "      <th>f1 micro</th>\n",
       "      <th>f1 macro</th>\n",
       "      <th>f1 micro</th>\n",
       "      <th>f1 macro</th>\n",
       "      <th>f1 micro</th>\n",
       "      <th>f1 macro</th>\n",
       "    </tr>\n",
       "  </thead>\n",
       "  <tbody>\n",
       "    <tr>\n",
       "      <th>score</th>\n",
       "      <td>0.865997</td>\n",
       "      <td>0.543636</td>\n",
       "      <td>0.888028</td>\n",
       "      <td>0.644816</td>\n",
       "      <td>0.090909</td>\n",
       "      <td>0.047619</td>\n",
       "    </tr>\n",
       "  </tbody>\n",
       "</table>\n",
       "</div>"
      ],
      "text/plain": [
       "            All              In VOC           Out of VOC          \n",
       "       f1 micro  f1 macro  f1 micro  f1 macro   f1 micro  f1 macro\n",
       "score  0.865997  0.543636  0.888028  0.644816   0.090909  0.047619"
      ]
     },
     "metadata": {},
     "output_type": "display_data"
    },
    {
     "name": "stderr",
     "output_type": "stream",
     "text": [
      "Epoch 22: 100%|██████████| 299/299 [00:27<00:00, 10.91batch/s, loss_decrease=1.0000055546627298]\n",
      "100%|██████████| 1194/1194 [00:12<00:00, 96.60batch/s] \n"
     ]
    },
    {
     "data": {
      "text/html": [
       "<div>\n",
       "<style scoped>\n",
       "    .dataframe tbody tr th:only-of-type {\n",
       "        vertical-align: middle;\n",
       "    }\n",
       "\n",
       "    .dataframe tbody tr th {\n",
       "        vertical-align: top;\n",
       "    }\n",
       "\n",
       "    .dataframe thead tr th {\n",
       "        text-align: left;\n",
       "    }\n",
       "</style>\n",
       "<table border=\"1\" class=\"dataframe\">\n",
       "  <thead>\n",
       "    <tr>\n",
       "      <th></th>\n",
       "      <th colspan=\"2\" halign=\"left\">All</th>\n",
       "      <th colspan=\"2\" halign=\"left\">In VOC</th>\n",
       "      <th colspan=\"2\" halign=\"left\">Out of VOC</th>\n",
       "    </tr>\n",
       "    <tr>\n",
       "      <th></th>\n",
       "      <th>f1 micro</th>\n",
       "      <th>f1 macro</th>\n",
       "      <th>f1 micro</th>\n",
       "      <th>f1 macro</th>\n",
       "      <th>f1 micro</th>\n",
       "      <th>f1 macro</th>\n",
       "    </tr>\n",
       "  </thead>\n",
       "  <tbody>\n",
       "    <tr>\n",
       "      <th>score</th>\n",
       "      <td>0.863484</td>\n",
       "      <td>0.538596</td>\n",
       "      <td>0.886305</td>\n",
       "      <td>0.638681</td>\n",
       "      <td>0.060606</td>\n",
       "      <td>0.036364</td>\n",
       "    </tr>\n",
       "  </tbody>\n",
       "</table>\n",
       "</div>"
      ],
      "text/plain": [
       "            All              In VOC           Out of VOC          \n",
       "       f1 micro  f1 macro  f1 micro  f1 macro   f1 micro  f1 macro\n",
       "score  0.863484  0.538596  0.886305  0.638681   0.060606  0.036364"
      ]
     },
     "metadata": {},
     "output_type": "display_data"
    },
    {
     "name": "stderr",
     "output_type": "stream",
     "text": [
      "Epoch 23: 100%|██████████| 299/299 [00:26<00:00, 11.22batch/s, loss_decrease=1.0000055546627298]\n",
      "100%|██████████| 1194/1194 [00:12<00:00, 95.01batch/s] \n"
     ]
    },
    {
     "data": {
      "text/html": [
       "<div>\n",
       "<style scoped>\n",
       "    .dataframe tbody tr th:only-of-type {\n",
       "        vertical-align: middle;\n",
       "    }\n",
       "\n",
       "    .dataframe tbody tr th {\n",
       "        vertical-align: top;\n",
       "    }\n",
       "\n",
       "    .dataframe thead tr th {\n",
       "        text-align: left;\n",
       "    }\n",
       "</style>\n",
       "<table border=\"1\" class=\"dataframe\">\n",
       "  <thead>\n",
       "    <tr>\n",
       "      <th></th>\n",
       "      <th colspan=\"2\" halign=\"left\">All</th>\n",
       "      <th colspan=\"2\" halign=\"left\">In VOC</th>\n",
       "      <th colspan=\"2\" halign=\"left\">Out of VOC</th>\n",
       "    </tr>\n",
       "    <tr>\n",
       "      <th></th>\n",
       "      <th>f1 micro</th>\n",
       "      <th>f1 macro</th>\n",
       "      <th>f1 micro</th>\n",
       "      <th>f1 macro</th>\n",
       "      <th>f1 micro</th>\n",
       "      <th>f1 macro</th>\n",
       "    </tr>\n",
       "  </thead>\n",
       "  <tbody>\n",
       "    <tr>\n",
       "      <th>score</th>\n",
       "      <td>0.863484</td>\n",
       "      <td>0.530973</td>\n",
       "      <td>0.886305</td>\n",
       "      <td>0.639027</td>\n",
       "      <td>0.060606</td>\n",
       "      <td>0.029762</td>\n",
       "    </tr>\n",
       "  </tbody>\n",
       "</table>\n",
       "</div>"
      ],
      "text/plain": [
       "            All              In VOC           Out of VOC          \n",
       "       f1 micro  f1 macro  f1 micro  f1 macro   f1 micro  f1 macro\n",
       "score  0.863484  0.530973  0.886305  0.639027   0.060606  0.029762"
      ]
     },
     "metadata": {},
     "output_type": "display_data"
    },
    {
     "name": "stderr",
     "output_type": "stream",
     "text": [
      "Epoch 24: 100%|██████████| 299/299 [00:28<00:00, 10.64batch/s, loss_decrease=1.0000055546627298]\n",
      "100%|██████████| 1194/1194 [00:12<00:00, 96.67batch/s] \n"
     ]
    },
    {
     "data": {
      "text/html": [
       "<div>\n",
       "<style scoped>\n",
       "    .dataframe tbody tr th:only-of-type {\n",
       "        vertical-align: middle;\n",
       "    }\n",
       "\n",
       "    .dataframe tbody tr th {\n",
       "        vertical-align: top;\n",
       "    }\n",
       "\n",
       "    .dataframe thead tr th {\n",
       "        text-align: left;\n",
       "    }\n",
       "</style>\n",
       "<table border=\"1\" class=\"dataframe\">\n",
       "  <thead>\n",
       "    <tr>\n",
       "      <th></th>\n",
       "      <th colspan=\"2\" halign=\"left\">All</th>\n",
       "      <th colspan=\"2\" halign=\"left\">In VOC</th>\n",
       "      <th colspan=\"2\" halign=\"left\">Out of VOC</th>\n",
       "    </tr>\n",
       "    <tr>\n",
       "      <th></th>\n",
       "      <th>f1 micro</th>\n",
       "      <th>f1 macro</th>\n",
       "      <th>f1 micro</th>\n",
       "      <th>f1 macro</th>\n",
       "      <th>f1 micro</th>\n",
       "      <th>f1 macro</th>\n",
       "    </tr>\n",
       "  </thead>\n",
       "  <tbody>\n",
       "    <tr>\n",
       "      <th>score</th>\n",
       "      <td>0.869347</td>\n",
       "      <td>0.546185</td>\n",
       "      <td>0.892334</td>\n",
       "      <td>0.651974</td>\n",
       "      <td>0.060606</td>\n",
       "      <td>0.030303</td>\n",
       "    </tr>\n",
       "  </tbody>\n",
       "</table>\n",
       "</div>"
      ],
      "text/plain": [
       "            All              In VOC           Out of VOC          \n",
       "       f1 micro  f1 macro  f1 micro  f1 macro   f1 micro  f1 macro\n",
       "score  0.869347  0.546185  0.892334  0.651974   0.060606  0.030303"
      ]
     },
     "metadata": {},
     "output_type": "display_data"
    },
    {
     "name": "stderr",
     "output_type": "stream",
     "text": [
      "Epoch 25: 100%|██████████| 299/299 [00:26<00:00, 11.19batch/s, loss_decrease=1.0000055546627298]\n",
      "100%|██████████| 1194/1194 [00:12<00:00, 96.02batch/s]\n"
     ]
    },
    {
     "data": {
      "text/html": [
       "<div>\n",
       "<style scoped>\n",
       "    .dataframe tbody tr th:only-of-type {\n",
       "        vertical-align: middle;\n",
       "    }\n",
       "\n",
       "    .dataframe tbody tr th {\n",
       "        vertical-align: top;\n",
       "    }\n",
       "\n",
       "    .dataframe thead tr th {\n",
       "        text-align: left;\n",
       "    }\n",
       "</style>\n",
       "<table border=\"1\" class=\"dataframe\">\n",
       "  <thead>\n",
       "    <tr>\n",
       "      <th></th>\n",
       "      <th colspan=\"2\" halign=\"left\">All</th>\n",
       "      <th colspan=\"2\" halign=\"left\">In VOC</th>\n",
       "      <th colspan=\"2\" halign=\"left\">Out of VOC</th>\n",
       "    </tr>\n",
       "    <tr>\n",
       "      <th></th>\n",
       "      <th>f1 micro</th>\n",
       "      <th>f1 macro</th>\n",
       "      <th>f1 micro</th>\n",
       "      <th>f1 macro</th>\n",
       "      <th>f1 micro</th>\n",
       "      <th>f1 macro</th>\n",
       "    </tr>\n",
       "  </thead>\n",
       "  <tbody>\n",
       "    <tr>\n",
       "      <th>score</th>\n",
       "      <td>0.858459</td>\n",
       "      <td>0.527303</td>\n",
       "      <td>0.881998</td>\n",
       "      <td>0.635403</td>\n",
       "      <td>0.030303</td>\n",
       "      <td>0.017241</td>\n",
       "    </tr>\n",
       "  </tbody>\n",
       "</table>\n",
       "</div>"
      ],
      "text/plain": [
       "            All              In VOC           Out of VOC          \n",
       "       f1 micro  f1 macro  f1 micro  f1 macro   f1 micro  f1 macro\n",
       "score  0.858459  0.527303  0.881998  0.635403   0.030303  0.017241"
      ]
     },
     "metadata": {},
     "output_type": "display_data"
    },
    {
     "name": "stdout",
     "output_type": "stream",
     "text": [
      "Finished Training\n",
      "exp: 2\n",
      "\n"
     ]
    },
    {
     "name": "stderr",
     "output_type": "stream",
     "text": [
      "Some weights of the model checkpoint at roberta-base were not used when initializing RobertaModel: ['lm_head.dense.weight', 'lm_head.decoder.weight', 'lm_head.bias', 'lm_head.dense.bias', 'lm_head.layer_norm.weight', 'lm_head.layer_norm.bias']\n",
      "- This IS expected if you are initializing RobertaModel from the checkpoint of a model trained on another task or with another architecture (e.g. initializing a BertForSequenceClassification model from a BertForPreTraining model).\n",
      "- This IS NOT expected if you are initializing RobertaModel from the checkpoint of a model that you expect to be exactly identical (initializing a BertForSequenceClassification model from a BertForSequenceClassification model).\n"
     ]
    },
    {
     "name": "stdout",
     "output_type": "stream",
     "text": [
      "Net loaded\n"
     ]
    },
    {
     "name": "stderr",
     "output_type": "stream",
     "text": [
      "Epoch 1: 100%|██████████| 299/299 [00:28<00:00, 10.58batch/s, loss_decrease=1.0000031068376507]\n",
      "100%|██████████| 1193/1193 [00:13<00:00, 89.54batch/s]\n"
     ]
    },
    {
     "data": {
      "text/html": [
       "<div>\n",
       "<style scoped>\n",
       "    .dataframe tbody tr th:only-of-type {\n",
       "        vertical-align: middle;\n",
       "    }\n",
       "\n",
       "    .dataframe tbody tr th {\n",
       "        vertical-align: top;\n",
       "    }\n",
       "\n",
       "    .dataframe thead tr th {\n",
       "        text-align: left;\n",
       "    }\n",
       "</style>\n",
       "<table border=\"1\" class=\"dataframe\">\n",
       "  <thead>\n",
       "    <tr>\n",
       "      <th></th>\n",
       "      <th colspan=\"2\" halign=\"left\">All</th>\n",
       "      <th colspan=\"2\" halign=\"left\">In VOC</th>\n",
       "      <th colspan=\"2\" halign=\"left\">Out of VOC</th>\n",
       "    </tr>\n",
       "    <tr>\n",
       "      <th></th>\n",
       "      <th>f1 micro</th>\n",
       "      <th>f1 macro</th>\n",
       "      <th>f1 micro</th>\n",
       "      <th>f1 macro</th>\n",
       "      <th>f1 micro</th>\n",
       "      <th>f1 macro</th>\n",
       "    </tr>\n",
       "  </thead>\n",
       "  <tbody>\n",
       "    <tr>\n",
       "      <th>score</th>\n",
       "      <td>0.641241</td>\n",
       "      <td>0.218052</td>\n",
       "      <td>0.662338</td>\n",
       "      <td>0.260234</td>\n",
       "      <td>0.0</td>\n",
       "      <td>0.0</td>\n",
       "    </tr>\n",
       "  </tbody>\n",
       "</table>\n",
       "</div>"
      ],
      "text/plain": [
       "            All              In VOC           Out of VOC         \n",
       "       f1 micro  f1 macro  f1 micro  f1 macro   f1 micro f1 macro\n",
       "score  0.641241  0.218052  0.662338  0.260234        0.0      0.0"
      ]
     },
     "metadata": {},
     "output_type": "display_data"
    },
    {
     "name": "stderr",
     "output_type": "stream",
     "text": [
      "Epoch 2: 100%|██████████| 299/299 [00:28<00:00, 10.67batch/s, loss_decrease=1.000004142454491] \n",
      "100%|██████████| 1193/1193 [00:12<00:00, 94.92batch/s] \n"
     ]
    },
    {
     "data": {
      "text/html": [
       "<div>\n",
       "<style scoped>\n",
       "    .dataframe tbody tr th:only-of-type {\n",
       "        vertical-align: middle;\n",
       "    }\n",
       "\n",
       "    .dataframe tbody tr th {\n",
       "        vertical-align: top;\n",
       "    }\n",
       "\n",
       "    .dataframe thead tr th {\n",
       "        text-align: left;\n",
       "    }\n",
       "</style>\n",
       "<table border=\"1\" class=\"dataframe\">\n",
       "  <thead>\n",
       "    <tr>\n",
       "      <th></th>\n",
       "      <th colspan=\"2\" halign=\"left\">All</th>\n",
       "      <th colspan=\"2\" halign=\"left\">In VOC</th>\n",
       "      <th colspan=\"2\" halign=\"left\">Out of VOC</th>\n",
       "    </tr>\n",
       "    <tr>\n",
       "      <th></th>\n",
       "      <th>f1 micro</th>\n",
       "      <th>f1 macro</th>\n",
       "      <th>f1 micro</th>\n",
       "      <th>f1 macro</th>\n",
       "      <th>f1 micro</th>\n",
       "      <th>f1 macro</th>\n",
       "    </tr>\n",
       "  </thead>\n",
       "  <tbody>\n",
       "    <tr>\n",
       "      <th>score</th>\n",
       "      <td>0.735122</td>\n",
       "      <td>0.288753</td>\n",
       "      <td>0.759307</td>\n",
       "      <td>0.346874</td>\n",
       "      <td>0.0</td>\n",
       "      <td>0.0</td>\n",
       "    </tr>\n",
       "  </tbody>\n",
       "</table>\n",
       "</div>"
      ],
      "text/plain": [
       "            All              In VOC           Out of VOC         \n",
       "       f1 micro  f1 macro  f1 micro  f1 macro   f1 micro f1 macro\n",
       "score  0.735122  0.288753  0.759307  0.346874        0.0      0.0"
      ]
     },
     "metadata": {},
     "output_type": "display_data"
    },
    {
     "name": "stderr",
     "output_type": "stream",
     "text": [
      "Epoch 3: 100%|██████████| 299/299 [00:27<00:00, 10.84batch/s, loss_decrease=1.0000043307486923]\n",
      "100%|██████████| 1193/1193 [00:12<00:00, 96.33batch/s] \n"
     ]
    },
    {
     "data": {
      "text/html": [
       "<div>\n",
       "<style scoped>\n",
       "    .dataframe tbody tr th:only-of-type {\n",
       "        vertical-align: middle;\n",
       "    }\n",
       "\n",
       "    .dataframe tbody tr th {\n",
       "        vertical-align: top;\n",
       "    }\n",
       "\n",
       "    .dataframe thead tr th {\n",
       "        text-align: left;\n",
       "    }\n",
       "</style>\n",
       "<table border=\"1\" class=\"dataframe\">\n",
       "  <thead>\n",
       "    <tr>\n",
       "      <th></th>\n",
       "      <th colspan=\"2\" halign=\"left\">All</th>\n",
       "      <th colspan=\"2\" halign=\"left\">In VOC</th>\n",
       "      <th colspan=\"2\" halign=\"left\">Out of VOC</th>\n",
       "    </tr>\n",
       "    <tr>\n",
       "      <th></th>\n",
       "      <th>f1 micro</th>\n",
       "      <th>f1 macro</th>\n",
       "      <th>f1 micro</th>\n",
       "      <th>f1 macro</th>\n",
       "      <th>f1 micro</th>\n",
       "      <th>f1 macro</th>\n",
       "    </tr>\n",
       "  </thead>\n",
       "  <tbody>\n",
       "    <tr>\n",
       "      <th>score</th>\n",
       "      <td>0.762783</td>\n",
       "      <td>0.314381</td>\n",
       "      <td>0.787013</td>\n",
       "      <td>0.375293</td>\n",
       "      <td>0.026316</td>\n",
       "      <td>0.015152</td>\n",
       "    </tr>\n",
       "  </tbody>\n",
       "</table>\n",
       "</div>"
      ],
      "text/plain": [
       "            All              In VOC           Out of VOC          \n",
       "       f1 micro  f1 macro  f1 micro  f1 macro   f1 micro  f1 macro\n",
       "score  0.762783  0.314381  0.787013  0.375293   0.026316  0.015152"
      ]
     },
     "metadata": {},
     "output_type": "display_data"
    },
    {
     "name": "stderr",
     "output_type": "stream",
     "text": [
      "Epoch 4: 100%|██████████| 299/299 [00:27<00:00, 10.70batch/s, loss_decrease=1.000004801484506] \n",
      "100%|██████████| 1193/1193 [00:12<00:00, 95.25batch/s]\n"
     ]
    },
    {
     "data": {
      "text/html": [
       "<div>\n",
       "<style scoped>\n",
       "    .dataframe tbody tr th:only-of-type {\n",
       "        vertical-align: middle;\n",
       "    }\n",
       "\n",
       "    .dataframe tbody tr th {\n",
       "        vertical-align: top;\n",
       "    }\n",
       "\n",
       "    .dataframe thead tr th {\n",
       "        text-align: left;\n",
       "    }\n",
       "</style>\n",
       "<table border=\"1\" class=\"dataframe\">\n",
       "  <thead>\n",
       "    <tr>\n",
       "      <th></th>\n",
       "      <th colspan=\"2\" halign=\"left\">All</th>\n",
       "      <th colspan=\"2\" halign=\"left\">In VOC</th>\n",
       "      <th colspan=\"2\" halign=\"left\">Out of VOC</th>\n",
       "    </tr>\n",
       "    <tr>\n",
       "      <th></th>\n",
       "      <th>f1 micro</th>\n",
       "      <th>f1 macro</th>\n",
       "      <th>f1 micro</th>\n",
       "      <th>f1 macro</th>\n",
       "      <th>f1 micro</th>\n",
       "      <th>f1 macro</th>\n",
       "    </tr>\n",
       "  </thead>\n",
       "  <tbody>\n",
       "    <tr>\n",
       "      <th>score</th>\n",
       "      <td>0.774518</td>\n",
       "      <td>0.343314</td>\n",
       "      <td>0.797403</td>\n",
       "      <td>0.403416</td>\n",
       "      <td>0.078947</td>\n",
       "      <td>0.03125</td>\n",
       "    </tr>\n",
       "  </tbody>\n",
       "</table>\n",
       "</div>"
      ],
      "text/plain": [
       "            All              In VOC           Out of VOC         \n",
       "       f1 micro  f1 macro  f1 micro  f1 macro   f1 micro f1 macro\n",
       "score  0.774518  0.343314  0.797403  0.403416   0.078947  0.03125"
      ]
     },
     "metadata": {},
     "output_type": "display_data"
    },
    {
     "name": "stderr",
     "output_type": "stream",
     "text": [
      "Epoch 5: 100%|██████████| 299/299 [00:27<00:00, 10.99batch/s, loss_decrease=1.000004895631722] \n",
      "100%|██████████| 1193/1193 [00:12<00:00, 98.01batch/s] \n"
     ]
    },
    {
     "data": {
      "text/html": [
       "<div>\n",
       "<style scoped>\n",
       "    .dataframe tbody tr th:only-of-type {\n",
       "        vertical-align: middle;\n",
       "    }\n",
       "\n",
       "    .dataframe tbody tr th {\n",
       "        vertical-align: top;\n",
       "    }\n",
       "\n",
       "    .dataframe thead tr th {\n",
       "        text-align: left;\n",
       "    }\n",
       "</style>\n",
       "<table border=\"1\" class=\"dataframe\">\n",
       "  <thead>\n",
       "    <tr>\n",
       "      <th></th>\n",
       "      <th colspan=\"2\" halign=\"left\">All</th>\n",
       "      <th colspan=\"2\" halign=\"left\">In VOC</th>\n",
       "      <th colspan=\"2\" halign=\"left\">Out of VOC</th>\n",
       "    </tr>\n",
       "    <tr>\n",
       "      <th></th>\n",
       "      <th>f1 micro</th>\n",
       "      <th>f1 macro</th>\n",
       "      <th>f1 micro</th>\n",
       "      <th>f1 macro</th>\n",
       "      <th>f1 micro</th>\n",
       "      <th>f1 macro</th>\n",
       "    </tr>\n",
       "  </thead>\n",
       "  <tbody>\n",
       "    <tr>\n",
       "      <th>score</th>\n",
       "      <td>0.8114</td>\n",
       "      <td>0.425184</td>\n",
       "      <td>0.837229</td>\n",
       "      <td>0.518695</td>\n",
       "      <td>0.026316</td>\n",
       "      <td>0.015385</td>\n",
       "    </tr>\n",
       "  </tbody>\n",
       "</table>\n",
       "</div>"
      ],
      "text/plain": [
       "           All              In VOC           Out of VOC          \n",
       "      f1 micro  f1 macro  f1 micro  f1 macro   f1 micro  f1 macro\n",
       "score   0.8114  0.425184  0.837229  0.518695   0.026316  0.015385"
      ]
     },
     "metadata": {},
     "output_type": "display_data"
    },
    {
     "name": "stderr",
     "output_type": "stream",
     "text": [
      "Epoch 6: 100%|██████████| 299/299 [00:26<00:00, 11.34batch/s, loss_decrease=1.0000051780734762]\n",
      "100%|██████████| 1193/1193 [00:12<00:00, 97.71batch/s] \n"
     ]
    },
    {
     "data": {
      "text/html": [
       "<div>\n",
       "<style scoped>\n",
       "    .dataframe tbody tr th:only-of-type {\n",
       "        vertical-align: middle;\n",
       "    }\n",
       "\n",
       "    .dataframe tbody tr th {\n",
       "        vertical-align: top;\n",
       "    }\n",
       "\n",
       "    .dataframe thead tr th {\n",
       "        text-align: left;\n",
       "    }\n",
       "</style>\n",
       "<table border=\"1\" class=\"dataframe\">\n",
       "  <thead>\n",
       "    <tr>\n",
       "      <th></th>\n",
       "      <th colspan=\"2\" halign=\"left\">All</th>\n",
       "      <th colspan=\"2\" halign=\"left\">In VOC</th>\n",
       "      <th colspan=\"2\" halign=\"left\">Out of VOC</th>\n",
       "    </tr>\n",
       "    <tr>\n",
       "      <th></th>\n",
       "      <th>f1 micro</th>\n",
       "      <th>f1 macro</th>\n",
       "      <th>f1 micro</th>\n",
       "      <th>f1 macro</th>\n",
       "      <th>f1 micro</th>\n",
       "      <th>f1 macro</th>\n",
       "    </tr>\n",
       "  </thead>\n",
       "  <tbody>\n",
       "    <tr>\n",
       "      <th>score</th>\n",
       "      <td>0.824811</td>\n",
       "      <td>0.462741</td>\n",
       "      <td>0.850216</td>\n",
       "      <td>0.552173</td>\n",
       "      <td>0.052632</td>\n",
       "      <td>0.031746</td>\n",
       "    </tr>\n",
       "  </tbody>\n",
       "</table>\n",
       "</div>"
      ],
      "text/plain": [
       "            All              In VOC           Out of VOC          \n",
       "       f1 micro  f1 macro  f1 micro  f1 macro   f1 micro  f1 macro\n",
       "score  0.824811  0.462741  0.850216  0.552173   0.052632  0.031746"
      ]
     },
     "metadata": {},
     "output_type": "display_data"
    },
    {
     "name": "stderr",
     "output_type": "stream",
     "text": [
      "Epoch 7: 100%|██████████| 299/299 [00:27<00:00, 10.92batch/s, loss_decrease=1.0000051780734762]\n",
      "100%|██████████| 1193/1193 [00:12<00:00, 95.93batch/s]\n"
     ]
    },
    {
     "data": {
      "text/html": [
       "<div>\n",
       "<style scoped>\n",
       "    .dataframe tbody tr th:only-of-type {\n",
       "        vertical-align: middle;\n",
       "    }\n",
       "\n",
       "    .dataframe tbody tr th {\n",
       "        vertical-align: top;\n",
       "    }\n",
       "\n",
       "    .dataframe thead tr th {\n",
       "        text-align: left;\n",
       "    }\n",
       "</style>\n",
       "<table border=\"1\" class=\"dataframe\">\n",
       "  <thead>\n",
       "    <tr>\n",
       "      <th></th>\n",
       "      <th colspan=\"2\" halign=\"left\">All</th>\n",
       "      <th colspan=\"2\" halign=\"left\">In VOC</th>\n",
       "      <th colspan=\"2\" halign=\"left\">Out of VOC</th>\n",
       "    </tr>\n",
       "    <tr>\n",
       "      <th></th>\n",
       "      <th>f1 micro</th>\n",
       "      <th>f1 macro</th>\n",
       "      <th>f1 micro</th>\n",
       "      <th>f1 macro</th>\n",
       "      <th>f1 micro</th>\n",
       "      <th>f1 macro</th>\n",
       "    </tr>\n",
       "  </thead>\n",
       "  <tbody>\n",
       "    <tr>\n",
       "      <th>score</th>\n",
       "      <td>0.841576</td>\n",
       "      <td>0.475425</td>\n",
       "      <td>0.868398</td>\n",
       "      <td>0.574142</td>\n",
       "      <td>0.026316</td>\n",
       "      <td>0.015625</td>\n",
       "    </tr>\n",
       "  </tbody>\n",
       "</table>\n",
       "</div>"
      ],
      "text/plain": [
       "            All              In VOC           Out of VOC          \n",
       "       f1 micro  f1 macro  f1 micro  f1 macro   f1 micro  f1 macro\n",
       "score  0.841576  0.475425  0.868398  0.574142   0.026316  0.015625"
      ]
     },
     "metadata": {},
     "output_type": "display_data"
    },
    {
     "name": "stderr",
     "output_type": "stream",
     "text": [
      "Epoch 8: 100%|██████████| 299/299 [00:27<00:00, 10.85batch/s, loss_decrease=1.0000051780734762]\n",
      "100%|██████████| 1193/1193 [00:12<00:00, 98.71batch/s] \n"
     ]
    },
    {
     "data": {
      "text/html": [
       "<div>\n",
       "<style scoped>\n",
       "    .dataframe tbody tr th:only-of-type {\n",
       "        vertical-align: middle;\n",
       "    }\n",
       "\n",
       "    .dataframe tbody tr th {\n",
       "        vertical-align: top;\n",
       "    }\n",
       "\n",
       "    .dataframe thead tr th {\n",
       "        text-align: left;\n",
       "    }\n",
       "</style>\n",
       "<table border=\"1\" class=\"dataframe\">\n",
       "  <thead>\n",
       "    <tr>\n",
       "      <th></th>\n",
       "      <th colspan=\"2\" halign=\"left\">All</th>\n",
       "      <th colspan=\"2\" halign=\"left\">In VOC</th>\n",
       "      <th colspan=\"2\" halign=\"left\">Out of VOC</th>\n",
       "    </tr>\n",
       "    <tr>\n",
       "      <th></th>\n",
       "      <th>f1 micro</th>\n",
       "      <th>f1 macro</th>\n",
       "      <th>f1 micro</th>\n",
       "      <th>f1 macro</th>\n",
       "      <th>f1 micro</th>\n",
       "      <th>f1 macro</th>\n",
       "    </tr>\n",
       "  </thead>\n",
       "  <tbody>\n",
       "    <tr>\n",
       "      <th>score</th>\n",
       "      <td>0.847443</td>\n",
       "      <td>0.476594</td>\n",
       "      <td>0.874459</td>\n",
       "      <td>0.571403</td>\n",
       "      <td>0.026316</td>\n",
       "      <td>0.015385</td>\n",
       "    </tr>\n",
       "  </tbody>\n",
       "</table>\n",
       "</div>"
      ],
      "text/plain": [
       "            All              In VOC           Out of VOC          \n",
       "       f1 micro  f1 macro  f1 micro  f1 macro   f1 micro  f1 macro\n",
       "score  0.847443  0.476594  0.874459  0.571403   0.026316  0.015385"
      ]
     },
     "metadata": {},
     "output_type": "display_data"
    },
    {
     "name": "stderr",
     "output_type": "stream",
     "text": [
      "Epoch 9: 100%|██████████| 299/299 [00:27<00:00, 11.05batch/s, loss_decrease=1.0000052722207629]\n",
      "100%|██████████| 1193/1193 [00:12<00:00, 95.66batch/s] \n"
     ]
    },
    {
     "data": {
      "text/html": [
       "<div>\n",
       "<style scoped>\n",
       "    .dataframe tbody tr th:only-of-type {\n",
       "        vertical-align: middle;\n",
       "    }\n",
       "\n",
       "    .dataframe tbody tr th {\n",
       "        vertical-align: top;\n",
       "    }\n",
       "\n",
       "    .dataframe thead tr th {\n",
       "        text-align: left;\n",
       "    }\n",
       "</style>\n",
       "<table border=\"1\" class=\"dataframe\">\n",
       "  <thead>\n",
       "    <tr>\n",
       "      <th></th>\n",
       "      <th colspan=\"2\" halign=\"left\">All</th>\n",
       "      <th colspan=\"2\" halign=\"left\">In VOC</th>\n",
       "      <th colspan=\"2\" halign=\"left\">Out of VOC</th>\n",
       "    </tr>\n",
       "    <tr>\n",
       "      <th></th>\n",
       "      <th>f1 micro</th>\n",
       "      <th>f1 macro</th>\n",
       "      <th>f1 micro</th>\n",
       "      <th>f1 macro</th>\n",
       "      <th>f1 micro</th>\n",
       "      <th>f1 macro</th>\n",
       "    </tr>\n",
       "  </thead>\n",
       "  <tbody>\n",
       "    <tr>\n",
       "      <th>score</th>\n",
       "      <td>0.814753</td>\n",
       "      <td>0.500647</td>\n",
       "      <td>0.840693</td>\n",
       "      <td>0.605362</td>\n",
       "      <td>0.026316</td>\n",
       "      <td>0.015385</td>\n",
       "    </tr>\n",
       "  </tbody>\n",
       "</table>\n",
       "</div>"
      ],
      "text/plain": [
       "            All              In VOC           Out of VOC          \n",
       "       f1 micro  f1 macro  f1 micro  f1 macro   f1 micro  f1 macro\n",
       "score  0.814753  0.500647  0.840693  0.605362   0.026316  0.015385"
      ]
     },
     "metadata": {},
     "output_type": "display_data"
    },
    {
     "name": "stderr",
     "output_type": "stream",
     "text": [
      "Epoch 10: 100%|██████████| 299/299 [00:27<00:00, 10.74batch/s, loss_decrease=1.0000052722207629]\n",
      "100%|██████████| 1193/1193 [00:12<00:00, 96.89batch/s]\n"
     ]
    },
    {
     "data": {
      "text/html": [
       "<div>\n",
       "<style scoped>\n",
       "    .dataframe tbody tr th:only-of-type {\n",
       "        vertical-align: middle;\n",
       "    }\n",
       "\n",
       "    .dataframe tbody tr th {\n",
       "        vertical-align: top;\n",
       "    }\n",
       "\n",
       "    .dataframe thead tr th {\n",
       "        text-align: left;\n",
       "    }\n",
       "</style>\n",
       "<table border=\"1\" class=\"dataframe\">\n",
       "  <thead>\n",
       "    <tr>\n",
       "      <th></th>\n",
       "      <th colspan=\"2\" halign=\"left\">All</th>\n",
       "      <th colspan=\"2\" halign=\"left\">In VOC</th>\n",
       "      <th colspan=\"2\" halign=\"left\">Out of VOC</th>\n",
       "    </tr>\n",
       "    <tr>\n",
       "      <th></th>\n",
       "      <th>f1 micro</th>\n",
       "      <th>f1 macro</th>\n",
       "      <th>f1 micro</th>\n",
       "      <th>f1 macro</th>\n",
       "      <th>f1 micro</th>\n",
       "      <th>f1 macro</th>\n",
       "    </tr>\n",
       "  </thead>\n",
       "  <tbody>\n",
       "    <tr>\n",
       "      <th>score</th>\n",
       "      <td>0.853311</td>\n",
       "      <td>0.50963</td>\n",
       "      <td>0.880519</td>\n",
       "      <td>0.616993</td>\n",
       "      <td>0.026316</td>\n",
       "      <td>0.015625</td>\n",
       "    </tr>\n",
       "  </tbody>\n",
       "</table>\n",
       "</div>"
      ],
      "text/plain": [
       "            All             In VOC           Out of VOC          \n",
       "       f1 micro f1 macro  f1 micro  f1 macro   f1 micro  f1 macro\n",
       "score  0.853311  0.50963  0.880519  0.616993   0.026316  0.015625"
      ]
     },
     "metadata": {},
     "output_type": "display_data"
    },
    {
     "name": "stderr",
     "output_type": "stream",
     "text": [
      "Epoch 11: 100%|██████████| 299/299 [00:27<00:00, 10.87batch/s, loss_decrease=1.0000053663680675]\n",
      "100%|██████████| 1193/1193 [00:11<00:00, 100.03batch/s]\n"
     ]
    },
    {
     "data": {
      "text/html": [
       "<div>\n",
       "<style scoped>\n",
       "    .dataframe tbody tr th:only-of-type {\n",
       "        vertical-align: middle;\n",
       "    }\n",
       "\n",
       "    .dataframe tbody tr th {\n",
       "        vertical-align: top;\n",
       "    }\n",
       "\n",
       "    .dataframe thead tr th {\n",
       "        text-align: left;\n",
       "    }\n",
       "</style>\n",
       "<table border=\"1\" class=\"dataframe\">\n",
       "  <thead>\n",
       "    <tr>\n",
       "      <th></th>\n",
       "      <th colspan=\"2\" halign=\"left\">All</th>\n",
       "      <th colspan=\"2\" halign=\"left\">In VOC</th>\n",
       "      <th colspan=\"2\" halign=\"left\">Out of VOC</th>\n",
       "    </tr>\n",
       "    <tr>\n",
       "      <th></th>\n",
       "      <th>f1 micro</th>\n",
       "      <th>f1 macro</th>\n",
       "      <th>f1 micro</th>\n",
       "      <th>f1 macro</th>\n",
       "      <th>f1 micro</th>\n",
       "      <th>f1 macro</th>\n",
       "    </tr>\n",
       "  </thead>\n",
       "  <tbody>\n",
       "    <tr>\n",
       "      <th>score</th>\n",
       "      <td>0.847443</td>\n",
       "      <td>0.501404</td>\n",
       "      <td>0.874459</td>\n",
       "      <td>0.604504</td>\n",
       "      <td>0.026316</td>\n",
       "      <td>0.015625</td>\n",
       "    </tr>\n",
       "  </tbody>\n",
       "</table>\n",
       "</div>"
      ],
      "text/plain": [
       "            All              In VOC           Out of VOC          \n",
       "       f1 micro  f1 macro  f1 micro  f1 macro   f1 micro  f1 macro\n",
       "score  0.847443  0.501404  0.874459  0.604504   0.026316  0.015625"
      ]
     },
     "metadata": {},
     "output_type": "display_data"
    },
    {
     "name": "stderr",
     "output_type": "stream",
     "text": [
      "Epoch 12: 100%|██████████| 299/299 [00:18<00:00, 15.76batch/s, loss_decrease=1.0000054605153899]\n",
      "100%|██████████| 1193/1193 [00:12<00:00, 98.40batch/s] \n"
     ]
    },
    {
     "data": {
      "text/html": [
       "<div>\n",
       "<style scoped>\n",
       "    .dataframe tbody tr th:only-of-type {\n",
       "        vertical-align: middle;\n",
       "    }\n",
       "\n",
       "    .dataframe tbody tr th {\n",
       "        vertical-align: top;\n",
       "    }\n",
       "\n",
       "    .dataframe thead tr th {\n",
       "        text-align: left;\n",
       "    }\n",
       "</style>\n",
       "<table border=\"1\" class=\"dataframe\">\n",
       "  <thead>\n",
       "    <tr>\n",
       "      <th></th>\n",
       "      <th colspan=\"2\" halign=\"left\">All</th>\n",
       "      <th colspan=\"2\" halign=\"left\">In VOC</th>\n",
       "      <th colspan=\"2\" halign=\"left\">Out of VOC</th>\n",
       "    </tr>\n",
       "    <tr>\n",
       "      <th></th>\n",
       "      <th>f1 micro</th>\n",
       "      <th>f1 macro</th>\n",
       "      <th>f1 micro</th>\n",
       "      <th>f1 macro</th>\n",
       "      <th>f1 micro</th>\n",
       "      <th>f1 macro</th>\n",
       "    </tr>\n",
       "  </thead>\n",
       "  <tbody>\n",
       "    <tr>\n",
       "      <th>score</th>\n",
       "      <td>0.854987</td>\n",
       "      <td>0.518136</td>\n",
       "      <td>0.882251</td>\n",
       "      <td>0.631122</td>\n",
       "      <td>0.026316</td>\n",
       "      <td>0.015385</td>\n",
       "    </tr>\n",
       "  </tbody>\n",
       "</table>\n",
       "</div>"
      ],
      "text/plain": [
       "            All              In VOC           Out of VOC          \n",
       "       f1 micro  f1 macro  f1 micro  f1 macro   f1 micro  f1 macro\n",
       "score  0.854987  0.518136  0.882251  0.631122   0.026316  0.015385"
      ]
     },
     "metadata": {},
     "output_type": "display_data"
    },
    {
     "name": "stderr",
     "output_type": "stream",
     "text": [
      "Epoch 13: 100%|██████████| 299/299 [00:18<00:00, 15.81batch/s, loss_decrease=1.0000053663680675]\n",
      "100%|██████████| 1193/1193 [00:12<00:00, 99.27batch/s] \n"
     ]
    },
    {
     "data": {
      "text/html": [
       "<div>\n",
       "<style scoped>\n",
       "    .dataframe tbody tr th:only-of-type {\n",
       "        vertical-align: middle;\n",
       "    }\n",
       "\n",
       "    .dataframe tbody tr th {\n",
       "        vertical-align: top;\n",
       "    }\n",
       "\n",
       "    .dataframe thead tr th {\n",
       "        text-align: left;\n",
       "    }\n",
       "</style>\n",
       "<table border=\"1\" class=\"dataframe\">\n",
       "  <thead>\n",
       "    <tr>\n",
       "      <th></th>\n",
       "      <th colspan=\"2\" halign=\"left\">All</th>\n",
       "      <th colspan=\"2\" halign=\"left\">In VOC</th>\n",
       "      <th colspan=\"2\" halign=\"left\">Out of VOC</th>\n",
       "    </tr>\n",
       "    <tr>\n",
       "      <th></th>\n",
       "      <th>f1 micro</th>\n",
       "      <th>f1 macro</th>\n",
       "      <th>f1 micro</th>\n",
       "      <th>f1 macro</th>\n",
       "      <th>f1 micro</th>\n",
       "      <th>f1 macro</th>\n",
       "    </tr>\n",
       "  </thead>\n",
       "  <tbody>\n",
       "    <tr>\n",
       "      <th>score</th>\n",
       "      <td>0.85834</td>\n",
       "      <td>0.527864</td>\n",
       "      <td>0.884848</td>\n",
       "      <td>0.639968</td>\n",
       "      <td>0.052632</td>\n",
       "      <td>0.030769</td>\n",
       "    </tr>\n",
       "  </tbody>\n",
       "</table>\n",
       "</div>"
      ],
      "text/plain": [
       "           All              In VOC           Out of VOC          \n",
       "      f1 micro  f1 macro  f1 micro  f1 macro   f1 micro  f1 macro\n",
       "score  0.85834  0.527864  0.884848  0.639968   0.052632  0.030769"
      ]
     },
     "metadata": {},
     "output_type": "display_data"
    },
    {
     "name": "stderr",
     "output_type": "stream",
     "text": [
      "Epoch 14: 100%|██████████| 299/299 [00:22<00:00, 13.30batch/s, loss_decrease=1.0000054605153899]\n",
      "100%|██████████| 1193/1193 [00:12<00:00, 98.84batch/s] \n"
     ]
    },
    {
     "data": {
      "text/html": [
       "<div>\n",
       "<style scoped>\n",
       "    .dataframe tbody tr th:only-of-type {\n",
       "        vertical-align: middle;\n",
       "    }\n",
       "\n",
       "    .dataframe tbody tr th {\n",
       "        vertical-align: top;\n",
       "    }\n",
       "\n",
       "    .dataframe thead tr th {\n",
       "        text-align: left;\n",
       "    }\n",
       "</style>\n",
       "<table border=\"1\" class=\"dataframe\">\n",
       "  <thead>\n",
       "    <tr>\n",
       "      <th></th>\n",
       "      <th colspan=\"2\" halign=\"left\">All</th>\n",
       "      <th colspan=\"2\" halign=\"left\">In VOC</th>\n",
       "      <th colspan=\"2\" halign=\"left\">Out of VOC</th>\n",
       "    </tr>\n",
       "    <tr>\n",
       "      <th></th>\n",
       "      <th>f1 micro</th>\n",
       "      <th>f1 macro</th>\n",
       "      <th>f1 micro</th>\n",
       "      <th>f1 macro</th>\n",
       "      <th>f1 micro</th>\n",
       "      <th>f1 macro</th>\n",
       "    </tr>\n",
       "  </thead>\n",
       "  <tbody>\n",
       "    <tr>\n",
       "      <th>score</th>\n",
       "      <td>0.856664</td>\n",
       "      <td>0.525825</td>\n",
       "      <td>0.883117</td>\n",
       "      <td>0.633594</td>\n",
       "      <td>0.052632</td>\n",
       "      <td>0.030303</td>\n",
       "    </tr>\n",
       "  </tbody>\n",
       "</table>\n",
       "</div>"
      ],
      "text/plain": [
       "            All              In VOC           Out of VOC          \n",
       "       f1 micro  f1 macro  f1 micro  f1 macro   f1 micro  f1 macro\n",
       "score  0.856664  0.525825  0.883117  0.633594   0.052632  0.030303"
      ]
     },
     "metadata": {},
     "output_type": "display_data"
    },
    {
     "name": "stderr",
     "output_type": "stream",
     "text": [
      "Epoch 15: 100%|██████████| 299/299 [00:27<00:00, 10.99batch/s, loss_decrease=1.0000054605153899]\n",
      "100%|██████████| 1193/1193 [00:12<00:00, 97.36batch/s] \n"
     ]
    },
    {
     "data": {
      "text/html": [
       "<div>\n",
       "<style scoped>\n",
       "    .dataframe tbody tr th:only-of-type {\n",
       "        vertical-align: middle;\n",
       "    }\n",
       "\n",
       "    .dataframe tbody tr th {\n",
       "        vertical-align: top;\n",
       "    }\n",
       "\n",
       "    .dataframe thead tr th {\n",
       "        text-align: left;\n",
       "    }\n",
       "</style>\n",
       "<table border=\"1\" class=\"dataframe\">\n",
       "  <thead>\n",
       "    <tr>\n",
       "      <th></th>\n",
       "      <th colspan=\"2\" halign=\"left\">All</th>\n",
       "      <th colspan=\"2\" halign=\"left\">In VOC</th>\n",
       "      <th colspan=\"2\" halign=\"left\">Out of VOC</th>\n",
       "    </tr>\n",
       "    <tr>\n",
       "      <th></th>\n",
       "      <th>f1 micro</th>\n",
       "      <th>f1 macro</th>\n",
       "      <th>f1 micro</th>\n",
       "      <th>f1 macro</th>\n",
       "      <th>f1 micro</th>\n",
       "      <th>f1 macro</th>\n",
       "    </tr>\n",
       "  </thead>\n",
       "  <tbody>\n",
       "    <tr>\n",
       "      <th>score</th>\n",
       "      <td>0.85834</td>\n",
       "      <td>0.535764</td>\n",
       "      <td>0.884848</td>\n",
       "      <td>0.641759</td>\n",
       "      <td>0.052632</td>\n",
       "      <td>0.030769</td>\n",
       "    </tr>\n",
       "  </tbody>\n",
       "</table>\n",
       "</div>"
      ],
      "text/plain": [
       "           All              In VOC           Out of VOC          \n",
       "      f1 micro  f1 macro  f1 micro  f1 macro   f1 micro  f1 macro\n",
       "score  0.85834  0.535764  0.884848  0.641759   0.052632  0.030769"
      ]
     },
     "metadata": {},
     "output_type": "display_data"
    },
    {
     "name": "stderr",
     "output_type": "stream",
     "text": [
      "Epoch 16: 100%|██████████| 299/299 [00:27<00:00, 10.91batch/s, loss_decrease=1.0000054605153899]\n",
      "100%|██████████| 1193/1193 [00:12<00:00, 98.06batch/s] \n"
     ]
    },
    {
     "data": {
      "text/html": [
       "<div>\n",
       "<style scoped>\n",
       "    .dataframe tbody tr th:only-of-type {\n",
       "        vertical-align: middle;\n",
       "    }\n",
       "\n",
       "    .dataframe tbody tr th {\n",
       "        vertical-align: top;\n",
       "    }\n",
       "\n",
       "    .dataframe thead tr th {\n",
       "        text-align: left;\n",
       "    }\n",
       "</style>\n",
       "<table border=\"1\" class=\"dataframe\">\n",
       "  <thead>\n",
       "    <tr>\n",
       "      <th></th>\n",
       "      <th colspan=\"2\" halign=\"left\">All</th>\n",
       "      <th colspan=\"2\" halign=\"left\">In VOC</th>\n",
       "      <th colspan=\"2\" halign=\"left\">Out of VOC</th>\n",
       "    </tr>\n",
       "    <tr>\n",
       "      <th></th>\n",
       "      <th>f1 micro</th>\n",
       "      <th>f1 macro</th>\n",
       "      <th>f1 micro</th>\n",
       "      <th>f1 macro</th>\n",
       "      <th>f1 micro</th>\n",
       "      <th>f1 macro</th>\n",
       "    </tr>\n",
       "  </thead>\n",
       "  <tbody>\n",
       "    <tr>\n",
       "      <th>score</th>\n",
       "      <td>0.856664</td>\n",
       "      <td>0.554424</td>\n",
       "      <td>0.880519</td>\n",
       "      <td>0.655047</td>\n",
       "      <td>0.131579</td>\n",
       "      <td>0.064516</td>\n",
       "    </tr>\n",
       "  </tbody>\n",
       "</table>\n",
       "</div>"
      ],
      "text/plain": [
       "            All              In VOC           Out of VOC          \n",
       "       f1 micro  f1 macro  f1 micro  f1 macro   f1 micro  f1 macro\n",
       "score  0.856664  0.554424  0.880519  0.655047   0.131579  0.064516"
      ]
     },
     "metadata": {},
     "output_type": "display_data"
    },
    {
     "name": "stderr",
     "output_type": "stream",
     "text": [
      "Epoch 17: 100%|██████████| 299/299 [00:25<00:00, 11.73batch/s, loss_decrease=1.0000054605153899]\n",
      "100%|██████████| 1193/1193 [00:12<00:00, 97.70batch/s] \n"
     ]
    },
    {
     "data": {
      "text/html": [
       "<div>\n",
       "<style scoped>\n",
       "    .dataframe tbody tr th:only-of-type {\n",
       "        vertical-align: middle;\n",
       "    }\n",
       "\n",
       "    .dataframe tbody tr th {\n",
       "        vertical-align: top;\n",
       "    }\n",
       "\n",
       "    .dataframe thead tr th {\n",
       "        text-align: left;\n",
       "    }\n",
       "</style>\n",
       "<table border=\"1\" class=\"dataframe\">\n",
       "  <thead>\n",
       "    <tr>\n",
       "      <th></th>\n",
       "      <th colspan=\"2\" halign=\"left\">All</th>\n",
       "      <th colspan=\"2\" halign=\"left\">In VOC</th>\n",
       "      <th colspan=\"2\" halign=\"left\">Out of VOC</th>\n",
       "    </tr>\n",
       "    <tr>\n",
       "      <th></th>\n",
       "      <th>f1 micro</th>\n",
       "      <th>f1 macro</th>\n",
       "      <th>f1 micro</th>\n",
       "      <th>f1 macro</th>\n",
       "      <th>f1 micro</th>\n",
       "      <th>f1 macro</th>\n",
       "    </tr>\n",
       "  </thead>\n",
       "  <tbody>\n",
       "    <tr>\n",
       "      <th>score</th>\n",
       "      <td>0.866723</td>\n",
       "      <td>0.558993</td>\n",
       "      <td>0.892641</td>\n",
       "      <td>0.668212</td>\n",
       "      <td>0.078947</td>\n",
       "      <td>0.046875</td>\n",
       "    </tr>\n",
       "  </tbody>\n",
       "</table>\n",
       "</div>"
      ],
      "text/plain": [
       "            All              In VOC           Out of VOC          \n",
       "       f1 micro  f1 macro  f1 micro  f1 macro   f1 micro  f1 macro\n",
       "score  0.866723  0.558993  0.892641  0.668212   0.078947  0.046875"
      ]
     },
     "metadata": {},
     "output_type": "display_data"
    },
    {
     "name": "stderr",
     "output_type": "stream",
     "text": [
      "Epoch 18: 100%|██████████| 299/299 [00:27<00:00, 10.94batch/s, loss_decrease=1.0000054605153899]\n",
      "100%|██████████| 1193/1193 [00:12<00:00, 97.40batch/s] \n"
     ]
    },
    {
     "data": {
      "text/html": [
       "<div>\n",
       "<style scoped>\n",
       "    .dataframe tbody tr th:only-of-type {\n",
       "        vertical-align: middle;\n",
       "    }\n",
       "\n",
       "    .dataframe tbody tr th {\n",
       "        vertical-align: top;\n",
       "    }\n",
       "\n",
       "    .dataframe thead tr th {\n",
       "        text-align: left;\n",
       "    }\n",
       "</style>\n",
       "<table border=\"1\" class=\"dataframe\">\n",
       "  <thead>\n",
       "    <tr>\n",
       "      <th></th>\n",
       "      <th colspan=\"2\" halign=\"left\">All</th>\n",
       "      <th colspan=\"2\" halign=\"left\">In VOC</th>\n",
       "      <th colspan=\"2\" halign=\"left\">Out of VOC</th>\n",
       "    </tr>\n",
       "    <tr>\n",
       "      <th></th>\n",
       "      <th>f1 micro</th>\n",
       "      <th>f1 macro</th>\n",
       "      <th>f1 micro</th>\n",
       "      <th>f1 macro</th>\n",
       "      <th>f1 micro</th>\n",
       "      <th>f1 macro</th>\n",
       "    </tr>\n",
       "  </thead>\n",
       "  <tbody>\n",
       "    <tr>\n",
       "      <th>score</th>\n",
       "      <td>0.86337</td>\n",
       "      <td>0.535905</td>\n",
       "      <td>0.890043</td>\n",
       "      <td>0.643301</td>\n",
       "      <td>0.052632</td>\n",
       "      <td>0.03125</td>\n",
       "    </tr>\n",
       "  </tbody>\n",
       "</table>\n",
       "</div>"
      ],
      "text/plain": [
       "           All              In VOC           Out of VOC         \n",
       "      f1 micro  f1 macro  f1 micro  f1 macro   f1 micro f1 macro\n",
       "score  0.86337  0.535905  0.890043  0.643301   0.052632  0.03125"
      ]
     },
     "metadata": {},
     "output_type": "display_data"
    },
    {
     "name": "stderr",
     "output_type": "stream",
     "text": [
      "Epoch 19: 100%|██████████| 299/299 [00:27<00:00, 10.84batch/s, loss_decrease=1.0000054605153899]\n",
      "100%|██████████| 1193/1193 [00:12<00:00, 96.77batch/s] \n"
     ]
    },
    {
     "data": {
      "text/html": [
       "<div>\n",
       "<style scoped>\n",
       "    .dataframe tbody tr th:only-of-type {\n",
       "        vertical-align: middle;\n",
       "    }\n",
       "\n",
       "    .dataframe tbody tr th {\n",
       "        vertical-align: top;\n",
       "    }\n",
       "\n",
       "    .dataframe thead tr th {\n",
       "        text-align: left;\n",
       "    }\n",
       "</style>\n",
       "<table border=\"1\" class=\"dataframe\">\n",
       "  <thead>\n",
       "    <tr>\n",
       "      <th></th>\n",
       "      <th colspan=\"2\" halign=\"left\">All</th>\n",
       "      <th colspan=\"2\" halign=\"left\">In VOC</th>\n",
       "      <th colspan=\"2\" halign=\"left\">Out of VOC</th>\n",
       "    </tr>\n",
       "    <tr>\n",
       "      <th></th>\n",
       "      <th>f1 micro</th>\n",
       "      <th>f1 macro</th>\n",
       "      <th>f1 micro</th>\n",
       "      <th>f1 macro</th>\n",
       "      <th>f1 micro</th>\n",
       "      <th>f1 macro</th>\n",
       "    </tr>\n",
       "  </thead>\n",
       "  <tbody>\n",
       "    <tr>\n",
       "      <th>score</th>\n",
       "      <td>0.860855</td>\n",
       "      <td>0.538387</td>\n",
       "      <td>0.887446</td>\n",
       "      <td>0.647563</td>\n",
       "      <td>0.052632</td>\n",
       "      <td>0.03125</td>\n",
       "    </tr>\n",
       "  </tbody>\n",
       "</table>\n",
       "</div>"
      ],
      "text/plain": [
       "            All              In VOC           Out of VOC         \n",
       "       f1 micro  f1 macro  f1 micro  f1 macro   f1 micro f1 macro\n",
       "score  0.860855  0.538387  0.887446  0.647563   0.052632  0.03125"
      ]
     },
     "metadata": {},
     "output_type": "display_data"
    },
    {
     "name": "stderr",
     "output_type": "stream",
     "text": [
      "Epoch 20: 100%|██████████| 299/299 [00:26<00:00, 11.10batch/s, loss_decrease=1.0000054605153899]\n",
      "100%|██████████| 1193/1193 [00:12<00:00, 95.60batch/s]\n"
     ]
    },
    {
     "data": {
      "text/html": [
       "<div>\n",
       "<style scoped>\n",
       "    .dataframe tbody tr th:only-of-type {\n",
       "        vertical-align: middle;\n",
       "    }\n",
       "\n",
       "    .dataframe tbody tr th {\n",
       "        vertical-align: top;\n",
       "    }\n",
       "\n",
       "    .dataframe thead tr th {\n",
       "        text-align: left;\n",
       "    }\n",
       "</style>\n",
       "<table border=\"1\" class=\"dataframe\">\n",
       "  <thead>\n",
       "    <tr>\n",
       "      <th></th>\n",
       "      <th colspan=\"2\" halign=\"left\">All</th>\n",
       "      <th colspan=\"2\" halign=\"left\">In VOC</th>\n",
       "      <th colspan=\"2\" halign=\"left\">Out of VOC</th>\n",
       "    </tr>\n",
       "    <tr>\n",
       "      <th></th>\n",
       "      <th>f1 micro</th>\n",
       "      <th>f1 macro</th>\n",
       "      <th>f1 micro</th>\n",
       "      <th>f1 macro</th>\n",
       "      <th>f1 micro</th>\n",
       "      <th>f1 macro</th>\n",
       "    </tr>\n",
       "  </thead>\n",
       "  <tbody>\n",
       "    <tr>\n",
       "      <th>score</th>\n",
       "      <td>0.868399</td>\n",
       "      <td>0.55016</td>\n",
       "      <td>0.895238</td>\n",
       "      <td>0.661212</td>\n",
       "      <td>0.052632</td>\n",
       "      <td>0.030769</td>\n",
       "    </tr>\n",
       "  </tbody>\n",
       "</table>\n",
       "</div>"
      ],
      "text/plain": [
       "            All             In VOC           Out of VOC          \n",
       "       f1 micro f1 macro  f1 micro  f1 macro   f1 micro  f1 macro\n",
       "score  0.868399  0.55016  0.895238  0.661212   0.052632  0.030769"
      ]
     },
     "metadata": {},
     "output_type": "display_data"
    },
    {
     "name": "stderr",
     "output_type": "stream",
     "text": [
      "Epoch 21: 100%|██████████| 299/299 [00:26<00:00, 11.20batch/s, loss_decrease=1.0000054605153899]\n",
      "100%|██████████| 1193/1193 [00:12<00:00, 96.13batch/s] \n"
     ]
    },
    {
     "data": {
      "text/html": [
       "<div>\n",
       "<style scoped>\n",
       "    .dataframe tbody tr th:only-of-type {\n",
       "        vertical-align: middle;\n",
       "    }\n",
       "\n",
       "    .dataframe tbody tr th {\n",
       "        vertical-align: top;\n",
       "    }\n",
       "\n",
       "    .dataframe thead tr th {\n",
       "        text-align: left;\n",
       "    }\n",
       "</style>\n",
       "<table border=\"1\" class=\"dataframe\">\n",
       "  <thead>\n",
       "    <tr>\n",
       "      <th></th>\n",
       "      <th colspan=\"2\" halign=\"left\">All</th>\n",
       "      <th colspan=\"2\" halign=\"left\">In VOC</th>\n",
       "      <th colspan=\"2\" halign=\"left\">Out of VOC</th>\n",
       "    </tr>\n",
       "    <tr>\n",
       "      <th></th>\n",
       "      <th>f1 micro</th>\n",
       "      <th>f1 macro</th>\n",
       "      <th>f1 micro</th>\n",
       "      <th>f1 macro</th>\n",
       "      <th>f1 micro</th>\n",
       "      <th>f1 macro</th>\n",
       "    </tr>\n",
       "  </thead>\n",
       "  <tbody>\n",
       "    <tr>\n",
       "      <th>score</th>\n",
       "      <td>0.870914</td>\n",
       "      <td>0.572669</td>\n",
       "      <td>0.897835</td>\n",
       "      <td>0.687843</td>\n",
       "      <td>0.052632</td>\n",
       "      <td>0.03125</td>\n",
       "    </tr>\n",
       "  </tbody>\n",
       "</table>\n",
       "</div>"
      ],
      "text/plain": [
       "            All              In VOC           Out of VOC         \n",
       "       f1 micro  f1 macro  f1 micro  f1 macro   f1 micro f1 macro\n",
       "score  0.870914  0.572669  0.897835  0.687843   0.052632  0.03125"
      ]
     },
     "metadata": {},
     "output_type": "display_data"
    },
    {
     "name": "stderr",
     "output_type": "stream",
     "text": [
      "Epoch 22: 100%|██████████| 299/299 [00:25<00:00, 11.75batch/s, loss_decrease=1.0000054605153899]\n",
      "100%|██████████| 1193/1193 [00:12<00:00, 97.16batch/s] \n"
     ]
    },
    {
     "data": {
      "text/html": [
       "<div>\n",
       "<style scoped>\n",
       "    .dataframe tbody tr th:only-of-type {\n",
       "        vertical-align: middle;\n",
       "    }\n",
       "\n",
       "    .dataframe tbody tr th {\n",
       "        vertical-align: top;\n",
       "    }\n",
       "\n",
       "    .dataframe thead tr th {\n",
       "        text-align: left;\n",
       "    }\n",
       "</style>\n",
       "<table border=\"1\" class=\"dataframe\">\n",
       "  <thead>\n",
       "    <tr>\n",
       "      <th></th>\n",
       "      <th colspan=\"2\" halign=\"left\">All</th>\n",
       "      <th colspan=\"2\" halign=\"left\">In VOC</th>\n",
       "      <th colspan=\"2\" halign=\"left\">Out of VOC</th>\n",
       "    </tr>\n",
       "    <tr>\n",
       "      <th></th>\n",
       "      <th>f1 micro</th>\n",
       "      <th>f1 macro</th>\n",
       "      <th>f1 micro</th>\n",
       "      <th>f1 macro</th>\n",
       "      <th>f1 micro</th>\n",
       "      <th>f1 macro</th>\n",
       "    </tr>\n",
       "  </thead>\n",
       "  <tbody>\n",
       "    <tr>\n",
       "      <th>score</th>\n",
       "      <td>0.862531</td>\n",
       "      <td>0.535062</td>\n",
       "      <td>0.889177</td>\n",
       "      <td>0.647</td>\n",
       "      <td>0.052632</td>\n",
       "      <td>0.03125</td>\n",
       "    </tr>\n",
       "  </tbody>\n",
       "</table>\n",
       "</div>"
      ],
      "text/plain": [
       "            All              In VOC          Out of VOC         \n",
       "       f1 micro  f1 macro  f1 micro f1 macro   f1 micro f1 macro\n",
       "score  0.862531  0.535062  0.889177    0.647   0.052632  0.03125"
      ]
     },
     "metadata": {},
     "output_type": "display_data"
    },
    {
     "name": "stderr",
     "output_type": "stream",
     "text": [
      "Epoch 23: 100%|██████████| 299/299 [00:26<00:00, 11.17batch/s, loss_decrease=1.0000055546627298]\n",
      "100%|██████████| 1193/1193 [00:12<00:00, 93.95batch/s]\n"
     ]
    },
    {
     "data": {
      "text/html": [
       "<div>\n",
       "<style scoped>\n",
       "    .dataframe tbody tr th:only-of-type {\n",
       "        vertical-align: middle;\n",
       "    }\n",
       "\n",
       "    .dataframe tbody tr th {\n",
       "        vertical-align: top;\n",
       "    }\n",
       "\n",
       "    .dataframe thead tr th {\n",
       "        text-align: left;\n",
       "    }\n",
       "</style>\n",
       "<table border=\"1\" class=\"dataframe\">\n",
       "  <thead>\n",
       "    <tr>\n",
       "      <th></th>\n",
       "      <th colspan=\"2\" halign=\"left\">All</th>\n",
       "      <th colspan=\"2\" halign=\"left\">In VOC</th>\n",
       "      <th colspan=\"2\" halign=\"left\">Out of VOC</th>\n",
       "    </tr>\n",
       "    <tr>\n",
       "      <th></th>\n",
       "      <th>f1 micro</th>\n",
       "      <th>f1 macro</th>\n",
       "      <th>f1 micro</th>\n",
       "      <th>f1 macro</th>\n",
       "      <th>f1 micro</th>\n",
       "      <th>f1 macro</th>\n",
       "    </tr>\n",
       "  </thead>\n",
       "  <tbody>\n",
       "    <tr>\n",
       "      <th>score</th>\n",
       "      <td>0.864208</td>\n",
       "      <td>0.541652</td>\n",
       "      <td>0.892641</td>\n",
       "      <td>0.661782</td>\n",
       "      <td>0.0</td>\n",
       "      <td>0.0</td>\n",
       "    </tr>\n",
       "  </tbody>\n",
       "</table>\n",
       "</div>"
      ],
      "text/plain": [
       "            All              In VOC           Out of VOC         \n",
       "       f1 micro  f1 macro  f1 micro  f1 macro   f1 micro f1 macro\n",
       "score  0.864208  0.541652  0.892641  0.661782        0.0      0.0"
      ]
     },
     "metadata": {},
     "output_type": "display_data"
    },
    {
     "name": "stderr",
     "output_type": "stream",
     "text": [
      "Epoch 24: 100%|██████████| 299/299 [00:26<00:00, 11.31batch/s, loss_decrease=1.0000056488100875]\n",
      "100%|██████████| 1193/1193 [00:12<00:00, 97.83batch/s] \n"
     ]
    },
    {
     "data": {
      "text/html": [
       "<div>\n",
       "<style scoped>\n",
       "    .dataframe tbody tr th:only-of-type {\n",
       "        vertical-align: middle;\n",
       "    }\n",
       "\n",
       "    .dataframe tbody tr th {\n",
       "        vertical-align: top;\n",
       "    }\n",
       "\n",
       "    .dataframe thead tr th {\n",
       "        text-align: left;\n",
       "    }\n",
       "</style>\n",
       "<table border=\"1\" class=\"dataframe\">\n",
       "  <thead>\n",
       "    <tr>\n",
       "      <th></th>\n",
       "      <th colspan=\"2\" halign=\"left\">All</th>\n",
       "      <th colspan=\"2\" halign=\"left\">In VOC</th>\n",
       "      <th colspan=\"2\" halign=\"left\">Out of VOC</th>\n",
       "    </tr>\n",
       "    <tr>\n",
       "      <th></th>\n",
       "      <th>f1 micro</th>\n",
       "      <th>f1 macro</th>\n",
       "      <th>f1 micro</th>\n",
       "      <th>f1 macro</th>\n",
       "      <th>f1 micro</th>\n",
       "      <th>f1 macro</th>\n",
       "    </tr>\n",
       "  </thead>\n",
       "  <tbody>\n",
       "    <tr>\n",
       "      <th>score</th>\n",
       "      <td>0.869237</td>\n",
       "      <td>0.553014</td>\n",
       "      <td>0.896104</td>\n",
       "      <td>0.667202</td>\n",
       "      <td>0.052632</td>\n",
       "      <td>0.03125</td>\n",
       "    </tr>\n",
       "  </tbody>\n",
       "</table>\n",
       "</div>"
      ],
      "text/plain": [
       "            All              In VOC           Out of VOC         \n",
       "       f1 micro  f1 macro  f1 micro  f1 macro   f1 micro f1 macro\n",
       "score  0.869237  0.553014  0.896104  0.667202   0.052632  0.03125"
      ]
     },
     "metadata": {},
     "output_type": "display_data"
    },
    {
     "name": "stderr",
     "output_type": "stream",
     "text": [
      "Epoch 25: 100%|██████████| 299/299 [00:25<00:00, 11.73batch/s, loss_decrease=1.0000054605153899]\n",
      "100%|██████████| 1193/1193 [00:12<00:00, 98.03batch/s] \n"
     ]
    },
    {
     "data": {
      "text/html": [
       "<div>\n",
       "<style scoped>\n",
       "    .dataframe tbody tr th:only-of-type {\n",
       "        vertical-align: middle;\n",
       "    }\n",
       "\n",
       "    .dataframe tbody tr th {\n",
       "        vertical-align: top;\n",
       "    }\n",
       "\n",
       "    .dataframe thead tr th {\n",
       "        text-align: left;\n",
       "    }\n",
       "</style>\n",
       "<table border=\"1\" class=\"dataframe\">\n",
       "  <thead>\n",
       "    <tr>\n",
       "      <th></th>\n",
       "      <th colspan=\"2\" halign=\"left\">All</th>\n",
       "      <th colspan=\"2\" halign=\"left\">In VOC</th>\n",
       "      <th colspan=\"2\" halign=\"left\">Out of VOC</th>\n",
       "    </tr>\n",
       "    <tr>\n",
       "      <th></th>\n",
       "      <th>f1 micro</th>\n",
       "      <th>f1 macro</th>\n",
       "      <th>f1 micro</th>\n",
       "      <th>f1 macro</th>\n",
       "      <th>f1 micro</th>\n",
       "      <th>f1 macro</th>\n",
       "    </tr>\n",
       "  </thead>\n",
       "  <tbody>\n",
       "    <tr>\n",
       "      <th>score</th>\n",
       "      <td>0.860017</td>\n",
       "      <td>0.547865</td>\n",
       "      <td>0.887446</td>\n",
       "      <td>0.663984</td>\n",
       "      <td>0.026316</td>\n",
       "      <td>0.015152</td>\n",
       "    </tr>\n",
       "  </tbody>\n",
       "</table>\n",
       "</div>"
      ],
      "text/plain": [
       "            All              In VOC           Out of VOC          \n",
       "       f1 micro  f1 macro  f1 micro  f1 macro   f1 micro  f1 macro\n",
       "score  0.860017  0.547865  0.887446  0.663984   0.026316  0.015152"
      ]
     },
     "metadata": {},
     "output_type": "display_data"
    },
    {
     "name": "stdout",
     "output_type": "stream",
     "text": [
      "Finished Training\n",
      "exp: 3\n",
      "\n"
     ]
    },
    {
     "name": "stderr",
     "output_type": "stream",
     "text": [
      "Some weights of the model checkpoint at roberta-base were not used when initializing RobertaModel: ['lm_head.dense.weight', 'lm_head.decoder.weight', 'lm_head.bias', 'lm_head.dense.bias', 'lm_head.layer_norm.weight', 'lm_head.layer_norm.bias']\n",
      "- This IS expected if you are initializing RobertaModel from the checkpoint of a model trained on another task or with another architecture (e.g. initializing a BertForSequenceClassification model from a BertForPreTraining model).\n",
      "- This IS NOT expected if you are initializing RobertaModel from the checkpoint of a model that you expect to be exactly identical (initializing a BertForSequenceClassification model from a BertForSequenceClassification model).\n"
     ]
    },
    {
     "name": "stdout",
     "output_type": "stream",
     "text": [
      "Net loaded\n"
     ]
    },
    {
     "name": "stderr",
     "output_type": "stream",
     "text": [
      "Epoch 1: 100%|██████████| 299/299 [00:28<00:00, 10.66batch/s, loss_decrease=1.0000036717196432]\n",
      "100%|██████████| 1193/1193 [00:12<00:00, 93.63batch/s] \n"
     ]
    },
    {
     "data": {
      "text/html": [
       "<div>\n",
       "<style scoped>\n",
       "    .dataframe tbody tr th:only-of-type {\n",
       "        vertical-align: middle;\n",
       "    }\n",
       "\n",
       "    .dataframe tbody tr th {\n",
       "        vertical-align: top;\n",
       "    }\n",
       "\n",
       "    .dataframe thead tr th {\n",
       "        text-align: left;\n",
       "    }\n",
       "</style>\n",
       "<table border=\"1\" class=\"dataframe\">\n",
       "  <thead>\n",
       "    <tr>\n",
       "      <th></th>\n",
       "      <th colspan=\"2\" halign=\"left\">All</th>\n",
       "      <th colspan=\"2\" halign=\"left\">In VOC</th>\n",
       "      <th colspan=\"2\" halign=\"left\">Out of VOC</th>\n",
       "    </tr>\n",
       "    <tr>\n",
       "      <th></th>\n",
       "      <th>f1 micro</th>\n",
       "      <th>f1 macro</th>\n",
       "      <th>f1 micro</th>\n",
       "      <th>f1 macro</th>\n",
       "      <th>f1 micro</th>\n",
       "      <th>f1 macro</th>\n",
       "    </tr>\n",
       "  </thead>\n",
       "  <tbody>\n",
       "    <tr>\n",
       "      <th>score</th>\n",
       "      <td>0.642079</td>\n",
       "      <td>0.236796</td>\n",
       "      <td>0.660606</td>\n",
       "      <td>0.270437</td>\n",
       "      <td>0.078947</td>\n",
       "      <td>0.039548</td>\n",
       "    </tr>\n",
       "  </tbody>\n",
       "</table>\n",
       "</div>"
      ],
      "text/plain": [
       "            All              In VOC           Out of VOC          \n",
       "       f1 micro  f1 macro  f1 micro  f1 macro   f1 micro  f1 macro\n",
       "score  0.642079  0.236796  0.660606  0.270437   0.078947  0.039548"
      ]
     },
     "metadata": {},
     "output_type": "display_data"
    },
    {
     "name": "stderr",
     "output_type": "stream",
     "text": [
      "Epoch 2: 100%|██████████| 299/299 [00:27<00:00, 10.93batch/s, loss_decrease=1.0000043307491]   \n",
      "100%|██████████| 1193/1193 [00:12<00:00, 98.82batch/s] \n"
     ]
    },
    {
     "data": {
      "text/html": [
       "<div>\n",
       "<style scoped>\n",
       "    .dataframe tbody tr th:only-of-type {\n",
       "        vertical-align: middle;\n",
       "    }\n",
       "\n",
       "    .dataframe tbody tr th {\n",
       "        vertical-align: top;\n",
       "    }\n",
       "\n",
       "    .dataframe thead tr th {\n",
       "        text-align: left;\n",
       "    }\n",
       "</style>\n",
       "<table border=\"1\" class=\"dataframe\">\n",
       "  <thead>\n",
       "    <tr>\n",
       "      <th></th>\n",
       "      <th colspan=\"2\" halign=\"left\">All</th>\n",
       "      <th colspan=\"2\" halign=\"left\">In VOC</th>\n",
       "      <th colspan=\"2\" halign=\"left\">Out of VOC</th>\n",
       "    </tr>\n",
       "    <tr>\n",
       "      <th></th>\n",
       "      <th>f1 micro</th>\n",
       "      <th>f1 macro</th>\n",
       "      <th>f1 micro</th>\n",
       "      <th>f1 macro</th>\n",
       "      <th>f1 micro</th>\n",
       "      <th>f1 macro</th>\n",
       "    </tr>\n",
       "  </thead>\n",
       "  <tbody>\n",
       "    <tr>\n",
       "      <th>score</th>\n",
       "      <td>0.713328</td>\n",
       "      <td>0.269465</td>\n",
       "      <td>0.734199</td>\n",
       "      <td>0.307606</td>\n",
       "      <td>0.078947</td>\n",
       "      <td>0.044444</td>\n",
       "    </tr>\n",
       "  </tbody>\n",
       "</table>\n",
       "</div>"
      ],
      "text/plain": [
       "            All              In VOC           Out of VOC          \n",
       "       f1 micro  f1 macro  f1 micro  f1 macro   f1 micro  f1 macro\n",
       "score  0.713328  0.269465  0.734199  0.307606   0.078947  0.044444"
      ]
     },
     "metadata": {},
     "output_type": "display_data"
    },
    {
     "name": "stderr",
     "output_type": "stream",
     "text": [
      "Epoch 3: 100%|██████████| 299/299 [00:26<00:00, 11.42batch/s, loss_decrease=1.0000049897794254]\n",
      "100%|██████████| 1193/1193 [00:12<00:00, 97.82batch/s]\n"
     ]
    },
    {
     "data": {
      "text/html": [
       "<div>\n",
       "<style scoped>\n",
       "    .dataframe tbody tr th:only-of-type {\n",
       "        vertical-align: middle;\n",
       "    }\n",
       "\n",
       "    .dataframe tbody tr th {\n",
       "        vertical-align: top;\n",
       "    }\n",
       "\n",
       "    .dataframe thead tr th {\n",
       "        text-align: left;\n",
       "    }\n",
       "</style>\n",
       "<table border=\"1\" class=\"dataframe\">\n",
       "  <thead>\n",
       "    <tr>\n",
       "      <th></th>\n",
       "      <th colspan=\"2\" halign=\"left\">All</th>\n",
       "      <th colspan=\"2\" halign=\"left\">In VOC</th>\n",
       "      <th colspan=\"2\" halign=\"left\">Out of VOC</th>\n",
       "    </tr>\n",
       "    <tr>\n",
       "      <th></th>\n",
       "      <th>f1 micro</th>\n",
       "      <th>f1 macro</th>\n",
       "      <th>f1 micro</th>\n",
       "      <th>f1 macro</th>\n",
       "      <th>f1 micro</th>\n",
       "      <th>f1 macro</th>\n",
       "    </tr>\n",
       "  </thead>\n",
       "  <tbody>\n",
       "    <tr>\n",
       "      <th>score</th>\n",
       "      <td>0.757754</td>\n",
       "      <td>0.310935</td>\n",
       "      <td>0.779221</td>\n",
       "      <td>0.355291</td>\n",
       "      <td>0.105263</td>\n",
       "      <td>0.054645</td>\n",
       "    </tr>\n",
       "  </tbody>\n",
       "</table>\n",
       "</div>"
      ],
      "text/plain": [
       "            All              In VOC           Out of VOC          \n",
       "       f1 micro  f1 macro  f1 micro  f1 macro   f1 micro  f1 macro\n",
       "score  0.757754  0.310935  0.779221  0.355291   0.105263  0.054645"
      ]
     },
     "metadata": {},
     "output_type": "display_data"
    },
    {
     "name": "stderr",
     "output_type": "stream",
     "text": [
      "100%|██████████| 1193/1193 [00:12<00:00, 97.69batch/s] tch/s, loss_decrease=1.0000050839266856]\n"
     ]
    },
    {
     "data": {
      "text/html": [
       "<div>\n",
       "<style scoped>\n",
       "    .dataframe tbody tr th:only-of-type {\n",
       "        vertical-align: middle;\n",
       "    }\n",
       "\n",
       "    .dataframe tbody tr th {\n",
       "        vertical-align: top;\n",
       "    }\n",
       "\n",
       "    .dataframe thead tr th {\n",
       "        text-align: left;\n",
       "    }\n",
       "</style>\n",
       "<table border=\"1\" class=\"dataframe\">\n",
       "  <thead>\n",
       "    <tr>\n",
       "      <th></th>\n",
       "      <th colspan=\"2\" halign=\"left\">All</th>\n",
       "      <th colspan=\"2\" halign=\"left\">In VOC</th>\n",
       "      <th colspan=\"2\" halign=\"left\">Out of VOC</th>\n",
       "    </tr>\n",
       "    <tr>\n",
       "      <th></th>\n",
       "      <th>f1 micro</th>\n",
       "      <th>f1 macro</th>\n",
       "      <th>f1 micro</th>\n",
       "      <th>f1 macro</th>\n",
       "      <th>f1 micro</th>\n",
       "      <th>f1 macro</th>\n",
       "    </tr>\n",
       "  </thead>\n",
       "  <tbody>\n",
       "    <tr>\n",
       "      <th>score</th>\n",
       "      <td>0.781224</td>\n",
       "      <td>0.348565</td>\n",
       "      <td>0.804329</td>\n",
       "      <td>0.403134</td>\n",
       "      <td>0.078947</td>\n",
       "      <td>0.037634</td>\n",
       "    </tr>\n",
       "  </tbody>\n",
       "</table>\n",
       "</div>"
      ],
      "text/plain": [
       "            All              In VOC           Out of VOC          \n",
       "       f1 micro  f1 macro  f1 micro  f1 macro   f1 micro  f1 macro\n",
       "score  0.781224  0.348565  0.804329  0.403134   0.078947  0.037634"
      ]
     },
     "metadata": {},
     "output_type": "display_data"
    },
    {
     "name": "stderr",
     "output_type": "stream",
     "text": [
      "Epoch 5: 100%|██████████| 299/299 [00:25<00:00, 11.60batch/s, loss_decrease=1.0000053663685728]\n",
      "100%|██████████| 1193/1193 [00:11<00:00, 99.83batch/s] \n"
     ]
    },
    {
     "data": {
      "text/html": [
       "<div>\n",
       "<style scoped>\n",
       "    .dataframe tbody tr th:only-of-type {\n",
       "        vertical-align: middle;\n",
       "    }\n",
       "\n",
       "    .dataframe tbody tr th {\n",
       "        vertical-align: top;\n",
       "    }\n",
       "\n",
       "    .dataframe thead tr th {\n",
       "        text-align: left;\n",
       "    }\n",
       "</style>\n",
       "<table border=\"1\" class=\"dataframe\">\n",
       "  <thead>\n",
       "    <tr>\n",
       "      <th></th>\n",
       "      <th colspan=\"2\" halign=\"left\">All</th>\n",
       "      <th colspan=\"2\" halign=\"left\">In VOC</th>\n",
       "      <th colspan=\"2\" halign=\"left\">Out of VOC</th>\n",
       "    </tr>\n",
       "    <tr>\n",
       "      <th></th>\n",
       "      <th>f1 micro</th>\n",
       "      <th>f1 macro</th>\n",
       "      <th>f1 micro</th>\n",
       "      <th>f1 macro</th>\n",
       "      <th>f1 micro</th>\n",
       "      <th>f1 macro</th>\n",
       "    </tr>\n",
       "  </thead>\n",
       "  <tbody>\n",
       "    <tr>\n",
       "      <th>score</th>\n",
       "      <td>0.799665</td>\n",
       "      <td>0.356082</td>\n",
       "      <td>0.824242</td>\n",
       "      <td>0.422395</td>\n",
       "      <td>0.052632</td>\n",
       "      <td>0.020513</td>\n",
       "    </tr>\n",
       "  </tbody>\n",
       "</table>\n",
       "</div>"
      ],
      "text/plain": [
       "            All              In VOC           Out of VOC          \n",
       "       f1 micro  f1 macro  f1 micro  f1 macro   f1 micro  f1 macro\n",
       "score  0.799665  0.356082  0.824242  0.422395   0.052632  0.020513"
      ]
     },
     "metadata": {},
     "output_type": "display_data"
    },
    {
     "name": "stderr",
     "output_type": "stream",
     "text": [
      "Epoch 6: 100%|██████████| 299/299 [00:26<00:00, 11.08batch/s, loss_decrease=1.0000054605159039]\n",
      "100%|██████████| 1193/1193 [00:12<00:00, 92.83batch/s]\n"
     ]
    },
    {
     "data": {
      "text/html": [
       "<div>\n",
       "<style scoped>\n",
       "    .dataframe tbody tr th:only-of-type {\n",
       "        vertical-align: middle;\n",
       "    }\n",
       "\n",
       "    .dataframe tbody tr th {\n",
       "        vertical-align: top;\n",
       "    }\n",
       "\n",
       "    .dataframe thead tr th {\n",
       "        text-align: left;\n",
       "    }\n",
       "</style>\n",
       "<table border=\"1\" class=\"dataframe\">\n",
       "  <thead>\n",
       "    <tr>\n",
       "      <th></th>\n",
       "      <th colspan=\"2\" halign=\"left\">All</th>\n",
       "      <th colspan=\"2\" halign=\"left\">In VOC</th>\n",
       "      <th colspan=\"2\" halign=\"left\">Out of VOC</th>\n",
       "    </tr>\n",
       "    <tr>\n",
       "      <th></th>\n",
       "      <th>f1 micro</th>\n",
       "      <th>f1 macro</th>\n",
       "      <th>f1 micro</th>\n",
       "      <th>f1 macro</th>\n",
       "      <th>f1 micro</th>\n",
       "      <th>f1 macro</th>\n",
       "    </tr>\n",
       "  </thead>\n",
       "  <tbody>\n",
       "    <tr>\n",
       "      <th>score</th>\n",
       "      <td>0.803018</td>\n",
       "      <td>0.390411</td>\n",
       "      <td>0.82684</td>\n",
       "      <td>0.460117</td>\n",
       "      <td>0.078947</td>\n",
       "      <td>0.035354</td>\n",
       "    </tr>\n",
       "  </tbody>\n",
       "</table>\n",
       "</div>"
      ],
      "text/plain": [
       "            All             In VOC           Out of VOC          \n",
       "       f1 micro  f1 macro f1 micro  f1 macro   f1 micro  f1 macro\n",
       "score  0.803018  0.390411  0.82684  0.460117   0.078947  0.035354"
      ]
     },
     "metadata": {},
     "output_type": "display_data"
    },
    {
     "name": "stderr",
     "output_type": "stream",
     "text": [
      "Epoch 7: 100%|██████████| 299/299 [00:18<00:00, 15.83batch/s, loss_decrease=1.0000055546632527]\n",
      "100%|██████████| 1193/1193 [00:11<00:00, 100.12batch/s]\n"
     ]
    },
    {
     "data": {
      "text/html": [
       "<div>\n",
       "<style scoped>\n",
       "    .dataframe tbody tr th:only-of-type {\n",
       "        vertical-align: middle;\n",
       "    }\n",
       "\n",
       "    .dataframe tbody tr th {\n",
       "        vertical-align: top;\n",
       "    }\n",
       "\n",
       "    .dataframe thead tr th {\n",
       "        text-align: left;\n",
       "    }\n",
       "</style>\n",
       "<table border=\"1\" class=\"dataframe\">\n",
       "  <thead>\n",
       "    <tr>\n",
       "      <th></th>\n",
       "      <th colspan=\"2\" halign=\"left\">All</th>\n",
       "      <th colspan=\"2\" halign=\"left\">In VOC</th>\n",
       "      <th colspan=\"2\" halign=\"left\">Out of VOC</th>\n",
       "    </tr>\n",
       "    <tr>\n",
       "      <th></th>\n",
       "      <th>f1 micro</th>\n",
       "      <th>f1 macro</th>\n",
       "      <th>f1 micro</th>\n",
       "      <th>f1 macro</th>\n",
       "      <th>f1 micro</th>\n",
       "      <th>f1 macro</th>\n",
       "    </tr>\n",
       "  </thead>\n",
       "  <tbody>\n",
       "    <tr>\n",
       "      <th>score</th>\n",
       "      <td>0.812238</td>\n",
       "      <td>0.396731</td>\n",
       "      <td>0.835498</td>\n",
       "      <td>0.462849</td>\n",
       "      <td>0.105263</td>\n",
       "      <td>0.050505</td>\n",
       "    </tr>\n",
       "  </tbody>\n",
       "</table>\n",
       "</div>"
      ],
      "text/plain": [
       "            All              In VOC           Out of VOC          \n",
       "       f1 micro  f1 macro  f1 micro  f1 macro   f1 micro  f1 macro\n",
       "score  0.812238  0.396731  0.835498  0.462849   0.105263  0.050505"
      ]
     },
     "metadata": {},
     "output_type": "display_data"
    },
    {
     "name": "stderr",
     "output_type": "stream",
     "text": [
      "Epoch 8: 100%|██████████| 299/299 [00:26<00:00, 11.26batch/s, loss_decrease=1.0000055546632527]\n",
      "100%|██████████| 1193/1193 [00:12<00:00, 97.94batch/s] \n"
     ]
    },
    {
     "data": {
      "text/html": [
       "<div>\n",
       "<style scoped>\n",
       "    .dataframe tbody tr th:only-of-type {\n",
       "        vertical-align: middle;\n",
       "    }\n",
       "\n",
       "    .dataframe tbody tr th {\n",
       "        vertical-align: top;\n",
       "    }\n",
       "\n",
       "    .dataframe thead tr th {\n",
       "        text-align: left;\n",
       "    }\n",
       "</style>\n",
       "<table border=\"1\" class=\"dataframe\">\n",
       "  <thead>\n",
       "    <tr>\n",
       "      <th></th>\n",
       "      <th colspan=\"2\" halign=\"left\">All</th>\n",
       "      <th colspan=\"2\" halign=\"left\">In VOC</th>\n",
       "      <th colspan=\"2\" halign=\"left\">Out of VOC</th>\n",
       "    </tr>\n",
       "    <tr>\n",
       "      <th></th>\n",
       "      <th>f1 micro</th>\n",
       "      <th>f1 macro</th>\n",
       "      <th>f1 micro</th>\n",
       "      <th>f1 macro</th>\n",
       "      <th>f1 micro</th>\n",
       "      <th>f1 macro</th>\n",
       "    </tr>\n",
       "  </thead>\n",
       "  <tbody>\n",
       "    <tr>\n",
       "      <th>score</th>\n",
       "      <td>0.823973</td>\n",
       "      <td>0.411329</td>\n",
       "      <td>0.849351</td>\n",
       "      <td>0.493458</td>\n",
       "      <td>0.052632</td>\n",
       "      <td>0.025253</td>\n",
       "    </tr>\n",
       "  </tbody>\n",
       "</table>\n",
       "</div>"
      ],
      "text/plain": [
       "            All              In VOC           Out of VOC          \n",
       "       f1 micro  f1 macro  f1 micro  f1 macro   f1 micro  f1 macro\n",
       "score  0.823973  0.411329  0.849351  0.493458   0.052632  0.025253"
      ]
     },
     "metadata": {},
     "output_type": "display_data"
    },
    {
     "name": "stderr",
     "output_type": "stream",
     "text": [
      "Epoch 9: 100%|██████████| 299/299 [00:27<00:00, 10.79batch/s, loss_decrease=1.0000057429580038]\n",
      "100%|██████████| 1193/1193 [00:12<00:00, 97.31batch/s] \n"
     ]
    },
    {
     "data": {
      "text/html": [
       "<div>\n",
       "<style scoped>\n",
       "    .dataframe tbody tr th:only-of-type {\n",
       "        vertical-align: middle;\n",
       "    }\n",
       "\n",
       "    .dataframe tbody tr th {\n",
       "        vertical-align: top;\n",
       "    }\n",
       "\n",
       "    .dataframe thead tr th {\n",
       "        text-align: left;\n",
       "    }\n",
       "</style>\n",
       "<table border=\"1\" class=\"dataframe\">\n",
       "  <thead>\n",
       "    <tr>\n",
       "      <th></th>\n",
       "      <th colspan=\"2\" halign=\"left\">All</th>\n",
       "      <th colspan=\"2\" halign=\"left\">In VOC</th>\n",
       "      <th colspan=\"2\" halign=\"left\">Out of VOC</th>\n",
       "    </tr>\n",
       "    <tr>\n",
       "      <th></th>\n",
       "      <th>f1 micro</th>\n",
       "      <th>f1 macro</th>\n",
       "      <th>f1 micro</th>\n",
       "      <th>f1 macro</th>\n",
       "      <th>f1 micro</th>\n",
       "      <th>f1 macro</th>\n",
       "    </tr>\n",
       "  </thead>\n",
       "  <tbody>\n",
       "    <tr>\n",
       "      <th>score</th>\n",
       "      <td>0.840738</td>\n",
       "      <td>0.435076</td>\n",
       "      <td>0.866667</td>\n",
       "      <td>0.519931</td>\n",
       "      <td>0.052632</td>\n",
       "      <td>0.025641</td>\n",
       "    </tr>\n",
       "  </tbody>\n",
       "</table>\n",
       "</div>"
      ],
      "text/plain": [
       "            All              In VOC           Out of VOC          \n",
       "       f1 micro  f1 macro  f1 micro  f1 macro   f1 micro  f1 macro\n",
       "score  0.840738  0.435076  0.866667  0.519931   0.052632  0.025641"
      ]
     },
     "metadata": {},
     "output_type": "display_data"
    },
    {
     "name": "stderr",
     "output_type": "stream",
     "text": [
      "Epoch 10: 100%|██████████| 299/299 [00:27<00:00, 10.87batch/s, loss_decrease=1.0000057429580038]\n",
      "100%|██████████| 1193/1193 [00:12<00:00, 98.07batch/s] \n"
     ]
    },
    {
     "data": {
      "text/html": [
       "<div>\n",
       "<style scoped>\n",
       "    .dataframe tbody tr th:only-of-type {\n",
       "        vertical-align: middle;\n",
       "    }\n",
       "\n",
       "    .dataframe tbody tr th {\n",
       "        vertical-align: top;\n",
       "    }\n",
       "\n",
       "    .dataframe thead tr th {\n",
       "        text-align: left;\n",
       "    }\n",
       "</style>\n",
       "<table border=\"1\" class=\"dataframe\">\n",
       "  <thead>\n",
       "    <tr>\n",
       "      <th></th>\n",
       "      <th colspan=\"2\" halign=\"left\">All</th>\n",
       "      <th colspan=\"2\" halign=\"left\">In VOC</th>\n",
       "      <th colspan=\"2\" halign=\"left\">Out of VOC</th>\n",
       "    </tr>\n",
       "    <tr>\n",
       "      <th></th>\n",
       "      <th>f1 micro</th>\n",
       "      <th>f1 macro</th>\n",
       "      <th>f1 micro</th>\n",
       "      <th>f1 macro</th>\n",
       "      <th>f1 micro</th>\n",
       "      <th>f1 macro</th>\n",
       "    </tr>\n",
       "  </thead>\n",
       "  <tbody>\n",
       "    <tr>\n",
       "      <th>score</th>\n",
       "      <td>0.840738</td>\n",
       "      <td>0.460449</td>\n",
       "      <td>0.865801</td>\n",
       "      <td>0.545072</td>\n",
       "      <td>0.078947</td>\n",
       "      <td>0.041667</td>\n",
       "    </tr>\n",
       "  </tbody>\n",
       "</table>\n",
       "</div>"
      ],
      "text/plain": [
       "            All              In VOC           Out of VOC          \n",
       "       f1 micro  f1 macro  f1 micro  f1 macro   f1 micro  f1 macro\n",
       "score  0.840738  0.460449  0.865801  0.545072   0.078947  0.041667"
      ]
     },
     "metadata": {},
     "output_type": "display_data"
    },
    {
     "name": "stderr",
     "output_type": "stream",
     "text": [
      "Epoch 11: 100%|██████████| 299/299 [00:25<00:00, 11.68batch/s, loss_decrease=1.0000055546632527]\n",
      "100%|██████████| 1193/1193 [00:12<00:00, 96.56batch/s] \n"
     ]
    },
    {
     "data": {
      "text/html": [
       "<div>\n",
       "<style scoped>\n",
       "    .dataframe tbody tr th:only-of-type {\n",
       "        vertical-align: middle;\n",
       "    }\n",
       "\n",
       "    .dataframe tbody tr th {\n",
       "        vertical-align: top;\n",
       "    }\n",
       "\n",
       "    .dataframe thead tr th {\n",
       "        text-align: left;\n",
       "    }\n",
       "</style>\n",
       "<table border=\"1\" class=\"dataframe\">\n",
       "  <thead>\n",
       "    <tr>\n",
       "      <th></th>\n",
       "      <th colspan=\"2\" halign=\"left\">All</th>\n",
       "      <th colspan=\"2\" halign=\"left\">In VOC</th>\n",
       "      <th colspan=\"2\" halign=\"left\">Out of VOC</th>\n",
       "    </tr>\n",
       "    <tr>\n",
       "      <th></th>\n",
       "      <th>f1 micro</th>\n",
       "      <th>f1 macro</th>\n",
       "      <th>f1 micro</th>\n",
       "      <th>f1 macro</th>\n",
       "      <th>f1 micro</th>\n",
       "      <th>f1 macro</th>\n",
       "    </tr>\n",
       "  </thead>\n",
       "  <tbody>\n",
       "    <tr>\n",
       "      <th>score</th>\n",
       "      <td>0.848282</td>\n",
       "      <td>0.474571</td>\n",
       "      <td>0.872727</td>\n",
       "      <td>0.556404</td>\n",
       "      <td>0.105263</td>\n",
       "      <td>0.051282</td>\n",
       "    </tr>\n",
       "  </tbody>\n",
       "</table>\n",
       "</div>"
      ],
      "text/plain": [
       "            All              In VOC           Out of VOC          \n",
       "       f1 micro  f1 macro  f1 micro  f1 macro   f1 micro  f1 macro\n",
       "score  0.848282  0.474571  0.872727  0.556404   0.105263  0.051282"
      ]
     },
     "metadata": {},
     "output_type": "display_data"
    },
    {
     "name": "stderr",
     "output_type": "stream",
     "text": [
      "Epoch 12: 100%|██████████| 299/299 [00:27<00:00, 10.90batch/s, loss_decrease=1.0000057429580038]\n",
      "100%|██████████| 1193/1193 [00:12<00:00, 97.39batch/s] \n"
     ]
    },
    {
     "data": {
      "text/html": [
       "<div>\n",
       "<style scoped>\n",
       "    .dataframe tbody tr th:only-of-type {\n",
       "        vertical-align: middle;\n",
       "    }\n",
       "\n",
       "    .dataframe tbody tr th {\n",
       "        vertical-align: top;\n",
       "    }\n",
       "\n",
       "    .dataframe thead tr th {\n",
       "        text-align: left;\n",
       "    }\n",
       "</style>\n",
       "<table border=\"1\" class=\"dataframe\">\n",
       "  <thead>\n",
       "    <tr>\n",
       "      <th></th>\n",
       "      <th colspan=\"2\" halign=\"left\">All</th>\n",
       "      <th colspan=\"2\" halign=\"left\">In VOC</th>\n",
       "      <th colspan=\"2\" halign=\"left\">Out of VOC</th>\n",
       "    </tr>\n",
       "    <tr>\n",
       "      <th></th>\n",
       "      <th>f1 micro</th>\n",
       "      <th>f1 macro</th>\n",
       "      <th>f1 micro</th>\n",
       "      <th>f1 macro</th>\n",
       "      <th>f1 micro</th>\n",
       "      <th>f1 macro</th>\n",
       "    </tr>\n",
       "  </thead>\n",
       "  <tbody>\n",
       "    <tr>\n",
       "      <th>score</th>\n",
       "      <td>0.830679</td>\n",
       "      <td>0.475118</td>\n",
       "      <td>0.855411</td>\n",
       "      <td>0.560501</td>\n",
       "      <td>0.078947</td>\n",
       "      <td>0.041026</td>\n",
       "    </tr>\n",
       "  </tbody>\n",
       "</table>\n",
       "</div>"
      ],
      "text/plain": [
       "            All              In VOC           Out of VOC          \n",
       "       f1 micro  f1 macro  f1 micro  f1 macro   f1 micro  f1 macro\n",
       "score  0.830679  0.475118  0.855411  0.560501   0.078947  0.041026"
      ]
     },
     "metadata": {},
     "output_type": "display_data"
    },
    {
     "name": "stderr",
     "output_type": "stream",
     "text": [
      "Epoch 13: 100%|██████████| 299/299 [00:26<00:00, 11.27batch/s, loss_decrease=1.0000057429580038]\n",
      "100%|██████████| 1193/1193 [00:12<00:00, 93.48batch/s]\n"
     ]
    },
    {
     "data": {
      "text/html": [
       "<div>\n",
       "<style scoped>\n",
       "    .dataframe tbody tr th:only-of-type {\n",
       "        vertical-align: middle;\n",
       "    }\n",
       "\n",
       "    .dataframe tbody tr th {\n",
       "        vertical-align: top;\n",
       "    }\n",
       "\n",
       "    .dataframe thead tr th {\n",
       "        text-align: left;\n",
       "    }\n",
       "</style>\n",
       "<table border=\"1\" class=\"dataframe\">\n",
       "  <thead>\n",
       "    <tr>\n",
       "      <th></th>\n",
       "      <th colspan=\"2\" halign=\"left\">All</th>\n",
       "      <th colspan=\"2\" halign=\"left\">In VOC</th>\n",
       "      <th colspan=\"2\" halign=\"left\">Out of VOC</th>\n",
       "    </tr>\n",
       "    <tr>\n",
       "      <th></th>\n",
       "      <th>f1 micro</th>\n",
       "      <th>f1 macro</th>\n",
       "      <th>f1 micro</th>\n",
       "      <th>f1 macro</th>\n",
       "      <th>f1 micro</th>\n",
       "      <th>f1 macro</th>\n",
       "    </tr>\n",
       "  </thead>\n",
       "  <tbody>\n",
       "    <tr>\n",
       "      <th>score</th>\n",
       "      <td>0.844091</td>\n",
       "      <td>0.485099</td>\n",
       "      <td>0.869264</td>\n",
       "      <td>0.572402</td>\n",
       "      <td>0.078947</td>\n",
       "      <td>0.036458</td>\n",
       "    </tr>\n",
       "  </tbody>\n",
       "</table>\n",
       "</div>"
      ],
      "text/plain": [
       "            All              In VOC           Out of VOC          \n",
       "       f1 micro  f1 macro  f1 micro  f1 macro   f1 micro  f1 macro\n",
       "score  0.844091  0.485099  0.869264  0.572402   0.078947  0.036458"
      ]
     },
     "metadata": {},
     "output_type": "display_data"
    },
    {
     "name": "stderr",
     "output_type": "stream",
     "text": [
      "Epoch 14: 100%|██████████| 299/299 [00:27<00:00, 10.92batch/s, loss_decrease=1.0000057429580038]\n",
      "100%|██████████| 1193/1193 [00:12<00:00, 94.98batch/s] \n"
     ]
    },
    {
     "data": {
      "text/html": [
       "<div>\n",
       "<style scoped>\n",
       "    .dataframe tbody tr th:only-of-type {\n",
       "        vertical-align: middle;\n",
       "    }\n",
       "\n",
       "    .dataframe tbody tr th {\n",
       "        vertical-align: top;\n",
       "    }\n",
       "\n",
       "    .dataframe thead tr th {\n",
       "        text-align: left;\n",
       "    }\n",
       "</style>\n",
       "<table border=\"1\" class=\"dataframe\">\n",
       "  <thead>\n",
       "    <tr>\n",
       "      <th></th>\n",
       "      <th colspan=\"2\" halign=\"left\">All</th>\n",
       "      <th colspan=\"2\" halign=\"left\">In VOC</th>\n",
       "      <th colspan=\"2\" halign=\"left\">Out of VOC</th>\n",
       "    </tr>\n",
       "    <tr>\n",
       "      <th></th>\n",
       "      <th>f1 micro</th>\n",
       "      <th>f1 macro</th>\n",
       "      <th>f1 micro</th>\n",
       "      <th>f1 macro</th>\n",
       "      <th>f1 micro</th>\n",
       "      <th>f1 macro</th>\n",
       "    </tr>\n",
       "  </thead>\n",
       "  <tbody>\n",
       "    <tr>\n",
       "      <th>score</th>\n",
       "      <td>0.844091</td>\n",
       "      <td>0.463006</td>\n",
       "      <td>0.87013</td>\n",
       "      <td>0.559943</td>\n",
       "      <td>0.052632</td>\n",
       "      <td>0.025253</td>\n",
       "    </tr>\n",
       "  </tbody>\n",
       "</table>\n",
       "</div>"
      ],
      "text/plain": [
       "            All             In VOC           Out of VOC          \n",
       "       f1 micro  f1 macro f1 micro  f1 macro   f1 micro  f1 macro\n",
       "score  0.844091  0.463006  0.87013  0.559943   0.052632  0.025253"
      ]
     },
     "metadata": {},
     "output_type": "display_data"
    },
    {
     "name": "stderr",
     "output_type": "stream",
     "text": [
      "Epoch 15: 100%|██████████| 299/299 [00:26<00:00, 11.35batch/s, loss_decrease=1.0000057429580038]\n",
      "100%|██████████| 1193/1193 [00:12<00:00, 94.98batch/s]\n"
     ]
    },
    {
     "data": {
      "text/html": [
       "<div>\n",
       "<style scoped>\n",
       "    .dataframe tbody tr th:only-of-type {\n",
       "        vertical-align: middle;\n",
       "    }\n",
       "\n",
       "    .dataframe tbody tr th {\n",
       "        vertical-align: top;\n",
       "    }\n",
       "\n",
       "    .dataframe thead tr th {\n",
       "        text-align: left;\n",
       "    }\n",
       "</style>\n",
       "<table border=\"1\" class=\"dataframe\">\n",
       "  <thead>\n",
       "    <tr>\n",
       "      <th></th>\n",
       "      <th colspan=\"2\" halign=\"left\">All</th>\n",
       "      <th colspan=\"2\" halign=\"left\">In VOC</th>\n",
       "      <th colspan=\"2\" halign=\"left\">Out of VOC</th>\n",
       "    </tr>\n",
       "    <tr>\n",
       "      <th></th>\n",
       "      <th>f1 micro</th>\n",
       "      <th>f1 macro</th>\n",
       "      <th>f1 micro</th>\n",
       "      <th>f1 macro</th>\n",
       "      <th>f1 micro</th>\n",
       "      <th>f1 macro</th>\n",
       "    </tr>\n",
       "  </thead>\n",
       "  <tbody>\n",
       "    <tr>\n",
       "      <th>score</th>\n",
       "      <td>0.839061</td>\n",
       "      <td>0.494053</td>\n",
       "      <td>0.863203</td>\n",
       "      <td>0.580607</td>\n",
       "      <td>0.105263</td>\n",
       "      <td>0.052083</td>\n",
       "    </tr>\n",
       "  </tbody>\n",
       "</table>\n",
       "</div>"
      ],
      "text/plain": [
       "            All              In VOC           Out of VOC          \n",
       "       f1 micro  f1 macro  f1 micro  f1 macro   f1 micro  f1 macro\n",
       "score  0.839061  0.494053  0.863203  0.580607   0.105263  0.052083"
      ]
     },
     "metadata": {},
     "output_type": "display_data"
    },
    {
     "name": "stderr",
     "output_type": "stream",
     "text": [
      "Epoch 16: 100%|██████████| 299/299 [00:26<00:00, 11.49batch/s, loss_decrease=1.0000057429580038]\n",
      "100%|██████████| 1193/1193 [00:12<00:00, 96.79batch/s] \n"
     ]
    },
    {
     "data": {
      "text/html": [
       "<div>\n",
       "<style scoped>\n",
       "    .dataframe tbody tr th:only-of-type {\n",
       "        vertical-align: middle;\n",
       "    }\n",
       "\n",
       "    .dataframe tbody tr th {\n",
       "        vertical-align: top;\n",
       "    }\n",
       "\n",
       "    .dataframe thead tr th {\n",
       "        text-align: left;\n",
       "    }\n",
       "</style>\n",
       "<table border=\"1\" class=\"dataframe\">\n",
       "  <thead>\n",
       "    <tr>\n",
       "      <th></th>\n",
       "      <th colspan=\"2\" halign=\"left\">All</th>\n",
       "      <th colspan=\"2\" halign=\"left\">In VOC</th>\n",
       "      <th colspan=\"2\" halign=\"left\">Out of VOC</th>\n",
       "    </tr>\n",
       "    <tr>\n",
       "      <th></th>\n",
       "      <th>f1 micro</th>\n",
       "      <th>f1 macro</th>\n",
       "      <th>f1 micro</th>\n",
       "      <th>f1 macro</th>\n",
       "      <th>f1 micro</th>\n",
       "      <th>f1 macro</th>\n",
       "    </tr>\n",
       "  </thead>\n",
       "  <tbody>\n",
       "    <tr>\n",
       "      <th>score</th>\n",
       "      <td>0.851635</td>\n",
       "      <td>0.495283</td>\n",
       "      <td>0.87619</td>\n",
       "      <td>0.582436</td>\n",
       "      <td>0.105263</td>\n",
       "      <td>0.051282</td>\n",
       "    </tr>\n",
       "  </tbody>\n",
       "</table>\n",
       "</div>"
      ],
      "text/plain": [
       "            All             In VOC           Out of VOC          \n",
       "       f1 micro  f1 macro f1 micro  f1 macro   f1 micro  f1 macro\n",
       "score  0.851635  0.495283  0.87619  0.582436   0.105263  0.051282"
      ]
     },
     "metadata": {},
     "output_type": "display_data"
    },
    {
     "name": "stderr",
     "output_type": "stream",
     "text": [
      "Epoch 17: 100%|██████████| 299/299 [00:27<00:00, 10.96batch/s, loss_decrease=1.0000057429580038]\n",
      "100%|██████████| 1193/1193 [00:12<00:00, 92.65batch/s] \n"
     ]
    },
    {
     "data": {
      "text/html": [
       "<div>\n",
       "<style scoped>\n",
       "    .dataframe tbody tr th:only-of-type {\n",
       "        vertical-align: middle;\n",
       "    }\n",
       "\n",
       "    .dataframe tbody tr th {\n",
       "        vertical-align: top;\n",
       "    }\n",
       "\n",
       "    .dataframe thead tr th {\n",
       "        text-align: left;\n",
       "    }\n",
       "</style>\n",
       "<table border=\"1\" class=\"dataframe\">\n",
       "  <thead>\n",
       "    <tr>\n",
       "      <th></th>\n",
       "      <th colspan=\"2\" halign=\"left\">All</th>\n",
       "      <th colspan=\"2\" halign=\"left\">In VOC</th>\n",
       "      <th colspan=\"2\" halign=\"left\">Out of VOC</th>\n",
       "    </tr>\n",
       "    <tr>\n",
       "      <th></th>\n",
       "      <th>f1 micro</th>\n",
       "      <th>f1 macro</th>\n",
       "      <th>f1 micro</th>\n",
       "      <th>f1 macro</th>\n",
       "      <th>f1 micro</th>\n",
       "      <th>f1 macro</th>\n",
       "    </tr>\n",
       "  </thead>\n",
       "  <tbody>\n",
       "    <tr>\n",
       "      <th>score</th>\n",
       "      <td>0.865046</td>\n",
       "      <td>0.545317</td>\n",
       "      <td>0.890043</td>\n",
       "      <td>0.639211</td>\n",
       "      <td>0.105263</td>\n",
       "      <td>0.052083</td>\n",
       "    </tr>\n",
       "  </tbody>\n",
       "</table>\n",
       "</div>"
      ],
      "text/plain": [
       "            All              In VOC           Out of VOC          \n",
       "       f1 micro  f1 macro  f1 micro  f1 macro   f1 micro  f1 macro\n",
       "score  0.865046  0.545317  0.890043  0.639211   0.105263  0.052083"
      ]
     },
     "metadata": {},
     "output_type": "display_data"
    },
    {
     "name": "stderr",
     "output_type": "stream",
     "text": [
      "Epoch 18: 100%|██████████| 299/299 [00:27<00:00, 10.94batch/s, loss_decrease=1.0000057429580038]\n",
      "100%|██████████| 1193/1193 [00:12<00:00, 95.12batch/s] \n"
     ]
    },
    {
     "data": {
      "text/html": [
       "<div>\n",
       "<style scoped>\n",
       "    .dataframe tbody tr th:only-of-type {\n",
       "        vertical-align: middle;\n",
       "    }\n",
       "\n",
       "    .dataframe tbody tr th {\n",
       "        vertical-align: top;\n",
       "    }\n",
       "\n",
       "    .dataframe thead tr th {\n",
       "        text-align: left;\n",
       "    }\n",
       "</style>\n",
       "<table border=\"1\" class=\"dataframe\">\n",
       "  <thead>\n",
       "    <tr>\n",
       "      <th></th>\n",
       "      <th colspan=\"2\" halign=\"left\">All</th>\n",
       "      <th colspan=\"2\" halign=\"left\">In VOC</th>\n",
       "      <th colspan=\"2\" halign=\"left\">Out of VOC</th>\n",
       "    </tr>\n",
       "    <tr>\n",
       "      <th></th>\n",
       "      <th>f1 micro</th>\n",
       "      <th>f1 macro</th>\n",
       "      <th>f1 micro</th>\n",
       "      <th>f1 macro</th>\n",
       "      <th>f1 micro</th>\n",
       "      <th>f1 macro</th>\n",
       "    </tr>\n",
       "  </thead>\n",
       "  <tbody>\n",
       "    <tr>\n",
       "      <th>score</th>\n",
       "      <td>0.855826</td>\n",
       "      <td>0.521136</td>\n",
       "      <td>0.879654</td>\n",
       "      <td>0.611342</td>\n",
       "      <td>0.131579</td>\n",
       "      <td>0.069892</td>\n",
       "    </tr>\n",
       "  </tbody>\n",
       "</table>\n",
       "</div>"
      ],
      "text/plain": [
       "            All              In VOC           Out of VOC          \n",
       "       f1 micro  f1 macro  f1 micro  f1 macro   f1 micro  f1 macro\n",
       "score  0.855826  0.521136  0.879654  0.611342   0.131579  0.069892"
      ]
     },
     "metadata": {},
     "output_type": "display_data"
    },
    {
     "name": "stderr",
     "output_type": "stream",
     "text": [
      "Epoch 19: 100%|██████████| 299/299 [00:28<00:00, 10.57batch/s, loss_decrease=1.0000057429580038]\n",
      "100%|██████████| 1193/1193 [00:12<00:00, 93.59batch/s] \n"
     ]
    },
    {
     "data": {
      "text/html": [
       "<div>\n",
       "<style scoped>\n",
       "    .dataframe tbody tr th:only-of-type {\n",
       "        vertical-align: middle;\n",
       "    }\n",
       "\n",
       "    .dataframe tbody tr th {\n",
       "        vertical-align: top;\n",
       "    }\n",
       "\n",
       "    .dataframe thead tr th {\n",
       "        text-align: left;\n",
       "    }\n",
       "</style>\n",
       "<table border=\"1\" class=\"dataframe\">\n",
       "  <thead>\n",
       "    <tr>\n",
       "      <th></th>\n",
       "      <th colspan=\"2\" halign=\"left\">All</th>\n",
       "      <th colspan=\"2\" halign=\"left\">In VOC</th>\n",
       "      <th colspan=\"2\" halign=\"left\">Out of VOC</th>\n",
       "    </tr>\n",
       "    <tr>\n",
       "      <th></th>\n",
       "      <th>f1 micro</th>\n",
       "      <th>f1 macro</th>\n",
       "      <th>f1 micro</th>\n",
       "      <th>f1 macro</th>\n",
       "      <th>f1 micro</th>\n",
       "      <th>f1 macro</th>\n",
       "    </tr>\n",
       "  </thead>\n",
       "  <tbody>\n",
       "    <tr>\n",
       "      <th>score</th>\n",
       "      <td>0.86337</td>\n",
       "      <td>0.533671</td>\n",
       "      <td>0.888312</td>\n",
       "      <td>0.627571</td>\n",
       "      <td>0.105263</td>\n",
       "      <td>0.053763</td>\n",
       "    </tr>\n",
       "  </tbody>\n",
       "</table>\n",
       "</div>"
      ],
      "text/plain": [
       "           All              In VOC           Out of VOC          \n",
       "      f1 micro  f1 macro  f1 micro  f1 macro   f1 micro  f1 macro\n",
       "score  0.86337  0.533671  0.888312  0.627571   0.105263  0.053763"
      ]
     },
     "metadata": {},
     "output_type": "display_data"
    },
    {
     "name": "stderr",
     "output_type": "stream",
     "text": [
      "Epoch 20: 100%|██████████| 299/299 [00:26<00:00, 11.19batch/s, loss_decrease=1.0000057429580038]\n",
      "100%|██████████| 1193/1193 [00:12<00:00, 97.65batch/s] \n"
     ]
    },
    {
     "data": {
      "text/html": [
       "<div>\n",
       "<style scoped>\n",
       "    .dataframe tbody tr th:only-of-type {\n",
       "        vertical-align: middle;\n",
       "    }\n",
       "\n",
       "    .dataframe tbody tr th {\n",
       "        vertical-align: top;\n",
       "    }\n",
       "\n",
       "    .dataframe thead tr th {\n",
       "        text-align: left;\n",
       "    }\n",
       "</style>\n",
       "<table border=\"1\" class=\"dataframe\">\n",
       "  <thead>\n",
       "    <tr>\n",
       "      <th></th>\n",
       "      <th colspan=\"2\" halign=\"left\">All</th>\n",
       "      <th colspan=\"2\" halign=\"left\">In VOC</th>\n",
       "      <th colspan=\"2\" halign=\"left\">Out of VOC</th>\n",
       "    </tr>\n",
       "    <tr>\n",
       "      <th></th>\n",
       "      <th>f1 micro</th>\n",
       "      <th>f1 macro</th>\n",
       "      <th>f1 micro</th>\n",
       "      <th>f1 macro</th>\n",
       "      <th>f1 micro</th>\n",
       "      <th>f1 macro</th>\n",
       "    </tr>\n",
       "  </thead>\n",
       "  <tbody>\n",
       "    <tr>\n",
       "      <th>score</th>\n",
       "      <td>0.864208</td>\n",
       "      <td>0.535161</td>\n",
       "      <td>0.889177</td>\n",
       "      <td>0.6216</td>\n",
       "      <td>0.105263</td>\n",
       "      <td>0.052083</td>\n",
       "    </tr>\n",
       "  </tbody>\n",
       "</table>\n",
       "</div>"
      ],
      "text/plain": [
       "            All              In VOC          Out of VOC          \n",
       "       f1 micro  f1 macro  f1 micro f1 macro   f1 micro  f1 macro\n",
       "score  0.864208  0.535161  0.889177   0.6216   0.105263  0.052083"
      ]
     },
     "metadata": {},
     "output_type": "display_data"
    },
    {
     "name": "stderr",
     "output_type": "stream",
     "text": [
      "Epoch 21: 100%|██████████| 299/299 [00:27<00:00, 10.72batch/s, loss_decrease=1.0000058371054057]\n",
      "100%|██████████| 1193/1193 [00:12<00:00, 94.49batch/s]\n"
     ]
    },
    {
     "data": {
      "text/html": [
       "<div>\n",
       "<style scoped>\n",
       "    .dataframe tbody tr th:only-of-type {\n",
       "        vertical-align: middle;\n",
       "    }\n",
       "\n",
       "    .dataframe tbody tr th {\n",
       "        vertical-align: top;\n",
       "    }\n",
       "\n",
       "    .dataframe thead tr th {\n",
       "        text-align: left;\n",
       "    }\n",
       "</style>\n",
       "<table border=\"1\" class=\"dataframe\">\n",
       "  <thead>\n",
       "    <tr>\n",
       "      <th></th>\n",
       "      <th colspan=\"2\" halign=\"left\">All</th>\n",
       "      <th colspan=\"2\" halign=\"left\">In VOC</th>\n",
       "      <th colspan=\"2\" halign=\"left\">Out of VOC</th>\n",
       "    </tr>\n",
       "    <tr>\n",
       "      <th></th>\n",
       "      <th>f1 micro</th>\n",
       "      <th>f1 macro</th>\n",
       "      <th>f1 micro</th>\n",
       "      <th>f1 macro</th>\n",
       "      <th>f1 micro</th>\n",
       "      <th>f1 macro</th>\n",
       "    </tr>\n",
       "  </thead>\n",
       "  <tbody>\n",
       "    <tr>\n",
       "      <th>score</th>\n",
       "      <td>0.866723</td>\n",
       "      <td>0.535121</td>\n",
       "      <td>0.891775</td>\n",
       "      <td>0.620733</td>\n",
       "      <td>0.105263</td>\n",
       "      <td>0.051282</td>\n",
       "    </tr>\n",
       "  </tbody>\n",
       "</table>\n",
       "</div>"
      ],
      "text/plain": [
       "            All              In VOC           Out of VOC          \n",
       "       f1 micro  f1 macro  f1 micro  f1 macro   f1 micro  f1 macro\n",
       "score  0.866723  0.535121  0.891775  0.620733   0.105263  0.051282"
      ]
     },
     "metadata": {},
     "output_type": "display_data"
    },
    {
     "name": "stderr",
     "output_type": "stream",
     "text": [
      "Epoch 22: 100%|██████████| 299/299 [00:27<00:00, 10.94batch/s, loss_decrease=1.0000057429580038]\n",
      "100%|██████████| 1193/1193 [00:12<00:00, 95.61batch/s]\n"
     ]
    },
    {
     "data": {
      "text/html": [
       "<div>\n",
       "<style scoped>\n",
       "    .dataframe tbody tr th:only-of-type {\n",
       "        vertical-align: middle;\n",
       "    }\n",
       "\n",
       "    .dataframe tbody tr th {\n",
       "        vertical-align: top;\n",
       "    }\n",
       "\n",
       "    .dataframe thead tr th {\n",
       "        text-align: left;\n",
       "    }\n",
       "</style>\n",
       "<table border=\"1\" class=\"dataframe\">\n",
       "  <thead>\n",
       "    <tr>\n",
       "      <th></th>\n",
       "      <th colspan=\"2\" halign=\"left\">All</th>\n",
       "      <th colspan=\"2\" halign=\"left\">In VOC</th>\n",
       "      <th colspan=\"2\" halign=\"left\">Out of VOC</th>\n",
       "    </tr>\n",
       "    <tr>\n",
       "      <th></th>\n",
       "      <th>f1 micro</th>\n",
       "      <th>f1 macro</th>\n",
       "      <th>f1 micro</th>\n",
       "      <th>f1 macro</th>\n",
       "      <th>f1 micro</th>\n",
       "      <th>f1 macro</th>\n",
       "    </tr>\n",
       "  </thead>\n",
       "  <tbody>\n",
       "    <tr>\n",
       "      <th>score</th>\n",
       "      <td>0.864208</td>\n",
       "      <td>0.547958</td>\n",
       "      <td>0.889177</td>\n",
       "      <td>0.645076</td>\n",
       "      <td>0.105263</td>\n",
       "      <td>0.051282</td>\n",
       "    </tr>\n",
       "  </tbody>\n",
       "</table>\n",
       "</div>"
      ],
      "text/plain": [
       "            All              In VOC           Out of VOC          \n",
       "       f1 micro  f1 macro  f1 micro  f1 macro   f1 micro  f1 macro\n",
       "score  0.864208  0.547958  0.889177  0.645076   0.105263  0.051282"
      ]
     },
     "metadata": {},
     "output_type": "display_data"
    },
    {
     "name": "stderr",
     "output_type": "stream",
     "text": [
      "Epoch 23: 100%|██████████| 299/299 [00:27<00:00, 10.71batch/s, loss_decrease=1.0000057429580038]\n",
      "100%|██████████| 1193/1193 [00:12<00:00, 96.78batch/s] \n"
     ]
    },
    {
     "data": {
      "text/html": [
       "<div>\n",
       "<style scoped>\n",
       "    .dataframe tbody tr th:only-of-type {\n",
       "        vertical-align: middle;\n",
       "    }\n",
       "\n",
       "    .dataframe tbody tr th {\n",
       "        vertical-align: top;\n",
       "    }\n",
       "\n",
       "    .dataframe thead tr th {\n",
       "        text-align: left;\n",
       "    }\n",
       "</style>\n",
       "<table border=\"1\" class=\"dataframe\">\n",
       "  <thead>\n",
       "    <tr>\n",
       "      <th></th>\n",
       "      <th colspan=\"2\" halign=\"left\">All</th>\n",
       "      <th colspan=\"2\" halign=\"left\">In VOC</th>\n",
       "      <th colspan=\"2\" halign=\"left\">Out of VOC</th>\n",
       "    </tr>\n",
       "    <tr>\n",
       "      <th></th>\n",
       "      <th>f1 micro</th>\n",
       "      <th>f1 macro</th>\n",
       "      <th>f1 micro</th>\n",
       "      <th>f1 macro</th>\n",
       "      <th>f1 micro</th>\n",
       "      <th>f1 macro</th>\n",
       "    </tr>\n",
       "  </thead>\n",
       "  <tbody>\n",
       "    <tr>\n",
       "      <th>score</th>\n",
       "      <td>0.866723</td>\n",
       "      <td>0.542465</td>\n",
       "      <td>0.891775</td>\n",
       "      <td>0.64463</td>\n",
       "      <td>0.105263</td>\n",
       "      <td>0.050505</td>\n",
       "    </tr>\n",
       "  </tbody>\n",
       "</table>\n",
       "</div>"
      ],
      "text/plain": [
       "            All              In VOC          Out of VOC          \n",
       "       f1 micro  f1 macro  f1 micro f1 macro   f1 micro  f1 macro\n",
       "score  0.866723  0.542465  0.891775  0.64463   0.105263  0.050505"
      ]
     },
     "metadata": {},
     "output_type": "display_data"
    },
    {
     "name": "stderr",
     "output_type": "stream",
     "text": [
      "Epoch 24: 100%|██████████| 299/299 [00:26<00:00, 11.08batch/s, loss_decrease=1.0000057429580038]\n",
      "100%|██████████| 1193/1193 [00:12<00:00, 96.77batch/s]\n"
     ]
    },
    {
     "data": {
      "text/html": [
       "<div>\n",
       "<style scoped>\n",
       "    .dataframe tbody tr th:only-of-type {\n",
       "        vertical-align: middle;\n",
       "    }\n",
       "\n",
       "    .dataframe tbody tr th {\n",
       "        vertical-align: top;\n",
       "    }\n",
       "\n",
       "    .dataframe thead tr th {\n",
       "        text-align: left;\n",
       "    }\n",
       "</style>\n",
       "<table border=\"1\" class=\"dataframe\">\n",
       "  <thead>\n",
       "    <tr>\n",
       "      <th></th>\n",
       "      <th colspan=\"2\" halign=\"left\">All</th>\n",
       "      <th colspan=\"2\" halign=\"left\">In VOC</th>\n",
       "      <th colspan=\"2\" halign=\"left\">Out of VOC</th>\n",
       "    </tr>\n",
       "    <tr>\n",
       "      <th></th>\n",
       "      <th>f1 micro</th>\n",
       "      <th>f1 macro</th>\n",
       "      <th>f1 micro</th>\n",
       "      <th>f1 macro</th>\n",
       "      <th>f1 micro</th>\n",
       "      <th>f1 macro</th>\n",
       "    </tr>\n",
       "  </thead>\n",
       "  <tbody>\n",
       "    <tr>\n",
       "      <th>score</th>\n",
       "      <td>0.864208</td>\n",
       "      <td>0.547309</td>\n",
       "      <td>0.889177</td>\n",
       "      <td>0.652698</td>\n",
       "      <td>0.105263</td>\n",
       "      <td>0.050505</td>\n",
       "    </tr>\n",
       "  </tbody>\n",
       "</table>\n",
       "</div>"
      ],
      "text/plain": [
       "            All              In VOC           Out of VOC          \n",
       "       f1 micro  f1 macro  f1 micro  f1 macro   f1 micro  f1 macro\n",
       "score  0.864208  0.547309  0.889177  0.652698   0.105263  0.050505"
      ]
     },
     "metadata": {},
     "output_type": "display_data"
    },
    {
     "name": "stderr",
     "output_type": "stream",
     "text": [
      "Epoch 25: 100%|██████████| 299/299 [00:25<00:00, 11.87batch/s, loss_decrease=1.0000057429580038]\n",
      "100%|██████████| 1193/1193 [00:12<00:00, 93.26batch/s] \n"
     ]
    },
    {
     "data": {
      "text/html": [
       "<div>\n",
       "<style scoped>\n",
       "    .dataframe tbody tr th:only-of-type {\n",
       "        vertical-align: middle;\n",
       "    }\n",
       "\n",
       "    .dataframe tbody tr th {\n",
       "        vertical-align: top;\n",
       "    }\n",
       "\n",
       "    .dataframe thead tr th {\n",
       "        text-align: left;\n",
       "    }\n",
       "</style>\n",
       "<table border=\"1\" class=\"dataframe\">\n",
       "  <thead>\n",
       "    <tr>\n",
       "      <th></th>\n",
       "      <th colspan=\"2\" halign=\"left\">All</th>\n",
       "      <th colspan=\"2\" halign=\"left\">In VOC</th>\n",
       "      <th colspan=\"2\" halign=\"left\">Out of VOC</th>\n",
       "    </tr>\n",
       "    <tr>\n",
       "      <th></th>\n",
       "      <th>f1 micro</th>\n",
       "      <th>f1 macro</th>\n",
       "      <th>f1 micro</th>\n",
       "      <th>f1 macro</th>\n",
       "      <th>f1 micro</th>\n",
       "      <th>f1 macro</th>\n",
       "    </tr>\n",
       "  </thead>\n",
       "  <tbody>\n",
       "    <tr>\n",
       "      <th>score</th>\n",
       "      <td>0.867561</td>\n",
       "      <td>0.551561</td>\n",
       "      <td>0.891775</td>\n",
       "      <td>0.651897</td>\n",
       "      <td>0.131579</td>\n",
       "      <td>0.068783</td>\n",
       "    </tr>\n",
       "  </tbody>\n",
       "</table>\n",
       "</div>"
      ],
      "text/plain": [
       "            All              In VOC           Out of VOC          \n",
       "       f1 micro  f1 macro  f1 micro  f1 macro   f1 micro  f1 macro\n",
       "score  0.867561  0.551561  0.891775  0.651897   0.131579  0.068783"
      ]
     },
     "metadata": {},
     "output_type": "display_data"
    },
    {
     "name": "stdout",
     "output_type": "stream",
     "text": [
      "Finished Training\n",
      "exp: 4\n",
      "\n"
     ]
    },
    {
     "name": "stderr",
     "output_type": "stream",
     "text": [
      "Some weights of the model checkpoint at roberta-base were not used when initializing RobertaModel: ['lm_head.dense.weight', 'lm_head.decoder.weight', 'lm_head.bias', 'lm_head.dense.bias', 'lm_head.layer_norm.weight', 'lm_head.layer_norm.bias']\n",
      "- This IS expected if you are initializing RobertaModel from the checkpoint of a model trained on another task or with another architecture (e.g. initializing a BertForSequenceClassification model from a BertForPreTraining model).\n",
      "- This IS NOT expected if you are initializing RobertaModel from the checkpoint of a model that you expect to be exactly identical (initializing a BertForSequenceClassification model from a BertForSequenceClassification model).\n"
     ]
    },
    {
     "name": "stdout",
     "output_type": "stream",
     "text": [
      "Net loaded\n"
     ]
    },
    {
     "name": "stderr",
     "output_type": "stream",
     "text": [
      "Epoch 1: 100%|██████████| 299/299 [00:27<00:00, 11.02batch/s, loss_decrease=1.0000026361036807]\n",
      "100%|██████████| 1193/1193 [00:12<00:00, 94.76batch/s] \n"
     ]
    },
    {
     "data": {
      "text/html": [
       "<div>\n",
       "<style scoped>\n",
       "    .dataframe tbody tr th:only-of-type {\n",
       "        vertical-align: middle;\n",
       "    }\n",
       "\n",
       "    .dataframe tbody tr th {\n",
       "        vertical-align: top;\n",
       "    }\n",
       "\n",
       "    .dataframe thead tr th {\n",
       "        text-align: left;\n",
       "    }\n",
       "</style>\n",
       "<table border=\"1\" class=\"dataframe\">\n",
       "  <thead>\n",
       "    <tr>\n",
       "      <th></th>\n",
       "      <th colspan=\"2\" halign=\"left\">All</th>\n",
       "      <th colspan=\"2\" halign=\"left\">In VOC</th>\n",
       "      <th colspan=\"2\" halign=\"left\">Out of VOC</th>\n",
       "    </tr>\n",
       "    <tr>\n",
       "      <th></th>\n",
       "      <th>f1 micro</th>\n",
       "      <th>f1 macro</th>\n",
       "      <th>f1 micro</th>\n",
       "      <th>f1 macro</th>\n",
       "      <th>f1 micro</th>\n",
       "      <th>f1 macro</th>\n",
       "    </tr>\n",
       "  </thead>\n",
       "  <tbody>\n",
       "    <tr>\n",
       "      <th>score</th>\n",
       "      <td>0.651299</td>\n",
       "      <td>0.220052</td>\n",
       "      <td>0.678915</td>\n",
       "      <td>0.26903</td>\n",
       "      <td>0.02</td>\n",
       "      <td>0.013333</td>\n",
       "    </tr>\n",
       "  </tbody>\n",
       "</table>\n",
       "</div>"
      ],
      "text/plain": [
       "            All              In VOC          Out of VOC          \n",
       "       f1 micro  f1 macro  f1 micro f1 macro   f1 micro  f1 macro\n",
       "score  0.651299  0.220052  0.678915  0.26903       0.02  0.013333"
      ]
     },
     "metadata": {},
     "output_type": "display_data"
    },
    {
     "name": "stderr",
     "output_type": "stream",
     "text": [
      "Epoch 2: 100%|██████████| 299/299 [00:26<00:00, 11.12batch/s, loss_decrease=1.0000037658666554]\n",
      "100%|██████████| 1193/1193 [00:12<00:00, 95.14batch/s] \n"
     ]
    },
    {
     "data": {
      "text/html": [
       "<div>\n",
       "<style scoped>\n",
       "    .dataframe tbody tr th:only-of-type {\n",
       "        vertical-align: middle;\n",
       "    }\n",
       "\n",
       "    .dataframe tbody tr th {\n",
       "        vertical-align: top;\n",
       "    }\n",
       "\n",
       "    .dataframe thead tr th {\n",
       "        text-align: left;\n",
       "    }\n",
       "</style>\n",
       "<table border=\"1\" class=\"dataframe\">\n",
       "  <thead>\n",
       "    <tr>\n",
       "      <th></th>\n",
       "      <th colspan=\"2\" halign=\"left\">All</th>\n",
       "      <th colspan=\"2\" halign=\"left\">In VOC</th>\n",
       "      <th colspan=\"2\" halign=\"left\">Out of VOC</th>\n",
       "    </tr>\n",
       "    <tr>\n",
       "      <th></th>\n",
       "      <th>f1 micro</th>\n",
       "      <th>f1 macro</th>\n",
       "      <th>f1 micro</th>\n",
       "      <th>f1 macro</th>\n",
       "      <th>f1 micro</th>\n",
       "      <th>f1 macro</th>\n",
       "    </tr>\n",
       "  </thead>\n",
       "  <tbody>\n",
       "    <tr>\n",
       "      <th>score</th>\n",
       "      <td>0.732607</td>\n",
       "      <td>0.301448</td>\n",
       "      <td>0.762905</td>\n",
       "      <td>0.372131</td>\n",
       "      <td>0.04</td>\n",
       "      <td>0.025</td>\n",
       "    </tr>\n",
       "  </tbody>\n",
       "</table>\n",
       "</div>"
      ],
      "text/plain": [
       "            All              In VOC           Out of VOC         \n",
       "       f1 micro  f1 macro  f1 micro  f1 macro   f1 micro f1 macro\n",
       "score  0.732607  0.301448  0.762905  0.372131       0.04    0.025"
      ]
     },
     "metadata": {},
     "output_type": "display_data"
    },
    {
     "name": "stderr",
     "output_type": "stream",
     "text": [
      "Epoch 3: 100%|██████████| 299/299 [00:27<00:00, 10.83batch/s, loss_decrease=1.000004142454881] \n",
      "100%|██████████| 1193/1193 [00:12<00:00, 98.63batch/s] \n"
     ]
    },
    {
     "data": {
      "text/html": [
       "<div>\n",
       "<style scoped>\n",
       "    .dataframe tbody tr th:only-of-type {\n",
       "        vertical-align: middle;\n",
       "    }\n",
       "\n",
       "    .dataframe tbody tr th {\n",
       "        vertical-align: top;\n",
       "    }\n",
       "\n",
       "    .dataframe thead tr th {\n",
       "        text-align: left;\n",
       "    }\n",
       "</style>\n",
       "<table border=\"1\" class=\"dataframe\">\n",
       "  <thead>\n",
       "    <tr>\n",
       "      <th></th>\n",
       "      <th colspan=\"2\" halign=\"left\">All</th>\n",
       "      <th colspan=\"2\" halign=\"left\">In VOC</th>\n",
       "      <th colspan=\"2\" halign=\"left\">Out of VOC</th>\n",
       "    </tr>\n",
       "    <tr>\n",
       "      <th></th>\n",
       "      <th>f1 micro</th>\n",
       "      <th>f1 macro</th>\n",
       "      <th>f1 micro</th>\n",
       "      <th>f1 macro</th>\n",
       "      <th>f1 micro</th>\n",
       "      <th>f1 macro</th>\n",
       "    </tr>\n",
       "  </thead>\n",
       "  <tbody>\n",
       "    <tr>\n",
       "      <th>score</th>\n",
       "      <td>0.75943</td>\n",
       "      <td>0.322609</td>\n",
       "      <td>0.789151</td>\n",
       "      <td>0.398985</td>\n",
       "      <td>0.08</td>\n",
       "      <td>0.036145</td>\n",
       "    </tr>\n",
       "  </tbody>\n",
       "</table>\n",
       "</div>"
      ],
      "text/plain": [
       "           All              In VOC           Out of VOC          \n",
       "      f1 micro  f1 macro  f1 micro  f1 macro   f1 micro  f1 macro\n",
       "score  0.75943  0.322609  0.789151  0.398985       0.08  0.036145"
      ]
     },
     "metadata": {},
     "output_type": "display_data"
    },
    {
     "name": "stderr",
     "output_type": "stream",
     "text": [
      "Epoch 4: 100%|██████████| 299/299 [00:24<00:00, 11.99batch/s, loss_decrease=1.0000045190433902]\n",
      "100%|██████████| 1193/1193 [00:12<00:00, 98.45batch/s] \n"
     ]
    },
    {
     "data": {
      "text/html": [
       "<div>\n",
       "<style scoped>\n",
       "    .dataframe tbody tr th:only-of-type {\n",
       "        vertical-align: middle;\n",
       "    }\n",
       "\n",
       "    .dataframe tbody tr th {\n",
       "        vertical-align: top;\n",
       "    }\n",
       "\n",
       "    .dataframe thead tr th {\n",
       "        text-align: left;\n",
       "    }\n",
       "</style>\n",
       "<table border=\"1\" class=\"dataframe\">\n",
       "  <thead>\n",
       "    <tr>\n",
       "      <th></th>\n",
       "      <th colspan=\"2\" halign=\"left\">All</th>\n",
       "      <th colspan=\"2\" halign=\"left\">In VOC</th>\n",
       "      <th colspan=\"2\" halign=\"left\">Out of VOC</th>\n",
       "    </tr>\n",
       "    <tr>\n",
       "      <th></th>\n",
       "      <th>f1 micro</th>\n",
       "      <th>f1 macro</th>\n",
       "      <th>f1 micro</th>\n",
       "      <th>f1 macro</th>\n",
       "      <th>f1 micro</th>\n",
       "      <th>f1 macro</th>\n",
       "    </tr>\n",
       "  </thead>\n",
       "  <tbody>\n",
       "    <tr>\n",
       "      <th>score</th>\n",
       "      <td>0.778709</td>\n",
       "      <td>0.360972</td>\n",
       "      <td>0.806649</td>\n",
       "      <td>0.441215</td>\n",
       "      <td>0.14</td>\n",
       "      <td>0.070588</td>\n",
       "    </tr>\n",
       "  </tbody>\n",
       "</table>\n",
       "</div>"
      ],
      "text/plain": [
       "            All              In VOC           Out of VOC          \n",
       "       f1 micro  f1 macro  f1 micro  f1 macro   f1 micro  f1 macro\n",
       "score  0.778709  0.360972  0.806649  0.441215       0.14  0.070588"
      ]
     },
     "metadata": {},
     "output_type": "display_data"
    },
    {
     "name": "stderr",
     "output_type": "stream",
     "text": [
      "Epoch 5: 100%|██████████| 299/299 [00:27<00:00, 11.02batch/s, loss_decrease=1.000004801484958] \n",
      "100%|██████████| 1193/1193 [00:12<00:00, 96.82batch/s] \n"
     ]
    },
    {
     "data": {
      "text/html": [
       "<div>\n",
       "<style scoped>\n",
       "    .dataframe tbody tr th:only-of-type {\n",
       "        vertical-align: middle;\n",
       "    }\n",
       "\n",
       "    .dataframe tbody tr th {\n",
       "        vertical-align: top;\n",
       "    }\n",
       "\n",
       "    .dataframe thead tr th {\n",
       "        text-align: left;\n",
       "    }\n",
       "</style>\n",
       "<table border=\"1\" class=\"dataframe\">\n",
       "  <thead>\n",
       "    <tr>\n",
       "      <th></th>\n",
       "      <th colspan=\"2\" halign=\"left\">All</th>\n",
       "      <th colspan=\"2\" halign=\"left\">In VOC</th>\n",
       "      <th colspan=\"2\" halign=\"left\">Out of VOC</th>\n",
       "    </tr>\n",
       "    <tr>\n",
       "      <th></th>\n",
       "      <th>f1 micro</th>\n",
       "      <th>f1 macro</th>\n",
       "      <th>f1 micro</th>\n",
       "      <th>f1 macro</th>\n",
       "      <th>f1 micro</th>\n",
       "      <th>f1 macro</th>\n",
       "    </tr>\n",
       "  </thead>\n",
       "  <tbody>\n",
       "    <tr>\n",
       "      <th>score</th>\n",
       "      <td>0.803018</td>\n",
       "      <td>0.410367</td>\n",
       "      <td>0.832021</td>\n",
       "      <td>0.501663</td>\n",
       "      <td>0.14</td>\n",
       "      <td>0.070588</td>\n",
       "    </tr>\n",
       "  </tbody>\n",
       "</table>\n",
       "</div>"
      ],
      "text/plain": [
       "            All              In VOC           Out of VOC          \n",
       "       f1 micro  f1 macro  f1 micro  f1 macro   f1 micro  f1 macro\n",
       "score  0.803018  0.410367  0.832021  0.501663       0.14  0.070588"
      ]
     },
     "metadata": {},
     "output_type": "display_data"
    },
    {
     "name": "stderr",
     "output_type": "stream",
     "text": [
      "Epoch 6: 100%|██████████| 299/299 [00:26<00:00, 11.17batch/s, loss_decrease=1.0000051780739636]\n",
      "100%|██████████| 1193/1193 [00:12<00:00, 94.74batch/s]\n"
     ]
    },
    {
     "data": {
      "text/html": [
       "<div>\n",
       "<style scoped>\n",
       "    .dataframe tbody tr th:only-of-type {\n",
       "        vertical-align: middle;\n",
       "    }\n",
       "\n",
       "    .dataframe tbody tr th {\n",
       "        vertical-align: top;\n",
       "    }\n",
       "\n",
       "    .dataframe thead tr th {\n",
       "        text-align: left;\n",
       "    }\n",
       "</style>\n",
       "<table border=\"1\" class=\"dataframe\">\n",
       "  <thead>\n",
       "    <tr>\n",
       "      <th></th>\n",
       "      <th colspan=\"2\" halign=\"left\">All</th>\n",
       "      <th colspan=\"2\" halign=\"left\">In VOC</th>\n",
       "      <th colspan=\"2\" halign=\"left\">Out of VOC</th>\n",
       "    </tr>\n",
       "    <tr>\n",
       "      <th></th>\n",
       "      <th>f1 micro</th>\n",
       "      <th>f1 macro</th>\n",
       "      <th>f1 micro</th>\n",
       "      <th>f1 macro</th>\n",
       "      <th>f1 micro</th>\n",
       "      <th>f1 macro</th>\n",
       "    </tr>\n",
       "  </thead>\n",
       "  <tbody>\n",
       "    <tr>\n",
       "      <th>score</th>\n",
       "      <td>0.824811</td>\n",
       "      <td>0.460229</td>\n",
       "      <td>0.853893</td>\n",
       "      <td>0.560295</td>\n",
       "      <td>0.16</td>\n",
       "      <td>0.08642</td>\n",
       "    </tr>\n",
       "  </tbody>\n",
       "</table>\n",
       "</div>"
      ],
      "text/plain": [
       "            All              In VOC           Out of VOC         \n",
       "       f1 micro  f1 macro  f1 micro  f1 macro   f1 micro f1 macro\n",
       "score  0.824811  0.460229  0.853893  0.560295       0.16  0.08642"
      ]
     },
     "metadata": {},
     "output_type": "display_data"
    },
    {
     "name": "stderr",
     "output_type": "stream",
     "text": [
      "Epoch 7: 100%|██████████| 299/299 [00:27<00:00, 11.05batch/s, loss_decrease=1.0000051780739636]\n",
      "100%|██████████| 1193/1193 [00:12<00:00, 97.16batch/s] \n"
     ]
    },
    {
     "data": {
      "text/html": [
       "<div>\n",
       "<style scoped>\n",
       "    .dataframe tbody tr th:only-of-type {\n",
       "        vertical-align: middle;\n",
       "    }\n",
       "\n",
       "    .dataframe tbody tr th {\n",
       "        vertical-align: top;\n",
       "    }\n",
       "\n",
       "    .dataframe thead tr th {\n",
       "        text-align: left;\n",
       "    }\n",
       "</style>\n",
       "<table border=\"1\" class=\"dataframe\">\n",
       "  <thead>\n",
       "    <tr>\n",
       "      <th></th>\n",
       "      <th colspan=\"2\" halign=\"left\">All</th>\n",
       "      <th colspan=\"2\" halign=\"left\">In VOC</th>\n",
       "      <th colspan=\"2\" halign=\"left\">Out of VOC</th>\n",
       "    </tr>\n",
       "    <tr>\n",
       "      <th></th>\n",
       "      <th>f1 micro</th>\n",
       "      <th>f1 macro</th>\n",
       "      <th>f1 micro</th>\n",
       "      <th>f1 macro</th>\n",
       "      <th>f1 micro</th>\n",
       "      <th>f1 macro</th>\n",
       "    </tr>\n",
       "  </thead>\n",
       "  <tbody>\n",
       "    <tr>\n",
       "      <th>score</th>\n",
       "      <td>0.824811</td>\n",
       "      <td>0.458999</td>\n",
       "      <td>0.856518</td>\n",
       "      <td>0.570491</td>\n",
       "      <td>0.1</td>\n",
       "      <td>0.047619</td>\n",
       "    </tr>\n",
       "  </tbody>\n",
       "</table>\n",
       "</div>"
      ],
      "text/plain": [
       "            All              In VOC           Out of VOC          \n",
       "       f1 micro  f1 macro  f1 micro  f1 macro   f1 micro  f1 macro\n",
       "score  0.824811  0.458999  0.856518  0.570491        0.1  0.047619"
      ]
     },
     "metadata": {},
     "output_type": "display_data"
    },
    {
     "name": "stderr",
     "output_type": "stream",
     "text": [
      "Epoch 8: 100%|██████████| 299/299 [00:27<00:00, 10.86batch/s, loss_decrease=1.0000051780739636]\n",
      "100%|██████████| 1193/1193 [00:12<00:00, 95.06batch/s] \n"
     ]
    },
    {
     "data": {
      "text/html": [
       "<div>\n",
       "<style scoped>\n",
       "    .dataframe tbody tr th:only-of-type {\n",
       "        vertical-align: middle;\n",
       "    }\n",
       "\n",
       "    .dataframe tbody tr th {\n",
       "        vertical-align: top;\n",
       "    }\n",
       "\n",
       "    .dataframe thead tr th {\n",
       "        text-align: left;\n",
       "    }\n",
       "</style>\n",
       "<table border=\"1\" class=\"dataframe\">\n",
       "  <thead>\n",
       "    <tr>\n",
       "      <th></th>\n",
       "      <th colspan=\"2\" halign=\"left\">All</th>\n",
       "      <th colspan=\"2\" halign=\"left\">In VOC</th>\n",
       "      <th colspan=\"2\" halign=\"left\">Out of VOC</th>\n",
       "    </tr>\n",
       "    <tr>\n",
       "      <th></th>\n",
       "      <th>f1 micro</th>\n",
       "      <th>f1 macro</th>\n",
       "      <th>f1 micro</th>\n",
       "      <th>f1 macro</th>\n",
       "      <th>f1 micro</th>\n",
       "      <th>f1 macro</th>\n",
       "    </tr>\n",
       "  </thead>\n",
       "  <tbody>\n",
       "    <tr>\n",
       "      <th>score</th>\n",
       "      <td>0.83487</td>\n",
       "      <td>0.477423</td>\n",
       "      <td>0.867017</td>\n",
       "      <td>0.603761</td>\n",
       "      <td>0.1</td>\n",
       "      <td>0.049383</td>\n",
       "    </tr>\n",
       "  </tbody>\n",
       "</table>\n",
       "</div>"
      ],
      "text/plain": [
       "           All              In VOC           Out of VOC          \n",
       "      f1 micro  f1 macro  f1 micro  f1 macro   f1 micro  f1 macro\n",
       "score  0.83487  0.477423  0.867017  0.603761        0.1  0.049383"
      ]
     },
     "metadata": {},
     "output_type": "display_data"
    },
    {
     "name": "stderr",
     "output_type": "stream",
     "text": [
      "Epoch 9: 100%|██████████| 299/299 [00:27<00:00, 10.92batch/s, loss_decrease=1.0000051780739636]\n",
      "100%|██████████| 1193/1193 [00:12<00:00, 97.46batch/s] \n"
     ]
    },
    {
     "data": {
      "text/html": [
       "<div>\n",
       "<style scoped>\n",
       "    .dataframe tbody tr th:only-of-type {\n",
       "        vertical-align: middle;\n",
       "    }\n",
       "\n",
       "    .dataframe tbody tr th {\n",
       "        vertical-align: top;\n",
       "    }\n",
       "\n",
       "    .dataframe thead tr th {\n",
       "        text-align: left;\n",
       "    }\n",
       "</style>\n",
       "<table border=\"1\" class=\"dataframe\">\n",
       "  <thead>\n",
       "    <tr>\n",
       "      <th></th>\n",
       "      <th colspan=\"2\" halign=\"left\">All</th>\n",
       "      <th colspan=\"2\" halign=\"left\">In VOC</th>\n",
       "      <th colspan=\"2\" halign=\"left\">Out of VOC</th>\n",
       "    </tr>\n",
       "    <tr>\n",
       "      <th></th>\n",
       "      <th>f1 micro</th>\n",
       "      <th>f1 macro</th>\n",
       "      <th>f1 micro</th>\n",
       "      <th>f1 macro</th>\n",
       "      <th>f1 micro</th>\n",
       "      <th>f1 macro</th>\n",
       "    </tr>\n",
       "  </thead>\n",
       "  <tbody>\n",
       "    <tr>\n",
       "      <th>score</th>\n",
       "      <td>0.83487</td>\n",
       "      <td>0.500338</td>\n",
       "      <td>0.865267</td>\n",
       "      <td>0.618152</td>\n",
       "      <td>0.14</td>\n",
       "      <td>0.074074</td>\n",
       "    </tr>\n",
       "  </tbody>\n",
       "</table>\n",
       "</div>"
      ],
      "text/plain": [
       "           All              In VOC           Out of VOC          \n",
       "      f1 micro  f1 macro  f1 micro  f1 macro   f1 micro  f1 macro\n",
       "score  0.83487  0.500338  0.865267  0.618152       0.14  0.074074"
      ]
     },
     "metadata": {},
     "output_type": "display_data"
    },
    {
     "name": "stderr",
     "output_type": "stream",
     "text": [
      "Epoch 10: 100%|██████████| 299/299 [00:25<00:00, 11.73batch/s, loss_decrease=1.0000053663685728]\n",
      "100%|██████████| 1193/1193 [00:12<00:00, 98.55batch/s] \n"
     ]
    },
    {
     "data": {
      "text/html": [
       "<div>\n",
       "<style scoped>\n",
       "    .dataframe tbody tr th:only-of-type {\n",
       "        vertical-align: middle;\n",
       "    }\n",
       "\n",
       "    .dataframe tbody tr th {\n",
       "        vertical-align: top;\n",
       "    }\n",
       "\n",
       "    .dataframe thead tr th {\n",
       "        text-align: left;\n",
       "    }\n",
       "</style>\n",
       "<table border=\"1\" class=\"dataframe\">\n",
       "  <thead>\n",
       "    <tr>\n",
       "      <th></th>\n",
       "      <th colspan=\"2\" halign=\"left\">All</th>\n",
       "      <th colspan=\"2\" halign=\"left\">In VOC</th>\n",
       "      <th colspan=\"2\" halign=\"left\">Out of VOC</th>\n",
       "    </tr>\n",
       "    <tr>\n",
       "      <th></th>\n",
       "      <th>f1 micro</th>\n",
       "      <th>f1 macro</th>\n",
       "      <th>f1 micro</th>\n",
       "      <th>f1 macro</th>\n",
       "      <th>f1 micro</th>\n",
       "      <th>f1 macro</th>\n",
       "    </tr>\n",
       "  </thead>\n",
       "  <tbody>\n",
       "    <tr>\n",
       "      <th>score</th>\n",
       "      <td>0.838223</td>\n",
       "      <td>0.503347</td>\n",
       "      <td>0.870516</td>\n",
       "      <td>0.634238</td>\n",
       "      <td>0.1</td>\n",
       "      <td>0.051282</td>\n",
       "    </tr>\n",
       "  </tbody>\n",
       "</table>\n",
       "</div>"
      ],
      "text/plain": [
       "            All              In VOC           Out of VOC          \n",
       "       f1 micro  f1 macro  f1 micro  f1 macro   f1 micro  f1 macro\n",
       "score  0.838223  0.503347  0.870516  0.634238        0.1  0.051282"
      ]
     },
     "metadata": {},
     "output_type": "display_data"
    },
    {
     "name": "stderr",
     "output_type": "stream",
     "text": [
      "Epoch 11: 100%|██████████| 299/299 [00:26<00:00, 11.29batch/s, loss_decrease=1.0000053663685728]\n",
      "100%|██████████| 1193/1193 [00:12<00:00, 93.86batch/s] \n"
     ]
    },
    {
     "data": {
      "text/html": [
       "<div>\n",
       "<style scoped>\n",
       "    .dataframe tbody tr th:only-of-type {\n",
       "        vertical-align: middle;\n",
       "    }\n",
       "\n",
       "    .dataframe tbody tr th {\n",
       "        vertical-align: top;\n",
       "    }\n",
       "\n",
       "    .dataframe thead tr th {\n",
       "        text-align: left;\n",
       "    }\n",
       "</style>\n",
       "<table border=\"1\" class=\"dataframe\">\n",
       "  <thead>\n",
       "    <tr>\n",
       "      <th></th>\n",
       "      <th colspan=\"2\" halign=\"left\">All</th>\n",
       "      <th colspan=\"2\" halign=\"left\">In VOC</th>\n",
       "      <th colspan=\"2\" halign=\"left\">Out of VOC</th>\n",
       "    </tr>\n",
       "    <tr>\n",
       "      <th></th>\n",
       "      <th>f1 micro</th>\n",
       "      <th>f1 macro</th>\n",
       "      <th>f1 micro</th>\n",
       "      <th>f1 macro</th>\n",
       "      <th>f1 micro</th>\n",
       "      <th>f1 macro</th>\n",
       "    </tr>\n",
       "  </thead>\n",
       "  <tbody>\n",
       "    <tr>\n",
       "      <th>score</th>\n",
       "      <td>0.838223</td>\n",
       "      <td>0.488277</td>\n",
       "      <td>0.871391</td>\n",
       "      <td>0.617061</td>\n",
       "      <td>0.08</td>\n",
       "      <td>0.04878</td>\n",
       "    </tr>\n",
       "  </tbody>\n",
       "</table>\n",
       "</div>"
      ],
      "text/plain": [
       "            All              In VOC           Out of VOC         \n",
       "       f1 micro  f1 macro  f1 micro  f1 macro   f1 micro f1 macro\n",
       "score  0.838223  0.488277  0.871391  0.617061       0.08  0.04878"
      ]
     },
     "metadata": {},
     "output_type": "display_data"
    },
    {
     "name": "stderr",
     "output_type": "stream",
     "text": [
      "Epoch 12: 100%|██████████| 299/299 [00:26<00:00, 11.14batch/s, loss_decrease=1.0000053663685728]\n",
      "100%|██████████| 1193/1193 [00:12<00:00, 97.98batch/s] \n"
     ]
    },
    {
     "data": {
      "text/html": [
       "<div>\n",
       "<style scoped>\n",
       "    .dataframe tbody tr th:only-of-type {\n",
       "        vertical-align: middle;\n",
       "    }\n",
       "\n",
       "    .dataframe tbody tr th {\n",
       "        vertical-align: top;\n",
       "    }\n",
       "\n",
       "    .dataframe thead tr th {\n",
       "        text-align: left;\n",
       "    }\n",
       "</style>\n",
       "<table border=\"1\" class=\"dataframe\">\n",
       "  <thead>\n",
       "    <tr>\n",
       "      <th></th>\n",
       "      <th colspan=\"2\" halign=\"left\">All</th>\n",
       "      <th colspan=\"2\" halign=\"left\">In VOC</th>\n",
       "      <th colspan=\"2\" halign=\"left\">Out of VOC</th>\n",
       "    </tr>\n",
       "    <tr>\n",
       "      <th></th>\n",
       "      <th>f1 micro</th>\n",
       "      <th>f1 macro</th>\n",
       "      <th>f1 micro</th>\n",
       "      <th>f1 macro</th>\n",
       "      <th>f1 micro</th>\n",
       "      <th>f1 macro</th>\n",
       "    </tr>\n",
       "  </thead>\n",
       "  <tbody>\n",
       "    <tr>\n",
       "      <th>score</th>\n",
       "      <td>0.832355</td>\n",
       "      <td>0.475759</td>\n",
       "      <td>0.865267</td>\n",
       "      <td>0.601054</td>\n",
       "      <td>0.08</td>\n",
       "      <td>0.036585</td>\n",
       "    </tr>\n",
       "  </tbody>\n",
       "</table>\n",
       "</div>"
      ],
      "text/plain": [
       "            All              In VOC           Out of VOC          \n",
       "       f1 micro  f1 macro  f1 micro  f1 macro   f1 micro  f1 macro\n",
       "score  0.832355  0.475759  0.865267  0.601054       0.08  0.036585"
      ]
     },
     "metadata": {},
     "output_type": "display_data"
    },
    {
     "name": "stderr",
     "output_type": "stream",
     "text": [
      "Epoch 13: 100%|██████████| 299/299 [00:27<00:00, 10.97batch/s, loss_decrease=1.0000053663685728]\n",
      "100%|██████████| 1193/1193 [00:12<00:00, 96.04batch/s]\n"
     ]
    },
    {
     "data": {
      "text/html": [
       "<div>\n",
       "<style scoped>\n",
       "    .dataframe tbody tr th:only-of-type {\n",
       "        vertical-align: middle;\n",
       "    }\n",
       "\n",
       "    .dataframe tbody tr th {\n",
       "        vertical-align: top;\n",
       "    }\n",
       "\n",
       "    .dataframe thead tr th {\n",
       "        text-align: left;\n",
       "    }\n",
       "</style>\n",
       "<table border=\"1\" class=\"dataframe\">\n",
       "  <thead>\n",
       "    <tr>\n",
       "      <th></th>\n",
       "      <th colspan=\"2\" halign=\"left\">All</th>\n",
       "      <th colspan=\"2\" halign=\"left\">In VOC</th>\n",
       "      <th colspan=\"2\" halign=\"left\">Out of VOC</th>\n",
       "    </tr>\n",
       "    <tr>\n",
       "      <th></th>\n",
       "      <th>f1 micro</th>\n",
       "      <th>f1 macro</th>\n",
       "      <th>f1 micro</th>\n",
       "      <th>f1 macro</th>\n",
       "      <th>f1 micro</th>\n",
       "      <th>f1 macro</th>\n",
       "    </tr>\n",
       "  </thead>\n",
       "  <tbody>\n",
       "    <tr>\n",
       "      <th>score</th>\n",
       "      <td>0.840738</td>\n",
       "      <td>0.489753</td>\n",
       "      <td>0.875766</td>\n",
       "      <td>0.628498</td>\n",
       "      <td>0.04</td>\n",
       "      <td>0.022989</td>\n",
       "    </tr>\n",
       "  </tbody>\n",
       "</table>\n",
       "</div>"
      ],
      "text/plain": [
       "            All              In VOC           Out of VOC          \n",
       "       f1 micro  f1 macro  f1 micro  f1 macro   f1 micro  f1 macro\n",
       "score  0.840738  0.489753  0.875766  0.628498       0.04  0.022989"
      ]
     },
     "metadata": {},
     "output_type": "display_data"
    },
    {
     "name": "stderr",
     "output_type": "stream",
     "text": [
      "Epoch 14: 100%|██████████| 299/299 [00:25<00:00, 11.95batch/s, loss_decrease=1.0000053663685728]\n",
      "100%|██████████| 1193/1193 [00:12<00:00, 94.20batch/s] \n"
     ]
    },
    {
     "data": {
      "text/html": [
       "<div>\n",
       "<style scoped>\n",
       "    .dataframe tbody tr th:only-of-type {\n",
       "        vertical-align: middle;\n",
       "    }\n",
       "\n",
       "    .dataframe tbody tr th {\n",
       "        vertical-align: top;\n",
       "    }\n",
       "\n",
       "    .dataframe thead tr th {\n",
       "        text-align: left;\n",
       "    }\n",
       "</style>\n",
       "<table border=\"1\" class=\"dataframe\">\n",
       "  <thead>\n",
       "    <tr>\n",
       "      <th></th>\n",
       "      <th colspan=\"2\" halign=\"left\">All</th>\n",
       "      <th colspan=\"2\" halign=\"left\">In VOC</th>\n",
       "      <th colspan=\"2\" halign=\"left\">Out of VOC</th>\n",
       "    </tr>\n",
       "    <tr>\n",
       "      <th></th>\n",
       "      <th>f1 micro</th>\n",
       "      <th>f1 macro</th>\n",
       "      <th>f1 micro</th>\n",
       "      <th>f1 macro</th>\n",
       "      <th>f1 micro</th>\n",
       "      <th>f1 macro</th>\n",
       "    </tr>\n",
       "  </thead>\n",
       "  <tbody>\n",
       "    <tr>\n",
       "      <th>score</th>\n",
       "      <td>0.839061</td>\n",
       "      <td>0.497738</td>\n",
       "      <td>0.873141</td>\n",
       "      <td>0.631822</td>\n",
       "      <td>0.06</td>\n",
       "      <td>0.035714</td>\n",
       "    </tr>\n",
       "  </tbody>\n",
       "</table>\n",
       "</div>"
      ],
      "text/plain": [
       "            All              In VOC           Out of VOC          \n",
       "       f1 micro  f1 macro  f1 micro  f1 macro   f1 micro  f1 macro\n",
       "score  0.839061  0.497738  0.873141  0.631822       0.06  0.035714"
      ]
     },
     "metadata": {},
     "output_type": "display_data"
    },
    {
     "name": "stderr",
     "output_type": "stream",
     "text": [
      "Epoch 15: 100%|██████████| 299/299 [00:25<00:00, 11.96batch/s, loss_decrease=1.0000053663685728]\n",
      "100%|██████████| 1193/1193 [00:12<00:00, 98.02batch/s] \n"
     ]
    },
    {
     "data": {
      "text/html": [
       "<div>\n",
       "<style scoped>\n",
       "    .dataframe tbody tr th:only-of-type {\n",
       "        vertical-align: middle;\n",
       "    }\n",
       "\n",
       "    .dataframe tbody tr th {\n",
       "        vertical-align: top;\n",
       "    }\n",
       "\n",
       "    .dataframe thead tr th {\n",
       "        text-align: left;\n",
       "    }\n",
       "</style>\n",
       "<table border=\"1\" class=\"dataframe\">\n",
       "  <thead>\n",
       "    <tr>\n",
       "      <th></th>\n",
       "      <th colspan=\"2\" halign=\"left\">All</th>\n",
       "      <th colspan=\"2\" halign=\"left\">In VOC</th>\n",
       "      <th colspan=\"2\" halign=\"left\">Out of VOC</th>\n",
       "    </tr>\n",
       "    <tr>\n",
       "      <th></th>\n",
       "      <th>f1 micro</th>\n",
       "      <th>f1 macro</th>\n",
       "      <th>f1 micro</th>\n",
       "      <th>f1 macro</th>\n",
       "      <th>f1 micro</th>\n",
       "      <th>f1 macro</th>\n",
       "    </tr>\n",
       "  </thead>\n",
       "  <tbody>\n",
       "    <tr>\n",
       "      <th>score</th>\n",
       "      <td>0.845767</td>\n",
       "      <td>0.513712</td>\n",
       "      <td>0.879265</td>\n",
       "      <td>0.647145</td>\n",
       "      <td>0.08</td>\n",
       "      <td>0.048193</td>\n",
       "    </tr>\n",
       "  </tbody>\n",
       "</table>\n",
       "</div>"
      ],
      "text/plain": [
       "            All              In VOC           Out of VOC          \n",
       "       f1 micro  f1 macro  f1 micro  f1 macro   f1 micro  f1 macro\n",
       "score  0.845767  0.513712  0.879265  0.647145       0.08  0.048193"
      ]
     },
     "metadata": {},
     "output_type": "display_data"
    },
    {
     "name": "stderr",
     "output_type": "stream",
     "text": [
      "Epoch 16: 100%|██████████| 299/299 [00:24<00:00, 12.05batch/s, loss_decrease=1.0000055546632527]\n",
      "100%|██████████| 1193/1193 [00:12<00:00, 95.98batch/s]\n"
     ]
    },
    {
     "data": {
      "text/html": [
       "<div>\n",
       "<style scoped>\n",
       "    .dataframe tbody tr th:only-of-type {\n",
       "        vertical-align: middle;\n",
       "    }\n",
       "\n",
       "    .dataframe tbody tr th {\n",
       "        vertical-align: top;\n",
       "    }\n",
       "\n",
       "    .dataframe thead tr th {\n",
       "        text-align: left;\n",
       "    }\n",
       "</style>\n",
       "<table border=\"1\" class=\"dataframe\">\n",
       "  <thead>\n",
       "    <tr>\n",
       "      <th></th>\n",
       "      <th colspan=\"2\" halign=\"left\">All</th>\n",
       "      <th colspan=\"2\" halign=\"left\">In VOC</th>\n",
       "      <th colspan=\"2\" halign=\"left\">Out of VOC</th>\n",
       "    </tr>\n",
       "    <tr>\n",
       "      <th></th>\n",
       "      <th>f1 micro</th>\n",
       "      <th>f1 macro</th>\n",
       "      <th>f1 micro</th>\n",
       "      <th>f1 macro</th>\n",
       "      <th>f1 micro</th>\n",
       "      <th>f1 macro</th>\n",
       "    </tr>\n",
       "  </thead>\n",
       "  <tbody>\n",
       "    <tr>\n",
       "      <th>score</th>\n",
       "      <td>0.843252</td>\n",
       "      <td>0.513928</td>\n",
       "      <td>0.87664</td>\n",
       "      <td>0.650341</td>\n",
       "      <td>0.08</td>\n",
       "      <td>0.047059</td>\n",
       "    </tr>\n",
       "  </tbody>\n",
       "</table>\n",
       "</div>"
      ],
      "text/plain": [
       "            All             In VOC           Out of VOC          \n",
       "       f1 micro  f1 macro f1 micro  f1 macro   f1 micro  f1 macro\n",
       "score  0.843252  0.513928  0.87664  0.650341       0.08  0.047059"
      ]
     },
     "metadata": {},
     "output_type": "display_data"
    },
    {
     "name": "stderr",
     "output_type": "stream",
     "text": [
      "Epoch 17: 100%|██████████| 299/299 [00:23<00:00, 12.74batch/s, loss_decrease=1.0000053663685728]\n",
      "100%|██████████| 1193/1193 [00:12<00:00, 95.22batch/s]\n"
     ]
    },
    {
     "data": {
      "text/html": [
       "<div>\n",
       "<style scoped>\n",
       "    .dataframe tbody tr th:only-of-type {\n",
       "        vertical-align: middle;\n",
       "    }\n",
       "\n",
       "    .dataframe tbody tr th {\n",
       "        vertical-align: top;\n",
       "    }\n",
       "\n",
       "    .dataframe thead tr th {\n",
       "        text-align: left;\n",
       "    }\n",
       "</style>\n",
       "<table border=\"1\" class=\"dataframe\">\n",
       "  <thead>\n",
       "    <tr>\n",
       "      <th></th>\n",
       "      <th colspan=\"2\" halign=\"left\">All</th>\n",
       "      <th colspan=\"2\" halign=\"left\">In VOC</th>\n",
       "      <th colspan=\"2\" halign=\"left\">Out of VOC</th>\n",
       "    </tr>\n",
       "    <tr>\n",
       "      <th></th>\n",
       "      <th>f1 micro</th>\n",
       "      <th>f1 macro</th>\n",
       "      <th>f1 micro</th>\n",
       "      <th>f1 macro</th>\n",
       "      <th>f1 micro</th>\n",
       "      <th>f1 macro</th>\n",
       "    </tr>\n",
       "  </thead>\n",
       "  <tbody>\n",
       "    <tr>\n",
       "      <th>score</th>\n",
       "      <td>0.844929</td>\n",
       "      <td>0.501469</td>\n",
       "      <td>0.879265</td>\n",
       "      <td>0.647045</td>\n",
       "      <td>0.06</td>\n",
       "      <td>0.034483</td>\n",
       "    </tr>\n",
       "  </tbody>\n",
       "</table>\n",
       "</div>"
      ],
      "text/plain": [
       "            All              In VOC           Out of VOC          \n",
       "       f1 micro  f1 macro  f1 micro  f1 macro   f1 micro  f1 macro\n",
       "score  0.844929  0.501469  0.879265  0.647045       0.06  0.034483"
      ]
     },
     "metadata": {},
     "output_type": "display_data"
    },
    {
     "name": "stderr",
     "output_type": "stream",
     "text": [
      "Epoch 18: 100%|██████████| 299/299 [00:22<00:00, 13.18batch/s, loss_decrease=1.0000055546632527]\n",
      "100%|██████████| 1193/1193 [00:12<00:00, 96.19batch/s] \n"
     ]
    },
    {
     "data": {
      "text/html": [
       "<div>\n",
       "<style scoped>\n",
       "    .dataframe tbody tr th:only-of-type {\n",
       "        vertical-align: middle;\n",
       "    }\n",
       "\n",
       "    .dataframe tbody tr th {\n",
       "        vertical-align: top;\n",
       "    }\n",
       "\n",
       "    .dataframe thead tr th {\n",
       "        text-align: left;\n",
       "    }\n",
       "</style>\n",
       "<table border=\"1\" class=\"dataframe\">\n",
       "  <thead>\n",
       "    <tr>\n",
       "      <th></th>\n",
       "      <th colspan=\"2\" halign=\"left\">All</th>\n",
       "      <th colspan=\"2\" halign=\"left\">In VOC</th>\n",
       "      <th colspan=\"2\" halign=\"left\">Out of VOC</th>\n",
       "    </tr>\n",
       "    <tr>\n",
       "      <th></th>\n",
       "      <th>f1 micro</th>\n",
       "      <th>f1 macro</th>\n",
       "      <th>f1 micro</th>\n",
       "      <th>f1 macro</th>\n",
       "      <th>f1 micro</th>\n",
       "      <th>f1 macro</th>\n",
       "    </tr>\n",
       "  </thead>\n",
       "  <tbody>\n",
       "    <tr>\n",
       "      <th>score</th>\n",
       "      <td>0.845767</td>\n",
       "      <td>0.513117</td>\n",
       "      <td>0.879265</td>\n",
       "      <td>0.653309</td>\n",
       "      <td>0.08</td>\n",
       "      <td>0.047059</td>\n",
       "    </tr>\n",
       "  </tbody>\n",
       "</table>\n",
       "</div>"
      ],
      "text/plain": [
       "            All              In VOC           Out of VOC          \n",
       "       f1 micro  f1 macro  f1 micro  f1 macro   f1 micro  f1 macro\n",
       "score  0.845767  0.513117  0.879265  0.653309       0.08  0.047059"
      ]
     },
     "metadata": {},
     "output_type": "display_data"
    },
    {
     "name": "stderr",
     "output_type": "stream",
     "text": [
      "Epoch 19: 100%|██████████| 299/299 [00:26<00:00, 11.48batch/s, loss_decrease=1.0000055546632527]\n",
      "100%|██████████| 1193/1193 [00:12<00:00, 91.80batch/s] \n"
     ]
    },
    {
     "data": {
      "text/html": [
       "<div>\n",
       "<style scoped>\n",
       "    .dataframe tbody tr th:only-of-type {\n",
       "        vertical-align: middle;\n",
       "    }\n",
       "\n",
       "    .dataframe tbody tr th {\n",
       "        vertical-align: top;\n",
       "    }\n",
       "\n",
       "    .dataframe thead tr th {\n",
       "        text-align: left;\n",
       "    }\n",
       "</style>\n",
       "<table border=\"1\" class=\"dataframe\">\n",
       "  <thead>\n",
       "    <tr>\n",
       "      <th></th>\n",
       "      <th colspan=\"2\" halign=\"left\">All</th>\n",
       "      <th colspan=\"2\" halign=\"left\">In VOC</th>\n",
       "      <th colspan=\"2\" halign=\"left\">Out of VOC</th>\n",
       "    </tr>\n",
       "    <tr>\n",
       "      <th></th>\n",
       "      <th>f1 micro</th>\n",
       "      <th>f1 macro</th>\n",
       "      <th>f1 micro</th>\n",
       "      <th>f1 macro</th>\n",
       "      <th>f1 micro</th>\n",
       "      <th>f1 macro</th>\n",
       "    </tr>\n",
       "  </thead>\n",
       "  <tbody>\n",
       "    <tr>\n",
       "      <th>score</th>\n",
       "      <td>0.849958</td>\n",
       "      <td>0.505724</td>\n",
       "      <td>0.884514</td>\n",
       "      <td>0.645375</td>\n",
       "      <td>0.06</td>\n",
       "      <td>0.034884</td>\n",
       "    </tr>\n",
       "  </tbody>\n",
       "</table>\n",
       "</div>"
      ],
      "text/plain": [
       "            All              In VOC           Out of VOC          \n",
       "       f1 micro  f1 macro  f1 micro  f1 macro   f1 micro  f1 macro\n",
       "score  0.849958  0.505724  0.884514  0.645375       0.06  0.034884"
      ]
     },
     "metadata": {},
     "output_type": "display_data"
    },
    {
     "name": "stderr",
     "output_type": "stream",
     "text": [
      "Epoch 20: 100%|██████████| 299/299 [00:25<00:00, 11.72batch/s, loss_decrease=1.0000055546632527]\n",
      "100%|██████████| 1193/1193 [00:12<00:00, 94.23batch/s] \n"
     ]
    },
    {
     "data": {
      "text/html": [
       "<div>\n",
       "<style scoped>\n",
       "    .dataframe tbody tr th:only-of-type {\n",
       "        vertical-align: middle;\n",
       "    }\n",
       "\n",
       "    .dataframe tbody tr th {\n",
       "        vertical-align: top;\n",
       "    }\n",
       "\n",
       "    .dataframe thead tr th {\n",
       "        text-align: left;\n",
       "    }\n",
       "</style>\n",
       "<table border=\"1\" class=\"dataframe\">\n",
       "  <thead>\n",
       "    <tr>\n",
       "      <th></th>\n",
       "      <th colspan=\"2\" halign=\"left\">All</th>\n",
       "      <th colspan=\"2\" halign=\"left\">In VOC</th>\n",
       "      <th colspan=\"2\" halign=\"left\">Out of VOC</th>\n",
       "    </tr>\n",
       "    <tr>\n",
       "      <th></th>\n",
       "      <th>f1 micro</th>\n",
       "      <th>f1 macro</th>\n",
       "      <th>f1 micro</th>\n",
       "      <th>f1 macro</th>\n",
       "      <th>f1 micro</th>\n",
       "      <th>f1 macro</th>\n",
       "    </tr>\n",
       "  </thead>\n",
       "  <tbody>\n",
       "    <tr>\n",
       "      <th>score</th>\n",
       "      <td>0.846605</td>\n",
       "      <td>0.505047</td>\n",
       "      <td>0.88014</td>\n",
       "      <td>0.64497</td>\n",
       "      <td>0.08</td>\n",
       "      <td>0.047059</td>\n",
       "    </tr>\n",
       "  </tbody>\n",
       "</table>\n",
       "</div>"
      ],
      "text/plain": [
       "            All             In VOC          Out of VOC          \n",
       "       f1 micro  f1 macro f1 micro f1 macro   f1 micro  f1 macro\n",
       "score  0.846605  0.505047  0.88014  0.64497       0.08  0.047059"
      ]
     },
     "metadata": {},
     "output_type": "display_data"
    },
    {
     "name": "stderr",
     "output_type": "stream",
     "text": [
      "Epoch 21: 100%|██████████| 299/299 [00:27<00:00, 11.03batch/s, loss_decrease=1.0000055546632527]\n",
      "100%|██████████| 1193/1193 [00:12<00:00, 94.47batch/s]\n"
     ]
    },
    {
     "data": {
      "text/html": [
       "<div>\n",
       "<style scoped>\n",
       "    .dataframe tbody tr th:only-of-type {\n",
       "        vertical-align: middle;\n",
       "    }\n",
       "\n",
       "    .dataframe tbody tr th {\n",
       "        vertical-align: top;\n",
       "    }\n",
       "\n",
       "    .dataframe thead tr th {\n",
       "        text-align: left;\n",
       "    }\n",
       "</style>\n",
       "<table border=\"1\" class=\"dataframe\">\n",
       "  <thead>\n",
       "    <tr>\n",
       "      <th></th>\n",
       "      <th colspan=\"2\" halign=\"left\">All</th>\n",
       "      <th colspan=\"2\" halign=\"left\">In VOC</th>\n",
       "      <th colspan=\"2\" halign=\"left\">Out of VOC</th>\n",
       "    </tr>\n",
       "    <tr>\n",
       "      <th></th>\n",
       "      <th>f1 micro</th>\n",
       "      <th>f1 macro</th>\n",
       "      <th>f1 micro</th>\n",
       "      <th>f1 macro</th>\n",
       "      <th>f1 micro</th>\n",
       "      <th>f1 macro</th>\n",
       "    </tr>\n",
       "  </thead>\n",
       "  <tbody>\n",
       "    <tr>\n",
       "      <th>score</th>\n",
       "      <td>0.841576</td>\n",
       "      <td>0.504826</td>\n",
       "      <td>0.875766</td>\n",
       "      <td>0.645389</td>\n",
       "      <td>0.06</td>\n",
       "      <td>0.035294</td>\n",
       "    </tr>\n",
       "  </tbody>\n",
       "</table>\n",
       "</div>"
      ],
      "text/plain": [
       "            All              In VOC           Out of VOC          \n",
       "       f1 micro  f1 macro  f1 micro  f1 macro   f1 micro  f1 macro\n",
       "score  0.841576  0.504826  0.875766  0.645389       0.06  0.035294"
      ]
     },
     "metadata": {},
     "output_type": "display_data"
    },
    {
     "name": "stderr",
     "output_type": "stream",
     "text": [
      "Epoch 22: 100%|██████████| 299/299 [00:28<00:00, 10.53batch/s, loss_decrease=1.0000055546632527]\n",
      "100%|██████████| 1193/1193 [00:12<00:00, 92.80batch/s] \n"
     ]
    },
    {
     "data": {
      "text/html": [
       "<div>\n",
       "<style scoped>\n",
       "    .dataframe tbody tr th:only-of-type {\n",
       "        vertical-align: middle;\n",
       "    }\n",
       "\n",
       "    .dataframe tbody tr th {\n",
       "        vertical-align: top;\n",
       "    }\n",
       "\n",
       "    .dataframe thead tr th {\n",
       "        text-align: left;\n",
       "    }\n",
       "</style>\n",
       "<table border=\"1\" class=\"dataframe\">\n",
       "  <thead>\n",
       "    <tr>\n",
       "      <th></th>\n",
       "      <th colspan=\"2\" halign=\"left\">All</th>\n",
       "      <th colspan=\"2\" halign=\"left\">In VOC</th>\n",
       "      <th colspan=\"2\" halign=\"left\">Out of VOC</th>\n",
       "    </tr>\n",
       "    <tr>\n",
       "      <th></th>\n",
       "      <th>f1 micro</th>\n",
       "      <th>f1 macro</th>\n",
       "      <th>f1 micro</th>\n",
       "      <th>f1 macro</th>\n",
       "      <th>f1 micro</th>\n",
       "      <th>f1 macro</th>\n",
       "    </tr>\n",
       "  </thead>\n",
       "  <tbody>\n",
       "    <tr>\n",
       "      <th>score</th>\n",
       "      <td>0.84912</td>\n",
       "      <td>0.50885</td>\n",
       "      <td>0.884514</td>\n",
       "      <td>0.655471</td>\n",
       "      <td>0.04</td>\n",
       "      <td>0.023256</td>\n",
       "    </tr>\n",
       "  </tbody>\n",
       "</table>\n",
       "</div>"
      ],
      "text/plain": [
       "           All             In VOC           Out of VOC          \n",
       "      f1 micro f1 macro  f1 micro  f1 macro   f1 micro  f1 macro\n",
       "score  0.84912  0.50885  0.884514  0.655471       0.04  0.023256"
      ]
     },
     "metadata": {},
     "output_type": "display_data"
    },
    {
     "name": "stderr",
     "output_type": "stream",
     "text": [
      "Epoch 23: 100%|██████████| 299/299 [00:26<00:00, 11.43batch/s, loss_decrease=1.0000055546632527]\n",
      "100%|██████████| 1193/1193 [00:12<00:00, 96.27batch/s] \n"
     ]
    },
    {
     "data": {
      "text/html": [
       "<div>\n",
       "<style scoped>\n",
       "    .dataframe tbody tr th:only-of-type {\n",
       "        vertical-align: middle;\n",
       "    }\n",
       "\n",
       "    .dataframe tbody tr th {\n",
       "        vertical-align: top;\n",
       "    }\n",
       "\n",
       "    .dataframe thead tr th {\n",
       "        text-align: left;\n",
       "    }\n",
       "</style>\n",
       "<table border=\"1\" class=\"dataframe\">\n",
       "  <thead>\n",
       "    <tr>\n",
       "      <th></th>\n",
       "      <th colspan=\"2\" halign=\"left\">All</th>\n",
       "      <th colspan=\"2\" halign=\"left\">In VOC</th>\n",
       "      <th colspan=\"2\" halign=\"left\">Out of VOC</th>\n",
       "    </tr>\n",
       "    <tr>\n",
       "      <th></th>\n",
       "      <th>f1 micro</th>\n",
       "      <th>f1 macro</th>\n",
       "      <th>f1 micro</th>\n",
       "      <th>f1 macro</th>\n",
       "      <th>f1 micro</th>\n",
       "      <th>f1 macro</th>\n",
       "    </tr>\n",
       "  </thead>\n",
       "  <tbody>\n",
       "    <tr>\n",
       "      <th>score</th>\n",
       "      <td>0.840738</td>\n",
       "      <td>0.509197</td>\n",
       "      <td>0.874891</td>\n",
       "      <td>0.651526</td>\n",
       "      <td>0.06</td>\n",
       "      <td>0.036145</td>\n",
       "    </tr>\n",
       "  </tbody>\n",
       "</table>\n",
       "</div>"
      ],
      "text/plain": [
       "            All              In VOC           Out of VOC          \n",
       "       f1 micro  f1 macro  f1 micro  f1 macro   f1 micro  f1 macro\n",
       "score  0.840738  0.509197  0.874891  0.651526       0.06  0.036145"
      ]
     },
     "metadata": {},
     "output_type": "display_data"
    },
    {
     "name": "stderr",
     "output_type": "stream",
     "text": [
      "Epoch 24: 100%|██████████| 299/299 [00:23<00:00, 12.48batch/s, loss_decrease=1.0000055546632527]\n",
      "100%|██████████| 1193/1193 [00:12<00:00, 95.81batch/s] \n"
     ]
    },
    {
     "data": {
      "text/html": [
       "<div>\n",
       "<style scoped>\n",
       "    .dataframe tbody tr th:only-of-type {\n",
       "        vertical-align: middle;\n",
       "    }\n",
       "\n",
       "    .dataframe tbody tr th {\n",
       "        vertical-align: top;\n",
       "    }\n",
       "\n",
       "    .dataframe thead tr th {\n",
       "        text-align: left;\n",
       "    }\n",
       "</style>\n",
       "<table border=\"1\" class=\"dataframe\">\n",
       "  <thead>\n",
       "    <tr>\n",
       "      <th></th>\n",
       "      <th colspan=\"2\" halign=\"left\">All</th>\n",
       "      <th colspan=\"2\" halign=\"left\">In VOC</th>\n",
       "      <th colspan=\"2\" halign=\"left\">Out of VOC</th>\n",
       "    </tr>\n",
       "    <tr>\n",
       "      <th></th>\n",
       "      <th>f1 micro</th>\n",
       "      <th>f1 macro</th>\n",
       "      <th>f1 micro</th>\n",
       "      <th>f1 macro</th>\n",
       "      <th>f1 micro</th>\n",
       "      <th>f1 macro</th>\n",
       "    </tr>\n",
       "  </thead>\n",
       "  <tbody>\n",
       "    <tr>\n",
       "      <th>score</th>\n",
       "      <td>0.851635</td>\n",
       "      <td>0.514013</td>\n",
       "      <td>0.886264</td>\n",
       "      <td>0.666352</td>\n",
       "      <td>0.06</td>\n",
       "      <td>0.035294</td>\n",
       "    </tr>\n",
       "  </tbody>\n",
       "</table>\n",
       "</div>"
      ],
      "text/plain": [
       "            All              In VOC           Out of VOC          \n",
       "       f1 micro  f1 macro  f1 micro  f1 macro   f1 micro  f1 macro\n",
       "score  0.851635  0.514013  0.886264  0.666352       0.06  0.035294"
      ]
     },
     "metadata": {},
     "output_type": "display_data"
    },
    {
     "name": "stderr",
     "output_type": "stream",
     "text": [
      "Epoch 25: 100%|██████████| 299/299 [00:23<00:00, 12.55batch/s, loss_decrease=1.0000055546632527]\n",
      "100%|██████████| 1193/1193 [00:13<00:00, 88.28batch/s] \n"
     ]
    },
    {
     "data": {
      "text/html": [
       "<div>\n",
       "<style scoped>\n",
       "    .dataframe tbody tr th:only-of-type {\n",
       "        vertical-align: middle;\n",
       "    }\n",
       "\n",
       "    .dataframe tbody tr th {\n",
       "        vertical-align: top;\n",
       "    }\n",
       "\n",
       "    .dataframe thead tr th {\n",
       "        text-align: left;\n",
       "    }\n",
       "</style>\n",
       "<table border=\"1\" class=\"dataframe\">\n",
       "  <thead>\n",
       "    <tr>\n",
       "      <th></th>\n",
       "      <th colspan=\"2\" halign=\"left\">All</th>\n",
       "      <th colspan=\"2\" halign=\"left\">In VOC</th>\n",
       "      <th colspan=\"2\" halign=\"left\">Out of VOC</th>\n",
       "    </tr>\n",
       "    <tr>\n",
       "      <th></th>\n",
       "      <th>f1 micro</th>\n",
       "      <th>f1 macro</th>\n",
       "      <th>f1 micro</th>\n",
       "      <th>f1 macro</th>\n",
       "      <th>f1 micro</th>\n",
       "      <th>f1 macro</th>\n",
       "    </tr>\n",
       "  </thead>\n",
       "  <tbody>\n",
       "    <tr>\n",
       "      <th>score</th>\n",
       "      <td>0.851635</td>\n",
       "      <td>0.517791</td>\n",
       "      <td>0.886264</td>\n",
       "      <td>0.668846</td>\n",
       "      <td>0.06</td>\n",
       "      <td>0.035294</td>\n",
       "    </tr>\n",
       "  </tbody>\n",
       "</table>\n",
       "</div>"
      ],
      "text/plain": [
       "            All              In VOC           Out of VOC          \n",
       "       f1 micro  f1 macro  f1 micro  f1 macro   f1 micro  f1 macro\n",
       "score  0.851635  0.517791  0.886264  0.668846       0.06  0.035294"
      ]
     },
     "metadata": {},
     "output_type": "display_data"
    },
    {
     "name": "stdout",
     "output_type": "stream",
     "text": [
      "Finished Training\n",
      "exp: 5\n",
      "\n"
     ]
    },
    {
     "ename": "IndexError",
     "evalue": "list index out of range",
     "output_type": "error",
     "traceback": [
      "\u001b[0;31m---------------------------------------------------------------------------\u001b[0m",
      "\u001b[0;31mIndexError\u001b[0m                                Traceback (most recent call last)",
      "Input \u001b[0;32mIn [17]\u001b[0m, in \u001b[0;36m<module>\u001b[0;34m\u001b[0m\n\u001b[1;32m     15\u001b[0m \u001b[38;5;28;01mfor\u001b[39;00m fold_num \u001b[38;5;129;01min\u001b[39;00m \u001b[38;5;28mrange\u001b[39m(\u001b[38;5;241m1\u001b[39m,\u001b[38;5;241m6\u001b[39m):\n\u001b[1;32m     16\u001b[0m     \u001b[38;5;28mprint\u001b[39m(\u001b[38;5;124m'\u001b[39m\u001b[38;5;124mexp: \u001b[39m\u001b[38;5;132;01m%s\u001b[39;00m\u001b[38;5;130;01m\\n\u001b[39;00m\u001b[38;5;124m'\u001b[39m\u001b[38;5;241m%\u001b[39mfold_num)\n\u001b[0;32m---> 17\u001b[0m     train_phrases, train_concepts \u001b[38;5;241m=\u001b[39m \u001b[38;5;28mlist\u001b[39m(\u001b[43mfolds\u001b[49m\u001b[43m[\u001b[49m\u001b[43mfold_num\u001b[49m\u001b[43m]\u001b[49m[\u001b[38;5;241m0\u001b[39m][\u001b[38;5;241m0\u001b[39m]), \u001b[38;5;28mlist\u001b[39m(folds[fold_num][\u001b[38;5;241m0\u001b[39m][\u001b[38;5;241m1\u001b[39m])\n\u001b[1;32m     18\u001b[0m     test_phrases, test_concepts \u001b[38;5;241m=\u001b[39m \u001b[38;5;28mlist\u001b[39m(folds[fold_num][\u001b[38;5;241m1\u001b[39m][\u001b[38;5;241m0\u001b[39m]), \u001b[38;5;28mlist\u001b[39m(folds[fold_num][\u001b[38;5;241m1\u001b[39m][\u001b[38;5;241m1\u001b[39m])\n\u001b[1;32m     20\u001b[0m     ds_train \u001b[38;5;241m=\u001b[39m MedNormDataset(train_phrases, train_concepts, CV, use_cuda\u001b[38;5;241m=\u001b[39m\u001b[38;5;28;01mTrue\u001b[39;00m)\n",
      "\u001b[0;31mIndexError\u001b[0m: list index out of range"
     ]
    }
   ],
   "source": [
    "from models import CADEC_SoTa\n",
    "from dataset import MedNormDataset\n",
    "import torch.optim as optim\n",
    "import torch.nn as nn\n",
    "import torch\n",
    "from evaluator import Evaluator\n",
    "from tqdm import trange\n",
    "from tqdm import tqdm\n",
    "from sklearn.metrics import classification_report, f1_score\n",
    "\n",
    "#Гиперпараметры\n",
    "batch_size=16\n",
    "epochs = 25\n",
    "\n",
    "for fold_num in range(1,6):\n",
    "    print('exp: %s\\n'%fold_num)\n",
    "    train_phrases, train_concepts = list(folds[fold_num][0][0]), list(folds[fold_num][0][1])\n",
    "    test_phrases, test_concepts = list(folds[fold_num][1][0]), list(folds[fold_num][1][1])\n",
    "\n",
    "    ds_train = MedNormDataset(train_phrases, train_concepts, CV, use_cuda=True)\n",
    "    ds_test = MedNormDataset(test_phrases, test_concepts, CV, use_cuda=True)\n",
    "\n",
    "    net = CADEC_SoTa(transformer_model_path, torch.tensor(CV.thesaurus_embeddings))\n",
    "    #перемещение модели на вычислительные мощности, либо cpu, либо cuda\n",
    "    device = 'cuda' if USE_CUDA else 'cpu'\n",
    "    net.to(device)\n",
    "    print('Net loaded')\n",
    "    criterion = nn.CrossEntropyLoss()\n",
    "    optimizer = optim.AdamW(net.parameters(), lr=0.0001) #, cycle_momentum=True\n",
    "\n",
    "    scaler = torch.cuda.amp.GradScaler()\n",
    "    evaluator = Evaluator(train_concepts, test_concepts)\n",
    "    \n",
    "    trainloader = torch.utils.data.DataLoader(ds_train, batch_size=batch_size,\n",
    "                                          shuffle=False, num_workers=0)\n",
    "    testloader = torch.utils.data.DataLoader(ds_test, batch_size=1, shuffle=False)\n",
    "\n",
    "\n",
    "    initial_loss = None\n",
    "\n",
    "    for epoch in range(1, epochs+1):\n",
    "        #обучение модели в эпохе\n",
    "        net.train()\n",
    "        with tqdm(trainloader, unit=\"batch\") as tepoch:\n",
    "            for data in tepoch:\n",
    "\n",
    "                tepoch.set_description(f\"Epoch {epoch}\")\n",
    "\n",
    "                inputs = data['tokenized_phrases']\n",
    "                labels = data['one_hot_labels']\n",
    "\n",
    "                optimizer.zero_grad()\n",
    "                if USE_CUDA=='cuda':\n",
    "                    with torch.cuda.amp.autocast():\n",
    "                        outputs = net(inputs)['output']\n",
    "                        loss = criterion(outputs, labels)\n",
    "                    scaler.scale(loss).backward()\n",
    "                    scaler.step(optimizer)\n",
    "                    scaler.update()\n",
    "                else:\n",
    "                    outputs = net(inputs)['output']\n",
    "                    loss = criterion(outputs, labels)\n",
    "                    loss.backward()\n",
    "                    optimizer.step()\n",
    "                if initial_loss is None:\n",
    "                    initial_loss = loss.item()\n",
    "                tepoch.set_postfix(loss_decrease = str(initial_loss/loss.item()))\n",
    "        #расчет точностей модели после эпохи\n",
    "        net.eval()\n",
    "        model_answers=[]\n",
    "        real_answers=[]\n",
    "        with tqdm(testloader, unit=\"batch\") as eval_process:\n",
    "            for data in eval_process:\n",
    "\n",
    "                inputs = data['tokenized_phrases']\n",
    "\n",
    "                with torch.no_grad():\n",
    "                    outputs_dict = net(inputs)\n",
    "                    pred_meddra_code = CV.meddra_codes[outputs_dict['output'].argmax()]\n",
    "\n",
    "\n",
    "                model_answers.append(pred_meddra_code)\n",
    "                real_answers.append(data['label_codes'][0])\n",
    "        evaluator.get_all_f1_scores(real_answers, model_answers)\n",
    "    print('Finished Training')\n",
    "    torch.save(net,'./Model_weights/CADEC_exp_%s.pt'%fold_num)"
   ]
  },
  {
   "cell_type": "code",
   "execution_count": 14,
   "id": "outdoor-hepatitis",
   "metadata": {},
   "outputs": [
    {
     "name": "stdout",
     "output_type": "stream",
     "text": [
      "f1: 0.8664 +- 0.0149\n"
     ]
    }
   ],
   "source": [
    "import numpy as np\n",
    "\n",
    "f1_scores = [0.894472, 0.858459, 0.860017, 0.867561, 0.851635]\n",
    "print('f1: %s +- %s'%(np.round(np.mean(f1_scores), 4), np.round(np.std(f1_scores), 4)))"
   ]
  },
  {
   "cell_type": "code",
   "execution_count": 15,
   "id": "official-belief",
   "metadata": {},
   "outputs": [
    {
     "name": "stdout",
     "output_type": "stream",
     "text": [
      "f1: 0.5562 +- 0.0421\n"
     ]
    }
   ],
   "source": [
    "import numpy as np\n",
    "\n",
    "f1_scores = [0.517791, 0.551561, 0.547865, 0.527303, 0.636641]\n",
    "print('f1: %s +- %s'%(np.round(np.mean(f1_scores), 4), np.round(np.std(f1_scores), 4)))"
   ]
  },
  {
   "cell_type": "markdown",
   "id": "streaming-intention",
   "metadata": {},
   "source": [
    "<h4>Импорт модели</h4>"
   ]
  },
  {
   "cell_type": "code",
   "execution_count": null,
   "id": "touched-pakistan",
   "metadata": {},
   "outputs": [],
   "source": [
    "net = CADEC_SoTa(transformer_model_path, torch.tensor(CV.thesaurus_embeddings))\n",
    "#перемещение модели на вычислительные мощности, либо cpu, либо cuda\n",
    "device = 'cuda' if USE_CUDA else 'cpu'\n",
    "net.to(device)\n",
    "print('Net loaded')"
   ]
  },
  {
   "cell_type": "markdown",
   "id": "danish-settle",
   "metadata": {},
   "source": [
    "<h4>Инициализация доп. объектов для обучения</h4>"
   ]
  },
  {
   "cell_type": "code",
   "execution_count": 34,
   "id": "tutorial-danger",
   "metadata": {},
   "outputs": [],
   "source": [
    "import torch.optim as optim\n",
    "import torch.nn as nn\n",
    "import torch\n",
    "import numpy as np\n",
    "\n",
    "from torch.optim.lr_scheduler import CyclicLR\n",
    "    \n",
    "criterion = nn.CrossEntropyLoss()\n",
    "optimizer = optim.AdamW(net.parameters(), lr=0.0001) #, cycle_momentum=True\n",
    "\n",
    "scaler = torch.cuda.amp.GradScaler()\n",
    "evaluator = Evaluator(train_concepts, test_concepts)"
   ]
  },
  {
   "cell_type": "markdown",
   "id": "alternate-remains",
   "metadata": {},
   "source": [
    "<h4>Цикл обучения</h4>"
   ]
  },
  {
   "cell_type": "code",
   "execution_count": 35,
   "id": "portable-reply",
   "metadata": {},
   "outputs": [
    {
     "name": "stderr",
     "output_type": "stream",
     "text": [
      "Epoch 1: 100%|██████████| 508/508 [00:12<00:00, 41.51batch/s, loss_decrease=0.9999988702417052]\n",
      "100%|██████████| 3787/3787 [00:39<00:00, 95.63batch/s] \n"
     ]
    },
    {
     "data": {
      "text/html": [
       "<div>\n",
       "<style scoped>\n",
       "    .dataframe tbody tr th:only-of-type {\n",
       "        vertical-align: middle;\n",
       "    }\n",
       "\n",
       "    .dataframe tbody tr th {\n",
       "        vertical-align: top;\n",
       "    }\n",
       "\n",
       "    .dataframe thead tr th {\n",
       "        text-align: left;\n",
       "    }\n",
       "</style>\n",
       "<table border=\"1\" class=\"dataframe\">\n",
       "  <thead>\n",
       "    <tr>\n",
       "      <th></th>\n",
       "      <th colspan=\"2\" halign=\"left\">All</th>\n",
       "      <th colspan=\"2\" halign=\"left\">In VOC</th>\n",
       "      <th colspan=\"2\" halign=\"left\">Out of VOC</th>\n",
       "    </tr>\n",
       "    <tr>\n",
       "      <th></th>\n",
       "      <th>f1 micro</th>\n",
       "      <th>f1 macro</th>\n",
       "      <th>f1 micro</th>\n",
       "      <th>f1 macro</th>\n",
       "      <th>f1 micro</th>\n",
       "      <th>f1 macro</th>\n",
       "    </tr>\n",
       "  </thead>\n",
       "  <tbody>\n",
       "    <tr>\n",
       "      <th>0</th>\n",
       "      <td>0.597043</td>\n",
       "      <td>0.177648</td>\n",
       "      <td>0.621208</td>\n",
       "      <td>0.199196</td>\n",
       "      <td>0.149485</td>\n",
       "      <td>0.090458</td>\n",
       "    </tr>\n",
       "  </tbody>\n",
       "</table>\n",
       "</div>"
      ],
      "text/plain": [
       "        All              In VOC           Out of VOC          \n",
       "   f1 micro  f1 macro  f1 micro  f1 macro   f1 micro  f1 macro\n",
       "0  0.597043  0.177648  0.621208  0.199196   0.149485  0.090458"
      ]
     },
     "metadata": {},
     "output_type": "display_data"
    },
    {
     "name": "stderr",
     "output_type": "stream",
     "text": [
      "Epoch 2: 100%|██████████| 508/508 [00:11<00:00, 44.09batch/s, loss_decrease=0.9999989643881323]\n",
      "100%|██████████| 3787/3787 [00:39<00:00, 95.16batch/s] \n"
     ]
    },
    {
     "data": {
      "text/html": [
       "<div>\n",
       "<style scoped>\n",
       "    .dataframe tbody tr th:only-of-type {\n",
       "        vertical-align: middle;\n",
       "    }\n",
       "\n",
       "    .dataframe tbody tr th {\n",
       "        vertical-align: top;\n",
       "    }\n",
       "\n",
       "    .dataframe thead tr th {\n",
       "        text-align: left;\n",
       "    }\n",
       "</style>\n",
       "<table border=\"1\" class=\"dataframe\">\n",
       "  <thead>\n",
       "    <tr>\n",
       "      <th></th>\n",
       "      <th colspan=\"2\" halign=\"left\">All</th>\n",
       "      <th colspan=\"2\" halign=\"left\">In VOC</th>\n",
       "      <th colspan=\"2\" halign=\"left\">Out of VOC</th>\n",
       "    </tr>\n",
       "    <tr>\n",
       "      <th></th>\n",
       "      <th>f1 micro</th>\n",
       "      <th>f1 macro</th>\n",
       "      <th>f1 micro</th>\n",
       "      <th>f1 macro</th>\n",
       "      <th>f1 micro</th>\n",
       "      <th>f1 macro</th>\n",
       "    </tr>\n",
       "  </thead>\n",
       "  <tbody>\n",
       "    <tr>\n",
       "      <th>0</th>\n",
       "      <td>0.621336</td>\n",
       "      <td>0.187186</td>\n",
       "      <td>0.647092</td>\n",
       "      <td>0.215558</td>\n",
       "      <td>0.14433</td>\n",
       "      <td>0.087673</td>\n",
       "    </tr>\n",
       "  </tbody>\n",
       "</table>\n",
       "</div>"
      ],
      "text/plain": [
       "        All              In VOC           Out of VOC          \n",
       "   f1 micro  f1 macro  f1 micro  f1 macro   f1 micro  f1 macro\n",
       "0  0.621336  0.187186  0.647092  0.215558    0.14433  0.087673"
      ]
     },
     "metadata": {},
     "output_type": "display_data"
    },
    {
     "name": "stderr",
     "output_type": "stream",
     "text": [
      "Epoch 3: 100%|██████████| 508/508 [00:11<00:00, 43.05batch/s, loss_decrease=0.999999058534577] \n",
      "100%|██████████| 3787/3787 [00:38<00:00, 97.60batch/s] \n"
     ]
    },
    {
     "data": {
      "text/html": [
       "<div>\n",
       "<style scoped>\n",
       "    .dataframe tbody tr th:only-of-type {\n",
       "        vertical-align: middle;\n",
       "    }\n",
       "\n",
       "    .dataframe tbody tr th {\n",
       "        vertical-align: top;\n",
       "    }\n",
       "\n",
       "    .dataframe thead tr th {\n",
       "        text-align: left;\n",
       "    }\n",
       "</style>\n",
       "<table border=\"1\" class=\"dataframe\">\n",
       "  <thead>\n",
       "    <tr>\n",
       "      <th></th>\n",
       "      <th colspan=\"2\" halign=\"left\">All</th>\n",
       "      <th colspan=\"2\" halign=\"left\">In VOC</th>\n",
       "      <th colspan=\"2\" halign=\"left\">Out of VOC</th>\n",
       "    </tr>\n",
       "    <tr>\n",
       "      <th></th>\n",
       "      <th>f1 micro</th>\n",
       "      <th>f1 macro</th>\n",
       "      <th>f1 micro</th>\n",
       "      <th>f1 macro</th>\n",
       "      <th>f1 micro</th>\n",
       "      <th>f1 macro</th>\n",
       "    </tr>\n",
       "  </thead>\n",
       "  <tbody>\n",
       "    <tr>\n",
       "      <th>0</th>\n",
       "      <td>0.634803</td>\n",
       "      <td>0.198972</td>\n",
       "      <td>0.661564</td>\n",
       "      <td>0.231343</td>\n",
       "      <td>0.139175</td>\n",
       "      <td>0.085262</td>\n",
       "    </tr>\n",
       "  </tbody>\n",
       "</table>\n",
       "</div>"
      ],
      "text/plain": [
       "        All              In VOC           Out of VOC          \n",
       "   f1 micro  f1 macro  f1 micro  f1 macro   f1 micro  f1 macro\n",
       "0  0.634803  0.198972  0.661564  0.231343   0.139175  0.085262"
      ]
     },
     "metadata": {},
     "output_type": "display_data"
    },
    {
     "name": "stderr",
     "output_type": "stream",
     "text": [
      "Epoch 4: 100%|██████████| 508/508 [00:12<00:00, 41.66batch/s, loss_decrease=0.999999058534577] \n",
      "100%|██████████| 3787/3787 [00:40<00:00, 94.42batch/s] \n"
     ]
    },
    {
     "data": {
      "text/html": [
       "<div>\n",
       "<style scoped>\n",
       "    .dataframe tbody tr th:only-of-type {\n",
       "        vertical-align: middle;\n",
       "    }\n",
       "\n",
       "    .dataframe tbody tr th {\n",
       "        vertical-align: top;\n",
       "    }\n",
       "\n",
       "    .dataframe thead tr th {\n",
       "        text-align: left;\n",
       "    }\n",
       "</style>\n",
       "<table border=\"1\" class=\"dataframe\">\n",
       "  <thead>\n",
       "    <tr>\n",
       "      <th></th>\n",
       "      <th colspan=\"2\" halign=\"left\">All</th>\n",
       "      <th colspan=\"2\" halign=\"left\">In VOC</th>\n",
       "      <th colspan=\"2\" halign=\"left\">Out of VOC</th>\n",
       "    </tr>\n",
       "    <tr>\n",
       "      <th></th>\n",
       "      <th>f1 micro</th>\n",
       "      <th>f1 macro</th>\n",
       "      <th>f1 micro</th>\n",
       "      <th>f1 macro</th>\n",
       "      <th>f1 micro</th>\n",
       "      <th>f1 macro</th>\n",
       "    </tr>\n",
       "  </thead>\n",
       "  <tbody>\n",
       "    <tr>\n",
       "      <th>0</th>\n",
       "      <td>0.646422</td>\n",
       "      <td>0.201508</td>\n",
       "      <td>0.674089</td>\n",
       "      <td>0.236399</td>\n",
       "      <td>0.134021</td>\n",
       "      <td>0.083271</td>\n",
       "    </tr>\n",
       "  </tbody>\n",
       "</table>\n",
       "</div>"
      ],
      "text/plain": [
       "        All              In VOC           Out of VOC          \n",
       "   f1 micro  f1 macro  f1 micro  f1 macro   f1 micro  f1 macro\n",
       "0  0.646422  0.201508  0.674089  0.236399   0.134021  0.083271"
      ]
     },
     "metadata": {},
     "output_type": "display_data"
    },
    {
     "name": "stderr",
     "output_type": "stream",
     "text": [
      "Epoch 5: 100%|██████████| 508/508 [00:11<00:00, 42.56batch/s, loss_decrease=0.9999991526810396]\n",
      "100%|██████████| 3787/3787 [00:39<00:00, 94.85batch/s] \n"
     ]
    },
    {
     "data": {
      "text/html": [
       "<div>\n",
       "<style scoped>\n",
       "    .dataframe tbody tr th:only-of-type {\n",
       "        vertical-align: middle;\n",
       "    }\n",
       "\n",
       "    .dataframe tbody tr th {\n",
       "        vertical-align: top;\n",
       "    }\n",
       "\n",
       "    .dataframe thead tr th {\n",
       "        text-align: left;\n",
       "    }\n",
       "</style>\n",
       "<table border=\"1\" class=\"dataframe\">\n",
       "  <thead>\n",
       "    <tr>\n",
       "      <th></th>\n",
       "      <th colspan=\"2\" halign=\"left\">All</th>\n",
       "      <th colspan=\"2\" halign=\"left\">In VOC</th>\n",
       "      <th colspan=\"2\" halign=\"left\">Out of VOC</th>\n",
       "    </tr>\n",
       "    <tr>\n",
       "      <th></th>\n",
       "      <th>f1 micro</th>\n",
       "      <th>f1 macro</th>\n",
       "      <th>f1 micro</th>\n",
       "      <th>f1 macro</th>\n",
       "      <th>f1 micro</th>\n",
       "      <th>f1 macro</th>\n",
       "    </tr>\n",
       "  </thead>\n",
       "  <tbody>\n",
       "    <tr>\n",
       "      <th>0</th>\n",
       "      <td>0.655928</td>\n",
       "      <td>0.203643</td>\n",
       "      <td>0.684665</td>\n",
       "      <td>0.240105</td>\n",
       "      <td>0.123711</td>\n",
       "      <td>0.078822</td>\n",
       "    </tr>\n",
       "  </tbody>\n",
       "</table>\n",
       "</div>"
      ],
      "text/plain": [
       "        All              In VOC           Out of VOC          \n",
       "   f1 micro  f1 macro  f1 micro  f1 macro   f1 micro  f1 macro\n",
       "0  0.655928  0.203643  0.684665  0.240105   0.123711  0.078822"
      ]
     },
     "metadata": {},
     "output_type": "display_data"
    },
    {
     "name": "stderr",
     "output_type": "stream",
     "text": [
      "Epoch 6: 100%|██████████| 508/508 [00:11<00:00, 43.64batch/s, loss_decrease=0.9999988702417052]\n",
      "100%|██████████| 3787/3787 [00:43<00:00, 87.15batch/s]\n"
     ]
    },
    {
     "data": {
      "text/html": [
       "<div>\n",
       "<style scoped>\n",
       "    .dataframe tbody tr th:only-of-type {\n",
       "        vertical-align: middle;\n",
       "    }\n",
       "\n",
       "    .dataframe tbody tr th {\n",
       "        vertical-align: top;\n",
       "    }\n",
       "\n",
       "    .dataframe thead tr th {\n",
       "        text-align: left;\n",
       "    }\n",
       "</style>\n",
       "<table border=\"1\" class=\"dataframe\">\n",
       "  <thead>\n",
       "    <tr>\n",
       "      <th></th>\n",
       "      <th colspan=\"2\" halign=\"left\">All</th>\n",
       "      <th colspan=\"2\" halign=\"left\">In VOC</th>\n",
       "      <th colspan=\"2\" halign=\"left\">Out of VOC</th>\n",
       "    </tr>\n",
       "    <tr>\n",
       "      <th></th>\n",
       "      <th>f1 micro</th>\n",
       "      <th>f1 macro</th>\n",
       "      <th>f1 micro</th>\n",
       "      <th>f1 macro</th>\n",
       "      <th>f1 micro</th>\n",
       "      <th>f1 macro</th>\n",
       "    </tr>\n",
       "  </thead>\n",
       "  <tbody>\n",
       "    <tr>\n",
       "      <th>0</th>\n",
       "      <td>0.662794</td>\n",
       "      <td>0.211326</td>\n",
       "      <td>0.692179</td>\n",
       "      <td>0.253835</td>\n",
       "      <td>0.118557</td>\n",
       "      <td>0.075498</td>\n",
       "    </tr>\n",
       "  </tbody>\n",
       "</table>\n",
       "</div>"
      ],
      "text/plain": [
       "        All              In VOC           Out of VOC          \n",
       "   f1 micro  f1 macro  f1 micro  f1 macro   f1 micro  f1 macro\n",
       "0  0.662794  0.211326  0.692179  0.253835   0.118557  0.075498"
      ]
     },
     "metadata": {},
     "output_type": "display_data"
    },
    {
     "name": "stderr",
     "output_type": "stream",
     "text": [
      "Epoch 7: 100%|██████████| 508/508 [00:12<00:00, 42.16batch/s, loss_decrease=0.9999988702417052]\n",
      "100%|██████████| 3787/3787 [00:39<00:00, 95.22batch/s]\n"
     ]
    },
    {
     "data": {
      "text/html": [
       "<div>\n",
       "<style scoped>\n",
       "    .dataframe tbody tr th:only-of-type {\n",
       "        vertical-align: middle;\n",
       "    }\n",
       "\n",
       "    .dataframe tbody tr th {\n",
       "        vertical-align: top;\n",
       "    }\n",
       "\n",
       "    .dataframe thead tr th {\n",
       "        text-align: left;\n",
       "    }\n",
       "</style>\n",
       "<table border=\"1\" class=\"dataframe\">\n",
       "  <thead>\n",
       "    <tr>\n",
       "      <th></th>\n",
       "      <th colspan=\"2\" halign=\"left\">All</th>\n",
       "      <th colspan=\"2\" halign=\"left\">In VOC</th>\n",
       "      <th colspan=\"2\" halign=\"left\">Out of VOC</th>\n",
       "    </tr>\n",
       "    <tr>\n",
       "      <th></th>\n",
       "      <th>f1 micro</th>\n",
       "      <th>f1 macro</th>\n",
       "      <th>f1 micro</th>\n",
       "      <th>f1 macro</th>\n",
       "      <th>f1 micro</th>\n",
       "      <th>f1 macro</th>\n",
       "    </tr>\n",
       "  </thead>\n",
       "  <tbody>\n",
       "    <tr>\n",
       "      <th>0</th>\n",
       "      <td>0.669659</td>\n",
       "      <td>0.213388</td>\n",
       "      <td>0.699694</td>\n",
       "      <td>0.259264</td>\n",
       "      <td>0.113402</td>\n",
       "      <td>0.07301</td>\n",
       "    </tr>\n",
       "  </tbody>\n",
       "</table>\n",
       "</div>"
      ],
      "text/plain": [
       "        All              In VOC           Out of VOC         \n",
       "   f1 micro  f1 macro  f1 micro  f1 macro   f1 micro f1 macro\n",
       "0  0.669659  0.213388  0.699694  0.259264   0.113402  0.07301"
      ]
     },
     "metadata": {},
     "output_type": "display_data"
    },
    {
     "name": "stderr",
     "output_type": "stream",
     "text": [
      "Epoch 8: 100%|██████████| 508/508 [00:11<00:00, 42.52batch/s, loss_decrease=0.9999992468275198]\n",
      "100%|██████████| 3787/3787 [00:39<00:00, 97.05batch/s] \n"
     ]
    },
    {
     "data": {
      "text/html": [
       "<div>\n",
       "<style scoped>\n",
       "    .dataframe tbody tr th:only-of-type {\n",
       "        vertical-align: middle;\n",
       "    }\n",
       "\n",
       "    .dataframe tbody tr th {\n",
       "        vertical-align: top;\n",
       "    }\n",
       "\n",
       "    .dataframe thead tr th {\n",
       "        text-align: left;\n",
       "    }\n",
       "</style>\n",
       "<table border=\"1\" class=\"dataframe\">\n",
       "  <thead>\n",
       "    <tr>\n",
       "      <th></th>\n",
       "      <th colspan=\"2\" halign=\"left\">All</th>\n",
       "      <th colspan=\"2\" halign=\"left\">In VOC</th>\n",
       "      <th colspan=\"2\" halign=\"left\">Out of VOC</th>\n",
       "    </tr>\n",
       "    <tr>\n",
       "      <th></th>\n",
       "      <th>f1 micro</th>\n",
       "      <th>f1 macro</th>\n",
       "      <th>f1 micro</th>\n",
       "      <th>f1 macro</th>\n",
       "      <th>f1 micro</th>\n",
       "      <th>f1 macro</th>\n",
       "    </tr>\n",
       "  </thead>\n",
       "  <tbody>\n",
       "    <tr>\n",
       "      <th>0</th>\n",
       "      <td>0.674148</td>\n",
       "      <td>0.217731</td>\n",
       "      <td>0.703869</td>\n",
       "      <td>0.262598</td>\n",
       "      <td>0.123711</td>\n",
       "      <td>0.077653</td>\n",
       "    </tr>\n",
       "  </tbody>\n",
       "</table>\n",
       "</div>"
      ],
      "text/plain": [
       "        All              In VOC           Out of VOC          \n",
       "   f1 micro  f1 macro  f1 micro  f1 macro   f1 micro  f1 macro\n",
       "0  0.674148  0.217731  0.703869  0.262598   0.123711  0.077653"
      ]
     },
     "metadata": {},
     "output_type": "display_data"
    },
    {
     "name": "stderr",
     "output_type": "stream",
     "text": [
      "Epoch 9: 100%|██████████| 508/508 [00:11<00:00, 43.64batch/s, loss_decrease=0.9999992468275198]\n",
      "100%|██████████| 3787/3787 [00:39<00:00, 97.00batch/s]\n"
     ]
    },
    {
     "data": {
      "text/html": [
       "<div>\n",
       "<style scoped>\n",
       "    .dataframe tbody tr th:only-of-type {\n",
       "        vertical-align: middle;\n",
       "    }\n",
       "\n",
       "    .dataframe tbody tr th {\n",
       "        vertical-align: top;\n",
       "    }\n",
       "\n",
       "    .dataframe thead tr th {\n",
       "        text-align: left;\n",
       "    }\n",
       "</style>\n",
       "<table border=\"1\" class=\"dataframe\">\n",
       "  <thead>\n",
       "    <tr>\n",
       "      <th></th>\n",
       "      <th colspan=\"2\" halign=\"left\">All</th>\n",
       "      <th colspan=\"2\" halign=\"left\">In VOC</th>\n",
       "      <th colspan=\"2\" halign=\"left\">Out of VOC</th>\n",
       "    </tr>\n",
       "    <tr>\n",
       "      <th></th>\n",
       "      <th>f1 micro</th>\n",
       "      <th>f1 macro</th>\n",
       "      <th>f1 micro</th>\n",
       "      <th>f1 macro</th>\n",
       "      <th>f1 micro</th>\n",
       "      <th>f1 macro</th>\n",
       "    </tr>\n",
       "  </thead>\n",
       "  <tbody>\n",
       "    <tr>\n",
       "      <th>0</th>\n",
       "      <td>0.675997</td>\n",
       "      <td>0.221669</td>\n",
       "      <td>0.705539</td>\n",
       "      <td>0.266504</td>\n",
       "      <td>0.128866</td>\n",
       "      <td>0.082013</td>\n",
       "    </tr>\n",
       "  </tbody>\n",
       "</table>\n",
       "</div>"
      ],
      "text/plain": [
       "        All              In VOC           Out of VOC          \n",
       "   f1 micro  f1 macro  f1 micro  f1 macro   f1 micro  f1 macro\n",
       "0  0.675997  0.221669  0.705539  0.266504   0.128866  0.082013"
      ]
     },
     "metadata": {},
     "output_type": "display_data"
    },
    {
     "name": "stderr",
     "output_type": "stream",
     "text": [
      "Epoch 10: 100%|██████████| 508/508 [00:12<00:00, 41.82batch/s, loss_decrease=0.9999992468275198]\n",
      "100%|██████████| 3787/3787 [00:39<00:00, 96.27batch/s] \n"
     ]
    },
    {
     "data": {
      "text/html": [
       "<div>\n",
       "<style scoped>\n",
       "    .dataframe tbody tr th:only-of-type {\n",
       "        vertical-align: middle;\n",
       "    }\n",
       "\n",
       "    .dataframe tbody tr th {\n",
       "        vertical-align: top;\n",
       "    }\n",
       "\n",
       "    .dataframe thead tr th {\n",
       "        text-align: left;\n",
       "    }\n",
       "</style>\n",
       "<table border=\"1\" class=\"dataframe\">\n",
       "  <thead>\n",
       "    <tr>\n",
       "      <th></th>\n",
       "      <th colspan=\"2\" halign=\"left\">All</th>\n",
       "      <th colspan=\"2\" halign=\"left\">In VOC</th>\n",
       "      <th colspan=\"2\" halign=\"left\">Out of VOC</th>\n",
       "    </tr>\n",
       "    <tr>\n",
       "      <th></th>\n",
       "      <th>f1 micro</th>\n",
       "      <th>f1 macro</th>\n",
       "      <th>f1 micro</th>\n",
       "      <th>f1 macro</th>\n",
       "      <th>f1 micro</th>\n",
       "      <th>f1 macro</th>\n",
       "    </tr>\n",
       "  </thead>\n",
       "  <tbody>\n",
       "    <tr>\n",
       "      <th>0</th>\n",
       "      <td>0.68207</td>\n",
       "      <td>0.22208</td>\n",
       "      <td>0.712218</td>\n",
       "      <td>0.270228</td>\n",
       "      <td>0.123711</td>\n",
       "      <td>0.078535</td>\n",
       "    </tr>\n",
       "  </tbody>\n",
       "</table>\n",
       "</div>"
      ],
      "text/plain": [
       "       All             In VOC           Out of VOC          \n",
       "  f1 micro f1 macro  f1 micro  f1 macro   f1 micro  f1 macro\n",
       "0  0.68207  0.22208  0.712218  0.270228   0.123711  0.078535"
      ]
     },
     "metadata": {},
     "output_type": "display_data"
    },
    {
     "name": "stderr",
     "output_type": "stream",
     "text": [
      "Epoch 11: 100%|██████████| 508/508 [00:11<00:00, 44.09batch/s, loss_decrease=0.9999994351205335]\n",
      "100%|██████████| 3787/3787 [00:39<00:00, 94.81batch/s]\n"
     ]
    },
    {
     "data": {
      "text/html": [
       "<div>\n",
       "<style scoped>\n",
       "    .dataframe tbody tr th:only-of-type {\n",
       "        vertical-align: middle;\n",
       "    }\n",
       "\n",
       "    .dataframe tbody tr th {\n",
       "        vertical-align: top;\n",
       "    }\n",
       "\n",
       "    .dataframe thead tr th {\n",
       "        text-align: left;\n",
       "    }\n",
       "</style>\n",
       "<table border=\"1\" class=\"dataframe\">\n",
       "  <thead>\n",
       "    <tr>\n",
       "      <th></th>\n",
       "      <th colspan=\"2\" halign=\"left\">All</th>\n",
       "      <th colspan=\"2\" halign=\"left\">In VOC</th>\n",
       "      <th colspan=\"2\" halign=\"left\">Out of VOC</th>\n",
       "    </tr>\n",
       "    <tr>\n",
       "      <th></th>\n",
       "      <th>f1 micro</th>\n",
       "      <th>f1 macro</th>\n",
       "      <th>f1 micro</th>\n",
       "      <th>f1 macro</th>\n",
       "      <th>f1 micro</th>\n",
       "      <th>f1 macro</th>\n",
       "    </tr>\n",
       "  </thead>\n",
       "  <tbody>\n",
       "    <tr>\n",
       "      <th>0</th>\n",
       "      <td>0.684975</td>\n",
       "      <td>0.225019</td>\n",
       "      <td>0.715001</td>\n",
       "      <td>0.271942</td>\n",
       "      <td>0.128866</td>\n",
       "      <td>0.082143</td>\n",
       "    </tr>\n",
       "  </tbody>\n",
       "</table>\n",
       "</div>"
      ],
      "text/plain": [
       "        All              In VOC           Out of VOC          \n",
       "   f1 micro  f1 macro  f1 micro  f1 macro   f1 micro  f1 macro\n",
       "0  0.684975  0.225019  0.715001  0.271942   0.128866  0.082143"
      ]
     },
     "metadata": {},
     "output_type": "display_data"
    },
    {
     "name": "stderr",
     "output_type": "stream",
     "text": [
      "Epoch 12: 100%|██████████| 508/508 [00:11<00:00, 44.04batch/s, loss_decrease=0.9999992468275198]\n",
      "100%|██████████| 3787/3787 [00:39<00:00, 95.07batch/s]\n"
     ]
    },
    {
     "data": {
      "text/html": [
       "<div>\n",
       "<style scoped>\n",
       "    .dataframe tbody tr th:only-of-type {\n",
       "        vertical-align: middle;\n",
       "    }\n",
       "\n",
       "    .dataframe tbody tr th {\n",
       "        vertical-align: top;\n",
       "    }\n",
       "\n",
       "    .dataframe thead tr th {\n",
       "        text-align: left;\n",
       "    }\n",
       "</style>\n",
       "<table border=\"1\" class=\"dataframe\">\n",
       "  <thead>\n",
       "    <tr>\n",
       "      <th></th>\n",
       "      <th colspan=\"2\" halign=\"left\">All</th>\n",
       "      <th colspan=\"2\" halign=\"left\">In VOC</th>\n",
       "      <th colspan=\"2\" halign=\"left\">Out of VOC</th>\n",
       "    </tr>\n",
       "    <tr>\n",
       "      <th></th>\n",
       "      <th>f1 micro</th>\n",
       "      <th>f1 macro</th>\n",
       "      <th>f1 micro</th>\n",
       "      <th>f1 macro</th>\n",
       "      <th>f1 micro</th>\n",
       "      <th>f1 macro</th>\n",
       "    </tr>\n",
       "  </thead>\n",
       "  <tbody>\n",
       "    <tr>\n",
       "      <th>0</th>\n",
       "      <td>0.687087</td>\n",
       "      <td>0.223374</td>\n",
       "      <td>0.717785</td>\n",
       "      <td>0.274167</td>\n",
       "      <td>0.118557</td>\n",
       "      <td>0.074747</td>\n",
       "    </tr>\n",
       "  </tbody>\n",
       "</table>\n",
       "</div>"
      ],
      "text/plain": [
       "        All              In VOC           Out of VOC          \n",
       "   f1 micro  f1 macro  f1 micro  f1 macro   f1 micro  f1 macro\n",
       "0  0.687087  0.223374  0.717785  0.274167   0.118557  0.074747"
      ]
     },
     "metadata": {},
     "output_type": "display_data"
    },
    {
     "name": "stderr",
     "output_type": "stream",
     "text": [
      "Epoch 13: 100%|██████████| 508/508 [00:11<00:00, 44.62batch/s, loss_decrease=0.9999992468275198]\n",
      "100%|██████████| 3787/3787 [00:39<00:00, 94.85batch/s] \n"
     ]
    },
    {
     "data": {
      "text/html": [
       "<div>\n",
       "<style scoped>\n",
       "    .dataframe tbody tr th:only-of-type {\n",
       "        vertical-align: middle;\n",
       "    }\n",
       "\n",
       "    .dataframe tbody tr th {\n",
       "        vertical-align: top;\n",
       "    }\n",
       "\n",
       "    .dataframe thead tr th {\n",
       "        text-align: left;\n",
       "    }\n",
       "</style>\n",
       "<table border=\"1\" class=\"dataframe\">\n",
       "  <thead>\n",
       "    <tr>\n",
       "      <th></th>\n",
       "      <th colspan=\"2\" halign=\"left\">All</th>\n",
       "      <th colspan=\"2\" halign=\"left\">In VOC</th>\n",
       "      <th colspan=\"2\" halign=\"left\">Out of VOC</th>\n",
       "    </tr>\n",
       "    <tr>\n",
       "      <th></th>\n",
       "      <th>f1 micro</th>\n",
       "      <th>f1 macro</th>\n",
       "      <th>f1 micro</th>\n",
       "      <th>f1 macro</th>\n",
       "      <th>f1 micro</th>\n",
       "      <th>f1 macro</th>\n",
       "    </tr>\n",
       "  </thead>\n",
       "  <tbody>\n",
       "    <tr>\n",
       "      <th>0</th>\n",
       "      <td>0.690256</td>\n",
       "      <td>0.229768</td>\n",
       "      <td>0.721124</td>\n",
       "      <td>0.283725</td>\n",
       "      <td>0.118557</td>\n",
       "      <td>0.075607</td>\n",
       "    </tr>\n",
       "  </tbody>\n",
       "</table>\n",
       "</div>"
      ],
      "text/plain": [
       "        All              In VOC           Out of VOC          \n",
       "   f1 micro  f1 macro  f1 micro  f1 macro   f1 micro  f1 macro\n",
       "0  0.690256  0.229768  0.721124  0.283725   0.118557  0.075607"
      ]
     },
     "metadata": {},
     "output_type": "display_data"
    },
    {
     "name": "stderr",
     "output_type": "stream",
     "text": [
      "Epoch 14: 100%|██████████| 508/508 [00:11<00:00, 42.53batch/s, loss_decrease=0.999999058534577] \n",
      "100%|██████████| 3787/3787 [00:40<00:00, 92.78batch/s] \n"
     ]
    },
    {
     "data": {
      "text/html": [
       "<div>\n",
       "<style scoped>\n",
       "    .dataframe tbody tr th:only-of-type {\n",
       "        vertical-align: middle;\n",
       "    }\n",
       "\n",
       "    .dataframe tbody tr th {\n",
       "        vertical-align: top;\n",
       "    }\n",
       "\n",
       "    .dataframe thead tr th {\n",
       "        text-align: left;\n",
       "    }\n",
       "</style>\n",
       "<table border=\"1\" class=\"dataframe\">\n",
       "  <thead>\n",
       "    <tr>\n",
       "      <th></th>\n",
       "      <th colspan=\"2\" halign=\"left\">All</th>\n",
       "      <th colspan=\"2\" halign=\"left\">In VOC</th>\n",
       "      <th colspan=\"2\" halign=\"left\">Out of VOC</th>\n",
       "    </tr>\n",
       "    <tr>\n",
       "      <th></th>\n",
       "      <th>f1 micro</th>\n",
       "      <th>f1 macro</th>\n",
       "      <th>f1 micro</th>\n",
       "      <th>f1 macro</th>\n",
       "      <th>f1 micro</th>\n",
       "      <th>f1 macro</th>\n",
       "    </tr>\n",
       "  </thead>\n",
       "  <tbody>\n",
       "    <tr>\n",
       "      <th>0</th>\n",
       "      <td>0.692633</td>\n",
       "      <td>0.226665</td>\n",
       "      <td>0.723629</td>\n",
       "      <td>0.278274</td>\n",
       "      <td>0.118557</td>\n",
       "      <td>0.07547</td>\n",
       "    </tr>\n",
       "  </tbody>\n",
       "</table>\n",
       "</div>"
      ],
      "text/plain": [
       "        All              In VOC           Out of VOC         \n",
       "   f1 micro  f1 macro  f1 micro  f1 macro   f1 micro f1 macro\n",
       "0  0.692633  0.226665  0.723629  0.278274   0.118557  0.07547"
      ]
     },
     "metadata": {},
     "output_type": "display_data"
    },
    {
     "name": "stderr",
     "output_type": "stream",
     "text": [
      "Epoch 15: 100%|██████████| 508/508 [00:11<00:00, 43.86batch/s, loss_decrease=0.9999995292670669]\n",
      "100%|██████████| 3787/3787 [00:39<00:00, 96.49batch/s] \n"
     ]
    },
    {
     "data": {
      "text/html": [
       "<div>\n",
       "<style scoped>\n",
       "    .dataframe tbody tr th:only-of-type {\n",
       "        vertical-align: middle;\n",
       "    }\n",
       "\n",
       "    .dataframe tbody tr th {\n",
       "        vertical-align: top;\n",
       "    }\n",
       "\n",
       "    .dataframe thead tr th {\n",
       "        text-align: left;\n",
       "    }\n",
       "</style>\n",
       "<table border=\"1\" class=\"dataframe\">\n",
       "  <thead>\n",
       "    <tr>\n",
       "      <th></th>\n",
       "      <th colspan=\"2\" halign=\"left\">All</th>\n",
       "      <th colspan=\"2\" halign=\"left\">In VOC</th>\n",
       "      <th colspan=\"2\" halign=\"left\">Out of VOC</th>\n",
       "    </tr>\n",
       "    <tr>\n",
       "      <th></th>\n",
       "      <th>f1 micro</th>\n",
       "      <th>f1 macro</th>\n",
       "      <th>f1 micro</th>\n",
       "      <th>f1 macro</th>\n",
       "      <th>f1 micro</th>\n",
       "      <th>f1 macro</th>\n",
       "    </tr>\n",
       "  </thead>\n",
       "  <tbody>\n",
       "    <tr>\n",
       "      <th>0</th>\n",
       "      <td>0.695537</td>\n",
       "      <td>0.228622</td>\n",
       "      <td>0.726691</td>\n",
       "      <td>0.281301</td>\n",
       "      <td>0.118557</td>\n",
       "      <td>0.075577</td>\n",
       "    </tr>\n",
       "  </tbody>\n",
       "</table>\n",
       "</div>"
      ],
      "text/plain": [
       "        All              In VOC           Out of VOC          \n",
       "   f1 micro  f1 macro  f1 micro  f1 macro   f1 micro  f1 macro\n",
       "0  0.695537  0.228622  0.726691  0.281301   0.118557  0.075577"
      ]
     },
     "metadata": {},
     "output_type": "display_data"
    },
    {
     "name": "stderr",
     "output_type": "stream",
     "text": [
      "Epoch 16: 100%|██████████| 508/508 [00:11<00:00, 43.28batch/s, loss_decrease=0.9999994351205335]\n",
      "100%|██████████| 3787/3787 [00:38<00:00, 98.18batch/s] \n"
     ]
    },
    {
     "data": {
      "text/html": [
       "<div>\n",
       "<style scoped>\n",
       "    .dataframe tbody tr th:only-of-type {\n",
       "        vertical-align: middle;\n",
       "    }\n",
       "\n",
       "    .dataframe tbody tr th {\n",
       "        vertical-align: top;\n",
       "    }\n",
       "\n",
       "    .dataframe thead tr th {\n",
       "        text-align: left;\n",
       "    }\n",
       "</style>\n",
       "<table border=\"1\" class=\"dataframe\">\n",
       "  <thead>\n",
       "    <tr>\n",
       "      <th></th>\n",
       "      <th colspan=\"2\" halign=\"left\">All</th>\n",
       "      <th colspan=\"2\" halign=\"left\">In VOC</th>\n",
       "      <th colspan=\"2\" halign=\"left\">Out of VOC</th>\n",
       "    </tr>\n",
       "    <tr>\n",
       "      <th></th>\n",
       "      <th>f1 micro</th>\n",
       "      <th>f1 macro</th>\n",
       "      <th>f1 micro</th>\n",
       "      <th>f1 macro</th>\n",
       "      <th>f1 micro</th>\n",
       "      <th>f1 macro</th>\n",
       "    </tr>\n",
       "  </thead>\n",
       "  <tbody>\n",
       "    <tr>\n",
       "      <th>0</th>\n",
       "      <td>0.697386</td>\n",
       "      <td>0.229901</td>\n",
       "      <td>0.728639</td>\n",
       "      <td>0.283052</td>\n",
       "      <td>0.118557</td>\n",
       "      <td>0.07695</td>\n",
       "    </tr>\n",
       "  </tbody>\n",
       "</table>\n",
       "</div>"
      ],
      "text/plain": [
       "        All              In VOC           Out of VOC         \n",
       "   f1 micro  f1 macro  f1 micro  f1 macro   f1 micro f1 macro\n",
       "0  0.697386  0.229901  0.728639  0.283052   0.118557  0.07695"
      ]
     },
     "metadata": {},
     "output_type": "display_data"
    },
    {
     "name": "stderr",
     "output_type": "stream",
     "text": [
      "Epoch 17: 100%|██████████| 508/508 [00:11<00:00, 43.80batch/s, loss_decrease=0.9999996234136181]\n",
      "100%|██████████| 3787/3787 [00:40<00:00, 94.55batch/s] \n"
     ]
    },
    {
     "data": {
      "text/html": [
       "<div>\n",
       "<style scoped>\n",
       "    .dataframe tbody tr th:only-of-type {\n",
       "        vertical-align: middle;\n",
       "    }\n",
       "\n",
       "    .dataframe tbody tr th {\n",
       "        vertical-align: top;\n",
       "    }\n",
       "\n",
       "    .dataframe thead tr th {\n",
       "        text-align: left;\n",
       "    }\n",
       "</style>\n",
       "<table border=\"1\" class=\"dataframe\">\n",
       "  <thead>\n",
       "    <tr>\n",
       "      <th></th>\n",
       "      <th colspan=\"2\" halign=\"left\">All</th>\n",
       "      <th colspan=\"2\" halign=\"left\">In VOC</th>\n",
       "      <th colspan=\"2\" halign=\"left\">Out of VOC</th>\n",
       "    </tr>\n",
       "    <tr>\n",
       "      <th></th>\n",
       "      <th>f1 micro</th>\n",
       "      <th>f1 macro</th>\n",
       "      <th>f1 micro</th>\n",
       "      <th>f1 macro</th>\n",
       "      <th>f1 micro</th>\n",
       "      <th>f1 macro</th>\n",
       "    </tr>\n",
       "  </thead>\n",
       "  <tbody>\n",
       "    <tr>\n",
       "      <th>0</th>\n",
       "      <td>0.698706</td>\n",
       "      <td>0.236197</td>\n",
       "      <td>0.730031</td>\n",
       "      <td>0.292918</td>\n",
       "      <td>0.118557</td>\n",
       "      <td>0.076897</td>\n",
       "    </tr>\n",
       "  </tbody>\n",
       "</table>\n",
       "</div>"
      ],
      "text/plain": [
       "        All              In VOC           Out of VOC          \n",
       "   f1 micro  f1 macro  f1 micro  f1 macro   f1 micro  f1 macro\n",
       "0  0.698706  0.236197  0.730031  0.292918   0.118557  0.076897"
      ]
     },
     "metadata": {},
     "output_type": "display_data"
    },
    {
     "name": "stderr",
     "output_type": "stream",
     "text": [
      "Epoch 18: 100%|██████████| 508/508 [00:12<00:00, 42.22batch/s, loss_decrease=0.9999995292670669]\n",
      "100%|██████████| 3787/3787 [00:47<00:00, 79.64batch/s]\n"
     ]
    },
    {
     "data": {
      "text/html": [
       "<div>\n",
       "<style scoped>\n",
       "    .dataframe tbody tr th:only-of-type {\n",
       "        vertical-align: middle;\n",
       "    }\n",
       "\n",
       "    .dataframe tbody tr th {\n",
       "        vertical-align: top;\n",
       "    }\n",
       "\n",
       "    .dataframe thead tr th {\n",
       "        text-align: left;\n",
       "    }\n",
       "</style>\n",
       "<table border=\"1\" class=\"dataframe\">\n",
       "  <thead>\n",
       "    <tr>\n",
       "      <th></th>\n",
       "      <th colspan=\"2\" halign=\"left\">All</th>\n",
       "      <th colspan=\"2\" halign=\"left\">In VOC</th>\n",
       "      <th colspan=\"2\" halign=\"left\">Out of VOC</th>\n",
       "    </tr>\n",
       "    <tr>\n",
       "      <th></th>\n",
       "      <th>f1 micro</th>\n",
       "      <th>f1 macro</th>\n",
       "      <th>f1 micro</th>\n",
       "      <th>f1 macro</th>\n",
       "      <th>f1 micro</th>\n",
       "      <th>f1 macro</th>\n",
       "    </tr>\n",
       "  </thead>\n",
       "  <tbody>\n",
       "    <tr>\n",
       "      <th>0</th>\n",
       "      <td>0.700555</td>\n",
       "      <td>0.237459</td>\n",
       "      <td>0.731701</td>\n",
       "      <td>0.290475</td>\n",
       "      <td>0.123711</td>\n",
       "      <td>0.079176</td>\n",
       "    </tr>\n",
       "  </tbody>\n",
       "</table>\n",
       "</div>"
      ],
      "text/plain": [
       "        All              In VOC           Out of VOC          \n",
       "   f1 micro  f1 macro  f1 micro  f1 macro   f1 micro  f1 macro\n",
       "0  0.700555  0.237459  0.731701  0.290475   0.123711  0.079176"
      ]
     },
     "metadata": {},
     "output_type": "display_data"
    },
    {
     "name": "stderr",
     "output_type": "stream",
     "text": [
      "Epoch 19: 100%|██████████| 508/508 [00:11<00:00, 42.83batch/s, loss_decrease=0.9999996234136181]\n",
      "100%|██████████| 3787/3787 [00:40<00:00, 94.55batch/s]\n"
     ]
    },
    {
     "data": {
      "text/html": [
       "<div>\n",
       "<style scoped>\n",
       "    .dataframe tbody tr th:only-of-type {\n",
       "        vertical-align: middle;\n",
       "    }\n",
       "\n",
       "    .dataframe tbody tr th {\n",
       "        vertical-align: top;\n",
       "    }\n",
       "\n",
       "    .dataframe thead tr th {\n",
       "        text-align: left;\n",
       "    }\n",
       "</style>\n",
       "<table border=\"1\" class=\"dataframe\">\n",
       "  <thead>\n",
       "    <tr>\n",
       "      <th></th>\n",
       "      <th colspan=\"2\" halign=\"left\">All</th>\n",
       "      <th colspan=\"2\" halign=\"left\">In VOC</th>\n",
       "      <th colspan=\"2\" halign=\"left\">Out of VOC</th>\n",
       "    </tr>\n",
       "    <tr>\n",
       "      <th></th>\n",
       "      <th>f1 micro</th>\n",
       "      <th>f1 macro</th>\n",
       "      <th>f1 micro</th>\n",
       "      <th>f1 macro</th>\n",
       "      <th>f1 micro</th>\n",
       "      <th>f1 macro</th>\n",
       "    </tr>\n",
       "  </thead>\n",
       "  <tbody>\n",
       "    <tr>\n",
       "      <th>0</th>\n",
       "      <td>0.705044</td>\n",
       "      <td>0.239708</td>\n",
       "      <td>0.736432</td>\n",
       "      <td>0.29585</td>\n",
       "      <td>0.123711</td>\n",
       "      <td>0.07874</td>\n",
       "    </tr>\n",
       "  </tbody>\n",
       "</table>\n",
       "</div>"
      ],
      "text/plain": [
       "        All              In VOC          Out of VOC         \n",
       "   f1 micro  f1 macro  f1 micro f1 macro   f1 micro f1 macro\n",
       "0  0.705044  0.239708  0.736432  0.29585   0.123711  0.07874"
      ]
     },
     "metadata": {},
     "output_type": "display_data"
    },
    {
     "name": "stderr",
     "output_type": "stream",
     "text": [
      "Epoch 20: 100%|██████████| 508/508 [00:11<00:00, 43.91batch/s, loss_decrease=0.9999993409740178]\n",
      "100%|██████████| 3787/3787 [00:40<00:00, 94.56batch/s]\n"
     ]
    },
    {
     "data": {
      "text/html": [
       "<div>\n",
       "<style scoped>\n",
       "    .dataframe tbody tr th:only-of-type {\n",
       "        vertical-align: middle;\n",
       "    }\n",
       "\n",
       "    .dataframe tbody tr th {\n",
       "        vertical-align: top;\n",
       "    }\n",
       "\n",
       "    .dataframe thead tr th {\n",
       "        text-align: left;\n",
       "    }\n",
       "</style>\n",
       "<table border=\"1\" class=\"dataframe\">\n",
       "  <thead>\n",
       "    <tr>\n",
       "      <th></th>\n",
       "      <th colspan=\"2\" halign=\"left\">All</th>\n",
       "      <th colspan=\"2\" halign=\"left\">In VOC</th>\n",
       "      <th colspan=\"2\" halign=\"left\">Out of VOC</th>\n",
       "    </tr>\n",
       "    <tr>\n",
       "      <th></th>\n",
       "      <th>f1 micro</th>\n",
       "      <th>f1 macro</th>\n",
       "      <th>f1 micro</th>\n",
       "      <th>f1 macro</th>\n",
       "      <th>f1 micro</th>\n",
       "      <th>f1 macro</th>\n",
       "    </tr>\n",
       "  </thead>\n",
       "  <tbody>\n",
       "    <tr>\n",
       "      <th>0</th>\n",
       "      <td>0.70478</td>\n",
       "      <td>0.238736</td>\n",
       "      <td>0.737267</td>\n",
       "      <td>0.299247</td>\n",
       "      <td>0.103093</td>\n",
       "      <td>0.068027</td>\n",
       "    </tr>\n",
       "  </tbody>\n",
       "</table>\n",
       "</div>"
      ],
      "text/plain": [
       "       All              In VOC           Out of VOC          \n",
       "  f1 micro  f1 macro  f1 micro  f1 macro   f1 micro  f1 macro\n",
       "0  0.70478  0.238736  0.737267  0.299247   0.103093  0.068027"
      ]
     },
     "metadata": {},
     "output_type": "display_data"
    },
    {
     "name": "stderr",
     "output_type": "stream",
     "text": [
      "Epoch 21: 100%|██████████| 508/508 [00:11<00:00, 43.94batch/s, loss_decrease=0.9999996234136181]\n",
      "100%|██████████| 3787/3787 [00:39<00:00, 95.80batch/s]\n"
     ]
    },
    {
     "data": {
      "text/html": [
       "<div>\n",
       "<style scoped>\n",
       "    .dataframe tbody tr th:only-of-type {\n",
       "        vertical-align: middle;\n",
       "    }\n",
       "\n",
       "    .dataframe tbody tr th {\n",
       "        vertical-align: top;\n",
       "    }\n",
       "\n",
       "    .dataframe thead tr th {\n",
       "        text-align: left;\n",
       "    }\n",
       "</style>\n",
       "<table border=\"1\" class=\"dataframe\">\n",
       "  <thead>\n",
       "    <tr>\n",
       "      <th></th>\n",
       "      <th colspan=\"2\" halign=\"left\">All</th>\n",
       "      <th colspan=\"2\" halign=\"left\">In VOC</th>\n",
       "      <th colspan=\"2\" halign=\"left\">Out of VOC</th>\n",
       "    </tr>\n",
       "    <tr>\n",
       "      <th></th>\n",
       "      <th>f1 micro</th>\n",
       "      <th>f1 macro</th>\n",
       "      <th>f1 micro</th>\n",
       "      <th>f1 macro</th>\n",
       "      <th>f1 micro</th>\n",
       "      <th>f1 macro</th>\n",
       "    </tr>\n",
       "  </thead>\n",
       "  <tbody>\n",
       "    <tr>\n",
       "      <th>0</th>\n",
       "      <td>0.706628</td>\n",
       "      <td>0.234872</td>\n",
       "      <td>0.739772</td>\n",
       "      <td>0.297808</td>\n",
       "      <td>0.092784</td>\n",
       "      <td>0.059796</td>\n",
       "    </tr>\n",
       "  </tbody>\n",
       "</table>\n",
       "</div>"
      ],
      "text/plain": [
       "        All              In VOC           Out of VOC          \n",
       "   f1 micro  f1 macro  f1 micro  f1 macro   f1 micro  f1 macro\n",
       "0  0.706628  0.234872  0.739772  0.297808   0.092784  0.059796"
      ]
     },
     "metadata": {},
     "output_type": "display_data"
    },
    {
     "name": "stderr",
     "output_type": "stream",
     "text": [
      "Epoch 22: 100%|██████████| 508/508 [00:11<00:00, 43.89batch/s, loss_decrease=0.9999996234136181]\n",
      "100%|██████████| 3787/3787 [00:39<00:00, 95.37batch/s] \n"
     ]
    },
    {
     "data": {
      "text/html": [
       "<div>\n",
       "<style scoped>\n",
       "    .dataframe tbody tr th:only-of-type {\n",
       "        vertical-align: middle;\n",
       "    }\n",
       "\n",
       "    .dataframe tbody tr th {\n",
       "        vertical-align: top;\n",
       "    }\n",
       "\n",
       "    .dataframe thead tr th {\n",
       "        text-align: left;\n",
       "    }\n",
       "</style>\n",
       "<table border=\"1\" class=\"dataframe\">\n",
       "  <thead>\n",
       "    <tr>\n",
       "      <th></th>\n",
       "      <th colspan=\"2\" halign=\"left\">All</th>\n",
       "      <th colspan=\"2\" halign=\"left\">In VOC</th>\n",
       "      <th colspan=\"2\" halign=\"left\">Out of VOC</th>\n",
       "    </tr>\n",
       "    <tr>\n",
       "      <th></th>\n",
       "      <th>f1 micro</th>\n",
       "      <th>f1 macro</th>\n",
       "      <th>f1 micro</th>\n",
       "      <th>f1 macro</th>\n",
       "      <th>f1 micro</th>\n",
       "      <th>f1 macro</th>\n",
       "    </tr>\n",
       "  </thead>\n",
       "  <tbody>\n",
       "    <tr>\n",
       "      <th>0</th>\n",
       "      <td>0.709269</td>\n",
       "      <td>0.238561</td>\n",
       "      <td>0.742555</td>\n",
       "      <td>0.302827</td>\n",
       "      <td>0.092784</td>\n",
       "      <td>0.059748</td>\n",
       "    </tr>\n",
       "  </tbody>\n",
       "</table>\n",
       "</div>"
      ],
      "text/plain": [
       "        All              In VOC           Out of VOC          \n",
       "   f1 micro  f1 macro  f1 micro  f1 macro   f1 micro  f1 macro\n",
       "0  0.709269  0.238561  0.742555  0.302827   0.092784  0.059748"
      ]
     },
     "metadata": {},
     "output_type": "display_data"
    },
    {
     "name": "stderr",
     "output_type": "stream",
     "text": [
      "Epoch 23: 100%|██████████| 508/508 [00:11<00:00, 44.82batch/s, loss_decrease=0.9999996234136181]\n",
      "100%|██████████| 3787/3787 [00:38<00:00, 98.03batch/s] \n"
     ]
    },
    {
     "data": {
      "text/html": [
       "<div>\n",
       "<style scoped>\n",
       "    .dataframe tbody tr th:only-of-type {\n",
       "        vertical-align: middle;\n",
       "    }\n",
       "\n",
       "    .dataframe tbody tr th {\n",
       "        vertical-align: top;\n",
       "    }\n",
       "\n",
       "    .dataframe thead tr th {\n",
       "        text-align: left;\n",
       "    }\n",
       "</style>\n",
       "<table border=\"1\" class=\"dataframe\">\n",
       "  <thead>\n",
       "    <tr>\n",
       "      <th></th>\n",
       "      <th colspan=\"2\" halign=\"left\">All</th>\n",
       "      <th colspan=\"2\" halign=\"left\">In VOC</th>\n",
       "      <th colspan=\"2\" halign=\"left\">Out of VOC</th>\n",
       "    </tr>\n",
       "    <tr>\n",
       "      <th></th>\n",
       "      <th>f1 micro</th>\n",
       "      <th>f1 macro</th>\n",
       "      <th>f1 micro</th>\n",
       "      <th>f1 macro</th>\n",
       "      <th>f1 micro</th>\n",
       "      <th>f1 macro</th>\n",
       "    </tr>\n",
       "  </thead>\n",
       "  <tbody>\n",
       "    <tr>\n",
       "      <th>0</th>\n",
       "      <td>0.710853</td>\n",
       "      <td>0.24237</td>\n",
       "      <td>0.74339</td>\n",
       "      <td>0.305117</td>\n",
       "      <td>0.108247</td>\n",
       "      <td>0.069487</td>\n",
       "    </tr>\n",
       "  </tbody>\n",
       "</table>\n",
       "</div>"
      ],
      "text/plain": [
       "        All            In VOC           Out of VOC          \n",
       "   f1 micro f1 macro f1 micro  f1 macro   f1 micro  f1 macro\n",
       "0  0.710853  0.24237  0.74339  0.305117   0.108247  0.069487"
      ]
     },
     "metadata": {},
     "output_type": "display_data"
    },
    {
     "name": "stderr",
     "output_type": "stream",
     "text": [
      "Epoch 24: 100%|██████████| 508/508 [00:11<00:00, 43.38batch/s, loss_decrease=0.999999717560187] \n",
      "100%|██████████| 3787/3787 [00:40<00:00, 93.01batch/s] \n"
     ]
    },
    {
     "data": {
      "text/html": [
       "<div>\n",
       "<style scoped>\n",
       "    .dataframe tbody tr th:only-of-type {\n",
       "        vertical-align: middle;\n",
       "    }\n",
       "\n",
       "    .dataframe tbody tr th {\n",
       "        vertical-align: top;\n",
       "    }\n",
       "\n",
       "    .dataframe thead tr th {\n",
       "        text-align: left;\n",
       "    }\n",
       "</style>\n",
       "<table border=\"1\" class=\"dataframe\">\n",
       "  <thead>\n",
       "    <tr>\n",
       "      <th></th>\n",
       "      <th colspan=\"2\" halign=\"left\">All</th>\n",
       "      <th colspan=\"2\" halign=\"left\">In VOC</th>\n",
       "      <th colspan=\"2\" halign=\"left\">Out of VOC</th>\n",
       "    </tr>\n",
       "    <tr>\n",
       "      <th></th>\n",
       "      <th>f1 micro</th>\n",
       "      <th>f1 macro</th>\n",
       "      <th>f1 micro</th>\n",
       "      <th>f1 macro</th>\n",
       "      <th>f1 micro</th>\n",
       "      <th>f1 macro</th>\n",
       "    </tr>\n",
       "  </thead>\n",
       "  <tbody>\n",
       "    <tr>\n",
       "      <th>0</th>\n",
       "      <td>0.713494</td>\n",
       "      <td>0.245993</td>\n",
       "      <td>0.747008</td>\n",
       "      <td>0.313972</td>\n",
       "      <td>0.092784</td>\n",
       "      <td>0.062341</td>\n",
       "    </tr>\n",
       "  </tbody>\n",
       "</table>\n",
       "</div>"
      ],
      "text/plain": [
       "        All              In VOC           Out of VOC          \n",
       "   f1 micro  f1 macro  f1 micro  f1 macro   f1 micro  f1 macro\n",
       "0  0.713494  0.245993  0.747008  0.313972   0.092784  0.062341"
      ]
     },
     "metadata": {},
     "output_type": "display_data"
    },
    {
     "name": "stderr",
     "output_type": "stream",
     "text": [
      "Epoch 25: 100%|██████████| 508/508 [00:11<00:00, 43.17batch/s, loss_decrease=0.999999717560187] \n",
      "100%|██████████| 3787/3787 [00:39<00:00, 95.11batch/s] \n"
     ]
    },
    {
     "data": {
      "text/html": [
       "<div>\n",
       "<style scoped>\n",
       "    .dataframe tbody tr th:only-of-type {\n",
       "        vertical-align: middle;\n",
       "    }\n",
       "\n",
       "    .dataframe tbody tr th {\n",
       "        vertical-align: top;\n",
       "    }\n",
       "\n",
       "    .dataframe thead tr th {\n",
       "        text-align: left;\n",
       "    }\n",
       "</style>\n",
       "<table border=\"1\" class=\"dataframe\">\n",
       "  <thead>\n",
       "    <tr>\n",
       "      <th></th>\n",
       "      <th colspan=\"2\" halign=\"left\">All</th>\n",
       "      <th colspan=\"2\" halign=\"left\">In VOC</th>\n",
       "      <th colspan=\"2\" halign=\"left\">Out of VOC</th>\n",
       "    </tr>\n",
       "    <tr>\n",
       "      <th></th>\n",
       "      <th>f1 micro</th>\n",
       "      <th>f1 macro</th>\n",
       "      <th>f1 micro</th>\n",
       "      <th>f1 macro</th>\n",
       "      <th>f1 micro</th>\n",
       "      <th>f1 macro</th>\n",
       "    </tr>\n",
       "  </thead>\n",
       "  <tbody>\n",
       "    <tr>\n",
       "      <th>0</th>\n",
       "      <td>0.713758</td>\n",
       "      <td>0.242586</td>\n",
       "      <td>0.747286</td>\n",
       "      <td>0.311257</td>\n",
       "      <td>0.092784</td>\n",
       "      <td>0.059524</td>\n",
       "    </tr>\n",
       "  </tbody>\n",
       "</table>\n",
       "</div>"
      ],
      "text/plain": [
       "        All              In VOC           Out of VOC          \n",
       "   f1 micro  f1 macro  f1 micro  f1 macro   f1 micro  f1 macro\n",
       "0  0.713758  0.242586  0.747286  0.311257   0.092784  0.059524"
      ]
     },
     "metadata": {},
     "output_type": "display_data"
    },
    {
     "name": "stderr",
     "output_type": "stream",
     "text": [
      "Epoch 26: 100%|██████████| 508/508 [00:11<00:00, 43.88batch/s, loss_decrease=0.999999717560187] \n",
      "100%|██████████| 3787/3787 [00:39<00:00, 96.06batch/s]\n"
     ]
    },
    {
     "data": {
      "text/html": [
       "<div>\n",
       "<style scoped>\n",
       "    .dataframe tbody tr th:only-of-type {\n",
       "        vertical-align: middle;\n",
       "    }\n",
       "\n",
       "    .dataframe tbody tr th {\n",
       "        vertical-align: top;\n",
       "    }\n",
       "\n",
       "    .dataframe thead tr th {\n",
       "        text-align: left;\n",
       "    }\n",
       "</style>\n",
       "<table border=\"1\" class=\"dataframe\">\n",
       "  <thead>\n",
       "    <tr>\n",
       "      <th></th>\n",
       "      <th colspan=\"2\" halign=\"left\">All</th>\n",
       "      <th colspan=\"2\" halign=\"left\">In VOC</th>\n",
       "      <th colspan=\"2\" halign=\"left\">Out of VOC</th>\n",
       "    </tr>\n",
       "    <tr>\n",
       "      <th></th>\n",
       "      <th>f1 micro</th>\n",
       "      <th>f1 macro</th>\n",
       "      <th>f1 micro</th>\n",
       "      <th>f1 macro</th>\n",
       "      <th>f1 micro</th>\n",
       "      <th>f1 macro</th>\n",
       "    </tr>\n",
       "  </thead>\n",
       "  <tbody>\n",
       "    <tr>\n",
       "      <th>0</th>\n",
       "      <td>0.715078</td>\n",
       "      <td>0.246836</td>\n",
       "      <td>0.748678</td>\n",
       "      <td>0.317987</td>\n",
       "      <td>0.092784</td>\n",
       "      <td>0.060746</td>\n",
       "    </tr>\n",
       "  </tbody>\n",
       "</table>\n",
       "</div>"
      ],
      "text/plain": [
       "        All              In VOC           Out of VOC          \n",
       "   f1 micro  f1 macro  f1 micro  f1 macro   f1 micro  f1 macro\n",
       "0  0.715078  0.246836  0.748678  0.317987   0.092784  0.060746"
      ]
     },
     "metadata": {},
     "output_type": "display_data"
    },
    {
     "name": "stderr",
     "output_type": "stream",
     "text": [
      "Epoch 27: 100%|██████████| 508/508 [00:11<00:00, 44.38batch/s, loss_decrease=0.999999717560187] \n",
      "100%|██████████| 3787/3787 [00:38<00:00, 98.18batch/s] \n"
     ]
    },
    {
     "data": {
      "text/html": [
       "<div>\n",
       "<style scoped>\n",
       "    .dataframe tbody tr th:only-of-type {\n",
       "        vertical-align: middle;\n",
       "    }\n",
       "\n",
       "    .dataframe tbody tr th {\n",
       "        vertical-align: top;\n",
       "    }\n",
       "\n",
       "    .dataframe thead tr th {\n",
       "        text-align: left;\n",
       "    }\n",
       "</style>\n",
       "<table border=\"1\" class=\"dataframe\">\n",
       "  <thead>\n",
       "    <tr>\n",
       "      <th></th>\n",
       "      <th colspan=\"2\" halign=\"left\">All</th>\n",
       "      <th colspan=\"2\" halign=\"left\">In VOC</th>\n",
       "      <th colspan=\"2\" halign=\"left\">Out of VOC</th>\n",
       "    </tr>\n",
       "    <tr>\n",
       "      <th></th>\n",
       "      <th>f1 micro</th>\n",
       "      <th>f1 macro</th>\n",
       "      <th>f1 micro</th>\n",
       "      <th>f1 macro</th>\n",
       "      <th>f1 micro</th>\n",
       "      <th>f1 macro</th>\n",
       "    </tr>\n",
       "  </thead>\n",
       "  <tbody>\n",
       "    <tr>\n",
       "      <th>0</th>\n",
       "      <td>0.715606</td>\n",
       "      <td>0.247061</td>\n",
       "      <td>0.749235</td>\n",
       "      <td>0.314165</td>\n",
       "      <td>0.092784</td>\n",
       "      <td>0.063371</td>\n",
       "    </tr>\n",
       "  </tbody>\n",
       "</table>\n",
       "</div>"
      ],
      "text/plain": [
       "        All              In VOC           Out of VOC          \n",
       "   f1 micro  f1 macro  f1 micro  f1 macro   f1 micro  f1 macro\n",
       "0  0.715606  0.247061  0.749235  0.314165   0.092784  0.063371"
      ]
     },
     "metadata": {},
     "output_type": "display_data"
    },
    {
     "name": "stderr",
     "output_type": "stream",
     "text": [
      "Epoch 28: 100%|██████████| 508/508 [00:11<00:00, 44.30batch/s, loss_decrease=0.9999998117067735]\n",
      "100%|██████████| 3787/3787 [00:39<00:00, 96.03batch/s]\n"
     ]
    },
    {
     "data": {
      "text/html": [
       "<div>\n",
       "<style scoped>\n",
       "    .dataframe tbody tr th:only-of-type {\n",
       "        vertical-align: middle;\n",
       "    }\n",
       "\n",
       "    .dataframe tbody tr th {\n",
       "        vertical-align: top;\n",
       "    }\n",
       "\n",
       "    .dataframe thead tr th {\n",
       "        text-align: left;\n",
       "    }\n",
       "</style>\n",
       "<table border=\"1\" class=\"dataframe\">\n",
       "  <thead>\n",
       "    <tr>\n",
       "      <th></th>\n",
       "      <th colspan=\"2\" halign=\"left\">All</th>\n",
       "      <th colspan=\"2\" halign=\"left\">In VOC</th>\n",
       "      <th colspan=\"2\" halign=\"left\">Out of VOC</th>\n",
       "    </tr>\n",
       "    <tr>\n",
       "      <th></th>\n",
       "      <th>f1 micro</th>\n",
       "      <th>f1 macro</th>\n",
       "      <th>f1 micro</th>\n",
       "      <th>f1 macro</th>\n",
       "      <th>f1 micro</th>\n",
       "      <th>f1 macro</th>\n",
       "    </tr>\n",
       "  </thead>\n",
       "  <tbody>\n",
       "    <tr>\n",
       "      <th>0</th>\n",
       "      <td>0.720095</td>\n",
       "      <td>0.250773</td>\n",
       "      <td>0.753688</td>\n",
       "      <td>0.318794</td>\n",
       "      <td>0.097938</td>\n",
       "      <td>0.06705</td>\n",
       "    </tr>\n",
       "  </tbody>\n",
       "</table>\n",
       "</div>"
      ],
      "text/plain": [
       "        All              In VOC           Out of VOC         \n",
       "   f1 micro  f1 macro  f1 micro  f1 macro   f1 micro f1 macro\n",
       "0  0.720095  0.250773  0.753688  0.318794   0.097938  0.06705"
      ]
     },
     "metadata": {},
     "output_type": "display_data"
    },
    {
     "name": "stderr",
     "output_type": "stream",
     "text": [
      "Epoch 29: 100%|██████████| 508/508 [00:11<00:00, 43.37batch/s, loss_decrease=0.999999905853378] \n",
      "100%|██████████| 3787/3787 [00:39<00:00, 95.17batch/s] \n"
     ]
    },
    {
     "data": {
      "text/html": [
       "<div>\n",
       "<style scoped>\n",
       "    .dataframe tbody tr th:only-of-type {\n",
       "        vertical-align: middle;\n",
       "    }\n",
       "\n",
       "    .dataframe tbody tr th {\n",
       "        vertical-align: top;\n",
       "    }\n",
       "\n",
       "    .dataframe thead tr th {\n",
       "        text-align: left;\n",
       "    }\n",
       "</style>\n",
       "<table border=\"1\" class=\"dataframe\">\n",
       "  <thead>\n",
       "    <tr>\n",
       "      <th></th>\n",
       "      <th colspan=\"2\" halign=\"left\">All</th>\n",
       "      <th colspan=\"2\" halign=\"left\">In VOC</th>\n",
       "      <th colspan=\"2\" halign=\"left\">Out of VOC</th>\n",
       "    </tr>\n",
       "    <tr>\n",
       "      <th></th>\n",
       "      <th>f1 micro</th>\n",
       "      <th>f1 macro</th>\n",
       "      <th>f1 micro</th>\n",
       "      <th>f1 macro</th>\n",
       "      <th>f1 micro</th>\n",
       "      <th>f1 macro</th>\n",
       "    </tr>\n",
       "  </thead>\n",
       "  <tbody>\n",
       "    <tr>\n",
       "      <th>0</th>\n",
       "      <td>0.717454</td>\n",
       "      <td>0.248935</td>\n",
       "      <td>0.751461</td>\n",
       "      <td>0.318618</td>\n",
       "      <td>0.087629</td>\n",
       "      <td>0.062179</td>\n",
       "    </tr>\n",
       "  </tbody>\n",
       "</table>\n",
       "</div>"
      ],
      "text/plain": [
       "        All              In VOC           Out of VOC          \n",
       "   f1 micro  f1 macro  f1 micro  f1 macro   f1 micro  f1 macro\n",
       "0  0.717454  0.248935  0.751461  0.318618   0.087629  0.062179"
      ]
     },
     "metadata": {},
     "output_type": "display_data"
    },
    {
     "name": "stderr",
     "output_type": "stream",
     "text": [
      "Epoch 30: 100%|██████████| 508/508 [00:11<00:00, 44.25batch/s, loss_decrease=0.9999995292670669]\n",
      "100%|██████████| 3787/3787 [00:39<00:00, 94.83batch/s] \n"
     ]
    },
    {
     "data": {
      "text/html": [
       "<div>\n",
       "<style scoped>\n",
       "    .dataframe tbody tr th:only-of-type {\n",
       "        vertical-align: middle;\n",
       "    }\n",
       "\n",
       "    .dataframe tbody tr th {\n",
       "        vertical-align: top;\n",
       "    }\n",
       "\n",
       "    .dataframe thead tr th {\n",
       "        text-align: left;\n",
       "    }\n",
       "</style>\n",
       "<table border=\"1\" class=\"dataframe\">\n",
       "  <thead>\n",
       "    <tr>\n",
       "      <th></th>\n",
       "      <th colspan=\"2\" halign=\"left\">All</th>\n",
       "      <th colspan=\"2\" halign=\"left\">In VOC</th>\n",
       "      <th colspan=\"2\" halign=\"left\">Out of VOC</th>\n",
       "    </tr>\n",
       "    <tr>\n",
       "      <th></th>\n",
       "      <th>f1 micro</th>\n",
       "      <th>f1 macro</th>\n",
       "      <th>f1 micro</th>\n",
       "      <th>f1 macro</th>\n",
       "      <th>f1 micro</th>\n",
       "      <th>f1 macro</th>\n",
       "    </tr>\n",
       "  </thead>\n",
       "  <tbody>\n",
       "    <tr>\n",
       "      <th>0</th>\n",
       "      <td>0.718247</td>\n",
       "      <td>0.25025</td>\n",
       "      <td>0.752018</td>\n",
       "      <td>0.319419</td>\n",
       "      <td>0.092784</td>\n",
       "      <td>0.063232</td>\n",
       "    </tr>\n",
       "  </tbody>\n",
       "</table>\n",
       "</div>"
      ],
      "text/plain": [
       "        All             In VOC           Out of VOC          \n",
       "   f1 micro f1 macro  f1 micro  f1 macro   f1 micro  f1 macro\n",
       "0  0.718247  0.25025  0.752018  0.319419   0.092784  0.063232"
      ]
     },
     "metadata": {},
     "output_type": "display_data"
    },
    {
     "name": "stderr",
     "output_type": "stream",
     "text": [
      "Epoch 31: 100%|██████████| 508/508 [00:11<00:00, 44.01batch/s, loss_decrease=0.999999717560187] \n",
      "100%|██████████| 3787/3787 [00:38<00:00, 98.00batch/s] \n"
     ]
    },
    {
     "data": {
      "text/html": [
       "<div>\n",
       "<style scoped>\n",
       "    .dataframe tbody tr th:only-of-type {\n",
       "        vertical-align: middle;\n",
       "    }\n",
       "\n",
       "    .dataframe tbody tr th {\n",
       "        vertical-align: top;\n",
       "    }\n",
       "\n",
       "    .dataframe thead tr th {\n",
       "        text-align: left;\n",
       "    }\n",
       "</style>\n",
       "<table border=\"1\" class=\"dataframe\">\n",
       "  <thead>\n",
       "    <tr>\n",
       "      <th></th>\n",
       "      <th colspan=\"2\" halign=\"left\">All</th>\n",
       "      <th colspan=\"2\" halign=\"left\">In VOC</th>\n",
       "      <th colspan=\"2\" halign=\"left\">Out of VOC</th>\n",
       "    </tr>\n",
       "    <tr>\n",
       "      <th></th>\n",
       "      <th>f1 micro</th>\n",
       "      <th>f1 macro</th>\n",
       "      <th>f1 micro</th>\n",
       "      <th>f1 macro</th>\n",
       "      <th>f1 micro</th>\n",
       "      <th>f1 macro</th>\n",
       "    </tr>\n",
       "  </thead>\n",
       "  <tbody>\n",
       "    <tr>\n",
       "      <th>0</th>\n",
       "      <td>0.718247</td>\n",
       "      <td>0.248618</td>\n",
       "      <td>0.751739</td>\n",
       "      <td>0.318783</td>\n",
       "      <td>0.097938</td>\n",
       "      <td>0.064646</td>\n",
       "    </tr>\n",
       "  </tbody>\n",
       "</table>\n",
       "</div>"
      ],
      "text/plain": [
       "        All              In VOC           Out of VOC          \n",
       "   f1 micro  f1 macro  f1 micro  f1 macro   f1 micro  f1 macro\n",
       "0  0.718247  0.248618  0.751739  0.318783   0.097938  0.064646"
      ]
     },
     "metadata": {},
     "output_type": "display_data"
    },
    {
     "name": "stderr",
     "output_type": "stream",
     "text": [
      "Epoch 32: 100%|██████████| 508/508 [00:11<00:00, 44.06batch/s, loss_decrease=0.999999905853378] \n",
      "100%|██████████| 3787/3787 [00:38<00:00, 97.92batch/s] \n"
     ]
    },
    {
     "data": {
      "text/html": [
       "<div>\n",
       "<style scoped>\n",
       "    .dataframe tbody tr th:only-of-type {\n",
       "        vertical-align: middle;\n",
       "    }\n",
       "\n",
       "    .dataframe tbody tr th {\n",
       "        vertical-align: top;\n",
       "    }\n",
       "\n",
       "    .dataframe thead tr th {\n",
       "        text-align: left;\n",
       "    }\n",
       "</style>\n",
       "<table border=\"1\" class=\"dataframe\">\n",
       "  <thead>\n",
       "    <tr>\n",
       "      <th></th>\n",
       "      <th colspan=\"2\" halign=\"left\">All</th>\n",
       "      <th colspan=\"2\" halign=\"left\">In VOC</th>\n",
       "      <th colspan=\"2\" halign=\"left\">Out of VOC</th>\n",
       "    </tr>\n",
       "    <tr>\n",
       "      <th></th>\n",
       "      <th>f1 micro</th>\n",
       "      <th>f1 macro</th>\n",
       "      <th>f1 micro</th>\n",
       "      <th>f1 macro</th>\n",
       "      <th>f1 micro</th>\n",
       "      <th>f1 macro</th>\n",
       "    </tr>\n",
       "  </thead>\n",
       "  <tbody>\n",
       "    <tr>\n",
       "      <th>0</th>\n",
       "      <td>0.720359</td>\n",
       "      <td>0.251408</td>\n",
       "      <td>0.753131</td>\n",
       "      <td>0.313321</td>\n",
       "      <td>0.113402</td>\n",
       "      <td>0.070785</td>\n",
       "    </tr>\n",
       "  </tbody>\n",
       "</table>\n",
       "</div>"
      ],
      "text/plain": [
       "        All              In VOC           Out of VOC          \n",
       "   f1 micro  f1 macro  f1 micro  f1 macro   f1 micro  f1 macro\n",
       "0  0.720359  0.251408  0.753131  0.313321   0.113402  0.070785"
      ]
     },
     "metadata": {},
     "output_type": "display_data"
    },
    {
     "name": "stderr",
     "output_type": "stream",
     "text": [
      "Epoch 33: 100%|██████████| 508/508 [00:11<00:00, 42.83batch/s, loss_decrease=0.999999905853378] \n",
      "100%|██████████| 3787/3787 [00:39<00:00, 95.59batch/s] \n"
     ]
    },
    {
     "data": {
      "text/html": [
       "<div>\n",
       "<style scoped>\n",
       "    .dataframe tbody tr th:only-of-type {\n",
       "        vertical-align: middle;\n",
       "    }\n",
       "\n",
       "    .dataframe tbody tr th {\n",
       "        vertical-align: top;\n",
       "    }\n",
       "\n",
       "    .dataframe thead tr th {\n",
       "        text-align: left;\n",
       "    }\n",
       "</style>\n",
       "<table border=\"1\" class=\"dataframe\">\n",
       "  <thead>\n",
       "    <tr>\n",
       "      <th></th>\n",
       "      <th colspan=\"2\" halign=\"left\">All</th>\n",
       "      <th colspan=\"2\" halign=\"left\">In VOC</th>\n",
       "      <th colspan=\"2\" halign=\"left\">Out of VOC</th>\n",
       "    </tr>\n",
       "    <tr>\n",
       "      <th></th>\n",
       "      <th>f1 micro</th>\n",
       "      <th>f1 macro</th>\n",
       "      <th>f1 micro</th>\n",
       "      <th>f1 macro</th>\n",
       "      <th>f1 micro</th>\n",
       "      <th>f1 macro</th>\n",
       "    </tr>\n",
       "  </thead>\n",
       "  <tbody>\n",
       "    <tr>\n",
       "      <th>0</th>\n",
       "      <td>0.719831</td>\n",
       "      <td>0.250166</td>\n",
       "      <td>0.753688</td>\n",
       "      <td>0.318074</td>\n",
       "      <td>0.092784</td>\n",
       "      <td>0.063718</td>\n",
       "    </tr>\n",
       "  </tbody>\n",
       "</table>\n",
       "</div>"
      ],
      "text/plain": [
       "        All              In VOC           Out of VOC          \n",
       "   f1 micro  f1 macro  f1 micro  f1 macro   f1 micro  f1 macro\n",
       "0  0.719831  0.250166  0.753688  0.318074   0.092784  0.063718"
      ]
     },
     "metadata": {},
     "output_type": "display_data"
    },
    {
     "name": "stderr",
     "output_type": "stream",
     "text": [
      "Epoch 34: 100%|██████████| 508/508 [00:11<00:00, 42.98batch/s, loss_decrease=0.999999905853378] \n",
      "100%|██████████| 3787/3787 [00:47<00:00, 79.94batch/s]\n"
     ]
    },
    {
     "data": {
      "text/html": [
       "<div>\n",
       "<style scoped>\n",
       "    .dataframe tbody tr th:only-of-type {\n",
       "        vertical-align: middle;\n",
       "    }\n",
       "\n",
       "    .dataframe tbody tr th {\n",
       "        vertical-align: top;\n",
       "    }\n",
       "\n",
       "    .dataframe thead tr th {\n",
       "        text-align: left;\n",
       "    }\n",
       "</style>\n",
       "<table border=\"1\" class=\"dataframe\">\n",
       "  <thead>\n",
       "    <tr>\n",
       "      <th></th>\n",
       "      <th colspan=\"2\" halign=\"left\">All</th>\n",
       "      <th colspan=\"2\" halign=\"left\">In VOC</th>\n",
       "      <th colspan=\"2\" halign=\"left\">Out of VOC</th>\n",
       "    </tr>\n",
       "    <tr>\n",
       "      <th></th>\n",
       "      <th>f1 micro</th>\n",
       "      <th>f1 macro</th>\n",
       "      <th>f1 micro</th>\n",
       "      <th>f1 macro</th>\n",
       "      <th>f1 micro</th>\n",
       "      <th>f1 macro</th>\n",
       "    </tr>\n",
       "  </thead>\n",
       "  <tbody>\n",
       "    <tr>\n",
       "      <th>0</th>\n",
       "      <td>0.721151</td>\n",
       "      <td>0.251888</td>\n",
       "      <td>0.755358</td>\n",
       "      <td>0.323482</td>\n",
       "      <td>0.087629</td>\n",
       "      <td>0.059872</td>\n",
       "    </tr>\n",
       "  </tbody>\n",
       "</table>\n",
       "</div>"
      ],
      "text/plain": [
       "        All              In VOC           Out of VOC          \n",
       "   f1 micro  f1 macro  f1 micro  f1 macro   f1 micro  f1 macro\n",
       "0  0.721151  0.251888  0.755358  0.323482   0.087629  0.059872"
      ]
     },
     "metadata": {},
     "output_type": "display_data"
    },
    {
     "name": "stderr",
     "output_type": "stream",
     "text": [
      "Epoch 35: 100%|██████████| 508/508 [00:11<00:00, 43.62batch/s, loss_decrease=0.999999905853378] \n",
      "100%|██████████| 3787/3787 [00:39<00:00, 95.12batch/s] \n"
     ]
    },
    {
     "data": {
      "text/html": [
       "<div>\n",
       "<style scoped>\n",
       "    .dataframe tbody tr th:only-of-type {\n",
       "        vertical-align: middle;\n",
       "    }\n",
       "\n",
       "    .dataframe tbody tr th {\n",
       "        vertical-align: top;\n",
       "    }\n",
       "\n",
       "    .dataframe thead tr th {\n",
       "        text-align: left;\n",
       "    }\n",
       "</style>\n",
       "<table border=\"1\" class=\"dataframe\">\n",
       "  <thead>\n",
       "    <tr>\n",
       "      <th></th>\n",
       "      <th colspan=\"2\" halign=\"left\">All</th>\n",
       "      <th colspan=\"2\" halign=\"left\">In VOC</th>\n",
       "      <th colspan=\"2\" halign=\"left\">Out of VOC</th>\n",
       "    </tr>\n",
       "    <tr>\n",
       "      <th></th>\n",
       "      <th>f1 micro</th>\n",
       "      <th>f1 macro</th>\n",
       "      <th>f1 micro</th>\n",
       "      <th>f1 macro</th>\n",
       "      <th>f1 micro</th>\n",
       "      <th>f1 macro</th>\n",
       "    </tr>\n",
       "  </thead>\n",
       "  <tbody>\n",
       "    <tr>\n",
       "      <th>0</th>\n",
       "      <td>0.721943</td>\n",
       "      <td>0.250827</td>\n",
       "      <td>0.755914</td>\n",
       "      <td>0.317307</td>\n",
       "      <td>0.092784</td>\n",
       "      <td>0.06539</td>\n",
       "    </tr>\n",
       "  </tbody>\n",
       "</table>\n",
       "</div>"
      ],
      "text/plain": [
       "        All              In VOC           Out of VOC         \n",
       "   f1 micro  f1 macro  f1 micro  f1 macro   f1 micro f1 macro\n",
       "0  0.721943  0.250827  0.755914  0.317307   0.092784  0.06539"
      ]
     },
     "metadata": {},
     "output_type": "display_data"
    },
    {
     "name": "stderr",
     "output_type": "stream",
     "text": [
      "Epoch 36: 100%|██████████| 508/508 [00:11<00:00, 42.74batch/s, loss_decrease=1.0]               \n",
      "100%|██████████| 3787/3787 [00:39<00:00, 94.72batch/s] \n"
     ]
    },
    {
     "data": {
      "text/html": [
       "<div>\n",
       "<style scoped>\n",
       "    .dataframe tbody tr th:only-of-type {\n",
       "        vertical-align: middle;\n",
       "    }\n",
       "\n",
       "    .dataframe tbody tr th {\n",
       "        vertical-align: top;\n",
       "    }\n",
       "\n",
       "    .dataframe thead tr th {\n",
       "        text-align: left;\n",
       "    }\n",
       "</style>\n",
       "<table border=\"1\" class=\"dataframe\">\n",
       "  <thead>\n",
       "    <tr>\n",
       "      <th></th>\n",
       "      <th colspan=\"2\" halign=\"left\">All</th>\n",
       "      <th colspan=\"2\" halign=\"left\">In VOC</th>\n",
       "      <th colspan=\"2\" halign=\"left\">Out of VOC</th>\n",
       "    </tr>\n",
       "    <tr>\n",
       "      <th></th>\n",
       "      <th>f1 micro</th>\n",
       "      <th>f1 macro</th>\n",
       "      <th>f1 micro</th>\n",
       "      <th>f1 macro</th>\n",
       "      <th>f1 micro</th>\n",
       "      <th>f1 macro</th>\n",
       "    </tr>\n",
       "  </thead>\n",
       "  <tbody>\n",
       "    <tr>\n",
       "      <th>0</th>\n",
       "      <td>0.721943</td>\n",
       "      <td>0.255635</td>\n",
       "      <td>0.755358</td>\n",
       "      <td>0.323539</td>\n",
       "      <td>0.103093</td>\n",
       "      <td>0.067445</td>\n",
       "    </tr>\n",
       "  </tbody>\n",
       "</table>\n",
       "</div>"
      ],
      "text/plain": [
       "        All              In VOC           Out of VOC          \n",
       "   f1 micro  f1 macro  f1 micro  f1 macro   f1 micro  f1 macro\n",
       "0  0.721943  0.255635  0.755358  0.323539   0.103093  0.067445"
      ]
     },
     "metadata": {},
     "output_type": "display_data"
    },
    {
     "name": "stderr",
     "output_type": "stream",
     "text": [
      "Epoch 37: 100%|██████████| 508/508 [00:11<00:00, 42.84batch/s, loss_decrease=0.999999905853378] \n",
      "100%|██████████| 3787/3787 [00:39<00:00, 95.71batch/s]\n"
     ]
    },
    {
     "data": {
      "text/html": [
       "<div>\n",
       "<style scoped>\n",
       "    .dataframe tbody tr th:only-of-type {\n",
       "        vertical-align: middle;\n",
       "    }\n",
       "\n",
       "    .dataframe tbody tr th {\n",
       "        vertical-align: top;\n",
       "    }\n",
       "\n",
       "    .dataframe thead tr th {\n",
       "        text-align: left;\n",
       "    }\n",
       "</style>\n",
       "<table border=\"1\" class=\"dataframe\">\n",
       "  <thead>\n",
       "    <tr>\n",
       "      <th></th>\n",
       "      <th colspan=\"2\" halign=\"left\">All</th>\n",
       "      <th colspan=\"2\" halign=\"left\">In VOC</th>\n",
       "      <th colspan=\"2\" halign=\"left\">Out of VOC</th>\n",
       "    </tr>\n",
       "    <tr>\n",
       "      <th></th>\n",
       "      <th>f1 micro</th>\n",
       "      <th>f1 macro</th>\n",
       "      <th>f1 micro</th>\n",
       "      <th>f1 macro</th>\n",
       "      <th>f1 micro</th>\n",
       "      <th>f1 macro</th>\n",
       "    </tr>\n",
       "  </thead>\n",
       "  <tbody>\n",
       "    <tr>\n",
       "      <th>0</th>\n",
       "      <td>0.728017</td>\n",
       "      <td>0.258104</td>\n",
       "      <td>0.762037</td>\n",
       "      <td>0.327455</td>\n",
       "      <td>0.097938</td>\n",
       "      <td>0.064607</td>\n",
       "    </tr>\n",
       "  </tbody>\n",
       "</table>\n",
       "</div>"
      ],
      "text/plain": [
       "        All              In VOC           Out of VOC          \n",
       "   f1 micro  f1 macro  f1 micro  f1 macro   f1 micro  f1 macro\n",
       "0  0.728017  0.258104  0.762037  0.327455   0.097938  0.064607"
      ]
     },
     "metadata": {},
     "output_type": "display_data"
    },
    {
     "name": "stderr",
     "output_type": "stream",
     "text": [
      "Epoch 38: 100%|██████████| 508/508 [00:11<00:00, 44.37batch/s, loss_decrease=1.0]               \n",
      "100%|██████████| 3787/3787 [00:40<00:00, 94.03batch/s]\n"
     ]
    },
    {
     "data": {
      "text/html": [
       "<div>\n",
       "<style scoped>\n",
       "    .dataframe tbody tr th:only-of-type {\n",
       "        vertical-align: middle;\n",
       "    }\n",
       "\n",
       "    .dataframe tbody tr th {\n",
       "        vertical-align: top;\n",
       "    }\n",
       "\n",
       "    .dataframe thead tr th {\n",
       "        text-align: left;\n",
       "    }\n",
       "</style>\n",
       "<table border=\"1\" class=\"dataframe\">\n",
       "  <thead>\n",
       "    <tr>\n",
       "      <th></th>\n",
       "      <th colspan=\"2\" halign=\"left\">All</th>\n",
       "      <th colspan=\"2\" halign=\"left\">In VOC</th>\n",
       "      <th colspan=\"2\" halign=\"left\">Out of VOC</th>\n",
       "    </tr>\n",
       "    <tr>\n",
       "      <th></th>\n",
       "      <th>f1 micro</th>\n",
       "      <th>f1 macro</th>\n",
       "      <th>f1 micro</th>\n",
       "      <th>f1 macro</th>\n",
       "      <th>f1 micro</th>\n",
       "      <th>f1 macro</th>\n",
       "    </tr>\n",
       "  </thead>\n",
       "  <tbody>\n",
       "    <tr>\n",
       "      <th>0</th>\n",
       "      <td>0.726961</td>\n",
       "      <td>0.256176</td>\n",
       "      <td>0.760646</td>\n",
       "      <td>0.323003</td>\n",
       "      <td>0.103093</td>\n",
       "      <td>0.066411</td>\n",
       "    </tr>\n",
       "  </tbody>\n",
       "</table>\n",
       "</div>"
      ],
      "text/plain": [
       "        All              In VOC           Out of VOC          \n",
       "   f1 micro  f1 macro  f1 micro  f1 macro   f1 micro  f1 macro\n",
       "0  0.726961  0.256176  0.760646  0.323003   0.103093  0.066411"
      ]
     },
     "metadata": {},
     "output_type": "display_data"
    },
    {
     "name": "stderr",
     "output_type": "stream",
     "text": [
      "Epoch 39: 100%|██████████| 508/508 [00:11<00:00, 43.64batch/s, loss_decrease=0.999999905853378] \n",
      "100%|██████████| 3787/3787 [00:39<00:00, 96.03batch/s] \n"
     ]
    },
    {
     "data": {
      "text/html": [
       "<div>\n",
       "<style scoped>\n",
       "    .dataframe tbody tr th:only-of-type {\n",
       "        vertical-align: middle;\n",
       "    }\n",
       "\n",
       "    .dataframe tbody tr th {\n",
       "        vertical-align: top;\n",
       "    }\n",
       "\n",
       "    .dataframe thead tr th {\n",
       "        text-align: left;\n",
       "    }\n",
       "</style>\n",
       "<table border=\"1\" class=\"dataframe\">\n",
       "  <thead>\n",
       "    <tr>\n",
       "      <th></th>\n",
       "      <th colspan=\"2\" halign=\"left\">All</th>\n",
       "      <th colspan=\"2\" halign=\"left\">In VOC</th>\n",
       "      <th colspan=\"2\" halign=\"left\">Out of VOC</th>\n",
       "    </tr>\n",
       "    <tr>\n",
       "      <th></th>\n",
       "      <th>f1 micro</th>\n",
       "      <th>f1 macro</th>\n",
       "      <th>f1 micro</th>\n",
       "      <th>f1 macro</th>\n",
       "      <th>f1 micro</th>\n",
       "      <th>f1 macro</th>\n",
       "    </tr>\n",
       "  </thead>\n",
       "  <tbody>\n",
       "    <tr>\n",
       "      <th>0</th>\n",
       "      <td>0.726168</td>\n",
       "      <td>0.257034</td>\n",
       "      <td>0.759811</td>\n",
       "      <td>0.325238</td>\n",
       "      <td>0.103093</td>\n",
       "      <td>0.068327</td>\n",
       "    </tr>\n",
       "  </tbody>\n",
       "</table>\n",
       "</div>"
      ],
      "text/plain": [
       "        All              In VOC           Out of VOC          \n",
       "   f1 micro  f1 macro  f1 micro  f1 macro   f1 micro  f1 macro\n",
       "0  0.726168  0.257034  0.759811  0.325238   0.103093  0.068327"
      ]
     },
     "metadata": {},
     "output_type": "display_data"
    },
    {
     "name": "stderr",
     "output_type": "stream",
     "text": [
      "Epoch 40: 100%|██████████| 508/508 [00:11<00:00, 44.24batch/s, loss_decrease=1.0000001882932974]\n",
      "100%|██████████| 3787/3787 [00:39<00:00, 96.47batch/s] \n"
     ]
    },
    {
     "data": {
      "text/html": [
       "<div>\n",
       "<style scoped>\n",
       "    .dataframe tbody tr th:only-of-type {\n",
       "        vertical-align: middle;\n",
       "    }\n",
       "\n",
       "    .dataframe tbody tr th {\n",
       "        vertical-align: top;\n",
       "    }\n",
       "\n",
       "    .dataframe thead tr th {\n",
       "        text-align: left;\n",
       "    }\n",
       "</style>\n",
       "<table border=\"1\" class=\"dataframe\">\n",
       "  <thead>\n",
       "    <tr>\n",
       "      <th></th>\n",
       "      <th colspan=\"2\" halign=\"left\">All</th>\n",
       "      <th colspan=\"2\" halign=\"left\">In VOC</th>\n",
       "      <th colspan=\"2\" halign=\"left\">Out of VOC</th>\n",
       "    </tr>\n",
       "    <tr>\n",
       "      <th></th>\n",
       "      <th>f1 micro</th>\n",
       "      <th>f1 macro</th>\n",
       "      <th>f1 micro</th>\n",
       "      <th>f1 macro</th>\n",
       "      <th>f1 micro</th>\n",
       "      <th>f1 macro</th>\n",
       "    </tr>\n",
       "  </thead>\n",
       "  <tbody>\n",
       "    <tr>\n",
       "      <th>0</th>\n",
       "      <td>0.725904</td>\n",
       "      <td>0.25833</td>\n",
       "      <td>0.759532</td>\n",
       "      <td>0.325717</td>\n",
       "      <td>0.103093</td>\n",
       "      <td>0.067043</td>\n",
       "    </tr>\n",
       "  </tbody>\n",
       "</table>\n",
       "</div>"
      ],
      "text/plain": [
       "        All             In VOC           Out of VOC          \n",
       "   f1 micro f1 macro  f1 micro  f1 macro   f1 micro  f1 macro\n",
       "0  0.725904  0.25833  0.759532  0.325717   0.103093  0.067043"
      ]
     },
     "metadata": {},
     "output_type": "display_data"
    },
    {
     "name": "stderr",
     "output_type": "stream",
     "text": [
      "Epoch 41: 100%|██████████| 508/508 [00:11<00:00, 44.38batch/s, loss_decrease=1.0000002824399725]\n",
      "100%|██████████| 3787/3787 [00:39<00:00, 95.81batch/s] \n"
     ]
    },
    {
     "data": {
      "text/html": [
       "<div>\n",
       "<style scoped>\n",
       "    .dataframe tbody tr th:only-of-type {\n",
       "        vertical-align: middle;\n",
       "    }\n",
       "\n",
       "    .dataframe tbody tr th {\n",
       "        vertical-align: top;\n",
       "    }\n",
       "\n",
       "    .dataframe thead tr th {\n",
       "        text-align: left;\n",
       "    }\n",
       "</style>\n",
       "<table border=\"1\" class=\"dataframe\">\n",
       "  <thead>\n",
       "    <tr>\n",
       "      <th></th>\n",
       "      <th colspan=\"2\" halign=\"left\">All</th>\n",
       "      <th colspan=\"2\" halign=\"left\">In VOC</th>\n",
       "      <th colspan=\"2\" halign=\"left\">Out of VOC</th>\n",
       "    </tr>\n",
       "    <tr>\n",
       "      <th></th>\n",
       "      <th>f1 micro</th>\n",
       "      <th>f1 macro</th>\n",
       "      <th>f1 micro</th>\n",
       "      <th>f1 macro</th>\n",
       "      <th>f1 micro</th>\n",
       "      <th>f1 macro</th>\n",
       "    </tr>\n",
       "  </thead>\n",
       "  <tbody>\n",
       "    <tr>\n",
       "      <th>0</th>\n",
       "      <td>0.723792</td>\n",
       "      <td>0.261147</td>\n",
       "      <td>0.757863</td>\n",
       "      <td>0.332675</td>\n",
       "      <td>0.092784</td>\n",
       "      <td>0.061133</td>\n",
       "    </tr>\n",
       "  </tbody>\n",
       "</table>\n",
       "</div>"
      ],
      "text/plain": [
       "        All              In VOC           Out of VOC          \n",
       "   f1 micro  f1 macro  f1 micro  f1 macro   f1 micro  f1 macro\n",
       "0  0.723792  0.261147  0.757863  0.332675   0.092784  0.061133"
      ]
     },
     "metadata": {},
     "output_type": "display_data"
    },
    {
     "name": "stderr",
     "output_type": "stream",
     "text": [
      "Epoch 42: 100%|██████████| 508/508 [00:11<00:00, 43.04batch/s, loss_decrease=1.0000002824399725]\n",
      "100%|██████████| 3787/3787 [00:39<00:00, 96.69batch/s] \n"
     ]
    },
    {
     "data": {
      "text/html": [
       "<div>\n",
       "<style scoped>\n",
       "    .dataframe tbody tr th:only-of-type {\n",
       "        vertical-align: middle;\n",
       "    }\n",
       "\n",
       "    .dataframe tbody tr th {\n",
       "        vertical-align: top;\n",
       "    }\n",
       "\n",
       "    .dataframe thead tr th {\n",
       "        text-align: left;\n",
       "    }\n",
       "</style>\n",
       "<table border=\"1\" class=\"dataframe\">\n",
       "  <thead>\n",
       "    <tr>\n",
       "      <th></th>\n",
       "      <th colspan=\"2\" halign=\"left\">All</th>\n",
       "      <th colspan=\"2\" halign=\"left\">In VOC</th>\n",
       "      <th colspan=\"2\" halign=\"left\">Out of VOC</th>\n",
       "    </tr>\n",
       "    <tr>\n",
       "      <th></th>\n",
       "      <th>f1 micro</th>\n",
       "      <th>f1 macro</th>\n",
       "      <th>f1 micro</th>\n",
       "      <th>f1 macro</th>\n",
       "      <th>f1 micro</th>\n",
       "      <th>f1 macro</th>\n",
       "    </tr>\n",
       "  </thead>\n",
       "  <tbody>\n",
       "    <tr>\n",
       "      <th>0</th>\n",
       "      <td>0.727225</td>\n",
       "      <td>0.261725</td>\n",
       "      <td>0.761481</td>\n",
       "      <td>0.33225</td>\n",
       "      <td>0.092784</td>\n",
       "      <td>0.062281</td>\n",
       "    </tr>\n",
       "  </tbody>\n",
       "</table>\n",
       "</div>"
      ],
      "text/plain": [
       "        All              In VOC          Out of VOC          \n",
       "   f1 micro  f1 macro  f1 micro f1 macro   f1 micro  f1 macro\n",
       "0  0.727225  0.261725  0.761481  0.33225   0.092784  0.062281"
      ]
     },
     "metadata": {},
     "output_type": "display_data"
    },
    {
     "name": "stderr",
     "output_type": "stream",
     "text": [
      "Epoch 43: 100%|██████████| 508/508 [00:11<00:00, 44.62batch/s, loss_decrease=1.0000002824399725]\n",
      "100%|██████████| 3787/3787 [00:38<00:00, 97.22batch/s] \n"
     ]
    },
    {
     "data": {
      "text/html": [
       "<div>\n",
       "<style scoped>\n",
       "    .dataframe tbody tr th:only-of-type {\n",
       "        vertical-align: middle;\n",
       "    }\n",
       "\n",
       "    .dataframe tbody tr th {\n",
       "        vertical-align: top;\n",
       "    }\n",
       "\n",
       "    .dataframe thead tr th {\n",
       "        text-align: left;\n",
       "    }\n",
       "</style>\n",
       "<table border=\"1\" class=\"dataframe\">\n",
       "  <thead>\n",
       "    <tr>\n",
       "      <th></th>\n",
       "      <th colspan=\"2\" halign=\"left\">All</th>\n",
       "      <th colspan=\"2\" halign=\"left\">In VOC</th>\n",
       "      <th colspan=\"2\" halign=\"left\">Out of VOC</th>\n",
       "    </tr>\n",
       "    <tr>\n",
       "      <th></th>\n",
       "      <th>f1 micro</th>\n",
       "      <th>f1 macro</th>\n",
       "      <th>f1 micro</th>\n",
       "      <th>f1 macro</th>\n",
       "      <th>f1 micro</th>\n",
       "      <th>f1 macro</th>\n",
       "    </tr>\n",
       "  </thead>\n",
       "  <tbody>\n",
       "    <tr>\n",
       "      <th>0</th>\n",
       "      <td>0.729865</td>\n",
       "      <td>0.258876</td>\n",
       "      <td>0.764542</td>\n",
       "      <td>0.329513</td>\n",
       "      <td>0.087629</td>\n",
       "      <td>0.059189</td>\n",
       "    </tr>\n",
       "  </tbody>\n",
       "</table>\n",
       "</div>"
      ],
      "text/plain": [
       "        All              In VOC           Out of VOC          \n",
       "   f1 micro  f1 macro  f1 micro  f1 macro   f1 micro  f1 macro\n",
       "0  0.729865  0.258876  0.764542  0.329513   0.087629  0.059189"
      ]
     },
     "metadata": {},
     "output_type": "display_data"
    },
    {
     "name": "stderr",
     "output_type": "stream",
     "text": [
      "Epoch 44: 100%|██████████| 508/508 [00:11<00:00, 44.58batch/s, loss_decrease=1.0000002824399725]\n",
      "100%|██████████| 3787/3787 [00:40<00:00, 93.50batch/s]\n"
     ]
    },
    {
     "data": {
      "text/html": [
       "<div>\n",
       "<style scoped>\n",
       "    .dataframe tbody tr th:only-of-type {\n",
       "        vertical-align: middle;\n",
       "    }\n",
       "\n",
       "    .dataframe tbody tr th {\n",
       "        vertical-align: top;\n",
       "    }\n",
       "\n",
       "    .dataframe thead tr th {\n",
       "        text-align: left;\n",
       "    }\n",
       "</style>\n",
       "<table border=\"1\" class=\"dataframe\">\n",
       "  <thead>\n",
       "    <tr>\n",
       "      <th></th>\n",
       "      <th colspan=\"2\" halign=\"left\">All</th>\n",
       "      <th colspan=\"2\" halign=\"left\">In VOC</th>\n",
       "      <th colspan=\"2\" halign=\"left\">Out of VOC</th>\n",
       "    </tr>\n",
       "    <tr>\n",
       "      <th></th>\n",
       "      <th>f1 micro</th>\n",
       "      <th>f1 macro</th>\n",
       "      <th>f1 micro</th>\n",
       "      <th>f1 macro</th>\n",
       "      <th>f1 micro</th>\n",
       "      <th>f1 macro</th>\n",
       "    </tr>\n",
       "  </thead>\n",
       "  <tbody>\n",
       "    <tr>\n",
       "      <th>0</th>\n",
       "      <td>0.730393</td>\n",
       "      <td>0.256728</td>\n",
       "      <td>0.765377</td>\n",
       "      <td>0.327201</td>\n",
       "      <td>0.082474</td>\n",
       "      <td>0.056855</td>\n",
       "    </tr>\n",
       "  </tbody>\n",
       "</table>\n",
       "</div>"
      ],
      "text/plain": [
       "        All              In VOC           Out of VOC          \n",
       "   f1 micro  f1 macro  f1 micro  f1 macro   f1 micro  f1 macro\n",
       "0  0.730393  0.256728  0.765377  0.327201   0.082474  0.056855"
      ]
     },
     "metadata": {},
     "output_type": "display_data"
    },
    {
     "name": "stderr",
     "output_type": "stream",
     "text": [
      "Epoch 45: 100%|██████████| 508/508 [00:11<00:00, 43.05batch/s, loss_decrease=1.0000002824399725]\n",
      "100%|██████████| 3787/3787 [00:39<00:00, 94.84batch/s]\n"
     ]
    },
    {
     "data": {
      "text/html": [
       "<div>\n",
       "<style scoped>\n",
       "    .dataframe tbody tr th:only-of-type {\n",
       "        vertical-align: middle;\n",
       "    }\n",
       "\n",
       "    .dataframe tbody tr th {\n",
       "        vertical-align: top;\n",
       "    }\n",
       "\n",
       "    .dataframe thead tr th {\n",
       "        text-align: left;\n",
       "    }\n",
       "</style>\n",
       "<table border=\"1\" class=\"dataframe\">\n",
       "  <thead>\n",
       "    <tr>\n",
       "      <th></th>\n",
       "      <th colspan=\"2\" halign=\"left\">All</th>\n",
       "      <th colspan=\"2\" halign=\"left\">In VOC</th>\n",
       "      <th colspan=\"2\" halign=\"left\">Out of VOC</th>\n",
       "    </tr>\n",
       "    <tr>\n",
       "      <th></th>\n",
       "      <th>f1 micro</th>\n",
       "      <th>f1 macro</th>\n",
       "      <th>f1 micro</th>\n",
       "      <th>f1 macro</th>\n",
       "      <th>f1 micro</th>\n",
       "      <th>f1 macro</th>\n",
       "    </tr>\n",
       "  </thead>\n",
       "  <tbody>\n",
       "    <tr>\n",
       "      <th>0</th>\n",
       "      <td>0.726433</td>\n",
       "      <td>0.255255</td>\n",
       "      <td>0.761481</td>\n",
       "      <td>0.327508</td>\n",
       "      <td>0.07732</td>\n",
       "      <td>0.05598</td>\n",
       "    </tr>\n",
       "  </tbody>\n",
       "</table>\n",
       "</div>"
      ],
      "text/plain": [
       "        All              In VOC           Out of VOC         \n",
       "   f1 micro  f1 macro  f1 micro  f1 macro   f1 micro f1 macro\n",
       "0  0.726433  0.255255  0.761481  0.327508    0.07732  0.05598"
      ]
     },
     "metadata": {},
     "output_type": "display_data"
    },
    {
     "name": "stderr",
     "output_type": "stream",
     "text": [
      "Epoch 46: 100%|██████████| 508/508 [00:11<00:00, 42.85batch/s, loss_decrease=1.0000002824399725]\n",
      "100%|██████████| 3787/3787 [00:39<00:00, 95.59batch/s]\n"
     ]
    },
    {
     "data": {
      "text/html": [
       "<div>\n",
       "<style scoped>\n",
       "    .dataframe tbody tr th:only-of-type {\n",
       "        vertical-align: middle;\n",
       "    }\n",
       "\n",
       "    .dataframe tbody tr th {\n",
       "        vertical-align: top;\n",
       "    }\n",
       "\n",
       "    .dataframe thead tr th {\n",
       "        text-align: left;\n",
       "    }\n",
       "</style>\n",
       "<table border=\"1\" class=\"dataframe\">\n",
       "  <thead>\n",
       "    <tr>\n",
       "      <th></th>\n",
       "      <th colspan=\"2\" halign=\"left\">All</th>\n",
       "      <th colspan=\"2\" halign=\"left\">In VOC</th>\n",
       "      <th colspan=\"2\" halign=\"left\">Out of VOC</th>\n",
       "    </tr>\n",
       "    <tr>\n",
       "      <th></th>\n",
       "      <th>f1 micro</th>\n",
       "      <th>f1 macro</th>\n",
       "      <th>f1 micro</th>\n",
       "      <th>f1 macro</th>\n",
       "      <th>f1 micro</th>\n",
       "      <th>f1 macro</th>\n",
       "    </tr>\n",
       "  </thead>\n",
       "  <tbody>\n",
       "    <tr>\n",
       "      <th>0</th>\n",
       "      <td>0.732242</td>\n",
       "      <td>0.263384</td>\n",
       "      <td>0.767047</td>\n",
       "      <td>0.335846</td>\n",
       "      <td>0.087629</td>\n",
       "      <td>0.057644</td>\n",
       "    </tr>\n",
       "  </tbody>\n",
       "</table>\n",
       "</div>"
      ],
      "text/plain": [
       "        All              In VOC           Out of VOC          \n",
       "   f1 micro  f1 macro  f1 micro  f1 macro   f1 micro  f1 macro\n",
       "0  0.732242  0.263384  0.767047  0.335846   0.087629  0.057644"
      ]
     },
     "metadata": {},
     "output_type": "display_data"
    },
    {
     "name": "stderr",
     "output_type": "stream",
     "text": [
      "Epoch 47: 100%|██████████| 508/508 [00:11<00:00, 43.67batch/s, loss_decrease=1.0000000941466398]\n",
      "100%|██████████| 3787/3787 [00:40<00:00, 94.66batch/s] \n"
     ]
    },
    {
     "data": {
      "text/html": [
       "<div>\n",
       "<style scoped>\n",
       "    .dataframe tbody tr th:only-of-type {\n",
       "        vertical-align: middle;\n",
       "    }\n",
       "\n",
       "    .dataframe tbody tr th {\n",
       "        vertical-align: top;\n",
       "    }\n",
       "\n",
       "    .dataframe thead tr th {\n",
       "        text-align: left;\n",
       "    }\n",
       "</style>\n",
       "<table border=\"1\" class=\"dataframe\">\n",
       "  <thead>\n",
       "    <tr>\n",
       "      <th></th>\n",
       "      <th colspan=\"2\" halign=\"left\">All</th>\n",
       "      <th colspan=\"2\" halign=\"left\">In VOC</th>\n",
       "      <th colspan=\"2\" halign=\"left\">Out of VOC</th>\n",
       "    </tr>\n",
       "    <tr>\n",
       "      <th></th>\n",
       "      <th>f1 micro</th>\n",
       "      <th>f1 macro</th>\n",
       "      <th>f1 micro</th>\n",
       "      <th>f1 macro</th>\n",
       "      <th>f1 micro</th>\n",
       "      <th>f1 macro</th>\n",
       "    </tr>\n",
       "  </thead>\n",
       "  <tbody>\n",
       "    <tr>\n",
       "      <th>0</th>\n",
       "      <td>0.73277</td>\n",
       "      <td>0.265849</td>\n",
       "      <td>0.767882</td>\n",
       "      <td>0.339988</td>\n",
       "      <td>0.082474</td>\n",
       "      <td>0.057071</td>\n",
       "    </tr>\n",
       "  </tbody>\n",
       "</table>\n",
       "</div>"
      ],
      "text/plain": [
       "       All              In VOC           Out of VOC          \n",
       "  f1 micro  f1 macro  f1 micro  f1 macro   f1 micro  f1 macro\n",
       "0  0.73277  0.265849  0.767882  0.339988   0.082474  0.057071"
      ]
     },
     "metadata": {},
     "output_type": "display_data"
    },
    {
     "name": "stderr",
     "output_type": "stream",
     "text": [
      "Epoch 48: 100%|██████████| 508/508 [00:11<00:00, 42.48batch/s, loss_decrease=1.0000003765866656]\n",
      "100%|██████████| 3787/3787 [00:39<00:00, 96.93batch/s] \n"
     ]
    },
    {
     "data": {
      "text/html": [
       "<div>\n",
       "<style scoped>\n",
       "    .dataframe tbody tr th:only-of-type {\n",
       "        vertical-align: middle;\n",
       "    }\n",
       "\n",
       "    .dataframe tbody tr th {\n",
       "        vertical-align: top;\n",
       "    }\n",
       "\n",
       "    .dataframe thead tr th {\n",
       "        text-align: left;\n",
       "    }\n",
       "</style>\n",
       "<table border=\"1\" class=\"dataframe\">\n",
       "  <thead>\n",
       "    <tr>\n",
       "      <th></th>\n",
       "      <th colspan=\"2\" halign=\"left\">All</th>\n",
       "      <th colspan=\"2\" halign=\"left\">In VOC</th>\n",
       "      <th colspan=\"2\" halign=\"left\">Out of VOC</th>\n",
       "    </tr>\n",
       "    <tr>\n",
       "      <th></th>\n",
       "      <th>f1 micro</th>\n",
       "      <th>f1 macro</th>\n",
       "      <th>f1 micro</th>\n",
       "      <th>f1 macro</th>\n",
       "      <th>f1 micro</th>\n",
       "      <th>f1 macro</th>\n",
       "    </tr>\n",
       "  </thead>\n",
       "  <tbody>\n",
       "    <tr>\n",
       "      <th>0</th>\n",
       "      <td>0.733298</td>\n",
       "      <td>0.268098</td>\n",
       "      <td>0.768439</td>\n",
       "      <td>0.344513</td>\n",
       "      <td>0.082474</td>\n",
       "      <td>0.054293</td>\n",
       "    </tr>\n",
       "  </tbody>\n",
       "</table>\n",
       "</div>"
      ],
      "text/plain": [
       "        All              In VOC           Out of VOC          \n",
       "   f1 micro  f1 macro  f1 micro  f1 macro   f1 micro  f1 macro\n",
       "0  0.733298  0.268098  0.768439  0.344513   0.082474  0.054293"
      ]
     },
     "metadata": {},
     "output_type": "display_data"
    },
    {
     "name": "stderr",
     "output_type": "stream",
     "text": [
      "Epoch 49: 100%|██████████| 508/508 [00:11<00:00, 44.66batch/s, loss_decrease=1.0000003765866656]\n",
      "100%|██████████| 3787/3787 [00:38<00:00, 97.19batch/s] \n"
     ]
    },
    {
     "data": {
      "text/html": [
       "<div>\n",
       "<style scoped>\n",
       "    .dataframe tbody tr th:only-of-type {\n",
       "        vertical-align: middle;\n",
       "    }\n",
       "\n",
       "    .dataframe tbody tr th {\n",
       "        vertical-align: top;\n",
       "    }\n",
       "\n",
       "    .dataframe thead tr th {\n",
       "        text-align: left;\n",
       "    }\n",
       "</style>\n",
       "<table border=\"1\" class=\"dataframe\">\n",
       "  <thead>\n",
       "    <tr>\n",
       "      <th></th>\n",
       "      <th colspan=\"2\" halign=\"left\">All</th>\n",
       "      <th colspan=\"2\" halign=\"left\">In VOC</th>\n",
       "      <th colspan=\"2\" halign=\"left\">Out of VOC</th>\n",
       "    </tr>\n",
       "    <tr>\n",
       "      <th></th>\n",
       "      <th>f1 micro</th>\n",
       "      <th>f1 macro</th>\n",
       "      <th>f1 micro</th>\n",
       "      <th>f1 macro</th>\n",
       "      <th>f1 micro</th>\n",
       "      <th>f1 macro</th>\n",
       "    </tr>\n",
       "  </thead>\n",
       "  <tbody>\n",
       "    <tr>\n",
       "      <th>0</th>\n",
       "      <td>0.733034</td>\n",
       "      <td>0.267256</td>\n",
       "      <td>0.76816</td>\n",
       "      <td>0.345812</td>\n",
       "      <td>0.082474</td>\n",
       "      <td>0.053866</td>\n",
       "    </tr>\n",
       "  </tbody>\n",
       "</table>\n",
       "</div>"
      ],
      "text/plain": [
       "        All             In VOC           Out of VOC          \n",
       "   f1 micro  f1 macro f1 micro  f1 macro   f1 micro  f1 macro\n",
       "0  0.733034  0.267256  0.76816  0.345812   0.082474  0.053866"
      ]
     },
     "metadata": {},
     "output_type": "display_data"
    },
    {
     "name": "stderr",
     "output_type": "stream",
     "text": [
      "Epoch 50: 100%|██████████| 508/508 [00:11<00:00, 44.74batch/s, loss_decrease=1.0000003765866656]\n",
      "100%|██████████| 3787/3787 [00:40<00:00, 94.30batch/s] \n"
     ]
    },
    {
     "data": {
      "text/html": [
       "<div>\n",
       "<style scoped>\n",
       "    .dataframe tbody tr th:only-of-type {\n",
       "        vertical-align: middle;\n",
       "    }\n",
       "\n",
       "    .dataframe tbody tr th {\n",
       "        vertical-align: top;\n",
       "    }\n",
       "\n",
       "    .dataframe thead tr th {\n",
       "        text-align: left;\n",
       "    }\n",
       "</style>\n",
       "<table border=\"1\" class=\"dataframe\">\n",
       "  <thead>\n",
       "    <tr>\n",
       "      <th></th>\n",
       "      <th colspan=\"2\" halign=\"left\">All</th>\n",
       "      <th colspan=\"2\" halign=\"left\">In VOC</th>\n",
       "      <th colspan=\"2\" halign=\"left\">Out of VOC</th>\n",
       "    </tr>\n",
       "    <tr>\n",
       "      <th></th>\n",
       "      <th>f1 micro</th>\n",
       "      <th>f1 macro</th>\n",
       "      <th>f1 micro</th>\n",
       "      <th>f1 macro</th>\n",
       "      <th>f1 micro</th>\n",
       "      <th>f1 macro</th>\n",
       "    </tr>\n",
       "  </thead>\n",
       "  <tbody>\n",
       "    <tr>\n",
       "      <th>0</th>\n",
       "      <td>0.736731</td>\n",
       "      <td>0.270444</td>\n",
       "      <td>0.772613</td>\n",
       "      <td>0.35222</td>\n",
       "      <td>0.072165</td>\n",
       "      <td>0.050562</td>\n",
       "    </tr>\n",
       "  </tbody>\n",
       "</table>\n",
       "</div>"
      ],
      "text/plain": [
       "        All              In VOC          Out of VOC          \n",
       "   f1 micro  f1 macro  f1 micro f1 macro   f1 micro  f1 macro\n",
       "0  0.736731  0.270444  0.772613  0.35222   0.072165  0.050562"
      ]
     },
     "metadata": {},
     "output_type": "display_data"
    },
    {
     "name": "stdout",
     "output_type": "stream",
     "text": [
      "Finished Training\n"
     ]
    }
   ],
   "source": [
    "from tqdm import trange\n",
    "from tqdm import tqdm\n",
    "from sklearn.metrics import classification_report, f1_score\n",
    "from evaluator import Evaluator\n",
    "import numpy as np\n",
    "\n",
    "\n",
    "\n",
    "#Гиперпараметры\n",
    "batch_size=16\n",
    "epochs = 50\n",
    "    \n",
    "trainloader = torch.utils.data.DataLoader(ds_train, batch_size=batch_size,\n",
    "                                          shuffle=False, num_workers=0)\n",
    "testloader = torch.utils.data.DataLoader(ds_test, batch_size=1, shuffle=False)\n",
    "\n",
    "\n",
    "initial_loss = None\n",
    "\n",
    "for epoch in range(1, epochs+1):\n",
    "    #обучение модели в эпохе\n",
    "    net.train()\n",
    "    with tqdm(trainloader, unit=\"batch\") as tepoch:\n",
    "        for data in tepoch:\n",
    "\n",
    "            tepoch.set_description(f\"Epoch {epoch}\")\n",
    "\n",
    "            inputs = data['tokenized_phrases']\n",
    "            labels = data['one_hot_labels']\n",
    "\n",
    "            optimizer.zero_grad()\n",
    "            if USE_CUDA=='cuda':\n",
    "                with torch.cuda.amp.autocast():\n",
    "                    outputs = net(inputs)['output']\n",
    "                    loss = criterion(outputs, labels)\n",
    "                scaler.scale(loss).backward()\n",
    "                scaler.step(optimizer)\n",
    "                scaler.update()\n",
    "            else:\n",
    "                outputs = net(inputs)['output']\n",
    "                loss = criterion(outputs, labels)\n",
    "                loss.backward()\n",
    "                optimizer.step()\n",
    "            if initial_loss is None:\n",
    "                initial_loss = loss.item()\n",
    "            tepoch.set_postfix(loss_decrease = str(initial_loss/loss.item()))\n",
    "    #расчет точностей модели после эпохи\n",
    "    net.eval()\n",
    "    model_answers=[]\n",
    "    real_answers=[]\n",
    "    with tqdm(testloader, unit=\"batch\") as eval_process:\n",
    "        for data in eval_process:\n",
    "\n",
    "            inputs = data['tokenized_phrases']\n",
    "\n",
    "            with torch.no_grad():\n",
    "                outputs_dict = net(inputs)\n",
    "                pred_meddra_code = CV.meddra_codes[outputs_dict['output'].argmax()]\n",
    "\n",
    "\n",
    "            model_answers.append(pred_meddra_code)\n",
    "            real_answers.append(data['label_codes'][0])\n",
    "    evaluator.get_all_f1_scores(real_answers, model_answers)\n",
    "print('Finished Training')\n",
    "torch.save(net,'./Model_weights/rubert_additional_corp_freeze_layers_%s_exp_17.pt'%epoch)"
   ]
  },
  {
   "cell_type": "markdown",
   "id": "accessory-techno",
   "metadata": {},
   "source": [
    "<h4>не помню</h4>"
   ]
  },
  {
   "cell_type": "code",
   "execution_count": 16,
   "id": "furnished-glance",
   "metadata": {},
   "outputs": [
    {
     "name": "stderr",
     "output_type": "stream",
     "text": [
      "Epoch 1: 100%|██████████| 1683/1683 [05:52<00:00,  4.78batch/s, loss_decrease=1.000001223904128] \n",
      "100%|██████████| 3787/3787 [00:40<00:00, 92.89batch/s]\n"
     ]
    },
    {
     "data": {
      "text/html": [
       "<div>\n",
       "<style scoped>\n",
       "    .dataframe tbody tr th:only-of-type {\n",
       "        vertical-align: middle;\n",
       "    }\n",
       "\n",
       "    .dataframe tbody tr th {\n",
       "        vertical-align: top;\n",
       "    }\n",
       "\n",
       "    .dataframe thead tr th {\n",
       "        text-align: left;\n",
       "    }\n",
       "</style>\n",
       "<table border=\"1\" class=\"dataframe\">\n",
       "  <thead>\n",
       "    <tr>\n",
       "      <th></th>\n",
       "      <th colspan=\"2\" halign=\"left\">All</th>\n",
       "      <th colspan=\"2\" halign=\"left\">In VOC</th>\n",
       "      <th colspan=\"2\" halign=\"left\">Out of VOC</th>\n",
       "    </tr>\n",
       "    <tr>\n",
       "      <th></th>\n",
       "      <th>f1 micro</th>\n",
       "      <th>f1 macro</th>\n",
       "      <th>f1 micro</th>\n",
       "      <th>f1 macro</th>\n",
       "      <th>f1 micro</th>\n",
       "      <th>f1 macro</th>\n",
       "    </tr>\n",
       "  </thead>\n",
       "  <tbody>\n",
       "    <tr>\n",
       "      <th>0</th>\n",
       "      <td>0.348561</td>\n",
       "      <td>0.059877</td>\n",
       "      <td>0.363206</td>\n",
       "      <td>0.063241</td>\n",
       "      <td>0.07732</td>\n",
       "      <td>0.042541</td>\n",
       "    </tr>\n",
       "  </tbody>\n",
       "</table>\n",
       "</div>"
      ],
      "text/plain": [
       "        All              In VOC           Out of VOC          \n",
       "   f1 micro  f1 macro  f1 micro  f1 macro   f1 micro  f1 macro\n",
       "0  0.348561  0.059877  0.363206  0.063241    0.07732  0.042541"
      ]
     },
     "metadata": {},
     "output_type": "display_data"
    },
    {
     "name": "stderr",
     "output_type": "stream",
     "text": [
      "Epoch 2: 100%|██████████| 1683/1683 [05:57<00:00,  4.71batch/s, loss_decrease=1.0000016946372827]\n",
      "100%|██████████| 3787/3787 [00:39<00:00, 95.15batch/s] \n"
     ]
    },
    {
     "data": {
      "text/html": [
       "<div>\n",
       "<style scoped>\n",
       "    .dataframe tbody tr th:only-of-type {\n",
       "        vertical-align: middle;\n",
       "    }\n",
       "\n",
       "    .dataframe tbody tr th {\n",
       "        vertical-align: top;\n",
       "    }\n",
       "\n",
       "    .dataframe thead tr th {\n",
       "        text-align: left;\n",
       "    }\n",
       "</style>\n",
       "<table border=\"1\" class=\"dataframe\">\n",
       "  <thead>\n",
       "    <tr>\n",
       "      <th></th>\n",
       "      <th colspan=\"2\" halign=\"left\">All</th>\n",
       "      <th colspan=\"2\" halign=\"left\">In VOC</th>\n",
       "      <th colspan=\"2\" halign=\"left\">Out of VOC</th>\n",
       "    </tr>\n",
       "    <tr>\n",
       "      <th></th>\n",
       "      <th>f1 micro</th>\n",
       "      <th>f1 macro</th>\n",
       "      <th>f1 micro</th>\n",
       "      <th>f1 macro</th>\n",
       "      <th>f1 micro</th>\n",
       "      <th>f1 macro</th>\n",
       "    </tr>\n",
       "  </thead>\n",
       "  <tbody>\n",
       "    <tr>\n",
       "      <th>0</th>\n",
       "      <td>0.517824</td>\n",
       "      <td>0.096982</td>\n",
       "      <td>0.540495</td>\n",
       "      <td>0.105915</td>\n",
       "      <td>0.097938</td>\n",
       "      <td>0.05716</td>\n",
       "    </tr>\n",
       "  </tbody>\n",
       "</table>\n",
       "</div>"
      ],
      "text/plain": [
       "        All              In VOC           Out of VOC         \n",
       "   f1 micro  f1 macro  f1 micro  f1 macro   f1 micro f1 macro\n",
       "0  0.517824  0.096982  0.540495  0.105915   0.097938  0.05716"
      ]
     },
     "metadata": {},
     "output_type": "display_data"
    },
    {
     "name": "stderr",
     "output_type": "stream",
     "text": [
      "Epoch 3: 100%|██████████| 1683/1683 [05:53<00:00,  4.77batch/s, loss_decrease=1.0000020712241255]\n",
      "100%|██████████| 3787/3787 [00:45<00:00, 83.57batch/s]\n"
     ]
    },
    {
     "data": {
      "text/html": [
       "<div>\n",
       "<style scoped>\n",
       "    .dataframe tbody tr th:only-of-type {\n",
       "        vertical-align: middle;\n",
       "    }\n",
       "\n",
       "    .dataframe tbody tr th {\n",
       "        vertical-align: top;\n",
       "    }\n",
       "\n",
       "    .dataframe thead tr th {\n",
       "        text-align: left;\n",
       "    }\n",
       "</style>\n",
       "<table border=\"1\" class=\"dataframe\">\n",
       "  <thead>\n",
       "    <tr>\n",
       "      <th></th>\n",
       "      <th colspan=\"2\" halign=\"left\">All</th>\n",
       "      <th colspan=\"2\" halign=\"left\">In VOC</th>\n",
       "      <th colspan=\"2\" halign=\"left\">Out of VOC</th>\n",
       "    </tr>\n",
       "    <tr>\n",
       "      <th></th>\n",
       "      <th>f1 micro</th>\n",
       "      <th>f1 macro</th>\n",
       "      <th>f1 micro</th>\n",
       "      <th>f1 macro</th>\n",
       "      <th>f1 micro</th>\n",
       "      <th>f1 macro</th>\n",
       "    </tr>\n",
       "  </thead>\n",
       "  <tbody>\n",
       "    <tr>\n",
       "      <th>0</th>\n",
       "      <td>0.576446</td>\n",
       "      <td>0.114764</td>\n",
       "      <td>0.602282</td>\n",
       "      <td>0.130294</td>\n",
       "      <td>0.097938</td>\n",
       "      <td>0.054577</td>\n",
       "    </tr>\n",
       "  </tbody>\n",
       "</table>\n",
       "</div>"
      ],
      "text/plain": [
       "        All              In VOC           Out of VOC          \n",
       "   f1 micro  f1 macro  f1 micro  f1 macro   f1 micro  f1 macro\n",
       "0  0.576446  0.114764  0.602282  0.130294   0.097938  0.054577"
      ]
     },
     "metadata": {},
     "output_type": "display_data"
    },
    {
     "name": "stderr",
     "output_type": "stream",
     "text": [
      "Epoch 4: 100%|██████████| 1683/1683 [05:55<00:00,  4.73batch/s, loss_decrease=1.0000020712241255]\n",
      "100%|██████████| 3787/3787 [00:41<00:00, 91.18batch/s] \n"
     ]
    },
    {
     "data": {
      "text/html": [
       "<div>\n",
       "<style scoped>\n",
       "    .dataframe tbody tr th:only-of-type {\n",
       "        vertical-align: middle;\n",
       "    }\n",
       "\n",
       "    .dataframe tbody tr th {\n",
       "        vertical-align: top;\n",
       "    }\n",
       "\n",
       "    .dataframe thead tr th {\n",
       "        text-align: left;\n",
       "    }\n",
       "</style>\n",
       "<table border=\"1\" class=\"dataframe\">\n",
       "  <thead>\n",
       "    <tr>\n",
       "      <th></th>\n",
       "      <th colspan=\"2\" halign=\"left\">All</th>\n",
       "      <th colspan=\"2\" halign=\"left\">In VOC</th>\n",
       "      <th colspan=\"2\" halign=\"left\">Out of VOC</th>\n",
       "    </tr>\n",
       "    <tr>\n",
       "      <th></th>\n",
       "      <th>f1 micro</th>\n",
       "      <th>f1 macro</th>\n",
       "      <th>f1 micro</th>\n",
       "      <th>f1 macro</th>\n",
       "      <th>f1 micro</th>\n",
       "      <th>f1 macro</th>\n",
       "    </tr>\n",
       "  </thead>\n",
       "  <tbody>\n",
       "    <tr>\n",
       "      <th>0</th>\n",
       "      <td>0.612622</td>\n",
       "      <td>0.124299</td>\n",
       "      <td>0.640412</td>\n",
       "      <td>0.143039</td>\n",
       "      <td>0.097938</td>\n",
       "      <td>0.050183</td>\n",
       "    </tr>\n",
       "  </tbody>\n",
       "</table>\n",
       "</div>"
      ],
      "text/plain": [
       "        All              In VOC           Out of VOC          \n",
       "   f1 micro  f1 macro  f1 micro  f1 macro   f1 micro  f1 macro\n",
       "0  0.612622  0.124299  0.640412  0.143039   0.097938  0.050183"
      ]
     },
     "metadata": {},
     "output_type": "display_data"
    },
    {
     "name": "stderr",
     "output_type": "stream",
     "text": [
      "Epoch 5: 100%|██████████| 1683/1683 [05:54<00:00,  4.75batch/s, loss_decrease=1.0000023536644438]\n",
      "100%|██████████| 3787/3787 [00:45<00:00, 83.39batch/s]\n"
     ]
    },
    {
     "data": {
      "text/html": [
       "<div>\n",
       "<style scoped>\n",
       "    .dataframe tbody tr th:only-of-type {\n",
       "        vertical-align: middle;\n",
       "    }\n",
       "\n",
       "    .dataframe tbody tr th {\n",
       "        vertical-align: top;\n",
       "    }\n",
       "\n",
       "    .dataframe thead tr th {\n",
       "        text-align: left;\n",
       "    }\n",
       "</style>\n",
       "<table border=\"1\" class=\"dataframe\">\n",
       "  <thead>\n",
       "    <tr>\n",
       "      <th></th>\n",
       "      <th colspan=\"2\" halign=\"left\">All</th>\n",
       "      <th colspan=\"2\" halign=\"left\">In VOC</th>\n",
       "      <th colspan=\"2\" halign=\"left\">Out of VOC</th>\n",
       "    </tr>\n",
       "    <tr>\n",
       "      <th></th>\n",
       "      <th>f1 micro</th>\n",
       "      <th>f1 macro</th>\n",
       "      <th>f1 micro</th>\n",
       "      <th>f1 macro</th>\n",
       "      <th>f1 micro</th>\n",
       "      <th>f1 macro</th>\n",
       "    </tr>\n",
       "  </thead>\n",
       "  <tbody>\n",
       "    <tr>\n",
       "      <th>0</th>\n",
       "      <td>0.635331</td>\n",
       "      <td>0.135485</td>\n",
       "      <td>0.663512</td>\n",
       "      <td>0.154195</td>\n",
       "      <td>0.113402</td>\n",
       "      <td>0.063251</td>\n",
       "    </tr>\n",
       "  </tbody>\n",
       "</table>\n",
       "</div>"
      ],
      "text/plain": [
       "        All              In VOC           Out of VOC          \n",
       "   f1 micro  f1 macro  f1 micro  f1 macro   f1 micro  f1 macro\n",
       "0  0.635331  0.135485  0.663512  0.154195   0.113402  0.063251"
      ]
     },
     "metadata": {},
     "output_type": "display_data"
    },
    {
     "name": "stderr",
     "output_type": "stream",
     "text": [
      "Epoch 6: 100%|██████████| 1683/1683 [05:49<00:00,  4.81batch/s, loss_decrease=1.0000025419580778]\n",
      "100%|██████████| 3787/3787 [00:43<00:00, 86.11batch/s] \n"
     ]
    },
    {
     "data": {
      "text/html": [
       "<div>\n",
       "<style scoped>\n",
       "    .dataframe tbody tr th:only-of-type {\n",
       "        vertical-align: middle;\n",
       "    }\n",
       "\n",
       "    .dataframe tbody tr th {\n",
       "        vertical-align: top;\n",
       "    }\n",
       "\n",
       "    .dataframe thead tr th {\n",
       "        text-align: left;\n",
       "    }\n",
       "</style>\n",
       "<table border=\"1\" class=\"dataframe\">\n",
       "  <thead>\n",
       "    <tr>\n",
       "      <th></th>\n",
       "      <th colspan=\"2\" halign=\"left\">All</th>\n",
       "      <th colspan=\"2\" halign=\"left\">In VOC</th>\n",
       "      <th colspan=\"2\" halign=\"left\">Out of VOC</th>\n",
       "    </tr>\n",
       "    <tr>\n",
       "      <th></th>\n",
       "      <th>f1 micro</th>\n",
       "      <th>f1 macro</th>\n",
       "      <th>f1 micro</th>\n",
       "      <th>f1 macro</th>\n",
       "      <th>f1 micro</th>\n",
       "      <th>f1 macro</th>\n",
       "    </tr>\n",
       "  </thead>\n",
       "  <tbody>\n",
       "    <tr>\n",
       "      <th>0</th>\n",
       "      <td>0.653024</td>\n",
       "      <td>0.146445</td>\n",
       "      <td>0.68216</td>\n",
       "      <td>0.170017</td>\n",
       "      <td>0.113402</td>\n",
       "      <td>0.063015</td>\n",
       "    </tr>\n",
       "  </tbody>\n",
       "</table>\n",
       "</div>"
      ],
      "text/plain": [
       "        All             In VOC           Out of VOC          \n",
       "   f1 micro  f1 macro f1 micro  f1 macro   f1 micro  f1 macro\n",
       "0  0.653024  0.146445  0.68216  0.170017   0.113402  0.063015"
      ]
     },
     "metadata": {},
     "output_type": "display_data"
    },
    {
     "name": "stderr",
     "output_type": "stream",
     "text": [
      "Epoch 7: 100%|██████████| 1683/1683 [05:52<00:00,  4.77batch/s, loss_decrease=1.0000026361049215]\n",
      "100%|██████████| 3787/3787 [00:41<00:00, 91.06batch/s] \n"
     ]
    },
    {
     "data": {
      "text/html": [
       "<div>\n",
       "<style scoped>\n",
       "    .dataframe tbody tr th:only-of-type {\n",
       "        vertical-align: middle;\n",
       "    }\n",
       "\n",
       "    .dataframe tbody tr th {\n",
       "        vertical-align: top;\n",
       "    }\n",
       "\n",
       "    .dataframe thead tr th {\n",
       "        text-align: left;\n",
       "    }\n",
       "</style>\n",
       "<table border=\"1\" class=\"dataframe\">\n",
       "  <thead>\n",
       "    <tr>\n",
       "      <th></th>\n",
       "      <th colspan=\"2\" halign=\"left\">All</th>\n",
       "      <th colspan=\"2\" halign=\"left\">In VOC</th>\n",
       "      <th colspan=\"2\" halign=\"left\">Out of VOC</th>\n",
       "    </tr>\n",
       "    <tr>\n",
       "      <th></th>\n",
       "      <th>f1 micro</th>\n",
       "      <th>f1 macro</th>\n",
       "      <th>f1 micro</th>\n",
       "      <th>f1 macro</th>\n",
       "      <th>f1 micro</th>\n",
       "      <th>f1 macro</th>\n",
       "    </tr>\n",
       "  </thead>\n",
       "  <tbody>\n",
       "    <tr>\n",
       "      <th>0</th>\n",
       "      <td>0.665434</td>\n",
       "      <td>0.157576</td>\n",
       "      <td>0.694127</td>\n",
       "      <td>0.18084</td>\n",
       "      <td>0.134021</td>\n",
       "      <td>0.072485</td>\n",
       "    </tr>\n",
       "  </tbody>\n",
       "</table>\n",
       "</div>"
      ],
      "text/plain": [
       "        All              In VOC          Out of VOC          \n",
       "   f1 micro  f1 macro  f1 micro f1 macro   f1 micro  f1 macro\n",
       "0  0.665434  0.157576  0.694127  0.18084   0.134021  0.072485"
      ]
     },
     "metadata": {},
     "output_type": "display_data"
    },
    {
     "name": "stderr",
     "output_type": "stream",
     "text": [
      "Epoch 8: 100%|██████████| 1683/1683 [05:53<00:00,  4.76batch/s, loss_decrease=1.0000027302517829]\n",
      "100%|██████████| 3787/3787 [00:41<00:00, 91.69batch/s] \n"
     ]
    },
    {
     "data": {
      "text/html": [
       "<div>\n",
       "<style scoped>\n",
       "    .dataframe tbody tr th:only-of-type {\n",
       "        vertical-align: middle;\n",
       "    }\n",
       "\n",
       "    .dataframe tbody tr th {\n",
       "        vertical-align: top;\n",
       "    }\n",
       "\n",
       "    .dataframe thead tr th {\n",
       "        text-align: left;\n",
       "    }\n",
       "</style>\n",
       "<table border=\"1\" class=\"dataframe\">\n",
       "  <thead>\n",
       "    <tr>\n",
       "      <th></th>\n",
       "      <th colspan=\"2\" halign=\"left\">All</th>\n",
       "      <th colspan=\"2\" halign=\"left\">In VOC</th>\n",
       "      <th colspan=\"2\" halign=\"left\">Out of VOC</th>\n",
       "    </tr>\n",
       "    <tr>\n",
       "      <th></th>\n",
       "      <th>f1 micro</th>\n",
       "      <th>f1 macro</th>\n",
       "      <th>f1 micro</th>\n",
       "      <th>f1 macro</th>\n",
       "      <th>f1 micro</th>\n",
       "      <th>f1 macro</th>\n",
       "    </tr>\n",
       "  </thead>\n",
       "  <tbody>\n",
       "    <tr>\n",
       "      <th>0</th>\n",
       "      <td>0.667547</td>\n",
       "      <td>0.158452</td>\n",
       "      <td>0.696911</td>\n",
       "      <td>0.185014</td>\n",
       "      <td>0.123711</td>\n",
       "      <td>0.06743</td>\n",
       "    </tr>\n",
       "  </tbody>\n",
       "</table>\n",
       "</div>"
      ],
      "text/plain": [
       "        All              In VOC           Out of VOC         \n",
       "   f1 micro  f1 macro  f1 micro  f1 macro   f1 micro f1 macro\n",
       "0  0.667547  0.158452  0.696911  0.185014   0.123711  0.06743"
      ]
     },
     "metadata": {},
     "output_type": "display_data"
    },
    {
     "name": "stderr",
     "output_type": "stream",
     "text": [
      "Epoch 9: 100%|██████████| 1683/1683 [05:52<00:00,  4.78batch/s, loss_decrease=1.000002824398662] \n",
      "100%|██████████| 3787/3787 [00:39<00:00, 94.70batch/s] \n"
     ]
    },
    {
     "data": {
      "text/html": [
       "<div>\n",
       "<style scoped>\n",
       "    .dataframe tbody tr th:only-of-type {\n",
       "        vertical-align: middle;\n",
       "    }\n",
       "\n",
       "    .dataframe tbody tr th {\n",
       "        vertical-align: top;\n",
       "    }\n",
       "\n",
       "    .dataframe thead tr th {\n",
       "        text-align: left;\n",
       "    }\n",
       "</style>\n",
       "<table border=\"1\" class=\"dataframe\">\n",
       "  <thead>\n",
       "    <tr>\n",
       "      <th></th>\n",
       "      <th colspan=\"2\" halign=\"left\">All</th>\n",
       "      <th colspan=\"2\" halign=\"left\">In VOC</th>\n",
       "      <th colspan=\"2\" halign=\"left\">Out of VOC</th>\n",
       "    </tr>\n",
       "    <tr>\n",
       "      <th></th>\n",
       "      <th>f1 micro</th>\n",
       "      <th>f1 macro</th>\n",
       "      <th>f1 micro</th>\n",
       "      <th>f1 macro</th>\n",
       "      <th>f1 micro</th>\n",
       "      <th>f1 macro</th>\n",
       "    </tr>\n",
       "  </thead>\n",
       "  <tbody>\n",
       "    <tr>\n",
       "      <th>0</th>\n",
       "      <td>0.684183</td>\n",
       "      <td>0.175413</td>\n",
       "      <td>0.713888</td>\n",
       "      <td>0.204398</td>\n",
       "      <td>0.134021</td>\n",
       "      <td>0.075125</td>\n",
       "    </tr>\n",
       "  </tbody>\n",
       "</table>\n",
       "</div>"
      ],
      "text/plain": [
       "        All              In VOC           Out of VOC          \n",
       "   f1 micro  f1 macro  f1 micro  f1 macro   f1 micro  f1 macro\n",
       "0  0.684183  0.175413  0.713888  0.204398   0.134021  0.075125"
      ]
     },
     "metadata": {},
     "output_type": "display_data"
    },
    {
     "name": "stderr",
     "output_type": "stream",
     "text": [
      "Epoch 10: 100%|██████████| 1683/1683 [05:52<00:00,  4.78batch/s, loss_decrease=1.000002824398662] \n",
      "100%|██████████| 3787/3787 [00:39<00:00, 96.04batch/s] \n"
     ]
    },
    {
     "data": {
      "text/html": [
       "<div>\n",
       "<style scoped>\n",
       "    .dataframe tbody tr th:only-of-type {\n",
       "        vertical-align: middle;\n",
       "    }\n",
       "\n",
       "    .dataframe tbody tr th {\n",
       "        vertical-align: top;\n",
       "    }\n",
       "\n",
       "    .dataframe thead tr th {\n",
       "        text-align: left;\n",
       "    }\n",
       "</style>\n",
       "<table border=\"1\" class=\"dataframe\">\n",
       "  <thead>\n",
       "    <tr>\n",
       "      <th></th>\n",
       "      <th colspan=\"2\" halign=\"left\">All</th>\n",
       "      <th colspan=\"2\" halign=\"left\">In VOC</th>\n",
       "      <th colspan=\"2\" halign=\"left\">Out of VOC</th>\n",
       "    </tr>\n",
       "    <tr>\n",
       "      <th></th>\n",
       "      <th>f1 micro</th>\n",
       "      <th>f1 macro</th>\n",
       "      <th>f1 micro</th>\n",
       "      <th>f1 macro</th>\n",
       "      <th>f1 micro</th>\n",
       "      <th>f1 macro</th>\n",
       "    </tr>\n",
       "  </thead>\n",
       "  <tbody>\n",
       "    <tr>\n",
       "      <th>0</th>\n",
       "      <td>0.693161</td>\n",
       "      <td>0.173757</td>\n",
       "      <td>0.723908</td>\n",
       "      <td>0.202431</td>\n",
       "      <td>0.123711</td>\n",
       "      <td>0.073877</td>\n",
       "    </tr>\n",
       "  </tbody>\n",
       "</table>\n",
       "</div>"
      ],
      "text/plain": [
       "        All              In VOC           Out of VOC          \n",
       "   f1 micro  f1 macro  f1 micro  f1 macro   f1 micro  f1 macro\n",
       "0  0.693161  0.173757  0.723908  0.202431   0.123711  0.073877"
      ]
     },
     "metadata": {},
     "output_type": "display_data"
    },
    {
     "name": "stderr",
     "output_type": "stream",
     "text": [
      "Epoch 11: 100%|██████████| 1683/1683 [05:47<00:00,  4.84batch/s, loss_decrease=1.0000030126924735]\n",
      "100%|██████████| 3787/3787 [00:43<00:00, 86.59batch/s] \n"
     ]
    },
    {
     "data": {
      "text/html": [
       "<div>\n",
       "<style scoped>\n",
       "    .dataframe tbody tr th:only-of-type {\n",
       "        vertical-align: middle;\n",
       "    }\n",
       "\n",
       "    .dataframe tbody tr th {\n",
       "        vertical-align: top;\n",
       "    }\n",
       "\n",
       "    .dataframe thead tr th {\n",
       "        text-align: left;\n",
       "    }\n",
       "</style>\n",
       "<table border=\"1\" class=\"dataframe\">\n",
       "  <thead>\n",
       "    <tr>\n",
       "      <th></th>\n",
       "      <th colspan=\"2\" halign=\"left\">All</th>\n",
       "      <th colspan=\"2\" halign=\"left\">In VOC</th>\n",
       "      <th colspan=\"2\" halign=\"left\">Out of VOC</th>\n",
       "    </tr>\n",
       "    <tr>\n",
       "      <th></th>\n",
       "      <th>f1 micro</th>\n",
       "      <th>f1 macro</th>\n",
       "      <th>f1 micro</th>\n",
       "      <th>f1 macro</th>\n",
       "      <th>f1 micro</th>\n",
       "      <th>f1 macro</th>\n",
       "    </tr>\n",
       "  </thead>\n",
       "  <tbody>\n",
       "    <tr>\n",
       "      <th>0</th>\n",
       "      <td>0.693161</td>\n",
       "      <td>0.181623</td>\n",
       "      <td>0.723073</td>\n",
       "      <td>0.210467</td>\n",
       "      <td>0.139175</td>\n",
       "      <td>0.083274</td>\n",
       "    </tr>\n",
       "  </tbody>\n",
       "</table>\n",
       "</div>"
      ],
      "text/plain": [
       "        All              In VOC           Out of VOC          \n",
       "   f1 micro  f1 macro  f1 micro  f1 macro   f1 micro  f1 macro\n",
       "0  0.693161  0.181623  0.723073  0.210467   0.139175  0.083274"
      ]
     },
     "metadata": {},
     "output_type": "display_data"
    },
    {
     "name": "stderr",
     "output_type": "stream",
     "text": [
      "Epoch 12: 100%|██████████| 1683/1683 [05:50<00:00,  4.81batch/s, loss_decrease=1.0000030126924735]\n",
      "100%|██████████| 3787/3787 [00:41<00:00, 90.26batch/s]\n"
     ]
    },
    {
     "data": {
      "text/html": [
       "<div>\n",
       "<style scoped>\n",
       "    .dataframe tbody tr th:only-of-type {\n",
       "        vertical-align: middle;\n",
       "    }\n",
       "\n",
       "    .dataframe tbody tr th {\n",
       "        vertical-align: top;\n",
       "    }\n",
       "\n",
       "    .dataframe thead tr th {\n",
       "        text-align: left;\n",
       "    }\n",
       "</style>\n",
       "<table border=\"1\" class=\"dataframe\">\n",
       "  <thead>\n",
       "    <tr>\n",
       "      <th></th>\n",
       "      <th colspan=\"2\" halign=\"left\">All</th>\n",
       "      <th colspan=\"2\" halign=\"left\">In VOC</th>\n",
       "      <th colspan=\"2\" halign=\"left\">Out of VOC</th>\n",
       "    </tr>\n",
       "    <tr>\n",
       "      <th></th>\n",
       "      <th>f1 micro</th>\n",
       "      <th>f1 macro</th>\n",
       "      <th>f1 micro</th>\n",
       "      <th>f1 macro</th>\n",
       "      <th>f1 micro</th>\n",
       "      <th>f1 macro</th>\n",
       "    </tr>\n",
       "  </thead>\n",
       "  <tbody>\n",
       "    <tr>\n",
       "      <th>0</th>\n",
       "      <td>0.701611</td>\n",
       "      <td>0.189903</td>\n",
       "      <td>0.731422</td>\n",
       "      <td>0.214162</td>\n",
       "      <td>0.149485</td>\n",
       "      <td>0.096177</td>\n",
       "    </tr>\n",
       "  </tbody>\n",
       "</table>\n",
       "</div>"
      ],
      "text/plain": [
       "        All              In VOC           Out of VOC          \n",
       "   f1 micro  f1 macro  f1 micro  f1 macro   f1 micro  f1 macro\n",
       "0  0.701611  0.189903  0.731422  0.214162   0.149485  0.096177"
      ]
     },
     "metadata": {},
     "output_type": "display_data"
    },
    {
     "name": "stderr",
     "output_type": "stream",
     "text": [
      "Epoch 13: 100%|██████████| 1683/1683 [05:50<00:00,  4.80batch/s, loss_decrease=1.0000030126924735]\n",
      "100%|██████████| 3787/3787 [00:41<00:00, 90.49batch/s] \n"
     ]
    },
    {
     "data": {
      "text/html": [
       "<div>\n",
       "<style scoped>\n",
       "    .dataframe tbody tr th:only-of-type {\n",
       "        vertical-align: middle;\n",
       "    }\n",
       "\n",
       "    .dataframe tbody tr th {\n",
       "        vertical-align: top;\n",
       "    }\n",
       "\n",
       "    .dataframe thead tr th {\n",
       "        text-align: left;\n",
       "    }\n",
       "</style>\n",
       "<table border=\"1\" class=\"dataframe\">\n",
       "  <thead>\n",
       "    <tr>\n",
       "      <th></th>\n",
       "      <th colspan=\"2\" halign=\"left\">All</th>\n",
       "      <th colspan=\"2\" halign=\"left\">In VOC</th>\n",
       "      <th colspan=\"2\" halign=\"left\">Out of VOC</th>\n",
       "    </tr>\n",
       "    <tr>\n",
       "      <th></th>\n",
       "      <th>f1 micro</th>\n",
       "      <th>f1 macro</th>\n",
       "      <th>f1 micro</th>\n",
       "      <th>f1 macro</th>\n",
       "      <th>f1 micro</th>\n",
       "      <th>f1 macro</th>\n",
       "    </tr>\n",
       "  </thead>\n",
       "  <tbody>\n",
       "    <tr>\n",
       "      <th>0</th>\n",
       "      <td>0.699762</td>\n",
       "      <td>0.189974</td>\n",
       "      <td>0.730031</td>\n",
       "      <td>0.222027</td>\n",
       "      <td>0.139175</td>\n",
       "      <td>0.077549</td>\n",
       "    </tr>\n",
       "  </tbody>\n",
       "</table>\n",
       "</div>"
      ],
      "text/plain": [
       "        All              In VOC           Out of VOC          \n",
       "   f1 micro  f1 macro  f1 micro  f1 macro   f1 micro  f1 macro\n",
       "0  0.699762  0.189974  0.730031  0.222027   0.139175  0.077549"
      ]
     },
     "metadata": {},
     "output_type": "display_data"
    },
    {
     "name": "stderr",
     "output_type": "stream",
     "text": [
      "Epoch 14: 100%|██████████| 1683/1683 [05:52<00:00,  4.77batch/s, loss_decrease=1.0000030126924735]\n",
      "100%|██████████| 3787/3787 [00:40<00:00, 93.74batch/s]\n"
     ]
    },
    {
     "data": {
      "text/html": [
       "<div>\n",
       "<style scoped>\n",
       "    .dataframe tbody tr th:only-of-type {\n",
       "        vertical-align: middle;\n",
       "    }\n",
       "\n",
       "    .dataframe tbody tr th {\n",
       "        vertical-align: top;\n",
       "    }\n",
       "\n",
       "    .dataframe thead tr th {\n",
       "        text-align: left;\n",
       "    }\n",
       "</style>\n",
       "<table border=\"1\" class=\"dataframe\">\n",
       "  <thead>\n",
       "    <tr>\n",
       "      <th></th>\n",
       "      <th colspan=\"2\" halign=\"left\">All</th>\n",
       "      <th colspan=\"2\" halign=\"left\">In VOC</th>\n",
       "      <th colspan=\"2\" halign=\"left\">Out of VOC</th>\n",
       "    </tr>\n",
       "    <tr>\n",
       "      <th></th>\n",
       "      <th>f1 micro</th>\n",
       "      <th>f1 macro</th>\n",
       "      <th>f1 micro</th>\n",
       "      <th>f1 macro</th>\n",
       "      <th>f1 micro</th>\n",
       "      <th>f1 macro</th>\n",
       "    </tr>\n",
       "  </thead>\n",
       "  <tbody>\n",
       "    <tr>\n",
       "      <th>0</th>\n",
       "      <td>0.715078</td>\n",
       "      <td>0.198162</td>\n",
       "      <td>0.746173</td>\n",
       "      <td>0.231724</td>\n",
       "      <td>0.139175</td>\n",
       "      <td>0.08563</td>\n",
       "    </tr>\n",
       "  </tbody>\n",
       "</table>\n",
       "</div>"
      ],
      "text/plain": [
       "        All              In VOC           Out of VOC         \n",
       "   f1 micro  f1 macro  f1 micro  f1 macro   f1 micro f1 macro\n",
       "0  0.715078  0.198162  0.746173  0.231724   0.139175  0.08563"
      ]
     },
     "metadata": {},
     "output_type": "display_data"
    },
    {
     "name": "stderr",
     "output_type": "stream",
     "text": [
      "Epoch 15: 100%|██████████| 1683/1683 [05:51<00:00,  4.79batch/s, loss_decrease=1.0000030126924735]\n",
      "100%|██████████| 3787/3787 [00:45<00:00, 82.79batch/s]\n"
     ]
    },
    {
     "data": {
      "text/html": [
       "<div>\n",
       "<style scoped>\n",
       "    .dataframe tbody tr th:only-of-type {\n",
       "        vertical-align: middle;\n",
       "    }\n",
       "\n",
       "    .dataframe tbody tr th {\n",
       "        vertical-align: top;\n",
       "    }\n",
       "\n",
       "    .dataframe thead tr th {\n",
       "        text-align: left;\n",
       "    }\n",
       "</style>\n",
       "<table border=\"1\" class=\"dataframe\">\n",
       "  <thead>\n",
       "    <tr>\n",
       "      <th></th>\n",
       "      <th colspan=\"2\" halign=\"left\">All</th>\n",
       "      <th colspan=\"2\" halign=\"left\">In VOC</th>\n",
       "      <th colspan=\"2\" halign=\"left\">Out of VOC</th>\n",
       "    </tr>\n",
       "    <tr>\n",
       "      <th></th>\n",
       "      <th>f1 micro</th>\n",
       "      <th>f1 macro</th>\n",
       "      <th>f1 micro</th>\n",
       "      <th>f1 macro</th>\n",
       "      <th>f1 micro</th>\n",
       "      <th>f1 macro</th>\n",
       "    </tr>\n",
       "  </thead>\n",
       "  <tbody>\n",
       "    <tr>\n",
       "      <th>0</th>\n",
       "      <td>0.709269</td>\n",
       "      <td>0.198171</td>\n",
       "      <td>0.74005</td>\n",
       "      <td>0.23068</td>\n",
       "      <td>0.139175</td>\n",
       "      <td>0.086002</td>\n",
       "    </tr>\n",
       "  </tbody>\n",
       "</table>\n",
       "</div>"
      ],
      "text/plain": [
       "        All             In VOC          Out of VOC          \n",
       "   f1 micro  f1 macro f1 micro f1 macro   f1 micro  f1 macro\n",
       "0  0.709269  0.198171  0.74005  0.23068   0.139175  0.086002"
      ]
     },
     "metadata": {},
     "output_type": "display_data"
    },
    {
     "name": "stderr",
     "output_type": "stream",
     "text": [
      "Epoch 16: 100%|██████████| 1683/1683 [05:53<00:00,  4.76batch/s, loss_decrease=1.0000030126924735]\n",
      "100%|██████████| 3787/3787 [00:40<00:00, 94.33batch/s] \n"
     ]
    },
    {
     "data": {
      "text/html": [
       "<div>\n",
       "<style scoped>\n",
       "    .dataframe tbody tr th:only-of-type {\n",
       "        vertical-align: middle;\n",
       "    }\n",
       "\n",
       "    .dataframe tbody tr th {\n",
       "        vertical-align: top;\n",
       "    }\n",
       "\n",
       "    .dataframe thead tr th {\n",
       "        text-align: left;\n",
       "    }\n",
       "</style>\n",
       "<table border=\"1\" class=\"dataframe\">\n",
       "  <thead>\n",
       "    <tr>\n",
       "      <th></th>\n",
       "      <th colspan=\"2\" halign=\"left\">All</th>\n",
       "      <th colspan=\"2\" halign=\"left\">In VOC</th>\n",
       "      <th colspan=\"2\" halign=\"left\">Out of VOC</th>\n",
       "    </tr>\n",
       "    <tr>\n",
       "      <th></th>\n",
       "      <th>f1 micro</th>\n",
       "      <th>f1 macro</th>\n",
       "      <th>f1 micro</th>\n",
       "      <th>f1 macro</th>\n",
       "      <th>f1 micro</th>\n",
       "      <th>f1 macro</th>\n",
       "    </tr>\n",
       "  </thead>\n",
       "  <tbody>\n",
       "    <tr>\n",
       "      <th>0</th>\n",
       "      <td>0.71587</td>\n",
       "      <td>0.195733</td>\n",
       "      <td>0.747286</td>\n",
       "      <td>0.228679</td>\n",
       "      <td>0.134021</td>\n",
       "      <td>0.081573</td>\n",
       "    </tr>\n",
       "  </tbody>\n",
       "</table>\n",
       "</div>"
      ],
      "text/plain": [
       "       All              In VOC           Out of VOC          \n",
       "  f1 micro  f1 macro  f1 micro  f1 macro   f1 micro  f1 macro\n",
       "0  0.71587  0.195733  0.747286  0.228679   0.134021  0.081573"
      ]
     },
     "metadata": {},
     "output_type": "display_data"
    },
    {
     "name": "stderr",
     "output_type": "stream",
     "text": [
      "Epoch 17: 100%|██████████| 1683/1683 [05:51<00:00,  4.79batch/s, loss_decrease=1.0000029185455588]\n",
      "100%|██████████| 3787/3787 [00:39<00:00, 94.96batch/s] \n"
     ]
    },
    {
     "data": {
      "text/html": [
       "<div>\n",
       "<style scoped>\n",
       "    .dataframe tbody tr th:only-of-type {\n",
       "        vertical-align: middle;\n",
       "    }\n",
       "\n",
       "    .dataframe tbody tr th {\n",
       "        vertical-align: top;\n",
       "    }\n",
       "\n",
       "    .dataframe thead tr th {\n",
       "        text-align: left;\n",
       "    }\n",
       "</style>\n",
       "<table border=\"1\" class=\"dataframe\">\n",
       "  <thead>\n",
       "    <tr>\n",
       "      <th></th>\n",
       "      <th colspan=\"2\" halign=\"left\">All</th>\n",
       "      <th colspan=\"2\" halign=\"left\">In VOC</th>\n",
       "      <th colspan=\"2\" halign=\"left\">Out of VOC</th>\n",
       "    </tr>\n",
       "    <tr>\n",
       "      <th></th>\n",
       "      <th>f1 micro</th>\n",
       "      <th>f1 macro</th>\n",
       "      <th>f1 micro</th>\n",
       "      <th>f1 macro</th>\n",
       "      <th>f1 micro</th>\n",
       "      <th>f1 macro</th>\n",
       "    </tr>\n",
       "  </thead>\n",
       "  <tbody>\n",
       "    <tr>\n",
       "      <th>0</th>\n",
       "      <td>0.719039</td>\n",
       "      <td>0.197251</td>\n",
       "      <td>0.750626</td>\n",
       "      <td>0.236131</td>\n",
       "      <td>0.134021</td>\n",
       "      <td>0.078978</td>\n",
       "    </tr>\n",
       "  </tbody>\n",
       "</table>\n",
       "</div>"
      ],
      "text/plain": [
       "        All              In VOC           Out of VOC          \n",
       "   f1 micro  f1 macro  f1 micro  f1 macro   f1 micro  f1 macro\n",
       "0  0.719039  0.197251  0.750626  0.236131   0.134021  0.078978"
      ]
     },
     "metadata": {},
     "output_type": "display_data"
    },
    {
     "name": "stderr",
     "output_type": "stream",
     "text": [
      "Epoch 18: 100%|██████████| 1683/1683 [05:52<00:00,  4.77batch/s, loss_decrease=1.0000030126924735]\n",
      "100%|██████████| 3787/3787 [00:40<00:00, 94.35batch/s] \n"
     ]
    },
    {
     "data": {
      "text/html": [
       "<div>\n",
       "<style scoped>\n",
       "    .dataframe tbody tr th:only-of-type {\n",
       "        vertical-align: middle;\n",
       "    }\n",
       "\n",
       "    .dataframe tbody tr th {\n",
       "        vertical-align: top;\n",
       "    }\n",
       "\n",
       "    .dataframe thead tr th {\n",
       "        text-align: left;\n",
       "    }\n",
       "</style>\n",
       "<table border=\"1\" class=\"dataframe\">\n",
       "  <thead>\n",
       "    <tr>\n",
       "      <th></th>\n",
       "      <th colspan=\"2\" halign=\"left\">All</th>\n",
       "      <th colspan=\"2\" halign=\"left\">In VOC</th>\n",
       "      <th colspan=\"2\" halign=\"left\">Out of VOC</th>\n",
       "    </tr>\n",
       "    <tr>\n",
       "      <th></th>\n",
       "      <th>f1 micro</th>\n",
       "      <th>f1 macro</th>\n",
       "      <th>f1 micro</th>\n",
       "      <th>f1 macro</th>\n",
       "      <th>f1 micro</th>\n",
       "      <th>f1 macro</th>\n",
       "    </tr>\n",
       "  </thead>\n",
       "  <tbody>\n",
       "    <tr>\n",
       "      <th>0</th>\n",
       "      <td>0.715342</td>\n",
       "      <td>0.18707</td>\n",
       "      <td>0.746173</td>\n",
       "      <td>0.218184</td>\n",
       "      <td>0.14433</td>\n",
       "      <td>0.082114</td>\n",
       "    </tr>\n",
       "  </tbody>\n",
       "</table>\n",
       "</div>"
      ],
      "text/plain": [
       "        All             In VOC           Out of VOC          \n",
       "   f1 micro f1 macro  f1 micro  f1 macro   f1 micro  f1 macro\n",
       "0  0.715342  0.18707  0.746173  0.218184    0.14433  0.082114"
      ]
     },
     "metadata": {},
     "output_type": "display_data"
    },
    {
     "name": "stderr",
     "output_type": "stream",
     "text": [
      "Epoch 19: 100%|██████████| 1683/1683 [05:51<00:00,  4.78batch/s, loss_decrease=1.0000030126924735]\n",
      "100%|██████████| 3787/3787 [00:41<00:00, 90.64batch/s] \n"
     ]
    },
    {
     "data": {
      "text/html": [
       "<div>\n",
       "<style scoped>\n",
       "    .dataframe tbody tr th:only-of-type {\n",
       "        vertical-align: middle;\n",
       "    }\n",
       "\n",
       "    .dataframe tbody tr th {\n",
       "        vertical-align: top;\n",
       "    }\n",
       "\n",
       "    .dataframe thead tr th {\n",
       "        text-align: left;\n",
       "    }\n",
       "</style>\n",
       "<table border=\"1\" class=\"dataframe\">\n",
       "  <thead>\n",
       "    <tr>\n",
       "      <th></th>\n",
       "      <th colspan=\"2\" halign=\"left\">All</th>\n",
       "      <th colspan=\"2\" halign=\"left\">In VOC</th>\n",
       "      <th colspan=\"2\" halign=\"left\">Out of VOC</th>\n",
       "    </tr>\n",
       "    <tr>\n",
       "      <th></th>\n",
       "      <th>f1 micro</th>\n",
       "      <th>f1 macro</th>\n",
       "      <th>f1 micro</th>\n",
       "      <th>f1 macro</th>\n",
       "      <th>f1 micro</th>\n",
       "      <th>f1 macro</th>\n",
       "    </tr>\n",
       "  </thead>\n",
       "  <tbody>\n",
       "    <tr>\n",
       "      <th>0</th>\n",
       "      <td>0.720623</td>\n",
       "      <td>0.202254</td>\n",
       "      <td>0.750905</td>\n",
       "      <td>0.231365</td>\n",
       "      <td>0.159794</td>\n",
       "      <td>0.101747</td>\n",
       "    </tr>\n",
       "  </tbody>\n",
       "</table>\n",
       "</div>"
      ],
      "text/plain": [
       "        All              In VOC           Out of VOC          \n",
       "   f1 micro  f1 macro  f1 micro  f1 macro   f1 micro  f1 macro\n",
       "0  0.720623  0.202254  0.750905  0.231365   0.159794  0.101747"
      ]
     },
     "metadata": {},
     "output_type": "display_data"
    },
    {
     "name": "stderr",
     "output_type": "stream",
     "text": [
      "Epoch 20: 100%|██████████| 1683/1683 [05:51<00:00,  4.79batch/s, loss_decrease=1.0000031068394057]\n",
      "100%|██████████| 3787/3787 [00:39<00:00, 96.48batch/s] \n"
     ]
    },
    {
     "data": {
      "text/html": [
       "<div>\n",
       "<style scoped>\n",
       "    .dataframe tbody tr th:only-of-type {\n",
       "        vertical-align: middle;\n",
       "    }\n",
       "\n",
       "    .dataframe tbody tr th {\n",
       "        vertical-align: top;\n",
       "    }\n",
       "\n",
       "    .dataframe thead tr th {\n",
       "        text-align: left;\n",
       "    }\n",
       "</style>\n",
       "<table border=\"1\" class=\"dataframe\">\n",
       "  <thead>\n",
       "    <tr>\n",
       "      <th></th>\n",
       "      <th colspan=\"2\" halign=\"left\">All</th>\n",
       "      <th colspan=\"2\" halign=\"left\">In VOC</th>\n",
       "      <th colspan=\"2\" halign=\"left\">Out of VOC</th>\n",
       "    </tr>\n",
       "    <tr>\n",
       "      <th></th>\n",
       "      <th>f1 micro</th>\n",
       "      <th>f1 macro</th>\n",
       "      <th>f1 micro</th>\n",
       "      <th>f1 macro</th>\n",
       "      <th>f1 micro</th>\n",
       "      <th>f1 macro</th>\n",
       "    </tr>\n",
       "  </thead>\n",
       "  <tbody>\n",
       "    <tr>\n",
       "      <th>0</th>\n",
       "      <td>0.725904</td>\n",
       "      <td>0.214636</td>\n",
       "      <td>0.756193</td>\n",
       "      <td>0.250741</td>\n",
       "      <td>0.164948</td>\n",
       "      <td>0.101254</td>\n",
       "    </tr>\n",
       "  </tbody>\n",
       "</table>\n",
       "</div>"
      ],
      "text/plain": [
       "        All              In VOC           Out of VOC          \n",
       "   f1 micro  f1 macro  f1 micro  f1 macro   f1 micro  f1 macro\n",
       "0  0.725904  0.214636  0.756193  0.250741   0.164948  0.101254"
      ]
     },
     "metadata": {},
     "output_type": "display_data"
    },
    {
     "name": "stderr",
     "output_type": "stream",
     "text": [
      "Epoch 21: 100%|██████████| 1683/1683 [05:50<00:00,  4.80batch/s, loss_decrease=1.0000032009863558]\n",
      "100%|██████████| 3787/3787 [00:40<00:00, 94.38batch/s] \n"
     ]
    },
    {
     "data": {
      "text/html": [
       "<div>\n",
       "<style scoped>\n",
       "    .dataframe tbody tr th:only-of-type {\n",
       "        vertical-align: middle;\n",
       "    }\n",
       "\n",
       "    .dataframe tbody tr th {\n",
       "        vertical-align: top;\n",
       "    }\n",
       "\n",
       "    .dataframe thead tr th {\n",
       "        text-align: left;\n",
       "    }\n",
       "</style>\n",
       "<table border=\"1\" class=\"dataframe\">\n",
       "  <thead>\n",
       "    <tr>\n",
       "      <th></th>\n",
       "      <th colspan=\"2\" halign=\"left\">All</th>\n",
       "      <th colspan=\"2\" halign=\"left\">In VOC</th>\n",
       "      <th colspan=\"2\" halign=\"left\">Out of VOC</th>\n",
       "    </tr>\n",
       "    <tr>\n",
       "      <th></th>\n",
       "      <th>f1 micro</th>\n",
       "      <th>f1 macro</th>\n",
       "      <th>f1 micro</th>\n",
       "      <th>f1 macro</th>\n",
       "      <th>f1 micro</th>\n",
       "      <th>f1 macro</th>\n",
       "    </tr>\n",
       "  </thead>\n",
       "  <tbody>\n",
       "    <tr>\n",
       "      <th>0</th>\n",
       "      <td>0.720095</td>\n",
       "      <td>0.198869</td>\n",
       "      <td>0.75007</td>\n",
       "      <td>0.227777</td>\n",
       "      <td>0.164948</td>\n",
       "      <td>0.096575</td>\n",
       "    </tr>\n",
       "  </tbody>\n",
       "</table>\n",
       "</div>"
      ],
      "text/plain": [
       "        All             In VOC           Out of VOC          \n",
       "   f1 micro  f1 macro f1 micro  f1 macro   f1 micro  f1 macro\n",
       "0  0.720095  0.198869  0.75007  0.227777   0.164948  0.096575"
      ]
     },
     "metadata": {},
     "output_type": "display_data"
    },
    {
     "name": "stderr",
     "output_type": "stream",
     "text": [
      "Epoch 22: 100%|██████████| 1683/1683 [05:53<00:00,  4.77batch/s, loss_decrease=1.0000030126924735]\n",
      "100%|██████████| 3787/3787 [00:42<00:00, 88.65batch/s] \n"
     ]
    },
    {
     "data": {
      "text/html": [
       "<div>\n",
       "<style scoped>\n",
       "    .dataframe tbody tr th:only-of-type {\n",
       "        vertical-align: middle;\n",
       "    }\n",
       "\n",
       "    .dataframe tbody tr th {\n",
       "        vertical-align: top;\n",
       "    }\n",
       "\n",
       "    .dataframe thead tr th {\n",
       "        text-align: left;\n",
       "    }\n",
       "</style>\n",
       "<table border=\"1\" class=\"dataframe\">\n",
       "  <thead>\n",
       "    <tr>\n",
       "      <th></th>\n",
       "      <th colspan=\"2\" halign=\"left\">All</th>\n",
       "      <th colspan=\"2\" halign=\"left\">In VOC</th>\n",
       "      <th colspan=\"2\" halign=\"left\">Out of VOC</th>\n",
       "    </tr>\n",
       "    <tr>\n",
       "      <th></th>\n",
       "      <th>f1 micro</th>\n",
       "      <th>f1 macro</th>\n",
       "      <th>f1 micro</th>\n",
       "      <th>f1 macro</th>\n",
       "      <th>f1 micro</th>\n",
       "      <th>f1 macro</th>\n",
       "    </tr>\n",
       "  </thead>\n",
       "  <tbody>\n",
       "    <tr>\n",
       "      <th>0</th>\n",
       "      <td>0.720359</td>\n",
       "      <td>0.20034</td>\n",
       "      <td>0.749513</td>\n",
       "      <td>0.229056</td>\n",
       "      <td>0.180412</td>\n",
       "      <td>0.099797</td>\n",
       "    </tr>\n",
       "  </tbody>\n",
       "</table>\n",
       "</div>"
      ],
      "text/plain": [
       "        All             In VOC           Out of VOC          \n",
       "   f1 micro f1 macro  f1 micro  f1 macro   f1 micro  f1 macro\n",
       "0  0.720359  0.20034  0.749513  0.229056   0.180412  0.099797"
      ]
     },
     "metadata": {},
     "output_type": "display_data"
    },
    {
     "name": "stderr",
     "output_type": "stream",
     "text": [
      "Epoch 23: 100%|██████████| 1683/1683 [05:53<00:00,  4.75batch/s, loss_decrease=1.0000032009863558]\n",
      "100%|██████████| 3787/3787 [00:39<00:00, 96.68batch/s] \n"
     ]
    },
    {
     "data": {
      "text/html": [
       "<div>\n",
       "<style scoped>\n",
       "    .dataframe tbody tr th:only-of-type {\n",
       "        vertical-align: middle;\n",
       "    }\n",
       "\n",
       "    .dataframe tbody tr th {\n",
       "        vertical-align: top;\n",
       "    }\n",
       "\n",
       "    .dataframe thead tr th {\n",
       "        text-align: left;\n",
       "    }\n",
       "</style>\n",
       "<table border=\"1\" class=\"dataframe\">\n",
       "  <thead>\n",
       "    <tr>\n",
       "      <th></th>\n",
       "      <th colspan=\"2\" halign=\"left\">All</th>\n",
       "      <th colspan=\"2\" halign=\"left\">In VOC</th>\n",
       "      <th colspan=\"2\" halign=\"left\">Out of VOC</th>\n",
       "    </tr>\n",
       "    <tr>\n",
       "      <th></th>\n",
       "      <th>f1 micro</th>\n",
       "      <th>f1 macro</th>\n",
       "      <th>f1 micro</th>\n",
       "      <th>f1 macro</th>\n",
       "      <th>f1 micro</th>\n",
       "      <th>f1 macro</th>\n",
       "    </tr>\n",
       "  </thead>\n",
       "  <tbody>\n",
       "    <tr>\n",
       "      <th>0</th>\n",
       "      <td>0.719831</td>\n",
       "      <td>0.190599</td>\n",
       "      <td>0.750905</td>\n",
       "      <td>0.224945</td>\n",
       "      <td>0.14433</td>\n",
       "      <td>0.083047</td>\n",
       "    </tr>\n",
       "  </tbody>\n",
       "</table>\n",
       "</div>"
      ],
      "text/plain": [
       "        All              In VOC           Out of VOC          \n",
       "   f1 micro  f1 macro  f1 micro  f1 macro   f1 micro  f1 macro\n",
       "0  0.719831  0.190599  0.750905  0.224945    0.14433  0.083047"
      ]
     },
     "metadata": {},
     "output_type": "display_data"
    },
    {
     "name": "stderr",
     "output_type": "stream",
     "text": [
      "Epoch 24: 100%|██████████| 1683/1683 [05:51<00:00,  4.79batch/s, loss_decrease=1.0000031068394057]\n",
      "100%|██████████| 3787/3787 [00:39<00:00, 96.71batch/s] \n"
     ]
    },
    {
     "data": {
      "text/html": [
       "<div>\n",
       "<style scoped>\n",
       "    .dataframe tbody tr th:only-of-type {\n",
       "        vertical-align: middle;\n",
       "    }\n",
       "\n",
       "    .dataframe tbody tr th {\n",
       "        vertical-align: top;\n",
       "    }\n",
       "\n",
       "    .dataframe thead tr th {\n",
       "        text-align: left;\n",
       "    }\n",
       "</style>\n",
       "<table border=\"1\" class=\"dataframe\">\n",
       "  <thead>\n",
       "    <tr>\n",
       "      <th></th>\n",
       "      <th colspan=\"2\" halign=\"left\">All</th>\n",
       "      <th colspan=\"2\" halign=\"left\">In VOC</th>\n",
       "      <th colspan=\"2\" halign=\"left\">Out of VOC</th>\n",
       "    </tr>\n",
       "    <tr>\n",
       "      <th></th>\n",
       "      <th>f1 micro</th>\n",
       "      <th>f1 macro</th>\n",
       "      <th>f1 micro</th>\n",
       "      <th>f1 macro</th>\n",
       "      <th>f1 micro</th>\n",
       "      <th>f1 macro</th>\n",
       "    </tr>\n",
       "  </thead>\n",
       "  <tbody>\n",
       "    <tr>\n",
       "      <th>0</th>\n",
       "      <td>0.728281</td>\n",
       "      <td>0.219846</td>\n",
       "      <td>0.758697</td>\n",
       "      <td>0.260794</td>\n",
       "      <td>0.164948</td>\n",
       "      <td>0.092283</td>\n",
       "    </tr>\n",
       "  </tbody>\n",
       "</table>\n",
       "</div>"
      ],
      "text/plain": [
       "        All              In VOC           Out of VOC          \n",
       "   f1 micro  f1 macro  f1 micro  f1 macro   f1 micro  f1 macro\n",
       "0  0.728281  0.219846  0.758697  0.260794   0.164948  0.092283"
      ]
     },
     "metadata": {},
     "output_type": "display_data"
    },
    {
     "name": "stderr",
     "output_type": "stream",
     "text": [
      "Epoch 25: 100%|██████████| 1683/1683 [05:50<00:00,  4.81batch/s, loss_decrease=1.0000031068394057]\n",
      "100%|██████████| 3787/3787 [00:41<00:00, 91.85batch/s]\n"
     ]
    },
    {
     "data": {
      "text/html": [
       "<div>\n",
       "<style scoped>\n",
       "    .dataframe tbody tr th:only-of-type {\n",
       "        vertical-align: middle;\n",
       "    }\n",
       "\n",
       "    .dataframe tbody tr th {\n",
       "        vertical-align: top;\n",
       "    }\n",
       "\n",
       "    .dataframe thead tr th {\n",
       "        text-align: left;\n",
       "    }\n",
       "</style>\n",
       "<table border=\"1\" class=\"dataframe\">\n",
       "  <thead>\n",
       "    <tr>\n",
       "      <th></th>\n",
       "      <th colspan=\"2\" halign=\"left\">All</th>\n",
       "      <th colspan=\"2\" halign=\"left\">In VOC</th>\n",
       "      <th colspan=\"2\" halign=\"left\">Out of VOC</th>\n",
       "    </tr>\n",
       "    <tr>\n",
       "      <th></th>\n",
       "      <th>f1 micro</th>\n",
       "      <th>f1 macro</th>\n",
       "      <th>f1 micro</th>\n",
       "      <th>f1 macro</th>\n",
       "      <th>f1 micro</th>\n",
       "      <th>f1 macro</th>\n",
       "    </tr>\n",
       "  </thead>\n",
       "  <tbody>\n",
       "    <tr>\n",
       "      <th>0</th>\n",
       "      <td>0.724056</td>\n",
       "      <td>0.213044</td>\n",
       "      <td>0.752574</td>\n",
       "      <td>0.241384</td>\n",
       "      <td>0.195876</td>\n",
       "      <td>0.112401</td>\n",
       "    </tr>\n",
       "  </tbody>\n",
       "</table>\n",
       "</div>"
      ],
      "text/plain": [
       "        All              In VOC           Out of VOC          \n",
       "   f1 micro  f1 macro  f1 micro  f1 macro   f1 micro  f1 macro\n",
       "0  0.724056  0.213044  0.752574  0.241384   0.195876  0.112401"
      ]
     },
     "metadata": {},
     "output_type": "display_data"
    },
    {
     "name": "stderr",
     "output_type": "stream",
     "text": [
      "Epoch 26: 100%|██████████| 1683/1683 [05:50<00:00,  4.80batch/s, loss_decrease=1.0000032009863558]\n",
      "100%|██████████| 3787/3787 [00:39<00:00, 96.26batch/s] \n"
     ]
    },
    {
     "data": {
      "text/html": [
       "<div>\n",
       "<style scoped>\n",
       "    .dataframe tbody tr th:only-of-type {\n",
       "        vertical-align: middle;\n",
       "    }\n",
       "\n",
       "    .dataframe tbody tr th {\n",
       "        vertical-align: top;\n",
       "    }\n",
       "\n",
       "    .dataframe thead tr th {\n",
       "        text-align: left;\n",
       "    }\n",
       "</style>\n",
       "<table border=\"1\" class=\"dataframe\">\n",
       "  <thead>\n",
       "    <tr>\n",
       "      <th></th>\n",
       "      <th colspan=\"2\" halign=\"left\">All</th>\n",
       "      <th colspan=\"2\" halign=\"left\">In VOC</th>\n",
       "      <th colspan=\"2\" halign=\"left\">Out of VOC</th>\n",
       "    </tr>\n",
       "    <tr>\n",
       "      <th></th>\n",
       "      <th>f1 micro</th>\n",
       "      <th>f1 macro</th>\n",
       "      <th>f1 micro</th>\n",
       "      <th>f1 macro</th>\n",
       "      <th>f1 micro</th>\n",
       "      <th>f1 macro</th>\n",
       "    </tr>\n",
       "  </thead>\n",
       "  <tbody>\n",
       "    <tr>\n",
       "      <th>0</th>\n",
       "      <td>0.729865</td>\n",
       "      <td>0.211594</td>\n",
       "      <td>0.760924</td>\n",
       "      <td>0.250936</td>\n",
       "      <td>0.154639</td>\n",
       "      <td>0.085464</td>\n",
       "    </tr>\n",
       "  </tbody>\n",
       "</table>\n",
       "</div>"
      ],
      "text/plain": [
       "        All              In VOC           Out of VOC          \n",
       "   f1 micro  f1 macro  f1 micro  f1 macro   f1 micro  f1 macro\n",
       "0  0.729865  0.211594  0.760924  0.250936   0.154639  0.085464"
      ]
     },
     "metadata": {},
     "output_type": "display_data"
    },
    {
     "name": "stderr",
     "output_type": "stream",
     "text": [
      "Epoch 27: 100%|██████████| 1683/1683 [05:50<00:00,  4.80batch/s, loss_decrease=1.0000032009863558]\n",
      "100%|██████████| 3787/3787 [00:38<00:00, 97.21batch/s] \n"
     ]
    },
    {
     "data": {
      "text/html": [
       "<div>\n",
       "<style scoped>\n",
       "    .dataframe tbody tr th:only-of-type {\n",
       "        vertical-align: middle;\n",
       "    }\n",
       "\n",
       "    .dataframe tbody tr th {\n",
       "        vertical-align: top;\n",
       "    }\n",
       "\n",
       "    .dataframe thead tr th {\n",
       "        text-align: left;\n",
       "    }\n",
       "</style>\n",
       "<table border=\"1\" class=\"dataframe\">\n",
       "  <thead>\n",
       "    <tr>\n",
       "      <th></th>\n",
       "      <th colspan=\"2\" halign=\"left\">All</th>\n",
       "      <th colspan=\"2\" halign=\"left\">In VOC</th>\n",
       "      <th colspan=\"2\" halign=\"left\">Out of VOC</th>\n",
       "    </tr>\n",
       "    <tr>\n",
       "      <th></th>\n",
       "      <th>f1 micro</th>\n",
       "      <th>f1 macro</th>\n",
       "      <th>f1 micro</th>\n",
       "      <th>f1 macro</th>\n",
       "      <th>f1 micro</th>\n",
       "      <th>f1 macro</th>\n",
       "    </tr>\n",
       "  </thead>\n",
       "  <tbody>\n",
       "    <tr>\n",
       "      <th>0</th>\n",
       "      <td>0.732506</td>\n",
       "      <td>0.223496</td>\n",
       "      <td>0.761481</td>\n",
       "      <td>0.256558</td>\n",
       "      <td>0.195876</td>\n",
       "      <td>0.110799</td>\n",
       "    </tr>\n",
       "  </tbody>\n",
       "</table>\n",
       "</div>"
      ],
      "text/plain": [
       "        All              In VOC           Out of VOC          \n",
       "   f1 micro  f1 macro  f1 micro  f1 macro   f1 micro  f1 macro\n",
       "0  0.732506  0.223496  0.761481  0.256558   0.195876  0.110799"
      ]
     },
     "metadata": {},
     "output_type": "display_data"
    },
    {
     "name": "stderr",
     "output_type": "stream",
     "text": [
      "Epoch 28: 100%|██████████| 1683/1683 [05:54<00:00,  4.75batch/s, loss_decrease=1.0000032009863558]\n",
      "100%|██████████| 3787/3787 [00:41<00:00, 91.15batch/s] \n"
     ]
    },
    {
     "data": {
      "text/html": [
       "<div>\n",
       "<style scoped>\n",
       "    .dataframe tbody tr th:only-of-type {\n",
       "        vertical-align: middle;\n",
       "    }\n",
       "\n",
       "    .dataframe tbody tr th {\n",
       "        vertical-align: top;\n",
       "    }\n",
       "\n",
       "    .dataframe thead tr th {\n",
       "        text-align: left;\n",
       "    }\n",
       "</style>\n",
       "<table border=\"1\" class=\"dataframe\">\n",
       "  <thead>\n",
       "    <tr>\n",
       "      <th></th>\n",
       "      <th colspan=\"2\" halign=\"left\">All</th>\n",
       "      <th colspan=\"2\" halign=\"left\">In VOC</th>\n",
       "      <th colspan=\"2\" halign=\"left\">Out of VOC</th>\n",
       "    </tr>\n",
       "    <tr>\n",
       "      <th></th>\n",
       "      <th>f1 micro</th>\n",
       "      <th>f1 macro</th>\n",
       "      <th>f1 micro</th>\n",
       "      <th>f1 macro</th>\n",
       "      <th>f1 micro</th>\n",
       "      <th>f1 macro</th>\n",
       "    </tr>\n",
       "  </thead>\n",
       "  <tbody>\n",
       "    <tr>\n",
       "      <th>0</th>\n",
       "      <td>0.728017</td>\n",
       "      <td>0.211384</td>\n",
       "      <td>0.759532</td>\n",
       "      <td>0.250427</td>\n",
       "      <td>0.14433</td>\n",
       "      <td>0.084204</td>\n",
       "    </tr>\n",
       "  </tbody>\n",
       "</table>\n",
       "</div>"
      ],
      "text/plain": [
       "        All              In VOC           Out of VOC          \n",
       "   f1 micro  f1 macro  f1 micro  f1 macro   f1 micro  f1 macro\n",
       "0  0.728017  0.211384  0.759532  0.250427    0.14433  0.084204"
      ]
     },
     "metadata": {},
     "output_type": "display_data"
    },
    {
     "name": "stderr",
     "output_type": "stream",
     "text": [
      "Epoch 29: 100%|██████████| 1683/1683 [05:49<00:00,  4.81batch/s, loss_decrease=1.0000032009863558]\n",
      "100%|██████████| 3787/3787 [00:40<00:00, 93.58batch/s] \n"
     ]
    },
    {
     "data": {
      "text/html": [
       "<div>\n",
       "<style scoped>\n",
       "    .dataframe tbody tr th:only-of-type {\n",
       "        vertical-align: middle;\n",
       "    }\n",
       "\n",
       "    .dataframe tbody tr th {\n",
       "        vertical-align: top;\n",
       "    }\n",
       "\n",
       "    .dataframe thead tr th {\n",
       "        text-align: left;\n",
       "    }\n",
       "</style>\n",
       "<table border=\"1\" class=\"dataframe\">\n",
       "  <thead>\n",
       "    <tr>\n",
       "      <th></th>\n",
       "      <th colspan=\"2\" halign=\"left\">All</th>\n",
       "      <th colspan=\"2\" halign=\"left\">In VOC</th>\n",
       "      <th colspan=\"2\" halign=\"left\">Out of VOC</th>\n",
       "    </tr>\n",
       "    <tr>\n",
       "      <th></th>\n",
       "      <th>f1 micro</th>\n",
       "      <th>f1 macro</th>\n",
       "      <th>f1 micro</th>\n",
       "      <th>f1 macro</th>\n",
       "      <th>f1 micro</th>\n",
       "      <th>f1 macro</th>\n",
       "    </tr>\n",
       "  </thead>\n",
       "  <tbody>\n",
       "    <tr>\n",
       "      <th>0</th>\n",
       "      <td>0.73409</td>\n",
       "      <td>0.223227</td>\n",
       "      <td>0.764264</td>\n",
       "      <td>0.26173</td>\n",
       "      <td>0.175258</td>\n",
       "      <td>0.101041</td>\n",
       "    </tr>\n",
       "  </tbody>\n",
       "</table>\n",
       "</div>"
      ],
      "text/plain": [
       "       All              In VOC          Out of VOC          \n",
       "  f1 micro  f1 macro  f1 micro f1 macro   f1 micro  f1 macro\n",
       "0  0.73409  0.223227  0.764264  0.26173   0.175258  0.101041"
      ]
     },
     "metadata": {},
     "output_type": "display_data"
    },
    {
     "name": "stderr",
     "output_type": "stream",
     "text": [
      "Epoch 30: 100%|██████████| 1683/1683 [05:52<00:00,  4.78batch/s, loss_decrease=1.0000032009863558]\n",
      "100%|██████████| 3787/3787 [00:40<00:00, 92.48batch/s] \n"
     ]
    },
    {
     "data": {
      "text/html": [
       "<div>\n",
       "<style scoped>\n",
       "    .dataframe tbody tr th:only-of-type {\n",
       "        vertical-align: middle;\n",
       "    }\n",
       "\n",
       "    .dataframe tbody tr th {\n",
       "        vertical-align: top;\n",
       "    }\n",
       "\n",
       "    .dataframe thead tr th {\n",
       "        text-align: left;\n",
       "    }\n",
       "</style>\n",
       "<table border=\"1\" class=\"dataframe\">\n",
       "  <thead>\n",
       "    <tr>\n",
       "      <th></th>\n",
       "      <th colspan=\"2\" halign=\"left\">All</th>\n",
       "      <th colspan=\"2\" halign=\"left\">In VOC</th>\n",
       "      <th colspan=\"2\" halign=\"left\">Out of VOC</th>\n",
       "    </tr>\n",
       "    <tr>\n",
       "      <th></th>\n",
       "      <th>f1 micro</th>\n",
       "      <th>f1 macro</th>\n",
       "      <th>f1 micro</th>\n",
       "      <th>f1 macro</th>\n",
       "      <th>f1 micro</th>\n",
       "      <th>f1 macro</th>\n",
       "    </tr>\n",
       "  </thead>\n",
       "  <tbody>\n",
       "    <tr>\n",
       "      <th>0</th>\n",
       "      <td>0.73409</td>\n",
       "      <td>0.215935</td>\n",
       "      <td>0.764542</td>\n",
       "      <td>0.249942</td>\n",
       "      <td>0.170103</td>\n",
       "      <td>0.102694</td>\n",
       "    </tr>\n",
       "  </tbody>\n",
       "</table>\n",
       "</div>"
      ],
      "text/plain": [
       "       All              In VOC           Out of VOC          \n",
       "  f1 micro  f1 macro  f1 micro  f1 macro   f1 micro  f1 macro\n",
       "0  0.73409  0.215935  0.764542  0.249942   0.170103  0.102694"
      ]
     },
     "metadata": {},
     "output_type": "display_data"
    },
    {
     "name": "stderr",
     "output_type": "stream",
     "text": [
      "Epoch 31: 100%|██████████| 1683/1683 [05:53<00:00,  4.76batch/s, loss_decrease=1.0000032009863558]\n",
      "100%|██████████| 3787/3787 [00:39<00:00, 96.75batch/s] \n"
     ]
    },
    {
     "data": {
      "text/html": [
       "<div>\n",
       "<style scoped>\n",
       "    .dataframe tbody tr th:only-of-type {\n",
       "        vertical-align: middle;\n",
       "    }\n",
       "\n",
       "    .dataframe tbody tr th {\n",
       "        vertical-align: top;\n",
       "    }\n",
       "\n",
       "    .dataframe thead tr th {\n",
       "        text-align: left;\n",
       "    }\n",
       "</style>\n",
       "<table border=\"1\" class=\"dataframe\">\n",
       "  <thead>\n",
       "    <tr>\n",
       "      <th></th>\n",
       "      <th colspan=\"2\" halign=\"left\">All</th>\n",
       "      <th colspan=\"2\" halign=\"left\">In VOC</th>\n",
       "      <th colspan=\"2\" halign=\"left\">Out of VOC</th>\n",
       "    </tr>\n",
       "    <tr>\n",
       "      <th></th>\n",
       "      <th>f1 micro</th>\n",
       "      <th>f1 macro</th>\n",
       "      <th>f1 micro</th>\n",
       "      <th>f1 macro</th>\n",
       "      <th>f1 micro</th>\n",
       "      <th>f1 macro</th>\n",
       "    </tr>\n",
       "  </thead>\n",
       "  <tbody>\n",
       "    <tr>\n",
       "      <th>0</th>\n",
       "      <td>0.738579</td>\n",
       "      <td>0.222778</td>\n",
       "      <td>0.770109</td>\n",
       "      <td>0.26613</td>\n",
       "      <td>0.154639</td>\n",
       "      <td>0.091575</td>\n",
       "    </tr>\n",
       "  </tbody>\n",
       "</table>\n",
       "</div>"
      ],
      "text/plain": [
       "        All              In VOC          Out of VOC          \n",
       "   f1 micro  f1 macro  f1 micro f1 macro   f1 micro  f1 macro\n",
       "0  0.738579  0.222778  0.770109  0.26613   0.154639  0.091575"
      ]
     },
     "metadata": {},
     "output_type": "display_data"
    },
    {
     "name": "stderr",
     "output_type": "stream",
     "text": [
      "Epoch 32: 100%|██████████| 1683/1683 [05:51<00:00,  4.79batch/s, loss_decrease=1.0000032009863558]\n",
      "100%|██████████| 3787/3787 [00:39<00:00, 96.81batch/s] \n"
     ]
    },
    {
     "data": {
      "text/html": [
       "<div>\n",
       "<style scoped>\n",
       "    .dataframe tbody tr th:only-of-type {\n",
       "        vertical-align: middle;\n",
       "    }\n",
       "\n",
       "    .dataframe tbody tr th {\n",
       "        vertical-align: top;\n",
       "    }\n",
       "\n",
       "    .dataframe thead tr th {\n",
       "        text-align: left;\n",
       "    }\n",
       "</style>\n",
       "<table border=\"1\" class=\"dataframe\">\n",
       "  <thead>\n",
       "    <tr>\n",
       "      <th></th>\n",
       "      <th colspan=\"2\" halign=\"left\">All</th>\n",
       "      <th colspan=\"2\" halign=\"left\">In VOC</th>\n",
       "      <th colspan=\"2\" halign=\"left\">Out of VOC</th>\n",
       "    </tr>\n",
       "    <tr>\n",
       "      <th></th>\n",
       "      <th>f1 micro</th>\n",
       "      <th>f1 macro</th>\n",
       "      <th>f1 micro</th>\n",
       "      <th>f1 macro</th>\n",
       "      <th>f1 micro</th>\n",
       "      <th>f1 macro</th>\n",
       "    </tr>\n",
       "  </thead>\n",
       "  <tbody>\n",
       "    <tr>\n",
       "      <th>0</th>\n",
       "      <td>0.735411</td>\n",
       "      <td>0.231216</td>\n",
       "      <td>0.765934</td>\n",
       "      <td>0.271603</td>\n",
       "      <td>0.170103</td>\n",
       "      <td>0.100085</td>\n",
       "    </tr>\n",
       "  </tbody>\n",
       "</table>\n",
       "</div>"
      ],
      "text/plain": [
       "        All              In VOC           Out of VOC          \n",
       "   f1 micro  f1 macro  f1 micro  f1 macro   f1 micro  f1 macro\n",
       "0  0.735411  0.231216  0.765934  0.271603   0.170103  0.100085"
      ]
     },
     "metadata": {},
     "output_type": "display_data"
    },
    {
     "name": "stderr",
     "output_type": "stream",
     "text": [
      "Epoch 33: 100%|██████████| 1683/1683 [05:48<00:00,  4.83batch/s, loss_decrease=1.0000032009863558]\n",
      "100%|██████████| 3787/3787 [00:40<00:00, 94.27batch/s] \n"
     ]
    },
    {
     "data": {
      "text/html": [
       "<div>\n",
       "<style scoped>\n",
       "    .dataframe tbody tr th:only-of-type {\n",
       "        vertical-align: middle;\n",
       "    }\n",
       "\n",
       "    .dataframe tbody tr th {\n",
       "        vertical-align: top;\n",
       "    }\n",
       "\n",
       "    .dataframe thead tr th {\n",
       "        text-align: left;\n",
       "    }\n",
       "</style>\n",
       "<table border=\"1\" class=\"dataframe\">\n",
       "  <thead>\n",
       "    <tr>\n",
       "      <th></th>\n",
       "      <th colspan=\"2\" halign=\"left\">All</th>\n",
       "      <th colspan=\"2\" halign=\"left\">In VOC</th>\n",
       "      <th colspan=\"2\" halign=\"left\">Out of VOC</th>\n",
       "    </tr>\n",
       "    <tr>\n",
       "      <th></th>\n",
       "      <th>f1 micro</th>\n",
       "      <th>f1 macro</th>\n",
       "      <th>f1 micro</th>\n",
       "      <th>f1 macro</th>\n",
       "      <th>f1 micro</th>\n",
       "      <th>f1 macro</th>\n",
       "    </tr>\n",
       "  </thead>\n",
       "  <tbody>\n",
       "    <tr>\n",
       "      <th>0</th>\n",
       "      <td>0.732506</td>\n",
       "      <td>0.21976</td>\n",
       "      <td>0.762872</td>\n",
       "      <td>0.261251</td>\n",
       "      <td>0.170103</td>\n",
       "      <td>0.093066</td>\n",
       "    </tr>\n",
       "  </tbody>\n",
       "</table>\n",
       "</div>"
      ],
      "text/plain": [
       "        All             In VOC           Out of VOC          \n",
       "   f1 micro f1 macro  f1 micro  f1 macro   f1 micro  f1 macro\n",
       "0  0.732506  0.21976  0.762872  0.261251   0.170103  0.093066"
      ]
     },
     "metadata": {},
     "output_type": "display_data"
    },
    {
     "name": "stderr",
     "output_type": "stream",
     "text": [
      "Epoch 34: 100%|██████████| 1683/1683 [05:49<00:00,  4.81batch/s, loss_decrease=1.0000032009863558]\n",
      "100%|██████████| 3787/3787 [00:39<00:00, 96.05batch/s] \n"
     ]
    },
    {
     "data": {
      "text/html": [
       "<div>\n",
       "<style scoped>\n",
       "    .dataframe tbody tr th:only-of-type {\n",
       "        vertical-align: middle;\n",
       "    }\n",
       "\n",
       "    .dataframe tbody tr th {\n",
       "        vertical-align: top;\n",
       "    }\n",
       "\n",
       "    .dataframe thead tr th {\n",
       "        text-align: left;\n",
       "    }\n",
       "</style>\n",
       "<table border=\"1\" class=\"dataframe\">\n",
       "  <thead>\n",
       "    <tr>\n",
       "      <th></th>\n",
       "      <th colspan=\"2\" halign=\"left\">All</th>\n",
       "      <th colspan=\"2\" halign=\"left\">In VOC</th>\n",
       "      <th colspan=\"2\" halign=\"left\">Out of VOC</th>\n",
       "    </tr>\n",
       "    <tr>\n",
       "      <th></th>\n",
       "      <th>f1 micro</th>\n",
       "      <th>f1 macro</th>\n",
       "      <th>f1 micro</th>\n",
       "      <th>f1 macro</th>\n",
       "      <th>f1 micro</th>\n",
       "      <th>f1 macro</th>\n",
       "    </tr>\n",
       "  </thead>\n",
       "  <tbody>\n",
       "    <tr>\n",
       "      <th>0</th>\n",
       "      <td>0.733562</td>\n",
       "      <td>0.219751</td>\n",
       "      <td>0.763986</td>\n",
       "      <td>0.25894</td>\n",
       "      <td>0.170103</td>\n",
       "      <td>0.093651</td>\n",
       "    </tr>\n",
       "  </tbody>\n",
       "</table>\n",
       "</div>"
      ],
      "text/plain": [
       "        All              In VOC          Out of VOC          \n",
       "   f1 micro  f1 macro  f1 micro f1 macro   f1 micro  f1 macro\n",
       "0  0.733562  0.219751  0.763986  0.25894   0.170103  0.093651"
      ]
     },
     "metadata": {},
     "output_type": "display_data"
    },
    {
     "name": "stderr",
     "output_type": "stream",
     "text": [
      "Epoch 35: 100%|██████████| 1683/1683 [05:44<00:00,  4.88batch/s, loss_decrease=1.0000032009863558]\n",
      "100%|██████████| 3787/3787 [00:40<00:00, 94.19batch/s]\n"
     ]
    },
    {
     "data": {
      "text/html": [
       "<div>\n",
       "<style scoped>\n",
       "    .dataframe tbody tr th:only-of-type {\n",
       "        vertical-align: middle;\n",
       "    }\n",
       "\n",
       "    .dataframe tbody tr th {\n",
       "        vertical-align: top;\n",
       "    }\n",
       "\n",
       "    .dataframe thead tr th {\n",
       "        text-align: left;\n",
       "    }\n",
       "</style>\n",
       "<table border=\"1\" class=\"dataframe\">\n",
       "  <thead>\n",
       "    <tr>\n",
       "      <th></th>\n",
       "      <th colspan=\"2\" halign=\"left\">All</th>\n",
       "      <th colspan=\"2\" halign=\"left\">In VOC</th>\n",
       "      <th colspan=\"2\" halign=\"left\">Out of VOC</th>\n",
       "    </tr>\n",
       "    <tr>\n",
       "      <th></th>\n",
       "      <th>f1 micro</th>\n",
       "      <th>f1 macro</th>\n",
       "      <th>f1 micro</th>\n",
       "      <th>f1 macro</th>\n",
       "      <th>f1 micro</th>\n",
       "      <th>f1 macro</th>\n",
       "    </tr>\n",
       "  </thead>\n",
       "  <tbody>\n",
       "    <tr>\n",
       "      <th>0</th>\n",
       "      <td>0.740692</td>\n",
       "      <td>0.23318</td>\n",
       "      <td>0.770387</td>\n",
       "      <td>0.271295</td>\n",
       "      <td>0.190722</td>\n",
       "      <td>0.106144</td>\n",
       "    </tr>\n",
       "  </tbody>\n",
       "</table>\n",
       "</div>"
      ],
      "text/plain": [
       "        All             In VOC           Out of VOC          \n",
       "   f1 micro f1 macro  f1 micro  f1 macro   f1 micro  f1 macro\n",
       "0  0.740692  0.23318  0.770387  0.271295   0.190722  0.106144"
      ]
     },
     "metadata": {},
     "output_type": "display_data"
    },
    {
     "name": "stderr",
     "output_type": "stream",
     "text": [
      "Epoch 36: 100%|██████████| 1683/1683 [05:51<00:00,  4.79batch/s, loss_decrease=1.0000032009863558]\n",
      "100%|██████████| 3787/3787 [00:40<00:00, 93.82batch/s] \n"
     ]
    },
    {
     "data": {
      "text/html": [
       "<div>\n",
       "<style scoped>\n",
       "    .dataframe tbody tr th:only-of-type {\n",
       "        vertical-align: middle;\n",
       "    }\n",
       "\n",
       "    .dataframe tbody tr th {\n",
       "        vertical-align: top;\n",
       "    }\n",
       "\n",
       "    .dataframe thead tr th {\n",
       "        text-align: left;\n",
       "    }\n",
       "</style>\n",
       "<table border=\"1\" class=\"dataframe\">\n",
       "  <thead>\n",
       "    <tr>\n",
       "      <th></th>\n",
       "      <th colspan=\"2\" halign=\"left\">All</th>\n",
       "      <th colspan=\"2\" halign=\"left\">In VOC</th>\n",
       "      <th colspan=\"2\" halign=\"left\">Out of VOC</th>\n",
       "    </tr>\n",
       "    <tr>\n",
       "      <th></th>\n",
       "      <th>f1 micro</th>\n",
       "      <th>f1 macro</th>\n",
       "      <th>f1 micro</th>\n",
       "      <th>f1 macro</th>\n",
       "      <th>f1 micro</th>\n",
       "      <th>f1 macro</th>\n",
       "    </tr>\n",
       "  </thead>\n",
       "  <tbody>\n",
       "    <tr>\n",
       "      <th>0</th>\n",
       "      <td>0.740692</td>\n",
       "      <td>0.237121</td>\n",
       "      <td>0.770109</td>\n",
       "      <td>0.274296</td>\n",
       "      <td>0.195876</td>\n",
       "      <td>0.11318</td>\n",
       "    </tr>\n",
       "  </tbody>\n",
       "</table>\n",
       "</div>"
      ],
      "text/plain": [
       "        All              In VOC           Out of VOC         \n",
       "   f1 micro  f1 macro  f1 micro  f1 macro   f1 micro f1 macro\n",
       "0  0.740692  0.237121  0.770109  0.274296   0.195876  0.11318"
      ]
     },
     "metadata": {},
     "output_type": "display_data"
    },
    {
     "name": "stderr",
     "output_type": "stream",
     "text": [
      "Epoch 37: 100%|██████████| 1683/1683 [05:52<00:00,  4.77batch/s, loss_decrease=1.0000032009863558]\n",
      "100%|██████████| 3787/3787 [00:39<00:00, 95.46batch/s] \n"
     ]
    },
    {
     "data": {
      "text/html": [
       "<div>\n",
       "<style scoped>\n",
       "    .dataframe tbody tr th:only-of-type {\n",
       "        vertical-align: middle;\n",
       "    }\n",
       "\n",
       "    .dataframe tbody tr th {\n",
       "        vertical-align: top;\n",
       "    }\n",
       "\n",
       "    .dataframe thead tr th {\n",
       "        text-align: left;\n",
       "    }\n",
       "</style>\n",
       "<table border=\"1\" class=\"dataframe\">\n",
       "  <thead>\n",
       "    <tr>\n",
       "      <th></th>\n",
       "      <th colspan=\"2\" halign=\"left\">All</th>\n",
       "      <th colspan=\"2\" halign=\"left\">In VOC</th>\n",
       "      <th colspan=\"2\" halign=\"left\">Out of VOC</th>\n",
       "    </tr>\n",
       "    <tr>\n",
       "      <th></th>\n",
       "      <th>f1 micro</th>\n",
       "      <th>f1 macro</th>\n",
       "      <th>f1 micro</th>\n",
       "      <th>f1 macro</th>\n",
       "      <th>f1 micro</th>\n",
       "      <th>f1 macro</th>\n",
       "    </tr>\n",
       "  </thead>\n",
       "  <tbody>\n",
       "    <tr>\n",
       "      <th>0</th>\n",
       "      <td>0.742012</td>\n",
       "      <td>0.23272</td>\n",
       "      <td>0.772335</td>\n",
       "      <td>0.273365</td>\n",
       "      <td>0.180412</td>\n",
       "      <td>0.104847</td>\n",
       "    </tr>\n",
       "  </tbody>\n",
       "</table>\n",
       "</div>"
      ],
      "text/plain": [
       "        All             In VOC           Out of VOC          \n",
       "   f1 micro f1 macro  f1 micro  f1 macro   f1 micro  f1 macro\n",
       "0  0.742012  0.23272  0.772335  0.273365   0.180412  0.104847"
      ]
     },
     "metadata": {},
     "output_type": "display_data"
    },
    {
     "name": "stderr",
     "output_type": "stream",
     "text": [
      "Epoch 38: 100%|██████████| 1683/1683 [05:55<00:00,  4.74batch/s, loss_decrease=1.0000032951333235]\n",
      "100%|██████████| 3787/3787 [00:39<00:00, 95.61batch/s] \n"
     ]
    },
    {
     "data": {
      "text/html": [
       "<div>\n",
       "<style scoped>\n",
       "    .dataframe tbody tr th:only-of-type {\n",
       "        vertical-align: middle;\n",
       "    }\n",
       "\n",
       "    .dataframe tbody tr th {\n",
       "        vertical-align: top;\n",
       "    }\n",
       "\n",
       "    .dataframe thead tr th {\n",
       "        text-align: left;\n",
       "    }\n",
       "</style>\n",
       "<table border=\"1\" class=\"dataframe\">\n",
       "  <thead>\n",
       "    <tr>\n",
       "      <th></th>\n",
       "      <th colspan=\"2\" halign=\"left\">All</th>\n",
       "      <th colspan=\"2\" halign=\"left\">In VOC</th>\n",
       "      <th colspan=\"2\" halign=\"left\">Out of VOC</th>\n",
       "    </tr>\n",
       "    <tr>\n",
       "      <th></th>\n",
       "      <th>f1 micro</th>\n",
       "      <th>f1 macro</th>\n",
       "      <th>f1 micro</th>\n",
       "      <th>f1 macro</th>\n",
       "      <th>f1 micro</th>\n",
       "      <th>f1 macro</th>\n",
       "    </tr>\n",
       "  </thead>\n",
       "  <tbody>\n",
       "    <tr>\n",
       "      <th>0</th>\n",
       "      <td>0.741484</td>\n",
       "      <td>0.226241</td>\n",
       "      <td>0.772057</td>\n",
       "      <td>0.265046</td>\n",
       "      <td>0.175258</td>\n",
       "      <td>0.096079</td>\n",
       "    </tr>\n",
       "  </tbody>\n",
       "</table>\n",
       "</div>"
      ],
      "text/plain": [
       "        All              In VOC           Out of VOC          \n",
       "   f1 micro  f1 macro  f1 micro  f1 macro   f1 micro  f1 macro\n",
       "0  0.741484  0.226241  0.772057  0.265046   0.175258  0.096079"
      ]
     },
     "metadata": {},
     "output_type": "display_data"
    },
    {
     "name": "stderr",
     "output_type": "stream",
     "text": [
      "Epoch 39: 100%|██████████| 1683/1683 [05:51<00:00,  4.79batch/s, loss_decrease=1.0000032951333235]\n",
      "100%|██████████| 3787/3787 [00:39<00:00, 94.97batch/s] \n"
     ]
    },
    {
     "data": {
      "text/html": [
       "<div>\n",
       "<style scoped>\n",
       "    .dataframe tbody tr th:only-of-type {\n",
       "        vertical-align: middle;\n",
       "    }\n",
       "\n",
       "    .dataframe tbody tr th {\n",
       "        vertical-align: top;\n",
       "    }\n",
       "\n",
       "    .dataframe thead tr th {\n",
       "        text-align: left;\n",
       "    }\n",
       "</style>\n",
       "<table border=\"1\" class=\"dataframe\">\n",
       "  <thead>\n",
       "    <tr>\n",
       "      <th></th>\n",
       "      <th colspan=\"2\" halign=\"left\">All</th>\n",
       "      <th colspan=\"2\" halign=\"left\">In VOC</th>\n",
       "      <th colspan=\"2\" halign=\"left\">Out of VOC</th>\n",
       "    </tr>\n",
       "    <tr>\n",
       "      <th></th>\n",
       "      <th>f1 micro</th>\n",
       "      <th>f1 macro</th>\n",
       "      <th>f1 micro</th>\n",
       "      <th>f1 macro</th>\n",
       "      <th>f1 micro</th>\n",
       "      <th>f1 macro</th>\n",
       "    </tr>\n",
       "  </thead>\n",
       "  <tbody>\n",
       "    <tr>\n",
       "      <th>0</th>\n",
       "      <td>0.744125</td>\n",
       "      <td>0.237321</td>\n",
       "      <td>0.77317</td>\n",
       "      <td>0.272421</td>\n",
       "      <td>0.206186</td>\n",
       "      <td>0.121081</td>\n",
       "    </tr>\n",
       "  </tbody>\n",
       "</table>\n",
       "</div>"
      ],
      "text/plain": [
       "        All             In VOC           Out of VOC          \n",
       "   f1 micro  f1 macro f1 micro  f1 macro   f1 micro  f1 macro\n",
       "0  0.744125  0.237321  0.77317  0.272421   0.206186  0.121081"
      ]
     },
     "metadata": {},
     "output_type": "display_data"
    },
    {
     "name": "stderr",
     "output_type": "stream",
     "text": [
      "Epoch 40: 100%|██████████| 1683/1683 [05:52<00:00,  4.77batch/s, loss_decrease=1.0000032951333235]\n",
      "100%|██████████| 3787/3787 [00:45<00:00, 84.10batch/s]\n"
     ]
    },
    {
     "data": {
      "text/html": [
       "<div>\n",
       "<style scoped>\n",
       "    .dataframe tbody tr th:only-of-type {\n",
       "        vertical-align: middle;\n",
       "    }\n",
       "\n",
       "    .dataframe tbody tr th {\n",
       "        vertical-align: top;\n",
       "    }\n",
       "\n",
       "    .dataframe thead tr th {\n",
       "        text-align: left;\n",
       "    }\n",
       "</style>\n",
       "<table border=\"1\" class=\"dataframe\">\n",
       "  <thead>\n",
       "    <tr>\n",
       "      <th></th>\n",
       "      <th colspan=\"2\" halign=\"left\">All</th>\n",
       "      <th colspan=\"2\" halign=\"left\">In VOC</th>\n",
       "      <th colspan=\"2\" halign=\"left\">Out of VOC</th>\n",
       "    </tr>\n",
       "    <tr>\n",
       "      <th></th>\n",
       "      <th>f1 micro</th>\n",
       "      <th>f1 macro</th>\n",
       "      <th>f1 micro</th>\n",
       "      <th>f1 macro</th>\n",
       "      <th>f1 micro</th>\n",
       "      <th>f1 macro</th>\n",
       "    </tr>\n",
       "  </thead>\n",
       "  <tbody>\n",
       "    <tr>\n",
       "      <th>0</th>\n",
       "      <td>0.742804</td>\n",
       "      <td>0.23901</td>\n",
       "      <td>0.772057</td>\n",
       "      <td>0.27682</td>\n",
       "      <td>0.201031</td>\n",
       "      <td>0.114371</td>\n",
       "    </tr>\n",
       "  </tbody>\n",
       "</table>\n",
       "</div>"
      ],
      "text/plain": [
       "        All             In VOC          Out of VOC          \n",
       "   f1 micro f1 macro  f1 micro f1 macro   f1 micro  f1 macro\n",
       "0  0.742804  0.23901  0.772057  0.27682   0.201031  0.114371"
      ]
     },
     "metadata": {},
     "output_type": "display_data"
    },
    {
     "name": "stderr",
     "output_type": "stream",
     "text": [
      "Epoch 41: 100%|██████████| 1683/1683 [05:51<00:00,  4.79batch/s, loss_decrease=1.0000032009863558]\n",
      "100%|██████████| 3787/3787 [00:42<00:00, 90.09batch/s] \n"
     ]
    },
    {
     "data": {
      "text/html": [
       "<div>\n",
       "<style scoped>\n",
       "    .dataframe tbody tr th:only-of-type {\n",
       "        vertical-align: middle;\n",
       "    }\n",
       "\n",
       "    .dataframe tbody tr th {\n",
       "        vertical-align: top;\n",
       "    }\n",
       "\n",
       "    .dataframe thead tr th {\n",
       "        text-align: left;\n",
       "    }\n",
       "</style>\n",
       "<table border=\"1\" class=\"dataframe\">\n",
       "  <thead>\n",
       "    <tr>\n",
       "      <th></th>\n",
       "      <th colspan=\"2\" halign=\"left\">All</th>\n",
       "      <th colspan=\"2\" halign=\"left\">In VOC</th>\n",
       "      <th colspan=\"2\" halign=\"left\">Out of VOC</th>\n",
       "    </tr>\n",
       "    <tr>\n",
       "      <th></th>\n",
       "      <th>f1 micro</th>\n",
       "      <th>f1 macro</th>\n",
       "      <th>f1 micro</th>\n",
       "      <th>f1 macro</th>\n",
       "      <th>f1 micro</th>\n",
       "      <th>f1 macro</th>\n",
       "    </tr>\n",
       "  </thead>\n",
       "  <tbody>\n",
       "    <tr>\n",
       "      <th>0</th>\n",
       "      <td>0.736731</td>\n",
       "      <td>0.244433</td>\n",
       "      <td>0.765377</td>\n",
       "      <td>0.282132</td>\n",
       "      <td>0.206186</td>\n",
       "      <td>0.120652</td>\n",
       "    </tr>\n",
       "  </tbody>\n",
       "</table>\n",
       "</div>"
      ],
      "text/plain": [
       "        All              In VOC           Out of VOC          \n",
       "   f1 micro  f1 macro  f1 micro  f1 macro   f1 micro  f1 macro\n",
       "0  0.736731  0.244433  0.765377  0.282132   0.206186  0.120652"
      ]
     },
     "metadata": {},
     "output_type": "display_data"
    },
    {
     "name": "stderr",
     "output_type": "stream",
     "text": [
      "Epoch 42: 100%|██████████| 1683/1683 [05:48<00:00,  4.83batch/s, loss_decrease=1.0000032009863558]\n",
      "100%|██████████| 3787/3787 [00:41<00:00, 92.16batch/s]\n"
     ]
    },
    {
     "data": {
      "text/html": [
       "<div>\n",
       "<style scoped>\n",
       "    .dataframe tbody tr th:only-of-type {\n",
       "        vertical-align: middle;\n",
       "    }\n",
       "\n",
       "    .dataframe tbody tr th {\n",
       "        vertical-align: top;\n",
       "    }\n",
       "\n",
       "    .dataframe thead tr th {\n",
       "        text-align: left;\n",
       "    }\n",
       "</style>\n",
       "<table border=\"1\" class=\"dataframe\">\n",
       "  <thead>\n",
       "    <tr>\n",
       "      <th></th>\n",
       "      <th colspan=\"2\" halign=\"left\">All</th>\n",
       "      <th colspan=\"2\" halign=\"left\">In VOC</th>\n",
       "      <th colspan=\"2\" halign=\"left\">Out of VOC</th>\n",
       "    </tr>\n",
       "    <tr>\n",
       "      <th></th>\n",
       "      <th>f1 micro</th>\n",
       "      <th>f1 macro</th>\n",
       "      <th>f1 micro</th>\n",
       "      <th>f1 macro</th>\n",
       "      <th>f1 micro</th>\n",
       "      <th>f1 macro</th>\n",
       "    </tr>\n",
       "  </thead>\n",
       "  <tbody>\n",
       "    <tr>\n",
       "      <th>0</th>\n",
       "      <td>0.739636</td>\n",
       "      <td>0.245303</td>\n",
       "      <td>0.768995</td>\n",
       "      <td>0.285158</td>\n",
       "      <td>0.195876</td>\n",
       "      <td>0.116752</td>\n",
       "    </tr>\n",
       "  </tbody>\n",
       "</table>\n",
       "</div>"
      ],
      "text/plain": [
       "        All              In VOC           Out of VOC          \n",
       "   f1 micro  f1 macro  f1 micro  f1 macro   f1 micro  f1 macro\n",
       "0  0.739636  0.245303  0.768995  0.285158   0.195876  0.116752"
      ]
     },
     "metadata": {},
     "output_type": "display_data"
    },
    {
     "name": "stderr",
     "output_type": "stream",
     "text": [
      "Epoch 43: 100%|██████████| 1683/1683 [05:49<00:00,  4.82batch/s, loss_decrease=1.0000032009863558]\n",
      "100%|██████████| 3787/3787 [00:43<00:00, 86.77batch/s] \n"
     ]
    },
    {
     "data": {
      "text/html": [
       "<div>\n",
       "<style scoped>\n",
       "    .dataframe tbody tr th:only-of-type {\n",
       "        vertical-align: middle;\n",
       "    }\n",
       "\n",
       "    .dataframe tbody tr th {\n",
       "        vertical-align: top;\n",
       "    }\n",
       "\n",
       "    .dataframe thead tr th {\n",
       "        text-align: left;\n",
       "    }\n",
       "</style>\n",
       "<table border=\"1\" class=\"dataframe\">\n",
       "  <thead>\n",
       "    <tr>\n",
       "      <th></th>\n",
       "      <th colspan=\"2\" halign=\"left\">All</th>\n",
       "      <th colspan=\"2\" halign=\"left\">In VOC</th>\n",
       "      <th colspan=\"2\" halign=\"left\">Out of VOC</th>\n",
       "    </tr>\n",
       "    <tr>\n",
       "      <th></th>\n",
       "      <th>f1 micro</th>\n",
       "      <th>f1 macro</th>\n",
       "      <th>f1 micro</th>\n",
       "      <th>f1 macro</th>\n",
       "      <th>f1 micro</th>\n",
       "      <th>f1 macro</th>\n",
       "    </tr>\n",
       "  </thead>\n",
       "  <tbody>\n",
       "    <tr>\n",
       "      <th>0</th>\n",
       "      <td>0.743332</td>\n",
       "      <td>0.23829</td>\n",
       "      <td>0.772892</td>\n",
       "      <td>0.277412</td>\n",
       "      <td>0.195876</td>\n",
       "      <td>0.113347</td>\n",
       "    </tr>\n",
       "  </tbody>\n",
       "</table>\n",
       "</div>"
      ],
      "text/plain": [
       "        All             In VOC           Out of VOC          \n",
       "   f1 micro f1 macro  f1 micro  f1 macro   f1 micro  f1 macro\n",
       "0  0.743332  0.23829  0.772892  0.277412   0.195876  0.113347"
      ]
     },
     "metadata": {},
     "output_type": "display_data"
    },
    {
     "name": "stderr",
     "output_type": "stream",
     "text": [
      "Epoch 44: 100%|██████████| 1683/1683 [05:53<00:00,  4.75batch/s, loss_decrease=1.0000033892803089]\n",
      "100%|██████████| 3787/3787 [00:38<00:00, 97.47batch/s] \n"
     ]
    },
    {
     "data": {
      "text/html": [
       "<div>\n",
       "<style scoped>\n",
       "    .dataframe tbody tr th:only-of-type {\n",
       "        vertical-align: middle;\n",
       "    }\n",
       "\n",
       "    .dataframe tbody tr th {\n",
       "        vertical-align: top;\n",
       "    }\n",
       "\n",
       "    .dataframe thead tr th {\n",
       "        text-align: left;\n",
       "    }\n",
       "</style>\n",
       "<table border=\"1\" class=\"dataframe\">\n",
       "  <thead>\n",
       "    <tr>\n",
       "      <th></th>\n",
       "      <th colspan=\"2\" halign=\"left\">All</th>\n",
       "      <th colspan=\"2\" halign=\"left\">In VOC</th>\n",
       "      <th colspan=\"2\" halign=\"left\">Out of VOC</th>\n",
       "    </tr>\n",
       "    <tr>\n",
       "      <th></th>\n",
       "      <th>f1 micro</th>\n",
       "      <th>f1 macro</th>\n",
       "      <th>f1 micro</th>\n",
       "      <th>f1 macro</th>\n",
       "      <th>f1 micro</th>\n",
       "      <th>f1 macro</th>\n",
       "    </tr>\n",
       "  </thead>\n",
       "  <tbody>\n",
       "    <tr>\n",
       "      <th>0</th>\n",
       "      <td>0.744653</td>\n",
       "      <td>0.242509</td>\n",
       "      <td>0.77484</td>\n",
       "      <td>0.282423</td>\n",
       "      <td>0.185567</td>\n",
       "      <td>0.109239</td>\n",
       "    </tr>\n",
       "  </tbody>\n",
       "</table>\n",
       "</div>"
      ],
      "text/plain": [
       "        All             In VOC           Out of VOC          \n",
       "   f1 micro  f1 macro f1 micro  f1 macro   f1 micro  f1 macro\n",
       "0  0.744653  0.242509  0.77484  0.282423   0.185567  0.109239"
      ]
     },
     "metadata": {},
     "output_type": "display_data"
    },
    {
     "name": "stderr",
     "output_type": "stream",
     "text": [
      "Epoch 45: 100%|██████████| 1683/1683 [05:51<00:00,  4.78batch/s, loss_decrease=1.0000032951333235]\n",
      "100%|██████████| 3787/3787 [00:39<00:00, 96.70batch/s]\n"
     ]
    },
    {
     "data": {
      "text/html": [
       "<div>\n",
       "<style scoped>\n",
       "    .dataframe tbody tr th:only-of-type {\n",
       "        vertical-align: middle;\n",
       "    }\n",
       "\n",
       "    .dataframe tbody tr th {\n",
       "        vertical-align: top;\n",
       "    }\n",
       "\n",
       "    .dataframe thead tr th {\n",
       "        text-align: left;\n",
       "    }\n",
       "</style>\n",
       "<table border=\"1\" class=\"dataframe\">\n",
       "  <thead>\n",
       "    <tr>\n",
       "      <th></th>\n",
       "      <th colspan=\"2\" halign=\"left\">All</th>\n",
       "      <th colspan=\"2\" halign=\"left\">In VOC</th>\n",
       "      <th colspan=\"2\" halign=\"left\">Out of VOC</th>\n",
       "    </tr>\n",
       "    <tr>\n",
       "      <th></th>\n",
       "      <th>f1 micro</th>\n",
       "      <th>f1 macro</th>\n",
       "      <th>f1 micro</th>\n",
       "      <th>f1 macro</th>\n",
       "      <th>f1 micro</th>\n",
       "      <th>f1 macro</th>\n",
       "    </tr>\n",
       "  </thead>\n",
       "  <tbody>\n",
       "    <tr>\n",
       "      <th>0</th>\n",
       "      <td>0.745181</td>\n",
       "      <td>0.25387</td>\n",
       "      <td>0.773727</td>\n",
       "      <td>0.289588</td>\n",
       "      <td>0.216495</td>\n",
       "      <td>0.126898</td>\n",
       "    </tr>\n",
       "  </tbody>\n",
       "</table>\n",
       "</div>"
      ],
      "text/plain": [
       "        All             In VOC           Out of VOC          \n",
       "   f1 micro f1 macro  f1 micro  f1 macro   f1 micro  f1 macro\n",
       "0  0.745181  0.25387  0.773727  0.289588   0.216495  0.126898"
      ]
     },
     "metadata": {},
     "output_type": "display_data"
    },
    {
     "name": "stderr",
     "output_type": "stream",
     "text": [
      "Epoch 46: 100%|██████████| 1683/1683 [05:51<00:00,  4.79batch/s, loss_decrease=1.0000033892803089]\n",
      "100%|██████████| 3787/3787 [00:40<00:00, 93.99batch/s] \n"
     ]
    },
    {
     "data": {
      "text/html": [
       "<div>\n",
       "<style scoped>\n",
       "    .dataframe tbody tr th:only-of-type {\n",
       "        vertical-align: middle;\n",
       "    }\n",
       "\n",
       "    .dataframe tbody tr th {\n",
       "        vertical-align: top;\n",
       "    }\n",
       "\n",
       "    .dataframe thead tr th {\n",
       "        text-align: left;\n",
       "    }\n",
       "</style>\n",
       "<table border=\"1\" class=\"dataframe\">\n",
       "  <thead>\n",
       "    <tr>\n",
       "      <th></th>\n",
       "      <th colspan=\"2\" halign=\"left\">All</th>\n",
       "      <th colspan=\"2\" halign=\"left\">In VOC</th>\n",
       "      <th colspan=\"2\" halign=\"left\">Out of VOC</th>\n",
       "    </tr>\n",
       "    <tr>\n",
       "      <th></th>\n",
       "      <th>f1 micro</th>\n",
       "      <th>f1 macro</th>\n",
       "      <th>f1 micro</th>\n",
       "      <th>f1 macro</th>\n",
       "      <th>f1 micro</th>\n",
       "      <th>f1 macro</th>\n",
       "    </tr>\n",
       "  </thead>\n",
       "  <tbody>\n",
       "    <tr>\n",
       "      <th>0</th>\n",
       "      <td>0.745973</td>\n",
       "      <td>0.25199</td>\n",
       "      <td>0.774562</td>\n",
       "      <td>0.283972</td>\n",
       "      <td>0.216495</td>\n",
       "      <td>0.130349</td>\n",
       "    </tr>\n",
       "  </tbody>\n",
       "</table>\n",
       "</div>"
      ],
      "text/plain": [
       "        All             In VOC           Out of VOC          \n",
       "   f1 micro f1 macro  f1 micro  f1 macro   f1 micro  f1 macro\n",
       "0  0.745973  0.25199  0.774562  0.283972   0.216495  0.130349"
      ]
     },
     "metadata": {},
     "output_type": "display_data"
    },
    {
     "name": "stderr",
     "output_type": "stream",
     "text": [
      "Epoch 47: 100%|██████████| 1683/1683 [05:46<00:00,  4.86batch/s, loss_decrease=1.0000033892803089]\n",
      "100%|██████████| 3787/3787 [00:39<00:00, 95.86batch/s] \n"
     ]
    },
    {
     "data": {
      "text/html": [
       "<div>\n",
       "<style scoped>\n",
       "    .dataframe tbody tr th:only-of-type {\n",
       "        vertical-align: middle;\n",
       "    }\n",
       "\n",
       "    .dataframe tbody tr th {\n",
       "        vertical-align: top;\n",
       "    }\n",
       "\n",
       "    .dataframe thead tr th {\n",
       "        text-align: left;\n",
       "    }\n",
       "</style>\n",
       "<table border=\"1\" class=\"dataframe\">\n",
       "  <thead>\n",
       "    <tr>\n",
       "      <th></th>\n",
       "      <th colspan=\"2\" halign=\"left\">All</th>\n",
       "      <th colspan=\"2\" halign=\"left\">In VOC</th>\n",
       "      <th colspan=\"2\" halign=\"left\">Out of VOC</th>\n",
       "    </tr>\n",
       "    <tr>\n",
       "      <th></th>\n",
       "      <th>f1 micro</th>\n",
       "      <th>f1 macro</th>\n",
       "      <th>f1 micro</th>\n",
       "      <th>f1 macro</th>\n",
       "      <th>f1 micro</th>\n",
       "      <th>f1 macro</th>\n",
       "    </tr>\n",
       "  </thead>\n",
       "  <tbody>\n",
       "    <tr>\n",
       "      <th>0</th>\n",
       "      <td>0.742012</td>\n",
       "      <td>0.242579</td>\n",
       "      <td>0.770944</td>\n",
       "      <td>0.27646</td>\n",
       "      <td>0.206186</td>\n",
       "      <td>0.125236</td>\n",
       "    </tr>\n",
       "  </tbody>\n",
       "</table>\n",
       "</div>"
      ],
      "text/plain": [
       "        All              In VOC          Out of VOC          \n",
       "   f1 micro  f1 macro  f1 micro f1 macro   f1 micro  f1 macro\n",
       "0  0.742012  0.242579  0.770944  0.27646   0.206186  0.125236"
      ]
     },
     "metadata": {},
     "output_type": "display_data"
    },
    {
     "name": "stderr",
     "output_type": "stream",
     "text": [
      "Epoch 48: 100%|██████████| 1683/1683 [05:53<00:00,  4.77batch/s, loss_decrease=1.0000032951333235]\n",
      "100%|██████████| 3787/3787 [00:39<00:00, 95.94batch/s] \n"
     ]
    },
    {
     "data": {
      "text/html": [
       "<div>\n",
       "<style scoped>\n",
       "    .dataframe tbody tr th:only-of-type {\n",
       "        vertical-align: middle;\n",
       "    }\n",
       "\n",
       "    .dataframe tbody tr th {\n",
       "        vertical-align: top;\n",
       "    }\n",
       "\n",
       "    .dataframe thead tr th {\n",
       "        text-align: left;\n",
       "    }\n",
       "</style>\n",
       "<table border=\"1\" class=\"dataframe\">\n",
       "  <thead>\n",
       "    <tr>\n",
       "      <th></th>\n",
       "      <th colspan=\"2\" halign=\"left\">All</th>\n",
       "      <th colspan=\"2\" halign=\"left\">In VOC</th>\n",
       "      <th colspan=\"2\" halign=\"left\">Out of VOC</th>\n",
       "    </tr>\n",
       "    <tr>\n",
       "      <th></th>\n",
       "      <th>f1 micro</th>\n",
       "      <th>f1 macro</th>\n",
       "      <th>f1 micro</th>\n",
       "      <th>f1 macro</th>\n",
       "      <th>f1 micro</th>\n",
       "      <th>f1 macro</th>\n",
       "    </tr>\n",
       "  </thead>\n",
       "  <tbody>\n",
       "    <tr>\n",
       "      <th>0</th>\n",
       "      <td>0.743332</td>\n",
       "      <td>0.243962</td>\n",
       "      <td>0.771222</td>\n",
       "      <td>0.277333</td>\n",
       "      <td>0.226804</td>\n",
       "      <td>0.125085</td>\n",
       "    </tr>\n",
       "  </tbody>\n",
       "</table>\n",
       "</div>"
      ],
      "text/plain": [
       "        All              In VOC           Out of VOC          \n",
       "   f1 micro  f1 macro  f1 micro  f1 macro   f1 micro  f1 macro\n",
       "0  0.743332  0.243962  0.771222  0.277333   0.226804  0.125085"
      ]
     },
     "metadata": {},
     "output_type": "display_data"
    },
    {
     "name": "stderr",
     "output_type": "stream",
     "text": [
      "Epoch 49: 100%|██████████| 1683/1683 [05:56<00:00,  4.72batch/s, loss_decrease=1.0000032951333235]\n",
      "100%|██████████| 3787/3787 [00:42<00:00, 89.49batch/s] \n"
     ]
    },
    {
     "data": {
      "text/html": [
       "<div>\n",
       "<style scoped>\n",
       "    .dataframe tbody tr th:only-of-type {\n",
       "        vertical-align: middle;\n",
       "    }\n",
       "\n",
       "    .dataframe tbody tr th {\n",
       "        vertical-align: top;\n",
       "    }\n",
       "\n",
       "    .dataframe thead tr th {\n",
       "        text-align: left;\n",
       "    }\n",
       "</style>\n",
       "<table border=\"1\" class=\"dataframe\">\n",
       "  <thead>\n",
       "    <tr>\n",
       "      <th></th>\n",
       "      <th colspan=\"2\" halign=\"left\">All</th>\n",
       "      <th colspan=\"2\" halign=\"left\">In VOC</th>\n",
       "      <th colspan=\"2\" halign=\"left\">Out of VOC</th>\n",
       "    </tr>\n",
       "    <tr>\n",
       "      <th></th>\n",
       "      <th>f1 micro</th>\n",
       "      <th>f1 macro</th>\n",
       "      <th>f1 micro</th>\n",
       "      <th>f1 macro</th>\n",
       "      <th>f1 micro</th>\n",
       "      <th>f1 macro</th>\n",
       "    </tr>\n",
       "  </thead>\n",
       "  <tbody>\n",
       "    <tr>\n",
       "      <th>0</th>\n",
       "      <td>0.7399</td>\n",
       "      <td>0.246421</td>\n",
       "      <td>0.767882</td>\n",
       "      <td>0.280983</td>\n",
       "      <td>0.221649</td>\n",
       "      <td>0.12538</td>\n",
       "    </tr>\n",
       "  </tbody>\n",
       "</table>\n",
       "</div>"
      ],
      "text/plain": [
       "       All              In VOC           Out of VOC         \n",
       "  f1 micro  f1 macro  f1 micro  f1 macro   f1 micro f1 macro\n",
       "0   0.7399  0.246421  0.767882  0.280983   0.221649  0.12538"
      ]
     },
     "metadata": {},
     "output_type": "display_data"
    },
    {
     "name": "stderr",
     "output_type": "stream",
     "text": [
      "Epoch 50: 100%|██████████| 1683/1683 [05:53<00:00,  4.77batch/s, loss_decrease=1.0000033892803089]\n",
      "100%|██████████| 3787/3787 [00:41<00:00, 91.59batch/s]\n"
     ]
    },
    {
     "data": {
      "text/html": [
       "<div>\n",
       "<style scoped>\n",
       "    .dataframe tbody tr th:only-of-type {\n",
       "        vertical-align: middle;\n",
       "    }\n",
       "\n",
       "    .dataframe tbody tr th {\n",
       "        vertical-align: top;\n",
       "    }\n",
       "\n",
       "    .dataframe thead tr th {\n",
       "        text-align: left;\n",
       "    }\n",
       "</style>\n",
       "<table border=\"1\" class=\"dataframe\">\n",
       "  <thead>\n",
       "    <tr>\n",
       "      <th></th>\n",
       "      <th colspan=\"2\" halign=\"left\">All</th>\n",
       "      <th colspan=\"2\" halign=\"left\">In VOC</th>\n",
       "      <th colspan=\"2\" halign=\"left\">Out of VOC</th>\n",
       "    </tr>\n",
       "    <tr>\n",
       "      <th></th>\n",
       "      <th>f1 micro</th>\n",
       "      <th>f1 macro</th>\n",
       "      <th>f1 micro</th>\n",
       "      <th>f1 macro</th>\n",
       "      <th>f1 micro</th>\n",
       "      <th>f1 macro</th>\n",
       "    </tr>\n",
       "  </thead>\n",
       "  <tbody>\n",
       "    <tr>\n",
       "      <th>0</th>\n",
       "      <td>0.742012</td>\n",
       "      <td>0.236418</td>\n",
       "      <td>0.770109</td>\n",
       "      <td>0.267377</td>\n",
       "      <td>0.221649</td>\n",
       "      <td>0.122034</td>\n",
       "    </tr>\n",
       "  </tbody>\n",
       "</table>\n",
       "</div>"
      ],
      "text/plain": [
       "        All              In VOC           Out of VOC          \n",
       "   f1 micro  f1 macro  f1 micro  f1 macro   f1 micro  f1 macro\n",
       "0  0.742012  0.236418  0.770109  0.267377   0.221649  0.122034"
      ]
     },
     "metadata": {},
     "output_type": "display_data"
    },
    {
     "name": "stdout",
     "output_type": "stream",
     "text": [
      "Finished Training\n"
     ]
    }
   ],
   "source": [
    "from tqdm import trange\n",
    "from tqdm import tqdm\n",
    "from sklearn.metrics import classification_report, f1_score\n",
    "from evaluator import Evaluator\n",
    "import numpy as np\n",
    "\n",
    "\n",
    "\n",
    "#Гиперпараметры\n",
    "batch_size=64\n",
    "epochs = 50\n",
    "    \n",
    "trainloader = torch.utils.data.DataLoader(ds_train, batch_size=batch_size,\n",
    "                                          shuffle=False, num_workers=0)\n",
    "testloader = torch.utils.data.DataLoader(ds_test, batch_size=1, shuffle=False)\n",
    "\n",
    "\n",
    "initial_loss = None\n",
    "\n",
    "for epoch in range(1, epochs+1):\n",
    "    #обучение модели в эпохе\n",
    "    net.train()\n",
    "    with tqdm(trainloader, unit=\"batch\") as tepoch:\n",
    "        for data in tepoch:\n",
    "\n",
    "            tepoch.set_description(f\"Epoch {epoch}\")\n",
    "\n",
    "            inputs = data['tokenized_phrases']\n",
    "            labels = data['one_hot_labels']\n",
    "\n",
    "            optimizer.zero_grad()\n",
    "            if USE_CUDA=='cuda':\n",
    "                with torch.cuda.amp.autocast():\n",
    "                    outputs = net(inputs)['output']\n",
    "                    loss = criterion(outputs, labels)\n",
    "                scaler.scale(loss).backward()\n",
    "                scaler.step(optimizer)\n",
    "                scaler.update()\n",
    "            else:\n",
    "                outputs = net(inputs)['output']\n",
    "                loss = criterion(outputs, labels)\n",
    "                loss.backward()\n",
    "                optimizer.step()\n",
    "            if initial_loss is None:\n",
    "                initial_loss = loss.item()\n",
    "            tepoch.set_postfix(loss_decrease = str(initial_loss/loss.item()))\n",
    "    #расчет точностей модели после эпохи\n",
    "    net.eval()\n",
    "    model_answers=[]\n",
    "    real_answers=[]\n",
    "    with tqdm(testloader, unit=\"batch\") as eval_process:\n",
    "        for data in eval_process:\n",
    "\n",
    "            inputs = data['tokenized_phrases']\n",
    "\n",
    "            with torch.no_grad():\n",
    "                outputs_dict = net(inputs)\n",
    "                pred_meddra_code = CV.meddra_codes[outputs_dict['output'].argmax()]\n",
    "\n",
    "\n",
    "            model_answers.append(pred_meddra_code)\n",
    "            real_answers.append(data['label_codes'][0])\n",
    "    evaluator.get_all_f1_scores(real_answers, model_answers)\n",
    "print('Finished Training')\n",
    "torch.save(net,'./Model_weights/rubert_additional_corp_%s_exp_16.pt'%epoch)"
   ]
  },
  {
   "cell_type": "markdown",
   "id": "unauthorized-classification",
   "metadata": {},
   "source": [
    "<h3>50 эпох на доп. корпусе v2 с RDRS</h3>"
   ]
  },
  {
   "cell_type": "code",
   "execution_count": 19,
   "id": "fourth-sentence",
   "metadata": {},
   "outputs": [
    {
     "name": "stderr",
     "output_type": "stream",
     "text": [
      "Epoch 1: 100%|██████████| 1617/1617 [05:37<00:00,  4.80batch/s, loss_decrease=1.000000941464448] \n",
      "100%|██████████| 3787/3787 [00:40<00:00, 93.40batch/s]\n"
     ]
    },
    {
     "data": {
      "text/html": [
       "<div>\n",
       "<style scoped>\n",
       "    .dataframe tbody tr th:only-of-type {\n",
       "        vertical-align: middle;\n",
       "    }\n",
       "\n",
       "    .dataframe tbody tr th {\n",
       "        vertical-align: top;\n",
       "    }\n",
       "\n",
       "    .dataframe thead tr th {\n",
       "        text-align: left;\n",
       "    }\n",
       "</style>\n",
       "<table border=\"1\" class=\"dataframe\">\n",
       "  <thead>\n",
       "    <tr>\n",
       "      <th></th>\n",
       "      <th colspan=\"2\" halign=\"left\">All</th>\n",
       "      <th colspan=\"2\" halign=\"left\">In VOC</th>\n",
       "      <th colspan=\"2\" halign=\"left\">Out of VOC</th>\n",
       "    </tr>\n",
       "    <tr>\n",
       "      <th></th>\n",
       "      <th>f1 micro</th>\n",
       "      <th>f1 macro</th>\n",
       "      <th>f1 micro</th>\n",
       "      <th>f1 macro</th>\n",
       "      <th>f1 micro</th>\n",
       "      <th>f1 macro</th>\n",
       "    </tr>\n",
       "  </thead>\n",
       "  <tbody>\n",
       "    <tr>\n",
       "      <th>0</th>\n",
       "      <td>0.342752</td>\n",
       "      <td>0.061241</td>\n",
       "      <td>0.35764</td>\n",
       "      <td>0.064874</td>\n",
       "      <td>0.06701</td>\n",
       "      <td>0.040636</td>\n",
       "    </tr>\n",
       "  </tbody>\n",
       "</table>\n",
       "</div>"
      ],
      "text/plain": [
       "        All             In VOC           Out of VOC          \n",
       "   f1 micro  f1 macro f1 micro  f1 macro   f1 micro  f1 macro\n",
       "0  0.342752  0.061241  0.35764  0.064874    0.06701  0.040636"
      ]
     },
     "metadata": {},
     "output_type": "display_data"
    },
    {
     "name": "stderr",
     "output_type": "stream",
     "text": [
      "Epoch 2: 100%|██████████| 1617/1617 [05:38<00:00,  4.78batch/s, loss_decrease=1.0000011297575502]\n",
      "100%|██████████| 3787/3787 [00:43<00:00, 86.97batch/s]\n"
     ]
    },
    {
     "data": {
      "text/html": [
       "<div>\n",
       "<style scoped>\n",
       "    .dataframe tbody tr th:only-of-type {\n",
       "        vertical-align: middle;\n",
       "    }\n",
       "\n",
       "    .dataframe tbody tr th {\n",
       "        vertical-align: top;\n",
       "    }\n",
       "\n",
       "    .dataframe thead tr th {\n",
       "        text-align: left;\n",
       "    }\n",
       "</style>\n",
       "<table border=\"1\" class=\"dataframe\">\n",
       "  <thead>\n",
       "    <tr>\n",
       "      <th></th>\n",
       "      <th colspan=\"2\" halign=\"left\">All</th>\n",
       "      <th colspan=\"2\" halign=\"left\">In VOC</th>\n",
       "      <th colspan=\"2\" halign=\"left\">Out of VOC</th>\n",
       "    </tr>\n",
       "    <tr>\n",
       "      <th></th>\n",
       "      <th>f1 micro</th>\n",
       "      <th>f1 macro</th>\n",
       "      <th>f1 micro</th>\n",
       "      <th>f1 macro</th>\n",
       "      <th>f1 micro</th>\n",
       "      <th>f1 macro</th>\n",
       "    </tr>\n",
       "  </thead>\n",
       "  <tbody>\n",
       "    <tr>\n",
       "      <th>0</th>\n",
       "      <td>0.494587</td>\n",
       "      <td>0.100847</td>\n",
       "      <td>0.515168</td>\n",
       "      <td>0.106615</td>\n",
       "      <td>0.113402</td>\n",
       "      <td>0.067633</td>\n",
       "    </tr>\n",
       "  </tbody>\n",
       "</table>\n",
       "</div>"
      ],
      "text/plain": [
       "        All              In VOC           Out of VOC          \n",
       "   f1 micro  f1 macro  f1 micro  f1 macro   f1 micro  f1 macro\n",
       "0  0.494587  0.100847  0.515168  0.106615   0.113402  0.067633"
      ]
     },
     "metadata": {},
     "output_type": "display_data"
    },
    {
     "name": "stderr",
     "output_type": "stream",
     "text": [
      "Epoch 3: 100%|██████████| 1617/1617 [05:34<00:00,  4.83batch/s, loss_decrease=1.000001223904128] \n",
      "100%|██████████| 3787/3787 [00:43<00:00, 87.24batch/s]\n"
     ]
    },
    {
     "data": {
      "text/html": [
       "<div>\n",
       "<style scoped>\n",
       "    .dataframe tbody tr th:only-of-type {\n",
       "        vertical-align: middle;\n",
       "    }\n",
       "\n",
       "    .dataframe tbody tr th {\n",
       "        vertical-align: top;\n",
       "    }\n",
       "\n",
       "    .dataframe thead tr th {\n",
       "        text-align: left;\n",
       "    }\n",
       "</style>\n",
       "<table border=\"1\" class=\"dataframe\">\n",
       "  <thead>\n",
       "    <tr>\n",
       "      <th></th>\n",
       "      <th colspan=\"2\" halign=\"left\">All</th>\n",
       "      <th colspan=\"2\" halign=\"left\">In VOC</th>\n",
       "      <th colspan=\"2\" halign=\"left\">Out of VOC</th>\n",
       "    </tr>\n",
       "    <tr>\n",
       "      <th></th>\n",
       "      <th>f1 micro</th>\n",
       "      <th>f1 macro</th>\n",
       "      <th>f1 micro</th>\n",
       "      <th>f1 macro</th>\n",
       "      <th>f1 micro</th>\n",
       "      <th>f1 macro</th>\n",
       "    </tr>\n",
       "  </thead>\n",
       "  <tbody>\n",
       "    <tr>\n",
       "      <th>0</th>\n",
       "      <td>0.583311</td>\n",
       "      <td>0.113348</td>\n",
       "      <td>0.60924</td>\n",
       "      <td>0.126587</td>\n",
       "      <td>0.103093</td>\n",
       "      <td>0.060301</td>\n",
       "    </tr>\n",
       "  </tbody>\n",
       "</table>\n",
       "</div>"
      ],
      "text/plain": [
       "        All             In VOC           Out of VOC          \n",
       "   f1 micro  f1 macro f1 micro  f1 macro   f1 micro  f1 macro\n",
       "0  0.583311  0.113348  0.60924  0.126587   0.103093  0.060301"
      ]
     },
     "metadata": {},
     "output_type": "display_data"
    },
    {
     "name": "stderr",
     "output_type": "stream",
     "text": [
      "Epoch 4: 100%|██████████| 1617/1617 [05:34<00:00,  4.84batch/s, loss_decrease=1.0000013180507235]\n",
      "100%|██████████| 3787/3787 [00:40<00:00, 93.28batch/s]\n"
     ]
    },
    {
     "data": {
      "text/html": [
       "<div>\n",
       "<style scoped>\n",
       "    .dataframe tbody tr th:only-of-type {\n",
       "        vertical-align: middle;\n",
       "    }\n",
       "\n",
       "    .dataframe tbody tr th {\n",
       "        vertical-align: top;\n",
       "    }\n",
       "\n",
       "    .dataframe thead tr th {\n",
       "        text-align: left;\n",
       "    }\n",
       "</style>\n",
       "<table border=\"1\" class=\"dataframe\">\n",
       "  <thead>\n",
       "    <tr>\n",
       "      <th></th>\n",
       "      <th colspan=\"2\" halign=\"left\">All</th>\n",
       "      <th colspan=\"2\" halign=\"left\">In VOC</th>\n",
       "      <th colspan=\"2\" halign=\"left\">Out of VOC</th>\n",
       "    </tr>\n",
       "    <tr>\n",
       "      <th></th>\n",
       "      <th>f1 micro</th>\n",
       "      <th>f1 macro</th>\n",
       "      <th>f1 micro</th>\n",
       "      <th>f1 macro</th>\n",
       "      <th>f1 micro</th>\n",
       "      <th>f1 macro</th>\n",
       "    </tr>\n",
       "  </thead>\n",
       "  <tbody>\n",
       "    <tr>\n",
       "      <th>0</th>\n",
       "      <td>0.617111</td>\n",
       "      <td>0.126074</td>\n",
       "      <td>0.644865</td>\n",
       "      <td>0.142645</td>\n",
       "      <td>0.103093</td>\n",
       "      <td>0.061707</td>\n",
       "    </tr>\n",
       "  </tbody>\n",
       "</table>\n",
       "</div>"
      ],
      "text/plain": [
       "        All              In VOC           Out of VOC          \n",
       "   f1 micro  f1 macro  f1 micro  f1 macro   f1 micro  f1 macro\n",
       "0  0.617111  0.126074  0.644865  0.142645   0.103093  0.061707"
      ]
     },
     "metadata": {},
     "output_type": "display_data"
    },
    {
     "name": "stderr",
     "output_type": "stream",
     "text": [
      "Epoch 5: 100%|██████████| 1617/1617 [05:32<00:00,  4.86batch/s, loss_decrease=1.0000013180507235]\n",
      "100%|██████████| 3787/3787 [00:41<00:00, 90.79batch/s]\n"
     ]
    },
    {
     "data": {
      "text/html": [
       "<div>\n",
       "<style scoped>\n",
       "    .dataframe tbody tr th:only-of-type {\n",
       "        vertical-align: middle;\n",
       "    }\n",
       "\n",
       "    .dataframe tbody tr th {\n",
       "        vertical-align: top;\n",
       "    }\n",
       "\n",
       "    .dataframe thead tr th {\n",
       "        text-align: left;\n",
       "    }\n",
       "</style>\n",
       "<table border=\"1\" class=\"dataframe\">\n",
       "  <thead>\n",
       "    <tr>\n",
       "      <th></th>\n",
       "      <th colspan=\"2\" halign=\"left\">All</th>\n",
       "      <th colspan=\"2\" halign=\"left\">In VOC</th>\n",
       "      <th colspan=\"2\" halign=\"left\">Out of VOC</th>\n",
       "    </tr>\n",
       "    <tr>\n",
       "      <th></th>\n",
       "      <th>f1 micro</th>\n",
       "      <th>f1 macro</th>\n",
       "      <th>f1 micro</th>\n",
       "      <th>f1 macro</th>\n",
       "      <th>f1 micro</th>\n",
       "      <th>f1 macro</th>\n",
       "    </tr>\n",
       "  </thead>\n",
       "  <tbody>\n",
       "    <tr>\n",
       "      <th>0</th>\n",
       "      <td>0.634539</td>\n",
       "      <td>0.134528</td>\n",
       "      <td>0.664904</td>\n",
       "      <td>0.161613</td>\n",
       "      <td>0.072165</td>\n",
       "      <td>0.041792</td>\n",
       "    </tr>\n",
       "  </tbody>\n",
       "</table>\n",
       "</div>"
      ],
      "text/plain": [
       "        All              In VOC           Out of VOC          \n",
       "   f1 micro  f1 macro  f1 micro  f1 macro   f1 micro  f1 macro\n",
       "0  0.634539  0.134528  0.664904  0.161613   0.072165  0.041792"
      ]
     },
     "metadata": {},
     "output_type": "display_data"
    },
    {
     "name": "stderr",
     "output_type": "stream",
     "text": [
      "Epoch 6: 100%|██████████| 1617/1617 [05:37<00:00,  4.79batch/s, loss_decrease=1.0000015063439676]\n",
      "100%|██████████| 3787/3787 [00:40<00:00, 92.41batch/s]\n"
     ]
    },
    {
     "data": {
      "text/html": [
       "<div>\n",
       "<style scoped>\n",
       "    .dataframe tbody tr th:only-of-type {\n",
       "        vertical-align: middle;\n",
       "    }\n",
       "\n",
       "    .dataframe tbody tr th {\n",
       "        vertical-align: top;\n",
       "    }\n",
       "\n",
       "    .dataframe thead tr th {\n",
       "        text-align: left;\n",
       "    }\n",
       "</style>\n",
       "<table border=\"1\" class=\"dataframe\">\n",
       "  <thead>\n",
       "    <tr>\n",
       "      <th></th>\n",
       "      <th colspan=\"2\" halign=\"left\">All</th>\n",
       "      <th colspan=\"2\" halign=\"left\">In VOC</th>\n",
       "      <th colspan=\"2\" halign=\"left\">Out of VOC</th>\n",
       "    </tr>\n",
       "    <tr>\n",
       "      <th></th>\n",
       "      <th>f1 micro</th>\n",
       "      <th>f1 macro</th>\n",
       "      <th>f1 micro</th>\n",
       "      <th>f1 macro</th>\n",
       "      <th>f1 micro</th>\n",
       "      <th>f1 macro</th>\n",
       "    </tr>\n",
       "  </thead>\n",
       "  <tbody>\n",
       "    <tr>\n",
       "      <th>0</th>\n",
       "      <td>0.652759</td>\n",
       "      <td>0.148826</td>\n",
       "      <td>0.683273</td>\n",
       "      <td>0.178561</td>\n",
       "      <td>0.087629</td>\n",
       "      <td>0.049006</td>\n",
       "    </tr>\n",
       "  </tbody>\n",
       "</table>\n",
       "</div>"
      ],
      "text/plain": [
       "        All              In VOC           Out of VOC          \n",
       "   f1 micro  f1 macro  f1 micro  f1 macro   f1 micro  f1 macro\n",
       "0  0.652759  0.148826  0.683273  0.178561   0.087629  0.049006"
      ]
     },
     "metadata": {},
     "output_type": "display_data"
    },
    {
     "name": "stderr",
     "output_type": "stream",
     "text": [
      "Epoch 7: 100%|██████████| 1617/1617 [05:37<00:00,  4.79batch/s, loss_decrease=1.0000016946372827]\n",
      "100%|██████████| 3787/3787 [00:44<00:00, 85.13batch/s]\n"
     ]
    },
    {
     "data": {
      "text/html": [
       "<div>\n",
       "<style scoped>\n",
       "    .dataframe tbody tr th:only-of-type {\n",
       "        vertical-align: middle;\n",
       "    }\n",
       "\n",
       "    .dataframe tbody tr th {\n",
       "        vertical-align: top;\n",
       "    }\n",
       "\n",
       "    .dataframe thead tr th {\n",
       "        text-align: left;\n",
       "    }\n",
       "</style>\n",
       "<table border=\"1\" class=\"dataframe\">\n",
       "  <thead>\n",
       "    <tr>\n",
       "      <th></th>\n",
       "      <th colspan=\"2\" halign=\"left\">All</th>\n",
       "      <th colspan=\"2\" halign=\"left\">In VOC</th>\n",
       "      <th colspan=\"2\" halign=\"left\">Out of VOC</th>\n",
       "    </tr>\n",
       "    <tr>\n",
       "      <th></th>\n",
       "      <th>f1 micro</th>\n",
       "      <th>f1 macro</th>\n",
       "      <th>f1 micro</th>\n",
       "      <th>f1 macro</th>\n",
       "      <th>f1 micro</th>\n",
       "      <th>f1 macro</th>\n",
       "    </tr>\n",
       "  </thead>\n",
       "  <tbody>\n",
       "    <tr>\n",
       "      <th>0</th>\n",
       "      <td>0.660945</td>\n",
       "      <td>0.160118</td>\n",
       "      <td>0.690788</td>\n",
       "      <td>0.189451</td>\n",
       "      <td>0.108247</td>\n",
       "      <td>0.058713</td>\n",
       "    </tr>\n",
       "  </tbody>\n",
       "</table>\n",
       "</div>"
      ],
      "text/plain": [
       "        All              In VOC           Out of VOC          \n",
       "   f1 micro  f1 macro  f1 micro  f1 macro   f1 micro  f1 macro\n",
       "0  0.660945  0.160118  0.690788  0.189451   0.108247  0.058713"
      ]
     },
     "metadata": {},
     "output_type": "display_data"
    },
    {
     "name": "stderr",
     "output_type": "stream",
     "text": [
      "Epoch 8: 100%|██████████| 1617/1617 [05:36<00:00,  4.81batch/s, loss_decrease=1.0000016946372827]\n",
      "100%|██████████| 3787/3787 [00:40<00:00, 92.71batch/s]\n"
     ]
    },
    {
     "data": {
      "text/html": [
       "<div>\n",
       "<style scoped>\n",
       "    .dataframe tbody tr th:only-of-type {\n",
       "        vertical-align: middle;\n",
       "    }\n",
       "\n",
       "    .dataframe tbody tr th {\n",
       "        vertical-align: top;\n",
       "    }\n",
       "\n",
       "    .dataframe thead tr th {\n",
       "        text-align: left;\n",
       "    }\n",
       "</style>\n",
       "<table border=\"1\" class=\"dataframe\">\n",
       "  <thead>\n",
       "    <tr>\n",
       "      <th></th>\n",
       "      <th colspan=\"2\" halign=\"left\">All</th>\n",
       "      <th colspan=\"2\" halign=\"left\">In VOC</th>\n",
       "      <th colspan=\"2\" halign=\"left\">Out of VOC</th>\n",
       "    </tr>\n",
       "    <tr>\n",
       "      <th></th>\n",
       "      <th>f1 micro</th>\n",
       "      <th>f1 macro</th>\n",
       "      <th>f1 micro</th>\n",
       "      <th>f1 macro</th>\n",
       "      <th>f1 micro</th>\n",
       "      <th>f1 macro</th>\n",
       "    </tr>\n",
       "  </thead>\n",
       "  <tbody>\n",
       "    <tr>\n",
       "      <th>0</th>\n",
       "      <td>0.664642</td>\n",
       "      <td>0.15239</td>\n",
       "      <td>0.695241</td>\n",
       "      <td>0.180466</td>\n",
       "      <td>0.097938</td>\n",
       "      <td>0.057177</td>\n",
       "    </tr>\n",
       "  </tbody>\n",
       "</table>\n",
       "</div>"
      ],
      "text/plain": [
       "        All             In VOC           Out of VOC          \n",
       "   f1 micro f1 macro  f1 micro  f1 macro   f1 micro  f1 macro\n",
       "0  0.664642  0.15239  0.695241  0.180466   0.097938  0.057177"
      ]
     },
     "metadata": {},
     "output_type": "display_data"
    },
    {
     "name": "stderr",
     "output_type": "stream",
     "text": [
      "Epoch 9: 100%|██████████| 1617/1617 [05:34<00:00,  4.83batch/s, loss_decrease=1.0000016946372827]\n",
      "100%|██████████| 3787/3787 [00:40<00:00, 94.42batch/s]\n"
     ]
    },
    {
     "data": {
      "text/html": [
       "<div>\n",
       "<style scoped>\n",
       "    .dataframe tbody tr th:only-of-type {\n",
       "        vertical-align: middle;\n",
       "    }\n",
       "\n",
       "    .dataframe tbody tr th {\n",
       "        vertical-align: top;\n",
       "    }\n",
       "\n",
       "    .dataframe thead tr th {\n",
       "        text-align: left;\n",
       "    }\n",
       "</style>\n",
       "<table border=\"1\" class=\"dataframe\">\n",
       "  <thead>\n",
       "    <tr>\n",
       "      <th></th>\n",
       "      <th colspan=\"2\" halign=\"left\">All</th>\n",
       "      <th colspan=\"2\" halign=\"left\">In VOC</th>\n",
       "      <th colspan=\"2\" halign=\"left\">Out of VOC</th>\n",
       "    </tr>\n",
       "    <tr>\n",
       "      <th></th>\n",
       "      <th>f1 micro</th>\n",
       "      <th>f1 macro</th>\n",
       "      <th>f1 micro</th>\n",
       "      <th>f1 macro</th>\n",
       "      <th>f1 micro</th>\n",
       "      <th>f1 macro</th>\n",
       "    </tr>\n",
       "  </thead>\n",
       "  <tbody>\n",
       "    <tr>\n",
       "      <th>0</th>\n",
       "      <td>0.678637</td>\n",
       "      <td>0.164178</td>\n",
       "      <td>0.709157</td>\n",
       "      <td>0.193287</td>\n",
       "      <td>0.113402</td>\n",
       "      <td>0.060922</td>\n",
       "    </tr>\n",
       "  </tbody>\n",
       "</table>\n",
       "</div>"
      ],
      "text/plain": [
       "        All              In VOC           Out of VOC          \n",
       "   f1 micro  f1 macro  f1 micro  f1 macro   f1 micro  f1 macro\n",
       "0  0.678637  0.164178  0.709157  0.193287   0.113402  0.060922"
      ]
     },
     "metadata": {},
     "output_type": "display_data"
    },
    {
     "name": "stderr",
     "output_type": "stream",
     "text": [
      "Epoch 10: 100%|██████████| 1617/1617 [05:36<00:00,  4.80batch/s, loss_decrease=1.0000016946372827]\n",
      "100%|██████████| 3787/3787 [00:40<00:00, 94.58batch/s]\n"
     ]
    },
    {
     "data": {
      "text/html": [
       "<div>\n",
       "<style scoped>\n",
       "    .dataframe tbody tr th:only-of-type {\n",
       "        vertical-align: middle;\n",
       "    }\n",
       "\n",
       "    .dataframe tbody tr th {\n",
       "        vertical-align: top;\n",
       "    }\n",
       "\n",
       "    .dataframe thead tr th {\n",
       "        text-align: left;\n",
       "    }\n",
       "</style>\n",
       "<table border=\"1\" class=\"dataframe\">\n",
       "  <thead>\n",
       "    <tr>\n",
       "      <th></th>\n",
       "      <th colspan=\"2\" halign=\"left\">All</th>\n",
       "      <th colspan=\"2\" halign=\"left\">In VOC</th>\n",
       "      <th colspan=\"2\" halign=\"left\">Out of VOC</th>\n",
       "    </tr>\n",
       "    <tr>\n",
       "      <th></th>\n",
       "      <th>f1 micro</th>\n",
       "      <th>f1 macro</th>\n",
       "      <th>f1 micro</th>\n",
       "      <th>f1 macro</th>\n",
       "      <th>f1 micro</th>\n",
       "      <th>f1 macro</th>\n",
       "    </tr>\n",
       "  </thead>\n",
       "  <tbody>\n",
       "    <tr>\n",
       "      <th>0</th>\n",
       "      <td>0.688936</td>\n",
       "      <td>0.16503</td>\n",
       "      <td>0.719176</td>\n",
       "      <td>0.188379</td>\n",
       "      <td>0.128866</td>\n",
       "      <td>0.072015</td>\n",
       "    </tr>\n",
       "  </tbody>\n",
       "</table>\n",
       "</div>"
      ],
      "text/plain": [
       "        All             In VOC           Out of VOC          \n",
       "   f1 micro f1 macro  f1 micro  f1 macro   f1 micro  f1 macro\n",
       "0  0.688936  0.16503  0.719176  0.188379   0.128866  0.072015"
      ]
     },
     "metadata": {},
     "output_type": "display_data"
    },
    {
     "name": "stderr",
     "output_type": "stream",
     "text": [
      "Epoch 11: 100%|██████████| 1617/1617 [05:34<00:00,  4.84batch/s, loss_decrease=1.0000019770773882]\n",
      "100%|██████████| 3787/3787 [00:47<00:00, 80.29batch/s]\n"
     ]
    },
    {
     "data": {
      "text/html": [
       "<div>\n",
       "<style scoped>\n",
       "    .dataframe tbody tr th:only-of-type {\n",
       "        vertical-align: middle;\n",
       "    }\n",
       "\n",
       "    .dataframe tbody tr th {\n",
       "        vertical-align: top;\n",
       "    }\n",
       "\n",
       "    .dataframe thead tr th {\n",
       "        text-align: left;\n",
       "    }\n",
       "</style>\n",
       "<table border=\"1\" class=\"dataframe\">\n",
       "  <thead>\n",
       "    <tr>\n",
       "      <th></th>\n",
       "      <th colspan=\"2\" halign=\"left\">All</th>\n",
       "      <th colspan=\"2\" halign=\"left\">In VOC</th>\n",
       "      <th colspan=\"2\" halign=\"left\">Out of VOC</th>\n",
       "    </tr>\n",
       "    <tr>\n",
       "      <th></th>\n",
       "      <th>f1 micro</th>\n",
       "      <th>f1 macro</th>\n",
       "      <th>f1 micro</th>\n",
       "      <th>f1 macro</th>\n",
       "      <th>f1 micro</th>\n",
       "      <th>f1 macro</th>\n",
       "    </tr>\n",
       "  </thead>\n",
       "  <tbody>\n",
       "    <tr>\n",
       "      <th>0</th>\n",
       "      <td>0.689992</td>\n",
       "      <td>0.164089</td>\n",
       "      <td>0.721124</td>\n",
       "      <td>0.194643</td>\n",
       "      <td>0.113402</td>\n",
       "      <td>0.061119</td>\n",
       "    </tr>\n",
       "  </tbody>\n",
       "</table>\n",
       "</div>"
      ],
      "text/plain": [
       "        All              In VOC           Out of VOC          \n",
       "   f1 micro  f1 macro  f1 micro  f1 macro   f1 micro  f1 macro\n",
       "0  0.689992  0.164089  0.721124  0.194643   0.113402  0.061119"
      ]
     },
     "metadata": {},
     "output_type": "display_data"
    },
    {
     "name": "stderr",
     "output_type": "stream",
     "text": [
      "Epoch 12: 100%|██████████| 1617/1617 [05:37<00:00,  4.79batch/s, loss_decrease=1.0000020712241255]\n",
      "100%|██████████| 3787/3787 [00:40<00:00, 93.99batch/s]\n"
     ]
    },
    {
     "data": {
      "text/html": [
       "<div>\n",
       "<style scoped>\n",
       "    .dataframe tbody tr th:only-of-type {\n",
       "        vertical-align: middle;\n",
       "    }\n",
       "\n",
       "    .dataframe tbody tr th {\n",
       "        vertical-align: top;\n",
       "    }\n",
       "\n",
       "    .dataframe thead tr th {\n",
       "        text-align: left;\n",
       "    }\n",
       "</style>\n",
       "<table border=\"1\" class=\"dataframe\">\n",
       "  <thead>\n",
       "    <tr>\n",
       "      <th></th>\n",
       "      <th colspan=\"2\" halign=\"left\">All</th>\n",
       "      <th colspan=\"2\" halign=\"left\">In VOC</th>\n",
       "      <th colspan=\"2\" halign=\"left\">Out of VOC</th>\n",
       "    </tr>\n",
       "    <tr>\n",
       "      <th></th>\n",
       "      <th>f1 micro</th>\n",
       "      <th>f1 macro</th>\n",
       "      <th>f1 micro</th>\n",
       "      <th>f1 macro</th>\n",
       "      <th>f1 micro</th>\n",
       "      <th>f1 macro</th>\n",
       "    </tr>\n",
       "  </thead>\n",
       "  <tbody>\n",
       "    <tr>\n",
       "      <th>0</th>\n",
       "      <td>0.695009</td>\n",
       "      <td>0.171125</td>\n",
       "      <td>0.726134</td>\n",
       "      <td>0.200515</td>\n",
       "      <td>0.118557</td>\n",
       "      <td>0.066438</td>\n",
       "    </tr>\n",
       "  </tbody>\n",
       "</table>\n",
       "</div>"
      ],
      "text/plain": [
       "        All              In VOC           Out of VOC          \n",
       "   f1 micro  f1 macro  f1 micro  f1 macro   f1 micro  f1 macro\n",
       "0  0.695009  0.171125  0.726134  0.200515   0.118557  0.066438"
      ]
     },
     "metadata": {},
     "output_type": "display_data"
    },
    {
     "name": "stderr",
     "output_type": "stream",
     "text": [
      "Epoch 13: 100%|██████████| 1617/1617 [05:34<00:00,  4.83batch/s, loss_decrease=1.0000020712241255]\n",
      "100%|██████████| 3787/3787 [00:40<00:00, 93.93batch/s]\n"
     ]
    },
    {
     "data": {
      "text/html": [
       "<div>\n",
       "<style scoped>\n",
       "    .dataframe tbody tr th:only-of-type {\n",
       "        vertical-align: middle;\n",
       "    }\n",
       "\n",
       "    .dataframe tbody tr th {\n",
       "        vertical-align: top;\n",
       "    }\n",
       "\n",
       "    .dataframe thead tr th {\n",
       "        text-align: left;\n",
       "    }\n",
       "</style>\n",
       "<table border=\"1\" class=\"dataframe\">\n",
       "  <thead>\n",
       "    <tr>\n",
       "      <th></th>\n",
       "      <th colspan=\"2\" halign=\"left\">All</th>\n",
       "      <th colspan=\"2\" halign=\"left\">In VOC</th>\n",
       "      <th colspan=\"2\" halign=\"left\">Out of VOC</th>\n",
       "    </tr>\n",
       "    <tr>\n",
       "      <th></th>\n",
       "      <th>f1 micro</th>\n",
       "      <th>f1 macro</th>\n",
       "      <th>f1 micro</th>\n",
       "      <th>f1 macro</th>\n",
       "      <th>f1 micro</th>\n",
       "      <th>f1 macro</th>\n",
       "    </tr>\n",
       "  </thead>\n",
       "  <tbody>\n",
       "    <tr>\n",
       "      <th>0</th>\n",
       "      <td>0.701875</td>\n",
       "      <td>0.177148</td>\n",
       "      <td>0.73337</td>\n",
       "      <td>0.208875</td>\n",
       "      <td>0.118557</td>\n",
       "      <td>0.069781</td>\n",
       "    </tr>\n",
       "  </tbody>\n",
       "</table>\n",
       "</div>"
      ],
      "text/plain": [
       "        All             In VOC           Out of VOC          \n",
       "   f1 micro  f1 macro f1 micro  f1 macro   f1 micro  f1 macro\n",
       "0  0.701875  0.177148  0.73337  0.208875   0.118557  0.069781"
      ]
     },
     "metadata": {},
     "output_type": "display_data"
    },
    {
     "name": "stderr",
     "output_type": "stream",
     "text": [
      "Epoch 14: 100%|██████████| 1617/1617 [05:37<00:00,  4.80batch/s, loss_decrease=1.0000021653708804]\n",
      "100%|██████████| 3787/3787 [00:40<00:00, 93.78batch/s]\n"
     ]
    },
    {
     "data": {
      "text/html": [
       "<div>\n",
       "<style scoped>\n",
       "    .dataframe tbody tr th:only-of-type {\n",
       "        vertical-align: middle;\n",
       "    }\n",
       "\n",
       "    .dataframe tbody tr th {\n",
       "        vertical-align: top;\n",
       "    }\n",
       "\n",
       "    .dataframe thead tr th {\n",
       "        text-align: left;\n",
       "    }\n",
       "</style>\n",
       "<table border=\"1\" class=\"dataframe\">\n",
       "  <thead>\n",
       "    <tr>\n",
       "      <th></th>\n",
       "      <th colspan=\"2\" halign=\"left\">All</th>\n",
       "      <th colspan=\"2\" halign=\"left\">In VOC</th>\n",
       "      <th colspan=\"2\" halign=\"left\">Out of VOC</th>\n",
       "    </tr>\n",
       "    <tr>\n",
       "      <th></th>\n",
       "      <th>f1 micro</th>\n",
       "      <th>f1 macro</th>\n",
       "      <th>f1 micro</th>\n",
       "      <th>f1 macro</th>\n",
       "      <th>f1 micro</th>\n",
       "      <th>f1 macro</th>\n",
       "    </tr>\n",
       "  </thead>\n",
       "  <tbody>\n",
       "    <tr>\n",
       "      <th>0</th>\n",
       "      <td>0.69765</td>\n",
       "      <td>0.174238</td>\n",
       "      <td>0.730866</td>\n",
       "      <td>0.213333</td>\n",
       "      <td>0.082474</td>\n",
       "      <td>0.050401</td>\n",
       "    </tr>\n",
       "  </tbody>\n",
       "</table>\n",
       "</div>"
      ],
      "text/plain": [
       "       All              In VOC           Out of VOC          \n",
       "  f1 micro  f1 macro  f1 micro  f1 macro   f1 micro  f1 macro\n",
       "0  0.69765  0.174238  0.730866  0.213333   0.082474  0.050401"
      ]
     },
     "metadata": {},
     "output_type": "display_data"
    },
    {
     "name": "stderr",
     "output_type": "stream",
     "text": [
      "Epoch 15: 100%|██████████| 1617/1617 [05:37<00:00,  4.80batch/s, loss_decrease=1.0000021653708804]\n",
      "100%|██████████| 3787/3787 [00:40<00:00, 94.15batch/s]\n"
     ]
    },
    {
     "data": {
      "text/html": [
       "<div>\n",
       "<style scoped>\n",
       "    .dataframe tbody tr th:only-of-type {\n",
       "        vertical-align: middle;\n",
       "    }\n",
       "\n",
       "    .dataframe tbody tr th {\n",
       "        vertical-align: top;\n",
       "    }\n",
       "\n",
       "    .dataframe thead tr th {\n",
       "        text-align: left;\n",
       "    }\n",
       "</style>\n",
       "<table border=\"1\" class=\"dataframe\">\n",
       "  <thead>\n",
       "    <tr>\n",
       "      <th></th>\n",
       "      <th colspan=\"2\" halign=\"left\">All</th>\n",
       "      <th colspan=\"2\" halign=\"left\">In VOC</th>\n",
       "      <th colspan=\"2\" halign=\"left\">Out of VOC</th>\n",
       "    </tr>\n",
       "    <tr>\n",
       "      <th></th>\n",
       "      <th>f1 micro</th>\n",
       "      <th>f1 macro</th>\n",
       "      <th>f1 micro</th>\n",
       "      <th>f1 macro</th>\n",
       "      <th>f1 micro</th>\n",
       "      <th>f1 macro</th>\n",
       "    </tr>\n",
       "  </thead>\n",
       "  <tbody>\n",
       "    <tr>\n",
       "      <th>0</th>\n",
       "      <td>0.709533</td>\n",
       "      <td>0.190111</td>\n",
       "      <td>0.740328</td>\n",
       "      <td>0.228506</td>\n",
       "      <td>0.139175</td>\n",
       "      <td>0.074537</td>\n",
       "    </tr>\n",
       "  </tbody>\n",
       "</table>\n",
       "</div>"
      ],
      "text/plain": [
       "        All              In VOC           Out of VOC          \n",
       "   f1 micro  f1 macro  f1 micro  f1 macro   f1 micro  f1 macro\n",
       "0  0.709533  0.190111  0.740328  0.228506   0.139175  0.074537"
      ]
     },
     "metadata": {},
     "output_type": "display_data"
    },
    {
     "name": "stderr",
     "output_type": "stream",
     "text": [
      "Epoch 16: 100%|██████████| 1617/1617 [05:36<00:00,  4.81batch/s, loss_decrease=1.0000022595176532]\n",
      "100%|██████████| 3787/3787 [00:45<00:00, 83.50batch/s]\n"
     ]
    },
    {
     "data": {
      "text/html": [
       "<div>\n",
       "<style scoped>\n",
       "    .dataframe tbody tr th:only-of-type {\n",
       "        vertical-align: middle;\n",
       "    }\n",
       "\n",
       "    .dataframe tbody tr th {\n",
       "        vertical-align: top;\n",
       "    }\n",
       "\n",
       "    .dataframe thead tr th {\n",
       "        text-align: left;\n",
       "    }\n",
       "</style>\n",
       "<table border=\"1\" class=\"dataframe\">\n",
       "  <thead>\n",
       "    <tr>\n",
       "      <th></th>\n",
       "      <th colspan=\"2\" halign=\"left\">All</th>\n",
       "      <th colspan=\"2\" halign=\"left\">In VOC</th>\n",
       "      <th colspan=\"2\" halign=\"left\">Out of VOC</th>\n",
       "    </tr>\n",
       "    <tr>\n",
       "      <th></th>\n",
       "      <th>f1 micro</th>\n",
       "      <th>f1 macro</th>\n",
       "      <th>f1 micro</th>\n",
       "      <th>f1 macro</th>\n",
       "      <th>f1 micro</th>\n",
       "      <th>f1 macro</th>\n",
       "    </tr>\n",
       "  </thead>\n",
       "  <tbody>\n",
       "    <tr>\n",
       "      <th>0</th>\n",
       "      <td>0.719039</td>\n",
       "      <td>0.194794</td>\n",
       "      <td>0.75007</td>\n",
       "      <td>0.229721</td>\n",
       "      <td>0.14433</td>\n",
       "      <td>0.080821</td>\n",
       "    </tr>\n",
       "  </tbody>\n",
       "</table>\n",
       "</div>"
      ],
      "text/plain": [
       "        All             In VOC           Out of VOC          \n",
       "   f1 micro  f1 macro f1 micro  f1 macro   f1 micro  f1 macro\n",
       "0  0.719039  0.194794  0.75007  0.229721    0.14433  0.080821"
      ]
     },
     "metadata": {},
     "output_type": "display_data"
    },
    {
     "name": "stderr",
     "output_type": "stream",
     "text": [
      "Epoch 17: 100%|██████████| 1617/1617 [05:27<00:00,  4.94batch/s, loss_decrease=1.0000022595176532]\n",
      "100%|██████████| 3787/3787 [00:42<00:00, 88.17batch/s]\n"
     ]
    },
    {
     "data": {
      "text/html": [
       "<div>\n",
       "<style scoped>\n",
       "    .dataframe tbody tr th:only-of-type {\n",
       "        vertical-align: middle;\n",
       "    }\n",
       "\n",
       "    .dataframe tbody tr th {\n",
       "        vertical-align: top;\n",
       "    }\n",
       "\n",
       "    .dataframe thead tr th {\n",
       "        text-align: left;\n",
       "    }\n",
       "</style>\n",
       "<table border=\"1\" class=\"dataframe\">\n",
       "  <thead>\n",
       "    <tr>\n",
       "      <th></th>\n",
       "      <th colspan=\"2\" halign=\"left\">All</th>\n",
       "      <th colspan=\"2\" halign=\"left\">In VOC</th>\n",
       "      <th colspan=\"2\" halign=\"left\">Out of VOC</th>\n",
       "    </tr>\n",
       "    <tr>\n",
       "      <th></th>\n",
       "      <th>f1 micro</th>\n",
       "      <th>f1 macro</th>\n",
       "      <th>f1 micro</th>\n",
       "      <th>f1 macro</th>\n",
       "      <th>f1 micro</th>\n",
       "      <th>f1 macro</th>\n",
       "    </tr>\n",
       "  </thead>\n",
       "  <tbody>\n",
       "    <tr>\n",
       "      <th>0</th>\n",
       "      <td>0.716662</td>\n",
       "      <td>0.194472</td>\n",
       "      <td>0.745616</td>\n",
       "      <td>0.221627</td>\n",
       "      <td>0.180412</td>\n",
       "      <td>0.098075</td>\n",
       "    </tr>\n",
       "  </tbody>\n",
       "</table>\n",
       "</div>"
      ],
      "text/plain": [
       "        All              In VOC           Out of VOC          \n",
       "   f1 micro  f1 macro  f1 micro  f1 macro   f1 micro  f1 macro\n",
       "0  0.716662  0.194472  0.745616  0.221627   0.180412  0.098075"
      ]
     },
     "metadata": {},
     "output_type": "display_data"
    },
    {
     "name": "stderr",
     "output_type": "stream",
     "text": [
      "Epoch 18: 100%|██████████| 1617/1617 [05:36<00:00,  4.80batch/s, loss_decrease=1.0000023536644438]\n",
      "100%|██████████| 3787/3787 [00:39<00:00, 95.04batch/s]\n"
     ]
    },
    {
     "data": {
      "text/html": [
       "<div>\n",
       "<style scoped>\n",
       "    .dataframe tbody tr th:only-of-type {\n",
       "        vertical-align: middle;\n",
       "    }\n",
       "\n",
       "    .dataframe tbody tr th {\n",
       "        vertical-align: top;\n",
       "    }\n",
       "\n",
       "    .dataframe thead tr th {\n",
       "        text-align: left;\n",
       "    }\n",
       "</style>\n",
       "<table border=\"1\" class=\"dataframe\">\n",
       "  <thead>\n",
       "    <tr>\n",
       "      <th></th>\n",
       "      <th colspan=\"2\" halign=\"left\">All</th>\n",
       "      <th colspan=\"2\" halign=\"left\">In VOC</th>\n",
       "      <th colspan=\"2\" halign=\"left\">Out of VOC</th>\n",
       "    </tr>\n",
       "    <tr>\n",
       "      <th></th>\n",
       "      <th>f1 micro</th>\n",
       "      <th>f1 macro</th>\n",
       "      <th>f1 micro</th>\n",
       "      <th>f1 macro</th>\n",
       "      <th>f1 micro</th>\n",
       "      <th>f1 macro</th>\n",
       "    </tr>\n",
       "  </thead>\n",
       "  <tbody>\n",
       "    <tr>\n",
       "      <th>0</th>\n",
       "      <td>0.718775</td>\n",
       "      <td>0.196514</td>\n",
       "      <td>0.748956</td>\n",
       "      <td>0.227994</td>\n",
       "      <td>0.159794</td>\n",
       "      <td>0.088933</td>\n",
       "    </tr>\n",
       "  </tbody>\n",
       "</table>\n",
       "</div>"
      ],
      "text/plain": [
       "        All              In VOC           Out of VOC          \n",
       "   f1 micro  f1 macro  f1 micro  f1 macro   f1 micro  f1 macro\n",
       "0  0.718775  0.196514  0.748956  0.227994   0.159794  0.088933"
      ]
     },
     "metadata": {},
     "output_type": "display_data"
    },
    {
     "name": "stderr",
     "output_type": "stream",
     "text": [
      "Epoch 19: 100%|██████████| 1617/1617 [05:35<00:00,  4.82batch/s, loss_decrease=1.0000023536644438]\n",
      "100%|██████████| 3787/3787 [00:39<00:00, 96.18batch/s]\n"
     ]
    },
    {
     "data": {
      "text/html": [
       "<div>\n",
       "<style scoped>\n",
       "    .dataframe tbody tr th:only-of-type {\n",
       "        vertical-align: middle;\n",
       "    }\n",
       "\n",
       "    .dataframe tbody tr th {\n",
       "        vertical-align: top;\n",
       "    }\n",
       "\n",
       "    .dataframe thead tr th {\n",
       "        text-align: left;\n",
       "    }\n",
       "</style>\n",
       "<table border=\"1\" class=\"dataframe\">\n",
       "  <thead>\n",
       "    <tr>\n",
       "      <th></th>\n",
       "      <th colspan=\"2\" halign=\"left\">All</th>\n",
       "      <th colspan=\"2\" halign=\"left\">In VOC</th>\n",
       "      <th colspan=\"2\" halign=\"left\">Out of VOC</th>\n",
       "    </tr>\n",
       "    <tr>\n",
       "      <th></th>\n",
       "      <th>f1 micro</th>\n",
       "      <th>f1 macro</th>\n",
       "      <th>f1 micro</th>\n",
       "      <th>f1 macro</th>\n",
       "      <th>f1 micro</th>\n",
       "      <th>f1 macro</th>\n",
       "    </tr>\n",
       "  </thead>\n",
       "  <tbody>\n",
       "    <tr>\n",
       "      <th>0</th>\n",
       "      <td>0.722472</td>\n",
       "      <td>0.20232</td>\n",
       "      <td>0.753966</td>\n",
       "      <td>0.241225</td>\n",
       "      <td>0.139175</td>\n",
       "      <td>0.08046</td>\n",
       "    </tr>\n",
       "  </tbody>\n",
       "</table>\n",
       "</div>"
      ],
      "text/plain": [
       "        All             In VOC           Out of VOC         \n",
       "   f1 micro f1 macro  f1 micro  f1 macro   f1 micro f1 macro\n",
       "0  0.722472  0.20232  0.753966  0.241225   0.139175  0.08046"
      ]
     },
     "metadata": {},
     "output_type": "display_data"
    },
    {
     "name": "stderr",
     "output_type": "stream",
     "text": [
      "Epoch 20: 100%|██████████| 1617/1617 [05:34<00:00,  4.83batch/s, loss_decrease=1.0000023536644438]\n",
      "100%|██████████| 3787/3787 [00:45<00:00, 82.96batch/s]\n"
     ]
    },
    {
     "data": {
      "text/html": [
       "<div>\n",
       "<style scoped>\n",
       "    .dataframe tbody tr th:only-of-type {\n",
       "        vertical-align: middle;\n",
       "    }\n",
       "\n",
       "    .dataframe tbody tr th {\n",
       "        vertical-align: top;\n",
       "    }\n",
       "\n",
       "    .dataframe thead tr th {\n",
       "        text-align: left;\n",
       "    }\n",
       "</style>\n",
       "<table border=\"1\" class=\"dataframe\">\n",
       "  <thead>\n",
       "    <tr>\n",
       "      <th></th>\n",
       "      <th colspan=\"2\" halign=\"left\">All</th>\n",
       "      <th colspan=\"2\" halign=\"left\">In VOC</th>\n",
       "      <th colspan=\"2\" halign=\"left\">Out of VOC</th>\n",
       "    </tr>\n",
       "    <tr>\n",
       "      <th></th>\n",
       "      <th>f1 micro</th>\n",
       "      <th>f1 macro</th>\n",
       "      <th>f1 micro</th>\n",
       "      <th>f1 macro</th>\n",
       "      <th>f1 micro</th>\n",
       "      <th>f1 macro</th>\n",
       "    </tr>\n",
       "  </thead>\n",
       "  <tbody>\n",
       "    <tr>\n",
       "      <th>0</th>\n",
       "      <td>0.719303</td>\n",
       "      <td>0.197377</td>\n",
       "      <td>0.75007</td>\n",
       "      <td>0.232907</td>\n",
       "      <td>0.149485</td>\n",
       "      <td>0.087629</td>\n",
       "    </tr>\n",
       "  </tbody>\n",
       "</table>\n",
       "</div>"
      ],
      "text/plain": [
       "        All             In VOC           Out of VOC          \n",
       "   f1 micro  f1 macro f1 micro  f1 macro   f1 micro  f1 macro\n",
       "0  0.719303  0.197377  0.75007  0.232907   0.149485  0.087629"
      ]
     },
     "metadata": {},
     "output_type": "display_data"
    },
    {
     "name": "stderr",
     "output_type": "stream",
     "text": [
      "Epoch 21: 100%|██████████| 1617/1617 [05:38<00:00,  4.78batch/s, loss_decrease=1.000002447811252] \n",
      "100%|██████████| 3787/3787 [00:40<00:00, 94.26batch/s] \n"
     ]
    },
    {
     "data": {
      "text/html": [
       "<div>\n",
       "<style scoped>\n",
       "    .dataframe tbody tr th:only-of-type {\n",
       "        vertical-align: middle;\n",
       "    }\n",
       "\n",
       "    .dataframe tbody tr th {\n",
       "        vertical-align: top;\n",
       "    }\n",
       "\n",
       "    .dataframe thead tr th {\n",
       "        text-align: left;\n",
       "    }\n",
       "</style>\n",
       "<table border=\"1\" class=\"dataframe\">\n",
       "  <thead>\n",
       "    <tr>\n",
       "      <th></th>\n",
       "      <th colspan=\"2\" halign=\"left\">All</th>\n",
       "      <th colspan=\"2\" halign=\"left\">In VOC</th>\n",
       "      <th colspan=\"2\" halign=\"left\">Out of VOC</th>\n",
       "    </tr>\n",
       "    <tr>\n",
       "      <th></th>\n",
       "      <th>f1 micro</th>\n",
       "      <th>f1 macro</th>\n",
       "      <th>f1 micro</th>\n",
       "      <th>f1 macro</th>\n",
       "      <th>f1 micro</th>\n",
       "      <th>f1 macro</th>\n",
       "    </tr>\n",
       "  </thead>\n",
       "  <tbody>\n",
       "    <tr>\n",
       "      <th>0</th>\n",
       "      <td>0.720095</td>\n",
       "      <td>0.20388</td>\n",
       "      <td>0.75007</td>\n",
       "      <td>0.237635</td>\n",
       "      <td>0.164948</td>\n",
       "      <td>0.094085</td>\n",
       "    </tr>\n",
       "  </tbody>\n",
       "</table>\n",
       "</div>"
      ],
      "text/plain": [
       "        All            In VOC           Out of VOC          \n",
       "   f1 micro f1 macro f1 micro  f1 macro   f1 micro  f1 macro\n",
       "0  0.720095  0.20388  0.75007  0.237635   0.164948  0.094085"
      ]
     },
     "metadata": {},
     "output_type": "display_data"
    },
    {
     "name": "stderr",
     "output_type": "stream",
     "text": [
      "Epoch 22: 100%|██████████| 1617/1617 [05:36<00:00,  4.80batch/s, loss_decrease=1.0000023536644438]\n",
      "100%|██████████| 3787/3787 [00:39<00:00, 97.01batch/s] \n"
     ]
    },
    {
     "data": {
      "text/html": [
       "<div>\n",
       "<style scoped>\n",
       "    .dataframe tbody tr th:only-of-type {\n",
       "        vertical-align: middle;\n",
       "    }\n",
       "\n",
       "    .dataframe tbody tr th {\n",
       "        vertical-align: top;\n",
       "    }\n",
       "\n",
       "    .dataframe thead tr th {\n",
       "        text-align: left;\n",
       "    }\n",
       "</style>\n",
       "<table border=\"1\" class=\"dataframe\">\n",
       "  <thead>\n",
       "    <tr>\n",
       "      <th></th>\n",
       "      <th colspan=\"2\" halign=\"left\">All</th>\n",
       "      <th colspan=\"2\" halign=\"left\">In VOC</th>\n",
       "      <th colspan=\"2\" halign=\"left\">Out of VOC</th>\n",
       "    </tr>\n",
       "    <tr>\n",
       "      <th></th>\n",
       "      <th>f1 micro</th>\n",
       "      <th>f1 macro</th>\n",
       "      <th>f1 micro</th>\n",
       "      <th>f1 macro</th>\n",
       "      <th>f1 micro</th>\n",
       "      <th>f1 macro</th>\n",
       "    </tr>\n",
       "  </thead>\n",
       "  <tbody>\n",
       "    <tr>\n",
       "      <th>0</th>\n",
       "      <td>0.731978</td>\n",
       "      <td>0.215865</td>\n",
       "      <td>0.762594</td>\n",
       "      <td>0.255353</td>\n",
       "      <td>0.164948</td>\n",
       "      <td>0.09375</td>\n",
       "    </tr>\n",
       "  </tbody>\n",
       "</table>\n",
       "</div>"
      ],
      "text/plain": [
       "        All              In VOC           Out of VOC         \n",
       "   f1 micro  f1 macro  f1 micro  f1 macro   f1 micro f1 macro\n",
       "0  0.731978  0.215865  0.762594  0.255353   0.164948  0.09375"
      ]
     },
     "metadata": {},
     "output_type": "display_data"
    },
    {
     "name": "stderr",
     "output_type": "stream",
     "text": [
      "Epoch 23: 100%|██████████| 1617/1617 [05:37<00:00,  4.79batch/s, loss_decrease=1.000002447811252] \n",
      "100%|██████████| 3787/3787 [00:44<00:00, 85.08batch/s]\n"
     ]
    },
    {
     "data": {
      "text/html": [
       "<div>\n",
       "<style scoped>\n",
       "    .dataframe tbody tr th:only-of-type {\n",
       "        vertical-align: middle;\n",
       "    }\n",
       "\n",
       "    .dataframe tbody tr th {\n",
       "        vertical-align: top;\n",
       "    }\n",
       "\n",
       "    .dataframe thead tr th {\n",
       "        text-align: left;\n",
       "    }\n",
       "</style>\n",
       "<table border=\"1\" class=\"dataframe\">\n",
       "  <thead>\n",
       "    <tr>\n",
       "      <th></th>\n",
       "      <th colspan=\"2\" halign=\"left\">All</th>\n",
       "      <th colspan=\"2\" halign=\"left\">In VOC</th>\n",
       "      <th colspan=\"2\" halign=\"left\">Out of VOC</th>\n",
       "    </tr>\n",
       "    <tr>\n",
       "      <th></th>\n",
       "      <th>f1 micro</th>\n",
       "      <th>f1 macro</th>\n",
       "      <th>f1 micro</th>\n",
       "      <th>f1 macro</th>\n",
       "      <th>f1 micro</th>\n",
       "      <th>f1 macro</th>\n",
       "    </tr>\n",
       "  </thead>\n",
       "  <tbody>\n",
       "    <tr>\n",
       "      <th>0</th>\n",
       "      <td>0.723792</td>\n",
       "      <td>0.215399</td>\n",
       "      <td>0.753688</td>\n",
       "      <td>0.248176</td>\n",
       "      <td>0.170103</td>\n",
       "      <td>0.100473</td>\n",
       "    </tr>\n",
       "  </tbody>\n",
       "</table>\n",
       "</div>"
      ],
      "text/plain": [
       "        All              In VOC           Out of VOC          \n",
       "   f1 micro  f1 macro  f1 micro  f1 macro   f1 micro  f1 macro\n",
       "0  0.723792  0.215399  0.753688  0.248176   0.170103  0.100473"
      ]
     },
     "metadata": {},
     "output_type": "display_data"
    },
    {
     "name": "stderr",
     "output_type": "stream",
     "text": [
      "Epoch 24: 100%|██████████| 1617/1617 [05:37<00:00,  4.79batch/s, loss_decrease=1.0000025419580778]\n",
      "100%|██████████| 3787/3787 [00:40<00:00, 94.32batch/s] \n"
     ]
    },
    {
     "data": {
      "text/html": [
       "<div>\n",
       "<style scoped>\n",
       "    .dataframe tbody tr th:only-of-type {\n",
       "        vertical-align: middle;\n",
       "    }\n",
       "\n",
       "    .dataframe tbody tr th {\n",
       "        vertical-align: top;\n",
       "    }\n",
       "\n",
       "    .dataframe thead tr th {\n",
       "        text-align: left;\n",
       "    }\n",
       "</style>\n",
       "<table border=\"1\" class=\"dataframe\">\n",
       "  <thead>\n",
       "    <tr>\n",
       "      <th></th>\n",
       "      <th colspan=\"2\" halign=\"left\">All</th>\n",
       "      <th colspan=\"2\" halign=\"left\">In VOC</th>\n",
       "      <th colspan=\"2\" halign=\"left\">Out of VOC</th>\n",
       "    </tr>\n",
       "    <tr>\n",
       "      <th></th>\n",
       "      <th>f1 micro</th>\n",
       "      <th>f1 macro</th>\n",
       "      <th>f1 micro</th>\n",
       "      <th>f1 macro</th>\n",
       "      <th>f1 micro</th>\n",
       "      <th>f1 macro</th>\n",
       "    </tr>\n",
       "  </thead>\n",
       "  <tbody>\n",
       "    <tr>\n",
       "      <th>0</th>\n",
       "      <td>0.724584</td>\n",
       "      <td>0.215957</td>\n",
       "      <td>0.754244</td>\n",
       "      <td>0.252021</td>\n",
       "      <td>0.175258</td>\n",
       "      <td>0.096328</td>\n",
       "    </tr>\n",
       "  </tbody>\n",
       "</table>\n",
       "</div>"
      ],
      "text/plain": [
       "        All              In VOC           Out of VOC          \n",
       "   f1 micro  f1 macro  f1 micro  f1 macro   f1 micro  f1 macro\n",
       "0  0.724584  0.215957  0.754244  0.252021   0.175258  0.096328"
      ]
     },
     "metadata": {},
     "output_type": "display_data"
    },
    {
     "name": "stderr",
     "output_type": "stream",
     "text": [
      "Epoch 25: 100%|██████████| 1617/1617 [05:35<00:00,  4.83batch/s, loss_decrease=1.0000025419580778]\n",
      "100%|██████████| 3787/3787 [00:40<00:00, 94.45batch/s]\n"
     ]
    },
    {
     "data": {
      "text/html": [
       "<div>\n",
       "<style scoped>\n",
       "    .dataframe tbody tr th:only-of-type {\n",
       "        vertical-align: middle;\n",
       "    }\n",
       "\n",
       "    .dataframe tbody tr th {\n",
       "        vertical-align: top;\n",
       "    }\n",
       "\n",
       "    .dataframe thead tr th {\n",
       "        text-align: left;\n",
       "    }\n",
       "</style>\n",
       "<table border=\"1\" class=\"dataframe\">\n",
       "  <thead>\n",
       "    <tr>\n",
       "      <th></th>\n",
       "      <th colspan=\"2\" halign=\"left\">All</th>\n",
       "      <th colspan=\"2\" halign=\"left\">In VOC</th>\n",
       "      <th colspan=\"2\" halign=\"left\">Out of VOC</th>\n",
       "    </tr>\n",
       "    <tr>\n",
       "      <th></th>\n",
       "      <th>f1 micro</th>\n",
       "      <th>f1 macro</th>\n",
       "      <th>f1 micro</th>\n",
       "      <th>f1 macro</th>\n",
       "      <th>f1 micro</th>\n",
       "      <th>f1 macro</th>\n",
       "    </tr>\n",
       "  </thead>\n",
       "  <tbody>\n",
       "    <tr>\n",
       "      <th>0</th>\n",
       "      <td>0.727753</td>\n",
       "      <td>0.219349</td>\n",
       "      <td>0.758141</td>\n",
       "      <td>0.256021</td>\n",
       "      <td>0.164948</td>\n",
       "      <td>0.0964</td>\n",
       "    </tr>\n",
       "  </tbody>\n",
       "</table>\n",
       "</div>"
      ],
      "text/plain": [
       "        All              In VOC           Out of VOC         \n",
       "   f1 micro  f1 macro  f1 micro  f1 macro   f1 micro f1 macro\n",
       "0  0.727753  0.219349  0.758141  0.256021   0.164948   0.0964"
      ]
     },
     "metadata": {},
     "output_type": "display_data"
    },
    {
     "name": "stderr",
     "output_type": "stream",
     "text": [
      "Epoch 26: 100%|██████████| 1617/1617 [05:40<00:00,  4.74batch/s, loss_decrease=1.0000026361049215]\n",
      "100%|██████████| 3787/3787 [00:39<00:00, 96.17batch/s] \n"
     ]
    },
    {
     "data": {
      "text/html": [
       "<div>\n",
       "<style scoped>\n",
       "    .dataframe tbody tr th:only-of-type {\n",
       "        vertical-align: middle;\n",
       "    }\n",
       "\n",
       "    .dataframe tbody tr th {\n",
       "        vertical-align: top;\n",
       "    }\n",
       "\n",
       "    .dataframe thead tr th {\n",
       "        text-align: left;\n",
       "    }\n",
       "</style>\n",
       "<table border=\"1\" class=\"dataframe\">\n",
       "  <thead>\n",
       "    <tr>\n",
       "      <th></th>\n",
       "      <th colspan=\"2\" halign=\"left\">All</th>\n",
       "      <th colspan=\"2\" halign=\"left\">In VOC</th>\n",
       "      <th colspan=\"2\" halign=\"left\">Out of VOC</th>\n",
       "    </tr>\n",
       "    <tr>\n",
       "      <th></th>\n",
       "      <th>f1 micro</th>\n",
       "      <th>f1 macro</th>\n",
       "      <th>f1 micro</th>\n",
       "      <th>f1 macro</th>\n",
       "      <th>f1 micro</th>\n",
       "      <th>f1 macro</th>\n",
       "    </tr>\n",
       "  </thead>\n",
       "  <tbody>\n",
       "    <tr>\n",
       "      <th>0</th>\n",
       "      <td>0.730129</td>\n",
       "      <td>0.228714</td>\n",
       "      <td>0.760089</td>\n",
       "      <td>0.267359</td>\n",
       "      <td>0.175258</td>\n",
       "      <td>0.10323</td>\n",
       "    </tr>\n",
       "  </tbody>\n",
       "</table>\n",
       "</div>"
      ],
      "text/plain": [
       "        All              In VOC           Out of VOC         \n",
       "   f1 micro  f1 macro  f1 micro  f1 macro   f1 micro f1 macro\n",
       "0  0.730129  0.228714  0.760089  0.267359   0.175258  0.10323"
      ]
     },
     "metadata": {},
     "output_type": "display_data"
    },
    {
     "name": "stderr",
     "output_type": "stream",
     "text": [
      "Epoch 27: 100%|██████████| 1617/1617 [05:35<00:00,  4.82batch/s, loss_decrease=1.0000026361049215]\n",
      "100%|██████████| 3787/3787 [00:40<00:00, 93.12batch/s] \n"
     ]
    },
    {
     "data": {
      "text/html": [
       "<div>\n",
       "<style scoped>\n",
       "    .dataframe tbody tr th:only-of-type {\n",
       "        vertical-align: middle;\n",
       "    }\n",
       "\n",
       "    .dataframe tbody tr th {\n",
       "        vertical-align: top;\n",
       "    }\n",
       "\n",
       "    .dataframe thead tr th {\n",
       "        text-align: left;\n",
       "    }\n",
       "</style>\n",
       "<table border=\"1\" class=\"dataframe\">\n",
       "  <thead>\n",
       "    <tr>\n",
       "      <th></th>\n",
       "      <th colspan=\"2\" halign=\"left\">All</th>\n",
       "      <th colspan=\"2\" halign=\"left\">In VOC</th>\n",
       "      <th colspan=\"2\" halign=\"left\">Out of VOC</th>\n",
       "    </tr>\n",
       "    <tr>\n",
       "      <th></th>\n",
       "      <th>f1 micro</th>\n",
       "      <th>f1 macro</th>\n",
       "      <th>f1 micro</th>\n",
       "      <th>f1 macro</th>\n",
       "      <th>f1 micro</th>\n",
       "      <th>f1 macro</th>\n",
       "    </tr>\n",
       "  </thead>\n",
       "  <tbody>\n",
       "    <tr>\n",
       "      <th>0</th>\n",
       "      <td>0.724848</td>\n",
       "      <td>0.209151</td>\n",
       "      <td>0.756749</td>\n",
       "      <td>0.253965</td>\n",
       "      <td>0.134021</td>\n",
       "      <td>0.076701</td>\n",
       "    </tr>\n",
       "  </tbody>\n",
       "</table>\n",
       "</div>"
      ],
      "text/plain": [
       "        All              In VOC           Out of VOC          \n",
       "   f1 micro  f1 macro  f1 micro  f1 macro   f1 micro  f1 macro\n",
       "0  0.724848  0.209151  0.756749  0.253965   0.134021  0.076701"
      ]
     },
     "metadata": {},
     "output_type": "display_data"
    },
    {
     "name": "stderr",
     "output_type": "stream",
     "text": [
      "Epoch 28: 100%|██████████| 1617/1617 [05:38<00:00,  4.77batch/s, loss_decrease=1.0000027302517829]\n",
      "100%|██████████| 3787/3787 [00:41<00:00, 91.62batch/s] \n"
     ]
    },
    {
     "data": {
      "text/html": [
       "<div>\n",
       "<style scoped>\n",
       "    .dataframe tbody tr th:only-of-type {\n",
       "        vertical-align: middle;\n",
       "    }\n",
       "\n",
       "    .dataframe tbody tr th {\n",
       "        vertical-align: top;\n",
       "    }\n",
       "\n",
       "    .dataframe thead tr th {\n",
       "        text-align: left;\n",
       "    }\n",
       "</style>\n",
       "<table border=\"1\" class=\"dataframe\">\n",
       "  <thead>\n",
       "    <tr>\n",
       "      <th></th>\n",
       "      <th colspan=\"2\" halign=\"left\">All</th>\n",
       "      <th colspan=\"2\" halign=\"left\">In VOC</th>\n",
       "      <th colspan=\"2\" halign=\"left\">Out of VOC</th>\n",
       "    </tr>\n",
       "    <tr>\n",
       "      <th></th>\n",
       "      <th>f1 micro</th>\n",
       "      <th>f1 macro</th>\n",
       "      <th>f1 micro</th>\n",
       "      <th>f1 macro</th>\n",
       "      <th>f1 micro</th>\n",
       "      <th>f1 macro</th>\n",
       "    </tr>\n",
       "  </thead>\n",
       "  <tbody>\n",
       "    <tr>\n",
       "      <th>0</th>\n",
       "      <td>0.730129</td>\n",
       "      <td>0.217474</td>\n",
       "      <td>0.759811</td>\n",
       "      <td>0.249778</td>\n",
       "      <td>0.180412</td>\n",
       "      <td>0.103009</td>\n",
       "    </tr>\n",
       "  </tbody>\n",
       "</table>\n",
       "</div>"
      ],
      "text/plain": [
       "        All              In VOC           Out of VOC          \n",
       "   f1 micro  f1 macro  f1 micro  f1 macro   f1 micro  f1 macro\n",
       "0  0.730129  0.217474  0.759811  0.249778   0.180412  0.103009"
      ]
     },
     "metadata": {},
     "output_type": "display_data"
    },
    {
     "name": "stderr",
     "output_type": "stream",
     "text": [
      "Epoch 29: 100%|██████████| 1617/1617 [05:37<00:00,  4.79batch/s, loss_decrease=1.000002824398662] \n",
      "100%|██████████| 3787/3787 [00:41<00:00, 91.24batch/s] \n"
     ]
    },
    {
     "data": {
      "text/html": [
       "<div>\n",
       "<style scoped>\n",
       "    .dataframe tbody tr th:only-of-type {\n",
       "        vertical-align: middle;\n",
       "    }\n",
       "\n",
       "    .dataframe tbody tr th {\n",
       "        vertical-align: top;\n",
       "    }\n",
       "\n",
       "    .dataframe thead tr th {\n",
       "        text-align: left;\n",
       "    }\n",
       "</style>\n",
       "<table border=\"1\" class=\"dataframe\">\n",
       "  <thead>\n",
       "    <tr>\n",
       "      <th></th>\n",
       "      <th colspan=\"2\" halign=\"left\">All</th>\n",
       "      <th colspan=\"2\" halign=\"left\">In VOC</th>\n",
       "      <th colspan=\"2\" halign=\"left\">Out of VOC</th>\n",
       "    </tr>\n",
       "    <tr>\n",
       "      <th></th>\n",
       "      <th>f1 micro</th>\n",
       "      <th>f1 macro</th>\n",
       "      <th>f1 micro</th>\n",
       "      <th>f1 macro</th>\n",
       "      <th>f1 micro</th>\n",
       "      <th>f1 macro</th>\n",
       "    </tr>\n",
       "  </thead>\n",
       "  <tbody>\n",
       "    <tr>\n",
       "      <th>0</th>\n",
       "      <td>0.734618</td>\n",
       "      <td>0.224266</td>\n",
       "      <td>0.765377</td>\n",
       "      <td>0.262888</td>\n",
       "      <td>0.164948</td>\n",
       "      <td>0.09474</td>\n",
       "    </tr>\n",
       "  </tbody>\n",
       "</table>\n",
       "</div>"
      ],
      "text/plain": [
       "        All              In VOC           Out of VOC         \n",
       "   f1 micro  f1 macro  f1 micro  f1 macro   f1 micro f1 macro\n",
       "0  0.734618  0.224266  0.765377  0.262888   0.164948  0.09474"
      ]
     },
     "metadata": {},
     "output_type": "display_data"
    },
    {
     "name": "stderr",
     "output_type": "stream",
     "text": [
      "Epoch 30: 100%|██████████| 1617/1617 [05:39<00:00,  4.77batch/s, loss_decrease=1.000002824398662] \n",
      "100%|██████████| 3787/3787 [00:40<00:00, 94.34batch/s] \n"
     ]
    },
    {
     "data": {
      "text/html": [
       "<div>\n",
       "<style scoped>\n",
       "    .dataframe tbody tr th:only-of-type {\n",
       "        vertical-align: middle;\n",
       "    }\n",
       "\n",
       "    .dataframe tbody tr th {\n",
       "        vertical-align: top;\n",
       "    }\n",
       "\n",
       "    .dataframe thead tr th {\n",
       "        text-align: left;\n",
       "    }\n",
       "</style>\n",
       "<table border=\"1\" class=\"dataframe\">\n",
       "  <thead>\n",
       "    <tr>\n",
       "      <th></th>\n",
       "      <th colspan=\"2\" halign=\"left\">All</th>\n",
       "      <th colspan=\"2\" halign=\"left\">In VOC</th>\n",
       "      <th colspan=\"2\" halign=\"left\">Out of VOC</th>\n",
       "    </tr>\n",
       "    <tr>\n",
       "      <th></th>\n",
       "      <th>f1 micro</th>\n",
       "      <th>f1 macro</th>\n",
       "      <th>f1 micro</th>\n",
       "      <th>f1 macro</th>\n",
       "      <th>f1 micro</th>\n",
       "      <th>f1 macro</th>\n",
       "    </tr>\n",
       "  </thead>\n",
       "  <tbody>\n",
       "    <tr>\n",
       "      <th>0</th>\n",
       "      <td>0.737523</td>\n",
       "      <td>0.22813</td>\n",
       "      <td>0.76816</td>\n",
       "      <td>0.269785</td>\n",
       "      <td>0.170103</td>\n",
       "      <td>0.095563</td>\n",
       "    </tr>\n",
       "  </tbody>\n",
       "</table>\n",
       "</div>"
      ],
      "text/plain": [
       "        All            In VOC           Out of VOC          \n",
       "   f1 micro f1 macro f1 micro  f1 macro   f1 micro  f1 macro\n",
       "0  0.737523  0.22813  0.76816  0.269785   0.170103  0.095563"
      ]
     },
     "metadata": {},
     "output_type": "display_data"
    },
    {
     "name": "stderr",
     "output_type": "stream",
     "text": [
      "Epoch 31: 100%|██████████| 1617/1617 [05:37<00:00,  4.80batch/s, loss_decrease=1.000002824398662] \n",
      "100%|██████████| 3787/3787 [00:39<00:00, 94.73batch/s] \n"
     ]
    },
    {
     "data": {
      "text/html": [
       "<div>\n",
       "<style scoped>\n",
       "    .dataframe tbody tr th:only-of-type {\n",
       "        vertical-align: middle;\n",
       "    }\n",
       "\n",
       "    .dataframe tbody tr th {\n",
       "        vertical-align: top;\n",
       "    }\n",
       "\n",
       "    .dataframe thead tr th {\n",
       "        text-align: left;\n",
       "    }\n",
       "</style>\n",
       "<table border=\"1\" class=\"dataframe\">\n",
       "  <thead>\n",
       "    <tr>\n",
       "      <th></th>\n",
       "      <th colspan=\"2\" halign=\"left\">All</th>\n",
       "      <th colspan=\"2\" halign=\"left\">In VOC</th>\n",
       "      <th colspan=\"2\" halign=\"left\">Out of VOC</th>\n",
       "    </tr>\n",
       "    <tr>\n",
       "      <th></th>\n",
       "      <th>f1 micro</th>\n",
       "      <th>f1 macro</th>\n",
       "      <th>f1 micro</th>\n",
       "      <th>f1 macro</th>\n",
       "      <th>f1 micro</th>\n",
       "      <th>f1 macro</th>\n",
       "    </tr>\n",
       "  </thead>\n",
       "  <tbody>\n",
       "    <tr>\n",
       "      <th>0</th>\n",
       "      <td>0.738579</td>\n",
       "      <td>0.229845</td>\n",
       "      <td>0.768995</td>\n",
       "      <td>0.273519</td>\n",
       "      <td>0.175258</td>\n",
       "      <td>0.098167</td>\n",
       "    </tr>\n",
       "  </tbody>\n",
       "</table>\n",
       "</div>"
      ],
      "text/plain": [
       "        All              In VOC           Out of VOC          \n",
       "   f1 micro  f1 macro  f1 micro  f1 macro   f1 micro  f1 macro\n",
       "0  0.738579  0.229845  0.768995  0.273519   0.175258  0.098167"
      ]
     },
     "metadata": {},
     "output_type": "display_data"
    },
    {
     "name": "stderr",
     "output_type": "stream",
     "text": [
      "Epoch 32: 100%|██████████| 1617/1617 [05:36<00:00,  4.80batch/s, loss_decrease=1.0000027302517829]\n",
      "100%|██████████| 3787/3787 [00:39<00:00, 97.00batch/s] \n"
     ]
    },
    {
     "data": {
      "text/html": [
       "<div>\n",
       "<style scoped>\n",
       "    .dataframe tbody tr th:only-of-type {\n",
       "        vertical-align: middle;\n",
       "    }\n",
       "\n",
       "    .dataframe tbody tr th {\n",
       "        vertical-align: top;\n",
       "    }\n",
       "\n",
       "    .dataframe thead tr th {\n",
       "        text-align: left;\n",
       "    }\n",
       "</style>\n",
       "<table border=\"1\" class=\"dataframe\">\n",
       "  <thead>\n",
       "    <tr>\n",
       "      <th></th>\n",
       "      <th colspan=\"2\" halign=\"left\">All</th>\n",
       "      <th colspan=\"2\" halign=\"left\">In VOC</th>\n",
       "      <th colspan=\"2\" halign=\"left\">Out of VOC</th>\n",
       "    </tr>\n",
       "    <tr>\n",
       "      <th></th>\n",
       "      <th>f1 micro</th>\n",
       "      <th>f1 macro</th>\n",
       "      <th>f1 micro</th>\n",
       "      <th>f1 macro</th>\n",
       "      <th>f1 micro</th>\n",
       "      <th>f1 macro</th>\n",
       "    </tr>\n",
       "  </thead>\n",
       "  <tbody>\n",
       "    <tr>\n",
       "      <th>0</th>\n",
       "      <td>0.742276</td>\n",
       "      <td>0.235359</td>\n",
       "      <td>0.772057</td>\n",
       "      <td>0.273627</td>\n",
       "      <td>0.190722</td>\n",
       "      <td>0.109727</td>\n",
       "    </tr>\n",
       "  </tbody>\n",
       "</table>\n",
       "</div>"
      ],
      "text/plain": [
       "        All              In VOC           Out of VOC          \n",
       "   f1 micro  f1 macro  f1 micro  f1 macro   f1 micro  f1 macro\n",
       "0  0.742276  0.235359  0.772057  0.273627   0.190722  0.109727"
      ]
     },
     "metadata": {},
     "output_type": "display_data"
    },
    {
     "name": "stderr",
     "output_type": "stream",
     "text": [
      "Epoch 33: 100%|██████████| 1617/1617 [05:38<00:00,  4.77batch/s, loss_decrease=1.000002824398662] \n",
      "100%|██████████| 3787/3787 [00:39<00:00, 97.03batch/s] \n"
     ]
    },
    {
     "data": {
      "text/html": [
       "<div>\n",
       "<style scoped>\n",
       "    .dataframe tbody tr th:only-of-type {\n",
       "        vertical-align: middle;\n",
       "    }\n",
       "\n",
       "    .dataframe tbody tr th {\n",
       "        vertical-align: top;\n",
       "    }\n",
       "\n",
       "    .dataframe thead tr th {\n",
       "        text-align: left;\n",
       "    }\n",
       "</style>\n",
       "<table border=\"1\" class=\"dataframe\">\n",
       "  <thead>\n",
       "    <tr>\n",
       "      <th></th>\n",
       "      <th colspan=\"2\" halign=\"left\">All</th>\n",
       "      <th colspan=\"2\" halign=\"left\">In VOC</th>\n",
       "      <th colspan=\"2\" halign=\"left\">Out of VOC</th>\n",
       "    </tr>\n",
       "    <tr>\n",
       "      <th></th>\n",
       "      <th>f1 micro</th>\n",
       "      <th>f1 macro</th>\n",
       "      <th>f1 micro</th>\n",
       "      <th>f1 macro</th>\n",
       "      <th>f1 micro</th>\n",
       "      <th>f1 macro</th>\n",
       "    </tr>\n",
       "  </thead>\n",
       "  <tbody>\n",
       "    <tr>\n",
       "      <th>0</th>\n",
       "      <td>0.734618</td>\n",
       "      <td>0.224378</td>\n",
       "      <td>0.76482</td>\n",
       "      <td>0.260856</td>\n",
       "      <td>0.175258</td>\n",
       "      <td>0.103651</td>\n",
       "    </tr>\n",
       "  </tbody>\n",
       "</table>\n",
       "</div>"
      ],
      "text/plain": [
       "        All             In VOC           Out of VOC          \n",
       "   f1 micro  f1 macro f1 micro  f1 macro   f1 micro  f1 macro\n",
       "0  0.734618  0.224378  0.76482  0.260856   0.175258  0.103651"
      ]
     },
     "metadata": {},
     "output_type": "display_data"
    },
    {
     "name": "stderr",
     "output_type": "stream",
     "text": [
      "Epoch 34: 100%|██████████| 1617/1617 [05:39<00:00,  4.76batch/s, loss_decrease=1.000002824398662] \n",
      "100%|██████████| 3787/3787 [00:39<00:00, 97.06batch/s] \n"
     ]
    },
    {
     "data": {
      "text/html": [
       "<div>\n",
       "<style scoped>\n",
       "    .dataframe tbody tr th:only-of-type {\n",
       "        vertical-align: middle;\n",
       "    }\n",
       "\n",
       "    .dataframe tbody tr th {\n",
       "        vertical-align: top;\n",
       "    }\n",
       "\n",
       "    .dataframe thead tr th {\n",
       "        text-align: left;\n",
       "    }\n",
       "</style>\n",
       "<table border=\"1\" class=\"dataframe\">\n",
       "  <thead>\n",
       "    <tr>\n",
       "      <th></th>\n",
       "      <th colspan=\"2\" halign=\"left\">All</th>\n",
       "      <th colspan=\"2\" halign=\"left\">In VOC</th>\n",
       "      <th colspan=\"2\" halign=\"left\">Out of VOC</th>\n",
       "    </tr>\n",
       "    <tr>\n",
       "      <th></th>\n",
       "      <th>f1 micro</th>\n",
       "      <th>f1 macro</th>\n",
       "      <th>f1 micro</th>\n",
       "      <th>f1 macro</th>\n",
       "      <th>f1 micro</th>\n",
       "      <th>f1 macro</th>\n",
       "    </tr>\n",
       "  </thead>\n",
       "  <tbody>\n",
       "    <tr>\n",
       "      <th>0</th>\n",
       "      <td>0.724848</td>\n",
       "      <td>0.211708</td>\n",
       "      <td>0.756193</td>\n",
       "      <td>0.255885</td>\n",
       "      <td>0.14433</td>\n",
       "      <td>0.076612</td>\n",
       "    </tr>\n",
       "  </tbody>\n",
       "</table>\n",
       "</div>"
      ],
      "text/plain": [
       "        All              In VOC           Out of VOC          \n",
       "   f1 micro  f1 macro  f1 micro  f1 macro   f1 micro  f1 macro\n",
       "0  0.724848  0.211708  0.756193  0.255885    0.14433  0.076612"
      ]
     },
     "metadata": {},
     "output_type": "display_data"
    },
    {
     "name": "stderr",
     "output_type": "stream",
     "text": [
      "Epoch 35: 100%|██████████| 1617/1617 [05:41<00:00,  4.73batch/s, loss_decrease=1.0000030126924735]\n",
      "100%|██████████| 3787/3787 [00:47<00:00, 80.33batch/s]\n"
     ]
    },
    {
     "data": {
      "text/html": [
       "<div>\n",
       "<style scoped>\n",
       "    .dataframe tbody tr th:only-of-type {\n",
       "        vertical-align: middle;\n",
       "    }\n",
       "\n",
       "    .dataframe tbody tr th {\n",
       "        vertical-align: top;\n",
       "    }\n",
       "\n",
       "    .dataframe thead tr th {\n",
       "        text-align: left;\n",
       "    }\n",
       "</style>\n",
       "<table border=\"1\" class=\"dataframe\">\n",
       "  <thead>\n",
       "    <tr>\n",
       "      <th></th>\n",
       "      <th colspan=\"2\" halign=\"left\">All</th>\n",
       "      <th colspan=\"2\" halign=\"left\">In VOC</th>\n",
       "      <th colspan=\"2\" halign=\"left\">Out of VOC</th>\n",
       "    </tr>\n",
       "    <tr>\n",
       "      <th></th>\n",
       "      <th>f1 micro</th>\n",
       "      <th>f1 macro</th>\n",
       "      <th>f1 micro</th>\n",
       "      <th>f1 macro</th>\n",
       "      <th>f1 micro</th>\n",
       "      <th>f1 macro</th>\n",
       "    </tr>\n",
       "  </thead>\n",
       "  <tbody>\n",
       "    <tr>\n",
       "      <th>0</th>\n",
       "      <td>0.735939</td>\n",
       "      <td>0.228052</td>\n",
       "      <td>0.765655</td>\n",
       "      <td>0.266337</td>\n",
       "      <td>0.185567</td>\n",
       "      <td>0.104762</td>\n",
       "    </tr>\n",
       "  </tbody>\n",
       "</table>\n",
       "</div>"
      ],
      "text/plain": [
       "        All              In VOC           Out of VOC          \n",
       "   f1 micro  f1 macro  f1 micro  f1 macro   f1 micro  f1 macro\n",
       "0  0.735939  0.228052  0.765655  0.266337   0.185567  0.104762"
      ]
     },
     "metadata": {},
     "output_type": "display_data"
    },
    {
     "name": "stderr",
     "output_type": "stream",
     "text": [
      "Epoch 36: 100%|██████████| 1617/1617 [05:38<00:00,  4.78batch/s, loss_decrease=1.0000029185455588]\n",
      "100%|██████████| 3787/3787 [00:39<00:00, 96.03batch/s] \n"
     ]
    },
    {
     "data": {
      "text/html": [
       "<div>\n",
       "<style scoped>\n",
       "    .dataframe tbody tr th:only-of-type {\n",
       "        vertical-align: middle;\n",
       "    }\n",
       "\n",
       "    .dataframe tbody tr th {\n",
       "        vertical-align: top;\n",
       "    }\n",
       "\n",
       "    .dataframe thead tr th {\n",
       "        text-align: left;\n",
       "    }\n",
       "</style>\n",
       "<table border=\"1\" class=\"dataframe\">\n",
       "  <thead>\n",
       "    <tr>\n",
       "      <th></th>\n",
       "      <th colspan=\"2\" halign=\"left\">All</th>\n",
       "      <th colspan=\"2\" halign=\"left\">In VOC</th>\n",
       "      <th colspan=\"2\" halign=\"left\">Out of VOC</th>\n",
       "    </tr>\n",
       "    <tr>\n",
       "      <th></th>\n",
       "      <th>f1 micro</th>\n",
       "      <th>f1 macro</th>\n",
       "      <th>f1 micro</th>\n",
       "      <th>f1 macro</th>\n",
       "      <th>f1 micro</th>\n",
       "      <th>f1 macro</th>\n",
       "    </tr>\n",
       "  </thead>\n",
       "  <tbody>\n",
       "    <tr>\n",
       "      <th>0</th>\n",
       "      <td>0.733562</td>\n",
       "      <td>0.223897</td>\n",
       "      <td>0.763707</td>\n",
       "      <td>0.258893</td>\n",
       "      <td>0.175258</td>\n",
       "      <td>0.106504</td>\n",
       "    </tr>\n",
       "  </tbody>\n",
       "</table>\n",
       "</div>"
      ],
      "text/plain": [
       "        All              In VOC           Out of VOC          \n",
       "   f1 micro  f1 macro  f1 micro  f1 macro   f1 micro  f1 macro\n",
       "0  0.733562  0.223897  0.763707  0.258893   0.175258  0.106504"
      ]
     },
     "metadata": {},
     "output_type": "display_data"
    },
    {
     "name": "stderr",
     "output_type": "stream",
     "text": [
      "Epoch 37: 100%|██████████| 1617/1617 [05:36<00:00,  4.80batch/s, loss_decrease=1.0000030126924735]\n",
      "100%|██████████| 3787/3787 [00:39<00:00, 96.41batch/s] \n"
     ]
    },
    {
     "data": {
      "text/html": [
       "<div>\n",
       "<style scoped>\n",
       "    .dataframe tbody tr th:only-of-type {\n",
       "        vertical-align: middle;\n",
       "    }\n",
       "\n",
       "    .dataframe tbody tr th {\n",
       "        vertical-align: top;\n",
       "    }\n",
       "\n",
       "    .dataframe thead tr th {\n",
       "        text-align: left;\n",
       "    }\n",
       "</style>\n",
       "<table border=\"1\" class=\"dataframe\">\n",
       "  <thead>\n",
       "    <tr>\n",
       "      <th></th>\n",
       "      <th colspan=\"2\" halign=\"left\">All</th>\n",
       "      <th colspan=\"2\" halign=\"left\">In VOC</th>\n",
       "      <th colspan=\"2\" halign=\"left\">Out of VOC</th>\n",
       "    </tr>\n",
       "    <tr>\n",
       "      <th></th>\n",
       "      <th>f1 micro</th>\n",
       "      <th>f1 macro</th>\n",
       "      <th>f1 micro</th>\n",
       "      <th>f1 macro</th>\n",
       "      <th>f1 micro</th>\n",
       "      <th>f1 macro</th>\n",
       "    </tr>\n",
       "  </thead>\n",
       "  <tbody>\n",
       "    <tr>\n",
       "      <th>0</th>\n",
       "      <td>0.734618</td>\n",
       "      <td>0.222921</td>\n",
       "      <td>0.766212</td>\n",
       "      <td>0.264329</td>\n",
       "      <td>0.149485</td>\n",
       "      <td>0.087659</td>\n",
       "    </tr>\n",
       "  </tbody>\n",
       "</table>\n",
       "</div>"
      ],
      "text/plain": [
       "        All              In VOC           Out of VOC          \n",
       "   f1 micro  f1 macro  f1 micro  f1 macro   f1 micro  f1 macro\n",
       "0  0.734618  0.222921  0.766212  0.264329   0.149485  0.087659"
      ]
     },
     "metadata": {},
     "output_type": "display_data"
    },
    {
     "name": "stderr",
     "output_type": "stream",
     "text": [
      "Epoch 38: 100%|██████████| 1617/1617 [05:42<00:00,  4.72batch/s, loss_decrease=1.0000030126924735]\n",
      "100%|██████████| 3787/3787 [00:40<00:00, 94.62batch/s] \n"
     ]
    },
    {
     "data": {
      "text/html": [
       "<div>\n",
       "<style scoped>\n",
       "    .dataframe tbody tr th:only-of-type {\n",
       "        vertical-align: middle;\n",
       "    }\n",
       "\n",
       "    .dataframe tbody tr th {\n",
       "        vertical-align: top;\n",
       "    }\n",
       "\n",
       "    .dataframe thead tr th {\n",
       "        text-align: left;\n",
       "    }\n",
       "</style>\n",
       "<table border=\"1\" class=\"dataframe\">\n",
       "  <thead>\n",
       "    <tr>\n",
       "      <th></th>\n",
       "      <th colspan=\"2\" halign=\"left\">All</th>\n",
       "      <th colspan=\"2\" halign=\"left\">In VOC</th>\n",
       "      <th colspan=\"2\" halign=\"left\">Out of VOC</th>\n",
       "    </tr>\n",
       "    <tr>\n",
       "      <th></th>\n",
       "      <th>f1 micro</th>\n",
       "      <th>f1 macro</th>\n",
       "      <th>f1 micro</th>\n",
       "      <th>f1 macro</th>\n",
       "      <th>f1 micro</th>\n",
       "      <th>f1 macro</th>\n",
       "    </tr>\n",
       "  </thead>\n",
       "  <tbody>\n",
       "    <tr>\n",
       "      <th>0</th>\n",
       "      <td>0.736995</td>\n",
       "      <td>0.231288</td>\n",
       "      <td>0.767325</td>\n",
       "      <td>0.270953</td>\n",
       "      <td>0.175258</td>\n",
       "      <td>0.101935</td>\n",
       "    </tr>\n",
       "  </tbody>\n",
       "</table>\n",
       "</div>"
      ],
      "text/plain": [
       "        All              In VOC           Out of VOC          \n",
       "   f1 micro  f1 macro  f1 micro  f1 macro   f1 micro  f1 macro\n",
       "0  0.736995  0.231288  0.767325  0.270953   0.175258  0.101935"
      ]
     },
     "metadata": {},
     "output_type": "display_data"
    },
    {
     "name": "stderr",
     "output_type": "stream",
     "text": [
      "Epoch 39: 100%|██████████| 1617/1617 [05:42<00:00,  4.72batch/s, loss_decrease=1.0000031068394057]\n",
      "100%|██████████| 3787/3787 [00:38<00:00, 97.82batch/s] \n"
     ]
    },
    {
     "data": {
      "text/html": [
       "<div>\n",
       "<style scoped>\n",
       "    .dataframe tbody tr th:only-of-type {\n",
       "        vertical-align: middle;\n",
       "    }\n",
       "\n",
       "    .dataframe tbody tr th {\n",
       "        vertical-align: top;\n",
       "    }\n",
       "\n",
       "    .dataframe thead tr th {\n",
       "        text-align: left;\n",
       "    }\n",
       "</style>\n",
       "<table border=\"1\" class=\"dataframe\">\n",
       "  <thead>\n",
       "    <tr>\n",
       "      <th></th>\n",
       "      <th colspan=\"2\" halign=\"left\">All</th>\n",
       "      <th colspan=\"2\" halign=\"left\">In VOC</th>\n",
       "      <th colspan=\"2\" halign=\"left\">Out of VOC</th>\n",
       "    </tr>\n",
       "    <tr>\n",
       "      <th></th>\n",
       "      <th>f1 micro</th>\n",
       "      <th>f1 macro</th>\n",
       "      <th>f1 micro</th>\n",
       "      <th>f1 macro</th>\n",
       "      <th>f1 micro</th>\n",
       "      <th>f1 macro</th>\n",
       "    </tr>\n",
       "  </thead>\n",
       "  <tbody>\n",
       "    <tr>\n",
       "      <th>0</th>\n",
       "      <td>0.746765</td>\n",
       "      <td>0.253441</td>\n",
       "      <td>0.775953</td>\n",
       "      <td>0.292817</td>\n",
       "      <td>0.206186</td>\n",
       "      <td>0.117236</td>\n",
       "    </tr>\n",
       "  </tbody>\n",
       "</table>\n",
       "</div>"
      ],
      "text/plain": [
       "        All              In VOC           Out of VOC          \n",
       "   f1 micro  f1 macro  f1 micro  f1 macro   f1 micro  f1 macro\n",
       "0  0.746765  0.253441  0.775953  0.292817   0.206186  0.117236"
      ]
     },
     "metadata": {},
     "output_type": "display_data"
    },
    {
     "name": "stderr",
     "output_type": "stream",
     "text": [
      "Epoch 40: 100%|██████████| 1617/1617 [05:35<00:00,  4.82batch/s, loss_decrease=1.0000032009863558]\n",
      "100%|██████████| 3787/3787 [00:41<00:00, 91.84batch/s] \n"
     ]
    },
    {
     "data": {
      "text/html": [
       "<div>\n",
       "<style scoped>\n",
       "    .dataframe tbody tr th:only-of-type {\n",
       "        vertical-align: middle;\n",
       "    }\n",
       "\n",
       "    .dataframe tbody tr th {\n",
       "        vertical-align: top;\n",
       "    }\n",
       "\n",
       "    .dataframe thead tr th {\n",
       "        text-align: left;\n",
       "    }\n",
       "</style>\n",
       "<table border=\"1\" class=\"dataframe\">\n",
       "  <thead>\n",
       "    <tr>\n",
       "      <th></th>\n",
       "      <th colspan=\"2\" halign=\"left\">All</th>\n",
       "      <th colspan=\"2\" halign=\"left\">In VOC</th>\n",
       "      <th colspan=\"2\" halign=\"left\">Out of VOC</th>\n",
       "    </tr>\n",
       "    <tr>\n",
       "      <th></th>\n",
       "      <th>f1 micro</th>\n",
       "      <th>f1 macro</th>\n",
       "      <th>f1 micro</th>\n",
       "      <th>f1 macro</th>\n",
       "      <th>f1 micro</th>\n",
       "      <th>f1 macro</th>\n",
       "    </tr>\n",
       "  </thead>\n",
       "  <tbody>\n",
       "    <tr>\n",
       "      <th>0</th>\n",
       "      <td>0.74122</td>\n",
       "      <td>0.230214</td>\n",
       "      <td>0.772057</td>\n",
       "      <td>0.272226</td>\n",
       "      <td>0.170103</td>\n",
       "      <td>0.096886</td>\n",
       "    </tr>\n",
       "  </tbody>\n",
       "</table>\n",
       "</div>"
      ],
      "text/plain": [
       "       All              In VOC           Out of VOC          \n",
       "  f1 micro  f1 macro  f1 micro  f1 macro   f1 micro  f1 macro\n",
       "0  0.74122  0.230214  0.772057  0.272226   0.170103  0.096886"
      ]
     },
     "metadata": {},
     "output_type": "display_data"
    },
    {
     "name": "stderr",
     "output_type": "stream",
     "text": [
      "Epoch 41: 100%|██████████| 1617/1617 [05:41<00:00,  4.74batch/s, loss_decrease=1.0000032009863558]\n",
      "100%|██████████| 3787/3787 [00:39<00:00, 94.72batch/s] \n"
     ]
    },
    {
     "data": {
      "text/html": [
       "<div>\n",
       "<style scoped>\n",
       "    .dataframe tbody tr th:only-of-type {\n",
       "        vertical-align: middle;\n",
       "    }\n",
       "\n",
       "    .dataframe tbody tr th {\n",
       "        vertical-align: top;\n",
       "    }\n",
       "\n",
       "    .dataframe thead tr th {\n",
       "        text-align: left;\n",
       "    }\n",
       "</style>\n",
       "<table border=\"1\" class=\"dataframe\">\n",
       "  <thead>\n",
       "    <tr>\n",
       "      <th></th>\n",
       "      <th colspan=\"2\" halign=\"left\">All</th>\n",
       "      <th colspan=\"2\" halign=\"left\">In VOC</th>\n",
       "      <th colspan=\"2\" halign=\"left\">Out of VOC</th>\n",
       "    </tr>\n",
       "    <tr>\n",
       "      <th></th>\n",
       "      <th>f1 micro</th>\n",
       "      <th>f1 macro</th>\n",
       "      <th>f1 micro</th>\n",
       "      <th>f1 macro</th>\n",
       "      <th>f1 micro</th>\n",
       "      <th>f1 macro</th>\n",
       "    </tr>\n",
       "  </thead>\n",
       "  <tbody>\n",
       "    <tr>\n",
       "      <th>0</th>\n",
       "      <td>0.743068</td>\n",
       "      <td>0.238318</td>\n",
       "      <td>0.773448</td>\n",
       "      <td>0.279961</td>\n",
       "      <td>0.180412</td>\n",
       "      <td>0.107394</td>\n",
       "    </tr>\n",
       "  </tbody>\n",
       "</table>\n",
       "</div>"
      ],
      "text/plain": [
       "        All              In VOC           Out of VOC          \n",
       "   f1 micro  f1 macro  f1 micro  f1 macro   f1 micro  f1 macro\n",
       "0  0.743068  0.238318  0.773448  0.279961   0.180412  0.107394"
      ]
     },
     "metadata": {},
     "output_type": "display_data"
    },
    {
     "name": "stderr",
     "output_type": "stream",
     "text": [
      "100%|██████████| 3787/3787 [00:40<00:00, 93.21batch/s] 8batch/s, loss_decrease=1.0000022595176532]\n"
     ]
    },
    {
     "data": {
      "text/html": [
       "<div>\n",
       "<style scoped>\n",
       "    .dataframe tbody tr th:only-of-type {\n",
       "        vertical-align: middle;\n",
       "    }\n",
       "\n",
       "    .dataframe tbody tr th {\n",
       "        vertical-align: top;\n",
       "    }\n",
       "\n",
       "    .dataframe thead tr th {\n",
       "        text-align: left;\n",
       "    }\n",
       "</style>\n",
       "<table border=\"1\" class=\"dataframe\">\n",
       "  <thead>\n",
       "    <tr>\n",
       "      <th></th>\n",
       "      <th colspan=\"2\" halign=\"left\">All</th>\n",
       "      <th colspan=\"2\" halign=\"left\">In VOC</th>\n",
       "      <th colspan=\"2\" halign=\"left\">Out of VOC</th>\n",
       "    </tr>\n",
       "    <tr>\n",
       "      <th></th>\n",
       "      <th>f1 micro</th>\n",
       "      <th>f1 macro</th>\n",
       "      <th>f1 micro</th>\n",
       "      <th>f1 macro</th>\n",
       "      <th>f1 micro</th>\n",
       "      <th>f1 macro</th>\n",
       "    </tr>\n",
       "  </thead>\n",
       "  <tbody>\n",
       "    <tr>\n",
       "      <th>0</th>\n",
       "      <td>0.74254</td>\n",
       "      <td>0.247732</td>\n",
       "      <td>0.7715</td>\n",
       "      <td>0.288709</td>\n",
       "      <td>0.206186</td>\n",
       "      <td>0.115288</td>\n",
       "    </tr>\n",
       "  </tbody>\n",
       "</table>\n",
       "</div>"
      ],
      "text/plain": [
       "       All             In VOC           Out of VOC          \n",
       "  f1 micro  f1 macro f1 micro  f1 macro   f1 micro  f1 macro\n",
       "0  0.74254  0.247732   0.7715  0.288709   0.206186  0.115288"
      ]
     },
     "metadata": {},
     "output_type": "display_data"
    },
    {
     "name": "stderr",
     "output_type": "stream",
     "text": [
      "Epoch 43: 100%|██████████| 1617/1617 [05:41<00:00,  4.74batch/s, loss_decrease=1.0000032009863558]\n",
      "100%|██████████| 3787/3787 [00:40<00:00, 92.58batch/s]\n"
     ]
    },
    {
     "data": {
      "text/html": [
       "<div>\n",
       "<style scoped>\n",
       "    .dataframe tbody tr th:only-of-type {\n",
       "        vertical-align: middle;\n",
       "    }\n",
       "\n",
       "    .dataframe tbody tr th {\n",
       "        vertical-align: top;\n",
       "    }\n",
       "\n",
       "    .dataframe thead tr th {\n",
       "        text-align: left;\n",
       "    }\n",
       "</style>\n",
       "<table border=\"1\" class=\"dataframe\">\n",
       "  <thead>\n",
       "    <tr>\n",
       "      <th></th>\n",
       "      <th colspan=\"2\" halign=\"left\">All</th>\n",
       "      <th colspan=\"2\" halign=\"left\">In VOC</th>\n",
       "      <th colspan=\"2\" halign=\"left\">Out of VOC</th>\n",
       "    </tr>\n",
       "    <tr>\n",
       "      <th></th>\n",
       "      <th>f1 micro</th>\n",
       "      <th>f1 macro</th>\n",
       "      <th>f1 micro</th>\n",
       "      <th>f1 macro</th>\n",
       "      <th>f1 micro</th>\n",
       "      <th>f1 macro</th>\n",
       "    </tr>\n",
       "  </thead>\n",
       "  <tbody>\n",
       "    <tr>\n",
       "      <th>0</th>\n",
       "      <td>0.738579</td>\n",
       "      <td>0.221173</td>\n",
       "      <td>0.768717</td>\n",
       "      <td>0.255345</td>\n",
       "      <td>0.180412</td>\n",
       "      <td>0.101598</td>\n",
       "    </tr>\n",
       "  </tbody>\n",
       "</table>\n",
       "</div>"
      ],
      "text/plain": [
       "        All              In VOC           Out of VOC          \n",
       "   f1 micro  f1 macro  f1 micro  f1 macro   f1 micro  f1 macro\n",
       "0  0.738579  0.221173  0.768717  0.255345   0.180412  0.101598"
      ]
     },
     "metadata": {},
     "output_type": "display_data"
    },
    {
     "name": "stderr",
     "output_type": "stream",
     "text": [
      "Epoch 44: 100%|██████████| 1617/1617 [05:39<00:00,  4.76batch/s, loss_decrease=1.0000032009863558]\n",
      "100%|██████████| 3787/3787 [00:39<00:00, 96.27batch/s] \n"
     ]
    },
    {
     "data": {
      "text/html": [
       "<div>\n",
       "<style scoped>\n",
       "    .dataframe tbody tr th:only-of-type {\n",
       "        vertical-align: middle;\n",
       "    }\n",
       "\n",
       "    .dataframe tbody tr th {\n",
       "        vertical-align: top;\n",
       "    }\n",
       "\n",
       "    .dataframe thead tr th {\n",
       "        text-align: left;\n",
       "    }\n",
       "</style>\n",
       "<table border=\"1\" class=\"dataframe\">\n",
       "  <thead>\n",
       "    <tr>\n",
       "      <th></th>\n",
       "      <th colspan=\"2\" halign=\"left\">All</th>\n",
       "      <th colspan=\"2\" halign=\"left\">In VOC</th>\n",
       "      <th colspan=\"2\" halign=\"left\">Out of VOC</th>\n",
       "    </tr>\n",
       "    <tr>\n",
       "      <th></th>\n",
       "      <th>f1 micro</th>\n",
       "      <th>f1 macro</th>\n",
       "      <th>f1 micro</th>\n",
       "      <th>f1 macro</th>\n",
       "      <th>f1 micro</th>\n",
       "      <th>f1 macro</th>\n",
       "    </tr>\n",
       "  </thead>\n",
       "  <tbody>\n",
       "    <tr>\n",
       "      <th>0</th>\n",
       "      <td>0.741748</td>\n",
       "      <td>0.233758</td>\n",
       "      <td>0.772613</td>\n",
       "      <td>0.276172</td>\n",
       "      <td>0.170103</td>\n",
       "      <td>0.096737</td>\n",
       "    </tr>\n",
       "  </tbody>\n",
       "</table>\n",
       "</div>"
      ],
      "text/plain": [
       "        All              In VOC           Out of VOC          \n",
       "   f1 micro  f1 macro  f1 micro  f1 macro   f1 micro  f1 macro\n",
       "0  0.741748  0.233758  0.772613  0.276172   0.170103  0.096737"
      ]
     },
     "metadata": {},
     "output_type": "display_data"
    },
    {
     "name": "stderr",
     "output_type": "stream",
     "text": [
      "Epoch 45: 100%|██████████| 1617/1617 [05:38<00:00,  4.78batch/s, loss_decrease=1.0000032009863558]\n",
      "100%|██████████| 3787/3787 [00:45<00:00, 83.61batch/s] \n"
     ]
    },
    {
     "data": {
      "text/html": [
       "<div>\n",
       "<style scoped>\n",
       "    .dataframe tbody tr th:only-of-type {\n",
       "        vertical-align: middle;\n",
       "    }\n",
       "\n",
       "    .dataframe tbody tr th {\n",
       "        vertical-align: top;\n",
       "    }\n",
       "\n",
       "    .dataframe thead tr th {\n",
       "        text-align: left;\n",
       "    }\n",
       "</style>\n",
       "<table border=\"1\" class=\"dataframe\">\n",
       "  <thead>\n",
       "    <tr>\n",
       "      <th></th>\n",
       "      <th colspan=\"2\" halign=\"left\">All</th>\n",
       "      <th colspan=\"2\" halign=\"left\">In VOC</th>\n",
       "      <th colspan=\"2\" halign=\"left\">Out of VOC</th>\n",
       "    </tr>\n",
       "    <tr>\n",
       "      <th></th>\n",
       "      <th>f1 micro</th>\n",
       "      <th>f1 macro</th>\n",
       "      <th>f1 micro</th>\n",
       "      <th>f1 macro</th>\n",
       "      <th>f1 micro</th>\n",
       "      <th>f1 macro</th>\n",
       "    </tr>\n",
       "  </thead>\n",
       "  <tbody>\n",
       "    <tr>\n",
       "      <th>0</th>\n",
       "      <td>0.743332</td>\n",
       "      <td>0.236723</td>\n",
       "      <td>0.773448</td>\n",
       "      <td>0.277904</td>\n",
       "      <td>0.185567</td>\n",
       "      <td>0.10668</td>\n",
       "    </tr>\n",
       "  </tbody>\n",
       "</table>\n",
       "</div>"
      ],
      "text/plain": [
       "        All              In VOC           Out of VOC         \n",
       "   f1 micro  f1 macro  f1 micro  f1 macro   f1 micro f1 macro\n",
       "0  0.743332  0.236723  0.773448  0.277904   0.185567  0.10668"
      ]
     },
     "metadata": {},
     "output_type": "display_data"
    },
    {
     "name": "stderr",
     "output_type": "stream",
     "text": [
      "Epoch 46: 100%|██████████| 1617/1617 [05:39<00:00,  4.77batch/s, loss_decrease=1.0000032951333235]\n",
      "100%|██████████| 3787/3787 [00:40<00:00, 94.21batch/s]\n"
     ]
    },
    {
     "data": {
      "text/html": [
       "<div>\n",
       "<style scoped>\n",
       "    .dataframe tbody tr th:only-of-type {\n",
       "        vertical-align: middle;\n",
       "    }\n",
       "\n",
       "    .dataframe tbody tr th {\n",
       "        vertical-align: top;\n",
       "    }\n",
       "\n",
       "    .dataframe thead tr th {\n",
       "        text-align: left;\n",
       "    }\n",
       "</style>\n",
       "<table border=\"1\" class=\"dataframe\">\n",
       "  <thead>\n",
       "    <tr>\n",
       "      <th></th>\n",
       "      <th colspan=\"2\" halign=\"left\">All</th>\n",
       "      <th colspan=\"2\" halign=\"left\">In VOC</th>\n",
       "      <th colspan=\"2\" halign=\"left\">Out of VOC</th>\n",
       "    </tr>\n",
       "    <tr>\n",
       "      <th></th>\n",
       "      <th>f1 micro</th>\n",
       "      <th>f1 macro</th>\n",
       "      <th>f1 micro</th>\n",
       "      <th>f1 macro</th>\n",
       "      <th>f1 micro</th>\n",
       "      <th>f1 macro</th>\n",
       "    </tr>\n",
       "  </thead>\n",
       "  <tbody>\n",
       "    <tr>\n",
       "      <th>0</th>\n",
       "      <td>0.742804</td>\n",
       "      <td>0.24157</td>\n",
       "      <td>0.772613</td>\n",
       "      <td>0.282207</td>\n",
       "      <td>0.190722</td>\n",
       "      <td>0.107516</td>\n",
       "    </tr>\n",
       "  </tbody>\n",
       "</table>\n",
       "</div>"
      ],
      "text/plain": [
       "        All             In VOC           Out of VOC          \n",
       "   f1 micro f1 macro  f1 micro  f1 macro   f1 micro  f1 macro\n",
       "0  0.742804  0.24157  0.772613  0.282207   0.190722  0.107516"
      ]
     },
     "metadata": {},
     "output_type": "display_data"
    },
    {
     "name": "stderr",
     "output_type": "stream",
     "text": [
      "Epoch 47: 100%|██████████| 1617/1617 [05:37<00:00,  4.79batch/s, loss_decrease=1.0000032951333235]\n",
      "100%|██████████| 3787/3787 [00:40<00:00, 92.46batch/s]\n"
     ]
    },
    {
     "data": {
      "text/html": [
       "<div>\n",
       "<style scoped>\n",
       "    .dataframe tbody tr th:only-of-type {\n",
       "        vertical-align: middle;\n",
       "    }\n",
       "\n",
       "    .dataframe tbody tr th {\n",
       "        vertical-align: top;\n",
       "    }\n",
       "\n",
       "    .dataframe thead tr th {\n",
       "        text-align: left;\n",
       "    }\n",
       "</style>\n",
       "<table border=\"1\" class=\"dataframe\">\n",
       "  <thead>\n",
       "    <tr>\n",
       "      <th></th>\n",
       "      <th colspan=\"2\" halign=\"left\">All</th>\n",
       "      <th colspan=\"2\" halign=\"left\">In VOC</th>\n",
       "      <th colspan=\"2\" halign=\"left\">Out of VOC</th>\n",
       "    </tr>\n",
       "    <tr>\n",
       "      <th></th>\n",
       "      <th>f1 micro</th>\n",
       "      <th>f1 macro</th>\n",
       "      <th>f1 micro</th>\n",
       "      <th>f1 macro</th>\n",
       "      <th>f1 micro</th>\n",
       "      <th>f1 macro</th>\n",
       "    </tr>\n",
       "  </thead>\n",
       "  <tbody>\n",
       "    <tr>\n",
       "      <th>0</th>\n",
       "      <td>0.745973</td>\n",
       "      <td>0.235655</td>\n",
       "      <td>0.77651</td>\n",
       "      <td>0.276821</td>\n",
       "      <td>0.180412</td>\n",
       "      <td>0.103448</td>\n",
       "    </tr>\n",
       "  </tbody>\n",
       "</table>\n",
       "</div>"
      ],
      "text/plain": [
       "        All             In VOC           Out of VOC          \n",
       "   f1 micro  f1 macro f1 micro  f1 macro   f1 micro  f1 macro\n",
       "0  0.745973  0.235655  0.77651  0.276821   0.180412  0.103448"
      ]
     },
     "metadata": {},
     "output_type": "display_data"
    },
    {
     "name": "stderr",
     "output_type": "stream",
     "text": [
      "Epoch 48: 100%|██████████| 1617/1617 [05:38<00:00,  4.77batch/s, loss_decrease=1.0000032951333235]\n",
      "100%|██████████| 3787/3787 [00:39<00:00, 96.40batch/s] \n"
     ]
    },
    {
     "data": {
      "text/html": [
       "<div>\n",
       "<style scoped>\n",
       "    .dataframe tbody tr th:only-of-type {\n",
       "        vertical-align: middle;\n",
       "    }\n",
       "\n",
       "    .dataframe tbody tr th {\n",
       "        vertical-align: top;\n",
       "    }\n",
       "\n",
       "    .dataframe thead tr th {\n",
       "        text-align: left;\n",
       "    }\n",
       "</style>\n",
       "<table border=\"1\" class=\"dataframe\">\n",
       "  <thead>\n",
       "    <tr>\n",
       "      <th></th>\n",
       "      <th colspan=\"2\" halign=\"left\">All</th>\n",
       "      <th colspan=\"2\" halign=\"left\">In VOC</th>\n",
       "      <th colspan=\"2\" halign=\"left\">Out of VOC</th>\n",
       "    </tr>\n",
       "    <tr>\n",
       "      <th></th>\n",
       "      <th>f1 micro</th>\n",
       "      <th>f1 macro</th>\n",
       "      <th>f1 micro</th>\n",
       "      <th>f1 macro</th>\n",
       "      <th>f1 micro</th>\n",
       "      <th>f1 macro</th>\n",
       "    </tr>\n",
       "  </thead>\n",
       "  <tbody>\n",
       "    <tr>\n",
       "      <th>0</th>\n",
       "      <td>0.744653</td>\n",
       "      <td>0.247322</td>\n",
       "      <td>0.775397</td>\n",
       "      <td>0.293076</td>\n",
       "      <td>0.175258</td>\n",
       "      <td>0.100465</td>\n",
       "    </tr>\n",
       "  </tbody>\n",
       "</table>\n",
       "</div>"
      ],
      "text/plain": [
       "        All              In VOC           Out of VOC          \n",
       "   f1 micro  f1 macro  f1 micro  f1 macro   f1 micro  f1 macro\n",
       "0  0.744653  0.247322  0.775397  0.293076   0.175258  0.100465"
      ]
     },
     "metadata": {},
     "output_type": "display_data"
    },
    {
     "name": "stderr",
     "output_type": "stream",
     "text": [
      "Epoch 49: 100%|██████████| 1617/1617 [05:39<00:00,  4.76batch/s, loss_decrease=1.0000032951333235]\n",
      "100%|██████████| 3787/3787 [00:39<00:00, 96.19batch/s] \n"
     ]
    },
    {
     "data": {
      "text/html": [
       "<div>\n",
       "<style scoped>\n",
       "    .dataframe tbody tr th:only-of-type {\n",
       "        vertical-align: middle;\n",
       "    }\n",
       "\n",
       "    .dataframe tbody tr th {\n",
       "        vertical-align: top;\n",
       "    }\n",
       "\n",
       "    .dataframe thead tr th {\n",
       "        text-align: left;\n",
       "    }\n",
       "</style>\n",
       "<table border=\"1\" class=\"dataframe\">\n",
       "  <thead>\n",
       "    <tr>\n",
       "      <th></th>\n",
       "      <th colspan=\"2\" halign=\"left\">All</th>\n",
       "      <th colspan=\"2\" halign=\"left\">In VOC</th>\n",
       "      <th colspan=\"2\" halign=\"left\">Out of VOC</th>\n",
       "    </tr>\n",
       "    <tr>\n",
       "      <th></th>\n",
       "      <th>f1 micro</th>\n",
       "      <th>f1 macro</th>\n",
       "      <th>f1 micro</th>\n",
       "      <th>f1 macro</th>\n",
       "      <th>f1 micro</th>\n",
       "      <th>f1 macro</th>\n",
       "    </tr>\n",
       "  </thead>\n",
       "  <tbody>\n",
       "    <tr>\n",
       "      <th>0</th>\n",
       "      <td>0.745181</td>\n",
       "      <td>0.248322</td>\n",
       "      <td>0.775675</td>\n",
       "      <td>0.290498</td>\n",
       "      <td>0.180412</td>\n",
       "      <td>0.104694</td>\n",
       "    </tr>\n",
       "  </tbody>\n",
       "</table>\n",
       "</div>"
      ],
      "text/plain": [
       "        All              In VOC           Out of VOC          \n",
       "   f1 micro  f1 macro  f1 micro  f1 macro   f1 micro  f1 macro\n",
       "0  0.745181  0.248322  0.775675  0.290498   0.180412  0.104694"
      ]
     },
     "metadata": {},
     "output_type": "display_data"
    },
    {
     "name": "stderr",
     "output_type": "stream",
     "text": [
      "Epoch 50: 100%|██████████| 1617/1617 [05:38<00:00,  4.78batch/s, loss_decrease=1.0000032951333235]\n",
      "100%|██████████| 3787/3787 [00:39<00:00, 96.14batch/s] \n"
     ]
    },
    {
     "data": {
      "text/html": [
       "<div>\n",
       "<style scoped>\n",
       "    .dataframe tbody tr th:only-of-type {\n",
       "        vertical-align: middle;\n",
       "    }\n",
       "\n",
       "    .dataframe tbody tr th {\n",
       "        vertical-align: top;\n",
       "    }\n",
       "\n",
       "    .dataframe thead tr th {\n",
       "        text-align: left;\n",
       "    }\n",
       "</style>\n",
       "<table border=\"1\" class=\"dataframe\">\n",
       "  <thead>\n",
       "    <tr>\n",
       "      <th></th>\n",
       "      <th colspan=\"2\" halign=\"left\">All</th>\n",
       "      <th colspan=\"2\" halign=\"left\">In VOC</th>\n",
       "      <th colspan=\"2\" halign=\"left\">Out of VOC</th>\n",
       "    </tr>\n",
       "    <tr>\n",
       "      <th></th>\n",
       "      <th>f1 micro</th>\n",
       "      <th>f1 macro</th>\n",
       "      <th>f1 micro</th>\n",
       "      <th>f1 macro</th>\n",
       "      <th>f1 micro</th>\n",
       "      <th>f1 macro</th>\n",
       "    </tr>\n",
       "  </thead>\n",
       "  <tbody>\n",
       "    <tr>\n",
       "      <th>0</th>\n",
       "      <td>0.745181</td>\n",
       "      <td>0.24042</td>\n",
       "      <td>0.775953</td>\n",
       "      <td>0.283091</td>\n",
       "      <td>0.175258</td>\n",
       "      <td>0.10323</td>\n",
       "    </tr>\n",
       "  </tbody>\n",
       "</table>\n",
       "</div>"
      ],
      "text/plain": [
       "        All             In VOC           Out of VOC         \n",
       "   f1 micro f1 macro  f1 micro  f1 macro   f1 micro f1 macro\n",
       "0  0.745181  0.24042  0.775953  0.283091   0.175258  0.10323"
      ]
     },
     "metadata": {},
     "output_type": "display_data"
    },
    {
     "name": "stdout",
     "output_type": "stream",
     "text": [
      "Finished Training\n"
     ]
    }
   ],
   "source": [
    "from tqdm import trange\n",
    "from tqdm import tqdm\n",
    "from sklearn.metrics import classification_report, f1_score\n",
    "from evaluator import Evaluator\n",
    "import numpy as np\n",
    "\n",
    "\n",
    "\n",
    "#Гиперпараметры\n",
    "batch_size=64\n",
    "epochs = 50\n",
    "    \n",
    "trainloader = torch.utils.data.DataLoader(ds_train, batch_size=batch_size,\n",
    "                                          shuffle=False, num_workers=0)\n",
    "testloader = torch.utils.data.DataLoader(ds_test, batch_size=1, shuffle=False)\n",
    "\n",
    "\n",
    "initial_loss = None\n",
    "\n",
    "for epoch in range(1, epochs+1):\n",
    "    #обучение модели в эпохе\n",
    "    net.train()\n",
    "    with tqdm(trainloader, unit=\"batch\") as tepoch:\n",
    "        for data in tepoch:\n",
    "\n",
    "            tepoch.set_description(f\"Epoch {epoch}\")\n",
    "\n",
    "            inputs = data['tokenized_phrases']\n",
    "            labels = data['one_hot_labels']\n",
    "\n",
    "            optimizer.zero_grad()\n",
    "            if USE_CUDA=='cuda':\n",
    "                with torch.cuda.amp.autocast():\n",
    "                    outputs = net(inputs)['output']\n",
    "                    loss = criterion(outputs, labels)\n",
    "                scaler.scale(loss).backward()\n",
    "                scaler.step(optimizer)\n",
    "                scaler.update()\n",
    "            else:\n",
    "                outputs = net(inputs)['output']\n",
    "                loss = criterion(outputs, labels)\n",
    "                loss.backward()\n",
    "                optimizer.step()\n",
    "            if initial_loss is None:\n",
    "                initial_loss = loss.item()\n",
    "            tepoch.set_postfix(loss_decrease = str(initial_loss/loss.item()))\n",
    "    #расчет точностей модели после эпохи\n",
    "    net.eval()\n",
    "    model_answers=[]\n",
    "    real_answers=[]\n",
    "    with tqdm(testloader, unit=\"batch\") as eval_process:\n",
    "        for data in eval_process:\n",
    "\n",
    "            inputs = data['tokenized_phrases']\n",
    "\n",
    "            with torch.no_grad():\n",
    "                outputs_dict = net(inputs)\n",
    "                pred_meddra_code = CV.meddra_codes[outputs_dict['output'].argmax()]\n",
    "\n",
    "\n",
    "            model_answers.append(pred_meddra_code)\n",
    "            real_answers.append(data['label_codes'][0])\n",
    "    evaluator.get_all_f1_scores(real_answers, model_answers)\n",
    "print('Finished Training')\n",
    "torch.save(net,'./Model_weights/rubert_additional_corp_v3_%s.pt'%epoch)"
   ]
  },
  {
   "cell_type": "markdown",
   "id": "middle-wrist",
   "metadata": {},
   "source": [
    "<h2>Подбор гиперпараметров</h2>"
   ]
  },
  {
   "cell_type": "code",
   "execution_count": null,
   "id": "successful-index",
   "metadata": {},
   "outputs": [],
   "source": [
    "from parameters_optimization import CADEC_SoTa_Optimizer\n",
    "\n",
    "training_param_optimizer = CADEC_SoTa_Optimizer(net, ds_train, ds_test, \n",
    "                                                hyperparam_space={'lr': (0.00001, 0.001), 'batch_size': (16, 32, 64)},\n",
    "                                                verbose=True)\n",
    "best_hyperparams = training_param_optimizer.optimize()\n",
    "print(best_hyperparams)"
   ]
  },
  {
   "cell_type": "code",
   "execution_count": null,
   "id": "passive-round",
   "metadata": {},
   "outputs": [],
   "source": [
    "'5. f1: 0.4008, lr: 0.0002819, bs: 32'"
   ]
  },
  {
   "cell_type": "code",
   "execution_count": null,
   "id": "south-legislature",
   "metadata": {},
   "outputs": [],
   "source": [
    "'f1: 0.4563, lr: 0.0003526, bs: 16'"
   ]
  },
  {
   "cell_type": "code",
   "execution_count": 12,
   "id": "divine-automation",
   "metadata": {},
   "outputs": [],
   "source": [
    "import torch\n",
    "from models import CADEC_SoTa\n",
    "\n",
    "net = torch.load('./Model_weights/rubert_only_additional_corp_v2_30ep.pt') "
   ]
  },
  {
   "cell_type": "markdown",
   "id": "english-prompt",
   "metadata": {},
   "source": [
    "<h3>Процесс обучения и рассчета точностей rubert с доп. корпусом и классом Evaluator</h3>"
   ]
  },
  {
   "cell_type": "code",
   "execution_count": 15,
   "id": "answering-cricket",
   "metadata": {},
   "outputs": [
    {
     "name": "stderr",
     "output_type": "stream",
     "text": [
      "Epoch 1: 100%|██████████| 508/508 [00:47<00:00, 10.64batch/s, loss_decrease=0.9999988702420243]\n",
      "100%|██████████| 3787/3787 [00:44<00:00, 85.25batch/s]\n"
     ]
    },
    {
     "data": {
      "text/html": [
       "<div>\n",
       "<style scoped>\n",
       "    .dataframe tbody tr th:only-of-type {\n",
       "        vertical-align: middle;\n",
       "    }\n",
       "\n",
       "    .dataframe tbody tr th {\n",
       "        vertical-align: top;\n",
       "    }\n",
       "\n",
       "    .dataframe thead tr th {\n",
       "        text-align: left;\n",
       "    }\n",
       "</style>\n",
       "<table border=\"1\" class=\"dataframe\">\n",
       "  <thead>\n",
       "    <tr>\n",
       "      <th></th>\n",
       "      <th colspan=\"2\" halign=\"left\">All</th>\n",
       "      <th colspan=\"2\" halign=\"left\">In VOC</th>\n",
       "      <th colspan=\"2\" halign=\"left\">Out of VOC</th>\n",
       "    </tr>\n",
       "    <tr>\n",
       "      <th></th>\n",
       "      <th>f1 micro</th>\n",
       "      <th>f1 macro</th>\n",
       "      <th>f1 micro</th>\n",
       "      <th>f1 macro</th>\n",
       "      <th>f1 micro</th>\n",
       "      <th>f1 macro</th>\n",
       "    </tr>\n",
       "  </thead>\n",
       "  <tbody>\n",
       "    <tr>\n",
       "      <th>0</th>\n",
       "      <td>0.7061</td>\n",
       "      <td>0.239987</td>\n",
       "      <td>0.735597</td>\n",
       "      <td>0.2816</td>\n",
       "      <td>0.159794</td>\n",
       "      <td>0.101421</td>\n",
       "    </tr>\n",
       "  </tbody>\n",
       "</table>\n",
       "</div>"
      ],
      "text/plain": [
       "       All              In VOC          Out of VOC          \n",
       "  f1 micro  f1 macro  f1 micro f1 macro   f1 micro  f1 macro\n",
       "0   0.7061  0.239987  0.735597   0.2816   0.159794  0.101421"
      ]
     },
     "metadata": {},
     "output_type": "display_data"
    },
    {
     "name": "stderr",
     "output_type": "stream",
     "text": [
      "Epoch 2: 100%|██████████| 508/508 [00:46<00:00, 11.02batch/s, loss_decrease=0.9999995292671999]\n",
      "100%|██████████| 3787/3787 [00:42<00:00, 89.00batch/s]\n"
     ]
    },
    {
     "data": {
      "text/html": [
       "<div>\n",
       "<style scoped>\n",
       "    .dataframe tbody tr th:only-of-type {\n",
       "        vertical-align: middle;\n",
       "    }\n",
       "\n",
       "    .dataframe tbody tr th {\n",
       "        vertical-align: top;\n",
       "    }\n",
       "\n",
       "    .dataframe thead tr th {\n",
       "        text-align: left;\n",
       "    }\n",
       "</style>\n",
       "<table border=\"1\" class=\"dataframe\">\n",
       "  <thead>\n",
       "    <tr>\n",
       "      <th></th>\n",
       "      <th colspan=\"2\" halign=\"left\">All</th>\n",
       "      <th colspan=\"2\" halign=\"left\">In VOC</th>\n",
       "      <th colspan=\"2\" halign=\"left\">Out of VOC</th>\n",
       "    </tr>\n",
       "    <tr>\n",
       "      <th></th>\n",
       "      <th>f1 micro</th>\n",
       "      <th>f1 macro</th>\n",
       "      <th>f1 micro</th>\n",
       "      <th>f1 macro</th>\n",
       "      <th>f1 micro</th>\n",
       "      <th>f1 macro</th>\n",
       "    </tr>\n",
       "  </thead>\n",
       "  <tbody>\n",
       "    <tr>\n",
       "      <th>0</th>\n",
       "      <td>0.730922</td>\n",
       "      <td>0.259726</td>\n",
       "      <td>0.761481</td>\n",
       "      <td>0.314257</td>\n",
       "      <td>0.164948</td>\n",
       "      <td>0.097863</td>\n",
       "    </tr>\n",
       "  </tbody>\n",
       "</table>\n",
       "</div>"
      ],
      "text/plain": [
       "        All              In VOC           Out of VOC          \n",
       "   f1 micro  f1 macro  f1 micro  f1 macro   f1 micro  f1 macro\n",
       "0  0.730922  0.259726  0.761481  0.314257   0.164948  0.097863"
      ]
     },
     "metadata": {},
     "output_type": "display_data"
    },
    {
     "name": "stderr",
     "output_type": "stream",
     "text": [
      "Epoch 3: 100%|██████████| 508/508 [00:45<00:00, 11.20batch/s, loss_decrease=0.9999997175602667]\n",
      "100%|██████████| 3787/3787 [00:42<00:00, 90.04batch/s]\n"
     ]
    },
    {
     "data": {
      "text/html": [
       "<div>\n",
       "<style scoped>\n",
       "    .dataframe tbody tr th:only-of-type {\n",
       "        vertical-align: middle;\n",
       "    }\n",
       "\n",
       "    .dataframe tbody tr th {\n",
       "        vertical-align: top;\n",
       "    }\n",
       "\n",
       "    .dataframe thead tr th {\n",
       "        text-align: left;\n",
       "    }\n",
       "</style>\n",
       "<table border=\"1\" class=\"dataframe\">\n",
       "  <thead>\n",
       "    <tr>\n",
       "      <th></th>\n",
       "      <th colspan=\"2\" halign=\"left\">All</th>\n",
       "      <th colspan=\"2\" halign=\"left\">In VOC</th>\n",
       "      <th colspan=\"2\" halign=\"left\">Out of VOC</th>\n",
       "    </tr>\n",
       "    <tr>\n",
       "      <th></th>\n",
       "      <th>f1 micro</th>\n",
       "      <th>f1 macro</th>\n",
       "      <th>f1 micro</th>\n",
       "      <th>f1 macro</th>\n",
       "      <th>f1 micro</th>\n",
       "      <th>f1 macro</th>\n",
       "    </tr>\n",
       "  </thead>\n",
       "  <tbody>\n",
       "    <tr>\n",
       "      <th>0</th>\n",
       "      <td>0.740956</td>\n",
       "      <td>0.260669</td>\n",
       "      <td>0.773448</td>\n",
       "      <td>0.321769</td>\n",
       "      <td>0.139175</td>\n",
       "      <td>0.085008</td>\n",
       "    </tr>\n",
       "  </tbody>\n",
       "</table>\n",
       "</div>"
      ],
      "text/plain": [
       "        All              In VOC           Out of VOC          \n",
       "   f1 micro  f1 macro  f1 micro  f1 macro   f1 micro  f1 macro\n",
       "0  0.740956  0.260669  0.773448  0.321769   0.139175  0.085008"
      ]
     },
     "metadata": {},
     "output_type": "display_data"
    },
    {
     "name": "stderr",
     "output_type": "stream",
     "text": [
      "Epoch 4: 100%|██████████| 508/508 [00:45<00:00, 11.23batch/s, loss_decrease=1.000000564879945] \n",
      "100%|██████████| 3787/3787 [00:42<00:00, 88.15batch/s]\n"
     ]
    },
    {
     "data": {
      "text/html": [
       "<div>\n",
       "<style scoped>\n",
       "    .dataframe tbody tr th:only-of-type {\n",
       "        vertical-align: middle;\n",
       "    }\n",
       "\n",
       "    .dataframe tbody tr th {\n",
       "        vertical-align: top;\n",
       "    }\n",
       "\n",
       "    .dataframe thead tr th {\n",
       "        text-align: left;\n",
       "    }\n",
       "</style>\n",
       "<table border=\"1\" class=\"dataframe\">\n",
       "  <thead>\n",
       "    <tr>\n",
       "      <th></th>\n",
       "      <th colspan=\"2\" halign=\"left\">All</th>\n",
       "      <th colspan=\"2\" halign=\"left\">In VOC</th>\n",
       "      <th colspan=\"2\" halign=\"left\">Out of VOC</th>\n",
       "    </tr>\n",
       "    <tr>\n",
       "      <th></th>\n",
       "      <th>f1 micro</th>\n",
       "      <th>f1 macro</th>\n",
       "      <th>f1 micro</th>\n",
       "      <th>f1 macro</th>\n",
       "      <th>f1 micro</th>\n",
       "      <th>f1 macro</th>\n",
       "    </tr>\n",
       "  </thead>\n",
       "  <tbody>\n",
       "    <tr>\n",
       "      <th>0</th>\n",
       "      <td>0.749142</td>\n",
       "      <td>0.269401</td>\n",
       "      <td>0.78152</td>\n",
       "      <td>0.327828</td>\n",
       "      <td>0.149485</td>\n",
       "      <td>0.097154</td>\n",
       "    </tr>\n",
       "  </tbody>\n",
       "</table>\n",
       "</div>"
      ],
      "text/plain": [
       "        All             In VOC           Out of VOC          \n",
       "   f1 micro  f1 macro f1 micro  f1 macro   f1 micro  f1 macro\n",
       "0  0.749142  0.269401  0.78152  0.327828   0.149485  0.097154"
      ]
     },
     "metadata": {},
     "output_type": "display_data"
    },
    {
     "name": "stderr",
     "output_type": "stream",
     "text": [
      "Epoch 5: 100%|██████████| 508/508 [00:45<00:00, 11.07batch/s, loss_decrease=1.000000753173402] \n",
      "100%|██████████| 3787/3787 [00:41<00:00, 92.23batch/s]\n"
     ]
    },
    {
     "data": {
      "text/html": [
       "<div>\n",
       "<style scoped>\n",
       "    .dataframe tbody tr th:only-of-type {\n",
       "        vertical-align: middle;\n",
       "    }\n",
       "\n",
       "    .dataframe tbody tr th {\n",
       "        vertical-align: top;\n",
       "    }\n",
       "\n",
       "    .dataframe thead tr th {\n",
       "        text-align: left;\n",
       "    }\n",
       "</style>\n",
       "<table border=\"1\" class=\"dataframe\">\n",
       "  <thead>\n",
       "    <tr>\n",
       "      <th></th>\n",
       "      <th colspan=\"2\" halign=\"left\">All</th>\n",
       "      <th colspan=\"2\" halign=\"left\">In VOC</th>\n",
       "      <th colspan=\"2\" halign=\"left\">Out of VOC</th>\n",
       "    </tr>\n",
       "    <tr>\n",
       "      <th></th>\n",
       "      <th>f1 micro</th>\n",
       "      <th>f1 macro</th>\n",
       "      <th>f1 micro</th>\n",
       "      <th>f1 macro</th>\n",
       "      <th>f1 micro</th>\n",
       "      <th>f1 macro</th>\n",
       "    </tr>\n",
       "  </thead>\n",
       "  <tbody>\n",
       "    <tr>\n",
       "      <th>0</th>\n",
       "      <td>0.746237</td>\n",
       "      <td>0.267683</td>\n",
       "      <td>0.779571</td>\n",
       "      <td>0.335442</td>\n",
       "      <td>0.128866</td>\n",
       "      <td>0.083105</td>\n",
       "    </tr>\n",
       "  </tbody>\n",
       "</table>\n",
       "</div>"
      ],
      "text/plain": [
       "        All              In VOC           Out of VOC          \n",
       "   f1 micro  f1 macro  f1 micro  f1 macro   f1 micro  f1 macro\n",
       "0  0.746237  0.267683  0.779571  0.335442   0.128866  0.083105"
      ]
     },
     "metadata": {},
     "output_type": "display_data"
    },
    {
     "name": "stderr",
     "output_type": "stream",
     "text": [
      "Epoch 6: 100%|██████████| 508/508 [00:44<00:00, 11.34batch/s, loss_decrease=1.000000847320157] \n",
      "100%|██████████| 3787/3787 [00:43<00:00, 87.17batch/s]\n"
     ]
    },
    {
     "data": {
      "text/html": [
       "<div>\n",
       "<style scoped>\n",
       "    .dataframe tbody tr th:only-of-type {\n",
       "        vertical-align: middle;\n",
       "    }\n",
       "\n",
       "    .dataframe tbody tr th {\n",
       "        vertical-align: top;\n",
       "    }\n",
       "\n",
       "    .dataframe thead tr th {\n",
       "        text-align: left;\n",
       "    }\n",
       "</style>\n",
       "<table border=\"1\" class=\"dataframe\">\n",
       "  <thead>\n",
       "    <tr>\n",
       "      <th></th>\n",
       "      <th colspan=\"2\" halign=\"left\">All</th>\n",
       "      <th colspan=\"2\" halign=\"left\">In VOC</th>\n",
       "      <th colspan=\"2\" halign=\"left\">Out of VOC</th>\n",
       "    </tr>\n",
       "    <tr>\n",
       "      <th></th>\n",
       "      <th>f1 micro</th>\n",
       "      <th>f1 macro</th>\n",
       "      <th>f1 micro</th>\n",
       "      <th>f1 macro</th>\n",
       "      <th>f1 micro</th>\n",
       "      <th>f1 macro</th>\n",
       "    </tr>\n",
       "  </thead>\n",
       "  <tbody>\n",
       "    <tr>\n",
       "      <th>0</th>\n",
       "      <td>0.751518</td>\n",
       "      <td>0.274348</td>\n",
       "      <td>0.784581</td>\n",
       "      <td>0.34006</td>\n",
       "      <td>0.139175</td>\n",
       "      <td>0.094612</td>\n",
       "    </tr>\n",
       "  </tbody>\n",
       "</table>\n",
       "</div>"
      ],
      "text/plain": [
       "        All              In VOC          Out of VOC          \n",
       "   f1 micro  f1 macro  f1 micro f1 macro   f1 micro  f1 macro\n",
       "0  0.751518  0.274348  0.784581  0.34006   0.139175  0.094612"
      ]
     },
     "metadata": {},
     "output_type": "display_data"
    },
    {
     "name": "stderr",
     "output_type": "stream",
     "text": [
      "Epoch 7: 100%|██████████| 508/508 [00:46<00:00, 11.02batch/s, loss_decrease=1.0000010356137203]\n",
      "100%|██████████| 3787/3787 [00:45<00:00, 83.89batch/s]\n"
     ]
    },
    {
     "data": {
      "text/html": [
       "<div>\n",
       "<style scoped>\n",
       "    .dataframe tbody tr th:only-of-type {\n",
       "        vertical-align: middle;\n",
       "    }\n",
       "\n",
       "    .dataframe tbody tr th {\n",
       "        vertical-align: top;\n",
       "    }\n",
       "\n",
       "    .dataframe thead tr th {\n",
       "        text-align: left;\n",
       "    }\n",
       "</style>\n",
       "<table border=\"1\" class=\"dataframe\">\n",
       "  <thead>\n",
       "    <tr>\n",
       "      <th></th>\n",
       "      <th colspan=\"2\" halign=\"left\">All</th>\n",
       "      <th colspan=\"2\" halign=\"left\">In VOC</th>\n",
       "      <th colspan=\"2\" halign=\"left\">Out of VOC</th>\n",
       "    </tr>\n",
       "    <tr>\n",
       "      <th></th>\n",
       "      <th>f1 micro</th>\n",
       "      <th>f1 macro</th>\n",
       "      <th>f1 micro</th>\n",
       "      <th>f1 macro</th>\n",
       "      <th>f1 micro</th>\n",
       "      <th>f1 macro</th>\n",
       "    </tr>\n",
       "  </thead>\n",
       "  <tbody>\n",
       "    <tr>\n",
       "      <th>0</th>\n",
       "      <td>0.753895</td>\n",
       "      <td>0.271889</td>\n",
       "      <td>0.789034</td>\n",
       "      <td>0.351435</td>\n",
       "      <td>0.103093</td>\n",
       "      <td>0.063579</td>\n",
       "    </tr>\n",
       "  </tbody>\n",
       "</table>\n",
       "</div>"
      ],
      "text/plain": [
       "        All              In VOC           Out of VOC          \n",
       "   f1 micro  f1 macro  f1 micro  f1 macro   f1 micro  f1 macro\n",
       "0  0.753895  0.271889  0.789034  0.351435   0.103093  0.063579"
      ]
     },
     "metadata": {},
     "output_type": "display_data"
    },
    {
     "name": "stderr",
     "output_type": "stream",
     "text": [
      "Epoch 8: 100%|██████████| 508/508 [00:47<00:00, 10.66batch/s, loss_decrease=1.0000009414669297]\n",
      "100%|██████████| 3787/3787 [00:44<00:00, 84.71batch/s]\n"
     ]
    },
    {
     "data": {
      "text/html": [
       "<div>\n",
       "<style scoped>\n",
       "    .dataframe tbody tr th:only-of-type {\n",
       "        vertical-align: middle;\n",
       "    }\n",
       "\n",
       "    .dataframe tbody tr th {\n",
       "        vertical-align: top;\n",
       "    }\n",
       "\n",
       "    .dataframe thead tr th {\n",
       "        text-align: left;\n",
       "    }\n",
       "</style>\n",
       "<table border=\"1\" class=\"dataframe\">\n",
       "  <thead>\n",
       "    <tr>\n",
       "      <th></th>\n",
       "      <th colspan=\"2\" halign=\"left\">All</th>\n",
       "      <th colspan=\"2\" halign=\"left\">In VOC</th>\n",
       "      <th colspan=\"2\" halign=\"left\">Out of VOC</th>\n",
       "    </tr>\n",
       "    <tr>\n",
       "      <th></th>\n",
       "      <th>f1 micro</th>\n",
       "      <th>f1 macro</th>\n",
       "      <th>f1 micro</th>\n",
       "      <th>f1 macro</th>\n",
       "      <th>f1 micro</th>\n",
       "      <th>f1 macro</th>\n",
       "    </tr>\n",
       "  </thead>\n",
       "  <tbody>\n",
       "    <tr>\n",
       "      <th>0</th>\n",
       "      <td>0.754951</td>\n",
       "      <td>0.286102</td>\n",
       "      <td>0.788199</td>\n",
       "      <td>0.354944</td>\n",
       "      <td>0.139175</td>\n",
       "      <td>0.089308</td>\n",
       "    </tr>\n",
       "  </tbody>\n",
       "</table>\n",
       "</div>"
      ],
      "text/plain": [
       "        All              In VOC           Out of VOC          \n",
       "   f1 micro  f1 macro  f1 micro  f1 macro   f1 micro  f1 macro\n",
       "0  0.754951  0.286102  0.788199  0.354944   0.139175  0.089308"
      ]
     },
     "metadata": {},
     "output_type": "display_data"
    },
    {
     "name": "stderr",
     "output_type": "stream",
     "text": [
      "Epoch 9: 100%|██████████| 508/508 [00:45<00:00, 11.28batch/s, loss_decrease=1.0000012239073544]\n",
      "100%|██████████| 3787/3787 [00:42<00:00, 89.20batch/s]\n"
     ]
    },
    {
     "data": {
      "text/html": [
       "<div>\n",
       "<style scoped>\n",
       "    .dataframe tbody tr th:only-of-type {\n",
       "        vertical-align: middle;\n",
       "    }\n",
       "\n",
       "    .dataframe tbody tr th {\n",
       "        vertical-align: top;\n",
       "    }\n",
       "\n",
       "    .dataframe thead tr th {\n",
       "        text-align: left;\n",
       "    }\n",
       "</style>\n",
       "<table border=\"1\" class=\"dataframe\">\n",
       "  <thead>\n",
       "    <tr>\n",
       "      <th></th>\n",
       "      <th colspan=\"2\" halign=\"left\">All</th>\n",
       "      <th colspan=\"2\" halign=\"left\">In VOC</th>\n",
       "      <th colspan=\"2\" halign=\"left\">Out of VOC</th>\n",
       "    </tr>\n",
       "    <tr>\n",
       "      <th></th>\n",
       "      <th>f1 micro</th>\n",
       "      <th>f1 macro</th>\n",
       "      <th>f1 micro</th>\n",
       "      <th>f1 macro</th>\n",
       "      <th>f1 micro</th>\n",
       "      <th>f1 macro</th>\n",
       "    </tr>\n",
       "  </thead>\n",
       "  <tbody>\n",
       "    <tr>\n",
       "      <th>0</th>\n",
       "      <td>0.755743</td>\n",
       "      <td>0.275392</td>\n",
       "      <td>0.790982</td>\n",
       "      <td>0.359169</td>\n",
       "      <td>0.103093</td>\n",
       "      <td>0.069643</td>\n",
       "    </tr>\n",
       "  </tbody>\n",
       "</table>\n",
       "</div>"
      ],
      "text/plain": [
       "        All              In VOC           Out of VOC          \n",
       "   f1 micro  f1 macro  f1 micro  f1 macro   f1 micro  f1 macro\n",
       "0  0.755743  0.275392  0.790982  0.359169   0.103093  0.069643"
      ]
     },
     "metadata": {},
     "output_type": "display_data"
    },
    {
     "name": "stderr",
     "output_type": "stream",
     "text": [
      "Epoch 10: 100%|██████████| 508/508 [00:45<00:00, 11.20batch/s, loss_decrease=1.0000014122010594]\n",
      "100%|██████████| 3787/3787 [00:43<00:00, 86.59batch/s]\n"
     ]
    },
    {
     "data": {
      "text/html": [
       "<div>\n",
       "<style scoped>\n",
       "    .dataframe tbody tr th:only-of-type {\n",
       "        vertical-align: middle;\n",
       "    }\n",
       "\n",
       "    .dataframe tbody tr th {\n",
       "        vertical-align: top;\n",
       "    }\n",
       "\n",
       "    .dataframe thead tr th {\n",
       "        text-align: left;\n",
       "    }\n",
       "</style>\n",
       "<table border=\"1\" class=\"dataframe\">\n",
       "  <thead>\n",
       "    <tr>\n",
       "      <th></th>\n",
       "      <th colspan=\"2\" halign=\"left\">All</th>\n",
       "      <th colspan=\"2\" halign=\"left\">In VOC</th>\n",
       "      <th colspan=\"2\" halign=\"left\">Out of VOC</th>\n",
       "    </tr>\n",
       "    <tr>\n",
       "      <th></th>\n",
       "      <th>f1 micro</th>\n",
       "      <th>f1 macro</th>\n",
       "      <th>f1 micro</th>\n",
       "      <th>f1 macro</th>\n",
       "      <th>f1 micro</th>\n",
       "      <th>f1 macro</th>\n",
       "    </tr>\n",
       "  </thead>\n",
       "  <tbody>\n",
       "    <tr>\n",
       "      <th>0</th>\n",
       "      <td>0.759704</td>\n",
       "      <td>0.276826</td>\n",
       "      <td>0.795714</td>\n",
       "      <td>0.360133</td>\n",
       "      <td>0.092784</td>\n",
       "      <td>0.064748</td>\n",
       "    </tr>\n",
       "  </tbody>\n",
       "</table>\n",
       "</div>"
      ],
      "text/plain": [
       "        All              In VOC           Out of VOC          \n",
       "   f1 micro  f1 macro  f1 micro  f1 macro   f1 micro  f1 macro\n",
       "0  0.759704  0.276826  0.795714  0.360133   0.092784  0.064748"
      ]
     },
     "metadata": {},
     "output_type": "display_data"
    },
    {
     "name": "stderr",
     "output_type": "stream",
     "text": [
      "Epoch 11: 100%|██████████| 508/508 [00:43<00:00, 11.56batch/s, loss_decrease=1.0000014122010594]\n",
      "100%|██████████| 3787/3787 [00:41<00:00, 90.65batch/s]\n"
     ]
    },
    {
     "data": {
      "text/html": [
       "<div>\n",
       "<style scoped>\n",
       "    .dataframe tbody tr th:only-of-type {\n",
       "        vertical-align: middle;\n",
       "    }\n",
       "\n",
       "    .dataframe tbody tr th {\n",
       "        vertical-align: top;\n",
       "    }\n",
       "\n",
       "    .dataframe thead tr th {\n",
       "        text-align: left;\n",
       "    }\n",
       "</style>\n",
       "<table border=\"1\" class=\"dataframe\">\n",
       "  <thead>\n",
       "    <tr>\n",
       "      <th></th>\n",
       "      <th colspan=\"2\" halign=\"left\">All</th>\n",
       "      <th colspan=\"2\" halign=\"left\">In VOC</th>\n",
       "      <th colspan=\"2\" halign=\"left\">Out of VOC</th>\n",
       "    </tr>\n",
       "    <tr>\n",
       "      <th></th>\n",
       "      <th>f1 micro</th>\n",
       "      <th>f1 macro</th>\n",
       "      <th>f1 micro</th>\n",
       "      <th>f1 macro</th>\n",
       "      <th>f1 micro</th>\n",
       "      <th>f1 macro</th>\n",
       "    </tr>\n",
       "  </thead>\n",
       "  <tbody>\n",
       "    <tr>\n",
       "      <th>0</th>\n",
       "      <td>0.761289</td>\n",
       "      <td>0.29164</td>\n",
       "      <td>0.795714</td>\n",
       "      <td>0.369902</td>\n",
       "      <td>0.123711</td>\n",
       "      <td>0.079976</td>\n",
       "    </tr>\n",
       "  </tbody>\n",
       "</table>\n",
       "</div>"
      ],
      "text/plain": [
       "        All             In VOC           Out of VOC          \n",
       "   f1 micro f1 macro  f1 micro  f1 macro   f1 micro  f1 macro\n",
       "0  0.761289  0.29164  0.795714  0.369902   0.123711  0.079976"
      ]
     },
     "metadata": {},
     "output_type": "display_data"
    },
    {
     "name": "stderr",
     "output_type": "stream",
     "text": [
      "Epoch 12: 100%|██████████| 508/508 [00:47<00:00, 10.81batch/s, loss_decrease=1.0000014122010594]\n",
      "100%|██████████| 3787/3787 [00:40<00:00, 92.80batch/s]\n"
     ]
    },
    {
     "data": {
      "text/html": [
       "<div>\n",
       "<style scoped>\n",
       "    .dataframe tbody tr th:only-of-type {\n",
       "        vertical-align: middle;\n",
       "    }\n",
       "\n",
       "    .dataframe tbody tr th {\n",
       "        vertical-align: top;\n",
       "    }\n",
       "\n",
       "    .dataframe thead tr th {\n",
       "        text-align: left;\n",
       "    }\n",
       "</style>\n",
       "<table border=\"1\" class=\"dataframe\">\n",
       "  <thead>\n",
       "    <tr>\n",
       "      <th></th>\n",
       "      <th colspan=\"2\" halign=\"left\">All</th>\n",
       "      <th colspan=\"2\" halign=\"left\">In VOC</th>\n",
       "      <th colspan=\"2\" halign=\"left\">Out of VOC</th>\n",
       "    </tr>\n",
       "    <tr>\n",
       "      <th></th>\n",
       "      <th>f1 micro</th>\n",
       "      <th>f1 macro</th>\n",
       "      <th>f1 micro</th>\n",
       "      <th>f1 macro</th>\n",
       "      <th>f1 micro</th>\n",
       "      <th>f1 macro</th>\n",
       "    </tr>\n",
       "  </thead>\n",
       "  <tbody>\n",
       "    <tr>\n",
       "      <th>0</th>\n",
       "      <td>0.75944</td>\n",
       "      <td>0.28217</td>\n",
       "      <td>0.794879</td>\n",
       "      <td>0.363899</td>\n",
       "      <td>0.103093</td>\n",
       "      <td>0.065243</td>\n",
       "    </tr>\n",
       "  </tbody>\n",
       "</table>\n",
       "</div>"
      ],
      "text/plain": [
       "       All             In VOC           Out of VOC          \n",
       "  f1 micro f1 macro  f1 micro  f1 macro   f1 micro  f1 macro\n",
       "0  0.75944  0.28217  0.794879  0.363899   0.103093  0.065243"
      ]
     },
     "metadata": {},
     "output_type": "display_data"
    },
    {
     "name": "stderr",
     "output_type": "stream",
     "text": [
      "Epoch 13: 100%|██████████| 508/508 [00:46<00:00, 10.88batch/s, loss_decrease=1.0000015063479386]\n",
      "100%|██████████| 3787/3787 [00:45<00:00, 83.76batch/s]\n"
     ]
    },
    {
     "data": {
      "text/html": [
       "<div>\n",
       "<style scoped>\n",
       "    .dataframe tbody tr th:only-of-type {\n",
       "        vertical-align: middle;\n",
       "    }\n",
       "\n",
       "    .dataframe tbody tr th {\n",
       "        vertical-align: top;\n",
       "    }\n",
       "\n",
       "    .dataframe thead tr th {\n",
       "        text-align: left;\n",
       "    }\n",
       "</style>\n",
       "<table border=\"1\" class=\"dataframe\">\n",
       "  <thead>\n",
       "    <tr>\n",
       "      <th></th>\n",
       "      <th colspan=\"2\" halign=\"left\">All</th>\n",
       "      <th colspan=\"2\" halign=\"left\">In VOC</th>\n",
       "      <th colspan=\"2\" halign=\"left\">Out of VOC</th>\n",
       "    </tr>\n",
       "    <tr>\n",
       "      <th></th>\n",
       "      <th>f1 micro</th>\n",
       "      <th>f1 macro</th>\n",
       "      <th>f1 micro</th>\n",
       "      <th>f1 macro</th>\n",
       "      <th>f1 micro</th>\n",
       "      <th>f1 macro</th>\n",
       "    </tr>\n",
       "  </thead>\n",
       "  <tbody>\n",
       "    <tr>\n",
       "      <th>0</th>\n",
       "      <td>0.756536</td>\n",
       "      <td>0.288147</td>\n",
       "      <td>0.792096</td>\n",
       "      <td>0.380289</td>\n",
       "      <td>0.097938</td>\n",
       "      <td>0.059167</td>\n",
       "    </tr>\n",
       "  </tbody>\n",
       "</table>\n",
       "</div>"
      ],
      "text/plain": [
       "        All              In VOC           Out of VOC          \n",
       "   f1 micro  f1 macro  f1 micro  f1 macro   f1 micro  f1 macro\n",
       "0  0.756536  0.288147  0.792096  0.380289   0.097938  0.059167"
      ]
     },
     "metadata": {},
     "output_type": "display_data"
    },
    {
     "name": "stderr",
     "output_type": "stream",
     "text": [
      "Epoch 14: 100%|██████████| 508/508 [00:45<00:00, 11.14batch/s, loss_decrease=1.0000015063479386]\n",
      "100%|██████████| 3787/3787 [00:41<00:00, 92.06batch/s]\n"
     ]
    },
    {
     "data": {
      "text/html": [
       "<div>\n",
       "<style scoped>\n",
       "    .dataframe tbody tr th:only-of-type {\n",
       "        vertical-align: middle;\n",
       "    }\n",
       "\n",
       "    .dataframe tbody tr th {\n",
       "        vertical-align: top;\n",
       "    }\n",
       "\n",
       "    .dataframe thead tr th {\n",
       "        text-align: left;\n",
       "    }\n",
       "</style>\n",
       "<table border=\"1\" class=\"dataframe\">\n",
       "  <thead>\n",
       "    <tr>\n",
       "      <th></th>\n",
       "      <th colspan=\"2\" halign=\"left\">All</th>\n",
       "      <th colspan=\"2\" halign=\"left\">In VOC</th>\n",
       "      <th colspan=\"2\" halign=\"left\">Out of VOC</th>\n",
       "    </tr>\n",
       "    <tr>\n",
       "      <th></th>\n",
       "      <th>f1 micro</th>\n",
       "      <th>f1 macro</th>\n",
       "      <th>f1 micro</th>\n",
       "      <th>f1 macro</th>\n",
       "      <th>f1 micro</th>\n",
       "      <th>f1 macro</th>\n",
       "    </tr>\n",
       "  </thead>\n",
       "  <tbody>\n",
       "    <tr>\n",
       "      <th>0</th>\n",
       "      <td>0.762345</td>\n",
       "      <td>0.292919</td>\n",
       "      <td>0.797105</td>\n",
       "      <td>0.378833</td>\n",
       "      <td>0.118557</td>\n",
       "      <td>0.074609</td>\n",
       "    </tr>\n",
       "  </tbody>\n",
       "</table>\n",
       "</div>"
      ],
      "text/plain": [
       "        All              In VOC           Out of VOC          \n",
       "   f1 micro  f1 macro  f1 micro  f1 macro   f1 micro  f1 macro\n",
       "0  0.762345  0.292919  0.797105  0.378833   0.118557  0.074609"
      ]
     },
     "metadata": {},
     "output_type": "display_data"
    },
    {
     "name": "stderr",
     "output_type": "stream",
     "text": [
      "Epoch 15: 100%|██████████| 508/508 [00:45<00:00, 11.06batch/s, loss_decrease=1.0000015063479386]\n",
      "100%|██████████| 3787/3787 [00:41<00:00, 90.58batch/s]\n"
     ]
    },
    {
     "data": {
      "text/html": [
       "<div>\n",
       "<style scoped>\n",
       "    .dataframe tbody tr th:only-of-type {\n",
       "        vertical-align: middle;\n",
       "    }\n",
       "\n",
       "    .dataframe tbody tr th {\n",
       "        vertical-align: top;\n",
       "    }\n",
       "\n",
       "    .dataframe thead tr th {\n",
       "        text-align: left;\n",
       "    }\n",
       "</style>\n",
       "<table border=\"1\" class=\"dataframe\">\n",
       "  <thead>\n",
       "    <tr>\n",
       "      <th></th>\n",
       "      <th colspan=\"2\" halign=\"left\">All</th>\n",
       "      <th colspan=\"2\" halign=\"left\">In VOC</th>\n",
       "      <th colspan=\"2\" halign=\"left\">Out of VOC</th>\n",
       "    </tr>\n",
       "    <tr>\n",
       "      <th></th>\n",
       "      <th>f1 micro</th>\n",
       "      <th>f1 macro</th>\n",
       "      <th>f1 micro</th>\n",
       "      <th>f1 macro</th>\n",
       "      <th>f1 micro</th>\n",
       "      <th>f1 macro</th>\n",
       "    </tr>\n",
       "  </thead>\n",
       "  <tbody>\n",
       "    <tr>\n",
       "      <th>0</th>\n",
       "      <td>0.766042</td>\n",
       "      <td>0.303002</td>\n",
       "      <td>0.800724</td>\n",
       "      <td>0.392179</td>\n",
       "      <td>0.123711</td>\n",
       "      <td>0.074007</td>\n",
       "    </tr>\n",
       "  </tbody>\n",
       "</table>\n",
       "</div>"
      ],
      "text/plain": [
       "        All              In VOC           Out of VOC          \n",
       "   f1 micro  f1 macro  f1 micro  f1 macro   f1 micro  f1 macro\n",
       "0  0.766042  0.303002  0.800724  0.392179   0.123711  0.074007"
      ]
     },
     "metadata": {},
     "output_type": "display_data"
    },
    {
     "name": "stderr",
     "output_type": "stream",
     "text": [
      "Epoch 16: 100%|██████████| 508/508 [00:45<00:00, 11.13batch/s, loss_decrease=1.0000016946417498]\n",
      "100%|██████████| 3787/3787 [00:42<00:00, 89.12batch/s]\n"
     ]
    },
    {
     "data": {
      "text/html": [
       "<div>\n",
       "<style scoped>\n",
       "    .dataframe tbody tr th:only-of-type {\n",
       "        vertical-align: middle;\n",
       "    }\n",
       "\n",
       "    .dataframe tbody tr th {\n",
       "        vertical-align: top;\n",
       "    }\n",
       "\n",
       "    .dataframe thead tr th {\n",
       "        text-align: left;\n",
       "    }\n",
       "</style>\n",
       "<table border=\"1\" class=\"dataframe\">\n",
       "  <thead>\n",
       "    <tr>\n",
       "      <th></th>\n",
       "      <th colspan=\"2\" halign=\"left\">All</th>\n",
       "      <th colspan=\"2\" halign=\"left\">In VOC</th>\n",
       "      <th colspan=\"2\" halign=\"left\">Out of VOC</th>\n",
       "    </tr>\n",
       "    <tr>\n",
       "      <th></th>\n",
       "      <th>f1 micro</th>\n",
       "      <th>f1 macro</th>\n",
       "      <th>f1 micro</th>\n",
       "      <th>f1 macro</th>\n",
       "      <th>f1 micro</th>\n",
       "      <th>f1 macro</th>\n",
       "    </tr>\n",
       "  </thead>\n",
       "  <tbody>\n",
       "    <tr>\n",
       "      <th>0</th>\n",
       "      <td>0.765778</td>\n",
       "      <td>0.302016</td>\n",
       "      <td>0.80128</td>\n",
       "      <td>0.391014</td>\n",
       "      <td>0.108247</td>\n",
       "      <td>0.068841</td>\n",
       "    </tr>\n",
       "  </tbody>\n",
       "</table>\n",
       "</div>"
      ],
      "text/plain": [
       "        All             In VOC           Out of VOC          \n",
       "   f1 micro  f1 macro f1 micro  f1 macro   f1 micro  f1 macro\n",
       "0  0.765778  0.302016  0.80128  0.391014   0.108247  0.068841"
      ]
     },
     "metadata": {},
     "output_type": "display_data"
    },
    {
     "name": "stderr",
     "output_type": "stream",
     "text": [
      "Epoch 17: 100%|██████████| 508/508 [00:46<00:00, 10.96batch/s, loss_decrease=1.0000016946417498]\n",
      "100%|██████████| 3787/3787 [00:41<00:00, 90.79batch/s]\n"
     ]
    },
    {
     "data": {
      "text/html": [
       "<div>\n",
       "<style scoped>\n",
       "    .dataframe tbody tr th:only-of-type {\n",
       "        vertical-align: middle;\n",
       "    }\n",
       "\n",
       "    .dataframe tbody tr th {\n",
       "        vertical-align: top;\n",
       "    }\n",
       "\n",
       "    .dataframe thead tr th {\n",
       "        text-align: left;\n",
       "    }\n",
       "</style>\n",
       "<table border=\"1\" class=\"dataframe\">\n",
       "  <thead>\n",
       "    <tr>\n",
       "      <th></th>\n",
       "      <th colspan=\"2\" halign=\"left\">All</th>\n",
       "      <th colspan=\"2\" halign=\"left\">In VOC</th>\n",
       "      <th colspan=\"2\" halign=\"left\">Out of VOC</th>\n",
       "    </tr>\n",
       "    <tr>\n",
       "      <th></th>\n",
       "      <th>f1 micro</th>\n",
       "      <th>f1 macro</th>\n",
       "      <th>f1 micro</th>\n",
       "      <th>f1 macro</th>\n",
       "      <th>f1 micro</th>\n",
       "      <th>f1 macro</th>\n",
       "    </tr>\n",
       "  </thead>\n",
       "  <tbody>\n",
       "    <tr>\n",
       "      <th>0</th>\n",
       "      <td>0.766306</td>\n",
       "      <td>0.302434</td>\n",
       "      <td>0.801559</td>\n",
       "      <td>0.391322</td>\n",
       "      <td>0.113402</td>\n",
       "      <td>0.070238</td>\n",
       "    </tr>\n",
       "  </tbody>\n",
       "</table>\n",
       "</div>"
      ],
      "text/plain": [
       "        All              In VOC           Out of VOC          \n",
       "   f1 micro  f1 macro  f1 micro  f1 macro   f1 micro  f1 macro\n",
       "0  0.766306  0.302434  0.801559  0.391322   0.113402  0.070238"
      ]
     },
     "metadata": {},
     "output_type": "display_data"
    },
    {
     "name": "stderr",
     "output_type": "stream",
     "text": [
      "Epoch 18: 100%|██████████| 508/508 [00:46<00:00, 10.88batch/s, loss_decrease=1.0000016946417498]\n",
      "100%|██████████| 3787/3787 [00:40<00:00, 92.58batch/s]\n"
     ]
    },
    {
     "data": {
      "text/html": [
       "<div>\n",
       "<style scoped>\n",
       "    .dataframe tbody tr th:only-of-type {\n",
       "        vertical-align: middle;\n",
       "    }\n",
       "\n",
       "    .dataframe tbody tr th {\n",
       "        vertical-align: top;\n",
       "    }\n",
       "\n",
       "    .dataframe thead tr th {\n",
       "        text-align: left;\n",
       "    }\n",
       "</style>\n",
       "<table border=\"1\" class=\"dataframe\">\n",
       "  <thead>\n",
       "    <tr>\n",
       "      <th></th>\n",
       "      <th colspan=\"2\" halign=\"left\">All</th>\n",
       "      <th colspan=\"2\" halign=\"left\">In VOC</th>\n",
       "      <th colspan=\"2\" halign=\"left\">Out of VOC</th>\n",
       "    </tr>\n",
       "    <tr>\n",
       "      <th></th>\n",
       "      <th>f1 micro</th>\n",
       "      <th>f1 macro</th>\n",
       "      <th>f1 micro</th>\n",
       "      <th>f1 macro</th>\n",
       "      <th>f1 micro</th>\n",
       "      <th>f1 macro</th>\n",
       "    </tr>\n",
       "  </thead>\n",
       "  <tbody>\n",
       "    <tr>\n",
       "      <th>0</th>\n",
       "      <td>0.766306</td>\n",
       "      <td>0.299958</td>\n",
       "      <td>0.802394</td>\n",
       "      <td>0.391624</td>\n",
       "      <td>0.097938</td>\n",
       "      <td>0.065114</td>\n",
       "    </tr>\n",
       "  </tbody>\n",
       "</table>\n",
       "</div>"
      ],
      "text/plain": [
       "        All              In VOC           Out of VOC          \n",
       "   f1 micro  f1 macro  f1 micro  f1 macro   f1 micro  f1 macro\n",
       "0  0.766306  0.299958  0.802394  0.391624   0.097938  0.065114"
      ]
     },
     "metadata": {},
     "output_type": "display_data"
    },
    {
     "name": "stderr",
     "output_type": "stream",
     "text": [
      "Epoch 19: 100%|██████████| 508/508 [00:45<00:00, 11.11batch/s, loss_decrease=1.0000016946417498]\n",
      "100%|██████████| 3787/3787 [00:42<00:00, 89.42batch/s]\n"
     ]
    },
    {
     "data": {
      "text/html": [
       "<div>\n",
       "<style scoped>\n",
       "    .dataframe tbody tr th:only-of-type {\n",
       "        vertical-align: middle;\n",
       "    }\n",
       "\n",
       "    .dataframe tbody tr th {\n",
       "        vertical-align: top;\n",
       "    }\n",
       "\n",
       "    .dataframe thead tr th {\n",
       "        text-align: left;\n",
       "    }\n",
       "</style>\n",
       "<table border=\"1\" class=\"dataframe\">\n",
       "  <thead>\n",
       "    <tr>\n",
       "      <th></th>\n",
       "      <th colspan=\"2\" halign=\"left\">All</th>\n",
       "      <th colspan=\"2\" halign=\"left\">In VOC</th>\n",
       "      <th colspan=\"2\" halign=\"left\">Out of VOC</th>\n",
       "    </tr>\n",
       "    <tr>\n",
       "      <th></th>\n",
       "      <th>f1 micro</th>\n",
       "      <th>f1 macro</th>\n",
       "      <th>f1 micro</th>\n",
       "      <th>f1 macro</th>\n",
       "      <th>f1 micro</th>\n",
       "      <th>f1 macro</th>\n",
       "    </tr>\n",
       "  </thead>\n",
       "  <tbody>\n",
       "    <tr>\n",
       "      <th>0</th>\n",
       "      <td>0.767362</td>\n",
       "      <td>0.300727</td>\n",
       "      <td>0.803228</td>\n",
       "      <td>0.392967</td>\n",
       "      <td>0.103093</td>\n",
       "      <td>0.06596</td>\n",
       "    </tr>\n",
       "  </tbody>\n",
       "</table>\n",
       "</div>"
      ],
      "text/plain": [
       "        All              In VOC           Out of VOC         \n",
       "   f1 micro  f1 macro  f1 micro  f1 macro   f1 micro f1 macro\n",
       "0  0.767362  0.300727  0.803228  0.392967   0.103093  0.06596"
      ]
     },
     "metadata": {},
     "output_type": "display_data"
    },
    {
     "name": "stderr",
     "output_type": "stream",
     "text": [
      "Epoch 20: 100%|██████████| 508/508 [00:44<00:00, 11.50batch/s, loss_decrease=1.0000016946417498]\n",
      "100%|██████████| 3787/3787 [00:41<00:00, 91.17batch/s]\n"
     ]
    },
    {
     "data": {
      "text/html": [
       "<div>\n",
       "<style scoped>\n",
       "    .dataframe tbody tr th:only-of-type {\n",
       "        vertical-align: middle;\n",
       "    }\n",
       "\n",
       "    .dataframe tbody tr th {\n",
       "        vertical-align: top;\n",
       "    }\n",
       "\n",
       "    .dataframe thead tr th {\n",
       "        text-align: left;\n",
       "    }\n",
       "</style>\n",
       "<table border=\"1\" class=\"dataframe\">\n",
       "  <thead>\n",
       "    <tr>\n",
       "      <th></th>\n",
       "      <th colspan=\"2\" halign=\"left\">All</th>\n",
       "      <th colspan=\"2\" halign=\"left\">In VOC</th>\n",
       "      <th colspan=\"2\" halign=\"left\">Out of VOC</th>\n",
       "    </tr>\n",
       "    <tr>\n",
       "      <th></th>\n",
       "      <th>f1 micro</th>\n",
       "      <th>f1 macro</th>\n",
       "      <th>f1 micro</th>\n",
       "      <th>f1 macro</th>\n",
       "      <th>f1 micro</th>\n",
       "      <th>f1 macro</th>\n",
       "    </tr>\n",
       "  </thead>\n",
       "  <tbody>\n",
       "    <tr>\n",
       "      <th>0</th>\n",
       "      <td>0.767098</td>\n",
       "      <td>0.298482</td>\n",
       "      <td>0.803507</td>\n",
       "      <td>0.391808</td>\n",
       "      <td>0.092784</td>\n",
       "      <td>0.059649</td>\n",
       "    </tr>\n",
       "  </tbody>\n",
       "</table>\n",
       "</div>"
      ],
      "text/plain": [
       "        All              In VOC           Out of VOC          \n",
       "   f1 micro  f1 macro  f1 micro  f1 macro   f1 micro  f1 macro\n",
       "0  0.767098  0.298482  0.803507  0.391808   0.092784  0.059649"
      ]
     },
     "metadata": {},
     "output_type": "display_data"
    },
    {
     "name": "stderr",
     "output_type": "stream",
     "text": [
      "Epoch 21: 100%|██████████| 508/508 [00:46<00:00, 10.90batch/s, loss_decrease=1.0000016946417498]\n",
      "100%|██████████| 3787/3787 [00:48<00:00, 77.66batch/s]\n"
     ]
    },
    {
     "data": {
      "text/html": [
       "<div>\n",
       "<style scoped>\n",
       "    .dataframe tbody tr th:only-of-type {\n",
       "        vertical-align: middle;\n",
       "    }\n",
       "\n",
       "    .dataframe tbody tr th {\n",
       "        vertical-align: top;\n",
       "    }\n",
       "\n",
       "    .dataframe thead tr th {\n",
       "        text-align: left;\n",
       "    }\n",
       "</style>\n",
       "<table border=\"1\" class=\"dataframe\">\n",
       "  <thead>\n",
       "    <tr>\n",
       "      <th></th>\n",
       "      <th colspan=\"2\" halign=\"left\">All</th>\n",
       "      <th colspan=\"2\" halign=\"left\">In VOC</th>\n",
       "      <th colspan=\"2\" halign=\"left\">Out of VOC</th>\n",
       "    </tr>\n",
       "    <tr>\n",
       "      <th></th>\n",
       "      <th>f1 micro</th>\n",
       "      <th>f1 macro</th>\n",
       "      <th>f1 micro</th>\n",
       "      <th>f1 macro</th>\n",
       "      <th>f1 micro</th>\n",
       "      <th>f1 macro</th>\n",
       "    </tr>\n",
       "  </thead>\n",
       "  <tbody>\n",
       "    <tr>\n",
       "      <th>0</th>\n",
       "      <td>0.76657</td>\n",
       "      <td>0.303764</td>\n",
       "      <td>0.802394</td>\n",
       "      <td>0.400904</td>\n",
       "      <td>0.103093</td>\n",
       "      <td>0.067488</td>\n",
       "    </tr>\n",
       "  </tbody>\n",
       "</table>\n",
       "</div>"
      ],
      "text/plain": [
       "       All              In VOC           Out of VOC          \n",
       "  f1 micro  f1 macro  f1 micro  f1 macro   f1 micro  f1 macro\n",
       "0  0.76657  0.303764  0.802394  0.400904   0.103093  0.067488"
      ]
     },
     "metadata": {},
     "output_type": "display_data"
    },
    {
     "name": "stderr",
     "output_type": "stream",
     "text": [
      "Epoch 22: 100%|██████████| 508/508 [00:45<00:00, 11.06batch/s, loss_decrease=1.0000016946417498]\n",
      "100%|██████████| 3787/3787 [00:41<00:00, 90.91batch/s]\n"
     ]
    },
    {
     "data": {
      "text/html": [
       "<div>\n",
       "<style scoped>\n",
       "    .dataframe tbody tr th:only-of-type {\n",
       "        vertical-align: middle;\n",
       "    }\n",
       "\n",
       "    .dataframe tbody tr th {\n",
       "        vertical-align: top;\n",
       "    }\n",
       "\n",
       "    .dataframe thead tr th {\n",
       "        text-align: left;\n",
       "    }\n",
       "</style>\n",
       "<table border=\"1\" class=\"dataframe\">\n",
       "  <thead>\n",
       "    <tr>\n",
       "      <th></th>\n",
       "      <th colspan=\"2\" halign=\"left\">All</th>\n",
       "      <th colspan=\"2\" halign=\"left\">In VOC</th>\n",
       "      <th colspan=\"2\" halign=\"left\">Out of VOC</th>\n",
       "    </tr>\n",
       "    <tr>\n",
       "      <th></th>\n",
       "      <th>f1 micro</th>\n",
       "      <th>f1 macro</th>\n",
       "      <th>f1 micro</th>\n",
       "      <th>f1 macro</th>\n",
       "      <th>f1 micro</th>\n",
       "      <th>f1 macro</th>\n",
       "    </tr>\n",
       "  </thead>\n",
       "  <tbody>\n",
       "    <tr>\n",
       "      <th>0</th>\n",
       "      <td>0.767626</td>\n",
       "      <td>0.308106</td>\n",
       "      <td>0.804063</td>\n",
       "      <td>0.408871</td>\n",
       "      <td>0.092784</td>\n",
       "      <td>0.058685</td>\n",
       "    </tr>\n",
       "  </tbody>\n",
       "</table>\n",
       "</div>"
      ],
      "text/plain": [
       "        All              In VOC           Out of VOC          \n",
       "   f1 micro  f1 macro  f1 micro  f1 macro   f1 micro  f1 macro\n",
       "0  0.767626  0.308106  0.804063  0.408871   0.092784  0.058685"
      ]
     },
     "metadata": {},
     "output_type": "display_data"
    },
    {
     "name": "stderr",
     "output_type": "stream",
     "text": [
      "Epoch 23: 100%|██████████| 508/508 [00:46<00:00, 11.00batch/s, loss_decrease=1.0000016946417498]\n",
      "100%|██████████| 3787/3787 [00:41<00:00, 92.32batch/s]\n"
     ]
    },
    {
     "data": {
      "text/html": [
       "<div>\n",
       "<style scoped>\n",
       "    .dataframe tbody tr th:only-of-type {\n",
       "        vertical-align: middle;\n",
       "    }\n",
       "\n",
       "    .dataframe tbody tr th {\n",
       "        vertical-align: top;\n",
       "    }\n",
       "\n",
       "    .dataframe thead tr th {\n",
       "        text-align: left;\n",
       "    }\n",
       "</style>\n",
       "<table border=\"1\" class=\"dataframe\">\n",
       "  <thead>\n",
       "    <tr>\n",
       "      <th></th>\n",
       "      <th colspan=\"2\" halign=\"left\">All</th>\n",
       "      <th colspan=\"2\" halign=\"left\">In VOC</th>\n",
       "      <th colspan=\"2\" halign=\"left\">Out of VOC</th>\n",
       "    </tr>\n",
       "    <tr>\n",
       "      <th></th>\n",
       "      <th>f1 micro</th>\n",
       "      <th>f1 macro</th>\n",
       "      <th>f1 micro</th>\n",
       "      <th>f1 macro</th>\n",
       "      <th>f1 micro</th>\n",
       "      <th>f1 macro</th>\n",
       "    </tr>\n",
       "  </thead>\n",
       "  <tbody>\n",
       "    <tr>\n",
       "      <th>0</th>\n",
       "      <td>0.764457</td>\n",
       "      <td>0.293941</td>\n",
       "      <td>0.800724</td>\n",
       "      <td>0.389938</td>\n",
       "      <td>0.092784</td>\n",
       "      <td>0.056537</td>\n",
       "    </tr>\n",
       "  </tbody>\n",
       "</table>\n",
       "</div>"
      ],
      "text/plain": [
       "        All              In VOC           Out of VOC          \n",
       "   f1 micro  f1 macro  f1 micro  f1 macro   f1 micro  f1 macro\n",
       "0  0.764457  0.293941  0.800724  0.389938   0.092784  0.056537"
      ]
     },
     "metadata": {},
     "output_type": "display_data"
    },
    {
     "name": "stderr",
     "output_type": "stream",
     "text": [
      "Epoch 24: 100%|██████████| 508/508 [00:45<00:00, 11.06batch/s, loss_decrease=1.0000016004948353]\n",
      "100%|██████████| 3787/3787 [00:41<00:00, 90.26batch/s]\n"
     ]
    },
    {
     "data": {
      "text/html": [
       "<div>\n",
       "<style scoped>\n",
       "    .dataframe tbody tr th:only-of-type {\n",
       "        vertical-align: middle;\n",
       "    }\n",
       "\n",
       "    .dataframe tbody tr th {\n",
       "        vertical-align: top;\n",
       "    }\n",
       "\n",
       "    .dataframe thead tr th {\n",
       "        text-align: left;\n",
       "    }\n",
       "</style>\n",
       "<table border=\"1\" class=\"dataframe\">\n",
       "  <thead>\n",
       "    <tr>\n",
       "      <th></th>\n",
       "      <th colspan=\"2\" halign=\"left\">All</th>\n",
       "      <th colspan=\"2\" halign=\"left\">In VOC</th>\n",
       "      <th colspan=\"2\" halign=\"left\">Out of VOC</th>\n",
       "    </tr>\n",
       "    <tr>\n",
       "      <th></th>\n",
       "      <th>f1 micro</th>\n",
       "      <th>f1 macro</th>\n",
       "      <th>f1 micro</th>\n",
       "      <th>f1 macro</th>\n",
       "      <th>f1 micro</th>\n",
       "      <th>f1 macro</th>\n",
       "    </tr>\n",
       "  </thead>\n",
       "  <tbody>\n",
       "    <tr>\n",
       "      <th>0</th>\n",
       "      <td>0.763137</td>\n",
       "      <td>0.303615</td>\n",
       "      <td>0.799332</td>\n",
       "      <td>0.402271</td>\n",
       "      <td>0.092784</td>\n",
       "      <td>0.058333</td>\n",
       "    </tr>\n",
       "  </tbody>\n",
       "</table>\n",
       "</div>"
      ],
      "text/plain": [
       "        All              In VOC           Out of VOC          \n",
       "   f1 micro  f1 macro  f1 micro  f1 macro   f1 micro  f1 macro\n",
       "0  0.763137  0.303615  0.799332  0.402271   0.092784  0.058333"
      ]
     },
     "metadata": {},
     "output_type": "display_data"
    },
    {
     "name": "stderr",
     "output_type": "stream",
     "text": [
      "Epoch 25: 100%|██████████| 508/508 [00:46<00:00, 10.89batch/s, loss_decrease=1.0000016946417498]\n",
      "100%|██████████| 3787/3787 [00:41<00:00, 90.42batch/s]\n"
     ]
    },
    {
     "data": {
      "text/html": [
       "<div>\n",
       "<style scoped>\n",
       "    .dataframe tbody tr th:only-of-type {\n",
       "        vertical-align: middle;\n",
       "    }\n",
       "\n",
       "    .dataframe tbody tr th {\n",
       "        vertical-align: top;\n",
       "    }\n",
       "\n",
       "    .dataframe thead tr th {\n",
       "        text-align: left;\n",
       "    }\n",
       "</style>\n",
       "<table border=\"1\" class=\"dataframe\">\n",
       "  <thead>\n",
       "    <tr>\n",
       "      <th></th>\n",
       "      <th colspan=\"2\" halign=\"left\">All</th>\n",
       "      <th colspan=\"2\" halign=\"left\">In VOC</th>\n",
       "      <th colspan=\"2\" halign=\"left\">Out of VOC</th>\n",
       "    </tr>\n",
       "    <tr>\n",
       "      <th></th>\n",
       "      <th>f1 micro</th>\n",
       "      <th>f1 macro</th>\n",
       "      <th>f1 micro</th>\n",
       "      <th>f1 macro</th>\n",
       "      <th>f1 micro</th>\n",
       "      <th>f1 macro</th>\n",
       "    </tr>\n",
       "  </thead>\n",
       "  <tbody>\n",
       "    <tr>\n",
       "      <th>0</th>\n",
       "      <td>0.763401</td>\n",
       "      <td>0.293437</td>\n",
       "      <td>0.800445</td>\n",
       "      <td>0.390248</td>\n",
       "      <td>0.07732</td>\n",
       "      <td>0.049883</td>\n",
       "    </tr>\n",
       "  </tbody>\n",
       "</table>\n",
       "</div>"
      ],
      "text/plain": [
       "        All              In VOC           Out of VOC          \n",
       "   f1 micro  f1 macro  f1 micro  f1 macro   f1 micro  f1 macro\n",
       "0  0.763401  0.293437  0.800445  0.390248    0.07732  0.049883"
      ]
     },
     "metadata": {},
     "output_type": "display_data"
    },
    {
     "name": "stderr",
     "output_type": "stream",
     "text": [
      "Epoch 26: 100%|██████████| 508/508 [00:44<00:00, 11.46batch/s, loss_decrease=1.0000016946417498]\n",
      "100%|██████████| 3787/3787 [00:40<00:00, 93.21batch/s]\n"
     ]
    },
    {
     "data": {
      "text/html": [
       "<div>\n",
       "<style scoped>\n",
       "    .dataframe tbody tr th:only-of-type {\n",
       "        vertical-align: middle;\n",
       "    }\n",
       "\n",
       "    .dataframe tbody tr th {\n",
       "        vertical-align: top;\n",
       "    }\n",
       "\n",
       "    .dataframe thead tr th {\n",
       "        text-align: left;\n",
       "    }\n",
       "</style>\n",
       "<table border=\"1\" class=\"dataframe\">\n",
       "  <thead>\n",
       "    <tr>\n",
       "      <th></th>\n",
       "      <th colspan=\"2\" halign=\"left\">All</th>\n",
       "      <th colspan=\"2\" halign=\"left\">In VOC</th>\n",
       "      <th colspan=\"2\" halign=\"left\">Out of VOC</th>\n",
       "    </tr>\n",
       "    <tr>\n",
       "      <th></th>\n",
       "      <th>f1 micro</th>\n",
       "      <th>f1 macro</th>\n",
       "      <th>f1 micro</th>\n",
       "      <th>f1 macro</th>\n",
       "      <th>f1 micro</th>\n",
       "      <th>f1 macro</th>\n",
       "    </tr>\n",
       "  </thead>\n",
       "  <tbody>\n",
       "    <tr>\n",
       "      <th>0</th>\n",
       "      <td>0.770531</td>\n",
       "      <td>0.301965</td>\n",
       "      <td>0.80796</td>\n",
       "      <td>0.40459</td>\n",
       "      <td>0.07732</td>\n",
       "      <td>0.049361</td>\n",
       "    </tr>\n",
       "  </tbody>\n",
       "</table>\n",
       "</div>"
      ],
      "text/plain": [
       "        All             In VOC          Out of VOC          \n",
       "   f1 micro  f1 macro f1 micro f1 macro   f1 micro  f1 macro\n",
       "0  0.770531  0.301965  0.80796  0.40459    0.07732  0.049361"
      ]
     },
     "metadata": {},
     "output_type": "display_data"
    },
    {
     "name": "stderr",
     "output_type": "stream",
     "text": [
      "Epoch 27: 100%|██████████| 508/508 [00:45<00:00, 11.16batch/s, loss_decrease=1.0000016946417498]\n",
      "100%|██████████| 3787/3787 [00:41<00:00, 92.34batch/s]\n"
     ]
    },
    {
     "data": {
      "text/html": [
       "<div>\n",
       "<style scoped>\n",
       "    .dataframe tbody tr th:only-of-type {\n",
       "        vertical-align: middle;\n",
       "    }\n",
       "\n",
       "    .dataframe tbody tr th {\n",
       "        vertical-align: top;\n",
       "    }\n",
       "\n",
       "    .dataframe thead tr th {\n",
       "        text-align: left;\n",
       "    }\n",
       "</style>\n",
       "<table border=\"1\" class=\"dataframe\">\n",
       "  <thead>\n",
       "    <tr>\n",
       "      <th></th>\n",
       "      <th colspan=\"2\" halign=\"left\">All</th>\n",
       "      <th colspan=\"2\" halign=\"left\">In VOC</th>\n",
       "      <th colspan=\"2\" halign=\"left\">Out of VOC</th>\n",
       "    </tr>\n",
       "    <tr>\n",
       "      <th></th>\n",
       "      <th>f1 micro</th>\n",
       "      <th>f1 macro</th>\n",
       "      <th>f1 micro</th>\n",
       "      <th>f1 macro</th>\n",
       "      <th>f1 micro</th>\n",
       "      <th>f1 macro</th>\n",
       "    </tr>\n",
       "  </thead>\n",
       "  <tbody>\n",
       "    <tr>\n",
       "      <th>0</th>\n",
       "      <td>0.772379</td>\n",
       "      <td>0.306227</td>\n",
       "      <td>0.809073</td>\n",
       "      <td>0.405598</td>\n",
       "      <td>0.092784</td>\n",
       "      <td>0.056346</td>\n",
       "    </tr>\n",
       "  </tbody>\n",
       "</table>\n",
       "</div>"
      ],
      "text/plain": [
       "        All              In VOC           Out of VOC          \n",
       "   f1 micro  f1 macro  f1 micro  f1 macro   f1 micro  f1 macro\n",
       "0  0.772379  0.306227  0.809073  0.405598   0.092784  0.056346"
      ]
     },
     "metadata": {},
     "output_type": "display_data"
    },
    {
     "name": "stderr",
     "output_type": "stream",
     "text": [
      "Epoch 28: 100%|██████████| 508/508 [00:45<00:00, 11.25batch/s, loss_decrease=1.0000016004948353]\n",
      "100%|██████████| 3787/3787 [00:41<00:00, 92.24batch/s]\n"
     ]
    },
    {
     "data": {
      "text/html": [
       "<div>\n",
       "<style scoped>\n",
       "    .dataframe tbody tr th:only-of-type {\n",
       "        vertical-align: middle;\n",
       "    }\n",
       "\n",
       "    .dataframe tbody tr th {\n",
       "        vertical-align: top;\n",
       "    }\n",
       "\n",
       "    .dataframe thead tr th {\n",
       "        text-align: left;\n",
       "    }\n",
       "</style>\n",
       "<table border=\"1\" class=\"dataframe\">\n",
       "  <thead>\n",
       "    <tr>\n",
       "      <th></th>\n",
       "      <th colspan=\"2\" halign=\"left\">All</th>\n",
       "      <th colspan=\"2\" halign=\"left\">In VOC</th>\n",
       "      <th colspan=\"2\" halign=\"left\">Out of VOC</th>\n",
       "    </tr>\n",
       "    <tr>\n",
       "      <th></th>\n",
       "      <th>f1 micro</th>\n",
       "      <th>f1 macro</th>\n",
       "      <th>f1 micro</th>\n",
       "      <th>f1 macro</th>\n",
       "      <th>f1 micro</th>\n",
       "      <th>f1 macro</th>\n",
       "    </tr>\n",
       "  </thead>\n",
       "  <tbody>\n",
       "    <tr>\n",
       "      <th>0</th>\n",
       "      <td>0.772115</td>\n",
       "      <td>0.315178</td>\n",
       "      <td>0.808238</td>\n",
       "      <td>0.415513</td>\n",
       "      <td>0.103093</td>\n",
       "      <td>0.066061</td>\n",
       "    </tr>\n",
       "  </tbody>\n",
       "</table>\n",
       "</div>"
      ],
      "text/plain": [
       "        All              In VOC           Out of VOC          \n",
       "   f1 micro  f1 macro  f1 micro  f1 macro   f1 micro  f1 macro\n",
       "0  0.772115  0.315178  0.808238  0.415513   0.103093  0.066061"
      ]
     },
     "metadata": {},
     "output_type": "display_data"
    },
    {
     "name": "stderr",
     "output_type": "stream",
     "text": [
      "Epoch 29: 100%|██████████| 508/508 [00:44<00:00, 11.42batch/s, loss_decrease=1.0000016946417498]\n",
      "100%|██████████| 3787/3787 [00:40<00:00, 92.42batch/s]\n"
     ]
    },
    {
     "data": {
      "text/html": [
       "<div>\n",
       "<style scoped>\n",
       "    .dataframe tbody tr th:only-of-type {\n",
       "        vertical-align: middle;\n",
       "    }\n",
       "\n",
       "    .dataframe tbody tr th {\n",
       "        vertical-align: top;\n",
       "    }\n",
       "\n",
       "    .dataframe thead tr th {\n",
       "        text-align: left;\n",
       "    }\n",
       "</style>\n",
       "<table border=\"1\" class=\"dataframe\">\n",
       "  <thead>\n",
       "    <tr>\n",
       "      <th></th>\n",
       "      <th colspan=\"2\" halign=\"left\">All</th>\n",
       "      <th colspan=\"2\" halign=\"left\">In VOC</th>\n",
       "      <th colspan=\"2\" halign=\"left\">Out of VOC</th>\n",
       "    </tr>\n",
       "    <tr>\n",
       "      <th></th>\n",
       "      <th>f1 micro</th>\n",
       "      <th>f1 macro</th>\n",
       "      <th>f1 micro</th>\n",
       "      <th>f1 macro</th>\n",
       "      <th>f1 micro</th>\n",
       "      <th>f1 macro</th>\n",
       "    </tr>\n",
       "  </thead>\n",
       "  <tbody>\n",
       "    <tr>\n",
       "      <th>0</th>\n",
       "      <td>0.768946</td>\n",
       "      <td>0.308963</td>\n",
       "      <td>0.806012</td>\n",
       "      <td>0.410626</td>\n",
       "      <td>0.082474</td>\n",
       "      <td>0.053592</td>\n",
       "    </tr>\n",
       "  </tbody>\n",
       "</table>\n",
       "</div>"
      ],
      "text/plain": [
       "        All              In VOC           Out of VOC          \n",
       "   f1 micro  f1 macro  f1 micro  f1 macro   f1 micro  f1 macro\n",
       "0  0.768946  0.308963  0.806012  0.410626   0.082474  0.053592"
      ]
     },
     "metadata": {},
     "output_type": "display_data"
    },
    {
     "name": "stderr",
     "output_type": "stream",
     "text": [
      "Epoch 30: 100%|██████████| 508/508 [00:46<00:00, 10.89batch/s, loss_decrease=1.0000017887886823]\n",
      "100%|██████████| 3787/3787 [00:42<00:00, 90.07batch/s]\n"
     ]
    },
    {
     "data": {
      "text/html": [
       "<div>\n",
       "<style scoped>\n",
       "    .dataframe tbody tr th:only-of-type {\n",
       "        vertical-align: middle;\n",
       "    }\n",
       "\n",
       "    .dataframe tbody tr th {\n",
       "        vertical-align: top;\n",
       "    }\n",
       "\n",
       "    .dataframe thead tr th {\n",
       "        text-align: left;\n",
       "    }\n",
       "</style>\n",
       "<table border=\"1\" class=\"dataframe\">\n",
       "  <thead>\n",
       "    <tr>\n",
       "      <th></th>\n",
       "      <th colspan=\"2\" halign=\"left\">All</th>\n",
       "      <th colspan=\"2\" halign=\"left\">In VOC</th>\n",
       "      <th colspan=\"2\" halign=\"left\">Out of VOC</th>\n",
       "    </tr>\n",
       "    <tr>\n",
       "      <th></th>\n",
       "      <th>f1 micro</th>\n",
       "      <th>f1 macro</th>\n",
       "      <th>f1 micro</th>\n",
       "      <th>f1 macro</th>\n",
       "      <th>f1 micro</th>\n",
       "      <th>f1 macro</th>\n",
       "    </tr>\n",
       "  </thead>\n",
       "  <tbody>\n",
       "    <tr>\n",
       "      <th>0</th>\n",
       "      <td>0.770531</td>\n",
       "      <td>0.306657</td>\n",
       "      <td>0.807125</td>\n",
       "      <td>0.406233</td>\n",
       "      <td>0.092784</td>\n",
       "      <td>0.057126</td>\n",
       "    </tr>\n",
       "  </tbody>\n",
       "</table>\n",
       "</div>"
      ],
      "text/plain": [
       "        All              In VOC           Out of VOC          \n",
       "   f1 micro  f1 macro  f1 micro  f1 macro   f1 micro  f1 macro\n",
       "0  0.770531  0.306657  0.807125  0.406233   0.092784  0.057126"
      ]
     },
     "metadata": {},
     "output_type": "display_data"
    },
    {
     "name": "stderr",
     "output_type": "stream",
     "text": [
      "Epoch 31: 100%|██████████| 508/508 [00:43<00:00, 11.66batch/s, loss_decrease=1.0000016946417498]\n",
      "100%|██████████| 3787/3787 [00:40<00:00, 92.75batch/s]\n"
     ]
    },
    {
     "data": {
      "text/html": [
       "<div>\n",
       "<style scoped>\n",
       "    .dataframe tbody tr th:only-of-type {\n",
       "        vertical-align: middle;\n",
       "    }\n",
       "\n",
       "    .dataframe tbody tr th {\n",
       "        vertical-align: top;\n",
       "    }\n",
       "\n",
       "    .dataframe thead tr th {\n",
       "        text-align: left;\n",
       "    }\n",
       "</style>\n",
       "<table border=\"1\" class=\"dataframe\">\n",
       "  <thead>\n",
       "    <tr>\n",
       "      <th></th>\n",
       "      <th colspan=\"2\" halign=\"left\">All</th>\n",
       "      <th colspan=\"2\" halign=\"left\">In VOC</th>\n",
       "      <th colspan=\"2\" halign=\"left\">Out of VOC</th>\n",
       "    </tr>\n",
       "    <tr>\n",
       "      <th></th>\n",
       "      <th>f1 micro</th>\n",
       "      <th>f1 macro</th>\n",
       "      <th>f1 micro</th>\n",
       "      <th>f1 macro</th>\n",
       "      <th>f1 micro</th>\n",
       "      <th>f1 macro</th>\n",
       "    </tr>\n",
       "  </thead>\n",
       "  <tbody>\n",
       "    <tr>\n",
       "      <th>0</th>\n",
       "      <td>0.76921</td>\n",
       "      <td>0.30977</td>\n",
       "      <td>0.806012</td>\n",
       "      <td>0.407839</td>\n",
       "      <td>0.087629</td>\n",
       "      <td>0.05516</td>\n",
       "    </tr>\n",
       "  </tbody>\n",
       "</table>\n",
       "</div>"
      ],
      "text/plain": [
       "       All             In VOC           Out of VOC         \n",
       "  f1 micro f1 macro  f1 micro  f1 macro   f1 micro f1 macro\n",
       "0  0.76921  0.30977  0.806012  0.407839   0.087629  0.05516"
      ]
     },
     "metadata": {},
     "output_type": "display_data"
    },
    {
     "name": "stderr",
     "output_type": "stream",
     "text": [
      "Epoch 32: 100%|██████████| 508/508 [00:46<00:00, 10.95batch/s, loss_decrease=1.0000017887886823]\n",
      "100%|██████████| 3787/3787 [00:41<00:00, 92.35batch/s]\n"
     ]
    },
    {
     "data": {
      "text/html": [
       "<div>\n",
       "<style scoped>\n",
       "    .dataframe tbody tr th:only-of-type {\n",
       "        vertical-align: middle;\n",
       "    }\n",
       "\n",
       "    .dataframe tbody tr th {\n",
       "        vertical-align: top;\n",
       "    }\n",
       "\n",
       "    .dataframe thead tr th {\n",
       "        text-align: left;\n",
       "    }\n",
       "</style>\n",
       "<table border=\"1\" class=\"dataframe\">\n",
       "  <thead>\n",
       "    <tr>\n",
       "      <th></th>\n",
       "      <th colspan=\"2\" halign=\"left\">All</th>\n",
       "      <th colspan=\"2\" halign=\"left\">In VOC</th>\n",
       "      <th colspan=\"2\" halign=\"left\">Out of VOC</th>\n",
       "    </tr>\n",
       "    <tr>\n",
       "      <th></th>\n",
       "      <th>f1 micro</th>\n",
       "      <th>f1 macro</th>\n",
       "      <th>f1 micro</th>\n",
       "      <th>f1 macro</th>\n",
       "      <th>f1 micro</th>\n",
       "      <th>f1 macro</th>\n",
       "    </tr>\n",
       "  </thead>\n",
       "  <tbody>\n",
       "    <tr>\n",
       "      <th>0</th>\n",
       "      <td>0.771587</td>\n",
       "      <td>0.307608</td>\n",
       "      <td>0.809073</td>\n",
       "      <td>0.410028</td>\n",
       "      <td>0.07732</td>\n",
       "      <td>0.052569</td>\n",
       "    </tr>\n",
       "  </tbody>\n",
       "</table>\n",
       "</div>"
      ],
      "text/plain": [
       "        All              In VOC           Out of VOC          \n",
       "   f1 micro  f1 macro  f1 micro  f1 macro   f1 micro  f1 macro\n",
       "0  0.771587  0.307608  0.809073  0.410028    0.07732  0.052569"
      ]
     },
     "metadata": {},
     "output_type": "display_data"
    },
    {
     "name": "stderr",
     "output_type": "stream",
     "text": [
      "Epoch 33: 100%|██████████| 508/508 [00:45<00:00, 11.19batch/s, loss_decrease=1.0000017887886823]\n",
      "100%|██████████| 3787/3787 [00:41<00:00, 91.77batch/s]\n"
     ]
    },
    {
     "data": {
      "text/html": [
       "<div>\n",
       "<style scoped>\n",
       "    .dataframe tbody tr th:only-of-type {\n",
       "        vertical-align: middle;\n",
       "    }\n",
       "\n",
       "    .dataframe tbody tr th {\n",
       "        vertical-align: top;\n",
       "    }\n",
       "\n",
       "    .dataframe thead tr th {\n",
       "        text-align: left;\n",
       "    }\n",
       "</style>\n",
       "<table border=\"1\" class=\"dataframe\">\n",
       "  <thead>\n",
       "    <tr>\n",
       "      <th></th>\n",
       "      <th colspan=\"2\" halign=\"left\">All</th>\n",
       "      <th colspan=\"2\" halign=\"left\">In VOC</th>\n",
       "      <th colspan=\"2\" halign=\"left\">Out of VOC</th>\n",
       "    </tr>\n",
       "    <tr>\n",
       "      <th></th>\n",
       "      <th>f1 micro</th>\n",
       "      <th>f1 macro</th>\n",
       "      <th>f1 micro</th>\n",
       "      <th>f1 macro</th>\n",
       "      <th>f1 micro</th>\n",
       "      <th>f1 macro</th>\n",
       "    </tr>\n",
       "  </thead>\n",
       "  <tbody>\n",
       "    <tr>\n",
       "      <th>0</th>\n",
       "      <td>0.770267</td>\n",
       "      <td>0.307808</td>\n",
       "      <td>0.807403</td>\n",
       "      <td>0.411021</td>\n",
       "      <td>0.082474</td>\n",
       "      <td>0.053974</td>\n",
       "    </tr>\n",
       "  </tbody>\n",
       "</table>\n",
       "</div>"
      ],
      "text/plain": [
       "        All              In VOC           Out of VOC          \n",
       "   f1 micro  f1 macro  f1 micro  f1 macro   f1 micro  f1 macro\n",
       "0  0.770267  0.307808  0.807403  0.411021   0.082474  0.053974"
      ]
     },
     "metadata": {},
     "output_type": "display_data"
    },
    {
     "name": "stderr",
     "output_type": "stream",
     "text": [
      "Epoch 34: 100%|██████████| 508/508 [00:46<00:00, 10.88batch/s, loss_decrease=1.0000017887886823]\n",
      "100%|██████████| 3787/3787 [00:42<00:00, 89.64batch/s]\n"
     ]
    },
    {
     "data": {
      "text/html": [
       "<div>\n",
       "<style scoped>\n",
       "    .dataframe tbody tr th:only-of-type {\n",
       "        vertical-align: middle;\n",
       "    }\n",
       "\n",
       "    .dataframe tbody tr th {\n",
       "        vertical-align: top;\n",
       "    }\n",
       "\n",
       "    .dataframe thead tr th {\n",
       "        text-align: left;\n",
       "    }\n",
       "</style>\n",
       "<table border=\"1\" class=\"dataframe\">\n",
       "  <thead>\n",
       "    <tr>\n",
       "      <th></th>\n",
       "      <th colspan=\"2\" halign=\"left\">All</th>\n",
       "      <th colspan=\"2\" halign=\"left\">In VOC</th>\n",
       "      <th colspan=\"2\" halign=\"left\">Out of VOC</th>\n",
       "    </tr>\n",
       "    <tr>\n",
       "      <th></th>\n",
       "      <th>f1 micro</th>\n",
       "      <th>f1 macro</th>\n",
       "      <th>f1 micro</th>\n",
       "      <th>f1 macro</th>\n",
       "      <th>f1 micro</th>\n",
       "      <th>f1 macro</th>\n",
       "    </tr>\n",
       "  </thead>\n",
       "  <tbody>\n",
       "    <tr>\n",
       "      <th>0</th>\n",
       "      <td>0.768682</td>\n",
       "      <td>0.307351</td>\n",
       "      <td>0.806012</td>\n",
       "      <td>0.410443</td>\n",
       "      <td>0.07732</td>\n",
       "      <td>0.051786</td>\n",
       "    </tr>\n",
       "  </tbody>\n",
       "</table>\n",
       "</div>"
      ],
      "text/plain": [
       "        All              In VOC           Out of VOC          \n",
       "   f1 micro  f1 macro  f1 micro  f1 macro   f1 micro  f1 macro\n",
       "0  0.768682  0.307351  0.806012  0.410443    0.07732  0.051786"
      ]
     },
     "metadata": {},
     "output_type": "display_data"
    },
    {
     "name": "stderr",
     "output_type": "stream",
     "text": [
      "Epoch 35: 100%|██████████| 508/508 [00:45<00:00, 11.21batch/s, loss_decrease=1.0000017887886823]\n",
      "100%|██████████| 3787/3787 [00:42<00:00, 89.10batch/s]\n"
     ]
    },
    {
     "data": {
      "text/html": [
       "<div>\n",
       "<style scoped>\n",
       "    .dataframe tbody tr th:only-of-type {\n",
       "        vertical-align: middle;\n",
       "    }\n",
       "\n",
       "    .dataframe tbody tr th {\n",
       "        vertical-align: top;\n",
       "    }\n",
       "\n",
       "    .dataframe thead tr th {\n",
       "        text-align: left;\n",
       "    }\n",
       "</style>\n",
       "<table border=\"1\" class=\"dataframe\">\n",
       "  <thead>\n",
       "    <tr>\n",
       "      <th></th>\n",
       "      <th colspan=\"2\" halign=\"left\">All</th>\n",
       "      <th colspan=\"2\" halign=\"left\">In VOC</th>\n",
       "      <th colspan=\"2\" halign=\"left\">Out of VOC</th>\n",
       "    </tr>\n",
       "    <tr>\n",
       "      <th></th>\n",
       "      <th>f1 micro</th>\n",
       "      <th>f1 macro</th>\n",
       "      <th>f1 micro</th>\n",
       "      <th>f1 macro</th>\n",
       "      <th>f1 micro</th>\n",
       "      <th>f1 macro</th>\n",
       "    </tr>\n",
       "  </thead>\n",
       "  <tbody>\n",
       "    <tr>\n",
       "      <th>0</th>\n",
       "      <td>0.772907</td>\n",
       "      <td>0.312236</td>\n",
       "      <td>0.80963</td>\n",
       "      <td>0.420218</td>\n",
       "      <td>0.092784</td>\n",
       "      <td>0.057738</td>\n",
       "    </tr>\n",
       "  </tbody>\n",
       "</table>\n",
       "</div>"
      ],
      "text/plain": [
       "        All             In VOC           Out of VOC          \n",
       "   f1 micro  f1 macro f1 micro  f1 macro   f1 micro  f1 macro\n",
       "0  0.772907  0.312236  0.80963  0.420218   0.092784  0.057738"
      ]
     },
     "metadata": {},
     "output_type": "display_data"
    },
    {
     "name": "stderr",
     "output_type": "stream",
     "text": [
      "Epoch 36: 100%|██████████| 508/508 [00:45<00:00, 11.10batch/s, loss_decrease=1.0000017887886823]\n",
      "100%|██████████| 3787/3787 [00:41<00:00, 90.86batch/s]\n"
     ]
    },
    {
     "data": {
      "text/html": [
       "<div>\n",
       "<style scoped>\n",
       "    .dataframe tbody tr th:only-of-type {\n",
       "        vertical-align: middle;\n",
       "    }\n",
       "\n",
       "    .dataframe tbody tr th {\n",
       "        vertical-align: top;\n",
       "    }\n",
       "\n",
       "    .dataframe thead tr th {\n",
       "        text-align: left;\n",
       "    }\n",
       "</style>\n",
       "<table border=\"1\" class=\"dataframe\">\n",
       "  <thead>\n",
       "    <tr>\n",
       "      <th></th>\n",
       "      <th colspan=\"2\" halign=\"left\">All</th>\n",
       "      <th colspan=\"2\" halign=\"left\">In VOC</th>\n",
       "      <th colspan=\"2\" halign=\"left\">Out of VOC</th>\n",
       "    </tr>\n",
       "    <tr>\n",
       "      <th></th>\n",
       "      <th>f1 micro</th>\n",
       "      <th>f1 macro</th>\n",
       "      <th>f1 micro</th>\n",
       "      <th>f1 macro</th>\n",
       "      <th>f1 micro</th>\n",
       "      <th>f1 macro</th>\n",
       "    </tr>\n",
       "  </thead>\n",
       "  <tbody>\n",
       "    <tr>\n",
       "      <th>0</th>\n",
       "      <td>0.771587</td>\n",
       "      <td>0.311272</td>\n",
       "      <td>0.808238</td>\n",
       "      <td>0.412052</td>\n",
       "      <td>0.092784</td>\n",
       "      <td>0.06131</td>\n",
       "    </tr>\n",
       "  </tbody>\n",
       "</table>\n",
       "</div>"
      ],
      "text/plain": [
       "        All              In VOC           Out of VOC         \n",
       "   f1 micro  f1 macro  f1 micro  f1 macro   f1 micro f1 macro\n",
       "0  0.771587  0.311272  0.808238  0.412052   0.092784  0.06131"
      ]
     },
     "metadata": {},
     "output_type": "display_data"
    },
    {
     "name": "stderr",
     "output_type": "stream",
     "text": [
      "Epoch 37: 100%|██████████| 508/508 [00:48<00:00, 10.49batch/s, loss_decrease=1.0000017887886823]\n",
      "100%|██████████| 3787/3787 [00:42<00:00, 89.73batch/s]\n"
     ]
    },
    {
     "data": {
      "text/html": [
       "<div>\n",
       "<style scoped>\n",
       "    .dataframe tbody tr th:only-of-type {\n",
       "        vertical-align: middle;\n",
       "    }\n",
       "\n",
       "    .dataframe tbody tr th {\n",
       "        vertical-align: top;\n",
       "    }\n",
       "\n",
       "    .dataframe thead tr th {\n",
       "        text-align: left;\n",
       "    }\n",
       "</style>\n",
       "<table border=\"1\" class=\"dataframe\">\n",
       "  <thead>\n",
       "    <tr>\n",
       "      <th></th>\n",
       "      <th colspan=\"2\" halign=\"left\">All</th>\n",
       "      <th colspan=\"2\" halign=\"left\">In VOC</th>\n",
       "      <th colspan=\"2\" halign=\"left\">Out of VOC</th>\n",
       "    </tr>\n",
       "    <tr>\n",
       "      <th></th>\n",
       "      <th>f1 micro</th>\n",
       "      <th>f1 macro</th>\n",
       "      <th>f1 micro</th>\n",
       "      <th>f1 macro</th>\n",
       "      <th>f1 micro</th>\n",
       "      <th>f1 macro</th>\n",
       "    </tr>\n",
       "  </thead>\n",
       "  <tbody>\n",
       "    <tr>\n",
       "      <th>0</th>\n",
       "      <td>0.772907</td>\n",
       "      <td>0.31113</td>\n",
       "      <td>0.810186</td>\n",
       "      <td>0.417848</td>\n",
       "      <td>0.082474</td>\n",
       "      <td>0.053783</td>\n",
       "    </tr>\n",
       "  </tbody>\n",
       "</table>\n",
       "</div>"
      ],
      "text/plain": [
       "        All             In VOC           Out of VOC          \n",
       "   f1 micro f1 macro  f1 micro  f1 macro   f1 micro  f1 macro\n",
       "0  0.772907  0.31113  0.810186  0.417848   0.082474  0.053783"
      ]
     },
     "metadata": {},
     "output_type": "display_data"
    },
    {
     "name": "stderr",
     "output_type": "stream",
     "text": [
      "Epoch 38: 100%|██████████| 508/508 [00:46<00:00, 10.95batch/s, loss_decrease=1.0000018829356323]\n",
      "100%|██████████| 3787/3787 [00:42<00:00, 88.51batch/s]\n"
     ]
    },
    {
     "data": {
      "text/html": [
       "<div>\n",
       "<style scoped>\n",
       "    .dataframe tbody tr th:only-of-type {\n",
       "        vertical-align: middle;\n",
       "    }\n",
       "\n",
       "    .dataframe tbody tr th {\n",
       "        vertical-align: top;\n",
       "    }\n",
       "\n",
       "    .dataframe thead tr th {\n",
       "        text-align: left;\n",
       "    }\n",
       "</style>\n",
       "<table border=\"1\" class=\"dataframe\">\n",
       "  <thead>\n",
       "    <tr>\n",
       "      <th></th>\n",
       "      <th colspan=\"2\" halign=\"left\">All</th>\n",
       "      <th colspan=\"2\" halign=\"left\">In VOC</th>\n",
       "      <th colspan=\"2\" halign=\"left\">Out of VOC</th>\n",
       "    </tr>\n",
       "    <tr>\n",
       "      <th></th>\n",
       "      <th>f1 micro</th>\n",
       "      <th>f1 macro</th>\n",
       "      <th>f1 micro</th>\n",
       "      <th>f1 macro</th>\n",
       "      <th>f1 micro</th>\n",
       "      <th>f1 macro</th>\n",
       "    </tr>\n",
       "  </thead>\n",
       "  <tbody>\n",
       "    <tr>\n",
       "      <th>0</th>\n",
       "      <td>0.772115</td>\n",
       "      <td>0.316636</td>\n",
       "      <td>0.80796</td>\n",
       "      <td>0.415407</td>\n",
       "      <td>0.108247</td>\n",
       "      <td>0.069697</td>\n",
       "    </tr>\n",
       "  </tbody>\n",
       "</table>\n",
       "</div>"
      ],
      "text/plain": [
       "        All             In VOC           Out of VOC          \n",
       "   f1 micro  f1 macro f1 micro  f1 macro   f1 micro  f1 macro\n",
       "0  0.772115  0.316636  0.80796  0.415407   0.108247  0.069697"
      ]
     },
     "metadata": {},
     "output_type": "display_data"
    },
    {
     "name": "stderr",
     "output_type": "stream",
     "text": [
      "Epoch 39: 100%|██████████| 508/508 [00:45<00:00, 11.26batch/s, loss_decrease=1.0000018829356323]\n",
      "100%|██████████| 3787/3787 [00:41<00:00, 90.44batch/s]\n"
     ]
    },
    {
     "data": {
      "text/html": [
       "<div>\n",
       "<style scoped>\n",
       "    .dataframe tbody tr th:only-of-type {\n",
       "        vertical-align: middle;\n",
       "    }\n",
       "\n",
       "    .dataframe tbody tr th {\n",
       "        vertical-align: top;\n",
       "    }\n",
       "\n",
       "    .dataframe thead tr th {\n",
       "        text-align: left;\n",
       "    }\n",
       "</style>\n",
       "<table border=\"1\" class=\"dataframe\">\n",
       "  <thead>\n",
       "    <tr>\n",
       "      <th></th>\n",
       "      <th colspan=\"2\" halign=\"left\">All</th>\n",
       "      <th colspan=\"2\" halign=\"left\">In VOC</th>\n",
       "      <th colspan=\"2\" halign=\"left\">Out of VOC</th>\n",
       "    </tr>\n",
       "    <tr>\n",
       "      <th></th>\n",
       "      <th>f1 micro</th>\n",
       "      <th>f1 macro</th>\n",
       "      <th>f1 micro</th>\n",
       "      <th>f1 macro</th>\n",
       "      <th>f1 micro</th>\n",
       "      <th>f1 macro</th>\n",
       "    </tr>\n",
       "  </thead>\n",
       "  <tbody>\n",
       "    <tr>\n",
       "      <th>0</th>\n",
       "      <td>0.771587</td>\n",
       "      <td>0.310947</td>\n",
       "      <td>0.808517</td>\n",
       "      <td>0.417325</td>\n",
       "      <td>0.087629</td>\n",
       "      <td>0.055357</td>\n",
       "    </tr>\n",
       "  </tbody>\n",
       "</table>\n",
       "</div>"
      ],
      "text/plain": [
       "        All              In VOC           Out of VOC          \n",
       "   f1 micro  f1 macro  f1 micro  f1 macro   f1 micro  f1 macro\n",
       "0  0.771587  0.310947  0.808517  0.417325   0.087629  0.055357"
      ]
     },
     "metadata": {},
     "output_type": "display_data"
    },
    {
     "name": "stderr",
     "output_type": "stream",
     "text": [
      "Epoch 40: 100%|██████████| 508/508 [00:48<00:00, 10.47batch/s, loss_decrease=1.0000016946417498]\n",
      "100%|██████████| 3787/3787 [00:40<00:00, 92.82batch/s]\n"
     ]
    },
    {
     "data": {
      "text/html": [
       "<div>\n",
       "<style scoped>\n",
       "    .dataframe tbody tr th:only-of-type {\n",
       "        vertical-align: middle;\n",
       "    }\n",
       "\n",
       "    .dataframe tbody tr th {\n",
       "        vertical-align: top;\n",
       "    }\n",
       "\n",
       "    .dataframe thead tr th {\n",
       "        text-align: left;\n",
       "    }\n",
       "</style>\n",
       "<table border=\"1\" class=\"dataframe\">\n",
       "  <thead>\n",
       "    <tr>\n",
       "      <th></th>\n",
       "      <th colspan=\"2\" halign=\"left\">All</th>\n",
       "      <th colspan=\"2\" halign=\"left\">In VOC</th>\n",
       "      <th colspan=\"2\" halign=\"left\">Out of VOC</th>\n",
       "    </tr>\n",
       "    <tr>\n",
       "      <th></th>\n",
       "      <th>f1 micro</th>\n",
       "      <th>f1 macro</th>\n",
       "      <th>f1 micro</th>\n",
       "      <th>f1 macro</th>\n",
       "      <th>f1 micro</th>\n",
       "      <th>f1 macro</th>\n",
       "    </tr>\n",
       "  </thead>\n",
       "  <tbody>\n",
       "    <tr>\n",
       "      <th>0</th>\n",
       "      <td>0.773964</td>\n",
       "      <td>0.31881</td>\n",
       "      <td>0.810465</td>\n",
       "      <td>0.419274</td>\n",
       "      <td>0.097938</td>\n",
       "      <td>0.063406</td>\n",
       "    </tr>\n",
       "  </tbody>\n",
       "</table>\n",
       "</div>"
      ],
      "text/plain": [
       "        All             In VOC           Out of VOC          \n",
       "   f1 micro f1 macro  f1 micro  f1 macro   f1 micro  f1 macro\n",
       "0  0.773964  0.31881  0.810465  0.419274   0.097938  0.063406"
      ]
     },
     "metadata": {},
     "output_type": "display_data"
    },
    {
     "name": "stderr",
     "output_type": "stream",
     "text": [
      "Epoch 41: 100%|██████████| 508/508 [00:45<00:00, 11.11batch/s, loss_decrease=1.0000018829356323]\n",
      "100%|██████████| 3787/3787 [00:41<00:00, 90.61batch/s]\n"
     ]
    },
    {
     "data": {
      "text/html": [
       "<div>\n",
       "<style scoped>\n",
       "    .dataframe tbody tr th:only-of-type {\n",
       "        vertical-align: middle;\n",
       "    }\n",
       "\n",
       "    .dataframe tbody tr th {\n",
       "        vertical-align: top;\n",
       "    }\n",
       "\n",
       "    .dataframe thead tr th {\n",
       "        text-align: left;\n",
       "    }\n",
       "</style>\n",
       "<table border=\"1\" class=\"dataframe\">\n",
       "  <thead>\n",
       "    <tr>\n",
       "      <th></th>\n",
       "      <th colspan=\"2\" halign=\"left\">All</th>\n",
       "      <th colspan=\"2\" halign=\"left\">In VOC</th>\n",
       "      <th colspan=\"2\" halign=\"left\">Out of VOC</th>\n",
       "    </tr>\n",
       "    <tr>\n",
       "      <th></th>\n",
       "      <th>f1 micro</th>\n",
       "      <th>f1 macro</th>\n",
       "      <th>f1 micro</th>\n",
       "      <th>f1 macro</th>\n",
       "      <th>f1 micro</th>\n",
       "      <th>f1 macro</th>\n",
       "    </tr>\n",
       "  </thead>\n",
       "  <tbody>\n",
       "    <tr>\n",
       "      <th>0</th>\n",
       "      <td>0.775548</td>\n",
       "      <td>0.319414</td>\n",
       "      <td>0.812413</td>\n",
       "      <td>0.423905</td>\n",
       "      <td>0.092784</td>\n",
       "      <td>0.057738</td>\n",
       "    </tr>\n",
       "  </tbody>\n",
       "</table>\n",
       "</div>"
      ],
      "text/plain": [
       "        All              In VOC           Out of VOC          \n",
       "   f1 micro  f1 macro  f1 micro  f1 macro   f1 micro  f1 macro\n",
       "0  0.775548  0.319414  0.812413  0.423905   0.092784  0.057738"
      ]
     },
     "metadata": {},
     "output_type": "display_data"
    },
    {
     "name": "stderr",
     "output_type": "stream",
     "text": [
      "Epoch 42: 100%|██████████| 508/508 [00:45<00:00, 11.24batch/s, loss_decrease=1.0000017887886823]\n",
      "100%|██████████| 3787/3787 [00:41<00:00, 90.58batch/s]\n"
     ]
    },
    {
     "data": {
      "text/html": [
       "<div>\n",
       "<style scoped>\n",
       "    .dataframe tbody tr th:only-of-type {\n",
       "        vertical-align: middle;\n",
       "    }\n",
       "\n",
       "    .dataframe tbody tr th {\n",
       "        vertical-align: top;\n",
       "    }\n",
       "\n",
       "    .dataframe thead tr th {\n",
       "        text-align: left;\n",
       "    }\n",
       "</style>\n",
       "<table border=\"1\" class=\"dataframe\">\n",
       "  <thead>\n",
       "    <tr>\n",
       "      <th></th>\n",
       "      <th colspan=\"2\" halign=\"left\">All</th>\n",
       "      <th colspan=\"2\" halign=\"left\">In VOC</th>\n",
       "      <th colspan=\"2\" halign=\"left\">Out of VOC</th>\n",
       "    </tr>\n",
       "    <tr>\n",
       "      <th></th>\n",
       "      <th>f1 micro</th>\n",
       "      <th>f1 macro</th>\n",
       "      <th>f1 micro</th>\n",
       "      <th>f1 macro</th>\n",
       "      <th>f1 micro</th>\n",
       "      <th>f1 macro</th>\n",
       "    </tr>\n",
       "  </thead>\n",
       "  <tbody>\n",
       "    <tr>\n",
       "      <th>0</th>\n",
       "      <td>0.770267</td>\n",
       "      <td>0.309536</td>\n",
       "      <td>0.807125</td>\n",
       "      <td>0.413432</td>\n",
       "      <td>0.087629</td>\n",
       "      <td>0.054167</td>\n",
       "    </tr>\n",
       "  </tbody>\n",
       "</table>\n",
       "</div>"
      ],
      "text/plain": [
       "        All              In VOC           Out of VOC          \n",
       "   f1 micro  f1 macro  f1 micro  f1 macro   f1 micro  f1 macro\n",
       "0  0.770267  0.309536  0.807125  0.413432   0.087629  0.054167"
      ]
     },
     "metadata": {},
     "output_type": "display_data"
    },
    {
     "name": "stderr",
     "output_type": "stream",
     "text": [
      "Epoch 43: 100%|██████████| 508/508 [00:44<00:00, 11.55batch/s, loss_decrease=1.0000017887886823]\n",
      "100%|██████████| 3787/3787 [00:41<00:00, 90.66batch/s]\n"
     ]
    },
    {
     "data": {
      "text/html": [
       "<div>\n",
       "<style scoped>\n",
       "    .dataframe tbody tr th:only-of-type {\n",
       "        vertical-align: middle;\n",
       "    }\n",
       "\n",
       "    .dataframe tbody tr th {\n",
       "        vertical-align: top;\n",
       "    }\n",
       "\n",
       "    .dataframe thead tr th {\n",
       "        text-align: left;\n",
       "    }\n",
       "</style>\n",
       "<table border=\"1\" class=\"dataframe\">\n",
       "  <thead>\n",
       "    <tr>\n",
       "      <th></th>\n",
       "      <th colspan=\"2\" halign=\"left\">All</th>\n",
       "      <th colspan=\"2\" halign=\"left\">In VOC</th>\n",
       "      <th colspan=\"2\" halign=\"left\">Out of VOC</th>\n",
       "    </tr>\n",
       "    <tr>\n",
       "      <th></th>\n",
       "      <th>f1 micro</th>\n",
       "      <th>f1 macro</th>\n",
       "      <th>f1 micro</th>\n",
       "      <th>f1 macro</th>\n",
       "      <th>f1 micro</th>\n",
       "      <th>f1 macro</th>\n",
       "    </tr>\n",
       "  </thead>\n",
       "  <tbody>\n",
       "    <tr>\n",
       "      <th>0</th>\n",
       "      <td>0.774228</td>\n",
       "      <td>0.323043</td>\n",
       "      <td>0.810465</td>\n",
       "      <td>0.427549</td>\n",
       "      <td>0.103093</td>\n",
       "      <td>0.066667</td>\n",
       "    </tr>\n",
       "  </tbody>\n",
       "</table>\n",
       "</div>"
      ],
      "text/plain": [
       "        All              In VOC           Out of VOC          \n",
       "   f1 micro  f1 macro  f1 micro  f1 macro   f1 micro  f1 macro\n",
       "0  0.774228  0.323043  0.810465  0.427549   0.103093  0.066667"
      ]
     },
     "metadata": {},
     "output_type": "display_data"
    },
    {
     "name": "stderr",
     "output_type": "stream",
     "text": [
      "Epoch 44: 100%|██████████| 508/508 [00:47<00:00, 10.77batch/s, loss_decrease=1.0000018829356323]\n",
      "100%|██████████| 3787/3787 [00:41<00:00, 91.61batch/s]\n"
     ]
    },
    {
     "data": {
      "text/html": [
       "<div>\n",
       "<style scoped>\n",
       "    .dataframe tbody tr th:only-of-type {\n",
       "        vertical-align: middle;\n",
       "    }\n",
       "\n",
       "    .dataframe tbody tr th {\n",
       "        vertical-align: top;\n",
       "    }\n",
       "\n",
       "    .dataframe thead tr th {\n",
       "        text-align: left;\n",
       "    }\n",
       "</style>\n",
       "<table border=\"1\" class=\"dataframe\">\n",
       "  <thead>\n",
       "    <tr>\n",
       "      <th></th>\n",
       "      <th colspan=\"2\" halign=\"left\">All</th>\n",
       "      <th colspan=\"2\" halign=\"left\">In VOC</th>\n",
       "      <th colspan=\"2\" halign=\"left\">Out of VOC</th>\n",
       "    </tr>\n",
       "    <tr>\n",
       "      <th></th>\n",
       "      <th>f1 micro</th>\n",
       "      <th>f1 macro</th>\n",
       "      <th>f1 micro</th>\n",
       "      <th>f1 macro</th>\n",
       "      <th>f1 micro</th>\n",
       "      <th>f1 macro</th>\n",
       "    </tr>\n",
       "  </thead>\n",
       "  <tbody>\n",
       "    <tr>\n",
       "      <th>0</th>\n",
       "      <td>0.771323</td>\n",
       "      <td>0.31688</td>\n",
       "      <td>0.807682</td>\n",
       "      <td>0.42154</td>\n",
       "      <td>0.097938</td>\n",
       "      <td>0.061837</td>\n",
       "    </tr>\n",
       "  </tbody>\n",
       "</table>\n",
       "</div>"
      ],
      "text/plain": [
       "        All             In VOC          Out of VOC          \n",
       "   f1 micro f1 macro  f1 micro f1 macro   f1 micro  f1 macro\n",
       "0  0.771323  0.31688  0.807682  0.42154   0.097938  0.061837"
      ]
     },
     "metadata": {},
     "output_type": "display_data"
    },
    {
     "name": "stderr",
     "output_type": "stream",
     "text": [
      "Epoch 45: 100%|██████████| 508/508 [00:46<00:00, 10.84batch/s, loss_decrease=1.0000018829356323]\n",
      "100%|██████████| 3787/3787 [00:42<00:00, 89.77batch/s]\n"
     ]
    },
    {
     "data": {
      "text/html": [
       "<div>\n",
       "<style scoped>\n",
       "    .dataframe tbody tr th:only-of-type {\n",
       "        vertical-align: middle;\n",
       "    }\n",
       "\n",
       "    .dataframe tbody tr th {\n",
       "        vertical-align: top;\n",
       "    }\n",
       "\n",
       "    .dataframe thead tr th {\n",
       "        text-align: left;\n",
       "    }\n",
       "</style>\n",
       "<table border=\"1\" class=\"dataframe\">\n",
       "  <thead>\n",
       "    <tr>\n",
       "      <th></th>\n",
       "      <th colspan=\"2\" halign=\"left\">All</th>\n",
       "      <th colspan=\"2\" halign=\"left\">In VOC</th>\n",
       "      <th colspan=\"2\" halign=\"left\">Out of VOC</th>\n",
       "    </tr>\n",
       "    <tr>\n",
       "      <th></th>\n",
       "      <th>f1 micro</th>\n",
       "      <th>f1 macro</th>\n",
       "      <th>f1 micro</th>\n",
       "      <th>f1 macro</th>\n",
       "      <th>f1 micro</th>\n",
       "      <th>f1 macro</th>\n",
       "    </tr>\n",
       "  </thead>\n",
       "  <tbody>\n",
       "    <tr>\n",
       "      <th>0</th>\n",
       "      <td>0.774492</td>\n",
       "      <td>0.322912</td>\n",
       "      <td>0.811578</td>\n",
       "      <td>0.431818</td>\n",
       "      <td>0.087629</td>\n",
       "      <td>0.057126</td>\n",
       "    </tr>\n",
       "  </tbody>\n",
       "</table>\n",
       "</div>"
      ],
      "text/plain": [
       "        All              In VOC           Out of VOC          \n",
       "   f1 micro  f1 macro  f1 micro  f1 macro   f1 micro  f1 macro\n",
       "0  0.774492  0.322912  0.811578  0.431818   0.087629  0.057126"
      ]
     },
     "metadata": {},
     "output_type": "display_data"
    },
    {
     "name": "stderr",
     "output_type": "stream",
     "text": [
      "Epoch 46: 100%|██████████| 508/508 [00:46<00:00, 11.04batch/s, loss_decrease=1.0000018829356323]\n",
      "100%|██████████| 3787/3787 [00:42<00:00, 89.27batch/s]\n"
     ]
    },
    {
     "data": {
      "text/html": [
       "<div>\n",
       "<style scoped>\n",
       "    .dataframe tbody tr th:only-of-type {\n",
       "        vertical-align: middle;\n",
       "    }\n",
       "\n",
       "    .dataframe tbody tr th {\n",
       "        vertical-align: top;\n",
       "    }\n",
       "\n",
       "    .dataframe thead tr th {\n",
       "        text-align: left;\n",
       "    }\n",
       "</style>\n",
       "<table border=\"1\" class=\"dataframe\">\n",
       "  <thead>\n",
       "    <tr>\n",
       "      <th></th>\n",
       "      <th colspan=\"2\" halign=\"left\">All</th>\n",
       "      <th colspan=\"2\" halign=\"left\">In VOC</th>\n",
       "      <th colspan=\"2\" halign=\"left\">Out of VOC</th>\n",
       "    </tr>\n",
       "    <tr>\n",
       "      <th></th>\n",
       "      <th>f1 micro</th>\n",
       "      <th>f1 macro</th>\n",
       "      <th>f1 micro</th>\n",
       "      <th>f1 macro</th>\n",
       "      <th>f1 micro</th>\n",
       "      <th>f1 macro</th>\n",
       "    </tr>\n",
       "  </thead>\n",
       "  <tbody>\n",
       "    <tr>\n",
       "      <th>0</th>\n",
       "      <td>0.77634</td>\n",
       "      <td>0.328336</td>\n",
       "      <td>0.812691</td>\n",
       "      <td>0.438021</td>\n",
       "      <td>0.103093</td>\n",
       "      <td>0.064421</td>\n",
       "    </tr>\n",
       "  </tbody>\n",
       "</table>\n",
       "</div>"
      ],
      "text/plain": [
       "       All              In VOC           Out of VOC          \n",
       "  f1 micro  f1 macro  f1 micro  f1 macro   f1 micro  f1 macro\n",
       "0  0.77634  0.328336  0.812691  0.438021   0.103093  0.064421"
      ]
     },
     "metadata": {},
     "output_type": "display_data"
    },
    {
     "name": "stderr",
     "output_type": "stream",
     "text": [
      "Epoch 47: 100%|██████████| 508/508 [00:48<00:00, 10.44batch/s, loss_decrease=1.0000018829356323]\n",
      "100%|██████████| 3787/3787 [00:42<00:00, 90.07batch/s]\n"
     ]
    },
    {
     "data": {
      "text/html": [
       "<div>\n",
       "<style scoped>\n",
       "    .dataframe tbody tr th:only-of-type {\n",
       "        vertical-align: middle;\n",
       "    }\n",
       "\n",
       "    .dataframe tbody tr th {\n",
       "        vertical-align: top;\n",
       "    }\n",
       "\n",
       "    .dataframe thead tr th {\n",
       "        text-align: left;\n",
       "    }\n",
       "</style>\n",
       "<table border=\"1\" class=\"dataframe\">\n",
       "  <thead>\n",
       "    <tr>\n",
       "      <th></th>\n",
       "      <th colspan=\"2\" halign=\"left\">All</th>\n",
       "      <th colspan=\"2\" halign=\"left\">In VOC</th>\n",
       "      <th colspan=\"2\" halign=\"left\">Out of VOC</th>\n",
       "    </tr>\n",
       "    <tr>\n",
       "      <th></th>\n",
       "      <th>f1 micro</th>\n",
       "      <th>f1 macro</th>\n",
       "      <th>f1 micro</th>\n",
       "      <th>f1 macro</th>\n",
       "      <th>f1 micro</th>\n",
       "      <th>f1 macro</th>\n",
       "    </tr>\n",
       "  </thead>\n",
       "  <tbody>\n",
       "    <tr>\n",
       "      <th>0</th>\n",
       "      <td>0.77634</td>\n",
       "      <td>0.323171</td>\n",
       "      <td>0.81297</td>\n",
       "      <td>0.431996</td>\n",
       "      <td>0.097938</td>\n",
       "      <td>0.060446</td>\n",
       "    </tr>\n",
       "  </tbody>\n",
       "</table>\n",
       "</div>"
      ],
      "text/plain": [
       "       All             In VOC           Out of VOC          \n",
       "  f1 micro  f1 macro f1 micro  f1 macro   f1 micro  f1 macro\n",
       "0  0.77634  0.323171  0.81297  0.431996   0.097938  0.060446"
      ]
     },
     "metadata": {},
     "output_type": "display_data"
    },
    {
     "name": "stderr",
     "output_type": "stream",
     "text": [
      "Epoch 48: 100%|██████████| 508/508 [00:44<00:00, 11.33batch/s, loss_decrease=1.0000018829356323]\n",
      "100%|██████████| 3787/3787 [00:41<00:00, 92.33batch/s]\n"
     ]
    },
    {
     "data": {
      "text/html": [
       "<div>\n",
       "<style scoped>\n",
       "    .dataframe tbody tr th:only-of-type {\n",
       "        vertical-align: middle;\n",
       "    }\n",
       "\n",
       "    .dataframe tbody tr th {\n",
       "        vertical-align: top;\n",
       "    }\n",
       "\n",
       "    .dataframe thead tr th {\n",
       "        text-align: left;\n",
       "    }\n",
       "</style>\n",
       "<table border=\"1\" class=\"dataframe\">\n",
       "  <thead>\n",
       "    <tr>\n",
       "      <th></th>\n",
       "      <th colspan=\"2\" halign=\"left\">All</th>\n",
       "      <th colspan=\"2\" halign=\"left\">In VOC</th>\n",
       "      <th colspan=\"2\" halign=\"left\">Out of VOC</th>\n",
       "    </tr>\n",
       "    <tr>\n",
       "      <th></th>\n",
       "      <th>f1 micro</th>\n",
       "      <th>f1 macro</th>\n",
       "      <th>f1 micro</th>\n",
       "      <th>f1 macro</th>\n",
       "      <th>f1 micro</th>\n",
       "      <th>f1 macro</th>\n",
       "    </tr>\n",
       "  </thead>\n",
       "  <tbody>\n",
       "    <tr>\n",
       "      <th>0</th>\n",
       "      <td>0.77634</td>\n",
       "      <td>0.327708</td>\n",
       "      <td>0.812691</td>\n",
       "      <td>0.429052</td>\n",
       "      <td>0.103093</td>\n",
       "      <td>0.06465</td>\n",
       "    </tr>\n",
       "  </tbody>\n",
       "</table>\n",
       "</div>"
      ],
      "text/plain": [
       "       All              In VOC           Out of VOC         \n",
       "  f1 micro  f1 macro  f1 micro  f1 macro   f1 micro f1 macro\n",
       "0  0.77634  0.327708  0.812691  0.429052   0.103093  0.06465"
      ]
     },
     "metadata": {},
     "output_type": "display_data"
    },
    {
     "name": "stderr",
     "output_type": "stream",
     "text": [
      "Epoch 49: 100%|██████████| 508/508 [00:44<00:00, 11.40batch/s, loss_decrease=1.0000018829356323]\n",
      "100%|██████████| 3787/3787 [00:42<00:00, 88.42batch/s]\n"
     ]
    },
    {
     "data": {
      "text/html": [
       "<div>\n",
       "<style scoped>\n",
       "    .dataframe tbody tr th:only-of-type {\n",
       "        vertical-align: middle;\n",
       "    }\n",
       "\n",
       "    .dataframe tbody tr th {\n",
       "        vertical-align: top;\n",
       "    }\n",
       "\n",
       "    .dataframe thead tr th {\n",
       "        text-align: left;\n",
       "    }\n",
       "</style>\n",
       "<table border=\"1\" class=\"dataframe\">\n",
       "  <thead>\n",
       "    <tr>\n",
       "      <th></th>\n",
       "      <th colspan=\"2\" halign=\"left\">All</th>\n",
       "      <th colspan=\"2\" halign=\"left\">In VOC</th>\n",
       "      <th colspan=\"2\" halign=\"left\">Out of VOC</th>\n",
       "    </tr>\n",
       "    <tr>\n",
       "      <th></th>\n",
       "      <th>f1 micro</th>\n",
       "      <th>f1 macro</th>\n",
       "      <th>f1 micro</th>\n",
       "      <th>f1 macro</th>\n",
       "      <th>f1 micro</th>\n",
       "      <th>f1 macro</th>\n",
       "    </tr>\n",
       "  </thead>\n",
       "  <tbody>\n",
       "    <tr>\n",
       "      <th>0</th>\n",
       "      <td>0.77502</td>\n",
       "      <td>0.32381</td>\n",
       "      <td>0.811856</td>\n",
       "      <td>0.434133</td>\n",
       "      <td>0.092784</td>\n",
       "      <td>0.057126</td>\n",
       "    </tr>\n",
       "  </tbody>\n",
       "</table>\n",
       "</div>"
      ],
      "text/plain": [
       "       All             In VOC           Out of VOC          \n",
       "  f1 micro f1 macro  f1 micro  f1 macro   f1 micro  f1 macro\n",
       "0  0.77502  0.32381  0.811856  0.434133   0.092784  0.057126"
      ]
     },
     "metadata": {},
     "output_type": "display_data"
    },
    {
     "name": "stderr",
     "output_type": "stream",
     "text": [
      "Epoch 50: 100%|██████████| 508/508 [00:46<00:00, 10.83batch/s, loss_decrease=1.0000018829356323]\n",
      "100%|██████████| 3787/3787 [00:42<00:00, 89.55batch/s]\n"
     ]
    },
    {
     "data": {
      "text/html": [
       "<div>\n",
       "<style scoped>\n",
       "    .dataframe tbody tr th:only-of-type {\n",
       "        vertical-align: middle;\n",
       "    }\n",
       "\n",
       "    .dataframe tbody tr th {\n",
       "        vertical-align: top;\n",
       "    }\n",
       "\n",
       "    .dataframe thead tr th {\n",
       "        text-align: left;\n",
       "    }\n",
       "</style>\n",
       "<table border=\"1\" class=\"dataframe\">\n",
       "  <thead>\n",
       "    <tr>\n",
       "      <th></th>\n",
       "      <th colspan=\"2\" halign=\"left\">All</th>\n",
       "      <th colspan=\"2\" halign=\"left\">In VOC</th>\n",
       "      <th colspan=\"2\" halign=\"left\">Out of VOC</th>\n",
       "    </tr>\n",
       "    <tr>\n",
       "      <th></th>\n",
       "      <th>f1 micro</th>\n",
       "      <th>f1 macro</th>\n",
       "      <th>f1 micro</th>\n",
       "      <th>f1 macro</th>\n",
       "      <th>f1 micro</th>\n",
       "      <th>f1 macro</th>\n",
       "    </tr>\n",
       "  </thead>\n",
       "  <tbody>\n",
       "    <tr>\n",
       "      <th>0</th>\n",
       "      <td>0.775812</td>\n",
       "      <td>0.325669</td>\n",
       "      <td>0.812691</td>\n",
       "      <td>0.435375</td>\n",
       "      <td>0.092784</td>\n",
       "      <td>0.056725</td>\n",
       "    </tr>\n",
       "  </tbody>\n",
       "</table>\n",
       "</div>"
      ],
      "text/plain": [
       "        All              In VOC           Out of VOC          \n",
       "   f1 micro  f1 macro  f1 micro  f1 macro   f1 micro  f1 macro\n",
       "0  0.775812  0.325669  0.812691  0.435375   0.092784  0.056725"
      ]
     },
     "metadata": {},
     "output_type": "display_data"
    },
    {
     "name": "stdout",
     "output_type": "stream",
     "text": [
      "Finished Training\n"
     ]
    }
   ],
   "source": [
    "from tqdm import trange\n",
    "from tqdm import tqdm\n",
    "from sklearn.metrics import classification_report, f1_score\n",
    "from evaluator import Evaluator\n",
    "import numpy as np\n",
    "\n",
    "\n",
    "\n",
    "#Гиперпараметры\n",
    "batch_size=16\n",
    "epochs = 50\n",
    "    \n",
    "trainloader = torch.utils.data.DataLoader(ds_train, batch_size=batch_size,\n",
    "                                          shuffle=False, num_workers=0)\n",
    "testloader = torch.utils.data.DataLoader(ds_test, batch_size=1, shuffle=False)\n",
    "\n",
    "evaluator = Evaluator(train_concepts, test_concepts_without_conceptless)\n",
    "\n",
    "initial_loss = None\n",
    "best_f1=0\n",
    "for epoch in range(1, epochs+1):\n",
    "    #обучение модели в эпохе\n",
    "    net.train()\n",
    "    with tqdm(trainloader, unit=\"batch\") as tepoch:\n",
    "        for data in tepoch:\n",
    "\n",
    "            tepoch.set_description(f\"Epoch {epoch}\")\n",
    "\n",
    "            inputs = data['tokenized_phrases']\n",
    "            labels = data['one_hot_labels']\n",
    "\n",
    "            optimizer.zero_grad()\n",
    "            if USE_CUDA=='cuda':\n",
    "                with torch.cuda.amp.autocast():\n",
    "                    outputs = net(inputs)['output']\n",
    "                    loss = criterion(outputs, labels)\n",
    "                scaler.scale(loss).backward()\n",
    "                scaler.step(optimizer)\n",
    "                scaler.update()\n",
    "            else:\n",
    "                outputs = net(inputs)['output']\n",
    "                loss = criterion(outputs, labels)\n",
    "                loss.backward()\n",
    "                optimizer.step()\n",
    "            if initial_loss is None:\n",
    "                initial_loss = loss.item()\n",
    "            tepoch.set_postfix(loss_decrease = str(initial_loss/loss.item()))\n",
    "    #расчет точностей модели после эпохи\n",
    "    net.eval()\n",
    "    model_answers=[]\n",
    "    real_answers=[]\n",
    "    with tqdm(testloader, unit=\"batch\") as eval_process:\n",
    "        for data in eval_process:\n",
    "\n",
    "            inputs = data['tokenized_phrases']\n",
    "\n",
    "            with torch.no_grad():\n",
    "                outputs_dict = net(inputs)\n",
    "                pred_meddra_code = CV_without_conceptless.meddra_codes[outputs_dict['output'].argmax()]\n",
    "\n",
    "\n",
    "            model_answers.append(pred_meddra_code)\n",
    "            real_answers.append(data['label_codes'][0])\n",
    "    evaluator.get_all_f1_scores(real_answers, model_answers)\n",
    "print('Finished Training')\n",
    "torch.save(net,'./Model_weights/rubert_additional_corp_v2_%s.pt'%epoch)"
   ]
  },
  {
   "cell_type": "code",
   "execution_count": 25,
   "id": "precise-samuel",
   "metadata": {},
   "outputs": [
    {
     "name": "stderr",
     "output_type": "stream",
     "text": [
      "100%|██████████| 3787/3787 [00:42<00:00, 89.50batch/s]\n"
     ]
    },
    {
     "data": {
      "text/html": [
       "<div>\n",
       "<style scoped>\n",
       "    .dataframe tbody tr th:only-of-type {\n",
       "        vertical-align: middle;\n",
       "    }\n",
       "\n",
       "    .dataframe tbody tr th {\n",
       "        vertical-align: top;\n",
       "    }\n",
       "\n",
       "    .dataframe thead tr th {\n",
       "        text-align: left;\n",
       "    }\n",
       "</style>\n",
       "<table border=\"1\" class=\"dataframe\">\n",
       "  <thead>\n",
       "    <tr>\n",
       "      <th></th>\n",
       "      <th colspan=\"2\" halign=\"left\">All</th>\n",
       "      <th colspan=\"2\" halign=\"left\">In VOC</th>\n",
       "      <th colspan=\"2\" halign=\"left\">Out of VOC</th>\n",
       "    </tr>\n",
       "    <tr>\n",
       "      <th></th>\n",
       "      <th>f1 micro</th>\n",
       "      <th>f1 macro</th>\n",
       "      <th>f1 micro</th>\n",
       "      <th>f1 macro</th>\n",
       "      <th>f1 micro</th>\n",
       "      <th>f1 macro</th>\n",
       "    </tr>\n",
       "  </thead>\n",
       "  <tbody>\n",
       "    <tr>\n",
       "      <th>0</th>\n",
       "      <td>0.7061</td>\n",
       "      <td>0.239987</td>\n",
       "      <td>0.735597</td>\n",
       "      <td>0.2816</td>\n",
       "      <td>0.159794</td>\n",
       "      <td>0.101421</td>\n",
       "    </tr>\n",
       "  </tbody>\n",
       "</table>\n",
       "</div>"
      ],
      "text/plain": [
       "       All              In VOC          Out of VOC          \n",
       "  f1 micro  f1 macro  f1 micro f1 macro   f1 micro  f1 macro\n",
       "0   0.7061  0.239987  0.735597   0.2816   0.159794  0.101421"
      ]
     },
     "metadata": {},
     "output_type": "display_data"
    }
   ],
   "source": [
    "net.eval()\n",
    "model_answers=[]\n",
    "real_answers=[]\n",
    "evaluator = Evaluator(train_concepts, test_concepts_without_conceptless)\n",
    "with tqdm(testloader, unit=\"batch\") as eval_process:\n",
    "    for data in eval_process:\n",
    "\n",
    "        inputs = data['tokenized_phrases']\n",
    "\n",
    "        with torch.no_grad():\n",
    "            outputs_dict = net(inputs)\n",
    "            pred_meddra_code = CV_without_conceptless.meddra_codes[outputs_dict['output'].argmax()]\n",
    "\n",
    "\n",
    "        model_answers.append(pred_meddra_code)\n",
    "        real_answers.append(data['label_codes'][0])\n",
    "evaluator.get_all_f1_scores(real_answers, model_answers)"
   ]
  },
  {
   "cell_type": "code",
   "execution_count": 24,
   "id": "shaped-edinburgh",
   "metadata": {},
   "outputs": [
    {
     "data": {
      "text/plain": [
       "array([], dtype=int64)"
      ]
     },
     "execution_count": 24,
     "metadata": {},
     "output_type": "execute_result"
    }
   ],
   "source": [
    "evaluator.in_voc_idx"
   ]
  },
  {
   "cell_type": "markdown",
   "id": "living-registration",
   "metadata": {},
   "source": [
    "<h3>Процесс обучения и рассчета точностей на доп. корпусе</h3>"
   ]
  },
  {
   "cell_type": "code",
   "execution_count": 17,
   "id": "distant-suspect",
   "metadata": {},
   "outputs": [
    {
     "name": "stderr",
     "output_type": "stream",
     "text": [
      "Epoch 1: 100%|██████████| 1529/1529 [03:05<00:00,  8.26batch/s, loss_decrease=1.0000015063442513]\n",
      "100%|██████████| 3787/3787 [00:40<00:00, 94.32batch/s] \n"
     ]
    },
    {
     "name": "stdout",
     "output_type": "stream",
     "text": [
      "0.12278848692896752 micro\n",
      "0.054613601851199206 macro\n"
     ]
    },
    {
     "name": "stderr",
     "output_type": "stream",
     "text": [
      "Epoch 2: 100%|██████████| 1529/1529 [03:03<00:00,  8.34batch/s, loss_decrease=1.0000019770777604]\n",
      "100%|██████████| 3787/3787 [00:38<00:00, 97.19batch/s] \n"
     ]
    },
    {
     "name": "stdout",
     "output_type": "stream",
     "text": [
      "0.1938209664642197 micro\n",
      "0.06721648734675416 macro\n"
     ]
    },
    {
     "name": "stderr",
     "output_type": "stream",
     "text": [
      "Epoch 3: 100%|██████████| 1529/1529 [03:04<00:00,  8.29batch/s, loss_decrease=1.0000021653712883]\n",
      "100%|██████████| 3787/3787 [00:41<00:00, 91.63batch/s] \n"
     ]
    },
    {
     "name": "stdout",
     "output_type": "stream",
     "text": [
      "0.2476894639556377 micro\n",
      "0.06917721120082441 macro\n"
     ]
    },
    {
     "name": "stderr",
     "output_type": "stream",
     "text": [
      "Epoch 4: 100%|██████████| 1529/1529 [03:02<00:00,  8.39batch/s, loss_decrease=1.0000021653712883]\n",
      "100%|██████████| 3787/3787 [00:41<00:00, 91.74batch/s] \n"
     ]
    },
    {
     "name": "stdout",
     "output_type": "stream",
     "text": [
      "0.27224716134143123 micro\n",
      "0.08251990316780486 macro\n"
     ]
    },
    {
     "name": "stderr",
     "output_type": "stream",
     "text": [
      "Epoch 5: 100%|██████████| 1529/1529 [03:02<00:00,  8.37batch/s, loss_decrease=1.0000021653712883]\n",
      "100%|██████████| 3787/3787 [00:43<00:00, 87.38batch/s] \n"
     ]
    },
    {
     "name": "stdout",
     "output_type": "stream",
     "text": [
      "0.3044626353313969 micro\n",
      "0.08402469266345143 macro\n"
     ]
    },
    {
     "name": "stderr",
     "output_type": "stream",
     "text": [
      "Epoch 6: 100%|██████████| 1529/1529 [03:02<00:00,  8.37batch/s, loss_decrease=1.0000021653712883]\n",
      "100%|██████████| 3787/3787 [00:43<00:00, 88.03batch/s] \n"
     ]
    },
    {
     "name": "stdout",
     "output_type": "stream",
     "text": [
      "0.33667810932136255 micro\n",
      "0.09558875691844372 macro\n"
     ]
    },
    {
     "name": "stderr",
     "output_type": "stream",
     "text": [
      "Epoch 7: 100%|██████████| 1529/1529 [03:01<00:00,  8.43batch/s, loss_decrease=1.0000022595180786]\n",
      "100%|██████████| 3787/3787 [00:42<00:00, 88.67batch/s] \n"
     ]
    },
    {
     "name": "stdout",
     "output_type": "stream",
     "text": [
      "0.34407182466332187 micro\n",
      "0.09850908401032399 macro\n"
     ]
    },
    {
     "name": "stderr",
     "output_type": "stream",
     "text": [
      "Epoch 8: 100%|██████████| 1529/1529 [03:02<00:00,  8.36batch/s, loss_decrease=1.0000021653712883]\n",
      "100%|██████████| 3787/3787 [00:41<00:00, 90.31batch/s] \n"
     ]
    },
    {
     "name": "stdout",
     "output_type": "stream",
     "text": [
      "0.35780301029838923 micro\n",
      "0.10530155055055056 macro\n"
     ]
    },
    {
     "name": "stderr",
     "output_type": "stream",
     "text": [
      "Epoch 9: 100%|██████████| 1529/1529 [03:04<00:00,  8.28batch/s, loss_decrease=1.0000021653712883]\n",
      "100%|██████████| 3787/3787 [00:38<00:00, 98.95batch/s] \n"
     ]
    },
    {
     "name": "stdout",
     "output_type": "stream",
     "text": [
      "0.37496699234222336 micro\n",
      "0.10853689119890586 macro\n"
     ]
    },
    {
     "name": "stderr",
     "output_type": "stream",
     "text": [
      "Epoch 10: 100%|██████████| 1529/1529 [03:02<00:00,  8.39batch/s, loss_decrease=1.0000020712245155]\n",
      "100%|██████████| 3787/3787 [00:39<00:00, 94.93batch/s] \n"
     ]
    },
    {
     "name": "stdout",
     "output_type": "stream",
     "text": [
      "0.39582783205703725 micro\n",
      "0.1070768033238578 macro\n"
     ]
    },
    {
     "name": "stderr",
     "output_type": "stream",
     "text": [
      "Epoch 11: 100%|██████████| 1529/1529 [03:00<00:00,  8.49batch/s, loss_decrease=1.0000021653712883]\n",
      "100%|██████████| 3787/3787 [00:39<00:00, 95.29batch/s] \n"
     ]
    },
    {
     "name": "stdout",
     "output_type": "stream",
     "text": [
      "0.405598098758912 micro\n",
      "0.11265058099085253 macro\n"
     ]
    },
    {
     "name": "stderr",
     "output_type": "stream",
     "text": [
      "Epoch 12: 100%|██████████| 1529/1529 [03:05<00:00,  8.24batch/s, loss_decrease=1.0000021653712883]\n",
      "100%|██████████| 3787/3787 [00:40<00:00, 93.13batch/s] \n"
     ]
    },
    {
     "name": "stdout",
     "output_type": "stream",
     "text": [
      "0.41800897808291526 micro\n",
      "0.12363658579061598 macro\n"
     ]
    },
    {
     "name": "stderr",
     "output_type": "stream",
     "text": [
      "Epoch 13: 100%|██████████| 1529/1529 [03:02<00:00,  8.40batch/s, loss_decrease=1.0000021653712883]\n",
      "100%|██████████| 3787/3787 [00:39<00:00, 96.48batch/s] \n"
     ]
    },
    {
     "name": "stdout",
     "output_type": "stream",
     "text": [
      "0.40401373118563505 micro\n",
      "0.1278693202920669 macro\n"
     ]
    },
    {
     "name": "stderr",
     "output_type": "stream",
     "text": [
      "Epoch 14: 100%|██████████| 1529/1529 [03:05<00:00,  8.24batch/s, loss_decrease=1.0000021653712883]\n",
      "100%|██████████| 3787/3787 [00:38<00:00, 98.03batch/s] \n"
     ]
    },
    {
     "name": "stdout",
     "output_type": "stream",
     "text": [
      "0.41351993662529707 micro\n",
      "0.1215625673740327 macro\n"
     ]
    },
    {
     "name": "stderr",
     "output_type": "stream",
     "text": [
      "Epoch 15: 100%|██████████| 1529/1529 [03:02<00:00,  8.39batch/s, loss_decrease=1.0000022595180786]\n",
      "100%|██████████| 3787/3787 [00:40<00:00, 92.94batch/s] \n"
     ]
    },
    {
     "name": "stdout",
     "output_type": "stream",
     "text": [
      "0.43253234750462105 micro\n",
      "0.1342823802255639 macro\n"
     ]
    },
    {
     "name": "stderr",
     "output_type": "stream",
     "text": [
      "Epoch 16: 100%|██████████| 1529/1529 [03:03<00:00,  8.31batch/s, loss_decrease=1.0000021653712883]\n",
      "100%|██████████| 3787/3787 [00:40<00:00, 93.45batch/s] \n"
     ]
    },
    {
     "name": "stdout",
     "output_type": "stream",
     "text": [
      "0.4351729601267494 micro\n",
      "0.12242473021122763 macro\n"
     ]
    },
    {
     "name": "stderr",
     "output_type": "stream",
     "text": [
      "Epoch 17: 100%|██████████| 1529/1529 [02:59<00:00,  8.52batch/s, loss_decrease=1.0000022595180786]\n",
      "100%|██████████| 3787/3787 [00:39<00:00, 96.76batch/s] \n"
     ]
    },
    {
     "name": "stdout",
     "output_type": "stream",
     "text": [
      "0.44045418537100606 micro\n",
      "0.13426671753355598 macro\n"
     ]
    },
    {
     "name": "stderr",
     "output_type": "stream",
     "text": [
      "Epoch 18: 100%|██████████| 1529/1529 [03:01<00:00,  8.41batch/s, loss_decrease=1.0000022595180786]\n",
      "100%|██████████| 3787/3787 [00:39<00:00, 97.01batch/s] \n"
     ]
    },
    {
     "name": "stdout",
     "output_type": "stream",
     "text": [
      "0.4510166358595194 micro\n",
      "0.13196269136183703 macro\n"
     ]
    },
    {
     "name": "stderr",
     "output_type": "stream",
     "text": [
      "Epoch 19: 100%|██████████| 1529/1529 [03:02<00:00,  8.38batch/s, loss_decrease=1.0000021653712883]\n",
      "100%|██████████| 3787/3787 [00:38<00:00, 97.91batch/s] \n"
     ]
    },
    {
     "name": "stdout",
     "output_type": "stream",
     "text": [
      "0.4520728809083707 micro\n",
      "0.13128057113087138 macro\n"
     ]
    },
    {
     "name": "stderr",
     "output_type": "stream",
     "text": [
      "Epoch 20: 100%|██████████| 1529/1529 [02:59<00:00,  8.54batch/s, loss_decrease=1.0000021653712883]\n",
      "100%|██████████| 3787/3787 [00:42<00:00, 89.86batch/s] \n"
     ]
    },
    {
     "name": "stdout",
     "output_type": "stream",
     "text": [
      "0.4578822286770531 micro\n",
      "0.13504377570952822 macro\n"
     ]
    },
    {
     "name": "stderr",
     "output_type": "stream",
     "text": [
      "Epoch 21: 100%|██████████| 1529/1529 [02:57<00:00,  8.63batch/s, loss_decrease=1.0000022595180786]\n",
      "100%|██████████| 3787/3787 [00:39<00:00, 95.94batch/s] \n"
     ]
    },
    {
     "name": "stdout",
     "output_type": "stream",
     "text": [
      "0.45444943226828627 micro\n",
      "0.13781141651527187 macro\n"
     ]
    },
    {
     "name": "stderr",
     "output_type": "stream",
     "text": [
      "Epoch 22: 100%|██████████| 1529/1529 [02:55<00:00,  8.73batch/s, loss_decrease=1.0000022595180786]\n",
      "100%|██████████| 3787/3787 [00:39<00:00, 96.48batch/s] \n"
     ]
    },
    {
     "name": "stdout",
     "output_type": "stream",
     "text": [
      "0.45524161605492475 micro\n",
      "0.145484726201721 macro\n"
     ]
    },
    {
     "name": "stderr",
     "output_type": "stream",
     "text": [
      "Epoch 23: 100%|██████████| 1529/1529 [02:56<00:00,  8.65batch/s, loss_decrease=1.0000022595180786]\n",
      "100%|██████████| 3787/3787 [00:42<00:00, 89.20batch/s] \n"
     ]
    },
    {
     "name": "stdout",
     "output_type": "stream",
     "text": [
      "0.46263533139688406 micro\n",
      "0.13855448633013692 macro\n"
     ]
    },
    {
     "name": "stderr",
     "output_type": "stream",
     "text": [
      "Epoch 24: 100%|██████████| 1529/1529 [03:05<00:00,  8.25batch/s, loss_decrease=1.0000022595180786]\n",
      "100%|██████████| 3787/3787 [00:39<00:00, 95.89batch/s] \n"
     ]
    },
    {
     "name": "stdout",
     "output_type": "stream",
     "text": [
      "0.47187747557433324 micro\n",
      "0.14337480969161037 macro\n"
     ]
    },
    {
     "name": "stderr",
     "output_type": "stream",
     "text": [
      "Epoch 25: 100%|██████████| 1529/1529 [03:05<00:00,  8.22batch/s, loss_decrease=1.0000022595180786]\n",
      "100%|██████████| 3787/3787 [00:46<00:00, 81.55batch/s]\n"
     ]
    },
    {
     "name": "stdout",
     "output_type": "stream",
     "text": [
      "0.4745180881964616 micro\n",
      "0.15286734050215856 macro\n"
     ]
    },
    {
     "name": "stderr",
     "output_type": "stream",
     "text": [
      "Epoch 26: 100%|██████████| 1529/1529 [03:00<00:00,  8.46batch/s, loss_decrease=1.0000022595180786]\n",
      "100%|██████████| 3787/3787 [00:42<00:00, 88.88batch/s] \n"
     ]
    },
    {
     "name": "stdout",
     "output_type": "stream",
     "text": [
      "0.4684446791655664 micro\n",
      "0.1501833688938569 macro\n"
     ]
    },
    {
     "name": "stderr",
     "output_type": "stream",
     "text": [
      "Epoch 27: 100%|██████████| 1529/1529 [03:02<00:00,  8.38batch/s, loss_decrease=1.0000022595180786]\n",
      "100%|██████████| 3787/3787 [00:44<00:00, 84.89batch/s] \n"
     ]
    },
    {
     "name": "stdout",
     "output_type": "stream",
     "text": [
      "0.4676524953789279 micro\n",
      "0.14824685461405288 macro\n"
     ]
    },
    {
     "name": "stderr",
     "output_type": "stream",
     "text": [
      "Epoch 28: 100%|██████████| 1529/1529 [03:00<00:00,  8.46batch/s, loss_decrease=1.0000022595180786]\n",
      "100%|██████████| 3787/3787 [00:41<00:00, 90.84batch/s]\n"
     ]
    },
    {
     "name": "stdout",
     "output_type": "stream",
     "text": [
      "0.4779508846052284 micro\n",
      "0.15678419166189123 macro\n"
     ]
    },
    {
     "name": "stderr",
     "output_type": "stream",
     "text": [
      "Epoch 29: 100%|██████████| 1529/1529 [02:49<00:00,  9.01batch/s, loss_decrease=1.0000022595180786]\n",
      "100%|██████████| 3787/3787 [00:40<00:00, 93.85batch/s] \n"
     ]
    },
    {
     "name": "stdout",
     "output_type": "stream",
     "text": [
      "0.47927119091629256 micro\n",
      "0.1571352333250121 macro\n"
     ]
    },
    {
     "name": "stderr",
     "output_type": "stream",
     "text": [
      "Epoch 30: 100%|██████████| 1529/1529 [02:44<00:00,  9.31batch/s, loss_decrease=1.0000022595180786]\n",
      "100%|██████████| 3787/3787 [00:39<00:00, 95.14batch/s] \n"
     ]
    },
    {
     "name": "stdout",
     "output_type": "stream",
     "text": [
      "0.4708212305254819 micro\n",
      "0.15236921283847657 macro\n",
      "Finished Training\n"
     ]
    }
   ],
   "source": [
    "from tqdm import trange\n",
    "from tqdm import tqdm\n",
    "from sklearn.metrics import classification_report, f1_score\n",
    "\n",
    "#Гиперпараметры\n",
    "batch_size=64#16\n",
    "epochs = 30\n",
    "    \n",
    "trainloader = torch.utils.data.DataLoader(ds_train, batch_size=batch_size,\n",
    "                                          shuffle=False, num_workers=0)\n",
    "testloader = torch.utils.data.DataLoader(ds_test, batch_size=1, shuffle=False)\n",
    "\n",
    "net.train()\n",
    "initial_loss = None\n",
    "best_f1=0\n",
    "for epoch in range(1, epochs+1):\n",
    "    #обучение модели в эпохе\n",
    "    net.train()\n",
    "    with tqdm(trainloader, unit=\"batch\") as tepoch:\n",
    "        for data in tepoch:\n",
    "\n",
    "            tepoch.set_description(f\"Epoch {epoch}\")\n",
    "\n",
    "            inputs = data['tokenized_phrases']\n",
    "            labels = data['one_hot_labels']\n",
    "\n",
    "            optimizer.zero_grad()\n",
    "            if device=='cuda':\n",
    "                with torch.cuda.amp.autocast():\n",
    "                    outputs = net(inputs)['output']\n",
    "                    loss = criterion(outputs, labels)\n",
    "                scaler.scale(loss).backward()\n",
    "                scaler.step(optimizer)\n",
    "                scaler.update()\n",
    "            else:\n",
    "                outputs = net(inputs)['output']\n",
    "                loss = criterion(outputs, labels)\n",
    "                loss.backward()\n",
    "                optimizer.step()\n",
    "            if initial_loss is None:\n",
    "                initial_loss = loss.item()\n",
    "            tepoch.set_postfix(loss_decrease = str(initial_loss/loss.item()))\n",
    "    #расчет точностей модели после эпохи\n",
    "    \n",
    "    net.eval()\n",
    "    model_answers=[]\n",
    "    real_answers=[]\n",
    "    with tqdm(testloader, unit=\"batch\") as eval_process:\n",
    "        for data in eval_process:\n",
    "\n",
    "            inputs = data['tokenized_phrases']\n",
    "\n",
    "            with torch.no_grad():\n",
    "                outputs_dict = net(inputs)\n",
    "                pred_meddra_code = CV_test_without_conceptless.meddra_codes[outputs_dict['output'].argmax()]\n",
    "\n",
    "\n",
    "            model_answers.append(pred_meddra_code)\n",
    "            real_answers.append(data['label_codes'])\n",
    "    #f1 = f1_score(real_answers, model_answers, average='micro')\n",
    "    \n",
    "    #if f1>best_f1:\n",
    "    #    best_f1=f1\n",
    "    #    torch.save(net,'./Model_weights/xlmroberta_best_%s.pt'%epoch)\n",
    "    #if epoch==9:\n",
    "    #    torch.save(net,'./Model_weights/xlmroberta_%s.pt'%epoch)\n",
    "    \n",
    "    f1 = f1_score(real_answers, model_answers, average='micro')\n",
    "    print('%s micro'%f1)\n",
    "    f1 = f1_score(real_answers, model_answers, average='macro')\n",
    "    print('%s macro'%f1)\n",
    "            \n",
    "print('Finished Training')\n",
    "torch.save(net,'./Model_weights/rubert_only_additional_corp_v2%s.pt'%epoch)"
   ]
  },
  {
   "cell_type": "markdown",
   "id": "multiple-property",
   "metadata": {},
   "source": [
    "<h2>Анализ ошибок rubert</h2>"
   ]
  },
  {
   "cell_type": "code",
   "execution_count": 94,
   "id": "seventh-system",
   "metadata": {},
   "outputs": [],
   "source": [
    "from tabulate import tabulate\n",
    "import pandas as pd\n",
    "\n",
    "class Evaluator:\n",
    "    '''Расчет точностей и работа с индексами In and Out of VOC'''\n",
    "    def __init__(self, train_conepts, test_concepts):\n",
    "        self.train_conepts, self.test_concepts = np.array(train_conepts), np.array(test_concepts)\n",
    "        self.get_in_out_of_voc_idx()\n",
    "        \n",
    "    def get_in_out_of_voc_idx(self):\n",
    "        mask_out_of_voc = np.in1d(self.test_concepts, self.train_conepts) #маска элементов первого array, которые есть во втором array\n",
    "        self.in_voc_idx = np.nonzero(mask_out_of_voc)[0] \n",
    "        self.out_of_voc_idx = np.nonzero(~mask_out_of_voc)[0]\n",
    "        \n",
    "    def get_f1_score(self, y_true, y_pred, average, idx='All'):\n",
    "        if idx=='All':\n",
    "            return f1_score(y_true, y_pred, average=average)\n",
    "        elif idx=='In VOC':\n",
    "            return f1_score(y_true[self.in_voc_idx], y_pred[self.in_voc_idx], average=average)\n",
    "        elif idx=='Out of VOC':\n",
    "            return f1_score(y_true[self.out_of_voc_idx], y_pred[self.out_of_voc_idx], average=average)\n",
    "        \n",
    "    def get_all_f1_scores(self, y_true, y_pred, pretty_print=True):\n",
    "        columns_tuples = [('All', 'f1 micro'), \n",
    "                     ('All', 'f1 macro'),\n",
    "                                           \n",
    "                     ('In VOC', 'f1 micro'), \n",
    "                     ('In VOC', 'f1 macro'),\n",
    "                                           \n",
    "                     ('Out of VOC', 'f1 micro'), \n",
    "                     ('Out of VOC', 'f1 macro')]\n",
    "        all_f1_scores = []\n",
    "        for cfg_row in columns_tuples:\n",
    "            all_f1_scores.append(self.get_f1_score(np.array(y_true), np.array(y_pred), \n",
    "                                                   average=cfg_row[1][3:], idx=cfg_row[0]))\n",
    "        all_f1_scores = np.array(all_f1_scores).reshape((1,6))\n",
    "        col_index = pd.MultiIndex.from_tuples(columns_tuples)\n",
    "        self.f1_scores_df = pd.DataFrame(all_f1_scores, columns=col_index)\n",
    "        if pretty_print:\n",
    "            display(self.f1_scores_df) #, headers='keys', tablefmt='psql')"
   ]
  },
  {
   "cell_type": "code",
   "execution_count": 95,
   "id": "catholic-affair",
   "metadata": {},
   "outputs": [],
   "source": [
    "evaluator = Evaluator(train_concepts, test_concepts_without_conceptless)"
   ]
  },
  {
   "cell_type": "code",
   "execution_count": 97,
   "id": "surrounded-natural",
   "metadata": {},
   "outputs": [],
   "source": [
    "net = torch.load('./Model_weights/rubert_50_exp_11.pt')"
   ]
  },
  {
   "cell_type": "code",
   "execution_count": 103,
   "id": "innovative-hammer",
   "metadata": {},
   "outputs": [
    {
     "name": "stderr",
     "output_type": "stream",
     "text": [
      "100%|██████████| 3787/3787 [00:42<00:00, 88.59batch/s] \n"
     ]
    },
    {
     "data": {
      "text/html": [
       "<div>\n",
       "<style scoped>\n",
       "    .dataframe tbody tr th:only-of-type {\n",
       "        vertical-align: middle;\n",
       "    }\n",
       "\n",
       "    .dataframe tbody tr th {\n",
       "        vertical-align: top;\n",
       "    }\n",
       "\n",
       "    .dataframe thead tr th {\n",
       "        text-align: left;\n",
       "    }\n",
       "</style>\n",
       "<table border=\"1\" class=\"dataframe\">\n",
       "  <thead>\n",
       "    <tr>\n",
       "      <th></th>\n",
       "      <th colspan=\"2\" halign=\"left\">All</th>\n",
       "      <th colspan=\"2\" halign=\"left\">In VOC</th>\n",
       "      <th colspan=\"2\" halign=\"left\">Out of VOC</th>\n",
       "    </tr>\n",
       "    <tr>\n",
       "      <th></th>\n",
       "      <th>f1 micro</th>\n",
       "      <th>f1 macro</th>\n",
       "      <th>f1 micro</th>\n",
       "      <th>f1 macro</th>\n",
       "      <th>f1 micro</th>\n",
       "      <th>f1 macro</th>\n",
       "    </tr>\n",
       "  </thead>\n",
       "  <tbody>\n",
       "    <tr>\n",
       "      <th>0</th>\n",
       "      <td>0.762345</td>\n",
       "      <td>0.293459</td>\n",
       "      <td>0.801837</td>\n",
       "      <td>0.421247</td>\n",
       "      <td>0.030928</td>\n",
       "      <td>0.015411</td>\n",
       "    </tr>\n",
       "  </tbody>\n",
       "</table>\n",
       "</div>"
      ],
      "text/plain": [
       "        All              In VOC           Out of VOC          \n",
       "   f1 micro  f1 macro  f1 micro  f1 macro   f1 micro  f1 macro\n",
       "0  0.762345  0.293459  0.801837  0.421247   0.030928  0.015411"
      ]
     },
     "metadata": {},
     "output_type": "display_data"
    }
   ],
   "source": [
    "net.eval()\n",
    "model_answers=[]\n",
    "real_answers=[]\n",
    "phrases = []\n",
    "with tqdm(testloader, unit=\"batch\") as eval_process:\n",
    "    for data in eval_process:\n",
    "\n",
    "        inputs = data['tokenized_phrases']\n",
    "\n",
    "        with torch.no_grad():\n",
    "            outputs_dict = net(inputs)\n",
    "            pred_meddra_code = CV_test_without_conceptless.meddra_codes[outputs_dict['output'].argmax()]\n",
    "\n",
    "\n",
    "        model_answers.append(pred_meddra_code)\n",
    "        real_answers.append(data['label_codes'][0])\n",
    "        phrases.append(data['phrases'][0])\n",
    "    evaluator.get_all_f1_scores(real_answers, model_answers)"
   ]
  },
  {
   "cell_type": "code",
   "execution_count": 108,
   "id": "attached-listening",
   "metadata": {},
   "outputs": [],
   "source": [
    "import pandas as pd\n",
    "\n",
    "model_df_out = pd.DataFrame({'true': model_answers, 'pred': real_answers, 'phrases': phrases, 'test_ids': test_ids})\n",
    "model_df_out['true_terms'] = model_df_out['true'].apply(lambda x: CV_train.meddra_code_to_meddra_term[x])\n",
    "model_df_out['pred_terms'] = model_df_out['pred'].apply(lambda x: CV_train.meddra_code_to_meddra_term[x])\n",
    "model_df_out['is wrong'] = model_df_out['pred'] != model_df_out['true']\n",
    "model_df_out[model_df_out['is wrong']].to_csv('rubert_50_epochs_out.csv', index=False)"
   ]
  },
  {
   "cell_type": "code",
   "execution_count": 106,
   "id": "finite-custom",
   "metadata": {},
   "outputs": [
    {
     "name": "stdout",
     "output_type": "stream",
     "text": [
      "4006\n"
     ]
    }
   ],
   "source": [
    "print(len(test_ids)) "
   ]
  },
  {
   "cell_type": "code",
   "execution_count": 90,
   "id": "fancy-cooler",
   "metadata": {},
   "outputs": [
    {
     "data": {
      "text/plain": [
       "3787"
      ]
     },
     "execution_count": 90,
     "metadata": {},
     "output_type": "execute_result"
    }
   ],
   "source": [
    "len(real_answers)"
   ]
  },
  {
   "cell_type": "code",
   "execution_count": 91,
   "id": "outdoor-third",
   "metadata": {},
   "outputs": [
    {
     "data": {
      "text/plain": [
       "4006"
      ]
     },
     "execution_count": 91,
     "metadata": {},
     "output_type": "execute_result"
    }
   ],
   "source": [
    "len(evaluator.test_concepts)"
   ]
  },
  {
   "cell_type": "markdown",
   "id": "unlike-tomorrow",
   "metadata": {},
   "source": [
    "<h3>Процесс обучения и рассчета точностей rubert</h3>"
   ]
  },
  {
   "cell_type": "code",
   "execution_count": 15,
   "id": "developed-continent",
   "metadata": {},
   "outputs": [
    {
     "name": "stderr",
     "output_type": "stream",
     "text": [
      "Epoch 1: 100%|██████████| 508/508 [00:56<00:00,  9.00batch/s, loss_decrease=1.0000013180507235]\n",
      "100%|██████████| 3787/3787 [00:44<00:00, 85.89batch/s] \n"
     ]
    },
    {
     "name": "stdout",
     "output_type": "stream",
     "text": [
      "0.5901769210456826 micro\n",
      "0.10543854161409019 macro\n"
     ]
    },
    {
     "name": "stderr",
     "output_type": "stream",
     "text": [
      "Epoch 2: 100%|██████████| 508/508 [00:54<00:00,  9.39batch/s, loss_decrease=1.0000016004906163]\n",
      "100%|██████████| 3787/3787 [00:39<00:00, 96.16batch/s] \n"
     ]
    },
    {
     "name": "stdout",
     "output_type": "stream",
     "text": [
      "0.646686031159229 micro\n",
      "0.13236941797643076 macro\n"
     ]
    },
    {
     "name": "stderr",
     "output_type": "stream",
     "text": [
      "Epoch 3: 100%|██████████| 508/508 [00:51<00:00,  9.79batch/s, loss_decrease=1.0000020712241255]\n",
      "100%|██████████| 3787/3787 [00:39<00:00, 97.00batch/s] \n"
     ]
    },
    {
     "name": "stdout",
     "output_type": "stream",
     "text": [
      "0.6722999735938738 micro\n",
      "0.15958209748166557 macro\n"
     ]
    },
    {
     "name": "stderr",
     "output_type": "stream",
     "text": [
      "Epoch 4: 100%|██████████| 508/508 [00:46<00:00, 10.91batch/s, loss_decrease=1.0000026361049215]\n",
      "100%|██████████| 3787/3787 [00:41<00:00, 91.99batch/s] \n"
     ]
    },
    {
     "name": "stdout",
     "output_type": "stream",
     "text": [
      "0.6931608133086876 micro\n",
      "0.16705094432385006 macro\n"
     ]
    },
    {
     "name": "stderr",
     "output_type": "stream",
     "text": [
      "Epoch 5: 100%|██████████| 508/508 [00:54<00:00,  9.25batch/s, loss_decrease=1.0000030126924735]\n",
      "100%|██████████| 3787/3787 [00:38<00:00, 97.11batch/s] \n"
     ]
    },
    {
     "name": "stdout",
     "output_type": "stream",
     "text": [
      "0.7087404277792446 micro\n",
      "0.19073258549292407 macro\n"
     ]
    },
    {
     "name": "stderr",
     "output_type": "stream",
     "text": [
      "Epoch 6: 100%|██████████| 508/508 [00:54<00:00,  9.30batch/s, loss_decrease=1.0000032009863558]\n",
      "100%|██████████| 3787/3787 [00:42<00:00, 88.98batch/s] \n"
     ]
    },
    {
     "name": "stdout",
     "output_type": "stream",
     "text": [
      "0.7200950620543967 micro\n",
      "0.20884585011609227 macro\n"
     ]
    },
    {
     "name": "stderr",
     "output_type": "stream",
     "text": [
      "Epoch 7: 100%|██████████| 508/508 [00:53<00:00,  9.56batch/s, loss_decrease=1.0000034834273122]\n",
      "100%|██████████| 3787/3787 [00:38<00:00, 97.60batch/s] \n"
     ]
    },
    {
     "name": "stdout",
     "output_type": "stream",
     "text": [
      "0.7232637972009505 micro\n",
      "0.20193002497660537 macro\n"
     ]
    },
    {
     "name": "stderr",
     "output_type": "stream",
     "text": [
      "Epoch 8: 100%|██████████| 508/508 [00:41<00:00, 12.11batch/s, loss_decrease=1.0000034834273122]\n",
      "100%|██████████| 3787/3787 [00:37<00:00, 99.87batch/s] \n"
     ]
    },
    {
     "name": "stdout",
     "output_type": "stream",
     "text": [
      "0.7282809611829945 micro\n",
      "0.2086349395684316 macro\n"
     ]
    },
    {
     "name": "stderr",
     "output_type": "stream",
     "text": [
      "Epoch 9: 100%|██████████| 508/508 [00:38<00:00, 13.31batch/s, loss_decrease=1.000003577574333] \n",
      "100%|██████████| 3787/3787 [00:39<00:00, 95.31batch/s] \n"
     ]
    },
    {
     "name": "stdout",
     "output_type": "stream",
     "text": [
      "0.7288090837074201 micro\n",
      "0.21397709310396554 macro\n"
     ]
    },
    {
     "name": "stderr",
     "output_type": "stream",
     "text": [
      "Epoch 10: 100%|██████████| 508/508 [00:54<00:00,  9.36batch/s, loss_decrease=1.000003765868428] \n",
      "100%|██████████| 3787/3787 [00:39<00:00, 96.56batch/s] \n"
     ]
    },
    {
     "name": "stdout",
     "output_type": "stream",
     "text": [
      "0.732241880116187 micro\n",
      "0.22640093197113087 macro\n"
     ]
    },
    {
     "name": "stderr",
     "output_type": "stream",
     "text": [
      "Epoch 11: 100%|██████████| 508/508 [00:52<00:00,  9.71batch/s, loss_decrease=1.0000038600155021]\n",
      "100%|██████████| 3787/3787 [00:38<00:00, 98.27batch/s] \n"
     ]
    },
    {
     "name": "stdout",
     "output_type": "stream",
     "text": [
      "0.7375231053604437 micro\n",
      "0.22787427875615723 macro\n"
     ]
    },
    {
     "name": "stderr",
     "output_type": "stream",
     "text": [
      "Epoch 12: 100%|██████████| 508/508 [00:54<00:00,  9.40batch/s, loss_decrease=1.0000038600155021]\n",
      "100%|██████████| 3787/3787 [00:38<00:00, 98.38batch/s] \n"
     ]
    },
    {
     "name": "stdout",
     "output_type": "stream",
     "text": [
      "0.7380512278848693 micro\n",
      "0.22764440246642573 macro\n"
     ]
    },
    {
     "name": "stderr",
     "output_type": "stream",
     "text": [
      "Epoch 13: 100%|██████████| 508/508 [00:54<00:00,  9.31batch/s, loss_decrease=1.000003954162594] \n",
      "100%|██████████| 3787/3787 [00:38<00:00, 98.64batch/s] \n"
     ]
    },
    {
     "name": "stdout",
     "output_type": "stream",
     "text": [
      "0.7428043306047003 micro\n",
      "0.24052938224060266 macro\n"
     ]
    },
    {
     "name": "stderr",
     "output_type": "stream",
     "text": [
      "Epoch 14: 100%|██████████| 508/508 [00:53<00:00,  9.43batch/s, loss_decrease=1.0000040483097037]\n",
      "100%|██████████| 3787/3787 [00:38<00:00, 98.23batch/s] \n"
     ]
    },
    {
     "name": "stdout",
     "output_type": "stream",
     "text": [
      "0.7404277792447848 micro\n",
      "0.23665083375226015 macro\n"
     ]
    },
    {
     "name": "stderr",
     "output_type": "stream",
     "text": [
      "Epoch 15: 100%|██████████| 508/508 [00:53<00:00,  9.46batch/s, loss_decrease=1.0000040483097037]\n",
      "100%|██████████| 3787/3787 [00:39<00:00, 96.57batch/s] \n"
     ]
    },
    {
     "name": "stdout",
     "output_type": "stream",
     "text": [
      "0.7472933720623185 micro\n",
      "0.2458806473316118 macro\n"
     ]
    },
    {
     "name": "stderr",
     "output_type": "stream",
     "text": [
      "Epoch 16: 100%|██████████| 508/508 [00:53<00:00,  9.47batch/s, loss_decrease=1.0000040483097037]\n",
      "100%|██████████| 3787/3787 [00:38<00:00, 98.08batch/s] \n"
     ]
    },
    {
     "name": "stdout",
     "output_type": "stream",
     "text": [
      "0.7454449432268286 micro\n",
      "0.24204639369089845 macro\n"
     ]
    },
    {
     "name": "stderr",
     "output_type": "stream",
     "text": [
      "Epoch 17: 100%|██████████| 508/508 [00:54<00:00,  9.36batch/s, loss_decrease=1.0000040483097037]\n",
      "100%|██████████| 3787/3787 [00:38<00:00, 99.31batch/s] \n"
     ]
    },
    {
     "name": "stdout",
     "output_type": "stream",
     "text": [
      "0.7441246369157644 micro\n",
      "0.24301831653788464 macro\n"
     ]
    },
    {
     "name": "stderr",
     "output_type": "stream",
     "text": [
      "Epoch 18: 100%|██████████| 508/508 [00:48<00:00, 10.58batch/s, loss_decrease=1.000004142456831] \n",
      "100%|██████████| 3787/3787 [00:38<00:00, 97.45batch/s] \n"
     ]
    },
    {
     "name": "stdout",
     "output_type": "stream",
     "text": [
      "0.7488777396355955 micro\n",
      "0.24172983368831158 macro\n"
     ]
    },
    {
     "name": "stderr",
     "output_type": "stream",
     "text": [
      "Epoch 19: 100%|██████████| 508/508 [00:48<00:00, 10.57batch/s, loss_decrease=1.000004142456831] \n",
      "100%|██████████| 3787/3787 [00:39<00:00, 96.70batch/s] \n"
     ]
    },
    {
     "name": "stdout",
     "output_type": "stream",
     "text": [
      "0.7483496171111698 micro\n",
      "0.2473403970202944 macro\n"
     ]
    },
    {
     "name": "stderr",
     "output_type": "stream",
     "text": [
      "Epoch 20: 100%|██████████| 508/508 [00:53<00:00,  9.57batch/s, loss_decrease=1.000004142456831] \n",
      "100%|██████████| 3787/3787 [00:38<00:00, 97.88batch/s] \n"
     ]
    },
    {
     "name": "stdout",
     "output_type": "stream",
     "text": [
      "0.7467652495378928 micro\n",
      "0.2544077869547003 macro\n"
     ]
    },
    {
     "name": "stderr",
     "output_type": "stream",
     "text": [
      "Epoch 21: 100%|██████████| 508/508 [00:53<00:00,  9.46batch/s, loss_decrease=1.000004142456831] \n",
      "100%|██████████| 3787/3787 [00:40<00:00, 94.63batch/s] \n"
     ]
    },
    {
     "name": "stdout",
     "output_type": "stream",
     "text": [
      "0.7486136783733827 micro\n",
      "0.25431585268129536 macro\n"
     ]
    },
    {
     "name": "stderr",
     "output_type": "stream",
     "text": [
      "Epoch 22: 100%|██████████| 508/508 [00:48<00:00, 10.55batch/s, loss_decrease=1.0000043307511386]\n",
      "100%|██████████| 3787/3787 [00:40<00:00, 92.59batch/s] \n"
     ]
    },
    {
     "name": "stdout",
     "output_type": "stream",
     "text": [
      "0.7517824135199367 micro\n",
      "0.2617720776427117 macro\n"
     ]
    },
    {
     "name": "stderr",
     "output_type": "stream",
     "text": [
      "Epoch 23: 100%|██████████| 508/508 [00:54<00:00,  9.37batch/s, loss_decrease=1.0000042366039759]\n",
      "100%|██████████| 3787/3787 [00:39<00:00, 96.43batch/s] \n"
     ]
    },
    {
     "name": "stdout",
     "output_type": "stream",
     "text": [
      "0.7523105360443623 micro\n",
      "0.26331535554145186 macro\n"
     ]
    },
    {
     "name": "stderr",
     "output_type": "stream",
     "text": [
      "Epoch 24: 100%|██████████| 508/508 [00:54<00:00,  9.31batch/s, loss_decrease=1.0000043307511386]\n",
      "100%|██████████| 3787/3787 [00:40<00:00, 92.56batch/s] \n"
     ]
    },
    {
     "name": "stdout",
     "output_type": "stream",
     "text": [
      "0.7536308423554264 micro\n",
      "0.267981156137318 macro\n"
     ]
    },
    {
     "name": "stderr",
     "output_type": "stream",
     "text": [
      "Epoch 25: 100%|██████████| 508/508 [00:54<00:00,  9.36batch/s, loss_decrease=1.0000043307511386]\n",
      "100%|██████████| 3787/3787 [00:39<00:00, 96.24batch/s] \n"
     ]
    },
    {
     "name": "stdout",
     "output_type": "stream",
     "text": [
      "0.7541589648798521 micro\n",
      "0.2705961880356192 macro\n"
     ]
    },
    {
     "name": "stderr",
     "output_type": "stream",
     "text": [
      "Epoch 26: 100%|██████████| 508/508 [00:46<00:00, 10.86batch/s, loss_decrease=1.0000043307511386]\n",
      "100%|██████████| 3787/3787 [00:38<00:00, 98.85batch/s] \n"
     ]
    },
    {
     "name": "stdout",
     "output_type": "stream",
     "text": [
      "0.7525745973065753 micro\n",
      "0.27399964285054995 macro\n"
     ]
    },
    {
     "name": "stderr",
     "output_type": "stream",
     "text": [
      "Epoch 27: 100%|██████████| 508/508 [00:53<00:00,  9.51batch/s, loss_decrease=1.0000043307511386]\n",
      "100%|██████████| 3787/3787 [00:38<00:00, 97.84batch/s] \n"
     ]
    },
    {
     "name": "stdout",
     "output_type": "stream",
     "text": [
      "0.7541589648798521 micro\n",
      "0.2699958853315516 macro\n"
     ]
    },
    {
     "name": "stderr",
     "output_type": "stream",
     "text": [
      "Epoch 28: 100%|██████████| 508/508 [00:52<00:00,  9.72batch/s, loss_decrease=1.0000043307511386]\n",
      "100%|██████████| 3787/3787 [00:38<00:00, 98.52batch/s] \n"
     ]
    },
    {
     "name": "stdout",
     "output_type": "stream",
     "text": [
      "0.7552152099287035 micro\n",
      "0.2780578302967096 macro\n"
     ]
    },
    {
     "name": "stderr",
     "output_type": "stream",
     "text": [
      "Epoch 29: 100%|██████████| 508/508 [00:50<00:00, 10.07batch/s, loss_decrease=1.0000043307511386]\n",
      "100%|██████████| 3787/3787 [00:39<00:00, 96.28batch/s] \n"
     ]
    },
    {
     "name": "stdout",
     "output_type": "stream",
     "text": [
      "0.7549511486664905 micro\n",
      "0.2776173545309697 macro\n"
     ]
    },
    {
     "name": "stderr",
     "output_type": "stream",
     "text": [
      "Epoch 30: 100%|██████████| 508/508 [00:50<00:00, 10.10batch/s, loss_decrease=1.0000043307511386]\n",
      "100%|██████████| 3787/3787 [00:39<00:00, 96.67batch/s] \n"
     ]
    },
    {
     "name": "stdout",
     "output_type": "stream",
     "text": [
      "0.7525745973065753 micro\n",
      "0.27089933709632125 macro\n"
     ]
    },
    {
     "name": "stderr",
     "output_type": "stream",
     "text": [
      "Epoch 31: 100%|██████████| 508/508 [00:54<00:00,  9.41batch/s, loss_decrease=1.0000043307511386]\n",
      "100%|██████████| 3787/3787 [00:38<00:00, 99.47batch/s] \n"
     ]
    },
    {
     "name": "stdout",
     "output_type": "stream",
     "text": [
      "0.7594401901241087 micro\n",
      "0.28655519615023584 macro\n"
     ]
    },
    {
     "name": "stderr",
     "output_type": "stream",
     "text": [
      "Epoch 32: 100%|██████████| 508/508 [00:52<00:00,  9.65batch/s, loss_decrease=1.0000043307511386]\n",
      "100%|██████████| 3787/3787 [00:38<00:00, 97.73batch/s] \n"
     ]
    },
    {
     "name": "stdout",
     "output_type": "stream",
     "text": [
      "0.759176128861896 micro\n",
      "0.2853471489776611 macro\n"
     ]
    },
    {
     "name": "stderr",
     "output_type": "stream",
     "text": [
      "Epoch 33: 100%|██████████| 508/508 [00:54<00:00,  9.36batch/s, loss_decrease=1.0000043307511386]\n",
      "100%|██████████| 3787/3787 [00:40<00:00, 93.52batch/s] \n"
     ]
    },
    {
     "name": "stdout",
     "output_type": "stream",
     "text": [
      "0.7567995775019805 micro\n",
      "0.2796108342606278 macro\n"
     ]
    },
    {
     "name": "stderr",
     "output_type": "stream",
     "text": [
      "Epoch 34: 100%|██████████| 508/508 [00:54<00:00,  9.32batch/s, loss_decrease=1.000004424898319] \n",
      "100%|██████████| 3787/3787 [00:38<00:00, 99.02batch/s] \n"
     ]
    },
    {
     "name": "stdout",
     "output_type": "stream",
     "text": [
      "0.7565355162397677 micro\n",
      "0.27772117971732135 macro\n"
     ]
    },
    {
     "name": "stderr",
     "output_type": "stream",
     "text": [
      "Epoch 35: 100%|██████████| 508/508 [00:54<00:00,  9.29batch/s, loss_decrease=1.0000042366039759]\n",
      "100%|██████████| 3787/3787 [00:39<00:00, 97.06batch/s] \n"
     ]
    },
    {
     "name": "stdout",
     "output_type": "stream",
     "text": [
      "0.7362027990493794 micro\n",
      "0.25709907168561547 macro\n"
     ]
    },
    {
     "name": "stderr",
     "output_type": "stream",
     "text": [
      "Epoch 36: 100%|██████████| 508/508 [00:54<00:00,  9.37batch/s, loss_decrease=1.0000043307511386]\n",
      "100%|██████████| 3787/3787 [00:38<00:00, 98.61batch/s] \n"
     ]
    },
    {
     "name": "stdout",
     "output_type": "stream",
     "text": [
      "0.7578558225508318 micro\n",
      "0.2875871838949693 macro\n"
     ]
    },
    {
     "name": "stderr",
     "output_type": "stream",
     "text": [
      "Epoch 37: 100%|██████████| 508/508 [00:53<00:00,  9.46batch/s, loss_decrease=1.000004424898319] \n",
      "100%|██████████| 3787/3787 [00:39<00:00, 96.47batch/s] \n"
     ]
    },
    {
     "name": "stdout",
     "output_type": "stream",
     "text": [
      "0.7567995775019805 micro\n",
      "0.2795867618075589 macro\n"
     ]
    },
    {
     "name": "stderr",
     "output_type": "stream",
     "text": [
      "Epoch 38: 100%|██████████| 508/508 [00:52<00:00,  9.69batch/s, loss_decrease=1.0000043307511386]\n",
      "100%|██████████| 3787/3787 [00:39<00:00, 96.69batch/s] \n"
     ]
    },
    {
     "name": "stdout",
     "output_type": "stream",
     "text": [
      "0.7531027198310007 micro\n",
      "0.2694643224949508 macro\n"
     ]
    },
    {
     "name": "stderr",
     "output_type": "stream",
     "text": [
      "Epoch 39: 100%|██████████| 508/508 [00:54<00:00,  9.39batch/s, loss_decrease=1.0000043307511386]\n",
      "100%|██████████| 3787/3787 [00:38<00:00, 97.49batch/s] \n"
     ]
    },
    {
     "name": "stdout",
     "output_type": "stream",
     "text": [
      "0.7541589648798521 micro\n",
      "0.27614368166951697 macro\n"
     ]
    },
    {
     "name": "stderr",
     "output_type": "stream",
     "text": [
      "Epoch 40: 100%|██████████| 508/508 [00:54<00:00,  9.34batch/s, loss_decrease=1.0000043307511386]\n",
      "100%|██████████| 3787/3787 [00:39<00:00, 96.92batch/s] \n"
     ]
    },
    {
     "name": "stdout",
     "output_type": "stream",
     "text": [
      "0.7586480063374703 micro\n",
      "0.28292958918433947 macro\n"
     ]
    },
    {
     "name": "stderr",
     "output_type": "stream",
     "text": [
      "Epoch 41: 100%|██████████| 508/508 [00:48<00:00, 10.58batch/s, loss_decrease=1.000004424898319] \n",
      "100%|██████████| 3787/3787 [00:40<00:00, 94.25batch/s] \n"
     ]
    },
    {
     "name": "stdout",
     "output_type": "stream",
     "text": [
      "0.7520464747821495 micro\n",
      "0.27058433834495643 macro\n"
     ]
    },
    {
     "name": "stderr",
     "output_type": "stream",
     "text": [
      "Epoch 42: 100%|██████████| 508/508 [00:52<00:00,  9.68batch/s, loss_decrease=1.000004424898319] \n",
      "100%|██████████| 3787/3787 [00:38<00:00, 99.38batch/s] \n"
     ]
    },
    {
     "name": "stdout",
     "output_type": "stream",
     "text": [
      "0.7552152099287035 micro\n",
      "0.27685176964318076 macro\n"
     ]
    },
    {
     "name": "stderr",
     "output_type": "stream",
     "text": [
      "Epoch 43: 100%|██████████| 508/508 [00:53<00:00,  9.42batch/s, loss_decrease=1.000004424898319] \n",
      "100%|██████████| 3787/3787 [00:38<00:00, 98.20batch/s] \n"
     ]
    },
    {
     "name": "stdout",
     "output_type": "stream",
     "text": [
      "0.7581198838130445 micro\n",
      "0.2780172427623849 macro\n"
     ]
    },
    {
     "name": "stderr",
     "output_type": "stream",
     "text": [
      "Epoch 44: 100%|██████████| 508/508 [00:54<00:00,  9.39batch/s, loss_decrease=1.000004424898319] \n",
      "100%|██████████| 3787/3787 [00:38<00:00, 98.80batch/s] \n"
     ]
    },
    {
     "name": "stdout",
     "output_type": "stream",
     "text": [
      "0.7599683126485345 micro\n",
      "0.2886542118296363 macro\n"
     ]
    },
    {
     "name": "stderr",
     "output_type": "stream",
     "text": [
      "Epoch 45: 100%|██████████| 508/508 [00:54<00:00,  9.34batch/s, loss_decrease=1.0000045190455173]\n",
      "100%|██████████| 3787/3787 [00:38<00:00, 98.28batch/s] \n"
     ]
    },
    {
     "name": "stdout",
     "output_type": "stream",
     "text": [
      "0.7565355162397677 micro\n",
      "0.28421733865315746 macro\n"
     ]
    },
    {
     "name": "stderr",
     "output_type": "stream",
     "text": [
      "Epoch 46: 100%|██████████| 508/508 [00:54<00:00,  9.37batch/s, loss_decrease=1.0000045190455173]\n",
      "100%|██████████| 3787/3787 [00:38<00:00, 97.84batch/s] \n"
     ]
    },
    {
     "name": "stdout",
     "output_type": "stream",
     "text": [
      "0.759176128861896 micro\n",
      "0.2898668714871588 macro\n"
     ]
    },
    {
     "name": "stderr",
     "output_type": "stream",
     "text": [
      "Epoch 47: 100%|██████████| 508/508 [00:53<00:00,  9.47batch/s, loss_decrease=1.000004424898319] \n",
      "100%|██████████| 3787/3787 [00:39<00:00, 94.95batch/s] \n"
     ]
    },
    {
     "name": "stdout",
     "output_type": "stream",
     "text": [
      "0.7567995775019805 micro\n",
      "0.2860491394667863 macro\n"
     ]
    },
    {
     "name": "stderr",
     "output_type": "stream",
     "text": [
      "Epoch 48: 100%|██████████| 508/508 [00:50<00:00,  9.99batch/s, loss_decrease=1.0000045190455173]\n",
      "100%|██████████| 3787/3787 [00:41<00:00, 90.57batch/s] \n"
     ]
    },
    {
     "name": "stdout",
     "output_type": "stream",
     "text": [
      "0.7618167414840243 micro\n",
      "0.2914558917760406 macro\n"
     ]
    },
    {
     "name": "stderr",
     "output_type": "stream",
     "text": [
      "Epoch 49: 100%|██████████| 508/508 [00:53<00:00,  9.53batch/s, loss_decrease=1.0000045190455173]\n",
      "100%|██████████| 3787/3787 [00:39<00:00, 97.07batch/s] \n"
     ]
    },
    {
     "name": "stdout",
     "output_type": "stream",
     "text": [
      "0.7602323739107472 micro\n",
      "0.2881593763156088 macro\n"
     ]
    },
    {
     "name": "stderr",
     "output_type": "stream",
     "text": [
      "Epoch 50: 100%|██████████| 508/508 [00:54<00:00,  9.41batch/s, loss_decrease=1.000004424898319] \n",
      "100%|██████████| 3787/3787 [00:38<00:00, 98.66batch/s] \n"
     ]
    },
    {
     "name": "stdout",
     "output_type": "stream",
     "text": [
      "0.76234486400845 micro\n",
      "0.2934589715874881 macro\n",
      "Finished Training\n"
     ]
    }
   ],
   "source": [
    "from tqdm import trange\n",
    "from tqdm import tqdm\n",
    "from sklearn.metrics import classification_report, f1_score\n",
    "\n",
    "#Гиперпараметры\n",
    "batch_size=64#16\n",
    "epochs = 50\n",
    "    \n",
    "trainloader = torch.utils.data.DataLoader(ds_train, batch_size=batch_size,\n",
    "                                          shuffle=False, num_workers=0)\n",
    "testloader = torch.utils.data.DataLoader(ds_test, batch_size=1, shuffle=False)\n",
    "\n",
    "net.train()\n",
    "initial_loss = None\n",
    "best_f1=0\n",
    "for epoch in range(1, epochs+1):\n",
    "    #обучение модели в эпохе\n",
    "    net.train()\n",
    "    with tqdm(trainloader, unit=\"batch\") as tepoch:\n",
    "        for data in tepoch:\n",
    "\n",
    "            tepoch.set_description(f\"Epoch {epoch}\")\n",
    "\n",
    "            inputs = data['tokenized_phrases']\n",
    "            labels = data['one_hot_labels']\n",
    "\n",
    "            optimizer.zero_grad()\n",
    "            if device=='cuda':\n",
    "                with torch.cuda.amp.autocast():\n",
    "                    outputs = net(inputs)['output']\n",
    "                    loss = criterion(outputs, labels)\n",
    "                scaler.scale(loss).backward()\n",
    "                scaler.step(optimizer)\n",
    "                scaler.update()\n",
    "            else:\n",
    "                outputs = net(inputs)['output']\n",
    "                loss = criterion(outputs, labels)\n",
    "                loss.backward()\n",
    "                optimizer.step()\n",
    "            if initial_loss is None:\n",
    "                initial_loss = loss.item()\n",
    "            tepoch.set_postfix(loss_decrease = str(initial_loss/loss.item()))\n",
    "    #расчет точностей модели после эпохи\n",
    "    net.eval()\n",
    "    model_answers=[]\n",
    "    real_answers=[]\n",
    "    with tqdm(testloader, unit=\"batch\") as eval_process:\n",
    "        for data in eval_process:\n",
    "\n",
    "            inputs = data['tokenized_phrases']\n",
    "\n",
    "            with torch.no_grad():\n",
    "                outputs_dict = net(inputs)\n",
    "                pred_meddra_code = CV_test_without_conceptless.meddra_codes[outputs_dict['output'].argmax()]\n",
    "\n",
    "\n",
    "            model_answers.append(pred_meddra_code)\n",
    "            real_answers.append(data['label_codes'])\n",
    "    f1 = f1_score(real_answers, model_answers, average='micro')\n",
    "    #if f1>best_f1:\n",
    "    #    best_f1=f1\n",
    "    #    torch.save(net,'./Model_weights/xlmroberta_best_%s.pt'%epoch)\n",
    "    #if epoch==9:\n",
    "    #    torch.save(net,'./Model_weights/xlmroberta_%s.pt'%epoch)\n",
    "    f1 = f1_score(real_answers, model_answers, average='micro')\n",
    "    print('%s micro'%f1)\n",
    "    f1 = f1_score(real_answers, model_answers, average='macro')\n",
    "    print('%s macro'%f1)\n",
    "            \n",
    "print('Finished Training')\n",
    "torch.save(net,'./Model_weights/rubert_%s.pt'%epoch)"
   ]
  },
  {
   "cell_type": "markdown",
   "id": "under-movie",
   "metadata": {},
   "source": [
    "<h3>Анализ ошибок RuBERT</h3>"
   ]
  },
  {
   "cell_type": "code",
   "execution_count": 83,
   "id": "gross-rally",
   "metadata": {},
   "outputs": [
    {
     "data": {
      "text/plain": [
       "['10036898',\n",
       " '10036898',\n",
       " 'CONCEPT_LESS',\n",
       " '10036898',\n",
       " '10036898',\n",
       " '10063420',\n",
       " '10037430',\n",
       " '10042209',\n",
       " '10062519',\n",
       " '10029216',\n",
       " '10022998',\n",
       " '10011224',\n",
       " '10039101',\n",
       " '10005911',\n",
       " '10022437',\n",
       " '10022998',\n",
       " '10002855',\n",
       " '10042209',\n",
       " '10011224',\n",
       " '10028813',\n",
       " '10005911',\n",
       " '10039101',\n",
       " '10011224',\n",
       " '10037660',\n",
       " '10016766',\n",
       " '10013082',\n",
       " '10017367',\n",
       " '10020751',\n",
       " '10015150',\n",
       " '10013082',\n",
       " '10033616',\n",
       " '10000496',\n",
       " '10040007',\n",
       " '10039101',\n",
       " '10022437',\n",
       " '10062519',\n",
       " '10042209',\n",
       " '10042209',\n",
       " '10039101',\n",
       " '10039101',\n",
       " '10036898',\n",
       " '10033371',\n",
       " '10003239',\n",
       " '10003051',\n",
       " '10061218',\n",
       " '10023204',\n",
       " '10011224',\n",
       " '10039101',\n",
       " '10039101',\n",
       " '10039101',\n",
       " '10011224',\n",
       " '10011224',\n",
       " '10062519',\n",
       " '10029412',\n",
       " '10027783',\n",
       " '10062519',\n",
       " '10029216',\n",
       " '10068319',\n",
       " '10021425',\n",
       " '10012735',\n",
       " '10047700',\n",
       " '10011224',\n",
       " '10014551',\n",
       " '10022998',\n",
       " '10061284',\n",
       " '10022437',\n",
       " 'CONCEPT_LESS',\n",
       " '10000060',\n",
       " '10061422',\n",
       " '10016766',\n",
       " '10039740',\n",
       " '10022998',\n",
       " '10010774',\n",
       " '10005750',\n",
       " '10028735',\n",
       " '10028735',\n",
       " '10012378',\n",
       " '10036898',\n",
       " '10040984',\n",
       " '10040984',\n",
       " '10039740',\n",
       " '10013496',\n",
       " '10080831',\n",
       " '10049087',\n",
       " '10049087',\n",
       " '10022437',\n",
       " '10012373',\n",
       " '10025482',\n",
       " '10016256',\n",
       " '10041349',\n",
       " '10019211',\n",
       " '10062519',\n",
       " '10005911',\n",
       " '10033371',\n",
       " '10017944',\n",
       " '10025482',\n",
       " '10080125',\n",
       " '10039101',\n",
       " '10036898',\n",
       " '10057009',\n",
       " '10019211',\n",
       " '10019211',\n",
       " '10019211',\n",
       " '10033371',\n",
       " '10019211',\n",
       " '10001497',\n",
       " '10020852',\n",
       " '10062519',\n",
       " '10001497',\n",
       " '10036898',\n",
       " '10036898',\n",
       " '10036898',\n",
       " '10080125',\n",
       " '10036898',\n",
       " '10028735',\n",
       " '10080125',\n",
       " '10005911',\n",
       " '10011968',\n",
       " 'CONCEPT_LESS',\n",
       " '10039101',\n",
       " '10068319',\n",
       " '10039101',\n",
       " '10019194',\n",
       " '10003549',\n",
       " '10013573',\n",
       " 'CONCEPT_LESS',\n",
       " 'CONCEPT_LESS',\n",
       " '10022437',\n",
       " '10040984',\n",
       " '10022035',\n",
       " '10061827',\n",
       " '10013781',\n",
       " '10046910',\n",
       " '10046910',\n",
       " '10046788',\n",
       " '10046788',\n",
       " '10046788',\n",
       " '10033645',\n",
       " '10033371',\n",
       " '10036898',\n",
       " '10036898',\n",
       " '10039101',\n",
       " '10010893',\n",
       " '10004207',\n",
       " '10054954',\n",
       " '10054954',\n",
       " '10001497',\n",
       " '10054954',\n",
       " '10052437',\n",
       " '10033371',\n",
       " '10076406',\n",
       " '10039101',\n",
       " '10036898',\n",
       " '10003549',\n",
       " '10041349',\n",
       " '10036898',\n",
       " '10012434',\n",
       " '10036898',\n",
       " '10037855',\n",
       " '10037844',\n",
       " '10046735',\n",
       " '10037844',\n",
       " '10037087',\n",
       " '10020751',\n",
       " '10020751',\n",
       " '10012434',\n",
       " '10037867',\n",
       " '10037844',\n",
       " '10028813',\n",
       " '10028813',\n",
       " '10061549',\n",
       " '10042772',\n",
       " '10033371',\n",
       " '10047700',\n",
       " '10061549',\n",
       " '10061549',\n",
       " '10018045',\n",
       " '10018045',\n",
       " 'CONCEPT_LESS',\n",
       " '10005911',\n",
       " '10041349',\n",
       " '10039101',\n",
       " '10011224',\n",
       " '10020751',\n",
       " 'CONCEPT_LESS',\n",
       " '10028813',\n",
       " '10012735',\n",
       " '10013789',\n",
       " '10043458',\n",
       " '10019973',\n",
       " '10067152',\n",
       " '10013082',\n",
       " '10070721',\n",
       " '10037660',\n",
       " '10005911',\n",
       " '10039101',\n",
       " '10039101',\n",
       " '10039101',\n",
       " '10005911',\n",
       " '10039101',\n",
       " '10036898',\n",
       " '10036898',\n",
       " '10011224',\n",
       " '10068319',\n",
       " '10039101',\n",
       " '10005911',\n",
       " '10039101',\n",
       " 'CONCEPT_LESS',\n",
       " '10000081',\n",
       " '10033371',\n",
       " '10016766',\n",
       " '10033371',\n",
       " 'CONCEPT_LESS',\n",
       " '10022437',\n",
       " '10062519',\n",
       " '10012373',\n",
       " '10041349',\n",
       " '10028334',\n",
       " '10006002',\n",
       " '10003988',\n",
       " '10018276',\n",
       " '10019211',\n",
       " '10001760',\n",
       " '10006956',\n",
       " 'CONCEPT_LESS',\n",
       " '10006956',\n",
       " '10037087',\n",
       " 'CONCEPT_LESS',\n",
       " '10017853',\n",
       " 'CONCEPT_LESS',\n",
       " '10033371',\n",
       " '10000081',\n",
       " 'CONCEPT_LESS',\n",
       " '10033371',\n",
       " '10011224',\n",
       " '10039101',\n",
       " '10019211',\n",
       " '10003239',\n",
       " '10068319',\n",
       " '10005911',\n",
       " '10028735',\n",
       " '10019211',\n",
       " '10028411',\n",
       " '10005911',\n",
       " '10028411',\n",
       " '10019211',\n",
       " '10015915',\n",
       " '10013082',\n",
       " '10013786',\n",
       " '10015150',\n",
       " '10001488',\n",
       " '10001488',\n",
       " '10028735',\n",
       " '10039101',\n",
       " '10065646',\n",
       " '10021926',\n",
       " '10065646',\n",
       " '10062080',\n",
       " '10006313',\n",
       " '10027951',\n",
       " '10040007',\n",
       " '10037660',\n",
       " '10000087',\n",
       " '10010774',\n",
       " '10028735',\n",
       " '10036898',\n",
       " '10036898',\n",
       " '10082129',\n",
       " '10012735',\n",
       " '10000081',\n",
       " '10013082',\n",
       " 'CONCEPT_LESS',\n",
       " 'CONCEPT_LESS',\n",
       " '10005724',\n",
       " '10028334',\n",
       " '10041349',\n",
       " '10002942',\n",
       " '10024642',\n",
       " '10042209',\n",
       " '10061218',\n",
       " '10028411',\n",
       " '10028411',\n",
       " '10033425',\n",
       " '10003549',\n",
       " '10017577',\n",
       " '10052804',\n",
       " '10005911',\n",
       " '10039101',\n",
       " '10041232',\n",
       " '10052804',\n",
       " '10005911',\n",
       " '10005911',\n",
       " '10028813',\n",
       " '10012335',\n",
       " '10033664',\n",
       " '10057840',\n",
       " '10002855',\n",
       " '10016344',\n",
       " '10016344',\n",
       " '10016256',\n",
       " 'CONCEPT_LESS',\n",
       " '10028813',\n",
       " '10013786',\n",
       " 'CONCEPT_LESS',\n",
       " '10061218',\n",
       " '10016825',\n",
       " '10012444',\n",
       " '10013786',\n",
       " '10012444',\n",
       " '10033670',\n",
       " '10044565',\n",
       " '10046790',\n",
       " '10028334',\n",
       " '10000059',\n",
       " '10065646',\n",
       " '10047895',\n",
       " '10030124',\n",
       " '10030124',\n",
       " '10003988',\n",
       " '10013050',\n",
       " '10027951',\n",
       " '10046996',\n",
       " '10003549',\n",
       " '10039101',\n",
       " '10041232',\n",
       " '10080125',\n",
       " '10036898',\n",
       " '10033371',\n",
       " '10005750',\n",
       " '10028813',\n",
       " '10013573',\n",
       " '10017999',\n",
       " '10019670',\n",
       " '10000059',\n",
       " '10000081',\n",
       " '10070840',\n",
       " '10013855',\n",
       " '10070840',\n",
       " 'CONCEPT_LESS',\n",
       " '10017944',\n",
       " '10036898',\n",
       " '10066598',\n",
       " '10013946',\n",
       " '10019211',\n",
       " '10013082',\n",
       " 'CONCEPT_LESS',\n",
       " '10005911',\n",
       " '10019211',\n",
       " '10068319',\n",
       " '10028735',\n",
       " '10005911',\n",
       " '10019211',\n",
       " '10039101',\n",
       " '10011224',\n",
       " '10005911',\n",
       " '10005911',\n",
       " '10005911',\n",
       " 'CONCEPT_LESS',\n",
       " 'CONCEPT_LESS',\n",
       " 'CONCEPT_LESS',\n",
       " 'CONCEPT_LESS',\n",
       " '10036898',\n",
       " '10036898',\n",
       " '10036898',\n",
       " '10002383',\n",
       " '10012735',\n",
       " '10036898',\n",
       " '10005911',\n",
       " '10005911',\n",
       " '10005911',\n",
       " '10070052',\n",
       " '10005911',\n",
       " '10058080',\n",
       " '10058080',\n",
       " '10036898',\n",
       " '10025482',\n",
       " '10041349',\n",
       " '10013573',\n",
       " '10040984',\n",
       " '10022437',\n",
       " '10001497',\n",
       " '10049816',\n",
       " '10001488',\n",
       " '10028347',\n",
       " '10028403',\n",
       " '10028334',\n",
       " '10028334',\n",
       " '10037660',\n",
       " '10010774',\n",
       " '10000081',\n",
       " '10042209',\n",
       " '10042209',\n",
       " '10042209',\n",
       " '10022437',\n",
       " 'CONCEPT_LESS',\n",
       " '10042209',\n",
       " '10040984',\n",
       " '10033371',\n",
       " '10057009',\n",
       " '10037087',\n",
       " '10006784',\n",
       " '10022437',\n",
       " '10062519',\n",
       " '10022998',\n",
       " '10029216',\n",
       " '10061428',\n",
       " '10005911',\n",
       " '10004207',\n",
       " '10005911',\n",
       " '10057009',\n",
       " '10037876',\n",
       " '10036898',\n",
       " '10036898',\n",
       " '10043521',\n",
       " '10068319',\n",
       " '10037660',\n",
       " '10005911',\n",
       " '10016334',\n",
       " '10005911',\n",
       " '10005911',\n",
       " '10043521',\n",
       " '10068319',\n",
       " '10043521',\n",
       " '10024642',\n",
       " '10016256',\n",
       " '10027940',\n",
       " '10027175',\n",
       " '10027175',\n",
       " '10027175',\n",
       " '10001949',\n",
       " '10003549',\n",
       " '10003549',\n",
       " '10024855',\n",
       " '10027175',\n",
       " '10054263',\n",
       " '10049704',\n",
       " '10054263',\n",
       " '10015137',\n",
       " '10015137',\n",
       " '10028813',\n",
       " '10047700',\n",
       " '10015137',\n",
       " '10013573',\n",
       " '10033371',\n",
       " '10000060',\n",
       " '10013781',\n",
       " '10082490',\n",
       " '10022437',\n",
       " '10010305',\n",
       " '10015137',\n",
       " '10013946',\n",
       " '10013911',\n",
       " '10005911',\n",
       " '10061218',\n",
       " '10039101',\n",
       " '10016338',\n",
       " '10002383',\n",
       " '10007554',\n",
       " '10030973',\n",
       " '10019973',\n",
       " '10039101',\n",
       " '10036898',\n",
       " '10003239',\n",
       " '10037660',\n",
       " '10012378',\n",
       " '10037660',\n",
       " '10068319',\n",
       " '10047700',\n",
       " '10047700',\n",
       " '10015150',\n",
       " '10008196',\n",
       " '10019211',\n",
       " '10019211',\n",
       " '10019211',\n",
       " '10043882',\n",
       " '10019211',\n",
       " '10005750',\n",
       " '10047184',\n",
       " '10065169',\n",
       " '10068319',\n",
       " '10061218',\n",
       " '10019973',\n",
       " '10022437',\n",
       " '10062519',\n",
       " '10038743',\n",
       " 'CONCEPT_LESS',\n",
       " '10010264',\n",
       " 'CONCEPT_LESS',\n",
       " '10062519',\n",
       " '10010264',\n",
       " '10039101',\n",
       " '10039101',\n",
       " '10028735',\n",
       " '10039101',\n",
       " '10061331',\n",
       " '10061331',\n",
       " '10061331',\n",
       " '10069055',\n",
       " '10000084',\n",
       " '10033371',\n",
       " '10061331',\n",
       " '10019211',\n",
       " '10043521',\n",
       " '10068319',\n",
       " '10061218',\n",
       " '10005911',\n",
       " '10016759',\n",
       " 'CONCEPT_LESS',\n",
       " '10040984',\n",
       " '10029412',\n",
       " '10012373',\n",
       " '10013496',\n",
       " '10027940',\n",
       " '10001497',\n",
       " '10033670',\n",
       " 'CONCEPT_LESS',\n",
       " '10013968',\n",
       " '10033670',\n",
       " '10022998',\n",
       " '10002368',\n",
       " '10041349',\n",
       " '10028735',\n",
       " '10028735',\n",
       " 'CONCEPT_LESS',\n",
       " '10070101',\n",
       " '10019303',\n",
       " '10005750',\n",
       " '10043882',\n",
       " '10013573',\n",
       " '10033474',\n",
       " '10029216',\n",
       " '10038743',\n",
       " '10038743',\n",
       " '10022437',\n",
       " '10015856',\n",
       " '10024642',\n",
       " '10040007',\n",
       " '10029333',\n",
       " '10003119',\n",
       " '10039101',\n",
       " '10039101',\n",
       " '10039101',\n",
       " '10039101',\n",
       " '10013573',\n",
       " '10027990',\n",
       " '10019211',\n",
       " '10029216',\n",
       " '10028813',\n",
       " '10000081',\n",
       " '10019211',\n",
       " '10013573',\n",
       " 'CONCEPT_LESS',\n",
       " 'CONCEPT_LESS',\n",
       " 'CONCEPT_LESS',\n",
       " '10039101',\n",
       " '10011224',\n",
       " '10005911',\n",
       " '10019211',\n",
       " '10028813',\n",
       " '10079450',\n",
       " '10005750',\n",
       " '10039101',\n",
       " '10028735',\n",
       " '10028735',\n",
       " '10068319',\n",
       " '10005911',\n",
       " '10021013',\n",
       " '10012318',\n",
       " '10013082',\n",
       " 'CONCEPT_LESS',\n",
       " '10041349',\n",
       " '10013496',\n",
       " '10033371',\n",
       " '10068319',\n",
       " '10068319',\n",
       " '10033371',\n",
       " '10033371',\n",
       " '10070302',\n",
       " '10021021',\n",
       " '10021021',\n",
       " '10028334',\n",
       " '10067152',\n",
       " '10024552',\n",
       " '10037844',\n",
       " '10036898',\n",
       " '10036898',\n",
       " '10036898',\n",
       " '10036898',\n",
       " '10062519',\n",
       " '10036898',\n",
       " '10052437',\n",
       " '10028735',\n",
       " '10036898',\n",
       " '10037660',\n",
       " '10011224',\n",
       " '10015915',\n",
       " '10011224',\n",
       " '10068319',\n",
       " 'CONCEPT_LESS',\n",
       " '10062519',\n",
       " '10038428',\n",
       " '10033371',\n",
       " '10076704',\n",
       " '10037844',\n",
       " '10019211',\n",
       " '10028813',\n",
       " '10008469',\n",
       " '10020751',\n",
       " '10020751',\n",
       " '10037844',\n",
       " '10020751',\n",
       " '10042209',\n",
       " '10003497',\n",
       " '10041812',\n",
       " '10011224',\n",
       " '10000087',\n",
       " 'CONCEPT_LESS',\n",
       " '10001760',\n",
       " '10028813',\n",
       " '10027975',\n",
       " '10047700',\n",
       " '10028694',\n",
       " '10000496',\n",
       " '10020751',\n",
       " '10020751',\n",
       " '10041349',\n",
       " '10061284',\n",
       " '10033670',\n",
       " '10022998',\n",
       " 'CONCEPT_LESS',\n",
       " '10029216',\n",
       " '10029216',\n",
       " '10041349',\n",
       " '10041349',\n",
       " '10016322',\n",
       " '10052804',\n",
       " '10041349',\n",
       " '10039101',\n",
       " '10030124',\n",
       " '10027975',\n",
       " '10047899',\n",
       " '10017940',\n",
       " '10029216',\n",
       " 'CONCEPT_LESS',\n",
       " '10022437',\n",
       " '10022437',\n",
       " '10041349',\n",
       " '10052804',\n",
       " '10042209',\n",
       " '10042209',\n",
       " '10042209',\n",
       " '10043071',\n",
       " 'CONCEPT_LESS',\n",
       " '10005911',\n",
       " '10072908',\n",
       " '10017944',\n",
       " '10019211',\n",
       " '10019211',\n",
       " '10053155',\n",
       " '10033664',\n",
       " '10044565',\n",
       " '10016326',\n",
       " '10025482',\n",
       " '10000087',\n",
       " '10000087',\n",
       " '10037660',\n",
       " '10005911',\n",
       " '10019211',\n",
       " '10015150',\n",
       " '10037087',\n",
       " '10037087',\n",
       " '10042674',\n",
       " '10041349',\n",
       " '10024670',\n",
       " '10050012',\n",
       " '10041349',\n",
       " '10041349',\n",
       " '10003549',\n",
       " '10013573',\n",
       " '10019211',\n",
       " '10019211',\n",
       " '10013573',\n",
       " '10028372',\n",
       " '10020937',\n",
       " '10022437',\n",
       " '10062519',\n",
       " '10041349',\n",
       " '10040984',\n",
       " '10029412',\n",
       " '10022998',\n",
       " '10022998',\n",
       " '10005911',\n",
       " '10039101',\n",
       " '10036898',\n",
       " '10039101',\n",
       " '10020751',\n",
       " '10057009',\n",
       " '10005911',\n",
       " '10037844',\n",
       " '10020751',\n",
       " '10020751',\n",
       " '10020751',\n",
       " '10020751',\n",
       " '10020751',\n",
       " '10013573',\n",
       " '10033557',\n",
       " '10060800',\n",
       " '10003549',\n",
       " '10005911',\n",
       " '10013082',\n",
       " '10028813',\n",
       " '10016766',\n",
       " '10057071',\n",
       " 'CONCEPT_LESS',\n",
       " '10037660',\n",
       " '10037660',\n",
       " '10020937',\n",
       " '10068319',\n",
       " '10028810',\n",
       " '10005911',\n",
       " '10000081',\n",
       " '10016100',\n",
       " '10039740',\n",
       " '10016766',\n",
       " '10063338',\n",
       " '10063338',\n",
       " '10000081',\n",
       " '10033371',\n",
       " '10049589',\n",
       " '10013082',\n",
       " '10049589',\n",
       " '10049589',\n",
       " '10071212',\n",
       " '10033371',\n",
       " '10049589',\n",
       " '10000084',\n",
       " '10033371',\n",
       " '10000084',\n",
       " '10033371',\n",
       " '10049589',\n",
       " '10049589',\n",
       " '10013082',\n",
       " '10006784',\n",
       " '10052437',\n",
       " '10061428',\n",
       " '10061148',\n",
       " '10041349',\n",
       " '10039101',\n",
       " '10039101',\n",
       " '10039101',\n",
       " '10028735',\n",
       " '10028735',\n",
       " '10028735',\n",
       " '10013946',\n",
       " '10042209',\n",
       " '10029216',\n",
       " '10077275',\n",
       " 'CONCEPT_LESS',\n",
       " '10041349',\n",
       " '10041349',\n",
       " '10000496',\n",
       " '10003549',\n",
       " '10061273',\n",
       " '10000496',\n",
       " 'CONCEPT_LESS',\n",
       " 'CONCEPT_LESS',\n",
       " '10028347',\n",
       " '10044043',\n",
       " '10037844',\n",
       " '10037087',\n",
       " '10033371',\n",
       " '10015150',\n",
       " '10015150',\n",
       " '10029216',\n",
       " '10002855',\n",
       " '10037660',\n",
       " '10068319',\n",
       " '10011224',\n",
       " '10037844',\n",
       " '10037844',\n",
       " '10037844',\n",
       " '10037844',\n",
       " '10037844',\n",
       " '10003549',\n",
       " '10037660',\n",
       " '10037660',\n",
       " '10037660',\n",
       " '10005911',\n",
       " '10037844',\n",
       " 'CONCEPT_LESS',\n",
       " '10000496',\n",
       " '10037844',\n",
       " 'CONCEPT_LESS',\n",
       " '10006784',\n",
       " '10000496',\n",
       " '10000496',\n",
       " '10028735',\n",
       " '10000220',\n",
       " '10028813',\n",
       " '10012735',\n",
       " '10028813',\n",
       " 'CONCEPT_LESS',\n",
       " '10013573',\n",
       " '10033371',\n",
       " '10038776',\n",
       " '10037660',\n",
       " '10011224',\n",
       " '10039101',\n",
       " '10068319',\n",
       " '10039101',\n",
       " '10068319',\n",
       " '10011224',\n",
       " '10039101',\n",
       " '10036898',\n",
       " '10036898',\n",
       " '10011224',\n",
       " '10005911',\n",
       " '10011224',\n",
       " '10039101',\n",
       " '10005911',\n",
       " '10029216',\n",
       " '10029216',\n",
       " '10036898',\n",
       " '10061210',\n",
       " '10033371',\n",
       " '10019211',\n",
       " '10005911',\n",
       " '10019211',\n",
       " '10005911',\n",
       " '10039101',\n",
       " '10039101',\n",
       " '10025482',\n",
       " '10005911',\n",
       " '10043528',\n",
       " '10012735',\n",
       " '10040844',\n",
       " '10036898',\n",
       " '10019211',\n",
       " '10039101',\n",
       " '10080125',\n",
       " '10005911',\n",
       " '10065735',\n",
       " '10036898',\n",
       " '10041349',\n",
       " '10041349',\n",
       " '10041349',\n",
       " '10041349',\n",
       " '10061364',\n",
       " '10033425',\n",
       " '10006784',\n",
       " '10033425',\n",
       " '10051373',\n",
       " '10003050',\n",
       " '10052428',\n",
       " '10006784',\n",
       " '10013946',\n",
       " '10028813',\n",
       " '10013573',\n",
       " '10013781',\n",
       " '10043951',\n",
       " '10005750',\n",
       " '10008479',\n",
       " '10013573',\n",
       " '10047571',\n",
       " '10043882',\n",
       " '10011224',\n",
       " '10019211',\n",
       " '10020751',\n",
       " '10037844',\n",
       " '10037844',\n",
       " '10016825',\n",
       " '10020751',\n",
       " '10020751',\n",
       " '10020751',\n",
       " '10013573',\n",
       " '10028813',\n",
       " '10003569',\n",
       " '10028813',\n",
       " '10028813',\n",
       " '10016334',\n",
       " '10028813',\n",
       " '10060800',\n",
       " '10028813',\n",
       " '10070863',\n",
       " '10037660',\n",
       " '10039101',\n",
       " '10037660',\n",
       " '10036898',\n",
       " '10005911',\n",
       " '10016766',\n",
       " '10016766',\n",
       " '10016766',\n",
       " '10016766',\n",
       " '10001497',\n",
       " '10001497',\n",
       " '10034912',\n",
       " '10041349',\n",
       " '10062519',\n",
       " '10062519',\n",
       " 'CONCEPT_LESS',\n",
       " '10015946',\n",
       " '10003051',\n",
       " '10006784',\n",
       " '10000496',\n",
       " '10064578',\n",
       " '10037660',\n",
       " '10012431',\n",
       " '10019211',\n",
       " '10042674',\n",
       " '10080125',\n",
       " '10023644',\n",
       " '10005911',\n",
       " '10036898',\n",
       " '10041349',\n",
       " '10003549',\n",
       " '10005911',\n",
       " '10005911',\n",
       " '10068319',\n",
       " '10005911',\n",
       " '10041349',\n",
       " '10005911',\n",
       " '10039101',\n",
       " '10080125',\n",
       " '10000081',\n",
       " '10007947',\n",
       " '10013573',\n",
       " '10043882',\n",
       " '10047571',\n",
       " '10013573',\n",
       " '10043882',\n",
       " '10013573',\n",
       " '10074869',\n",
       " '10033371',\n",
       " 'CONCEPT_LESS',\n",
       " '10000059',\n",
       " '10033371',\n",
       " '10028334',\n",
       " '10010774',\n",
       " '10000059',\n",
       " 'CONCEPT_LESS',\n",
       " '10033371',\n",
       " '10039101',\n",
       " '10011224',\n",
       " '10005911',\n",
       " '10000081',\n",
       " '10030963',\n",
       " '10000081',\n",
       " '10010774',\n",
       " '10010774',\n",
       " '10000059',\n",
       " '10005911',\n",
       " '10005750',\n",
       " '10005750',\n",
       " '10037660',\n",
       " '10005911',\n",
       " '10036898',\n",
       " '10036898',\n",
       " '10005911',\n",
       " '10039101',\n",
       " '10036898',\n",
       " '10036898',\n",
       " '10039101',\n",
       " '10039101',\n",
       " '10036898',\n",
       " 'CONCEPT_LESS',\n",
       " '10041349',\n",
       " 'CONCEPT_LESS',\n",
       " '10036898',\n",
       " '10036898',\n",
       " '10036898',\n",
       " '10042209',\n",
       " '10010893',\n",
       " '10029216',\n",
       " '10029216',\n",
       " 'CONCEPT_LESS',\n",
       " '10052804',\n",
       " '10016322',\n",
       " '10037660',\n",
       " '10025482',\n",
       " '10041349',\n",
       " '10055798',\n",
       " '10028735',\n",
       " '10028735',\n",
       " '10015090',\n",
       " '10028735',\n",
       " '10041235',\n",
       " '10041232',\n",
       " '10005911',\n",
       " '10036898',\n",
       " 'CONCEPT_LESS',\n",
       " '10029158',\n",
       " 'CONCEPT_LESS',\n",
       " '10017999',\n",
       " 'CONCEPT_LESS',\n",
       " '10029148',\n",
       " 'CONCEPT_LESS',\n",
       " '10007027',\n",
       " '10062519',\n",
       " '10042209',\n",
       " '10000059',\n",
       " ...]"
      ]
     },
     "execution_count": 83,
     "metadata": {},
     "output_type": "execute_result"
    }
   ],
   "source": [
    "Evaluator(, test_concepts_without_conceptless)"
   ]
  },
  {
   "cell_type": "code",
   "execution_count": null,
   "id": "linear-concord",
   "metadata": {},
   "outputs": [],
   "source": [
    "#testloader = torch.utils.data.DataLoader(ds_test, batch_size=1, shuffle=False)\n",
    "net.eval()\n",
    "model_answers=[]\n",
    "real_answers=[]\n",
    "with tqdm(testloader, unit=\"batch\") as eval_process:\n",
    "    for data in eval_process:\n",
    "\n",
    "        inputs = data['tokenized_phrases']\n",
    "\n",
    "        with torch.no_grad():\n",
    "            outputs_dict = net(inputs)\n",
    "            pred_meddra_code = CV_test_without_conceptless.meddra_codes[outputs_dict['output'].argmax()]\n",
    "\n",
    "\n",
    "        model_answers.append(pred_meddra_code)\n",
    "        real_answers.append(data['label_codes'][0])\n",
    "        \n",
    "    "
   ]
  },
  {
   "cell_type": "code",
   "execution_count": 26,
   "id": "formed-amsterdam",
   "metadata": {},
   "outputs": [
    {
     "data": {
      "text/plain": [
       "0.3333333333333333"
      ]
     },
     "execution_count": 26,
     "metadata": {},
     "output_type": "execute_result"
    }
   ],
   "source": [
    "f1_score(y_true=np.array([[1],[2],[3]]), y_pred=np.array([1,0,0]), average='micro')"
   ]
  },
  {
   "cell_type": "code",
   "execution_count": 34,
   "id": "proper-brick",
   "metadata": {},
   "outputs": [
    {
     "data": {
      "text/plain": [
       "array([0, 3, 4])"
      ]
     },
     "execution_count": 34,
     "metadata": {},
     "output_type": "execute_result"
    }
   ],
   "source": [
    "import numpy as np\n",
    "\n",
    "a = np.array([1,2,3])\n",
    "b = np.array([0,1, 3, 0, 0])\n",
    "\n",
    "np.nonzero(~np.in1d(b, a))[0]"
   ]
  },
  {
   "cell_type": "code",
   "execution_count": 38,
   "id": "rolled-principle",
   "metadata": {},
   "outputs": [
    {
     "data": {
      "text/plain": [
       "array([0, 0, 0])"
      ]
     },
     "execution_count": 38,
     "metadata": {},
     "output_type": "execute_result"
    }
   ],
   "source": [
    "b[np.array([0, 3, 4])]"
   ]
  },
  {
   "cell_type": "code",
   "execution_count": 32,
   "id": "civic-pizza",
   "metadata": {},
   "outputs": [
    {
     "data": {
      "text/plain": [
       "array([1, 2, 3])"
      ]
     },
     "execution_count": 32,
     "metadata": {},
     "output_type": "execute_result"
    }
   ],
   "source": [
    "np.array(np.array([1,2,3]))"
   ]
  },
  {
   "cell_type": "code",
   "execution_count": 12,
   "id": "vulnerable-hours",
   "metadata": {},
   "outputs": [],
   "source": [
    "net = torch.load('./Model_weights/rubert_50.pt')"
   ]
  },
  {
   "cell_type": "code",
   "execution_count": 13,
   "id": "elect-unknown",
   "metadata": {},
   "outputs": [
    {
     "name": "stderr",
     "output_type": "stream",
     "text": [
      "100%|██████████| 3787/3787 [00:41<00:00, 91.47batch/s] \n"
     ]
    },
    {
     "name": "stdout",
     "output_type": "stream",
     "text": [
      "0.76234486400845 micro\n",
      "0.2934589715874881 macro\n"
     ]
    }
   ],
   "source": [
    "from tqdm import tqdm\n",
    "from sklearn.metrics import f1_score\n",
    "import pandas as pd\n",
    "\n",
    "testloader = torch.utils.data.DataLoader(ds_test, batch_size=1, shuffle=False)\n",
    "net.eval()\n",
    "model_answers=[]\n",
    "real_answers=[]\n",
    "with tqdm(testloader, unit=\"batch\") as eval_process:\n",
    "    for data in eval_process:\n",
    "\n",
    "        inputs = data['tokenized_phrases']\n",
    "\n",
    "        with torch.no_grad():\n",
    "            outputs_dict = net(inputs)\n",
    "            pred_meddra_code = CV_test_without_conceptless.meddra_codes[outputs_dict['output'].argmax()]\n",
    "\n",
    "\n",
    "        model_answers.append(pred_meddra_code)\n",
    "        real_answers.append(data['label_codes'])\n",
    "        \n",
    "    f1 = f1_score(real_answers, model_answers, average='micro')\n",
    "    print('%s micro'%f1)\n",
    "    f1 = f1_score(real_answers, model_answers, average='macro')\n",
    "    print('%s macro'%f1)\n",
    "            \n"
   ]
  },
  {
   "cell_type": "markdown",
   "id": "civic-taiwan",
   "metadata": {},
   "source": [
    "---"
   ]
  },
  {
   "cell_type": "code",
   "execution_count": 14,
   "id": "flying-drunk",
   "metadata": {},
   "outputs": [
    {
     "name": "stderr",
     "output_type": "stream",
     "text": [
      "Epoch 1: 100%|██████████| 508/508 [01:42<00:00,  4.97batch/s, loss_decrease=1.0000003765853183]\n",
      "100%|██████████| 3787/3787 [01:22<00:00, 45.94batch/s]\n"
     ]
    },
    {
     "name": "stdout",
     "output_type": "stream",
     "text": [
      "0.28201742804330604\n"
     ]
    },
    {
     "name": "stderr",
     "output_type": "stream",
     "text": [
      "Epoch 2: 100%|██████████| 508/508 [01:41<00:00,  5.03batch/s, loss_decrease=1.0000003765853183]\n",
      "100%|██████████| 3787/3787 [01:14<00:00, 50.50batch/s]\n"
     ]
    },
    {
     "name": "stdout",
     "output_type": "stream",
     "text": [
      "0.4415104304198574\n"
     ]
    },
    {
     "name": "stderr",
     "output_type": "stream",
     "text": [
      "Epoch 3: 100%|██████████| 508/508 [01:38<00:00,  5.14batch/s, loss_decrease=1.000000470731692] \n",
      "100%|██████████| 3787/3787 [01:16<00:00, 49.60batch/s]\n"
     ]
    },
    {
     "name": "stdout",
     "output_type": "stream",
     "text": [
      "0.5167678901505149\n"
     ]
    },
    {
     "name": "stderr",
     "output_type": "stream",
     "text": [
      "Epoch 4: 100%|██████████| 508/508 [01:40<00:00,  5.06batch/s, loss_decrease=1.000000470731692] \n",
      "100%|██████████| 3787/3787 [01:14<00:00, 50.53batch/s]\n"
     ]
    },
    {
     "name": "stdout",
     "output_type": "stream",
     "text": [
      "0.5373646686031159\n"
     ]
    },
    {
     "name": "stderr",
     "output_type": "stream",
     "text": [
      "Epoch 5: 100%|██████████| 508/508 [01:41<00:00,  4.99batch/s, loss_decrease=1.000000470731692] \n",
      "100%|██████████| 3787/3787 [01:14<00:00, 50.78batch/s]\n"
     ]
    },
    {
     "name": "stdout",
     "output_type": "stream",
     "text": [
      "0.5579614470557169\n"
     ]
    },
    {
     "name": "stderr",
     "output_type": "stream",
     "text": [
      "Epoch 6: 100%|██████████| 508/508 [01:36<00:00,  5.25batch/s, loss_decrease=1.000000470731692] \n",
      "100%|██████████| 3787/3787 [01:14<00:00, 50.88batch/s]\n"
     ]
    },
    {
     "name": "stdout",
     "output_type": "stream",
     "text": [
      "0.6216002112490098\n"
     ]
    },
    {
     "name": "stderr",
     "output_type": "stream",
     "text": [
      "Epoch 7: 100%|██████████| 508/508 [01:37<00:00,  5.20batch/s, loss_decrease=1.0000005648780839]\n",
      "100%|██████████| 3787/3787 [01:16<00:00, 49.59batch/s]\n"
     ]
    },
    {
     "name": "stdout",
     "output_type": "stream",
     "text": [
      "0.6374438869817798\n"
     ]
    },
    {
     "name": "stderr",
     "output_type": "stream",
     "text": [
      "Epoch 8: 100%|██████████| 508/508 [01:38<00:00,  5.15batch/s, loss_decrease=1.0000005648780839]\n",
      "100%|██████████| 3787/3787 [01:14<00:00, 51.16batch/s]\n"
     ]
    },
    {
     "name": "stdout",
     "output_type": "stream",
     "text": [
      "0.659360971745445\n"
     ]
    },
    {
     "name": "stderr",
     "output_type": "stream",
     "text": [
      "Epoch 9: 100%|██████████| 508/508 [01:39<00:00,  5.08batch/s, loss_decrease=1.0000005648780839]\n",
      "100%|██████████| 3787/3787 [01:15<00:00, 50.15batch/s]\n"
     ]
    },
    {
     "name": "stdout",
     "output_type": "stream",
     "text": [
      "0.659360971745445\n"
     ]
    },
    {
     "name": "stderr",
     "output_type": "stream",
     "text": [
      "Epoch 10: 100%|██████████| 508/508 [01:40<00:00,  5.03batch/s, loss_decrease=1.0000005648780839]\n",
      "100%|██████████| 3787/3787 [01:15<00:00, 50.06batch/s]\n"
     ]
    },
    {
     "name": "stdout",
     "output_type": "stream",
     "text": [
      "0.654607869025614\n"
     ]
    },
    {
     "name": "stderr",
     "output_type": "stream",
     "text": [
      "Epoch 11: 100%|██████████| 508/508 [01:38<00:00,  5.15batch/s, loss_decrease=1.0000005648780839]\n",
      "100%|██████████| 3787/3787 [01:15<00:00, 50.46batch/s]\n"
     ]
    },
    {
     "name": "stdout",
     "output_type": "stream",
     "text": [
      "0.6596250330076577\n"
     ]
    },
    {
     "name": "stderr",
     "output_type": "stream",
     "text": [
      "Epoch 12: 100%|██████████| 508/508 [01:32<00:00,  5.50batch/s, loss_decrease=1.0000005648780839]\n",
      "100%|██████████| 3787/3787 [01:12<00:00, 51.97batch/s]\n"
     ]
    },
    {
     "name": "stdout",
     "output_type": "stream",
     "text": [
      "0.66728280961183\n"
     ]
    },
    {
     "name": "stderr",
     "output_type": "stream",
     "text": [
      "Epoch 13: 100%|██████████| 508/508 [01:40<00:00,  5.08batch/s, loss_decrease=1.0000005648780839]\n",
      "100%|██████████| 3787/3787 [01:14<00:00, 50.73batch/s]\n"
     ]
    },
    {
     "name": "stdout",
     "output_type": "stream",
     "text": [
      "0.6891998943754951\n"
     ]
    },
    {
     "name": "stderr",
     "output_type": "stream",
     "text": [
      "Epoch 14: 100%|██████████| 508/508 [01:34<00:00,  5.35batch/s, loss_decrease=1.0000005648780839]\n",
      "100%|██████████| 3787/3787 [01:16<00:00, 49.41batch/s]\n"
     ]
    },
    {
     "name": "stdout",
     "output_type": "stream",
     "text": [
      "0.6913123844731978\n"
     ]
    },
    {
     "name": "stderr",
     "output_type": "stream",
     "text": [
      "Epoch 15: 100%|██████████| 508/508 [01:35<00:00,  5.35batch/s, loss_decrease=1.0000005648780839]\n",
      "100%|██████████| 3787/3787 [01:14<00:00, 50.68batch/s]\n"
     ]
    },
    {
     "name": "stdout",
     "output_type": "stream",
     "text": [
      "0.6981779772907315\n"
     ]
    },
    {
     "name": "stderr",
     "output_type": "stream",
     "text": [
      "Epoch 16: 100%|██████████| 508/508 [01:37<00:00,  5.21batch/s, loss_decrease=1.0000006590244932]\n",
      "100%|██████████| 3787/3787 [01:15<00:00, 49.88batch/s]\n"
     ]
    },
    {
     "name": "stdout",
     "output_type": "stream",
     "text": [
      "0.6968576709796673\n"
     ]
    },
    {
     "name": "stderr",
     "output_type": "stream",
     "text": [
      "Epoch 17: 100%|██████████| 508/508 [01:38<00:00,  5.15batch/s, loss_decrease=1.0000006590244932]\n",
      "100%|██████████| 3787/3787 [01:13<00:00, 51.50batch/s]\n"
     ]
    },
    {
     "name": "stdout",
     "output_type": "stream",
     "text": [
      "0.6992342223395828\n"
     ]
    },
    {
     "name": "stderr",
     "output_type": "stream",
     "text": [
      "Epoch 18: 100%|██████████| 508/508 [01:34<00:00,  5.37batch/s, loss_decrease=1.0000006590244932]\n",
      "100%|██████████| 3787/3787 [01:15<00:00, 50.47batch/s]\n"
     ]
    },
    {
     "name": "stdout",
     "output_type": "stream",
     "text": [
      "0.6918405069976235\n"
     ]
    },
    {
     "name": "stderr",
     "output_type": "stream",
     "text": [
      "Epoch 19: 100%|██████████| 508/508 [01:39<00:00,  5.10batch/s, loss_decrease=1.0000006590244932]\n",
      "100%|██████████| 3787/3787 [01:14<00:00, 50.90batch/s]\n"
     ]
    },
    {
     "name": "stdout",
     "output_type": "stream",
     "text": [
      "0.6794296276736203\n"
     ]
    },
    {
     "name": "stderr",
     "output_type": "stream",
     "text": [
      "Epoch 20: 100%|██████████| 508/508 [01:40<00:00,  5.07batch/s, loss_decrease=1.0000006590244932]\n",
      "100%|██████████| 3787/3787 [01:14<00:00, 51.15batch/s]\n"
     ]
    },
    {
     "name": "stdout",
     "output_type": "stream",
     "text": [
      "0.6720359123316609\n"
     ]
    },
    {
     "name": "stderr",
     "output_type": "stream",
     "text": [
      "Epoch 21: 100%|██████████| 508/508 [01:40<00:00,  5.04batch/s, loss_decrease=1.0000006590244932]\n",
      "100%|██████████| 3787/3787 [01:13<00:00, 51.22batch/s]\n"
     ]
    },
    {
     "name": "stdout",
     "output_type": "stream",
     "text": [
      "0.7045154475838394\n"
     ]
    },
    {
     "name": "stderr",
     "output_type": "stream",
     "text": [
      "Epoch 22: 100%|██████████| 508/508 [01:40<00:00,  5.07batch/s, loss_decrease=1.0000006590244932]\n",
      "100%|██████████| 3787/3787 [01:14<00:00, 50.67batch/s]\n"
     ]
    },
    {
     "name": "stdout",
     "output_type": "stream",
     "text": [
      "0.6973857935040929\n"
     ]
    },
    {
     "name": "stderr",
     "output_type": "stream",
     "text": [
      "Epoch 23: 100%|██████████| 508/508 [01:38<00:00,  5.16batch/s, loss_decrease=1.0000006590244932]\n",
      "100%|██████████| 3787/3787 [01:18<00:00, 48.42batch/s]\n"
     ]
    },
    {
     "name": "stdout",
     "output_type": "stream",
     "text": [
      "0.7166622656456297\n"
     ]
    },
    {
     "name": "stderr",
     "output_type": "stream",
     "text": [
      "Epoch 24: 100%|██████████| 508/508 [01:40<00:00,  5.06batch/s, loss_decrease=1.0000006590244932]\n",
      "100%|██████████| 3787/3787 [01:15<00:00, 50.47batch/s]\n"
     ]
    },
    {
     "name": "stdout",
     "output_type": "stream",
     "text": [
      "0.7092685503036703\n"
     ]
    },
    {
     "name": "stderr",
     "output_type": "stream",
     "text": [
      "Epoch 25: 100%|██████████| 508/508 [01:40<00:00,  5.06batch/s, loss_decrease=1.0000006590244932]\n",
      "100%|██████████| 3787/3787 [01:16<00:00, 49.55batch/s]\n"
     ]
    },
    {
     "name": "stdout",
     "output_type": "stream",
     "text": [
      "0.7119091629257988\n"
     ]
    },
    {
     "name": "stderr",
     "output_type": "stream",
     "text": [
      "Epoch 26: 100%|██████████| 508/508 [01:39<00:00,  5.09batch/s, loss_decrease=1.0000006590244932]\n",
      "100%|██████████| 3787/3787 [01:13<00:00, 51.42batch/s]\n"
     ]
    },
    {
     "name": "stdout",
     "output_type": "stream",
     "text": [
      "0.7074201214681806\n"
     ]
    },
    {
     "name": "stderr",
     "output_type": "stream",
     "text": [
      "Epoch 27: 100%|██████████| 508/508 [01:39<00:00,  5.11batch/s, loss_decrease=1.0000006590244932]\n",
      "100%|██████████| 3787/3787 [01:14<00:00, 50.64batch/s]\n"
     ]
    },
    {
     "name": "stdout",
     "output_type": "stream",
     "text": [
      "0.6981779772907315\n"
     ]
    },
    {
     "name": "stderr",
     "output_type": "stream",
     "text": [
      "Epoch 28: 100%|██████████| 508/508 [01:40<00:00,  5.08batch/s, loss_decrease=1.0000006590244932]\n",
      "100%|██████████| 3787/3787 [01:14<00:00, 50.99batch/s]\n"
     ]
    },
    {
     "name": "stdout",
     "output_type": "stream",
     "text": [
      "0.7026670187483496\n"
     ]
    },
    {
     "name": "stderr",
     "output_type": "stream",
     "text": [
      "Epoch 29: 100%|██████████| 508/508 [01:39<00:00,  5.08batch/s, loss_decrease=1.0000006590244932]\n",
      "100%|██████████| 3787/3787 [01:14<00:00, 50.57batch/s]\n"
     ]
    },
    {
     "name": "stdout",
     "output_type": "stream",
     "text": [
      "0.7132294692368629\n"
     ]
    },
    {
     "name": "stderr",
     "output_type": "stream",
     "text": [
      "Epoch 30: 100%|██████████| 508/508 [01:39<00:00,  5.09batch/s, loss_decrease=1.0000006590244932]\n",
      "100%|██████████| 3787/3787 [01:14<00:00, 50.82batch/s]\n"
     ]
    },
    {
     "name": "stdout",
     "output_type": "stream",
     "text": [
      "0.7171903881700554\n"
     ]
    },
    {
     "name": "stderr",
     "output_type": "stream",
     "text": [
      "Epoch 31: 100%|██████████| 508/508 [01:40<00:00,  5.08batch/s, loss_decrease=1.00000075317092]  \n",
      "100%|██████████| 3787/3787 [01:14<00:00, 50.78batch/s]\n"
     ]
    },
    {
     "name": "stdout",
     "output_type": "stream",
     "text": [
      "0.7169263269078426\n"
     ]
    },
    {
     "name": "stderr",
     "output_type": "stream",
     "text": [
      "Epoch 32: 100%|██████████| 508/508 [01:40<00:00,  5.08batch/s, loss_decrease=1.00000075317092]  \n",
      "100%|██████████| 3787/3787 [01:16<00:00, 49.51batch/s]\n"
     ]
    },
    {
     "name": "stdout",
     "output_type": "stream",
     "text": [
      "0.7203591233166093\n"
     ]
    },
    {
     "name": "stderr",
     "output_type": "stream",
     "text": [
      "Epoch 33: 100%|██████████| 508/508 [01:37<00:00,  5.22batch/s, loss_decrease=1.00000075317092]  \n",
      "100%|██████████| 3787/3787 [01:15<00:00, 50.38batch/s]\n"
     ]
    },
    {
     "name": "stdout",
     "output_type": "stream",
     "text": [
      "0.7198310007921838\n"
     ]
    },
    {
     "name": "stderr",
     "output_type": "stream",
     "text": [
      "Epoch 34: 100%|██████████| 508/508 [01:40<00:00,  5.04batch/s, loss_decrease=1.0000006590244932]\n",
      "100%|██████████| 3787/3787 [01:13<00:00, 51.41batch/s]\n"
     ]
    },
    {
     "name": "stdout",
     "output_type": "stream",
     "text": [
      "0.711645101663586\n"
     ]
    },
    {
     "name": "stderr",
     "output_type": "stream",
     "text": [
      "Epoch 35: 100%|██████████| 508/508 [01:41<00:00,  5.01batch/s, loss_decrease=1.00000075317092]  \n",
      "100%|██████████| 3787/3787 [01:15<00:00, 49.95batch/s]\n"
     ]
    },
    {
     "name": "stdout",
     "output_type": "stream",
     "text": [
      "0.6960654871930287\n"
     ]
    },
    {
     "name": "stderr",
     "output_type": "stream",
     "text": [
      "Epoch 36: 100%|██████████| 508/508 [01:41<00:00,  5.02batch/s, loss_decrease=1.00000075317092]  \n",
      "100%|██████████| 3787/3787 [01:13<00:00, 51.68batch/s]\n"
     ]
    },
    {
     "name": "stdout",
     "output_type": "stream",
     "text": [
      "0.6899920781621336\n"
     ]
    },
    {
     "name": "stderr",
     "output_type": "stream",
     "text": [
      "Epoch 37: 100%|██████████| 508/508 [01:38<00:00,  5.15batch/s, loss_decrease=1.00000075317092]  \n",
      "100%|██████████| 3787/3787 [01:15<00:00, 50.26batch/s]\n"
     ]
    },
    {
     "name": "stdout",
     "output_type": "stream",
     "text": [
      "0.7163982043834168\n"
     ]
    },
    {
     "name": "stderr",
     "output_type": "stream",
     "text": [
      "Epoch 38: 100%|██████████| 508/508 [01:40<00:00,  5.07batch/s, loss_decrease=1.0000006590244932]\n",
      "100%|██████████| 3787/3787 [01:22<00:00, 45.99batch/s]\n"
     ]
    },
    {
     "name": "stdout",
     "output_type": "stream",
     "text": [
      "0.7179825719566939\n"
     ]
    },
    {
     "name": "stderr",
     "output_type": "stream",
     "text": [
      "Epoch 39: 100%|██████████| 508/508 [01:39<00:00,  5.12batch/s, loss_decrease=1.00000075317092]  \n",
      "100%|██████████| 3787/3787 [01:13<00:00, 51.47batch/s]\n"
     ]
    },
    {
     "name": "stdout",
     "output_type": "stream",
     "text": [
      "0.7156060205967785\n"
     ]
    },
    {
     "name": "stderr",
     "output_type": "stream",
     "text": [
      "Epoch 40: 100%|██████████| 508/508 [01:40<00:00,  5.06batch/s, loss_decrease=1.0000006590244932]\n",
      "100%|██████████| 3787/3787 [01:15<00:00, 49.95batch/s]\n"
     ]
    },
    {
     "name": "stdout",
     "output_type": "stream",
     "text": [
      "0.7190388170055453\n"
     ]
    },
    {
     "name": "stderr",
     "output_type": "stream",
     "text": [
      "Epoch 41: 100%|██████████| 508/508 [01:41<00:00,  5.03batch/s, loss_decrease=1.00000075317092]  \n",
      "100%|██████████| 3787/3787 [01:15<00:00, 50.09batch/s]\n"
     ]
    },
    {
     "name": "stdout",
     "output_type": "stream",
     "text": [
      "0.7232637972009505\n"
     ]
    },
    {
     "name": "stderr",
     "output_type": "stream",
     "text": [
      "Epoch 42: 100%|██████████| 508/508 [01:41<00:00,  5.02batch/s, loss_decrease=1.0000006590244932]\n",
      "100%|██████████| 3787/3787 [01:14<00:00, 50.74batch/s]\n"
     ]
    },
    {
     "name": "stdout",
     "output_type": "stream",
     "text": [
      "0.719566939529971\n"
     ]
    },
    {
     "name": "stderr",
     "output_type": "stream",
     "text": [
      "Epoch 43: 100%|██████████| 508/508 [01:40<00:00,  5.06batch/s, loss_decrease=1.00000075317092]  \n",
      "100%|██████████| 3787/3787 [01:14<00:00, 51.02batch/s]\n"
     ]
    },
    {
     "name": "stdout",
     "output_type": "stream",
     "text": [
      "0.7193028782677581\n"
     ]
    },
    {
     "name": "stderr",
     "output_type": "stream",
     "text": [
      "Epoch 44: 100%|██████████| 508/508 [01:41<00:00,  5.02batch/s, loss_decrease=1.00000075317092]  \n",
      "100%|██████████| 3787/3787 [01:14<00:00, 51.06batch/s]\n"
     ]
    },
    {
     "name": "stdout",
     "output_type": "stream",
     "text": [
      "0.732241880116187\n"
     ]
    },
    {
     "name": "stderr",
     "output_type": "stream",
     "text": [
      "Epoch 45: 100%|██████████| 508/508 [01:39<00:00,  5.10batch/s, loss_decrease=1.0000006590244932]\n",
      "100%|██████████| 3787/3787 [01:13<00:00, 51.58batch/s]\n"
     ]
    },
    {
     "name": "stdout",
     "output_type": "stream",
     "text": [
      "0.7171903881700554\n"
     ]
    },
    {
     "name": "stderr",
     "output_type": "stream",
     "text": [
      "Epoch 46: 100%|██████████| 508/508 [01:40<00:00,  5.07batch/s, loss_decrease=1.00000075317092]  \n",
      "100%|██████████| 3787/3787 [01:14<00:00, 51.16batch/s]\n"
     ]
    },
    {
     "name": "stdout",
     "output_type": "stream",
     "text": [
      "0.7237919197253764\n"
     ]
    },
    {
     "name": "stderr",
     "output_type": "stream",
     "text": [
      "Epoch 47: 100%|██████████| 508/508 [01:39<00:00,  5.09batch/s, loss_decrease=1.00000075317092]  \n",
      "100%|██████████| 3787/3787 [01:12<00:00, 51.91batch/s]\n"
     ]
    },
    {
     "name": "stdout",
     "output_type": "stream",
     "text": [
      "0.7208872458410351\n"
     ]
    },
    {
     "name": "stderr",
     "output_type": "stream",
     "text": [
      "Epoch 48: 100%|██████████| 508/508 [01:40<00:00,  5.06batch/s, loss_decrease=1.00000075317092]  \n",
      "100%|██████████| 3787/3787 [01:16<00:00, 49.39batch/s]\n"
     ]
    },
    {
     "name": "stdout",
     "output_type": "stream",
     "text": [
      "0.7219434908898863\n"
     ]
    },
    {
     "name": "stderr",
     "output_type": "stream",
     "text": [
      "Epoch 49: 100%|██████████| 508/508 [01:40<00:00,  5.08batch/s, loss_decrease=1.0000006590244932]\n",
      "100%|██████████| 3787/3787 [01:15<00:00, 50.03batch/s]\n"
     ]
    },
    {
     "name": "stdout",
     "output_type": "stream",
     "text": [
      "0.7222075521520993\n"
     ]
    },
    {
     "name": "stderr",
     "output_type": "stream",
     "text": [
      "Epoch 50: 100%|██████████| 508/508 [01:39<00:00,  5.09batch/s, loss_decrease=1.00000075317092]  \n",
      "100%|██████████| 3787/3787 [01:14<00:00, 50.98batch/s]\n"
     ]
    },
    {
     "name": "stdout",
     "output_type": "stream",
     "text": [
      "0.7280168999207816\n",
      "Finished Training\n"
     ]
    }
   ],
   "source": [
    "from tqdm import trange\n",
    "from tqdm import tqdm\n",
    "from sklearn.metrics import classification_report, f1_score\n",
    "\n",
    "\n",
    "\n",
    "#Гиперпараметры\n",
    "batch_size=16\n",
    "epochs = 50\n",
    "    \n",
    "trainloader = torch.utils.data.DataLoader(ds_train, batch_size=batch_size,\n",
    "                                          shuffle=False, num_workers=0)\n",
    "testloader = torch.utils.data.DataLoader(ds_test, batch_size=1, shuffle=False)\n",
    "\n",
    "net.train()\n",
    "initial_loss = None\n",
    "best_f1=0\n",
    "for epoch in range(1, epochs+1):\n",
    "    #обучение модели в эпохе\n",
    "    net.train()\n",
    "    with tqdm(trainloader, unit=\"batch\") as tepoch:\n",
    "        for data in tepoch:\n",
    "\n",
    "            tepoch.set_description(f\"Epoch {epoch}\")\n",
    "\n",
    "            inputs = data['tokenized_phrases']\n",
    "            labels = data['one_hot_labels']\n",
    "\n",
    "            optimizer.zero_grad()\n",
    "            if USE_CUDA:\n",
    "                with torch.cuda.amp.autocast():\n",
    "                    outputs = net(inputs)['output']\n",
    "                    loss = criterion(outputs, labels)\n",
    "                scaler.scale(loss).backward()\n",
    "                scaler.step(optimizer)\n",
    "                scheduler.step()\n",
    "                #scheduler.step()\n",
    "                scaler.update()\n",
    "            else:\n",
    "                outputs = net(inputs)['output']\n",
    "                loss = criterion(outputs, labels)\n",
    "                loss.backward()\n",
    "                optimizer.step()\n",
    "                scheduler.step()\n",
    "            if initial_loss is None:\n",
    "                initial_loss = loss.item()\n",
    "            tepoch.set_postfix(loss_decrease = str(initial_loss/loss.item()))\n",
    "    #расчет точностей модели после эпохи\n",
    "    net.eval()\n",
    "    model_answers=[]\n",
    "    real_answers=[]\n",
    "    with tqdm(testloader, unit=\"batch\") as eval_process:\n",
    "        for data in eval_process:\n",
    "\n",
    "            inputs = data['tokenized_phrases']\n",
    "\n",
    "            with torch.no_grad():\n",
    "                outputs_dict = net(inputs)\n",
    "                pred_meddra_code = CV_test_without_conceptless.meddra_codes[outputs_dict['output'].argmax()]\n",
    "\n",
    "\n",
    "            model_answers.append(pred_meddra_code)\n",
    "            real_answers.append(data['label_codes'])\n",
    "    f1 = f1_score(real_answers, model_answers, average='micro')\n",
    "    if f1>best_f1:\n",
    "        best_f1=f1\n",
    "        torch.save(net,'./Model_weights/xlmrobertasag_best_cycliclr_%s.pt'%epoch)\n",
    "    if epoch==9:\n",
    "        torch.save(net,'./Model_weights/xlmrobertasag_cycliclr_%s.pt'%epoch)\n",
    "    print(f1)\n",
    "            \n",
    "print('Finished Training')\n",
    "torch.save(net,'./Model_weights/xlmrobertasag_cycliclr_%s.pt'%epoch)"
   ]
  },
  {
   "cell_type": "markdown",
   "id": "separated-theory",
   "metadata": {},
   "source": [
    "<h3>Процесс обучения и рассчета точностей xlmrobertasag</h3>"
   ]
  },
  {
   "cell_type": "code",
   "execution_count": 14,
   "id": "delayed-disclaimer",
   "metadata": {},
   "outputs": [
    {
     "name": "stderr",
     "output_type": "stream",
     "text": [
      "Epoch 1: 100%|██████████| 508/508 [01:43<00:00,  4.89batch/s, loss_decrease=1.0000002824389622]\n",
      "100%|██████████| 3787/3787 [01:16<00:00, 49.41batch/s]\n"
     ]
    },
    {
     "name": "stdout",
     "output_type": "stream",
     "text": [
      "0.2207552152099287\n"
     ]
    },
    {
     "name": "stderr",
     "output_type": "stream",
     "text": [
      "Epoch 2: 100%|██████████| 508/508 [01:40<00:00,  5.04batch/s, loss_decrease=1.0000003765853183]\n",
      "100%|██████████| 3787/3787 [01:21<00:00, 46.64batch/s]\n"
     ]
    },
    {
     "name": "stdout",
     "output_type": "stream",
     "text": [
      "0.39820438341695275\n"
     ]
    },
    {
     "name": "stderr",
     "output_type": "stream",
     "text": [
      "Epoch 3: 100%|██████████| 508/508 [01:41<00:00,  5.00batch/s, loss_decrease=1.0000003765853183]\n",
      "100%|██████████| 3787/3787 [01:17<00:00, 48.72batch/s]\n"
     ]
    },
    {
     "name": "stdout",
     "output_type": "stream",
     "text": [
      "0.4478479007129655\n"
     ]
    },
    {
     "name": "stderr",
     "output_type": "stream",
     "text": [
      "Epoch 4: 100%|██████████| 508/508 [01:39<00:00,  5.09batch/s, loss_decrease=1.0000003765853183]\n",
      "100%|██████████| 3787/3787 [01:16<00:00, 49.83batch/s]\n"
     ]
    },
    {
     "name": "stdout",
     "output_type": "stream",
     "text": [
      "0.4969632954845524\n"
     ]
    },
    {
     "name": "stderr",
     "output_type": "stream",
     "text": [
      "Epoch 5: 100%|██████████| 508/508 [01:40<00:00,  5.06batch/s, loss_decrease=1.0000003765853183]\n",
      "100%|██████████| 3787/3787 [01:16<00:00, 49.19batch/s]\n"
     ]
    },
    {
     "name": "stdout",
     "output_type": "stream",
     "text": [
      "0.5352521785054133\n"
     ]
    },
    {
     "name": "stderr",
     "output_type": "stream",
     "text": [
      "Epoch 6: 100%|██████████| 508/508 [01:38<00:00,  5.18batch/s, loss_decrease=1.000000470731692] \n",
      "100%|██████████| 3787/3787 [01:18<00:00, 48.30batch/s]\n"
     ]
    },
    {
     "name": "stdout",
     "output_type": "stream",
     "text": [
      "0.5423818325851597\n"
     ]
    },
    {
     "name": "stderr",
     "output_type": "stream",
     "text": [
      "Epoch 7: 100%|██████████| 508/508 [01:42<00:00,  4.94batch/s, loss_decrease=1.000000470731692] \n",
      "100%|██████████| 3787/3787 [01:22<00:00, 46.16batch/s]\n"
     ]
    },
    {
     "name": "stdout",
     "output_type": "stream",
     "text": [
      "0.5635067335621864\n"
     ]
    },
    {
     "name": "stderr",
     "output_type": "stream",
     "text": [
      "Epoch 8: 100%|██████████| 508/508 [01:40<00:00,  5.05batch/s, loss_decrease=1.000000470731692] \n",
      "100%|██████████| 3787/3787 [01:15<00:00, 50.19batch/s]\n"
     ]
    },
    {
     "name": "stdout",
     "output_type": "stream",
     "text": [
      "0.5777660417216794\n"
     ]
    },
    {
     "name": "stderr",
     "output_type": "stream",
     "text": [
      "Epoch 9: 100%|██████████| 508/508 [01:41<00:00,  4.99batch/s, loss_decrease=1.000000470731692] \n",
      "100%|██████████| 3787/3787 [01:17<00:00, 49.01batch/s]\n"
     ]
    },
    {
     "name": "stdout",
     "output_type": "stream",
     "text": [
      "0.6041721679429628\n"
     ]
    },
    {
     "name": "stderr",
     "output_type": "stream",
     "text": [
      "Epoch 10: 100%|██████████| 508/508 [01:39<00:00,  5.11batch/s, loss_decrease=1.000000470731692] \n",
      "100%|██████████| 3787/3787 [01:12<00:00, 51.94batch/s]\n"
     ]
    },
    {
     "name": "stdout",
     "output_type": "stream",
     "text": [
      "0.6165830472669659\n"
     ]
    },
    {
     "name": "stderr",
     "output_type": "stream",
     "text": [
      "Epoch 11: 100%|██████████| 508/508 [01:39<00:00,  5.12batch/s, loss_decrease=1.000000470731692] \n",
      "100%|██████████| 3787/3787 [01:16<00:00, 49.54batch/s]\n"
     ]
    },
    {
     "name": "stdout",
     "output_type": "stream",
     "text": [
      "0.6258251914444151\n"
     ]
    },
    {
     "name": "stderr",
     "output_type": "stream",
     "text": [
      "Epoch 12: 100%|██████████| 508/508 [01:38<00:00,  5.14batch/s, loss_decrease=1.000000470731692] \n",
      "100%|██████████| 3787/3787 [01:12<00:00, 52.01batch/s]\n"
     ]
    },
    {
     "name": "stdout",
     "output_type": "stream",
     "text": [
      "0.6326907842619488\n"
     ]
    },
    {
     "name": "stderr",
     "output_type": "stream",
     "text": [
      "Epoch 13: 100%|██████████| 508/508 [01:39<00:00,  5.11batch/s, loss_decrease=1.000000470731692] \n",
      "100%|██████████| 3787/3787 [01:18<00:00, 48.40batch/s]\n"
     ]
    },
    {
     "name": "stdout",
     "output_type": "stream",
     "text": [
      "0.6337470293108001\n"
     ]
    },
    {
     "name": "stderr",
     "output_type": "stream",
     "text": [
      "Epoch 14: 100%|██████████| 508/508 [01:38<00:00,  5.16batch/s, loss_decrease=1.000000470731692] \n",
      "100%|██████████| 3787/3787 [01:15<00:00, 50.46batch/s]\n"
     ]
    },
    {
     "name": "stdout",
     "output_type": "stream",
     "text": [
      "0.6363876419329284\n"
     ]
    },
    {
     "name": "stderr",
     "output_type": "stream",
     "text": [
      "Epoch 15: 100%|██████████| 508/508 [01:39<00:00,  5.12batch/s, loss_decrease=1.0000005648780839]\n",
      "100%|██████████| 3787/3787 [01:14<00:00, 50.64batch/s]\n"
     ]
    },
    {
     "name": "stdout",
     "output_type": "stream",
     "text": [
      "0.6456297861103776\n"
     ]
    },
    {
     "name": "stderr",
     "output_type": "stream",
     "text": [
      "Epoch 16: 100%|██████████| 508/508 [01:38<00:00,  5.13batch/s, loss_decrease=1.0000005648780839]\n",
      "100%|██████████| 3787/3787 [01:13<00:00, 51.74batch/s]\n"
     ]
    },
    {
     "name": "stdout",
     "output_type": "stream",
     "text": [
      "0.6612094005809348\n"
     ]
    },
    {
     "name": "stderr",
     "output_type": "stream",
     "text": [
      "Epoch 17: 100%|██████████| 508/508 [01:38<00:00,  5.14batch/s, loss_decrease=1.0000005648780839]\n",
      "100%|██████████| 3787/3787 [01:13<00:00, 51.53batch/s]\n"
     ]
    },
    {
     "name": "stdout",
     "output_type": "stream",
     "text": [
      "0.6609453393187219\n"
     ]
    },
    {
     "name": "stderr",
     "output_type": "stream",
     "text": [
      "Epoch 18: 100%|██████████| 508/508 [01:43<00:00,  4.91batch/s, loss_decrease=1.0000005648780839]\n",
      "100%|██████████| 3787/3787 [01:23<00:00, 45.38batch/s]\n"
     ]
    },
    {
     "name": "stdout",
     "output_type": "stream",
     "text": [
      "0.6691312384473198\n"
     ]
    },
    {
     "name": "stderr",
     "output_type": "stream",
     "text": [
      "Epoch 19: 100%|██████████| 508/508 [01:42<00:00,  4.95batch/s, loss_decrease=1.0000005648780839]\n",
      "100%|██████████| 3787/3787 [01:13<00:00, 51.73batch/s]\n"
     ]
    },
    {
     "name": "stdout",
     "output_type": "stream",
     "text": [
      "0.6744124636915765\n"
     ]
    },
    {
     "name": "stderr",
     "output_type": "stream",
     "text": [
      "Epoch 20: 100%|██████████| 508/508 [01:41<00:00,  5.03batch/s, loss_decrease=1.0000005648780839]\n",
      "100%|██████████| 3787/3787 [01:24<00:00, 45.07batch/s]\n"
     ]
    },
    {
     "name": "stdout",
     "output_type": "stream",
     "text": [
      "0.665698442038553\n"
     ]
    },
    {
     "name": "stderr",
     "output_type": "stream",
     "text": [
      "Epoch 21: 100%|██████████| 508/508 [01:37<00:00,  5.20batch/s, loss_decrease=1.0000005648780839]\n",
      "100%|██████████| 3787/3787 [01:16<00:00, 49.19batch/s]\n"
     ]
    },
    {
     "name": "stdout",
     "output_type": "stream",
     "text": [
      "0.6778452601003433\n"
     ]
    },
    {
     "name": "stderr",
     "output_type": "stream",
     "text": [
      "Epoch 22: 100%|██████████| 508/508 [01:38<00:00,  5.14batch/s, loss_decrease=1.0000005648780839]\n",
      "100%|██████████| 3787/3787 [01:13<00:00, 51.50batch/s]\n"
     ]
    },
    {
     "name": "stdout",
     "output_type": "stream",
     "text": [
      "0.6765249537892791\n"
     ]
    },
    {
     "name": "stderr",
     "output_type": "stream",
     "text": [
      "Epoch 23: 100%|██████████| 508/508 [01:39<00:00,  5.08batch/s, loss_decrease=1.0000005648780839]\n",
      "100%|██████████| 3787/3787 [01:21<00:00, 46.49batch/s]\n"
     ]
    },
    {
     "name": "stdout",
     "output_type": "stream",
     "text": [
      "0.6936889358331133\n"
     ]
    },
    {
     "name": "stderr",
     "output_type": "stream",
     "text": [
      "Epoch 24: 100%|██████████| 508/508 [01:40<00:00,  5.04batch/s, loss_decrease=1.0000006590244932]\n",
      "100%|██████████| 3787/3787 [01:16<00:00, 49.37batch/s]\n"
     ]
    },
    {
     "name": "stdout",
     "output_type": "stream",
     "text": [
      "0.6886717718510694\n"
     ]
    },
    {
     "name": "stderr",
     "output_type": "stream",
     "text": [
      "Epoch 25: 100%|██████████| 508/508 [01:39<00:00,  5.09batch/s, loss_decrease=1.0000005648780839]\n",
      "100%|██████████| 3787/3787 [01:12<00:00, 51.91batch/s]\n"
     ]
    },
    {
     "name": "stdout",
     "output_type": "stream",
     "text": [
      "0.6891998943754951\n"
     ]
    },
    {
     "name": "stderr",
     "output_type": "stream",
     "text": [
      "Epoch 26: 100%|██████████| 508/508 [01:34<00:00,  5.35batch/s, loss_decrease=1.0000006590244932]\n",
      "100%|██████████| 3787/3787 [01:14<00:00, 50.80batch/s]\n"
     ]
    },
    {
     "name": "stdout",
     "output_type": "stream",
     "text": [
      "0.6907842619487721\n"
     ]
    },
    {
     "name": "stderr",
     "output_type": "stream",
     "text": [
      "Epoch 27: 100%|██████████| 508/508 [01:39<00:00,  5.11batch/s, loss_decrease=1.0000006590244932]\n",
      "100%|██████████| 3787/3787 [01:13<00:00, 51.27batch/s]\n"
     ]
    },
    {
     "name": "stdout",
     "output_type": "stream",
     "text": [
      "0.6947451808819646\n"
     ]
    },
    {
     "name": "stderr",
     "output_type": "stream",
     "text": [
      "Epoch 28: 100%|██████████| 508/508 [01:36<00:00,  5.27batch/s, loss_decrease=1.0000006590244932]\n",
      "100%|██████████| 3787/3787 [01:14<00:00, 50.79batch/s]\n"
     ]
    },
    {
     "name": "stdout",
     "output_type": "stream",
     "text": [
      "0.6884077105888566\n"
     ]
    },
    {
     "name": "stderr",
     "output_type": "stream",
     "text": [
      "Epoch 29: 100%|██████████| 508/508 [01:38<00:00,  5.16batch/s, loss_decrease=1.0000006590244932]\n",
      "100%|██████████| 3787/3787 [01:14<00:00, 50.90batch/s]\n"
     ]
    },
    {
     "name": "stdout",
     "output_type": "stream",
     "text": [
      "0.6836546078690257\n"
     ]
    },
    {
     "name": "stderr",
     "output_type": "stream",
     "text": [
      "Epoch 30: 100%|██████████| 508/508 [01:39<00:00,  5.12batch/s, loss_decrease=1.0000006590244932]\n",
      "100%|██████████| 3787/3787 [01:13<00:00, 51.26batch/s]\n"
     ]
    },
    {
     "name": "stdout",
     "output_type": "stream",
     "text": [
      "0.6939529970953261\n"
     ]
    },
    {
     "name": "stderr",
     "output_type": "stream",
     "text": [
      "Epoch 31: 100%|██████████| 508/508 [01:39<00:00,  5.12batch/s, loss_decrease=1.0000006590244932]\n",
      "100%|██████████| 3787/3787 [01:14<00:00, 50.97batch/s]\n"
     ]
    },
    {
     "name": "stdout",
     "output_type": "stream",
     "text": [
      "0.6965936097174544\n"
     ]
    },
    {
     "name": "stderr",
     "output_type": "stream",
     "text": [
      "Epoch 32: 100%|██████████| 508/508 [01:39<00:00,  5.12batch/s, loss_decrease=1.0000006590244932]\n",
      "100%|██████████| 3787/3787 [01:15<00:00, 50.22batch/s]\n"
     ]
    },
    {
     "name": "stdout",
     "output_type": "stream",
     "text": [
      "0.7031951412727753\n"
     ]
    },
    {
     "name": "stderr",
     "output_type": "stream",
     "text": [
      "Epoch 33: 100%|██████████| 508/508 [01:41<00:00,  4.99batch/s, loss_decrease=1.0000006590244932]\n",
      "100%|██████████| 3787/3787 [01:15<00:00, 50.05batch/s]\n"
     ]
    },
    {
     "name": "stdout",
     "output_type": "stream",
     "text": [
      "0.6955373646686032\n"
     ]
    },
    {
     "name": "stderr",
     "output_type": "stream",
     "text": [
      "Epoch 34: 100%|██████████| 508/508 [01:40<00:00,  5.08batch/s, loss_decrease=1.0000006590244932]\n",
      "100%|██████████| 3787/3787 [01:15<00:00, 49.89batch/s]\n"
     ]
    },
    {
     "name": "stdout",
     "output_type": "stream",
     "text": [
      "0.7024029574861368\n"
     ]
    },
    {
     "name": "stderr",
     "output_type": "stream",
     "text": [
      "Epoch 35: 100%|██████████| 508/508 [01:42<00:00,  4.96batch/s, loss_decrease=1.0000006590244932]\n",
      "100%|██████████| 3787/3787 [01:19<00:00, 47.43batch/s]\n"
     ]
    },
    {
     "name": "stdout",
     "output_type": "stream",
     "text": [
      "0.6936889358331133\n"
     ]
    },
    {
     "name": "stderr",
     "output_type": "stream",
     "text": [
      "Epoch 36: 100%|██████████| 508/508 [01:42<00:00,  4.98batch/s, loss_decrease=1.0000006590244932]\n",
      "100%|██████████| 3787/3787 [01:16<00:00, 49.42batch/s]\n"
     ]
    },
    {
     "name": "stdout",
     "output_type": "stream",
     "text": [
      "0.6931608133086876\n"
     ]
    },
    {
     "name": "stderr",
     "output_type": "stream",
     "text": [
      "Epoch 37: 100%|██████████| 508/508 [01:36<00:00,  5.28batch/s, loss_decrease=1.0000006590244932]\n",
      "100%|██████████| 3787/3787 [01:13<00:00, 51.51batch/s]\n"
     ]
    },
    {
     "name": "stdout",
     "output_type": "stream",
     "text": [
      "0.69897016107737\n"
     ]
    },
    {
     "name": "stderr",
     "output_type": "stream",
     "text": [
      "Epoch 38: 100%|██████████| 508/508 [01:40<00:00,  5.07batch/s, loss_decrease=1.0000006590244932]\n",
      "100%|██████████| 3787/3787 [01:12<00:00, 52.16batch/s]\n"
     ]
    },
    {
     "name": "stdout",
     "output_type": "stream",
     "text": [
      "0.7024029574861368\n"
     ]
    },
    {
     "name": "stderr",
     "output_type": "stream",
     "text": [
      "Epoch 39: 100%|██████████| 508/508 [01:37<00:00,  5.18batch/s, loss_decrease=1.0000006590244932]\n",
      "100%|██████████| 3787/3787 [01:22<00:00, 46.16batch/s]\n"
     ]
    },
    {
     "name": "stdout",
     "output_type": "stream",
     "text": [
      "0.7058357538949036\n"
     ]
    },
    {
     "name": "stderr",
     "output_type": "stream",
     "text": [
      "Epoch 40: 100%|██████████| 508/508 [01:41<00:00,  4.99batch/s, loss_decrease=1.0000006590244932]\n",
      "100%|██████████| 3787/3787 [01:19<00:00, 47.55batch/s]\n"
     ]
    },
    {
     "name": "stdout",
     "output_type": "stream",
     "text": [
      "0.7026670187483496\n"
     ]
    },
    {
     "name": "stderr",
     "output_type": "stream",
     "text": [
      "Epoch 41: 100%|██████████| 508/508 [01:44<00:00,  4.88batch/s, loss_decrease=1.0000006590244932]\n",
      "100%|██████████| 3787/3787 [01:17<00:00, 48.84batch/s]\n"
     ]
    },
    {
     "name": "stdout",
     "output_type": "stream",
     "text": [
      "0.7113810404013731\n"
     ]
    },
    {
     "name": "stderr",
     "output_type": "stream",
     "text": [
      "Epoch 42: 100%|██████████| 508/508 [01:41<00:00,  4.98batch/s, loss_decrease=1.0000006590244932]\n",
      "100%|██████████| 3787/3787 [01:18<00:00, 47.97batch/s]\n"
     ]
    },
    {
     "name": "stdout",
     "output_type": "stream",
     "text": [
      "0.7071560602059679\n"
     ]
    },
    {
     "name": "stderr",
     "output_type": "stream",
     "text": [
      "Epoch 43: 100%|██████████| 508/508 [01:38<00:00,  5.13batch/s, loss_decrease=1.0000006590244932]\n",
      "100%|██████████| 3787/3787 [01:14<00:00, 50.55batch/s]\n"
     ]
    },
    {
     "name": "stdout",
     "output_type": "stream",
     "text": [
      "0.7090044890414576\n"
     ]
    },
    {
     "name": "stderr",
     "output_type": "stream",
     "text": [
      "Epoch 44: 100%|██████████| 508/508 [01:39<00:00,  5.12batch/s, loss_decrease=1.00000075317092]  \n",
      "100%|██████████| 3787/3787 [01:14<00:00, 51.15batch/s]\n"
     ]
    },
    {
     "name": "stdout",
     "output_type": "stream",
     "text": [
      "0.7105888566147345\n"
     ]
    },
    {
     "name": "stderr",
     "output_type": "stream",
     "text": [
      "Epoch 45: 100%|██████████| 508/508 [01:39<00:00,  5.11batch/s, loss_decrease=1.0000006590244932]\n",
      "100%|██████████| 3787/3787 [01:17<00:00, 48.67batch/s]\n"
     ]
    },
    {
     "name": "stdout",
     "output_type": "stream",
     "text": [
      "0.7108529178769475\n"
     ]
    },
    {
     "name": "stderr",
     "output_type": "stream",
     "text": [
      "Epoch 46: 100%|██████████| 508/508 [01:41<00:00,  5.01batch/s, loss_decrease=1.00000075317092]  \n",
      "100%|██████████| 3787/3787 [01:22<00:00, 46.16batch/s]\n"
     ]
    },
    {
     "name": "stdout",
     "output_type": "stream",
     "text": [
      "0.7058357538949036\n"
     ]
    },
    {
     "name": "stderr",
     "output_type": "stream",
     "text": [
      "Epoch 47: 100%|██████████| 508/508 [01:39<00:00,  5.11batch/s, loss_decrease=1.0000006590244932]\n",
      "100%|██████████| 3787/3787 [01:16<00:00, 49.40batch/s]\n"
     ]
    },
    {
     "name": "stdout",
     "output_type": "stream",
     "text": [
      "0.7132294692368629\n"
     ]
    },
    {
     "name": "stderr",
     "output_type": "stream",
     "text": [
      "Epoch 48: 100%|██████████| 508/508 [01:40<00:00,  5.04batch/s, loss_decrease=1.0000006590244932]\n",
      "100%|██████████| 3787/3787 [01:14<00:00, 50.92batch/s]\n"
     ]
    },
    {
     "name": "stdout",
     "output_type": "stream",
     "text": [
      "0.7127013467124372\n"
     ]
    },
    {
     "name": "stderr",
     "output_type": "stream",
     "text": [
      "Epoch 49: 100%|██████████| 508/508 [01:38<00:00,  5.16batch/s, loss_decrease=1.00000075317092]  \n",
      "100%|██████████| 3787/3787 [01:15<00:00, 50.41batch/s]\n"
     ]
    },
    {
     "name": "stdout",
     "output_type": "stream",
     "text": [
      "0.7060998151571165\n"
     ]
    },
    {
     "name": "stderr",
     "output_type": "stream",
     "text": [
      "Epoch 50: 100%|██████████| 508/508 [01:38<00:00,  5.15batch/s, loss_decrease=1.00000075317092]  \n",
      "100%|██████████| 3787/3787 [01:16<00:00, 49.75batch/s]\n"
     ]
    },
    {
     "name": "stdout",
     "output_type": "stream",
     "text": [
      "0.7097966728280961\n",
      "Finished Training\n"
     ]
    }
   ],
   "source": [
    "from tqdm import trange\n",
    "from tqdm import tqdm\n",
    "from sklearn.metrics import classification_report, f1_score\n",
    "\n",
    "#Гиперпараметры\n",
    "batch_size=16\n",
    "epochs = 50\n",
    "    \n",
    "trainloader = torch.utils.data.DataLoader(ds_train, batch_size=batch_size,\n",
    "                                          shuffle=False, num_workers=0)\n",
    "testloader = torch.utils.data.DataLoader(ds_test, batch_size=1, shuffle=False)\n",
    "\n",
    "net.train()\n",
    "initial_loss = None\n",
    "best_f1=0\n",
    "for epoch in range(1, epochs+1):\n",
    "    #обучение модели в эпохе\n",
    "    net.train()\n",
    "    with tqdm(trainloader, unit=\"batch\") as tepoch:\n",
    "        for data in tepoch:\n",
    "\n",
    "            tepoch.set_description(f\"Epoch {epoch}\")\n",
    "\n",
    "            inputs = data['tokenized_phrases']\n",
    "            labels = data['one_hot_labels']\n",
    "\n",
    "            optimizer.zero_grad()\n",
    "            if device=='cuda':\n",
    "                with torch.cuda.amp.autocast():\n",
    "                    outputs = net(inputs)['output']\n",
    "                    loss = criterion(outputs, labels)\n",
    "                scaler.scale(loss).backward()\n",
    "                scaler.step(optimizer)\n",
    "                scaler.update()\n",
    "            else:\n",
    "                outputs = net(inputs)['output']\n",
    "                loss = criterion(outputs, labels)\n",
    "                loss.backward()\n",
    "                optimizer.step()\n",
    "            if initial_loss is None:\n",
    "                initial_loss = loss.item()\n",
    "            tepoch.set_postfix(loss_decrease = str(initial_loss/loss.item()))\n",
    "    #расчет точностей модели после эпохи\n",
    "    net.eval()\n",
    "    model_answers=[]\n",
    "    real_answers=[]\n",
    "    with tqdm(testloader, unit=\"batch\") as eval_process:\n",
    "        for data in eval_process:\n",
    "\n",
    "            inputs = data['tokenized_phrases']\n",
    "\n",
    "            with torch.no_grad():\n",
    "                outputs_dict = net(inputs)\n",
    "                pred_meddra_code = CV_test_without_conceptless.meddra_codes[outputs_dict['output'].argmax()]\n",
    "\n",
    "\n",
    "            model_answers.append(pred_meddra_code)\n",
    "            real_answers.append(data['label_codes'])\n",
    "    f1 = f1_score(real_answers, model_answers, average='micro')\n",
    "    if f1>best_f1:\n",
    "        best_f1=f1\n",
    "        torch.save(net,'./Model_weights/xlmroberta_best_%s.pt'%epoch)\n",
    "    if epoch==9:\n",
    "        torch.save(net,'./Model_weights/xlmroberta_%s.pt'%epoch)\n",
    "    print(f1)\n",
    "            \n",
    "print('Finished Training')\n",
    "torch.save(net,'./Model_weights/xlmroberta_%s.pt'%epoch)"
   ]
  },
  {
   "cell_type": "markdown",
   "id": "distant-patrick",
   "metadata": {},
   "source": [
    "Инференс (подать фразу в сетку и посмотреть, какой концепт она выдаст)"
   ]
  },
  {
   "cell_type": "markdown",
   "id": "dying-determination",
   "metadata": {},
   "source": [
    "Чтобы сетка выдавала отсутствие концепта на несвязанные с медрой фразы, раскомментируйте строчку с label_concepless_tensors"
   ]
  },
  {
   "cell_type": "code",
   "execution_count": 60,
   "id": "numerical-street",
   "metadata": {},
   "outputs": [
    {
     "name": "stderr",
     "output_type": "stream",
     "text": [
      "Asking to truncate to max_length but no maximum length is provided and the model has no predefined maximum length. Default to no truncation.\n"
     ]
    },
    {
     "name": "stdout",
     "output_type": "stream",
     "text": [
      "phrase: Disease\n",
      "model output: Myalgia\n"
     ]
    }
   ],
   "source": [
    "from transformers import AutoTokenizer\n",
    "\n",
    "phrase = 'Disease'\n",
    "tokenizer = AutoTokenizer.from_pretrained(transformer_model_path)\n",
    "encoded_input = tokenizer([phrase], padding=True, truncation=True, return_tensors='pt')\n",
    "\n",
    "with torch.no_grad():\n",
    "    outputs_dict = net(inputs)\n",
    "    #outputs_dict.label_concepless_tensors(score_treshold = 6.1977e-05)\n",
    "    pred_meddra_code = CV.meddra_codes[outputs_dict['output'].argmax()]\n",
    "    \n",
    "print('phrase: %s'%phrase)\n",
    "print('model output: %s'%CV.meddra_code_to_meddra_term[pred_meddra_code])"
   ]
  },
  {
   "cell_type": "markdown",
   "id": "expanded-fitting",
   "metadata": {},
   "source": [
    "<h2>Сохранение и загрузка модели</h2>"
   ]
  },
  {
   "cell_type": "markdown",
   "id": "together-hotel",
   "metadata": {},
   "source": [
    "сохранение"
   ]
  },
  {
   "cell_type": "code",
   "execution_count": 63,
   "id": "tropical-might",
   "metadata": {},
   "outputs": [],
   "source": [
    "torch.save(net, './trained_model_weights.pt')\n",
    "torch.save(optimizer.state_dict(), './trained_model_opt.pt')"
   ]
  },
  {
   "cell_type": "markdown",
   "id": "meaningful-hudson",
   "metadata": {},
   "source": [
    "загрузка"
   ]
  },
  {
   "cell_type": "code",
   "execution_count": 64,
   "id": "palestinian-usage",
   "metadata": {},
   "outputs": [],
   "source": [
    "the_model = torch.load('./trained_model_weights.pt')"
   ]
  }
 ],
 "metadata": {
  "kernelspec": {
   "display_name": "normalization env",
   "language": "python",
   "name": "latest_torch"
  },
  "language_info": {
   "codemirror_mode": {
    "name": "ipython",
    "version": 3
   },
   "file_extension": ".py",
   "mimetype": "text/x-python",
   "name": "python",
   "nbconvert_exporter": "python",
   "pygments_lexer": "ipython3",
   "version": "3.9.9"
  }
 },
 "nbformat": 4,
 "nbformat_minor": 5
}
