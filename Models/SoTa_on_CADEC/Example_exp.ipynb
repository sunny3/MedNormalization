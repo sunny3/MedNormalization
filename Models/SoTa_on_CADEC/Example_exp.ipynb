{
 "cells": [
  {
   "cell_type": "markdown",
   "id": "adopted-former",
   "metadata": {},
   "source": [
    "<h3>Глобальные переменные</h3>"
   ]
  },
  {
   "cell_type": "code",
   "execution_count": 1,
   "id": "signed-incident",
   "metadata": {},
   "outputs": [],
   "source": [
    "transformer_model_path = './bert-base-cased'"
   ]
  },
  {
   "cell_type": "markdown",
   "id": "unavailable-cartridge",
   "metadata": {},
   "source": [
    "<h3>Векторизуем словарь Meddra</h3>"
   ]
  },
  {
   "cell_type": "code",
   "execution_count": 2,
   "id": "incorrect-johnston",
   "metadata": {},
   "outputs": [],
   "source": [
    "from vectorization import ConceptVectorizer"
   ]
  },
  {
   "cell_type": "code",
   "execution_count": 3,
   "id": "committed-symphony",
   "metadata": {},
   "outputs": [
    {
     "data": {
      "application/vnd.jupyter.widget-view+json": {
       "model_id": "3a226b5abdec474785391456fadbb30f",
       "version_major": 2,
       "version_minor": 0
      },
      "text/plain": [
       "Downloading:   0%|          | 0.00/29.0 [00:00<?, ?B/s]"
      ]
     },
     "metadata": {},
     "output_type": "display_data"
    },
    {
     "data": {
      "application/vnd.jupyter.widget-view+json": {
       "model_id": "f8e521b5eca346bb9dbf133985358ab8",
       "version_major": 2,
       "version_minor": 0
      },
      "text/plain": [
       "Downloading:   0%|          | 0.00/570 [00:00<?, ?B/s]"
      ]
     },
     "metadata": {},
     "output_type": "display_data"
    },
    {
     "data": {
      "application/vnd.jupyter.widget-view+json": {
       "model_id": "4c9a96275fda4c16982d5ae81951bb84",
       "version_major": 2,
       "version_minor": 0
      },
      "text/plain": [
       "Downloading:   0%|          | 0.00/208k [00:00<?, ?B/s]"
      ]
     },
     "metadata": {},
     "output_type": "display_data"
    },
    {
     "data": {
      "application/vnd.jupyter.widget-view+json": {
       "model_id": "6344d6e0af9a4ac585e9cadee8e370d1",
       "version_major": 2,
       "version_minor": 0
      },
      "text/plain": [
       "Downloading:   0%|          | 0.00/426k [00:00<?, ?B/s]"
      ]
     },
     "metadata": {},
     "output_type": "display_data"
    },
    {
     "data": {
      "application/vnd.jupyter.widget-view+json": {
       "model_id": "2f3e86e3d62e415ca5fdac22db4b51b3",
       "version_major": 2,
       "version_minor": 0
      },
      "text/plain": [
       "Downloading:   0%|          | 0.00/416M [00:00<?, ?B/s]"
      ]
     },
     "metadata": {},
     "output_type": "display_data"
    },
    {
     "name": "stderr",
     "output_type": "stream",
     "text": [
      "Some weights of the model checkpoint at ./bert-base-cased were not used when initializing BertModel: ['cls.predictions.transform.LayerNorm.weight', 'cls.predictions.transform.LayerNorm.bias', 'cls.predictions.transform.dense.weight', 'cls.predictions.decoder.weight', 'cls.predictions.transform.dense.bias', 'cls.seq_relationship.bias', 'cls.seq_relationship.weight', 'cls.predictions.bias']\n",
      "- This IS expected if you are initializing BertModel from the checkpoint of a model trained on another task or with another architecture (e.g. initializing a BertForSequenceClassification model from a BertForPreTraining model).\n",
      "- This IS NOT expected if you are initializing BertModel from the checkpoint of a model that you expect to be exactly identical (initializing a BertForSequenceClassification model from a BertForSequenceClassification model).\n"
     ]
    }
   ],
   "source": [
    "#сюда прописывается путь до модели и путь до файла словаря расширения .asc, который необходимо векторизовать\n",
    "CV = ConceptVectorizer(transformer_model_path, '../../Data/External/pt_en.asc', \\\n",
    "                             use_concept_less=False, use_cuda=True)"
   ]
  },
  {
   "cell_type": "markdown",
   "id": "answering-stopping",
   "metadata": {},
   "source": [
    "Расчет вложений словаря"
   ]
  },
  {
   "cell_type": "code",
   "execution_count": 4,
   "id": "senior-least",
   "metadata": {},
   "outputs": [
    {
     "name": "stderr",
     "output_type": "stream",
     "text": [
      "Asking to truncate to max_length but no maximum length is provided and the model has no predefined maximum length. Default to no truncation.\n"
     ]
    },
    {
     "name": "stdout",
     "output_type": "stream",
     "text": [
      "getting concept embeddings in mean_pooling mode...\n",
      "moving to cuda... device name cuda:0\n",
      "Compute embeddings...\n"
     ]
    },
    {
     "name": "stderr",
     "output_type": "stream",
     "text": [
      "100%|██████████| 25077/25077 [04:19<00:00, 96.63it/s] \n"
     ]
    },
    {
     "name": "stdout",
     "output_type": "stream",
     "text": [
      "Embedding aggregation...\n",
      "Concept embeddings have computed in 259.5842795372009 seconds\n"
     ]
    }
   ],
   "source": [
    "#используется только для векторизации словаря\n",
    "#когда вектора готовы, проще их загрузить ячейкой с загрузкой\n",
    "CV.fit_transform(mode='mean_pooling')"
   ]
  },
  {
   "cell_type": "markdown",
   "id": "oriental-payday",
   "metadata": {},
   "source": [
    "Сохранение рассчитанных векторов концептов"
   ]
  },
  {
   "cell_type": "code",
   "execution_count": 5,
   "id": "under-international",
   "metadata": {},
   "outputs": [],
   "source": [
    "import torch\n",
    "\n",
    "torch.save(CV.thesaurus_embeddings, 'model_thesaurus_embeddings.pt')"
   ]
  },
  {
   "cell_type": "markdown",
   "id": "connected-child",
   "metadata": {},
   "source": [
    "Загрузка готовых вложений (если они есть). Загружать вложения после fit_transform() не надо"
   ]
  },
  {
   "cell_type": "code",
   "execution_count": null,
   "id": "protective-raleigh",
   "metadata": {},
   "outputs": [],
   "source": [
    "import torch\n",
    "\n",
    "CV.thesaurus_embeddings = torch.load('model_thesaurus_embeddings.pt')\n",
    "CV.normalization_mode = 'mean_pooling'"
   ]
  },
  {
   "cell_type": "markdown",
   "id": "reasonable-ethnic",
   "metadata": {},
   "source": [
    "<h3>Обработка датасета, пример с CADEC</h3>"
   ]
  },
  {
   "cell_type": "code",
   "execution_count": 80,
   "id": "qualified-subscriber",
   "metadata": {},
   "outputs": [
    {
     "data": {
      "text/html": [
       "<div>\n",
       "<style scoped>\n",
       "    .dataframe tbody tr th:only-of-type {\n",
       "        vertical-align: middle;\n",
       "    }\n",
       "\n",
       "    .dataframe tbody tr th {\n",
       "        vertical-align: top;\n",
       "    }\n",
       "\n",
       "    .dataframe thead th {\n",
       "        text-align: right;\n",
       "    }\n",
       "</style>\n",
       "<table border=\"1\" class=\"dataframe\">\n",
       "  <thead>\n",
       "    <tr style=\"text-align: right;\">\n",
       "      <th></th>\n",
       "      <th>docName</th>\n",
       "      <th>term</th>\n",
       "      <th>meddra</th>\n",
       "    </tr>\n",
       "  </thead>\n",
       "  <tbody>\n",
       "    <tr>\n",
       "      <th>0</th>\n",
       "      <td>LIPITOR.877</td>\n",
       "      <td>MUSCLES ACHED</td>\n",
       "      <td>10028411</td>\n",
       "    </tr>\n",
       "    <tr>\n",
       "      <th>1</th>\n",
       "      <td>LIPITOR.877</td>\n",
       "      <td>DIFFICULTY IN WALKING</td>\n",
       "      <td>10017577</td>\n",
       "    </tr>\n",
       "    <tr>\n",
       "      <th>2</th>\n",
       "      <td>LIPITOR.877</td>\n",
       "      <td>AFFECTED MY BALANCE</td>\n",
       "      <td>10027175</td>\n",
       "    </tr>\n",
       "    <tr>\n",
       "      <th>3</th>\n",
       "      <td>LIPITOR.169</td>\n",
       "      <td>gas</td>\n",
       "      <td>10016766</td>\n",
       "    </tr>\n",
       "    <tr>\n",
       "      <th>4</th>\n",
       "      <td>LIPITOR.169</td>\n",
       "      <td>loose stools</td>\n",
       "      <td>10012735</td>\n",
       "    </tr>\n",
       "    <tr>\n",
       "      <th>...</th>\n",
       "      <td>...</td>\n",
       "      <td>...</td>\n",
       "      <td>...</td>\n",
       "    </tr>\n",
       "    <tr>\n",
       "      <th>6313</th>\n",
       "      <td>LIPITOR.346</td>\n",
       "      <td>tremendous neck pain</td>\n",
       "      <td>10028836</td>\n",
       "    </tr>\n",
       "    <tr>\n",
       "      <th>6314</th>\n",
       "      <td>LIPITOR.346</td>\n",
       "      <td>severe headaches</td>\n",
       "      <td>10019211</td>\n",
       "    </tr>\n",
       "    <tr>\n",
       "      <th>6315</th>\n",
       "      <td>LIPITOR.346</td>\n",
       "      <td>rash</td>\n",
       "      <td>10037844</td>\n",
       "    </tr>\n",
       "    <tr>\n",
       "      <th>6316</th>\n",
       "      <td>LIPITOR.346</td>\n",
       "      <td>hemorrhoids</td>\n",
       "      <td>10019022</td>\n",
       "    </tr>\n",
       "    <tr>\n",
       "      <th>6317</th>\n",
       "      <td>LIPITOR.346</td>\n",
       "      <td>weakness in my legs</td>\n",
       "      <td>10028372</td>\n",
       "    </tr>\n",
       "  </tbody>\n",
       "</table>\n",
       "<p>6318 rows × 3 columns</p>\n",
       "</div>"
      ],
      "text/plain": [
       "          docName                   term    meddra\n",
       "0     LIPITOR.877          MUSCLES ACHED  10028411\n",
       "1     LIPITOR.877  DIFFICULTY IN WALKING  10017577\n",
       "2     LIPITOR.877    AFFECTED MY BALANCE  10027175\n",
       "3     LIPITOR.169                    gas  10016766\n",
       "4     LIPITOR.169           loose stools  10012735\n",
       "...           ...                    ...       ...\n",
       "6313  LIPITOR.346   tremendous neck pain  10028836\n",
       "6314  LIPITOR.346       severe headaches  10019211\n",
       "6315  LIPITOR.346                   rash  10037844\n",
       "6316  LIPITOR.346            hemorrhoids  10019022\n",
       "6317  LIPITOR.346    weakness in my legs  10028372\n",
       "\n",
       "[6318 rows x 3 columns]"
      ]
     },
     "execution_count": 80,
     "metadata": {},
     "output_type": "execute_result"
    }
   ],
   "source": [
    "import pandas as pd\n",
    "from sklearn.model_selection import train_test_split\n",
    "\n",
    "data_dir = '../../Data/Raw/CADEC/cadec_table_grartem.csv'\n",
    "\n",
    "df = pd.read_csv('../../Data/Raw/CADEC/cadec_table_grartem.csv')\n",
    "df"
   ]
  },
  {
   "cell_type": "markdown",
   "id": "vietnamese-broadway",
   "metadata": {},
   "source": [
    "Поле **term** в _df_ содержит фразу, которую необходимо нормализовать<br>\n",
    "Поле **meddra** в _df_ код концепта в словаре meddra<br>\n",
    "<br>\n",
    "В случае, когда у фразы несколько кодов концептов, они записаны через символ '|' в **meddra**, например '100105|100106'<br>\n",
    "В случае, когда у фразы НЕТ концепта, в поле **meddra** у нее стоит 'CONCEPT_LESS'"
   ]
  },
  {
   "cell_type": "markdown",
   "id": "spare-blade",
   "metadata": {},
   "source": [
    "<h4>Тут нужно дописать часть обработки данных</h4>"
   ]
  },
  {
   "cell_type": "markdown",
   "id": "alone-separation",
   "metadata": {},
   "source": [
    "а именно:\n",
    "- Отфильтровать строки с CONCEPT_LESS из поля meddra\n",
    "- У всех фраз, у которых несколько кодов meddra оставить только один код\n",
    "- Отфильтровать фразы у которых кода концепта нет в списке CV.meddra_codes"
   ]
  },
  {
   "cell_type": "code",
   "execution_count": null,
   "id": "paperback-subsection",
   "metadata": {},
   "outputs": [],
   "source": [
    "#ячейка с кодом обработки"
   ]
  },
  {
   "cell_type": "code",
   "execution_count": 45,
   "id": "cosmetic-glenn",
   "metadata": {},
   "outputs": [],
   "source": [
    "from dataset import MedNormDataset\n",
    "\n",
    "ds_train = MedNormDataset(train_phrases, train_concepts, CV, use_cuda=True)\n",
    "ds_test = MedNormDataset(test_phrases, test_concepts, CV, use_cuda=True)"
   ]
  },
  {
   "cell_type": "markdown",
   "id": "latter-collins",
   "metadata": {},
   "source": [
    "<h2>Импорт модели</h2>"
   ]
  },
  {
   "cell_type": "code",
   "execution_count": 46,
   "id": "conscious-collins",
   "metadata": {},
   "outputs": [
    {
     "name": "stderr",
     "output_type": "stream",
     "text": [
      "Some weights of the model checkpoint at ./bert-base-cased were not used when initializing BertModel: ['cls.predictions.transform.LayerNorm.weight', 'cls.predictions.transform.LayerNorm.bias', 'cls.predictions.transform.dense.weight', 'cls.predictions.decoder.weight', 'cls.predictions.transform.dense.bias', 'cls.seq_relationship.bias', 'cls.seq_relationship.weight', 'cls.predictions.bias']\n",
      "- This IS expected if you are initializing BertModel from the checkpoint of a model trained on another task or with another architecture (e.g. initializing a BertForSequenceClassification model from a BertForPreTraining model).\n",
      "- This IS NOT expected if you are initializing BertModel from the checkpoint of a model that you expect to be exactly identical (initializing a BertForSequenceClassification model from a BertForSequenceClassification model).\n"
     ]
    },
    {
     "name": "stdout",
     "output_type": "stream",
     "text": [
      "Net loaded\n"
     ]
    }
   ],
   "source": [
    "from models import CADEC_SoTa\n",
    "\n",
    "\n",
    "net = CADEC_SoTa(transformer_model_path, CV.thesaurus_embeddings)\n",
    "#перемещение модели на вычислительные мощности, либо cpu, либо cuda\n",
    "device = 'cuda' if torch.cuda.is_available() else 'cpu'\n",
    "net.to(device)\n",
    "print('Net loaded')"
   ]
  },
  {
   "cell_type": "markdown",
   "id": "normal-intro",
   "metadata": {},
   "source": [
    "<h3>Инициализация доп. объектов для обучения</h3>"
   ]
  },
  {
   "cell_type": "code",
   "execution_count": 47,
   "id": "corporate-portfolio",
   "metadata": {},
   "outputs": [],
   "source": [
    "import torch.optim as optim\n",
    "import torch.nn as nn\n",
    "import torch\n",
    "import numpy as np\n",
    "    \n",
    "criterion = nn.CrossEntropyLoss()\n",
    "optimizer = optim.AdamW(net.parameters(), lr=0.0001)"
   ]
  },
  {
   "cell_type": "code",
   "execution_count": 48,
   "id": "sitting-flesh",
   "metadata": {},
   "outputs": [],
   "source": [
    "scaler = torch.cuda.amp.GradScaler()"
   ]
  },
  {
   "cell_type": "markdown",
   "id": "destroyed-technician",
   "metadata": {},
   "source": [
    "Настройка глобальных переменных для большей детерменированности"
   ]
  },
  {
   "cell_type": "code",
   "execution_count": 49,
   "id": "fiscal-colon",
   "metadata": {},
   "outputs": [],
   "source": [
    "import os \n",
    "\n",
    "os.environ[\"CUBLAS_WORKSPACE_CONFIG\"]=\":16:8\"\n",
    "torch.use_deterministic_algorithms(mode=False)\n",
    "np.random.seed(0)\n",
    "torch.manual_seed(0)\n",
    "torch.backends.cudnn.benchmark = False"
   ]
  },
  {
   "cell_type": "markdown",
   "id": "agricultural-jewelry",
   "metadata": {},
   "source": [
    "<h3>Процесс обучения и рассчета точностей</h3>"
   ]
  },
  {
   "cell_type": "code",
   "execution_count": 57,
   "id": "educational-nebraska",
   "metadata": {},
   "outputs": [
    {
     "name": "stderr",
     "output_type": "stream",
     "text": [
      "Epoch 1: 100%|██████████| 250/250 [00:27<00:00,  9.22batch/s, loss_decrease=1.0000014121968048]\n",
      "100%|██████████| 1970/1970 [00:19<00:00, 99.35batch/s] "
     ]
    },
    {
     "name": "stdout",
     "output_type": "stream",
     "text": [
      "0.4939086294416244\n",
      "Finished Training\n"
     ]
    },
    {
     "name": "stderr",
     "output_type": "stream",
     "text": [
      "\n"
     ]
    }
   ],
   "source": [
    "from tqdm import trange\n",
    "from tqdm import tqdm\n",
    "from sklearn.metrics import classification_report, f1_score\n",
    "\n",
    "#Гиперпараметры\n",
    "batch_size=16\n",
    "epochs = 1\n",
    "    \n",
    "trainloader = torch.utils.data.DataLoader(ds_train, batch_size=batch_size,\n",
    "                                          shuffle=False, num_workers=0)\n",
    "testloader = torch.utils.data.DataLoader(ds_test, batch_size=1, shuffle=False)\n",
    "\n",
    "net.train()\n",
    "initial_loss = None\n",
    "for epoch in range(1, epochs+1):\n",
    "    #обучение модели в эпохе\n",
    "    net.train()\n",
    "    with tqdm(trainloader, unit=\"batch\") as tepoch:\n",
    "        for data in tepoch:\n",
    "\n",
    "            tepoch.set_description(f\"Epoch {epoch}\")\n",
    "\n",
    "            inputs = data['tokenized_phrases']\n",
    "            labels = data['one_hot_labels']\n",
    "\n",
    "            optimizer.zero_grad()\n",
    "            if device=='cuda':\n",
    "                with torch.cuda.amp.autocast():\n",
    "                    outputs = net(inputs)['output']\n",
    "                    loss = criterion(outputs, labels)\n",
    "                scaler.scale(loss).backward()\n",
    "                scaler.step(optimizer)\n",
    "                scaler.update()\n",
    "            else:\n",
    "                outputs = net(inputs)['output']\n",
    "                loss = criterion(outputs, labels)\n",
    "                loss.backward()\n",
    "                optimizer.step()\n",
    "            if initial_loss is None:\n",
    "                initial_loss = loss.item()\n",
    "            tepoch.set_postfix(loss_decrease = str(initial_loss/loss.item()))\n",
    "    #расчет точностей модели после эпохи\n",
    "    net.eval()\n",
    "    model_answers=[]\n",
    "    real_answers=[]\n",
    "    with tqdm(testloader, unit=\"batch\") as eval_process:\n",
    "        for data in eval_process:\n",
    "\n",
    "            inputs = data['tokenized_phrases']\n",
    "\n",
    "            with torch.no_grad():\n",
    "                outputs_dict = net(inputs)\n",
    "                pred_meddra_code = CV.meddra_codes[outputs_dict['output'].argmax()]\n",
    "\n",
    "\n",
    "            model_answers.append(pred_meddra_code)\n",
    "            real_answers.append(data['label_codes'])\n",
    "    \n",
    "    print(f1_score(real_answers, model_answers, average='micro'))\n",
    "            \n",
    "print('Finished Training')"
   ]
  },
  {
   "cell_type": "markdown",
   "id": "objective-assets",
   "metadata": {},
   "source": [
    "Инференс (подать фразу в сетку и посмотреть, какой концепт она выдаст)"
   ]
  },
  {
   "cell_type": "markdown",
   "id": "proud-seven",
   "metadata": {},
   "source": [
    "Чтобы сетка выдавала отсутствие концепта на несвязанные с медрой фразы, раскомментируйте строчку с label_concepless_tensors"
   ]
  },
  {
   "cell_type": "code",
   "execution_count": 60,
   "id": "breeding-capital",
   "metadata": {},
   "outputs": [
    {
     "name": "stderr",
     "output_type": "stream",
     "text": [
      "Asking to truncate to max_length but no maximum length is provided and the model has no predefined maximum length. Default to no truncation.\n"
     ]
    },
    {
     "name": "stdout",
     "output_type": "stream",
     "text": [
      "phrase: Disease\n",
      "model output: Myalgia\n"
     ]
    }
   ],
   "source": [
    "from transformers import AutoTokenizer\n",
    "\n",
    "phrase = 'Disease'\n",
    "tokenizer = AutoTokenizer.from_pretrained(transformer_model_path)\n",
    "encoded_input = tokenizer([phrase], padding=True, truncation=True, return_tensors='pt')\n",
    "\n",
    "with torch.no_grad():\n",
    "    outputs_dict = net(inputs)\n",
    "    #outputs_dict.label_concepless_tensors(score_treshold = 6.1977e-05)\n",
    "    pred_meddra_code = CV.meddra_codes[outputs_dict['output'].argmax()]\n",
    "    \n",
    "print('phrase: %s'%phrase)\n",
    "print('model output: %s'%CV.meddra_code_to_meddra_term[pred_meddra_code])"
   ]
  },
  {
   "cell_type": "markdown",
   "id": "headed-meaning",
   "metadata": {},
   "source": [
    "<h2>Сохранение и загрузка модели</h2>"
   ]
  },
  {
   "cell_type": "markdown",
   "id": "respected-ribbon",
   "metadata": {},
   "source": [
    "сохранение"
   ]
  },
  {
   "cell_type": "code",
   "execution_count": 63,
   "id": "analyzed-gazette",
   "metadata": {},
   "outputs": [],
   "source": [
    "torch.save(net, './trained_model_weights.pt')\n",
    "torch.save(optimizer.state_dict(), './trained_model_opt.pt')"
   ]
  },
  {
   "cell_type": "markdown",
   "id": "excellent-insert",
   "metadata": {},
   "source": [
    "загрузка"
   ]
  },
  {
   "cell_type": "code",
   "execution_count": 64,
   "id": "preliminary-copper",
   "metadata": {},
   "outputs": [],
   "source": [
    "the_model = torch.load('./trained_model_weights.pt')"
   ]
  }
 ],
 "metadata": {
  "kernelspec": {
   "display_name": "normalization env",
   "language": "python",
   "name": "latest_torch"
  },
  "language_info": {
   "codemirror_mode": {
    "name": "ipython",
    "version": 3
   },
   "file_extension": ".py",
   "mimetype": "text/x-python",
   "name": "python",
   "nbconvert_exporter": "python",
   "pygments_lexer": "ipython3",
   "version": "3.9.9"
  }
 },
 "nbformat": 4,
 "nbformat_minor": 5
}
